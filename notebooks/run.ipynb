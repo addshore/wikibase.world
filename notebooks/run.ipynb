{
 "cells": [
  {
   "cell_type": "code",
   "execution_count": 65,
   "metadata": {},
   "outputs": [],
   "source": [
    "import logging\n",
    "logging.basicConfig(level=logging.INFO, format='%(levelname)s - %(message)s')"
   ]
  },
  {
   "cell_type": "code",
   "execution_count": 66,
   "metadata": {},
   "outputs": [
    {
     "name": "stdout",
     "output_type": "stream",
     "text": [
      "{'data': {'type': 'item', 'id': 'Q386', 'labels': {'en': {'language': 'en', 'value': 'mythogram'}}, 'descriptions': [], 'aliases': {'en': [{'language': 'en', 'value': 'mythogram.wikibase.cloud'}]}, 'claims': {'P1': [{'mainsnak': {'snaktype': 'value', 'property': 'P1', 'hash': 'eb2ea55d71d68f51fa4ee8ae2096f1d1fc60b8a2', 'datavalue': {'value': 'https://mythogram.wikibase.cloud', 'type': 'string'}}, 'type': 'statement', 'id': 'Q386$4F8A363D-90F4-41CC-BB5D-9F028DCEEF86', 'rank': 'normal'}], 'P2': [{'mainsnak': {'snaktype': 'value', 'property': 'P2', 'hash': '158db2825a7eb0bb1bc5d9a53a8734e67868e01e', 'datavalue': {'value': {'entity-type': 'item', 'numeric-id': 8, 'id': 'Q8'}, 'type': 'wikibase-entityid'}}, 'type': 'statement', 'id': 'Q386$CB50B70F-A75B-48E6-86BF-8990E55DA842', 'rank': 'normal'}], 'P3': [{'mainsnak': {'snaktype': 'value', 'property': 'P3', 'hash': '10065a3bad46d2bf60504afdd276b581a0e8412f', 'datavalue': {'value': {'entity-type': 'item', 'numeric-id': 10, 'id': 'Q10'}, 'type': 'wikibase-entityid'}}, 'type': 'statement', 'id': 'Q386$2F42D6CA-5DB8-4424-AFE4-B5089FEAEC9C', 'rank': 'normal'}], 'P13': [{'mainsnak': {'snaktype': 'value', 'property': 'P13', 'hash': '8042a6ba459abf19f1defa72b9076a06c0b16067', 'datavalue': {'value': {'entity-type': 'item', 'numeric-id': 54, 'id': 'Q54'}, 'type': 'wikibase-entityid'}}, 'type': 'statement', 'id': 'Q386$DBCF613B-68B5-423C-8EF4-BB17956F3A01', 'rank': 'normal'}], 'P49': [{'mainsnak': {'snaktype': 'value', 'property': 'P49', 'hash': '41cda4e058f9ba66f1b4744dfc2d55ddcadeae5f', 'datavalue': {'value': 'https://mythogram.wikibase.cloud/wiki/Main_Page', 'type': 'string'}}, 'type': 'statement', 'id': 'Q386$86FB2392-CB49-4449-8FC0-7C6AA6959AA8', 'rank': 'normal'}], 'P7': [{'mainsnak': {'snaktype': 'value', 'property': 'P7', 'hash': '30da3a13c8c72aa9bfa0f05bef2060916c5b76de', 'datavalue': {'value': 'https://mythogram.wikibase.cloud/query', 'type': 'string'}}, 'type': 'statement', 'id': 'Q386$A9FD2C5A-E76F-4EC2-B639-FFEB5A9C47D5', 'rank': 'normal'}], 'P8': [{'mainsnak': {'snaktype': 'value', 'property': 'P8', 'hash': '76564d36028c6d290ad6037cb67d89f09f6ca105', 'datavalue': {'value': 'https://mythogram.wikibase.cloud/query/sparql', 'type': 'string'}}, 'type': 'statement', 'id': 'Q386$484C9CDD-4B1C-4A17-8C41-E5586717327E', 'rank': 'normal'}], 'P37': [{'mainsnak': {'snaktype': 'value', 'property': 'P37', 'hash': '25e4201a97b20ce3d309145ae3bc64a7326c45ed', 'datavalue': {'value': {'entity-type': 'item', 'numeric-id': 285, 'id': 'Q285'}, 'type': 'wikibase-entityid'}}, 'type': 'statement', 'qualifiers': {'P7': [{'snaktype': 'value', 'property': 'P7', 'hash': '30da3a13c8c72aa9bfa0f05bef2060916c5b76de', 'datavalue': {'value': 'https://mythogram.wikibase.cloud/query', 'type': 'string'}}], 'P8': [{'snaktype': 'value', 'property': 'P8', 'hash': '76564d36028c6d290ad6037cb67d89f09f6ca105', 'datavalue': {'value': 'https://mythogram.wikibase.cloud/query/sparql', 'type': 'string'}}]}, 'qualifiers-order': ['P7', 'P8'], 'id': 'Q386$72473C55-542A-4ED2-80E2-A3BC83180572', 'rank': 'normal'}, {'mainsnak': {'snaktype': 'value', 'property': 'P37', 'hash': '2cde698cdd9a32debc04e569717773342ab68046', 'datavalue': {'value': {'entity-type': 'item', 'numeric-id': 287, 'id': 'Q287'}, 'type': 'wikibase-entityid'}}, 'type': 'statement', 'qualifiers': {'P1': [{'snaktype': 'value', 'property': 'P1', 'hash': '0b41100db6c674f807b5ba76e8d031cb5e8283f7', 'datavalue': {'value': 'https://mythogram.wikibase.cloud/tools/cradle', 'type': 'string'}}]}, 'qualifiers-order': ['P1'], 'id': 'Q386$1A075477-68FE-4A83-8A24-F204DB0DE6B2', 'rank': 'normal'}, {'mainsnak': {'snaktype': 'value', 'property': 'P37', 'hash': '63623f622563f610126a21792c429f2691452207', 'datavalue': {'value': {'entity-type': 'item', 'numeric-id': 286, 'id': 'Q286'}, 'type': 'wikibase-entityid'}}, 'type': 'statement', 'qualifiers': {'P1': [{'snaktype': 'value', 'property': 'P1', 'hash': '89b0300822f30be74fbb28259af6bf61d22cd54a', 'datavalue': {'value': 'https://mythogram.wikibase.cloud/tools/quickstatements', 'type': 'string'}}]}, 'qualifiers-order': ['P1'], 'id': 'Q386$B49BA546-31CE-41F9-AB88-BC0BAD106467', 'rank': 'normal'}], 'P12': [{'mainsnak': {'snaktype': 'value', 'property': 'P12', 'hash': '0c36f162ee630244b24634128839cc0f18494209', 'datavalue': {'value': {'entity-type': 'item', 'numeric-id': 51, 'id': 'Q51'}, 'type': 'wikibase-entityid'}}, 'type': 'statement', 'id': 'Q386$0C32E5E9-38A7-4CD2-BD7F-9BADADC04C8D', 'rank': 'normal'}, {'mainsnak': {'snaktype': 'value', 'property': 'P12', 'hash': 'b0937ec96c3206d8378124605df67b0ed0f734ea', 'datavalue': {'value': {'entity-type': 'item', 'numeric-id': 52, 'id': 'Q52'}, 'type': 'wikibase-entityid'}}, 'type': 'statement', 'id': 'Q386$A9EEE8B9-B8FC-46BA-BB8F-0520D6F71ACA', 'rank': 'normal'}], 'P5': [{'mainsnak': {'snaktype': 'value', 'property': 'P5', 'hash': 'b1c498cff395aacbad164cbb8653149d2a8b3f1f', 'datavalue': {'value': {'time': '+2024-05-02T00:00:00Z', 'timezone': 0, 'before': 0, 'after': 0, 'precision': 11, 'calendarmodel': 'http://www.wikidata.org/entity/Q1985727'}, 'type': 'time'}}, 'type': 'statement', 'id': 'Q386$7C4B1F66-39E3-4D98-AC50-944D02C25652', 'rank': 'normal', 'references': [{'hash': '53e4567f7f6f77ecdd8443122912ee6e139925ce', 'snaks': {'P21': [{'snaktype': 'value', 'property': 'P21', 'hash': '60a69065434a1e7a7c6fbcdc0b22ec433f607efd', 'datavalue': {'value': 'https://mythogram.wikibase.cloud/w/api.php?action=query&list=logevents&ledir=newer&lelimit=1&format=json', 'type': 'string'}}], 'P22': [{'snaktype': 'value', 'property': 'P22', 'hash': '3afd1dd2a0fc0e4024f6035d325b49a56194a807', 'datavalue': {'value': {'time': '+2024-10-09T00:00:00Z', 'timezone': 0, 'before': 0, 'after': 0, 'precision': 11, 'calendarmodel': 'http://www.wikidata.org/entity/Q1985727'}, 'type': 'time'}}]}, 'snaks-order': ['P21', 'P22']}]}], 'P55': [{'mainsnak': {'snaktype': 'value', 'property': 'P55', 'hash': 'a6f717ab01e9cb4cc5da62c70d1a5183bf7ac974', 'datavalue': {'value': {'entity-type': 'item', 'numeric-id': 1, 'id': 'Q1'}, 'type': 'wikibase-entityid'}}, 'type': 'statement', 'id': 'Q386$1EB99830-2060-4BAF-B163-DD6F915FE86E', 'rank': 'normal'}, {'mainsnak': {'snaktype': 'value', 'property': 'P55', 'hash': '003c18a30acc8c82a90da6ce4c85d886b5b12759', 'datavalue': {'value': {'entity-type': 'item', 'numeric-id': 30, 'id': 'Q30'}, 'type': 'wikibase-entityid'}}, 'type': 'statement', 'id': 'Q386$C22C86E2-13CE-4350-926F-7BD6D664F072', 'rank': 'normal'}, {'mainsnak': {'snaktype': 'value', 'property': 'P55', 'hash': 'dd3d7050373989dc9b83e2b5a515a726b18e3577', 'datavalue': {'value': {'entity-type': 'item', 'numeric-id': 3, 'id': 'Q3'}, 'type': 'wikibase-entityid'}}, 'type': 'statement', 'id': 'Q386$AA2A3E97-3523-4FCD-B63B-8E8A7A539437', 'rank': 'normal'}], 'P57': [{'mainsnak': {'snaktype': 'value', 'property': 'P57', 'hash': '479351cf1ce3b2c4eddf47a1071ca16d79fac723', 'datavalue': {'value': '1.39.7', 'type': 'string'}}, 'type': 'statement', 'id': 'Q386$83D20474-BB0C-4B6F-9BE8-D3CBCF7C119B', 'rank': 'normal'}], 'P62': [{'mainsnak': {'snaktype': 'value', 'property': 'P62', 'hash': '9e96507022e58045218baa0b3d0d1752ca84edd2', 'datavalue': {'value': {'amount': '+15684', 'unit': '1'}, 'type': 'quantity'}}, 'type': 'statement', 'id': 'Q386$AFFF2DE8-9C0F-4C77-AF04-E4B9B890D10E', 'rank': 'normal'}], 'P59': [{'mainsnak': {'snaktype': 'value', 'property': 'P59', 'hash': 'cf8f605d871324345c436530f12e7719fdd590cb', 'datavalue': {'value': {'amount': '+281970', 'unit': '1'}, 'type': 'quantity'}}, 'type': 'statement', 'id': 'Q386$91BC9F72-346F-40FA-B7F1-D9B87DC70C0F', 'rank': 'normal'}], 'P60': [{'mainsnak': {'snaktype': 'value', 'property': 'P60', 'hash': '5422edd44d18a6d250390a1ac857015d73a64f1b', 'datavalue': {'value': {'amount': '+2', 'unit': '1'}, 'type': 'quantity'}}, 'type': 'statement', 'id': 'Q386$7BBE612C-8BEF-4239-82EC-095C1CBC8008', 'rank': 'normal'}], 'P61': [{'mainsnak': {'snaktype': 'value', 'property': 'P61', 'hash': '81f1c61fcdb0ebbb9358d87783bce816e7d548c7', 'datavalue': {'value': {'amount': '+0', 'unit': '1'}, 'type': 'quantity'}}, 'type': 'statement', 'id': 'Q386$4304D3D8-5C10-466D-8FF3-43BFBF4ED347', 'rank': 'normal'}], 'P58': [{'mainsnak': {'snaktype': 'value', 'property': 'P58', 'hash': '8ad55050280ea957aae90c23773dc4fdd6f720d4', 'datavalue': {'value': {'amount': '+25', 'unit': '1'}, 'type': 'quantity'}}, 'type': 'statement', 'id': 'Q386$9C778B62-F250-474E-9389-7BC30E030AAD', 'rank': 'normal'}]}, 'sitelinks': []}}\n"
     ]
    }
   ],
   "source": [
    "import xml.etree.ElementTree as ET\n",
    "import json\n",
    "import pandas as pd\n",
    "\n",
    "tree = ET.parse('Wikibase+World-20250216093424.xml')\n",
    "\n",
    "root = tree.getroot()\n",
    "\n",
    "item_map = {}\n",
    "\n",
    "for page in root.findall('{http://www.mediawiki.org/xml/export-0.11/}page'):\n",
    "    title = page.find('{http://www.mediawiki.org/xml/export-0.11/}title').text\n",
    "    if title.startswith('Item:'):\n",
    "        item_key = title.replace('Item:', '')\n",
    "        text = page.find('{http://www.mediawiki.org/xml/export-0.11/}revision').find('{http://www.mediawiki.org/xml/export-0.11/}text').text\n",
    "        # item_map[item_key] = {\"text\": text}\n",
    "        data = json.loads(text)\n",
    "        item_map[item_key] = {\"data\": data}\n",
    "\n",
    "print(item_map['Q386'])\n"
   ]
  },
  {
   "cell_type": "code",
   "execution_count": 67,
   "metadata": {},
   "outputs": [
    {
     "name": "stdout",
     "output_type": "stream",
     "text": [
      "{'label': 'Serbian Wikibase', 'data': {'type': 'item', 'id': 'Q384', 'labels': {'en': {'language': 'en', 'value': 'Serbian Wikibase'}}, 'descriptions': [], 'aliases': {'en': [{'language': 'en', 'value': 'serbian.wikibase.cloud'}]}, 'claims': {'P1': [{'mainsnak': {'snaktype': 'value', 'property': 'P1', 'hash': '04e64ee23f8c770d9a036c0a21e91f7471e26b66', 'datavalue': {'value': 'https://serbian.wikibase.cloud', 'type': 'string'}}, 'type': 'statement', 'id': 'Q384$9F15E830-8A29-4185-8D5F-736629F88346', 'rank': 'normal'}], 'P2': [{'mainsnak': {'snaktype': 'value', 'property': 'P2', 'hash': '158db2825a7eb0bb1bc5d9a53a8734e67868e01e', 'datavalue': {'value': {'entity-type': 'item', 'numeric-id': 8, 'id': 'Q8'}, 'type': 'wikibase-entityid'}}, 'type': 'statement', 'id': 'Q384$597EEE6D-20F8-4D57-9A23-2583FCF33301', 'rank': 'normal'}], 'P3': [{'mainsnak': {'snaktype': 'value', 'property': 'P3', 'hash': '10065a3bad46d2bf60504afdd276b581a0e8412f', 'datavalue': {'value': {'entity-type': 'item', 'numeric-id': 10, 'id': 'Q10'}, 'type': 'wikibase-entityid'}}, 'type': 'statement', 'id': 'Q384$A6587077-0501-4B9A-947A-DC86C2D58639', 'rank': 'normal'}], 'P13': [{'mainsnak': {'snaktype': 'value', 'property': 'P13', 'hash': '8042a6ba459abf19f1defa72b9076a06c0b16067', 'datavalue': {'value': {'entity-type': 'item', 'numeric-id': 54, 'id': 'Q54'}, 'type': 'wikibase-entityid'}}, 'type': 'statement', 'id': 'Q384$0E7D66EF-C00F-4831-84D4-00B92D36D49A', 'rank': 'normal'}], 'P49': [{'mainsnak': {'snaktype': 'value', 'property': 'P49', 'hash': '56aba704ff1c93fc0386121c63ac8d5cd5efdd52', 'datavalue': {'value': 'https://serbian.wikibase.cloud/wiki/Main_Page', 'type': 'string'}}, 'type': 'statement', 'id': 'Q384$C45BDFAE-A0E1-4F33-BB37-CC5BB78F141A', 'rank': 'normal'}], 'P7': [{'mainsnak': {'snaktype': 'value', 'property': 'P7', 'hash': 'ccf363ff17c2e31b7b150479ad262a2d185a4432', 'datavalue': {'value': 'https://serbian.wikibase.cloud/query', 'type': 'string'}}, 'type': 'statement', 'id': 'Q384$CDE8EBCB-E16B-45E6-82C7-68DE0C67F0BD', 'rank': 'normal'}], 'P8': [{'mainsnak': {'snaktype': 'value', 'property': 'P8', 'hash': '64967f1e4cea52a03b9339e30790a0d9bf389695', 'datavalue': {'value': 'https://serbian.wikibase.cloud/query/sparql', 'type': 'string'}}, 'type': 'statement', 'id': 'Q384$A5D166D7-B67F-4C81-B67D-CD81B35E7408', 'rank': 'normal'}], 'P37': [{'mainsnak': {'snaktype': 'value', 'property': 'P37', 'hash': '25e4201a97b20ce3d309145ae3bc64a7326c45ed', 'datavalue': {'value': {'entity-type': 'item', 'numeric-id': 285, 'id': 'Q285'}, 'type': 'wikibase-entityid'}}, 'type': 'statement', 'qualifiers': {'P7': [{'snaktype': 'value', 'property': 'P7', 'hash': 'ccf363ff17c2e31b7b150479ad262a2d185a4432', 'datavalue': {'value': 'https://serbian.wikibase.cloud/query', 'type': 'string'}}], 'P8': [{'snaktype': 'value', 'property': 'P8', 'hash': '64967f1e4cea52a03b9339e30790a0d9bf389695', 'datavalue': {'value': 'https://serbian.wikibase.cloud/query/sparql', 'type': 'string'}}]}, 'qualifiers-order': ['P7', 'P8'], 'id': 'Q384$516BCF4B-C715-4261-9518-F61463669DEE', 'rank': 'normal'}, {'mainsnak': {'snaktype': 'value', 'property': 'P37', 'hash': '2cde698cdd9a32debc04e569717773342ab68046', 'datavalue': {'value': {'entity-type': 'item', 'numeric-id': 287, 'id': 'Q287'}, 'type': 'wikibase-entityid'}}, 'type': 'statement', 'qualifiers': {'P1': [{'snaktype': 'value', 'property': 'P1', 'hash': '5d07c7663b69806b67ac513c83367ed6bc1f7dc0', 'datavalue': {'value': 'https://serbian.wikibase.cloud/tools/cradle', 'type': 'string'}}]}, 'qualifiers-order': ['P1'], 'id': 'Q384$91FC2F1D-1296-4587-B1C1-51C51A11483D', 'rank': 'normal'}, {'mainsnak': {'snaktype': 'value', 'property': 'P37', 'hash': '63623f622563f610126a21792c429f2691452207', 'datavalue': {'value': {'entity-type': 'item', 'numeric-id': 286, 'id': 'Q286'}, 'type': 'wikibase-entityid'}}, 'type': 'statement', 'qualifiers': {'P1': [{'snaktype': 'value', 'property': 'P1', 'hash': '162339cfe14bf6b71aa5e01895a4cad4b413656c', 'datavalue': {'value': 'https://serbian.wikibase.cloud/tools/quickstatements', 'type': 'string'}}]}, 'qualifiers-order': ['P1'], 'id': 'Q384$F338F733-5759-46D6-AF27-38123149E1A0', 'rank': 'normal'}], 'P12': [{'mainsnak': {'snaktype': 'value', 'property': 'P12', 'hash': '0c36f162ee630244b24634128839cc0f18494209', 'datavalue': {'value': {'entity-type': 'item', 'numeric-id': 51, 'id': 'Q51'}, 'type': 'wikibase-entityid'}}, 'type': 'statement', 'id': 'Q384$C35AE2F0-9DF1-47AC-8728-E6F0EFB8C05D', 'rank': 'normal'}, {'mainsnak': {'snaktype': 'value', 'property': 'P12', 'hash': 'b0937ec96c3206d8378124605df67b0ed0f734ea', 'datavalue': {'value': {'entity-type': 'item', 'numeric-id': 52, 'id': 'Q52'}, 'type': 'wikibase-entityid'}}, 'type': 'statement', 'id': 'Q384$D4B703A0-D61F-4F8C-8AFA-A5186F20128F', 'rank': 'normal'}], 'P5': [{'mainsnak': {'snaktype': 'value', 'property': 'P5', 'hash': '6788b035d9ce571b554b10eef0c6dbac3d3bdf81', 'datavalue': {'value': {'time': '+2024-01-31T00:00:00Z', 'timezone': 0, 'before': 0, 'after': 0, 'precision': 11, 'calendarmodel': 'http://www.wikidata.org/entity/Q1985727'}, 'type': 'time'}}, 'type': 'statement', 'id': 'Q384$5961DC16-DA74-4505-B4E8-A8831ADE6CA6', 'rank': 'normal', 'references': [{'hash': '752ffd906356dec292afbfdb85e99972caaf8c80', 'snaks': {'P21': [{'snaktype': 'value', 'property': 'P21', 'hash': '13e3f7e7871fe724fb57cdfbd1587b9c59723a1c', 'datavalue': {'value': 'https://serbian.wikibase.cloud/w/api.php?action=query&list=logevents&ledir=newer&lelimit=1&format=json', 'type': 'string'}}], 'P22': [{'snaktype': 'value', 'property': 'P22', 'hash': '3afd1dd2a0fc0e4024f6035d325b49a56194a807', 'datavalue': {'value': {'time': '+2024-10-09T00:00:00Z', 'timezone': 0, 'before': 0, 'after': 0, 'precision': 11, 'calendarmodel': 'http://www.wikidata.org/entity/Q1985727'}, 'type': 'time'}}]}, 'snaks-order': ['P21', 'P22']}]}], 'P55': [{'mainsnak': {'snaktype': 'value', 'property': 'P55', 'hash': 'a6f717ab01e9cb4cc5da62c70d1a5183bf7ac974', 'datavalue': {'value': {'entity-type': 'item', 'numeric-id': 1, 'id': 'Q1'}, 'type': 'wikibase-entityid'}}, 'type': 'statement', 'id': 'Q384$4F4A64C2-1339-4D54-8081-3BAD270B81C5', 'rank': 'normal'}], 'P57': [{'mainsnak': {'snaktype': 'value', 'property': 'P57', 'hash': '479351cf1ce3b2c4eddf47a1071ca16d79fac723', 'datavalue': {'value': '1.39.7', 'type': 'string'}}, 'type': 'statement', 'id': 'Q384$6A50F2BB-0126-487C-9646-709F32A6415D', 'rank': 'normal'}], 'P62': [{'mainsnak': {'snaktype': 'value', 'property': 'P62', 'hash': 'ed21d026e2b2b75c911ad5199d4691fb83f2a391', 'datavalue': {'value': {'amount': '+24285', 'unit': '1'}, 'type': 'quantity'}}, 'type': 'statement', 'id': 'Q384$05FE04DC-D22A-4E28-91B0-973B677355A9', 'rank': 'normal'}], 'P59': [{'mainsnak': {'snaktype': 'value', 'property': 'P59', 'hash': 'dbf3086a392998f0f9dd9894fef3df91eb71ff61', 'datavalue': {'value': {'amount': '+59983', 'unit': '1'}, 'type': 'quantity'}}, 'type': 'statement', 'id': 'Q384$42A0D128-DA8D-434E-A938-B29B9EB7DD87', 'rank': 'normal'}], 'P60': [{'mainsnak': {'snaktype': 'value', 'property': 'P60', 'hash': '459e1b60f634eeb8b67a2412a4b9df438b8f36b4', 'datavalue': {'value': {'amount': '+4', 'unit': '1'}, 'type': 'quantity'}}, 'type': 'statement', 'id': 'Q384$F200B02F-924C-4C3C-A630-58C1F2A6E0B1', 'rank': 'normal'}], 'P61': [{'mainsnak': {'snaktype': 'value', 'property': 'P61', 'hash': '81f1c61fcdb0ebbb9358d87783bce816e7d548c7', 'datavalue': {'value': {'amount': '+0', 'unit': '1'}, 'type': 'quantity'}}, 'type': 'statement', 'id': 'Q384$8A07B288-1CE0-478B-9DD1-5D0E39A7F4AA', 'rank': 'normal'}], 'P58': [{'mainsnak': {'snaktype': 'value', 'property': 'P58', 'hash': 'ed1d85b533ae147635fde47b649fe1b1a28a18ba', 'datavalue': {'value': {'amount': '+22', 'unit': '1'}, 'type': 'quantity'}}, 'type': 'statement', 'id': 'Q384$347B25A0-08F9-40D6-8E28-E62DE29A4ED7', 'rank': 'normal'}]}, 'sitelinks': []}, 'url': ['https://serbian.wikibase.cloud'], 'host': ['Q8'], 'instance': ['Q10'], 'start_date': [Timestamp('2024-01-31 00:00:00+0000', tz='UTC')], 'links_to': ['Q1'], 'links_from': [], 'version': ['1.39.7'], 'properties': [22], 'edits': [59983], 'users': [4], 'users_active': [0], 'pages': [24285], 'description': '', 'host_label': 'Wikibase Cloud'}\n",
      "777\n"
     ]
    }
   ],
   "source": [
    "def get_statements(data, key):\n",
    "    claims = data.get('claims', {})\n",
    "    statements = {}\n",
    "    if key in claims:\n",
    "        statements[key] = []\n",
    "        for claim in claims[key]:\n",
    "            # Filter out mainsnak-> snaktype somevalue or novalue\n",
    "            if claim['mainsnak']['snaktype'] == 'somevalue' or claim['mainsnak']['snaktype'] == 'novalue':\n",
    "                continue\n",
    "            if claim['mainsnak']['datavalue']['type'] == 'string':\n",
    "                statements[key].append(claim['mainsnak']['datavalue']['value'])\n",
    "            elif claim['mainsnak']['datavalue']['type'] == 'wikibase-entityid':\n",
    "                statements[key].append(claim['mainsnak']['datavalue']['value']['id'])\n",
    "            elif claim['mainsnak']['datavalue']['type'] == 'time':\n",
    "                time_value = claim['mainsnak']['datavalue']['value']['time']\n",
    "                if time_value.startswith('+'):\n",
    "                    time_value = time_value[1:]\n",
    "                # If the day is 00, set it to 01 so it is parsable\n",
    "                if time_value[8:10] == '00':\n",
    "                    time_value = time_value[:8] + '01' + time_value[10:]\n",
    "                # If month is 00, set it to 01 so it is parsable\n",
    "                if time_value[5:7] == '00':\n",
    "                    time_value = time_value[:5] + '01' + time_value[7:]\n",
    "                statements[key].append(pd.to_datetime(time_value))\n",
    "            elif claim['mainsnak']['datavalue']['type'] == 'quantity':\n",
    "                statements[key].append(int(claim['mainsnak']['datavalue']['value']['amount']))\n",
    "            else:\n",
    "                print('Unknown type')\n",
    "    return statements\n",
    "\n",
    "# Extract some statement values from the json\n",
    "for key in item_map:\n",
    "    data = item_map[key]['data']\n",
    "    # Ignore things that are not P3 => Q10\n",
    "    if 'P3' not in data.get('claims', {}):\n",
    "        continue\n",
    "    # Get the P3 value\n",
    "    p3 = get_statements(data, 'P3').get('P3', [])\n",
    "    if 'Q10' not in p3:\n",
    "        item_map[key].update({\"instance_of\": p3})\n",
    "    # TODO some of these statements we expect to only have 1 value? so dont get a list?\n",
    "    item_map[key].update({\"url\": get_statements(data, 'P1').get('P1', [])})\n",
    "    item_map[key].update({\"host\": get_statements(data, 'P2').get('P2', [])})\n",
    "    item_map[key].update({\"instance\": get_statements(data, 'P3').get('P3', [])})\n",
    "    item_map[key].update({\"start_date\": get_statements(data, 'P5').get('P5', [])})\n",
    "    item_map[key].update({\"links_to\": get_statements(data, 'P55').get('P55', [])})\n",
    "    item_map[key].update({\"links_from\": get_statements(data, 'P56').get('P56', [])})\n",
    "    item_map[key].update({\"version\": get_statements(data, 'P57').get('P57', [])})\n",
    "    item_map[key].update({\"properties\": get_statements(data, 'P58').get('P58', [])})\n",
    "    item_map[key].update({\"edits\": get_statements(data, 'P59').get('P59', [])})\n",
    "    item_map[key].update({\"users\": get_statements(data, 'P60').get('P60', [])})\n",
    "    item_map[key].update({\"users_active\": get_statements(data, 'P61').get('P61', [])})\n",
    "    item_map[key].update({\"pages\": get_statements(data, 'P62').get('P62', [])})\n",
    "\n",
    "# Extract the en label and description of the items\n",
    "for key in item_map:\n",
    "    data = item_map[key]['data']\n",
    "    labels = data.get('labels', {})\n",
    "    item_map[key] = {\"label\": key, **item_map[key]}\n",
    "    if labels:\n",
    "        item_map[key].update({\"label\": labels.get('en', {}).get('value', key)})\n",
    "    descriptions = data.get('descriptions', {})\n",
    "    if descriptions:\n",
    "        item_map[key].update({\"description\": descriptions.get('en', {}).get('value', '')})\n",
    "    else:\n",
    "        item_map[key].update({\"description\": ''})\n",
    "\n",
    "# And then supplement some of the values with their labels..\n",
    "for key in item_map:\n",
    "    if 'host' in item_map[key]:\n",
    "        host = item_map[key]['host']\n",
    "        if host:\n",
    "            host_label = item_map.get(host[0], {}).get('label', host[0])\n",
    "            item_map[key].update({\"host_label\": host_label})\n",
    "            # logging.info(f\"Updated host_label for {key}: {host_label}\")\n",
    "\n",
    "# Remove everything that doesn't have instanceof containing the string `Q10` (Wikibase site)\n",
    "item_map = {k: v for k, v in item_map.items() if 'Q10' in v.get('instance', [])}\n",
    "# Remove everything that doesn't have anything in the properties list\n",
    "item_map = {k: v for k, v in item_map.items() if v.get('properties', [])}\n",
    "# And things that has properties[0] == 0 (As this is probably a wiki with wikibase installed, but not data)\n",
    "item_map = {k: v for k, v in item_map.items() if v.get('properties', [0])[0] != 0}\n",
    "\n",
    "print(item_map['Q384'])\n",
    "\n",
    "# print how many there are\n",
    "print(len(item_map))"
   ]
  },
  {
   "cell_type": "code",
   "execution_count": 68,
   "metadata": {},
   "outputs": [],
   "source": [
    "# TODO, export as a file, so it can be recorded historically?"
   ]
  },
  {
   "cell_type": "code",
   "execution_count": 88,
   "metadata": {},
   "outputs": [],
   "source": [
    "# Supplement with more info just for the graph\n",
    "\n",
    "# Define specific colors for certain host (using host, not host_label)\n",
    "specific_colors = {\n",
    "    'Q4': '#F00000',  # Wikimedia Foundation\n",
    "    'Q5': '#5be971',  # independently hosted Wikibase\n",
    "    'Q6': '#f11fbe',  # Wikimedia Cloud Services\n",
    "    'Q7': '#6283ca',  # The Wikibase Consultancy\n",
    "    'Q8': '#ADD8E6',  # Wikibase Cloud\n",
    "    'Q117': '#ff6347',  # WBStack\n",
    "    'Q118': '#5cd45b',  # Miraheze\n",
    "    'Q322': '#ffa500',  # WikiTide\n",
    "    'Q323': '#8a2be2',  # WikiForge\n",
    "    'Q1434': '#ff69b4',  # wikibase-docker\n",
    "}\n",
    "\n",
    "# Add a \"graph_group\" to the item_map based on the host, including an unknown group\n",
    "# Also add the graph_color based on the specific_colors, unknown is grey\n",
    "for key in item_map:\n",
    "    host = item_map[key].get('host', [])\n",
    "    if host and host[0] in specific_colors:\n",
    "        item_map[key].update({\"graph_group\": item_map[key].get('host_label', 'unknown')})\n",
    "        item_map[key].update({\"graph_color\": specific_colors[host[0]]})\n",
    "    else:\n",
    "        item_map[key].update({\"graph_group\": 'unknown'})\n",
    "        item_map[key].update({\"graph_color\": '#D3D3D3'})\n",
    "        if host:\n",
    "            print (f\"Unknown host for {host}\") # << you might wat to add a colour for this..."
   ]
  },
  {
   "cell_type": "code",
   "execution_count": 70,
   "metadata": {},
   "outputs": [],
   "source": [
    "import plotly.graph_objects as go\n",
    "import networkx as nx\n",
    "import numpy as np\n",
    "\n",
    "G = nx.Graph()"
   ]
  },
  {
   "cell_type": "code",
   "execution_count": 71,
   "metadata": {},
   "outputs": [
    {
     "data": {
      "application/vnd.plotly.v1+json": {
       "config": {
        "plotlyServerURL": "https://plot.ly"
       },
       "data": [
        {
         "hoverinfo": "none",
         "line": {
          "color": "#888",
          "width": 0.3
         },
         "mode": "lines",
         "showlegend": false,
         "type": "scatter",
         "x": [
          -0.037724170833826065,
          -0.34475576877593994,
          null,
          -0.037724170833826065,
          -0.9235790967941284,
          null,
          -0.037724170833826065,
          0.39078718423843384,
          null,
          -0.037724170833826065,
          -0.2549951374530792,
          null,
          -0.037724170833826065,
          0.0611163005232811,
          null,
          -0.037724170833826065,
          0.13807369768619537,
          null,
          -0.037724170833826065,
          -0.967473566532135,
          null,
          -0.037724170833826065,
          -0.8828572630882263,
          null,
          -0.037724170833826065,
          0.3969615697860718,
          null,
          -0.037724170833826065,
          0.9014772772789001,
          null,
          -0.037724170833826065,
          -0.7710491418838501,
          null,
          -0.037724170833826065,
          -0.266420841217041,
          null,
          -0.037724170833826065,
          -0.49137380719184875,
          null,
          -0.037724170833826065,
          -0.27791211009025574,
          null,
          -0.037724170833826065,
          0.0662909597158432,
          null,
          -0.037724170833826065,
          0.7986608743667603,
          null,
          -0.037724170833826065,
          0.3307567536830902,
          null,
          -0.037724170833826065,
          -0.3418184220790863,
          null,
          -0.037724170833826065,
          -0.3633997440338135,
          null,
          -0.037724170833826065,
          0.5125362873077393,
          null,
          -0.037724170833826065,
          0.5138758420944214,
          null,
          -0.037724170833826065,
          -0.9084270596504211,
          null,
          -0.037724170833826065,
          -0.7134567499160767,
          null,
          -0.037724170833826065,
          0.9476358294487,
          null,
          -0.037724170833826065,
          -0.8710051774978638,
          null,
          -0.037724170833826065,
          0.4331985116004944,
          null,
          -0.037724170833826065,
          -0.4678146243095398,
          null,
          -0.037724170833826065,
          0.7931843996047974,
          null,
          -0.037724170833826065,
          -0.6737548112869263,
          null,
          -0.037724170833826065,
          -0.021917765960097313,
          null,
          -0.037724170833826065,
          0.9464021325111389,
          null,
          -0.037724170833826065,
          -0.3647943139076233,
          null,
          -0.037724170833826065,
          0.6393133401870728,
          null,
          -0.037724170833826065,
          -0.6798942685127258,
          null,
          -0.037724170833826065,
          0.1485774666070938,
          null,
          -0.037724170833826065,
          0.9698293209075928,
          null,
          -0.037724170833826065,
          0.8931258916854858,
          null,
          -0.037724170833826065,
          -0.44105538725852966,
          null,
          -0.037724170833826065,
          -0.961007297039032,
          null,
          -0.037724170833826065,
          0.7318003177642822,
          null,
          -0.037724170833826065,
          -0.8620173931121826,
          null,
          -0.037724170833826065,
          -0.521598756313324,
          null,
          -0.037724170833826065,
          -0.121723972260952,
          null,
          -0.037724170833826065,
          -0.4448204040527344,
          null,
          -0.037724170833826065,
          0.4213913679122925,
          null,
          -0.037724170833826065,
          0.33680081367492676,
          null,
          -0.037724170833826065,
          0.47515562176704407,
          null,
          -0.037724170833826065,
          -0.1237916573882103,
          null,
          -0.037724170833826065,
          -0.25065046548843384,
          null,
          -0.037724170833826065,
          0.2710951864719391,
          null,
          -0.037724170833826065,
          0.05068041384220123,
          null,
          -0.037724170833826065,
          -0.27122610807418823,
          null,
          -0.037724170833826065,
          -0.16245342791080475,
          null,
          -0.037724170833826065,
          0.61092609167099,
          null,
          -0.037724170833826065,
          0.6192598342895508,
          null,
          -0.037724170833826065,
          0.9442276358604431,
          null,
          -0.037724170833826065,
          -0.4130392372608185,
          null,
          -0.037724170833826065,
          0.922364354133606,
          null,
          -0.037724170833826065,
          0.5856574177742004,
          null,
          -0.037724170833826065,
          -0.7101864814758301,
          null,
          -0.037724170833826065,
          0.07693012058734894,
          null,
          -0.037724170833826065,
          0.9781014919281006,
          null,
          -0.037724170833826065,
          -0.7298640012741089,
          null,
          -0.037724170833826065,
          0.3004029095172882,
          null,
          -0.037724170833826065,
          -0.009057590737938881,
          null,
          -0.037724170833826065,
          -0.20005863904953003,
          null,
          -0.037724170833826065,
          0.9607361555099487,
          null,
          -0.037724170833826065,
          -0.20932015776634216,
          null,
          -0.037724170833826065,
          0.4546893239021301,
          null,
          -0.037724170833826065,
          -0.6711266040802002,
          null,
          -0.037724170833826065,
          -0.9620839953422546,
          null,
          -0.037724170833826065,
          -0.4465166926383972,
          null,
          -0.037724170833826065,
          0.7441409230232239,
          null,
          -0.037724170833826065,
          0.6383059620857239,
          null,
          -0.037724170833826065,
          -0.8717061281204224,
          null,
          -0.037724170833826065,
          -0.9568278193473816,
          null,
          -0.037724170833826065,
          0.290056437253952,
          null,
          -0.037724170833826065,
          0.2499423325061798,
          null,
          -0.037724170833826065,
          0.9655210971832275,
          null,
          -0.037724170833826065,
          -0.3929593563079834,
          null,
          -0.037724170833826065,
          -0.6372148990631104,
          null,
          -0.037724170833826065,
          -0.8531851172447205,
          null,
          -0.037724170833826065,
          -0.32618385553359985,
          null,
          -0.037724170833826065,
          0.28466498851776123,
          null,
          -0.037724170833826065,
          0.7974298000335693,
          null,
          -0.037724170833826065,
          -0.7346539497375488,
          null,
          -0.037724170833826065,
          -0.4077163636684418,
          null,
          -0.037724170833826065,
          -0.05693027749657631,
          null,
          -0.037724170833826065,
          -0.15221598744392395,
          null,
          -0.037724170833826065,
          0.6746212244033813,
          null,
          -0.037724170833826065,
          -0.6410601735115051,
          null,
          -0.037724170833826065,
          0.9672845602035522,
          null,
          -0.037724170833826065,
          0.4385547935962677,
          null,
          -0.037724170833826065,
          0.8354212045669556,
          null,
          -0.037724170833826065,
          -0.17748862504959106,
          null,
          -0.037724170833826065,
          -0.14152881503105164,
          null,
          -0.037724170833826065,
          -0.1914837509393692,
          null,
          -0.037724170833826065,
          -0.7981029152870178,
          null,
          -0.037724170833826065,
          -0.2643660306930542,
          null,
          -0.037724170833826065,
          -0.8994282484054565,
          null,
          -0.037724170833826065,
          0.21407367289066315,
          null,
          -0.037724170833826065,
          -0.9358934164047241,
          null,
          -0.037724170833826065,
          -0.4759097695350647,
          null,
          -0.037724170833826065,
          0.2835390865802765,
          null,
          -0.037724170833826065,
          0.7748970985412598,
          null,
          -0.037724170833826065,
          -0.4252505898475647,
          null,
          -0.037724170833826065,
          0.39228975772857666,
          null,
          -0.037724170833826065,
          0.8442648649215698,
          null,
          -0.037724170833826065,
          -0.028048107400536537,
          null,
          -0.037724170833826065,
          0.8619319200515747,
          null,
          -0.037724170833826065,
          -0.8167039155960083,
          null,
          -0.037724170833826065,
          0.9043734073638916,
          null,
          -0.037724170833826065,
          -0.1166306659579277,
          null,
          -0.037724170833826065,
          0.9494889974594116,
          null,
          -0.037724170833826065,
          -0.6688939332962036,
          null,
          -0.037724170833826065,
          0.7164620757102966,
          null,
          -0.037724170833826065,
          -0.30482983589172363,
          null,
          -0.037724170833826065,
          -0.4881945848464966,
          null,
          -0.037724170833826065,
          0.6827305555343628,
          null,
          -0.037724170833826065,
          -0.40652117133140564,
          null,
          -0.037724170833826065,
          -0.13391467928886414,
          null,
          -0.037724170833826065,
          -0.41964468359947205,
          null,
          -0.037724170833826065,
          0.12246176600456238,
          null,
          -0.037724170833826065,
          -0.004968847148120403,
          null,
          -0.037724170833826065,
          0.27648288011550903,
          null,
          -0.037724170833826065,
          0.6370510458946228,
          null,
          -0.037724170833826065,
          0.1476536989212036,
          null,
          -0.037724170833826065,
          -0.029584333300590515,
          null,
          -0.037724170833826065,
          -0.027132363989949226,
          null,
          -0.037724170833826065,
          -0.989032506942749,
          null,
          -0.037724170833826065,
          0.1995016634464264,
          null,
          -0.037724170833826065,
          0.5569338202476501,
          null,
          -0.037724170833826065,
          0.6004374027252197,
          null,
          -0.037724170833826065,
          -0.19088172912597656,
          null,
          -0.037724170833826065,
          -0.9000167846679688,
          null,
          -0.037724170833826065,
          -0.11044023931026459,
          null,
          -0.037724170833826065,
          -0.8088215589523315,
          null,
          -0.037724170833826065,
          -0.11720768362283707,
          null,
          -0.037724170833826065,
          -0.7551389336585999,
          null,
          -0.037724170833826065,
          -0.94549959897995,
          null,
          -0.037724170833826065,
          0.07291647046804428,
          null,
          -0.037724170833826065,
          -0.41177794337272644,
          null,
          -0.037724170833826065,
          -0.14192642271518707,
          null,
          -0.037724170833826065,
          -0.9074488282203674,
          null,
          -0.037724170833826065,
          -0.4760957360267639,
          null,
          -0.037724170833826065,
          -0.012624005787074566,
          null,
          -0.037724170833826065,
          0.9822971224784851,
          null,
          -0.037724170833826065,
          -0.6462224125862122,
          null,
          -0.037724170833826065,
          -0.10497431457042694,
          null,
          -0.037724170833826065,
          0.967189371585846,
          null,
          -0.037724170833826065,
          0.531822919845581,
          null,
          -0.037724170833826065,
          -0.3492877781391144,
          null,
          -0.037724170833826065,
          -0.6941326260566711,
          null,
          -0.037724170833826065,
          0.7426260113716125,
          null,
          -0.037724170833826065,
          -0.9467354416847229,
          null,
          -0.037724170833826065,
          -0.49144670367240906,
          null,
          -0.037724170833826065,
          0.6905226707458496,
          null,
          -0.037724170833826065,
          0.9603000283241272,
          null,
          -0.037724170833826065,
          0.3369072675704956,
          null,
          -0.037724170833826065,
          0.3303273916244507,
          null,
          -0.037724170833826065,
          -0.10145091265439987,
          null,
          -0.037724170833826065,
          -0.4093988835811615,
          null,
          -0.037724170833826065,
          -0.6243906617164612,
          null,
          -0.037724170833826065,
          0.25696662068367004,
          null,
          -0.037724170833826065,
          0.7913561463356018,
          null,
          -0.037724170833826065,
          -0.881623387336731,
          null,
          -0.037724170833826065,
          -0.5517335534095764,
          null,
          -0.037724170833826065,
          0.33718767762184143,
          null,
          -0.037724170833826065,
          -0.997649073600769,
          null,
          -0.037724170833826065,
          -0.9229047298431396,
          null,
          -0.037724170833826065,
          -0.678124189376831,
          null,
          -0.037724170833826065,
          0.04046936333179474,
          null,
          -0.037724170833826065,
          0.26530882716178894,
          null,
          -0.037724170833826065,
          0.5830038785934448,
          null,
          -0.037724170833826065,
          -0.4552484154701233,
          null,
          -0.037724170833826065,
          -0.7969647645950317,
          null,
          -0.037724170833826065,
          -0.8332089781761169,
          null,
          -0.037724170833826065,
          0.9794792532920837,
          null,
          -0.037724170833826065,
          -0.9593470096588135,
          null,
          -0.037724170833826065,
          -0.2952028214931488,
          null,
          -0.037724170833826065,
          -0.786268949508667,
          null,
          -0.037724170833826065,
          0.5604305267333984,
          null,
          -0.037724170833826065,
          0.11717845499515533,
          null,
          -0.037724170833826065,
          0.11853840947151184,
          null,
          -0.037724170833826065,
          -0.20352429151535034,
          null,
          -0.037724170833826065,
          -0.5460926294326782,
          null,
          -0.037724170833826065,
          -0.7004494667053223,
          null,
          -0.037724170833826065,
          0.5247797966003418,
          null,
          -0.037724170833826065,
          0.8497505784034729,
          null,
          -0.037724170833826065,
          0.7800880074501038,
          null,
          -0.037724170833826065,
          -0.3918856084346771,
          null,
          -0.037724170833826065,
          0.9385985732078552,
          null,
          -0.037724170833826065,
          0.5791175961494446,
          null,
          -0.037724170833826065,
          -0.6269684433937073,
          null,
          -0.037724170833826065,
          -0.9765501022338867,
          null,
          -0.037724170833826065,
          -0.313041627407074,
          null,
          -0.037724170833826065,
          -0.9111118912696838,
          null,
          -0.037724170833826065,
          -0.6896823644638062,
          null,
          -0.037724170833826065,
          -0.9598501920700073,
          null,
          -0.037724170833826065,
          0.27644890546798706,
          null,
          -0.2549951374530792,
          0.27644890546798706,
          null,
          -0.8828572630882263,
          0.16738422214984894,
          null,
          0.3969615697860718,
          -0.3647943139076233,
          null,
          0.3307567536830902,
          0.2553069591522217,
          null,
          0.3307567536830902,
          -0.1761680394411087,
          null,
          -0.3633997440338135,
          -0.021917765960097313,
          null,
          -0.8710051774978638,
          -0.8701711893081665,
          null,
          0.4331985116004944,
          -0.060369301587343216,
          null,
          -0.021917765960097313,
          0.4546893239021301,
          null,
          -0.021917765960097313,
          0.47515562176704407,
          null,
          -0.021917765960097313,
          -0.1914837509393692,
          null,
          -0.021917765960097313,
          -0.6941326260566711,
          null,
          0.9464021325111389,
          0.2835390865802765,
          null,
          -0.3647943139076233,
          0.07291647046804428,
          null,
          -0.3647943139076233,
          0.25696662068367004,
          null,
          -0.3647943139076233,
          -0.678124189376831,
          null,
          0.1485774666070938,
          -0.060369301587343216,
          null,
          -0.44105538725852966,
          -0.060369301587343216,
          null,
          0.4213913679122925,
          -0.060369301587343216,
          null,
          0.4213913679122925,
          0.968868613243103,
          null,
          -0.4130392372608185,
          -0.009057590737938881,
          null,
          -0.32618385553359985,
          0.27644890546798706,
          null,
          0.28466498851776123,
          0.16738422214984894,
          null,
          0.6746212244033813,
          -0.060369301587343216,
          null,
          0.4385547935962677,
          -0.060369301587343216,
          null,
          0.21407367289066315,
          0.27644890546798706,
          null,
          0.21407367289066315,
          -0.027132363989949226,
          null,
          0.21407367289066315,
          0.2835390865802765,
          null,
          0.21407367289066315,
          0.16735103726387024,
          null,
          0.21407367289066315,
          0.27648288011550903,
          null,
          -0.4759097695350647,
          -0.060369301587343216,
          null,
          -0.4759097695350647,
          0.16738422214984894,
          null,
          0.2835390865802765,
          0.27644890546798706,
          null,
          0.2835390865802765,
          -0.027132363989949226,
          null,
          0.2835390865802765,
          0.27648288011550903,
          null,
          0.2835390865802765,
          0.16735103726387024,
          null,
          0.2835390865802765,
          0.14597384631633759,
          null,
          0.7748970985412598,
          -0.060369301587343216,
          null,
          0.39228975772857666,
          -0.060369301587343216,
          null,
          0.39228975772857666,
          -0.1761680394411087,
          null,
          0.39228975772857666,
          0.004692366812378168,
          null,
          0.6827305555343628,
          0.27644890546798706,
          null,
          0.6827305555343628,
          0.16738422214984894,
          null,
          0.27648288011550903,
          0.27644890546798706,
          null,
          0.27648288011550903,
          -0.027132363989949226,
          null,
          0.27648288011550903,
          0.16735103726387024,
          null,
          0.27648288011550903,
          0.71844482421875,
          null,
          0.27648288011550903,
          0.052621014416217804,
          null,
          -0.027132363989949226,
          0.27644890546798706,
          null,
          -0.027132363989949226,
          0.16735103726387024,
          null,
          -0.11044023931026459,
          -0.2952028214931488,
          null,
          0.07291647046804428,
          -0.060369301587343216,
          null,
          0.07291647046804428,
          -0.5447415709495544,
          null,
          0.07291647046804428,
          0.966083824634552,
          null,
          -0.6462224125862122,
          -0.060369301587343216,
          null,
          0.3369072675704956,
          -0.060369301587343216,
          null,
          0.3303273916244507,
          0.43590104579925537,
          null,
          0.25696662068367004,
          -0.060369301587343216,
          null,
          0.25696662068367004,
          -0.5447415709495544,
          null,
          0.7913561463356018,
          -0.060369301587343216,
          null,
          -0.997649073600769,
          -0.060369301587343216,
          null,
          -0.678124189376831,
          -0.060369301587343216,
          null,
          -0.678124189376831,
          -0.1761680394411087,
          null,
          0.5830038785934448,
          0.16738422214984894,
          null,
          0.5830038785934448,
          0.48657336831092834,
          null,
          -0.8332089781761169,
          -0.060369301587343216,
          null,
          0.11717845499515533,
          -0.060369301587343216,
          null,
          0.11853840947151184,
          -0.060369301587343216,
          null,
          0.11853840947151184,
          0.43590104579925537,
          null,
          0.11853840947151184,
          0.2553069591522217,
          null,
          0.11853840947151184,
          -0.1761680394411087,
          null,
          -0.7004494667053223,
          -0.060369301587343216,
          null,
          -0.7004494667053223,
          -0.1761680394411087,
          null,
          -0.3918856084346771,
          -0.7462250590324402,
          null,
          -0.060369301587343216,
          -0.15738683938980103,
          null,
          -0.060369301587343216,
          0.005157956853508949,
          null,
          -0.060369301587343216,
          0.5416440963745117,
          null,
          -0.060369301587343216,
          -0.9158666729927063,
          null,
          -0.060369301587343216,
          -0.5176776647567749,
          null,
          -0.060369301587343216,
          0.27644890546798706,
          null,
          0.27644890546798706,
          0.16735103726387024,
          null,
          0.10037622600793839,
          0.25465285778045654,
          null,
          0.16689187288284302,
          -0.9183103442192078,
          null
         ],
         "y": [
          -0.04834466055035591,
          0.4576641321182251,
          null,
          -0.04834466055035591,
          -0.22758960723876953,
          null,
          -0.04834466055035591,
          -0.9209132194519043,
          null,
          -0.04834466055035591,
          -0.806473433971405,
          null,
          -0.04834466055035591,
          -0.9534766674041748,
          null,
          -0.04834466055035591,
          -0.9456290602684021,
          null,
          -0.04834466055035591,
          -0.2835306227207184,
          null,
          -0.04834466055035591,
          -0.2037598043680191,
          null,
          -0.04834466055035591,
          0.7534096837043762,
          null,
          -0.04834466055035591,
          -0.19966340065002441,
          null,
          -0.04834466055035591,
          0.6721031069755554,
          null,
          -0.04834466055035591,
          -0.5127559900283813,
          null,
          -0.04834466055035591,
          -0.2996061444282532,
          null,
          -0.04834466055035591,
          -0.9583551287651062,
          null,
          -0.04834466055035591,
          -0.990526556968689,
          null,
          -0.04834466055035591,
          0.6520837545394897,
          null,
          -0.04834466055035591,
          -0.015526148490607738,
          null,
          -0.04834466055035591,
          -0.27920639514923096,
          null,
          -0.04834466055035591,
          -0.9269760847091675,
          null,
          -0.04834466055035591,
          -0.8020008206367493,
          null,
          -0.04834466055035591,
          0.8838105797767639,
          null,
          -0.04834466055035591,
          -0.4252752661705017,
          null,
          -0.04834466055035591,
          0.6408898234367371,
          null,
          -0.04834466055035591,
          0.2618132531642914,
          null,
          -0.04834466055035591,
          -0.4580073952674866,
          null,
          -0.04834466055035591,
          0.9347828030586243,
          null,
          -0.04834466055035591,
          0.15796416997909546,
          null,
          -0.04834466055035591,
          -0.5740936398506165,
          null,
          -0.04834466055035591,
          0.6534112691879272,
          null,
          -0.04834466055035591,
          -0.2421543300151825,
          null,
          -0.04834466055035591,
          0.3532158434391022,
          null,
          -0.04834466055035591,
          0.07239452004432678,
          null,
          -0.04834466055035591,
          -0.7609301805496216,
          null,
          -0.04834466055035591,
          -0.737910270690918,
          null,
          -0.04834466055035591,
          -0.7278870344161987,
          null,
          -0.04834466055035591,
          -0.19996267557144165,
          null,
          -0.04834466055035591,
          0.4929749071598053,
          null,
          -0.04834466055035591,
          -0.7947859764099121,
          null,
          -0.04834466055035591,
          -0.031478364020586014,
          null,
          -0.04834466055035591,
          0.5772489309310913,
          null,
          -0.04834466055035591,
          -0.2688341438770294,
          null,
          -0.04834466055035591,
          -0.8526167273521423,
          null,
          -0.04834466055035591,
          0.9985125660896301,
          null,
          -0.04834466055035591,
          0.8637688755989075,
          null,
          -0.04834466055035591,
          0.36182764172554016,
          null,
          -0.04834466055035591,
          0.40430375933647156,
          null,
          -0.04834466055035591,
          -0.8369302749633789,
          null,
          -0.04834466055035591,
          -0.9239843487739563,
          null,
          -0.04834466055035591,
          -0.9519971013069153,
          null,
          -0.04834466055035591,
          -0.9328433871269226,
          null,
          -0.04834466055035591,
          0.93775475025177,
          null,
          -0.04834466055035591,
          0.9396234154701233,
          null,
          -0.04834466055035591,
          -0.4806017577648163,
          null,
          -0.04834466055035591,
          0.7843201160430908,
          null,
          -0.04834466055035591,
          -0.7907329797744751,
          null,
          -0.04834466055035591,
          -0.2822801470756531,
          null,
          -0.04834466055035591,
          -0.17170275747776031,
          null,
          -0.04834466055035591,
          0.01454226765781641,
          null,
          -0.04834466055035591,
          -0.5051572322845459,
          null,
          -0.04834466055035591,
          -0.5971931219100952,
          null,
          -0.04834466055035591,
          0.9728924036026001,
          null,
          -0.04834466055035591,
          0.15294423699378967,
          null,
          -0.04834466055035591,
          -0.7291513085365295,
          null,
          -0.04834466055035591,
          0.8612866401672363,
          null,
          -0.04834466055035591,
          -0.3691636919975281,
          null,
          -0.04834466055035591,
          0.969510018825531,
          null,
          -0.04834466055035591,
          0.28357115387916565,
          null,
          -0.04834466055035591,
          0.4595819413661957,
          null,
          -0.04834466055035591,
          0.8393095135688782,
          null,
          -0.04834466055035591,
          -0.7642427682876587,
          null,
          -0.04834466055035591,
          0.24621279537677765,
          null,
          -0.04834466055035591,
          0.9105777740478516,
          null,
          -0.04834466055035591,
          0.6450197696685791,
          null,
          -0.04834466055035591,
          -0.8058381080627441,
          null,
          -0.04834466055035591,
          0.5588708519935608,
          null,
          -0.04834466055035591,
          -0.07509201765060425,
          null,
          -0.04834466055035591,
          0.9394760727882385,
          null,
          -0.04834466055035591,
          0.7334685921669006,
          null,
          -0.04834466055035591,
          0.07429845631122589,
          null,
          -0.04834466055035591,
          -0.9195720553398132,
          null,
          -0.04834466055035591,
          -0.8104419112205505,
          null,
          -0.04834466055035591,
          -0.5283267498016357,
          null,
          -0.04834466055035591,
          -0.9257650375366211,
          null,
          -0.04834466055035591,
          -0.5287704467773438,
          null,
          -0.04834466055035591,
          -0.4621148407459259,
          null,
          -0.04834466055035591,
          -0.701140284538269,
          null,
          -0.04834466055035591,
          -0.0693918913602829,
          null,
          -0.04834466055035591,
          -0.9763186573982239,
          null,
          -0.04834466055035591,
          -0.8983851075172424,
          null,
          -0.04834466055035591,
          0.5933119654655457,
          null,
          -0.04834466055035591,
          -0.7439393997192383,
          null,
          -0.04834466055035591,
          -0.2547908127307892,
          null,
          -0.04834466055035591,
          0.8351723551750183,
          null,
          -0.04834466055035591,
          0.3794488310813904,
          null,
          -0.04834466055035591,
          0.9628522992134094,
          null,
          -0.04834466055035591,
          0.968358039855957,
          null,
          -0.04834466055035591,
          0.08484365046024323,
          null,
          -0.04834466055035591,
          0.6759188771247864,
          null,
          -0.04834466055035591,
          -0.9060366153717041,
          null,
          -0.04834466055035591,
          0.41827964782714844,
          null,
          -0.04834466055035591,
          0.46453073620796204,
          null,
          -0.04834466055035591,
          0.34545332193374634,
          null,
          -0.04834466055035591,
          0.7352392673492432,
          null,
          -0.04834466055035591,
          0.07799411565065384,
          null,
          -0.04834466055035591,
          0.6487795114517212,
          null,
          -0.04834466055035591,
          0.930823564529419,
          null,
          -0.04834466055035591,
          0.011077350936830044,
          null,
          -0.04834466055035591,
          -0.4940306842327118,
          null,
          -0.04834466055035591,
          -0.5342905521392822,
          null,
          -0.04834466055035591,
          0.5211901068687439,
          null,
          -0.04834466055035591,
          -0.5225870609283447,
          null,
          -0.04834466055035591,
          -0.4105148911476135,
          null,
          -0.04834466055035591,
          0.9641848802566528,
          null,
          -0.04834466055035591,
          -0.22406640648841858,
          null,
          -0.04834466055035591,
          0.027797069400548935,
          null,
          -0.04834466055035591,
          -0.6097092628479004,
          null,
          -0.04834466055035591,
          -0.8470401167869568,
          null,
          -0.04834466055035591,
          0.8322058320045471,
          null,
          -0.04834466055035591,
          0.1320069432258606,
          null,
          -0.04834466055035591,
          0.8696297407150269,
          null,
          -0.04834466055035591,
          0.9132326245307922,
          null,
          -0.04834466055035591,
          -0.8902689814567566,
          null,
          -0.04834466055035591,
          0.9484785795211792,
          null,
          -0.04834466055035591,
          -0.9766754508018494,
          null,
          -0.04834466055035591,
          0.232538104057312,
          null,
          -0.04834466055035591,
          0.2617049813270569,
          null,
          -0.04834466055035591,
          0.9320619702339172,
          null,
          -0.04834466055035591,
          -0.9907882809638977,
          null,
          -0.04834466055035591,
          0.2259344607591629,
          null,
          -0.04834466055035591,
          0.11324800550937653,
          null,
          -0.04834466055035591,
          0.945086658000946,
          null,
          -0.04834466055035591,
          -0.8481283187866211,
          null,
          -0.04834466055035591,
          -0.7595276236534119,
          null,
          -0.04834466055035591,
          -0.7996280193328857,
          null,
          -0.04834466055035591,
          0.280799001455307,
          null,
          -0.04834466055035591,
          0.07117625325918198,
          null,
          -0.04834466055035591,
          0.6422394514083862,
          null,
          -0.04834466055035591,
          -0.966697096824646,
          null,
          -0.04834466055035591,
          -0.623934805393219,
          null,
          -0.04834466055035591,
          -0.05232325196266174,
          null,
          -0.04834466055035591,
          0.02221110463142395,
          null,
          -0.04834466055035591,
          -0.4987868368625641,
          null,
          -0.04834466055035591,
          -0.9550708532333374,
          null,
          -0.04834466055035591,
          -0.2972394824028015,
          null,
          -0.04834466055035591,
          -0.8331819176673889,
          null,
          -0.04834466055035591,
          -0.7195683121681213,
          null,
          -0.04834466055035591,
          -0.1656472235918045,
          null,
          -0.04834466055035591,
          -0.28881821036338806,
          null,
          -0.04834466055035591,
          -0.9542131423950195,
          null,
          -0.04834466055035591,
          -0.09955327212810516,
          null,
          -0.04834466055035591,
          -0.8577530384063721,
          null,
          -0.04834466055035591,
          -0.8776727914810181,
          null,
          -0.04834466055035591,
          -0.6967453956604004,
          null,
          -0.04834466055035591,
          -0.5967311859130859,
          null,
          -0.04834466055035591,
          -0.3205682933330536,
          null,
          -0.04834466055035591,
          -0.8558539152145386,
          null,
          -0.04834466055035591,
          -0.763306736946106,
          null,
          -0.04834466055035591,
          -0.17934340238571167,
          null,
          -0.04834466055035591,
          0.9450171589851379,
          null,
          -0.04834466055035591,
          -0.931456983089447,
          null,
          -0.04834466055035591,
          0.46605560183525085,
          null,
          -0.04834466055035591,
          -0.8637788891792297,
          null,
          -0.04834466055035591,
          0.8507863283157349,
          null,
          -0.04834466055035591,
          0.30262765288352966,
          null,
          -0.04834466055035591,
          -0.000764417287427932,
          null,
          -0.04834466055035591,
          0.4813860058784485,
          null,
          -0.04834466055035591,
          -0.056818485260009766,
          null,
          -0.04834466055035591,
          -0.858165979385376,
          null,
          -0.04834466055035591,
          0.03920267894864082,
          null,
          -0.04834466055035591,
          0.25733333826065063,
          null,
          -0.04834466055035591,
          0.4367690980434418,
          null,
          -0.04834466055035591,
          -0.9792748689651489,
          null,
          -0.04834466055035591,
          0.9388696551322937,
          null,
          -0.04834466055035591,
          0.3499404788017273,
          null,
          -0.04834466055035591,
          0.8284632563591003,
          null,
          -0.04834466055035591,
          0.597720742225647,
          null,
          -0.04834466055035591,
          0.465424507856369,
          null,
          -0.04834466055035591,
          -0.07963452488183975,
          null,
          -0.04834466055035591,
          -0.10648474097251892,
          null,
          -0.04834466055035591,
          -0.9329028725624084,
          null,
          -0.04834466055035591,
          -0.5236043334007263,
          null,
          -0.04834466055035591,
          0.8638913035392761,
          null,
          -0.04834466055035591,
          0.376445472240448,
          null,
          -0.04834466055035591,
          -0.0854145810008049,
          null,
          -0.04834466055035591,
          -0.9135419130325317,
          null,
          -0.04834466055035591,
          -0.8385521173477173,
          null,
          -0.04834466055035591,
          0.7000231742858887,
          null,
          -0.04834466055035591,
          -0.7212812900543213,
          null,
          -0.04834466055035591,
          0.2367420643568039,
          null,
          -0.04834466055035591,
          0.613464891910553,
          null,
          -0.04834466055035591,
          -0.39610978960990906,
          null,
          -0.04834466055035591,
          -0.08540704101324081,
          null,
          -0.04834466055035591,
          -0.8252092599868774,
          null,
          -0.04834466055035591,
          0.7177454233169556,
          null,
          -0.04834466055035591,
          0.22017043828964233,
          null,
          -0.04834466055035591,
          -0.9284750819206238,
          null,
          -0.04834466055035591,
          -0.09025364369153976,
          null,
          -0.04834466055035591,
          0.7239754796028137,
          null,
          -0.04834466055035591,
          0.3114240765571594,
          null,
          -0.04834466055035591,
          0.00009621296339901164,
          null,
          -0.806473433971405,
          0.00009621296339901164,
          null,
          -0.2037598043680191,
          -0.17856205999851227,
          null,
          0.7534096837043762,
          0.07239452004432678,
          null,
          -0.015526148490607738,
          -0.4562171697616577,
          null,
          -0.015526148490607738,
          0.269754558801651,
          null,
          -0.9269760847091675,
          -0.2421543300151825,
          null,
          -0.4580073952674866,
          -0.43205949664115906,
          null,
          0.9347828030586243,
          0.31625819206237793,
          null,
          -0.2421543300151825,
          0.8393095135688782,
          null,
          -0.2421543300151825,
          -0.8369302749633789,
          null,
          -0.2421543300151825,
          0.08484365046024323,
          null,
          -0.2421543300151825,
          -0.6967453956604004,
          null,
          0.3532158434391022,
          0.07799411565065384,
          null,
          0.07239452004432678,
          0.02221110463142395,
          null,
          0.07239452004432678,
          0.30262765288352966,
          null,
          0.07239452004432678,
          0.4367690980434418,
          null,
          -0.7278870344161987,
          0.31625819206237793,
          null,
          -0.7947859764099121,
          0.31625819206237793,
          null,
          0.36182764172554016,
          0.31625819206237793,
          null,
          0.36182764172554016,
          0.1067417785525322,
          null,
          -0.17170275747776031,
          -0.3691636919975281,
          null,
          -0.9257650375366211,
          0.00009621296339901164,
          null,
          -0.5287704467773438,
          -0.17856205999851227,
          null,
          0.5933119654655457,
          0.31625819206237793,
          null,
          0.8351723551750183,
          0.31625819206237793,
          null,
          0.46453073620796204,
          0.00009621296339901164,
          null,
          0.46453073620796204,
          0.2259344607591629,
          null,
          0.46453073620796204,
          0.07799411565065384,
          null,
          0.46453073620796204,
          0.26418861746788025,
          null,
          0.46453073620796204,
          0.232538104057312,
          null,
          0.7352392673492432,
          0.31625819206237793,
          null,
          0.7352392673492432,
          -0.17856205999851227,
          null,
          0.07799411565065384,
          0.00009621296339901164,
          null,
          0.07799411565065384,
          0.2259344607591629,
          null,
          0.07799411565065384,
          0.232538104057312,
          null,
          0.07799411565065384,
          0.26418861746788025,
          null,
          0.07799411565065384,
          -0.96763676404953,
          null,
          0.6487795114517212,
          0.31625819206237793,
          null,
          0.011077350936830044,
          0.31625819206237793,
          null,
          0.011077350936830044,
          0.269754558801651,
          null,
          0.011077350936830044,
          -0.9387395977973938,
          null,
          0.1320069432258606,
          0.00009621296339901164,
          null,
          0.1320069432258606,
          -0.17856205999851227,
          null,
          0.232538104057312,
          0.00009621296339901164,
          null,
          0.232538104057312,
          0.2259344607591629,
          null,
          0.232538104057312,
          0.26418861746788025,
          null,
          0.232538104057312,
          0.7509737014770508,
          null,
          0.232538104057312,
          -0.25414934754371643,
          null,
          0.2259344607591629,
          0.00009621296339901164,
          null,
          0.2259344607591629,
          0.26418861746788025,
          null,
          0.07117625325918198,
          -0.9329028725624084,
          null,
          0.02221110463142395,
          0.31625819206237793,
          null,
          0.02221110463142395,
          0.24815160036087036,
          null,
          0.02221110463142395,
          -0.00122355786152184,
          null,
          -0.28881821036338806,
          0.31625819206237793,
          null,
          0.9450171589851379,
          0.31625819206237793,
          null,
          -0.931456983089447,
          -0.3576613664627075,
          null,
          0.30262765288352966,
          0.31625819206237793,
          null,
          0.30262765288352966,
          0.24815160036087036,
          null,
          -0.000764417287427932,
          0.31625819206237793,
          null,
          0.03920267894864082,
          0.31625819206237793,
          null,
          0.4367690980434418,
          0.31625819206237793,
          null,
          0.4367690980434418,
          0.269754558801651,
          null,
          0.3499404788017273,
          -0.17856205999851227,
          null,
          0.3499404788017273,
          0.8657427430152893,
          null,
          0.465424507856369,
          0.31625819206237793,
          null,
          0.376445472240448,
          0.31625819206237793,
          null,
          -0.0854145810008049,
          0.31625819206237793,
          null,
          -0.0854145810008049,
          -0.3576613664627075,
          null,
          -0.0854145810008049,
          -0.4562171697616577,
          null,
          -0.0854145810008049,
          0.269754558801651,
          null,
          0.7000231742858887,
          0.31625819206237793,
          null,
          0.7000231742858887,
          0.269754558801651,
          null,
          -0.39610978960990906,
          -0.5968011617660522,
          null,
          0.31625819206237793,
          0.8796141743659973,
          null,
          0.31625819206237793,
          0.9993765354156494,
          null,
          0.31625819206237793,
          0.7902782559394836,
          null,
          0.31625819206237793,
          0.009951919317245483,
          null,
          0.31625819206237793,
          0.8606470227241516,
          null,
          0.31625819206237793,
          0.00009621296339901164,
          null,
          0.00009621296339901164,
          0.26418861746788025,
          null,
          -0.959183394908905,
          0.41409486532211304,
          null,
          0.04555905982851982,
          -0.3192184865474701,
          null
         ]
        },
        {
         "hoverinfo": "text",
         "hovertext": [
          "Wikidata<br>URL: https://www.wikidata.org<br>Host: Wikimedia Foundation<br>Version: 1.44.0-wmf.16<br>Start Date: 2012-10-25 00:00:00+00:00<br>Active Users: 24633<br>Users: 6712968<br>Properties: 12327<br>Edits: 2271398577<br>Pages: 119599665",
          "Wikimedia Commons<br>URL: https://commons.wikimedia.org<br>Host: Wikimedia Foundation<br>Version: 1.44.0-wmf.16<br>Start Date: 2019-01-10 00:00:00+00:00<br>Active Users: 39321<br>Users: 13023348<br>Properties: 12327<br>Edits: 952992390<br>Pages: 145301018"
         ],
         "legendgrouptitle": {
          "text": "By host"
         },
         "marker": {
          "color": "#F00000",
          "line": {
           "color": "black",
           "width": 1
          },
          "showscale": false,
          "size": [
           40,
           40
          ]
         },
         "mode": "markers",
         "name": "Wikimedia Foundation (2)",
         "showlegend": true,
         "type": "scatter",
         "x": [
          -0.037724170833826065,
          -0.060369301587343216
         ],
         "y": [
          -0.04834466055035591,
          0.31625819206237793
         ]
        },
        {
         "hoverinfo": "text",
         "hovertext": [
          "SCK<br>URL: https://knihovnici.wikibase.cloud<br>Host: Wikibase Cloud<br>Version: 1.39.7<br>Start Date: 2024-06-26 00:00:00+00:00<br>Active Users: 2<br>Users: 5<br>Properties: 68<br>Edits: 142439<br>Pages: 5453",
          "WikiFCD<br>URL: https://wikifcd.wikibase.cloud/<br>Host: Wikibase Cloud<br>Version: 1.39.7<br>Start Date: 2020-03-02 00:00:00+00:00<br>Active Users: 1<br>Users: 412<br>Properties: 321<br>Edits: 871318<br>Pages: 469132",
          "Ahotsak Wikibase<br>URL: https://datuak.ahotsak.eus/<br>Host: Wikibase Cloud<br>Version: 1.39.7<br>Start Date: 2021-05-26 00:00:00+00:00<br>Active Users: 0<br>Users: 5<br>Properties: 30<br>Edits: 1143182<br>Pages: 27491",
          "Coins Wikibase<br>URL: https://coins.wikibase.cloud/<br>Host: Wikibase Cloud<br>Version: 1.39.7<br>Start Date: 2024-03-08 00:00:00+00:00<br>Active Users: 0<br>Users: 3<br>Properties: 29<br>Edits: 825<br>Pages: 136",
          "wikiWARP<br>URL: https://wikiwarp.wikibase.cloud<br>Host: Wikibase Cloud<br>Version: 1.39.7<br>Start Date: 2022-12-06 00:00:00+00:00<br>Active Users: 0<br>Users: 3<br>Properties: 7<br>Edits: 56<br>Pages: 10",
          "African Americans in Film Collection, 1919-2000<br>URL: https://afamfilm.wikibase.cloud<br>Host: Wikibase Cloud<br>Version: 1.39.7<br>Start Date: 2024-02-11 00:00:00+00:00<br>Active Users: 0<br>Users: 4<br>Properties: 36<br>Edits: 1567<br>Pages: 931",
          "HBMa<br>URL: https://matrika.wikibase.cloud<br>Host: Wikibase Cloud<br>Version: 1.39.7<br>Start Date: 2023-11-21 00:00:00+00:00<br>Active Users: 0<br>Users: 2<br>Properties: 52<br>Edits: 7790<br>Pages: 1233",
          "Digital Scriptorium Catalog<br>URL: https://catalog.digital-scriptorium.org/<br>Host: Wikibase Cloud<br>Version: 1.39.7<br>Start Date: 2022-12-23 00:00:00+00:00<br>Active Users: 1<br>Users: 7<br>Properties: 47<br>Edits: 79544<br>Pages: 55299",
          "Fashion<br>URL: https://fashion.wikibase.cloud<br>Host: Wikibase Cloud<br>Version: 1.39.7<br>Start Date: 2024-07-25 00:00:00+00:00<br>Active Users: 0<br>Users: 2<br>Properties: 29<br>Edits: 18779<br>Pages: 8608",
          "CollectingWomenCourse<br>URL: https://collectingwomencourse.wikibase.cloud<br>Host: Wikibase Cloud<br>Version: 1.39.7<br>Start Date: 2023-11-14 00:00:00+00:00<br>Active Users: 0<br>Users: 21<br>Properties: 25<br>Edits: 1186<br>Pages: 220",
          "Ottgaz<br>URL: https://ottgaz.org<br>Host: Wikibase Cloud<br>Version: 1.39.7<br>Start Date: 2022-09-05 00:00:00+00:00<br>Active Users: 0<br>Users: 4<br>Properties: 38<br>Edits: 80586<br>Pages: 20356",
          "NordhausenDaten<br>URL: https://nordhausen.wikibase.cloud<br>Host: Wikibase Cloud<br>Version: 1.39.7<br>Start Date: 2022-10-05 00:00:00+00:00<br>Active Users: 0<br>Users: 2<br>Properties: 8<br>Edits: 60<br>Pages: 47",
          "British Columbia Directories<br>URL: https://bcdirectories.wikibase.cloud<br>Host: Wikibase Cloud<br>Version: 1.39.7<br>Start Date: 2024-01-18 00:00:00+00:00<br>Active Users: 1<br>Users: 2<br>Properties: 41<br>Edits: 3990<br>Pages: 4187",
          "Devonshire<br>URL: https://devonshire.wikibase.cloud/<br>Host: Wikibase Cloud<br>Version: 1.39.7<br>Start Date: 2022-06-24 00:00:00+00:00<br>Active Users: 1<br>Users: 2<br>Properties: 108<br>Edits: 133174<br>Pages: 61655",
          "Datenbank Nordhausen<br>URL: https://datenbank.nordhausen.org<br>Host: Wikibase Cloud<br>Version: 1.39.7<br>Start Date: 2022-10-05 00:00:00+00:00<br>Active Users: 1<br>Users: 7<br>Properties: 73<br>Edits: 90634<br>Pages: 86804",
          "eneoli wikibase<br>URL: https://eneoli.wikibase.cloud<br>Host: Wikibase Cloud<br>Version: 1.39.7<br>Start Date: 2024-03-15 00:00:00+00:00<br>Active Users: 3<br>Users: 30<br>Properties: 64<br>Edits: 12888<br>Pages: 2597",
          "FILMUSP<br>URL: https://filmusp.wikibase.cloud<br>Host: Wikibase Cloud<br>Version: 1.39.7<br>Start Date: 2024-07-18 00:00:00+00:00<br>Active Users: 0<br>Users: 2<br>Properties: 6<br>Edits: 66<br>Pages: 16",
          "Hydrogen<br>URL: https://hydrogen.wikibase.cloud<br>Host: Wikibase Cloud<br>Version: 1.39.7<br>Start Date: 2024-06-19 00:00:00+00:00<br>Active Users: 0<br>Users: 2<br>Properties: 11<br>Edits: 60<br>Pages: 37",
          "Giorgio De Maria Knowledge Base<br>URL: https://giorgiodemaria.wikibase.cloud/<br>Host: Wikibase Cloud<br>Version: 1.39.7<br>Start Date: 2023-05-12 00:00:00+00:00<br>Active Users: 0<br>Users: 2<br>Properties: 14<br>Edits: 342<br>Pages: 79",
          "The Cool Zone<br>URL: https://coolzone.wikibase.cloud<br>Host: Wikibase Cloud<br>Version: 1.39.7<br>Start Date: 2024-08-12 00:00:00+00:00<br>Active Users: 0<br>Users: 2<br>Properties: 2<br>Edits: 5<br>Pages: 4",
          "Riga Literata<br>URL: https://riga-literata.wikibase.cloud<br>Host: Wikibase Cloud<br>Version: 1.39.7<br>Start Date: 2022-10-05 00:00:00+00:00<br>Active Users: 0<br>Users: 2<br>Properties: 63<br>Edits: 2433<br>Pages: 904",
          "Greek Metrical Inscriptions<br>URL: https://greek-metrical-inscriptions.wikibase.cloud<br>Host: Wikibase Cloud<br>Version: 1.39.7<br>Start Date: 2024-04-29 00:00:00+00:00<br>Active Users: 1<br>Users: 3<br>Properties: 70<br>Edits: 5566<br>Pages: 796",
          "Semantic Name Authority Repository Cymru<br>URL: https://snarc-llgc.wikibase.cloud<br>Host: Wikibase Cloud<br>Version: 1.39.7<br>Start Date: 2022-11-17 00:00:00+00:00<br>Active Users: 1<br>Users: 2<br>Properties: 86<br>Edits: 989320<br>Pages: 130944",
          "Tales of discovery<br>URL: https://discovery-tales.wikibase.cloud<br>Host: Wikibase Cloud<br>Version: 1.39.7<br>Start Date: 2024-07-01 00:00:00+00:00<br>Active Users: 0<br>Users: 5<br>Properties: 43<br>Edits: 10368<br>Pages: 777",
          "LexBib<br>URL: https://lexbib.elex.is<br>Host: Wikibase Cloud<br>Version: 1.39.7<br>Start Date: 2021-08-03 00:00:00+00:00<br>Active Users: 0<br>Users: 730<br>Properties: 212<br>Edits: 874614<br>Pages: 34879",
          "xhgell9mb1qlv2h9gwps<br>URL: https://xhgell9mb1qlv2h9gwps.wikibase.cloud<br>Host: Wikibase Cloud<br>Version: 1.39.7<br>Start Date: 2023-12-11 00:00:00+00:00<br>Active Users: 0<br>Users: 2<br>Properties: 6<br>Edits: 296<br>Pages: 8",
          "Timna Valley Database<br>URL: https://timna-database.wikibase.cloud<br>Host: Wikibase Cloud<br>Version: 1.39.7<br>Start Date: 2024-02-22 00:00:00+00:00<br>Active Users: 6<br>Users: 14<br>Properties: 108<br>Edits: 15533<br>Pages: 789",
          "DigLearning<br>URL: https://diglearning.wikibase.cloud<br>Host: Wikibase Cloud<br>Version: 1.39.7<br>Start Date: 2022-10-18 00:00:00+00:00<br>Active Users: 0<br>Users: 2<br>Properties: 12<br>Edits: 158<br>Pages: 28",
          "DHWiki<br>URL: https://dhwiki.wikibase.cloud<br>Host: Wikibase Cloud<br>Version: 1.39.7<br>Start Date: 2024-09-28 00:00:00+00:00<br>Active Users: 2<br>Users: 5<br>Properties: 40<br>Edits: 1041<br>Pages: 506",
          "bcuf-test<br>URL: https://bcuf-test.wikibase.cloud<br>Host: Wikibase Cloud<br>Version: 1.39.7<br>Start Date: 2022-09-30 00:00:00+00:00<br>Active Users: 0<br>Users: 2<br>Properties: 20<br>Edits: 85<br>Pages: 34",
          "FictionBase<br>URL: https://fictionbase.wikibase.cloud<br>Host: Wikibase Cloud<br>Version: 1.39.7<br>Start Date: 2024-04-14 00:00:00+00:00<br>Active Users: 0<br>Users: 2<br>Properties: 4<br>Edits: 16<br>Pages: 9",
          "Wikimedia Foundation Memory Bank Data Wiki<br>URL: https://memorybankdata.wikibase.cloud<br>Host: Wikibase Cloud<br>Version: 1.39.7<br>Start Date: 2024-01-23 00:00:00+00:00<br>Active Users: 0<br>Users: 2<br>Properties: 56<br>Edits: 2176<br>Pages: 384",
          "Belgian Resistance<br>URL: https://resistance.wikibase.cloud<br>Host: Wikibase Cloud<br>Version: 1.39.7<br>Start Date: 2022-02-04 00:00:00+00:00<br>Active Users: 0<br>Users: 2<br>Properties: 37<br>Edits: 243<br>Pages: 63",
          "College of Science Library, KNUST<br>URL: https://coslib-knust.wikibase.cloud<br>Host: Wikibase Cloud<br>Version: 1.39.7<br>Start Date: 2024-03-15 00:00:00+00:00<br>Active Users: 0<br>Users: 23<br>Properties: 13<br>Edits: 86<br>Pages: 48",
          "GLAMbase<br>URL: https://glambase.wikibase.cloud<br>Host: Wikibase Cloud<br>Version: 1.39.7<br>Start Date: 2022-10-05 00:00:00+00:00<br>Active Users: 0<br>Users: 12<br>Properties: 11<br>Edits: 129<br>Pages: 46",
          "OpenDataSweden<br>URL: https://sweopendata.wikibase.cloud<br>Host: Wikibase Cloud<br>Version: 1.39.7<br>Start Date: 2020-12-17 00:00:00+00:00<br>Active Users: 0<br>Users: 2513<br>Properties: 33<br>Edits: 2648<br>Pages: 795",
          "ds20230203<br>URL: https://ds20230203.wikibase.cloud<br>Host: Wikibase Cloud<br>Version: 1.39.7<br>Start Date: 2023-02-03 00:00:00+00:00<br>Active Users: 0<br>Users: 2<br>Properties: 47<br>Edits: 315<br>Pages: 303",
          "oswald<br>URL: https://oswald.wikibase.cloud<br>Host: Wikibase Cloud<br>Version: 1.39.7<br>Start Date: 2022-10-10 00:00:00+00:00<br>Active Users: 0<br>Users: 3<br>Properties: 44<br>Edits: 1487<br>Pages: 369",
          "KZK<br>URL: https://zkratky.wikibase.cloud<br>Host: Wikibase Cloud<br>Version: 1.39.7<br>Start Date: 2024-06-26 00:00:00+00:00<br>Active Users: 1<br>Users: 4<br>Properties: 25<br>Edits: 100280<br>Pages: 5995",
          "Serbian Wikibase<br>URL: https://serbian.wikibase.cloud<br>Host: Wikibase Cloud<br>Version: 1.39.7<br>Start Date: 2024-01-31 00:00:00+00:00<br>Active Users: 0<br>Users: 4<br>Properties: 22<br>Edits: 59983<br>Pages: 24285",
          "Eusterm Wikibase<br>URL: https://eusterm.wikibase.cloud<br>Host: Wikibase Cloud<br>Version: 1.39.7<br>Start Date: 2022-10-26 00:00:00+00:00<br>Active Users: 12<br>Users: 40<br>Properties: 165<br>Edits: 41347<br>Pages: 17539",
          "National Gallery of Art<br>URL: https://mercury7.wikibase.cloud<br>Host: Wikibase Cloud<br>Version: 1.39.7<br>Start Date: 2022-07-06 00:00:00+00:00<br>Active Users: 2<br>Users: 6<br>Properties: 122<br>Edits: 36259<br>Pages: 3354",
          "Schema descriptions<br>URL: https://schema-korf.wikibase.cloud<br>Host: Wikibase Cloud<br>Version: 1.39.7<br>Start Date: 2020-04-10 00:00:00+00:00<br>Active Users: 0<br>Users: 6<br>Properties: 8<br>Edits: 56<br>Pages: 23",
          "DataLib<br>URL: https://datalib.wikibase.cloud<br>Host: Wikibase Cloud<br>Version: 1.39.7<br>Start Date: 2024-05-24 00:00:00+00:00<br>Active Users: 1<br>Users: 6<br>Properties: 59<br>Edits: 37408<br>Pages: 1872",
          "Kluck<br>URL: https://kluck.wikibase.cloud<br>Host: Wikibase Cloud<br>Version: 1.39.7<br>Start Date: 2024-04-17 00:00:00+00:00<br>Active Users: 0<br>Users: 2<br>Properties: 2<br>Edits: 5<br>Pages: 3",
          "TRE Test<br>URL: https://tre-test.wikibase.cloud<br>Host: Wikibase Cloud<br>Version: 1.39.7<br>Start Date: 2023-05-15 00:00:00+00:00<br>Active Users: 2<br>Users: 3<br>Properties: 37<br>Edits: 342425<br>Pages: 252423",
          "TReK2<br>URL: https://restorationtoolkit2.wikibase.cloud<br>Host: Wikibase Cloud<br>Version: 1.39.7<br>Start Date: 2024-08-02 00:00:00+00:00<br>Active Users: 0<br>Users: 3<br>Properties: 14<br>Edits: 46<br>Pages: 28",
          "EEW<br>URL: https://eew-edgi.wikibase.cloud/<br>Host: Wikibase Cloud<br>Version: 1.39.7<br>Start Date: 2023-03-08 00:00:00+00:00<br>Active Users: 0<br>Users: 2<br>Properties: 58<br>Edits: 42920<br>Pages: 33490",
          "IR Abbreviations<br>URL: https://ir-abbreviations.wikibase.cloud<br>Host: Wikibase Cloud<br>Version: 1.39.7<br>Start Date: 2024-07-25 00:00:00+00:00<br>Active Users: 0<br>Users: 3<br>Properties: 19<br>Edits: 127<br>Pages: 30",
          "Proust-Portal<br>URL: https://proust-portal.wikibase.cloud<br>Host: Wikibase Cloud<br>Version: 1.39.7<br>Start Date: 2023-10-22 00:00:00+00:00<br>Active Users: 1<br>Users: 4<br>Properties: 4<br>Edits: 20<br>Pages: 6",
          "zentrum für netzkunst<br>URL: https://netart.wikibase.cloud<br>Host: Wikibase Cloud<br>Version: 1.39.7<br>Start Date: 2024-04-29 00:00:00+00:00<br>Active Users: 1<br>Users: 4<br>Properties: 125<br>Edits: 3958<br>Pages: 1260",
          "test<br>URL: https://ubna-test.wikibase.cloud<br>Host: Wikibase Cloud<br>Version: 1.39.7<br>Start Date: 2024-01-25 00:00:00+00:00<br>Active Users: 0<br>Users: 3<br>Properties: 29<br>Edits: 146<br>Pages: 54",
          "photo-techniques<br>URL: https://photo-techniques.dvnr.ch<br>Host: Wikibase Cloud<br>Version: 1.39.7<br>Start Date: 2020-11-15 00:00:00+00:00<br>Active Users: 0<br>Users: 2<br>Properties: 14<br>Edits: 245<br>Pages: 119",
          "British Library Archives and Manuscripts<br>URL: https://bl-archives-manuscripts.wikibase.cloud<br>Host: Wikibase Cloud<br>Version: 1.39.7<br>Start Date: 2023-12-07 00:00:00+00:00<br>Active Users: 0<br>Users: 2<br>Properties: 36<br>Edits: 33746<br>Pages: 3453",
          "Willighagen 101<br>URL: https://willighagen-2021.wikibase.cloud<br>Host: Wikibase Cloud<br>Version: 1.39.7<br>Start Date: 2021-12-22 00:00:00+00:00<br>Active Users: 0<br>Users: 16<br>Properties: 46<br>Edits: 2044<br>Pages: 382",
          "Aberdeen Harbour Arrivals<br>URL: https://aberdeen-arrivals.wikibase.cloud<br>Host: Wikibase Cloud<br>Version: 1.39.7<br>Start Date: 2023-03-21 00:00:00+00:00<br>Active Users: 0<br>Users: 2<br>Properties: 17<br>Edits: 287<br>Pages: 231",
          "melanges-test<br>URL: https://melanges-test.wikibase.cloud<br>Host: Wikibase Cloud<br>Version: 1.39.7<br>Start Date: 2022-10-28 00:00:00+00:00<br>Active Users: 0<br>Users: 2<br>Properties: 14<br>Edits: 278<br>Pages: 112",
          "Podcasts<br>URL: https://podcasts.wikibase.cloud<br>Host: Wikibase Cloud<br>Version: 1.39.7<br>Start Date: 2023-02-28 00:00:00+00:00<br>Active Users: 0<br>Users: 2<br>Properties: 77<br>Edits: 33711<br>Pages: 1351",
          "Minecraft JE Data<br>URL: https://mcje-data.wikibase.cloud<br>Host: Wikibase Cloud<br>Version: 1.39.7<br>Start Date: 2022-06-17 00:00:00+00:00<br>Active Users: 0<br>Users: 18<br>Properties: 125<br>Edits: 16366<br>Pages: 5592",
          "DREAMS Wiki<br>URL: https://dreams.wikibase.cloud<br>Host: Wikibase Cloud<br>Version: 1.39.7<br>Start Date: 2020-10-19 00:00:00+00:00<br>Active Users: 0<br>Users: 18<br>Properties: 53<br>Edits: 18564<br>Pages: 5649",
          "Inguma Wikibase<br>URL: https://wikibase.inguma.eus<br>Host: Wikibase Cloud<br>Version: 1.39.7<br>Start Date: 2022-02-11 00:00:00+00:00<br>Active Users: 3<br>Users: 13<br>Properties: 89<br>Edits: 154486<br>Pages: 45176",
          "Game classification<br>URL: https://cla-g.wikibase.cloud<br>Host: Wikibase Cloud<br>Version: 1.39.7<br>Start Date: 2024-08-05 00:00:00+00:00<br>Active Users: 1<br>Users: 8<br>Properties: 27<br>Edits: 3717<br>Pages: 380",
          "Memory Work Los Angeles<br>URL: https://memoryworkla.wikibase.cloud<br>Host: Wikibase Cloud<br>Version: 1.39.7<br>Start Date: 2023-10-11 00:00:00+00:00<br>Active Users: 1<br>Users: 2<br>Properties: 15<br>Edits: 325<br>Pages: 135",
          "Vico<br>URL: https://vicobncf.wikibase.cloud<br>Host: Wikibase Cloud<br>Version: 1.39.7<br>Start Date: 2023-08-22 00:00:00+00:00<br>Active Users: 1<br>Users: 4<br>Properties: 15<br>Edits: 779<br>Pages: 168",
          "Repository Authorities<br>URL: https://ir-authorities.wikibase.cloud<br>Host: Wikibase Cloud<br>Version: 1.39.7<br>Start Date: 2023-02-10 00:00:00+00:00<br>Active Users: 1<br>Users: 7<br>Properties: 18<br>Edits: 721<br>Pages: 179",
          "Machine Learning Models<br>URL: https://mlmodel.wikibase.cloud<br>Host: Wikibase Cloud<br>Version: 1.39.7<br>Start Date: 2024-05-18 00:00:00+00:00<br>Active Users: 0<br>Users: 2<br>Properties: 6<br>Edits: 46<br>Pages: 12",
          "Disaster Base<br>URL: https://disaster-base.wikibase.cloud<br>Host: Wikibase Cloud<br>Version: 1.39.7<br>Start Date: 2024-07-22 00:00:00+00:00<br>Active Users: 0<br>Users: 2<br>Properties: 115<br>Edits: 222<br>Pages: 180",
          "catalog-dev<br>URL: https://catalog-dev.digital-scriptorium.org<br>Host: Wikibase Cloud<br>Version: 1.39.7<br>Start Date: 2022-12-21 00:00:00+00:00<br>Active Users: 0<br>Users: 2<br>Properties: 47<br>Edits: 1758<br>Pages: 1731",
          "Ex Musica<br>URL: https://exmusica.wikibase.cloud<br>Host: Wikibase Cloud<br>Version: 1.39.7<br>Start Date: 2023-01-13 00:00:00+00:00<br>Active Users: 1<br>Users: 2<br>Properties: 11<br>Edits: 104<br>Pages: 21",
          "Lotico<br>URL: https://lotico.wikibase.cloud<br>Host: Wikibase Cloud<br>Version: 1.39.7<br>Start Date: 2023-12-25 00:00:00+00:00<br>Active Users: 0<br>Users: 2<br>Properties: 5<br>Edits: 41<br>Pages: 14",
          "BIB18<br>URL: https://bib18.wikibase.cloud<br>Host: Wikibase Cloud<br>Version: 1.39.7<br>Start Date: 2024-09-02 00:00:00+00:00<br>Active Users: 0<br>Users: 2<br>Properties: 77<br>Edits: 799<br>Pages: 299",
          "test wiki<br>URL: https://test-wiki.wikibase.cloud<br>Host: Wikibase Cloud<br>Version: 1.39.7<br>Start Date: 2024-06-01 00:00:00+00:00<br>Active Users: 0<br>Users: 2<br>Properties: 5<br>Edits: 12<br>Pages: 6",
          "Mapping DH<br>URL: https://mapping-dh.wikibase.cloud<br>Host: Wikibase Cloud<br>Version: 1.39.7<br>Start Date: 2024-08-09 00:00:00+00:00<br>Active Users: 1<br>Users: 3<br>Properties: 121<br>Edits: 11271<br>Pages: 2146",
          "Binbir Done<br>URL: https://binbirdone.wikibase.cloud<br>Host: Wikibase Cloud<br>Version: 1.39.7<br>Start Date: 2024-06-01 00:00:00+00:00<br>Active Users: 1<br>Users: 2<br>Properties: 132<br>Edits: 4647<br>Pages: 726",
          "Citable SPARQL queries<br>URL: https://sparql-queries-20211030.wikibase.cloud<br>Host: Wikibase Cloud<br>Version: 1.39.7<br>Start Date: 2021-10-30 00:00:00+00:00<br>Active Users: 0<br>Users: 3<br>Properties: 10<br>Edits: 38<br>Pages: 12",
          "Glossario di biblioteconomia<br>URL: https://glossbib.wikibase.cloud<br>Host: Wikibase Cloud<br>Version: 1.39.7<br>Start Date: 2023-04-18 00:00:00+00:00<br>Active Users: 0<br>Users: 6<br>Properties: 144<br>Edits: 3464<br>Pages: 622",
          "corpeus<br>URL: https://corpeus.wikibase.cloud<br>Host: Wikibase Cloud<br>Version: 1.39.7<br>Start Date: 2023-07-20 00:00:00+00:00<br>Active Users: 0<br>Users: 2<br>Properties: 5<br>Edits: 13<br>Pages: 7",
          "Curationist Vocabulary<br>URL: https://curationist.wikibase.cloud<br>Host: Wikibase Cloud<br>Version: 1.39.7<br>Start Date: 2024-08-14 00:00:00+00:00<br>Active Users: 0<br>Users: 2<br>Properties: 5<br>Edits: 35<br>Pages: 11",
          "Hypotheseis<br>URL: https://hypotheseis.wikibase.cloud<br>Host: Wikibase Cloud<br>Version: 1.39.7<br>Start Date: 2024-03-27 00:00:00+00:00<br>Active Users: 1<br>Users: 5<br>Properties: 47<br>Edits: 11308<br>Pages: 1745",
          "Ozrens<br>URL: https://wiki.ozrens.com<br>Host: Wikibase Cloud<br>Version: 1.39.7<br>Start Date: 2024-07-01 00:00:00+00:00<br>Active Users: 0<br>Users: 2<br>Properties: 14<br>Edits: 34<br>Pages: 23",
          "gj-23things-data-place<br>URL: https://gj-23things-data-place.wikibase.cloud<br>Host: Wikibase Cloud<br>Version: 1.39.7<br>Start Date: 2023-09-15 00:00:00+00:00<br>Active Users: 0<br>Users: 2<br>Properties: 3<br>Edits: 12<br>Pages: 6",
          "Bradford Collections<br>URL: https://bradford-collections.wikibase.cloud<br>Host: Wikibase Cloud<br>Version: 1.39.7<br>Start Date: 2024-01-30 00:00:00+00:00<br>Active Users: 0<br>Users: 5<br>Properties: 16<br>Edits: 501<br>Pages: 45",
          "MLIS Course Catalogs<br>URL: https://mliscoursecatalogs.wikibase.cloud<br>Host: Wikibase Cloud<br>Version: 1.39.7<br>Start Date: 2024-03-27 00:00:00+00:00<br>Active Users: 0<br>Users: 2<br>Properties: 14<br>Edits: 1145<br>Pages: 195",
          "Monumenta Linguae Vasconum<br>URL: https://monumenta.wikibase.cloud/<br>Host: Wikibase Cloud<br>Version: 1.39.7<br>Start Date: 2023-07-22 00:00:00+00:00<br>Active Users: 1<br>Users: 4<br>Properties: 176<br>Edits: 107225<br>Pages: 88321",
          "OpenAcolit<br>URL: https://openacolit.wikibase.cloud<br>Host: Wikibase Cloud<br>Version: 1.39.7<br>Start Date: 2023-06-28 00:00:00+00:00<br>Active Users: 2<br>Users: 32<br>Properties: 15<br>Edits: 5374<br>Pages: 1289",
          "SCC<br>URL: https://congration.wikibase.cloud<br>Host: Wikibase Cloud<br>Version: 1.39.7<br>Start Date: 2024-06-14 00:00:00+00:00<br>Active Users: 2<br>Users: 2<br>Properties: 37<br>Edits: 275<br>Pages: 115",
          "NemesiEmigráció<br>URL: https://nobleemigration.wikibase.cloud<br>Host: Wikibase Cloud<br>Version: 1.39.7<br>Start Date: 2024-02-20 00:00:00+00:00<br>Active Users: 0<br>Users: 2<br>Properties: 152<br>Edits: 994<br>Pages: 224",
          "Wikidata for Digital Preservation<br>URL: https://wikidp.wikibase.cloud/<br>Host: Wikibase Cloud<br>Version: 1.39.7<br>Start Date: 2020-03-17 00:00:00+00:00<br>Active Users: 1<br>Users: 35585<br>Properties: 77<br>Edits: 151280<br>Pages: 104925",
          "d'Aïeux et d'Ailleurs<br>URL: https://daieuxetdailleurs.wikibase.cloud<br>Host: Wikibase Cloud<br>Version: 1.39.7<br>Start Date: 2022-09-16 00:00:00+00:00<br>Active Users: 0<br>Users: 2<br>Properties: 62<br>Edits: 8950<br>Pages: 1138",
          "Internet Domains Wikibase<br>URL: https://domains.wikibase.cloud<br>Host: Wikibase Cloud<br>Version: 1.39.7<br>Start Date: 2023-05-07 00:00:00+00:00<br>Active Users: 1<br>Users: 13<br>Properties: 34<br>Edits: 831168<br>Pages: 311049",
          "Metabase<br>URL: https://metabase.wikibase.cloud<br>Host: Wikibase Cloud<br>Version: 1.39.7<br>Start Date: 2022-10-13 00:00:00+00:00<br>Active Users: 6<br>Users: 36<br>Properties: 86<br>Edits: 39552<br>Pages: 3657",
          "LGBTdb<br>URL: https://lgbtdb.wikibase.cloud/<br>Host: Wikibase Cloud<br>Version: 1.39.7<br>Start Date: 2023-03-06 00:00:00+00:00<br>Active Users: 1<br>Users: 4<br>Properties: 834<br>Edits: 182695<br>Pages: 34036",
          "Privacy Wiki<br>URL: https://privacy.wikibase.cloud<br>Host: Wikibase Cloud<br>Version: 1.39.7<br>Start Date: 2024-09-13 00:00:00+00:00<br>Active Users: 0<br>Users: 2<br>Properties: 7<br>Edits: 17<br>Pages: 12",
          "Swedish Museum<br>URL: https://swedishmuseum.wikibase.cloud<br>Host: Wikibase Cloud<br>Version: 1.39.7<br>Start Date: 2019-11-18 00:00:00+00:00<br>Active Users: 0<br>Users: 137<br>Properties: 19<br>Edits: 733<br>Pages: 52",
          "John Samuel<br>URL: https://jsamwrites.wikibase.cloud<br>Host: Wikibase Cloud<br>Version: 1.39.7<br>Start Date: 2023-02-12 00:00:00+00:00<br>Active Users: 2<br>Users: 2<br>Properties: 36<br>Edits: 5245<br>Pages: 1416",
          "Hi Knowledge<br>URL: https://hiktest.bootsa.net<br>Host: Wikibase Cloud<br>Version: 1.39.7<br>Start Date: 2024-02-07 00:00:00+00:00<br>Active Users: 0<br>Users: 3<br>Properties: 7<br>Edits: 71<br>Pages: 40",
          "RIWATCH MUSEUM<br>URL: https://riwatchmuseum.wikibase.cloud<br>Host: Wikibase Cloud<br>Version: 1.39.7<br>Start Date: 2023-07-14 00:00:00+00:00<br>Active Users: 0<br>Users: 3<br>Properties: 11<br>Edits: 538<br>Pages: 159",
          "Publication Abbreviations<br>URL: https://abbreviations.wikibase.cloud<br>Host: Wikibase Cloud<br>Version: 1.39.7<br>Start Date: 2023-03-10 00:00:00+00:00<br>Active Users: 0<br>Users: 4<br>Properties: 21<br>Edits: 8884<br>Pages: 1172",
          "Enote-Playground<br>URL: https://enote-playground.wikibase.cloud<br>Host: Wikibase Cloud<br>Version: 1.39.7<br>Start Date: 2023-01-27 00:00:00+00:00<br>Active Users: 0<br>Users: 9<br>Properties: 60<br>Edits: 640<br>Pages: 164",
          "Ppuidev<br>URL: https://pbuidev.wikibase.cloud<br>Host: Wikibase Cloud<br>Version: 1.39.7<br>Start Date: 2023-01-16 00:00:00+00:00<br>Active Users: 0<br>Users: 5<br>Properties: 872<br>Edits: 77671<br>Pages: 51615",
          "Berkeley Law<br>URL: https://berkeleylaw.wikibase.cloud<br>Host: Wikibase Cloud<br>Version: 1.39.7<br>Start Date: 2022-11-02 00:00:00+00:00<br>Active Users: 0<br>Users: 3<br>Properties: 29<br>Edits: 58<br>Pages: 34",
          "Bodhitestwiki<br>URL: https://bodhitestwiki.wikibase.cloud<br>Host: Wikibase Cloud<br>Version: 1.39.7<br>Start Date: 2023-03-24 00:00:00+00:00<br>Active Users: 0<br>Users: 2<br>Properties: 12<br>Edits: 51<br>Pages: 19",
          "mythogram<br>URL: https://mythogram.wikibase.cloud<br>Host: Wikibase Cloud<br>Version: 1.39.7<br>Start Date: 2024-05-02 00:00:00+00:00<br>Active Users: 0<br>Users: 2<br>Properties: 25<br>Edits: 281970<br>Pages: 15684",
          "Qichwabase<br>URL: https://qichwa.wikibase.cloud/<br>Host: Wikibase Cloud<br>Version: 1.39.7<br>Start Date: 2022-05-30 00:00:00+00:00<br>Active Users: 0<br>Users: 16<br>Properties: 40<br>Edits: 81170<br>Pages: 27572",
          "essencialistas<br>URL: https://essencialistas.wikibase.cloud<br>Host: Wikibase Cloud<br>Version: 1.39.7<br>Start Date: 2024-02-07 00:00:00+00:00<br>Active Users: 0<br>Users: 3<br>Properties: 5<br>Edits: 39<br>Pages: 22",
          "WikiFashion<br>URL: https://wikifashion.wikibase.cloud<br>Host: Wikibase Cloud<br>Version: 1.39.7<br>Start Date: 2024-09-16 00:00:00+00:00<br>Active Users: 2<br>Users: 2<br>Properties: 39<br>Edits: 8677<br>Pages: 2387",
          "vtul<br>URL: https://vtul-metadataservices.wikibase.cloud<br>Host: Wikibase Cloud<br>Version: 1.39.7<br>Start Date: 2023-02-13 00:00:00+00:00<br>Active Users: 0<br>Users: 9<br>Properties: 63<br>Edits: 486<br>Pages: 161",
          "elit<br>URL: https://e-lit.wikibase.cloud<br>Host: Wikibase Cloud<br>Version: 1.39.7<br>Start Date: 2024-02-10 00:00:00+00:00<br>Active Users: 1<br>Users: 2<br>Properties: 4<br>Edits: 15<br>Pages: 8",
          "R74n Wikibase<br>URL: https://data.r74n.com/<br>Host: Wikibase Cloud<br>Version: 1.39.7<br>Start Date: 2022-11-17 00:00:00+00:00<br>Active Users: 1<br>Users: 141<br>Properties: 236<br>Edits: 19776<br>Pages: 3589",
          "CLB-LOD Wikibase<br>URL: https://clb-lod.wikibase.cloud<br>Host: Wikibase Cloud<br>Version: 1.39.7<br>Start Date: 2022-08-26 00:00:00+00:00<br>Active Users: 0<br>Users: 3<br>Properties: 88<br>Edits: 9564<br>Pages: 7618",
          "NFDI4Culture Data Enrichment<br>URL: https://enrich-nfdi4culture.wikibase.cloud<br>Host: Wikibase Cloud<br>Version: 1.39.7<br>Start Date: 2021-06-17 00:00:00+00:00<br>Active Users: 0<br>Users: 8<br>Properties: 83<br>Edits: 6703<br>Pages: 771",
          "Agua Archiv<br>URL: https://agua-archiv.wikibase.cloud<br>Host: Wikibase Cloud<br>Version: 1.39.7<br>Start Date: 2024-06-28 00:00:00+00:00<br>Active Users: 0<br>Users: 2<br>Properties: 13<br>Edits: 39<br>Pages: 23",
          "Open Miscellaneous Wikibase<br>URL: https://other.wikibase.cloud<br>Host: Wikibase Cloud<br>Version: 1.39.7<br>Start Date: 2023-01-13 00:00:00+00:00<br>Active Users: 1<br>Users: 4<br>Properties: 8<br>Edits: 162<br>Pages: 32",
          "Pets I Have Owned<br>URL: https://petsihaveowned.wikibase.cloud<br>Host: Wikibase Cloud<br>Version: 1.39.7<br>Start Date: 2024-04-17 00:00:00+00:00<br>Active Users: 0<br>Users: 2<br>Properties: 2<br>Edits: 6<br>Pages: 5",
          "GWMAB Edu Wikibase<br>URL: https://gwmab-edu.wikibase.cloud<br>Host: Wikibase Cloud<br>Version: 1.39.7<br>Start Date: 2023-10-09 00:00:00+00:00<br>Active Users: 0<br>Users: 7<br>Properties: 10<br>Edits: 112<br>Pages: 33",
          "Biomarker Linked Data<br>URL: https://biomarker.wikibase.cloud<br>Host: Wikibase Cloud<br>Version: 1.39.7<br>Start Date: 2020-04-17 00:00:00+00:00<br>Active Users: 0<br>Users: 5<br>Properties: 42<br>Edits: 269<br>Pages: 68",
          "ZiF sandbox<br>URL: https://zif-sandbox.wikibase.cloud<br>Host: Wikibase Cloud<br>Version: 1.39.7<br>Start Date: 2024-09-10 00:00:00+00:00<br>Active Users: 0<br>Users: 3<br>Properties: 13<br>Edits: 225<br>Pages: 63",
          "Numisgnosis<br>URL: https://numisgnosis.wikibase.cloud<br>Host: Wikibase Cloud<br>Version: 1.39.7<br>Start Date: 2024-03-26 00:00:00+00:00<br>Active Users: 0<br>Users: 2<br>Properties: 38<br>Edits: 473<br>Pages: 141",
          "cocreate cologne alpha<br>URL: https://cocreate-cologne.wikibase.cloud<br>Host: Wikibase Cloud<br>Version: 1.39.7<br>Start Date: 2020-05-31 00:00:00+00:00<br>Active Users: 1<br>Users: 8<br>Properties: 81<br>Edits: 10052<br>Pages: 2940",
          "Zine Catalog<br>URL: https://zine-catalog.wikibase.cloud<br>Host: Wikibase Cloud<br>Version: 1.39.7<br>Start Date: 2023-07-11 00:00:00+00:00<br>Active Users: 0<br>Users: 2<br>Properties: 6<br>Edits: 26<br>Pages: 11",
          "My Community Archives<br>URL: https://mycommunity.wikibase.cloud<br>Host: Wikibase Cloud<br>Version: 1.39.7<br>Start Date: 2023-08-14 00:00:00+00:00<br>Active Users: 1<br>Users: 3<br>Properties: 26<br>Edits: 3313<br>Pages: 1018",
          "NAF Test<br>URL: https://naf-test.wikibase.cloud<br>Host: Wikibase Cloud<br>Version: 1.39.7<br>Start Date: 2023-01-10 00:00:00+00:00<br>Active Users: 0<br>Users: 19<br>Properties: 3035<br>Edits: 3986<br>Pages: 3195",
          "Bradford Collections Test<br>URL: https://bradford-collections-test.wikibase.cloud<br>Host: Wikibase Cloud<br>Version: 1.39.7<br>Start Date: 2024-07-09 00:00:00+00:00<br>Active Users: 1<br>Users: 3<br>Properties: 12<br>Edits: 65<br>Pages: 16",
          "TDKIV<br>URL: https://tdkiv.wikibase.cloud<br>Host: Wikibase Cloud<br>Version: 1.39.7<br>Start Date: 2024-03-27 00:00:00+00:00<br>Active Users: 1<br>Users: 4<br>Properties: 28<br>Edits: 80529<br>Pages: 4997",
          "Congruence Engine Data Register<br>URL: https://congruence-engine.wikibase.cloud<br>Host: Wikibase Cloud<br>Version: 1.39.7<br>Start Date: 2024-07-30 00:00:00+00:00<br>Active Users: 3<br>Users: 11<br>Properties: 10<br>Edits: 317<br>Pages: 39",
          "LibMovIt Project<br>URL: https://libmovit.wikibase.cloud<br>Host: Wikibase Cloud<br>Version: 1.39.7<br>Start Date: 2024-01-22 00:00:00+00:00<br>Active Users: 2<br>Users: 43<br>Properties: 75<br>Edits: 26305<br>Pages: 2151",
          "Whakapapa Test<br>URL: https://whakapapa.wikibase.cloud<br>Host: Wikibase Cloud<br>Version: 1.39.7<br>Start Date: 2023-08-07 00:00:00+00:00<br>Active Users: 0<br>Users: 2<br>Properties: 4<br>Edits: 17<br>Pages: 7",
          "testing<br>URL: https://testingwiki.wikibase.cloud<br>Host: Wikibase Cloud<br>Version: 1.39.7<br>Start Date: 2024-02-20 00:00:00+00:00<br>Active Users: 1<br>Users: 4<br>Properties: 25<br>Edits: 230<br>Pages: 54",
          "OHOS Community Wikibase<br>URL: https://ohos-community.wikibase.cloud<br>Host: Wikibase Cloud<br>Version: 1.39.7<br>Start Date: 2023-12-11 00:00:00+00:00<br>Active Users: 1<br>Users: 2<br>Properties: 9<br>Edits: 42238<br>Pages: 12623",
          "Protist-Prokaryote Symbiosis Database<br>URL: https://ppsdb.wikibase.cloud<br>Host: Wikibase Cloud<br>Version: 1.39.7<br>Start Date: 2024-03-15 00:00:00+00:00<br>Active Users: 1<br>Users: 2<br>Properties: 43<br>Edits: 17520<br>Pages: 2432",
          "Trésor des Délibérations Municipales de la Lorraine<br>URL: https://tredemulor.wikibase.cloud<br>Host: Wikibase Cloud<br>Version: 1.39.7<br>Start Date: 2024-05-17 00:00:00+00:00<br>Active Users: 0<br>Users: 2<br>Properties: 15<br>Edits: 173<br>Pages: 57",
          "Mackenzie Wikibase Test<br>URL: https://test-mackenzie-dev.wikibase.cloud<br>Host: Wikibase Cloud<br>Version: 1.39.7<br>Start Date: 2023-11-06 00:00:00+00:00<br>Active Users: 0<br>Users: 3<br>Properties: 49<br>Edits: 256<br>Pages: 78",
          "Berkeley Law IR<br>URL: https://berkeleylawir.wikibase.cloud<br>Host: Wikibase Cloud<br>Version: 1.39.7<br>Start Date: 2023-12-22 00:00:00+00:00<br>Active Users: 0<br>Users: 2<br>Properties: 31<br>Edits: 224<br>Pages: 79",
          "Kurdî Wikibase<br>URL: https://kurdi.wikibase.cloud/<br>Host: Wikibase Cloud<br>Version: 1.39.7<br>Start Date: 2023-01-09 00:00:00+00:00<br>Active Users: 1<br>Users: 4<br>Properties: 17<br>Edits: 26046<br>Pages: 21069",
          "CNB works<br>URL: https://cnb-works.wikibase.cloud<br>Host: Wikibase Cloud<br>Version: 1.39.7<br>Start Date: 2023-02-06 00:00:00+00:00<br>Active Users: 1<br>Users: 3<br>Properties: 31<br>Edits: 110<br>Pages: 34",
          "CODECS Wikibase<br>URL: https://codecs.wikibase.cloud<br>Host: Wikibase Cloud<br>Version: 1.39.7<br>Start Date: 2024-07-06 00:00:00+00:00<br>Active Users: 1<br>Users: 3<br>Properties: 101<br>Edits: 9835<br>Pages: 5159",
          "The Italian Underground press knowledge base<br>URL: https://itunderpress.wikibase.cloud<br>Host: Wikibase Cloud<br>Version: 1.39.7<br>Start Date: 2022-09-07 00:00:00+00:00<br>Active Users: 1<br>Users: 3<br>Properties: 23<br>Edits: 250<br>Pages: 69",
          "UniDive WG2-T2.2<br>URL: https://unidive.wikibase.cloud<br>Host: Wikibase Cloud<br>Version: 1.39.7<br>Start Date: 2024-07-03 00:00:00+00:00<br>Active Users: 1<br>Users: 3<br>Properties: 9<br>Edits: 8778<br>Pages: 4390",
          "Enlightened Medialities<br>URL: https://enlightenedmedialities.wikibase.cloud<br>Host: Wikibase Cloud<br>Version: 1.39.7<br>Start Date: 2020-05-19 00:00:00+00:00<br>Active Users: 1<br>Users: 5<br>Properties: 66<br>Edits: 80184<br>Pages: 2881",
          "MAD Landscape Collective<br>URL: https://mad-landscape-collective.wikibase.cloud<br>Host: Wikibase Cloud<br>Version: 1.39.7<br>Start Date: 2024-06-21 00:00:00+00:00<br>Active Users: 0<br>Users: 2<br>Properties: 5<br>Edits: 16<br>Pages: 6",
          "importer<br>URL: https://importer.wikibase.cloud<br>Host: Wikibase Cloud<br>Version: 1.39.7<br>Start Date: 2023-03-07 00:00:00+00:00<br>Active Users: 0<br>Users: 4<br>Properties: 693<br>Edits: 2499<br>Pages: 2342",
          "Hyperstage<br>URL: https://hyperstage.wikibase.cloud<br>Host: Wikibase Cloud<br>Version: 1.39.7<br>Start Date: 2023-11-24 00:00:00+00:00<br>Active Users: 3<br>Users: 6<br>Properties: 110<br>Edits: 10946<br>Pages: 1403",
          "Open Data Kerala Wikibase<br>URL: https://opendatakerala.wikibase.cloud/<br>Host: Wikibase Cloud<br>Version: 1.39.7<br>Start Date: 2023-09-25 00:00:00+00:00<br>Active Users: 1<br>Users: 4<br>Properties: 35<br>Edits: 46873<br>Pages: 23191",
          "Local Food Data<br>URL: https://wikibase.locavorefoods.info<br>Host: Wikibase Cloud<br>Version: 1.39.7<br>Start Date: 2023-12-17 00:00:00+00:00<br>Active Users: 0<br>Users: 3<br>Properties: 42<br>Edits: 100<br>Pages: 48",
          "ASCLTestWikibase<br>URL: https://ascltestwikibase.wikibase.cloud<br>Host: Wikibase Cloud<br>Version: 1.39.7<br>Start Date: 2022-09-09 00:00:00+00:00<br>Active Users: 0<br>Users: 3<br>Properties: 33<br>Edits: 363<br>Pages: 53",
          "Prosop Wiki<br>URL: https://prosop-wiki.wikibase.cloud<br>Host: Wikibase Cloud<br>Version: 1.39.7<br>Start Date: 2022-10-13 00:00:00+00:00<br>Active Users: 0<br>Users: 2<br>Properties: 7<br>Edits: 49<br>Pages: 9",
          "Dominio Público<br>URL: https://dominiopublico.wikibase.cloud<br>Host: Wikibase Cloud<br>Version: 1.39.7<br>Start Date: 2024-09-26 00:00:00+00:00<br>Active Users: 1<br>Users: 2<br>Properties: 4<br>Edits: 140<br>Pages: 45",
          "Fuzzy Spatial Locations<br>URL: https://fuzzy-sl.wikibase.cloud<br>Host: Wikibase Cloud<br>Version: 1.39.7<br>Start Date: 2023-07-27 00:00:00+00:00<br>Active Users: 1<br>Users: 2<br>Properties: 34<br>Edits: 677<br>Pages: 157",
          "WikiFashion<br>URL: https://fashionwiki.wikibase.cloud<br>Host: Wikibase Cloud<br>Version: 1.39.7<br>Start Date: 2024-11-04 00:00:00+00:00<br>Active Users: 2<br>Users: 2<br>Properties: 30<br>Edits: 79819<br>Pages: 5041",
          "NFDI4Objects Task Area 4 Dev-Instance<br>URL: https://n4o-ta4-dev.wikibase.cloud<br>Host: Wikibase Cloud<br>Version: 1.39.7<br>Start Date: 2024-04-17 00:00:00+00:00<br>Active Users: 1<br>Users: 3<br>Properties: 28<br>Edits: 119<br>Pages: 53",
          "tp-lod<br>URL: https://tp-lod.wikibase.cloud<br>Host: Wikibase Cloud<br>Version: 1.39.7<br>Start Date: 2024-10-17 00:00:00+00:00<br>Active Users: 2<br>Users: 4<br>Properties: 142<br>Edits: 267<br>Pages: 255",
          "CZECHFRAME<br>URL: https://czechframe.wikibase.cloud<br>Host: Wikibase Cloud<br>Version: 1.39.7<br>Start Date: 2024-10-09 00:00:00+00:00<br>Active Users: 4<br>Users: 18<br>Properties: 46<br>Edits: 952<br>Pages: 149",
          "Zero Waste Cities<br>URL: https://zerowastecities.wikibase.cloud<br>Host: Wikibase Cloud<br>Version: 1.39.7<br>Start Date: 2021-11-08 00:00:00+00:00<br>Active Users: 1<br>Users: 4<br>Properties: 98<br>Edits: 6926<br>Pages: 1731",
          "Chinese Educated Abroad<br>URL: https://mobility.wikibase.cloud<br>Host: Wikibase Cloud<br>Version: 1.39.7<br>Start Date: 2024-12-01 00:00:00+00:00<br>Active Users: 2<br>Users: 2<br>Properties: 28<br>Edits: 218<br>Pages: 70",
          "EH izendegi<br>URL: https://izendegi.wikibase.cloud<br>Host: Wikibase Cloud<br>Version: 1.39.7<br>Start Date: 2024-11-24 00:00:00+00:00<br>Active Users: 2<br>Users: 2<br>Properties: 13<br>Edits: 2017<br>Pages: 1109",
          "CEUR-dev<br>URL: https://ceur-dev.wikibase.cloud<br>Host: Wikibase Cloud<br>Version: 1.39.7<br>Start Date: 2024-12-05 00:00:00+00:00<br>Active Users: 2<br>Users: 2<br>Properties: 88<br>Edits: 14366<br>Pages: 10386",
          "WikibaseMigrationTest<br>URL: https://wbmigration-test.wikibase.cloud<br>Host: Wikibase Cloud<br>Version: 1.39.7<br>Start Date: 2024-11-10 00:00:00+00:00<br>Active Users: 3<br>Users: 3<br>Properties: 293<br>Edits: 1602<br>Pages: 1223",
          "Wikibase Implementation of Records in Contexts<br>URL: https://recordsincontexts.wikibase.cloud<br>Host: Wikibase Cloud<br>Version: 1.39.7<br>Start Date: 2024-09-07 00:00:00+00:00<br>Active Users: 1<br>Users: 3<br>Properties: 202<br>Edits: 14870<br>Pages: 1378",
          "Training_IWIPALE<br>URL: https://training-iwipale.wikibase.cloud<br>Host: Wikibase Cloud<br>Version: 1.39.7<br>Start Date: 2024-11-11 00:00:00+00:00<br>Active Users: 7<br>Users: 13<br>Properties: 13<br>Edits: 32<br>Pages: 23",
          "Multiverses Wiki<br>URL: https://multiverses.wikibase.cloud<br>Host: Wikibase Cloud<br>Version: 1.39.7<br>Start Date: 2024-12-15 00:00:00+00:00<br>Active Users: 2<br>Users: 2<br>Properties: 42<br>Edits: 1229<br>Pages: 376",
          "lhenguabase<br>URL: https://lhenguabase.wikibase.cloud<br>Host: Wikibase Cloud<br>Version: 1.39.7<br>Start Date: 2024-12-10 00:00:00+00:00<br>Active Users: 4<br>Users: 20<br>Properties: 19<br>Edits: 1942<br>Pages: 1609",
          "CLS Infra Character Model<br>URL: https://cls-infra-character-model.wikibase.cloud<br>Host: Wikibase Cloud<br>Version: 1.39.7<br>Start Date: 2024-11-14 00:00:00+00:00<br>Active Users: 2<br>Users: 2<br>Properties: 5<br>Edits: 194<br>Pages: 39",
          "Conlang Base<br>URL: https://conlang.wikibase.cloud<br>Host: Wikibase Cloud<br>Version: 1.39.7<br>Start Date: 2024-12-31 00:00:00+00:00<br>Active Users: 2<br>Users: 2<br>Properties: 12<br>Edits: 49<br>Pages: 17",
          "Vrienden Fort Breendonk<br>URL: https://fortbreendonk.wikibase.cloud<br>Host: Wikibase Cloud<br>Version: 1.39.7<br>Start Date: 2025-01-06 00:00:00+00:00<br>Active Users: 2<br>Users: 2<br>Properties: 24<br>Edits: 44674<br>Pages: 4517",
          "Ugly Architecture<br>URL: https://uglyarchitecture.wikibase.cloud<br>Host: Wikibase Cloud<br>Version: 1.39.7<br>Start Date: 2024-02-05 00:00:00+00:00<br>Active Users: 0<br>Users: 2<br>Properties: 29<br>Edits: 544<br>Pages: 71",
          "Geolocations<br>URL: https://locations.wikibase.cloud<br>Host: Wikibase Cloud<br>Version: 1.39.7<br>Start Date: 2024-06-13 00:00:00+00:00<br>Active Users: 0<br>Users: 2<br>Properties: 11<br>Edits: 141<br>Pages: 28",
          "Wikibase World<br>URL: https://wikibase.world<br>Host: Wikibase Cloud<br>Version: 1.39.7<br>Start Date: 2023-06-05 00:00:00+00:00<br>Active Users: 1<br>Users: 561<br>Properties: 57<br>Edits: 18354<br>Pages: 1200",
          "MNDb<br>URL: https://mndb.lophocmatngu.wiki<br>Host: Wikibase Cloud<br>Version: 1.39.7<br>Start Date: 2023-12-15 00:00:00+00:00<br>Active Users: 0<br>Users: 2<br>Properties: 14<br>Edits: 118<br>Pages: 46",
          "abcDNK.hr<br>URL: https://abcdnk.wikibase.cloud<br>Host: Wikibase Cloud<br>Version: 1.39.7<br>Start Date: 2023-05-30 00:00:00+00:00<br>Active Users: 1<br>Users: 5<br>Properties: 85<br>Edits: 1490<br>Pages: 391",
          "Beyond Notability: Re-evaluating Women's Work in Archaeology, History and Heritage, 1870 – 1950<br>URL: https://beyond-notability.wikibase.cloud<br>Host: Wikibase Cloud<br>Version: 1.39.7<br>Start Date: 2021-09-08 00:00:00+00:00<br>Active Users: 2<br>Users: 17<br>Properties: 160<br>Edits: 69782<br>Pages: 4932",
          "Biodiversity<br>URL: https://biodiversity.wikibase.cloud<br>Host: Wikibase Cloud<br>Version: 1.39.7<br>Start Date: 2019-11-26 00:00:00+00:00<br>Active Users: 1<br>Users: 16<br>Properties: 14<br>Edits: 611772<br>Pages: 578984",
          "Virus Taxonomy<br>URL: https://virus-taxonomy.wikibase.cloud<br>Host: Wikibase Cloud<br>Version: 1.39.7<br>Start Date: 2020-04-06 00:00:00+00:00<br>Active Users: 0<br>Users: 8<br>Properties: 10<br>Edits: 20396<br>Pages: 6940",
          "Enslaved People Of Arlington, Virginia<br>URL: https://enslaved-arlington.wikibase.cloud<br>Host: Wikibase Cloud<br>Version: 1.39.7<br>Start Date: 2023-09-13 00:00:00+00:00<br>Active Users: 0<br>Users: 2<br>Properties: 22<br>Edits: 71<br>Pages: 32",
          "Maths-22<br>URL: https://maths-22.wikibase.cloud<br>Host: Wikibase Cloud<br>Version: 1.39.7<br>Start Date: 2022-11-17 00:00:00+00:00<br>Active Users: 0<br>Users: 3<br>Properties: 40<br>Edits: 238<br>Pages: 99",
          "WikiFur Data<br>URL: https://furry.wikibase.cloud<br>Host: Wikibase Cloud<br>Version: 1.39.7<br>Start Date: 2021-03-23 00:00:00+00:00<br>Active Users: 1<br>Users: 4715<br>Properties: 21<br>Edits: 1728<br>Pages: 67",
          "Addshore Alpha<br>URL: https://addshore-alpha.wikibase.cloud<br>Host: Wikibase Cloud<br>Version: 1.39.7<br>Start Date: 2019-10-28 00:00:00+00:00<br>Active Users: 0<br>Users: 17<br>Properties: 17<br>Edits: 510<br>Pages: 108",
          "Doelgericht Digitaal Transformeren<br>URL: https://osloddt.wikibase.cloud<br>Host: Wikibase Cloud<br>Version: 1.39.7<br>Start Date: 2022-03-08 00:00:00+00:00<br>Active Users: 0<br>Users: 5<br>Properties: 57<br>Edits: 10876042<br>Pages: 880923",
          "Geoscience Knowledgebase<br>URL: https://geokb.wikibase.cloud/<br>Host: Wikibase Cloud<br>Version: 1.39.7<br>Start Date: 2023-02-27 00:00:00+00:00<br>Active Users: 1<br>Users: 8<br>Properties: 202<br>Edits: 1463224<br>Pages: 454249",
          "Dancing Digital<br>URL: https://dancing-digital.wikibase.cloud<br>Host: Wikibase Cloud<br>Version: 1.39.7<br>Start Date: 2022-09-06 00:00:00+00:00<br>Active Users: 0<br>Users: 4<br>Properties: 140<br>Edits: 439323<br>Pages: 60082",
          "Lord Chamberlain's Plays Index<br>URL: https://lcpindex.wikibase.cloud/<br>Host: Wikibase Cloud<br>Version: 1.39.7<br>Start Date: 2022-09-07 00:00:00+00:00<br>Active Users: 0<br>Users: 6<br>Properties: 12<br>Edits: 40568<br>Pages: 39390",
          "SHARE Catalogue mapping knowledge base<br>URL: https://unimarc2bibframe.wikibase.cloud/<br>Host: Wikibase Cloud<br>Version: 1.39.7<br>Start Date: 2023-11-08 00:00:00+00:00<br>Active Users: 2<br>Users: 9<br>Properties: 14<br>Edits: 18032<br>Pages: 2826",
          "LostDiscs<br>URL: https://lostdiscs.wikibase.cloud/<br>Host: Wikibase Cloud<br>Version: 1.39.7<br>Start Date: 2024-09-14 00:00:00+00:00<br>Active Users: 0<br>Users: 2<br>Properties: 8<br>Edits: 443<br>Pages: 117",
          "FrameNet Akkadian 267<br>URL: https://framenet-akkadian267.wikibase.cloud<br>Host: Wikibase Cloud<br>Version: 1.39.7<br>Start Date: 2024-05-14 00:00:00+00:00<br>Active Users: 2<br>Users: 2<br>Properties: 41<br>Edits: 140026<br>Pages: 104347",
          "pbsandbox<br>URL: https://pbsandbox.wikibase.cloud<br>Host: Wikibase Cloud<br>Version: 1.39.7<br>Start Date: 2022-09-08 00:00:00+00:00<br>Active Users: 0<br>Users: 10<br>Properties: 795<br>Edits: 26132<br>Pages: 25992",
          "Podiumdocumentatie Vlaams Theaterinstituut<br>URL: https://vlaamstheaterinstituut.wikibase.cloud<br>Host: Wikibase Cloud<br>Version: 1.39.7<br>Start Date: 2024-05-14 00:00:00+00:00<br>Active Users: 1<br>Users: 2<br>Properties: 10<br>Edits: 1595435<br>Pages: 236659",
          "FrameNet Akkadian 257<br>URL: https://framenet-akkadian257.wikibase.cloud<br>Host: Wikibase Cloud<br>Version: 1.39.7<br>Start Date: 2024-03-26 00:00:00+00:00<br>Active Users: 1<br>Users: 2<br>Properties: 41<br>Edits: 277795<br>Pages: 186991",
          "FrameNet Akkadian 298<br>URL: https://framenet-akkadian298.wikibase.cloud<br>Host: Wikibase Cloud<br>Version: 1.39.7<br>Start Date: 2024-09-13 00:00:00+00:00<br>Active Users: 1<br>Users: 5<br>Properties: 64<br>Edits: 58051<br>Pages: 24317",
          "Teochew Dictionary<br>URL: https://tcdict.wikibase.cloud<br>Host: Wikibase Cloud<br>Version: 1.39.7<br>Start Date: 2024-04-11 00:00:00+00:00<br>Active Users: 1<br>Users: 2<br>Properties: 23<br>Edits: 135850<br>Pages: 24000",
          "FrameNet Akkadian<br>URL: https://framenet-akkadian.wikibase.cloud<br>Host: Wikibase Cloud<br>Version: 1.39.7<br>Start Date: 2024-01-06 00:00:00+00:00<br>Active Users: 3<br>Users: 6<br>Properties: 46<br>Edits: 93613<br>Pages: 13198",
          "abcdnkhr-dev<br>URL: https://abcdnkhr-dev.wikibase.cloud<br>Host: Wikibase Cloud<br>Version: 1.39.7<br>Start Date: 2024-02-13 00:00:00+00:00<br>Active Users: 0<br>Users: 2<br>Properties: 85<br>Edits: 25030<br>Pages: 12290",
          "abcdnk (on wikibase.cloud)<br>URL: https://abcdnkhr.wikibase.cloud<br>Host: Wikibase Cloud<br>Version: 1.39.7<br>Start Date: 2024-02-13 00:00:00+00:00<br>Active Users: 1<br>Users: 7<br>Properties: 85<br>Edits: 25272<br>Pages: 12302",
          "CC-BY Chemical Compounds<br>URL: https://chemcompounds.wikibase.cloud<br>Host: Wikibase Cloud<br>Version: 1.39.7<br>Start Date: 2020-01-27 00:00:00+00:00<br>Active Users: 0<br>Users: 5<br>Properties: 8834<br>Edits: 10256<br>Pages: 8834",
          "theses<br>URL: https://theses.wikibase.cloud<br>Host: Wikibase Cloud<br>Version: 1.39.7<br>Start Date: 2023-12-11 00:00:00+00:00<br>Active Users: 0<br>Users: 4<br>Properties: 6<br>Edits: 32719<br>Pages: 8206",
          "TP3-STTCL<br>URL: https://tp3-sttcl.wikibase.cloud<br>Host: Wikibase Cloud<br>Version: 1.39.7<br>Start Date: 2024-09-20 00:00:00+00:00<br>Active Users: 1<br>Users: 4<br>Properties: 24<br>Edits: 21111<br>Pages: 8058",
          "dis18<br>URL: https://dis18project.wikibase.cloud<br>Host: Wikibase Cloud<br>Version: 1.39.7<br>Start Date: 2024-06-08 00:00:00+00:00<br>Active Users: 0<br>Users: 2<br>Properties: 17<br>Edits: 9325<br>Pages: 7483",
          "မြန်မာ၌ဩစတြေးလျ<br>URL: https://mranma-ocatrelya.wikibase.cloud<br>Host: Wikibase Cloud<br>Version: 1.39.7<br>Start Date: 2024-05-31 00:00:00+00:00<br>Active Users: 0<br>Users: 2<br>Properties: 6460<br>Edits: 13146<br>Pages: 6547",
          "DigCav<br>URL: https://digcav.wikibase.cloud<br>Host: Wikibase Cloud<br>Version: 1.39.7<br>Start Date: 2021-01-17 00:00:00+00:00<br>Active Users: 0<br>Users: 3<br>Properties: 9<br>Edits: 23011<br>Pages: 5811",
          "Username1Password<br>URL: https://username1password.wikibase.cloud<br>Host: Wikibase Cloud<br>Version: 1.39.7<br>Start Date: 2024-05-30 00:00:00+00:00<br>Active Users: 0<br>Users: 2<br>Properties: 42<br>Edits: 5062<br>Pages: 5044",
          "Chemical Compounds of Interest<br>URL: https://compoundcloud.wikibase.cloud<br>Host: Wikibase Cloud<br>Version: 1.39.7<br>Start Date: 2022-11-05 00:00:00+00:00<br>Active Users: 1<br>Users: 4<br>Properties: 38<br>Edits: 6056<br>Pages: 5001",
          "Nouns Dev<br>URL: https://nounsdev.wikibase.cloud<br>Host: Wikibase Cloud<br>Version: 1.39.7<br>Start Date: 2023-05-08 00:00:00+00:00<br>Active Users: 0<br>Users: 3<br>Properties: 51<br>Edits: 12488<br>Pages: 4521",
          "Shira<br>URL: https://shira.wikibase.cloud<br>Host: Wikibase Cloud<br>Version: 1.39.7<br>Start Date: 2024-03-11 00:00:00+00:00<br>Active Users: 0<br>Users: 2<br>Properties: 134<br>Edits: 8105<br>Pages: 3340",
          "Akkadian Project 2<br>URL: https://akkadianproject2.wikibase.cloud<br>Host: Wikibase Cloud<br>Version: 1.39.7<br>Start Date: 2024-04-03 00:00:00+00:00<br>Active Users: 0<br>Users: 2<br>Properties: 41<br>Edits: 14720<br>Pages: 3017",
          "Bible Name Wiki<br>URL: https://biblenamewiki.wikibase.cloud<br>Host: Wikibase Cloud<br>Version: 1.39.7<br>Start Date: 2022-09-05 00:00:00+00:00<br>Active Users: 1<br>Users: 3<br>Properties: 10<br>Edits: 8093<br>Pages: 2946",
          "rematriation<br>URL: https://rematriation.wikibase.cloud<br>Host: Wikibase Cloud<br>Version: 1.39.7<br>Start Date: 2024-02-23 00:00:00+00:00<br>Active Users: 1<br>Users: 5<br>Properties: 31<br>Edits: 13688<br>Pages: 2622",
          "Test<br>URL: https://metadata-test2023-rbx.wikibase.cloud<br>Host: Wikibase Cloud<br>Version: 1.39.7<br>Start Date: 2023-11-06 00:00:00+00:00<br>Active Users: 0<br>Users: 5<br>Properties: 14<br>Edits: 2612<br>Pages: 2536",
          "Weinetiketten der Mosel<br>URL: https://mosel.wikibase.cloud<br>Host: Wikibase Cloud<br>Version: 1.39.7<br>Start Date: 2024-08-28 00:00:00+00:00<br>Active Users: 1<br>Users: 2<br>Properties: 78<br>Edits: 12080<br>Pages: 2561",
          "Meise Botanic Garden<br>URL: https://meise-bg.wikibase.cloud<br>Host: Wikibase Cloud<br>Version: 1.39.7<br>Start Date: 2020-02-13 00:00:00+00:00<br>Active Users: 0<br>Users: 3<br>Properties: 29<br>Edits: 1999<br>Pages: 1999",
          "testing<br>URL: https://testing.wikibase.cloud<br>Host: Wikibase Cloud<br>Version: 1.39.7<br>Start Date: 2020-03-02 00:00:00+00:00<br>Active Users: 0<br>Users: 4<br>Properties: 18<br>Edits: 1555<br>Pages: 1544",
          "AlpesTransportTest<br>URL: https://alpes-transport-sandbox.wikibase.cloud<br>Host: Wikibase Cloud<br>Version: 1.39.7<br>Start Date: 2023-02-27 00:00:00+00:00<br>Active Users: 0<br>Users: 6<br>Properties: 201<br>Edits: 23256<br>Pages: 1524",
          "qfeverbase<br>URL: https://qfeverbase.wikibase.cloud<br>Host: Wikibase Cloud<br>Version: 1.39.7<br>Start Date: 2024-02-07 00:00:00+00:00<br>Active Users: 1<br>Users: 5<br>Properties: 17<br>Edits: 1745<br>Pages: 1471",
          "dhtest<br>URL: https://dhtest.wikibase.cloud<br>Host: Wikibase Cloud<br>Version: 1.39.7<br>Start Date: 2024-06-14 00:00:00+00:00<br>Active Users: 0<br>Users: 2<br>Properties: 25<br>Edits: 3904<br>Pages: 1273",
          "Misi's imaginary friends<br>URL: https://misi-imaginary-friends.wikibase.cloud<br>Host: Wikibase Cloud<br>Version: 1.39.7<br>Start Date: 2024-10-01 00:00:00+00:00<br>Active Users: 0<br>Users: 4<br>Properties: 7<br>Edits: 1244<br>Pages: 1243",
          "Wikidocumentaries sandbox<br>URL: https://wikidocs.wikibase.cloud<br>Host: Wikibase Cloud<br>Version: 1.39.7<br>Start Date: 2019-10-27 00:00:00+00:00<br>Active Users: 0<br>Users: 5<br>Properties: 18<br>Edits: 1736<br>Pages: 1053",
          "Judaicadh<br>URL: https://judaicadh.wikibase.cloud<br>Host: Wikibase Cloud<br>Version: 1.39.7<br>Start Date: 2024-01-13 00:00:00+00:00<br>Active Users: 0<br>Users: 2<br>Properties: 26<br>Edits: 981<br>Pages: 955",
          "Open Music Vocabulary<br>URL: https://music.wikibase.cloud<br>Host: Wikibase Cloud<br>Version: 1.39.7<br>Start Date: 2023-11-23 00:00:00+00:00<br>Active Users: 1<br>Users: 2<br>Properties: 9<br>Edits: 5394<br>Pages: 992",
          "Medieval Mining Texts<br>URL: https://mining-texts.wikibase.cloud<br>Host: Wikibase Cloud<br>Version: 1.39.7<br>Start Date: 2023-06-19 00:00:00+00:00<br>Active Users: 0<br>Users: 2<br>Properties: 8<br>Edits: 1340<br>Pages: 905",
          "pbsandbox2<br>URL: https://pbsandbox2.wikibase.cloud<br>Host: Wikibase Cloud<br>Version: 1.39.7<br>Start Date: 2022-10-08 00:00:00+00:00<br>Active Users: 0<br>Users: 2<br>Properties: 795<br>Edits: 904<br>Pages: 897",
          "Climate Policy Radar<br>URL: https://climatepolicyradar.wikibase.cloud<br>Host: Wikibase Cloud<br>Version: 1.39.7<br>Start Date: 2024-04-03 00:00:00+00:00<br>Active Users: 10<br>Users: 18<br>Properties: 9<br>Edits: 9441<br>Pages: 1030",
          "digitalneurons<br>URL: https://digitalneurons.wikibase.cloud<br>Host: Wikibase Cloud<br>Version: 1.39.7<br>Start Date: 2021-03-05 00:00:00+00:00<br>Active Users: 1<br>Users: 3<br>Properties: 43<br>Edits: 2389<br>Pages: 734",
          "T-rex Taxonomy<br>URL: https://trex-taxonomy.wikibase.cloud<br>Host: Wikibase Cloud<br>Version: 1.39.7<br>Start Date: 2020-04-15 00:00:00+00:00<br>Active Users: 0<br>Users: 320<br>Properties: 32<br>Edits: 1355<br>Pages: 659",
          "European Party Funding Observatory<br>URL: https://wikibase.epfo.eu<br>Host: Wikibase Cloud<br>Version: 1.39.7<br>Start Date: 2024-07-20 00:00:00+00:00<br>Active Users: 1<br>Users: 2<br>Properties: 234<br>Edits: 14262<br>Pages: 516",
          "Neogräzistik Digital Lab<br>URL: https://ngrlab.wikibase.cloud<br>Host: Wikibase Cloud<br>Version: 1.39.7<br>Start Date: 2020-12-06 00:00:00+00:00<br>Active Users: 0<br>Users: 2<br>Properties: 45<br>Edits: 3016<br>Pages: 497",
          "cprtest (on wikibase.cloud)<br>URL: https://s4adgmfowmsbe0ye0zjaudmxwb.wikibase.cloud<br>Host: Wikibase Cloud<br>Version: 1.39.7<br>Start Date: 2024-01-31 00:00:00+00:00<br>Active Users: 0<br>Users: 4<br>Properties: 6<br>Edits: 3982<br>Pages: 445",
          "TDWG Collection Description<br>URL: https://tdwg-cd.wikibase.cloud<br>Host: Wikibase Cloud<br>Version: 1.39.7<br>Start Date: 2020-04-22 00:00:00+00:00<br>Active Users: 0<br>Users: 326<br>Properties: 155<br>Edits: 1347<br>Pages: 441",
          "Pruebas FSH<br>URL: https://pruebas-fsh.wikibase.cloud<br>Host: Wikibase Cloud<br>Version: 1.39.7<br>Start Date: 2024-06-22 00:00:00+00:00<br>Active Users: 1<br>Users: 2<br>Properties: 50<br>Edits: 2867<br>Pages: 439",
          "COMPEL<br>URL: https://compel.wikibase.cloud<br>Host: Wikibase Cloud<br>Version: 1.39.7<br>Start Date: 2024-04-19 00:00:00+00:00<br>Active Users: 1<br>Users: 12<br>Properties: 40<br>Edits: 1347<br>Pages: 427",
          "hgironomidae<br>URL: https://chironomidae.wikibase.cloud<br>Host: Wikibase Cloud<br>Version: 1.39.7<br>Start Date: 2024-02-22 00:00:00+00:00<br>Active Users: 0<br>Users: 2<br>Properties: 56<br>Edits: 1336<br>Pages: 419",
          "Architekturarchive<br>URL: https://architekturarchive.wikibase.cloud<br>Host: Wikibase Cloud<br>Version: 1.39.7<br>Start Date: 2024-03-27 00:00:00+00:00<br>Active Users: 0<br>Users: 3<br>Properties: 141<br>Edits: 983<br>Pages: 406",
          "cps<br>URL: https://computational-publishing-service.wikibase.cloud<br>Host: Wikibase Cloud<br>Version: 1.39.7<br>Start Date: 2024-04-04 00:00:00+00:00<br>Active Users: 0<br>Users: 11<br>Properties: 107<br>Edits: 1048<br>Pages: 402",
          "WUaS<br>URL: https://worlduniversityandschooldatabase.wikibase.cloud<br>Host: Wikibase Cloud<br>Version: 1.39.7<br>Start Date: 2020-11-25 00:00:00+00:00<br>Active Users: 0<br>Users: 8<br>Properties: 18<br>Edits: 444<br>Pages: 389",
          "Christof Schöch<br>URL: https://christof-schoech.wikibase.cloud<br>Host: Wikibase Cloud<br>Version: 1.39.7<br>Start Date: 2024-09-11 00:00:00+00:00<br>Active Users: 1<br>Users: 2<br>Properties: 64<br>Edits: 1498<br>Pages: 369",
          "IPCC<br>URL: https://kg-ipclimatec-reports.wikibase.cloud<br>Host: Wikibase Cloud<br>Version: 1.39.7<br>Start Date: 2023-04-22 00:00:00+00:00<br>Active Users: 0<br>Users: 14<br>Properties: 25<br>Edits: 824<br>Pages: 359",
          "pruebas-auto<br>URL: https://pruebas-auto.wikibase.cloud<br>Host: Wikibase Cloud<br>Version: 1.39.7<br>Start Date: 2024-09-26 00:00:00+00:00<br>Active Users: 0<br>Users: 2<br>Properties: 50<br>Edits: 765<br>Pages: 352",
          "wbwh-test<br>URL: https://wbwh-test.wikibase.cloud<br>Host: Wikibase Cloud<br>Version: 1.39.7<br>Start Date: 2023-01-27 00:00:00+00:00<br>Active Users: 0<br>Users: 3<br>Properties: 37<br>Edits: 440<br>Pages: 343",
          "FrameNet Test4<br>URL: https://framenetest4.wikibase.cloud<br>Host: Wikibase Cloud<br>Version: 1.39.7<br>Start Date: 2024-04-10 00:00:00+00:00<br>Active Users: 0<br>Users: 2<br>Properties: 39<br>Edits: 331<br>Pages: 331",
          "Metadati intelligenti<br>URL: https://smartmeta.wikibase.cloud<br>Host: Wikibase Cloud<br>Version: 1.39.7<br>Start Date: 2021-09-04 00:00:00+00:00<br>Active Users: 0<br>Users: 17<br>Properties: 79<br>Edits: 1172<br>Pages: 294",
          "Horimiya Base<br>URL: https://horimiya.wikibase.cloud<br>Host: Wikibase Cloud<br>Version: 1.39.7<br>Start Date: 2023-03-17 00:00:00+00:00<br>Active Users: 0<br>Users: 2<br>Properties: 59<br>Edits: 964<br>Pages: 271",
          "processualista<br>URL: https://dados.processualista.com.br<br>Host: Wikibase Cloud<br>Version: 1.39.7<br>Start Date: 2024-09-02 00:00:00+00:00<br>Active Users: 0<br>Users: 2<br>Properties: 45<br>Edits: 1244<br>Pages: 329",
          "ELTE-DH<br>URL: https://elte-dh.wikibase.cloud<br>Host: Wikibase Cloud<br>Version: 1.39.7<br>Start Date: 2024-02-11 00:00:00+00:00<br>Active Users: 0<br>Users: 3<br>Properties: 45<br>Edits: 1409<br>Pages: 266",
          "OntoLagoon<br>URL: https://ontolagoon.wikibase.cloud<br>Host: Wikibase Cloud<br>Version: 1.39.7<br>Start Date: 2024-01-16 00:00:00+00:00<br>Active Users: 1<br>Users: 4<br>Properties: 25<br>Edits: 939<br>Pages: 268",
          "DiscoveryTest<br>URL: https://discoverytest.wikibase.cloud<br>Host: Wikibase Cloud<br>Version: 1.39.7<br>Start Date: 2024-04-03 00:00:00+00:00<br>Active Users: 0<br>Users: 2<br>Properties: 41<br>Edits: 259<br>Pages: 259",
          "Pony Base<br>URL: https://ponybase.wikibase.cloud<br>Host: Wikibase Cloud<br>Version: 1.39.7<br>Start Date: 2024-02-28 00:00:00+00:00<br>Active Users: 0<br>Users: 2<br>Properties: 22<br>Edits: 844<br>Pages: 259",
          "Latimer Core<br>URL: https://latimer-core.wikibase.cloud<br>Host: Wikibase Cloud<br>Version: 1.39.7<br>Start Date: 2021-10-07 00:00:00+00:00<br>Active Users: 0<br>Users: 12<br>Properties: 131<br>Edits: 438<br>Pages: 239",
          "EOSS<br>URL: https://eoss-1.wikibase.cloud<br>Host: Wikibase Cloud<br>Version: 1.39.7<br>Start Date: 2020-02-28 00:00:00+00:00<br>Active Users: 0<br>Users: 3<br>Properties: 9<br>Edits: 926<br>Pages: 238",
          "Testing out Wikibase<br>URL: https://masssly.wikibase.cloud<br>Host: Wikibase Cloud<br>Version: 1.39.7<br>Start Date: 2021-07-13 00:00:00+00:00<br>Active Users: 1<br>Users: 3<br>Properties: 18<br>Edits: 799<br>Pages: 237",
          "Anachroniques<br>URL: https://anachroniques.wikibase.cloud<br>Host: Wikibase Cloud<br>Version: 1.39.7<br>Start Date: 2022-10-04 00:00:00+00:00<br>Active Users: 0<br>Users: 3<br>Properties: 24<br>Edits: 1407<br>Pages: 229",
          "testingtesting (on wikibase.cloud)<br>URL: https://testingtesting.wikibase.cloud<br>Host: Wikibase Cloud<br>Version: 1.39.7<br>Start Date: 2023-10-25 00:00:00+00:00<br>Active Users: 0<br>Users: 2<br>Properties: 21<br>Edits: 289<br>Pages: 231",
          "FrameNet Akkadian 2<br>URL: https://framenet-akkadian2.wikibase.cloud<br>Host: Wikibase Cloud<br>Version: 1.39.7<br>Start Date: 2024-03-24 00:00:00+00:00<br>Active Users: 1<br>Users: 2<br>Properties: 40<br>Edits: 446<br>Pages: 226",
          "Bioimages<br>URL: https://bioimages.wikibase.cloud<br>Host: Wikibase Cloud<br>Version: 1.39.7<br>Start Date: 2024-07-16 00:00:00+00:00<br>Active Users: 1<br>Users: 3<br>Properties: 61<br>Edits: 593<br>Pages: 218",
          "fedi<br>URL: https://fedidata.wikibase.cloud<br>Host: Wikibase Cloud<br>Version: 1.39.7<br>Start Date: 2022-11-09 00:00:00+00:00<br>Active Users: 0<br>Users: 2<br>Properties: 204<br>Edits: 228<br>Pages: 208",
          "Testing Mapping the Scottish Reformation<br>URL: https://msrtest.wikibase.cloud<br>Host: Wikibase Cloud<br>Version: 1.39.7<br>Start Date: 2023-09-07 00:00:00+00:00<br>Active Users: 0<br>Users: 2<br>Properties: 35<br>Edits: 511<br>Pages: 203",
          "Ecology-22<br>URL: https://ecology-22.wikibase.cloud<br>Host: Wikibase Cloud<br>Version: 1.39.7<br>Start Date: 2022-11-17 00:00:00+00:00<br>Active Users: 0<br>Users: 6<br>Properties: 36<br>Edits: 1077<br>Pages: 199",
          "Fontes Asturienses<br>URL: https://fontes-asturienses.wikibase.cloud<br>Host: Wikibase Cloud<br>Version: 1.39.7<br>Start Date: 2024-03-13 00:00:00+00:00<br>Active Users: 0<br>Users: 3<br>Properties: 48<br>Edits: 728<br>Pages: 171",
          "Grafitos históricos del museo Histórico Arqueológico Najerillense (Najera, España)<br>URL: https://najeragrafitos.wikibase.cloud<br>Host: Wikibase Cloud<br>Version: 1.39.7<br>Start Date: 2024-08-24 00:00:00+00:00<br>Active Users: 0<br>Users: 2<br>Properties: 15<br>Edits: 1185<br>Pages: 160",
          "Tandori Archive<br>URL: https://tandori.wikibase.cloud<br>Host: Wikibase Cloud<br>Version: 1.39.7<br>Start Date: 2022-12-12 00:00:00+00:00<br>Active Users: 0<br>Users: 3<br>Properties: 11<br>Edits: 282<br>Pages: 155",
          "BellmanFactBase<br>URL: https://bellmanfactbase.wikibase.cloud<br>Host: Wikibase Cloud<br>Version: 1.39.7<br>Start Date: 2020-11-13 00:00:00+00:00<br>Active Users: 0<br>Users: 69<br>Properties: 9<br>Edits: 236<br>Pages: 147",
          "Bekasi<br>URL: https://bekasi.wikibase.cloud<br>Host: Wikibase Cloud<br>Version: 1.39.7<br>Start Date: 2024-02-29 00:00:00+00:00<br>Active Users: 0<br>Users: 2<br>Properties: 30<br>Edits: 285<br>Pages: 132",
          "Conservatorio \"Claudio Monteverdi\" di Cremona<br>URL: https://conscremona.wikibase.cloud<br>Host: Wikibase Cloud<br>Version: 1.39.7<br>Start Date: 2022-11-16 00:00:00+00:00<br>Active Users: 0<br>Users: 2<br>Properties: 25<br>Edits: 231<br>Pages: 128",
          "AFL_example<br>URL: https://afl-example.wikibase.cloud<br>Host: Wikibase Cloud<br>Version: 1.39.7<br>Start Date: 2020-10-24 00:00:00+00:00<br>Active Users: 0<br>Users: 3<br>Properties: 42<br>Edits: 390<br>Pages: 130",
          "Adams Family<br>URL: https://adams-family.wikibase.cloud<br>Host: Wikibase Cloud<br>Version: 1.39.7<br>Start Date: 2023-12-23 00:00:00+00:00<br>Active Users: 1<br>Users: 3<br>Properties: 33<br>Edits: 961<br>Pages: 117",
          "Stolen Relations<br>URL: https://stolen-relations.wikibase.cloud<br>Host: Wikibase Cloud<br>Version: 1.39.7<br>Start Date: 2022-09-06 00:00:00+00:00<br>Active Users: 0<br>Users: 2<br>Properties: 38<br>Edits: 189<br>Pages: 126",
          "coffeebase<br>URL: https://coffeebase.wikibase.cloud<br>Host: Wikibase Cloud<br>Version: 1.39.7<br>Start Date: 2020-04-14 00:00:00+00:00<br>Active Users: 1<br>Users: 4<br>Properties: 8<br>Edits: 139<br>Pages: 110",
          "BCUL-IC<br>URL: https://bcul-ic.wikibase.cloud<br>Host: Wikibase Cloud<br>Version: 1.39.7<br>Start Date: 2020-08-11 00:00:00+00:00<br>Active Users: 0<br>Users: 2<br>Properties: 13<br>Edits: 682<br>Pages: 111",
          "cidoc_crm<br>URL: https://cidoc-crm.wikibase.cloud<br>Host: Wikibase Cloud<br>Version: 1.39.7<br>Start Date: 2020-09-23 00:00:00+00:00<br>Active Users: 0<br>Users: 3<br>Properties: 5<br>Edits: 164<br>Pages: 105",
          "ELTeCgeo<br>URL: https://eltecgeo.wikibase.cloud<br>Host: Wikibase Cloud<br>Version: 1.39.7<br>Start Date: 2024-09-19 00:00:00+00:00<br>Active Users: 1<br>Users: 2<br>Properties: 21<br>Edits: 337<br>Pages: 115",
          "Global Forest Decimal Classification<br>URL: https://forest-decimal-classification.wikibase.cloud<br>Host: Wikibase Cloud<br>Version: 1.39.7<br>Start Date: 2021-12-16 00:00:00+00:00<br>Active Users: 0<br>Users: 3<br>Properties: 42<br>Edits: 358<br>Pages: 103",
          "2つ目のwiki<br>URL: https://nakamura196.wikibase.cloud<br>Host: Wikibase Cloud<br>Version: 1.39.7<br>Start Date: 2023-07-14 00:00:00+00:00<br>Active Users: 0<br>Users: 3<br>Properties: 47<br>Edits: 151<br>Pages: 100",
          "RIDGES-Herb-Wikibase<br>URL: https://ridges-herb.wikibase.cloud<br>Host: Wikibase Cloud<br>Version: 1.39.7<br>Start Date: 2022-11-15 00:00:00+00:00<br>Active Users: 0<br>Users: 3<br>Properties: 71<br>Edits: 353<br>Pages: 98",
          "DIKUSA-dev<br>URL: https://dikusa-dev.wikibase.cloud<br>Host: Wikibase Cloud<br>Version: 1.39.7<br>Start Date: 2024-05-15 00:00:00+00:00<br>Active Users: 1<br>Users: 4<br>Properties: 44<br>Edits: 213<br>Pages: 97",
          "MCData<br>URL: https://mcdata.wikibase.cloud<br>Host: Wikibase Cloud<br>Version: 1.39.7<br>Start Date: 2024-07-18 00:00:00+00:00<br>Active Users: 0<br>Users: 2<br>Properties: 30<br>Edits: 515<br>Pages: 95",
          "U1P QS<br>URL: https://u1p-qs.wikibase.cloud<br>Host: Wikibase Cloud<br>Version: 1.39.7<br>Start Date: 2024-05-31 00:00:00+00:00<br>Active Users: 0<br>Users: 2<br>Properties: 102<br>Edits: 179<br>Pages: 103",
          "Mabinogi Eternity<br>URL: https://mabinogi.wikibase.cloud<br>Host: Wikibase Cloud<br>Version: 1.39.7<br>Start Date: 2023-06-19 00:00:00+00:00<br>Active Users: 1<br>Users: 2<br>Properties: 22<br>Edits: 1551<br>Pages: 107",
          "KBTestWikibase<br>URL: https://kbtestwikibase.wikibase.cloud<br>Host: Wikibase Cloud<br>Version: 1.39.7<br>Start Date: 2019-10-26 00:00:00+00:00<br>Active Users: 0<br>Users: 6<br>Properties: 46<br>Edits: 1026<br>Pages: 92",
          "Genealogy<br>URL: https://haaitsma-genea.wikibase.cloud<br>Host: Wikibase Cloud<br>Version: 1.39.7<br>Start Date: 2023-10-19 00:00:00+00:00<br>Active Users: 0<br>Users: 2<br>Properties: 23<br>Edits: 500<br>Pages: 94",
          "We would not forget you<br>URL: https://shaheed.wikibase.cloud<br>Host: Wikibase Cloud<br>Version: 1.39.7<br>Start Date: 2024-07-24 00:00:00+00:00<br>Active Users: 0<br>Users: 2<br>Properties: 38<br>Edits: 150<br>Pages: 89",
          "NFDI4Culture LOD Working Group<br>URL: https://lod-working-group.wikibase.cloud<br>Host: Wikibase Cloud<br>Version: 1.39.7<br>Start Date: 2021-06-28 00:00:00+00:00<br>Active Users: 0<br>Users: 17<br>Properties: 40<br>Edits: 123<br>Pages: 87",
          "Research Waste<br>URL: https://research-waste.wikibase.cloud<br>Host: Wikibase Cloud<br>Version: 1.39.7<br>Start Date: 2024-03-26 00:00:00+00:00<br>Active Users: 0<br>Users: 4<br>Properties: 37<br>Edits: 194<br>Pages: 87",
          "The Choir<br>URL: https://christian-nationalists.wikibase.cloud<br>Host: Wikibase Cloud<br>Version: 1.39.7<br>Start Date: 2023-08-31 00:00:00+00:00<br>Active Users: 0<br>Users: 2<br>Properties: 3<br>Edits: 94<br>Pages: 86",
          "Sources<br>URL: https://sources.wikibase.cloud<br>Host: Wikibase Cloud<br>Version: 1.39.7<br>Start Date: 2024-04-02 00:00:00+00:00<br>Active Users: 0<br>Users: 2<br>Properties: 16<br>Edits: 353<br>Pages: 86",
          "Quotebase<br>URL: https://quotebase.wikibase.cloud<br>Host: Wikibase Cloud<br>Version: 1.39.7<br>Start Date: 2022-11-17 00:00:00+00:00<br>Active Users: 0<br>Users: 5<br>Properties: 26<br>Edits: 266<br>Pages: 80",
          "LD4 WBStack Test<br>URL: https://ld4-wbs-test.wikibase.cloud<br>Host: Wikibase Cloud<br>Version: 1.39.7<br>Start Date: 2021-05-25 00:00:00+00:00<br>Active Users: 0<br>Users: 36<br>Properties: 18<br>Edits: 227<br>Pages: 79",
          "LD4 2021 Conference<br>URL: https://ld4-2021-conference.wikibase.cloud<br>Host: Wikibase Cloud<br>Version: 1.39.7<br>Start Date: 2021-07-20 00:00:00+00:00<br>Active Users: 0<br>Users: 9<br>Properties: 23<br>Edits: 152<br>Pages: 76",
          "uo276406-ws1-miw<br>URL: https://web-semantica-uo276406.wikibase.cloud<br>Host: Wikibase Cloud<br>Version: 1.39.7<br>Start Date: 2024-05-11 00:00:00+00:00<br>Active Users: 0<br>Users: 3<br>Properties: 8<br>Edits: 82<br>Pages: 76",
          "SALARTIS1600<br>URL: https://salartis1600.wikibase.cloud<br>Host: Wikibase Cloud<br>Version: 1.39.7<br>Start Date: 2024-09-20 00:00:00+00:00<br>Active Users: 2<br>Users: 3<br>Properties: 32<br>Edits: 415<br>Pages: 77",
          "Bib-Sample<br>URL: https://bibsample.wikibase.cloud<br>Host: Wikibase Cloud<br>Version: 1.39.7<br>Start Date: 2021-01-31 00:00:00+00:00<br>Active Users: 0<br>Users: 2<br>Properties: 17<br>Edits: 110<br>Pages: 73",
          "Brandskon<br>URL: https://brandskon.wikibase.cloud<br>Host: Wikibase Cloud<br>Version: 1.39.7<br>Start Date: 2024-03-16 00:00:00+00:00<br>Active Users: 0<br>Users: 2<br>Properties: 53<br>Edits: 163<br>Pages: 73",
          "RIDGES-Herb. 9.0 Wikibase<br>URL: https://ridges-herb-9.wikibase.cloud<br>Host: Wikibase Cloud<br>Version: 1.39.7<br>Start Date: 2022-10-24 00:00:00+00:00<br>Active Users: 0<br>Users: 3<br>Properties: 59<br>Edits: 496<br>Pages: 75",
          "KM28<br>URL: https://karlmarx28.wikibase.cloud<br>Host: Wikibase Cloud<br>Version: 1.39.7<br>Start Date: 2023-06-02 00:00:00+00:00<br>Active Users: 0<br>Users: 3<br>Properties: 12<br>Edits: 316<br>Pages: 72",
          "NFDI4Objects TA2 Collecting Workspace<br>URL: https://n4o-ta2.wikibase.cloud<br>Host: Wikibase Cloud<br>Version: 1.39.7<br>Start Date: 2023-05-30 00:00:00+00:00<br>Active Users: 0<br>Users: 2<br>Properties: 25<br>Edits: 293<br>Pages: 71",
          "SciLinkDB<br>URL: https://scilinkdb.wikibase.cloud<br>Host: Wikibase Cloud<br>Version: 1.39.7<br>Start Date: 2024-05-22 00:00:00+00:00<br>Active Users: 1<br>Users: 2<br>Properties: 191<br>Edits: 1047<br>Pages: 588",
          "Fermenting Data<br>URL: https://fermentingdata.wikibase.cloud<br>Host: Wikibase Cloud<br>Version: 1.39.7<br>Start Date: 2023-05-30 00:00:00+00:00<br>Active Users: 0<br>Users: 14<br>Properties: 22<br>Edits: 116<br>Pages: 69",
          "Chilean Music<br>URL: https://chilean-music.wikibase.cloud<br>Host: Wikibase Cloud<br>Version: 1.39.7<br>Start Date: 2024-04-03 00:00:00+00:00<br>Active Users: 2<br>Users: 2<br>Properties: 15<br>Edits: 149<br>Pages: 75",
          "Immaterieel erfgoed<br>URL: https://immaterieel-erfgoed.wikibase.cloud<br>Host: Wikibase Cloud<br>Version: 1.39.7<br>Start Date: 2022-09-19 00:00:00+00:00<br>Active Users: 1<br>Users: 4<br>Properties: 32<br>Edits: 215<br>Pages: 68",
          "Okrzeja<br>URL: https://okrzeja.wikibase.cloud<br>Host: Wikibase Cloud<br>Version: 1.39.7<br>Start Date: 2024-08-30 00:00:00+00:00<br>Active Users: 0<br>Users: 2<br>Properties: 35<br>Edits: 170<br>Pages: 67",
          "AAS semanticId Repository<br>URL: https://semanticid.aas-connect.com<br>Host: Wikibase Cloud<br>Version: 1.39.7<br>Start Date: 2023-12-14 00:00:00+00:00<br>Active Users: 0<br>Users: 4<br>Properties: 19<br>Edits: 187<br>Pages: 67",
          "Food Systems and Landscapes<br>URL: https://foodsystemslab.wikibase.cloud<br>Host: Wikibase Cloud<br>Version: 1.39.7<br>Start Date: 2020-08-07 00:00:00+00:00<br>Active Users: 0<br>Users: 2<br>Properties: 13<br>Edits: 98<br>Pages: 66",
          "Iowa State Metadata Services TEST<br>URL: https://iast-metadata-test.wikibase.cloud<br>Host: Wikibase Cloud<br>Version: 1.39.7<br>Start Date: 2022-09-20 00:00:00+00:00<br>Active Users: 0<br>Users: 8<br>Properties: 17<br>Edits: 339<br>Pages: 67",
          "My Community Archives<br>URL: https://mycommunityarchives.wikibase.cloud<br>Host: Wikibase Cloud<br>Version: 1.39.7<br>Start Date: 2023-01-07 00:00:00+00:00<br>Active Users: 0<br>Users: 4<br>Properties: 45<br>Edits: 280<br>Pages: 65",
          "AGAM<br>URL: https://agausgabemedien.wikibase.cloud<br>Host: Wikibase Cloud<br>Version: 1.39.7<br>Start Date: 2022-12-21 00:00:00+00:00<br>Active Users: 0<br>Users: 27<br>Properties: 23<br>Edits: 167<br>Pages: 66",
          "汉语百科<br>URL: https://chinesepedia.wikibase.cloud<br>Host: Wikibase Cloud<br>Version: 1.39.7<br>Start Date: 2024-08-20 00:00:00+00:00<br>Active Users: 1<br>Users: 4<br>Properties: 6<br>Edits: 217<br>Pages: 70",
          "Qvtorw Onwup<br>URL: https://qvtorwonwup00.wikibase.cloud<br>Host: Wikibase Cloud<br>Version: 1.39.7<br>Start Date: 2024-06-21 00:00:00+00:00<br>Active Users: 0<br>Users: 2<br>Properties: 63<br>Edits: 64<br>Pages: 64",
          "Star Wars Data Holocronn<br>URL: https://holocron.wikibase.cloud<br>Host: Wikibase Cloud<br>Version: 1.39.7<br>Start Date: 2024-05-22 00:00:00+00:00<br>Active Users: 0<br>Users: 2<br>Properties: 30<br>Edits: 250<br>Pages: 63",
          "lib<br>URL: https://libtool.wikibase.cloud<br>Host: Wikibase Cloud<br>Version: 1.39.7<br>Start Date: 2024-04-22 00:00:00+00:00<br>Active Users: 0<br>Users: 2<br>Properties: 60<br>Edits: 88<br>Pages: 61",
          "works.bibframe.wiki<br>URL: https://works.bibframe.wiki<br>Host: Wikibase Cloud<br>Version: 1.39.7<br>Start Date: 2021-12-29 00:00:00+00:00<br>Active Users: 0<br>Users: 3<br>Properties: 18<br>Edits: 212<br>Pages: 60",
          "Lerner-Michard<br>URL: https://lerner-michard.wikibase.cloud<br>Host: Wikibase Cloud<br>Version: 1.39.7<br>Start Date: 2023-12-26 00:00:00+00:00<br>Active Users: 0<br>Users: 2<br>Properties: 6<br>Edits: 151<br>Pages: 59",
          "Maptest<br>URL: https://maptest.wikibase.cloud<br>Host: Wikibase Cloud<br>Version: 1.39.7<br>Start Date: 2022-12-21 00:00:00+00:00<br>Active Users: 0<br>Users: 3<br>Properties: 28<br>Edits: 125<br>Pages: 58",
          "Burocracia Acadêmica<br>URL: https://burocracia.wikibase.cloud<br>Host: Wikibase Cloud<br>Version: 1.39.7<br>Start Date: 2023-02-09 00:00:00+00:00<br>Active Users: 0<br>Users: 6<br>Properties: 23<br>Edits: 184<br>Pages: 62",
          "LD4 Wikibase Working Hour sandbox<br>URL: https://ld4-wbwh-sandbox.wikibase.cloud<br>Host: Wikibase Cloud<br>Version: 1.39.7<br>Start Date: 2023-04-17 00:00:00+00:00<br>Active Users: 0<br>Users: 2<br>Properties: 39<br>Edits: 325<br>Pages: 54",
          "N4O Provenance<br>URL: https://n4o-prov.wikibase.cloud<br>Host: Wikibase Cloud<br>Version: 1.39.7<br>Start Date: 2023-11-10 00:00:00+00:00<br>Active Users: 1<br>Users: 3<br>Properties: 25<br>Edits: 200<br>Pages: 52",
          "Qvtorw Onwup<br>URL: https://qvtorwonwup.wikibase.cloud<br>Host: Wikibase Cloud<br>Version: 1.39.7<br>Start Date: 2024-06-20 00:00:00+00:00<br>Active Users: 0<br>Users: 2<br>Properties: 44<br>Edits: 84<br>Pages: 50",
          "nkcr-sandbox<br>URL: https://nkcr-sandbox.wikibase.cloud<br>Host: Wikibase Cloud<br>Version: 1.39.7<br>Start Date: 2024-04-03 00:00:00+00:00<br>Active Users: 2<br>Users: 13<br>Properties: 18<br>Edits: 131<br>Pages: 52",
          "Paikkatietopalvelu<br>URL: https://paikkatietopalvelu.wikibase.cloud<br>Host: Wikibase Cloud<br>Version: 1.39.7<br>Start Date: 2021-03-05 00:00:00+00:00<br>Active Users: 0<br>Users: 3<br>Properties: 22<br>Edits: 199<br>Pages: 46",
          "portobarroco<br>URL: https://portobarroco.wikibase.cloud<br>Host: Wikibase Cloud<br>Version: 1.39.7<br>Start Date: 2024-05-14 00:00:00+00:00<br>Active Users: 0<br>Users: 2<br>Properties: 39<br>Edits: 56<br>Pages: 46",
          "Nosakhare Okuons<br>URL: https://nosakhare-okuons.wikibase.cloud<br>Host: Wikibase Cloud<br>Version: 1.39.7<br>Start Date: 2023-07-13 00:00:00+00:00<br>Active Users: 0<br>Users: 2<br>Properties: 23<br>Edits: 62<br>Pages: 45",
          "Paikka<br>URL: https://paikka.wikibase.cloud<br>Host: Wikibase Cloud<br>Version: 1.39.7<br>Start Date: 2020-01-21 00:00:00+00:00<br>Active Users: 0<br>Users: 6<br>Properties: 20<br>Edits: 147<br>Pages: 43",
          "AFL<br>URL: https://afl-cidoc.wikibase.cloud<br>Host: Wikibase Cloud<br>Version: 1.39.7<br>Start Date: 2020-10-19 00:00:00+00:00<br>Active Users: 0<br>Users: 2<br>Properties: 13<br>Edits: 125<br>Pages: 41",
          "wikiebase_instance<br>URL: https://wikibase-instance.wikibase.cloud<br>Host: Wikibase Cloud<br>Version: 1.39.7<br>Start Date: 2024-09-02 00:00:00+00:00<br>Active Users: 0<br>Users: 2<br>Properties: 16<br>Edits: 64<br>Pages: 41",
          "Magnus Entities<br>URL: https://magnus.wikibase.cloud<br>Host: Wikibase Cloud<br>Version: 1.39.7<br>Start Date: 2023-03-14 00:00:00+00:00<br>Active Users: 0<br>Users: 2<br>Properties: 8<br>Edits: 58<br>Pages: 40",
          "quxfarm<br>URL: https://quxfarm.wikibase.cloud<br>Host: Wikibase Cloud<br>Version: 1.39.7<br>Start Date: 2020-06-03 00:00:00+00:00<br>Active Users: 0<br>Users: 2<br>Properties: 3<br>Edits: 141<br>Pages: 39",
          "Wikimedia France Open Data<br>URL: https://wm-fr.wikibase.cloud<br>Host: Wikibase Cloud<br>Version: 1.39.7<br>Start Date: 2024-10-06 00:00:00+00:00<br>Active Users: 2<br>Users: 2<br>Properties: 15<br>Edits: 118<br>Pages: 40",
          "Wikidating<br>URL: https://wikidating.wikibase.cloud<br>Host: Wikibase Cloud<br>Version: 1.39.7<br>Start Date: 2024-05-01 00:00:00+00:00<br>Active Users: 0<br>Users: 11<br>Properties: 20<br>Edits: 52<br>Pages: 40",
          "Aikibooks<br>URL: https://aikibooks.wikibase.cloud<br>Host: Wikibase Cloud<br>Version: 1.39.7<br>Start Date: 2023-07-12 00:00:00+00:00<br>Active Users: 0<br>Users: 2<br>Properties: 12<br>Edits: 73<br>Pages: 39",
          "Wesley Collections<br>URL: https://wesley-collections.wikibase.cloud<br>Host: Wikibase Cloud<br>Version: 1.39.7<br>Start Date: 2023-07-14 00:00:00+00:00<br>Active Users: 0<br>Users: 2<br>Properties: 11<br>Edits: 81<br>Pages: 38",
          "Digitalisierungsforschung<br>URL: https://digitalisierungsforschung.wikibase.cloud<br>Host: Wikibase Cloud<br>Version: 1.39.7<br>Start Date: 2024-09-09 00:00:00+00:00<br>Active Users: 1<br>Users: 2<br>Properties: 16<br>Edits: 85<br>Pages: 39",
          "hercules<br>URL: https://hercules.wikibase.cloud<br>Host: Wikibase Cloud<br>Version: 1.39.7<br>Start Date: 2020-01-17 00:00:00+00:00<br>Active Users: 0<br>Users: 4<br>Properties: 12<br>Edits: 172<br>Pages: 37",
          "Books R Databases<br>URL: https://booksrdatabases.wikibase.cloud<br>Host: Wikibase Cloud<br>Version: 1.39.7<br>Start Date: 2024-06-14 00:00:00+00:00<br>Active Users: 1<br>Users: 2<br>Properties: 37<br>Edits: 211<br>Pages: 55",
          "MCAT@HKBU<br>URL: https://hkbu-mcat.wikibase.cloud<br>Host: Wikibase Cloud<br>Version: 1.39.7<br>Start Date: 2024-03-22 00:00:00+00:00<br>Active Users: 0<br>Users: 3<br>Properties: 9<br>Edits: 252<br>Pages: 36",
          "Kaplan<br>URL: https://kaplancollection.wikibase.cloud<br>Host: Wikibase Cloud<br>Version: 1.39.7<br>Start Date: 2024-09-24 00:00:00+00:00<br>Active Users: 1<br>Users: 2<br>Properties: 14<br>Edits: 40116<br>Pages: 16105",
          "Meteorology<br>URL: https://meteorology.wikibase.cloud<br>Host: Wikibase Cloud<br>Version: 1.39.7<br>Start Date: 2023-11-01 00:00:00+00:00<br>Active Users: 0<br>Users: 3<br>Properties: 12<br>Edits: 77<br>Pages: 35",
          "Research Literature for Wikibase<br>URL: https://researchwb.wikibase.cloud<br>Host: Wikibase Cloud<br>Version: 1.39.7<br>Start Date: 2023-02-25 00:00:00+00:00<br>Active Users: 0<br>Users: 6<br>Properties: 11<br>Edits: 166<br>Pages: 35",
          "LAC test<br>URL: https://lac-test.wikibase.cloud<br>Host: Wikibase Cloud<br>Version: 1.39.7<br>Start Date: 2023-08-24 00:00:00+00:00<br>Active Users: 0<br>Users: 2<br>Properties: 15<br>Edits: 69<br>Pages: 35",
          "courli<br>URL: https://courli.wikibase.cloud<br>Host: Wikibase Cloud<br>Version: 1.39.7<br>Start Date: 2024-03-11 00:00:00+00:00<br>Active Users: 0<br>Users: 3<br>Properties: 17<br>Edits: 91<br>Pages: 35",
          "tmp-18769876427210<br>URL: https://tmp-18769876427210.wikibase.cloud<br>Host: Wikibase Cloud<br>Version: 1.39.7<br>Start Date: 2024-04-18 00:00:00+00:00<br>Active Users: 0<br>Users: 2<br>Properties: 34<br>Edits: 35<br>Pages: 35",
          "Almeda Test Wikibase<br>URL: https://almedatestwikibase.wikibase.cloud<br>Host: Wikibase Cloud<br>Version: 1.39.7<br>Start Date: 2023-10-09 00:00:00+00:00<br>Active Users: 0<br>Users: 4<br>Properties: 16<br>Edits: 77<br>Pages: 34",
          "MLBase<br>URL: https://ml-base-test.wikibase.cloud<br>Host: Wikibase Cloud<br>Version: 1.39.7<br>Start Date: 2024-10-04 00:00:00+00:00<br>Active Users: 2<br>Users: 2<br>Properties: 14<br>Edits: 83<br>Pages: 34",
          "Languages<br>URL: https://languages.wikibase.cloud<br>Host: Wikibase Cloud<br>Version: 1.39.7<br>Start Date: 2019-11-23 00:00:00+00:00<br>Active Users: 0<br>Users: 2<br>Properties: 25<br>Edits: 55<br>Pages: 33",
          "Dictionary of Mormon Biography<br>URL: https://mormonbiography.org<br>Host: Wikibase Cloud<br>Version: 1.39.7<br>Start Date: 2022-09-05 00:00:00+00:00<br>Active Users: 0<br>Users: 34<br>Properties: 13<br>Edits: 82<br>Pages: 33",
          "LamBase<br>URL: https://lambase.wikibase.cloud<br>Host: Wikibase Cloud<br>Version: 1.39.7<br>Start Date: 2023-11-18 00:00:00+00:00<br>Active Users: 0<br>Users: 2<br>Properties: 5<br>Edits: 40<br>Pages: 34",
          "FLMR Sandbox<br>URL: https://flmr-db.wikibase.cloud<br>Host: Wikibase Cloud<br>Version: 1.39.7<br>Start Date: 2023-11-27 00:00:00+00:00<br>Active Users: 0<br>Users: 3<br>Properties: 13<br>Edits: 104<br>Pages: 33",
          "Example Wikibase<br>URL: https://examplewikiuo283069.wikibase.cloud<br>Host: Wikibase Cloud<br>Version: 1.39.7<br>Start Date: 2024-03-05 00:00:00+00:00<br>Active Users: 0<br>Users: 2<br>Properties: 10<br>Edits: 134<br>Pages: 32",
          "Photo-data<br>URL: https://photo-data.wikibase.cloud<br>Host: Wikibase Cloud<br>Version: 1.39.7<br>Start Date: 2020-10-04 00:00:00+00:00<br>Active Users: 0<br>Users: 2<br>Properties: 11<br>Edits: 201<br>Pages: 31",
          "Science Fiction History<br>URL: https://sciencefictionhistory.wikibase.cloud<br>Host: Wikibase Cloud<br>Version: 1.39.7<br>Start Date: 2023-03-20 00:00:00+00:00<br>Active Users: 0<br>Users: 2<br>Properties: 21<br>Edits: 76<br>Pages: 31",
          "Validator Testing Wikidata<br>URL: https://validatortest.wikibase.cloud<br>Host: Wikibase Cloud<br>Version: 1.39.7<br>Start Date: 2024-03-18 00:00:00+00:00<br>Active Users: 1<br>Users: 3<br>Properties: 9<br>Edits: 247<br>Pages: 31",
          "Verb Conjugation Data<br>URL: https://verb-conjugation-data.wikibase.cloud<br>Host: Wikibase Cloud<br>Version: 1.39.7<br>Start Date: 2024-08-27 00:00:00+00:00<br>Active Users: 0<br>Users: 2<br>Properties: 12<br>Edits: 36<br>Pages: 31",
          "Vicky Library<br>URL: https://vickylibrary.wikibase.cloud<br>Host: Wikibase Cloud<br>Version: 1.39.7<br>Start Date: 2023-09-13 00:00:00+00:00<br>Active Users: 0<br>Users: 2<br>Properties: 10<br>Edits: 68<br>Pages: 30",
          "The Art of (Our) Storytelling<br>URL: https://black-life-writing-bib.wikibase.cloud<br>Host: Wikibase Cloud<br>Version: 1.39.7<br>Start Date: 2023-10-12 00:00:00+00:00<br>Active Users: 0<br>Users: 2<br>Properties: 5<br>Edits: 44<br>Pages: 30",
          "miwprofe<br>URL: https://miwprofe.wikibase.cloud<br>Host: Wikibase Cloud<br>Version: 1.39.7<br>Start Date: 2024-05-14 00:00:00+00:00<br>Active Users: 0<br>Users: 18<br>Properties: 6<br>Edits: 113<br>Pages: 30",
          "Womenwriters<br>URL: https://womenwriters.wikibase.cloud<br>Host: Wikibase Cloud<br>Version: 1.39.7<br>Start Date: 2019-12-12 00:00:00+00:00<br>Active Users: 0<br>Users: 2<br>Properties: 12<br>Edits: 52<br>Pages: 29",
          "Doris McCarthy DB<br>URL: https://dorismccarthy.wikibase.cloud<br>Host: Wikibase Cloud<br>Version: 1.39.7<br>Start Date: 2023-11-14 00:00:00+00:00<br>Active Users: 0<br>Users: 2<br>Properties: 12<br>Edits: 81<br>Pages: 29",
          "Context Aware Exploratory Search<br>URL: https://ckg-exploratory-search.wikibase.cloud<br>Host: Wikibase Cloud<br>Version: 1.39.7<br>Start Date: 2022-09-13 00:00:00+00:00<br>Active Users: 0<br>Users: 2<br>Properties: 11<br>Edits: 68<br>Pages: 27",
          "cursoslabra<br>URL: https://cursoslabra.wikibase.cloud<br>Host: Wikibase Cloud<br>Version: 1.39.7<br>Start Date: 2020-01-07 00:00:00+00:00<br>Active Users: 0<br>Users: 4<br>Properties: 9<br>Edits: 44<br>Pages: 26",
          "Wikimedia NYC Outreach<br>URL: https://wmnyc.wikibase.cloud<br>Host: Wikibase Cloud<br>Version: 1.39.7<br>Start Date: 2019-10-27 00:00:00+00:00<br>Active Users: 0<br>Users: 2<br>Properties: 6<br>Edits: 82<br>Pages: 26",
          "DBGI Wikibase Sandbox<br>URL: https://dbgi-sandbox.wikibase.cloud<br>Host: Wikibase Cloud<br>Version: 1.39.7<br>Start Date: 2023-03-05 00:00:00+00:00<br>Active Users: 0<br>Users: 11<br>Properties: 13<br>Edits: 56<br>Pages: 26",
          "Florencia de todo los Santos<br>URL: https://florencia.wikibase.cloud<br>Host: Wikibase Cloud<br>Version: 1.39.7<br>Start Date: 2022-05-20 00:00:00+00:00<br>Active Users: 0<br>Users: 8<br>Properties: 5<br>Edits: 62<br>Pages: 25",
          "Sweeties<br>URL: https://sweeties.wikibase.cloud<br>Host: Wikibase Cloud<br>Version: 1.39.7<br>Start Date: 2023-05-10 00:00:00+00:00<br>Active Users: 0<br>Users: 4<br>Properties: 5<br>Edits: 138<br>Pages: 25",
          "Awesome Wiki<br>URL: https://awesome.wikibase.cloud<br>Host: Wikibase Cloud<br>Version: 1.39.7<br>Start Date: 2024-08-30 00:00:00+00:00<br>Active Users: 0<br>Users: 2<br>Properties: 8<br>Edits: 47<br>Pages: 25",
          "glacierwatch<br>URL: https://glacierwatch.wikibase.cloud<br>Host: Wikibase Cloud<br>Version: 1.39.7<br>Start Date: 2022-09-23 00:00:00+00:00<br>Active Users: 0<br>Users: 2<br>Properties: 6<br>Edits: 56<br>Pages: 24",
          "gilliane<br>URL: https://gilliane.wikibase.cloud<br>Host: Wikibase Cloud<br>Version: 1.39.7<br>Start Date: 2019-12-03 00:00:00+00:00<br>Active Users: 0<br>Users: 3<br>Properties: 14<br>Edits: 45<br>Pages: 23",
          "Myexamplewikibase<br>URL: https://xxxxxxxxxxxxxxxxxx.wikibase.cloud<br>Host: Wikibase Cloud<br>Version: 1.39.7<br>Start Date: 2023-07-11 00:00:00+00:00<br>Active Users: 0<br>Users: 3<br>Properties: 5<br>Edits: 39<br>Pages: 23",
          "sdiuhfiusdhfiusdgfs<br>URL: https://jdfjkashdjashdkja.wikibase.cloud<br>Host: Wikibase Cloud<br>Version: 1.39.7<br>Start Date: 2022-02-01 00:00:00+00:00<br>Active Users: 0<br>Users: 5<br>Properties: 3<br>Edits: 32<br>Pages: 22",
          "FacLab<br>URL: https://faclab.wikibase.cloud<br>Host: Wikibase Cloud<br>Version: 1.39.7<br>Start Date: 2019-11-01 00:00:00+00:00<br>Active Users: 0<br>Users: 3<br>Properties: 4<br>Edits: 44<br>Pages: 22",
          "You have to pay!<br>URL: https://daaag.wikibase.cloud<br>Host: Wikibase Cloud<br>Version: 1.39.7<br>Start Date: 2024-07-26 00:00:00+00:00<br>Active Users: 0<br>Users: 3<br>Properties: 11<br>Edits: 38<br>Pages: 23",
          "DIS18-Projektarbeit-1<br>URL: https://transcriptional-start-sites.wikibase.cloud<br>Host: Wikibase Cloud<br>Version: 1.39.7<br>Start Date: 2024-06-14 00:00:00+00:00<br>Active Users: 0<br>Users: 3<br>Properties: 4<br>Edits: 26<br>Pages: 22",
          "Letterbox<br>URL: https://letterbox.wikibase.cloud<br>Host: Wikibase Cloud<br>Version: 1.39.7<br>Start Date: 2024-05-17 00:00:00+00:00<br>Active Users: 0<br>Users: 2<br>Properties: 6<br>Edits: 43<br>Pages: 22",
          "Test Geovistory<br>URL: https://test-geovistory.wikibase.cloud<br>Host: Wikibase Cloud<br>Version: 1.39.7<br>Start Date: 2023-07-23 00:00:00+00:00<br>Active Users: 0<br>Users: 2<br>Properties: 8<br>Edits: 32<br>Pages: 21",
          "byspolylibrary<br>URL: https://waltspersonal.wikibase.cloud<br>Host: Wikibase Cloud<br>Version: 1.39.7<br>Start Date: 2023-09-13 00:00:00+00:00<br>Active Users: 0<br>Users: 2<br>Properties: 8<br>Edits: 41<br>Pages: 21",
          "librarianjerywikibase<br>URL: https://interactivemodule.wikibase.cloud<br>Host: Wikibase Cloud<br>Version: 1.39.7<br>Start Date: 2023-07-14 00:00:00+00:00<br>Active Users: 0<br>Users: 2<br>Properties: 7<br>Edits: 56<br>Pages: 21",
          "Peace Apparel Collections<br>URL: https://peaceapparelcollection.wikibase.cloud<br>Host: Wikibase Cloud<br>Version: 1.39.7<br>Start Date: 2023-09-13 00:00:00+00:00<br>Active Users: 0<br>Users: 2<br>Properties: 5<br>Edits: 35<br>Pages: 20",
          "Talmudic<br>URL: https://talmudic-trial.wikibase.cloud<br>Host: Wikibase Cloud<br>Version: 1.39.7<br>Start Date: 2024-08-21 00:00:00+00:00<br>Active Users: 0<br>Users: 2<br>Properties: 8<br>Edits: 27<br>Pages: 21",
          "Felipe Ribeiro<br>URL: https://operarioribeiro.wikibase.cloud<br>Host: Wikibase Cloud<br>Version: 1.39.7<br>Start Date: 2024-08-27 00:00:00+00:00<br>Active Users: 0<br>Users: 2<br>Properties: 7<br>Edits: 45<br>Pages: 21",
          "Samson Adedoyin Library<br>URL: https://samsonadedoyinlibrary.wikibase.cloud<br>Host: Wikibase Cloud<br>Version: 1.39.7<br>Start Date: 2023-12-19 00:00:00+00:00<br>Active Users: 0<br>Users: 2<br>Properties: 8<br>Edits: 27<br>Pages: 20",
          "Victorian Public Transport Database<br>URL: https://pt.t4t.pet<br>Host: Wikibase Cloud<br>Version: 1.39.7<br>Start Date: 2024-05-26 00:00:00+00:00<br>Active Users: 0<br>Users: 2<br>Properties: 18<br>Edits: 41<br>Pages: 20",
          "gndtest<br>URL: https://gndtest.wikibase.cloud<br>Host: Wikibase Cloud<br>Version: 1.39.7<br>Start Date: 2021-03-23 00:00:00+00:00<br>Active Users: 0<br>Users: 2<br>Properties: 12<br>Edits: 40<br>Pages: 19",
          "Agents of Enslavement<br>URL: https://agents-of-enslavement.wikibase.cloud<br>Host: Wikibase Cloud<br>Version: 1.39.7<br>Start Date: 2021-08-04 00:00:00+00:00<br>Active Users: 0<br>Users: 4<br>Properties: 4<br>Edits: 59<br>Pages: 19",
          "WookieePedia<br>URL: https://wookieepedia.wikibase.cloud<br>Host: Wikibase Cloud<br>Version: 1.39.7<br>Start Date: 2024-03-27 00:00:00+00:00<br>Active Users: 0<br>Users: 3<br>Properties: 9<br>Edits: 45<br>Pages: 20",
          "Elixir’s collections<br>URL: https://elixirslibrary.wikibase.cloud<br>Host: Wikibase Cloud<br>Version: 1.39.7<br>Start Date: 2023-09-12 00:00:00+00:00<br>Active Users: 0<br>Users: 2<br>Properties: 7<br>Edits: 40<br>Pages: 19",
          "Microscopical Researches<br>URL: https://schwann.wikibase.cloud<br>Host: Wikibase Cloud<br>Version: 1.39.7<br>Start Date: 2024-04-07 00:00:00+00:00<br>Active Users: 0<br>Users: 2<br>Properties: 6<br>Edits: 89<br>Pages: 19",
          "ChaWiki<br>URL: https://chawiki.wikibase.cloud<br>Host: Wikibase Cloud<br>Version: 1.39.7<br>Start Date: 2023-11-18 00:00:00+00:00<br>Active Users: 0<br>Users: 2<br>Properties: 8<br>Edits: 89<br>Pages: 19",
          "anton5<br>URL: https://anton5.wikibase.cloud<br>Host: Wikibase Cloud<br>Version: 1.39.7<br>Start Date: 2024-06-20 00:00:00+00:00<br>Active Users: 0<br>Users: 2<br>Properties: 12<br>Edits: 40<br>Pages: 19",
          "Monacan<br>URL: https://monacan.wikibase.cloud<br>Host: Wikibase Cloud<br>Version: 1.39.7<br>Start Date: 2019-10-26 00:00:00+00:00<br>Active Users: 0<br>Users: 5<br>Properties: 2<br>Edits: 67<br>Pages: 18",
          "Open Music Observatory<br>URL: https://openmusic.wikibase.cloud<br>Host: Wikibase Cloud<br>Version: 1.39.7<br>Start Date: 2024-05-25 00:00:00+00:00<br>Active Users: 0<br>Users: 2<br>Properties: 3<br>Edits: 97<br>Pages: 18",
          "e-qvadrat<br>URL: https://e-qvadrat.wikibase.cloud<br>Host: Wikibase Cloud<br>Version: 1.39.7<br>Start Date: 2024-02-20 00:00:00+00:00<br>Active Users: 0<br>Users: 2<br>Properties: 7<br>Edits: 34<br>Pages: 18",
          "Weaver<br>URL: https://weaver.wikibase.cloud<br>Host: Wikibase Cloud<br>Version: 1.39.7<br>Start Date: 2023-05-16 00:00:00+00:00<br>Active Users: 0<br>Users: 2<br>Properties: 11<br>Edits: 37<br>Pages: 17",
          "Wikispeleology<br>URL: https://wikispeleology.wikibase.cloud<br>Host: Wikibase Cloud<br>Version: 1.39.7<br>Start Date: 2021-05-04 00:00:00+00:00<br>Active Users: 0<br>Users: 4<br>Properties: 6<br>Edits: 57<br>Pages: 17",
          "My Personal Library<br>URL: https://mypersonallibray.wikibase.cloud<br>Host: Wikibase Cloud<br>Version: 1.39.7<br>Start Date: 2023-09-12 00:00:00+00:00<br>Active Users: 0<br>Users: 2<br>Properties: 7<br>Edits: 19<br>Pages: 17",
          "Franca's collection<br>URL: https://franca.wikibase.cloud<br>Host: Wikibase Cloud<br>Version: 1.39.7<br>Start Date: 2023-09-12 00:00:00+00:00<br>Active Users: 0<br>Users: 2<br>Properties: 7<br>Edits: 37<br>Pages: 17",
          "anton9<br>URL: https://anton9.wikibase.cloud<br>Host: Wikibase Cloud<br>Version: 1.39.7<br>Start Date: 2024-08-20 00:00:00+00:00<br>Active Users: 0<br>Users: 2<br>Properties: 7<br>Edits: 21<br>Pages: 17",
          "hist-arch-reg<br>URL: https://hist-arch-reg.wikibase.cloud<br>Host: Wikibase Cloud<br>Version: 1.39.7<br>Start Date: 2024-05-03 00:00:00+00:00<br>Active Users: 0<br>Users: 2<br>Properties: 7<br>Edits: 33<br>Pages: 17",
          "WikiPrompts<br>URL: https://wikiprompts.wikibase.cloud<br>Host: Wikibase Cloud<br>Version: 1.39.7<br>Start Date: 2024-09-22 00:00:00+00:00<br>Active Users: 1<br>Users: 3<br>Properties: 7<br>Edits: 32<br>Pages: 17",
          "Precision Oncology<br>URL: https://gs-oncology.wikibase.cloud<br>Host: Wikibase Cloud<br>Version: 1.39.7<br>Start Date: 2024-10-05 00:00:00+00:00<br>Active Users: 1<br>Users: 3<br>Properties: 8<br>Edits: 19<br>Pages: 18",
          "TegaOmorodion<br>URL: https://delight.wikibase.cloud<br>Host: Wikibase Cloud<br>Version: 1.39.7<br>Start Date: 2023-07-13 00:00:00+00:00<br>Active Users: 0<br>Users: 2<br>Properties: 8<br>Edits: 20<br>Pages: 16",
          "Poppenspel<br>URL: https://poppenspel.wikibase.cloud<br>Host: Wikibase Cloud<br>Version: 1.39.7<br>Start Date: 2024-10-08 00:00:00+00:00<br>Active Users: 2<br>Users: 2<br>Properties: 13<br>Edits: 21<br>Pages: 17",
          "GraceBeke<br>URL: https://nigerdeltalibrary.wikibase.cloud<br>Host: Wikibase Cloud<br>Version: 1.39.7<br>Start Date: 2023-09-12 00:00:00+00:00<br>Active Users: 0<br>Users: 2<br>Properties: 4<br>Edits: 26<br>Pages: 16",
          "Test dokument<br>URL: https://testdokument.wikibase.cloud<br>Host: Wikibase Cloud<br>Version: 1.39.7<br>Start Date: 2023-12-19 00:00:00+00:00<br>Active Users: 0<br>Users: 3<br>Properties: 3<br>Edits: 36<br>Pages: 16",
          "merops<br>URL: https://merops.wikibase.cloud<br>Host: Wikibase Cloud<br>Version: 1.39.7<br>Start Date: 2024-03-05 00:00:00+00:00<br>Active Users: 0<br>Users: 3<br>Properties: 6<br>Edits: 28<br>Pages: 16",
          "miwinves2324<br>URL: https://miwinves2324.wikibase.cloud<br>Host: Wikibase Cloud<br>Version: 1.39.7<br>Start Date: 2024-05-13 00:00:00+00:00<br>Active Users: 0<br>Users: 6<br>Properties: 4<br>Edits: 34<br>Pages: 16",
          "ecomedia<br>URL: https://ecomedia.wikibase.cloud<br>Host: Wikibase Cloud<br>Version: 1.39.7<br>Start Date: 2024-07-16 00:00:00+00:00<br>Active Users: 0<br>Users: 3<br>Properties: 10<br>Edits: 36<br>Pages: 16",
          "federation<br>URL: https://federation.wikibase.cloud<br>Host: Wikibase Cloud<br>Version: 1.39.7<br>Start Date: 2019-11-01 00:00:00+00:00<br>Active Users: 0<br>Users: 3<br>Properties: 5<br>Edits: 26<br>Pages: 15",
          "wikibasetest<br>URL: https://wikibasetest.wikibase.cloud<br>Host: Wikibase Cloud<br>Version: 1.39.7<br>Start Date: 2022-11-16 00:00:00+00:00<br>Active Users: 0<br>Users: 2<br>Properties: 3<br>Edits: 16<br>Pages: 15",
          "Wikitest<br>URL: https://testwikiatesttesttesttesteee.wikibase.cloud<br>Host: Wikibase Cloud<br>Version: 1.39.7<br>Start Date: 2024-09-14 00:00:00+00:00<br>Active Users: 0<br>Users: 3<br>Properties: 5<br>Edits: 25<br>Pages: 16",
          "my wikibase class<br>URL: https://ramatu.wikibase.cloud<br>Host: Wikibase Cloud<br>Version: 1.39.7<br>Start Date: 2023-07-17 00:00:00+00:00<br>Active Users: 0<br>Users: 2<br>Properties: 10<br>Edits: 23<br>Pages: 15",
          "stadnamn<br>URL: https://stadnamn.wikibase.cloud<br>Host: Wikibase Cloud<br>Version: 1.39.7<br>Start Date: 2023-08-16 00:00:00+00:00<br>Active Users: 1<br>Users: 2<br>Properties: 11<br>Edits: 108<br>Pages: 17",
          "VJ Test<br>URL: https://trial-1.wikibase.cloud<br>Host: Wikibase Cloud<br>Version: 1.39.7<br>Start Date: 2023-07-27 00:00:00+00:00<br>Active Users: 0<br>Users: 2<br>Properties: 8<br>Edits: 35<br>Pages: 15",
          "Chinese Culture and Heritage<br>URL: https://chinese-culture-and-heritage.wikibase.cloud<br>Host: Wikibase Cloud<br>Version: 1.39.7<br>Start Date: 2023-07-10 00:00:00+00:00<br>Active Users: 1<br>Users: 13<br>Properties: 21<br>Edits: 69<br>Pages: 29",
          "Azaiki Public Library<br>URL: https://azaikilibrary.wikibase.cloud<br>Host: Wikibase Cloud<br>Version: 1.39.7<br>Start Date: 2023-09-12 00:00:00+00:00<br>Active Users: 0<br>Users: 2<br>Properties: 5<br>Edits: 25<br>Pages: 15",
          "VEE'S FASHION<br>URL: https://nigerlibrary.wikibase.cloud<br>Host: Wikibase Cloud<br>Version: 1.39.7<br>Start Date: 2023-09-12 00:00:00+00:00<br>Active Users: 0<br>Users: 2<br>Properties: 5<br>Edits: 33<br>Pages: 15",
          "FMCY Library<br>URL: https://poinami-library.wikibase.cloud<br>Host: Wikibase Cloud<br>Version: 1.39.7<br>Start Date: 2023-09-12 00:00:00+00:00<br>Active Users: 0<br>Users: 2<br>Properties: 7<br>Edits: 24<br>Pages: 15",
          "BrukerBasen<br>URL: https://brikerbasen.wikibase.cloud<br>Host: Wikibase Cloud<br>Version: 1.39.7<br>Start Date: 2024-05-03 00:00:00+00:00<br>Active Users: 0<br>Users: 2<br>Properties: 6<br>Edits: 15<br>Pages: 15",
          "copypastewaste_prototype<br>URL: https://copypastewasteprototype.wikibase.cloud<br>Host: Wikibase Cloud<br>Version: 1.39.7<br>Start Date: 2024-06-19 00:00:00+00:00<br>Active Users: 0<br>Users: 14<br>Properties: 4<br>Edits: 30<br>Pages: 15",
          "Linked Lions<br>URL: https://linked-lions.wikibase.cloud<br>Host: Wikibase Cloud<br>Version: 1.39.7<br>Start Date: 2022-09-09 00:00:00+00:00<br>Active Users: 0<br>Users: 2<br>Properties: 8<br>Edits: 26<br>Pages: 14",
          "Oddruns testsite2<br>URL: https://odos-test2.wikibase.cloud<br>Host: Wikibase Cloud<br>Version: 1.39.7<br>Start Date: 2024-10-08 00:00:00+00:00<br>Active Users: 2<br>Users: 2<br>Properties: 6<br>Edits: 19<br>Pages: 15",
          "Christos Test<br>URL: https://christoslearnswbcloud.wikibase.cloud<br>Host: Wikibase Cloud<br>Version: 1.39.7<br>Start Date: 2023-01-20 00:00:00+00:00<br>Active Users: 0<br>Users: 2<br>Properties: 6<br>Edits: 39<br>Pages: 14",
          "Timi Library<br>URL: https://timilibrary.wikibase.cloud<br>Host: Wikibase Cloud<br>Version: 1.39.7<br>Start Date: 2023-09-13 00:00:00+00:00<br>Active Users: 0<br>Users: 2<br>Properties: 3<br>Edits: 20<br>Pages: 14",
          "Bena Collections<br>URL: https://benacollections.wikibase.cloud<br>Host: Wikibase Cloud<br>Version: 1.39.7<br>Start Date: 2023-09-12 00:00:00+00:00<br>Active Users: 0<br>Users: 2<br>Properties: 5<br>Edits: 23<br>Pages: 14",
          "INDXR collections<br>URL: https://indxr.wikibase.cloud<br>Host: Wikibase Cloud<br>Version: 1.39.7<br>Start Date: 2023-02-27 00:00:00+00:00<br>Active Users: 0<br>Users: 2<br>Properties: 6<br>Edits: 44<br>Pages: 14",
          "Grappliana<br>URL: https://grappliana.wikibase.cloud<br>Host: Wikibase Cloud<br>Version: 1.39.7<br>Start Date: 2023-10-06 00:00:00+00:00<br>Active Users: 0<br>Users: 2<br>Properties: 1<br>Edits: 14<br>Pages: 14",
          "La Tunisie Médicale<br>URL: https://tunismed.wikibase.cloud<br>Host: Wikibase Cloud<br>Version: 1.39.7<br>Start Date: 2024-04-11 00:00:00+00:00<br>Active Users: 0<br>Users: 2<br>Properties: 13<br>Edits: 21<br>Pages: 14",
          "Dumo Lib<br>URL: https://dumo-collection.wikibase.cloud<br>Host: Wikibase Cloud<br>Version: 1.39.7<br>Start Date: 2023-09-12 00:00:00+00:00<br>Active Users: 0<br>Users: 2<br>Properties: 5<br>Edits: 18<br>Pages: 13",
          "GOD'S FAVOURITE<br>URL: https://godfavourite.wikibase.cloud<br>Host: Wikibase Cloud<br>Version: 1.39.7<br>Start Date: 2023-09-13 00:00:00+00:00<br>Active Users: 0<br>Users: 2<br>Properties: 4<br>Edits: 18<br>Pages: 13",
          "Ugly Architecture Test<br>URL: https://ugly-architecture-test.wikibase.cloud<br>Host: Wikibase Cloud<br>Version: 1.39.7<br>Start Date: 2024-02-01 00:00:00+00:00<br>Active Users: 0<br>Users: 2<br>Properties: 8<br>Edits: 38<br>Pages: 13",
          "Test<br>URL: https://test-database.wikibase.cloud<br>Host: Wikibase Cloud<br>Version: 1.39.7<br>Start Date: 2024-02-01 00:00:00+00:00<br>Active Users: 1<br>Users: 2<br>Properties: 10<br>Edits: 61<br>Pages: 13",
          "University of Leeds Authorities<br>URL: https://leeds-authorities.wikibase.cloud<br>Host: Wikibase Cloud<br>Version: 1.39.7<br>Start Date: 2024-05-30 00:00:00+00:00<br>Active Users: 0<br>Users: 2<br>Properties: 6<br>Edits: 14<br>Pages: 14",
          "ScientistsWiki<br>URL: https://test-scientists.wikibase.cloud<br>Host: Wikibase Cloud<br>Version: 1.39.7<br>Start Date: 2024-03-06 00:00:00+00:00<br>Active Users: 0<br>Users: 2<br>Properties: 4<br>Edits: 21<br>Pages: 13",
          "350817<br>URL: https://350817.wikibase.cloud<br>Host: Wikibase Cloud<br>Version: 1.39.7<br>Start Date: 2024-02-17 00:00:00+00:00<br>Active Users: 0<br>Users: 3<br>Properties: 6<br>Edits: 34<br>Pages: 13",
          "anton7<br>URL: https://anton7.wikibase.cloud<br>Host: Wikibase Cloud<br>Version: 1.39.7<br>Start Date: 2024-08-09 00:00:00+00:00<br>Active Users: 0<br>Users: 2<br>Properties: 6<br>Edits: 13<br>Pages: 13",
          "Test CDC Commons<br>URL: https://gl-cdc-commons.wikibase.cloud<br>Host: Wikibase Cloud<br>Version: 1.39.7<br>Start Date: 2024-08-14 00:00:00+00:00<br>Active Users: 0<br>Users: 2<br>Properties: 6<br>Edits: 13<br>Pages: 13",
          "Practicum<br>URL: https://practicum.wikibase.cloud<br>Host: Wikibase Cloud<br>Version: 1.39.7<br>Start Date: 2024-08-16 00:00:00+00:00<br>Active Users: 0<br>Users: 2<br>Properties: 6<br>Edits: 13<br>Pages: 13",
          "Daria Gavrilova (periodista)<br>URL: https://dariagavrilova.wikibase.cloud<br>Host: Wikibase Cloud<br>Version: 1.39.7<br>Start Date: 2024-08-15 00:00:00+00:00<br>Active Users: 0<br>Users: 2<br>Properties: 6<br>Edits: 13<br>Pages: 13",
          "personalwiki (on wikibase.cloud)<br>URL: https://personalwiki.wikibase.cloud<br>Host: Wikibase Cloud<br>Version: 1.39.7<br>Start Date: 2024-08-17 00:00:00+00:00<br>Active Users: 0<br>Users: 2<br>Properties: 6<br>Edits: 13<br>Pages: 13",
          "hiperterminal<br>URL: https://hiperterminal.wikibase.cloud<br>Host: Wikibase Cloud<br>Version: 1.39.7<br>Start Date: 2024-08-20 00:00:00+00:00<br>Active Users: 0<br>Users: 2<br>Properties: 6<br>Edits: 13<br>Pages: 13",
          "Talmudic collections test<br>URL: https://talmudic-collections-test.wikibase.cloud<br>Host: Wikibase Cloud<br>Version: 1.39.7<br>Start Date: 2024-08-26 00:00:00+00:00<br>Active Users: 0<br>Users: 2<br>Properties: 6<br>Edits: 13<br>Pages: 13",
          "sangam<br>URL: https://sangam.wikibase.cloud<br>Host: Wikibase Cloud<br>Version: 1.39.7<br>Start Date: 2024-09-03 00:00:00+00:00<br>Active Users: 0<br>Users: 2<br>Properties: 6<br>Edits: 13<br>Pages: 13",
          "KünstlNetz1600<br>URL: https://xn--knstlnetz1600-salzburg-slc.wikibase.cloud<br>Host: Wikibase Cloud<br>Version: 1.39.7<br>Start Date: 2024-09-05 00:00:00+00:00<br>Active Users: 0<br>Users: 2<br>Properties: 6<br>Edits: 13<br>Pages: 13",
          "Conceptual Model for the Performing Arts<br>URL: https://performingarts.wikibase.cloud<br>Host: Wikibase Cloud<br>Version: 1.39.7<br>Start Date: 2024-09-24 00:00:00+00:00<br>Active Users: 1<br>Users: 2<br>Properties: 8<br>Edits: 40<br>Pages: 17",
          "Komentarz<br>URL: https://testowy-komentarz.wikibase.cloud<br>Host: Wikibase Cloud<br>Version: 1.39.7<br>Start Date: 2024-09-26 00:00:00+00:00<br>Active Users: 0<br>Users: 2<br>Properties: 6<br>Edits: 13<br>Pages: 13",
          "famedata<br>URL: https://famedata.wikibase.cloud<br>Host: Wikibase Cloud<br>Version: 1.39.7<br>Start Date: 2024-10-05 00:00:00+00:00<br>Active Users: 2<br>Users: 2<br>Properties: 6<br>Edits: 14<br>Pages: 13",
          "testing<br>URL: https://testingeric.wikibase.cloud<br>Host: Wikibase Cloud<br>Version: 1.39.7<br>Start Date: 2024-10-04 00:00:00+00:00<br>Active Users: 1<br>Users: 2<br>Properties: 6<br>Edits: 13<br>Pages: 13",
          "Solenne Test Wiki<br>URL: https://test-solenne.wikibase.cloud<br>Host: Wikibase Cloud<br>Version: 1.39.7<br>Start Date: 2024-10-08 00:00:00+00:00<br>Active Users: 2<br>Users: 2<br>Properties: 6<br>Edits: 14<br>Pages: 13",
          "Archive Sandra Becker 01<br>URL: https://sandrabecker01.wikibase.cloud<br>Host: Wikibase Cloud<br>Version: 1.39.7<br>Start Date: 2022-12-24 00:00:00+00:00<br>Active Users: 0<br>Users: 4<br>Properties: 7<br>Edits: 24<br>Pages: 12",
          "Nomenclature for Museum Cataloguing<br>URL: https://nomenclature.wikibase.cloud<br>Host: Wikibase Cloud<br>Version: 1.39.7<br>Start Date: 2024-10-08 00:00:00+00:00<br>Active Users: 1<br>Users: 2<br>Properties: 6<br>Edits: 13<br>Pages: 13",
          "Fmc library<br>URL: https://beauty-lib.wikibase.cloud<br>Host: Wikibase Cloud<br>Version: 1.39.7<br>Start Date: 2023-09-12 00:00:00+00:00<br>Active Users: 0<br>Users: 2<br>Properties: 4<br>Edits: 15<br>Pages: 12",
          "initial tests confirm success<br>URL: https://initial-tests-confirm-success.wikibase.cloud<br>Host: Wikibase Cloud<br>Version: 1.39.7<br>Start Date: 2023-01-06 00:00:00+00:00<br>Active Users: 0<br>Users: 2<br>Properties: 6<br>Edits: 15<br>Pages: 12",
          "DeJongeWiki<br>URL: https://dejonge.wikibase.cloud<br>Host: Wikibase Cloud<br>Version: 1.39.7<br>Start Date: 2023-09-23 00:00:00+00:00<br>Active Users: 0<br>Users: 2<br>Properties: 6<br>Edits: 12<br>Pages: 12",
          "AvoinGLAM Archive<br>URL: https://avoinglam.wikibase.cloud<br>Host: Wikibase Cloud<br>Version: 1.39.7<br>Start Date: 2024-02-19 00:00:00+00:00<br>Active Users: 0<br>Users: 2<br>Properties: 6<br>Edits: 22<br>Pages: 12",
          "Atkins Library Names<br>URL: https://atkins-names.wikibase.cloud<br>Host: Wikibase Cloud<br>Version: 1.39.7<br>Start Date: 2021-05-28 00:00:00+00:00<br>Active Users: 0<br>Users: 2<br>Properties: 8<br>Edits: 26<br>Pages: 11",
          "KB RDA Test Wikibase<br>URL: https://kb-rda-testwikibase.wikibase.cloud<br>Host: Wikibase Cloud<br>Version: 1.39.7<br>Start Date: 2022-12-08 00:00:00+00:00<br>Active Users: 0<br>Users: 5<br>Properties: 5<br>Edits: 25<br>Pages: 11",
          "Singerman<br>URL: https://judaicaamericana.wikibase.cloud<br>Host: Wikibase Cloud<br>Version: 1.39.7<br>Start Date: 2024-01-13 00:00:00+00:00<br>Active Users: 0<br>Users: 2<br>Properties: 6<br>Edits: 17<br>Pages: 11",
          "SON Test<br>URL: https://sonime.wikibase.cloud<br>Host: Wikibase Cloud<br>Version: 1.39.7<br>Start Date: 2024-02-22 00:00:00+00:00<br>Active Users: 0<br>Users: 2<br>Properties: 6<br>Edits: 14<br>Pages: 11",
          "MC Archives<br>URL: https://mcarchives.wikibase.cloud<br>Host: Wikibase Cloud<br>Version: 1.39.7<br>Start Date: 2022-10-06 00:00:00+00:00<br>Active Users: 0<br>Users: 4<br>Properties: 6<br>Edits: 21<br>Pages: 10",
          "cidoc-crm-example<br>URL: https://cidoc-crm-example.wikibase.cloud<br>Host: Wikibase Cloud<br>Version: 1.39.7<br>Start Date: 2020-09-24 00:00:00+00:00<br>Active Users: 0<br>Users: 2<br>Properties: 4<br>Edits: 19<br>Pages: 10",
          "arkeoweb<br>URL: https://arkeoweb.wikibase.cloud<br>Host: Wikibase Cloud<br>Version: 1.39.7<br>Start Date: 2024-09-01 00:00:00+00:00<br>Active Users: 0<br>Users: 2<br>Properties: 3<br>Edits: 46<br>Pages: 11",
          "What If Technical Writers Made a Wikibase<br>URL: https://tw-made-an-instance-of.wikibase.cloud<br>Host: Wikibase Cloud<br>Version: 1.39.7<br>Start Date: 2022-12-13 00:00:00+00:00<br>Active Users: 0<br>Users: 2<br>Properties: 3<br>Edits: 15<br>Pages: 10",
          "Plants<br>URL: https://plant.wikibase.cloud<br>Host: Wikibase Cloud<br>Version: 1.39.7<br>Start Date: 2023-10-09 00:00:00+00:00<br>Active Users: 0<br>Users: 2<br>Properties: 9<br>Edits: 11<br>Pages: 10",
          "nullmuseum<br>URL: https://nullmuseum.wikibase.cloud<br>Host: Wikibase Cloud<br>Version: 1.39.7<br>Start Date: 2023-08-24 00:00:00+00:00<br>Active Users: 0<br>Users: 2<br>Properties: 8<br>Edits: 17<br>Pages: 10",
          "Garlician Dictionary<br>URL: https://gardict.wikibase.cloud<br>Host: Wikibase Cloud<br>Version: 1.39.7<br>Start Date: 2023-11-22 00:00:00+00:00<br>Active Users: 0<br>Users: 2<br>Properties: 7<br>Edits: 20<br>Pages: 10",
          "Base4Sesys<br>URL: https://base.sesys.org<br>Host: Wikibase Cloud<br>Version: 1.39.7<br>Start Date: 2024-04-02 00:00:00+00:00<br>Active Users: 0<br>Users: 2<br>Properties: 5<br>Edits: 28<br>Pages: 10",
          "Outlaw Test<br>URL: https://test-outlaw.wikibase.cloud<br>Host: Wikibase Cloud<br>Version: 1.39.7<br>Start Date: 2024-06-13 00:00:00+00:00<br>Active Users: 0<br>Users: 2<br>Properties: 6<br>Edits: 18<br>Pages: 10",
          "Ahmed Assessment<br>URL: https://ahmed-assessment.wikibase.cloud<br>Host: Wikibase Cloud<br>Version: 1.39.7<br>Start Date: 2024-08-26 00:00:00+00:00<br>Active Users: 0<br>Users: 3<br>Properties: 4<br>Edits: 13<br>Pages: 10",
          "Recepten<br>URL: https://recepten.wikibase.cloud<br>Host: Wikibase Cloud<br>Version: 1.39.7<br>Start Date: 2022-01-01 00:00:00+00:00<br>Active Users: 0<br>Users: 2<br>Properties: 1<br>Edits: 10<br>Pages: 9",
          "Stanford Wikibase<br>URL: https://stanford.wikibase.cloud<br>Host: Wikibase Cloud<br>Version: 1.39.7<br>Start Date: 2022-12-08 00:00:00+00:00<br>Active Users: 0<br>Users: 3<br>Properties: 5<br>Edits: 15<br>Pages: 9",
          "Lucas Library<br>URL: https://lucaslibrary.wikibase.cloud<br>Host: Wikibase Cloud<br>Version: 1.39.7<br>Start Date: 2023-09-13 00:00:00+00:00<br>Active Users: 0<br>Users: 2<br>Properties: 4<br>Edits: 12<br>Pages: 9",
          "LD4<br>URL: https://ld4goats.wikibase.cloud<br>Host: Wikibase Cloud<br>Version: 1.39.7<br>Start Date: 2020-07-15 00:00:00+00:00<br>Active Users: 0<br>Users: 2<br>Properties: 5<br>Edits: 13<br>Pages: 9",
          "Election Data Archive<br>URL: https://elections.wikibase.cloud<br>Host: Wikibase Cloud<br>Version: 1.39.7<br>Start Date: 2022-11-23 00:00:00+00:00<br>Active Users: 0<br>Users: 2<br>Properties: 4<br>Edits: 14<br>Pages: 8",
          "Farafina fanga<br>URL: https://farafina-fanga.wikibase.cloud<br>Host: Wikibase Cloud<br>Version: 1.39.7<br>Start Date: 2024-04-30 00:00:00+00:00<br>Active Users: 1<br>Users: 2<br>Properties: 1<br>Edits: 36<br>Pages: 10",
          "osobnostiregionu<br>URL: https://osobnosti.wikibase.cloud<br>Host: Wikibase Cloud<br>Version: 1.39.7<br>Start Date: 2023-01-27 00:00:00+00:00<br>Active Users: 0<br>Users: 3<br>Properties: 7<br>Edits: 18<br>Pages: 8",
          "Juncture<br>URL: https://wikibase.juncture-digital.org<br>Host: Wikibase Cloud<br>Version: 1.39.7<br>Start Date: 2023-04-13 00:00:00+00:00<br>Active Users: 0<br>Users: 2<br>Properties: 2<br>Edits: 8<br>Pages: 8",
          "Rejoice Library<br>URL: https://rejoicelibrary.wikibase.cloud<br>Host: Wikibase Cloud<br>Version: 1.39.7<br>Start Date: 2023-09-12 00:00:00+00:00<br>Active Users: 0<br>Users: 2<br>Properties: 3<br>Edits: 9<br>Pages: 8",
          "Open Postcards Database<br>URL: https://openpostcards.wikibase.cloud<br>Host: Wikibase Cloud<br>Version: 1.39.7<br>Start Date: 2023-06-23 00:00:00+00:00<br>Active Users: 0<br>Users: 3<br>Properties: 3<br>Edits: 15<br>Pages: 8",
          "fmc library<br>URL: https://tintosafrik4me.wikibase.cloud<br>Host: Wikibase Cloud<br>Version: 1.39.7<br>Start Date: 2023-09-13 00:00:00+00:00<br>Active Users: 0<br>Users: 2<br>Properties: 4<br>Edits: 17<br>Pages: 8",
          "inere library<br>URL: https://inerelibrary.wikibase.cloud<br>Host: Wikibase Cloud<br>Version: 1.39.7<br>Start Date: 2023-09-13 00:00:00+00:00<br>Active Users: 0<br>Users: 2<br>Properties: 3<br>Edits: 9<br>Pages: 8",
          "Nelson's cona<br>URL: https://nelson.wikibase.cloud<br>Host: Wikibase Cloud<br>Version: 1.39.7<br>Start Date: 2023-09-13 00:00:00+00:00<br>Active Users: 0<br>Users: 2<br>Properties: 4<br>Edits: 8<br>Pages: 8",
          "Ayomidelibs<br>URL: https://ayomidelibs.wikibase.cloud<br>Host: Wikibase Cloud<br>Version: 1.39.7<br>Start Date: 2023-09-13 00:00:00+00:00<br>Active Users: 0<br>Users: 2<br>Properties: 5<br>Edits: 8<br>Pages: 8",
          "gcam<br>URL: https://greek-coinage-of-asia-minor.wikibase.cloud<br>Host: Wikibase Cloud<br>Version: 1.39.7<br>Start Date: 2023-10-04 00:00:00+00:00<br>Active Users: 0<br>Users: 2<br>Properties: 3<br>Edits: 12<br>Pages: 8",
          "My first Wikipage<br>URL: https://my-wiki-bible.wikibase.cloud<br>Host: Wikibase Cloud<br>Version: 1.39.7<br>Start Date: 2023-12-18 00:00:00+00:00<br>Active Users: 0<br>Users: 2<br>Properties: 2<br>Edits: 10<br>Pages: 8",
          "Resounding Libraries<br>URL: https://resounding-libraries.wikibase.cloud<br>Host: Wikibase Cloud<br>Version: 1.39.7<br>Start Date: 2024-01-15 00:00:00+00:00<br>Active Users: 0<br>Users: 5<br>Properties: 3<br>Edits: 14<br>Pages: 8",
          "Lab collective<br>URL: https://labcollective.wikibase.cloud<br>Host: Wikibase Cloud<br>Version: 1.39.7<br>Start Date: 2024-04-16 00:00:00+00:00<br>Active Users: 0<br>Users: 2<br>Properties: 4<br>Edits: 8<br>Pages: 8",
          "Tolkien Data<br>URL: https://tolkiendata.org<br>Host: Wikibase Cloud<br>Version: 1.39.7<br>Start Date: 2024-07-23 00:00:00+00:00<br>Active Users: 0<br>Users: 5<br>Properties: 6<br>Edits: 13<br>Pages: 8",
          "KM28-2<br>URL: https://km28-2.wikibase.cloud<br>Host: Wikibase Cloud<br>Version: 1.39.7<br>Start Date: 2024-04-18 00:00:00+00:00<br>Active Users: 0<br>Users: 3<br>Properties: 3<br>Edits: 11<br>Pages: 8",
          "PrivacyGraph<br>URL: https://privacygraph.wikibase.cloud<br>Host: Wikibase Cloud<br>Version: 1.39.7<br>Start Date: 2022-11-16 00:00:00+00:00<br>Active Users: 0<br>Users: 2<br>Properties: 7<br>Edits: 17<br>Pages: 7",
          "Solanum Taxonomy<br>URL: https://solanum.wikibase.cloud<br>Host: Wikibase Cloud<br>Version: 1.39.7<br>Start Date: 2021-01-01 00:00:00+00:00<br>Active Users: 0<br>Users: 2<br>Properties: 3<br>Edits: 7<br>Pages: 7",
          "TestSite<br>URL: https://ublmutest.wikibase.cloud<br>Host: Wikibase Cloud<br>Version: 1.39.7<br>Start Date: 2022-11-24 00:00:00+00:00<br>Active Users: 0<br>Users: 4<br>Properties: 1<br>Edits: 7<br>Pages: 7",
          "Wikibae<br>URL: https://wikibae.de<br>Host: Wikibase Cloud<br>Version: 1.39.7<br>Start Date: 2022-10-20 00:00:00+00:00<br>Active Users: 1<br>Users: 2<br>Properties: 1<br>Edits: 14<br>Pages: 7",
          "andrew<br>URL: https://andrew.wikibase.cloud<br>Host: Wikibase Cloud<br>Version: 1.39.7<br>Start Date: 2023-01-12 00:00:00+00:00<br>Active Users: 0<br>Users: 2<br>Properties: 1<br>Edits: 10<br>Pages: 7",
          "ZAMN<br>URL: https://zamn-data.wikibase.cloud<br>Host: Wikibase Cloud<br>Version: 1.39.7<br>Start Date: 2023-10-12 00:00:00+00:00<br>Active Users: 0<br>Users: 2<br>Properties: 3<br>Edits: 12<br>Pages: 7",
          "SocioIntel<br>URL: https://socioinsight.wikibase.cloud<br>Host: Wikibase Cloud<br>Version: 1.39.7<br>Start Date: 2023-10-03 00:00:00+00:00<br>Active Users: 0<br>Users: 2<br>Properties: 5<br>Edits: 15<br>Pages: 7",
          "pikachupedia<br>URL: https://pikachupedia.wikibase.cloud<br>Host: Wikibase Cloud<br>Version: 1.39.7<br>Start Date: 2023-11-08 00:00:00+00:00<br>Active Users: 0<br>Users: 2<br>Properties: 1<br>Edits: 17<br>Pages: 7",
          "AMC Test<br>URL: https://archiveofmodernconflict.wikibase.cloud<br>Host: Wikibase Cloud<br>Version: 1.39.7<br>Start Date: 2024-04-25 00:00:00+00:00<br>Active Users: 0<br>Users: 2<br>Properties: 2<br>Edits: 8<br>Pages: 7",
          "Basque Bib<br>URL: https://basquebib.wikibase.cloud<br>Host: Wikibase Cloud<br>Version: 1.39.7<br>Start Date: 2024-06-11 00:00:00+00:00<br>Active Users: 0<br>Users: 3<br>Properties: 5<br>Edits: 10<br>Pages: 7",
          "FLP Experimental Wikibase<br>URL: https://flp-experiments.wikibase.cloud<br>Host: Wikibase Cloud<br>Version: 1.39.7<br>Start Date: 2024-07-08 00:00:00+00:00<br>Active Users: 0<br>Users: 2<br>Properties: 4<br>Edits: 10<br>Pages: 6",
          "fp2test01<br>URL: https://fp2test01.wikibase.cloud<br>Host: Wikibase Cloud<br>Version: 1.39.7<br>Start Date: 2022-05-03 00:00:00+00:00<br>Active Users: 0<br>Users: 3<br>Properties: 2<br>Edits: 6<br>Pages: 6",
          "pr0be - more then tests, less then stable<br>URL: https://pr0be.wikibase.cloud<br>Host: Wikibase Cloud<br>Version: 1.39.7<br>Start Date: 2023-07-16 00:00:00+00:00<br>Active Users: 0<br>Users: 2<br>Properties: 2<br>Edits: 9<br>Pages: 6",
          "Valeries Galleries<br>URL: https://valeries-galleries.wikibase.cloud<br>Host: Wikibase Cloud<br>Version: 1.39.7<br>Start Date: 2022-09-26 00:00:00+00:00<br>Active Users: 0<br>Users: 3<br>Properties: 2<br>Edits: 8<br>Pages: 6",
          "testwiki2 (on wikibase.cloud)<br>URL: https://testwiki2.wikibase.cloud<br>Host: Wikibase Cloud<br>Version: 1.39.7<br>Start Date: 2024-07-26 00:00:00+00:00<br>Active Users: 0<br>Users: 3<br>Properties: 1<br>Edits: 6<br>Pages: 6",
          "berLINked<br>URL: https://berlinked.wikibase.cloud<br>Host: Wikibase Cloud<br>Version: 1.39.7<br>Start Date: 2022-09-28 00:00:00+00:00<br>Active Users: 0<br>Users: 3<br>Properties: 3<br>Edits: 9<br>Pages: 6",
          "Dagbani Wikimedians<br>URL: https://dagbani.wikibase.cloud<br>Host: Wikibase Cloud<br>Version: 1.39.7<br>Start Date: 2022-02-10 00:00:00+00:00<br>Active Users: 0<br>Users: 4<br>Properties: 2<br>Edits: 22<br>Pages: 6",
          "FM test<br>URL: https://fmtest.wikibase.cloud<br>Host: Wikibase Cloud<br>Version: 1.39.7<br>Start Date: 2022-10-04 00:00:00+00:00<br>Active Users: 0<br>Users: 2<br>Properties: 4<br>Edits: 9<br>Pages: 6",
          "Flexablemedia<br>URL: https://flexablemedia.wikibase.cloud<br>Host: Wikibase Cloud<br>Version: 1.39.7<br>Start Date: 2023-09-12 00:00:00+00:00<br>Active Users: 0<br>Users: 3<br>Properties: 3<br>Edits: 6<br>Pages: 6",
          "ayas Library<br>URL: https://ayaslibrary.wikibase.cloud<br>Host: Wikibase Cloud<br>Version: 1.39.7<br>Start Date: 2023-09-13 00:00:00+00:00<br>Active Users: 0<br>Users: 2<br>Properties: 4<br>Edits: 9<br>Pages: 6",
          "MG WIKI<br>URL: https://galal.wikibase.cloud<br>Host: Wikibase Cloud<br>Version: 1.39.7<br>Start Date: 2024-04-27 00:00:00+00:00<br>Active Users: 0<br>Users: 2<br>Properties: 2<br>Edits: 9<br>Pages: 6",
          "Eberechukwu<br>URL: https://edith.wikibase.cloud<br>Host: Wikibase Cloud<br>Version: 1.39.7<br>Start Date: 2023-09-13 00:00:00+00:00<br>Active Users: 0<br>Users: 2<br>Properties: 4<br>Edits: 6<br>Pages: 6",
          "Digital Art Dissertation<br>URL: https://digital-art-database.wikibase.cloud<br>Host: Wikibase Cloud<br>Version: 1.39.7<br>Start Date: 2024-01-25 00:00:00+00:00<br>Active Users: 0<br>Users: 2<br>Properties: 3<br>Edits: 11<br>Pages: 6",
          "Ethos Lab<br>URL: https://ethoslab.wikibase.cloud<br>Host: Wikibase Cloud<br>Version: 1.39.7<br>Start Date: 2024-02-04 00:00:00+00:00<br>Active Users: 0<br>Users: 2<br>Properties: 2<br>Edits: 14<br>Pages: 6",
          "testes (on wikibase cloud)<br>URL: https://testes.wikibase.cloud<br>Host: Wikibase Cloud<br>Version: 1.39.7<br>Start Date: 2022-01-07 00:00:00+00:00<br>Active Users: 1<br>Users: 4<br>Properties: 10<br>Edits: 45<br>Pages: 27",
          "bl-sandbox<br>URL: https://bl-sandbox.wikibase.cloud<br>Host: Wikibase Cloud<br>Version: 1.39.7<br>Start Date: 2022-02-21 00:00:00+00:00<br>Active Users: 0<br>Users: 3<br>Properties: 1<br>Edits: 8<br>Pages: 6",
          "Astrology<br>URL: https://astrology.wikibase.cloud<br>Host: Wikibase Cloud<br>Version: 1.39.7<br>Start Date: 2023-11-01 00:00:00+00:00<br>Active Users: 0<br>Users: 2<br>Properties: 3<br>Edits: 9<br>Pages: 6",
          "MathModDB<br>URL: https://mathmoddb.wikibase.cloud<br>Host: Wikibase Cloud<br>Version: 1.39.7<br>Start Date: 2023-11-10 00:00:00+00:00<br>Active Users: 0<br>Users: 3<br>Properties: 1<br>Edits: 8<br>Pages: 6",
          "data-el<br>URL: https://test789987.wikibase.cloud<br>Host: Wikibase Cloud<br>Version: 1.39.7<br>Start Date: 2024-06-07 00:00:00+00:00<br>Active Users: 0<br>Users: 3<br>Properties: 4<br>Edits: 9<br>Pages: 6",
          "unimath<br>URL: https://unimath.wikibase.cloud<br>Host: Wikibase Cloud<br>Version: 1.39.7<br>Start Date: 2024-06-21 00:00:00+00:00<br>Active Users: 0<br>Users: 2<br>Properties: 2<br>Edits: 12<br>Pages: 6",
          "tom-prod-test-a23sc<br>URL: https://tom-prod-test-a23sc.wikibase.cloud<br>Host: Wikibase Cloud<br>Version: 1.39.7<br>Start Date: 2022-02-01 00:00:00+00:00<br>Active Users: 0<br>Users: 2<br>Properties: 1<br>Edits: 7<br>Pages: 5",
          "my-mtg-collection<br>URL: https://aj-mtg-collection.wikibase.cloud<br>Host: Wikibase Cloud<br>Version: 1.39.7<br>Start Date: 2024-07-07 00:00:00+00:00<br>Active Users: 0<br>Users: 2<br>Properties: 1<br>Edits: 5<br>Pages: 5",
          "personal wiki<br>URL: https://cougarcat.wikibase.cloud<br>Host: Wikibase Cloud<br>Version: 1.39.7<br>Start Date: 2023-12-24 00:00:00+00:00<br>Active Users: 0<br>Users: 2<br>Properties: 2<br>Edits: 9<br>Pages: 5",
          "Software Packages<br>URL: https://packages.wikibase.cloud<br>Host: Wikibase Cloud<br>Version: 1.39.7<br>Start Date: 2024-04-15 00:00:00+00:00<br>Active Users: 0<br>Users: 2<br>Properties: 2<br>Edits: 6<br>Pages: 5",
          "HKBU Library Art Collections<br>URL: https://hkbu-library-art-collections.wikibase.cloud<br>Host: Wikibase Cloud<br>Version: 1.39.7<br>Start Date: 2023-08-11 00:00:00+00:00<br>Active Users: 0<br>Users: 4<br>Properties: 3<br>Edits: 8<br>Pages: 5",
          "电子知识<br>URL: https://eezhishi.wikibase.cloud<br>Host: Wikibase Cloud<br>Version: 1.39.7<br>Start Date: 2024-04-29 00:00:00+00:00<br>Active Users: 0<br>Users: 2<br>Properties: 1<br>Edits: 8<br>Pages: 5",
          "nochallengingcharactersatall<br>URL: https://nochallengingcharactersatall.wikibase.cloud<br>Host: Wikibase Cloud<br>Version: 1.39.7<br>Start Date: 2023-01-06 00:00:00+00:00<br>Active Users: 0<br>Users: 2<br>Properties: 3<br>Edits: 7<br>Pages: 5",
          "heuristic<br>URL: https://wei-cheng.wikibase.cloud<br>Host: Wikibase Cloud<br>Version: 1.39.7<br>Start Date: 2022-11-16 00:00:00+00:00<br>Active Users: 0<br>Users: 4<br>Properties: 1<br>Edits: 9<br>Pages: 5",
          "Local Government Data Testing<br>URL: https://lwhos2ociu-somegovdata.wikibase.cloud<br>Host: Wikibase Cloud<br>Version: 1.39.7<br>Start Date: 2024-09-02 00:00:00+00:00<br>Active Users: 0<br>Users: 2<br>Properties: 3<br>Edits: 5<br>Pages: 5",
          "pika2pedia<br>URL: https://pika2pedia.wikibase.cloud<br>Host: Wikibase Cloud<br>Version: 1.39.7<br>Start Date: 2023-11-08 00:00:00+00:00<br>Active Users: 0<br>Users: 2<br>Properties: 2<br>Edits: 7<br>Pages: 5",
          "Vihreiden ohjelmat<br>URL: https://vihreat-ohjelmat.wikibase.cloud<br>Host: Wikibase Cloud<br>Version: 1.39.7<br>Start Date: 2024-06-15 00:00:00+00:00<br>Active Users: 0<br>Users: 2<br>Properties: 1<br>Edits: 6<br>Pages: 5",
          "mw138test<br>URL: https://mw138test.wikibase.cloud<br>Host: Wikibase Cloud<br>Version: 1.39.7<br>Start Date: 2023-03-23 00:00:00+00:00<br>Active Users: 0<br>Users: 2<br>Properties: 1<br>Edits: 6<br>Pages: 5",
          "wmde-jan-01_testwiki2<br>URL: https://wmde-jan-01-testwiki2.wikibase.cloud<br>Host: Wikibase Cloud<br>Version: 1.39.7<br>Start Date: 2022-04-12 00:00:00+00:00<br>Active Users: 0<br>Users: 2<br>Properties: 2<br>Edits: 9<br>Pages: 4",
          "Digikim Test<br>URL: https://digikim-test.wikibase.cloud<br>Host: Wikibase Cloud<br>Version: 1.39.7<br>Start Date: 2023-07-02 00:00:00+00:00<br>Active Users: 0<br>Users: 2<br>Properties: 1<br>Edits: 5<br>Pages: 4",
          "RuArxive<br>URL: https://rugovdomains.wikibase.cloud<br>Host: Wikibase Cloud<br>Version: 1.39.7<br>Start Date: 2023-12-15 00:00:00+00:00<br>Active Users: 0<br>Users: 2<br>Properties: 3<br>Edits: 11<br>Pages: 4",
          "North Carolina Gazetteer<br>URL: https://north-carolina-gazetteer.wikibase.cloud<br>Host: Wikibase Cloud<br>Version: 1.39.7<br>Start Date: 2022-09-15 00:00:00+00:00<br>Active Users: 0<br>Users: 2<br>Properties: 1<br>Edits: 5<br>Pages: 4",
          "Vaarwegennet NL<br>URL: https://vaarwegennet.wikibase.cloud<br>Host: Wikibase Cloud<br>Version: 1.39.7<br>Start Date: 2024-04-05 00:00:00+00:00<br>Active Users: 0<br>Users: 2<br>Properties: 1<br>Edits: 5<br>Pages: 4",
          "Open English WordNet<br>URL: https://open-english-wordnet.wikibase.cloud<br>Host: Wikibase Cloud<br>Version: 1.39.7<br>Start Date: 2024-01-16 00:00:00+00:00<br>Active Users: 0<br>Users: 2<br>Properties: 2<br>Edits: 5<br>Pages: 4",
          "Provenance<br>URL: https://provenance.wikibase.cloud<br>Host: Wikibase Cloud<br>Version: 1.39.7<br>Start Date: 2024-01-13 00:00:00+00:00<br>Active Users: 0<br>Users: 2<br>Properties: 2<br>Edits: 8<br>Pages: 4",
          "Talmudic collections test<br>URL: https://try-collection.wikibase.cloud<br>Host: Wikibase Cloud<br>Version: 1.39.7<br>Start Date: 2024-08-26 00:00:00+00:00<br>Active Users: 0<br>Users: 3<br>Properties: 1<br>Edits: 4<br>Pages: 4",
          "Test<br>URL: https://qwe-test.wikibase.cloud<br>Host: Wikibase Cloud<br>Version: 1.39.7<br>Start Date: 2024-05-15 00:00:00+00:00<br>Active Users: 0<br>Users: 2<br>Properties: 2<br>Edits: 9<br>Pages: 4",
          "LCA-Test<br>URL: https://test-lcc.wikibase.cloud<br>Host: Wikibase Cloud<br>Version: 1.39.7<br>Start Date: 2022-12-17 00:00:00+00:00<br>Active Users: 0<br>Users: 2<br>Properties: 2<br>Edits: 7<br>Pages: 4",
          "CPS2<br>URL: https://cps2-masters.wikibase.cloud<br>Host: Wikibase Cloud<br>Version: 1.39.7<br>Start Date: 2023-02-10 00:00:00+00:00<br>Active Users: 0<br>Users: 2<br>Properties: 1<br>Edits: 6<br>Pages: 4",
          "Cat collective v2<br>URL: https://cat-collective2.wikibase.cloud<br>Host: Wikibase Cloud<br>Version: 1.39.7<br>Start Date: 2021-01-15 00:00:00+00:00<br>Active Users: 0<br>Users: 2<br>Properties: 1<br>Edits: 8<br>Pages: 4",
          "EjemploCurso<br>URL: https://websemanticmiw2020.wikibase.cloud<br>Host: Wikibase Cloud<br>Version: 1.39.7<br>Start Date: 2020-05-14 00:00:00+00:00<br>Active Users: 0<br>Users: 3<br>Properties: 1<br>Edits: 5<br>Pages: 4",
          "Star Wars Structured Data<br>URL: https://sw-data.wikibase.cloud<br>Host: Wikibase Cloud<br>Version: 1.39.7<br>Start Date: 2024-05-22 00:00:00+00:00<br>Active Users: 0<br>Users: 2<br>Properties: 1<br>Edits: 16<br>Pages: 4",
          "Internationaler Sozialistischer Kampfbund - Testsite<br>URL: https://internationaler-sozialistischer-kampfbund-test.wikibase.cloud<br>Host: Wikibase Cloud<br>Version: 1.39.7<br>Start Date: 2023-02-27 00:00:00+00:00<br>Active Users: 0<br>Users: 2<br>Properties: 1<br>Edits: 4<br>Pages: 4",
          "Order of Battle<br>URL: https://civil-war-order-of-battle-online.wikibase.cloud<br>Host: Wikibase Cloud<br>Version: 1.39.7<br>Start Date: 2024-06-09 00:00:00+00:00<br>Active Users: 0<br>Users: 2<br>Properties: 1<br>Edits: 4<br>Pages: 4",
          "Catalogus Professorum UU<br>URL: https://catalogusprofessorumuu.wikibase.cloud<br>Host: Wikibase Cloud<br>Version: 1.39.7<br>Start Date: 2023-11-04 00:00:00+00:00<br>Active Users: 7<br>Users: 9<br>Properties: 30<br>Edits: 102<br>Pages: 32",
          "sandbox<br>URL: https://bgsand.wikibase.cloud<br>Host: Wikibase Cloud<br>Version: 1.39.7<br>Start Date: 2024-03-27 00:00:00+00:00<br>Active Users: 0<br>Users: 2<br>Properties: 2<br>Edits: 5<br>Pages: 3",
          "Ludovico<br>URL: https://ludovico.wikibase.cloud<br>Host: Wikibase Cloud<br>Version: 1.39.7<br>Start Date: 2023-11-18 00:00:00+00:00<br>Active Users: 0<br>Users: 2<br>Properties: 2<br>Edits: 7<br>Pages: 4",
          "CuratingData<br>URL: https://curatingdata.wikibase.cloud<br>Host: Wikibase Cloud<br>Version: 1.39.7<br>Start Date: 2024-06-28 00:00:00+00:00<br>Active Users: 0<br>Users: 3<br>Properties: 1<br>Edits: 14<br>Pages: 4",
          "RefWiki<br>URL: https://refwiki.wikibase.cloud<br>Host: Wikibase Cloud<br>Version: 1.39.7<br>Start Date: 2023-06-28 00:00:00+00:00<br>Active Users: 0<br>Users: 2<br>Properties: 3<br>Edits: 7<br>Pages: 3",
          "test-bd<br>URL: https://bdwiki.wikibase.cloud<br>Host: Wikibase Cloud<br>Version: 1.39.7<br>Start Date: 2023-07-15 00:00:00+00:00<br>Active Users: 0<br>Users: 2<br>Properties: 1<br>Edits: 4<br>Pages: 3",
          "Bootsa - Stream<br>URL: https://stream.bootsa.net<br>Host: Wikibase Cloud<br>Version: 1.39.7<br>Start Date: 2022-09-30 00:00:00+00:00<br>Active Users: 0<br>Users: 2<br>Properties: 2<br>Edits: 4<br>Pages: 3",
          "Datos<br>URL: https://datos-algort.wikibase.cloud<br>Host: Wikibase Cloud<br>Version: 1.39.7<br>Start Date: 2024-07-29 00:00:00+00:00<br>Active Users: 0<br>Users: 2<br>Properties: 1<br>Edits: 3<br>Pages: 3",
          "Leosini<br>URL: https://leosini.wikibase.cloud<br>Host: Wikibase Cloud<br>Version: 1.39.7<br>Start Date: 2024-07-30 00:00:00+00:00<br>Active Users: 1<br>Users: 2<br>Properties: 10<br>Edits: 20<br>Pages: 14",
          "AM-Test<br>URL: https://am-test.wikibase.cloud<br>Host: Wikibase Cloud<br>Version: 1.39.7<br>Start Date: 2023-09-07 00:00:00+00:00<br>Active Users: 0<br>Users: 2<br>Properties: 1<br>Edits: 3<br>Pages: 3",
          "Cooperative Directory<br>URL: https://cooperatives.wikibase.cloud<br>Host: Wikibase Cloud<br>Version: 1.39.7<br>Start Date: 2022-10-04 00:00:00+00:00<br>Active Users: 0<br>Users: 2<br>Properties: 1<br>Edits: 6<br>Pages: 3",
          "FMtest 2<br>URL: https://fmtest2.wikibase.cloud<br>Host: Wikibase Cloud<br>Version: 1.39.7<br>Start Date: 2022-10-04 00:00:00+00:00<br>Active Users: 0<br>Users: 2<br>Properties: 2<br>Edits: 4<br>Pages: 3",
          "Vintergatan<br>URL: https://vintergatan.wikibase.cloud<br>Host: Wikibase Cloud<br>Version: 1.39.7<br>Start Date: 2024-01-18 00:00:00+00:00<br>Active Users: 0<br>Users: 2<br>Properties: 1<br>Edits: 5<br>Pages: 3",
          "frederikwiki<br>URL: https://frederikwiki.wikibase.cloud<br>Host: Wikibase Cloud<br>Version: 1.39.7<br>Start Date: 2022-11-10 00:00:00+00:00<br>Active Users: 0<br>Users: 2<br>Properties: 1<br>Edits: 4<br>Pages: 3",
          "dimisa<br>URL: https://dimisa.wikibase.cloud<br>Host: Wikibase Cloud<br>Version: 1.39.7<br>Start Date: 2020-01-23 00:00:00+00:00<br>Active Users: 0<br>Users: 3<br>Properties: 1<br>Edits: 4<br>Pages: 3",
          "Addshore<br>URL: https://addshore.wikibase.cloud<br>Host: Wikibase Cloud<br>Version: 1.39.7<br>Start Date: 2022-05-31 00:00:00+00:00<br>Active Users: 0<br>Users: 2<br>Properties: 1<br>Edits: 9<br>Pages: 3",
          "wikishape<br>URL: https://wikishape.wikibase.cloud<br>Host: Wikibase Cloud<br>Version: 1.39.7<br>Start Date: 2020-01-04 00:00:00+00:00<br>Active Users: 0<br>Users: 3<br>Properties: 1<br>Edits: 3<br>Pages: 3",
          "Hackathon test instance<br>URL: https://hackathon-test-instance.wikibase.cloud<br>Host: Wikibase Cloud<br>Version: 1.39.7<br>Start Date: 2023-05-19 00:00:00+00:00<br>Active Users: 0<br>Users: 2<br>Properties: 1<br>Edits: 4<br>Pages: 3",
          "autoriteter<br>URL: https://autoriteter.wikibase.cloud<br>Host: Wikibase Cloud<br>Version: 1.39.7<br>Start Date: 2023-09-19 00:00:00+00:00<br>Active Users: 0<br>Users: 3<br>Properties: 2<br>Edits: 9<br>Pages: 3",
          "WASHNote sandbox<br>URL: https://registry-sandbox.washnote.org<br>Host: Wikibase Cloud<br>Version: 1.39.7<br>Start Date: 2023-11-27 00:00:00+00:00<br>Active Users: 0<br>Users: 2<br>Properties: 2<br>Edits: 6<br>Pages: 3",
          "wiki1<br>URL: https://wiki1.wikibase.cloud<br>Host: Wikibase Cloud<br>Version: 1.39.7<br>Start Date: 2024-02-03 00:00:00+00:00<br>Active Users: 0<br>Users: 2<br>Properties: 1<br>Edits: 3<br>Pages: 3",
          "RCnum<br>URL: https://rcnum.wikibase.cloud<br>Host: Wikibase Cloud<br>Version: 1.39.7<br>Start Date: 2024-02-08 00:00:00+00:00<br>Active Users: 0<br>Users: 3<br>Properties: 1<br>Edits: 4<br>Pages: 3",
          "backgrounds<br>URL: https://biblebackgrounds.wikibase.cloud<br>Host: Wikibase Cloud<br>Version: 1.39.7<br>Start Date: 2024-03-03 00:00:00+00:00<br>Active Users: 0<br>Users: 2<br>Properties: 2<br>Edits: 9<br>Pages: 3",
          "TopHeroes<br>URL: https://topheroes.wikibase.cloud<br>Host: Wikibase Cloud<br>Version: 1.39.7<br>Start Date: 2024-03-18 00:00:00+00:00<br>Active Users: 0<br>Users: 2<br>Properties: 1<br>Edits: 6<br>Pages: 3",
          "McDonald<br>URL: https://mcdonald.wikibase.cloud<br>Host: Wikibase Cloud<br>Version: 1.39.7<br>Start Date: 2024-05-15 00:00:00+00:00<br>Active Users: 0<br>Users: 2<br>Properties: 1<br>Edits: 3<br>Pages: 3",
          "Pepe piton's base<br>URL: https://pepepiton.wikibase.cloud<br>Host: Wikibase Cloud<br>Version: 1.39.7<br>Start Date: 2024-05-28 00:00:00+00:00<br>Active Users: 0<br>Users: 2<br>Properties: 1<br>Edits: 8<br>Pages: 3",
          "Metal Ham<br>URL: https://meetalham.wikibase.cloud<br>Host: Wikibase Cloud<br>Version: 1.39.7<br>Start Date: 2024-05-28 00:00:00+00:00<br>Active Users: 0<br>Users: 2<br>Properties: 1<br>Edits: 4<br>Pages: 3",
          "Language Digital Vitality<br>URL: https://languagedigitalvitality.wikibase.cloud<br>Host: Wikibase Cloud<br>Version: 1.39.7<br>Start Date: 2024-05-30 00:00:00+00:00<br>Active Users: 0<br>Users: 2<br>Properties: 1<br>Edits: 5<br>Pages: 3",
          "Genewiki<br>URL: https://genewiki.wikibase.cloud<br>Host: Wikibase Cloud<br>Version: 1.39.7<br>Start Date: 2024-05-31 00:00:00+00:00<br>Active Users: 0<br>Users: 2<br>Properties: 1<br>Edits: 3<br>Pages: 3",
          "testsite (on wikibase.cloud)<br>URL: https://testsite.wikibase.cloud<br>Host: Wikibase Cloud<br>Version: 1.39.7<br>Start Date: 2024-06-06 00:00:00+00:00<br>Active Users: 0<br>Users: 2<br>Properties: 1<br>Edits: 4<br>Pages: 3",
          "yfwiki<br>URL: https://yinfei-wiki.wikibase.cloud<br>Host: Wikibase Cloud<br>Version: 1.39.7<br>Start Date: 2024-06-12 00:00:00+00:00<br>Active Users: 0<br>Users: 2<br>Properties: 1<br>Edits: 8<br>Pages: 3",
          "test1a<br>URL: https://test1a.wikibase.cloud<br>Host: Wikibase Cloud<br>Version: 1.39.7<br>Start Date: 2024-06-14 00:00:00+00:00<br>Active Users: 0<br>Users: 2<br>Properties: 1<br>Edits: 4<br>Pages: 3",
          "here's another example<br>URL: https://another-example.wikibase.cloud<br>Host: Wikibase Cloud<br>Version: 1.39.7<br>Start Date: 2024-06-19 00:00:00+00:00<br>Active Users: 0<br>Users: 5<br>Properties: 1<br>Edits: 3<br>Pages: 3",
          "Chinese Cabinet<br>URL: https://cabinetmapping.wikibase.cloud<br>Host: Wikibase Cloud<br>Version: 1.39.7<br>Start Date: 2024-06-22 00:00:00+00:00<br>Active Users: 0<br>Users: 3<br>Properties: 1<br>Edits: 3<br>Pages: 3",
          "Pokemon WMDE Wikibase<br>URL: https://pokemon-wmde.wikibase.cloud<br>Host: Wikibase Cloud<br>Version: 1.39.7<br>Start Date: 2024-09-13 00:00:00+00:00<br>Active Users: 0<br>Users: 2<br>Properties: 1<br>Edits: 5<br>Pages: 3",
          "rose<br>URL: https://rose-collection.wikibase.cloud<br>Host: Wikibase Cloud<br>Version: 1.39.7<br>Start Date: 2022-02-07 00:00:00+00:00<br>Active Users: 0<br>Users: 4<br>Properties: 1<br>Edits: 2<br>Pages: 2",
          "MANDB Playground<br>URL: https://mandb-playground.wikibase.cloud<br>Host: Wikibase Cloud<br>Version: 1.39.7<br>Start Date: 2023-06-23 00:00:00+00:00<br>Active Users: 0<br>Users: 2<br>Properties: 1<br>Edits: 2<br>Pages: 2",
          "index<br>URL: https://catalog.grafton9.net<br>Host: Wikibase Cloud<br>Version: 1.39.7<br>Start Date: 2023-08-28 00:00:00+00:00<br>Active Users: 0<br>Users: 2<br>Properties: 2<br>Edits: 13<br>Pages: 2",
          "Historische Postkarten aus Niedersachsen<br>URL: https://niedersaechsischepostkarten.wikibase.cloud<br>Host: Wikibase Cloud<br>Version: 1.39.7<br>Start Date: 2023-09-15 00:00:00+00:00<br>Active Users: 0<br>Users: 2<br>Properties: 1<br>Edits: 4<br>Pages: 2",
          "KBR Luuse<br>URL: https://kbr-luuse.wikibase.cloud<br>Host: Wikibase Cloud<br>Version: 1.39.7<br>Start Date: 2023-10-04 00:00:00+00:00<br>Active Users: 0<br>Users: 2<br>Properties: 1<br>Edits: 3<br>Pages: 2",
          "register C<br>URL: https://registerc.wikibase.cloud<br>Host: Wikibase Cloud<br>Version: 1.39.7<br>Start Date: 2023-10-06 00:00:00+00:00<br>Active Users: 0<br>Users: 2<br>Properties: 1<br>Edits: 3<br>Pages: 2",
          "bw_history<br>URL: https://bw-history.wikibase.cloud<br>Host: Wikibase Cloud<br>Version: 1.39.7<br>Start Date: 2023-11-03 00:00:00+00:00<br>Active Users: 0<br>Users: 2<br>Properties: 1<br>Edits: 4<br>Pages: 2",
          "DPLA<br>URL: https://d-p-l-a.wikibase.cloud<br>Host: Wikibase Cloud<br>Version: 1.39.7<br>Start Date: 2023-11-18 00:00:00+00:00<br>Active Users: 0<br>Users: 2<br>Properties: 2<br>Edits: 2<br>Pages: 2",
          "People's Riisearch Archive<br>URL: https://peoples-riisearch-archive.wikibase.cloud<br>Host: Wikibase Cloud<br>Version: 1.39.7<br>Start Date: 2023-11-26 00:00:00+00:00<br>Active Users: 0<br>Users: 3<br>Properties: 1<br>Edits: 2<br>Pages: 2",
          "Colorama<br>URL: https://colorama.wikibase.cloud<br>Host: Wikibase Cloud<br>Version: 1.39.7<br>Start Date: 2023-12-18 00:00:00+00:00<br>Active Users: 0<br>Users: 2<br>Properties: 1<br>Edits: 2<br>Pages: 2",
          "Gage Data<br>URL: https://gagedata.wikibase.cloud<br>Host: Wikibase Cloud<br>Version: 1.39.7<br>Start Date: 2023-12-29 00:00:00+00:00<br>Active Users: 0<br>Users: 2<br>Properties: 1<br>Edits: 2<br>Pages: 2",
          "tropical plants collection<br>URL: https://tropicalplantscollection.wikibase.cloud<br>Host: Wikibase Cloud<br>Version: 1.39.7<br>Start Date: 2024-01-07 00:00:00+00:00<br>Active Users: 0<br>Users: 2<br>Properties: 1<br>Edits: 2<br>Pages: 2",
          "e-quadrat<br>URL: https://e-quadrat.wikibase.cloud<br>Host: Wikibase Cloud<br>Version: 1.39.7<br>Start Date: 2024-03-29 00:00:00+00:00<br>Active Users: 0<br>Users: 2<br>Properties: 1<br>Edits: 3<br>Pages: 2",
          "undusting<br>URL: https://undusting.wikibase.cloud<br>Host: Wikibase Cloud<br>Version: 1.39.7<br>Start Date: 2024-06-19 00:00:00+00:00<br>Active Users: 0<br>Users: 2<br>Properties: 1<br>Edits: 2<br>Pages: 2",
          "Oškliarch<br>URL: https://oskliarch.wikibase.cloud<br>Host: Wikibase Cloud<br>Version: 1.39.7<br>Start Date: 2024-07-09 00:00:00+00:00<br>Active Users: 0<br>Users: 2<br>Properties: 1<br>Edits: 3<br>Pages: 2",
          "PIM KB<br>URL: https://pimnevter-demo.wikibase.cloud<br>Host: Wikibase Cloud<br>Version: 1.39.7<br>Start Date: 2024-07-01 00:00:00+00:00<br>Active Users: 0<br>Users: 2<br>Properties: 1<br>Edits: 2<br>Pages: 2",
          "Filmwissen<br>URL: https://filmwissen.wikibase.cloud<br>Host: Wikibase Cloud<br>Version: 1.39.7<br>Start Date: 2024-09-06 00:00:00+00:00<br>Active Users: 3<br>Users: 2<br>Properties: 5<br>Edits: 3<br>Pages: 8",
          "YH Wiki<br>URL: https://yh-wiki.wikibase.cloud<br>Host: Wikibase Cloud<br>Version: 1.39.7<br>Start Date: 2024-10-09 00:00:00+00:00<br>Active Users: 2<br>Users: 3<br>Properties: 552<br>Edits: 577<br>Pages: 559",
          "Jörans egna<br>URL: https://joran.wikibase.cloud<br>Host: Wikibase Cloud<br>Version: 1.39.7<br>Start Date: 2024-10-11 00:00:00+00:00<br>Active Users: 2<br>Users: 2<br>Properties: 15<br>Edits: 99<br>Pages: 47",
          "LatSenRom<br>URL: https://latsenrom.wikibase.cloud<br>Host: Wikibase Cloud<br>Version: 1.39.7<br>Start Date: 2024-10-11 00:00:00+00:00<br>Active Users: 2<br>Users: 2<br>Properties: 3<br>Edits: 22<br>Pages: 7",
          "Jörans egna<br>URL: https://joran.wikibase.cloud<br>Host: Wikibase Cloud<br>Version: 1.39.7<br>Start Date: 2024-10-11 00:00:00+00:00<br>Active Users: 2<br>Users: 2<br>Properties: 15<br>Edits: 99<br>Pages: 47",
          "mywiki<br>URL: https://itinfrestractureroysav12345.wikibase.cloud<br>Host: Wikibase Cloud<br>Version: 1.39.7<br>Start Date: 2024-10-13 00:00:00+00:00<br>Active Users: 2<br>Users: 2<br>Properties: 7<br>Edits: 75<br>Pages: 33",
          "Chinese-Historical-Places-2024<br>URL: https://chinese-historical-places-2024.wikibase.cloud<br>Host: Wikibase Cloud<br>Version: 1.39.7<br>Start Date: 2024-10-16 00:00:00+00:00<br>Active Users: 1<br>Users: 2<br>Properties: 6<br>Edits: 13<br>Pages: 13",
          "ODP Test<br>URL: https://odptest.wikibase.cloud<br>Host: Wikibase Cloud<br>Version: 1.39.7<br>Start Date: 2024-10-18 00:00:00+00:00<br>Active Users: 1<br>Users: 2<br>Properties: 6<br>Edits: 13<br>Pages: 13",
          "Organisational Rule Systems<br>URL: https://organisational-rules.wikibase.cloud<br>Host: Wikibase Cloud<br>Version: 1.39.7<br>Start Date: 2024-10-17 00:00:00+00:00<br>Active Users: 2<br>Users: 2<br>Properties: 5<br>Edits: 19<br>Pages: 15",
          "SkandinavienWikiBase<br>URL: https://skanwiki.wikibase.cloud<br>Host: Wikibase Cloud<br>Version: 1.39.7<br>Start Date: 2024-10-15 00:00:00+00:00<br>Active Users: 1<br>Users: 2<br>Properties: 6<br>Edits: 13<br>Pages: 13",
          "BorgNetzWerk<br>URL: https://bnwiki.wikibase.cloud<br>Host: Wikibase Cloud<br>Version: 1.39.7<br>Start Date: 2024-10-14 00:00:00+00:00<br>Active Users: 3<br>Users: 3<br>Properties: 27<br>Edits: 6496<br>Pages: 6415",
          "Hasya Katta Official<br>URL: https://hasyakattaofficial.wikibase.cloud<br>Host: Wikibase Cloud<br>Version: 1.39.7<br>Start Date: 2024-10-15 00:00:00+00:00<br>Active Users: 1<br>Users: 2<br>Properties: 6<br>Edits: 13<br>Pages: 13",
          "AstroFR<br>URL: https://astrofr.wikibase.cloud<br>Host: Wikibase Cloud<br>Version: 1.39.7<br>Start Date: 2024-10-22 00:00:00+00:00<br>Active Users: 2<br>Users: 2<br>Properties: 1<br>Edits: 373<br>Pages: 104",
          "Ejemplo<br>URL: https://testfilo.wikibase.cloud<br>Host: Wikibase Cloud<br>Version: 1.39.7<br>Start Date: 2024-10-22 00:00:00+00:00<br>Active Users: 3<br>Users: 3<br>Properties: 5<br>Edits: 19<br>Pages: 13",
          "First Attempt<br>URL: https://first-attempt.wikibase.cloud<br>Host: Wikibase Cloud<br>Version: 1.39.7<br>Start Date: 2024-10-23 00:00:00+00:00<br>Active Users: 2<br>Users: 2<br>Properties: 6<br>Edits: 15<br>Pages: 15",
          "Meizi's Kitchen<br>URL: https://goat-collective-test34.wikibase.cloud<br>Host: Wikibase Cloud<br>Version: 1.39.7<br>Start Date: 2024-10-21 00:00:00+00:00<br>Active Users: 2<br>Users: 3<br>Properties: 5<br>Edits: 13<br>Pages: 13",
          "Teneriefer<br>URL: https://teneriefer.wikibase.cloud<br>Host: Wikibase Cloud<br>Version: 1.39.7<br>Start Date: 2024-10-21 00:00:00+00:00<br>Active Users: 2<br>Users: 2<br>Properties: 1<br>Edits: 3<br>Pages: 3",
          "Test 2<br>URL: https://test-dh2.wikibase.cloud<br>Host: Wikibase Cloud<br>Version: 1.39.7<br>Start Date: 2024-10-21 00:00:00+00:00<br>Active Users: 2<br>Users: 2<br>Properties: 1<br>Edits: 7<br>Pages: 4",
          "test<br>URL: https://kollektiv.wikibase.cloud<br>Host: Wikibase Cloud<br>Version: 1.39.7<br>Start Date: 2024-10-21 00:00:00+00:00<br>Active Users: 2<br>Users: 2<br>Properties: 2<br>Edits: 7<br>Pages: 5",
          "Goat Collective<br>URL: https://goat-collective-test.wikibase.cloud<br>Host: Wikibase Cloud<br>Version: 1.39.7<br>Start Date: 2024-10-21 00:00:00+00:00<br>Active Users: 2<br>Users: 2<br>Properties: 2<br>Edits: 13<br>Pages: 5",
          "ReDa Wiki<br>URL: https://reda-wiki.wikibase.cloud<br>Host: Wikibase Cloud<br>Version: 1.39.7<br>Start Date: 2024-10-21 00:00:00+00:00<br>Active Users: 2<br>Users: 2<br>Properties: 10<br>Edits: 94<br>Pages: 36",
          "Rina Collective<br>URL: https://rina-collective.wikibase.cloud<br>Host: Wikibase Cloud<br>Version: 1.39.7<br>Start Date: 2024-10-21 00:00:00+00:00<br>Active Users: 2<br>Users: 2<br>Properties: 1<br>Edits: 4<br>Pages: 3",
          "Dog Collective<br>URL: https://dog-collective.wikibase.cloud<br>Host: Wikibase Cloud<br>Version: 1.39.7<br>Start Date: 2024-10-21 00:00:00+00:00<br>Active Users: 2<br>Users: 2<br>Properties: 2<br>Edits: 13<br>Pages: 6",
          "Randombooks<br>URL: https://randombooks.wikibase.cloud<br>Host: Wikibase Cloud<br>Version: 1.39.7<br>Start Date: 2024-10-21 00:00:00+00:00<br>Active Users: 1<br>Users: 2<br>Properties: 6<br>Edits: 13<br>Pages: 13",
          "Public Figures Base<br>URL: https://publicfiguresbase.wikibase.cloud<br>Host: Wikibase Cloud<br>Version: 1.39.7<br>Start Date: 2024-10-21 00:00:00+00:00<br>Active Users: 2<br>Users: 2<br>Properties: 8<br>Edits: 24<br>Pages: 18",
          "United States Elections<br>URL: https://elections-us.wikibase.cloud<br>Host: Wikibase Cloud<br>Version: 1.39.7<br>Start Date: 2024-10-24 00:00:00+00:00<br>Active Users: 2<br>Users: 2<br>Properties: 2<br>Edits: 290<br>Pages: 277",
          "RCnum<br>URL: https://rcnum-ge.wikibase.cloud<br>Host: Wikibase Cloud<br>Version: 1.39.7<br>Start Date: 2024-10-29 00:00:00+00:00<br>Active Users: 2<br>Users: 3<br>Properties: 4<br>Edits: 15<br>Pages: 11",
          "RCge<br>URL: https://rc-ge.wikibase.cloud<br>Host: Wikibase Cloud<br>Version: 1.39.7<br>Start Date: 2024-10-30 00:00:00+00:00<br>Active Users: 2<br>Users: 3<br>Properties: 2<br>Edits: 5<br>Pages: 5",
          "anton12<br>URL: https://anton12.wikibase.cloud<br>Host: Wikibase Cloud<br>Version: 1.39.7<br>Start Date: 2024-10-30 00:00:00+00:00<br>Active Users: 2<br>Users: 2<br>Properties: 1<br>Edits: 21<br>Pages: 12",
          "AI-learn<br>URL: https://ai-learn.wikibase.cloud<br>Host: Wikibase Cloud<br>Version: 1.39.7<br>Start Date: 2024-10-24 00:00:00+00:00<br>Active Users: 1<br>Users: 2<br>Properties: 6<br>Edits: 13<br>Pages: 13",
          "womenwriters<br>URL: https://18womenwriters.wikibase.cloud<br>Host: Wikibase Cloud<br>Version: 1.39.7<br>Start Date: 2024-10-24 00:00:00+00:00<br>Active Users: 2<br>Users: 2<br>Properties: 2<br>Edits: 5<br>Pages: 5",
          "CuentosTradicionales<br>URL: https://cuentostradicionales.wikibase.cloud<br>Host: Wikibase Cloud<br>Version: 1.39.7<br>Start Date: 2024-10-24 00:00:00+00:00<br>Active Users: 2<br>Users: 2<br>Properties: 2<br>Edits: 13<br>Pages: 9",
          "Osipov's Family Tree<br>URL: https://genealogy.david-osipov.vision<br>Host: Wikibase Cloud<br>Version: 1.39.7<br>Start Date: 2024-10-24 00:00:00+00:00<br>Active Users: 1<br>Users: 2<br>Properties: 6<br>Edits: 13<br>Pages: 13",
          "MaRDMO Wikibase<br>URL: https://mardmo.wikibase.cloud<br>Host: Wikibase Cloud<br>Version: 1.39.7<br>Start Date: 2024-11-07 00:00:00+00:00<br>Active Users: 2<br>Users: 2<br>Properties: 32<br>Edits: 51<br>Pages: 46",
          "testdd.wikibase.cloud<br>URL: https://testdd.wikibase.cloud<br>Host: Wikibase Cloud<br>Version: 1.39.7<br>Start Date: 2024-11-07 00:00:00+00:00<br>Active Users: 1<br>Users: 2<br>Properties: 6<br>Edits: 13<br>Pages: 13",
          "DH_Project_SR<br>URL: https://dh-project-sr.wikibase.cloud<br>Host: Wikibase Cloud<br>Version: 1.39.7<br>Start Date: 2024-11-04 00:00:00+00:00<br>Active Users: 2<br>Users: 2<br>Properties: 7<br>Edits: 15<br>Pages: 11",
          "Aleks Weber Werkverzeichnis<br>URL: https://aleks-weber.wikibase.cloud<br>Host: Wikibase Cloud<br>Version: 1.39.7<br>Start Date: 2024-11-06 00:00:00+00:00<br>Active Users: 2<br>Users: 2<br>Properties: 22<br>Edits: 141<br>Pages: 67",
          "Connected Earth<br>URL: https://connected-earth.wikibase.cloud<br>Host: Wikibase Cloud<br>Version: 1.39.7<br>Start Date: 2024-11-04 00:00:00+00:00<br>Active Users: 2<br>Users: 2<br>Properties: 9<br>Edits: 3898<br>Pages: 1184",
          "MI-X<br>URL: https://medicalinformatics.wikibase.cloud<br>Host: Wikibase Cloud<br>Version: 1.39.7<br>Start Date: 2024-11-04 00:00:00+00:00<br>Active Users: 2<br>Users: 2<br>Properties: 7<br>Edits: 18<br>Pages: 16",
          "IT infrestracture<br>URL: https://ani-rotze-hamin.wikibase.cloud<br>Host: Wikibase Cloud<br>Version: 1.39.7<br>Start Date: 2024-11-04 00:00:00+00:00<br>Active Users: 2<br>Users: 2<br>Properties: 7<br>Edits: 20<br>Pages: 17",
          "Finance in EU<br>URL: https://finance-eu.wikibase.cloud<br>Host: Wikibase Cloud<br>Version: 1.39.7<br>Start Date: 2024-11-03 00:00:00+00:00<br>Active Users: 2<br>Users: 3<br>Properties: 2<br>Edits: 15<br>Pages: 5",
          "ISO Certification<br>URL: https://maxwell.wikibase.cloud<br>Host: Wikibase Cloud<br>Version: 1.39.7<br>Start Date: 2024-11-03 00:00:00+00:00<br>Active Users: 1<br>Users: 2<br>Properties: 6<br>Edits: 13<br>Pages: 13",
          "wiki-data.wikibase.cloud<br>URL: https://wiki-data.wikibase.cloud<br>Host: Wikibase Cloud<br>Version: 1.39.7<br>Start Date: 2024-12-05 00:00:00+00:00<br>Active Users: 2<br>Users: 2<br>Properties: 6<br>Edits: 14<br>Pages: 14",
          "M4schini Test<br>URL: https://test-m4schini.wikibase.cloud<br>Host: Wikibase Cloud<br>Version: 1.39.7<br>Start Date: 2024-12-05 00:00:00+00:00<br>Active Users: 2<br>Users: 2<br>Properties: 7<br>Edits: 15<br>Pages: 15",
          "Wiki o UWr<br>URL: https://wikiouwr.wikibase.cloud<br>Host: Wikibase Cloud<br>Version: 1.39.7<br>Start Date: 2024-12-05 00:00:00+00:00<br>Active Users: 2<br>Users: 2<br>Properties: 1<br>Edits: 2<br>Pages: 2",
          "dcm-greta<br>URL: https://dcm-greta.wikibase.cloud<br>Host: Wikibase Cloud<br>Version: 1.39.7<br>Start Date: 2024-12-04 00:00:00+00:00<br>Active Users: 2<br>Users: 2<br>Properties: 13<br>Edits: 128<br>Pages: 64",
          "Equalent WBTest<br>URL: https://wbtest.equalent.net<br>Host: Wikibase Cloud<br>Version: 1.39.7<br>Start Date: 2024-12-03 00:00:00+00:00<br>Active Users: 2<br>Users: 2<br>Properties: 1<br>Edits: 5<br>Pages: 4",
          "MOMA<br>URL: https://moma-test.wikibase.cloud<br>Host: Wikibase Cloud<br>Version: 1.39.7<br>Start Date: 2024-12-02 00:00:00+00:00<br>Active Users: 2<br>Users: 2<br>Properties: 6<br>Edits: 35<br>Pages: 17",
          "Istanza di prova<br>URL: https://provaunipi.wikibase.cloud<br>Host: Wikibase Cloud<br>Version: 1.39.7<br>Start Date: 2024-11-27 00:00:00+00:00<br>Active Users: 2<br>Users: 2<br>Properties: 2<br>Edits: 15<br>Pages: 10",
          "DeciWiki<br>URL: https://deciwiki.wikibase.cloud<br>Host: Wikibase Cloud<br>Version: 1.39.7<br>Start Date: 2024-12-01 00:00:00+00:00<br>Active Users: 1<br>Users: 2<br>Properties: 6<br>Edits: 13<br>Pages: 13",
          "testwebbase<br>URL: https://testwebbase.wikibase.cloud<br>Host: Wikibase Cloud<br>Version: 1.39.7<br>Start Date: 2024-11-27 00:00:00+00:00<br>Active Users: 2<br>Users: 2<br>Properties: 4<br>Edits: 3438<br>Pages: 611",
          "Maîtres du mystère<br>URL: https://xn--mystre-6ua.wikibase.cloud<br>Host: Wikibase Cloud<br>Version: 1.39.7<br>Start Date: 2024-11-26 00:00:00+00:00<br>Active Users: 1<br>Users: 2<br>Properties: 6<br>Edits: 13<br>Pages: 13",
          "sbdb fork<br>URL: https://sbdb-fork.wikibase.cloud<br>Host: Wikibase Cloud<br>Version: 1.39.7<br>Start Date: 2024-11-26 00:00:00+00:00<br>Active Users: 2<br>Users: 2<br>Properties: 23<br>Edits: 5440<br>Pages: 1698",
          "Math Problem Wiki<br>URL: https://math-problem-wiki.wikibase.cloud<br>Host: Wikibase Cloud<br>Version: 1.39.7<br>Start Date: 2024-11-21 00:00:00+00:00<br>Active Users: 1<br>Users: 2<br>Properties: 6<br>Edits: 13<br>Pages: 13",
          "archivio network<br>URL: https://base.archivio.network<br>Host: Wikibase Cloud<br>Version: 1.39.7<br>Start Date: 2024-11-24 00:00:00+00:00<br>Active Users: 1<br>Users: 2<br>Properties: 6<br>Edits: 13<br>Pages: 13",
          "Mouni Neddi<br>URL: https://mounir-neddi.wikibase.cloud<br>Host: Wikibase Cloud<br>Version: 1.39.7<br>Start Date: 2024-11-22 00:00:00+00:00<br>Active Users: 1<br>Users: 2<br>Properties: 6<br>Edits: 10<br>Pages: 10",
          "Bürgerspitalzinshaus<br>URL: https://xn--brgerspitalzinshaus-59b.wikibase.cloud<br>Host: Wikibase Cloud<br>Version: 1.39.7<br>Start Date: 2024-11-21 00:00:00+00:00<br>Active Users: 2<br>Users: 2<br>Properties: 3<br>Edits: 17<br>Pages: 6",
          "Kareem Mujeeb Kayode<br>URL: https://kareemmujeeb.wikibase.cloud<br>Host: Wikibase Cloud<br>Version: 1.39.7<br>Start Date: 2024-11-20 00:00:00+00:00<br>Active Users: 1<br>Users: 2<br>Properties: 6<br>Edits: 13<br>Pages: 13",
          "Taylor Swift<br>URL: https://taylorswift.wikibase.cloud<br>Host: Wikibase Cloud<br>Version: 1.39.7<br>Start Date: 2024-11-19 00:00:00+00:00<br>Active Users: 2<br>Users: 3<br>Properties: 4<br>Edits: 37<br>Pages: 20",
          "Triki Test<br>URL: https://triki.wikibase.cloud<br>Host: Wikibase Cloud<br>Version: 1.39.7<br>Start Date: 2024-11-18 00:00:00+00:00<br>Active Users: 2<br>Users: 2<br>Properties: 9<br>Edits: 84<br>Pages: 39",
          "Menologio dei Barnabiti<br>URL: https://menologiobarnabiti.wikibase.cloud<br>Host: Wikibase Cloud<br>Version: 1.39.7<br>Start Date: 2024-11-19 00:00:00+00:00<br>Active Users: 2<br>Users: 2<br>Properties: 1<br>Edits: 3<br>Pages: 3",
          "Artificial Intelligence<br>URL: https://asdfg.wikibase.cloud<br>Host: Wikibase Cloud<br>Version: 1.39.7<br>Start Date: 2024-11-15 00:00:00+00:00<br>Active Users: 1<br>Users: 2<br>Properties: 6<br>Edits: 13<br>Pages: 13",
          "rcnum<br>URL: https://reg-cons.wikibase.cloud<br>Host: Wikibase Cloud<br>Version: 1.39.7<br>Start Date: 2024-11-15 00:00:00+00:00<br>Active Users: 2<br>Users: 2<br>Properties: 7<br>Edits: 31<br>Pages: 23",
          "Mutaabik<br>URL: https://mutaabiklegalresearch.wikibase.cloud<br>Host: Wikibase Cloud<br>Version: 1.39.7<br>Start Date: 2024-11-15 00:00:00+00:00<br>Active Users: 2<br>Users: 2<br>Properties: 25<br>Edits: 461<br>Pages: 144",
          "frenchbm.wikibase.cloud<br>URL: https://frenchbm.wikibase.cloud<br>Host: Wikibase Cloud<br>Version: 1.39.7<br>Start Date: 2024-11-14 00:00:00+00:00<br>Active Users: 1<br>Users: 2<br>Properties: 6<br>Edits: 13<br>Pages: 13",
          "testenddi<br>URL: https://testenddi.wikibase.cloud<br>Host: Wikibase Cloud<br>Version: 1.39.7<br>Start Date: 2024-11-14 00:00:00+00:00<br>Active Users: 2<br>Users: 2<br>Properties: 7<br>Edits: 14<br>Pages: 14",
          "testnga.wikibase.cloud<br>URL: https://testnga.wikibase.cloud<br>Host: Wikibase Cloud<br>Version: 1.39.7<br>Start Date: 2024-11-13 00:00:00+00:00<br>Active Users: 2<br>Users: 2<br>Properties: 8<br>Edits: 15<br>Pages: 15",
          "Biblioteca Prometeo<br>URL: https://bibliotecaprometeo.wikibase.cloud<br>Host: Wikibase Cloud<br>Version: 1.39.7<br>Start Date: 2024-11-11 00:00:00+00:00<br>Active Users: 2<br>Users: 3<br>Properties: 4<br>Edits: 5<br>Pages: 5",
          "Rolling Stone 500 Greatest Songs<br>URL: https://rolling-stone-500-songs.wikibase.cloud<br>Host: Wikibase Cloud<br>Version: 1.39.7<br>Start Date: 2024-11-11 00:00:00+00:00<br>Active Users: 2<br>Users: 2<br>Properties: 10<br>Edits: 1190<br>Pages: 1168",
          "abcdnkhr-sandbox<br>URL: https://abcdnkhr-sandbox.wikibase.cloud<br>Host: Wikibase Cloud<br>Version: 1.39.7<br>Start Date: 2024-11-10 00:00:00+00:00<br>Active Users: 2<br>Users: 2<br>Properties: 86<br>Edits: 24972<br>Pages: 12194",
          "Ipedia wiki<br>URL: https://zh-ipedia.wikibase.cloud<br>Host: Wikibase Cloud<br>Version: 1.39.7<br>Start Date: 2024-11-10 00:00:00+00:00<br>Active Users: 2<br>Users: 2<br>Properties: 6<br>Edits: 18<br>Pages: 16",
          "myaiwiki.wikibase.cloud<br>URL: https://myaiwiki.wikibase.cloud<br>Host: Wikibase Cloud<br>Version: 1.39.7<br>Start Date: 2024-11-08 00:00:00+00:00<br>Active Users: 2<br>Users: 3<br>Properties: 1<br>Edits: 5<br>Pages: 3",
          "The General Assembly and Religious Politics in Scotland, 1638-1660<br>URL: https://generalassemblies.wikibase.cloud<br>Host: Wikibase Cloud<br>Version: 1.39.7<br>Start Date: 2024-07-31 00:00:00+00:00<br>Active Users: 1<br>Users: 3<br>Properties: 19<br>Edits: 1142<br>Pages: 501",
          "DangerousHarbors<br>URL: https://dangerousharbors.wikibase.cloud<br>Host: Wikibase Cloud<br>Version: 1.39.7<br>Start Date: 2024-07-29 00:00:00+00:00<br>Active Users: 1<br>Users: 2<br>Properties: 19<br>Edits: 31<br>Pages: 24",
          "prétérit-présence<br>URL: https://prt-s.wikibase.cloud<br>Host: Wikibase Cloud<br>Version: 1.39.7<br>Start Date: 2024-12-19 00:00:00+00:00<br>Active Users: 2<br>Users: 2<br>Properties: 5<br>Edits: 23<br>Pages: 9",
          "ynsy test<br>URL: https://ynsy-test.wikibase.cloud<br>Host: Wikibase Cloud<br>Version: 1.39.7<br>Start Date: 2024-12-17 00:00:00+00:00<br>Active Users: 2<br>Users: 2<br>Properties: 6<br>Edits: 22<br>Pages: 16",
          "Museo Retroinformática Almería<br>URL: https://museillo-824287.wikibase.cloud<br>Host: Wikibase Cloud<br>Version: 1.39.7<br>Start Date: 2024-12-19 00:00:00+00:00<br>Active Users: 2<br>Users: 2<br>Properties: 103<br>Edits: 524<br>Pages: 303",
          "lool2.wikibase.cloud<br>URL: https://lool2.wikibase.cloud<br>Host: Wikibase Cloud<br>Version: 1.39.7<br>Start Date: 2024-12-20 00:00:00+00:00<br>Active Users: 2<br>Users: 3<br>Properties: 8<br>Edits: 25<br>Pages: 22",
          "Bhikidata<br>URL: https://bhikidata.wikibase.cloud<br>Host: Wikibase Cloud<br>Version: 1.39.7<br>Start Date: 2024-12-16 00:00:00+00:00<br>Active Users: 2<br>Users: 2<br>Properties: 1<br>Edits: 4<br>Pages: 4",
          "beaven<br>URL: https://beaven.wikibase.cloud<br>Host: Wikibase Cloud<br>Version: 1.39.7<br>Start Date: 2024-12-14 00:00:00+00:00<br>Active Users: 2<br>Users: 3<br>Properties: 7<br>Edits: 18<br>Pages: 15",
          "Yavaadhika NSy<br>URL: https://yavaadhikansy.wikibase.cloud<br>Host: Wikibase Cloud<br>Version: 1.39.7<br>Start Date: 2024-12-14 00:00:00+00:00<br>Active Users: 2<br>Users: 2<br>Properties: 3<br>Edits: 35<br>Pages: 9",
          "tema di prova<br>URL: https://temadiprova.wikibase.cloud<br>Host: Wikibase Cloud<br>Version: 1.39.7<br>Start Date: 2024-12-11 00:00:00+00:00<br>Active Users: 2<br>Users: 2<br>Properties: 13<br>Edits: 40<br>Pages: 20",
          "Four Level Artworks Test<br>URL: https://li-ma-mapping-mediaart.wikibase.cloud<br>Host: Wikibase Cloud<br>Version: 1.39.7<br>Start Date: 2024-12-12 00:00:00+00:00<br>Active Users: 1<br>Users: 2<br>Properties: 6<br>Edits: 13<br>Pages: 13",
          "trails.wikibase.cloud<br>URL: https://trails.wikibase.cloud<br>Host: Wikibase Cloud<br>Version: 1.39.7<br>Start Date: 2024-12-11 00:00:00+00:00<br>Active Users: 2<br>Users: 2<br>Properties: 10<br>Edits: 20<br>Pages: 18",
          "anton13<br>URL: https://anton13.wikibase.cloud<br>Host: Wikibase Cloud<br>Version: 1.39.7<br>Start Date: 2024-12-11 00:00:00+00:00<br>Active Users: 1<br>Users: 2<br>Properties: 6<br>Edits: 13<br>Pages: 13",
          "VNA<br>URL: https://visualnameauthority.wikibase.cloud<br>Host: Wikibase Cloud<br>Version: 1.39.7<br>Start Date: 2024-12-10 00:00:00+00:00<br>Active Users: 2<br>Users: 4<br>Properties: 9<br>Edits: 18<br>Pages: 16",
          "Verhütung<br>URL: https://verhuetung.wikibase.cloud<br>Host: Wikibase Cloud<br>Version: 1.39.7<br>Start Date: 2024-12-09 00:00:00+00:00<br>Active Users: 2<br>Users: 2<br>Properties: 13<br>Edits: 105<br>Pages: 45",
          "MoMa<br>URL: https://momadata.wikibase.cloud<br>Host: Wikibase Cloud<br>Version: 1.39.7<br>Start Date: 2024-12-09 00:00:00+00:00<br>Active Users: 2<br>Users: 2<br>Properties: 11<br>Edits: 66<br>Pages: 20",
          "YH's Wiki<br>URL: https://yhh-wiki.wikibase.cloud<br>Host: Wikibase Cloud<br>Version: 1.39.7<br>Start Date: 2024-12-05 00:00:00+00:00<br>Active Users: 2<br>Users: 2<br>Properties: 2518<br>Edits: 2916<br>Pages: 2915",
          "extinctlanguages<br>URL: https://extinctlanguages.wikibase.cloud<br>Host: Wikibase Cloud<br>Version: 1.39.7<br>Start Date: 2024-12-09 00:00:00+00:00<br>Active Users: 2<br>Users: 2<br>Properties: 13<br>Edits: 167<br>Pages: 63",
          "enwiki.wikibase.cloud<br>URL: https://enwiki.wikibase.cloud<br>Host: Wikibase Cloud<br>Version: 1.39.7<br>Start Date: 2024-12-05 00:00:00+00:00<br>Active Users: 2<br>Users: 3<br>Properties: 28<br>Edits: 1371<br>Pages: 1333",
          "Digital Humanities<br>URL: https://my-practice-page.wikibase.cloud<br>Host: Wikibase Cloud<br>Version: 1.39.7<br>Start Date: 2024-11-11 00:00:00+00:00<br>Active Users: 1<br>Users: 3<br>Properties: 1<br>Edits: 6<br>Pages: 4",
          "Historical Advertisements<br>URL: https://historicalads.wikibase.cloud<br>Host: Wikibase Cloud<br>Version: 1.39.7<br>Start Date: 2025-01-04 00:00:00+00:00<br>Active Users: 1<br>Users: 2<br>Properties: 6<br>Edits: 13<br>Pages: 13",
          "Endangered Languages Collective<br>URL: https://endangered-languages-collective.wikibase.cloud<br>Host: Wikibase Cloud<br>Version: 1.39.7<br>Start Date: 2025-01-06 00:00:00+00:00<br>Active Users: 2<br>Users: 3<br>Properties: 14<br>Edits: 21<br>Pages: 19",
          "Para uma Validação de Ornitorrinquices<br>URL: https://parvo.wikibase.cloud<br>Host: Wikibase Cloud<br>Version: 1.39.7<br>Start Date: 2025-01-03 00:00:00+00:00<br>Active Users: 2<br>Users: 2<br>Properties: 13<br>Edits: 119<br>Pages: 37",
          "DH_DataProject<br>URL: https://dhdataproject.wikibase.cloud<br>Host: Wikibase Cloud<br>Version: 1.39.7<br>Start Date: 2025-01-06 00:00:00+00:00<br>Active Users: 2<br>Users: 3<br>Properties: 14<br>Edits: 1602<br>Pages: 804",
          "Knowledge Graph Rijksmuseum<br>URL: https://rijksmuseum-kg.wikibase.cloud<br>Host: Wikibase Cloud<br>Version: 1.39.7<br>Start Date: 2025-01-02 00:00:00+00:00<br>Active Users: 1<br>Users: 2<br>Properties: 6<br>Edits: 13<br>Pages: 13",
          "Indonesia<br>URL: https://crypto.wikibase.cloud<br>Host: Wikibase Cloud<br>Version: 1.39.7<br>Start Date: 2025-01-02 00:00:00+00:00<br>Active Users: 1<br>Users: 2<br>Properties: 6<br>Edits: 13<br>Pages: 13",
          "wallet<br>URL: https://website.wikibase.cloud<br>Host: Wikibase Cloud<br>Version: 1.39.7<br>Start Date: 2025-01-02 00:00:00+00:00<br>Active Users: 1<br>Users: 2<br>Properties: 6<br>Edits: 13<br>Pages: 13",
          "Vivek Nasa Associates<br>URL: https://viveknasagurgaon.wikibase.cloud<br>Host: Wikibase Cloud<br>Version: 1.39.7<br>Start Date: 2025-01-02 00:00:00+00:00<br>Active Users: 1<br>Users: 2<br>Properties: 6<br>Edits: 13<br>Pages: 13",
          "Harvard Plate Stacks<br>URL: https://harvardplatestacks.wikibase.cloud<br>Host: Wikibase Cloud<br>Version: 1.39.7<br>Start Date: 2024-12-31 00:00:00+00:00<br>Active Users: 2<br>Users: 2<br>Properties: 13<br>Edits: 113<br>Pages: 48",
          "US Elections<br>URL: https://electionsus.wikibase.cloud<br>Host: Wikibase Cloud<br>Version: 1.39.7<br>Start Date: 2024-12-29 00:00:00+00:00<br>Active Users: 2<br>Users: 2<br>Properties: 6<br>Edits: 92<br>Pages: 91",
          "Lugares de impresión en España<br>URL: https://spain-print-places.wikibase.cloud<br>Host: Wikibase Cloud<br>Version: 1.39.7<br>Start Date: 2024-12-28 00:00:00+00:00<br>Active Users: 1<br>Users: 2<br>Properties: 6<br>Edits: 13<br>Pages: 13",
          "Rule Hierarchies<br>URL: https://rule-hierarchies.wikibase.cloud<br>Host: Wikibase Cloud<br>Version: 1.39.7<br>Start Date: 2024-12-27 00:00:00+00:00<br>Active Users: 2<br>Users: 2<br>Properties: 13<br>Edits: 137<br>Pages: 52",
          "knews<br>URL: https://knews.wikibase.cloud<br>Host: Wikibase Cloud<br>Version: 1.39.7<br>Start Date: 2024-12-28 00:00:00+00:00<br>Active Users: 2<br>Users: 2<br>Properties: 1<br>Edits: 8<br>Pages: 4",
          "Earthpedia<br>URL: https://earthpedia.wikibase.cloud<br>Host: Wikibase Cloud<br>Version: 1.39.7<br>Start Date: 2024-12-23 00:00:00+00:00<br>Active Users: 1<br>Users: 2<br>Properties: 6<br>Edits: 13<br>Pages: 13",
          "brt32<br>URL: https://brt32.wikibase.cloud<br>Host: Wikibase Cloud<br>Version: 1.39.7<br>Start Date: 2024-12-25 00:00:00+00:00<br>Active Users: 1<br>Users: 2<br>Properties: 6<br>Edits: 13<br>Pages: 13",
          "Daniel's Test Wikibase instance<br>URL: https://daniels-test-instance.wikibase.cloud<br>Host: Wikibase Cloud<br>Version: 1.39.7<br>Start Date: 2024-12-21 00:00:00+00:00<br>Active Users: 2<br>Users: 2<br>Properties: 3<br>Edits: 16<br>Pages: 7",
          "SemSacs<br>URL: https://semsacs.wikibase.cloud<br>Host: Wikibase Cloud<br>Version: 1.39.7<br>Start Date: 2024-12-21 00:00:00+00:00<br>Active Users: 2<br>Users: 2<br>Properties: 6<br>Edits: 114<br>Pages: 29",
          "CG_WO2_Test<br>URL: https://cgwo2test.wikibase.cloud<br>Host: Wikibase Cloud<br>Version: 1.39.7<br>Start Date: 2025-01-07 00:00:00+00:00<br>Active Users: 1<br>Users: 2<br>Properties: 6<br>Edits: 13<br>Pages: 13",
          "Antibiotic Resistance sandbox<br>URL: https://antibiotic-resistance-sandbox.wikibase.cloud<br>Host: Wikibase Cloud<br>Version: 1.39.7<br>Start Date: 2025-01-10 00:00:00+00:00<br>Active Users: 4<br>Users: 6<br>Properties: 10<br>Edits: 42<br>Pages: 26",
          "Aerospace Wikibase<br>URL: https://aerospace.wikibase.cloud<br>Host: Wikibase Cloud<br>Version: 1.39.7<br>Start Date: 2024-12-18 00:00:00+00:00<br>Active Users: 1<br>Users: 3<br>Properties: 18<br>Edits: 274<br>Pages: 265",
          "LIB<br>URL: https://bvlib.wikibase.cloud<br>Host: Wikibase Cloud<br>Version: 1.39.7<br>Start Date: 2025-01-13 00:00:00+00:00<br>Active Users: 1<br>Users: 2<br>Properties: 6<br>Edits: 13<br>Pages: 13",
          "The Lion King<br>URL: https://thelionking.wikibase.cloud<br>Host: Wikibase Cloud<br>Version: 1.39.7<br>Start Date: 2025-01-16 00:00:00+00:00<br>Active Users: 2<br>Users: 2<br>Properties: 3<br>Edits: 27<br>Pages: 15",
          "photos-rijksmuseum<br>URL: https://photos-rijksmuseum.wikibase.cloud<br>Host: Wikibase Cloud<br>Version: 1.39.7<br>Start Date: 2025-01-13 00:00:00+00:00<br>Active Users: 2<br>Users: 2<br>Properties: 5<br>Edits: 249<br>Pages: 43",
          "Hack Club Community<br>URL: https://wikibase.dino.icu<br>Host: Wikibase Cloud<br>Version: 1.39.7<br>Start Date: 2025-01-13 00:00:00+00:00<br>Active Users: 2<br>Users: 2<br>Properties: 6<br>Edits: 16<br>Pages: 15",
          "PlayTrackerScotland<br>URL: https://playtrackerscotland.wikibase.cloud<br>Host: Wikibase Cloud<br>Version: 1.39.7<br>Start Date: 2025-01-10 00:00:00+00:00<br>Active Users: 2<br>Users: 2<br>Properties: 13<br>Edits: 24<br>Pages: 20",
          "https://data.rijksmuseum.nl/docs/data-dumps/historical-dumps<br>URL: https://rijksmuseum-knowledgegraph.wikibase.cloud<br>Host: Wikibase Cloud<br>Version: 1.39.7<br>Start Date: 2025-01-12 00:00:00+00:00<br>Active Users: 2<br>Users: 2<br>Properties: 11<br>Edits: 44<br>Pages: 24",
          "rijksmuseum-2<br>URL: https://rijksmuseum-2.wikibase.cloud<br>Host: Wikibase Cloud<br>Version: 1.39.7<br>Start Date: 2025-01-12 00:00:00+00:00<br>Active Users: 2<br>Users: 2<br>Properties: 8<br>Edits: 344<br>Pages: 77",
          "HistBiblKat<br>URL: https://histbiblkat.wikibase.cloud<br>Host: Wikibase Cloud<br>Version: 1.39.7<br>Start Date: 2025-01-11 00:00:00+00:00<br>Active Users: 2<br>Users: 2<br>Properties: 6<br>Edits: 20<br>Pages: 18",
          "rijksmuseum.wikibase.cloud<br>URL: https://rijksmuseum.wikibase.cloud<br>Host: Wikibase Cloud<br>Version: 1.39.7<br>Start Date: 2025-01-06 00:00:00+00:00<br>Active Users: 2<br>Users: 2<br>Properties: 10<br>Edits: 25<br>Pages: 17",
          "rc-test-wikidata.wikibase.cloud<br>URL: https://rc-test-wikidata.wikibase.cloud<br>Host: Wikibase Cloud<br>Version: 1.39.7<br>Start Date: 2025-01-17 00:00:00+00:00<br>Active Users: 1<br>Users: 2<br>Properties: 6<br>Edits: 13<br>Pages: 13",
          "PIT<br>URL: https://pit-data.wikibase.cloud<br>Host: Wikibase Cloud<br>Version: 1.39.7<br>Start Date: 2025-01-20 00:00:00+00:00<br>Active Users: 2<br>Users: 4<br>Properties: 7<br>Edits: 15<br>Pages: 15",
          "Johann Christian Bach<br>URL: https://jcbach.wikibase.cloud<br>Host: Wikibase Cloud<br>Version: 1.39.7<br>Start Date: 2025-01-16 00:00:00+00:00<br>Active Users: 1<br>Users: 2<br>Properties: 6<br>Edits: 13<br>Pages: 13"
         ],
         "legendgrouptitle": {
          "text": "By host"
         },
         "marker": {
          "color": "#ADD8E6",
          "line": {
           "color": "black",
           "width": 1
          },
          "showscale": false,
          "size": [
           7,
           6,
           4,
           4,
           4,
           4,
           4,
           6,
           4,
           4,
           4,
           4,
           6,
           6,
           6,
           8,
           4,
           4,
           4,
           4,
           4,
           6,
           6,
           4,
           4,
           4,
           11,
           4,
           7,
           4,
           4,
           4,
           4,
           4,
           4,
           4,
           4,
           4,
           6,
           4,
           20,
           7,
           4,
           6,
           4,
           7,
           4,
           4,
           4,
           6,
           6,
           4,
           4,
           4,
           4,
           4,
           4,
           4,
           4,
           4,
           8,
           6,
           6,
           6,
           6,
           4,
           4,
           4,
           6,
           4,
           4,
           4,
           6,
           6,
           4,
           4,
           4,
           4,
           6,
           4,
           4,
           4,
           4,
           6,
           7,
           7,
           4,
           6,
           4,
           6,
           11,
           6,
           4,
           4,
           7,
           4,
           4,
           4,
           4,
           4,
           4,
           4,
           4,
           4,
           4,
           7,
           4,
           6,
           6,
           4,
           4,
           4,
           6,
           4,
           4,
           4,
           4,
           4,
           6,
           4,
           6,
           4,
           6,
           6,
           8,
           7,
           4,
           6,
           6,
           6,
           4,
           4,
           4,
           6,
           6,
           6,
           6,
           6,
           6,
           4,
           4,
           8,
           6,
           4,
           4,
           4,
           6,
           6,
           7,
           6,
           7,
           9,
           6,
           7,
           7,
           7,
           8,
           6,
           12,
           7,
           9,
           7,
           7,
           7,
           4,
           4,
           6,
           4,
           6,
           7,
           6,
           4,
           4,
           4,
           6,
           4,
           4,
           6,
           4,
           4,
           7,
           4,
           7,
           4,
           6,
           6,
           6,
           6,
           8,
           4,
           6,
           4,
           4,
           6,
           4,
           4,
           4,
           4,
           6,
           4,
           4,
           4,
           6,
           6,
           4,
           6,
           4,
           4,
           4,
           6,
           4,
           4,
           4,
           4,
           6,
           4,
           4,
           20,
           6,
           4,
           6,
           4,
           4,
           4,
           6,
           6,
           4,
           4,
           4,
           4,
           6,
           4,
           4,
           4,
           4,
           4,
           4,
           4,
           4,
           6,
           4,
           4,
           4,
           4,
           6,
           4,
           4,
           6,
           6,
           4,
           4,
           4,
           4,
           4,
           4,
           4,
           4,
           4,
           4,
           6,
           4,
           6,
           4,
           4,
           6,
           4,
           4,
           4,
           6,
           4,
           4,
           6,
           4,
           4,
           4,
           4,
           4,
           4,
           4,
           4,
           4,
           4,
           4,
           7,
           4,
           4,
           4,
           4,
           4,
           6,
           4,
           7,
           6,
           4,
           4,
           4,
           4,
           4,
           4,
           6,
           4,
           4,
           4,
           4,
           4,
           4,
           4,
           4,
           6,
           4,
           7,
           4,
           4,
           4,
           4,
           4,
           4,
           4,
           4,
           7,
           4,
           4,
           4,
           6,
           4,
           6,
           4,
           6,
           4,
           4,
           4,
           4,
           4,
           4,
           7,
           4,
           4,
           4,
           4,
           4,
           4,
           4,
           6,
           4,
           4,
           4,
           4,
           4,
           4,
           4,
           4,
           4,
           4,
           4,
           4,
           4,
           4,
           4,
           4,
           4,
           4,
           4,
           4,
           4,
           4,
           4,
           4,
           4,
           4,
           4,
           4,
           4,
           4,
           4,
           4,
           4,
           4,
           4,
           4,
           4,
           4,
           4,
           4,
           4,
           4,
           4,
           4,
           4,
           6,
           6,
           4,
           7,
           4,
           4,
           4,
           4,
           4,
           4,
           4,
           4,
           4,
           6,
           4,
           6,
           4,
           4,
           4,
           4,
           4,
           4,
           7,
           4,
           4,
           4,
           4,
           4,
           4,
           4,
           4,
           4,
           6,
           4,
           4,
           4,
           4,
           4,
           4,
           4,
           4,
           4,
           4,
           4,
           4,
           6,
           4,
           7,
           6,
           7,
           4,
           6,
           4,
           4,
           4,
           4,
           4,
           4,
           4,
           4,
           4,
           4,
           4,
           4,
           4,
           4,
           4,
           4,
           4,
           4,
           4,
           4,
           4,
           4,
           4,
           6,
           4,
           4,
           4,
           4,
           4,
           4,
           4,
           4,
           4,
           4,
           4,
           4,
           4,
           4,
           4,
           4,
           4,
           6,
           4,
           4,
           4,
           4,
           4,
           4,
           4,
           4,
           4,
           4,
           4,
           4,
           4,
           4,
           4,
           4,
           4,
           4,
           4,
           4,
           6,
           4,
           4,
           4,
           4,
           4,
           4,
           4,
           4,
           4,
           4,
           4,
           4,
           4,
           4,
           4,
           4,
           4,
           4,
           4,
           4,
           4,
           4,
           4,
           4,
           4,
           4,
           4,
           4,
           4,
           4,
           4,
           4,
           4,
           12,
           4,
           4,
           4,
           4,
           4,
           4,
           4,
           6,
           4,
           4,
           4,
           4,
           4,
           4,
           4,
           4,
           4,
           4,
           4,
           4,
           4,
           4,
           4,
           4,
           4,
           4,
           4,
           4,
           4,
           4,
           4,
           4,
           4,
           4,
           4,
           4,
           4,
           4,
           4,
           4,
           4,
           4,
           4,
           4,
           4,
           4,
           4,
           4,
           4,
           4,
           8,
           7,
           7,
           7,
           7,
           7,
           6,
           6,
           7,
           6,
           8,
           6,
           7,
           8,
           7,
           7,
           7,
           7,
           7,
           7,
           7,
           7,
           7,
           6,
           7,
           7,
           7,
           7,
           7,
           6,
           7,
           7,
           6,
           7,
           6,
           7,
           7,
           7,
           7,
           7,
           7,
           6,
           7,
           7,
           7,
           7,
           7,
           7,
           7,
           6,
           7,
           6,
           7,
           6,
           6,
           6,
           7,
           6,
           7,
           7,
           7,
           6,
           7,
           7,
           6,
           7,
           7,
           7,
           7,
           7,
           7,
           7,
           6,
           6,
           7,
           7,
           7,
           7,
           7,
           7,
           7,
           7,
           6,
           7,
           6,
           7,
           7,
           7,
           7,
           7,
           7,
           6,
           6,
           7,
           7,
           7,
           6,
           6,
           6,
           6,
           7,
           7,
           6,
           7,
           7,
           6,
           6,
           7,
           7,
           6,
           9,
           6,
           6,
           7,
           7,
           7,
           7,
           7,
           7,
           7,
           7,
           6,
           7,
           6
          ]
         },
         "mode": "markers",
         "name": "Wikibase Cloud (711)",
         "showlegend": true,
         "type": "scatter",
         "x": [
          -0.34475576877593994,
          -0.9235790967941284,
          0.39078718423843384,
          -0.2549951374530792,
          0.0611163005232811,
          0.13807369768619537,
          -0.8828572630882263,
          0.9014772772789001,
          -0.266420841217041,
          -0.49137380719184875,
          -0.27791211009025574,
          0.0662909597158432,
          0.7986608743667603,
          0.3307567536830902,
          -0.3418184220790863,
          -0.3633997440338135,
          0.5125362873077393,
          0.5138758420944214,
          -0.9084270596504211,
          -0.7134567499160767,
          0.9476358294487,
          -0.8710051774978638,
          0.4331985116004944,
          0.7931843996047974,
          -0.021917765960097313,
          0.9464021325111389,
          0.6393133401870728,
          -0.6798942685127258,
          0.1485774666070938,
          0.9698293209075928,
          0.8931258916854858,
          -0.44105538725852966,
          -0.961007297039032,
          0.7318003177642822,
          -0.8620173931121826,
          -0.521598756313324,
          -0.121723972260952,
          -0.4448204040527344,
          0.4213913679122925,
          0.33680081367492676,
          0.47515562176704407,
          -0.1237916573882103,
          -0.25065046548843384,
          0.2710951864719391,
          0.05068041384220123,
          -0.27122610807418823,
          -0.16245342791080475,
          0.61092609167099,
          0.6192598342895508,
          0.9442276358604431,
          -0.4130392372608185,
          0.922364354133606,
          0.5856574177742004,
          -0.7101864814758301,
          0.07693012058734894,
          0.9781014919281006,
          -0.7298640012741089,
          0.3004029095172882,
          -0.20005863904953003,
          0.9607361555099487,
          0.4546893239021301,
          -0.6711266040802002,
          -0.9620839953422546,
          -0.4465166926383972,
          0.7441409230232239,
          0.6383059620857239,
          -0.8717061281204224,
          -0.9568278193473816,
          0.290056437253952,
          0.2499423325061798,
          0.9655210971832275,
          -0.6372148990631104,
          -0.8531851172447205,
          -0.32618385553359985,
          0.7974298000335693,
          -0.7346539497375488,
          -0.4077163636684418,
          -0.15221598744392395,
          -0.6410601735115051,
          0.9672845602035522,
          0.8354212045669556,
          -0.17748862504959106,
          -0.14152881503105164,
          -0.1914837509393692,
          -0.7981029152870178,
          -0.2643660306930542,
          -0.8994282484054565,
          0.21407367289066315,
          -0.9358934164047241,
          0.2835390865802765,
          0.7748970985412598,
          0.8442648649215698,
          -0.028048107400536537,
          0.8619319200515747,
          -0.8167039155960083,
          0.9043734073638916,
          -0.1166306659579277,
          0.9494889974594116,
          -0.6688939332962036,
          0.7164620757102966,
          -0.30482983589172363,
          -0.4881945848464966,
          0.6827305555343628,
          -0.40652117133140564,
          -0.13391467928886414,
          -0.41964468359947205,
          0.12246176600456238,
          -0.004968847148120403,
          0.27648288011550903,
          0.6370510458946228,
          0.1476536989212036,
          -0.029584333300590515,
          -0.027132363989949226,
          -0.989032506942749,
          0.1995016634464264,
          0.5569338202476501,
          -0.19088172912597656,
          -0.9000167846679688,
          -0.11044023931026459,
          -0.8088215589523315,
          -0.11720768362283707,
          -0.7551389336585999,
          -0.94549959897995,
          -0.41177794337272644,
          -0.14192642271518707,
          -0.9074488282203674,
          -0.4760957360267639,
          -0.012624005787074566,
          0.9822971224784851,
          -0.6462224125862122,
          -0.10497431457042694,
          0.967189371585846,
          -0.3492877781391144,
          -0.6941326260566711,
          0.7426260113716125,
          -0.49144670367240906,
          0.6905226707458496,
          0.9603000283241272,
          0.3303273916244507,
          -0.4093988835811615,
          0.25696662068367004,
          0.7913561463356018,
          -0.881623387336731,
          -0.5517335534095764,
          0.33718767762184143,
          -0.9229047298431396,
          0.04046936333179474,
          0.5830038785934448,
          -0.7969647645950317,
          -0.8332089781761169,
          0.9794792532920837,
          -0.9593470096588135,
          -0.2952028214931488,
          -0.786268949508667,
          0.5604305267333984,
          0.11717845499515533,
          0.11853840947151184,
          -0.20352429151535034,
          -0.5460926294326782,
          0.5247797966003418,
          0.8497505784034729,
          0.7800880074501038,
          0.9385985732078552,
          0.5791175961494446,
          -0.9158666729927063,
          -0.5176776647567749,
          0.27644890546798706,
          0.14597384631633759,
          -0.8136546134948731,
          -0.9384931385517121,
          -0.018224258534610273,
          1.0946313321590424,
          0.25465285778045654,
          0.966083824634552,
          -0.2609342515468598,
          -0.7670541465282441,
          0.1467517450451851,
          0.71844482421875,
          0.8489948630332947,
          -0.21800638139247897,
          -0.07537463307380676,
          1.060197651386261,
          0.9642760276794434,
          0.8668146073818207,
          -0.9743910849094392,
          -1.0213479638099672,
          0.8379796624183655,
          0.9389151811599732,
          -0.8707590699195863,
          0.11948939561843873,
          -0.9835378766059877,
          0.7332121253013612,
          0.41820590198040014,
          -1.0412724137306215,
          0.3763555616140366,
          0.3173704028129578,
          -0.045710019022226336,
          1.004743140935898,
          -0.8692752659320832,
          1.0052277982234956,
          0.982755357027054,
          -0.8847981333732605,
          0.7737015962600708,
          -0.9617597043514252,
          -0.7018881976604462,
          1.0177773535251617,
          -0.7999745845794678,
          -0.5149516791105271,
          -0.9376312196254731,
          -0.671219527721405,
          -1.0141508162021637,
          0.4633061408996582,
          -0.906891280412674,
          0.3382708549499512,
          0.5575556576251984,
          0.9152303099632264,
          -1.0026765942573548,
          -0.013413419667631389,
          -0.44476681947708135,
          0.4720691800117493,
          -0.5035333514213562,
          -1.0756883263587953,
          0.2649024158716202,
          -0.9847878754138948,
          -0.9793921291828156,
          -1.0625414729118348,
          0.9918215692043305,
          -0.9246951580047608,
          -0.29541051685810094,
          -0.6478371739387513,
          0.1808034107089043,
          0.7140401005744935,
          -0.2474306255578995,
          0.1476899489760399,
          0.4294590711593628,
          1.0423904299736024,
          -0.3640393197536469,
          1.066843855381012,
          0.0907419390976429,
          0.8190217733383179,
          -0.7109147429466248,
          -0.07457114905118943,
          -0.8512454509735108,
          -0.047720138728618626,
          0.9478279054164888,
          0.619354510307312,
          0.7587514400482178,
          -1.0371918380260468,
          0.3397424310445786,
          -0.9532807588577271,
          -0.7726179361343385,
          -0.5739789962768556,
          -0.1195457734167576,
          0.35044691860675814,
          -1.0467549026012422,
          -0.9753969848155977,
          -0.992374610900879,
          -0.7110548555850983,
          0.7064941465854645,
          -0.18311385959386828,
          -0.0502870824187994,
          0.8550728142261506,
          -0.36668244600296024,
          -0.6917878270149231,
          0.9946960747241975,
          0.18897546231746676,
          -0.48414591252803807,
          0.8953484773635865,
          0.934536349773407,
          -0.5239296078681946,
          -1.052451264858246,
          -1.0341395854949953,
          0.458980679512024,
          0.9137958109378815,
          -1.0703274607658386,
          -0.9537765622138977,
          0.7961782991886139,
          0.4405347228050232,
          0.9616532921791078,
          0.9897163391113282,
          0.09846882820129395,
          0.6176138877868653,
          0.8336359739303589,
          0.04315534010529518,
          0.5319416970014572,
          -0.9409288167953492,
          -0.7228354632854462,
          -0.8273463785648346,
          0.27859123051166534,
          -1.0527762055397034,
          -0.09399704188108444,
          0.8714047551155091,
          -1.0792571008205414,
          0.2347932130098343,
          0.6638475835323334,
          0.9316656470298768,
          0.09517249315977097,
          -0.9110896766185761,
          -0.05069542601704598,
          0.6638480424880981,
          0.6981010258197785,
          -0.3723200619220734,
          -0.5697290003299713,
          -0.8715274274349213,
          0.7481563806533814,
          0.8145498394966126,
          -0.10889622122049332,
          -0.9667328178882599,
          -0.5453983783721924,
          -1.0850484669208527,
          -0.6114809930324555,
          -0.034390215203166014,
          0.8790280103683472,
          -0.6347800135612488,
          -0.6255475282669067,
          0.9327112138271333,
          0.18013341724872592,
          -0.9161951005458833,
          0.0507319949567318,
          -0.9106549143791199,
          -0.9192070960998536,
          0.9579499125480653,
          -0.0861699938774109,
          0.9979540050029756,
          1.0448450565338137,
          0.9843265593051911,
          0.1821116477251053,
          0.2545655027031899,
          -0.2739982470870018,
          -0.326908028125763,
          0.7294579982757569,
          0.4113198608160019,
          0.8417307078838349,
          -0.756522160768509,
          1.0054557025432587,
          -1.0374675393104553,
          -0.24691534936428072,
          0.5894566893577576,
          -1.0308712959289552,
          0.9359849452972413,
          0.5087277144193649,
          0.6769467055797578,
          -0.5120187878608704,
          0.9908211767673494,
          1.0155415177345277,
          -0.09293385446071625,
          0.7323479115962983,
          -0.9449918210506439,
          0.6977375328540802,
          -0.3674169719219208,
          0.8868791699409485,
          -0.02497703451663256,
          0.1934834733605385,
          1.0059770762920381,
          -0.8750007390975952,
          0.9558891355991365,
          -1.0667472779750824,
          0.9205786526203156,
          -1.0140518128871918,
          0.45452733337879186,
          0.9855401694774628,
          0.9105511903762818,
          -0.45560640394687657,
          -0.9550542950630189,
          0.16497751772403718,
          0.8180803894996643,
          -0.7149959087371827,
          1.0763671875,
          -0.8059827089309693,
          -0.780049479007721,
          1.0017894983291626,
          1.0768315851688386,
          -0.892731773853302,
          0.28212515711784364,
          -0.8001824915409089,
          0.81144939661026,
          0.7494302451610566,
          0.5770926177501678,
          -0.5937409102916718,
          1.0336983978748322,
          -0.6077233910560609,
          0.7590821504592896,
          0.3958493143320084,
          0.7874635815620423,
          -0.7602409482002259,
          0.9284819364547731,
          1.05199893116951,
          0.5667844712734222,
          -1.0498413801193238,
          -0.8647156059741975,
          -0.7345347702503205,
          -1.0422287464141846,
          0.6833625137805939,
          -0.4234250485897065,
          -0.46571710109710696,
          0.4001303553581238,
          -0.1717741772532463,
          0.8068597733974457,
          0.8877690196037293,
          -1.0757918536663056,
          0.9436186909675599,
          0.5923290312290193,
          0.5994058012962342,
          -0.6714240252971649,
          0.1167888753116131,
          -0.3766976803541184,
          -0.2697578564286232,
          0.3550836175680161,
          0.5957085192203522,
          -0.9875280380249024,
          1.0558768451213838,
          -1.0142683744430543,
          1.029164046049118,
          -0.9738683998584748,
          1.0214462459087372,
          0.6443636655807495,
          0.8690646708011628,
          -0.09728321433067323,
          0.973807293176651,
          0.16689187288284302,
          -0.9183103442192078,
          0.5063038051128388,
          -0.849206179380417,
          0.18164200484752657,
          0.22887555211782457,
          -0.30008117854595184,
          -0.6281022727489471,
          -0.766598927974701,
          0.8984226942062379,
          0.2212358891963959,
          -0.972037822008133,
          0.7517266631126405,
          -0.3135711669921875,
          0.33073630928993225,
          1.0902729570865632,
          -0.8848718941211701,
          -0.9710702121257783,
          0.757786649465561,
          -1.0791305601596832,
          -0.015413369610905649,
          -0.9069716632366182,
          -0.35450431704521185,
          -0.9997371792793275,
          -0.9226260542869569,
          -0.9374905169010163,
          1.095828551054001,
          -0.902274775505066,
          0.02208026144653559,
          -1.0082005858421326,
          -0.9932643949985505,
          -1.0896489083766938,
          0.93880575299263,
          0.6452055215835572,
          -0.7249653458595277,
          0.7425856411457062,
          0.9716240406036378,
          -0.3459193199872971,
          0.3883452564477921,
          -0.3633328884840012,
          0.4009889960289002,
          1.071454131603241,
          0.367560625076294,
          0.9960520923137666,
          -0.837291294336319,
          0.7089592635631562,
          -1.0325399279594423,
          -0.48571019768714907,
          -0.886794263124466,
          1.0109376668930055,
          -1.0166263580322266,
          -0.8755158185958863,
          0.8500041067600251,
          0.0851671263575554,
          0.18733733445405962,
          0.732806146144867,
          -0.9112138569355012,
          0.016786075569689276,
          -0.3326325833797455,
          -0.49439347684383395,
          -0.41401684880256656,
          0.059305968880653384,
          -0.22477606087923052,
          1.010647737979889,
          -0.8237260699272156,
          0.7587331473827362,
          -0.15571800321340562,
          -0.3386482805013657,
          0.16655401438474657,
          0.9708756804466249,
          -0.8790899693965912,
          -0.383211836218834,
          0.4387588918209076,
          1.0443715453147888,
          -0.9371264338493348,
          0.207067646086216,
          -0.6632234692573548,
          -0.41984080076217656,
          -0.9733465015888215,
          -0.8099551677703858,
          1.0681924641132357,
          0.5310307353734971,
          0.8909364700317384,
          -0.9289202392101289,
          0.4135543525218964,
          1.0371101438999177,
          0.47701760828495027,
          -0.6870202600955964,
          1.040255105495453,
          0.9474124193191529,
          -0.8184141159057617,
          1.0060628354549408,
          0.7684730410575867,
          0.8704731404781342,
          0.9248822152614594,
          -0.9580057084560395,
          0.6580040931701661,
          0.9368744015693665,
          0.3914041638374329,
          -1.0265156090259553,
          -1.0692081332206727,
          -0.6353101074695587,
          -0.8485694110393525,
          -1.0160650551319124,
          -0.5963940680027009,
          -0.17296918332576752,
          0.9955300629138948,
          -0.5703251838684082,
          0.08647058531641962,
          0.6746515333652496,
          0.732005137205124,
          1.0390998482704163,
          1.0264721393585206,
          1.0777222216129303,
          -0.989169067144394,
          -0.930495834350586,
          -0.20094394683837893,
          0.8631135880947114,
          0.5493365794420243,
          -0.5539700329303742,
          0.9041919648647309,
          0.851243418455124,
          -0.6449671268463135,
          -0.5632634282112122,
          -0.49737924635410313,
          -0.07449414283037187,
          0.25682915449142457,
          1.0587114214897158,
          -0.9020604431629181,
          0.25660306960344315,
          -0.1825438365340233,
          0.9132160842418672,
          -0.7049350082874298,
          -0.41880759298801423,
          0.05026146285235882,
          0.6391834974288941,
          -0.8415608942508698,
          0.46993267536163336,
          -0.036662595346570015,
          0.28276917040348054,
          -0.9021481037139893,
          0.22681587338447573,
          -0.8078206300735474,
          0.9898860216140748,
          -1.0437573313713076,
          -0.4067604959011078,
          -1.0408628940582276,
          -0.6789680123329163,
          0.03584114648401737,
          0.3385548830032349,
          0.5021523207426072,
          -0.8677673339843751,
          -0.539161628484726,
          -0.37929697632789616,
          0.894605165719986,
          0.8986955761909485,
          1.0090015292167664,
          -0.20959226340055467,
          -0.18681560009717943,
          0.5603811204433442,
          -0.8312813997268678,
          -1.0134772002696992,
          -0.8311378121376038,
          -1.0795491933822632,
          -0.9975757598876954,
          0.02348596509546042,
          0.900956654548645,
          0.9627929449081422,
          0.6586002111434937,
          1.0604299485683442,
          0.9835829198360444,
          0.21204674243927005,
          0.4859755724668503,
          0.11961367428302766,
          -0.9260022640228273,
          -0.660239863395691,
          -0.24534819573163988,
          -1.0217632532119751,
          -1.0281241834163666,
          0.7837275505065918,
          0.8479580819606781,
          0.30052544772624973,
          -1.060403198003769,
          0.05071518570184708,
          0.2717453807592392,
          -0.6164102435112,
          1.0288086831569672,
          0.9548536658287049,
          -0.11534518077969552,
          0.48638873100280766,
          1.077275460958481,
          0.26054407358169557,
          1.0206699550151825,
          -0.9426978945732117,
          1.069399780035019,
          -0.9049482583999634,
          -0.7943607687950135,
          -0.6248716831207276,
          -0.4170117646455765,
          -0.576943325996399,
          1.0657365262508394,
          -1.0734469175338746,
          0.6796168446540833,
          1.0501806795597077,
          0.9069988727569581,
          -1.010749560594559,
          0.9486584842205048,
          -1.0209015309810638,
          -0.41583572328090673,
          0.9781300008296967,
          -0.5423696964979172,
          -0.27396752983331685,
          0.45401504039764407,
          1.0087447762489319,
          0.3002215534448624,
          -0.18174694180488588,
          0.6500800251960754,
          1.0956075966358185,
          -0.7594063699245454,
          -0.740527617931366,
          -0.8228707730770112,
          0.32227667272090915,
          0.4997285425662995,
          -0.5730652153491974,
          -0.755750459432602,
          -0.9727772653102875,
          -1.0962252199649811,
          0.2331002399325371,
          0.8077257573604585,
          0.36035059392452246,
          1.0204381823539734,
          -0.712808918952942,
          0.5311089873313904,
          0.694799166917801,
          -0.640970540046692,
          -0.6657753944396974,
          -0.2677159130573273,
          -0.6160939574241638,
          -0.3046493291854859,
          1.0576135337352754,
          0.12464945986866952,
          -0.842777192592621,
          1.0293626427650453,
          -0.09568354040384293,
          0.8843753695487977,
          -0.47072250545024874,
          0.3379765331745148,
          -0.7643499791622163,
          0.6044998168945312,
          1.076083552837372,
          0.2176987335085869,
          0.9062711656093598,
          -1.0718721091747285,
          0.28389282524585724,
          -1.073673576116562,
          0.7298112630844117,
          -1.0889533281326296,
          0.4565670639276505,
          -0.9707739889621736,
          0.8474927008152009,
          -0.6893971264362336,
          0.5577303886413575,
          0.8132235884666443,
          0.1276142567396164,
          0.7031425893306733,
          1.0841894328594208,
          -0.06118347495794297,
          0.9358054280281067,
          -0.9166874945163728,
          -1.0195076167583466,
          0.8474913239479066,
          -0.6307433664798737,
          -0.9457728326320649,
          -0.2463399335741997,
          -0.7502307295799256,
          -0.6761140286922456,
          -0.442992103099823,
          -0.5891565322875977,
          0.9269930839538575,
          1.0189165472984314,
          0.017864463850855827,
          -0.27502498030662537,
          0.6280947983264924,
          -0.7786813318729401,
          0.9966808617115022,
          0.8031861603260041,
          -0.9660067498683931,
          0.8314558029174806,
          0.6163842797279359,
          0.9793893098831178,
          0.7761423230171204,
          0.5281199723482133
         ],
         "y": [
          0.4576641321182251,
          -0.22758960723876953,
          -0.9209132194519043,
          -0.806473433971405,
          -0.9534766674041748,
          -0.9456290602684021,
          -0.2037598043680191,
          -0.19966340065002441,
          -0.5127559900283813,
          -0.2996061444282532,
          -0.9583551287651062,
          -0.990526556968689,
          0.6520837545394897,
          -0.015526148490607738,
          -0.27920639514923096,
          -0.9269760847091675,
          -0.8020008206367493,
          0.8838105797767639,
          -0.4252752661705017,
          0.6408898234367371,
          0.2618132531642914,
          -0.4580073952674866,
          0.9347828030586243,
          -0.5740936398506165,
          -0.2421543300151825,
          0.3532158434391022,
          -0.7609301805496216,
          -0.737910270690918,
          -0.7278870344161987,
          -0.19996267557144165,
          0.4929749071598053,
          -0.7947859764099121,
          -0.031478364020586014,
          0.5772489309310913,
          -0.2688341438770294,
          -0.8526167273521423,
          0.9985125660896301,
          0.8637688755989075,
          0.36182764172554016,
          0.40430375933647156,
          -0.8369302749633789,
          -0.9239843487739563,
          -0.9519971013069153,
          -0.9328433871269226,
          0.93775475025177,
          0.9396234154701233,
          -0.4806017577648163,
          0.7843201160430908,
          -0.7907329797744751,
          -0.2822801470756531,
          -0.17170275747776031,
          0.01454226765781641,
          -0.5051572322845459,
          -0.5971931219100952,
          0.9728924036026001,
          0.15294423699378967,
          -0.7291513085365295,
          0.8612866401672363,
          0.969510018825531,
          0.28357115387916565,
          0.8393095135688782,
          -0.7642427682876587,
          0.24621279537677765,
          0.9105777740478516,
          0.6450197696685791,
          -0.8058381080627441,
          0.5588708519935608,
          -0.07509201765060425,
          0.9394760727882385,
          0.7334685921669006,
          0.07429845631122589,
          -0.8104419112205505,
          -0.5283267498016357,
          -0.9257650375366211,
          -0.4621148407459259,
          -0.701140284538269,
          -0.0693918913602829,
          -0.8983851075172424,
          -0.7439393997192383,
          -0.2547908127307892,
          0.3794488310813904,
          0.9628522992134094,
          0.968358039855957,
          0.08484365046024323,
          0.6759188771247864,
          -0.9060366153717041,
          0.41827964782714844,
          0.46453073620796204,
          0.34545332193374634,
          0.07799411565065384,
          0.6487795114517212,
          -0.4940306842327118,
          -0.5342905521392822,
          0.5211901068687439,
          -0.5225870609283447,
          -0.4105148911476135,
          0.9641848802566528,
          -0.22406640648841858,
          0.027797069400548935,
          -0.6097092628479004,
          -0.8470401167869568,
          0.8322058320045471,
          0.1320069432258606,
          0.8696297407150269,
          0.9132326245307922,
          -0.8902689814567566,
          0.9484785795211792,
          -0.9766754508018494,
          0.232538104057312,
          0.2617049813270569,
          0.9320619702339172,
          -0.9907882809638977,
          0.2259344607591629,
          0.11324800550937653,
          0.945086658000946,
          -0.8481283187866211,
          -0.7996280193328857,
          0.280799001455307,
          0.07117625325918198,
          0.6422394514083862,
          -0.966697096824646,
          -0.623934805393219,
          -0.05232325196266174,
          -0.4987868368625641,
          -0.9550708532333374,
          -0.2972394824028015,
          -0.8331819176673889,
          -0.7195683121681213,
          -0.1656472235918045,
          -0.28881821036338806,
          -0.9542131423950195,
          -0.09955327212810516,
          -0.8776727914810181,
          -0.6967453956604004,
          -0.5967311859130859,
          -0.8558539152145386,
          -0.763306736946106,
          -0.17934340238571167,
          -0.931456983089447,
          -0.8637788891792297,
          0.30262765288352966,
          -0.000764417287427932,
          0.4813860058784485,
          -0.056818485260009766,
          -0.858165979385376,
          0.25733333826065063,
          -0.9792748689651489,
          0.3499404788017273,
          0.597720742225647,
          0.465424507856369,
          -0.07963452488183975,
          -0.10648474097251892,
          -0.9329028725624084,
          -0.5236043334007263,
          0.8638913035392761,
          0.376445472240448,
          -0.0854145810008049,
          -0.9135419130325317,
          -0.8385521173477173,
          -0.7212812900543213,
          0.2367420643568039,
          0.613464891910553,
          -0.08540704101324081,
          -0.8252092599868774,
          0.009951919317245483,
          0.8606470227241516,
          0.00009621296339901164,
          -0.96763676404953,
          0.5959243595600129,
          -0.22190639078617097,
          -1.0488009929656983,
          0.07112652212381364,
          0.41409486532211304,
          -0.00122355786152184,
          0.9688775181770326,
          -0.6896785318851472,
          -0.9959739387035371,
          0.7509737014770508,
          -0.6574422657489777,
          -1.0758328318595887,
          -0.9937815725803376,
          -0.16688993722200396,
          0.5124455183744431,
          0.6364938199520112,
          0.27609952688217165,
          0.360319384932518,
          0.7730532228946686,
          -0.5907704174518585,
          -0.5310931533575058,
          -0.9671443700790406,
          0.5024854570627213,
          0.7243839144706726,
          0.9985200285911561,
          -0.1684285864233971,
          0.9548643529415132,
          1.0019252181053162,
          -1.0546514332294465,
          -0.13153020665049553,
          -0.6519366323947907,
          -0.25921006947755815,
          -0.5233787626028061,
          0.5211737424135209,
          0.7864206373691559,
          -0.07458791732788086,
          -0.8532717406749726,
          0.4317053645849228,
          0.6452567279338837,
          0.8739070475101471,
          0.19166599214077,
          0.8710499823093415,
          0.426919373869896,
          0.9857822358608247,
          0.5541633188724518,
          -0.9393026053905488,
          0.8333274245262147,
          -0.3103560507297516,
          -0.38939462602138525,
          1.0571785748004914,
          0.9263411045074463,
          0.928756457567215,
          0.8200552105903626,
          0.08615164384245873,
          -1.0671992838382722,
          0.3797241002321244,
          -0.3760455042123795,
          0.15319972932338716,
          -0.07802597954869271,
          -0.5024937838315964,
          0.9834951281547547,
          0.7644354104995729,
          0.9946742415428163,
          -0.6999997913837434,
          1.0692155420780183,
          1.079267066717148,
          1.017855703830719,
          0.22121661305427553,
          0.8698394536972046,
          -0.06956770345568658,
          -1.0019842267036438,
          -0.7560416996479035,
          0.8456137359142304,
          1.0460248351097108,
          -0.7916406035423279,
          1.029258131980896,
          -0.5642455279827119,
          -0.7635242521762848,
          0.8541454613208771,
          0.17851533591747284,
          -0.8344561934471131,
          0.3374547004699707,
          0.5640938758850098,
          0.8513011157512665,
          1.0248911023139955,
          1.0299728572368623,
          0.22933077067136767,
          0.1606856092810631,
          0.5576711177825928,
          0.8938401520252228,
          -0.7552464604377748,
          -0.9572057485580445,
          -0.960590547323227,
          -0.612392020225525,
          1.011982250213623,
          -0.698155051469803,
          -0.4199970424175263,
          -0.9753465652465821,
          -0.9280277013778687,
          0.488192754983902,
          0.10811393931508065,
          -0.972808212041855,
          0.06811858750879765,
          0.4069637477397919,
          0.8218640863895417,
          -0.4841362744569779,
          0.2892870962619782,
          0.4710531830787659,
          0.5266528874635696,
          0.889609169960022,
          0.4185844749212265,
          0.16344195008277895,
          1.0408711552619936,
          -0.8535728156566621,
          0.6424770951271057,
          0.9863729774951936,
          -0.9664365947246553,
          0.25779466629028325,
          0.6867507874965668,
          -0.7443383276462555,
          1.056178116798401,
          -0.24178037196397784,
          -1.069480621814728,
          -0.5387149006128311,
          -0.23422704190015795,
          -1.0504115998744965,
          -0.7657428443431855,
          0.5458625793457031,
          1.098816353082657,
          -0.28765150904655457,
          1.0634888231754305,
          -0.9149615585803986,
          -0.8019646167755128,
          -0.912256407737732,
          -0.9616384088993073,
          -0.4530112057924271,
          0.6798284888267517,
          0.7451567769050599,
          0.9671472549438478,
          -0.4107164323329926,
          0.8750594198703766,
          0.16246160417795183,
          0.9675126492977143,
          -1.001766484975815,
          -0.37125023603439333,
          -0.8748640358448029,
          -0.9458146631717682,
          0.21196350753307344,
          1.0618308126926423,
          -0.4124120444059372,
          -1.0340235352516176,
          -0.3470370411872864,
          0.30371853411197663,
          -0.28015941679477696,
          1.0078904628753662,
          -0.4740803897380829,
          0.248756942152977,
          -0.49735092222690586,
          -1.054520630836487,
          -1.029447615146637,
          1.0766893088817597,
          0.9916330039501191,
          0.842802369594574,
          0.9247261047363282,
          -0.7217927813529968,
          0.8828895986080171,
          0.22890438437461855,
          -0.12756297662854196,
          -1.0472641468048096,
          0.6899057805538178,
          0.10165607929229738,
          -0.6206043779850007,
          -0.9645942151546479,
          0.6877044975757599,
          0.9816237688064576,
          0.47871433496475224,
          -0.329439988732338,
          1.0849278271198273,
          -0.5703049242496491,
          0.3912566423416138,
          0.8939572513103485,
          -1.0313040256500245,
          -0.7243361830711366,
          1.080584990978241,
          1.0327730774879456,
          0.49890301227569583,
          -0.6794927299022675,
          -0.48114014565944674,
          -0.00869178418070078,
          0.6837727546691895,
          0.5003118425607682,
          -0.8870599985122681,
          -0.1742325410246849,
          0.6110592782497406,
          -0.9198834002017976,
          -0.450682070851326,
          0.9369886159896851,
          0.5875840842723847,
          -0.7775448918342591,
          -0.05161265321075917,
          -0.5316985160112382,
          0.6165915966033936,
          0.19419667422771456,
          -0.1443773537874222,
          -0.4886434495449067,
          -1.0083570241928101,
          0.8339572429656983,
          0.7982727766036988,
          0.6358975052833558,
          -0.8455036520957947,
          -0.8596249997615815,
          -0.2162251248955727,
          0.8469940125942231,
          -0.6734969973564149,
          -1.0091681957244873,
          -0.7827316820621492,
          -0.7279891431331635,
          -0.66309312582016,
          0.19167720377445222,
          0.8688121140003205,
          0.31631211638450624,
          -0.3802322953939438,
          0.7665723085403443,
          -0.19968126118183138,
          0.8265041291713715,
          0.8942732751369477,
          0.8988423764705659,
          -0.9044035434722901,
          1.037508648633957,
          -0.7095208942890168,
          0.273216612637043,
          -0.19482459127902987,
          0.4584630757570267,
          0.9765839755535126,
          -0.7245985746383667,
          -0.8672528445720673,
          0.974073749780655,
          0.9802029728889466,
          -0.9708939731121065,
          0.9991209328174592,
          0.8965850353240967,
          -0.032571682892739776,
          0.053086593747138984,
          0.4559969753026963,
          -0.3752476423978806,
          0.4178570628166199,
          0.31456277370452884,
          -0.8079699873924256,
          0.6020179808139802,
          1.058503121137619,
          0.34176514744758607,
          0.04555905982851982,
          -0.3192184865474701,
          -0.8582678020000458,
          0.508471617102623,
          1.0824803471565247,
          0.9626582741737366,
          0.9443006336688996,
          -0.9036820650100709,
          -0.7875697314739228,
          0.6513860821723938,
          1.0744774699211121,
          0.2226002171635628,
          0.58506920337677,
          -1.0016088664531708,
          1.0665636956691742,
          -0.11264044791460039,
          -0.6990860104560853,
          -0.3483794212341309,
          -0.7966087341308594,
          -0.05987677462399006,
          1.014968675374985,
          0.679100650548935,
          -0.9615687131881715,
          -0.5012197226285935,
          0.6457704961299897,
          0.4361275672912598,
          -0.03444666266441346,
          0.456651708483696,
          1.0707639276981356,
          0.16436999142169953,
          -0.43179731965065005,
          -0.14872432053089144,
          0.36781550943851476,
          -0.8677409768104554,
          -0.7170115113258363,
          -0.7535529792308808,
          -0.5509801983833313,
          1.0405053019523622,
          1.0085353612899781,
          0.949734538793564,
          -0.9667355060577394,
          -0.025246535800397398,
          -0.9913896918296815,
          0.30436415374279024,
          0.6929357409477235,
          -0.6561566650867463,
          -0.3932202845811844,
          -0.8211307406425477,
          0.3907249420881272,
          -0.3595221787691117,
          0.21332055777311326,
          0.4367372572422028,
          0.5482334464788438,
          1.0073660731315615,
          -1.01697536110878,
          0.8872063398361206,
          -0.5402944952249528,
          -1.0279762029647828,
          0.958882510662079,
          -0.9821527481079102,
          1.03307723402977,
          1.0591151714324951,
          0.9418011605739595,
          -0.29704489111900334,
          0.7908602476119996,
          -0.7155757009983064,
          -1.0749881565570831,
          1.0657596707344057,
          -1.0786188244819641,
          0.4624515980482102,
          -0.6196223437786103,
          1.0435010373592377,
          -0.9561802446842195,
          0.348723703622818,
          0.5332448691129685,
          -1.0396308600902557,
          -0.9051028609275819,
          -0.9831227838993073,
          -0.5305419802665711,
          0.7584892451763153,
          0.14816390275955202,
          -0.8793303310871124,
          -0.44059635400772096,
          -0.6141571640968323,
          -0.9830720365047456,
          -0.009416690468788147,
          -0.7948161184787751,
          0.7104993224143983,
          0.16287089437246324,
          -0.42186512351036076,
          0.5460359007120132,
          -0.04266253225505352,
          0.7439646720886232,
          0.7592276394367219,
          0.4844448238611222,
          0.576440179347992,
          0.8111318647861482,
          -0.18030816465616228,
          -1.0367521584033967,
          -0.3123227089643479,
          0.04023901224136353,
          -0.8184215903282166,
          0.577161592245102,
          0.03407169580459595,
          0.7744997203350068,
          -1.0282022058963776,
          0.43671886622905737,
          -0.8239101111888886,
          -1.0290055751800538,
          -0.7212949454784394,
          0.8044745147228242,
          -0.2738102555274964,
          0.2733442515134812,
          -0.24444608539342882,
          -0.24604915231466296,
          0.5985714197158813,
          -1.0216213047504425,
          -0.5758446514606477,
          -0.8216289699077607,
          -0.8634882926940919,
          -0.5676529467105866,
          -0.4647058248519898,
          -0.7652251422405244,
          0.9947501659393312,
          -0.8735666990280152,
          -1.0517728626728058,
          0.8917865216732026,
          -0.13558871969580652,
          0.6225285172462464,
          1.031674861907959,
          1.0877041816711426,
          -0.39518245160579685,
          -0.6439436554908753,
          -0.905260741710663,
          -0.933975899219513,
          0.8551907658576966,
          0.6576033592224122,
          -0.9618008136749269,
          0.9851175367832185,
          0.9698941707611085,
          -0.7264793753623963,
          0.998833167552948,
          0.717918735742569,
          -0.3921630144119263,
          0.13052303642034532,
          0.9410198211669922,
          0.022810296155512336,
          -0.7839628636837006,
          -1.019181627035141,
          -1.0463278114795687,
          -0.9109091758728028,
          0.6160028874874115,
          -0.8917408227920532,
          0.921488106250763,
          0.552794909477234,
          -0.6487968504428864,
          0.3901139408349991,
          1.004668724536896,
          -1.0579277873039246,
          0.90771923661232,
          -0.6178794920444489,
          -0.1616348445415497,
          -0.5788573026657104,
          0.009787776693701745,
          -0.19664325267076493,
          -1.0628023564815523,
          0.5817527890205384,
          -0.11476280689239503,
          0.7704561889171601,
          -0.3184950739145279,
          0.39796696901321416,
          -1.0673036634922028,
          -0.985499519109726,
          1.0775711596012116,
          -0.6488188803195953,
          0.8470640361309052,
          1.0412497937679293,
          -0.43397637605667116,
          -0.26758901178836825,
          -0.7453869104385377,
          -0.6911171615123749,
          -0.917679363489151,
          -0.15502797961235049,
          1.0952689528465271,
          1.0035004854202272,
          0.8931244432926179,
          -0.4033902853727341,
          -0.2377046972513199,
          -0.9814849019050599,
          -0.9348858773708344,
          0.23259215950965884,
          -0.9690304160118104,
          0.10020995065569878,
          -0.5452188283205033,
          0.023335216566920284,
          -0.6226881682872772,
          -0.7080321073532105,
          -0.8459684431552887,
          -0.8655335307121278,
          -0.8907911121845246,
          0.26837746500968934,
          -0.10541141107678415,
          0.9281626999378205,
          -0.353310638666153,
          -0.6052537500858307,
          0.33865529596805577,
          -0.377738493680954,
          0.25251821577548983,
          0.9856761515140534,
          -0.3529688805341721,
          0.9682324886322022,
          -1.0176144897937776,
          -0.9914435207843781,
          0.0672407239675522,
          -0.9651534855365754,
          1.0141333758831026,
          0.9208222925662995,
          0.013038442563265563,
          0.8291589915752412,
          0.6372945666313172,
          -0.47774121761322025,
          -1.0110733211040497,
          0.8808225274085999,
          0.8154213964939118,
          -0.8614642322063447,
          0.028083169274032118,
          -0.08581118881702424,
          -0.9924307346343995,
          -0.5981771767139435,
          0.9008910238742829,
          -0.43540074527263645,
          0.8069563508033754,
          0.8836122572422028,
          0.742652451992035,
          0.9022172749042512,
          -0.8167855441570283,
          1.005040740966797,
          0.8107830584049226,
          1.0592513501644136,
          0.13232983052730563,
          -1.0606985688209534,
          0.46652089655399326,
          -0.16944764852523805,
          -1.0328524112701416,
          -0.6840453088283539,
          -1.0105213284492494,
          -0.9896437585353852,
          0.673070365190506,
          -0.8969830811023712,
          0.049203541129827506,
          -0.9131600916385652,
          0.33442595303058625,
          0.18863086849451066,
          -1.0466901242733002,
          0.11040698066353799,
          -0.8021998643875122,
          0.06443688943982125,
          0.9584668934345246,
          -0.5740850806236267,
          -0.765099060535431,
          0.7462314546108246,
          -0.9663329362869264,
          -0.549142998456955,
          1.0179358899593354,
          0.7918234646320343,
          0.10580560490489006,
          0.9072216629981995,
          0.631269133090973,
          0.3587705731391907,
          -0.28962003588676455,
          0.473390743136406,
          0.7243874549865723,
          -0.40691001713275915,
          -1.0155565321445466,
          -0.5756042242050171,
          0.6390211582183838,
          1.01601699590683,
          -0.7772276878356934,
          0.5185757577419281,
          0.3458392649888993,
          1.0203031837940217,
          -0.9234559774398804,
          0.9038884639739991,
          -0.612769478559494,
          0.12563554272055627,
          -0.5026848405599594,
          -0.1446247309446335,
          0.4078441232442856,
          0.825480329990387,
          0.03914945535361767,
          0.7082700431346894,
          0.998345297574997
         ]
        },
        {
         "hoverinfo": "text",
         "hovertext": [
          "DataTrek<br>URL: https://data.wikitrek.org/<br>Host: independently hosted Wikibase<br>Version: 1.39.11<br>Start Date: 2020-10-31 00:00:00+00:00<br>Active Users: 3<br>Users: 38<br>Properties: 191<br>Edits: 84863<br>Pages: 13346",
          "MiMoTextBase<br>URL: https://data.mimotext.uni-trier.de/<br>Host: independently hosted Wikibase<br>Version: 1.39.5<br>Start Date: 2023-04-28 00:00:00+00:00<br>Active Users: 1<br>Users: 3<br>Properties: 58<br>Edits: 116092<br>Pages: 4450",
          "Imedwiki base<br>URL: https://base.imedwiki.org/wiki/Hauptseite<br>Host: independently hosted Wikibase<br>Version: 1.35.3<br>Start Date: 2021-08-25 00:00:00+00:00<br>Active Users: 0<br>Users: 1<br>Properties: 26<br>Edits: 892<br>Pages: 263",
          "PersonalData.io<br>URL: https://wiki.personaldata.io<br>Host: independently hosted Wikibase<br>Version: 1.35.1<br>Start Date: 2019-02-06 00:00:00+00:00<br>Active Users: 0<br>Users: 13574<br>Properties: 309<br>Edits: 65858<br>Pages: 17614",
          "Rhizome Artbase<br>URL: https://artbase.rhizome.org/<br>Host: independently hosted Wikibase<br>Version: 1.35.1<br>Start Date: 2015-02-09 00:00:00+00:00<br>Active Users: 0<br>Users: 27<br>Properties: 120<br>Edits: 202723<br>Pages: 28533",
          "DeJongeWiki<br>URL: https://set.kuleuven.be/rlicc/dejongewiki/w/index.php/Main_Page<br>Host: independently hosted Wikibase<br>Version: 1.39.4<br>Start Date: 2021-04-13 00:00:00+00:00<br>Active Users: 1<br>Users: 32<br>Properties: 35<br>Edits: 12622<br>Pages: 3039",
          "Crystal Pool<br>URL: https://crystalpool.cxuesong.com<br>Host: independently hosted Wikibase<br>Version: 1.43.0-wmf.7<br>Start Date: 2017-11-13 00:00:00+00:00<br>Active Users: 1<br>Users: 28<br>Properties: 147<br>Edits: 130017<br>Pages: 10784",
          "Undata<br>URL: https://data.uncyclomedia.org<br>Host: independently hosted Wikibase<br>Version: 1.39.3<br>Start Date: 2019-04-12 00:00:00+00:00<br>Active Users: 0<br>Users: 87323<br>Properties: 60<br>Edits: 58372<br>Pages: 14758",
          "MaRDi portal<br>URL: https://portal.mardi4nfdi.de/<br>Host: independently hosted Wikibase<br>Version: 1.44.0-wmf.15<br>Start Date: 2021-12-15 00:00:00+00:00<br>Active Users: 9<br>Users: 477<br>Properties: 1623<br>Edits: 36415688<br>Pages: 12755851",
          "DNB Doku wiki<br>URL: https://sta.dnb.de/wiki/Hauptseite<br>Host: independently hosted Wikibase<br>Version: 1.35.7<br>Start Date: 2020-03-31 00:00:00+00:00<br>Active Users: 0<br>Users: 88<br>Properties: 1562<br>Edits: 149543<br>Pages: 9997",
          "De Jonge Wiki<br>URL: https://set.kuleuven.be/rlicc/dejongewiki/w/index.php<br>Host: independently hosted Wikibase<br>Version: 1.39.4<br>Start Date: 2021-04-13 00:00:00+00:00<br>Active Users: 1<br>Users: 32<br>Properties: 35<br>Edits: 12622<br>Pages: 3039",
          "Librarybase<br>URL: https://librarybase.org<br>Host: independently hosted Wikibase<br>Version: 1.39.1<br>Start Date: 2023-05-04 00:00:00+00:00<br>Active Users: 0<br>Users: 6<br>Properties: 29<br>Edits: 1096<br>Pages: 512",
          "Biblissima<br>URL: https://data.biblissima.fr/<br>Host: independently hosted Wikibase<br>Version: 1.39.4<br>Start Date: 2019-01-02 00:00:00+00:00<br>Active Users: 3<br>Users: 18<br>Properties: 308<br>Edits: 1763961<br>Pages: 411709",
          "Enslaved.org<br>URL: https://lod.enslaved.org/<br>Host: independently hosted Wikibase<br>Version: 1.37.0-alpha<br>Start Date: 2019-07-01 00:00:00+00:00<br>Active Users: 0<br>Users: 1<br>Properties: 83<br>Edits: 6467973<br>Pages: 1137805",
          "EU Knowledge Graph<br>URL: https://linkedopendata.eu/<br>Host: independently hosted Wikibase<br>Version: 1.39.1<br>Start Date: 2019-12-17 00:00:00+00:00<br>Active Users: 0<br>Users: 109<br>Properties: 3272<br>Edits: 44494366<br>Pages: 3424918",
          "FactGrid<br>URL: https://database.factgrid.de/<br>Host: independently hosted Wikibase<br>Version: 1.39.10<br>Start Date: 2018-01-11 00:00:00+00:00<br>Active Users: 47<br>Users: 627<br>Properties: 1195<br>Edits: 9730625<br>Pages: 1021498",
          "Femiwiki<br>URL: https://femiwiki.com/<br>Host: independently hosted Wikibase<br>Version: 1.42.4<br>Start Date: 2016-07-25 00:00:00+00:00<br>Active Users: 26<br>Users: 6149<br>Properties: 83<br>Edits: 316700<br>Pages: 72362",
          "Lingua Libre<br>URL: https://lingualibre.org/<br>Host: independently hosted Wikibase<br>Version: 1.35.2<br>Start Date: 2018-01-15 00:00:00+00:00<br>Active Users: 23<br>Users: 3454<br>Properties: 39<br>Edits: 1424183<br>Pages: 1338070",
          "OpenStreetMap Wiki<br>URL: https://wiki.openstreetmap.org/<br>Host: independently hosted Wikibase<br>Version: 1.39.11<br>Start Date: 2018-09-17 00:00:00+00:00<br>Active Users: 758<br>Users: 155727<br>Properties: 46<br>Edits: 2789098<br>Pages: 285137",
          "Seeds of the Word<br>URL: https://en.seminaverbi.bibleget.io<br>Host: independently hosted Wikibase<br>Version: 1.42.1<br>Start Date: 2020-08-15 00:00:00+00:00<br>Active Users: 1<br>Users: 1<br>Properties: 7910<br>Edits: 24268<br>Pages: 22418",
          "TransforMap Base<br>URL: https://base.transformap.co<br>Host: independently hosted Wikibase<br>Version: 1.27.0-rc.1<br>Start Date: 2016-05-09 00:00:00+00:00<br>Active Users: 2<br>Users: 182<br>Properties: 33<br>Edits: 6069<br>Pages: 478",
          "BDI Data<br>URL: https://wiki.bgbm.org/bdidata/index.php/BDI_Data:Main_Page<br>Host: independently hosted Wikibase<br>Version: 1.28.2<br>Start Date: 2017-07-12 00:00:00+00:00<br>Active Users: 0<br>Users: 5<br>Properties: 69<br>Edits: 17073<br>Pages: 2566",
          "FOMU Photographic Paper Collection (2023-)<br>URL: https://data.fomu.be<br>Host: independently hosted Wikibase<br>Version: 1.38.5<br>Start Date: 2023-11-22 00:00:00+00:00<br>Active Users: 0<br>Users: 3<br>Properties: 51<br>Edits: 17445<br>Pages: 3759",
          "ScoutMedia<br>URL: https://media.scoutwiki.org/Main_Page<br>Host: independently hosted Wikibase<br>Version: 1.39.10<br>Start Date: 2021-04-04 00:00:00+00:00<br>Active Users: 11<br>Users: 10739<br>Properties: 39<br>Edits: 142254<br>Pages: 59728"
         ],
         "legendgrouptitle": {
          "text": "By host"
         },
         "marker": {
          "color": "#5be971",
          "line": {
           "color": "black",
           "width": 1
          },
          "showscale": false,
          "size": [
           8,
           6,
           4,
           4,
           4,
           6,
           6,
           4,
           14,
           4,
           6,
           4,
           8,
           4,
           4,
           20,
           20,
           20,
           30,
           6,
           7,
           4,
           4,
           20
          ]
         },
         "mode": "markers",
         "name": "independently hosted Wikibase (24)",
         "showlegend": true,
         "type": "scatter",
         "x": [
          0.3969615697860718,
          -0.4678146243095398,
          -0.6737548112869263,
          -0.3647943139076233,
          -0.009057590737938881,
          -0.20932015776634216,
          -0.05693027749657631,
          0.6004374027252197,
          0.07291647046804428,
          -0.9467354416847229,
          -0.10145091265439987,
          0.16735103726387024,
          0.43590104579925537,
          0.10037622600793839,
          0.2553069591522217,
          0.16738422214984894,
          -0.9846736609935761,
          -0.5447415709495544,
          -0.1761680394411087,
          -0.8392097294330597,
          -1.0021396815776826,
          0.9672020673751832,
          0.9450332581996919,
          -1.0719917654991151
         ],
         "y": [
          0.7534096837043762,
          0.15796416997909546,
          0.6534112691879272,
          0.07239452004432678,
          -0.3691636919975281,
          0.4595819413661957,
          -0.9763186573982239,
          -0.7595276236534119,
          0.02221110463142395,
          -0.3205682933330536,
          0.46605560183525085,
          0.26418861746788025,
          -0.3576613664627075,
          -0.959183394908905,
          -0.4562171697616577,
          -0.17856205999851227,
          -0.29743883907794955,
          0.24815160036087036,
          0.269754558801651,
          -0.7165255427360535,
          0.08652689754962922,
          0.5985948920249939,
          -0.5134199798107147,
          0.2139475241303444
         ]
        },
        {
         "hoverinfo": "text",
         "hovertext": [
          "matvoc.nims.go.jp<br>URL: https://matvoc.nims.go.jp<br>Host: <br>Version: 1.35.5<br>Start Date: 2019-02-01 00:00:00+00:00<br>Active Users: 0<br>Users: 85<br>Properties: 58<br>Edits: 38589<br>Pages: 3948",
          "Philobiblon<br>URL: https://philobiblon.cog.berkeley.edu/wiki/Main_Page<br>Host: <br>Version: 1.39.1<br>Start Date: 2024-02-27 00:00:00+00:00<br>Active Users: 0<br>Users: 15<br>Properties: 1177<br>Edits: 1851601<br>Pages: 264990",
          "Semantic Lab at Pratt experimental Wikibase<br>URL: https://base.semlab.io<br>Host: <br>Version: 1.39.6<br>Start Date: 2020-02-22 00:00:00+00:00<br>Active Users: 1<br>Users: 38<br>Properties: 217<br>Edits: 176993<br>Pages: 26748",
          "wikibase.the-qa-company.com<br>URL: https://wikibase.the-qa-company.com<br>Host: <br>Version: 1.38.5<br>Start Date: 2022-08-15 00:00:00+00:00<br>Active Users: 0<br>Users: 66108<br>Properties: 851<br>Edits: 49277<br>Pages: 46286",
          "CanonBase<br>URL: https://canonbase.eu<br>Host: <br>Version: 1.34.1<br>Start Date: 2020-03-11 00:00:00+00:00<br>Active Users: 0<br>Users: 29<br>Properties: 346<br>Edits: 483939<br>Pages: 35722",
          "WikiHum<br>URL: https://wikihum.lab.dariah.pl<br>Host: <br>Version: 1.42.1<br>Start Date: 2023-01-30 00:00:00+00:00<br>Active Users: 5<br>Users: 16<br>Properties: 157<br>Edits: 835975<br>Pages: 174666",
          "itidata.abtk.hu<br>URL: https://itidata.abtk.hu<br>Host: <br>Version: 1.35.2<br>Start Date: 2021-11-09 00:00:00+00:00<br>Active Users: 0<br>Users: 66<br>Properties: 248<br>Edits: 920789<br>Pages: 449676",
          "wiki.tiffa.net<br>URL: https://wiki.tiffa.net<br>Host: <br>Version: 1.43.0<br>Start Date: 2023-01-21 00:00:00+00:00<br>Active Users: 1<br>Users: 1<br>Properties: 966<br>Edits: 144258<br>Pages: 45609",
          "ELTEdata<br>URL: https://eltedata.elte-dh.hu<br>Host: <br>Version: 1.35.2<br>Start Date: 2021-03-19 00:00:00+00:00<br>Active Users: 0<br>Users: 19<br>Properties: 171<br>Edits: 253638<br>Pages: 39817",
          "wikibase.semantic-kompakkt.de<br>URL: https://wikibase.semantic-kompakkt.de<br>Host: <br>Version: 1.38.5<br>Start Date: 2024-02-14 00:00:00+00:00<br>Active Users: 0<br>Users: 19<br>Properties: 110<br>Edits: 6468<br>Pages: 1606",
          "sportsdamkg.slis.ua.edu<br>URL: https://sportsdamkg.slis.ua.edu<br>Host: <br>Version: 1.36.1<br>Start Date: 2020-08-18 00:00:00+00:00<br>Active Users: 0<br>Users: 5<br>Properties: 89<br>Edits: 8419411<br>Pages: 2625166",
          "Wikibase.slis.ua.edu<br>URL: https://wikibase.slis.ua.edu<br>Host: <br>Version: 1.34.2<br>Start Date: 2018-10-01 00:00:00+00:00<br>Active Users: 0<br>Users: 10<br>Properties: 178<br>Edits: 283279<br>Pages: 19117",
          "Black Bibliography Project<br>URL: https://blackbibliog.rutgers.edu<br>Host: <br>Version: 1.39.5<br>Start Date: 2019-01-03 00:00:00+00:00<br>Active Users: 8<br>Users: 52<br>Properties: 137<br>Edits: 79033<br>Pages: 10097",
          "GraphIT<br>URL: https://graphit.ur.de<br>Host: <br>Version: 1.39.1<br>Start Date: 2023-04-13 00:00:00+00:00<br>Active Users: 0<br>Users: 88<br>Properties: 38<br>Edits: 11795<br>Pages: 1965",
          "Addshore Alpha<br>URL: https://addshore-alpha.wikibase.dev<br>Host: <br>Version: 1.39.7<br>Start Date: 2019-10-28 00:00:00+00:00<br>Active Users: 0<br>Users: 9<br>Properties: 15<br>Edits: 232<br>Pages: 60",
          "Wer Leitet?<br>URL: https://wl.kgi.uni-mannheim.de<br>Host: <br>Version: 1.38.5<br>Start Date: 2023-11-14 00:00:00+00:00<br>Active Users: 0<br>Users: 1<br>Properties: 1068<br>Edits: 36494<br>Pages: 35457",
          "DFIH<br>URL: https://wiki.dfih.fr<br>Host: <br>Version: 1.33.0<br>Start Date: 2018-11-02 00:00:00+00:00<br>Active Users: 0<br>Users: 11253<br>Properties: 6<br>Edits: 484028<br>Pages: 65770",
          "Nimiarkisto<br>URL: https://nimiarkisto.fi<br>Host: <br>Version: 1.41.4<br>Start Date: 2018-05-04 00:00:00+00:00<br>Active Users: 2<br>Users: 259<br>Properties: 88<br>Edits: 6991881<br>Pages: 6698303",
          "SCDB<br>URL: https://scdb.app<br>Host: <br>Version: 1.40.1<br>Start Date: 2019-11-19 00:00:00+00:00<br>Active Users: 0<br>Users: 14<br>Properties: 95<br>Edits: 35338<br>Pages: 5961",
          "akf.kgi.uni-mannheim.de<br>URL: https://akf.kgi.uni-mannheim.de<br>Host: <br>Version: 1.38.5<br>Start Date: 2023-03-31 00:00:00+00:00<br>Active Users: 0<br>Users: 4<br>Properties: 349<br>Edits: 4155<br>Pages: 3903",
          "modelling.dissco.tech<br>URL: https://modelling.dissco.tech<br>Host: <br>Version: 1.35.5<br>Start Date: 2022-01-06 00:00:00+00:00<br>Active Users: 0<br>Users: 21<br>Properties: 48<br>Edits: 1133<br>Pages: 242",
          "data.marefa.org<br>URL: https://data.marefa.org<br>Host: <br>Version: 1.39.2<br>Start Date: 2023-03-07 00:00:00+00:00<br>Active Users: 0<br>Users: 52685<br>Properties: 1249<br>Edits: 73981646<br>Pages: 6063082",
          "kg.jstor.org<br>URL: https://kg.jstor.org<br>Host: <br>Version: 1.34.4<br>Start Date: 2019-06-22 00:00:00+00:00<br>Active Users: 0<br>Users: 14<br>Properties: 1533<br>Edits: 2531655<br>Pages: 2526035",
          "www.wikichain.io<br>URL: https://www.wikichain.io<br>Host: <br>Version: 1.39.1<br>Start Date: 2024-09-04 00:00:00+00:00<br>Active Users: 0<br>Users: 1<br>Properties: 49<br>Edits: 4677<br>Pages: 4677",
          "data.ruwiki.ru<br>URL: https://data.ruwiki.ru<br>Host: <br>Version: 1.40.0-wmf.26<br>Start Date: 2023-05-11 00:00:00+00:00<br>Active Users: 218<br>Users: 5370001<br>Properties: 11125<br>Edits: 1711913854<br>Pages: 204209422",
          "wikiar.org<br>URL: https://wikiar.org<br>Host: <br>Version: 1.41.0<br>Start Date: 2021-11-19 00:00:00+00:00<br>Active Users: 4<br>Users: 209<br>Properties: 1<br>Edits: 1694<br>Pages: 919",
          "hbag.kgi.uni-mannheim.de<br>URL: https://hbag.kgi.uni-mannheim.de<br>Host: <br>Version: 1.38.5<br>Start Date: 2024-08-27 00:00:00+00:00<br>Active Users: 0<br>Users: 1<br>Properties: 33<br>Edits: 2404<br>Pages: 1610",
          "data.pornopedia.com<br>URL: https://data.pornopedia.com<br>Host: <br>Version: 1.42.1<br>Start Date: 2014-12-26 00:00:00+00:00<br>Active Users: 1<br>Users: 161<br>Properties: 16<br>Edits: 37891<br>Pages: 22374",
          "contentdata.org<br>URL: https://contentdata.org<br>Host: <br>Version: 1.42.3<br>Start Date: 2025-01-04 00:00:00+00:00<br>Active Users: 1<br>Users: 1<br>Properties: 1<br>Edits: 6<br>Pages: 4",
          "data.dezopedie.cz<br>URL: https://data.dezopedie.cz<br>Host: <br>Version: 1.41.1<br>Start Date: 2024-06-23 00:00:00+00:00<br>Active Users: 1<br>Users: 2<br>Properties: 9<br>Edits: 19<br>Pages: 10",
          "losh.ose-germany.de<br>URL: https://losh.ose-germany.de<br>Host: <br>Version: 1.35.4<br>Start Date: 2021-12-15 00:00:00+00:00<br>Active Users: 0<br>Users: 3<br>Properties: 112<br>Edits: 1511241<br>Pages: 910055"
         ],
         "legendgrouptitle": {
          "text": "By host"
         },
         "marker": {
          "color": "#D3D3D3",
          "line": {
           "color": "black",
           "width": 1
          },
          "showscale": false,
          "size": [
           4,
           4,
           6,
           4,
           4,
           10,
           4,
           6,
           4,
           4,
           4,
           4,
           13,
           4,
           4,
           4,
           4,
           7,
           4,
           4,
           4,
           4,
           4,
           4,
           30,
           9,
           4,
           6,
           6,
           6,
           4
          ]
         },
         "mode": "markers",
         "name": "unknown (31)",
         "showlegend": true,
         "type": "scatter",
         "x": [
          -0.3929593563079834,
          0.28466498851776123,
          -0.4759097695350647,
          0.39228975772857666,
          0.3369072675704956,
          0.26530882716178894,
          -0.4552484154701233,
          -0.3918856084346771,
          0.12188063710927964,
          0.48657336831092834,
          0.5672067761421205,
          0.9959451556205751,
          0.4423161923885346,
          -0.961603856086731,
          -0.41568525135517126,
          0.6082999050617218,
          0.4208313584327698,
          -0.713102388381958,
          0.9618168771266938,
          0.9423157811164856,
          -0.23522345125675204,
          0.7482104063034059,
          -0.05354010351002217,
          0.9532250940799714,
          0.02207825351506472,
          0.24475304484367372,
          -0.9318535566329956,
          0.4422172546386719,
          0.7386000692844391,
          -0.4777764260768891,
          -0.6501556217670441
         ],
         "y": [
          -0.9195720553398132,
          -0.5287704467773438,
          0.7352392673492432,
          0.011077350936830044,
          0.9450171589851379,
          0.9388696551322937,
          0.8284632563591003,
          -0.39610978960990906,
          -1.041161608695984,
          0.8657427430152893,
          -0.9326611876487733,
          0.3619855254888535,
          1.0445659458637238,
          0.11159039810299874,
          -0.9582071900367738,
          0.7688257157802583,
          0.9651164412498475,
          -0.7511519849300385,
          -0.32163603603839874,
          -0.03637569062411786,
          0.99405255317688,
          -0.8769997537136078,
          1.1,
          -0.4517029851675034,
          1.0499252378940582,
          1.055213063955307,
          -0.15655913800001145,
          -0.9248751342296601,
          0.7679907441139222,
          0.8659618675708771,
          0.8075193583965302
         ]
        },
        {
         "hoverinfo": "text",
         "hovertext": [
          "wikibase.imfd.cl<br>URL: https://wikibase.imfd.cl<br>Host: wikibase-docker<br>Version: 1.41.1<br>Start Date: 2024-04-30 00:00:00+00:00<br>Active Users: 37<br>Users: 191<br>Properties: 36<br>Edits: 15322<br>Pages: 1655"
         ],
         "legendgrouptitle": {
          "text": "By host"
         },
         "marker": {
          "color": "#ff69b4",
          "line": {
           "color": "black",
           "width": 1
          },
          "showscale": false,
          "size": [
           20
          ]
         },
         "mode": "markers",
         "name": "wikibase-docker (1)",
         "showlegend": true,
         "type": "scatter",
         "x": [
          -0.4252505898475647
         ],
         "y": [
          0.930823564529419
         ]
        },
        {
         "hoverinfo": "text",
         "hovertext": [
          "The Digital Narrative Knowledge Base<br>URL: https://cellwiki.cdn.uib.no<br>Host: The Wikibase Consultancy<br>Version: 1.39.11<br>Start Date: 2024-03-14 00:00:00+00:00<br>Active Users: 2<br>Users: 6<br>Properties: 89<br>Edits: 7561<br>Pages: 6788",
          "Kunstmuseum API<br>URL: https://api.kunstmuseum.nl/<br>Host: The Wikibase Consultancy<br>Version: 1.39.11<br>Start Date: 2020-06-11 00:00:00+00:00<br>Active Users: 2<br>Users: 18<br>Properties: 114<br>Edits: 465694<br>Pages: 42900",
          "Wikibase EDTF - Demo Wiki<br>URL: https://edtf.wikibase.wiki<br>Host: The Wikibase Consultancy<br>Version: 1.39.11<br>Start Date: 2022-01-26 00:00:00+00:00<br>Active Users: 1<br>Users: 17<br>Properties: 3<br>Edits: 743<br>Pages: 14",
          "Wikibase Automated Values - Demo Wiki<br>URL: https://automated.wikibase.wiki<br>Host: The Wikibase Consultancy<br>Version: 1.39.11<br>Start Date: 2022-03-25 00:00:00+00:00<br>Active Users: 0<br>Users: 36<br>Properties: 5<br>Edits: 834<br>Pages: 28",
          "Wikibase RDF - Demo Wiki<br>URL: https://rdf.wikibase.wiki<br>Host: The Wikibase Consultancy<br>Version: 1.39.11<br>Start Date: 2022-07-22 00:00:00+00:00<br>Active Users: 0<br>Users: 7<br>Properties: 6<br>Edits: 67<br>Pages: 22",
          "Wikibase Export - Demo Wiki<br>URL: https://export.wikibase.wiki<br>Host: The Wikibase Consultancy<br>Version: 1.39.11<br>Start Date: 2022-11-23 00:00:00+00:00<br>Active Users: 1<br>Users: 5<br>Properties: 9<br>Edits: 149<br>Pages: 36"
         ],
         "legendgrouptitle": {
          "text": "By host"
         },
         "marker": {
          "color": "#6283ca",
          "line": {
           "color": "black",
           "width": 1
          },
          "showscale": false,
          "size": [
           7,
           7,
           6,
           4,
           4,
           6
          ]
         },
         "mode": "markers",
         "name": "The Wikibase Consultancy (6)",
         "showlegend": true,
         "type": "scatter",
         "x": [
          -0.6243906617164612,
          -0.21798404008150102,
          -0.8701711893081665,
          1.0767753958702089,
          -0.5776855230331421,
          0.8137799739837647
         ],
         "y": [
          0.8507863283157349,
          -1.0502126753330232,
          -0.43205949664115906,
          0.20004198402166368,
          0.9053556144237519,
          -0.8126643180847168
         ]
        },
        {
         "hoverinfo": "text",
         "hovertext": [
          "Gratisdata<br>URL: https://gratisdata.miraheze.org<br>Host: Miraheze<br>Version: 1.43.0<br>Start Date: 2021-11-12 00:00:00+00:00<br>Active Users: 2<br>Users: 259<br>Properties: 824<br>Edits: 40370<br>Pages: 9121"
         ],
         "legendgrouptitle": {
          "text": "By host"
         },
         "marker": {
          "color": "#5cd45b",
          "line": {
           "color": "black",
           "width": 1
          },
          "showscale": false,
          "size": [
           7
          ]
         },
         "mode": "markers",
         "name": "Miraheze (1)",
         "showlegend": true,
         "type": "scatter",
         "x": [
          -0.678124189376831
         ],
         "y": [
          0.4367690980434418
         ]
        },
        {
         "hoverinfo": "text",
         "hovertext": [
          "Wikidocumentaries<br>URL: https://wikidocumentaries.wmflabs.org/<br>Host: Wikimedia Cloud Services<br>Version: 1.32.5<br>Start Date: 2018-04-23 00:00:00+00:00<br>Active Users: 0<br>Users: 3729<br>Properties: 5126<br>Edits: 29206<br>Pages: 5528"
         ],
         "legendgrouptitle": {
          "text": "By host"
         },
         "marker": {
          "color": "#f11fbe",
          "line": {
           "color": "black",
           "width": 1
          },
          "showscale": false,
          "size": [
           4
          ]
         },
         "mode": "markers",
         "name": "Wikimedia Cloud Services (1)",
         "showlegend": true,
         "type": "scatter",
         "x": [
          -1.0911639869213106
         ],
         "y": [
          -0.029852251149713994
         ]
        }
       ],
       "layout": {
        "annotations": [
         {
          "showarrow": false,
          "text": "",
          "xref": "paper",
          "yref": "paper"
         }
        ],
        "height": 800,
        "hovermode": "closest",
        "margin": {
         "b": 20,
         "l": 5,
         "r": 5,
         "t": 40
        },
        "showlegend": true,
        "template": {
         "data": {
          "bar": [
           {
            "error_x": {
             "color": "#2a3f5f"
            },
            "error_y": {
             "color": "#2a3f5f"
            },
            "marker": {
             "line": {
              "color": "#E5ECF6",
              "width": 0.5
             },
             "pattern": {
              "fillmode": "overlay",
              "size": 10,
              "solidity": 0.2
             }
            },
            "type": "bar"
           }
          ],
          "barpolar": [
           {
            "marker": {
             "line": {
              "color": "#E5ECF6",
              "width": 0.5
             },
             "pattern": {
              "fillmode": "overlay",
              "size": 10,
              "solidity": 0.2
             }
            },
            "type": "barpolar"
           }
          ],
          "carpet": [
           {
            "aaxis": {
             "endlinecolor": "#2a3f5f",
             "gridcolor": "white",
             "linecolor": "white",
             "minorgridcolor": "white",
             "startlinecolor": "#2a3f5f"
            },
            "baxis": {
             "endlinecolor": "#2a3f5f",
             "gridcolor": "white",
             "linecolor": "white",
             "minorgridcolor": "white",
             "startlinecolor": "#2a3f5f"
            },
            "type": "carpet"
           }
          ],
          "choropleth": [
           {
            "colorbar": {
             "outlinewidth": 0,
             "ticks": ""
            },
            "type": "choropleth"
           }
          ],
          "contour": [
           {
            "colorbar": {
             "outlinewidth": 0,
             "ticks": ""
            },
            "colorscale": [
             [
              0,
              "#0d0887"
             ],
             [
              0.1111111111111111,
              "#46039f"
             ],
             [
              0.2222222222222222,
              "#7201a8"
             ],
             [
              0.3333333333333333,
              "#9c179e"
             ],
             [
              0.4444444444444444,
              "#bd3786"
             ],
             [
              0.5555555555555556,
              "#d8576b"
             ],
             [
              0.6666666666666666,
              "#ed7953"
             ],
             [
              0.7777777777777778,
              "#fb9f3a"
             ],
             [
              0.8888888888888888,
              "#fdca26"
             ],
             [
              1,
              "#f0f921"
             ]
            ],
            "type": "contour"
           }
          ],
          "contourcarpet": [
           {
            "colorbar": {
             "outlinewidth": 0,
             "ticks": ""
            },
            "type": "contourcarpet"
           }
          ],
          "heatmap": [
           {
            "colorbar": {
             "outlinewidth": 0,
             "ticks": ""
            },
            "colorscale": [
             [
              0,
              "#0d0887"
             ],
             [
              0.1111111111111111,
              "#46039f"
             ],
             [
              0.2222222222222222,
              "#7201a8"
             ],
             [
              0.3333333333333333,
              "#9c179e"
             ],
             [
              0.4444444444444444,
              "#bd3786"
             ],
             [
              0.5555555555555556,
              "#d8576b"
             ],
             [
              0.6666666666666666,
              "#ed7953"
             ],
             [
              0.7777777777777778,
              "#fb9f3a"
             ],
             [
              0.8888888888888888,
              "#fdca26"
             ],
             [
              1,
              "#f0f921"
             ]
            ],
            "type": "heatmap"
           }
          ],
          "heatmapgl": [
           {
            "colorbar": {
             "outlinewidth": 0,
             "ticks": ""
            },
            "colorscale": [
             [
              0,
              "#0d0887"
             ],
             [
              0.1111111111111111,
              "#46039f"
             ],
             [
              0.2222222222222222,
              "#7201a8"
             ],
             [
              0.3333333333333333,
              "#9c179e"
             ],
             [
              0.4444444444444444,
              "#bd3786"
             ],
             [
              0.5555555555555556,
              "#d8576b"
             ],
             [
              0.6666666666666666,
              "#ed7953"
             ],
             [
              0.7777777777777778,
              "#fb9f3a"
             ],
             [
              0.8888888888888888,
              "#fdca26"
             ],
             [
              1,
              "#f0f921"
             ]
            ],
            "type": "heatmapgl"
           }
          ],
          "histogram": [
           {
            "marker": {
             "pattern": {
              "fillmode": "overlay",
              "size": 10,
              "solidity": 0.2
             }
            },
            "type": "histogram"
           }
          ],
          "histogram2d": [
           {
            "colorbar": {
             "outlinewidth": 0,
             "ticks": ""
            },
            "colorscale": [
             [
              0,
              "#0d0887"
             ],
             [
              0.1111111111111111,
              "#46039f"
             ],
             [
              0.2222222222222222,
              "#7201a8"
             ],
             [
              0.3333333333333333,
              "#9c179e"
             ],
             [
              0.4444444444444444,
              "#bd3786"
             ],
             [
              0.5555555555555556,
              "#d8576b"
             ],
             [
              0.6666666666666666,
              "#ed7953"
             ],
             [
              0.7777777777777778,
              "#fb9f3a"
             ],
             [
              0.8888888888888888,
              "#fdca26"
             ],
             [
              1,
              "#f0f921"
             ]
            ],
            "type": "histogram2d"
           }
          ],
          "histogram2dcontour": [
           {
            "colorbar": {
             "outlinewidth": 0,
             "ticks": ""
            },
            "colorscale": [
             [
              0,
              "#0d0887"
             ],
             [
              0.1111111111111111,
              "#46039f"
             ],
             [
              0.2222222222222222,
              "#7201a8"
             ],
             [
              0.3333333333333333,
              "#9c179e"
             ],
             [
              0.4444444444444444,
              "#bd3786"
             ],
             [
              0.5555555555555556,
              "#d8576b"
             ],
             [
              0.6666666666666666,
              "#ed7953"
             ],
             [
              0.7777777777777778,
              "#fb9f3a"
             ],
             [
              0.8888888888888888,
              "#fdca26"
             ],
             [
              1,
              "#f0f921"
             ]
            ],
            "type": "histogram2dcontour"
           }
          ],
          "mesh3d": [
           {
            "colorbar": {
             "outlinewidth": 0,
             "ticks": ""
            },
            "type": "mesh3d"
           }
          ],
          "parcoords": [
           {
            "line": {
             "colorbar": {
              "outlinewidth": 0,
              "ticks": ""
             }
            },
            "type": "parcoords"
           }
          ],
          "pie": [
           {
            "automargin": true,
            "type": "pie"
           }
          ],
          "scatter": [
           {
            "fillpattern": {
             "fillmode": "overlay",
             "size": 10,
             "solidity": 0.2
            },
            "type": "scatter"
           }
          ],
          "scatter3d": [
           {
            "line": {
             "colorbar": {
              "outlinewidth": 0,
              "ticks": ""
             }
            },
            "marker": {
             "colorbar": {
              "outlinewidth": 0,
              "ticks": ""
             }
            },
            "type": "scatter3d"
           }
          ],
          "scattercarpet": [
           {
            "marker": {
             "colorbar": {
              "outlinewidth": 0,
              "ticks": ""
             }
            },
            "type": "scattercarpet"
           }
          ],
          "scattergeo": [
           {
            "marker": {
             "colorbar": {
              "outlinewidth": 0,
              "ticks": ""
             }
            },
            "type": "scattergeo"
           }
          ],
          "scattergl": [
           {
            "marker": {
             "colorbar": {
              "outlinewidth": 0,
              "ticks": ""
             }
            },
            "type": "scattergl"
           }
          ],
          "scattermapbox": [
           {
            "marker": {
             "colorbar": {
              "outlinewidth": 0,
              "ticks": ""
             }
            },
            "type": "scattermapbox"
           }
          ],
          "scatterpolar": [
           {
            "marker": {
             "colorbar": {
              "outlinewidth": 0,
              "ticks": ""
             }
            },
            "type": "scatterpolar"
           }
          ],
          "scatterpolargl": [
           {
            "marker": {
             "colorbar": {
              "outlinewidth": 0,
              "ticks": ""
             }
            },
            "type": "scatterpolargl"
           }
          ],
          "scatterternary": [
           {
            "marker": {
             "colorbar": {
              "outlinewidth": 0,
              "ticks": ""
             }
            },
            "type": "scatterternary"
           }
          ],
          "surface": [
           {
            "colorbar": {
             "outlinewidth": 0,
             "ticks": ""
            },
            "colorscale": [
             [
              0,
              "#0d0887"
             ],
             [
              0.1111111111111111,
              "#46039f"
             ],
             [
              0.2222222222222222,
              "#7201a8"
             ],
             [
              0.3333333333333333,
              "#9c179e"
             ],
             [
              0.4444444444444444,
              "#bd3786"
             ],
             [
              0.5555555555555556,
              "#d8576b"
             ],
             [
              0.6666666666666666,
              "#ed7953"
             ],
             [
              0.7777777777777778,
              "#fb9f3a"
             ],
             [
              0.8888888888888888,
              "#fdca26"
             ],
             [
              1,
              "#f0f921"
             ]
            ],
            "type": "surface"
           }
          ],
          "table": [
           {
            "cells": {
             "fill": {
              "color": "#EBF0F8"
             },
             "line": {
              "color": "white"
             }
            },
            "header": {
             "fill": {
              "color": "#C8D4E3"
             },
             "line": {
              "color": "white"
             }
            },
            "type": "table"
           }
          ]
         },
         "layout": {
          "annotationdefaults": {
           "arrowcolor": "#2a3f5f",
           "arrowhead": 0,
           "arrowwidth": 1
          },
          "autotypenumbers": "strict",
          "coloraxis": {
           "colorbar": {
            "outlinewidth": 0,
            "ticks": ""
           }
          },
          "colorscale": {
           "diverging": [
            [
             0,
             "#8e0152"
            ],
            [
             0.1,
             "#c51b7d"
            ],
            [
             0.2,
             "#de77ae"
            ],
            [
             0.3,
             "#f1b6da"
            ],
            [
             0.4,
             "#fde0ef"
            ],
            [
             0.5,
             "#f7f7f7"
            ],
            [
             0.6,
             "#e6f5d0"
            ],
            [
             0.7,
             "#b8e186"
            ],
            [
             0.8,
             "#7fbc41"
            ],
            [
             0.9,
             "#4d9221"
            ],
            [
             1,
             "#276419"
            ]
           ],
           "sequential": [
            [
             0,
             "#0d0887"
            ],
            [
             0.1111111111111111,
             "#46039f"
            ],
            [
             0.2222222222222222,
             "#7201a8"
            ],
            [
             0.3333333333333333,
             "#9c179e"
            ],
            [
             0.4444444444444444,
             "#bd3786"
            ],
            [
             0.5555555555555556,
             "#d8576b"
            ],
            [
             0.6666666666666666,
             "#ed7953"
            ],
            [
             0.7777777777777778,
             "#fb9f3a"
            ],
            [
             0.8888888888888888,
             "#fdca26"
            ],
            [
             1,
             "#f0f921"
            ]
           ],
           "sequentialminus": [
            [
             0,
             "#0d0887"
            ],
            [
             0.1111111111111111,
             "#46039f"
            ],
            [
             0.2222222222222222,
             "#7201a8"
            ],
            [
             0.3333333333333333,
             "#9c179e"
            ],
            [
             0.4444444444444444,
             "#bd3786"
            ],
            [
             0.5555555555555556,
             "#d8576b"
            ],
            [
             0.6666666666666666,
             "#ed7953"
            ],
            [
             0.7777777777777778,
             "#fb9f3a"
            ],
            [
             0.8888888888888888,
             "#fdca26"
            ],
            [
             1,
             "#f0f921"
            ]
           ]
          },
          "colorway": [
           "#636efa",
           "#EF553B",
           "#00cc96",
           "#ab63fa",
           "#FFA15A",
           "#19d3f3",
           "#FF6692",
           "#B6E880",
           "#FF97FF",
           "#FECB52"
          ],
          "font": {
           "color": "#2a3f5f"
          },
          "geo": {
           "bgcolor": "white",
           "lakecolor": "white",
           "landcolor": "#E5ECF6",
           "showlakes": true,
           "showland": true,
           "subunitcolor": "white"
          },
          "hoverlabel": {
           "align": "left"
          },
          "hovermode": "closest",
          "mapbox": {
           "style": "light"
          },
          "paper_bgcolor": "white",
          "plot_bgcolor": "#E5ECF6",
          "polar": {
           "angularaxis": {
            "gridcolor": "white",
            "linecolor": "white",
            "ticks": ""
           },
           "bgcolor": "#E5ECF6",
           "radialaxis": {
            "gridcolor": "white",
            "linecolor": "white",
            "ticks": ""
           }
          },
          "scene": {
           "xaxis": {
            "backgroundcolor": "#E5ECF6",
            "gridcolor": "white",
            "gridwidth": 2,
            "linecolor": "white",
            "showbackground": true,
            "ticks": "",
            "zerolinecolor": "white"
           },
           "yaxis": {
            "backgroundcolor": "#E5ECF6",
            "gridcolor": "white",
            "gridwidth": 2,
            "linecolor": "white",
            "showbackground": true,
            "ticks": "",
            "zerolinecolor": "white"
           },
           "zaxis": {
            "backgroundcolor": "#E5ECF6",
            "gridcolor": "white",
            "gridwidth": 2,
            "linecolor": "white",
            "showbackground": true,
            "ticks": "",
            "zerolinecolor": "white"
           }
          },
          "shapedefaults": {
           "line": {
            "color": "#2a3f5f"
           }
          },
          "ternary": {
           "aaxis": {
            "gridcolor": "white",
            "linecolor": "white",
            "ticks": ""
           },
           "baxis": {
            "gridcolor": "white",
            "linecolor": "white",
            "ticks": ""
           },
           "bgcolor": "#E5ECF6",
           "caxis": {
            "gridcolor": "white",
            "linecolor": "white",
            "ticks": ""
           }
          },
          "title": {
           "x": 0.05
          },
          "xaxis": {
           "automargin": true,
           "gridcolor": "white",
           "linecolor": "white",
           "ticks": "",
           "title": {
            "standoff": 15
           },
           "zerolinecolor": "white",
           "zerolinewidth": 2
          },
          "yaxis": {
           "automargin": true,
           "gridcolor": "white",
           "linecolor": "white",
           "ticks": "",
           "title": {
            "standoff": 15
           },
           "zerolinecolor": "white",
           "zerolinewidth": 2
          }
         }
        },
        "title": {
         "font": {
          "size": 16
         },
         "text": "Wikibases, and links, sized by # of active users"
        },
        "xaxis": {
         "showgrid": false,
         "zeroline": false
        },
        "yaxis": {
         "showgrid": false,
         "zeroline": false
        }
       }
      },
      "text/html": [
       "<div>                            <div id=\"b0254655-8bd4-4129-af3a-3783faca8d03\" class=\"plotly-graph-div\" style=\"height:800px; width:100%;\"></div>            <script type=\"text/javascript\">                require([\"plotly\"], function(Plotly) {                    window.PLOTLYENV=window.PLOTLYENV || {};                                    if (document.getElementById(\"b0254655-8bd4-4129-af3a-3783faca8d03\")) {                    Plotly.newPlot(                        \"b0254655-8bd4-4129-af3a-3783faca8d03\",                        [{\"hoverinfo\":\"none\",\"line\":{\"color\":\"#888\",\"width\":0.3},\"mode\":\"lines\",\"showlegend\":false,\"x\":[-0.037724170833826065,-0.34475576877593994,null,-0.037724170833826065,-0.9235790967941284,null,-0.037724170833826065,0.39078718423843384,null,-0.037724170833826065,-0.2549951374530792,null,-0.037724170833826065,0.0611163005232811,null,-0.037724170833826065,0.13807369768619537,null,-0.037724170833826065,-0.967473566532135,null,-0.037724170833826065,-0.8828572630882263,null,-0.037724170833826065,0.3969615697860718,null,-0.037724170833826065,0.9014772772789001,null,-0.037724170833826065,-0.7710491418838501,null,-0.037724170833826065,-0.266420841217041,null,-0.037724170833826065,-0.49137380719184875,null,-0.037724170833826065,-0.27791211009025574,null,-0.037724170833826065,0.0662909597158432,null,-0.037724170833826065,0.7986608743667603,null,-0.037724170833826065,0.3307567536830902,null,-0.037724170833826065,-0.3418184220790863,null,-0.037724170833826065,-0.3633997440338135,null,-0.037724170833826065,0.5125362873077393,null,-0.037724170833826065,0.5138758420944214,null,-0.037724170833826065,-0.9084270596504211,null,-0.037724170833826065,-0.7134567499160767,null,-0.037724170833826065,0.9476358294487,null,-0.037724170833826065,-0.8710051774978638,null,-0.037724170833826065,0.4331985116004944,null,-0.037724170833826065,-0.4678146243095398,null,-0.037724170833826065,0.7931843996047974,null,-0.037724170833826065,-0.6737548112869263,null,-0.037724170833826065,-0.021917765960097313,null,-0.037724170833826065,0.9464021325111389,null,-0.037724170833826065,-0.3647943139076233,null,-0.037724170833826065,0.6393133401870728,null,-0.037724170833826065,-0.6798942685127258,null,-0.037724170833826065,0.1485774666070938,null,-0.037724170833826065,0.9698293209075928,null,-0.037724170833826065,0.8931258916854858,null,-0.037724170833826065,-0.44105538725852966,null,-0.037724170833826065,-0.961007297039032,null,-0.037724170833826065,0.7318003177642822,null,-0.037724170833826065,-0.8620173931121826,null,-0.037724170833826065,-0.521598756313324,null,-0.037724170833826065,-0.121723972260952,null,-0.037724170833826065,-0.4448204040527344,null,-0.037724170833826065,0.4213913679122925,null,-0.037724170833826065,0.33680081367492676,null,-0.037724170833826065,0.47515562176704407,null,-0.037724170833826065,-0.1237916573882103,null,-0.037724170833826065,-0.25065046548843384,null,-0.037724170833826065,0.2710951864719391,null,-0.037724170833826065,0.05068041384220123,null,-0.037724170833826065,-0.27122610807418823,null,-0.037724170833826065,-0.16245342791080475,null,-0.037724170833826065,0.61092609167099,null,-0.037724170833826065,0.6192598342895508,null,-0.037724170833826065,0.9442276358604431,null,-0.037724170833826065,-0.4130392372608185,null,-0.037724170833826065,0.922364354133606,null,-0.037724170833826065,0.5856574177742004,null,-0.037724170833826065,-0.7101864814758301,null,-0.037724170833826065,0.07693012058734894,null,-0.037724170833826065,0.9781014919281006,null,-0.037724170833826065,-0.7298640012741089,null,-0.037724170833826065,0.3004029095172882,null,-0.037724170833826065,-0.009057590737938881,null,-0.037724170833826065,-0.20005863904953003,null,-0.037724170833826065,0.9607361555099487,null,-0.037724170833826065,-0.20932015776634216,null,-0.037724170833826065,0.4546893239021301,null,-0.037724170833826065,-0.6711266040802002,null,-0.037724170833826065,-0.9620839953422546,null,-0.037724170833826065,-0.4465166926383972,null,-0.037724170833826065,0.7441409230232239,null,-0.037724170833826065,0.6383059620857239,null,-0.037724170833826065,-0.8717061281204224,null,-0.037724170833826065,-0.9568278193473816,null,-0.037724170833826065,0.290056437253952,null,-0.037724170833826065,0.2499423325061798,null,-0.037724170833826065,0.9655210971832275,null,-0.037724170833826065,-0.3929593563079834,null,-0.037724170833826065,-0.6372148990631104,null,-0.037724170833826065,-0.8531851172447205,null,-0.037724170833826065,-0.32618385553359985,null,-0.037724170833826065,0.28466498851776123,null,-0.037724170833826065,0.7974298000335693,null,-0.037724170833826065,-0.7346539497375488,null,-0.037724170833826065,-0.4077163636684418,null,-0.037724170833826065,-0.05693027749657631,null,-0.037724170833826065,-0.15221598744392395,null,-0.037724170833826065,0.6746212244033813,null,-0.037724170833826065,-0.6410601735115051,null,-0.037724170833826065,0.9672845602035522,null,-0.037724170833826065,0.4385547935962677,null,-0.037724170833826065,0.8354212045669556,null,-0.037724170833826065,-0.17748862504959106,null,-0.037724170833826065,-0.14152881503105164,null,-0.037724170833826065,-0.1914837509393692,null,-0.037724170833826065,-0.7981029152870178,null,-0.037724170833826065,-0.2643660306930542,null,-0.037724170833826065,-0.8994282484054565,null,-0.037724170833826065,0.21407367289066315,null,-0.037724170833826065,-0.9358934164047241,null,-0.037724170833826065,-0.4759097695350647,null,-0.037724170833826065,0.2835390865802765,null,-0.037724170833826065,0.7748970985412598,null,-0.037724170833826065,-0.4252505898475647,null,-0.037724170833826065,0.39228975772857666,null,-0.037724170833826065,0.8442648649215698,null,-0.037724170833826065,-0.028048107400536537,null,-0.037724170833826065,0.8619319200515747,null,-0.037724170833826065,-0.8167039155960083,null,-0.037724170833826065,0.9043734073638916,null,-0.037724170833826065,-0.1166306659579277,null,-0.037724170833826065,0.9494889974594116,null,-0.037724170833826065,-0.6688939332962036,null,-0.037724170833826065,0.7164620757102966,null,-0.037724170833826065,-0.30482983589172363,null,-0.037724170833826065,-0.4881945848464966,null,-0.037724170833826065,0.6827305555343628,null,-0.037724170833826065,-0.40652117133140564,null,-0.037724170833826065,-0.13391467928886414,null,-0.037724170833826065,-0.41964468359947205,null,-0.037724170833826065,0.12246176600456238,null,-0.037724170833826065,-0.004968847148120403,null,-0.037724170833826065,0.27648288011550903,null,-0.037724170833826065,0.6370510458946228,null,-0.037724170833826065,0.1476536989212036,null,-0.037724170833826065,-0.029584333300590515,null,-0.037724170833826065,-0.027132363989949226,null,-0.037724170833826065,-0.989032506942749,null,-0.037724170833826065,0.1995016634464264,null,-0.037724170833826065,0.5569338202476501,null,-0.037724170833826065,0.6004374027252197,null,-0.037724170833826065,-0.19088172912597656,null,-0.037724170833826065,-0.9000167846679688,null,-0.037724170833826065,-0.11044023931026459,null,-0.037724170833826065,-0.8088215589523315,null,-0.037724170833826065,-0.11720768362283707,null,-0.037724170833826065,-0.7551389336585999,null,-0.037724170833826065,-0.94549959897995,null,-0.037724170833826065,0.07291647046804428,null,-0.037724170833826065,-0.41177794337272644,null,-0.037724170833826065,-0.14192642271518707,null,-0.037724170833826065,-0.9074488282203674,null,-0.037724170833826065,-0.4760957360267639,null,-0.037724170833826065,-0.012624005787074566,null,-0.037724170833826065,0.9822971224784851,null,-0.037724170833826065,-0.6462224125862122,null,-0.037724170833826065,-0.10497431457042694,null,-0.037724170833826065,0.967189371585846,null,-0.037724170833826065,0.531822919845581,null,-0.037724170833826065,-0.3492877781391144,null,-0.037724170833826065,-0.6941326260566711,null,-0.037724170833826065,0.7426260113716125,null,-0.037724170833826065,-0.9467354416847229,null,-0.037724170833826065,-0.49144670367240906,null,-0.037724170833826065,0.6905226707458496,null,-0.037724170833826065,0.9603000283241272,null,-0.037724170833826065,0.3369072675704956,null,-0.037724170833826065,0.3303273916244507,null,-0.037724170833826065,-0.10145091265439987,null,-0.037724170833826065,-0.4093988835811615,null,-0.037724170833826065,-0.6243906617164612,null,-0.037724170833826065,0.25696662068367004,null,-0.037724170833826065,0.7913561463356018,null,-0.037724170833826065,-0.881623387336731,null,-0.037724170833826065,-0.5517335534095764,null,-0.037724170833826065,0.33718767762184143,null,-0.037724170833826065,-0.997649073600769,null,-0.037724170833826065,-0.9229047298431396,null,-0.037724170833826065,-0.678124189376831,null,-0.037724170833826065,0.04046936333179474,null,-0.037724170833826065,0.26530882716178894,null,-0.037724170833826065,0.5830038785934448,null,-0.037724170833826065,-0.4552484154701233,null,-0.037724170833826065,-0.7969647645950317,null,-0.037724170833826065,-0.8332089781761169,null,-0.037724170833826065,0.9794792532920837,null,-0.037724170833826065,-0.9593470096588135,null,-0.037724170833826065,-0.2952028214931488,null,-0.037724170833826065,-0.786268949508667,null,-0.037724170833826065,0.5604305267333984,null,-0.037724170833826065,0.11717845499515533,null,-0.037724170833826065,0.11853840947151184,null,-0.037724170833826065,-0.20352429151535034,null,-0.037724170833826065,-0.5460926294326782,null,-0.037724170833826065,-0.7004494667053223,null,-0.037724170833826065,0.5247797966003418,null,-0.037724170833826065,0.8497505784034729,null,-0.037724170833826065,0.7800880074501038,null,-0.037724170833826065,-0.3918856084346771,null,-0.037724170833826065,0.9385985732078552,null,-0.037724170833826065,0.5791175961494446,null,-0.037724170833826065,-0.6269684433937073,null,-0.037724170833826065,-0.9765501022338867,null,-0.037724170833826065,-0.313041627407074,null,-0.037724170833826065,-0.9111118912696838,null,-0.037724170833826065,-0.6896823644638062,null,-0.037724170833826065,-0.9598501920700073,null,-0.037724170833826065,0.27644890546798706,null,-0.2549951374530792,0.27644890546798706,null,-0.8828572630882263,0.16738422214984894,null,0.3969615697860718,-0.3647943139076233,null,0.3307567536830902,0.2553069591522217,null,0.3307567536830902,-0.1761680394411087,null,-0.3633997440338135,-0.021917765960097313,null,-0.8710051774978638,-0.8701711893081665,null,0.4331985116004944,-0.060369301587343216,null,-0.021917765960097313,0.4546893239021301,null,-0.021917765960097313,0.47515562176704407,null,-0.021917765960097313,-0.1914837509393692,null,-0.021917765960097313,-0.6941326260566711,null,0.9464021325111389,0.2835390865802765,null,-0.3647943139076233,0.07291647046804428,null,-0.3647943139076233,0.25696662068367004,null,-0.3647943139076233,-0.678124189376831,null,0.1485774666070938,-0.060369301587343216,null,-0.44105538725852966,-0.060369301587343216,null,0.4213913679122925,-0.060369301587343216,null,0.4213913679122925,0.968868613243103,null,-0.4130392372608185,-0.009057590737938881,null,-0.32618385553359985,0.27644890546798706,null,0.28466498851776123,0.16738422214984894,null,0.6746212244033813,-0.060369301587343216,null,0.4385547935962677,-0.060369301587343216,null,0.21407367289066315,0.27644890546798706,null,0.21407367289066315,-0.027132363989949226,null,0.21407367289066315,0.2835390865802765,null,0.21407367289066315,0.16735103726387024,null,0.21407367289066315,0.27648288011550903,null,-0.4759097695350647,-0.060369301587343216,null,-0.4759097695350647,0.16738422214984894,null,0.2835390865802765,0.27644890546798706,null,0.2835390865802765,-0.027132363989949226,null,0.2835390865802765,0.27648288011550903,null,0.2835390865802765,0.16735103726387024,null,0.2835390865802765,0.14597384631633759,null,0.7748970985412598,-0.060369301587343216,null,0.39228975772857666,-0.060369301587343216,null,0.39228975772857666,-0.1761680394411087,null,0.39228975772857666,0.004692366812378168,null,0.6827305555343628,0.27644890546798706,null,0.6827305555343628,0.16738422214984894,null,0.27648288011550903,0.27644890546798706,null,0.27648288011550903,-0.027132363989949226,null,0.27648288011550903,0.16735103726387024,null,0.27648288011550903,0.71844482421875,null,0.27648288011550903,0.052621014416217804,null,-0.027132363989949226,0.27644890546798706,null,-0.027132363989949226,0.16735103726387024,null,-0.11044023931026459,-0.2952028214931488,null,0.07291647046804428,-0.060369301587343216,null,0.07291647046804428,-0.5447415709495544,null,0.07291647046804428,0.966083824634552,null,-0.6462224125862122,-0.060369301587343216,null,0.3369072675704956,-0.060369301587343216,null,0.3303273916244507,0.43590104579925537,null,0.25696662068367004,-0.060369301587343216,null,0.25696662068367004,-0.5447415709495544,null,0.7913561463356018,-0.060369301587343216,null,-0.997649073600769,-0.060369301587343216,null,-0.678124189376831,-0.060369301587343216,null,-0.678124189376831,-0.1761680394411087,null,0.5830038785934448,0.16738422214984894,null,0.5830038785934448,0.48657336831092834,null,-0.8332089781761169,-0.060369301587343216,null,0.11717845499515533,-0.060369301587343216,null,0.11853840947151184,-0.060369301587343216,null,0.11853840947151184,0.43590104579925537,null,0.11853840947151184,0.2553069591522217,null,0.11853840947151184,-0.1761680394411087,null,-0.7004494667053223,-0.060369301587343216,null,-0.7004494667053223,-0.1761680394411087,null,-0.3918856084346771,-0.7462250590324402,null,-0.060369301587343216,-0.15738683938980103,null,-0.060369301587343216,0.005157956853508949,null,-0.060369301587343216,0.5416440963745117,null,-0.060369301587343216,-0.9158666729927063,null,-0.060369301587343216,-0.5176776647567749,null,-0.060369301587343216,0.27644890546798706,null,0.27644890546798706,0.16735103726387024,null,0.10037622600793839,0.25465285778045654,null,0.16689187288284302,-0.9183103442192078,null],\"y\":[-0.04834466055035591,0.4576641321182251,null,-0.04834466055035591,-0.22758960723876953,null,-0.04834466055035591,-0.9209132194519043,null,-0.04834466055035591,-0.806473433971405,null,-0.04834466055035591,-0.9534766674041748,null,-0.04834466055035591,-0.9456290602684021,null,-0.04834466055035591,-0.2835306227207184,null,-0.04834466055035591,-0.2037598043680191,null,-0.04834466055035591,0.7534096837043762,null,-0.04834466055035591,-0.19966340065002441,null,-0.04834466055035591,0.6721031069755554,null,-0.04834466055035591,-0.5127559900283813,null,-0.04834466055035591,-0.2996061444282532,null,-0.04834466055035591,-0.9583551287651062,null,-0.04834466055035591,-0.990526556968689,null,-0.04834466055035591,0.6520837545394897,null,-0.04834466055035591,-0.015526148490607738,null,-0.04834466055035591,-0.27920639514923096,null,-0.04834466055035591,-0.9269760847091675,null,-0.04834466055035591,-0.8020008206367493,null,-0.04834466055035591,0.8838105797767639,null,-0.04834466055035591,-0.4252752661705017,null,-0.04834466055035591,0.6408898234367371,null,-0.04834466055035591,0.2618132531642914,null,-0.04834466055035591,-0.4580073952674866,null,-0.04834466055035591,0.9347828030586243,null,-0.04834466055035591,0.15796416997909546,null,-0.04834466055035591,-0.5740936398506165,null,-0.04834466055035591,0.6534112691879272,null,-0.04834466055035591,-0.2421543300151825,null,-0.04834466055035591,0.3532158434391022,null,-0.04834466055035591,0.07239452004432678,null,-0.04834466055035591,-0.7609301805496216,null,-0.04834466055035591,-0.737910270690918,null,-0.04834466055035591,-0.7278870344161987,null,-0.04834466055035591,-0.19996267557144165,null,-0.04834466055035591,0.4929749071598053,null,-0.04834466055035591,-0.7947859764099121,null,-0.04834466055035591,-0.031478364020586014,null,-0.04834466055035591,0.5772489309310913,null,-0.04834466055035591,-0.2688341438770294,null,-0.04834466055035591,-0.8526167273521423,null,-0.04834466055035591,0.9985125660896301,null,-0.04834466055035591,0.8637688755989075,null,-0.04834466055035591,0.36182764172554016,null,-0.04834466055035591,0.40430375933647156,null,-0.04834466055035591,-0.8369302749633789,null,-0.04834466055035591,-0.9239843487739563,null,-0.04834466055035591,-0.9519971013069153,null,-0.04834466055035591,-0.9328433871269226,null,-0.04834466055035591,0.93775475025177,null,-0.04834466055035591,0.9396234154701233,null,-0.04834466055035591,-0.4806017577648163,null,-0.04834466055035591,0.7843201160430908,null,-0.04834466055035591,-0.7907329797744751,null,-0.04834466055035591,-0.2822801470756531,null,-0.04834466055035591,-0.17170275747776031,null,-0.04834466055035591,0.01454226765781641,null,-0.04834466055035591,-0.5051572322845459,null,-0.04834466055035591,-0.5971931219100952,null,-0.04834466055035591,0.9728924036026001,null,-0.04834466055035591,0.15294423699378967,null,-0.04834466055035591,-0.7291513085365295,null,-0.04834466055035591,0.8612866401672363,null,-0.04834466055035591,-0.3691636919975281,null,-0.04834466055035591,0.969510018825531,null,-0.04834466055035591,0.28357115387916565,null,-0.04834466055035591,0.4595819413661957,null,-0.04834466055035591,0.8393095135688782,null,-0.04834466055035591,-0.7642427682876587,null,-0.04834466055035591,0.24621279537677765,null,-0.04834466055035591,0.9105777740478516,null,-0.04834466055035591,0.6450197696685791,null,-0.04834466055035591,-0.8058381080627441,null,-0.04834466055035591,0.5588708519935608,null,-0.04834466055035591,-0.07509201765060425,null,-0.04834466055035591,0.9394760727882385,null,-0.04834466055035591,0.7334685921669006,null,-0.04834466055035591,0.07429845631122589,null,-0.04834466055035591,-0.9195720553398132,null,-0.04834466055035591,-0.8104419112205505,null,-0.04834466055035591,-0.5283267498016357,null,-0.04834466055035591,-0.9257650375366211,null,-0.04834466055035591,-0.5287704467773438,null,-0.04834466055035591,-0.4621148407459259,null,-0.04834466055035591,-0.701140284538269,null,-0.04834466055035591,-0.0693918913602829,null,-0.04834466055035591,-0.9763186573982239,null,-0.04834466055035591,-0.8983851075172424,null,-0.04834466055035591,0.5933119654655457,null,-0.04834466055035591,-0.7439393997192383,null,-0.04834466055035591,-0.2547908127307892,null,-0.04834466055035591,0.8351723551750183,null,-0.04834466055035591,0.3794488310813904,null,-0.04834466055035591,0.9628522992134094,null,-0.04834466055035591,0.968358039855957,null,-0.04834466055035591,0.08484365046024323,null,-0.04834466055035591,0.6759188771247864,null,-0.04834466055035591,-0.9060366153717041,null,-0.04834466055035591,0.41827964782714844,null,-0.04834466055035591,0.46453073620796204,null,-0.04834466055035591,0.34545332193374634,null,-0.04834466055035591,0.7352392673492432,null,-0.04834466055035591,0.07799411565065384,null,-0.04834466055035591,0.6487795114517212,null,-0.04834466055035591,0.930823564529419,null,-0.04834466055035591,0.011077350936830044,null,-0.04834466055035591,-0.4940306842327118,null,-0.04834466055035591,-0.5342905521392822,null,-0.04834466055035591,0.5211901068687439,null,-0.04834466055035591,-0.5225870609283447,null,-0.04834466055035591,-0.4105148911476135,null,-0.04834466055035591,0.9641848802566528,null,-0.04834466055035591,-0.22406640648841858,null,-0.04834466055035591,0.027797069400548935,null,-0.04834466055035591,-0.6097092628479004,null,-0.04834466055035591,-0.8470401167869568,null,-0.04834466055035591,0.8322058320045471,null,-0.04834466055035591,0.1320069432258606,null,-0.04834466055035591,0.8696297407150269,null,-0.04834466055035591,0.9132326245307922,null,-0.04834466055035591,-0.8902689814567566,null,-0.04834466055035591,0.9484785795211792,null,-0.04834466055035591,-0.9766754508018494,null,-0.04834466055035591,0.232538104057312,null,-0.04834466055035591,0.2617049813270569,null,-0.04834466055035591,0.9320619702339172,null,-0.04834466055035591,-0.9907882809638977,null,-0.04834466055035591,0.2259344607591629,null,-0.04834466055035591,0.11324800550937653,null,-0.04834466055035591,0.945086658000946,null,-0.04834466055035591,-0.8481283187866211,null,-0.04834466055035591,-0.7595276236534119,null,-0.04834466055035591,-0.7996280193328857,null,-0.04834466055035591,0.280799001455307,null,-0.04834466055035591,0.07117625325918198,null,-0.04834466055035591,0.6422394514083862,null,-0.04834466055035591,-0.966697096824646,null,-0.04834466055035591,-0.623934805393219,null,-0.04834466055035591,-0.05232325196266174,null,-0.04834466055035591,0.02221110463142395,null,-0.04834466055035591,-0.4987868368625641,null,-0.04834466055035591,-0.9550708532333374,null,-0.04834466055035591,-0.2972394824028015,null,-0.04834466055035591,-0.8331819176673889,null,-0.04834466055035591,-0.7195683121681213,null,-0.04834466055035591,-0.1656472235918045,null,-0.04834466055035591,-0.28881821036338806,null,-0.04834466055035591,-0.9542131423950195,null,-0.04834466055035591,-0.09955327212810516,null,-0.04834466055035591,-0.8577530384063721,null,-0.04834466055035591,-0.8776727914810181,null,-0.04834466055035591,-0.6967453956604004,null,-0.04834466055035591,-0.5967311859130859,null,-0.04834466055035591,-0.3205682933330536,null,-0.04834466055035591,-0.8558539152145386,null,-0.04834466055035591,-0.763306736946106,null,-0.04834466055035591,-0.17934340238571167,null,-0.04834466055035591,0.9450171589851379,null,-0.04834466055035591,-0.931456983089447,null,-0.04834466055035591,0.46605560183525085,null,-0.04834466055035591,-0.8637788891792297,null,-0.04834466055035591,0.8507863283157349,null,-0.04834466055035591,0.30262765288352966,null,-0.04834466055035591,-0.000764417287427932,null,-0.04834466055035591,0.4813860058784485,null,-0.04834466055035591,-0.056818485260009766,null,-0.04834466055035591,-0.858165979385376,null,-0.04834466055035591,0.03920267894864082,null,-0.04834466055035591,0.25733333826065063,null,-0.04834466055035591,0.4367690980434418,null,-0.04834466055035591,-0.9792748689651489,null,-0.04834466055035591,0.9388696551322937,null,-0.04834466055035591,0.3499404788017273,null,-0.04834466055035591,0.8284632563591003,null,-0.04834466055035591,0.597720742225647,null,-0.04834466055035591,0.465424507856369,null,-0.04834466055035591,-0.07963452488183975,null,-0.04834466055035591,-0.10648474097251892,null,-0.04834466055035591,-0.9329028725624084,null,-0.04834466055035591,-0.5236043334007263,null,-0.04834466055035591,0.8638913035392761,null,-0.04834466055035591,0.376445472240448,null,-0.04834466055035591,-0.0854145810008049,null,-0.04834466055035591,-0.9135419130325317,null,-0.04834466055035591,-0.8385521173477173,null,-0.04834466055035591,0.7000231742858887,null,-0.04834466055035591,-0.7212812900543213,null,-0.04834466055035591,0.2367420643568039,null,-0.04834466055035591,0.613464891910553,null,-0.04834466055035591,-0.39610978960990906,null,-0.04834466055035591,-0.08540704101324081,null,-0.04834466055035591,-0.8252092599868774,null,-0.04834466055035591,0.7177454233169556,null,-0.04834466055035591,0.22017043828964233,null,-0.04834466055035591,-0.9284750819206238,null,-0.04834466055035591,-0.09025364369153976,null,-0.04834466055035591,0.7239754796028137,null,-0.04834466055035591,0.3114240765571594,null,-0.04834466055035591,9.621296339901164e-05,null,-0.806473433971405,9.621296339901164e-05,null,-0.2037598043680191,-0.17856205999851227,null,0.7534096837043762,0.07239452004432678,null,-0.015526148490607738,-0.4562171697616577,null,-0.015526148490607738,0.269754558801651,null,-0.9269760847091675,-0.2421543300151825,null,-0.4580073952674866,-0.43205949664115906,null,0.9347828030586243,0.31625819206237793,null,-0.2421543300151825,0.8393095135688782,null,-0.2421543300151825,-0.8369302749633789,null,-0.2421543300151825,0.08484365046024323,null,-0.2421543300151825,-0.6967453956604004,null,0.3532158434391022,0.07799411565065384,null,0.07239452004432678,0.02221110463142395,null,0.07239452004432678,0.30262765288352966,null,0.07239452004432678,0.4367690980434418,null,-0.7278870344161987,0.31625819206237793,null,-0.7947859764099121,0.31625819206237793,null,0.36182764172554016,0.31625819206237793,null,0.36182764172554016,0.1067417785525322,null,-0.17170275747776031,-0.3691636919975281,null,-0.9257650375366211,9.621296339901164e-05,null,-0.5287704467773438,-0.17856205999851227,null,0.5933119654655457,0.31625819206237793,null,0.8351723551750183,0.31625819206237793,null,0.46453073620796204,9.621296339901164e-05,null,0.46453073620796204,0.2259344607591629,null,0.46453073620796204,0.07799411565065384,null,0.46453073620796204,0.26418861746788025,null,0.46453073620796204,0.232538104057312,null,0.7352392673492432,0.31625819206237793,null,0.7352392673492432,-0.17856205999851227,null,0.07799411565065384,9.621296339901164e-05,null,0.07799411565065384,0.2259344607591629,null,0.07799411565065384,0.232538104057312,null,0.07799411565065384,0.26418861746788025,null,0.07799411565065384,-0.96763676404953,null,0.6487795114517212,0.31625819206237793,null,0.011077350936830044,0.31625819206237793,null,0.011077350936830044,0.269754558801651,null,0.011077350936830044,-0.9387395977973938,null,0.1320069432258606,9.621296339901164e-05,null,0.1320069432258606,-0.17856205999851227,null,0.232538104057312,9.621296339901164e-05,null,0.232538104057312,0.2259344607591629,null,0.232538104057312,0.26418861746788025,null,0.232538104057312,0.7509737014770508,null,0.232538104057312,-0.25414934754371643,null,0.2259344607591629,9.621296339901164e-05,null,0.2259344607591629,0.26418861746788025,null,0.07117625325918198,-0.9329028725624084,null,0.02221110463142395,0.31625819206237793,null,0.02221110463142395,0.24815160036087036,null,0.02221110463142395,-0.00122355786152184,null,-0.28881821036338806,0.31625819206237793,null,0.9450171589851379,0.31625819206237793,null,-0.931456983089447,-0.3576613664627075,null,0.30262765288352966,0.31625819206237793,null,0.30262765288352966,0.24815160036087036,null,-0.000764417287427932,0.31625819206237793,null,0.03920267894864082,0.31625819206237793,null,0.4367690980434418,0.31625819206237793,null,0.4367690980434418,0.269754558801651,null,0.3499404788017273,-0.17856205999851227,null,0.3499404788017273,0.8657427430152893,null,0.465424507856369,0.31625819206237793,null,0.376445472240448,0.31625819206237793,null,-0.0854145810008049,0.31625819206237793,null,-0.0854145810008049,-0.3576613664627075,null,-0.0854145810008049,-0.4562171697616577,null,-0.0854145810008049,0.269754558801651,null,0.7000231742858887,0.31625819206237793,null,0.7000231742858887,0.269754558801651,null,-0.39610978960990906,-0.5968011617660522,null,0.31625819206237793,0.8796141743659973,null,0.31625819206237793,0.9993765354156494,null,0.31625819206237793,0.7902782559394836,null,0.31625819206237793,0.009951919317245483,null,0.31625819206237793,0.8606470227241516,null,0.31625819206237793,9.621296339901164e-05,null,9.621296339901164e-05,0.26418861746788025,null,-0.959183394908905,0.41409486532211304,null,0.04555905982851982,-0.3192184865474701,null],\"type\":\"scatter\"},{\"hoverinfo\":\"text\",\"hovertext\":[\"Wikidata\\u003cbr\\u003eURL: https:\\u002f\\u002fwww.wikidata.org\\u003cbr\\u003eHost: Wikimedia Foundation\\u003cbr\\u003eVersion: 1.44.0-wmf.16\\u003cbr\\u003eStart Date: 2012-10-25 00:00:00+00:00\\u003cbr\\u003eActive Users: 24633\\u003cbr\\u003eUsers: 6712968\\u003cbr\\u003eProperties: 12327\\u003cbr\\u003eEdits: 2271398577\\u003cbr\\u003ePages: 119599665\",\"Wikimedia Commons\\u003cbr\\u003eURL: https:\\u002f\\u002fcommons.wikimedia.org\\u003cbr\\u003eHost: Wikimedia Foundation\\u003cbr\\u003eVersion: 1.44.0-wmf.16\\u003cbr\\u003eStart Date: 2019-01-10 00:00:00+00:00\\u003cbr\\u003eActive Users: 39321\\u003cbr\\u003eUsers: 13023348\\u003cbr\\u003eProperties: 12327\\u003cbr\\u003eEdits: 952992390\\u003cbr\\u003ePages: 145301018\"],\"legendgrouptitle\":{\"text\":\"By host\"},\"marker\":{\"color\":\"#F00000\",\"line\":{\"color\":\"black\",\"width\":1},\"showscale\":false,\"size\":[40,40]},\"mode\":\"markers\",\"name\":\"Wikimedia Foundation (2)\",\"showlegend\":true,\"x\":[-0.037724170833826065,-0.060369301587343216],\"y\":[-0.04834466055035591,0.31625819206237793],\"type\":\"scatter\"},{\"hoverinfo\":\"text\",\"hovertext\":[\"SCK\\u003cbr\\u003eURL: https:\\u002f\\u002fknihovnici.wikibase.cloud\\u003cbr\\u003eHost: Wikibase Cloud\\u003cbr\\u003eVersion: 1.39.7\\u003cbr\\u003eStart Date: 2024-06-26 00:00:00+00:00\\u003cbr\\u003eActive Users: 2\\u003cbr\\u003eUsers: 5\\u003cbr\\u003eProperties: 68\\u003cbr\\u003eEdits: 142439\\u003cbr\\u003ePages: 5453\",\"WikiFCD\\u003cbr\\u003eURL: https:\\u002f\\u002fwikifcd.wikibase.cloud\\u002f\\u003cbr\\u003eHost: Wikibase Cloud\\u003cbr\\u003eVersion: 1.39.7\\u003cbr\\u003eStart Date: 2020-03-02 00:00:00+00:00\\u003cbr\\u003eActive Users: 1\\u003cbr\\u003eUsers: 412\\u003cbr\\u003eProperties: 321\\u003cbr\\u003eEdits: 871318\\u003cbr\\u003ePages: 469132\",\"Ahotsak Wikibase\\u003cbr\\u003eURL: https:\\u002f\\u002fdatuak.ahotsak.eus\\u002f\\u003cbr\\u003eHost: Wikibase Cloud\\u003cbr\\u003eVersion: 1.39.7\\u003cbr\\u003eStart Date: 2021-05-26 00:00:00+00:00\\u003cbr\\u003eActive Users: 0\\u003cbr\\u003eUsers: 5\\u003cbr\\u003eProperties: 30\\u003cbr\\u003eEdits: 1143182\\u003cbr\\u003ePages: 27491\",\"Coins Wikibase\\u003cbr\\u003eURL: https:\\u002f\\u002fcoins.wikibase.cloud\\u002f\\u003cbr\\u003eHost: Wikibase Cloud\\u003cbr\\u003eVersion: 1.39.7\\u003cbr\\u003eStart Date: 2024-03-08 00:00:00+00:00\\u003cbr\\u003eActive Users: 0\\u003cbr\\u003eUsers: 3\\u003cbr\\u003eProperties: 29\\u003cbr\\u003eEdits: 825\\u003cbr\\u003ePages: 136\",\"wikiWARP\\u003cbr\\u003eURL: https:\\u002f\\u002fwikiwarp.wikibase.cloud\\u003cbr\\u003eHost: Wikibase Cloud\\u003cbr\\u003eVersion: 1.39.7\\u003cbr\\u003eStart Date: 2022-12-06 00:00:00+00:00\\u003cbr\\u003eActive Users: 0\\u003cbr\\u003eUsers: 3\\u003cbr\\u003eProperties: 7\\u003cbr\\u003eEdits: 56\\u003cbr\\u003ePages: 10\",\"African Americans in Film Collection, 1919-2000\\u003cbr\\u003eURL: https:\\u002f\\u002fafamfilm.wikibase.cloud\\u003cbr\\u003eHost: Wikibase Cloud\\u003cbr\\u003eVersion: 1.39.7\\u003cbr\\u003eStart Date: 2024-02-11 00:00:00+00:00\\u003cbr\\u003eActive Users: 0\\u003cbr\\u003eUsers: 4\\u003cbr\\u003eProperties: 36\\u003cbr\\u003eEdits: 1567\\u003cbr\\u003ePages: 931\",\"HBMa\\u003cbr\\u003eURL: https:\\u002f\\u002fmatrika.wikibase.cloud\\u003cbr\\u003eHost: Wikibase Cloud\\u003cbr\\u003eVersion: 1.39.7\\u003cbr\\u003eStart Date: 2023-11-21 00:00:00+00:00\\u003cbr\\u003eActive Users: 0\\u003cbr\\u003eUsers: 2\\u003cbr\\u003eProperties: 52\\u003cbr\\u003eEdits: 7790\\u003cbr\\u003ePages: 1233\",\"Digital Scriptorium Catalog\\u003cbr\\u003eURL: https:\\u002f\\u002fcatalog.digital-scriptorium.org\\u002f\\u003cbr\\u003eHost: Wikibase Cloud\\u003cbr\\u003eVersion: 1.39.7\\u003cbr\\u003eStart Date: 2022-12-23 00:00:00+00:00\\u003cbr\\u003eActive Users: 1\\u003cbr\\u003eUsers: 7\\u003cbr\\u003eProperties: 47\\u003cbr\\u003eEdits: 79544\\u003cbr\\u003ePages: 55299\",\"Fashion\\u003cbr\\u003eURL: https:\\u002f\\u002ffashion.wikibase.cloud\\u003cbr\\u003eHost: Wikibase Cloud\\u003cbr\\u003eVersion: 1.39.7\\u003cbr\\u003eStart Date: 2024-07-25 00:00:00+00:00\\u003cbr\\u003eActive Users: 0\\u003cbr\\u003eUsers: 2\\u003cbr\\u003eProperties: 29\\u003cbr\\u003eEdits: 18779\\u003cbr\\u003ePages: 8608\",\"CollectingWomenCourse\\u003cbr\\u003eURL: https:\\u002f\\u002fcollectingwomencourse.wikibase.cloud\\u003cbr\\u003eHost: Wikibase Cloud\\u003cbr\\u003eVersion: 1.39.7\\u003cbr\\u003eStart Date: 2023-11-14 00:00:00+00:00\\u003cbr\\u003eActive Users: 0\\u003cbr\\u003eUsers: 21\\u003cbr\\u003eProperties: 25\\u003cbr\\u003eEdits: 1186\\u003cbr\\u003ePages: 220\",\"Ottgaz\\u003cbr\\u003eURL: https:\\u002f\\u002fottgaz.org\\u003cbr\\u003eHost: Wikibase Cloud\\u003cbr\\u003eVersion: 1.39.7\\u003cbr\\u003eStart Date: 2022-09-05 00:00:00+00:00\\u003cbr\\u003eActive Users: 0\\u003cbr\\u003eUsers: 4\\u003cbr\\u003eProperties: 38\\u003cbr\\u003eEdits: 80586\\u003cbr\\u003ePages: 20356\",\"NordhausenDaten\\u003cbr\\u003eURL: https:\\u002f\\u002fnordhausen.wikibase.cloud\\u003cbr\\u003eHost: Wikibase Cloud\\u003cbr\\u003eVersion: 1.39.7\\u003cbr\\u003eStart Date: 2022-10-05 00:00:00+00:00\\u003cbr\\u003eActive Users: 0\\u003cbr\\u003eUsers: 2\\u003cbr\\u003eProperties: 8\\u003cbr\\u003eEdits: 60\\u003cbr\\u003ePages: 47\",\"British Columbia Directories\\u003cbr\\u003eURL: https:\\u002f\\u002fbcdirectories.wikibase.cloud\\u003cbr\\u003eHost: Wikibase Cloud\\u003cbr\\u003eVersion: 1.39.7\\u003cbr\\u003eStart Date: 2024-01-18 00:00:00+00:00\\u003cbr\\u003eActive Users: 1\\u003cbr\\u003eUsers: 2\\u003cbr\\u003eProperties: 41\\u003cbr\\u003eEdits: 3990\\u003cbr\\u003ePages: 4187\",\"Devonshire\\u003cbr\\u003eURL: https:\\u002f\\u002fdevonshire.wikibase.cloud\\u002f\\u003cbr\\u003eHost: Wikibase Cloud\\u003cbr\\u003eVersion: 1.39.7\\u003cbr\\u003eStart Date: 2022-06-24 00:00:00+00:00\\u003cbr\\u003eActive Users: 1\\u003cbr\\u003eUsers: 2\\u003cbr\\u003eProperties: 108\\u003cbr\\u003eEdits: 133174\\u003cbr\\u003ePages: 61655\",\"Datenbank Nordhausen\\u003cbr\\u003eURL: https:\\u002f\\u002fdatenbank.nordhausen.org\\u003cbr\\u003eHost: Wikibase Cloud\\u003cbr\\u003eVersion: 1.39.7\\u003cbr\\u003eStart Date: 2022-10-05 00:00:00+00:00\\u003cbr\\u003eActive Users: 1\\u003cbr\\u003eUsers: 7\\u003cbr\\u003eProperties: 73\\u003cbr\\u003eEdits: 90634\\u003cbr\\u003ePages: 86804\",\"eneoli wikibase\\u003cbr\\u003eURL: https:\\u002f\\u002feneoli.wikibase.cloud\\u003cbr\\u003eHost: Wikibase Cloud\\u003cbr\\u003eVersion: 1.39.7\\u003cbr\\u003eStart Date: 2024-03-15 00:00:00+00:00\\u003cbr\\u003eActive Users: 3\\u003cbr\\u003eUsers: 30\\u003cbr\\u003eProperties: 64\\u003cbr\\u003eEdits: 12888\\u003cbr\\u003ePages: 2597\",\"FILMUSP\\u003cbr\\u003eURL: https:\\u002f\\u002ffilmusp.wikibase.cloud\\u003cbr\\u003eHost: Wikibase Cloud\\u003cbr\\u003eVersion: 1.39.7\\u003cbr\\u003eStart Date: 2024-07-18 00:00:00+00:00\\u003cbr\\u003eActive Users: 0\\u003cbr\\u003eUsers: 2\\u003cbr\\u003eProperties: 6\\u003cbr\\u003eEdits: 66\\u003cbr\\u003ePages: 16\",\"Hydrogen\\u003cbr\\u003eURL: https:\\u002f\\u002fhydrogen.wikibase.cloud\\u003cbr\\u003eHost: Wikibase Cloud\\u003cbr\\u003eVersion: 1.39.7\\u003cbr\\u003eStart Date: 2024-06-19 00:00:00+00:00\\u003cbr\\u003eActive Users: 0\\u003cbr\\u003eUsers: 2\\u003cbr\\u003eProperties: 11\\u003cbr\\u003eEdits: 60\\u003cbr\\u003ePages: 37\",\"Giorgio De Maria Knowledge Base\\u003cbr\\u003eURL: https:\\u002f\\u002fgiorgiodemaria.wikibase.cloud\\u002f\\u003cbr\\u003eHost: Wikibase Cloud\\u003cbr\\u003eVersion: 1.39.7\\u003cbr\\u003eStart Date: 2023-05-12 00:00:00+00:00\\u003cbr\\u003eActive Users: 0\\u003cbr\\u003eUsers: 2\\u003cbr\\u003eProperties: 14\\u003cbr\\u003eEdits: 342\\u003cbr\\u003ePages: 79\",\"The Cool Zone\\u003cbr\\u003eURL: https:\\u002f\\u002fcoolzone.wikibase.cloud\\u003cbr\\u003eHost: Wikibase Cloud\\u003cbr\\u003eVersion: 1.39.7\\u003cbr\\u003eStart Date: 2024-08-12 00:00:00+00:00\\u003cbr\\u003eActive Users: 0\\u003cbr\\u003eUsers: 2\\u003cbr\\u003eProperties: 2\\u003cbr\\u003eEdits: 5\\u003cbr\\u003ePages: 4\",\"Riga Literata\\u003cbr\\u003eURL: https:\\u002f\\u002friga-literata.wikibase.cloud\\u003cbr\\u003eHost: Wikibase Cloud\\u003cbr\\u003eVersion: 1.39.7\\u003cbr\\u003eStart Date: 2022-10-05 00:00:00+00:00\\u003cbr\\u003eActive Users: 0\\u003cbr\\u003eUsers: 2\\u003cbr\\u003eProperties: 63\\u003cbr\\u003eEdits: 2433\\u003cbr\\u003ePages: 904\",\"Greek Metrical Inscriptions\\u003cbr\\u003eURL: https:\\u002f\\u002fgreek-metrical-inscriptions.wikibase.cloud\\u003cbr\\u003eHost: Wikibase Cloud\\u003cbr\\u003eVersion: 1.39.7\\u003cbr\\u003eStart Date: 2024-04-29 00:00:00+00:00\\u003cbr\\u003eActive Users: 1\\u003cbr\\u003eUsers: 3\\u003cbr\\u003eProperties: 70\\u003cbr\\u003eEdits: 5566\\u003cbr\\u003ePages: 796\",\"Semantic Name Authority Repository Cymru\\u003cbr\\u003eURL: https:\\u002f\\u002fsnarc-llgc.wikibase.cloud\\u003cbr\\u003eHost: Wikibase Cloud\\u003cbr\\u003eVersion: 1.39.7\\u003cbr\\u003eStart Date: 2022-11-17 00:00:00+00:00\\u003cbr\\u003eActive Users: 1\\u003cbr\\u003eUsers: 2\\u003cbr\\u003eProperties: 86\\u003cbr\\u003eEdits: 989320\\u003cbr\\u003ePages: 130944\",\"Tales of discovery\\u003cbr\\u003eURL: https:\\u002f\\u002fdiscovery-tales.wikibase.cloud\\u003cbr\\u003eHost: Wikibase Cloud\\u003cbr\\u003eVersion: 1.39.7\\u003cbr\\u003eStart Date: 2024-07-01 00:00:00+00:00\\u003cbr\\u003eActive Users: 0\\u003cbr\\u003eUsers: 5\\u003cbr\\u003eProperties: 43\\u003cbr\\u003eEdits: 10368\\u003cbr\\u003ePages: 777\",\"LexBib\\u003cbr\\u003eURL: https:\\u002f\\u002flexbib.elex.is\\u003cbr\\u003eHost: Wikibase Cloud\\u003cbr\\u003eVersion: 1.39.7\\u003cbr\\u003eStart Date: 2021-08-03 00:00:00+00:00\\u003cbr\\u003eActive Users: 0\\u003cbr\\u003eUsers: 730\\u003cbr\\u003eProperties: 212\\u003cbr\\u003eEdits: 874614\\u003cbr\\u003ePages: 34879\",\"xhgell9mb1qlv2h9gwps\\u003cbr\\u003eURL: https:\\u002f\\u002fxhgell9mb1qlv2h9gwps.wikibase.cloud\\u003cbr\\u003eHost: Wikibase Cloud\\u003cbr\\u003eVersion: 1.39.7\\u003cbr\\u003eStart Date: 2023-12-11 00:00:00+00:00\\u003cbr\\u003eActive Users: 0\\u003cbr\\u003eUsers: 2\\u003cbr\\u003eProperties: 6\\u003cbr\\u003eEdits: 296\\u003cbr\\u003ePages: 8\",\"Timna Valley Database\\u003cbr\\u003eURL: https:\\u002f\\u002ftimna-database.wikibase.cloud\\u003cbr\\u003eHost: Wikibase Cloud\\u003cbr\\u003eVersion: 1.39.7\\u003cbr\\u003eStart Date: 2024-02-22 00:00:00+00:00\\u003cbr\\u003eActive Users: 6\\u003cbr\\u003eUsers: 14\\u003cbr\\u003eProperties: 108\\u003cbr\\u003eEdits: 15533\\u003cbr\\u003ePages: 789\",\"DigLearning\\u003cbr\\u003eURL: https:\\u002f\\u002fdiglearning.wikibase.cloud\\u003cbr\\u003eHost: Wikibase Cloud\\u003cbr\\u003eVersion: 1.39.7\\u003cbr\\u003eStart Date: 2022-10-18 00:00:00+00:00\\u003cbr\\u003eActive Users: 0\\u003cbr\\u003eUsers: 2\\u003cbr\\u003eProperties: 12\\u003cbr\\u003eEdits: 158\\u003cbr\\u003ePages: 28\",\"DHWiki\\u003cbr\\u003eURL: https:\\u002f\\u002fdhwiki.wikibase.cloud\\u003cbr\\u003eHost: Wikibase Cloud\\u003cbr\\u003eVersion: 1.39.7\\u003cbr\\u003eStart Date: 2024-09-28 00:00:00+00:00\\u003cbr\\u003eActive Users: 2\\u003cbr\\u003eUsers: 5\\u003cbr\\u003eProperties: 40\\u003cbr\\u003eEdits: 1041\\u003cbr\\u003ePages: 506\",\"bcuf-test\\u003cbr\\u003eURL: https:\\u002f\\u002fbcuf-test.wikibase.cloud\\u003cbr\\u003eHost: Wikibase Cloud\\u003cbr\\u003eVersion: 1.39.7\\u003cbr\\u003eStart Date: 2022-09-30 00:00:00+00:00\\u003cbr\\u003eActive Users: 0\\u003cbr\\u003eUsers: 2\\u003cbr\\u003eProperties: 20\\u003cbr\\u003eEdits: 85\\u003cbr\\u003ePages: 34\",\"FictionBase\\u003cbr\\u003eURL: https:\\u002f\\u002ffictionbase.wikibase.cloud\\u003cbr\\u003eHost: Wikibase Cloud\\u003cbr\\u003eVersion: 1.39.7\\u003cbr\\u003eStart Date: 2024-04-14 00:00:00+00:00\\u003cbr\\u003eActive Users: 0\\u003cbr\\u003eUsers: 2\\u003cbr\\u003eProperties: 4\\u003cbr\\u003eEdits: 16\\u003cbr\\u003ePages: 9\",\"Wikimedia Foundation Memory Bank Data Wiki\\u003cbr\\u003eURL: https:\\u002f\\u002fmemorybankdata.wikibase.cloud\\u003cbr\\u003eHost: Wikibase Cloud\\u003cbr\\u003eVersion: 1.39.7\\u003cbr\\u003eStart Date: 2024-01-23 00:00:00+00:00\\u003cbr\\u003eActive Users: 0\\u003cbr\\u003eUsers: 2\\u003cbr\\u003eProperties: 56\\u003cbr\\u003eEdits: 2176\\u003cbr\\u003ePages: 384\",\"Belgian Resistance\\u003cbr\\u003eURL: https:\\u002f\\u002fresistance.wikibase.cloud\\u003cbr\\u003eHost: Wikibase Cloud\\u003cbr\\u003eVersion: 1.39.7\\u003cbr\\u003eStart Date: 2022-02-04 00:00:00+00:00\\u003cbr\\u003eActive Users: 0\\u003cbr\\u003eUsers: 2\\u003cbr\\u003eProperties: 37\\u003cbr\\u003eEdits: 243\\u003cbr\\u003ePages: 63\",\"College of Science Library, KNUST\\u003cbr\\u003eURL: https:\\u002f\\u002fcoslib-knust.wikibase.cloud\\u003cbr\\u003eHost: Wikibase Cloud\\u003cbr\\u003eVersion: 1.39.7\\u003cbr\\u003eStart Date: 2024-03-15 00:00:00+00:00\\u003cbr\\u003eActive Users: 0\\u003cbr\\u003eUsers: 23\\u003cbr\\u003eProperties: 13\\u003cbr\\u003eEdits: 86\\u003cbr\\u003ePages: 48\",\"GLAMbase\\u003cbr\\u003eURL: https:\\u002f\\u002fglambase.wikibase.cloud\\u003cbr\\u003eHost: Wikibase Cloud\\u003cbr\\u003eVersion: 1.39.7\\u003cbr\\u003eStart Date: 2022-10-05 00:00:00+00:00\\u003cbr\\u003eActive Users: 0\\u003cbr\\u003eUsers: 12\\u003cbr\\u003eProperties: 11\\u003cbr\\u003eEdits: 129\\u003cbr\\u003ePages: 46\",\"OpenDataSweden\\u003cbr\\u003eURL: https:\\u002f\\u002fsweopendata.wikibase.cloud\\u003cbr\\u003eHost: Wikibase Cloud\\u003cbr\\u003eVersion: 1.39.7\\u003cbr\\u003eStart Date: 2020-12-17 00:00:00+00:00\\u003cbr\\u003eActive Users: 0\\u003cbr\\u003eUsers: 2513\\u003cbr\\u003eProperties: 33\\u003cbr\\u003eEdits: 2648\\u003cbr\\u003ePages: 795\",\"ds20230203\\u003cbr\\u003eURL: https:\\u002f\\u002fds20230203.wikibase.cloud\\u003cbr\\u003eHost: Wikibase Cloud\\u003cbr\\u003eVersion: 1.39.7\\u003cbr\\u003eStart Date: 2023-02-03 00:00:00+00:00\\u003cbr\\u003eActive Users: 0\\u003cbr\\u003eUsers: 2\\u003cbr\\u003eProperties: 47\\u003cbr\\u003eEdits: 315\\u003cbr\\u003ePages: 303\",\"oswald\\u003cbr\\u003eURL: https:\\u002f\\u002foswald.wikibase.cloud\\u003cbr\\u003eHost: Wikibase Cloud\\u003cbr\\u003eVersion: 1.39.7\\u003cbr\\u003eStart Date: 2022-10-10 00:00:00+00:00\\u003cbr\\u003eActive Users: 0\\u003cbr\\u003eUsers: 3\\u003cbr\\u003eProperties: 44\\u003cbr\\u003eEdits: 1487\\u003cbr\\u003ePages: 369\",\"KZK\\u003cbr\\u003eURL: https:\\u002f\\u002fzkratky.wikibase.cloud\\u003cbr\\u003eHost: Wikibase Cloud\\u003cbr\\u003eVersion: 1.39.7\\u003cbr\\u003eStart Date: 2024-06-26 00:00:00+00:00\\u003cbr\\u003eActive Users: 1\\u003cbr\\u003eUsers: 4\\u003cbr\\u003eProperties: 25\\u003cbr\\u003eEdits: 100280\\u003cbr\\u003ePages: 5995\",\"Serbian Wikibase\\u003cbr\\u003eURL: https:\\u002f\\u002fserbian.wikibase.cloud\\u003cbr\\u003eHost: Wikibase Cloud\\u003cbr\\u003eVersion: 1.39.7\\u003cbr\\u003eStart Date: 2024-01-31 00:00:00+00:00\\u003cbr\\u003eActive Users: 0\\u003cbr\\u003eUsers: 4\\u003cbr\\u003eProperties: 22\\u003cbr\\u003eEdits: 59983\\u003cbr\\u003ePages: 24285\",\"Eusterm Wikibase\\u003cbr\\u003eURL: https:\\u002f\\u002feusterm.wikibase.cloud\\u003cbr\\u003eHost: Wikibase Cloud\\u003cbr\\u003eVersion: 1.39.7\\u003cbr\\u003eStart Date: 2022-10-26 00:00:00+00:00\\u003cbr\\u003eActive Users: 12\\u003cbr\\u003eUsers: 40\\u003cbr\\u003eProperties: 165\\u003cbr\\u003eEdits: 41347\\u003cbr\\u003ePages: 17539\",\"National Gallery of Art\\u003cbr\\u003eURL: https:\\u002f\\u002fmercury7.wikibase.cloud\\u003cbr\\u003eHost: Wikibase Cloud\\u003cbr\\u003eVersion: 1.39.7\\u003cbr\\u003eStart Date: 2022-07-06 00:00:00+00:00\\u003cbr\\u003eActive Users: 2\\u003cbr\\u003eUsers: 6\\u003cbr\\u003eProperties: 122\\u003cbr\\u003eEdits: 36259\\u003cbr\\u003ePages: 3354\",\"Schema descriptions\\u003cbr\\u003eURL: https:\\u002f\\u002fschema-korf.wikibase.cloud\\u003cbr\\u003eHost: Wikibase Cloud\\u003cbr\\u003eVersion: 1.39.7\\u003cbr\\u003eStart Date: 2020-04-10 00:00:00+00:00\\u003cbr\\u003eActive Users: 0\\u003cbr\\u003eUsers: 6\\u003cbr\\u003eProperties: 8\\u003cbr\\u003eEdits: 56\\u003cbr\\u003ePages: 23\",\"DataLib\\u003cbr\\u003eURL: https:\\u002f\\u002fdatalib.wikibase.cloud\\u003cbr\\u003eHost: Wikibase Cloud\\u003cbr\\u003eVersion: 1.39.7\\u003cbr\\u003eStart Date: 2024-05-24 00:00:00+00:00\\u003cbr\\u003eActive Users: 1\\u003cbr\\u003eUsers: 6\\u003cbr\\u003eProperties: 59\\u003cbr\\u003eEdits: 37408\\u003cbr\\u003ePages: 1872\",\"Kluck\\u003cbr\\u003eURL: https:\\u002f\\u002fkluck.wikibase.cloud\\u003cbr\\u003eHost: Wikibase Cloud\\u003cbr\\u003eVersion: 1.39.7\\u003cbr\\u003eStart Date: 2024-04-17 00:00:00+00:00\\u003cbr\\u003eActive Users: 0\\u003cbr\\u003eUsers: 2\\u003cbr\\u003eProperties: 2\\u003cbr\\u003eEdits: 5\\u003cbr\\u003ePages: 3\",\"TRE Test\\u003cbr\\u003eURL: https:\\u002f\\u002ftre-test.wikibase.cloud\\u003cbr\\u003eHost: Wikibase Cloud\\u003cbr\\u003eVersion: 1.39.7\\u003cbr\\u003eStart Date: 2023-05-15 00:00:00+00:00\\u003cbr\\u003eActive Users: 2\\u003cbr\\u003eUsers: 3\\u003cbr\\u003eProperties: 37\\u003cbr\\u003eEdits: 342425\\u003cbr\\u003ePages: 252423\",\"TReK2\\u003cbr\\u003eURL: https:\\u002f\\u002frestorationtoolkit2.wikibase.cloud\\u003cbr\\u003eHost: Wikibase Cloud\\u003cbr\\u003eVersion: 1.39.7\\u003cbr\\u003eStart Date: 2024-08-02 00:00:00+00:00\\u003cbr\\u003eActive Users: 0\\u003cbr\\u003eUsers: 3\\u003cbr\\u003eProperties: 14\\u003cbr\\u003eEdits: 46\\u003cbr\\u003ePages: 28\",\"EEW\\u003cbr\\u003eURL: https:\\u002f\\u002feew-edgi.wikibase.cloud\\u002f\\u003cbr\\u003eHost: Wikibase Cloud\\u003cbr\\u003eVersion: 1.39.7\\u003cbr\\u003eStart Date: 2023-03-08 00:00:00+00:00\\u003cbr\\u003eActive Users: 0\\u003cbr\\u003eUsers: 2\\u003cbr\\u003eProperties: 58\\u003cbr\\u003eEdits: 42920\\u003cbr\\u003ePages: 33490\",\"IR Abbreviations\\u003cbr\\u003eURL: https:\\u002f\\u002fir-abbreviations.wikibase.cloud\\u003cbr\\u003eHost: Wikibase Cloud\\u003cbr\\u003eVersion: 1.39.7\\u003cbr\\u003eStart Date: 2024-07-25 00:00:00+00:00\\u003cbr\\u003eActive Users: 0\\u003cbr\\u003eUsers: 3\\u003cbr\\u003eProperties: 19\\u003cbr\\u003eEdits: 127\\u003cbr\\u003ePages: 30\",\"Proust-Portal\\u003cbr\\u003eURL: https:\\u002f\\u002fproust-portal.wikibase.cloud\\u003cbr\\u003eHost: Wikibase Cloud\\u003cbr\\u003eVersion: 1.39.7\\u003cbr\\u003eStart Date: 2023-10-22 00:00:00+00:00\\u003cbr\\u003eActive Users: 1\\u003cbr\\u003eUsers: 4\\u003cbr\\u003eProperties: 4\\u003cbr\\u003eEdits: 20\\u003cbr\\u003ePages: 6\",\"zentrum f\\u00fcr netzkunst\\u003cbr\\u003eURL: https:\\u002f\\u002fnetart.wikibase.cloud\\u003cbr\\u003eHost: Wikibase Cloud\\u003cbr\\u003eVersion: 1.39.7\\u003cbr\\u003eStart Date: 2024-04-29 00:00:00+00:00\\u003cbr\\u003eActive Users: 1\\u003cbr\\u003eUsers: 4\\u003cbr\\u003eProperties: 125\\u003cbr\\u003eEdits: 3958\\u003cbr\\u003ePages: 1260\",\"test\\u003cbr\\u003eURL: https:\\u002f\\u002fubna-test.wikibase.cloud\\u003cbr\\u003eHost: Wikibase Cloud\\u003cbr\\u003eVersion: 1.39.7\\u003cbr\\u003eStart Date: 2024-01-25 00:00:00+00:00\\u003cbr\\u003eActive Users: 0\\u003cbr\\u003eUsers: 3\\u003cbr\\u003eProperties: 29\\u003cbr\\u003eEdits: 146\\u003cbr\\u003ePages: 54\",\"photo-techniques\\u003cbr\\u003eURL: https:\\u002f\\u002fphoto-techniques.dvnr.ch\\u003cbr\\u003eHost: Wikibase Cloud\\u003cbr\\u003eVersion: 1.39.7\\u003cbr\\u003eStart Date: 2020-11-15 00:00:00+00:00\\u003cbr\\u003eActive Users: 0\\u003cbr\\u003eUsers: 2\\u003cbr\\u003eProperties: 14\\u003cbr\\u003eEdits: 245\\u003cbr\\u003ePages: 119\",\"British Library Archives and Manuscripts\\u003cbr\\u003eURL: https:\\u002f\\u002fbl-archives-manuscripts.wikibase.cloud\\u003cbr\\u003eHost: Wikibase Cloud\\u003cbr\\u003eVersion: 1.39.7\\u003cbr\\u003eStart Date: 2023-12-07 00:00:00+00:00\\u003cbr\\u003eActive Users: 0\\u003cbr\\u003eUsers: 2\\u003cbr\\u003eProperties: 36\\u003cbr\\u003eEdits: 33746\\u003cbr\\u003ePages: 3453\",\"Willighagen 101\\u003cbr\\u003eURL: https:\\u002f\\u002fwillighagen-2021.wikibase.cloud\\u003cbr\\u003eHost: Wikibase Cloud\\u003cbr\\u003eVersion: 1.39.7\\u003cbr\\u003eStart Date: 2021-12-22 00:00:00+00:00\\u003cbr\\u003eActive Users: 0\\u003cbr\\u003eUsers: 16\\u003cbr\\u003eProperties: 46\\u003cbr\\u003eEdits: 2044\\u003cbr\\u003ePages: 382\",\"Aberdeen Harbour Arrivals\\u003cbr\\u003eURL: https:\\u002f\\u002faberdeen-arrivals.wikibase.cloud\\u003cbr\\u003eHost: Wikibase Cloud\\u003cbr\\u003eVersion: 1.39.7\\u003cbr\\u003eStart Date: 2023-03-21 00:00:00+00:00\\u003cbr\\u003eActive Users: 0\\u003cbr\\u003eUsers: 2\\u003cbr\\u003eProperties: 17\\u003cbr\\u003eEdits: 287\\u003cbr\\u003ePages: 231\",\"melanges-test\\u003cbr\\u003eURL: https:\\u002f\\u002fmelanges-test.wikibase.cloud\\u003cbr\\u003eHost: Wikibase Cloud\\u003cbr\\u003eVersion: 1.39.7\\u003cbr\\u003eStart Date: 2022-10-28 00:00:00+00:00\\u003cbr\\u003eActive Users: 0\\u003cbr\\u003eUsers: 2\\u003cbr\\u003eProperties: 14\\u003cbr\\u003eEdits: 278\\u003cbr\\u003ePages: 112\",\"Podcasts\\u003cbr\\u003eURL: https:\\u002f\\u002fpodcasts.wikibase.cloud\\u003cbr\\u003eHost: Wikibase Cloud\\u003cbr\\u003eVersion: 1.39.7\\u003cbr\\u003eStart Date: 2023-02-28 00:00:00+00:00\\u003cbr\\u003eActive Users: 0\\u003cbr\\u003eUsers: 2\\u003cbr\\u003eProperties: 77\\u003cbr\\u003eEdits: 33711\\u003cbr\\u003ePages: 1351\",\"Minecraft JE Data\\u003cbr\\u003eURL: https:\\u002f\\u002fmcje-data.wikibase.cloud\\u003cbr\\u003eHost: Wikibase Cloud\\u003cbr\\u003eVersion: 1.39.7\\u003cbr\\u003eStart Date: 2022-06-17 00:00:00+00:00\\u003cbr\\u003eActive Users: 0\\u003cbr\\u003eUsers: 18\\u003cbr\\u003eProperties: 125\\u003cbr\\u003eEdits: 16366\\u003cbr\\u003ePages: 5592\",\"DREAMS Wiki\\u003cbr\\u003eURL: https:\\u002f\\u002fdreams.wikibase.cloud\\u003cbr\\u003eHost: Wikibase Cloud\\u003cbr\\u003eVersion: 1.39.7\\u003cbr\\u003eStart Date: 2020-10-19 00:00:00+00:00\\u003cbr\\u003eActive Users: 0\\u003cbr\\u003eUsers: 18\\u003cbr\\u003eProperties: 53\\u003cbr\\u003eEdits: 18564\\u003cbr\\u003ePages: 5649\",\"Inguma Wikibase\\u003cbr\\u003eURL: https:\\u002f\\u002fwikibase.inguma.eus\\u003cbr\\u003eHost: Wikibase Cloud\\u003cbr\\u003eVersion: 1.39.7\\u003cbr\\u003eStart Date: 2022-02-11 00:00:00+00:00\\u003cbr\\u003eActive Users: 3\\u003cbr\\u003eUsers: 13\\u003cbr\\u003eProperties: 89\\u003cbr\\u003eEdits: 154486\\u003cbr\\u003ePages: 45176\",\"Game classification\\u003cbr\\u003eURL: https:\\u002f\\u002fcla-g.wikibase.cloud\\u003cbr\\u003eHost: Wikibase Cloud\\u003cbr\\u003eVersion: 1.39.7\\u003cbr\\u003eStart Date: 2024-08-05 00:00:00+00:00\\u003cbr\\u003eActive Users: 1\\u003cbr\\u003eUsers: 8\\u003cbr\\u003eProperties: 27\\u003cbr\\u003eEdits: 3717\\u003cbr\\u003ePages: 380\",\"Memory Work Los Angeles\\u003cbr\\u003eURL: https:\\u002f\\u002fmemoryworkla.wikibase.cloud\\u003cbr\\u003eHost: Wikibase Cloud\\u003cbr\\u003eVersion: 1.39.7\\u003cbr\\u003eStart Date: 2023-10-11 00:00:00+00:00\\u003cbr\\u003eActive Users: 1\\u003cbr\\u003eUsers: 2\\u003cbr\\u003eProperties: 15\\u003cbr\\u003eEdits: 325\\u003cbr\\u003ePages: 135\",\"Vico\\u003cbr\\u003eURL: https:\\u002f\\u002fvicobncf.wikibase.cloud\\u003cbr\\u003eHost: Wikibase Cloud\\u003cbr\\u003eVersion: 1.39.7\\u003cbr\\u003eStart Date: 2023-08-22 00:00:00+00:00\\u003cbr\\u003eActive Users: 1\\u003cbr\\u003eUsers: 4\\u003cbr\\u003eProperties: 15\\u003cbr\\u003eEdits: 779\\u003cbr\\u003ePages: 168\",\"Repository Authorities\\u003cbr\\u003eURL: https:\\u002f\\u002fir-authorities.wikibase.cloud\\u003cbr\\u003eHost: Wikibase Cloud\\u003cbr\\u003eVersion: 1.39.7\\u003cbr\\u003eStart Date: 2023-02-10 00:00:00+00:00\\u003cbr\\u003eActive Users: 1\\u003cbr\\u003eUsers: 7\\u003cbr\\u003eProperties: 18\\u003cbr\\u003eEdits: 721\\u003cbr\\u003ePages: 179\",\"Machine Learning Models\\u003cbr\\u003eURL: https:\\u002f\\u002fmlmodel.wikibase.cloud\\u003cbr\\u003eHost: Wikibase Cloud\\u003cbr\\u003eVersion: 1.39.7\\u003cbr\\u003eStart Date: 2024-05-18 00:00:00+00:00\\u003cbr\\u003eActive Users: 0\\u003cbr\\u003eUsers: 2\\u003cbr\\u003eProperties: 6\\u003cbr\\u003eEdits: 46\\u003cbr\\u003ePages: 12\",\"Disaster Base\\u003cbr\\u003eURL: https:\\u002f\\u002fdisaster-base.wikibase.cloud\\u003cbr\\u003eHost: Wikibase Cloud\\u003cbr\\u003eVersion: 1.39.7\\u003cbr\\u003eStart Date: 2024-07-22 00:00:00+00:00\\u003cbr\\u003eActive Users: 0\\u003cbr\\u003eUsers: 2\\u003cbr\\u003eProperties: 115\\u003cbr\\u003eEdits: 222\\u003cbr\\u003ePages: 180\",\"catalog-dev\\u003cbr\\u003eURL: https:\\u002f\\u002fcatalog-dev.digital-scriptorium.org\\u003cbr\\u003eHost: Wikibase Cloud\\u003cbr\\u003eVersion: 1.39.7\\u003cbr\\u003eStart Date: 2022-12-21 00:00:00+00:00\\u003cbr\\u003eActive Users: 0\\u003cbr\\u003eUsers: 2\\u003cbr\\u003eProperties: 47\\u003cbr\\u003eEdits: 1758\\u003cbr\\u003ePages: 1731\",\"Ex Musica\\u003cbr\\u003eURL: https:\\u002f\\u002fexmusica.wikibase.cloud\\u003cbr\\u003eHost: Wikibase Cloud\\u003cbr\\u003eVersion: 1.39.7\\u003cbr\\u003eStart Date: 2023-01-13 00:00:00+00:00\\u003cbr\\u003eActive Users: 1\\u003cbr\\u003eUsers: 2\\u003cbr\\u003eProperties: 11\\u003cbr\\u003eEdits: 104\\u003cbr\\u003ePages: 21\",\"Lotico\\u003cbr\\u003eURL: https:\\u002f\\u002flotico.wikibase.cloud\\u003cbr\\u003eHost: Wikibase Cloud\\u003cbr\\u003eVersion: 1.39.7\\u003cbr\\u003eStart Date: 2023-12-25 00:00:00+00:00\\u003cbr\\u003eActive Users: 0\\u003cbr\\u003eUsers: 2\\u003cbr\\u003eProperties: 5\\u003cbr\\u003eEdits: 41\\u003cbr\\u003ePages: 14\",\"BIB18\\u003cbr\\u003eURL: https:\\u002f\\u002fbib18.wikibase.cloud\\u003cbr\\u003eHost: Wikibase Cloud\\u003cbr\\u003eVersion: 1.39.7\\u003cbr\\u003eStart Date: 2024-09-02 00:00:00+00:00\\u003cbr\\u003eActive Users: 0\\u003cbr\\u003eUsers: 2\\u003cbr\\u003eProperties: 77\\u003cbr\\u003eEdits: 799\\u003cbr\\u003ePages: 299\",\"test wiki\\u003cbr\\u003eURL: https:\\u002f\\u002ftest-wiki.wikibase.cloud\\u003cbr\\u003eHost: Wikibase Cloud\\u003cbr\\u003eVersion: 1.39.7\\u003cbr\\u003eStart Date: 2024-06-01 00:00:00+00:00\\u003cbr\\u003eActive Users: 0\\u003cbr\\u003eUsers: 2\\u003cbr\\u003eProperties: 5\\u003cbr\\u003eEdits: 12\\u003cbr\\u003ePages: 6\",\"Mapping DH\\u003cbr\\u003eURL: https:\\u002f\\u002fmapping-dh.wikibase.cloud\\u003cbr\\u003eHost: Wikibase Cloud\\u003cbr\\u003eVersion: 1.39.7\\u003cbr\\u003eStart Date: 2024-08-09 00:00:00+00:00\\u003cbr\\u003eActive Users: 1\\u003cbr\\u003eUsers: 3\\u003cbr\\u003eProperties: 121\\u003cbr\\u003eEdits: 11271\\u003cbr\\u003ePages: 2146\",\"Binbir Done\\u003cbr\\u003eURL: https:\\u002f\\u002fbinbirdone.wikibase.cloud\\u003cbr\\u003eHost: Wikibase Cloud\\u003cbr\\u003eVersion: 1.39.7\\u003cbr\\u003eStart Date: 2024-06-01 00:00:00+00:00\\u003cbr\\u003eActive Users: 1\\u003cbr\\u003eUsers: 2\\u003cbr\\u003eProperties: 132\\u003cbr\\u003eEdits: 4647\\u003cbr\\u003ePages: 726\",\"Citable SPARQL queries\\u003cbr\\u003eURL: https:\\u002f\\u002fsparql-queries-20211030.wikibase.cloud\\u003cbr\\u003eHost: Wikibase Cloud\\u003cbr\\u003eVersion: 1.39.7\\u003cbr\\u003eStart Date: 2021-10-30 00:00:00+00:00\\u003cbr\\u003eActive Users: 0\\u003cbr\\u003eUsers: 3\\u003cbr\\u003eProperties: 10\\u003cbr\\u003eEdits: 38\\u003cbr\\u003ePages: 12\",\"Glossario di biblioteconomia\\u003cbr\\u003eURL: https:\\u002f\\u002fglossbib.wikibase.cloud\\u003cbr\\u003eHost: Wikibase Cloud\\u003cbr\\u003eVersion: 1.39.7\\u003cbr\\u003eStart Date: 2023-04-18 00:00:00+00:00\\u003cbr\\u003eActive Users: 0\\u003cbr\\u003eUsers: 6\\u003cbr\\u003eProperties: 144\\u003cbr\\u003eEdits: 3464\\u003cbr\\u003ePages: 622\",\"corpeus\\u003cbr\\u003eURL: https:\\u002f\\u002fcorpeus.wikibase.cloud\\u003cbr\\u003eHost: Wikibase Cloud\\u003cbr\\u003eVersion: 1.39.7\\u003cbr\\u003eStart Date: 2023-07-20 00:00:00+00:00\\u003cbr\\u003eActive Users: 0\\u003cbr\\u003eUsers: 2\\u003cbr\\u003eProperties: 5\\u003cbr\\u003eEdits: 13\\u003cbr\\u003ePages: 7\",\"Curationist Vocabulary\\u003cbr\\u003eURL: https:\\u002f\\u002fcurationist.wikibase.cloud\\u003cbr\\u003eHost: Wikibase Cloud\\u003cbr\\u003eVersion: 1.39.7\\u003cbr\\u003eStart Date: 2024-08-14 00:00:00+00:00\\u003cbr\\u003eActive Users: 0\\u003cbr\\u003eUsers: 2\\u003cbr\\u003eProperties: 5\\u003cbr\\u003eEdits: 35\\u003cbr\\u003ePages: 11\",\"Hypotheseis\\u003cbr\\u003eURL: https:\\u002f\\u002fhypotheseis.wikibase.cloud\\u003cbr\\u003eHost: Wikibase Cloud\\u003cbr\\u003eVersion: 1.39.7\\u003cbr\\u003eStart Date: 2024-03-27 00:00:00+00:00\\u003cbr\\u003eActive Users: 1\\u003cbr\\u003eUsers: 5\\u003cbr\\u003eProperties: 47\\u003cbr\\u003eEdits: 11308\\u003cbr\\u003ePages: 1745\",\"Ozrens\\u003cbr\\u003eURL: https:\\u002f\\u002fwiki.ozrens.com\\u003cbr\\u003eHost: Wikibase Cloud\\u003cbr\\u003eVersion: 1.39.7\\u003cbr\\u003eStart Date: 2024-07-01 00:00:00+00:00\\u003cbr\\u003eActive Users: 0\\u003cbr\\u003eUsers: 2\\u003cbr\\u003eProperties: 14\\u003cbr\\u003eEdits: 34\\u003cbr\\u003ePages: 23\",\"gj-23things-data-place\\u003cbr\\u003eURL: https:\\u002f\\u002fgj-23things-data-place.wikibase.cloud\\u003cbr\\u003eHost: Wikibase Cloud\\u003cbr\\u003eVersion: 1.39.7\\u003cbr\\u003eStart Date: 2023-09-15 00:00:00+00:00\\u003cbr\\u003eActive Users: 0\\u003cbr\\u003eUsers: 2\\u003cbr\\u003eProperties: 3\\u003cbr\\u003eEdits: 12\\u003cbr\\u003ePages: 6\",\"Bradford Collections\\u003cbr\\u003eURL: https:\\u002f\\u002fbradford-collections.wikibase.cloud\\u003cbr\\u003eHost: Wikibase Cloud\\u003cbr\\u003eVersion: 1.39.7\\u003cbr\\u003eStart Date: 2024-01-30 00:00:00+00:00\\u003cbr\\u003eActive Users: 0\\u003cbr\\u003eUsers: 5\\u003cbr\\u003eProperties: 16\\u003cbr\\u003eEdits: 501\\u003cbr\\u003ePages: 45\",\"MLIS Course Catalogs\\u003cbr\\u003eURL: https:\\u002f\\u002fmliscoursecatalogs.wikibase.cloud\\u003cbr\\u003eHost: Wikibase Cloud\\u003cbr\\u003eVersion: 1.39.7\\u003cbr\\u003eStart Date: 2024-03-27 00:00:00+00:00\\u003cbr\\u003eActive Users: 0\\u003cbr\\u003eUsers: 2\\u003cbr\\u003eProperties: 14\\u003cbr\\u003eEdits: 1145\\u003cbr\\u003ePages: 195\",\"Monumenta Linguae Vasconum\\u003cbr\\u003eURL: https:\\u002f\\u002fmonumenta.wikibase.cloud\\u002f\\u003cbr\\u003eHost: Wikibase Cloud\\u003cbr\\u003eVersion: 1.39.7\\u003cbr\\u003eStart Date: 2023-07-22 00:00:00+00:00\\u003cbr\\u003eActive Users: 1\\u003cbr\\u003eUsers: 4\\u003cbr\\u003eProperties: 176\\u003cbr\\u003eEdits: 107225\\u003cbr\\u003ePages: 88321\",\"OpenAcolit\\u003cbr\\u003eURL: https:\\u002f\\u002fopenacolit.wikibase.cloud\\u003cbr\\u003eHost: Wikibase Cloud\\u003cbr\\u003eVersion: 1.39.7\\u003cbr\\u003eStart Date: 2023-06-28 00:00:00+00:00\\u003cbr\\u003eActive Users: 2\\u003cbr\\u003eUsers: 32\\u003cbr\\u003eProperties: 15\\u003cbr\\u003eEdits: 5374\\u003cbr\\u003ePages: 1289\",\"SCC\\u003cbr\\u003eURL: https:\\u002f\\u002fcongration.wikibase.cloud\\u003cbr\\u003eHost: Wikibase Cloud\\u003cbr\\u003eVersion: 1.39.7\\u003cbr\\u003eStart Date: 2024-06-14 00:00:00+00:00\\u003cbr\\u003eActive Users: 2\\u003cbr\\u003eUsers: 2\\u003cbr\\u003eProperties: 37\\u003cbr\\u003eEdits: 275\\u003cbr\\u003ePages: 115\",\"NemesiEmigr\\u00e1ci\\u00f3\\u003cbr\\u003eURL: https:\\u002f\\u002fnobleemigration.wikibase.cloud\\u003cbr\\u003eHost: Wikibase Cloud\\u003cbr\\u003eVersion: 1.39.7\\u003cbr\\u003eStart Date: 2024-02-20 00:00:00+00:00\\u003cbr\\u003eActive Users: 0\\u003cbr\\u003eUsers: 2\\u003cbr\\u003eProperties: 152\\u003cbr\\u003eEdits: 994\\u003cbr\\u003ePages: 224\",\"Wikidata for Digital Preservation\\u003cbr\\u003eURL: https:\\u002f\\u002fwikidp.wikibase.cloud\\u002f\\u003cbr\\u003eHost: Wikibase Cloud\\u003cbr\\u003eVersion: 1.39.7\\u003cbr\\u003eStart Date: 2020-03-17 00:00:00+00:00\\u003cbr\\u003eActive Users: 1\\u003cbr\\u003eUsers: 35585\\u003cbr\\u003eProperties: 77\\u003cbr\\u003eEdits: 151280\\u003cbr\\u003ePages: 104925\",\"d'A\\u00efeux et d'Ailleurs\\u003cbr\\u003eURL: https:\\u002f\\u002fdaieuxetdailleurs.wikibase.cloud\\u003cbr\\u003eHost: Wikibase Cloud\\u003cbr\\u003eVersion: 1.39.7\\u003cbr\\u003eStart Date: 2022-09-16 00:00:00+00:00\\u003cbr\\u003eActive Users: 0\\u003cbr\\u003eUsers: 2\\u003cbr\\u003eProperties: 62\\u003cbr\\u003eEdits: 8950\\u003cbr\\u003ePages: 1138\",\"Internet Domains Wikibase\\u003cbr\\u003eURL: https:\\u002f\\u002fdomains.wikibase.cloud\\u003cbr\\u003eHost: Wikibase Cloud\\u003cbr\\u003eVersion: 1.39.7\\u003cbr\\u003eStart Date: 2023-05-07 00:00:00+00:00\\u003cbr\\u003eActive Users: 1\\u003cbr\\u003eUsers: 13\\u003cbr\\u003eProperties: 34\\u003cbr\\u003eEdits: 831168\\u003cbr\\u003ePages: 311049\",\"Metabase\\u003cbr\\u003eURL: https:\\u002f\\u002fmetabase.wikibase.cloud\\u003cbr\\u003eHost: Wikibase Cloud\\u003cbr\\u003eVersion: 1.39.7\\u003cbr\\u003eStart Date: 2022-10-13 00:00:00+00:00\\u003cbr\\u003eActive Users: 6\\u003cbr\\u003eUsers: 36\\u003cbr\\u003eProperties: 86\\u003cbr\\u003eEdits: 39552\\u003cbr\\u003ePages: 3657\",\"LGBTdb\\u003cbr\\u003eURL: https:\\u002f\\u002flgbtdb.wikibase.cloud\\u002f\\u003cbr\\u003eHost: Wikibase Cloud\\u003cbr\\u003eVersion: 1.39.7\\u003cbr\\u003eStart Date: 2023-03-06 00:00:00+00:00\\u003cbr\\u003eActive Users: 1\\u003cbr\\u003eUsers: 4\\u003cbr\\u003eProperties: 834\\u003cbr\\u003eEdits: 182695\\u003cbr\\u003ePages: 34036\",\"Privacy Wiki\\u003cbr\\u003eURL: https:\\u002f\\u002fprivacy.wikibase.cloud\\u003cbr\\u003eHost: Wikibase Cloud\\u003cbr\\u003eVersion: 1.39.7\\u003cbr\\u003eStart Date: 2024-09-13 00:00:00+00:00\\u003cbr\\u003eActive Users: 0\\u003cbr\\u003eUsers: 2\\u003cbr\\u003eProperties: 7\\u003cbr\\u003eEdits: 17\\u003cbr\\u003ePages: 12\",\"Swedish Museum\\u003cbr\\u003eURL: https:\\u002f\\u002fswedishmuseum.wikibase.cloud\\u003cbr\\u003eHost: Wikibase Cloud\\u003cbr\\u003eVersion: 1.39.7\\u003cbr\\u003eStart Date: 2019-11-18 00:00:00+00:00\\u003cbr\\u003eActive Users: 0\\u003cbr\\u003eUsers: 137\\u003cbr\\u003eProperties: 19\\u003cbr\\u003eEdits: 733\\u003cbr\\u003ePages: 52\",\"John Samuel\\u003cbr\\u003eURL: https:\\u002f\\u002fjsamwrites.wikibase.cloud\\u003cbr\\u003eHost: Wikibase Cloud\\u003cbr\\u003eVersion: 1.39.7\\u003cbr\\u003eStart Date: 2023-02-12 00:00:00+00:00\\u003cbr\\u003eActive Users: 2\\u003cbr\\u003eUsers: 2\\u003cbr\\u003eProperties: 36\\u003cbr\\u003eEdits: 5245\\u003cbr\\u003ePages: 1416\",\"Hi Knowledge\\u003cbr\\u003eURL: https:\\u002f\\u002fhiktest.bootsa.net\\u003cbr\\u003eHost: Wikibase Cloud\\u003cbr\\u003eVersion: 1.39.7\\u003cbr\\u003eStart Date: 2024-02-07 00:00:00+00:00\\u003cbr\\u003eActive Users: 0\\u003cbr\\u003eUsers: 3\\u003cbr\\u003eProperties: 7\\u003cbr\\u003eEdits: 71\\u003cbr\\u003ePages: 40\",\"RIWATCH MUSEUM\\u003cbr\\u003eURL: https:\\u002f\\u002friwatchmuseum.wikibase.cloud\\u003cbr\\u003eHost: Wikibase Cloud\\u003cbr\\u003eVersion: 1.39.7\\u003cbr\\u003eStart Date: 2023-07-14 00:00:00+00:00\\u003cbr\\u003eActive Users: 0\\u003cbr\\u003eUsers: 3\\u003cbr\\u003eProperties: 11\\u003cbr\\u003eEdits: 538\\u003cbr\\u003ePages: 159\",\"Publication Abbreviations\\u003cbr\\u003eURL: https:\\u002f\\u002fabbreviations.wikibase.cloud\\u003cbr\\u003eHost: Wikibase Cloud\\u003cbr\\u003eVersion: 1.39.7\\u003cbr\\u003eStart Date: 2023-03-10 00:00:00+00:00\\u003cbr\\u003eActive Users: 0\\u003cbr\\u003eUsers: 4\\u003cbr\\u003eProperties: 21\\u003cbr\\u003eEdits: 8884\\u003cbr\\u003ePages: 1172\",\"Enote-Playground\\u003cbr\\u003eURL: https:\\u002f\\u002fenote-playground.wikibase.cloud\\u003cbr\\u003eHost: Wikibase Cloud\\u003cbr\\u003eVersion: 1.39.7\\u003cbr\\u003eStart Date: 2023-01-27 00:00:00+00:00\\u003cbr\\u003eActive Users: 0\\u003cbr\\u003eUsers: 9\\u003cbr\\u003eProperties: 60\\u003cbr\\u003eEdits: 640\\u003cbr\\u003ePages: 164\",\"Ppuidev\\u003cbr\\u003eURL: https:\\u002f\\u002fpbuidev.wikibase.cloud\\u003cbr\\u003eHost: Wikibase Cloud\\u003cbr\\u003eVersion: 1.39.7\\u003cbr\\u003eStart Date: 2023-01-16 00:00:00+00:00\\u003cbr\\u003eActive Users: 0\\u003cbr\\u003eUsers: 5\\u003cbr\\u003eProperties: 872\\u003cbr\\u003eEdits: 77671\\u003cbr\\u003ePages: 51615\",\"Berkeley Law\\u003cbr\\u003eURL: https:\\u002f\\u002fberkeleylaw.wikibase.cloud\\u003cbr\\u003eHost: Wikibase Cloud\\u003cbr\\u003eVersion: 1.39.7\\u003cbr\\u003eStart Date: 2022-11-02 00:00:00+00:00\\u003cbr\\u003eActive Users: 0\\u003cbr\\u003eUsers: 3\\u003cbr\\u003eProperties: 29\\u003cbr\\u003eEdits: 58\\u003cbr\\u003ePages: 34\",\"Bodhitestwiki\\u003cbr\\u003eURL: https:\\u002f\\u002fbodhitestwiki.wikibase.cloud\\u003cbr\\u003eHost: Wikibase Cloud\\u003cbr\\u003eVersion: 1.39.7\\u003cbr\\u003eStart Date: 2023-03-24 00:00:00+00:00\\u003cbr\\u003eActive Users: 0\\u003cbr\\u003eUsers: 2\\u003cbr\\u003eProperties: 12\\u003cbr\\u003eEdits: 51\\u003cbr\\u003ePages: 19\",\"mythogram\\u003cbr\\u003eURL: https:\\u002f\\u002fmythogram.wikibase.cloud\\u003cbr\\u003eHost: Wikibase Cloud\\u003cbr\\u003eVersion: 1.39.7\\u003cbr\\u003eStart Date: 2024-05-02 00:00:00+00:00\\u003cbr\\u003eActive Users: 0\\u003cbr\\u003eUsers: 2\\u003cbr\\u003eProperties: 25\\u003cbr\\u003eEdits: 281970\\u003cbr\\u003ePages: 15684\",\"Qichwabase\\u003cbr\\u003eURL: https:\\u002f\\u002fqichwa.wikibase.cloud\\u002f\\u003cbr\\u003eHost: Wikibase Cloud\\u003cbr\\u003eVersion: 1.39.7\\u003cbr\\u003eStart Date: 2022-05-30 00:00:00+00:00\\u003cbr\\u003eActive Users: 0\\u003cbr\\u003eUsers: 16\\u003cbr\\u003eProperties: 40\\u003cbr\\u003eEdits: 81170\\u003cbr\\u003ePages: 27572\",\"essencialistas\\u003cbr\\u003eURL: https:\\u002f\\u002fessencialistas.wikibase.cloud\\u003cbr\\u003eHost: Wikibase Cloud\\u003cbr\\u003eVersion: 1.39.7\\u003cbr\\u003eStart Date: 2024-02-07 00:00:00+00:00\\u003cbr\\u003eActive Users: 0\\u003cbr\\u003eUsers: 3\\u003cbr\\u003eProperties: 5\\u003cbr\\u003eEdits: 39\\u003cbr\\u003ePages: 22\",\"WikiFashion\\u003cbr\\u003eURL: https:\\u002f\\u002fwikifashion.wikibase.cloud\\u003cbr\\u003eHost: Wikibase Cloud\\u003cbr\\u003eVersion: 1.39.7\\u003cbr\\u003eStart Date: 2024-09-16 00:00:00+00:00\\u003cbr\\u003eActive Users: 2\\u003cbr\\u003eUsers: 2\\u003cbr\\u003eProperties: 39\\u003cbr\\u003eEdits: 8677\\u003cbr\\u003ePages: 2387\",\"vtul\\u003cbr\\u003eURL: https:\\u002f\\u002fvtul-metadataservices.wikibase.cloud\\u003cbr\\u003eHost: Wikibase Cloud\\u003cbr\\u003eVersion: 1.39.7\\u003cbr\\u003eStart Date: 2023-02-13 00:00:00+00:00\\u003cbr\\u003eActive Users: 0\\u003cbr\\u003eUsers: 9\\u003cbr\\u003eProperties: 63\\u003cbr\\u003eEdits: 486\\u003cbr\\u003ePages: 161\",\"elit\\u003cbr\\u003eURL: https:\\u002f\\u002fe-lit.wikibase.cloud\\u003cbr\\u003eHost: Wikibase Cloud\\u003cbr\\u003eVersion: 1.39.7\\u003cbr\\u003eStart Date: 2024-02-10 00:00:00+00:00\\u003cbr\\u003eActive Users: 1\\u003cbr\\u003eUsers: 2\\u003cbr\\u003eProperties: 4\\u003cbr\\u003eEdits: 15\\u003cbr\\u003ePages: 8\",\"R74n Wikibase\\u003cbr\\u003eURL: https:\\u002f\\u002fdata.r74n.com\\u002f\\u003cbr\\u003eHost: Wikibase Cloud\\u003cbr\\u003eVersion: 1.39.7\\u003cbr\\u003eStart Date: 2022-11-17 00:00:00+00:00\\u003cbr\\u003eActive Users: 1\\u003cbr\\u003eUsers: 141\\u003cbr\\u003eProperties: 236\\u003cbr\\u003eEdits: 19776\\u003cbr\\u003ePages: 3589\",\"CLB-LOD Wikibase\\u003cbr\\u003eURL: https:\\u002f\\u002fclb-lod.wikibase.cloud\\u003cbr\\u003eHost: Wikibase Cloud\\u003cbr\\u003eVersion: 1.39.7\\u003cbr\\u003eStart Date: 2022-08-26 00:00:00+00:00\\u003cbr\\u003eActive Users: 0\\u003cbr\\u003eUsers: 3\\u003cbr\\u003eProperties: 88\\u003cbr\\u003eEdits: 9564\\u003cbr\\u003ePages: 7618\",\"NFDI4Culture Data Enrichment\\u003cbr\\u003eURL: https:\\u002f\\u002fenrich-nfdi4culture.wikibase.cloud\\u003cbr\\u003eHost: Wikibase Cloud\\u003cbr\\u003eVersion: 1.39.7\\u003cbr\\u003eStart Date: 2021-06-17 00:00:00+00:00\\u003cbr\\u003eActive Users: 0\\u003cbr\\u003eUsers: 8\\u003cbr\\u003eProperties: 83\\u003cbr\\u003eEdits: 6703\\u003cbr\\u003ePages: 771\",\"Agua Archiv\\u003cbr\\u003eURL: https:\\u002f\\u002fagua-archiv.wikibase.cloud\\u003cbr\\u003eHost: Wikibase Cloud\\u003cbr\\u003eVersion: 1.39.7\\u003cbr\\u003eStart Date: 2024-06-28 00:00:00+00:00\\u003cbr\\u003eActive Users: 0\\u003cbr\\u003eUsers: 2\\u003cbr\\u003eProperties: 13\\u003cbr\\u003eEdits: 39\\u003cbr\\u003ePages: 23\",\"Open Miscellaneous Wikibase\\u003cbr\\u003eURL: https:\\u002f\\u002fother.wikibase.cloud\\u003cbr\\u003eHost: Wikibase Cloud\\u003cbr\\u003eVersion: 1.39.7\\u003cbr\\u003eStart Date: 2023-01-13 00:00:00+00:00\\u003cbr\\u003eActive Users: 1\\u003cbr\\u003eUsers: 4\\u003cbr\\u003eProperties: 8\\u003cbr\\u003eEdits: 162\\u003cbr\\u003ePages: 32\",\"Pets I Have Owned\\u003cbr\\u003eURL: https:\\u002f\\u002fpetsihaveowned.wikibase.cloud\\u003cbr\\u003eHost: Wikibase Cloud\\u003cbr\\u003eVersion: 1.39.7\\u003cbr\\u003eStart Date: 2024-04-17 00:00:00+00:00\\u003cbr\\u003eActive Users: 0\\u003cbr\\u003eUsers: 2\\u003cbr\\u003eProperties: 2\\u003cbr\\u003eEdits: 6\\u003cbr\\u003ePages: 5\",\"GWMAB Edu Wikibase\\u003cbr\\u003eURL: https:\\u002f\\u002fgwmab-edu.wikibase.cloud\\u003cbr\\u003eHost: Wikibase Cloud\\u003cbr\\u003eVersion: 1.39.7\\u003cbr\\u003eStart Date: 2023-10-09 00:00:00+00:00\\u003cbr\\u003eActive Users: 0\\u003cbr\\u003eUsers: 7\\u003cbr\\u003eProperties: 10\\u003cbr\\u003eEdits: 112\\u003cbr\\u003ePages: 33\",\"Biomarker Linked Data\\u003cbr\\u003eURL: https:\\u002f\\u002fbiomarker.wikibase.cloud\\u003cbr\\u003eHost: Wikibase Cloud\\u003cbr\\u003eVersion: 1.39.7\\u003cbr\\u003eStart Date: 2020-04-17 00:00:00+00:00\\u003cbr\\u003eActive Users: 0\\u003cbr\\u003eUsers: 5\\u003cbr\\u003eProperties: 42\\u003cbr\\u003eEdits: 269\\u003cbr\\u003ePages: 68\",\"ZiF sandbox\\u003cbr\\u003eURL: https:\\u002f\\u002fzif-sandbox.wikibase.cloud\\u003cbr\\u003eHost: Wikibase Cloud\\u003cbr\\u003eVersion: 1.39.7\\u003cbr\\u003eStart Date: 2024-09-10 00:00:00+00:00\\u003cbr\\u003eActive Users: 0\\u003cbr\\u003eUsers: 3\\u003cbr\\u003eProperties: 13\\u003cbr\\u003eEdits: 225\\u003cbr\\u003ePages: 63\",\"Numisgnosis\\u003cbr\\u003eURL: https:\\u002f\\u002fnumisgnosis.wikibase.cloud\\u003cbr\\u003eHost: Wikibase Cloud\\u003cbr\\u003eVersion: 1.39.7\\u003cbr\\u003eStart Date: 2024-03-26 00:00:00+00:00\\u003cbr\\u003eActive Users: 0\\u003cbr\\u003eUsers: 2\\u003cbr\\u003eProperties: 38\\u003cbr\\u003eEdits: 473\\u003cbr\\u003ePages: 141\",\"cocreate cologne alpha\\u003cbr\\u003eURL: https:\\u002f\\u002fcocreate-cologne.wikibase.cloud\\u003cbr\\u003eHost: Wikibase Cloud\\u003cbr\\u003eVersion: 1.39.7\\u003cbr\\u003eStart Date: 2020-05-31 00:00:00+00:00\\u003cbr\\u003eActive Users: 1\\u003cbr\\u003eUsers: 8\\u003cbr\\u003eProperties: 81\\u003cbr\\u003eEdits: 10052\\u003cbr\\u003ePages: 2940\",\"Zine Catalog\\u003cbr\\u003eURL: https:\\u002f\\u002fzine-catalog.wikibase.cloud\\u003cbr\\u003eHost: Wikibase Cloud\\u003cbr\\u003eVersion: 1.39.7\\u003cbr\\u003eStart Date: 2023-07-11 00:00:00+00:00\\u003cbr\\u003eActive Users: 0\\u003cbr\\u003eUsers: 2\\u003cbr\\u003eProperties: 6\\u003cbr\\u003eEdits: 26\\u003cbr\\u003ePages: 11\",\"My Community Archives\\u003cbr\\u003eURL: https:\\u002f\\u002fmycommunity.wikibase.cloud\\u003cbr\\u003eHost: Wikibase Cloud\\u003cbr\\u003eVersion: 1.39.7\\u003cbr\\u003eStart Date: 2023-08-14 00:00:00+00:00\\u003cbr\\u003eActive Users: 1\\u003cbr\\u003eUsers: 3\\u003cbr\\u003eProperties: 26\\u003cbr\\u003eEdits: 3313\\u003cbr\\u003ePages: 1018\",\"NAF Test\\u003cbr\\u003eURL: https:\\u002f\\u002fnaf-test.wikibase.cloud\\u003cbr\\u003eHost: Wikibase Cloud\\u003cbr\\u003eVersion: 1.39.7\\u003cbr\\u003eStart Date: 2023-01-10 00:00:00+00:00\\u003cbr\\u003eActive Users: 0\\u003cbr\\u003eUsers: 19\\u003cbr\\u003eProperties: 3035\\u003cbr\\u003eEdits: 3986\\u003cbr\\u003ePages: 3195\",\"Bradford Collections Test\\u003cbr\\u003eURL: https:\\u002f\\u002fbradford-collections-test.wikibase.cloud\\u003cbr\\u003eHost: Wikibase Cloud\\u003cbr\\u003eVersion: 1.39.7\\u003cbr\\u003eStart Date: 2024-07-09 00:00:00+00:00\\u003cbr\\u003eActive Users: 1\\u003cbr\\u003eUsers: 3\\u003cbr\\u003eProperties: 12\\u003cbr\\u003eEdits: 65\\u003cbr\\u003ePages: 16\",\"TDKIV\\u003cbr\\u003eURL: https:\\u002f\\u002ftdkiv.wikibase.cloud\\u003cbr\\u003eHost: Wikibase Cloud\\u003cbr\\u003eVersion: 1.39.7\\u003cbr\\u003eStart Date: 2024-03-27 00:00:00+00:00\\u003cbr\\u003eActive Users: 1\\u003cbr\\u003eUsers: 4\\u003cbr\\u003eProperties: 28\\u003cbr\\u003eEdits: 80529\\u003cbr\\u003ePages: 4997\",\"Congruence Engine Data Register\\u003cbr\\u003eURL: https:\\u002f\\u002fcongruence-engine.wikibase.cloud\\u003cbr\\u003eHost: Wikibase Cloud\\u003cbr\\u003eVersion: 1.39.7\\u003cbr\\u003eStart Date: 2024-07-30 00:00:00+00:00\\u003cbr\\u003eActive Users: 3\\u003cbr\\u003eUsers: 11\\u003cbr\\u003eProperties: 10\\u003cbr\\u003eEdits: 317\\u003cbr\\u003ePages: 39\",\"LibMovIt Project\\u003cbr\\u003eURL: https:\\u002f\\u002flibmovit.wikibase.cloud\\u003cbr\\u003eHost: Wikibase Cloud\\u003cbr\\u003eVersion: 1.39.7\\u003cbr\\u003eStart Date: 2024-01-22 00:00:00+00:00\\u003cbr\\u003eActive Users: 2\\u003cbr\\u003eUsers: 43\\u003cbr\\u003eProperties: 75\\u003cbr\\u003eEdits: 26305\\u003cbr\\u003ePages: 2151\",\"Whakapapa Test\\u003cbr\\u003eURL: https:\\u002f\\u002fwhakapapa.wikibase.cloud\\u003cbr\\u003eHost: Wikibase Cloud\\u003cbr\\u003eVersion: 1.39.7\\u003cbr\\u003eStart Date: 2023-08-07 00:00:00+00:00\\u003cbr\\u003eActive Users: 0\\u003cbr\\u003eUsers: 2\\u003cbr\\u003eProperties: 4\\u003cbr\\u003eEdits: 17\\u003cbr\\u003ePages: 7\",\"testing\\u003cbr\\u003eURL: https:\\u002f\\u002ftestingwiki.wikibase.cloud\\u003cbr\\u003eHost: Wikibase Cloud\\u003cbr\\u003eVersion: 1.39.7\\u003cbr\\u003eStart Date: 2024-02-20 00:00:00+00:00\\u003cbr\\u003eActive Users: 1\\u003cbr\\u003eUsers: 4\\u003cbr\\u003eProperties: 25\\u003cbr\\u003eEdits: 230\\u003cbr\\u003ePages: 54\",\"OHOS Community Wikibase\\u003cbr\\u003eURL: https:\\u002f\\u002fohos-community.wikibase.cloud\\u003cbr\\u003eHost: Wikibase Cloud\\u003cbr\\u003eVersion: 1.39.7\\u003cbr\\u003eStart Date: 2023-12-11 00:00:00+00:00\\u003cbr\\u003eActive Users: 1\\u003cbr\\u003eUsers: 2\\u003cbr\\u003eProperties: 9\\u003cbr\\u003eEdits: 42238\\u003cbr\\u003ePages: 12623\",\"Protist-Prokaryote Symbiosis Database\\u003cbr\\u003eURL: https:\\u002f\\u002fppsdb.wikibase.cloud\\u003cbr\\u003eHost: Wikibase Cloud\\u003cbr\\u003eVersion: 1.39.7\\u003cbr\\u003eStart Date: 2024-03-15 00:00:00+00:00\\u003cbr\\u003eActive Users: 1\\u003cbr\\u003eUsers: 2\\u003cbr\\u003eProperties: 43\\u003cbr\\u003eEdits: 17520\\u003cbr\\u003ePages: 2432\",\"Tr\\u00e9sor des D\\u00e9lib\\u00e9rations Municipales de la Lorraine\\u003cbr\\u003eURL: https:\\u002f\\u002ftredemulor.wikibase.cloud\\u003cbr\\u003eHost: Wikibase Cloud\\u003cbr\\u003eVersion: 1.39.7\\u003cbr\\u003eStart Date: 2024-05-17 00:00:00+00:00\\u003cbr\\u003eActive Users: 0\\u003cbr\\u003eUsers: 2\\u003cbr\\u003eProperties: 15\\u003cbr\\u003eEdits: 173\\u003cbr\\u003ePages: 57\",\"Mackenzie Wikibase Test\\u003cbr\\u003eURL: https:\\u002f\\u002ftest-mackenzie-dev.wikibase.cloud\\u003cbr\\u003eHost: Wikibase Cloud\\u003cbr\\u003eVersion: 1.39.7\\u003cbr\\u003eStart Date: 2023-11-06 00:00:00+00:00\\u003cbr\\u003eActive Users: 0\\u003cbr\\u003eUsers: 3\\u003cbr\\u003eProperties: 49\\u003cbr\\u003eEdits: 256\\u003cbr\\u003ePages: 78\",\"Berkeley Law IR\\u003cbr\\u003eURL: https:\\u002f\\u002fberkeleylawir.wikibase.cloud\\u003cbr\\u003eHost: Wikibase Cloud\\u003cbr\\u003eVersion: 1.39.7\\u003cbr\\u003eStart Date: 2023-12-22 00:00:00+00:00\\u003cbr\\u003eActive Users: 0\\u003cbr\\u003eUsers: 2\\u003cbr\\u003eProperties: 31\\u003cbr\\u003eEdits: 224\\u003cbr\\u003ePages: 79\",\"Kurd\\u00ee Wikibase\\u003cbr\\u003eURL: https:\\u002f\\u002fkurdi.wikibase.cloud\\u002f\\u003cbr\\u003eHost: Wikibase Cloud\\u003cbr\\u003eVersion: 1.39.7\\u003cbr\\u003eStart Date: 2023-01-09 00:00:00+00:00\\u003cbr\\u003eActive Users: 1\\u003cbr\\u003eUsers: 4\\u003cbr\\u003eProperties: 17\\u003cbr\\u003eEdits: 26046\\u003cbr\\u003ePages: 21069\",\"CNB works\\u003cbr\\u003eURL: https:\\u002f\\u002fcnb-works.wikibase.cloud\\u003cbr\\u003eHost: Wikibase Cloud\\u003cbr\\u003eVersion: 1.39.7\\u003cbr\\u003eStart Date: 2023-02-06 00:00:00+00:00\\u003cbr\\u003eActive Users: 1\\u003cbr\\u003eUsers: 3\\u003cbr\\u003eProperties: 31\\u003cbr\\u003eEdits: 110\\u003cbr\\u003ePages: 34\",\"CODECS Wikibase\\u003cbr\\u003eURL: https:\\u002f\\u002fcodecs.wikibase.cloud\\u003cbr\\u003eHost: Wikibase Cloud\\u003cbr\\u003eVersion: 1.39.7\\u003cbr\\u003eStart Date: 2024-07-06 00:00:00+00:00\\u003cbr\\u003eActive Users: 1\\u003cbr\\u003eUsers: 3\\u003cbr\\u003eProperties: 101\\u003cbr\\u003eEdits: 9835\\u003cbr\\u003ePages: 5159\",\"The Italian Underground press knowledge base\\u003cbr\\u003eURL: https:\\u002f\\u002fitunderpress.wikibase.cloud\\u003cbr\\u003eHost: Wikibase Cloud\\u003cbr\\u003eVersion: 1.39.7\\u003cbr\\u003eStart Date: 2022-09-07 00:00:00+00:00\\u003cbr\\u003eActive Users: 1\\u003cbr\\u003eUsers: 3\\u003cbr\\u003eProperties: 23\\u003cbr\\u003eEdits: 250\\u003cbr\\u003ePages: 69\",\"UniDive WG2-T2.2\\u003cbr\\u003eURL: https:\\u002f\\u002funidive.wikibase.cloud\\u003cbr\\u003eHost: Wikibase Cloud\\u003cbr\\u003eVersion: 1.39.7\\u003cbr\\u003eStart Date: 2024-07-03 00:00:00+00:00\\u003cbr\\u003eActive Users: 1\\u003cbr\\u003eUsers: 3\\u003cbr\\u003eProperties: 9\\u003cbr\\u003eEdits: 8778\\u003cbr\\u003ePages: 4390\",\"Enlightened Medialities\\u003cbr\\u003eURL: https:\\u002f\\u002fenlightenedmedialities.wikibase.cloud\\u003cbr\\u003eHost: Wikibase Cloud\\u003cbr\\u003eVersion: 1.39.7\\u003cbr\\u003eStart Date: 2020-05-19 00:00:00+00:00\\u003cbr\\u003eActive Users: 1\\u003cbr\\u003eUsers: 5\\u003cbr\\u003eProperties: 66\\u003cbr\\u003eEdits: 80184\\u003cbr\\u003ePages: 2881\",\"MAD Landscape Collective\\u003cbr\\u003eURL: https:\\u002f\\u002fmad-landscape-collective.wikibase.cloud\\u003cbr\\u003eHost: Wikibase Cloud\\u003cbr\\u003eVersion: 1.39.7\\u003cbr\\u003eStart Date: 2024-06-21 00:00:00+00:00\\u003cbr\\u003eActive Users: 0\\u003cbr\\u003eUsers: 2\\u003cbr\\u003eProperties: 5\\u003cbr\\u003eEdits: 16\\u003cbr\\u003ePages: 6\",\"importer\\u003cbr\\u003eURL: https:\\u002f\\u002fimporter.wikibase.cloud\\u003cbr\\u003eHost: Wikibase Cloud\\u003cbr\\u003eVersion: 1.39.7\\u003cbr\\u003eStart Date: 2023-03-07 00:00:00+00:00\\u003cbr\\u003eActive Users: 0\\u003cbr\\u003eUsers: 4\\u003cbr\\u003eProperties: 693\\u003cbr\\u003eEdits: 2499\\u003cbr\\u003ePages: 2342\",\"Hyperstage\\u003cbr\\u003eURL: https:\\u002f\\u002fhyperstage.wikibase.cloud\\u003cbr\\u003eHost: Wikibase Cloud\\u003cbr\\u003eVersion: 1.39.7\\u003cbr\\u003eStart Date: 2023-11-24 00:00:00+00:00\\u003cbr\\u003eActive Users: 3\\u003cbr\\u003eUsers: 6\\u003cbr\\u003eProperties: 110\\u003cbr\\u003eEdits: 10946\\u003cbr\\u003ePages: 1403\",\"Open Data Kerala Wikibase\\u003cbr\\u003eURL: https:\\u002f\\u002fopendatakerala.wikibase.cloud\\u002f\\u003cbr\\u003eHost: Wikibase Cloud\\u003cbr\\u003eVersion: 1.39.7\\u003cbr\\u003eStart Date: 2023-09-25 00:00:00+00:00\\u003cbr\\u003eActive Users: 1\\u003cbr\\u003eUsers: 4\\u003cbr\\u003eProperties: 35\\u003cbr\\u003eEdits: 46873\\u003cbr\\u003ePages: 23191\",\"Local Food Data\\u003cbr\\u003eURL: https:\\u002f\\u002fwikibase.locavorefoods.info\\u003cbr\\u003eHost: Wikibase Cloud\\u003cbr\\u003eVersion: 1.39.7\\u003cbr\\u003eStart Date: 2023-12-17 00:00:00+00:00\\u003cbr\\u003eActive Users: 0\\u003cbr\\u003eUsers: 3\\u003cbr\\u003eProperties: 42\\u003cbr\\u003eEdits: 100\\u003cbr\\u003ePages: 48\",\"ASCLTestWikibase\\u003cbr\\u003eURL: https:\\u002f\\u002fascltestwikibase.wikibase.cloud\\u003cbr\\u003eHost: Wikibase Cloud\\u003cbr\\u003eVersion: 1.39.7\\u003cbr\\u003eStart Date: 2022-09-09 00:00:00+00:00\\u003cbr\\u003eActive Users: 0\\u003cbr\\u003eUsers: 3\\u003cbr\\u003eProperties: 33\\u003cbr\\u003eEdits: 363\\u003cbr\\u003ePages: 53\",\"Prosop Wiki\\u003cbr\\u003eURL: https:\\u002f\\u002fprosop-wiki.wikibase.cloud\\u003cbr\\u003eHost: Wikibase Cloud\\u003cbr\\u003eVersion: 1.39.7\\u003cbr\\u003eStart Date: 2022-10-13 00:00:00+00:00\\u003cbr\\u003eActive Users: 0\\u003cbr\\u003eUsers: 2\\u003cbr\\u003eProperties: 7\\u003cbr\\u003eEdits: 49\\u003cbr\\u003ePages: 9\",\"Dominio P\\u00fablico\\u003cbr\\u003eURL: https:\\u002f\\u002fdominiopublico.wikibase.cloud\\u003cbr\\u003eHost: Wikibase Cloud\\u003cbr\\u003eVersion: 1.39.7\\u003cbr\\u003eStart Date: 2024-09-26 00:00:00+00:00\\u003cbr\\u003eActive Users: 1\\u003cbr\\u003eUsers: 2\\u003cbr\\u003eProperties: 4\\u003cbr\\u003eEdits: 140\\u003cbr\\u003ePages: 45\",\"Fuzzy Spatial Locations\\u003cbr\\u003eURL: https:\\u002f\\u002ffuzzy-sl.wikibase.cloud\\u003cbr\\u003eHost: Wikibase Cloud\\u003cbr\\u003eVersion: 1.39.7\\u003cbr\\u003eStart Date: 2023-07-27 00:00:00+00:00\\u003cbr\\u003eActive Users: 1\\u003cbr\\u003eUsers: 2\\u003cbr\\u003eProperties: 34\\u003cbr\\u003eEdits: 677\\u003cbr\\u003ePages: 157\",\"WikiFashion\\u003cbr\\u003eURL: https:\\u002f\\u002ffashionwiki.wikibase.cloud\\u003cbr\\u003eHost: Wikibase Cloud\\u003cbr\\u003eVersion: 1.39.7\\u003cbr\\u003eStart Date: 2024-11-04 00:00:00+00:00\\u003cbr\\u003eActive Users: 2\\u003cbr\\u003eUsers: 2\\u003cbr\\u003eProperties: 30\\u003cbr\\u003eEdits: 79819\\u003cbr\\u003ePages: 5041\",\"NFDI4Objects Task Area 4 Dev-Instance\\u003cbr\\u003eURL: https:\\u002f\\u002fn4o-ta4-dev.wikibase.cloud\\u003cbr\\u003eHost: Wikibase Cloud\\u003cbr\\u003eVersion: 1.39.7\\u003cbr\\u003eStart Date: 2024-04-17 00:00:00+00:00\\u003cbr\\u003eActive Users: 1\\u003cbr\\u003eUsers: 3\\u003cbr\\u003eProperties: 28\\u003cbr\\u003eEdits: 119\\u003cbr\\u003ePages: 53\",\"tp-lod\\u003cbr\\u003eURL: https:\\u002f\\u002ftp-lod.wikibase.cloud\\u003cbr\\u003eHost: Wikibase Cloud\\u003cbr\\u003eVersion: 1.39.7\\u003cbr\\u003eStart Date: 2024-10-17 00:00:00+00:00\\u003cbr\\u003eActive Users: 2\\u003cbr\\u003eUsers: 4\\u003cbr\\u003eProperties: 142\\u003cbr\\u003eEdits: 267\\u003cbr\\u003ePages: 255\",\"CZECHFRAME\\u003cbr\\u003eURL: https:\\u002f\\u002fczechframe.wikibase.cloud\\u003cbr\\u003eHost: Wikibase Cloud\\u003cbr\\u003eVersion: 1.39.7\\u003cbr\\u003eStart Date: 2024-10-09 00:00:00+00:00\\u003cbr\\u003eActive Users: 4\\u003cbr\\u003eUsers: 18\\u003cbr\\u003eProperties: 46\\u003cbr\\u003eEdits: 952\\u003cbr\\u003ePages: 149\",\"Zero Waste Cities\\u003cbr\\u003eURL: https:\\u002f\\u002fzerowastecities.wikibase.cloud\\u003cbr\\u003eHost: Wikibase Cloud\\u003cbr\\u003eVersion: 1.39.7\\u003cbr\\u003eStart Date: 2021-11-08 00:00:00+00:00\\u003cbr\\u003eActive Users: 1\\u003cbr\\u003eUsers: 4\\u003cbr\\u003eProperties: 98\\u003cbr\\u003eEdits: 6926\\u003cbr\\u003ePages: 1731\",\"Chinese Educated Abroad\\u003cbr\\u003eURL: https:\\u002f\\u002fmobility.wikibase.cloud\\u003cbr\\u003eHost: Wikibase Cloud\\u003cbr\\u003eVersion: 1.39.7\\u003cbr\\u003eStart Date: 2024-12-01 00:00:00+00:00\\u003cbr\\u003eActive Users: 2\\u003cbr\\u003eUsers: 2\\u003cbr\\u003eProperties: 28\\u003cbr\\u003eEdits: 218\\u003cbr\\u003ePages: 70\",\"EH izendegi\\u003cbr\\u003eURL: https:\\u002f\\u002fizendegi.wikibase.cloud\\u003cbr\\u003eHost: Wikibase Cloud\\u003cbr\\u003eVersion: 1.39.7\\u003cbr\\u003eStart Date: 2024-11-24 00:00:00+00:00\\u003cbr\\u003eActive Users: 2\\u003cbr\\u003eUsers: 2\\u003cbr\\u003eProperties: 13\\u003cbr\\u003eEdits: 2017\\u003cbr\\u003ePages: 1109\",\"CEUR-dev\\u003cbr\\u003eURL: https:\\u002f\\u002fceur-dev.wikibase.cloud\\u003cbr\\u003eHost: Wikibase Cloud\\u003cbr\\u003eVersion: 1.39.7\\u003cbr\\u003eStart Date: 2024-12-05 00:00:00+00:00\\u003cbr\\u003eActive Users: 2\\u003cbr\\u003eUsers: 2\\u003cbr\\u003eProperties: 88\\u003cbr\\u003eEdits: 14366\\u003cbr\\u003ePages: 10386\",\"WikibaseMigrationTest\\u003cbr\\u003eURL: https:\\u002f\\u002fwbmigration-test.wikibase.cloud\\u003cbr\\u003eHost: Wikibase Cloud\\u003cbr\\u003eVersion: 1.39.7\\u003cbr\\u003eStart Date: 2024-11-10 00:00:00+00:00\\u003cbr\\u003eActive Users: 3\\u003cbr\\u003eUsers: 3\\u003cbr\\u003eProperties: 293\\u003cbr\\u003eEdits: 1602\\u003cbr\\u003ePages: 1223\",\"Wikibase Implementation of Records in Contexts\\u003cbr\\u003eURL: https:\\u002f\\u002frecordsincontexts.wikibase.cloud\\u003cbr\\u003eHost: Wikibase Cloud\\u003cbr\\u003eVersion: 1.39.7\\u003cbr\\u003eStart Date: 2024-09-07 00:00:00+00:00\\u003cbr\\u003eActive Users: 1\\u003cbr\\u003eUsers: 3\\u003cbr\\u003eProperties: 202\\u003cbr\\u003eEdits: 14870\\u003cbr\\u003ePages: 1378\",\"Training_IWIPALE\\u003cbr\\u003eURL: https:\\u002f\\u002ftraining-iwipale.wikibase.cloud\\u003cbr\\u003eHost: Wikibase Cloud\\u003cbr\\u003eVersion: 1.39.7\\u003cbr\\u003eStart Date: 2024-11-11 00:00:00+00:00\\u003cbr\\u003eActive Users: 7\\u003cbr\\u003eUsers: 13\\u003cbr\\u003eProperties: 13\\u003cbr\\u003eEdits: 32\\u003cbr\\u003ePages: 23\",\"Multiverses Wiki\\u003cbr\\u003eURL: https:\\u002f\\u002fmultiverses.wikibase.cloud\\u003cbr\\u003eHost: Wikibase Cloud\\u003cbr\\u003eVersion: 1.39.7\\u003cbr\\u003eStart Date: 2024-12-15 00:00:00+00:00\\u003cbr\\u003eActive Users: 2\\u003cbr\\u003eUsers: 2\\u003cbr\\u003eProperties: 42\\u003cbr\\u003eEdits: 1229\\u003cbr\\u003ePages: 376\",\"lhenguabase\\u003cbr\\u003eURL: https:\\u002f\\u002flhenguabase.wikibase.cloud\\u003cbr\\u003eHost: Wikibase Cloud\\u003cbr\\u003eVersion: 1.39.7\\u003cbr\\u003eStart Date: 2024-12-10 00:00:00+00:00\\u003cbr\\u003eActive Users: 4\\u003cbr\\u003eUsers: 20\\u003cbr\\u003eProperties: 19\\u003cbr\\u003eEdits: 1942\\u003cbr\\u003ePages: 1609\",\"CLS Infra Character Model\\u003cbr\\u003eURL: https:\\u002f\\u002fcls-infra-character-model.wikibase.cloud\\u003cbr\\u003eHost: Wikibase Cloud\\u003cbr\\u003eVersion: 1.39.7\\u003cbr\\u003eStart Date: 2024-11-14 00:00:00+00:00\\u003cbr\\u003eActive Users: 2\\u003cbr\\u003eUsers: 2\\u003cbr\\u003eProperties: 5\\u003cbr\\u003eEdits: 194\\u003cbr\\u003ePages: 39\",\"Conlang Base\\u003cbr\\u003eURL: https:\\u002f\\u002fconlang.wikibase.cloud\\u003cbr\\u003eHost: Wikibase Cloud\\u003cbr\\u003eVersion: 1.39.7\\u003cbr\\u003eStart Date: 2024-12-31 00:00:00+00:00\\u003cbr\\u003eActive Users: 2\\u003cbr\\u003eUsers: 2\\u003cbr\\u003eProperties: 12\\u003cbr\\u003eEdits: 49\\u003cbr\\u003ePages: 17\",\"Vrienden Fort Breendonk\\u003cbr\\u003eURL: https:\\u002f\\u002ffortbreendonk.wikibase.cloud\\u003cbr\\u003eHost: Wikibase Cloud\\u003cbr\\u003eVersion: 1.39.7\\u003cbr\\u003eStart Date: 2025-01-06 00:00:00+00:00\\u003cbr\\u003eActive Users: 2\\u003cbr\\u003eUsers: 2\\u003cbr\\u003eProperties: 24\\u003cbr\\u003eEdits: 44674\\u003cbr\\u003ePages: 4517\",\"Ugly Architecture\\u003cbr\\u003eURL: https:\\u002f\\u002fuglyarchitecture.wikibase.cloud\\u003cbr\\u003eHost: Wikibase Cloud\\u003cbr\\u003eVersion: 1.39.7\\u003cbr\\u003eStart Date: 2024-02-05 00:00:00+00:00\\u003cbr\\u003eActive Users: 0\\u003cbr\\u003eUsers: 2\\u003cbr\\u003eProperties: 29\\u003cbr\\u003eEdits: 544\\u003cbr\\u003ePages: 71\",\"Geolocations\\u003cbr\\u003eURL: https:\\u002f\\u002flocations.wikibase.cloud\\u003cbr\\u003eHost: Wikibase Cloud\\u003cbr\\u003eVersion: 1.39.7\\u003cbr\\u003eStart Date: 2024-06-13 00:00:00+00:00\\u003cbr\\u003eActive Users: 0\\u003cbr\\u003eUsers: 2\\u003cbr\\u003eProperties: 11\\u003cbr\\u003eEdits: 141\\u003cbr\\u003ePages: 28\",\"Wikibase World\\u003cbr\\u003eURL: https:\\u002f\\u002fwikibase.world\\u003cbr\\u003eHost: Wikibase Cloud\\u003cbr\\u003eVersion: 1.39.7\\u003cbr\\u003eStart Date: 2023-06-05 00:00:00+00:00\\u003cbr\\u003eActive Users: 1\\u003cbr\\u003eUsers: 561\\u003cbr\\u003eProperties: 57\\u003cbr\\u003eEdits: 18354\\u003cbr\\u003ePages: 1200\",\"MNDb\\u003cbr\\u003eURL: https:\\u002f\\u002fmndb.lophocmatngu.wiki\\u003cbr\\u003eHost: Wikibase Cloud\\u003cbr\\u003eVersion: 1.39.7\\u003cbr\\u003eStart Date: 2023-12-15 00:00:00+00:00\\u003cbr\\u003eActive Users: 0\\u003cbr\\u003eUsers: 2\\u003cbr\\u003eProperties: 14\\u003cbr\\u003eEdits: 118\\u003cbr\\u003ePages: 46\",\"abcDNK.hr\\u003cbr\\u003eURL: https:\\u002f\\u002fabcdnk.wikibase.cloud\\u003cbr\\u003eHost: Wikibase Cloud\\u003cbr\\u003eVersion: 1.39.7\\u003cbr\\u003eStart Date: 2023-05-30 00:00:00+00:00\\u003cbr\\u003eActive Users: 1\\u003cbr\\u003eUsers: 5\\u003cbr\\u003eProperties: 85\\u003cbr\\u003eEdits: 1490\\u003cbr\\u003ePages: 391\",\"Beyond Notability: Re-evaluating Women's Work in Archaeology, History and Heritage, 1870 \\u2013 1950\\u003cbr\\u003eURL: https:\\u002f\\u002fbeyond-notability.wikibase.cloud\\u003cbr\\u003eHost: Wikibase Cloud\\u003cbr\\u003eVersion: 1.39.7\\u003cbr\\u003eStart Date: 2021-09-08 00:00:00+00:00\\u003cbr\\u003eActive Users: 2\\u003cbr\\u003eUsers: 17\\u003cbr\\u003eProperties: 160\\u003cbr\\u003eEdits: 69782\\u003cbr\\u003ePages: 4932\",\"Biodiversity\\u003cbr\\u003eURL: https:\\u002f\\u002fbiodiversity.wikibase.cloud\\u003cbr\\u003eHost: Wikibase Cloud\\u003cbr\\u003eVersion: 1.39.7\\u003cbr\\u003eStart Date: 2019-11-26 00:00:00+00:00\\u003cbr\\u003eActive Users: 1\\u003cbr\\u003eUsers: 16\\u003cbr\\u003eProperties: 14\\u003cbr\\u003eEdits: 611772\\u003cbr\\u003ePages: 578984\",\"Virus Taxonomy\\u003cbr\\u003eURL: https:\\u002f\\u002fvirus-taxonomy.wikibase.cloud\\u003cbr\\u003eHost: Wikibase Cloud\\u003cbr\\u003eVersion: 1.39.7\\u003cbr\\u003eStart Date: 2020-04-06 00:00:00+00:00\\u003cbr\\u003eActive Users: 0\\u003cbr\\u003eUsers: 8\\u003cbr\\u003eProperties: 10\\u003cbr\\u003eEdits: 20396\\u003cbr\\u003ePages: 6940\",\"Enslaved People Of Arlington, Virginia\\u003cbr\\u003eURL: https:\\u002f\\u002fenslaved-arlington.wikibase.cloud\\u003cbr\\u003eHost: Wikibase Cloud\\u003cbr\\u003eVersion: 1.39.7\\u003cbr\\u003eStart Date: 2023-09-13 00:00:00+00:00\\u003cbr\\u003eActive Users: 0\\u003cbr\\u003eUsers: 2\\u003cbr\\u003eProperties: 22\\u003cbr\\u003eEdits: 71\\u003cbr\\u003ePages: 32\",\"Maths-22\\u003cbr\\u003eURL: https:\\u002f\\u002fmaths-22.wikibase.cloud\\u003cbr\\u003eHost: Wikibase Cloud\\u003cbr\\u003eVersion: 1.39.7\\u003cbr\\u003eStart Date: 2022-11-17 00:00:00+00:00\\u003cbr\\u003eActive Users: 0\\u003cbr\\u003eUsers: 3\\u003cbr\\u003eProperties: 40\\u003cbr\\u003eEdits: 238\\u003cbr\\u003ePages: 99\",\"WikiFur Data\\u003cbr\\u003eURL: https:\\u002f\\u002ffurry.wikibase.cloud\\u003cbr\\u003eHost: Wikibase Cloud\\u003cbr\\u003eVersion: 1.39.7\\u003cbr\\u003eStart Date: 2021-03-23 00:00:00+00:00\\u003cbr\\u003eActive Users: 1\\u003cbr\\u003eUsers: 4715\\u003cbr\\u003eProperties: 21\\u003cbr\\u003eEdits: 1728\\u003cbr\\u003ePages: 67\",\"Addshore Alpha\\u003cbr\\u003eURL: https:\\u002f\\u002faddshore-alpha.wikibase.cloud\\u003cbr\\u003eHost: Wikibase Cloud\\u003cbr\\u003eVersion: 1.39.7\\u003cbr\\u003eStart Date: 2019-10-28 00:00:00+00:00\\u003cbr\\u003eActive Users: 0\\u003cbr\\u003eUsers: 17\\u003cbr\\u003eProperties: 17\\u003cbr\\u003eEdits: 510\\u003cbr\\u003ePages: 108\",\"Doelgericht Digitaal Transformeren\\u003cbr\\u003eURL: https:\\u002f\\u002fosloddt.wikibase.cloud\\u003cbr\\u003eHost: Wikibase Cloud\\u003cbr\\u003eVersion: 1.39.7\\u003cbr\\u003eStart Date: 2022-03-08 00:00:00+00:00\\u003cbr\\u003eActive Users: 0\\u003cbr\\u003eUsers: 5\\u003cbr\\u003eProperties: 57\\u003cbr\\u003eEdits: 10876042\\u003cbr\\u003ePages: 880923\",\"Geoscience Knowledgebase\\u003cbr\\u003eURL: https:\\u002f\\u002fgeokb.wikibase.cloud\\u002f\\u003cbr\\u003eHost: Wikibase Cloud\\u003cbr\\u003eVersion: 1.39.7\\u003cbr\\u003eStart Date: 2023-02-27 00:00:00+00:00\\u003cbr\\u003eActive Users: 1\\u003cbr\\u003eUsers: 8\\u003cbr\\u003eProperties: 202\\u003cbr\\u003eEdits: 1463224\\u003cbr\\u003ePages: 454249\",\"Dancing Digital\\u003cbr\\u003eURL: https:\\u002f\\u002fdancing-digital.wikibase.cloud\\u003cbr\\u003eHost: Wikibase Cloud\\u003cbr\\u003eVersion: 1.39.7\\u003cbr\\u003eStart Date: 2022-09-06 00:00:00+00:00\\u003cbr\\u003eActive Users: 0\\u003cbr\\u003eUsers: 4\\u003cbr\\u003eProperties: 140\\u003cbr\\u003eEdits: 439323\\u003cbr\\u003ePages: 60082\",\"Lord Chamberlain's Plays Index\\u003cbr\\u003eURL: https:\\u002f\\u002flcpindex.wikibase.cloud\\u002f\\u003cbr\\u003eHost: Wikibase Cloud\\u003cbr\\u003eVersion: 1.39.7\\u003cbr\\u003eStart Date: 2022-09-07 00:00:00+00:00\\u003cbr\\u003eActive Users: 0\\u003cbr\\u003eUsers: 6\\u003cbr\\u003eProperties: 12\\u003cbr\\u003eEdits: 40568\\u003cbr\\u003ePages: 39390\",\"SHARE Catalogue mapping knowledge base\\u003cbr\\u003eURL: https:\\u002f\\u002funimarc2bibframe.wikibase.cloud\\u002f\\u003cbr\\u003eHost: Wikibase Cloud\\u003cbr\\u003eVersion: 1.39.7\\u003cbr\\u003eStart Date: 2023-11-08 00:00:00+00:00\\u003cbr\\u003eActive Users: 2\\u003cbr\\u003eUsers: 9\\u003cbr\\u003eProperties: 14\\u003cbr\\u003eEdits: 18032\\u003cbr\\u003ePages: 2826\",\"LostDiscs\\u003cbr\\u003eURL: https:\\u002f\\u002flostdiscs.wikibase.cloud\\u002f\\u003cbr\\u003eHost: Wikibase Cloud\\u003cbr\\u003eVersion: 1.39.7\\u003cbr\\u003eStart Date: 2024-09-14 00:00:00+00:00\\u003cbr\\u003eActive Users: 0\\u003cbr\\u003eUsers: 2\\u003cbr\\u003eProperties: 8\\u003cbr\\u003eEdits: 443\\u003cbr\\u003ePages: 117\",\"FrameNet Akkadian 267\\u003cbr\\u003eURL: https:\\u002f\\u002fframenet-akkadian267.wikibase.cloud\\u003cbr\\u003eHost: Wikibase Cloud\\u003cbr\\u003eVersion: 1.39.7\\u003cbr\\u003eStart Date: 2024-05-14 00:00:00+00:00\\u003cbr\\u003eActive Users: 2\\u003cbr\\u003eUsers: 2\\u003cbr\\u003eProperties: 41\\u003cbr\\u003eEdits: 140026\\u003cbr\\u003ePages: 104347\",\"pbsandbox\\u003cbr\\u003eURL: https:\\u002f\\u002fpbsandbox.wikibase.cloud\\u003cbr\\u003eHost: Wikibase Cloud\\u003cbr\\u003eVersion: 1.39.7\\u003cbr\\u003eStart Date: 2022-09-08 00:00:00+00:00\\u003cbr\\u003eActive Users: 0\\u003cbr\\u003eUsers: 10\\u003cbr\\u003eProperties: 795\\u003cbr\\u003eEdits: 26132\\u003cbr\\u003ePages: 25992\",\"Podiumdocumentatie Vlaams Theaterinstituut\\u003cbr\\u003eURL: https:\\u002f\\u002fvlaamstheaterinstituut.wikibase.cloud\\u003cbr\\u003eHost: Wikibase Cloud\\u003cbr\\u003eVersion: 1.39.7\\u003cbr\\u003eStart Date: 2024-05-14 00:00:00+00:00\\u003cbr\\u003eActive Users: 1\\u003cbr\\u003eUsers: 2\\u003cbr\\u003eProperties: 10\\u003cbr\\u003eEdits: 1595435\\u003cbr\\u003ePages: 236659\",\"FrameNet Akkadian 257\\u003cbr\\u003eURL: https:\\u002f\\u002fframenet-akkadian257.wikibase.cloud\\u003cbr\\u003eHost: Wikibase Cloud\\u003cbr\\u003eVersion: 1.39.7\\u003cbr\\u003eStart Date: 2024-03-26 00:00:00+00:00\\u003cbr\\u003eActive Users: 1\\u003cbr\\u003eUsers: 2\\u003cbr\\u003eProperties: 41\\u003cbr\\u003eEdits: 277795\\u003cbr\\u003ePages: 186991\",\"FrameNet Akkadian 298\\u003cbr\\u003eURL: https:\\u002f\\u002fframenet-akkadian298.wikibase.cloud\\u003cbr\\u003eHost: Wikibase Cloud\\u003cbr\\u003eVersion: 1.39.7\\u003cbr\\u003eStart Date: 2024-09-13 00:00:00+00:00\\u003cbr\\u003eActive Users: 1\\u003cbr\\u003eUsers: 5\\u003cbr\\u003eProperties: 64\\u003cbr\\u003eEdits: 58051\\u003cbr\\u003ePages: 24317\",\"Teochew Dictionary\\u003cbr\\u003eURL: https:\\u002f\\u002ftcdict.wikibase.cloud\\u003cbr\\u003eHost: Wikibase Cloud\\u003cbr\\u003eVersion: 1.39.7\\u003cbr\\u003eStart Date: 2024-04-11 00:00:00+00:00\\u003cbr\\u003eActive Users: 1\\u003cbr\\u003eUsers: 2\\u003cbr\\u003eProperties: 23\\u003cbr\\u003eEdits: 135850\\u003cbr\\u003ePages: 24000\",\"FrameNet Akkadian\\u003cbr\\u003eURL: https:\\u002f\\u002fframenet-akkadian.wikibase.cloud\\u003cbr\\u003eHost: Wikibase Cloud\\u003cbr\\u003eVersion: 1.39.7\\u003cbr\\u003eStart Date: 2024-01-06 00:00:00+00:00\\u003cbr\\u003eActive Users: 3\\u003cbr\\u003eUsers: 6\\u003cbr\\u003eProperties: 46\\u003cbr\\u003eEdits: 93613\\u003cbr\\u003ePages: 13198\",\"abcdnkhr-dev\\u003cbr\\u003eURL: https:\\u002f\\u002fabcdnkhr-dev.wikibase.cloud\\u003cbr\\u003eHost: Wikibase Cloud\\u003cbr\\u003eVersion: 1.39.7\\u003cbr\\u003eStart Date: 2024-02-13 00:00:00+00:00\\u003cbr\\u003eActive Users: 0\\u003cbr\\u003eUsers: 2\\u003cbr\\u003eProperties: 85\\u003cbr\\u003eEdits: 25030\\u003cbr\\u003ePages: 12290\",\"abcdnk (on wikibase.cloud)\\u003cbr\\u003eURL: https:\\u002f\\u002fabcdnkhr.wikibase.cloud\\u003cbr\\u003eHost: Wikibase Cloud\\u003cbr\\u003eVersion: 1.39.7\\u003cbr\\u003eStart Date: 2024-02-13 00:00:00+00:00\\u003cbr\\u003eActive Users: 1\\u003cbr\\u003eUsers: 7\\u003cbr\\u003eProperties: 85\\u003cbr\\u003eEdits: 25272\\u003cbr\\u003ePages: 12302\",\"CC-BY Chemical Compounds\\u003cbr\\u003eURL: https:\\u002f\\u002fchemcompounds.wikibase.cloud\\u003cbr\\u003eHost: Wikibase Cloud\\u003cbr\\u003eVersion: 1.39.7\\u003cbr\\u003eStart Date: 2020-01-27 00:00:00+00:00\\u003cbr\\u003eActive Users: 0\\u003cbr\\u003eUsers: 5\\u003cbr\\u003eProperties: 8834\\u003cbr\\u003eEdits: 10256\\u003cbr\\u003ePages: 8834\",\"theses\\u003cbr\\u003eURL: https:\\u002f\\u002ftheses.wikibase.cloud\\u003cbr\\u003eHost: Wikibase Cloud\\u003cbr\\u003eVersion: 1.39.7\\u003cbr\\u003eStart Date: 2023-12-11 00:00:00+00:00\\u003cbr\\u003eActive Users: 0\\u003cbr\\u003eUsers: 4\\u003cbr\\u003eProperties: 6\\u003cbr\\u003eEdits: 32719\\u003cbr\\u003ePages: 8206\",\"TP3-STTCL\\u003cbr\\u003eURL: https:\\u002f\\u002ftp3-sttcl.wikibase.cloud\\u003cbr\\u003eHost: Wikibase Cloud\\u003cbr\\u003eVersion: 1.39.7\\u003cbr\\u003eStart Date: 2024-09-20 00:00:00+00:00\\u003cbr\\u003eActive Users: 1\\u003cbr\\u003eUsers: 4\\u003cbr\\u003eProperties: 24\\u003cbr\\u003eEdits: 21111\\u003cbr\\u003ePages: 8058\",\"dis18\\u003cbr\\u003eURL: https:\\u002f\\u002fdis18project.wikibase.cloud\\u003cbr\\u003eHost: Wikibase Cloud\\u003cbr\\u003eVersion: 1.39.7\\u003cbr\\u003eStart Date: 2024-06-08 00:00:00+00:00\\u003cbr\\u003eActive Users: 0\\u003cbr\\u003eUsers: 2\\u003cbr\\u003eProperties: 17\\u003cbr\\u003eEdits: 9325\\u003cbr\\u003ePages: 7483\",\"\\u1019\\u103c\\u1014\\u103a\\u1019\\u102c\\u104c\\u1029\\u1005\\u1010\\u103c\\u1031\\u1038\\u101c\\u103b\\u003cbr\\u003eURL: https:\\u002f\\u002fmranma-ocatrelya.wikibase.cloud\\u003cbr\\u003eHost: Wikibase Cloud\\u003cbr\\u003eVersion: 1.39.7\\u003cbr\\u003eStart Date: 2024-05-31 00:00:00+00:00\\u003cbr\\u003eActive Users: 0\\u003cbr\\u003eUsers: 2\\u003cbr\\u003eProperties: 6460\\u003cbr\\u003eEdits: 13146\\u003cbr\\u003ePages: 6547\",\"DigCav\\u003cbr\\u003eURL: https:\\u002f\\u002fdigcav.wikibase.cloud\\u003cbr\\u003eHost: Wikibase Cloud\\u003cbr\\u003eVersion: 1.39.7\\u003cbr\\u003eStart Date: 2021-01-17 00:00:00+00:00\\u003cbr\\u003eActive Users: 0\\u003cbr\\u003eUsers: 3\\u003cbr\\u003eProperties: 9\\u003cbr\\u003eEdits: 23011\\u003cbr\\u003ePages: 5811\",\"Username1Password\\u003cbr\\u003eURL: https:\\u002f\\u002fusername1password.wikibase.cloud\\u003cbr\\u003eHost: Wikibase Cloud\\u003cbr\\u003eVersion: 1.39.7\\u003cbr\\u003eStart Date: 2024-05-30 00:00:00+00:00\\u003cbr\\u003eActive Users: 0\\u003cbr\\u003eUsers: 2\\u003cbr\\u003eProperties: 42\\u003cbr\\u003eEdits: 5062\\u003cbr\\u003ePages: 5044\",\"Chemical Compounds of Interest\\u003cbr\\u003eURL: https:\\u002f\\u002fcompoundcloud.wikibase.cloud\\u003cbr\\u003eHost: Wikibase Cloud\\u003cbr\\u003eVersion: 1.39.7\\u003cbr\\u003eStart Date: 2022-11-05 00:00:00+00:00\\u003cbr\\u003eActive Users: 1\\u003cbr\\u003eUsers: 4\\u003cbr\\u003eProperties: 38\\u003cbr\\u003eEdits: 6056\\u003cbr\\u003ePages: 5001\",\"Nouns Dev\\u003cbr\\u003eURL: https:\\u002f\\u002fnounsdev.wikibase.cloud\\u003cbr\\u003eHost: Wikibase Cloud\\u003cbr\\u003eVersion: 1.39.7\\u003cbr\\u003eStart Date: 2023-05-08 00:00:00+00:00\\u003cbr\\u003eActive Users: 0\\u003cbr\\u003eUsers: 3\\u003cbr\\u003eProperties: 51\\u003cbr\\u003eEdits: 12488\\u003cbr\\u003ePages: 4521\",\"Shira\\u003cbr\\u003eURL: https:\\u002f\\u002fshira.wikibase.cloud\\u003cbr\\u003eHost: Wikibase Cloud\\u003cbr\\u003eVersion: 1.39.7\\u003cbr\\u003eStart Date: 2024-03-11 00:00:00+00:00\\u003cbr\\u003eActive Users: 0\\u003cbr\\u003eUsers: 2\\u003cbr\\u003eProperties: 134\\u003cbr\\u003eEdits: 8105\\u003cbr\\u003ePages: 3340\",\"Akkadian Project 2\\u003cbr\\u003eURL: https:\\u002f\\u002fakkadianproject2.wikibase.cloud\\u003cbr\\u003eHost: Wikibase Cloud\\u003cbr\\u003eVersion: 1.39.7\\u003cbr\\u003eStart Date: 2024-04-03 00:00:00+00:00\\u003cbr\\u003eActive Users: 0\\u003cbr\\u003eUsers: 2\\u003cbr\\u003eProperties: 41\\u003cbr\\u003eEdits: 14720\\u003cbr\\u003ePages: 3017\",\"Bible Name Wiki\\u003cbr\\u003eURL: https:\\u002f\\u002fbiblenamewiki.wikibase.cloud\\u003cbr\\u003eHost: Wikibase Cloud\\u003cbr\\u003eVersion: 1.39.7\\u003cbr\\u003eStart Date: 2022-09-05 00:00:00+00:00\\u003cbr\\u003eActive Users: 1\\u003cbr\\u003eUsers: 3\\u003cbr\\u003eProperties: 10\\u003cbr\\u003eEdits: 8093\\u003cbr\\u003ePages: 2946\",\"rematriation\\u003cbr\\u003eURL: https:\\u002f\\u002frematriation.wikibase.cloud\\u003cbr\\u003eHost: Wikibase Cloud\\u003cbr\\u003eVersion: 1.39.7\\u003cbr\\u003eStart Date: 2024-02-23 00:00:00+00:00\\u003cbr\\u003eActive Users: 1\\u003cbr\\u003eUsers: 5\\u003cbr\\u003eProperties: 31\\u003cbr\\u003eEdits: 13688\\u003cbr\\u003ePages: 2622\",\"Test\\u003cbr\\u003eURL: https:\\u002f\\u002fmetadata-test2023-rbx.wikibase.cloud\\u003cbr\\u003eHost: Wikibase Cloud\\u003cbr\\u003eVersion: 1.39.7\\u003cbr\\u003eStart Date: 2023-11-06 00:00:00+00:00\\u003cbr\\u003eActive Users: 0\\u003cbr\\u003eUsers: 5\\u003cbr\\u003eProperties: 14\\u003cbr\\u003eEdits: 2612\\u003cbr\\u003ePages: 2536\",\"Weinetiketten der Mosel\\u003cbr\\u003eURL: https:\\u002f\\u002fmosel.wikibase.cloud\\u003cbr\\u003eHost: Wikibase Cloud\\u003cbr\\u003eVersion: 1.39.7\\u003cbr\\u003eStart Date: 2024-08-28 00:00:00+00:00\\u003cbr\\u003eActive Users: 1\\u003cbr\\u003eUsers: 2\\u003cbr\\u003eProperties: 78\\u003cbr\\u003eEdits: 12080\\u003cbr\\u003ePages: 2561\",\"Meise Botanic Garden\\u003cbr\\u003eURL: https:\\u002f\\u002fmeise-bg.wikibase.cloud\\u003cbr\\u003eHost: Wikibase Cloud\\u003cbr\\u003eVersion: 1.39.7\\u003cbr\\u003eStart Date: 2020-02-13 00:00:00+00:00\\u003cbr\\u003eActive Users: 0\\u003cbr\\u003eUsers: 3\\u003cbr\\u003eProperties: 29\\u003cbr\\u003eEdits: 1999\\u003cbr\\u003ePages: 1999\",\"testing\\u003cbr\\u003eURL: https:\\u002f\\u002ftesting.wikibase.cloud\\u003cbr\\u003eHost: Wikibase Cloud\\u003cbr\\u003eVersion: 1.39.7\\u003cbr\\u003eStart Date: 2020-03-02 00:00:00+00:00\\u003cbr\\u003eActive Users: 0\\u003cbr\\u003eUsers: 4\\u003cbr\\u003eProperties: 18\\u003cbr\\u003eEdits: 1555\\u003cbr\\u003ePages: 1544\",\"AlpesTransportTest\\u003cbr\\u003eURL: https:\\u002f\\u002falpes-transport-sandbox.wikibase.cloud\\u003cbr\\u003eHost: Wikibase Cloud\\u003cbr\\u003eVersion: 1.39.7\\u003cbr\\u003eStart Date: 2023-02-27 00:00:00+00:00\\u003cbr\\u003eActive Users: 0\\u003cbr\\u003eUsers: 6\\u003cbr\\u003eProperties: 201\\u003cbr\\u003eEdits: 23256\\u003cbr\\u003ePages: 1524\",\"qfeverbase\\u003cbr\\u003eURL: https:\\u002f\\u002fqfeverbase.wikibase.cloud\\u003cbr\\u003eHost: Wikibase Cloud\\u003cbr\\u003eVersion: 1.39.7\\u003cbr\\u003eStart Date: 2024-02-07 00:00:00+00:00\\u003cbr\\u003eActive Users: 1\\u003cbr\\u003eUsers: 5\\u003cbr\\u003eProperties: 17\\u003cbr\\u003eEdits: 1745\\u003cbr\\u003ePages: 1471\",\"dhtest\\u003cbr\\u003eURL: https:\\u002f\\u002fdhtest.wikibase.cloud\\u003cbr\\u003eHost: Wikibase Cloud\\u003cbr\\u003eVersion: 1.39.7\\u003cbr\\u003eStart Date: 2024-06-14 00:00:00+00:00\\u003cbr\\u003eActive Users: 0\\u003cbr\\u003eUsers: 2\\u003cbr\\u003eProperties: 25\\u003cbr\\u003eEdits: 3904\\u003cbr\\u003ePages: 1273\",\"Misi's imaginary friends\\u003cbr\\u003eURL: https:\\u002f\\u002fmisi-imaginary-friends.wikibase.cloud\\u003cbr\\u003eHost: Wikibase Cloud\\u003cbr\\u003eVersion: 1.39.7\\u003cbr\\u003eStart Date: 2024-10-01 00:00:00+00:00\\u003cbr\\u003eActive Users: 0\\u003cbr\\u003eUsers: 4\\u003cbr\\u003eProperties: 7\\u003cbr\\u003eEdits: 1244\\u003cbr\\u003ePages: 1243\",\"Wikidocumentaries sandbox\\u003cbr\\u003eURL: https:\\u002f\\u002fwikidocs.wikibase.cloud\\u003cbr\\u003eHost: Wikibase Cloud\\u003cbr\\u003eVersion: 1.39.7\\u003cbr\\u003eStart Date: 2019-10-27 00:00:00+00:00\\u003cbr\\u003eActive Users: 0\\u003cbr\\u003eUsers: 5\\u003cbr\\u003eProperties: 18\\u003cbr\\u003eEdits: 1736\\u003cbr\\u003ePages: 1053\",\"Judaicadh\\u003cbr\\u003eURL: https:\\u002f\\u002fjudaicadh.wikibase.cloud\\u003cbr\\u003eHost: Wikibase Cloud\\u003cbr\\u003eVersion: 1.39.7\\u003cbr\\u003eStart Date: 2024-01-13 00:00:00+00:00\\u003cbr\\u003eActive Users: 0\\u003cbr\\u003eUsers: 2\\u003cbr\\u003eProperties: 26\\u003cbr\\u003eEdits: 981\\u003cbr\\u003ePages: 955\",\"Open Music Vocabulary\\u003cbr\\u003eURL: https:\\u002f\\u002fmusic.wikibase.cloud\\u003cbr\\u003eHost: Wikibase Cloud\\u003cbr\\u003eVersion: 1.39.7\\u003cbr\\u003eStart Date: 2023-11-23 00:00:00+00:00\\u003cbr\\u003eActive Users: 1\\u003cbr\\u003eUsers: 2\\u003cbr\\u003eProperties: 9\\u003cbr\\u003eEdits: 5394\\u003cbr\\u003ePages: 992\",\"Medieval Mining Texts\\u003cbr\\u003eURL: https:\\u002f\\u002fmining-texts.wikibase.cloud\\u003cbr\\u003eHost: Wikibase Cloud\\u003cbr\\u003eVersion: 1.39.7\\u003cbr\\u003eStart Date: 2023-06-19 00:00:00+00:00\\u003cbr\\u003eActive Users: 0\\u003cbr\\u003eUsers: 2\\u003cbr\\u003eProperties: 8\\u003cbr\\u003eEdits: 1340\\u003cbr\\u003ePages: 905\",\"pbsandbox2\\u003cbr\\u003eURL: https:\\u002f\\u002fpbsandbox2.wikibase.cloud\\u003cbr\\u003eHost: Wikibase Cloud\\u003cbr\\u003eVersion: 1.39.7\\u003cbr\\u003eStart Date: 2022-10-08 00:00:00+00:00\\u003cbr\\u003eActive Users: 0\\u003cbr\\u003eUsers: 2\\u003cbr\\u003eProperties: 795\\u003cbr\\u003eEdits: 904\\u003cbr\\u003ePages: 897\",\"Climate Policy Radar\\u003cbr\\u003eURL: https:\\u002f\\u002fclimatepolicyradar.wikibase.cloud\\u003cbr\\u003eHost: Wikibase Cloud\\u003cbr\\u003eVersion: 1.39.7\\u003cbr\\u003eStart Date: 2024-04-03 00:00:00+00:00\\u003cbr\\u003eActive Users: 10\\u003cbr\\u003eUsers: 18\\u003cbr\\u003eProperties: 9\\u003cbr\\u003eEdits: 9441\\u003cbr\\u003ePages: 1030\",\"digitalneurons\\u003cbr\\u003eURL: https:\\u002f\\u002fdigitalneurons.wikibase.cloud\\u003cbr\\u003eHost: Wikibase Cloud\\u003cbr\\u003eVersion: 1.39.7\\u003cbr\\u003eStart Date: 2021-03-05 00:00:00+00:00\\u003cbr\\u003eActive Users: 1\\u003cbr\\u003eUsers: 3\\u003cbr\\u003eProperties: 43\\u003cbr\\u003eEdits: 2389\\u003cbr\\u003ePages: 734\",\"T-rex Taxonomy\\u003cbr\\u003eURL: https:\\u002f\\u002ftrex-taxonomy.wikibase.cloud\\u003cbr\\u003eHost: Wikibase Cloud\\u003cbr\\u003eVersion: 1.39.7\\u003cbr\\u003eStart Date: 2020-04-15 00:00:00+00:00\\u003cbr\\u003eActive Users: 0\\u003cbr\\u003eUsers: 320\\u003cbr\\u003eProperties: 32\\u003cbr\\u003eEdits: 1355\\u003cbr\\u003ePages: 659\",\"European Party Funding Observatory\\u003cbr\\u003eURL: https:\\u002f\\u002fwikibase.epfo.eu\\u003cbr\\u003eHost: Wikibase Cloud\\u003cbr\\u003eVersion: 1.39.7\\u003cbr\\u003eStart Date: 2024-07-20 00:00:00+00:00\\u003cbr\\u003eActive Users: 1\\u003cbr\\u003eUsers: 2\\u003cbr\\u003eProperties: 234\\u003cbr\\u003eEdits: 14262\\u003cbr\\u003ePages: 516\",\"Neogr\\u00e4zistik Digital Lab\\u003cbr\\u003eURL: https:\\u002f\\u002fngrlab.wikibase.cloud\\u003cbr\\u003eHost: Wikibase Cloud\\u003cbr\\u003eVersion: 1.39.7\\u003cbr\\u003eStart Date: 2020-12-06 00:00:00+00:00\\u003cbr\\u003eActive Users: 0\\u003cbr\\u003eUsers: 2\\u003cbr\\u003eProperties: 45\\u003cbr\\u003eEdits: 3016\\u003cbr\\u003ePages: 497\",\"cprtest (on wikibase.cloud)\\u003cbr\\u003eURL: https:\\u002f\\u002fs4adgmfowmsbe0ye0zjaudmxwb.wikibase.cloud\\u003cbr\\u003eHost: Wikibase Cloud\\u003cbr\\u003eVersion: 1.39.7\\u003cbr\\u003eStart Date: 2024-01-31 00:00:00+00:00\\u003cbr\\u003eActive Users: 0\\u003cbr\\u003eUsers: 4\\u003cbr\\u003eProperties: 6\\u003cbr\\u003eEdits: 3982\\u003cbr\\u003ePages: 445\",\"TDWG Collection Description\\u003cbr\\u003eURL: https:\\u002f\\u002ftdwg-cd.wikibase.cloud\\u003cbr\\u003eHost: Wikibase Cloud\\u003cbr\\u003eVersion: 1.39.7\\u003cbr\\u003eStart Date: 2020-04-22 00:00:00+00:00\\u003cbr\\u003eActive Users: 0\\u003cbr\\u003eUsers: 326\\u003cbr\\u003eProperties: 155\\u003cbr\\u003eEdits: 1347\\u003cbr\\u003ePages: 441\",\"Pruebas FSH\\u003cbr\\u003eURL: https:\\u002f\\u002fpruebas-fsh.wikibase.cloud\\u003cbr\\u003eHost: Wikibase Cloud\\u003cbr\\u003eVersion: 1.39.7\\u003cbr\\u003eStart Date: 2024-06-22 00:00:00+00:00\\u003cbr\\u003eActive Users: 1\\u003cbr\\u003eUsers: 2\\u003cbr\\u003eProperties: 50\\u003cbr\\u003eEdits: 2867\\u003cbr\\u003ePages: 439\",\"COMPEL\\u003cbr\\u003eURL: https:\\u002f\\u002fcompel.wikibase.cloud\\u003cbr\\u003eHost: Wikibase Cloud\\u003cbr\\u003eVersion: 1.39.7\\u003cbr\\u003eStart Date: 2024-04-19 00:00:00+00:00\\u003cbr\\u003eActive Users: 1\\u003cbr\\u003eUsers: 12\\u003cbr\\u003eProperties: 40\\u003cbr\\u003eEdits: 1347\\u003cbr\\u003ePages: 427\",\"hgironomidae\\u003cbr\\u003eURL: https:\\u002f\\u002fchironomidae.wikibase.cloud\\u003cbr\\u003eHost: Wikibase Cloud\\u003cbr\\u003eVersion: 1.39.7\\u003cbr\\u003eStart Date: 2024-02-22 00:00:00+00:00\\u003cbr\\u003eActive Users: 0\\u003cbr\\u003eUsers: 2\\u003cbr\\u003eProperties: 56\\u003cbr\\u003eEdits: 1336\\u003cbr\\u003ePages: 419\",\"Architekturarchive\\u003cbr\\u003eURL: https:\\u002f\\u002farchitekturarchive.wikibase.cloud\\u003cbr\\u003eHost: Wikibase Cloud\\u003cbr\\u003eVersion: 1.39.7\\u003cbr\\u003eStart Date: 2024-03-27 00:00:00+00:00\\u003cbr\\u003eActive Users: 0\\u003cbr\\u003eUsers: 3\\u003cbr\\u003eProperties: 141\\u003cbr\\u003eEdits: 983\\u003cbr\\u003ePages: 406\",\"cps\\u003cbr\\u003eURL: https:\\u002f\\u002fcomputational-publishing-service.wikibase.cloud\\u003cbr\\u003eHost: Wikibase Cloud\\u003cbr\\u003eVersion: 1.39.7\\u003cbr\\u003eStart Date: 2024-04-04 00:00:00+00:00\\u003cbr\\u003eActive Users: 0\\u003cbr\\u003eUsers: 11\\u003cbr\\u003eProperties: 107\\u003cbr\\u003eEdits: 1048\\u003cbr\\u003ePages: 402\",\"WUaS\\u003cbr\\u003eURL: https:\\u002f\\u002fworlduniversityandschooldatabase.wikibase.cloud\\u003cbr\\u003eHost: Wikibase Cloud\\u003cbr\\u003eVersion: 1.39.7\\u003cbr\\u003eStart Date: 2020-11-25 00:00:00+00:00\\u003cbr\\u003eActive Users: 0\\u003cbr\\u003eUsers: 8\\u003cbr\\u003eProperties: 18\\u003cbr\\u003eEdits: 444\\u003cbr\\u003ePages: 389\",\"Christof Sch\\u00f6ch\\u003cbr\\u003eURL: https:\\u002f\\u002fchristof-schoech.wikibase.cloud\\u003cbr\\u003eHost: Wikibase Cloud\\u003cbr\\u003eVersion: 1.39.7\\u003cbr\\u003eStart Date: 2024-09-11 00:00:00+00:00\\u003cbr\\u003eActive Users: 1\\u003cbr\\u003eUsers: 2\\u003cbr\\u003eProperties: 64\\u003cbr\\u003eEdits: 1498\\u003cbr\\u003ePages: 369\",\"IPCC\\u003cbr\\u003eURL: https:\\u002f\\u002fkg-ipclimatec-reports.wikibase.cloud\\u003cbr\\u003eHost: Wikibase Cloud\\u003cbr\\u003eVersion: 1.39.7\\u003cbr\\u003eStart Date: 2023-04-22 00:00:00+00:00\\u003cbr\\u003eActive Users: 0\\u003cbr\\u003eUsers: 14\\u003cbr\\u003eProperties: 25\\u003cbr\\u003eEdits: 824\\u003cbr\\u003ePages: 359\",\"pruebas-auto\\u003cbr\\u003eURL: https:\\u002f\\u002fpruebas-auto.wikibase.cloud\\u003cbr\\u003eHost: Wikibase Cloud\\u003cbr\\u003eVersion: 1.39.7\\u003cbr\\u003eStart Date: 2024-09-26 00:00:00+00:00\\u003cbr\\u003eActive Users: 0\\u003cbr\\u003eUsers: 2\\u003cbr\\u003eProperties: 50\\u003cbr\\u003eEdits: 765\\u003cbr\\u003ePages: 352\",\"wbwh-test\\u003cbr\\u003eURL: https:\\u002f\\u002fwbwh-test.wikibase.cloud\\u003cbr\\u003eHost: Wikibase Cloud\\u003cbr\\u003eVersion: 1.39.7\\u003cbr\\u003eStart Date: 2023-01-27 00:00:00+00:00\\u003cbr\\u003eActive Users: 0\\u003cbr\\u003eUsers: 3\\u003cbr\\u003eProperties: 37\\u003cbr\\u003eEdits: 440\\u003cbr\\u003ePages: 343\",\"FrameNet Test4\\u003cbr\\u003eURL: https:\\u002f\\u002fframenetest4.wikibase.cloud\\u003cbr\\u003eHost: Wikibase Cloud\\u003cbr\\u003eVersion: 1.39.7\\u003cbr\\u003eStart Date: 2024-04-10 00:00:00+00:00\\u003cbr\\u003eActive Users: 0\\u003cbr\\u003eUsers: 2\\u003cbr\\u003eProperties: 39\\u003cbr\\u003eEdits: 331\\u003cbr\\u003ePages: 331\",\"Metadati intelligenti\\u003cbr\\u003eURL: https:\\u002f\\u002fsmartmeta.wikibase.cloud\\u003cbr\\u003eHost: Wikibase Cloud\\u003cbr\\u003eVersion: 1.39.7\\u003cbr\\u003eStart Date: 2021-09-04 00:00:00+00:00\\u003cbr\\u003eActive Users: 0\\u003cbr\\u003eUsers: 17\\u003cbr\\u003eProperties: 79\\u003cbr\\u003eEdits: 1172\\u003cbr\\u003ePages: 294\",\"Horimiya Base\\u003cbr\\u003eURL: https:\\u002f\\u002fhorimiya.wikibase.cloud\\u003cbr\\u003eHost: Wikibase Cloud\\u003cbr\\u003eVersion: 1.39.7\\u003cbr\\u003eStart Date: 2023-03-17 00:00:00+00:00\\u003cbr\\u003eActive Users: 0\\u003cbr\\u003eUsers: 2\\u003cbr\\u003eProperties: 59\\u003cbr\\u003eEdits: 964\\u003cbr\\u003ePages: 271\",\"processualista\\u003cbr\\u003eURL: https:\\u002f\\u002fdados.processualista.com.br\\u003cbr\\u003eHost: Wikibase Cloud\\u003cbr\\u003eVersion: 1.39.7\\u003cbr\\u003eStart Date: 2024-09-02 00:00:00+00:00\\u003cbr\\u003eActive Users: 0\\u003cbr\\u003eUsers: 2\\u003cbr\\u003eProperties: 45\\u003cbr\\u003eEdits: 1244\\u003cbr\\u003ePages: 329\",\"ELTE-DH\\u003cbr\\u003eURL: https:\\u002f\\u002felte-dh.wikibase.cloud\\u003cbr\\u003eHost: Wikibase Cloud\\u003cbr\\u003eVersion: 1.39.7\\u003cbr\\u003eStart Date: 2024-02-11 00:00:00+00:00\\u003cbr\\u003eActive Users: 0\\u003cbr\\u003eUsers: 3\\u003cbr\\u003eProperties: 45\\u003cbr\\u003eEdits: 1409\\u003cbr\\u003ePages: 266\",\"OntoLagoon\\u003cbr\\u003eURL: https:\\u002f\\u002fontolagoon.wikibase.cloud\\u003cbr\\u003eHost: Wikibase Cloud\\u003cbr\\u003eVersion: 1.39.7\\u003cbr\\u003eStart Date: 2024-01-16 00:00:00+00:00\\u003cbr\\u003eActive Users: 1\\u003cbr\\u003eUsers: 4\\u003cbr\\u003eProperties: 25\\u003cbr\\u003eEdits: 939\\u003cbr\\u003ePages: 268\",\"DiscoveryTest\\u003cbr\\u003eURL: https:\\u002f\\u002fdiscoverytest.wikibase.cloud\\u003cbr\\u003eHost: Wikibase Cloud\\u003cbr\\u003eVersion: 1.39.7\\u003cbr\\u003eStart Date: 2024-04-03 00:00:00+00:00\\u003cbr\\u003eActive Users: 0\\u003cbr\\u003eUsers: 2\\u003cbr\\u003eProperties: 41\\u003cbr\\u003eEdits: 259\\u003cbr\\u003ePages: 259\",\"Pony Base\\u003cbr\\u003eURL: https:\\u002f\\u002fponybase.wikibase.cloud\\u003cbr\\u003eHost: Wikibase Cloud\\u003cbr\\u003eVersion: 1.39.7\\u003cbr\\u003eStart Date: 2024-02-28 00:00:00+00:00\\u003cbr\\u003eActive Users: 0\\u003cbr\\u003eUsers: 2\\u003cbr\\u003eProperties: 22\\u003cbr\\u003eEdits: 844\\u003cbr\\u003ePages: 259\",\"Latimer Core\\u003cbr\\u003eURL: https:\\u002f\\u002flatimer-core.wikibase.cloud\\u003cbr\\u003eHost: Wikibase Cloud\\u003cbr\\u003eVersion: 1.39.7\\u003cbr\\u003eStart Date: 2021-10-07 00:00:00+00:00\\u003cbr\\u003eActive Users: 0\\u003cbr\\u003eUsers: 12\\u003cbr\\u003eProperties: 131\\u003cbr\\u003eEdits: 438\\u003cbr\\u003ePages: 239\",\"EOSS\\u003cbr\\u003eURL: https:\\u002f\\u002feoss-1.wikibase.cloud\\u003cbr\\u003eHost: Wikibase Cloud\\u003cbr\\u003eVersion: 1.39.7\\u003cbr\\u003eStart Date: 2020-02-28 00:00:00+00:00\\u003cbr\\u003eActive Users: 0\\u003cbr\\u003eUsers: 3\\u003cbr\\u003eProperties: 9\\u003cbr\\u003eEdits: 926\\u003cbr\\u003ePages: 238\",\"Testing out Wikibase\\u003cbr\\u003eURL: https:\\u002f\\u002fmasssly.wikibase.cloud\\u003cbr\\u003eHost: Wikibase Cloud\\u003cbr\\u003eVersion: 1.39.7\\u003cbr\\u003eStart Date: 2021-07-13 00:00:00+00:00\\u003cbr\\u003eActive Users: 1\\u003cbr\\u003eUsers: 3\\u003cbr\\u003eProperties: 18\\u003cbr\\u003eEdits: 799\\u003cbr\\u003ePages: 237\",\"Anachroniques\\u003cbr\\u003eURL: https:\\u002f\\u002fanachroniques.wikibase.cloud\\u003cbr\\u003eHost: Wikibase Cloud\\u003cbr\\u003eVersion: 1.39.7\\u003cbr\\u003eStart Date: 2022-10-04 00:00:00+00:00\\u003cbr\\u003eActive Users: 0\\u003cbr\\u003eUsers: 3\\u003cbr\\u003eProperties: 24\\u003cbr\\u003eEdits: 1407\\u003cbr\\u003ePages: 229\",\"testingtesting (on wikibase.cloud)\\u003cbr\\u003eURL: https:\\u002f\\u002ftestingtesting.wikibase.cloud\\u003cbr\\u003eHost: Wikibase Cloud\\u003cbr\\u003eVersion: 1.39.7\\u003cbr\\u003eStart Date: 2023-10-25 00:00:00+00:00\\u003cbr\\u003eActive Users: 0\\u003cbr\\u003eUsers: 2\\u003cbr\\u003eProperties: 21\\u003cbr\\u003eEdits: 289\\u003cbr\\u003ePages: 231\",\"FrameNet Akkadian 2\\u003cbr\\u003eURL: https:\\u002f\\u002fframenet-akkadian2.wikibase.cloud\\u003cbr\\u003eHost: Wikibase Cloud\\u003cbr\\u003eVersion: 1.39.7\\u003cbr\\u003eStart Date: 2024-03-24 00:00:00+00:00\\u003cbr\\u003eActive Users: 1\\u003cbr\\u003eUsers: 2\\u003cbr\\u003eProperties: 40\\u003cbr\\u003eEdits: 446\\u003cbr\\u003ePages: 226\",\"Bioimages\\u003cbr\\u003eURL: https:\\u002f\\u002fbioimages.wikibase.cloud\\u003cbr\\u003eHost: Wikibase Cloud\\u003cbr\\u003eVersion: 1.39.7\\u003cbr\\u003eStart Date: 2024-07-16 00:00:00+00:00\\u003cbr\\u003eActive Users: 1\\u003cbr\\u003eUsers: 3\\u003cbr\\u003eProperties: 61\\u003cbr\\u003eEdits: 593\\u003cbr\\u003ePages: 218\",\"fedi\\u003cbr\\u003eURL: https:\\u002f\\u002ffedidata.wikibase.cloud\\u003cbr\\u003eHost: Wikibase Cloud\\u003cbr\\u003eVersion: 1.39.7\\u003cbr\\u003eStart Date: 2022-11-09 00:00:00+00:00\\u003cbr\\u003eActive Users: 0\\u003cbr\\u003eUsers: 2\\u003cbr\\u003eProperties: 204\\u003cbr\\u003eEdits: 228\\u003cbr\\u003ePages: 208\",\"Testing Mapping the Scottish Reformation\\u003cbr\\u003eURL: https:\\u002f\\u002fmsrtest.wikibase.cloud\\u003cbr\\u003eHost: Wikibase Cloud\\u003cbr\\u003eVersion: 1.39.7\\u003cbr\\u003eStart Date: 2023-09-07 00:00:00+00:00\\u003cbr\\u003eActive Users: 0\\u003cbr\\u003eUsers: 2\\u003cbr\\u003eProperties: 35\\u003cbr\\u003eEdits: 511\\u003cbr\\u003ePages: 203\",\"Ecology-22\\u003cbr\\u003eURL: https:\\u002f\\u002fecology-22.wikibase.cloud\\u003cbr\\u003eHost: Wikibase Cloud\\u003cbr\\u003eVersion: 1.39.7\\u003cbr\\u003eStart Date: 2022-11-17 00:00:00+00:00\\u003cbr\\u003eActive Users: 0\\u003cbr\\u003eUsers: 6\\u003cbr\\u003eProperties: 36\\u003cbr\\u003eEdits: 1077\\u003cbr\\u003ePages: 199\",\"Fontes Asturienses\\u003cbr\\u003eURL: https:\\u002f\\u002ffontes-asturienses.wikibase.cloud\\u003cbr\\u003eHost: Wikibase Cloud\\u003cbr\\u003eVersion: 1.39.7\\u003cbr\\u003eStart Date: 2024-03-13 00:00:00+00:00\\u003cbr\\u003eActive Users: 0\\u003cbr\\u003eUsers: 3\\u003cbr\\u003eProperties: 48\\u003cbr\\u003eEdits: 728\\u003cbr\\u003ePages: 171\",\"Grafitos hist\\u00f3ricos del museo Hist\\u00f3rico Arqueol\\u00f3gico Najerillense (Najera, Espa\\u00f1a)\\u003cbr\\u003eURL: https:\\u002f\\u002fnajeragrafitos.wikibase.cloud\\u003cbr\\u003eHost: Wikibase Cloud\\u003cbr\\u003eVersion: 1.39.7\\u003cbr\\u003eStart Date: 2024-08-24 00:00:00+00:00\\u003cbr\\u003eActive Users: 0\\u003cbr\\u003eUsers: 2\\u003cbr\\u003eProperties: 15\\u003cbr\\u003eEdits: 1185\\u003cbr\\u003ePages: 160\",\"Tandori Archive\\u003cbr\\u003eURL: https:\\u002f\\u002ftandori.wikibase.cloud\\u003cbr\\u003eHost: Wikibase Cloud\\u003cbr\\u003eVersion: 1.39.7\\u003cbr\\u003eStart Date: 2022-12-12 00:00:00+00:00\\u003cbr\\u003eActive Users: 0\\u003cbr\\u003eUsers: 3\\u003cbr\\u003eProperties: 11\\u003cbr\\u003eEdits: 282\\u003cbr\\u003ePages: 155\",\"BellmanFactBase\\u003cbr\\u003eURL: https:\\u002f\\u002fbellmanfactbase.wikibase.cloud\\u003cbr\\u003eHost: Wikibase Cloud\\u003cbr\\u003eVersion: 1.39.7\\u003cbr\\u003eStart Date: 2020-11-13 00:00:00+00:00\\u003cbr\\u003eActive Users: 0\\u003cbr\\u003eUsers: 69\\u003cbr\\u003eProperties: 9\\u003cbr\\u003eEdits: 236\\u003cbr\\u003ePages: 147\",\"Bekasi\\u003cbr\\u003eURL: https:\\u002f\\u002fbekasi.wikibase.cloud\\u003cbr\\u003eHost: Wikibase Cloud\\u003cbr\\u003eVersion: 1.39.7\\u003cbr\\u003eStart Date: 2024-02-29 00:00:00+00:00\\u003cbr\\u003eActive Users: 0\\u003cbr\\u003eUsers: 2\\u003cbr\\u003eProperties: 30\\u003cbr\\u003eEdits: 285\\u003cbr\\u003ePages: 132\",\"Conservatorio \\\"Claudio Monteverdi\\\" di Cremona\\u003cbr\\u003eURL: https:\\u002f\\u002fconscremona.wikibase.cloud\\u003cbr\\u003eHost: Wikibase Cloud\\u003cbr\\u003eVersion: 1.39.7\\u003cbr\\u003eStart Date: 2022-11-16 00:00:00+00:00\\u003cbr\\u003eActive Users: 0\\u003cbr\\u003eUsers: 2\\u003cbr\\u003eProperties: 25\\u003cbr\\u003eEdits: 231\\u003cbr\\u003ePages: 128\",\"AFL_example\\u003cbr\\u003eURL: https:\\u002f\\u002fafl-example.wikibase.cloud\\u003cbr\\u003eHost: Wikibase Cloud\\u003cbr\\u003eVersion: 1.39.7\\u003cbr\\u003eStart Date: 2020-10-24 00:00:00+00:00\\u003cbr\\u003eActive Users: 0\\u003cbr\\u003eUsers: 3\\u003cbr\\u003eProperties: 42\\u003cbr\\u003eEdits: 390\\u003cbr\\u003ePages: 130\",\"Adams Family\\u003cbr\\u003eURL: https:\\u002f\\u002fadams-family.wikibase.cloud\\u003cbr\\u003eHost: Wikibase Cloud\\u003cbr\\u003eVersion: 1.39.7\\u003cbr\\u003eStart Date: 2023-12-23 00:00:00+00:00\\u003cbr\\u003eActive Users: 1\\u003cbr\\u003eUsers: 3\\u003cbr\\u003eProperties: 33\\u003cbr\\u003eEdits: 961\\u003cbr\\u003ePages: 117\",\"Stolen Relations\\u003cbr\\u003eURL: https:\\u002f\\u002fstolen-relations.wikibase.cloud\\u003cbr\\u003eHost: Wikibase Cloud\\u003cbr\\u003eVersion: 1.39.7\\u003cbr\\u003eStart Date: 2022-09-06 00:00:00+00:00\\u003cbr\\u003eActive Users: 0\\u003cbr\\u003eUsers: 2\\u003cbr\\u003eProperties: 38\\u003cbr\\u003eEdits: 189\\u003cbr\\u003ePages: 126\",\"coffeebase\\u003cbr\\u003eURL: https:\\u002f\\u002fcoffeebase.wikibase.cloud\\u003cbr\\u003eHost: Wikibase Cloud\\u003cbr\\u003eVersion: 1.39.7\\u003cbr\\u003eStart Date: 2020-04-14 00:00:00+00:00\\u003cbr\\u003eActive Users: 1\\u003cbr\\u003eUsers: 4\\u003cbr\\u003eProperties: 8\\u003cbr\\u003eEdits: 139\\u003cbr\\u003ePages: 110\",\"BCUL-IC\\u003cbr\\u003eURL: https:\\u002f\\u002fbcul-ic.wikibase.cloud\\u003cbr\\u003eHost: Wikibase Cloud\\u003cbr\\u003eVersion: 1.39.7\\u003cbr\\u003eStart Date: 2020-08-11 00:00:00+00:00\\u003cbr\\u003eActive Users: 0\\u003cbr\\u003eUsers: 2\\u003cbr\\u003eProperties: 13\\u003cbr\\u003eEdits: 682\\u003cbr\\u003ePages: 111\",\"cidoc_crm\\u003cbr\\u003eURL: https:\\u002f\\u002fcidoc-crm.wikibase.cloud\\u003cbr\\u003eHost: Wikibase Cloud\\u003cbr\\u003eVersion: 1.39.7\\u003cbr\\u003eStart Date: 2020-09-23 00:00:00+00:00\\u003cbr\\u003eActive Users: 0\\u003cbr\\u003eUsers: 3\\u003cbr\\u003eProperties: 5\\u003cbr\\u003eEdits: 164\\u003cbr\\u003ePages: 105\",\"ELTeCgeo\\u003cbr\\u003eURL: https:\\u002f\\u002feltecgeo.wikibase.cloud\\u003cbr\\u003eHost: Wikibase Cloud\\u003cbr\\u003eVersion: 1.39.7\\u003cbr\\u003eStart Date: 2024-09-19 00:00:00+00:00\\u003cbr\\u003eActive Users: 1\\u003cbr\\u003eUsers: 2\\u003cbr\\u003eProperties: 21\\u003cbr\\u003eEdits: 337\\u003cbr\\u003ePages: 115\",\"Global Forest Decimal Classification\\u003cbr\\u003eURL: https:\\u002f\\u002fforest-decimal-classification.wikibase.cloud\\u003cbr\\u003eHost: Wikibase Cloud\\u003cbr\\u003eVersion: 1.39.7\\u003cbr\\u003eStart Date: 2021-12-16 00:00:00+00:00\\u003cbr\\u003eActive Users: 0\\u003cbr\\u003eUsers: 3\\u003cbr\\u003eProperties: 42\\u003cbr\\u003eEdits: 358\\u003cbr\\u003ePages: 103\",\"2\\u3064\\u76ee\\u306ewiki\\u003cbr\\u003eURL: https:\\u002f\\u002fnakamura196.wikibase.cloud\\u003cbr\\u003eHost: Wikibase Cloud\\u003cbr\\u003eVersion: 1.39.7\\u003cbr\\u003eStart Date: 2023-07-14 00:00:00+00:00\\u003cbr\\u003eActive Users: 0\\u003cbr\\u003eUsers: 3\\u003cbr\\u003eProperties: 47\\u003cbr\\u003eEdits: 151\\u003cbr\\u003ePages: 100\",\"RIDGES-Herb-Wikibase\\u003cbr\\u003eURL: https:\\u002f\\u002fridges-herb.wikibase.cloud\\u003cbr\\u003eHost: Wikibase Cloud\\u003cbr\\u003eVersion: 1.39.7\\u003cbr\\u003eStart Date: 2022-11-15 00:00:00+00:00\\u003cbr\\u003eActive Users: 0\\u003cbr\\u003eUsers: 3\\u003cbr\\u003eProperties: 71\\u003cbr\\u003eEdits: 353\\u003cbr\\u003ePages: 98\",\"DIKUSA-dev\\u003cbr\\u003eURL: https:\\u002f\\u002fdikusa-dev.wikibase.cloud\\u003cbr\\u003eHost: Wikibase Cloud\\u003cbr\\u003eVersion: 1.39.7\\u003cbr\\u003eStart Date: 2024-05-15 00:00:00+00:00\\u003cbr\\u003eActive Users: 1\\u003cbr\\u003eUsers: 4\\u003cbr\\u003eProperties: 44\\u003cbr\\u003eEdits: 213\\u003cbr\\u003ePages: 97\",\"MCData\\u003cbr\\u003eURL: https:\\u002f\\u002fmcdata.wikibase.cloud\\u003cbr\\u003eHost: Wikibase Cloud\\u003cbr\\u003eVersion: 1.39.7\\u003cbr\\u003eStart Date: 2024-07-18 00:00:00+00:00\\u003cbr\\u003eActive Users: 0\\u003cbr\\u003eUsers: 2\\u003cbr\\u003eProperties: 30\\u003cbr\\u003eEdits: 515\\u003cbr\\u003ePages: 95\",\"U1P QS\\u003cbr\\u003eURL: https:\\u002f\\u002fu1p-qs.wikibase.cloud\\u003cbr\\u003eHost: Wikibase Cloud\\u003cbr\\u003eVersion: 1.39.7\\u003cbr\\u003eStart Date: 2024-05-31 00:00:00+00:00\\u003cbr\\u003eActive Users: 0\\u003cbr\\u003eUsers: 2\\u003cbr\\u003eProperties: 102\\u003cbr\\u003eEdits: 179\\u003cbr\\u003ePages: 103\",\"Mabinogi Eternity\\u003cbr\\u003eURL: https:\\u002f\\u002fmabinogi.wikibase.cloud\\u003cbr\\u003eHost: Wikibase Cloud\\u003cbr\\u003eVersion: 1.39.7\\u003cbr\\u003eStart Date: 2023-06-19 00:00:00+00:00\\u003cbr\\u003eActive Users: 1\\u003cbr\\u003eUsers: 2\\u003cbr\\u003eProperties: 22\\u003cbr\\u003eEdits: 1551\\u003cbr\\u003ePages: 107\",\"KBTestWikibase\\u003cbr\\u003eURL: https:\\u002f\\u002fkbtestwikibase.wikibase.cloud\\u003cbr\\u003eHost: Wikibase Cloud\\u003cbr\\u003eVersion: 1.39.7\\u003cbr\\u003eStart Date: 2019-10-26 00:00:00+00:00\\u003cbr\\u003eActive Users: 0\\u003cbr\\u003eUsers: 6\\u003cbr\\u003eProperties: 46\\u003cbr\\u003eEdits: 1026\\u003cbr\\u003ePages: 92\",\"Genealogy\\u003cbr\\u003eURL: https:\\u002f\\u002fhaaitsma-genea.wikibase.cloud\\u003cbr\\u003eHost: Wikibase Cloud\\u003cbr\\u003eVersion: 1.39.7\\u003cbr\\u003eStart Date: 2023-10-19 00:00:00+00:00\\u003cbr\\u003eActive Users: 0\\u003cbr\\u003eUsers: 2\\u003cbr\\u003eProperties: 23\\u003cbr\\u003eEdits: 500\\u003cbr\\u003ePages: 94\",\"We would not forget you\\u003cbr\\u003eURL: https:\\u002f\\u002fshaheed.wikibase.cloud\\u003cbr\\u003eHost: Wikibase Cloud\\u003cbr\\u003eVersion: 1.39.7\\u003cbr\\u003eStart Date: 2024-07-24 00:00:00+00:00\\u003cbr\\u003eActive Users: 0\\u003cbr\\u003eUsers: 2\\u003cbr\\u003eProperties: 38\\u003cbr\\u003eEdits: 150\\u003cbr\\u003ePages: 89\",\"NFDI4Culture LOD Working Group\\u003cbr\\u003eURL: https:\\u002f\\u002flod-working-group.wikibase.cloud\\u003cbr\\u003eHost: Wikibase Cloud\\u003cbr\\u003eVersion: 1.39.7\\u003cbr\\u003eStart Date: 2021-06-28 00:00:00+00:00\\u003cbr\\u003eActive Users: 0\\u003cbr\\u003eUsers: 17\\u003cbr\\u003eProperties: 40\\u003cbr\\u003eEdits: 123\\u003cbr\\u003ePages: 87\",\"Research Waste\\u003cbr\\u003eURL: https:\\u002f\\u002fresearch-waste.wikibase.cloud\\u003cbr\\u003eHost: Wikibase Cloud\\u003cbr\\u003eVersion: 1.39.7\\u003cbr\\u003eStart Date: 2024-03-26 00:00:00+00:00\\u003cbr\\u003eActive Users: 0\\u003cbr\\u003eUsers: 4\\u003cbr\\u003eProperties: 37\\u003cbr\\u003eEdits: 194\\u003cbr\\u003ePages: 87\",\"The Choir\\u003cbr\\u003eURL: https:\\u002f\\u002fchristian-nationalists.wikibase.cloud\\u003cbr\\u003eHost: Wikibase Cloud\\u003cbr\\u003eVersion: 1.39.7\\u003cbr\\u003eStart Date: 2023-08-31 00:00:00+00:00\\u003cbr\\u003eActive Users: 0\\u003cbr\\u003eUsers: 2\\u003cbr\\u003eProperties: 3\\u003cbr\\u003eEdits: 94\\u003cbr\\u003ePages: 86\",\"Sources\\u003cbr\\u003eURL: https:\\u002f\\u002fsources.wikibase.cloud\\u003cbr\\u003eHost: Wikibase Cloud\\u003cbr\\u003eVersion: 1.39.7\\u003cbr\\u003eStart Date: 2024-04-02 00:00:00+00:00\\u003cbr\\u003eActive Users: 0\\u003cbr\\u003eUsers: 2\\u003cbr\\u003eProperties: 16\\u003cbr\\u003eEdits: 353\\u003cbr\\u003ePages: 86\",\"Quotebase\\u003cbr\\u003eURL: https:\\u002f\\u002fquotebase.wikibase.cloud\\u003cbr\\u003eHost: Wikibase Cloud\\u003cbr\\u003eVersion: 1.39.7\\u003cbr\\u003eStart Date: 2022-11-17 00:00:00+00:00\\u003cbr\\u003eActive Users: 0\\u003cbr\\u003eUsers: 5\\u003cbr\\u003eProperties: 26\\u003cbr\\u003eEdits: 266\\u003cbr\\u003ePages: 80\",\"LD4 WBStack Test\\u003cbr\\u003eURL: https:\\u002f\\u002fld4-wbs-test.wikibase.cloud\\u003cbr\\u003eHost: Wikibase Cloud\\u003cbr\\u003eVersion: 1.39.7\\u003cbr\\u003eStart Date: 2021-05-25 00:00:00+00:00\\u003cbr\\u003eActive Users: 0\\u003cbr\\u003eUsers: 36\\u003cbr\\u003eProperties: 18\\u003cbr\\u003eEdits: 227\\u003cbr\\u003ePages: 79\",\"LD4 2021 Conference\\u003cbr\\u003eURL: https:\\u002f\\u002fld4-2021-conference.wikibase.cloud\\u003cbr\\u003eHost: Wikibase Cloud\\u003cbr\\u003eVersion: 1.39.7\\u003cbr\\u003eStart Date: 2021-07-20 00:00:00+00:00\\u003cbr\\u003eActive Users: 0\\u003cbr\\u003eUsers: 9\\u003cbr\\u003eProperties: 23\\u003cbr\\u003eEdits: 152\\u003cbr\\u003ePages: 76\",\"uo276406-ws1-miw\\u003cbr\\u003eURL: https:\\u002f\\u002fweb-semantica-uo276406.wikibase.cloud\\u003cbr\\u003eHost: Wikibase Cloud\\u003cbr\\u003eVersion: 1.39.7\\u003cbr\\u003eStart Date: 2024-05-11 00:00:00+00:00\\u003cbr\\u003eActive Users: 0\\u003cbr\\u003eUsers: 3\\u003cbr\\u003eProperties: 8\\u003cbr\\u003eEdits: 82\\u003cbr\\u003ePages: 76\",\"SALARTIS1600\\u003cbr\\u003eURL: https:\\u002f\\u002fsalartis1600.wikibase.cloud\\u003cbr\\u003eHost: Wikibase Cloud\\u003cbr\\u003eVersion: 1.39.7\\u003cbr\\u003eStart Date: 2024-09-20 00:00:00+00:00\\u003cbr\\u003eActive Users: 2\\u003cbr\\u003eUsers: 3\\u003cbr\\u003eProperties: 32\\u003cbr\\u003eEdits: 415\\u003cbr\\u003ePages: 77\",\"Bib-Sample\\u003cbr\\u003eURL: https:\\u002f\\u002fbibsample.wikibase.cloud\\u003cbr\\u003eHost: Wikibase Cloud\\u003cbr\\u003eVersion: 1.39.7\\u003cbr\\u003eStart Date: 2021-01-31 00:00:00+00:00\\u003cbr\\u003eActive Users: 0\\u003cbr\\u003eUsers: 2\\u003cbr\\u003eProperties: 17\\u003cbr\\u003eEdits: 110\\u003cbr\\u003ePages: 73\",\"Brandskon\\u003cbr\\u003eURL: https:\\u002f\\u002fbrandskon.wikibase.cloud\\u003cbr\\u003eHost: Wikibase Cloud\\u003cbr\\u003eVersion: 1.39.7\\u003cbr\\u003eStart Date: 2024-03-16 00:00:00+00:00\\u003cbr\\u003eActive Users: 0\\u003cbr\\u003eUsers: 2\\u003cbr\\u003eProperties: 53\\u003cbr\\u003eEdits: 163\\u003cbr\\u003ePages: 73\",\"RIDGES-Herb. 9.0 Wikibase\\u003cbr\\u003eURL: https:\\u002f\\u002fridges-herb-9.wikibase.cloud\\u003cbr\\u003eHost: Wikibase Cloud\\u003cbr\\u003eVersion: 1.39.7\\u003cbr\\u003eStart Date: 2022-10-24 00:00:00+00:00\\u003cbr\\u003eActive Users: 0\\u003cbr\\u003eUsers: 3\\u003cbr\\u003eProperties: 59\\u003cbr\\u003eEdits: 496\\u003cbr\\u003ePages: 75\",\"KM28\\u003cbr\\u003eURL: https:\\u002f\\u002fkarlmarx28.wikibase.cloud\\u003cbr\\u003eHost: Wikibase Cloud\\u003cbr\\u003eVersion: 1.39.7\\u003cbr\\u003eStart Date: 2023-06-02 00:00:00+00:00\\u003cbr\\u003eActive Users: 0\\u003cbr\\u003eUsers: 3\\u003cbr\\u003eProperties: 12\\u003cbr\\u003eEdits: 316\\u003cbr\\u003ePages: 72\",\"NFDI4Objects TA2 Collecting Workspace\\u003cbr\\u003eURL: https:\\u002f\\u002fn4o-ta2.wikibase.cloud\\u003cbr\\u003eHost: Wikibase Cloud\\u003cbr\\u003eVersion: 1.39.7\\u003cbr\\u003eStart Date: 2023-05-30 00:00:00+00:00\\u003cbr\\u003eActive Users: 0\\u003cbr\\u003eUsers: 2\\u003cbr\\u003eProperties: 25\\u003cbr\\u003eEdits: 293\\u003cbr\\u003ePages: 71\",\"SciLinkDB\\u003cbr\\u003eURL: https:\\u002f\\u002fscilinkdb.wikibase.cloud\\u003cbr\\u003eHost: Wikibase Cloud\\u003cbr\\u003eVersion: 1.39.7\\u003cbr\\u003eStart Date: 2024-05-22 00:00:00+00:00\\u003cbr\\u003eActive Users: 1\\u003cbr\\u003eUsers: 2\\u003cbr\\u003eProperties: 191\\u003cbr\\u003eEdits: 1047\\u003cbr\\u003ePages: 588\",\"Fermenting Data\\u003cbr\\u003eURL: https:\\u002f\\u002ffermentingdata.wikibase.cloud\\u003cbr\\u003eHost: Wikibase Cloud\\u003cbr\\u003eVersion: 1.39.7\\u003cbr\\u003eStart Date: 2023-05-30 00:00:00+00:00\\u003cbr\\u003eActive Users: 0\\u003cbr\\u003eUsers: 14\\u003cbr\\u003eProperties: 22\\u003cbr\\u003eEdits: 116\\u003cbr\\u003ePages: 69\",\"Chilean Music\\u003cbr\\u003eURL: https:\\u002f\\u002fchilean-music.wikibase.cloud\\u003cbr\\u003eHost: Wikibase Cloud\\u003cbr\\u003eVersion: 1.39.7\\u003cbr\\u003eStart Date: 2024-04-03 00:00:00+00:00\\u003cbr\\u003eActive Users: 2\\u003cbr\\u003eUsers: 2\\u003cbr\\u003eProperties: 15\\u003cbr\\u003eEdits: 149\\u003cbr\\u003ePages: 75\",\"Immaterieel erfgoed\\u003cbr\\u003eURL: https:\\u002f\\u002fimmaterieel-erfgoed.wikibase.cloud\\u003cbr\\u003eHost: Wikibase Cloud\\u003cbr\\u003eVersion: 1.39.7\\u003cbr\\u003eStart Date: 2022-09-19 00:00:00+00:00\\u003cbr\\u003eActive Users: 1\\u003cbr\\u003eUsers: 4\\u003cbr\\u003eProperties: 32\\u003cbr\\u003eEdits: 215\\u003cbr\\u003ePages: 68\",\"Okrzeja\\u003cbr\\u003eURL: https:\\u002f\\u002fokrzeja.wikibase.cloud\\u003cbr\\u003eHost: Wikibase Cloud\\u003cbr\\u003eVersion: 1.39.7\\u003cbr\\u003eStart Date: 2024-08-30 00:00:00+00:00\\u003cbr\\u003eActive Users: 0\\u003cbr\\u003eUsers: 2\\u003cbr\\u003eProperties: 35\\u003cbr\\u003eEdits: 170\\u003cbr\\u003ePages: 67\",\"AAS semanticId Repository\\u003cbr\\u003eURL: https:\\u002f\\u002fsemanticid.aas-connect.com\\u003cbr\\u003eHost: Wikibase Cloud\\u003cbr\\u003eVersion: 1.39.7\\u003cbr\\u003eStart Date: 2023-12-14 00:00:00+00:00\\u003cbr\\u003eActive Users: 0\\u003cbr\\u003eUsers: 4\\u003cbr\\u003eProperties: 19\\u003cbr\\u003eEdits: 187\\u003cbr\\u003ePages: 67\",\"Food Systems and Landscapes\\u003cbr\\u003eURL: https:\\u002f\\u002ffoodsystemslab.wikibase.cloud\\u003cbr\\u003eHost: Wikibase Cloud\\u003cbr\\u003eVersion: 1.39.7\\u003cbr\\u003eStart Date: 2020-08-07 00:00:00+00:00\\u003cbr\\u003eActive Users: 0\\u003cbr\\u003eUsers: 2\\u003cbr\\u003eProperties: 13\\u003cbr\\u003eEdits: 98\\u003cbr\\u003ePages: 66\",\"Iowa State Metadata Services TEST\\u003cbr\\u003eURL: https:\\u002f\\u002fiast-metadata-test.wikibase.cloud\\u003cbr\\u003eHost: Wikibase Cloud\\u003cbr\\u003eVersion: 1.39.7\\u003cbr\\u003eStart Date: 2022-09-20 00:00:00+00:00\\u003cbr\\u003eActive Users: 0\\u003cbr\\u003eUsers: 8\\u003cbr\\u003eProperties: 17\\u003cbr\\u003eEdits: 339\\u003cbr\\u003ePages: 67\",\"My Community Archives\\u003cbr\\u003eURL: https:\\u002f\\u002fmycommunityarchives.wikibase.cloud\\u003cbr\\u003eHost: Wikibase Cloud\\u003cbr\\u003eVersion: 1.39.7\\u003cbr\\u003eStart Date: 2023-01-07 00:00:00+00:00\\u003cbr\\u003eActive Users: 0\\u003cbr\\u003eUsers: 4\\u003cbr\\u003eProperties: 45\\u003cbr\\u003eEdits: 280\\u003cbr\\u003ePages: 65\",\"AGAM\\u003cbr\\u003eURL: https:\\u002f\\u002fagausgabemedien.wikibase.cloud\\u003cbr\\u003eHost: Wikibase Cloud\\u003cbr\\u003eVersion: 1.39.7\\u003cbr\\u003eStart Date: 2022-12-21 00:00:00+00:00\\u003cbr\\u003eActive Users: 0\\u003cbr\\u003eUsers: 27\\u003cbr\\u003eProperties: 23\\u003cbr\\u003eEdits: 167\\u003cbr\\u003ePages: 66\",\"\\u6c49\\u8bed\\u767e\\u79d1\\u003cbr\\u003eURL: https:\\u002f\\u002fchinesepedia.wikibase.cloud\\u003cbr\\u003eHost: Wikibase Cloud\\u003cbr\\u003eVersion: 1.39.7\\u003cbr\\u003eStart Date: 2024-08-20 00:00:00+00:00\\u003cbr\\u003eActive Users: 1\\u003cbr\\u003eUsers: 4\\u003cbr\\u003eProperties: 6\\u003cbr\\u003eEdits: 217\\u003cbr\\u003ePages: 70\",\"Qvtorw Onwup\\u003cbr\\u003eURL: https:\\u002f\\u002fqvtorwonwup00.wikibase.cloud\\u003cbr\\u003eHost: Wikibase Cloud\\u003cbr\\u003eVersion: 1.39.7\\u003cbr\\u003eStart Date: 2024-06-21 00:00:00+00:00\\u003cbr\\u003eActive Users: 0\\u003cbr\\u003eUsers: 2\\u003cbr\\u003eProperties: 63\\u003cbr\\u003eEdits: 64\\u003cbr\\u003ePages: 64\",\"Star Wars Data Holocronn\\u003cbr\\u003eURL: https:\\u002f\\u002fholocron.wikibase.cloud\\u003cbr\\u003eHost: Wikibase Cloud\\u003cbr\\u003eVersion: 1.39.7\\u003cbr\\u003eStart Date: 2024-05-22 00:00:00+00:00\\u003cbr\\u003eActive Users: 0\\u003cbr\\u003eUsers: 2\\u003cbr\\u003eProperties: 30\\u003cbr\\u003eEdits: 250\\u003cbr\\u003ePages: 63\",\"lib\\u003cbr\\u003eURL: https:\\u002f\\u002flibtool.wikibase.cloud\\u003cbr\\u003eHost: Wikibase Cloud\\u003cbr\\u003eVersion: 1.39.7\\u003cbr\\u003eStart Date: 2024-04-22 00:00:00+00:00\\u003cbr\\u003eActive Users: 0\\u003cbr\\u003eUsers: 2\\u003cbr\\u003eProperties: 60\\u003cbr\\u003eEdits: 88\\u003cbr\\u003ePages: 61\",\"works.bibframe.wiki\\u003cbr\\u003eURL: https:\\u002f\\u002fworks.bibframe.wiki\\u003cbr\\u003eHost: Wikibase Cloud\\u003cbr\\u003eVersion: 1.39.7\\u003cbr\\u003eStart Date: 2021-12-29 00:00:00+00:00\\u003cbr\\u003eActive Users: 0\\u003cbr\\u003eUsers: 3\\u003cbr\\u003eProperties: 18\\u003cbr\\u003eEdits: 212\\u003cbr\\u003ePages: 60\",\"Lerner-Michard\\u003cbr\\u003eURL: https:\\u002f\\u002flerner-michard.wikibase.cloud\\u003cbr\\u003eHost: Wikibase Cloud\\u003cbr\\u003eVersion: 1.39.7\\u003cbr\\u003eStart Date: 2023-12-26 00:00:00+00:00\\u003cbr\\u003eActive Users: 0\\u003cbr\\u003eUsers: 2\\u003cbr\\u003eProperties: 6\\u003cbr\\u003eEdits: 151\\u003cbr\\u003ePages: 59\",\"Maptest\\u003cbr\\u003eURL: https:\\u002f\\u002fmaptest.wikibase.cloud\\u003cbr\\u003eHost: Wikibase Cloud\\u003cbr\\u003eVersion: 1.39.7\\u003cbr\\u003eStart Date: 2022-12-21 00:00:00+00:00\\u003cbr\\u003eActive Users: 0\\u003cbr\\u003eUsers: 3\\u003cbr\\u003eProperties: 28\\u003cbr\\u003eEdits: 125\\u003cbr\\u003ePages: 58\",\"Burocracia Acad\\u00eamica\\u003cbr\\u003eURL: https:\\u002f\\u002fburocracia.wikibase.cloud\\u003cbr\\u003eHost: Wikibase Cloud\\u003cbr\\u003eVersion: 1.39.7\\u003cbr\\u003eStart Date: 2023-02-09 00:00:00+00:00\\u003cbr\\u003eActive Users: 0\\u003cbr\\u003eUsers: 6\\u003cbr\\u003eProperties: 23\\u003cbr\\u003eEdits: 184\\u003cbr\\u003ePages: 62\",\"LD4 Wikibase Working Hour sandbox\\u003cbr\\u003eURL: https:\\u002f\\u002fld4-wbwh-sandbox.wikibase.cloud\\u003cbr\\u003eHost: Wikibase Cloud\\u003cbr\\u003eVersion: 1.39.7\\u003cbr\\u003eStart Date: 2023-04-17 00:00:00+00:00\\u003cbr\\u003eActive Users: 0\\u003cbr\\u003eUsers: 2\\u003cbr\\u003eProperties: 39\\u003cbr\\u003eEdits: 325\\u003cbr\\u003ePages: 54\",\"N4O Provenance\\u003cbr\\u003eURL: https:\\u002f\\u002fn4o-prov.wikibase.cloud\\u003cbr\\u003eHost: Wikibase Cloud\\u003cbr\\u003eVersion: 1.39.7\\u003cbr\\u003eStart Date: 2023-11-10 00:00:00+00:00\\u003cbr\\u003eActive Users: 1\\u003cbr\\u003eUsers: 3\\u003cbr\\u003eProperties: 25\\u003cbr\\u003eEdits: 200\\u003cbr\\u003ePages: 52\",\"Qvtorw Onwup\\u003cbr\\u003eURL: https:\\u002f\\u002fqvtorwonwup.wikibase.cloud\\u003cbr\\u003eHost: Wikibase Cloud\\u003cbr\\u003eVersion: 1.39.7\\u003cbr\\u003eStart Date: 2024-06-20 00:00:00+00:00\\u003cbr\\u003eActive Users: 0\\u003cbr\\u003eUsers: 2\\u003cbr\\u003eProperties: 44\\u003cbr\\u003eEdits: 84\\u003cbr\\u003ePages: 50\",\"nkcr-sandbox\\u003cbr\\u003eURL: https:\\u002f\\u002fnkcr-sandbox.wikibase.cloud\\u003cbr\\u003eHost: Wikibase Cloud\\u003cbr\\u003eVersion: 1.39.7\\u003cbr\\u003eStart Date: 2024-04-03 00:00:00+00:00\\u003cbr\\u003eActive Users: 2\\u003cbr\\u003eUsers: 13\\u003cbr\\u003eProperties: 18\\u003cbr\\u003eEdits: 131\\u003cbr\\u003ePages: 52\",\"Paikkatietopalvelu\\u003cbr\\u003eURL: https:\\u002f\\u002fpaikkatietopalvelu.wikibase.cloud\\u003cbr\\u003eHost: Wikibase Cloud\\u003cbr\\u003eVersion: 1.39.7\\u003cbr\\u003eStart Date: 2021-03-05 00:00:00+00:00\\u003cbr\\u003eActive Users: 0\\u003cbr\\u003eUsers: 3\\u003cbr\\u003eProperties: 22\\u003cbr\\u003eEdits: 199\\u003cbr\\u003ePages: 46\",\"portobarroco\\u003cbr\\u003eURL: https:\\u002f\\u002fportobarroco.wikibase.cloud\\u003cbr\\u003eHost: Wikibase Cloud\\u003cbr\\u003eVersion: 1.39.7\\u003cbr\\u003eStart Date: 2024-05-14 00:00:00+00:00\\u003cbr\\u003eActive Users: 0\\u003cbr\\u003eUsers: 2\\u003cbr\\u003eProperties: 39\\u003cbr\\u003eEdits: 56\\u003cbr\\u003ePages: 46\",\"Nosakhare Okuons\\u003cbr\\u003eURL: https:\\u002f\\u002fnosakhare-okuons.wikibase.cloud\\u003cbr\\u003eHost: Wikibase Cloud\\u003cbr\\u003eVersion: 1.39.7\\u003cbr\\u003eStart Date: 2023-07-13 00:00:00+00:00\\u003cbr\\u003eActive Users: 0\\u003cbr\\u003eUsers: 2\\u003cbr\\u003eProperties: 23\\u003cbr\\u003eEdits: 62\\u003cbr\\u003ePages: 45\",\"Paikka\\u003cbr\\u003eURL: https:\\u002f\\u002fpaikka.wikibase.cloud\\u003cbr\\u003eHost: Wikibase Cloud\\u003cbr\\u003eVersion: 1.39.7\\u003cbr\\u003eStart Date: 2020-01-21 00:00:00+00:00\\u003cbr\\u003eActive Users: 0\\u003cbr\\u003eUsers: 6\\u003cbr\\u003eProperties: 20\\u003cbr\\u003eEdits: 147\\u003cbr\\u003ePages: 43\",\"AFL\\u003cbr\\u003eURL: https:\\u002f\\u002fafl-cidoc.wikibase.cloud\\u003cbr\\u003eHost: Wikibase Cloud\\u003cbr\\u003eVersion: 1.39.7\\u003cbr\\u003eStart Date: 2020-10-19 00:00:00+00:00\\u003cbr\\u003eActive Users: 0\\u003cbr\\u003eUsers: 2\\u003cbr\\u003eProperties: 13\\u003cbr\\u003eEdits: 125\\u003cbr\\u003ePages: 41\",\"wikiebase_instance\\u003cbr\\u003eURL: https:\\u002f\\u002fwikibase-instance.wikibase.cloud\\u003cbr\\u003eHost: Wikibase Cloud\\u003cbr\\u003eVersion: 1.39.7\\u003cbr\\u003eStart Date: 2024-09-02 00:00:00+00:00\\u003cbr\\u003eActive Users: 0\\u003cbr\\u003eUsers: 2\\u003cbr\\u003eProperties: 16\\u003cbr\\u003eEdits: 64\\u003cbr\\u003ePages: 41\",\"Magnus Entities\\u003cbr\\u003eURL: https:\\u002f\\u002fmagnus.wikibase.cloud\\u003cbr\\u003eHost: Wikibase Cloud\\u003cbr\\u003eVersion: 1.39.7\\u003cbr\\u003eStart Date: 2023-03-14 00:00:00+00:00\\u003cbr\\u003eActive Users: 0\\u003cbr\\u003eUsers: 2\\u003cbr\\u003eProperties: 8\\u003cbr\\u003eEdits: 58\\u003cbr\\u003ePages: 40\",\"quxfarm\\u003cbr\\u003eURL: https:\\u002f\\u002fquxfarm.wikibase.cloud\\u003cbr\\u003eHost: Wikibase Cloud\\u003cbr\\u003eVersion: 1.39.7\\u003cbr\\u003eStart Date: 2020-06-03 00:00:00+00:00\\u003cbr\\u003eActive Users: 0\\u003cbr\\u003eUsers: 2\\u003cbr\\u003eProperties: 3\\u003cbr\\u003eEdits: 141\\u003cbr\\u003ePages: 39\",\"Wikimedia France Open Data\\u003cbr\\u003eURL: https:\\u002f\\u002fwm-fr.wikibase.cloud\\u003cbr\\u003eHost: Wikibase Cloud\\u003cbr\\u003eVersion: 1.39.7\\u003cbr\\u003eStart Date: 2024-10-06 00:00:00+00:00\\u003cbr\\u003eActive Users: 2\\u003cbr\\u003eUsers: 2\\u003cbr\\u003eProperties: 15\\u003cbr\\u003eEdits: 118\\u003cbr\\u003ePages: 40\",\"Wikidating\\u003cbr\\u003eURL: https:\\u002f\\u002fwikidating.wikibase.cloud\\u003cbr\\u003eHost: Wikibase Cloud\\u003cbr\\u003eVersion: 1.39.7\\u003cbr\\u003eStart Date: 2024-05-01 00:00:00+00:00\\u003cbr\\u003eActive Users: 0\\u003cbr\\u003eUsers: 11\\u003cbr\\u003eProperties: 20\\u003cbr\\u003eEdits: 52\\u003cbr\\u003ePages: 40\",\"Aikibooks\\u003cbr\\u003eURL: https:\\u002f\\u002faikibooks.wikibase.cloud\\u003cbr\\u003eHost: Wikibase Cloud\\u003cbr\\u003eVersion: 1.39.7\\u003cbr\\u003eStart Date: 2023-07-12 00:00:00+00:00\\u003cbr\\u003eActive Users: 0\\u003cbr\\u003eUsers: 2\\u003cbr\\u003eProperties: 12\\u003cbr\\u003eEdits: 73\\u003cbr\\u003ePages: 39\",\"Wesley Collections\\u003cbr\\u003eURL: https:\\u002f\\u002fwesley-collections.wikibase.cloud\\u003cbr\\u003eHost: Wikibase Cloud\\u003cbr\\u003eVersion: 1.39.7\\u003cbr\\u003eStart Date: 2023-07-14 00:00:00+00:00\\u003cbr\\u003eActive Users: 0\\u003cbr\\u003eUsers: 2\\u003cbr\\u003eProperties: 11\\u003cbr\\u003eEdits: 81\\u003cbr\\u003ePages: 38\",\"Digitalisierungsforschung\\u003cbr\\u003eURL: https:\\u002f\\u002fdigitalisierungsforschung.wikibase.cloud\\u003cbr\\u003eHost: Wikibase Cloud\\u003cbr\\u003eVersion: 1.39.7\\u003cbr\\u003eStart Date: 2024-09-09 00:00:00+00:00\\u003cbr\\u003eActive Users: 1\\u003cbr\\u003eUsers: 2\\u003cbr\\u003eProperties: 16\\u003cbr\\u003eEdits: 85\\u003cbr\\u003ePages: 39\",\"hercules\\u003cbr\\u003eURL: https:\\u002f\\u002fhercules.wikibase.cloud\\u003cbr\\u003eHost: Wikibase Cloud\\u003cbr\\u003eVersion: 1.39.7\\u003cbr\\u003eStart Date: 2020-01-17 00:00:00+00:00\\u003cbr\\u003eActive Users: 0\\u003cbr\\u003eUsers: 4\\u003cbr\\u003eProperties: 12\\u003cbr\\u003eEdits: 172\\u003cbr\\u003ePages: 37\",\"Books R Databases\\u003cbr\\u003eURL: https:\\u002f\\u002fbooksrdatabases.wikibase.cloud\\u003cbr\\u003eHost: Wikibase Cloud\\u003cbr\\u003eVersion: 1.39.7\\u003cbr\\u003eStart Date: 2024-06-14 00:00:00+00:00\\u003cbr\\u003eActive Users: 1\\u003cbr\\u003eUsers: 2\\u003cbr\\u003eProperties: 37\\u003cbr\\u003eEdits: 211\\u003cbr\\u003ePages: 55\",\"MCAT@HKBU\\u003cbr\\u003eURL: https:\\u002f\\u002fhkbu-mcat.wikibase.cloud\\u003cbr\\u003eHost: Wikibase Cloud\\u003cbr\\u003eVersion: 1.39.7\\u003cbr\\u003eStart Date: 2024-03-22 00:00:00+00:00\\u003cbr\\u003eActive Users: 0\\u003cbr\\u003eUsers: 3\\u003cbr\\u003eProperties: 9\\u003cbr\\u003eEdits: 252\\u003cbr\\u003ePages: 36\",\"Kaplan\\u003cbr\\u003eURL: https:\\u002f\\u002fkaplancollection.wikibase.cloud\\u003cbr\\u003eHost: Wikibase Cloud\\u003cbr\\u003eVersion: 1.39.7\\u003cbr\\u003eStart Date: 2024-09-24 00:00:00+00:00\\u003cbr\\u003eActive Users: 1\\u003cbr\\u003eUsers: 2\\u003cbr\\u003eProperties: 14\\u003cbr\\u003eEdits: 40116\\u003cbr\\u003ePages: 16105\",\"Meteorology\\u003cbr\\u003eURL: https:\\u002f\\u002fmeteorology.wikibase.cloud\\u003cbr\\u003eHost: Wikibase Cloud\\u003cbr\\u003eVersion: 1.39.7\\u003cbr\\u003eStart Date: 2023-11-01 00:00:00+00:00\\u003cbr\\u003eActive Users: 0\\u003cbr\\u003eUsers: 3\\u003cbr\\u003eProperties: 12\\u003cbr\\u003eEdits: 77\\u003cbr\\u003ePages: 35\",\"Research Literature for Wikibase\\u003cbr\\u003eURL: https:\\u002f\\u002fresearchwb.wikibase.cloud\\u003cbr\\u003eHost: Wikibase Cloud\\u003cbr\\u003eVersion: 1.39.7\\u003cbr\\u003eStart Date: 2023-02-25 00:00:00+00:00\\u003cbr\\u003eActive Users: 0\\u003cbr\\u003eUsers: 6\\u003cbr\\u003eProperties: 11\\u003cbr\\u003eEdits: 166\\u003cbr\\u003ePages: 35\",\"LAC test\\u003cbr\\u003eURL: https:\\u002f\\u002flac-test.wikibase.cloud\\u003cbr\\u003eHost: Wikibase Cloud\\u003cbr\\u003eVersion: 1.39.7\\u003cbr\\u003eStart Date: 2023-08-24 00:00:00+00:00\\u003cbr\\u003eActive Users: 0\\u003cbr\\u003eUsers: 2\\u003cbr\\u003eProperties: 15\\u003cbr\\u003eEdits: 69\\u003cbr\\u003ePages: 35\",\"courli\\u003cbr\\u003eURL: https:\\u002f\\u002fcourli.wikibase.cloud\\u003cbr\\u003eHost: Wikibase Cloud\\u003cbr\\u003eVersion: 1.39.7\\u003cbr\\u003eStart Date: 2024-03-11 00:00:00+00:00\\u003cbr\\u003eActive Users: 0\\u003cbr\\u003eUsers: 3\\u003cbr\\u003eProperties: 17\\u003cbr\\u003eEdits: 91\\u003cbr\\u003ePages: 35\",\"tmp-18769876427210\\u003cbr\\u003eURL: https:\\u002f\\u002ftmp-18769876427210.wikibase.cloud\\u003cbr\\u003eHost: Wikibase Cloud\\u003cbr\\u003eVersion: 1.39.7\\u003cbr\\u003eStart Date: 2024-04-18 00:00:00+00:00\\u003cbr\\u003eActive Users: 0\\u003cbr\\u003eUsers: 2\\u003cbr\\u003eProperties: 34\\u003cbr\\u003eEdits: 35\\u003cbr\\u003ePages: 35\",\"Almeda Test Wikibase\\u003cbr\\u003eURL: https:\\u002f\\u002falmedatestwikibase.wikibase.cloud\\u003cbr\\u003eHost: Wikibase Cloud\\u003cbr\\u003eVersion: 1.39.7\\u003cbr\\u003eStart Date: 2023-10-09 00:00:00+00:00\\u003cbr\\u003eActive Users: 0\\u003cbr\\u003eUsers: 4\\u003cbr\\u003eProperties: 16\\u003cbr\\u003eEdits: 77\\u003cbr\\u003ePages: 34\",\"MLBase\\u003cbr\\u003eURL: https:\\u002f\\u002fml-base-test.wikibase.cloud\\u003cbr\\u003eHost: Wikibase Cloud\\u003cbr\\u003eVersion: 1.39.7\\u003cbr\\u003eStart Date: 2024-10-04 00:00:00+00:00\\u003cbr\\u003eActive Users: 2\\u003cbr\\u003eUsers: 2\\u003cbr\\u003eProperties: 14\\u003cbr\\u003eEdits: 83\\u003cbr\\u003ePages: 34\",\"Languages\\u003cbr\\u003eURL: https:\\u002f\\u002flanguages.wikibase.cloud\\u003cbr\\u003eHost: Wikibase Cloud\\u003cbr\\u003eVersion: 1.39.7\\u003cbr\\u003eStart Date: 2019-11-23 00:00:00+00:00\\u003cbr\\u003eActive Users: 0\\u003cbr\\u003eUsers: 2\\u003cbr\\u003eProperties: 25\\u003cbr\\u003eEdits: 55\\u003cbr\\u003ePages: 33\",\"Dictionary of Mormon Biography\\u003cbr\\u003eURL: https:\\u002f\\u002fmormonbiography.org\\u003cbr\\u003eHost: Wikibase Cloud\\u003cbr\\u003eVersion: 1.39.7\\u003cbr\\u003eStart Date: 2022-09-05 00:00:00+00:00\\u003cbr\\u003eActive Users: 0\\u003cbr\\u003eUsers: 34\\u003cbr\\u003eProperties: 13\\u003cbr\\u003eEdits: 82\\u003cbr\\u003ePages: 33\",\"LamBase\\u003cbr\\u003eURL: https:\\u002f\\u002flambase.wikibase.cloud\\u003cbr\\u003eHost: Wikibase Cloud\\u003cbr\\u003eVersion: 1.39.7\\u003cbr\\u003eStart Date: 2023-11-18 00:00:00+00:00\\u003cbr\\u003eActive Users: 0\\u003cbr\\u003eUsers: 2\\u003cbr\\u003eProperties: 5\\u003cbr\\u003eEdits: 40\\u003cbr\\u003ePages: 34\",\"FLMR Sandbox\\u003cbr\\u003eURL: https:\\u002f\\u002fflmr-db.wikibase.cloud\\u003cbr\\u003eHost: Wikibase Cloud\\u003cbr\\u003eVersion: 1.39.7\\u003cbr\\u003eStart Date: 2023-11-27 00:00:00+00:00\\u003cbr\\u003eActive Users: 0\\u003cbr\\u003eUsers: 3\\u003cbr\\u003eProperties: 13\\u003cbr\\u003eEdits: 104\\u003cbr\\u003ePages: 33\",\"Example Wikibase\\u003cbr\\u003eURL: https:\\u002f\\u002fexamplewikiuo283069.wikibase.cloud\\u003cbr\\u003eHost: Wikibase Cloud\\u003cbr\\u003eVersion: 1.39.7\\u003cbr\\u003eStart Date: 2024-03-05 00:00:00+00:00\\u003cbr\\u003eActive Users: 0\\u003cbr\\u003eUsers: 2\\u003cbr\\u003eProperties: 10\\u003cbr\\u003eEdits: 134\\u003cbr\\u003ePages: 32\",\"Photo-data\\u003cbr\\u003eURL: https:\\u002f\\u002fphoto-data.wikibase.cloud\\u003cbr\\u003eHost: Wikibase Cloud\\u003cbr\\u003eVersion: 1.39.7\\u003cbr\\u003eStart Date: 2020-10-04 00:00:00+00:00\\u003cbr\\u003eActive Users: 0\\u003cbr\\u003eUsers: 2\\u003cbr\\u003eProperties: 11\\u003cbr\\u003eEdits: 201\\u003cbr\\u003ePages: 31\",\"Science Fiction History\\u003cbr\\u003eURL: https:\\u002f\\u002fsciencefictionhistory.wikibase.cloud\\u003cbr\\u003eHost: Wikibase Cloud\\u003cbr\\u003eVersion: 1.39.7\\u003cbr\\u003eStart Date: 2023-03-20 00:00:00+00:00\\u003cbr\\u003eActive Users: 0\\u003cbr\\u003eUsers: 2\\u003cbr\\u003eProperties: 21\\u003cbr\\u003eEdits: 76\\u003cbr\\u003ePages: 31\",\"Validator Testing Wikidata\\u003cbr\\u003eURL: https:\\u002f\\u002fvalidatortest.wikibase.cloud\\u003cbr\\u003eHost: Wikibase Cloud\\u003cbr\\u003eVersion: 1.39.7\\u003cbr\\u003eStart Date: 2024-03-18 00:00:00+00:00\\u003cbr\\u003eActive Users: 1\\u003cbr\\u003eUsers: 3\\u003cbr\\u003eProperties: 9\\u003cbr\\u003eEdits: 247\\u003cbr\\u003ePages: 31\",\"Verb Conjugation Data\\u003cbr\\u003eURL: https:\\u002f\\u002fverb-conjugation-data.wikibase.cloud\\u003cbr\\u003eHost: Wikibase Cloud\\u003cbr\\u003eVersion: 1.39.7\\u003cbr\\u003eStart Date: 2024-08-27 00:00:00+00:00\\u003cbr\\u003eActive Users: 0\\u003cbr\\u003eUsers: 2\\u003cbr\\u003eProperties: 12\\u003cbr\\u003eEdits: 36\\u003cbr\\u003ePages: 31\",\"Vicky Library\\u003cbr\\u003eURL: https:\\u002f\\u002fvickylibrary.wikibase.cloud\\u003cbr\\u003eHost: Wikibase Cloud\\u003cbr\\u003eVersion: 1.39.7\\u003cbr\\u003eStart Date: 2023-09-13 00:00:00+00:00\\u003cbr\\u003eActive Users: 0\\u003cbr\\u003eUsers: 2\\u003cbr\\u003eProperties: 10\\u003cbr\\u003eEdits: 68\\u003cbr\\u003ePages: 30\",\"The Art of (Our) Storytelling\\u003cbr\\u003eURL: https:\\u002f\\u002fblack-life-writing-bib.wikibase.cloud\\u003cbr\\u003eHost: Wikibase Cloud\\u003cbr\\u003eVersion: 1.39.7\\u003cbr\\u003eStart Date: 2023-10-12 00:00:00+00:00\\u003cbr\\u003eActive Users: 0\\u003cbr\\u003eUsers: 2\\u003cbr\\u003eProperties: 5\\u003cbr\\u003eEdits: 44\\u003cbr\\u003ePages: 30\",\"miwprofe\\u003cbr\\u003eURL: https:\\u002f\\u002fmiwprofe.wikibase.cloud\\u003cbr\\u003eHost: Wikibase Cloud\\u003cbr\\u003eVersion: 1.39.7\\u003cbr\\u003eStart Date: 2024-05-14 00:00:00+00:00\\u003cbr\\u003eActive Users: 0\\u003cbr\\u003eUsers: 18\\u003cbr\\u003eProperties: 6\\u003cbr\\u003eEdits: 113\\u003cbr\\u003ePages: 30\",\"Womenwriters\\u003cbr\\u003eURL: https:\\u002f\\u002fwomenwriters.wikibase.cloud\\u003cbr\\u003eHost: Wikibase Cloud\\u003cbr\\u003eVersion: 1.39.7\\u003cbr\\u003eStart Date: 2019-12-12 00:00:00+00:00\\u003cbr\\u003eActive Users: 0\\u003cbr\\u003eUsers: 2\\u003cbr\\u003eProperties: 12\\u003cbr\\u003eEdits: 52\\u003cbr\\u003ePages: 29\",\"Doris McCarthy DB\\u003cbr\\u003eURL: https:\\u002f\\u002fdorismccarthy.wikibase.cloud\\u003cbr\\u003eHost: Wikibase Cloud\\u003cbr\\u003eVersion: 1.39.7\\u003cbr\\u003eStart Date: 2023-11-14 00:00:00+00:00\\u003cbr\\u003eActive Users: 0\\u003cbr\\u003eUsers: 2\\u003cbr\\u003eProperties: 12\\u003cbr\\u003eEdits: 81\\u003cbr\\u003ePages: 29\",\"Context Aware Exploratory Search\\u003cbr\\u003eURL: https:\\u002f\\u002fckg-exploratory-search.wikibase.cloud\\u003cbr\\u003eHost: Wikibase Cloud\\u003cbr\\u003eVersion: 1.39.7\\u003cbr\\u003eStart Date: 2022-09-13 00:00:00+00:00\\u003cbr\\u003eActive Users: 0\\u003cbr\\u003eUsers: 2\\u003cbr\\u003eProperties: 11\\u003cbr\\u003eEdits: 68\\u003cbr\\u003ePages: 27\",\"cursoslabra\\u003cbr\\u003eURL: https:\\u002f\\u002fcursoslabra.wikibase.cloud\\u003cbr\\u003eHost: Wikibase Cloud\\u003cbr\\u003eVersion: 1.39.7\\u003cbr\\u003eStart Date: 2020-01-07 00:00:00+00:00\\u003cbr\\u003eActive Users: 0\\u003cbr\\u003eUsers: 4\\u003cbr\\u003eProperties: 9\\u003cbr\\u003eEdits: 44\\u003cbr\\u003ePages: 26\",\"Wikimedia NYC Outreach\\u003cbr\\u003eURL: https:\\u002f\\u002fwmnyc.wikibase.cloud\\u003cbr\\u003eHost: Wikibase Cloud\\u003cbr\\u003eVersion: 1.39.7\\u003cbr\\u003eStart Date: 2019-10-27 00:00:00+00:00\\u003cbr\\u003eActive Users: 0\\u003cbr\\u003eUsers: 2\\u003cbr\\u003eProperties: 6\\u003cbr\\u003eEdits: 82\\u003cbr\\u003ePages: 26\",\"DBGI Wikibase Sandbox\\u003cbr\\u003eURL: https:\\u002f\\u002fdbgi-sandbox.wikibase.cloud\\u003cbr\\u003eHost: Wikibase Cloud\\u003cbr\\u003eVersion: 1.39.7\\u003cbr\\u003eStart Date: 2023-03-05 00:00:00+00:00\\u003cbr\\u003eActive Users: 0\\u003cbr\\u003eUsers: 11\\u003cbr\\u003eProperties: 13\\u003cbr\\u003eEdits: 56\\u003cbr\\u003ePages: 26\",\"Florencia de todo los Santos\\u003cbr\\u003eURL: https:\\u002f\\u002fflorencia.wikibase.cloud\\u003cbr\\u003eHost: Wikibase Cloud\\u003cbr\\u003eVersion: 1.39.7\\u003cbr\\u003eStart Date: 2022-05-20 00:00:00+00:00\\u003cbr\\u003eActive Users: 0\\u003cbr\\u003eUsers: 8\\u003cbr\\u003eProperties: 5\\u003cbr\\u003eEdits: 62\\u003cbr\\u003ePages: 25\",\"Sweeties\\u003cbr\\u003eURL: https:\\u002f\\u002fsweeties.wikibase.cloud\\u003cbr\\u003eHost: Wikibase Cloud\\u003cbr\\u003eVersion: 1.39.7\\u003cbr\\u003eStart Date: 2023-05-10 00:00:00+00:00\\u003cbr\\u003eActive Users: 0\\u003cbr\\u003eUsers: 4\\u003cbr\\u003eProperties: 5\\u003cbr\\u003eEdits: 138\\u003cbr\\u003ePages: 25\",\"Awesome Wiki\\u003cbr\\u003eURL: https:\\u002f\\u002fawesome.wikibase.cloud\\u003cbr\\u003eHost: Wikibase Cloud\\u003cbr\\u003eVersion: 1.39.7\\u003cbr\\u003eStart Date: 2024-08-30 00:00:00+00:00\\u003cbr\\u003eActive Users: 0\\u003cbr\\u003eUsers: 2\\u003cbr\\u003eProperties: 8\\u003cbr\\u003eEdits: 47\\u003cbr\\u003ePages: 25\",\"glacierwatch\\u003cbr\\u003eURL: https:\\u002f\\u002fglacierwatch.wikibase.cloud\\u003cbr\\u003eHost: Wikibase Cloud\\u003cbr\\u003eVersion: 1.39.7\\u003cbr\\u003eStart Date: 2022-09-23 00:00:00+00:00\\u003cbr\\u003eActive Users: 0\\u003cbr\\u003eUsers: 2\\u003cbr\\u003eProperties: 6\\u003cbr\\u003eEdits: 56\\u003cbr\\u003ePages: 24\",\"gilliane\\u003cbr\\u003eURL: https:\\u002f\\u002fgilliane.wikibase.cloud\\u003cbr\\u003eHost: Wikibase Cloud\\u003cbr\\u003eVersion: 1.39.7\\u003cbr\\u003eStart Date: 2019-12-03 00:00:00+00:00\\u003cbr\\u003eActive Users: 0\\u003cbr\\u003eUsers: 3\\u003cbr\\u003eProperties: 14\\u003cbr\\u003eEdits: 45\\u003cbr\\u003ePages: 23\",\"Myexamplewikibase\\u003cbr\\u003eURL: https:\\u002f\\u002fxxxxxxxxxxxxxxxxxx.wikibase.cloud\\u003cbr\\u003eHost: Wikibase Cloud\\u003cbr\\u003eVersion: 1.39.7\\u003cbr\\u003eStart Date: 2023-07-11 00:00:00+00:00\\u003cbr\\u003eActive Users: 0\\u003cbr\\u003eUsers: 3\\u003cbr\\u003eProperties: 5\\u003cbr\\u003eEdits: 39\\u003cbr\\u003ePages: 23\",\"sdiuhfiusdhfiusdgfs\\u003cbr\\u003eURL: https:\\u002f\\u002fjdfjkashdjashdkja.wikibase.cloud\\u003cbr\\u003eHost: Wikibase Cloud\\u003cbr\\u003eVersion: 1.39.7\\u003cbr\\u003eStart Date: 2022-02-01 00:00:00+00:00\\u003cbr\\u003eActive Users: 0\\u003cbr\\u003eUsers: 5\\u003cbr\\u003eProperties: 3\\u003cbr\\u003eEdits: 32\\u003cbr\\u003ePages: 22\",\"FacLab\\u003cbr\\u003eURL: https:\\u002f\\u002ffaclab.wikibase.cloud\\u003cbr\\u003eHost: Wikibase Cloud\\u003cbr\\u003eVersion: 1.39.7\\u003cbr\\u003eStart Date: 2019-11-01 00:00:00+00:00\\u003cbr\\u003eActive Users: 0\\u003cbr\\u003eUsers: 3\\u003cbr\\u003eProperties: 4\\u003cbr\\u003eEdits: 44\\u003cbr\\u003ePages: 22\",\"You have to pay!\\u003cbr\\u003eURL: https:\\u002f\\u002fdaaag.wikibase.cloud\\u003cbr\\u003eHost: Wikibase Cloud\\u003cbr\\u003eVersion: 1.39.7\\u003cbr\\u003eStart Date: 2024-07-26 00:00:00+00:00\\u003cbr\\u003eActive Users: 0\\u003cbr\\u003eUsers: 3\\u003cbr\\u003eProperties: 11\\u003cbr\\u003eEdits: 38\\u003cbr\\u003ePages: 23\",\"DIS18-Projektarbeit-1\\u003cbr\\u003eURL: https:\\u002f\\u002ftranscriptional-start-sites.wikibase.cloud\\u003cbr\\u003eHost: Wikibase Cloud\\u003cbr\\u003eVersion: 1.39.7\\u003cbr\\u003eStart Date: 2024-06-14 00:00:00+00:00\\u003cbr\\u003eActive Users: 0\\u003cbr\\u003eUsers: 3\\u003cbr\\u003eProperties: 4\\u003cbr\\u003eEdits: 26\\u003cbr\\u003ePages: 22\",\"Letterbox\\u003cbr\\u003eURL: https:\\u002f\\u002fletterbox.wikibase.cloud\\u003cbr\\u003eHost: Wikibase Cloud\\u003cbr\\u003eVersion: 1.39.7\\u003cbr\\u003eStart Date: 2024-05-17 00:00:00+00:00\\u003cbr\\u003eActive Users: 0\\u003cbr\\u003eUsers: 2\\u003cbr\\u003eProperties: 6\\u003cbr\\u003eEdits: 43\\u003cbr\\u003ePages: 22\",\"Test Geovistory\\u003cbr\\u003eURL: https:\\u002f\\u002ftest-geovistory.wikibase.cloud\\u003cbr\\u003eHost: Wikibase Cloud\\u003cbr\\u003eVersion: 1.39.7\\u003cbr\\u003eStart Date: 2023-07-23 00:00:00+00:00\\u003cbr\\u003eActive Users: 0\\u003cbr\\u003eUsers: 2\\u003cbr\\u003eProperties: 8\\u003cbr\\u003eEdits: 32\\u003cbr\\u003ePages: 21\",\"byspolylibrary\\u003cbr\\u003eURL: https:\\u002f\\u002fwaltspersonal.wikibase.cloud\\u003cbr\\u003eHost: Wikibase Cloud\\u003cbr\\u003eVersion: 1.39.7\\u003cbr\\u003eStart Date: 2023-09-13 00:00:00+00:00\\u003cbr\\u003eActive Users: 0\\u003cbr\\u003eUsers: 2\\u003cbr\\u003eProperties: 8\\u003cbr\\u003eEdits: 41\\u003cbr\\u003ePages: 21\",\"librarianjerywikibase\\u003cbr\\u003eURL: https:\\u002f\\u002finteractivemodule.wikibase.cloud\\u003cbr\\u003eHost: Wikibase Cloud\\u003cbr\\u003eVersion: 1.39.7\\u003cbr\\u003eStart Date: 2023-07-14 00:00:00+00:00\\u003cbr\\u003eActive Users: 0\\u003cbr\\u003eUsers: 2\\u003cbr\\u003eProperties: 7\\u003cbr\\u003eEdits: 56\\u003cbr\\u003ePages: 21\",\"Peace Apparel Collections\\u003cbr\\u003eURL: https:\\u002f\\u002fpeaceapparelcollection.wikibase.cloud\\u003cbr\\u003eHost: Wikibase Cloud\\u003cbr\\u003eVersion: 1.39.7\\u003cbr\\u003eStart Date: 2023-09-13 00:00:00+00:00\\u003cbr\\u003eActive Users: 0\\u003cbr\\u003eUsers: 2\\u003cbr\\u003eProperties: 5\\u003cbr\\u003eEdits: 35\\u003cbr\\u003ePages: 20\",\"Talmudic\\u003cbr\\u003eURL: https:\\u002f\\u002ftalmudic-trial.wikibase.cloud\\u003cbr\\u003eHost: Wikibase Cloud\\u003cbr\\u003eVersion: 1.39.7\\u003cbr\\u003eStart Date: 2024-08-21 00:00:00+00:00\\u003cbr\\u003eActive Users: 0\\u003cbr\\u003eUsers: 2\\u003cbr\\u003eProperties: 8\\u003cbr\\u003eEdits: 27\\u003cbr\\u003ePages: 21\",\"Felipe Ribeiro\\u003cbr\\u003eURL: https:\\u002f\\u002foperarioribeiro.wikibase.cloud\\u003cbr\\u003eHost: Wikibase Cloud\\u003cbr\\u003eVersion: 1.39.7\\u003cbr\\u003eStart Date: 2024-08-27 00:00:00+00:00\\u003cbr\\u003eActive Users: 0\\u003cbr\\u003eUsers: 2\\u003cbr\\u003eProperties: 7\\u003cbr\\u003eEdits: 45\\u003cbr\\u003ePages: 21\",\"Samson Adedoyin Library\\u003cbr\\u003eURL: https:\\u002f\\u002fsamsonadedoyinlibrary.wikibase.cloud\\u003cbr\\u003eHost: Wikibase Cloud\\u003cbr\\u003eVersion: 1.39.7\\u003cbr\\u003eStart Date: 2023-12-19 00:00:00+00:00\\u003cbr\\u003eActive Users: 0\\u003cbr\\u003eUsers: 2\\u003cbr\\u003eProperties: 8\\u003cbr\\u003eEdits: 27\\u003cbr\\u003ePages: 20\",\"Victorian Public Transport Database\\u003cbr\\u003eURL: https:\\u002f\\u002fpt.t4t.pet\\u003cbr\\u003eHost: Wikibase Cloud\\u003cbr\\u003eVersion: 1.39.7\\u003cbr\\u003eStart Date: 2024-05-26 00:00:00+00:00\\u003cbr\\u003eActive Users: 0\\u003cbr\\u003eUsers: 2\\u003cbr\\u003eProperties: 18\\u003cbr\\u003eEdits: 41\\u003cbr\\u003ePages: 20\",\"gndtest\\u003cbr\\u003eURL: https:\\u002f\\u002fgndtest.wikibase.cloud\\u003cbr\\u003eHost: Wikibase Cloud\\u003cbr\\u003eVersion: 1.39.7\\u003cbr\\u003eStart Date: 2021-03-23 00:00:00+00:00\\u003cbr\\u003eActive Users: 0\\u003cbr\\u003eUsers: 2\\u003cbr\\u003eProperties: 12\\u003cbr\\u003eEdits: 40\\u003cbr\\u003ePages: 19\",\"Agents of Enslavement\\u003cbr\\u003eURL: https:\\u002f\\u002fagents-of-enslavement.wikibase.cloud\\u003cbr\\u003eHost: Wikibase Cloud\\u003cbr\\u003eVersion: 1.39.7\\u003cbr\\u003eStart Date: 2021-08-04 00:00:00+00:00\\u003cbr\\u003eActive Users: 0\\u003cbr\\u003eUsers: 4\\u003cbr\\u003eProperties: 4\\u003cbr\\u003eEdits: 59\\u003cbr\\u003ePages: 19\",\"WookieePedia\\u003cbr\\u003eURL: https:\\u002f\\u002fwookieepedia.wikibase.cloud\\u003cbr\\u003eHost: Wikibase Cloud\\u003cbr\\u003eVersion: 1.39.7\\u003cbr\\u003eStart Date: 2024-03-27 00:00:00+00:00\\u003cbr\\u003eActive Users: 0\\u003cbr\\u003eUsers: 3\\u003cbr\\u003eProperties: 9\\u003cbr\\u003eEdits: 45\\u003cbr\\u003ePages: 20\",\"Elixir\\u2019s collections\\u003cbr\\u003eURL: https:\\u002f\\u002felixirslibrary.wikibase.cloud\\u003cbr\\u003eHost: Wikibase Cloud\\u003cbr\\u003eVersion: 1.39.7\\u003cbr\\u003eStart Date: 2023-09-12 00:00:00+00:00\\u003cbr\\u003eActive Users: 0\\u003cbr\\u003eUsers: 2\\u003cbr\\u003eProperties: 7\\u003cbr\\u003eEdits: 40\\u003cbr\\u003ePages: 19\",\"Microscopical Researches\\u003cbr\\u003eURL: https:\\u002f\\u002fschwann.wikibase.cloud\\u003cbr\\u003eHost: Wikibase Cloud\\u003cbr\\u003eVersion: 1.39.7\\u003cbr\\u003eStart Date: 2024-04-07 00:00:00+00:00\\u003cbr\\u003eActive Users: 0\\u003cbr\\u003eUsers: 2\\u003cbr\\u003eProperties: 6\\u003cbr\\u003eEdits: 89\\u003cbr\\u003ePages: 19\",\"ChaWiki\\u003cbr\\u003eURL: https:\\u002f\\u002fchawiki.wikibase.cloud\\u003cbr\\u003eHost: Wikibase Cloud\\u003cbr\\u003eVersion: 1.39.7\\u003cbr\\u003eStart Date: 2023-11-18 00:00:00+00:00\\u003cbr\\u003eActive Users: 0\\u003cbr\\u003eUsers: 2\\u003cbr\\u003eProperties: 8\\u003cbr\\u003eEdits: 89\\u003cbr\\u003ePages: 19\",\"anton5\\u003cbr\\u003eURL: https:\\u002f\\u002fanton5.wikibase.cloud\\u003cbr\\u003eHost: Wikibase Cloud\\u003cbr\\u003eVersion: 1.39.7\\u003cbr\\u003eStart Date: 2024-06-20 00:00:00+00:00\\u003cbr\\u003eActive Users: 0\\u003cbr\\u003eUsers: 2\\u003cbr\\u003eProperties: 12\\u003cbr\\u003eEdits: 40\\u003cbr\\u003ePages: 19\",\"Monacan\\u003cbr\\u003eURL: https:\\u002f\\u002fmonacan.wikibase.cloud\\u003cbr\\u003eHost: Wikibase Cloud\\u003cbr\\u003eVersion: 1.39.7\\u003cbr\\u003eStart Date: 2019-10-26 00:00:00+00:00\\u003cbr\\u003eActive Users: 0\\u003cbr\\u003eUsers: 5\\u003cbr\\u003eProperties: 2\\u003cbr\\u003eEdits: 67\\u003cbr\\u003ePages: 18\",\"Open Music Observatory\\u003cbr\\u003eURL: https:\\u002f\\u002fopenmusic.wikibase.cloud\\u003cbr\\u003eHost: Wikibase Cloud\\u003cbr\\u003eVersion: 1.39.7\\u003cbr\\u003eStart Date: 2024-05-25 00:00:00+00:00\\u003cbr\\u003eActive Users: 0\\u003cbr\\u003eUsers: 2\\u003cbr\\u003eProperties: 3\\u003cbr\\u003eEdits: 97\\u003cbr\\u003ePages: 18\",\"e-qvadrat\\u003cbr\\u003eURL: https:\\u002f\\u002fe-qvadrat.wikibase.cloud\\u003cbr\\u003eHost: Wikibase Cloud\\u003cbr\\u003eVersion: 1.39.7\\u003cbr\\u003eStart Date: 2024-02-20 00:00:00+00:00\\u003cbr\\u003eActive Users: 0\\u003cbr\\u003eUsers: 2\\u003cbr\\u003eProperties: 7\\u003cbr\\u003eEdits: 34\\u003cbr\\u003ePages: 18\",\"Weaver\\u003cbr\\u003eURL: https:\\u002f\\u002fweaver.wikibase.cloud\\u003cbr\\u003eHost: Wikibase Cloud\\u003cbr\\u003eVersion: 1.39.7\\u003cbr\\u003eStart Date: 2023-05-16 00:00:00+00:00\\u003cbr\\u003eActive Users: 0\\u003cbr\\u003eUsers: 2\\u003cbr\\u003eProperties: 11\\u003cbr\\u003eEdits: 37\\u003cbr\\u003ePages: 17\",\"Wikispeleology\\u003cbr\\u003eURL: https:\\u002f\\u002fwikispeleology.wikibase.cloud\\u003cbr\\u003eHost: Wikibase Cloud\\u003cbr\\u003eVersion: 1.39.7\\u003cbr\\u003eStart Date: 2021-05-04 00:00:00+00:00\\u003cbr\\u003eActive Users: 0\\u003cbr\\u003eUsers: 4\\u003cbr\\u003eProperties: 6\\u003cbr\\u003eEdits: 57\\u003cbr\\u003ePages: 17\",\"My Personal Library\\u003cbr\\u003eURL: https:\\u002f\\u002fmypersonallibray.wikibase.cloud\\u003cbr\\u003eHost: Wikibase Cloud\\u003cbr\\u003eVersion: 1.39.7\\u003cbr\\u003eStart Date: 2023-09-12 00:00:00+00:00\\u003cbr\\u003eActive Users: 0\\u003cbr\\u003eUsers: 2\\u003cbr\\u003eProperties: 7\\u003cbr\\u003eEdits: 19\\u003cbr\\u003ePages: 17\",\"Franca's collection\\u003cbr\\u003eURL: https:\\u002f\\u002ffranca.wikibase.cloud\\u003cbr\\u003eHost: Wikibase Cloud\\u003cbr\\u003eVersion: 1.39.7\\u003cbr\\u003eStart Date: 2023-09-12 00:00:00+00:00\\u003cbr\\u003eActive Users: 0\\u003cbr\\u003eUsers: 2\\u003cbr\\u003eProperties: 7\\u003cbr\\u003eEdits: 37\\u003cbr\\u003ePages: 17\",\"anton9\\u003cbr\\u003eURL: https:\\u002f\\u002fanton9.wikibase.cloud\\u003cbr\\u003eHost: Wikibase Cloud\\u003cbr\\u003eVersion: 1.39.7\\u003cbr\\u003eStart Date: 2024-08-20 00:00:00+00:00\\u003cbr\\u003eActive Users: 0\\u003cbr\\u003eUsers: 2\\u003cbr\\u003eProperties: 7\\u003cbr\\u003eEdits: 21\\u003cbr\\u003ePages: 17\",\"hist-arch-reg\\u003cbr\\u003eURL: https:\\u002f\\u002fhist-arch-reg.wikibase.cloud\\u003cbr\\u003eHost: Wikibase Cloud\\u003cbr\\u003eVersion: 1.39.7\\u003cbr\\u003eStart Date: 2024-05-03 00:00:00+00:00\\u003cbr\\u003eActive Users: 0\\u003cbr\\u003eUsers: 2\\u003cbr\\u003eProperties: 7\\u003cbr\\u003eEdits: 33\\u003cbr\\u003ePages: 17\",\"WikiPrompts\\u003cbr\\u003eURL: https:\\u002f\\u002fwikiprompts.wikibase.cloud\\u003cbr\\u003eHost: Wikibase Cloud\\u003cbr\\u003eVersion: 1.39.7\\u003cbr\\u003eStart Date: 2024-09-22 00:00:00+00:00\\u003cbr\\u003eActive Users: 1\\u003cbr\\u003eUsers: 3\\u003cbr\\u003eProperties: 7\\u003cbr\\u003eEdits: 32\\u003cbr\\u003ePages: 17\",\"Precision Oncology\\u003cbr\\u003eURL: https:\\u002f\\u002fgs-oncology.wikibase.cloud\\u003cbr\\u003eHost: Wikibase Cloud\\u003cbr\\u003eVersion: 1.39.7\\u003cbr\\u003eStart Date: 2024-10-05 00:00:00+00:00\\u003cbr\\u003eActive Users: 1\\u003cbr\\u003eUsers: 3\\u003cbr\\u003eProperties: 8\\u003cbr\\u003eEdits: 19\\u003cbr\\u003ePages: 18\",\"TegaOmorodion\\u003cbr\\u003eURL: https:\\u002f\\u002fdelight.wikibase.cloud\\u003cbr\\u003eHost: Wikibase Cloud\\u003cbr\\u003eVersion: 1.39.7\\u003cbr\\u003eStart Date: 2023-07-13 00:00:00+00:00\\u003cbr\\u003eActive Users: 0\\u003cbr\\u003eUsers: 2\\u003cbr\\u003eProperties: 8\\u003cbr\\u003eEdits: 20\\u003cbr\\u003ePages: 16\",\"Poppenspel\\u003cbr\\u003eURL: https:\\u002f\\u002fpoppenspel.wikibase.cloud\\u003cbr\\u003eHost: Wikibase Cloud\\u003cbr\\u003eVersion: 1.39.7\\u003cbr\\u003eStart Date: 2024-10-08 00:00:00+00:00\\u003cbr\\u003eActive Users: 2\\u003cbr\\u003eUsers: 2\\u003cbr\\u003eProperties: 13\\u003cbr\\u003eEdits: 21\\u003cbr\\u003ePages: 17\",\"GraceBeke\\u003cbr\\u003eURL: https:\\u002f\\u002fnigerdeltalibrary.wikibase.cloud\\u003cbr\\u003eHost: Wikibase Cloud\\u003cbr\\u003eVersion: 1.39.7\\u003cbr\\u003eStart Date: 2023-09-12 00:00:00+00:00\\u003cbr\\u003eActive Users: 0\\u003cbr\\u003eUsers: 2\\u003cbr\\u003eProperties: 4\\u003cbr\\u003eEdits: 26\\u003cbr\\u003ePages: 16\",\"Test dokument\\u003cbr\\u003eURL: https:\\u002f\\u002ftestdokument.wikibase.cloud\\u003cbr\\u003eHost: Wikibase Cloud\\u003cbr\\u003eVersion: 1.39.7\\u003cbr\\u003eStart Date: 2023-12-19 00:00:00+00:00\\u003cbr\\u003eActive Users: 0\\u003cbr\\u003eUsers: 3\\u003cbr\\u003eProperties: 3\\u003cbr\\u003eEdits: 36\\u003cbr\\u003ePages: 16\",\"merops\\u003cbr\\u003eURL: https:\\u002f\\u002fmerops.wikibase.cloud\\u003cbr\\u003eHost: Wikibase Cloud\\u003cbr\\u003eVersion: 1.39.7\\u003cbr\\u003eStart Date: 2024-03-05 00:00:00+00:00\\u003cbr\\u003eActive Users: 0\\u003cbr\\u003eUsers: 3\\u003cbr\\u003eProperties: 6\\u003cbr\\u003eEdits: 28\\u003cbr\\u003ePages: 16\",\"miwinves2324\\u003cbr\\u003eURL: https:\\u002f\\u002fmiwinves2324.wikibase.cloud\\u003cbr\\u003eHost: Wikibase Cloud\\u003cbr\\u003eVersion: 1.39.7\\u003cbr\\u003eStart Date: 2024-05-13 00:00:00+00:00\\u003cbr\\u003eActive Users: 0\\u003cbr\\u003eUsers: 6\\u003cbr\\u003eProperties: 4\\u003cbr\\u003eEdits: 34\\u003cbr\\u003ePages: 16\",\"ecomedia\\u003cbr\\u003eURL: https:\\u002f\\u002fecomedia.wikibase.cloud\\u003cbr\\u003eHost: Wikibase Cloud\\u003cbr\\u003eVersion: 1.39.7\\u003cbr\\u003eStart Date: 2024-07-16 00:00:00+00:00\\u003cbr\\u003eActive Users: 0\\u003cbr\\u003eUsers: 3\\u003cbr\\u003eProperties: 10\\u003cbr\\u003eEdits: 36\\u003cbr\\u003ePages: 16\",\"federation\\u003cbr\\u003eURL: https:\\u002f\\u002ffederation.wikibase.cloud\\u003cbr\\u003eHost: Wikibase Cloud\\u003cbr\\u003eVersion: 1.39.7\\u003cbr\\u003eStart Date: 2019-11-01 00:00:00+00:00\\u003cbr\\u003eActive Users: 0\\u003cbr\\u003eUsers: 3\\u003cbr\\u003eProperties: 5\\u003cbr\\u003eEdits: 26\\u003cbr\\u003ePages: 15\",\"wikibasetest\\u003cbr\\u003eURL: https:\\u002f\\u002fwikibasetest.wikibase.cloud\\u003cbr\\u003eHost: Wikibase Cloud\\u003cbr\\u003eVersion: 1.39.7\\u003cbr\\u003eStart Date: 2022-11-16 00:00:00+00:00\\u003cbr\\u003eActive Users: 0\\u003cbr\\u003eUsers: 2\\u003cbr\\u003eProperties: 3\\u003cbr\\u003eEdits: 16\\u003cbr\\u003ePages: 15\",\"Wikitest\\u003cbr\\u003eURL: https:\\u002f\\u002ftestwikiatesttesttesttesteee.wikibase.cloud\\u003cbr\\u003eHost: Wikibase Cloud\\u003cbr\\u003eVersion: 1.39.7\\u003cbr\\u003eStart Date: 2024-09-14 00:00:00+00:00\\u003cbr\\u003eActive Users: 0\\u003cbr\\u003eUsers: 3\\u003cbr\\u003eProperties: 5\\u003cbr\\u003eEdits: 25\\u003cbr\\u003ePages: 16\",\"my wikibase class\\u003cbr\\u003eURL: https:\\u002f\\u002framatu.wikibase.cloud\\u003cbr\\u003eHost: Wikibase Cloud\\u003cbr\\u003eVersion: 1.39.7\\u003cbr\\u003eStart Date: 2023-07-17 00:00:00+00:00\\u003cbr\\u003eActive Users: 0\\u003cbr\\u003eUsers: 2\\u003cbr\\u003eProperties: 10\\u003cbr\\u003eEdits: 23\\u003cbr\\u003ePages: 15\",\"stadnamn\\u003cbr\\u003eURL: https:\\u002f\\u002fstadnamn.wikibase.cloud\\u003cbr\\u003eHost: Wikibase Cloud\\u003cbr\\u003eVersion: 1.39.7\\u003cbr\\u003eStart Date: 2023-08-16 00:00:00+00:00\\u003cbr\\u003eActive Users: 1\\u003cbr\\u003eUsers: 2\\u003cbr\\u003eProperties: 11\\u003cbr\\u003eEdits: 108\\u003cbr\\u003ePages: 17\",\"VJ Test\\u003cbr\\u003eURL: https:\\u002f\\u002ftrial-1.wikibase.cloud\\u003cbr\\u003eHost: Wikibase Cloud\\u003cbr\\u003eVersion: 1.39.7\\u003cbr\\u003eStart Date: 2023-07-27 00:00:00+00:00\\u003cbr\\u003eActive Users: 0\\u003cbr\\u003eUsers: 2\\u003cbr\\u003eProperties: 8\\u003cbr\\u003eEdits: 35\\u003cbr\\u003ePages: 15\",\"Chinese Culture and Heritage\\u003cbr\\u003eURL: https:\\u002f\\u002fchinese-culture-and-heritage.wikibase.cloud\\u003cbr\\u003eHost: Wikibase Cloud\\u003cbr\\u003eVersion: 1.39.7\\u003cbr\\u003eStart Date: 2023-07-10 00:00:00+00:00\\u003cbr\\u003eActive Users: 1\\u003cbr\\u003eUsers: 13\\u003cbr\\u003eProperties: 21\\u003cbr\\u003eEdits: 69\\u003cbr\\u003ePages: 29\",\"Azaiki Public Library\\u003cbr\\u003eURL: https:\\u002f\\u002fazaikilibrary.wikibase.cloud\\u003cbr\\u003eHost: Wikibase Cloud\\u003cbr\\u003eVersion: 1.39.7\\u003cbr\\u003eStart Date: 2023-09-12 00:00:00+00:00\\u003cbr\\u003eActive Users: 0\\u003cbr\\u003eUsers: 2\\u003cbr\\u003eProperties: 5\\u003cbr\\u003eEdits: 25\\u003cbr\\u003ePages: 15\",\"VEE'S FASHION\\u003cbr\\u003eURL: https:\\u002f\\u002fnigerlibrary.wikibase.cloud\\u003cbr\\u003eHost: Wikibase Cloud\\u003cbr\\u003eVersion: 1.39.7\\u003cbr\\u003eStart Date: 2023-09-12 00:00:00+00:00\\u003cbr\\u003eActive Users: 0\\u003cbr\\u003eUsers: 2\\u003cbr\\u003eProperties: 5\\u003cbr\\u003eEdits: 33\\u003cbr\\u003ePages: 15\",\"FMCY Library\\u003cbr\\u003eURL: https:\\u002f\\u002fpoinami-library.wikibase.cloud\\u003cbr\\u003eHost: Wikibase Cloud\\u003cbr\\u003eVersion: 1.39.7\\u003cbr\\u003eStart Date: 2023-09-12 00:00:00+00:00\\u003cbr\\u003eActive Users: 0\\u003cbr\\u003eUsers: 2\\u003cbr\\u003eProperties: 7\\u003cbr\\u003eEdits: 24\\u003cbr\\u003ePages: 15\",\"BrukerBasen\\u003cbr\\u003eURL: https:\\u002f\\u002fbrikerbasen.wikibase.cloud\\u003cbr\\u003eHost: Wikibase Cloud\\u003cbr\\u003eVersion: 1.39.7\\u003cbr\\u003eStart Date: 2024-05-03 00:00:00+00:00\\u003cbr\\u003eActive Users: 0\\u003cbr\\u003eUsers: 2\\u003cbr\\u003eProperties: 6\\u003cbr\\u003eEdits: 15\\u003cbr\\u003ePages: 15\",\"copypastewaste_prototype\\u003cbr\\u003eURL: https:\\u002f\\u002fcopypastewasteprototype.wikibase.cloud\\u003cbr\\u003eHost: Wikibase Cloud\\u003cbr\\u003eVersion: 1.39.7\\u003cbr\\u003eStart Date: 2024-06-19 00:00:00+00:00\\u003cbr\\u003eActive Users: 0\\u003cbr\\u003eUsers: 14\\u003cbr\\u003eProperties: 4\\u003cbr\\u003eEdits: 30\\u003cbr\\u003ePages: 15\",\"Linked Lions\\u003cbr\\u003eURL: https:\\u002f\\u002flinked-lions.wikibase.cloud\\u003cbr\\u003eHost: Wikibase Cloud\\u003cbr\\u003eVersion: 1.39.7\\u003cbr\\u003eStart Date: 2022-09-09 00:00:00+00:00\\u003cbr\\u003eActive Users: 0\\u003cbr\\u003eUsers: 2\\u003cbr\\u003eProperties: 8\\u003cbr\\u003eEdits: 26\\u003cbr\\u003ePages: 14\",\"Oddruns testsite2\\u003cbr\\u003eURL: https:\\u002f\\u002fodos-test2.wikibase.cloud\\u003cbr\\u003eHost: Wikibase Cloud\\u003cbr\\u003eVersion: 1.39.7\\u003cbr\\u003eStart Date: 2024-10-08 00:00:00+00:00\\u003cbr\\u003eActive Users: 2\\u003cbr\\u003eUsers: 2\\u003cbr\\u003eProperties: 6\\u003cbr\\u003eEdits: 19\\u003cbr\\u003ePages: 15\",\"Christos Test\\u003cbr\\u003eURL: https:\\u002f\\u002fchristoslearnswbcloud.wikibase.cloud\\u003cbr\\u003eHost: Wikibase Cloud\\u003cbr\\u003eVersion: 1.39.7\\u003cbr\\u003eStart Date: 2023-01-20 00:00:00+00:00\\u003cbr\\u003eActive Users: 0\\u003cbr\\u003eUsers: 2\\u003cbr\\u003eProperties: 6\\u003cbr\\u003eEdits: 39\\u003cbr\\u003ePages: 14\",\"Timi Library\\u003cbr\\u003eURL: https:\\u002f\\u002ftimilibrary.wikibase.cloud\\u003cbr\\u003eHost: Wikibase Cloud\\u003cbr\\u003eVersion: 1.39.7\\u003cbr\\u003eStart Date: 2023-09-13 00:00:00+00:00\\u003cbr\\u003eActive Users: 0\\u003cbr\\u003eUsers: 2\\u003cbr\\u003eProperties: 3\\u003cbr\\u003eEdits: 20\\u003cbr\\u003ePages: 14\",\"Bena Collections\\u003cbr\\u003eURL: https:\\u002f\\u002fbenacollections.wikibase.cloud\\u003cbr\\u003eHost: Wikibase Cloud\\u003cbr\\u003eVersion: 1.39.7\\u003cbr\\u003eStart Date: 2023-09-12 00:00:00+00:00\\u003cbr\\u003eActive Users: 0\\u003cbr\\u003eUsers: 2\\u003cbr\\u003eProperties: 5\\u003cbr\\u003eEdits: 23\\u003cbr\\u003ePages: 14\",\"INDXR collections\\u003cbr\\u003eURL: https:\\u002f\\u002findxr.wikibase.cloud\\u003cbr\\u003eHost: Wikibase Cloud\\u003cbr\\u003eVersion: 1.39.7\\u003cbr\\u003eStart Date: 2023-02-27 00:00:00+00:00\\u003cbr\\u003eActive Users: 0\\u003cbr\\u003eUsers: 2\\u003cbr\\u003eProperties: 6\\u003cbr\\u003eEdits: 44\\u003cbr\\u003ePages: 14\",\"Grappliana\\u003cbr\\u003eURL: https:\\u002f\\u002fgrappliana.wikibase.cloud\\u003cbr\\u003eHost: Wikibase Cloud\\u003cbr\\u003eVersion: 1.39.7\\u003cbr\\u003eStart Date: 2023-10-06 00:00:00+00:00\\u003cbr\\u003eActive Users: 0\\u003cbr\\u003eUsers: 2\\u003cbr\\u003eProperties: 1\\u003cbr\\u003eEdits: 14\\u003cbr\\u003ePages: 14\",\"La Tunisie M\\u00e9dicale\\u003cbr\\u003eURL: https:\\u002f\\u002ftunismed.wikibase.cloud\\u003cbr\\u003eHost: Wikibase Cloud\\u003cbr\\u003eVersion: 1.39.7\\u003cbr\\u003eStart Date: 2024-04-11 00:00:00+00:00\\u003cbr\\u003eActive Users: 0\\u003cbr\\u003eUsers: 2\\u003cbr\\u003eProperties: 13\\u003cbr\\u003eEdits: 21\\u003cbr\\u003ePages: 14\",\"Dumo Lib\\u003cbr\\u003eURL: https:\\u002f\\u002fdumo-collection.wikibase.cloud\\u003cbr\\u003eHost: Wikibase Cloud\\u003cbr\\u003eVersion: 1.39.7\\u003cbr\\u003eStart Date: 2023-09-12 00:00:00+00:00\\u003cbr\\u003eActive Users: 0\\u003cbr\\u003eUsers: 2\\u003cbr\\u003eProperties: 5\\u003cbr\\u003eEdits: 18\\u003cbr\\u003ePages: 13\",\"GOD'S FAVOURITE\\u003cbr\\u003eURL: https:\\u002f\\u002fgodfavourite.wikibase.cloud\\u003cbr\\u003eHost: Wikibase Cloud\\u003cbr\\u003eVersion: 1.39.7\\u003cbr\\u003eStart Date: 2023-09-13 00:00:00+00:00\\u003cbr\\u003eActive Users: 0\\u003cbr\\u003eUsers: 2\\u003cbr\\u003eProperties: 4\\u003cbr\\u003eEdits: 18\\u003cbr\\u003ePages: 13\",\"Ugly Architecture Test\\u003cbr\\u003eURL: https:\\u002f\\u002fugly-architecture-test.wikibase.cloud\\u003cbr\\u003eHost: Wikibase Cloud\\u003cbr\\u003eVersion: 1.39.7\\u003cbr\\u003eStart Date: 2024-02-01 00:00:00+00:00\\u003cbr\\u003eActive Users: 0\\u003cbr\\u003eUsers: 2\\u003cbr\\u003eProperties: 8\\u003cbr\\u003eEdits: 38\\u003cbr\\u003ePages: 13\",\"Test\\u003cbr\\u003eURL: https:\\u002f\\u002ftest-database.wikibase.cloud\\u003cbr\\u003eHost: Wikibase Cloud\\u003cbr\\u003eVersion: 1.39.7\\u003cbr\\u003eStart Date: 2024-02-01 00:00:00+00:00\\u003cbr\\u003eActive Users: 1\\u003cbr\\u003eUsers: 2\\u003cbr\\u003eProperties: 10\\u003cbr\\u003eEdits: 61\\u003cbr\\u003ePages: 13\",\"University of Leeds Authorities\\u003cbr\\u003eURL: https:\\u002f\\u002fleeds-authorities.wikibase.cloud\\u003cbr\\u003eHost: Wikibase Cloud\\u003cbr\\u003eVersion: 1.39.7\\u003cbr\\u003eStart Date: 2024-05-30 00:00:00+00:00\\u003cbr\\u003eActive Users: 0\\u003cbr\\u003eUsers: 2\\u003cbr\\u003eProperties: 6\\u003cbr\\u003eEdits: 14\\u003cbr\\u003ePages: 14\",\"ScientistsWiki\\u003cbr\\u003eURL: https:\\u002f\\u002ftest-scientists.wikibase.cloud\\u003cbr\\u003eHost: Wikibase Cloud\\u003cbr\\u003eVersion: 1.39.7\\u003cbr\\u003eStart Date: 2024-03-06 00:00:00+00:00\\u003cbr\\u003eActive Users: 0\\u003cbr\\u003eUsers: 2\\u003cbr\\u003eProperties: 4\\u003cbr\\u003eEdits: 21\\u003cbr\\u003ePages: 13\",\"350817\\u003cbr\\u003eURL: https:\\u002f\\u002f350817.wikibase.cloud\\u003cbr\\u003eHost: Wikibase Cloud\\u003cbr\\u003eVersion: 1.39.7\\u003cbr\\u003eStart Date: 2024-02-17 00:00:00+00:00\\u003cbr\\u003eActive Users: 0\\u003cbr\\u003eUsers: 3\\u003cbr\\u003eProperties: 6\\u003cbr\\u003eEdits: 34\\u003cbr\\u003ePages: 13\",\"anton7\\u003cbr\\u003eURL: https:\\u002f\\u002fanton7.wikibase.cloud\\u003cbr\\u003eHost: Wikibase Cloud\\u003cbr\\u003eVersion: 1.39.7\\u003cbr\\u003eStart Date: 2024-08-09 00:00:00+00:00\\u003cbr\\u003eActive Users: 0\\u003cbr\\u003eUsers: 2\\u003cbr\\u003eProperties: 6\\u003cbr\\u003eEdits: 13\\u003cbr\\u003ePages: 13\",\"Test CDC Commons\\u003cbr\\u003eURL: https:\\u002f\\u002fgl-cdc-commons.wikibase.cloud\\u003cbr\\u003eHost: Wikibase Cloud\\u003cbr\\u003eVersion: 1.39.7\\u003cbr\\u003eStart Date: 2024-08-14 00:00:00+00:00\\u003cbr\\u003eActive Users: 0\\u003cbr\\u003eUsers: 2\\u003cbr\\u003eProperties: 6\\u003cbr\\u003eEdits: 13\\u003cbr\\u003ePages: 13\",\"Practicum\\u003cbr\\u003eURL: https:\\u002f\\u002fpracticum.wikibase.cloud\\u003cbr\\u003eHost: Wikibase Cloud\\u003cbr\\u003eVersion: 1.39.7\\u003cbr\\u003eStart Date: 2024-08-16 00:00:00+00:00\\u003cbr\\u003eActive Users: 0\\u003cbr\\u003eUsers: 2\\u003cbr\\u003eProperties: 6\\u003cbr\\u003eEdits: 13\\u003cbr\\u003ePages: 13\",\"Daria Gavrilova (periodista)\\u003cbr\\u003eURL: https:\\u002f\\u002fdariagavrilova.wikibase.cloud\\u003cbr\\u003eHost: Wikibase Cloud\\u003cbr\\u003eVersion: 1.39.7\\u003cbr\\u003eStart Date: 2024-08-15 00:00:00+00:00\\u003cbr\\u003eActive Users: 0\\u003cbr\\u003eUsers: 2\\u003cbr\\u003eProperties: 6\\u003cbr\\u003eEdits: 13\\u003cbr\\u003ePages: 13\",\"personalwiki (on wikibase.cloud)\\u003cbr\\u003eURL: https:\\u002f\\u002fpersonalwiki.wikibase.cloud\\u003cbr\\u003eHost: Wikibase Cloud\\u003cbr\\u003eVersion: 1.39.7\\u003cbr\\u003eStart Date: 2024-08-17 00:00:00+00:00\\u003cbr\\u003eActive Users: 0\\u003cbr\\u003eUsers: 2\\u003cbr\\u003eProperties: 6\\u003cbr\\u003eEdits: 13\\u003cbr\\u003ePages: 13\",\"hiperterminal\\u003cbr\\u003eURL: https:\\u002f\\u002fhiperterminal.wikibase.cloud\\u003cbr\\u003eHost: Wikibase Cloud\\u003cbr\\u003eVersion: 1.39.7\\u003cbr\\u003eStart Date: 2024-08-20 00:00:00+00:00\\u003cbr\\u003eActive Users: 0\\u003cbr\\u003eUsers: 2\\u003cbr\\u003eProperties: 6\\u003cbr\\u003eEdits: 13\\u003cbr\\u003ePages: 13\",\"Talmudic collections test\\u003cbr\\u003eURL: https:\\u002f\\u002ftalmudic-collections-test.wikibase.cloud\\u003cbr\\u003eHost: Wikibase Cloud\\u003cbr\\u003eVersion: 1.39.7\\u003cbr\\u003eStart Date: 2024-08-26 00:00:00+00:00\\u003cbr\\u003eActive Users: 0\\u003cbr\\u003eUsers: 2\\u003cbr\\u003eProperties: 6\\u003cbr\\u003eEdits: 13\\u003cbr\\u003ePages: 13\",\"sangam\\u003cbr\\u003eURL: https:\\u002f\\u002fsangam.wikibase.cloud\\u003cbr\\u003eHost: Wikibase Cloud\\u003cbr\\u003eVersion: 1.39.7\\u003cbr\\u003eStart Date: 2024-09-03 00:00:00+00:00\\u003cbr\\u003eActive Users: 0\\u003cbr\\u003eUsers: 2\\u003cbr\\u003eProperties: 6\\u003cbr\\u003eEdits: 13\\u003cbr\\u003ePages: 13\",\"K\\u00fcnstlNetz1600\\u003cbr\\u003eURL: https:\\u002f\\u002fxn--knstlnetz1600-salzburg-slc.wikibase.cloud\\u003cbr\\u003eHost: Wikibase Cloud\\u003cbr\\u003eVersion: 1.39.7\\u003cbr\\u003eStart Date: 2024-09-05 00:00:00+00:00\\u003cbr\\u003eActive Users: 0\\u003cbr\\u003eUsers: 2\\u003cbr\\u003eProperties: 6\\u003cbr\\u003eEdits: 13\\u003cbr\\u003ePages: 13\",\"Conceptual Model for the Performing Arts\\u003cbr\\u003eURL: https:\\u002f\\u002fperformingarts.wikibase.cloud\\u003cbr\\u003eHost: Wikibase Cloud\\u003cbr\\u003eVersion: 1.39.7\\u003cbr\\u003eStart Date: 2024-09-24 00:00:00+00:00\\u003cbr\\u003eActive Users: 1\\u003cbr\\u003eUsers: 2\\u003cbr\\u003eProperties: 8\\u003cbr\\u003eEdits: 40\\u003cbr\\u003ePages: 17\",\"Komentarz\\u003cbr\\u003eURL: https:\\u002f\\u002ftestowy-komentarz.wikibase.cloud\\u003cbr\\u003eHost: Wikibase Cloud\\u003cbr\\u003eVersion: 1.39.7\\u003cbr\\u003eStart Date: 2024-09-26 00:00:00+00:00\\u003cbr\\u003eActive Users: 0\\u003cbr\\u003eUsers: 2\\u003cbr\\u003eProperties: 6\\u003cbr\\u003eEdits: 13\\u003cbr\\u003ePages: 13\",\"famedata\\u003cbr\\u003eURL: https:\\u002f\\u002ffamedata.wikibase.cloud\\u003cbr\\u003eHost: Wikibase Cloud\\u003cbr\\u003eVersion: 1.39.7\\u003cbr\\u003eStart Date: 2024-10-05 00:00:00+00:00\\u003cbr\\u003eActive Users: 2\\u003cbr\\u003eUsers: 2\\u003cbr\\u003eProperties: 6\\u003cbr\\u003eEdits: 14\\u003cbr\\u003ePages: 13\",\"testing\\u003cbr\\u003eURL: https:\\u002f\\u002ftestingeric.wikibase.cloud\\u003cbr\\u003eHost: Wikibase Cloud\\u003cbr\\u003eVersion: 1.39.7\\u003cbr\\u003eStart Date: 2024-10-04 00:00:00+00:00\\u003cbr\\u003eActive Users: 1\\u003cbr\\u003eUsers: 2\\u003cbr\\u003eProperties: 6\\u003cbr\\u003eEdits: 13\\u003cbr\\u003ePages: 13\",\"Solenne Test Wiki\\u003cbr\\u003eURL: https:\\u002f\\u002ftest-solenne.wikibase.cloud\\u003cbr\\u003eHost: Wikibase Cloud\\u003cbr\\u003eVersion: 1.39.7\\u003cbr\\u003eStart Date: 2024-10-08 00:00:00+00:00\\u003cbr\\u003eActive Users: 2\\u003cbr\\u003eUsers: 2\\u003cbr\\u003eProperties: 6\\u003cbr\\u003eEdits: 14\\u003cbr\\u003ePages: 13\",\"Archive Sandra Becker 01\\u003cbr\\u003eURL: https:\\u002f\\u002fsandrabecker01.wikibase.cloud\\u003cbr\\u003eHost: Wikibase Cloud\\u003cbr\\u003eVersion: 1.39.7\\u003cbr\\u003eStart Date: 2022-12-24 00:00:00+00:00\\u003cbr\\u003eActive Users: 0\\u003cbr\\u003eUsers: 4\\u003cbr\\u003eProperties: 7\\u003cbr\\u003eEdits: 24\\u003cbr\\u003ePages: 12\",\"Nomenclature for Museum Cataloguing\\u003cbr\\u003eURL: https:\\u002f\\u002fnomenclature.wikibase.cloud\\u003cbr\\u003eHost: Wikibase Cloud\\u003cbr\\u003eVersion: 1.39.7\\u003cbr\\u003eStart Date: 2024-10-08 00:00:00+00:00\\u003cbr\\u003eActive Users: 1\\u003cbr\\u003eUsers: 2\\u003cbr\\u003eProperties: 6\\u003cbr\\u003eEdits: 13\\u003cbr\\u003ePages: 13\",\"Fmc library\\u003cbr\\u003eURL: https:\\u002f\\u002fbeauty-lib.wikibase.cloud\\u003cbr\\u003eHost: Wikibase Cloud\\u003cbr\\u003eVersion: 1.39.7\\u003cbr\\u003eStart Date: 2023-09-12 00:00:00+00:00\\u003cbr\\u003eActive Users: 0\\u003cbr\\u003eUsers: 2\\u003cbr\\u003eProperties: 4\\u003cbr\\u003eEdits: 15\\u003cbr\\u003ePages: 12\",\"initial tests confirm success\\u003cbr\\u003eURL: https:\\u002f\\u002finitial-tests-confirm-success.wikibase.cloud\\u003cbr\\u003eHost: Wikibase Cloud\\u003cbr\\u003eVersion: 1.39.7\\u003cbr\\u003eStart Date: 2023-01-06 00:00:00+00:00\\u003cbr\\u003eActive Users: 0\\u003cbr\\u003eUsers: 2\\u003cbr\\u003eProperties: 6\\u003cbr\\u003eEdits: 15\\u003cbr\\u003ePages: 12\",\"DeJongeWiki\\u003cbr\\u003eURL: https:\\u002f\\u002fdejonge.wikibase.cloud\\u003cbr\\u003eHost: Wikibase Cloud\\u003cbr\\u003eVersion: 1.39.7\\u003cbr\\u003eStart Date: 2023-09-23 00:00:00+00:00\\u003cbr\\u003eActive Users: 0\\u003cbr\\u003eUsers: 2\\u003cbr\\u003eProperties: 6\\u003cbr\\u003eEdits: 12\\u003cbr\\u003ePages: 12\",\"AvoinGLAM Archive\\u003cbr\\u003eURL: https:\\u002f\\u002favoinglam.wikibase.cloud\\u003cbr\\u003eHost: Wikibase Cloud\\u003cbr\\u003eVersion: 1.39.7\\u003cbr\\u003eStart Date: 2024-02-19 00:00:00+00:00\\u003cbr\\u003eActive Users: 0\\u003cbr\\u003eUsers: 2\\u003cbr\\u003eProperties: 6\\u003cbr\\u003eEdits: 22\\u003cbr\\u003ePages: 12\",\"Atkins Library Names\\u003cbr\\u003eURL: https:\\u002f\\u002fatkins-names.wikibase.cloud\\u003cbr\\u003eHost: Wikibase Cloud\\u003cbr\\u003eVersion: 1.39.7\\u003cbr\\u003eStart Date: 2021-05-28 00:00:00+00:00\\u003cbr\\u003eActive Users: 0\\u003cbr\\u003eUsers: 2\\u003cbr\\u003eProperties: 8\\u003cbr\\u003eEdits: 26\\u003cbr\\u003ePages: 11\",\"KB RDA Test Wikibase\\u003cbr\\u003eURL: https:\\u002f\\u002fkb-rda-testwikibase.wikibase.cloud\\u003cbr\\u003eHost: Wikibase Cloud\\u003cbr\\u003eVersion: 1.39.7\\u003cbr\\u003eStart Date: 2022-12-08 00:00:00+00:00\\u003cbr\\u003eActive Users: 0\\u003cbr\\u003eUsers: 5\\u003cbr\\u003eProperties: 5\\u003cbr\\u003eEdits: 25\\u003cbr\\u003ePages: 11\",\"Singerman\\u003cbr\\u003eURL: https:\\u002f\\u002fjudaicaamericana.wikibase.cloud\\u003cbr\\u003eHost: Wikibase Cloud\\u003cbr\\u003eVersion: 1.39.7\\u003cbr\\u003eStart Date: 2024-01-13 00:00:00+00:00\\u003cbr\\u003eActive Users: 0\\u003cbr\\u003eUsers: 2\\u003cbr\\u003eProperties: 6\\u003cbr\\u003eEdits: 17\\u003cbr\\u003ePages: 11\",\"SON Test\\u003cbr\\u003eURL: https:\\u002f\\u002fsonime.wikibase.cloud\\u003cbr\\u003eHost: Wikibase Cloud\\u003cbr\\u003eVersion: 1.39.7\\u003cbr\\u003eStart Date: 2024-02-22 00:00:00+00:00\\u003cbr\\u003eActive Users: 0\\u003cbr\\u003eUsers: 2\\u003cbr\\u003eProperties: 6\\u003cbr\\u003eEdits: 14\\u003cbr\\u003ePages: 11\",\"MC Archives\\u003cbr\\u003eURL: https:\\u002f\\u002fmcarchives.wikibase.cloud\\u003cbr\\u003eHost: Wikibase Cloud\\u003cbr\\u003eVersion: 1.39.7\\u003cbr\\u003eStart Date: 2022-10-06 00:00:00+00:00\\u003cbr\\u003eActive Users: 0\\u003cbr\\u003eUsers: 4\\u003cbr\\u003eProperties: 6\\u003cbr\\u003eEdits: 21\\u003cbr\\u003ePages: 10\",\"cidoc-crm-example\\u003cbr\\u003eURL: https:\\u002f\\u002fcidoc-crm-example.wikibase.cloud\\u003cbr\\u003eHost: Wikibase Cloud\\u003cbr\\u003eVersion: 1.39.7\\u003cbr\\u003eStart Date: 2020-09-24 00:00:00+00:00\\u003cbr\\u003eActive Users: 0\\u003cbr\\u003eUsers: 2\\u003cbr\\u003eProperties: 4\\u003cbr\\u003eEdits: 19\\u003cbr\\u003ePages: 10\",\"arkeoweb\\u003cbr\\u003eURL: https:\\u002f\\u002farkeoweb.wikibase.cloud\\u003cbr\\u003eHost: Wikibase Cloud\\u003cbr\\u003eVersion: 1.39.7\\u003cbr\\u003eStart Date: 2024-09-01 00:00:00+00:00\\u003cbr\\u003eActive Users: 0\\u003cbr\\u003eUsers: 2\\u003cbr\\u003eProperties: 3\\u003cbr\\u003eEdits: 46\\u003cbr\\u003ePages: 11\",\"What If Technical Writers Made a Wikibase\\u003cbr\\u003eURL: https:\\u002f\\u002ftw-made-an-instance-of.wikibase.cloud\\u003cbr\\u003eHost: Wikibase Cloud\\u003cbr\\u003eVersion: 1.39.7\\u003cbr\\u003eStart Date: 2022-12-13 00:00:00+00:00\\u003cbr\\u003eActive Users: 0\\u003cbr\\u003eUsers: 2\\u003cbr\\u003eProperties: 3\\u003cbr\\u003eEdits: 15\\u003cbr\\u003ePages: 10\",\"Plants\\u003cbr\\u003eURL: https:\\u002f\\u002fplant.wikibase.cloud\\u003cbr\\u003eHost: Wikibase Cloud\\u003cbr\\u003eVersion: 1.39.7\\u003cbr\\u003eStart Date: 2023-10-09 00:00:00+00:00\\u003cbr\\u003eActive Users: 0\\u003cbr\\u003eUsers: 2\\u003cbr\\u003eProperties: 9\\u003cbr\\u003eEdits: 11\\u003cbr\\u003ePages: 10\",\"nullmuseum\\u003cbr\\u003eURL: https:\\u002f\\u002fnullmuseum.wikibase.cloud\\u003cbr\\u003eHost: Wikibase Cloud\\u003cbr\\u003eVersion: 1.39.7\\u003cbr\\u003eStart Date: 2023-08-24 00:00:00+00:00\\u003cbr\\u003eActive Users: 0\\u003cbr\\u003eUsers: 2\\u003cbr\\u003eProperties: 8\\u003cbr\\u003eEdits: 17\\u003cbr\\u003ePages: 10\",\"Garlician Dictionary\\u003cbr\\u003eURL: https:\\u002f\\u002fgardict.wikibase.cloud\\u003cbr\\u003eHost: Wikibase Cloud\\u003cbr\\u003eVersion: 1.39.7\\u003cbr\\u003eStart Date: 2023-11-22 00:00:00+00:00\\u003cbr\\u003eActive Users: 0\\u003cbr\\u003eUsers: 2\\u003cbr\\u003eProperties: 7\\u003cbr\\u003eEdits: 20\\u003cbr\\u003ePages: 10\",\"Base4Sesys\\u003cbr\\u003eURL: https:\\u002f\\u002fbase.sesys.org\\u003cbr\\u003eHost: Wikibase Cloud\\u003cbr\\u003eVersion: 1.39.7\\u003cbr\\u003eStart Date: 2024-04-02 00:00:00+00:00\\u003cbr\\u003eActive Users: 0\\u003cbr\\u003eUsers: 2\\u003cbr\\u003eProperties: 5\\u003cbr\\u003eEdits: 28\\u003cbr\\u003ePages: 10\",\"Outlaw Test\\u003cbr\\u003eURL: https:\\u002f\\u002ftest-outlaw.wikibase.cloud\\u003cbr\\u003eHost: Wikibase Cloud\\u003cbr\\u003eVersion: 1.39.7\\u003cbr\\u003eStart Date: 2024-06-13 00:00:00+00:00\\u003cbr\\u003eActive Users: 0\\u003cbr\\u003eUsers: 2\\u003cbr\\u003eProperties: 6\\u003cbr\\u003eEdits: 18\\u003cbr\\u003ePages: 10\",\"Ahmed Assessment\\u003cbr\\u003eURL: https:\\u002f\\u002fahmed-assessment.wikibase.cloud\\u003cbr\\u003eHost: Wikibase Cloud\\u003cbr\\u003eVersion: 1.39.7\\u003cbr\\u003eStart Date: 2024-08-26 00:00:00+00:00\\u003cbr\\u003eActive Users: 0\\u003cbr\\u003eUsers: 3\\u003cbr\\u003eProperties: 4\\u003cbr\\u003eEdits: 13\\u003cbr\\u003ePages: 10\",\"Recepten\\u003cbr\\u003eURL: https:\\u002f\\u002frecepten.wikibase.cloud\\u003cbr\\u003eHost: Wikibase Cloud\\u003cbr\\u003eVersion: 1.39.7\\u003cbr\\u003eStart Date: 2022-01-01 00:00:00+00:00\\u003cbr\\u003eActive Users: 0\\u003cbr\\u003eUsers: 2\\u003cbr\\u003eProperties: 1\\u003cbr\\u003eEdits: 10\\u003cbr\\u003ePages: 9\",\"Stanford Wikibase\\u003cbr\\u003eURL: https:\\u002f\\u002fstanford.wikibase.cloud\\u003cbr\\u003eHost: Wikibase Cloud\\u003cbr\\u003eVersion: 1.39.7\\u003cbr\\u003eStart Date: 2022-12-08 00:00:00+00:00\\u003cbr\\u003eActive Users: 0\\u003cbr\\u003eUsers: 3\\u003cbr\\u003eProperties: 5\\u003cbr\\u003eEdits: 15\\u003cbr\\u003ePages: 9\",\"Lucas Library\\u003cbr\\u003eURL: https:\\u002f\\u002flucaslibrary.wikibase.cloud\\u003cbr\\u003eHost: Wikibase Cloud\\u003cbr\\u003eVersion: 1.39.7\\u003cbr\\u003eStart Date: 2023-09-13 00:00:00+00:00\\u003cbr\\u003eActive Users: 0\\u003cbr\\u003eUsers: 2\\u003cbr\\u003eProperties: 4\\u003cbr\\u003eEdits: 12\\u003cbr\\u003ePages: 9\",\"LD4\\u003cbr\\u003eURL: https:\\u002f\\u002fld4goats.wikibase.cloud\\u003cbr\\u003eHost: Wikibase Cloud\\u003cbr\\u003eVersion: 1.39.7\\u003cbr\\u003eStart Date: 2020-07-15 00:00:00+00:00\\u003cbr\\u003eActive Users: 0\\u003cbr\\u003eUsers: 2\\u003cbr\\u003eProperties: 5\\u003cbr\\u003eEdits: 13\\u003cbr\\u003ePages: 9\",\"Election Data Archive\\u003cbr\\u003eURL: https:\\u002f\\u002felections.wikibase.cloud\\u003cbr\\u003eHost: Wikibase Cloud\\u003cbr\\u003eVersion: 1.39.7\\u003cbr\\u003eStart Date: 2022-11-23 00:00:00+00:00\\u003cbr\\u003eActive Users: 0\\u003cbr\\u003eUsers: 2\\u003cbr\\u003eProperties: 4\\u003cbr\\u003eEdits: 14\\u003cbr\\u003ePages: 8\",\"Farafina fanga\\u003cbr\\u003eURL: https:\\u002f\\u002ffarafina-fanga.wikibase.cloud\\u003cbr\\u003eHost: Wikibase Cloud\\u003cbr\\u003eVersion: 1.39.7\\u003cbr\\u003eStart Date: 2024-04-30 00:00:00+00:00\\u003cbr\\u003eActive Users: 1\\u003cbr\\u003eUsers: 2\\u003cbr\\u003eProperties: 1\\u003cbr\\u003eEdits: 36\\u003cbr\\u003ePages: 10\",\"osobnostiregionu\\u003cbr\\u003eURL: https:\\u002f\\u002fosobnosti.wikibase.cloud\\u003cbr\\u003eHost: Wikibase Cloud\\u003cbr\\u003eVersion: 1.39.7\\u003cbr\\u003eStart Date: 2023-01-27 00:00:00+00:00\\u003cbr\\u003eActive Users: 0\\u003cbr\\u003eUsers: 3\\u003cbr\\u003eProperties: 7\\u003cbr\\u003eEdits: 18\\u003cbr\\u003ePages: 8\",\"Juncture\\u003cbr\\u003eURL: https:\\u002f\\u002fwikibase.juncture-digital.org\\u003cbr\\u003eHost: Wikibase Cloud\\u003cbr\\u003eVersion: 1.39.7\\u003cbr\\u003eStart Date: 2023-04-13 00:00:00+00:00\\u003cbr\\u003eActive Users: 0\\u003cbr\\u003eUsers: 2\\u003cbr\\u003eProperties: 2\\u003cbr\\u003eEdits: 8\\u003cbr\\u003ePages: 8\",\"Rejoice Library\\u003cbr\\u003eURL: https:\\u002f\\u002frejoicelibrary.wikibase.cloud\\u003cbr\\u003eHost: Wikibase Cloud\\u003cbr\\u003eVersion: 1.39.7\\u003cbr\\u003eStart Date: 2023-09-12 00:00:00+00:00\\u003cbr\\u003eActive Users: 0\\u003cbr\\u003eUsers: 2\\u003cbr\\u003eProperties: 3\\u003cbr\\u003eEdits: 9\\u003cbr\\u003ePages: 8\",\"Open Postcards Database\\u003cbr\\u003eURL: https:\\u002f\\u002fopenpostcards.wikibase.cloud\\u003cbr\\u003eHost: Wikibase Cloud\\u003cbr\\u003eVersion: 1.39.7\\u003cbr\\u003eStart Date: 2023-06-23 00:00:00+00:00\\u003cbr\\u003eActive Users: 0\\u003cbr\\u003eUsers: 3\\u003cbr\\u003eProperties: 3\\u003cbr\\u003eEdits: 15\\u003cbr\\u003ePages: 8\",\"fmc library\\u003cbr\\u003eURL: https:\\u002f\\u002ftintosafrik4me.wikibase.cloud\\u003cbr\\u003eHost: Wikibase Cloud\\u003cbr\\u003eVersion: 1.39.7\\u003cbr\\u003eStart Date: 2023-09-13 00:00:00+00:00\\u003cbr\\u003eActive Users: 0\\u003cbr\\u003eUsers: 2\\u003cbr\\u003eProperties: 4\\u003cbr\\u003eEdits: 17\\u003cbr\\u003ePages: 8\",\"inere library\\u003cbr\\u003eURL: https:\\u002f\\u002finerelibrary.wikibase.cloud\\u003cbr\\u003eHost: Wikibase Cloud\\u003cbr\\u003eVersion: 1.39.7\\u003cbr\\u003eStart Date: 2023-09-13 00:00:00+00:00\\u003cbr\\u003eActive Users: 0\\u003cbr\\u003eUsers: 2\\u003cbr\\u003eProperties: 3\\u003cbr\\u003eEdits: 9\\u003cbr\\u003ePages: 8\",\"Nelson's cona\\u003cbr\\u003eURL: https:\\u002f\\u002fnelson.wikibase.cloud\\u003cbr\\u003eHost: Wikibase Cloud\\u003cbr\\u003eVersion: 1.39.7\\u003cbr\\u003eStart Date: 2023-09-13 00:00:00+00:00\\u003cbr\\u003eActive Users: 0\\u003cbr\\u003eUsers: 2\\u003cbr\\u003eProperties: 4\\u003cbr\\u003eEdits: 8\\u003cbr\\u003ePages: 8\",\"Ayomidelibs\\u003cbr\\u003eURL: https:\\u002f\\u002fayomidelibs.wikibase.cloud\\u003cbr\\u003eHost: Wikibase Cloud\\u003cbr\\u003eVersion: 1.39.7\\u003cbr\\u003eStart Date: 2023-09-13 00:00:00+00:00\\u003cbr\\u003eActive Users: 0\\u003cbr\\u003eUsers: 2\\u003cbr\\u003eProperties: 5\\u003cbr\\u003eEdits: 8\\u003cbr\\u003ePages: 8\",\"gcam\\u003cbr\\u003eURL: https:\\u002f\\u002fgreek-coinage-of-asia-minor.wikibase.cloud\\u003cbr\\u003eHost: Wikibase Cloud\\u003cbr\\u003eVersion: 1.39.7\\u003cbr\\u003eStart Date: 2023-10-04 00:00:00+00:00\\u003cbr\\u003eActive Users: 0\\u003cbr\\u003eUsers: 2\\u003cbr\\u003eProperties: 3\\u003cbr\\u003eEdits: 12\\u003cbr\\u003ePages: 8\",\"My first Wikipage\\u003cbr\\u003eURL: https:\\u002f\\u002fmy-wiki-bible.wikibase.cloud\\u003cbr\\u003eHost: Wikibase Cloud\\u003cbr\\u003eVersion: 1.39.7\\u003cbr\\u003eStart Date: 2023-12-18 00:00:00+00:00\\u003cbr\\u003eActive Users: 0\\u003cbr\\u003eUsers: 2\\u003cbr\\u003eProperties: 2\\u003cbr\\u003eEdits: 10\\u003cbr\\u003ePages: 8\",\"Resounding Libraries\\u003cbr\\u003eURL: https:\\u002f\\u002fresounding-libraries.wikibase.cloud\\u003cbr\\u003eHost: Wikibase Cloud\\u003cbr\\u003eVersion: 1.39.7\\u003cbr\\u003eStart Date: 2024-01-15 00:00:00+00:00\\u003cbr\\u003eActive Users: 0\\u003cbr\\u003eUsers: 5\\u003cbr\\u003eProperties: 3\\u003cbr\\u003eEdits: 14\\u003cbr\\u003ePages: 8\",\"Lab collective\\u003cbr\\u003eURL: https:\\u002f\\u002flabcollective.wikibase.cloud\\u003cbr\\u003eHost: Wikibase Cloud\\u003cbr\\u003eVersion: 1.39.7\\u003cbr\\u003eStart Date: 2024-04-16 00:00:00+00:00\\u003cbr\\u003eActive Users: 0\\u003cbr\\u003eUsers: 2\\u003cbr\\u003eProperties: 4\\u003cbr\\u003eEdits: 8\\u003cbr\\u003ePages: 8\",\"Tolkien Data\\u003cbr\\u003eURL: https:\\u002f\\u002ftolkiendata.org\\u003cbr\\u003eHost: Wikibase Cloud\\u003cbr\\u003eVersion: 1.39.7\\u003cbr\\u003eStart Date: 2024-07-23 00:00:00+00:00\\u003cbr\\u003eActive Users: 0\\u003cbr\\u003eUsers: 5\\u003cbr\\u003eProperties: 6\\u003cbr\\u003eEdits: 13\\u003cbr\\u003ePages: 8\",\"KM28-2\\u003cbr\\u003eURL: https:\\u002f\\u002fkm28-2.wikibase.cloud\\u003cbr\\u003eHost: Wikibase Cloud\\u003cbr\\u003eVersion: 1.39.7\\u003cbr\\u003eStart Date: 2024-04-18 00:00:00+00:00\\u003cbr\\u003eActive Users: 0\\u003cbr\\u003eUsers: 3\\u003cbr\\u003eProperties: 3\\u003cbr\\u003eEdits: 11\\u003cbr\\u003ePages: 8\",\"PrivacyGraph\\u003cbr\\u003eURL: https:\\u002f\\u002fprivacygraph.wikibase.cloud\\u003cbr\\u003eHost: Wikibase Cloud\\u003cbr\\u003eVersion: 1.39.7\\u003cbr\\u003eStart Date: 2022-11-16 00:00:00+00:00\\u003cbr\\u003eActive Users: 0\\u003cbr\\u003eUsers: 2\\u003cbr\\u003eProperties: 7\\u003cbr\\u003eEdits: 17\\u003cbr\\u003ePages: 7\",\"Solanum Taxonomy\\u003cbr\\u003eURL: https:\\u002f\\u002fsolanum.wikibase.cloud\\u003cbr\\u003eHost: Wikibase Cloud\\u003cbr\\u003eVersion: 1.39.7\\u003cbr\\u003eStart Date: 2021-01-01 00:00:00+00:00\\u003cbr\\u003eActive Users: 0\\u003cbr\\u003eUsers: 2\\u003cbr\\u003eProperties: 3\\u003cbr\\u003eEdits: 7\\u003cbr\\u003ePages: 7\",\"TestSite\\u003cbr\\u003eURL: https:\\u002f\\u002fublmutest.wikibase.cloud\\u003cbr\\u003eHost: Wikibase Cloud\\u003cbr\\u003eVersion: 1.39.7\\u003cbr\\u003eStart Date: 2022-11-24 00:00:00+00:00\\u003cbr\\u003eActive Users: 0\\u003cbr\\u003eUsers: 4\\u003cbr\\u003eProperties: 1\\u003cbr\\u003eEdits: 7\\u003cbr\\u003ePages: 7\",\"Wikibae\\u003cbr\\u003eURL: https:\\u002f\\u002fwikibae.de\\u003cbr\\u003eHost: Wikibase Cloud\\u003cbr\\u003eVersion: 1.39.7\\u003cbr\\u003eStart Date: 2022-10-20 00:00:00+00:00\\u003cbr\\u003eActive Users: 1\\u003cbr\\u003eUsers: 2\\u003cbr\\u003eProperties: 1\\u003cbr\\u003eEdits: 14\\u003cbr\\u003ePages: 7\",\"andrew\\u003cbr\\u003eURL: https:\\u002f\\u002fandrew.wikibase.cloud\\u003cbr\\u003eHost: Wikibase Cloud\\u003cbr\\u003eVersion: 1.39.7\\u003cbr\\u003eStart Date: 2023-01-12 00:00:00+00:00\\u003cbr\\u003eActive Users: 0\\u003cbr\\u003eUsers: 2\\u003cbr\\u003eProperties: 1\\u003cbr\\u003eEdits: 10\\u003cbr\\u003ePages: 7\",\"ZAMN\\u003cbr\\u003eURL: https:\\u002f\\u002fzamn-data.wikibase.cloud\\u003cbr\\u003eHost: Wikibase Cloud\\u003cbr\\u003eVersion: 1.39.7\\u003cbr\\u003eStart Date: 2023-10-12 00:00:00+00:00\\u003cbr\\u003eActive Users: 0\\u003cbr\\u003eUsers: 2\\u003cbr\\u003eProperties: 3\\u003cbr\\u003eEdits: 12\\u003cbr\\u003ePages: 7\",\"SocioIntel\\u003cbr\\u003eURL: https:\\u002f\\u002fsocioinsight.wikibase.cloud\\u003cbr\\u003eHost: Wikibase Cloud\\u003cbr\\u003eVersion: 1.39.7\\u003cbr\\u003eStart Date: 2023-10-03 00:00:00+00:00\\u003cbr\\u003eActive Users: 0\\u003cbr\\u003eUsers: 2\\u003cbr\\u003eProperties: 5\\u003cbr\\u003eEdits: 15\\u003cbr\\u003ePages: 7\",\"pikachupedia\\u003cbr\\u003eURL: https:\\u002f\\u002fpikachupedia.wikibase.cloud\\u003cbr\\u003eHost: Wikibase Cloud\\u003cbr\\u003eVersion: 1.39.7\\u003cbr\\u003eStart Date: 2023-11-08 00:00:00+00:00\\u003cbr\\u003eActive Users: 0\\u003cbr\\u003eUsers: 2\\u003cbr\\u003eProperties: 1\\u003cbr\\u003eEdits: 17\\u003cbr\\u003ePages: 7\",\"AMC Test\\u003cbr\\u003eURL: https:\\u002f\\u002farchiveofmodernconflict.wikibase.cloud\\u003cbr\\u003eHost: Wikibase Cloud\\u003cbr\\u003eVersion: 1.39.7\\u003cbr\\u003eStart Date: 2024-04-25 00:00:00+00:00\\u003cbr\\u003eActive Users: 0\\u003cbr\\u003eUsers: 2\\u003cbr\\u003eProperties: 2\\u003cbr\\u003eEdits: 8\\u003cbr\\u003ePages: 7\",\"Basque Bib\\u003cbr\\u003eURL: https:\\u002f\\u002fbasquebib.wikibase.cloud\\u003cbr\\u003eHost: Wikibase Cloud\\u003cbr\\u003eVersion: 1.39.7\\u003cbr\\u003eStart Date: 2024-06-11 00:00:00+00:00\\u003cbr\\u003eActive Users: 0\\u003cbr\\u003eUsers: 3\\u003cbr\\u003eProperties: 5\\u003cbr\\u003eEdits: 10\\u003cbr\\u003ePages: 7\",\"FLP Experimental Wikibase\\u003cbr\\u003eURL: https:\\u002f\\u002fflp-experiments.wikibase.cloud\\u003cbr\\u003eHost: Wikibase Cloud\\u003cbr\\u003eVersion: 1.39.7\\u003cbr\\u003eStart Date: 2024-07-08 00:00:00+00:00\\u003cbr\\u003eActive Users: 0\\u003cbr\\u003eUsers: 2\\u003cbr\\u003eProperties: 4\\u003cbr\\u003eEdits: 10\\u003cbr\\u003ePages: 6\",\"fp2test01\\u003cbr\\u003eURL: https:\\u002f\\u002ffp2test01.wikibase.cloud\\u003cbr\\u003eHost: Wikibase Cloud\\u003cbr\\u003eVersion: 1.39.7\\u003cbr\\u003eStart Date: 2022-05-03 00:00:00+00:00\\u003cbr\\u003eActive Users: 0\\u003cbr\\u003eUsers: 3\\u003cbr\\u003eProperties: 2\\u003cbr\\u003eEdits: 6\\u003cbr\\u003ePages: 6\",\"pr0be - more then tests, less then stable\\u003cbr\\u003eURL: https:\\u002f\\u002fpr0be.wikibase.cloud\\u003cbr\\u003eHost: Wikibase Cloud\\u003cbr\\u003eVersion: 1.39.7\\u003cbr\\u003eStart Date: 2023-07-16 00:00:00+00:00\\u003cbr\\u003eActive Users: 0\\u003cbr\\u003eUsers: 2\\u003cbr\\u003eProperties: 2\\u003cbr\\u003eEdits: 9\\u003cbr\\u003ePages: 6\",\"Valeries Galleries\\u003cbr\\u003eURL: https:\\u002f\\u002fvaleries-galleries.wikibase.cloud\\u003cbr\\u003eHost: Wikibase Cloud\\u003cbr\\u003eVersion: 1.39.7\\u003cbr\\u003eStart Date: 2022-09-26 00:00:00+00:00\\u003cbr\\u003eActive Users: 0\\u003cbr\\u003eUsers: 3\\u003cbr\\u003eProperties: 2\\u003cbr\\u003eEdits: 8\\u003cbr\\u003ePages: 6\",\"testwiki2 (on wikibase.cloud)\\u003cbr\\u003eURL: https:\\u002f\\u002ftestwiki2.wikibase.cloud\\u003cbr\\u003eHost: Wikibase Cloud\\u003cbr\\u003eVersion: 1.39.7\\u003cbr\\u003eStart Date: 2024-07-26 00:00:00+00:00\\u003cbr\\u003eActive Users: 0\\u003cbr\\u003eUsers: 3\\u003cbr\\u003eProperties: 1\\u003cbr\\u003eEdits: 6\\u003cbr\\u003ePages: 6\",\"berLINked\\u003cbr\\u003eURL: https:\\u002f\\u002fberlinked.wikibase.cloud\\u003cbr\\u003eHost: Wikibase Cloud\\u003cbr\\u003eVersion: 1.39.7\\u003cbr\\u003eStart Date: 2022-09-28 00:00:00+00:00\\u003cbr\\u003eActive Users: 0\\u003cbr\\u003eUsers: 3\\u003cbr\\u003eProperties: 3\\u003cbr\\u003eEdits: 9\\u003cbr\\u003ePages: 6\",\"Dagbani Wikimedians\\u003cbr\\u003eURL: https:\\u002f\\u002fdagbani.wikibase.cloud\\u003cbr\\u003eHost: Wikibase Cloud\\u003cbr\\u003eVersion: 1.39.7\\u003cbr\\u003eStart Date: 2022-02-10 00:00:00+00:00\\u003cbr\\u003eActive Users: 0\\u003cbr\\u003eUsers: 4\\u003cbr\\u003eProperties: 2\\u003cbr\\u003eEdits: 22\\u003cbr\\u003ePages: 6\",\"FM test\\u003cbr\\u003eURL: https:\\u002f\\u002ffmtest.wikibase.cloud\\u003cbr\\u003eHost: Wikibase Cloud\\u003cbr\\u003eVersion: 1.39.7\\u003cbr\\u003eStart Date: 2022-10-04 00:00:00+00:00\\u003cbr\\u003eActive Users: 0\\u003cbr\\u003eUsers: 2\\u003cbr\\u003eProperties: 4\\u003cbr\\u003eEdits: 9\\u003cbr\\u003ePages: 6\",\"Flexablemedia\\u003cbr\\u003eURL: https:\\u002f\\u002fflexablemedia.wikibase.cloud\\u003cbr\\u003eHost: Wikibase Cloud\\u003cbr\\u003eVersion: 1.39.7\\u003cbr\\u003eStart Date: 2023-09-12 00:00:00+00:00\\u003cbr\\u003eActive Users: 0\\u003cbr\\u003eUsers: 3\\u003cbr\\u003eProperties: 3\\u003cbr\\u003eEdits: 6\\u003cbr\\u003ePages: 6\",\"ayas Library\\u003cbr\\u003eURL: https:\\u002f\\u002fayaslibrary.wikibase.cloud\\u003cbr\\u003eHost: Wikibase Cloud\\u003cbr\\u003eVersion: 1.39.7\\u003cbr\\u003eStart Date: 2023-09-13 00:00:00+00:00\\u003cbr\\u003eActive Users: 0\\u003cbr\\u003eUsers: 2\\u003cbr\\u003eProperties: 4\\u003cbr\\u003eEdits: 9\\u003cbr\\u003ePages: 6\",\"MG WIKI\\u003cbr\\u003eURL: https:\\u002f\\u002fgalal.wikibase.cloud\\u003cbr\\u003eHost: Wikibase Cloud\\u003cbr\\u003eVersion: 1.39.7\\u003cbr\\u003eStart Date: 2024-04-27 00:00:00+00:00\\u003cbr\\u003eActive Users: 0\\u003cbr\\u003eUsers: 2\\u003cbr\\u003eProperties: 2\\u003cbr\\u003eEdits: 9\\u003cbr\\u003ePages: 6\",\"Eberechukwu\\u003cbr\\u003eURL: https:\\u002f\\u002fedith.wikibase.cloud\\u003cbr\\u003eHost: Wikibase Cloud\\u003cbr\\u003eVersion: 1.39.7\\u003cbr\\u003eStart Date: 2023-09-13 00:00:00+00:00\\u003cbr\\u003eActive Users: 0\\u003cbr\\u003eUsers: 2\\u003cbr\\u003eProperties: 4\\u003cbr\\u003eEdits: 6\\u003cbr\\u003ePages: 6\",\"Digital Art Dissertation\\u003cbr\\u003eURL: https:\\u002f\\u002fdigital-art-database.wikibase.cloud\\u003cbr\\u003eHost: Wikibase Cloud\\u003cbr\\u003eVersion: 1.39.7\\u003cbr\\u003eStart Date: 2024-01-25 00:00:00+00:00\\u003cbr\\u003eActive Users: 0\\u003cbr\\u003eUsers: 2\\u003cbr\\u003eProperties: 3\\u003cbr\\u003eEdits: 11\\u003cbr\\u003ePages: 6\",\"Ethos Lab\\u003cbr\\u003eURL: https:\\u002f\\u002fethoslab.wikibase.cloud\\u003cbr\\u003eHost: Wikibase Cloud\\u003cbr\\u003eVersion: 1.39.7\\u003cbr\\u003eStart Date: 2024-02-04 00:00:00+00:00\\u003cbr\\u003eActive Users: 0\\u003cbr\\u003eUsers: 2\\u003cbr\\u003eProperties: 2\\u003cbr\\u003eEdits: 14\\u003cbr\\u003ePages: 6\",\"testes (on wikibase cloud)\\u003cbr\\u003eURL: https:\\u002f\\u002ftestes.wikibase.cloud\\u003cbr\\u003eHost: Wikibase Cloud\\u003cbr\\u003eVersion: 1.39.7\\u003cbr\\u003eStart Date: 2022-01-07 00:00:00+00:00\\u003cbr\\u003eActive Users: 1\\u003cbr\\u003eUsers: 4\\u003cbr\\u003eProperties: 10\\u003cbr\\u003eEdits: 45\\u003cbr\\u003ePages: 27\",\"bl-sandbox\\u003cbr\\u003eURL: https:\\u002f\\u002fbl-sandbox.wikibase.cloud\\u003cbr\\u003eHost: Wikibase Cloud\\u003cbr\\u003eVersion: 1.39.7\\u003cbr\\u003eStart Date: 2022-02-21 00:00:00+00:00\\u003cbr\\u003eActive Users: 0\\u003cbr\\u003eUsers: 3\\u003cbr\\u003eProperties: 1\\u003cbr\\u003eEdits: 8\\u003cbr\\u003ePages: 6\",\"Astrology\\u003cbr\\u003eURL: https:\\u002f\\u002fastrology.wikibase.cloud\\u003cbr\\u003eHost: Wikibase Cloud\\u003cbr\\u003eVersion: 1.39.7\\u003cbr\\u003eStart Date: 2023-11-01 00:00:00+00:00\\u003cbr\\u003eActive Users: 0\\u003cbr\\u003eUsers: 2\\u003cbr\\u003eProperties: 3\\u003cbr\\u003eEdits: 9\\u003cbr\\u003ePages: 6\",\"MathModDB\\u003cbr\\u003eURL: https:\\u002f\\u002fmathmoddb.wikibase.cloud\\u003cbr\\u003eHost: Wikibase Cloud\\u003cbr\\u003eVersion: 1.39.7\\u003cbr\\u003eStart Date: 2023-11-10 00:00:00+00:00\\u003cbr\\u003eActive Users: 0\\u003cbr\\u003eUsers: 3\\u003cbr\\u003eProperties: 1\\u003cbr\\u003eEdits: 8\\u003cbr\\u003ePages: 6\",\"data-el\\u003cbr\\u003eURL: https:\\u002f\\u002ftest789987.wikibase.cloud\\u003cbr\\u003eHost: Wikibase Cloud\\u003cbr\\u003eVersion: 1.39.7\\u003cbr\\u003eStart Date: 2024-06-07 00:00:00+00:00\\u003cbr\\u003eActive Users: 0\\u003cbr\\u003eUsers: 3\\u003cbr\\u003eProperties: 4\\u003cbr\\u003eEdits: 9\\u003cbr\\u003ePages: 6\",\"unimath\\u003cbr\\u003eURL: https:\\u002f\\u002funimath.wikibase.cloud\\u003cbr\\u003eHost: Wikibase Cloud\\u003cbr\\u003eVersion: 1.39.7\\u003cbr\\u003eStart Date: 2024-06-21 00:00:00+00:00\\u003cbr\\u003eActive Users: 0\\u003cbr\\u003eUsers: 2\\u003cbr\\u003eProperties: 2\\u003cbr\\u003eEdits: 12\\u003cbr\\u003ePages: 6\",\"tom-prod-test-a23sc\\u003cbr\\u003eURL: https:\\u002f\\u002ftom-prod-test-a23sc.wikibase.cloud\\u003cbr\\u003eHost: Wikibase Cloud\\u003cbr\\u003eVersion: 1.39.7\\u003cbr\\u003eStart Date: 2022-02-01 00:00:00+00:00\\u003cbr\\u003eActive Users: 0\\u003cbr\\u003eUsers: 2\\u003cbr\\u003eProperties: 1\\u003cbr\\u003eEdits: 7\\u003cbr\\u003ePages: 5\",\"my-mtg-collection\\u003cbr\\u003eURL: https:\\u002f\\u002faj-mtg-collection.wikibase.cloud\\u003cbr\\u003eHost: Wikibase Cloud\\u003cbr\\u003eVersion: 1.39.7\\u003cbr\\u003eStart Date: 2024-07-07 00:00:00+00:00\\u003cbr\\u003eActive Users: 0\\u003cbr\\u003eUsers: 2\\u003cbr\\u003eProperties: 1\\u003cbr\\u003eEdits: 5\\u003cbr\\u003ePages: 5\",\"personal wiki\\u003cbr\\u003eURL: https:\\u002f\\u002fcougarcat.wikibase.cloud\\u003cbr\\u003eHost: Wikibase Cloud\\u003cbr\\u003eVersion: 1.39.7\\u003cbr\\u003eStart Date: 2023-12-24 00:00:00+00:00\\u003cbr\\u003eActive Users: 0\\u003cbr\\u003eUsers: 2\\u003cbr\\u003eProperties: 2\\u003cbr\\u003eEdits: 9\\u003cbr\\u003ePages: 5\",\"Software Packages\\u003cbr\\u003eURL: https:\\u002f\\u002fpackages.wikibase.cloud\\u003cbr\\u003eHost: Wikibase Cloud\\u003cbr\\u003eVersion: 1.39.7\\u003cbr\\u003eStart Date: 2024-04-15 00:00:00+00:00\\u003cbr\\u003eActive Users: 0\\u003cbr\\u003eUsers: 2\\u003cbr\\u003eProperties: 2\\u003cbr\\u003eEdits: 6\\u003cbr\\u003ePages: 5\",\"HKBU Library Art Collections\\u003cbr\\u003eURL: https:\\u002f\\u002fhkbu-library-art-collections.wikibase.cloud\\u003cbr\\u003eHost: Wikibase Cloud\\u003cbr\\u003eVersion: 1.39.7\\u003cbr\\u003eStart Date: 2023-08-11 00:00:00+00:00\\u003cbr\\u003eActive Users: 0\\u003cbr\\u003eUsers: 4\\u003cbr\\u003eProperties: 3\\u003cbr\\u003eEdits: 8\\u003cbr\\u003ePages: 5\",\"\\u7535\\u5b50\\u77e5\\u8bc6\\u003cbr\\u003eURL: https:\\u002f\\u002feezhishi.wikibase.cloud\\u003cbr\\u003eHost: Wikibase Cloud\\u003cbr\\u003eVersion: 1.39.7\\u003cbr\\u003eStart Date: 2024-04-29 00:00:00+00:00\\u003cbr\\u003eActive Users: 0\\u003cbr\\u003eUsers: 2\\u003cbr\\u003eProperties: 1\\u003cbr\\u003eEdits: 8\\u003cbr\\u003ePages: 5\",\"nochallengingcharactersatall\\u003cbr\\u003eURL: https:\\u002f\\u002fnochallengingcharactersatall.wikibase.cloud\\u003cbr\\u003eHost: Wikibase Cloud\\u003cbr\\u003eVersion: 1.39.7\\u003cbr\\u003eStart Date: 2023-01-06 00:00:00+00:00\\u003cbr\\u003eActive Users: 0\\u003cbr\\u003eUsers: 2\\u003cbr\\u003eProperties: 3\\u003cbr\\u003eEdits: 7\\u003cbr\\u003ePages: 5\",\"heuristic\\u003cbr\\u003eURL: https:\\u002f\\u002fwei-cheng.wikibase.cloud\\u003cbr\\u003eHost: Wikibase Cloud\\u003cbr\\u003eVersion: 1.39.7\\u003cbr\\u003eStart Date: 2022-11-16 00:00:00+00:00\\u003cbr\\u003eActive Users: 0\\u003cbr\\u003eUsers: 4\\u003cbr\\u003eProperties: 1\\u003cbr\\u003eEdits: 9\\u003cbr\\u003ePages: 5\",\"Local Government Data Testing\\u003cbr\\u003eURL: https:\\u002f\\u002flwhos2ociu-somegovdata.wikibase.cloud\\u003cbr\\u003eHost: Wikibase Cloud\\u003cbr\\u003eVersion: 1.39.7\\u003cbr\\u003eStart Date: 2024-09-02 00:00:00+00:00\\u003cbr\\u003eActive Users: 0\\u003cbr\\u003eUsers: 2\\u003cbr\\u003eProperties: 3\\u003cbr\\u003eEdits: 5\\u003cbr\\u003ePages: 5\",\"pika2pedia\\u003cbr\\u003eURL: https:\\u002f\\u002fpika2pedia.wikibase.cloud\\u003cbr\\u003eHost: Wikibase Cloud\\u003cbr\\u003eVersion: 1.39.7\\u003cbr\\u003eStart Date: 2023-11-08 00:00:00+00:00\\u003cbr\\u003eActive Users: 0\\u003cbr\\u003eUsers: 2\\u003cbr\\u003eProperties: 2\\u003cbr\\u003eEdits: 7\\u003cbr\\u003ePages: 5\",\"Vihreiden ohjelmat\\u003cbr\\u003eURL: https:\\u002f\\u002fvihreat-ohjelmat.wikibase.cloud\\u003cbr\\u003eHost: Wikibase Cloud\\u003cbr\\u003eVersion: 1.39.7\\u003cbr\\u003eStart Date: 2024-06-15 00:00:00+00:00\\u003cbr\\u003eActive Users: 0\\u003cbr\\u003eUsers: 2\\u003cbr\\u003eProperties: 1\\u003cbr\\u003eEdits: 6\\u003cbr\\u003ePages: 5\",\"mw138test\\u003cbr\\u003eURL: https:\\u002f\\u002fmw138test.wikibase.cloud\\u003cbr\\u003eHost: Wikibase Cloud\\u003cbr\\u003eVersion: 1.39.7\\u003cbr\\u003eStart Date: 2023-03-23 00:00:00+00:00\\u003cbr\\u003eActive Users: 0\\u003cbr\\u003eUsers: 2\\u003cbr\\u003eProperties: 1\\u003cbr\\u003eEdits: 6\\u003cbr\\u003ePages: 5\",\"wmde-jan-01_testwiki2\\u003cbr\\u003eURL: https:\\u002f\\u002fwmde-jan-01-testwiki2.wikibase.cloud\\u003cbr\\u003eHost: Wikibase Cloud\\u003cbr\\u003eVersion: 1.39.7\\u003cbr\\u003eStart Date: 2022-04-12 00:00:00+00:00\\u003cbr\\u003eActive Users: 0\\u003cbr\\u003eUsers: 2\\u003cbr\\u003eProperties: 2\\u003cbr\\u003eEdits: 9\\u003cbr\\u003ePages: 4\",\"Digikim Test\\u003cbr\\u003eURL: https:\\u002f\\u002fdigikim-test.wikibase.cloud\\u003cbr\\u003eHost: Wikibase Cloud\\u003cbr\\u003eVersion: 1.39.7\\u003cbr\\u003eStart Date: 2023-07-02 00:00:00+00:00\\u003cbr\\u003eActive Users: 0\\u003cbr\\u003eUsers: 2\\u003cbr\\u003eProperties: 1\\u003cbr\\u003eEdits: 5\\u003cbr\\u003ePages: 4\",\"RuArxive\\u003cbr\\u003eURL: https:\\u002f\\u002frugovdomains.wikibase.cloud\\u003cbr\\u003eHost: Wikibase Cloud\\u003cbr\\u003eVersion: 1.39.7\\u003cbr\\u003eStart Date: 2023-12-15 00:00:00+00:00\\u003cbr\\u003eActive Users: 0\\u003cbr\\u003eUsers: 2\\u003cbr\\u003eProperties: 3\\u003cbr\\u003eEdits: 11\\u003cbr\\u003ePages: 4\",\"North Carolina Gazetteer\\u003cbr\\u003eURL: https:\\u002f\\u002fnorth-carolina-gazetteer.wikibase.cloud\\u003cbr\\u003eHost: Wikibase Cloud\\u003cbr\\u003eVersion: 1.39.7\\u003cbr\\u003eStart Date: 2022-09-15 00:00:00+00:00\\u003cbr\\u003eActive Users: 0\\u003cbr\\u003eUsers: 2\\u003cbr\\u003eProperties: 1\\u003cbr\\u003eEdits: 5\\u003cbr\\u003ePages: 4\",\"Vaarwegennet NL\\u003cbr\\u003eURL: https:\\u002f\\u002fvaarwegennet.wikibase.cloud\\u003cbr\\u003eHost: Wikibase Cloud\\u003cbr\\u003eVersion: 1.39.7\\u003cbr\\u003eStart Date: 2024-04-05 00:00:00+00:00\\u003cbr\\u003eActive Users: 0\\u003cbr\\u003eUsers: 2\\u003cbr\\u003eProperties: 1\\u003cbr\\u003eEdits: 5\\u003cbr\\u003ePages: 4\",\"Open English WordNet\\u003cbr\\u003eURL: https:\\u002f\\u002fopen-english-wordnet.wikibase.cloud\\u003cbr\\u003eHost: Wikibase Cloud\\u003cbr\\u003eVersion: 1.39.7\\u003cbr\\u003eStart Date: 2024-01-16 00:00:00+00:00\\u003cbr\\u003eActive Users: 0\\u003cbr\\u003eUsers: 2\\u003cbr\\u003eProperties: 2\\u003cbr\\u003eEdits: 5\\u003cbr\\u003ePages: 4\",\"Provenance\\u003cbr\\u003eURL: https:\\u002f\\u002fprovenance.wikibase.cloud\\u003cbr\\u003eHost: Wikibase Cloud\\u003cbr\\u003eVersion: 1.39.7\\u003cbr\\u003eStart Date: 2024-01-13 00:00:00+00:00\\u003cbr\\u003eActive Users: 0\\u003cbr\\u003eUsers: 2\\u003cbr\\u003eProperties: 2\\u003cbr\\u003eEdits: 8\\u003cbr\\u003ePages: 4\",\"Talmudic collections test\\u003cbr\\u003eURL: https:\\u002f\\u002ftry-collection.wikibase.cloud\\u003cbr\\u003eHost: Wikibase Cloud\\u003cbr\\u003eVersion: 1.39.7\\u003cbr\\u003eStart Date: 2024-08-26 00:00:00+00:00\\u003cbr\\u003eActive Users: 0\\u003cbr\\u003eUsers: 3\\u003cbr\\u003eProperties: 1\\u003cbr\\u003eEdits: 4\\u003cbr\\u003ePages: 4\",\"Test\\u003cbr\\u003eURL: https:\\u002f\\u002fqwe-test.wikibase.cloud\\u003cbr\\u003eHost: Wikibase Cloud\\u003cbr\\u003eVersion: 1.39.7\\u003cbr\\u003eStart Date: 2024-05-15 00:00:00+00:00\\u003cbr\\u003eActive Users: 0\\u003cbr\\u003eUsers: 2\\u003cbr\\u003eProperties: 2\\u003cbr\\u003eEdits: 9\\u003cbr\\u003ePages: 4\",\"LCA-Test\\u003cbr\\u003eURL: https:\\u002f\\u002ftest-lcc.wikibase.cloud\\u003cbr\\u003eHost: Wikibase Cloud\\u003cbr\\u003eVersion: 1.39.7\\u003cbr\\u003eStart Date: 2022-12-17 00:00:00+00:00\\u003cbr\\u003eActive Users: 0\\u003cbr\\u003eUsers: 2\\u003cbr\\u003eProperties: 2\\u003cbr\\u003eEdits: 7\\u003cbr\\u003ePages: 4\",\"CPS2\\u003cbr\\u003eURL: https:\\u002f\\u002fcps2-masters.wikibase.cloud\\u003cbr\\u003eHost: Wikibase Cloud\\u003cbr\\u003eVersion: 1.39.7\\u003cbr\\u003eStart Date: 2023-02-10 00:00:00+00:00\\u003cbr\\u003eActive Users: 0\\u003cbr\\u003eUsers: 2\\u003cbr\\u003eProperties: 1\\u003cbr\\u003eEdits: 6\\u003cbr\\u003ePages: 4\",\"Cat collective v2\\u003cbr\\u003eURL: https:\\u002f\\u002fcat-collective2.wikibase.cloud\\u003cbr\\u003eHost: Wikibase Cloud\\u003cbr\\u003eVersion: 1.39.7\\u003cbr\\u003eStart Date: 2021-01-15 00:00:00+00:00\\u003cbr\\u003eActive Users: 0\\u003cbr\\u003eUsers: 2\\u003cbr\\u003eProperties: 1\\u003cbr\\u003eEdits: 8\\u003cbr\\u003ePages: 4\",\"EjemploCurso\\u003cbr\\u003eURL: https:\\u002f\\u002fwebsemanticmiw2020.wikibase.cloud\\u003cbr\\u003eHost: Wikibase Cloud\\u003cbr\\u003eVersion: 1.39.7\\u003cbr\\u003eStart Date: 2020-05-14 00:00:00+00:00\\u003cbr\\u003eActive Users: 0\\u003cbr\\u003eUsers: 3\\u003cbr\\u003eProperties: 1\\u003cbr\\u003eEdits: 5\\u003cbr\\u003ePages: 4\",\"Star Wars Structured Data\\u003cbr\\u003eURL: https:\\u002f\\u002fsw-data.wikibase.cloud\\u003cbr\\u003eHost: Wikibase Cloud\\u003cbr\\u003eVersion: 1.39.7\\u003cbr\\u003eStart Date: 2024-05-22 00:00:00+00:00\\u003cbr\\u003eActive Users: 0\\u003cbr\\u003eUsers: 2\\u003cbr\\u003eProperties: 1\\u003cbr\\u003eEdits: 16\\u003cbr\\u003ePages: 4\",\"Internationaler Sozialistischer Kampfbund - Testsite\\u003cbr\\u003eURL: https:\\u002f\\u002finternationaler-sozialistischer-kampfbund-test.wikibase.cloud\\u003cbr\\u003eHost: Wikibase Cloud\\u003cbr\\u003eVersion: 1.39.7\\u003cbr\\u003eStart Date: 2023-02-27 00:00:00+00:00\\u003cbr\\u003eActive Users: 0\\u003cbr\\u003eUsers: 2\\u003cbr\\u003eProperties: 1\\u003cbr\\u003eEdits: 4\\u003cbr\\u003ePages: 4\",\"Order of Battle\\u003cbr\\u003eURL: https:\\u002f\\u002fcivil-war-order-of-battle-online.wikibase.cloud\\u003cbr\\u003eHost: Wikibase Cloud\\u003cbr\\u003eVersion: 1.39.7\\u003cbr\\u003eStart Date: 2024-06-09 00:00:00+00:00\\u003cbr\\u003eActive Users: 0\\u003cbr\\u003eUsers: 2\\u003cbr\\u003eProperties: 1\\u003cbr\\u003eEdits: 4\\u003cbr\\u003ePages: 4\",\"Catalogus Professorum UU\\u003cbr\\u003eURL: https:\\u002f\\u002fcatalogusprofessorumuu.wikibase.cloud\\u003cbr\\u003eHost: Wikibase Cloud\\u003cbr\\u003eVersion: 1.39.7\\u003cbr\\u003eStart Date: 2023-11-04 00:00:00+00:00\\u003cbr\\u003eActive Users: 7\\u003cbr\\u003eUsers: 9\\u003cbr\\u003eProperties: 30\\u003cbr\\u003eEdits: 102\\u003cbr\\u003ePages: 32\",\"sandbox\\u003cbr\\u003eURL: https:\\u002f\\u002fbgsand.wikibase.cloud\\u003cbr\\u003eHost: Wikibase Cloud\\u003cbr\\u003eVersion: 1.39.7\\u003cbr\\u003eStart Date: 2024-03-27 00:00:00+00:00\\u003cbr\\u003eActive Users: 0\\u003cbr\\u003eUsers: 2\\u003cbr\\u003eProperties: 2\\u003cbr\\u003eEdits: 5\\u003cbr\\u003ePages: 3\",\"Ludovico\\u003cbr\\u003eURL: https:\\u002f\\u002fludovico.wikibase.cloud\\u003cbr\\u003eHost: Wikibase Cloud\\u003cbr\\u003eVersion: 1.39.7\\u003cbr\\u003eStart Date: 2023-11-18 00:00:00+00:00\\u003cbr\\u003eActive Users: 0\\u003cbr\\u003eUsers: 2\\u003cbr\\u003eProperties: 2\\u003cbr\\u003eEdits: 7\\u003cbr\\u003ePages: 4\",\"CuratingData\\u003cbr\\u003eURL: https:\\u002f\\u002fcuratingdata.wikibase.cloud\\u003cbr\\u003eHost: Wikibase Cloud\\u003cbr\\u003eVersion: 1.39.7\\u003cbr\\u003eStart Date: 2024-06-28 00:00:00+00:00\\u003cbr\\u003eActive Users: 0\\u003cbr\\u003eUsers: 3\\u003cbr\\u003eProperties: 1\\u003cbr\\u003eEdits: 14\\u003cbr\\u003ePages: 4\",\"RefWiki\\u003cbr\\u003eURL: https:\\u002f\\u002frefwiki.wikibase.cloud\\u003cbr\\u003eHost: Wikibase Cloud\\u003cbr\\u003eVersion: 1.39.7\\u003cbr\\u003eStart Date: 2023-06-28 00:00:00+00:00\\u003cbr\\u003eActive Users: 0\\u003cbr\\u003eUsers: 2\\u003cbr\\u003eProperties: 3\\u003cbr\\u003eEdits: 7\\u003cbr\\u003ePages: 3\",\"test-bd\\u003cbr\\u003eURL: https:\\u002f\\u002fbdwiki.wikibase.cloud\\u003cbr\\u003eHost: Wikibase Cloud\\u003cbr\\u003eVersion: 1.39.7\\u003cbr\\u003eStart Date: 2023-07-15 00:00:00+00:00\\u003cbr\\u003eActive Users: 0\\u003cbr\\u003eUsers: 2\\u003cbr\\u003eProperties: 1\\u003cbr\\u003eEdits: 4\\u003cbr\\u003ePages: 3\",\"Bootsa - Stream\\u003cbr\\u003eURL: https:\\u002f\\u002fstream.bootsa.net\\u003cbr\\u003eHost: Wikibase Cloud\\u003cbr\\u003eVersion: 1.39.7\\u003cbr\\u003eStart Date: 2022-09-30 00:00:00+00:00\\u003cbr\\u003eActive Users: 0\\u003cbr\\u003eUsers: 2\\u003cbr\\u003eProperties: 2\\u003cbr\\u003eEdits: 4\\u003cbr\\u003ePages: 3\",\"Datos\\u003cbr\\u003eURL: https:\\u002f\\u002fdatos-algort.wikibase.cloud\\u003cbr\\u003eHost: Wikibase Cloud\\u003cbr\\u003eVersion: 1.39.7\\u003cbr\\u003eStart Date: 2024-07-29 00:00:00+00:00\\u003cbr\\u003eActive Users: 0\\u003cbr\\u003eUsers: 2\\u003cbr\\u003eProperties: 1\\u003cbr\\u003eEdits: 3\\u003cbr\\u003ePages: 3\",\"Leosini\\u003cbr\\u003eURL: https:\\u002f\\u002fleosini.wikibase.cloud\\u003cbr\\u003eHost: Wikibase Cloud\\u003cbr\\u003eVersion: 1.39.7\\u003cbr\\u003eStart Date: 2024-07-30 00:00:00+00:00\\u003cbr\\u003eActive Users: 1\\u003cbr\\u003eUsers: 2\\u003cbr\\u003eProperties: 10\\u003cbr\\u003eEdits: 20\\u003cbr\\u003ePages: 14\",\"AM-Test\\u003cbr\\u003eURL: https:\\u002f\\u002fam-test.wikibase.cloud\\u003cbr\\u003eHost: Wikibase Cloud\\u003cbr\\u003eVersion: 1.39.7\\u003cbr\\u003eStart Date: 2023-09-07 00:00:00+00:00\\u003cbr\\u003eActive Users: 0\\u003cbr\\u003eUsers: 2\\u003cbr\\u003eProperties: 1\\u003cbr\\u003eEdits: 3\\u003cbr\\u003ePages: 3\",\"Cooperative Directory\\u003cbr\\u003eURL: https:\\u002f\\u002fcooperatives.wikibase.cloud\\u003cbr\\u003eHost: Wikibase Cloud\\u003cbr\\u003eVersion: 1.39.7\\u003cbr\\u003eStart Date: 2022-10-04 00:00:00+00:00\\u003cbr\\u003eActive Users: 0\\u003cbr\\u003eUsers: 2\\u003cbr\\u003eProperties: 1\\u003cbr\\u003eEdits: 6\\u003cbr\\u003ePages: 3\",\"FMtest 2\\u003cbr\\u003eURL: https:\\u002f\\u002ffmtest2.wikibase.cloud\\u003cbr\\u003eHost: Wikibase Cloud\\u003cbr\\u003eVersion: 1.39.7\\u003cbr\\u003eStart Date: 2022-10-04 00:00:00+00:00\\u003cbr\\u003eActive Users: 0\\u003cbr\\u003eUsers: 2\\u003cbr\\u003eProperties: 2\\u003cbr\\u003eEdits: 4\\u003cbr\\u003ePages: 3\",\"Vintergatan\\u003cbr\\u003eURL: https:\\u002f\\u002fvintergatan.wikibase.cloud\\u003cbr\\u003eHost: Wikibase Cloud\\u003cbr\\u003eVersion: 1.39.7\\u003cbr\\u003eStart Date: 2024-01-18 00:00:00+00:00\\u003cbr\\u003eActive Users: 0\\u003cbr\\u003eUsers: 2\\u003cbr\\u003eProperties: 1\\u003cbr\\u003eEdits: 5\\u003cbr\\u003ePages: 3\",\"frederikwiki\\u003cbr\\u003eURL: https:\\u002f\\u002ffrederikwiki.wikibase.cloud\\u003cbr\\u003eHost: Wikibase Cloud\\u003cbr\\u003eVersion: 1.39.7\\u003cbr\\u003eStart Date: 2022-11-10 00:00:00+00:00\\u003cbr\\u003eActive Users: 0\\u003cbr\\u003eUsers: 2\\u003cbr\\u003eProperties: 1\\u003cbr\\u003eEdits: 4\\u003cbr\\u003ePages: 3\",\"dimisa\\u003cbr\\u003eURL: https:\\u002f\\u002fdimisa.wikibase.cloud\\u003cbr\\u003eHost: Wikibase Cloud\\u003cbr\\u003eVersion: 1.39.7\\u003cbr\\u003eStart Date: 2020-01-23 00:00:00+00:00\\u003cbr\\u003eActive Users: 0\\u003cbr\\u003eUsers: 3\\u003cbr\\u003eProperties: 1\\u003cbr\\u003eEdits: 4\\u003cbr\\u003ePages: 3\",\"Addshore\\u003cbr\\u003eURL: https:\\u002f\\u002faddshore.wikibase.cloud\\u003cbr\\u003eHost: Wikibase Cloud\\u003cbr\\u003eVersion: 1.39.7\\u003cbr\\u003eStart Date: 2022-05-31 00:00:00+00:00\\u003cbr\\u003eActive Users: 0\\u003cbr\\u003eUsers: 2\\u003cbr\\u003eProperties: 1\\u003cbr\\u003eEdits: 9\\u003cbr\\u003ePages: 3\",\"wikishape\\u003cbr\\u003eURL: https:\\u002f\\u002fwikishape.wikibase.cloud\\u003cbr\\u003eHost: Wikibase Cloud\\u003cbr\\u003eVersion: 1.39.7\\u003cbr\\u003eStart Date: 2020-01-04 00:00:00+00:00\\u003cbr\\u003eActive Users: 0\\u003cbr\\u003eUsers: 3\\u003cbr\\u003eProperties: 1\\u003cbr\\u003eEdits: 3\\u003cbr\\u003ePages: 3\",\"Hackathon test instance\\u003cbr\\u003eURL: https:\\u002f\\u002fhackathon-test-instance.wikibase.cloud\\u003cbr\\u003eHost: Wikibase Cloud\\u003cbr\\u003eVersion: 1.39.7\\u003cbr\\u003eStart Date: 2023-05-19 00:00:00+00:00\\u003cbr\\u003eActive Users: 0\\u003cbr\\u003eUsers: 2\\u003cbr\\u003eProperties: 1\\u003cbr\\u003eEdits: 4\\u003cbr\\u003ePages: 3\",\"autoriteter\\u003cbr\\u003eURL: https:\\u002f\\u002fautoriteter.wikibase.cloud\\u003cbr\\u003eHost: Wikibase Cloud\\u003cbr\\u003eVersion: 1.39.7\\u003cbr\\u003eStart Date: 2023-09-19 00:00:00+00:00\\u003cbr\\u003eActive Users: 0\\u003cbr\\u003eUsers: 3\\u003cbr\\u003eProperties: 2\\u003cbr\\u003eEdits: 9\\u003cbr\\u003ePages: 3\",\"WASHNote sandbox\\u003cbr\\u003eURL: https:\\u002f\\u002fregistry-sandbox.washnote.org\\u003cbr\\u003eHost: Wikibase Cloud\\u003cbr\\u003eVersion: 1.39.7\\u003cbr\\u003eStart Date: 2023-11-27 00:00:00+00:00\\u003cbr\\u003eActive Users: 0\\u003cbr\\u003eUsers: 2\\u003cbr\\u003eProperties: 2\\u003cbr\\u003eEdits: 6\\u003cbr\\u003ePages: 3\",\"wiki1\\u003cbr\\u003eURL: https:\\u002f\\u002fwiki1.wikibase.cloud\\u003cbr\\u003eHost: Wikibase Cloud\\u003cbr\\u003eVersion: 1.39.7\\u003cbr\\u003eStart Date: 2024-02-03 00:00:00+00:00\\u003cbr\\u003eActive Users: 0\\u003cbr\\u003eUsers: 2\\u003cbr\\u003eProperties: 1\\u003cbr\\u003eEdits: 3\\u003cbr\\u003ePages: 3\",\"RCnum\\u003cbr\\u003eURL: https:\\u002f\\u002frcnum.wikibase.cloud\\u003cbr\\u003eHost: Wikibase Cloud\\u003cbr\\u003eVersion: 1.39.7\\u003cbr\\u003eStart Date: 2024-02-08 00:00:00+00:00\\u003cbr\\u003eActive Users: 0\\u003cbr\\u003eUsers: 3\\u003cbr\\u003eProperties: 1\\u003cbr\\u003eEdits: 4\\u003cbr\\u003ePages: 3\",\"backgrounds\\u003cbr\\u003eURL: https:\\u002f\\u002fbiblebackgrounds.wikibase.cloud\\u003cbr\\u003eHost: Wikibase Cloud\\u003cbr\\u003eVersion: 1.39.7\\u003cbr\\u003eStart Date: 2024-03-03 00:00:00+00:00\\u003cbr\\u003eActive Users: 0\\u003cbr\\u003eUsers: 2\\u003cbr\\u003eProperties: 2\\u003cbr\\u003eEdits: 9\\u003cbr\\u003ePages: 3\",\"TopHeroes\\u003cbr\\u003eURL: https:\\u002f\\u002ftopheroes.wikibase.cloud\\u003cbr\\u003eHost: Wikibase Cloud\\u003cbr\\u003eVersion: 1.39.7\\u003cbr\\u003eStart Date: 2024-03-18 00:00:00+00:00\\u003cbr\\u003eActive Users: 0\\u003cbr\\u003eUsers: 2\\u003cbr\\u003eProperties: 1\\u003cbr\\u003eEdits: 6\\u003cbr\\u003ePages: 3\",\"McDonald\\u003cbr\\u003eURL: https:\\u002f\\u002fmcdonald.wikibase.cloud\\u003cbr\\u003eHost: Wikibase Cloud\\u003cbr\\u003eVersion: 1.39.7\\u003cbr\\u003eStart Date: 2024-05-15 00:00:00+00:00\\u003cbr\\u003eActive Users: 0\\u003cbr\\u003eUsers: 2\\u003cbr\\u003eProperties: 1\\u003cbr\\u003eEdits: 3\\u003cbr\\u003ePages: 3\",\"Pepe piton's base\\u003cbr\\u003eURL: https:\\u002f\\u002fpepepiton.wikibase.cloud\\u003cbr\\u003eHost: Wikibase Cloud\\u003cbr\\u003eVersion: 1.39.7\\u003cbr\\u003eStart Date: 2024-05-28 00:00:00+00:00\\u003cbr\\u003eActive Users: 0\\u003cbr\\u003eUsers: 2\\u003cbr\\u003eProperties: 1\\u003cbr\\u003eEdits: 8\\u003cbr\\u003ePages: 3\",\"Metal Ham\\u003cbr\\u003eURL: https:\\u002f\\u002fmeetalham.wikibase.cloud\\u003cbr\\u003eHost: Wikibase Cloud\\u003cbr\\u003eVersion: 1.39.7\\u003cbr\\u003eStart Date: 2024-05-28 00:00:00+00:00\\u003cbr\\u003eActive Users: 0\\u003cbr\\u003eUsers: 2\\u003cbr\\u003eProperties: 1\\u003cbr\\u003eEdits: 4\\u003cbr\\u003ePages: 3\",\"Language Digital Vitality\\u003cbr\\u003eURL: https:\\u002f\\u002flanguagedigitalvitality.wikibase.cloud\\u003cbr\\u003eHost: Wikibase Cloud\\u003cbr\\u003eVersion: 1.39.7\\u003cbr\\u003eStart Date: 2024-05-30 00:00:00+00:00\\u003cbr\\u003eActive Users: 0\\u003cbr\\u003eUsers: 2\\u003cbr\\u003eProperties: 1\\u003cbr\\u003eEdits: 5\\u003cbr\\u003ePages: 3\",\"Genewiki\\u003cbr\\u003eURL: https:\\u002f\\u002fgenewiki.wikibase.cloud\\u003cbr\\u003eHost: Wikibase Cloud\\u003cbr\\u003eVersion: 1.39.7\\u003cbr\\u003eStart Date: 2024-05-31 00:00:00+00:00\\u003cbr\\u003eActive Users: 0\\u003cbr\\u003eUsers: 2\\u003cbr\\u003eProperties: 1\\u003cbr\\u003eEdits: 3\\u003cbr\\u003ePages: 3\",\"testsite (on wikibase.cloud)\\u003cbr\\u003eURL: https:\\u002f\\u002ftestsite.wikibase.cloud\\u003cbr\\u003eHost: Wikibase Cloud\\u003cbr\\u003eVersion: 1.39.7\\u003cbr\\u003eStart Date: 2024-06-06 00:00:00+00:00\\u003cbr\\u003eActive Users: 0\\u003cbr\\u003eUsers: 2\\u003cbr\\u003eProperties: 1\\u003cbr\\u003eEdits: 4\\u003cbr\\u003ePages: 3\",\"yfwiki\\u003cbr\\u003eURL: https:\\u002f\\u002fyinfei-wiki.wikibase.cloud\\u003cbr\\u003eHost: Wikibase Cloud\\u003cbr\\u003eVersion: 1.39.7\\u003cbr\\u003eStart Date: 2024-06-12 00:00:00+00:00\\u003cbr\\u003eActive Users: 0\\u003cbr\\u003eUsers: 2\\u003cbr\\u003eProperties: 1\\u003cbr\\u003eEdits: 8\\u003cbr\\u003ePages: 3\",\"test1a\\u003cbr\\u003eURL: https:\\u002f\\u002ftest1a.wikibase.cloud\\u003cbr\\u003eHost: Wikibase Cloud\\u003cbr\\u003eVersion: 1.39.7\\u003cbr\\u003eStart Date: 2024-06-14 00:00:00+00:00\\u003cbr\\u003eActive Users: 0\\u003cbr\\u003eUsers: 2\\u003cbr\\u003eProperties: 1\\u003cbr\\u003eEdits: 4\\u003cbr\\u003ePages: 3\",\"here's another example\\u003cbr\\u003eURL: https:\\u002f\\u002fanother-example.wikibase.cloud\\u003cbr\\u003eHost: Wikibase Cloud\\u003cbr\\u003eVersion: 1.39.7\\u003cbr\\u003eStart Date: 2024-06-19 00:00:00+00:00\\u003cbr\\u003eActive Users: 0\\u003cbr\\u003eUsers: 5\\u003cbr\\u003eProperties: 1\\u003cbr\\u003eEdits: 3\\u003cbr\\u003ePages: 3\",\"Chinese Cabinet\\u003cbr\\u003eURL: https:\\u002f\\u002fcabinetmapping.wikibase.cloud\\u003cbr\\u003eHost: Wikibase Cloud\\u003cbr\\u003eVersion: 1.39.7\\u003cbr\\u003eStart Date: 2024-06-22 00:00:00+00:00\\u003cbr\\u003eActive Users: 0\\u003cbr\\u003eUsers: 3\\u003cbr\\u003eProperties: 1\\u003cbr\\u003eEdits: 3\\u003cbr\\u003ePages: 3\",\"Pokemon WMDE Wikibase\\u003cbr\\u003eURL: https:\\u002f\\u002fpokemon-wmde.wikibase.cloud\\u003cbr\\u003eHost: Wikibase Cloud\\u003cbr\\u003eVersion: 1.39.7\\u003cbr\\u003eStart Date: 2024-09-13 00:00:00+00:00\\u003cbr\\u003eActive Users: 0\\u003cbr\\u003eUsers: 2\\u003cbr\\u003eProperties: 1\\u003cbr\\u003eEdits: 5\\u003cbr\\u003ePages: 3\",\"rose\\u003cbr\\u003eURL: https:\\u002f\\u002frose-collection.wikibase.cloud\\u003cbr\\u003eHost: Wikibase Cloud\\u003cbr\\u003eVersion: 1.39.7\\u003cbr\\u003eStart Date: 2022-02-07 00:00:00+00:00\\u003cbr\\u003eActive Users: 0\\u003cbr\\u003eUsers: 4\\u003cbr\\u003eProperties: 1\\u003cbr\\u003eEdits: 2\\u003cbr\\u003ePages: 2\",\"MANDB Playground\\u003cbr\\u003eURL: https:\\u002f\\u002fmandb-playground.wikibase.cloud\\u003cbr\\u003eHost: Wikibase Cloud\\u003cbr\\u003eVersion: 1.39.7\\u003cbr\\u003eStart Date: 2023-06-23 00:00:00+00:00\\u003cbr\\u003eActive Users: 0\\u003cbr\\u003eUsers: 2\\u003cbr\\u003eProperties: 1\\u003cbr\\u003eEdits: 2\\u003cbr\\u003ePages: 2\",\"index\\u003cbr\\u003eURL: https:\\u002f\\u002fcatalog.grafton9.net\\u003cbr\\u003eHost: Wikibase Cloud\\u003cbr\\u003eVersion: 1.39.7\\u003cbr\\u003eStart Date: 2023-08-28 00:00:00+00:00\\u003cbr\\u003eActive Users: 0\\u003cbr\\u003eUsers: 2\\u003cbr\\u003eProperties: 2\\u003cbr\\u003eEdits: 13\\u003cbr\\u003ePages: 2\",\"Historische Postkarten aus Niedersachsen\\u003cbr\\u003eURL: https:\\u002f\\u002fniedersaechsischepostkarten.wikibase.cloud\\u003cbr\\u003eHost: Wikibase Cloud\\u003cbr\\u003eVersion: 1.39.7\\u003cbr\\u003eStart Date: 2023-09-15 00:00:00+00:00\\u003cbr\\u003eActive Users: 0\\u003cbr\\u003eUsers: 2\\u003cbr\\u003eProperties: 1\\u003cbr\\u003eEdits: 4\\u003cbr\\u003ePages: 2\",\"KBR Luuse\\u003cbr\\u003eURL: https:\\u002f\\u002fkbr-luuse.wikibase.cloud\\u003cbr\\u003eHost: Wikibase Cloud\\u003cbr\\u003eVersion: 1.39.7\\u003cbr\\u003eStart Date: 2023-10-04 00:00:00+00:00\\u003cbr\\u003eActive Users: 0\\u003cbr\\u003eUsers: 2\\u003cbr\\u003eProperties: 1\\u003cbr\\u003eEdits: 3\\u003cbr\\u003ePages: 2\",\"register C\\u003cbr\\u003eURL: https:\\u002f\\u002fregisterc.wikibase.cloud\\u003cbr\\u003eHost: Wikibase Cloud\\u003cbr\\u003eVersion: 1.39.7\\u003cbr\\u003eStart Date: 2023-10-06 00:00:00+00:00\\u003cbr\\u003eActive Users: 0\\u003cbr\\u003eUsers: 2\\u003cbr\\u003eProperties: 1\\u003cbr\\u003eEdits: 3\\u003cbr\\u003ePages: 2\",\"bw_history\\u003cbr\\u003eURL: https:\\u002f\\u002fbw-history.wikibase.cloud\\u003cbr\\u003eHost: Wikibase Cloud\\u003cbr\\u003eVersion: 1.39.7\\u003cbr\\u003eStart Date: 2023-11-03 00:00:00+00:00\\u003cbr\\u003eActive Users: 0\\u003cbr\\u003eUsers: 2\\u003cbr\\u003eProperties: 1\\u003cbr\\u003eEdits: 4\\u003cbr\\u003ePages: 2\",\"DPLA\\u003cbr\\u003eURL: https:\\u002f\\u002fd-p-l-a.wikibase.cloud\\u003cbr\\u003eHost: Wikibase Cloud\\u003cbr\\u003eVersion: 1.39.7\\u003cbr\\u003eStart Date: 2023-11-18 00:00:00+00:00\\u003cbr\\u003eActive Users: 0\\u003cbr\\u003eUsers: 2\\u003cbr\\u003eProperties: 2\\u003cbr\\u003eEdits: 2\\u003cbr\\u003ePages: 2\",\"People's Riisearch Archive\\u003cbr\\u003eURL: https:\\u002f\\u002fpeoples-riisearch-archive.wikibase.cloud\\u003cbr\\u003eHost: Wikibase Cloud\\u003cbr\\u003eVersion: 1.39.7\\u003cbr\\u003eStart Date: 2023-11-26 00:00:00+00:00\\u003cbr\\u003eActive Users: 0\\u003cbr\\u003eUsers: 3\\u003cbr\\u003eProperties: 1\\u003cbr\\u003eEdits: 2\\u003cbr\\u003ePages: 2\",\"Colorama\\u003cbr\\u003eURL: https:\\u002f\\u002fcolorama.wikibase.cloud\\u003cbr\\u003eHost: Wikibase Cloud\\u003cbr\\u003eVersion: 1.39.7\\u003cbr\\u003eStart Date: 2023-12-18 00:00:00+00:00\\u003cbr\\u003eActive Users: 0\\u003cbr\\u003eUsers: 2\\u003cbr\\u003eProperties: 1\\u003cbr\\u003eEdits: 2\\u003cbr\\u003ePages: 2\",\"Gage Data\\u003cbr\\u003eURL: https:\\u002f\\u002fgagedata.wikibase.cloud\\u003cbr\\u003eHost: Wikibase Cloud\\u003cbr\\u003eVersion: 1.39.7\\u003cbr\\u003eStart Date: 2023-12-29 00:00:00+00:00\\u003cbr\\u003eActive Users: 0\\u003cbr\\u003eUsers: 2\\u003cbr\\u003eProperties: 1\\u003cbr\\u003eEdits: 2\\u003cbr\\u003ePages: 2\",\"tropical plants collection\\u003cbr\\u003eURL: https:\\u002f\\u002ftropicalplantscollection.wikibase.cloud\\u003cbr\\u003eHost: Wikibase Cloud\\u003cbr\\u003eVersion: 1.39.7\\u003cbr\\u003eStart Date: 2024-01-07 00:00:00+00:00\\u003cbr\\u003eActive Users: 0\\u003cbr\\u003eUsers: 2\\u003cbr\\u003eProperties: 1\\u003cbr\\u003eEdits: 2\\u003cbr\\u003ePages: 2\",\"e-quadrat\\u003cbr\\u003eURL: https:\\u002f\\u002fe-quadrat.wikibase.cloud\\u003cbr\\u003eHost: Wikibase Cloud\\u003cbr\\u003eVersion: 1.39.7\\u003cbr\\u003eStart Date: 2024-03-29 00:00:00+00:00\\u003cbr\\u003eActive Users: 0\\u003cbr\\u003eUsers: 2\\u003cbr\\u003eProperties: 1\\u003cbr\\u003eEdits: 3\\u003cbr\\u003ePages: 2\",\"undusting\\u003cbr\\u003eURL: https:\\u002f\\u002fundusting.wikibase.cloud\\u003cbr\\u003eHost: Wikibase Cloud\\u003cbr\\u003eVersion: 1.39.7\\u003cbr\\u003eStart Date: 2024-06-19 00:00:00+00:00\\u003cbr\\u003eActive Users: 0\\u003cbr\\u003eUsers: 2\\u003cbr\\u003eProperties: 1\\u003cbr\\u003eEdits: 2\\u003cbr\\u003ePages: 2\",\"O\\u0161kliarch\\u003cbr\\u003eURL: https:\\u002f\\u002foskliarch.wikibase.cloud\\u003cbr\\u003eHost: Wikibase Cloud\\u003cbr\\u003eVersion: 1.39.7\\u003cbr\\u003eStart Date: 2024-07-09 00:00:00+00:00\\u003cbr\\u003eActive Users: 0\\u003cbr\\u003eUsers: 2\\u003cbr\\u003eProperties: 1\\u003cbr\\u003eEdits: 3\\u003cbr\\u003ePages: 2\",\"PIM KB\\u003cbr\\u003eURL: https:\\u002f\\u002fpimnevter-demo.wikibase.cloud\\u003cbr\\u003eHost: Wikibase Cloud\\u003cbr\\u003eVersion: 1.39.7\\u003cbr\\u003eStart Date: 2024-07-01 00:00:00+00:00\\u003cbr\\u003eActive Users: 0\\u003cbr\\u003eUsers: 2\\u003cbr\\u003eProperties: 1\\u003cbr\\u003eEdits: 2\\u003cbr\\u003ePages: 2\",\"Filmwissen\\u003cbr\\u003eURL: https:\\u002f\\u002ffilmwissen.wikibase.cloud\\u003cbr\\u003eHost: Wikibase Cloud\\u003cbr\\u003eVersion: 1.39.7\\u003cbr\\u003eStart Date: 2024-09-06 00:00:00+00:00\\u003cbr\\u003eActive Users: 3\\u003cbr\\u003eUsers: 2\\u003cbr\\u003eProperties: 5\\u003cbr\\u003eEdits: 3\\u003cbr\\u003ePages: 8\",\"YH Wiki\\u003cbr\\u003eURL: https:\\u002f\\u002fyh-wiki.wikibase.cloud\\u003cbr\\u003eHost: Wikibase Cloud\\u003cbr\\u003eVersion: 1.39.7\\u003cbr\\u003eStart Date: 2024-10-09 00:00:00+00:00\\u003cbr\\u003eActive Users: 2\\u003cbr\\u003eUsers: 3\\u003cbr\\u003eProperties: 552\\u003cbr\\u003eEdits: 577\\u003cbr\\u003ePages: 559\",\"J\\u00f6rans egna\\u003cbr\\u003eURL: https:\\u002f\\u002fjoran.wikibase.cloud\\u003cbr\\u003eHost: Wikibase Cloud\\u003cbr\\u003eVersion: 1.39.7\\u003cbr\\u003eStart Date: 2024-10-11 00:00:00+00:00\\u003cbr\\u003eActive Users: 2\\u003cbr\\u003eUsers: 2\\u003cbr\\u003eProperties: 15\\u003cbr\\u003eEdits: 99\\u003cbr\\u003ePages: 47\",\"LatSenRom\\u003cbr\\u003eURL: https:\\u002f\\u002flatsenrom.wikibase.cloud\\u003cbr\\u003eHost: Wikibase Cloud\\u003cbr\\u003eVersion: 1.39.7\\u003cbr\\u003eStart Date: 2024-10-11 00:00:00+00:00\\u003cbr\\u003eActive Users: 2\\u003cbr\\u003eUsers: 2\\u003cbr\\u003eProperties: 3\\u003cbr\\u003eEdits: 22\\u003cbr\\u003ePages: 7\",\"J\\u00f6rans egna\\u003cbr\\u003eURL: https:\\u002f\\u002fjoran.wikibase.cloud\\u003cbr\\u003eHost: Wikibase Cloud\\u003cbr\\u003eVersion: 1.39.7\\u003cbr\\u003eStart Date: 2024-10-11 00:00:00+00:00\\u003cbr\\u003eActive Users: 2\\u003cbr\\u003eUsers: 2\\u003cbr\\u003eProperties: 15\\u003cbr\\u003eEdits: 99\\u003cbr\\u003ePages: 47\",\"mywiki\\u003cbr\\u003eURL: https:\\u002f\\u002fitinfrestractureroysav12345.wikibase.cloud\\u003cbr\\u003eHost: Wikibase Cloud\\u003cbr\\u003eVersion: 1.39.7\\u003cbr\\u003eStart Date: 2024-10-13 00:00:00+00:00\\u003cbr\\u003eActive Users: 2\\u003cbr\\u003eUsers: 2\\u003cbr\\u003eProperties: 7\\u003cbr\\u003eEdits: 75\\u003cbr\\u003ePages: 33\",\"Chinese-Historical-Places-2024\\u003cbr\\u003eURL: https:\\u002f\\u002fchinese-historical-places-2024.wikibase.cloud\\u003cbr\\u003eHost: Wikibase Cloud\\u003cbr\\u003eVersion: 1.39.7\\u003cbr\\u003eStart Date: 2024-10-16 00:00:00+00:00\\u003cbr\\u003eActive Users: 1\\u003cbr\\u003eUsers: 2\\u003cbr\\u003eProperties: 6\\u003cbr\\u003eEdits: 13\\u003cbr\\u003ePages: 13\",\"ODP Test\\u003cbr\\u003eURL: https:\\u002f\\u002fodptest.wikibase.cloud\\u003cbr\\u003eHost: Wikibase Cloud\\u003cbr\\u003eVersion: 1.39.7\\u003cbr\\u003eStart Date: 2024-10-18 00:00:00+00:00\\u003cbr\\u003eActive Users: 1\\u003cbr\\u003eUsers: 2\\u003cbr\\u003eProperties: 6\\u003cbr\\u003eEdits: 13\\u003cbr\\u003ePages: 13\",\"Organisational Rule Systems\\u003cbr\\u003eURL: https:\\u002f\\u002forganisational-rules.wikibase.cloud\\u003cbr\\u003eHost: Wikibase Cloud\\u003cbr\\u003eVersion: 1.39.7\\u003cbr\\u003eStart Date: 2024-10-17 00:00:00+00:00\\u003cbr\\u003eActive Users: 2\\u003cbr\\u003eUsers: 2\\u003cbr\\u003eProperties: 5\\u003cbr\\u003eEdits: 19\\u003cbr\\u003ePages: 15\",\"SkandinavienWikiBase\\u003cbr\\u003eURL: https:\\u002f\\u002fskanwiki.wikibase.cloud\\u003cbr\\u003eHost: Wikibase Cloud\\u003cbr\\u003eVersion: 1.39.7\\u003cbr\\u003eStart Date: 2024-10-15 00:00:00+00:00\\u003cbr\\u003eActive Users: 1\\u003cbr\\u003eUsers: 2\\u003cbr\\u003eProperties: 6\\u003cbr\\u003eEdits: 13\\u003cbr\\u003ePages: 13\",\"BorgNetzWerk\\u003cbr\\u003eURL: https:\\u002f\\u002fbnwiki.wikibase.cloud\\u003cbr\\u003eHost: Wikibase Cloud\\u003cbr\\u003eVersion: 1.39.7\\u003cbr\\u003eStart Date: 2024-10-14 00:00:00+00:00\\u003cbr\\u003eActive Users: 3\\u003cbr\\u003eUsers: 3\\u003cbr\\u003eProperties: 27\\u003cbr\\u003eEdits: 6496\\u003cbr\\u003ePages: 6415\",\"Hasya Katta Official\\u003cbr\\u003eURL: https:\\u002f\\u002fhasyakattaofficial.wikibase.cloud\\u003cbr\\u003eHost: Wikibase Cloud\\u003cbr\\u003eVersion: 1.39.7\\u003cbr\\u003eStart Date: 2024-10-15 00:00:00+00:00\\u003cbr\\u003eActive Users: 1\\u003cbr\\u003eUsers: 2\\u003cbr\\u003eProperties: 6\\u003cbr\\u003eEdits: 13\\u003cbr\\u003ePages: 13\",\"AstroFR\\u003cbr\\u003eURL: https:\\u002f\\u002fastrofr.wikibase.cloud\\u003cbr\\u003eHost: Wikibase Cloud\\u003cbr\\u003eVersion: 1.39.7\\u003cbr\\u003eStart Date: 2024-10-22 00:00:00+00:00\\u003cbr\\u003eActive Users: 2\\u003cbr\\u003eUsers: 2\\u003cbr\\u003eProperties: 1\\u003cbr\\u003eEdits: 373\\u003cbr\\u003ePages: 104\",\"Ejemplo\\u003cbr\\u003eURL: https:\\u002f\\u002ftestfilo.wikibase.cloud\\u003cbr\\u003eHost: Wikibase Cloud\\u003cbr\\u003eVersion: 1.39.7\\u003cbr\\u003eStart Date: 2024-10-22 00:00:00+00:00\\u003cbr\\u003eActive Users: 3\\u003cbr\\u003eUsers: 3\\u003cbr\\u003eProperties: 5\\u003cbr\\u003eEdits: 19\\u003cbr\\u003ePages: 13\",\"First Attempt\\u003cbr\\u003eURL: https:\\u002f\\u002ffirst-attempt.wikibase.cloud\\u003cbr\\u003eHost: Wikibase Cloud\\u003cbr\\u003eVersion: 1.39.7\\u003cbr\\u003eStart Date: 2024-10-23 00:00:00+00:00\\u003cbr\\u003eActive Users: 2\\u003cbr\\u003eUsers: 2\\u003cbr\\u003eProperties: 6\\u003cbr\\u003eEdits: 15\\u003cbr\\u003ePages: 15\",\"Meizi's Kitchen\\u003cbr\\u003eURL: https:\\u002f\\u002fgoat-collective-test34.wikibase.cloud\\u003cbr\\u003eHost: Wikibase Cloud\\u003cbr\\u003eVersion: 1.39.7\\u003cbr\\u003eStart Date: 2024-10-21 00:00:00+00:00\\u003cbr\\u003eActive Users: 2\\u003cbr\\u003eUsers: 3\\u003cbr\\u003eProperties: 5\\u003cbr\\u003eEdits: 13\\u003cbr\\u003ePages: 13\",\"Teneriefer\\u003cbr\\u003eURL: https:\\u002f\\u002fteneriefer.wikibase.cloud\\u003cbr\\u003eHost: Wikibase Cloud\\u003cbr\\u003eVersion: 1.39.7\\u003cbr\\u003eStart Date: 2024-10-21 00:00:00+00:00\\u003cbr\\u003eActive Users: 2\\u003cbr\\u003eUsers: 2\\u003cbr\\u003eProperties: 1\\u003cbr\\u003eEdits: 3\\u003cbr\\u003ePages: 3\",\"Test 2\\u003cbr\\u003eURL: https:\\u002f\\u002ftest-dh2.wikibase.cloud\\u003cbr\\u003eHost: Wikibase Cloud\\u003cbr\\u003eVersion: 1.39.7\\u003cbr\\u003eStart Date: 2024-10-21 00:00:00+00:00\\u003cbr\\u003eActive Users: 2\\u003cbr\\u003eUsers: 2\\u003cbr\\u003eProperties: 1\\u003cbr\\u003eEdits: 7\\u003cbr\\u003ePages: 4\",\"test\\u003cbr\\u003eURL: https:\\u002f\\u002fkollektiv.wikibase.cloud\\u003cbr\\u003eHost: Wikibase Cloud\\u003cbr\\u003eVersion: 1.39.7\\u003cbr\\u003eStart Date: 2024-10-21 00:00:00+00:00\\u003cbr\\u003eActive Users: 2\\u003cbr\\u003eUsers: 2\\u003cbr\\u003eProperties: 2\\u003cbr\\u003eEdits: 7\\u003cbr\\u003ePages: 5\",\"Goat Collective\\u003cbr\\u003eURL: https:\\u002f\\u002fgoat-collective-test.wikibase.cloud\\u003cbr\\u003eHost: Wikibase Cloud\\u003cbr\\u003eVersion: 1.39.7\\u003cbr\\u003eStart Date: 2024-10-21 00:00:00+00:00\\u003cbr\\u003eActive Users: 2\\u003cbr\\u003eUsers: 2\\u003cbr\\u003eProperties: 2\\u003cbr\\u003eEdits: 13\\u003cbr\\u003ePages: 5\",\"ReDa Wiki\\u003cbr\\u003eURL: https:\\u002f\\u002freda-wiki.wikibase.cloud\\u003cbr\\u003eHost: Wikibase Cloud\\u003cbr\\u003eVersion: 1.39.7\\u003cbr\\u003eStart Date: 2024-10-21 00:00:00+00:00\\u003cbr\\u003eActive Users: 2\\u003cbr\\u003eUsers: 2\\u003cbr\\u003eProperties: 10\\u003cbr\\u003eEdits: 94\\u003cbr\\u003ePages: 36\",\"Rina Collective\\u003cbr\\u003eURL: https:\\u002f\\u002frina-collective.wikibase.cloud\\u003cbr\\u003eHost: Wikibase Cloud\\u003cbr\\u003eVersion: 1.39.7\\u003cbr\\u003eStart Date: 2024-10-21 00:00:00+00:00\\u003cbr\\u003eActive Users: 2\\u003cbr\\u003eUsers: 2\\u003cbr\\u003eProperties: 1\\u003cbr\\u003eEdits: 4\\u003cbr\\u003ePages: 3\",\"Dog Collective\\u003cbr\\u003eURL: https:\\u002f\\u002fdog-collective.wikibase.cloud\\u003cbr\\u003eHost: Wikibase Cloud\\u003cbr\\u003eVersion: 1.39.7\\u003cbr\\u003eStart Date: 2024-10-21 00:00:00+00:00\\u003cbr\\u003eActive Users: 2\\u003cbr\\u003eUsers: 2\\u003cbr\\u003eProperties: 2\\u003cbr\\u003eEdits: 13\\u003cbr\\u003ePages: 6\",\"Randombooks\\u003cbr\\u003eURL: https:\\u002f\\u002frandombooks.wikibase.cloud\\u003cbr\\u003eHost: Wikibase Cloud\\u003cbr\\u003eVersion: 1.39.7\\u003cbr\\u003eStart Date: 2024-10-21 00:00:00+00:00\\u003cbr\\u003eActive Users: 1\\u003cbr\\u003eUsers: 2\\u003cbr\\u003eProperties: 6\\u003cbr\\u003eEdits: 13\\u003cbr\\u003ePages: 13\",\"Public Figures Base\\u003cbr\\u003eURL: https:\\u002f\\u002fpublicfiguresbase.wikibase.cloud\\u003cbr\\u003eHost: Wikibase Cloud\\u003cbr\\u003eVersion: 1.39.7\\u003cbr\\u003eStart Date: 2024-10-21 00:00:00+00:00\\u003cbr\\u003eActive Users: 2\\u003cbr\\u003eUsers: 2\\u003cbr\\u003eProperties: 8\\u003cbr\\u003eEdits: 24\\u003cbr\\u003ePages: 18\",\"United States Elections\\u003cbr\\u003eURL: https:\\u002f\\u002felections-us.wikibase.cloud\\u003cbr\\u003eHost: Wikibase Cloud\\u003cbr\\u003eVersion: 1.39.7\\u003cbr\\u003eStart Date: 2024-10-24 00:00:00+00:00\\u003cbr\\u003eActive Users: 2\\u003cbr\\u003eUsers: 2\\u003cbr\\u003eProperties: 2\\u003cbr\\u003eEdits: 290\\u003cbr\\u003ePages: 277\",\"RCnum\\u003cbr\\u003eURL: https:\\u002f\\u002frcnum-ge.wikibase.cloud\\u003cbr\\u003eHost: Wikibase Cloud\\u003cbr\\u003eVersion: 1.39.7\\u003cbr\\u003eStart Date: 2024-10-29 00:00:00+00:00\\u003cbr\\u003eActive Users: 2\\u003cbr\\u003eUsers: 3\\u003cbr\\u003eProperties: 4\\u003cbr\\u003eEdits: 15\\u003cbr\\u003ePages: 11\",\"RCge\\u003cbr\\u003eURL: https:\\u002f\\u002frc-ge.wikibase.cloud\\u003cbr\\u003eHost: Wikibase Cloud\\u003cbr\\u003eVersion: 1.39.7\\u003cbr\\u003eStart Date: 2024-10-30 00:00:00+00:00\\u003cbr\\u003eActive Users: 2\\u003cbr\\u003eUsers: 3\\u003cbr\\u003eProperties: 2\\u003cbr\\u003eEdits: 5\\u003cbr\\u003ePages: 5\",\"anton12\\u003cbr\\u003eURL: https:\\u002f\\u002fanton12.wikibase.cloud\\u003cbr\\u003eHost: Wikibase Cloud\\u003cbr\\u003eVersion: 1.39.7\\u003cbr\\u003eStart Date: 2024-10-30 00:00:00+00:00\\u003cbr\\u003eActive Users: 2\\u003cbr\\u003eUsers: 2\\u003cbr\\u003eProperties: 1\\u003cbr\\u003eEdits: 21\\u003cbr\\u003ePages: 12\",\"AI-learn\\u003cbr\\u003eURL: https:\\u002f\\u002fai-learn.wikibase.cloud\\u003cbr\\u003eHost: Wikibase Cloud\\u003cbr\\u003eVersion: 1.39.7\\u003cbr\\u003eStart Date: 2024-10-24 00:00:00+00:00\\u003cbr\\u003eActive Users: 1\\u003cbr\\u003eUsers: 2\\u003cbr\\u003eProperties: 6\\u003cbr\\u003eEdits: 13\\u003cbr\\u003ePages: 13\",\"womenwriters\\u003cbr\\u003eURL: https:\\u002f\\u002f18womenwriters.wikibase.cloud\\u003cbr\\u003eHost: Wikibase Cloud\\u003cbr\\u003eVersion: 1.39.7\\u003cbr\\u003eStart Date: 2024-10-24 00:00:00+00:00\\u003cbr\\u003eActive Users: 2\\u003cbr\\u003eUsers: 2\\u003cbr\\u003eProperties: 2\\u003cbr\\u003eEdits: 5\\u003cbr\\u003ePages: 5\",\"CuentosTradicionales\\u003cbr\\u003eURL: https:\\u002f\\u002fcuentostradicionales.wikibase.cloud\\u003cbr\\u003eHost: Wikibase Cloud\\u003cbr\\u003eVersion: 1.39.7\\u003cbr\\u003eStart Date: 2024-10-24 00:00:00+00:00\\u003cbr\\u003eActive Users: 2\\u003cbr\\u003eUsers: 2\\u003cbr\\u003eProperties: 2\\u003cbr\\u003eEdits: 13\\u003cbr\\u003ePages: 9\",\"Osipov's Family Tree\\u003cbr\\u003eURL: https:\\u002f\\u002fgenealogy.david-osipov.vision\\u003cbr\\u003eHost: Wikibase Cloud\\u003cbr\\u003eVersion: 1.39.7\\u003cbr\\u003eStart Date: 2024-10-24 00:00:00+00:00\\u003cbr\\u003eActive Users: 1\\u003cbr\\u003eUsers: 2\\u003cbr\\u003eProperties: 6\\u003cbr\\u003eEdits: 13\\u003cbr\\u003ePages: 13\",\"MaRDMO Wikibase\\u003cbr\\u003eURL: https:\\u002f\\u002fmardmo.wikibase.cloud\\u003cbr\\u003eHost: Wikibase Cloud\\u003cbr\\u003eVersion: 1.39.7\\u003cbr\\u003eStart Date: 2024-11-07 00:00:00+00:00\\u003cbr\\u003eActive Users: 2\\u003cbr\\u003eUsers: 2\\u003cbr\\u003eProperties: 32\\u003cbr\\u003eEdits: 51\\u003cbr\\u003ePages: 46\",\"testdd.wikibase.cloud\\u003cbr\\u003eURL: https:\\u002f\\u002ftestdd.wikibase.cloud\\u003cbr\\u003eHost: Wikibase Cloud\\u003cbr\\u003eVersion: 1.39.7\\u003cbr\\u003eStart Date: 2024-11-07 00:00:00+00:00\\u003cbr\\u003eActive Users: 1\\u003cbr\\u003eUsers: 2\\u003cbr\\u003eProperties: 6\\u003cbr\\u003eEdits: 13\\u003cbr\\u003ePages: 13\",\"DH_Project_SR\\u003cbr\\u003eURL: https:\\u002f\\u002fdh-project-sr.wikibase.cloud\\u003cbr\\u003eHost: Wikibase Cloud\\u003cbr\\u003eVersion: 1.39.7\\u003cbr\\u003eStart Date: 2024-11-04 00:00:00+00:00\\u003cbr\\u003eActive Users: 2\\u003cbr\\u003eUsers: 2\\u003cbr\\u003eProperties: 7\\u003cbr\\u003eEdits: 15\\u003cbr\\u003ePages: 11\",\"Aleks Weber Werkverzeichnis\\u003cbr\\u003eURL: https:\\u002f\\u002faleks-weber.wikibase.cloud\\u003cbr\\u003eHost: Wikibase Cloud\\u003cbr\\u003eVersion: 1.39.7\\u003cbr\\u003eStart Date: 2024-11-06 00:00:00+00:00\\u003cbr\\u003eActive Users: 2\\u003cbr\\u003eUsers: 2\\u003cbr\\u003eProperties: 22\\u003cbr\\u003eEdits: 141\\u003cbr\\u003ePages: 67\",\"Connected Earth\\u003cbr\\u003eURL: https:\\u002f\\u002fconnected-earth.wikibase.cloud\\u003cbr\\u003eHost: Wikibase Cloud\\u003cbr\\u003eVersion: 1.39.7\\u003cbr\\u003eStart Date: 2024-11-04 00:00:00+00:00\\u003cbr\\u003eActive Users: 2\\u003cbr\\u003eUsers: 2\\u003cbr\\u003eProperties: 9\\u003cbr\\u003eEdits: 3898\\u003cbr\\u003ePages: 1184\",\"MI-X\\u003cbr\\u003eURL: https:\\u002f\\u002fmedicalinformatics.wikibase.cloud\\u003cbr\\u003eHost: Wikibase Cloud\\u003cbr\\u003eVersion: 1.39.7\\u003cbr\\u003eStart Date: 2024-11-04 00:00:00+00:00\\u003cbr\\u003eActive Users: 2\\u003cbr\\u003eUsers: 2\\u003cbr\\u003eProperties: 7\\u003cbr\\u003eEdits: 18\\u003cbr\\u003ePages: 16\",\"IT infrestracture\\u003cbr\\u003eURL: https:\\u002f\\u002fani-rotze-hamin.wikibase.cloud\\u003cbr\\u003eHost: Wikibase Cloud\\u003cbr\\u003eVersion: 1.39.7\\u003cbr\\u003eStart Date: 2024-11-04 00:00:00+00:00\\u003cbr\\u003eActive Users: 2\\u003cbr\\u003eUsers: 2\\u003cbr\\u003eProperties: 7\\u003cbr\\u003eEdits: 20\\u003cbr\\u003ePages: 17\",\"Finance in EU\\u003cbr\\u003eURL: https:\\u002f\\u002ffinance-eu.wikibase.cloud\\u003cbr\\u003eHost: Wikibase Cloud\\u003cbr\\u003eVersion: 1.39.7\\u003cbr\\u003eStart Date: 2024-11-03 00:00:00+00:00\\u003cbr\\u003eActive Users: 2\\u003cbr\\u003eUsers: 3\\u003cbr\\u003eProperties: 2\\u003cbr\\u003eEdits: 15\\u003cbr\\u003ePages: 5\",\"ISO Certification\\u003cbr\\u003eURL: https:\\u002f\\u002fmaxwell.wikibase.cloud\\u003cbr\\u003eHost: Wikibase Cloud\\u003cbr\\u003eVersion: 1.39.7\\u003cbr\\u003eStart Date: 2024-11-03 00:00:00+00:00\\u003cbr\\u003eActive Users: 1\\u003cbr\\u003eUsers: 2\\u003cbr\\u003eProperties: 6\\u003cbr\\u003eEdits: 13\\u003cbr\\u003ePages: 13\",\"wiki-data.wikibase.cloud\\u003cbr\\u003eURL: https:\\u002f\\u002fwiki-data.wikibase.cloud\\u003cbr\\u003eHost: Wikibase Cloud\\u003cbr\\u003eVersion: 1.39.7\\u003cbr\\u003eStart Date: 2024-12-05 00:00:00+00:00\\u003cbr\\u003eActive Users: 2\\u003cbr\\u003eUsers: 2\\u003cbr\\u003eProperties: 6\\u003cbr\\u003eEdits: 14\\u003cbr\\u003ePages: 14\",\"M4schini Test\\u003cbr\\u003eURL: https:\\u002f\\u002ftest-m4schini.wikibase.cloud\\u003cbr\\u003eHost: Wikibase Cloud\\u003cbr\\u003eVersion: 1.39.7\\u003cbr\\u003eStart Date: 2024-12-05 00:00:00+00:00\\u003cbr\\u003eActive Users: 2\\u003cbr\\u003eUsers: 2\\u003cbr\\u003eProperties: 7\\u003cbr\\u003eEdits: 15\\u003cbr\\u003ePages: 15\",\"Wiki o UWr\\u003cbr\\u003eURL: https:\\u002f\\u002fwikiouwr.wikibase.cloud\\u003cbr\\u003eHost: Wikibase Cloud\\u003cbr\\u003eVersion: 1.39.7\\u003cbr\\u003eStart Date: 2024-12-05 00:00:00+00:00\\u003cbr\\u003eActive Users: 2\\u003cbr\\u003eUsers: 2\\u003cbr\\u003eProperties: 1\\u003cbr\\u003eEdits: 2\\u003cbr\\u003ePages: 2\",\"dcm-greta\\u003cbr\\u003eURL: https:\\u002f\\u002fdcm-greta.wikibase.cloud\\u003cbr\\u003eHost: Wikibase Cloud\\u003cbr\\u003eVersion: 1.39.7\\u003cbr\\u003eStart Date: 2024-12-04 00:00:00+00:00\\u003cbr\\u003eActive Users: 2\\u003cbr\\u003eUsers: 2\\u003cbr\\u003eProperties: 13\\u003cbr\\u003eEdits: 128\\u003cbr\\u003ePages: 64\",\"Equalent WBTest\\u003cbr\\u003eURL: https:\\u002f\\u002fwbtest.equalent.net\\u003cbr\\u003eHost: Wikibase Cloud\\u003cbr\\u003eVersion: 1.39.7\\u003cbr\\u003eStart Date: 2024-12-03 00:00:00+00:00\\u003cbr\\u003eActive Users: 2\\u003cbr\\u003eUsers: 2\\u003cbr\\u003eProperties: 1\\u003cbr\\u003eEdits: 5\\u003cbr\\u003ePages: 4\",\"MOMA\\u003cbr\\u003eURL: https:\\u002f\\u002fmoma-test.wikibase.cloud\\u003cbr\\u003eHost: Wikibase Cloud\\u003cbr\\u003eVersion: 1.39.7\\u003cbr\\u003eStart Date: 2024-12-02 00:00:00+00:00\\u003cbr\\u003eActive Users: 2\\u003cbr\\u003eUsers: 2\\u003cbr\\u003eProperties: 6\\u003cbr\\u003eEdits: 35\\u003cbr\\u003ePages: 17\",\"Istanza di prova\\u003cbr\\u003eURL: https:\\u002f\\u002fprovaunipi.wikibase.cloud\\u003cbr\\u003eHost: Wikibase Cloud\\u003cbr\\u003eVersion: 1.39.7\\u003cbr\\u003eStart Date: 2024-11-27 00:00:00+00:00\\u003cbr\\u003eActive Users: 2\\u003cbr\\u003eUsers: 2\\u003cbr\\u003eProperties: 2\\u003cbr\\u003eEdits: 15\\u003cbr\\u003ePages: 10\",\"DeciWiki\\u003cbr\\u003eURL: https:\\u002f\\u002fdeciwiki.wikibase.cloud\\u003cbr\\u003eHost: Wikibase Cloud\\u003cbr\\u003eVersion: 1.39.7\\u003cbr\\u003eStart Date: 2024-12-01 00:00:00+00:00\\u003cbr\\u003eActive Users: 1\\u003cbr\\u003eUsers: 2\\u003cbr\\u003eProperties: 6\\u003cbr\\u003eEdits: 13\\u003cbr\\u003ePages: 13\",\"testwebbase\\u003cbr\\u003eURL: https:\\u002f\\u002ftestwebbase.wikibase.cloud\\u003cbr\\u003eHost: Wikibase Cloud\\u003cbr\\u003eVersion: 1.39.7\\u003cbr\\u003eStart Date: 2024-11-27 00:00:00+00:00\\u003cbr\\u003eActive Users: 2\\u003cbr\\u003eUsers: 2\\u003cbr\\u003eProperties: 4\\u003cbr\\u003eEdits: 3438\\u003cbr\\u003ePages: 611\",\"Ma\\u00eetres du myst\\u00e8re\\u003cbr\\u003eURL: https:\\u002f\\u002fxn--mystre-6ua.wikibase.cloud\\u003cbr\\u003eHost: Wikibase Cloud\\u003cbr\\u003eVersion: 1.39.7\\u003cbr\\u003eStart Date: 2024-11-26 00:00:00+00:00\\u003cbr\\u003eActive Users: 1\\u003cbr\\u003eUsers: 2\\u003cbr\\u003eProperties: 6\\u003cbr\\u003eEdits: 13\\u003cbr\\u003ePages: 13\",\"sbdb fork\\u003cbr\\u003eURL: https:\\u002f\\u002fsbdb-fork.wikibase.cloud\\u003cbr\\u003eHost: Wikibase Cloud\\u003cbr\\u003eVersion: 1.39.7\\u003cbr\\u003eStart Date: 2024-11-26 00:00:00+00:00\\u003cbr\\u003eActive Users: 2\\u003cbr\\u003eUsers: 2\\u003cbr\\u003eProperties: 23\\u003cbr\\u003eEdits: 5440\\u003cbr\\u003ePages: 1698\",\"Math Problem Wiki\\u003cbr\\u003eURL: https:\\u002f\\u002fmath-problem-wiki.wikibase.cloud\\u003cbr\\u003eHost: Wikibase Cloud\\u003cbr\\u003eVersion: 1.39.7\\u003cbr\\u003eStart Date: 2024-11-21 00:00:00+00:00\\u003cbr\\u003eActive Users: 1\\u003cbr\\u003eUsers: 2\\u003cbr\\u003eProperties: 6\\u003cbr\\u003eEdits: 13\\u003cbr\\u003ePages: 13\",\"archivio network\\u003cbr\\u003eURL: https:\\u002f\\u002fbase.archivio.network\\u003cbr\\u003eHost: Wikibase Cloud\\u003cbr\\u003eVersion: 1.39.7\\u003cbr\\u003eStart Date: 2024-11-24 00:00:00+00:00\\u003cbr\\u003eActive Users: 1\\u003cbr\\u003eUsers: 2\\u003cbr\\u003eProperties: 6\\u003cbr\\u003eEdits: 13\\u003cbr\\u003ePages: 13\",\"Mouni Neddi\\u003cbr\\u003eURL: https:\\u002f\\u002fmounir-neddi.wikibase.cloud\\u003cbr\\u003eHost: Wikibase Cloud\\u003cbr\\u003eVersion: 1.39.7\\u003cbr\\u003eStart Date: 2024-11-22 00:00:00+00:00\\u003cbr\\u003eActive Users: 1\\u003cbr\\u003eUsers: 2\\u003cbr\\u003eProperties: 6\\u003cbr\\u003eEdits: 10\\u003cbr\\u003ePages: 10\",\"B\\u00fcrgerspitalzinshaus\\u003cbr\\u003eURL: https:\\u002f\\u002fxn--brgerspitalzinshaus-59b.wikibase.cloud\\u003cbr\\u003eHost: Wikibase Cloud\\u003cbr\\u003eVersion: 1.39.7\\u003cbr\\u003eStart Date: 2024-11-21 00:00:00+00:00\\u003cbr\\u003eActive Users: 2\\u003cbr\\u003eUsers: 2\\u003cbr\\u003eProperties: 3\\u003cbr\\u003eEdits: 17\\u003cbr\\u003ePages: 6\",\"Kareem Mujeeb Kayode\\u003cbr\\u003eURL: https:\\u002f\\u002fkareemmujeeb.wikibase.cloud\\u003cbr\\u003eHost: Wikibase Cloud\\u003cbr\\u003eVersion: 1.39.7\\u003cbr\\u003eStart Date: 2024-11-20 00:00:00+00:00\\u003cbr\\u003eActive Users: 1\\u003cbr\\u003eUsers: 2\\u003cbr\\u003eProperties: 6\\u003cbr\\u003eEdits: 13\\u003cbr\\u003ePages: 13\",\"Taylor Swift\\u003cbr\\u003eURL: https:\\u002f\\u002ftaylorswift.wikibase.cloud\\u003cbr\\u003eHost: Wikibase Cloud\\u003cbr\\u003eVersion: 1.39.7\\u003cbr\\u003eStart Date: 2024-11-19 00:00:00+00:00\\u003cbr\\u003eActive Users: 2\\u003cbr\\u003eUsers: 3\\u003cbr\\u003eProperties: 4\\u003cbr\\u003eEdits: 37\\u003cbr\\u003ePages: 20\",\"Triki Test\\u003cbr\\u003eURL: https:\\u002f\\u002ftriki.wikibase.cloud\\u003cbr\\u003eHost: Wikibase Cloud\\u003cbr\\u003eVersion: 1.39.7\\u003cbr\\u003eStart Date: 2024-11-18 00:00:00+00:00\\u003cbr\\u003eActive Users: 2\\u003cbr\\u003eUsers: 2\\u003cbr\\u003eProperties: 9\\u003cbr\\u003eEdits: 84\\u003cbr\\u003ePages: 39\",\"Menologio dei Barnabiti\\u003cbr\\u003eURL: https:\\u002f\\u002fmenologiobarnabiti.wikibase.cloud\\u003cbr\\u003eHost: Wikibase Cloud\\u003cbr\\u003eVersion: 1.39.7\\u003cbr\\u003eStart Date: 2024-11-19 00:00:00+00:00\\u003cbr\\u003eActive Users: 2\\u003cbr\\u003eUsers: 2\\u003cbr\\u003eProperties: 1\\u003cbr\\u003eEdits: 3\\u003cbr\\u003ePages: 3\",\"Artificial Intelligence\\u003cbr\\u003eURL: https:\\u002f\\u002fasdfg.wikibase.cloud\\u003cbr\\u003eHost: Wikibase Cloud\\u003cbr\\u003eVersion: 1.39.7\\u003cbr\\u003eStart Date: 2024-11-15 00:00:00+00:00\\u003cbr\\u003eActive Users: 1\\u003cbr\\u003eUsers: 2\\u003cbr\\u003eProperties: 6\\u003cbr\\u003eEdits: 13\\u003cbr\\u003ePages: 13\",\"rcnum\\u003cbr\\u003eURL: https:\\u002f\\u002freg-cons.wikibase.cloud\\u003cbr\\u003eHost: Wikibase Cloud\\u003cbr\\u003eVersion: 1.39.7\\u003cbr\\u003eStart Date: 2024-11-15 00:00:00+00:00\\u003cbr\\u003eActive Users: 2\\u003cbr\\u003eUsers: 2\\u003cbr\\u003eProperties: 7\\u003cbr\\u003eEdits: 31\\u003cbr\\u003ePages: 23\",\"Mutaabik\\u003cbr\\u003eURL: https:\\u002f\\u002fmutaabiklegalresearch.wikibase.cloud\\u003cbr\\u003eHost: Wikibase Cloud\\u003cbr\\u003eVersion: 1.39.7\\u003cbr\\u003eStart Date: 2024-11-15 00:00:00+00:00\\u003cbr\\u003eActive Users: 2\\u003cbr\\u003eUsers: 2\\u003cbr\\u003eProperties: 25\\u003cbr\\u003eEdits: 461\\u003cbr\\u003ePages: 144\",\"frenchbm.wikibase.cloud\\u003cbr\\u003eURL: https:\\u002f\\u002ffrenchbm.wikibase.cloud\\u003cbr\\u003eHost: Wikibase Cloud\\u003cbr\\u003eVersion: 1.39.7\\u003cbr\\u003eStart Date: 2024-11-14 00:00:00+00:00\\u003cbr\\u003eActive Users: 1\\u003cbr\\u003eUsers: 2\\u003cbr\\u003eProperties: 6\\u003cbr\\u003eEdits: 13\\u003cbr\\u003ePages: 13\",\"testenddi\\u003cbr\\u003eURL: https:\\u002f\\u002ftestenddi.wikibase.cloud\\u003cbr\\u003eHost: Wikibase Cloud\\u003cbr\\u003eVersion: 1.39.7\\u003cbr\\u003eStart Date: 2024-11-14 00:00:00+00:00\\u003cbr\\u003eActive Users: 2\\u003cbr\\u003eUsers: 2\\u003cbr\\u003eProperties: 7\\u003cbr\\u003eEdits: 14\\u003cbr\\u003ePages: 14\",\"testnga.wikibase.cloud\\u003cbr\\u003eURL: https:\\u002f\\u002ftestnga.wikibase.cloud\\u003cbr\\u003eHost: Wikibase Cloud\\u003cbr\\u003eVersion: 1.39.7\\u003cbr\\u003eStart Date: 2024-11-13 00:00:00+00:00\\u003cbr\\u003eActive Users: 2\\u003cbr\\u003eUsers: 2\\u003cbr\\u003eProperties: 8\\u003cbr\\u003eEdits: 15\\u003cbr\\u003ePages: 15\",\"Biblioteca Prometeo\\u003cbr\\u003eURL: https:\\u002f\\u002fbibliotecaprometeo.wikibase.cloud\\u003cbr\\u003eHost: Wikibase Cloud\\u003cbr\\u003eVersion: 1.39.7\\u003cbr\\u003eStart Date: 2024-11-11 00:00:00+00:00\\u003cbr\\u003eActive Users: 2\\u003cbr\\u003eUsers: 3\\u003cbr\\u003eProperties: 4\\u003cbr\\u003eEdits: 5\\u003cbr\\u003ePages: 5\",\"Rolling Stone 500 Greatest Songs\\u003cbr\\u003eURL: https:\\u002f\\u002frolling-stone-500-songs.wikibase.cloud\\u003cbr\\u003eHost: Wikibase Cloud\\u003cbr\\u003eVersion: 1.39.7\\u003cbr\\u003eStart Date: 2024-11-11 00:00:00+00:00\\u003cbr\\u003eActive Users: 2\\u003cbr\\u003eUsers: 2\\u003cbr\\u003eProperties: 10\\u003cbr\\u003eEdits: 1190\\u003cbr\\u003ePages: 1168\",\"abcdnkhr-sandbox\\u003cbr\\u003eURL: https:\\u002f\\u002fabcdnkhr-sandbox.wikibase.cloud\\u003cbr\\u003eHost: Wikibase Cloud\\u003cbr\\u003eVersion: 1.39.7\\u003cbr\\u003eStart Date: 2024-11-10 00:00:00+00:00\\u003cbr\\u003eActive Users: 2\\u003cbr\\u003eUsers: 2\\u003cbr\\u003eProperties: 86\\u003cbr\\u003eEdits: 24972\\u003cbr\\u003ePages: 12194\",\"Ipedia wiki\\u003cbr\\u003eURL: https:\\u002f\\u002fzh-ipedia.wikibase.cloud\\u003cbr\\u003eHost: Wikibase Cloud\\u003cbr\\u003eVersion: 1.39.7\\u003cbr\\u003eStart Date: 2024-11-10 00:00:00+00:00\\u003cbr\\u003eActive Users: 2\\u003cbr\\u003eUsers: 2\\u003cbr\\u003eProperties: 6\\u003cbr\\u003eEdits: 18\\u003cbr\\u003ePages: 16\",\"myaiwiki.wikibase.cloud\\u003cbr\\u003eURL: https:\\u002f\\u002fmyaiwiki.wikibase.cloud\\u003cbr\\u003eHost: Wikibase Cloud\\u003cbr\\u003eVersion: 1.39.7\\u003cbr\\u003eStart Date: 2024-11-08 00:00:00+00:00\\u003cbr\\u003eActive Users: 2\\u003cbr\\u003eUsers: 3\\u003cbr\\u003eProperties: 1\\u003cbr\\u003eEdits: 5\\u003cbr\\u003ePages: 3\",\"The General Assembly and Religious Politics in Scotland, 1638-1660\\u003cbr\\u003eURL: https:\\u002f\\u002fgeneralassemblies.wikibase.cloud\\u003cbr\\u003eHost: Wikibase Cloud\\u003cbr\\u003eVersion: 1.39.7\\u003cbr\\u003eStart Date: 2024-07-31 00:00:00+00:00\\u003cbr\\u003eActive Users: 1\\u003cbr\\u003eUsers: 3\\u003cbr\\u003eProperties: 19\\u003cbr\\u003eEdits: 1142\\u003cbr\\u003ePages: 501\",\"DangerousHarbors\\u003cbr\\u003eURL: https:\\u002f\\u002fdangerousharbors.wikibase.cloud\\u003cbr\\u003eHost: Wikibase Cloud\\u003cbr\\u003eVersion: 1.39.7\\u003cbr\\u003eStart Date: 2024-07-29 00:00:00+00:00\\u003cbr\\u003eActive Users: 1\\u003cbr\\u003eUsers: 2\\u003cbr\\u003eProperties: 19\\u003cbr\\u003eEdits: 31\\u003cbr\\u003ePages: 24\",\"pr\\u00e9t\\u00e9rit-pr\\u00e9sence\\u003cbr\\u003eURL: https:\\u002f\\u002fprt-s.wikibase.cloud\\u003cbr\\u003eHost: Wikibase Cloud\\u003cbr\\u003eVersion: 1.39.7\\u003cbr\\u003eStart Date: 2024-12-19 00:00:00+00:00\\u003cbr\\u003eActive Users: 2\\u003cbr\\u003eUsers: 2\\u003cbr\\u003eProperties: 5\\u003cbr\\u003eEdits: 23\\u003cbr\\u003ePages: 9\",\"ynsy test\\u003cbr\\u003eURL: https:\\u002f\\u002fynsy-test.wikibase.cloud\\u003cbr\\u003eHost: Wikibase Cloud\\u003cbr\\u003eVersion: 1.39.7\\u003cbr\\u003eStart Date: 2024-12-17 00:00:00+00:00\\u003cbr\\u003eActive Users: 2\\u003cbr\\u003eUsers: 2\\u003cbr\\u003eProperties: 6\\u003cbr\\u003eEdits: 22\\u003cbr\\u003ePages: 16\",\"Museo Retroinform\\u00e1tica Almer\\u00eda\\u003cbr\\u003eURL: https:\\u002f\\u002fmuseillo-824287.wikibase.cloud\\u003cbr\\u003eHost: Wikibase Cloud\\u003cbr\\u003eVersion: 1.39.7\\u003cbr\\u003eStart Date: 2024-12-19 00:00:00+00:00\\u003cbr\\u003eActive Users: 2\\u003cbr\\u003eUsers: 2\\u003cbr\\u003eProperties: 103\\u003cbr\\u003eEdits: 524\\u003cbr\\u003ePages: 303\",\"lool2.wikibase.cloud\\u003cbr\\u003eURL: https:\\u002f\\u002flool2.wikibase.cloud\\u003cbr\\u003eHost: Wikibase Cloud\\u003cbr\\u003eVersion: 1.39.7\\u003cbr\\u003eStart Date: 2024-12-20 00:00:00+00:00\\u003cbr\\u003eActive Users: 2\\u003cbr\\u003eUsers: 3\\u003cbr\\u003eProperties: 8\\u003cbr\\u003eEdits: 25\\u003cbr\\u003ePages: 22\",\"Bhikidata\\u003cbr\\u003eURL: https:\\u002f\\u002fbhikidata.wikibase.cloud\\u003cbr\\u003eHost: Wikibase Cloud\\u003cbr\\u003eVersion: 1.39.7\\u003cbr\\u003eStart Date: 2024-12-16 00:00:00+00:00\\u003cbr\\u003eActive Users: 2\\u003cbr\\u003eUsers: 2\\u003cbr\\u003eProperties: 1\\u003cbr\\u003eEdits: 4\\u003cbr\\u003ePages: 4\",\"beaven\\u003cbr\\u003eURL: https:\\u002f\\u002fbeaven.wikibase.cloud\\u003cbr\\u003eHost: Wikibase Cloud\\u003cbr\\u003eVersion: 1.39.7\\u003cbr\\u003eStart Date: 2024-12-14 00:00:00+00:00\\u003cbr\\u003eActive Users: 2\\u003cbr\\u003eUsers: 3\\u003cbr\\u003eProperties: 7\\u003cbr\\u003eEdits: 18\\u003cbr\\u003ePages: 15\",\"Yavaadhika NSy\\u003cbr\\u003eURL: https:\\u002f\\u002fyavaadhikansy.wikibase.cloud\\u003cbr\\u003eHost: Wikibase Cloud\\u003cbr\\u003eVersion: 1.39.7\\u003cbr\\u003eStart Date: 2024-12-14 00:00:00+00:00\\u003cbr\\u003eActive Users: 2\\u003cbr\\u003eUsers: 2\\u003cbr\\u003eProperties: 3\\u003cbr\\u003eEdits: 35\\u003cbr\\u003ePages: 9\",\"tema di prova\\u003cbr\\u003eURL: https:\\u002f\\u002ftemadiprova.wikibase.cloud\\u003cbr\\u003eHost: Wikibase Cloud\\u003cbr\\u003eVersion: 1.39.7\\u003cbr\\u003eStart Date: 2024-12-11 00:00:00+00:00\\u003cbr\\u003eActive Users: 2\\u003cbr\\u003eUsers: 2\\u003cbr\\u003eProperties: 13\\u003cbr\\u003eEdits: 40\\u003cbr\\u003ePages: 20\",\"Four Level Artworks Test\\u003cbr\\u003eURL: https:\\u002f\\u002fli-ma-mapping-mediaart.wikibase.cloud\\u003cbr\\u003eHost: Wikibase Cloud\\u003cbr\\u003eVersion: 1.39.7\\u003cbr\\u003eStart Date: 2024-12-12 00:00:00+00:00\\u003cbr\\u003eActive Users: 1\\u003cbr\\u003eUsers: 2\\u003cbr\\u003eProperties: 6\\u003cbr\\u003eEdits: 13\\u003cbr\\u003ePages: 13\",\"trails.wikibase.cloud\\u003cbr\\u003eURL: https:\\u002f\\u002ftrails.wikibase.cloud\\u003cbr\\u003eHost: Wikibase Cloud\\u003cbr\\u003eVersion: 1.39.7\\u003cbr\\u003eStart Date: 2024-12-11 00:00:00+00:00\\u003cbr\\u003eActive Users: 2\\u003cbr\\u003eUsers: 2\\u003cbr\\u003eProperties: 10\\u003cbr\\u003eEdits: 20\\u003cbr\\u003ePages: 18\",\"anton13\\u003cbr\\u003eURL: https:\\u002f\\u002fanton13.wikibase.cloud\\u003cbr\\u003eHost: Wikibase Cloud\\u003cbr\\u003eVersion: 1.39.7\\u003cbr\\u003eStart Date: 2024-12-11 00:00:00+00:00\\u003cbr\\u003eActive Users: 1\\u003cbr\\u003eUsers: 2\\u003cbr\\u003eProperties: 6\\u003cbr\\u003eEdits: 13\\u003cbr\\u003ePages: 13\",\"VNA\\u003cbr\\u003eURL: https:\\u002f\\u002fvisualnameauthority.wikibase.cloud\\u003cbr\\u003eHost: Wikibase Cloud\\u003cbr\\u003eVersion: 1.39.7\\u003cbr\\u003eStart Date: 2024-12-10 00:00:00+00:00\\u003cbr\\u003eActive Users: 2\\u003cbr\\u003eUsers: 4\\u003cbr\\u003eProperties: 9\\u003cbr\\u003eEdits: 18\\u003cbr\\u003ePages: 16\",\"Verh\\u00fctung\\u003cbr\\u003eURL: https:\\u002f\\u002fverhuetung.wikibase.cloud\\u003cbr\\u003eHost: Wikibase Cloud\\u003cbr\\u003eVersion: 1.39.7\\u003cbr\\u003eStart Date: 2024-12-09 00:00:00+00:00\\u003cbr\\u003eActive Users: 2\\u003cbr\\u003eUsers: 2\\u003cbr\\u003eProperties: 13\\u003cbr\\u003eEdits: 105\\u003cbr\\u003ePages: 45\",\"MoMa\\u003cbr\\u003eURL: https:\\u002f\\u002fmomadata.wikibase.cloud\\u003cbr\\u003eHost: Wikibase Cloud\\u003cbr\\u003eVersion: 1.39.7\\u003cbr\\u003eStart Date: 2024-12-09 00:00:00+00:00\\u003cbr\\u003eActive Users: 2\\u003cbr\\u003eUsers: 2\\u003cbr\\u003eProperties: 11\\u003cbr\\u003eEdits: 66\\u003cbr\\u003ePages: 20\",\"YH's Wiki\\u003cbr\\u003eURL: https:\\u002f\\u002fyhh-wiki.wikibase.cloud\\u003cbr\\u003eHost: Wikibase Cloud\\u003cbr\\u003eVersion: 1.39.7\\u003cbr\\u003eStart Date: 2024-12-05 00:00:00+00:00\\u003cbr\\u003eActive Users: 2\\u003cbr\\u003eUsers: 2\\u003cbr\\u003eProperties: 2518\\u003cbr\\u003eEdits: 2916\\u003cbr\\u003ePages: 2915\",\"extinctlanguages\\u003cbr\\u003eURL: https:\\u002f\\u002fextinctlanguages.wikibase.cloud\\u003cbr\\u003eHost: Wikibase Cloud\\u003cbr\\u003eVersion: 1.39.7\\u003cbr\\u003eStart Date: 2024-12-09 00:00:00+00:00\\u003cbr\\u003eActive Users: 2\\u003cbr\\u003eUsers: 2\\u003cbr\\u003eProperties: 13\\u003cbr\\u003eEdits: 167\\u003cbr\\u003ePages: 63\",\"enwiki.wikibase.cloud\\u003cbr\\u003eURL: https:\\u002f\\u002fenwiki.wikibase.cloud\\u003cbr\\u003eHost: Wikibase Cloud\\u003cbr\\u003eVersion: 1.39.7\\u003cbr\\u003eStart Date: 2024-12-05 00:00:00+00:00\\u003cbr\\u003eActive Users: 2\\u003cbr\\u003eUsers: 3\\u003cbr\\u003eProperties: 28\\u003cbr\\u003eEdits: 1371\\u003cbr\\u003ePages: 1333\",\"Digital Humanities\\u003cbr\\u003eURL: https:\\u002f\\u002fmy-practice-page.wikibase.cloud\\u003cbr\\u003eHost: Wikibase Cloud\\u003cbr\\u003eVersion: 1.39.7\\u003cbr\\u003eStart Date: 2024-11-11 00:00:00+00:00\\u003cbr\\u003eActive Users: 1\\u003cbr\\u003eUsers: 3\\u003cbr\\u003eProperties: 1\\u003cbr\\u003eEdits: 6\\u003cbr\\u003ePages: 4\",\"Historical Advertisements\\u003cbr\\u003eURL: https:\\u002f\\u002fhistoricalads.wikibase.cloud\\u003cbr\\u003eHost: Wikibase Cloud\\u003cbr\\u003eVersion: 1.39.7\\u003cbr\\u003eStart Date: 2025-01-04 00:00:00+00:00\\u003cbr\\u003eActive Users: 1\\u003cbr\\u003eUsers: 2\\u003cbr\\u003eProperties: 6\\u003cbr\\u003eEdits: 13\\u003cbr\\u003ePages: 13\",\"Endangered Languages Collective\\u003cbr\\u003eURL: https:\\u002f\\u002fendangered-languages-collective.wikibase.cloud\\u003cbr\\u003eHost: Wikibase Cloud\\u003cbr\\u003eVersion: 1.39.7\\u003cbr\\u003eStart Date: 2025-01-06 00:00:00+00:00\\u003cbr\\u003eActive Users: 2\\u003cbr\\u003eUsers: 3\\u003cbr\\u003eProperties: 14\\u003cbr\\u003eEdits: 21\\u003cbr\\u003ePages: 19\",\"Para uma Valida\\u00e7\\u00e3o de Ornitorrinquices\\u003cbr\\u003eURL: https:\\u002f\\u002fparvo.wikibase.cloud\\u003cbr\\u003eHost: Wikibase Cloud\\u003cbr\\u003eVersion: 1.39.7\\u003cbr\\u003eStart Date: 2025-01-03 00:00:00+00:00\\u003cbr\\u003eActive Users: 2\\u003cbr\\u003eUsers: 2\\u003cbr\\u003eProperties: 13\\u003cbr\\u003eEdits: 119\\u003cbr\\u003ePages: 37\",\"DH_DataProject\\u003cbr\\u003eURL: https:\\u002f\\u002fdhdataproject.wikibase.cloud\\u003cbr\\u003eHost: Wikibase Cloud\\u003cbr\\u003eVersion: 1.39.7\\u003cbr\\u003eStart Date: 2025-01-06 00:00:00+00:00\\u003cbr\\u003eActive Users: 2\\u003cbr\\u003eUsers: 3\\u003cbr\\u003eProperties: 14\\u003cbr\\u003eEdits: 1602\\u003cbr\\u003ePages: 804\",\"Knowledge Graph Rijksmuseum\\u003cbr\\u003eURL: https:\\u002f\\u002frijksmuseum-kg.wikibase.cloud\\u003cbr\\u003eHost: Wikibase Cloud\\u003cbr\\u003eVersion: 1.39.7\\u003cbr\\u003eStart Date: 2025-01-02 00:00:00+00:00\\u003cbr\\u003eActive Users: 1\\u003cbr\\u003eUsers: 2\\u003cbr\\u003eProperties: 6\\u003cbr\\u003eEdits: 13\\u003cbr\\u003ePages: 13\",\"Indonesia\\u003cbr\\u003eURL: https:\\u002f\\u002fcrypto.wikibase.cloud\\u003cbr\\u003eHost: Wikibase Cloud\\u003cbr\\u003eVersion: 1.39.7\\u003cbr\\u003eStart Date: 2025-01-02 00:00:00+00:00\\u003cbr\\u003eActive Users: 1\\u003cbr\\u003eUsers: 2\\u003cbr\\u003eProperties: 6\\u003cbr\\u003eEdits: 13\\u003cbr\\u003ePages: 13\",\"wallet\\u003cbr\\u003eURL: https:\\u002f\\u002fwebsite.wikibase.cloud\\u003cbr\\u003eHost: Wikibase Cloud\\u003cbr\\u003eVersion: 1.39.7\\u003cbr\\u003eStart Date: 2025-01-02 00:00:00+00:00\\u003cbr\\u003eActive Users: 1\\u003cbr\\u003eUsers: 2\\u003cbr\\u003eProperties: 6\\u003cbr\\u003eEdits: 13\\u003cbr\\u003ePages: 13\",\"Vivek Nasa Associates\\u003cbr\\u003eURL: https:\\u002f\\u002fviveknasagurgaon.wikibase.cloud\\u003cbr\\u003eHost: Wikibase Cloud\\u003cbr\\u003eVersion: 1.39.7\\u003cbr\\u003eStart Date: 2025-01-02 00:00:00+00:00\\u003cbr\\u003eActive Users: 1\\u003cbr\\u003eUsers: 2\\u003cbr\\u003eProperties: 6\\u003cbr\\u003eEdits: 13\\u003cbr\\u003ePages: 13\",\"Harvard Plate Stacks\\u003cbr\\u003eURL: https:\\u002f\\u002fharvardplatestacks.wikibase.cloud\\u003cbr\\u003eHost: Wikibase Cloud\\u003cbr\\u003eVersion: 1.39.7\\u003cbr\\u003eStart Date: 2024-12-31 00:00:00+00:00\\u003cbr\\u003eActive Users: 2\\u003cbr\\u003eUsers: 2\\u003cbr\\u003eProperties: 13\\u003cbr\\u003eEdits: 113\\u003cbr\\u003ePages: 48\",\"US Elections\\u003cbr\\u003eURL: https:\\u002f\\u002felectionsus.wikibase.cloud\\u003cbr\\u003eHost: Wikibase Cloud\\u003cbr\\u003eVersion: 1.39.7\\u003cbr\\u003eStart Date: 2024-12-29 00:00:00+00:00\\u003cbr\\u003eActive Users: 2\\u003cbr\\u003eUsers: 2\\u003cbr\\u003eProperties: 6\\u003cbr\\u003eEdits: 92\\u003cbr\\u003ePages: 91\",\"Lugares de impresi\\u00f3n en Espa\\u00f1a\\u003cbr\\u003eURL: https:\\u002f\\u002fspain-print-places.wikibase.cloud\\u003cbr\\u003eHost: Wikibase Cloud\\u003cbr\\u003eVersion: 1.39.7\\u003cbr\\u003eStart Date: 2024-12-28 00:00:00+00:00\\u003cbr\\u003eActive Users: 1\\u003cbr\\u003eUsers: 2\\u003cbr\\u003eProperties: 6\\u003cbr\\u003eEdits: 13\\u003cbr\\u003ePages: 13\",\"Rule Hierarchies\\u003cbr\\u003eURL: https:\\u002f\\u002frule-hierarchies.wikibase.cloud\\u003cbr\\u003eHost: Wikibase Cloud\\u003cbr\\u003eVersion: 1.39.7\\u003cbr\\u003eStart Date: 2024-12-27 00:00:00+00:00\\u003cbr\\u003eActive Users: 2\\u003cbr\\u003eUsers: 2\\u003cbr\\u003eProperties: 13\\u003cbr\\u003eEdits: 137\\u003cbr\\u003ePages: 52\",\"knews\\u003cbr\\u003eURL: https:\\u002f\\u002fknews.wikibase.cloud\\u003cbr\\u003eHost: Wikibase Cloud\\u003cbr\\u003eVersion: 1.39.7\\u003cbr\\u003eStart Date: 2024-12-28 00:00:00+00:00\\u003cbr\\u003eActive Users: 2\\u003cbr\\u003eUsers: 2\\u003cbr\\u003eProperties: 1\\u003cbr\\u003eEdits: 8\\u003cbr\\u003ePages: 4\",\"Earthpedia\\u003cbr\\u003eURL: https:\\u002f\\u002fearthpedia.wikibase.cloud\\u003cbr\\u003eHost: Wikibase Cloud\\u003cbr\\u003eVersion: 1.39.7\\u003cbr\\u003eStart Date: 2024-12-23 00:00:00+00:00\\u003cbr\\u003eActive Users: 1\\u003cbr\\u003eUsers: 2\\u003cbr\\u003eProperties: 6\\u003cbr\\u003eEdits: 13\\u003cbr\\u003ePages: 13\",\"brt32\\u003cbr\\u003eURL: https:\\u002f\\u002fbrt32.wikibase.cloud\\u003cbr\\u003eHost: Wikibase Cloud\\u003cbr\\u003eVersion: 1.39.7\\u003cbr\\u003eStart Date: 2024-12-25 00:00:00+00:00\\u003cbr\\u003eActive Users: 1\\u003cbr\\u003eUsers: 2\\u003cbr\\u003eProperties: 6\\u003cbr\\u003eEdits: 13\\u003cbr\\u003ePages: 13\",\"Daniel's Test Wikibase instance\\u003cbr\\u003eURL: https:\\u002f\\u002fdaniels-test-instance.wikibase.cloud\\u003cbr\\u003eHost: Wikibase Cloud\\u003cbr\\u003eVersion: 1.39.7\\u003cbr\\u003eStart Date: 2024-12-21 00:00:00+00:00\\u003cbr\\u003eActive Users: 2\\u003cbr\\u003eUsers: 2\\u003cbr\\u003eProperties: 3\\u003cbr\\u003eEdits: 16\\u003cbr\\u003ePages: 7\",\"SemSacs\\u003cbr\\u003eURL: https:\\u002f\\u002fsemsacs.wikibase.cloud\\u003cbr\\u003eHost: Wikibase Cloud\\u003cbr\\u003eVersion: 1.39.7\\u003cbr\\u003eStart Date: 2024-12-21 00:00:00+00:00\\u003cbr\\u003eActive Users: 2\\u003cbr\\u003eUsers: 2\\u003cbr\\u003eProperties: 6\\u003cbr\\u003eEdits: 114\\u003cbr\\u003ePages: 29\",\"CG_WO2_Test\\u003cbr\\u003eURL: https:\\u002f\\u002fcgwo2test.wikibase.cloud\\u003cbr\\u003eHost: Wikibase Cloud\\u003cbr\\u003eVersion: 1.39.7\\u003cbr\\u003eStart Date: 2025-01-07 00:00:00+00:00\\u003cbr\\u003eActive Users: 1\\u003cbr\\u003eUsers: 2\\u003cbr\\u003eProperties: 6\\u003cbr\\u003eEdits: 13\\u003cbr\\u003ePages: 13\",\"Antibiotic Resistance sandbox\\u003cbr\\u003eURL: https:\\u002f\\u002fantibiotic-resistance-sandbox.wikibase.cloud\\u003cbr\\u003eHost: Wikibase Cloud\\u003cbr\\u003eVersion: 1.39.7\\u003cbr\\u003eStart Date: 2025-01-10 00:00:00+00:00\\u003cbr\\u003eActive Users: 4\\u003cbr\\u003eUsers: 6\\u003cbr\\u003eProperties: 10\\u003cbr\\u003eEdits: 42\\u003cbr\\u003ePages: 26\",\"Aerospace Wikibase\\u003cbr\\u003eURL: https:\\u002f\\u002faerospace.wikibase.cloud\\u003cbr\\u003eHost: Wikibase Cloud\\u003cbr\\u003eVersion: 1.39.7\\u003cbr\\u003eStart Date: 2024-12-18 00:00:00+00:00\\u003cbr\\u003eActive Users: 1\\u003cbr\\u003eUsers: 3\\u003cbr\\u003eProperties: 18\\u003cbr\\u003eEdits: 274\\u003cbr\\u003ePages: 265\",\"LIB\\u003cbr\\u003eURL: https:\\u002f\\u002fbvlib.wikibase.cloud\\u003cbr\\u003eHost: Wikibase Cloud\\u003cbr\\u003eVersion: 1.39.7\\u003cbr\\u003eStart Date: 2025-01-13 00:00:00+00:00\\u003cbr\\u003eActive Users: 1\\u003cbr\\u003eUsers: 2\\u003cbr\\u003eProperties: 6\\u003cbr\\u003eEdits: 13\\u003cbr\\u003ePages: 13\",\"The Lion King\\u003cbr\\u003eURL: https:\\u002f\\u002fthelionking.wikibase.cloud\\u003cbr\\u003eHost: Wikibase Cloud\\u003cbr\\u003eVersion: 1.39.7\\u003cbr\\u003eStart Date: 2025-01-16 00:00:00+00:00\\u003cbr\\u003eActive Users: 2\\u003cbr\\u003eUsers: 2\\u003cbr\\u003eProperties: 3\\u003cbr\\u003eEdits: 27\\u003cbr\\u003ePages: 15\",\"photos-rijksmuseum\\u003cbr\\u003eURL: https:\\u002f\\u002fphotos-rijksmuseum.wikibase.cloud\\u003cbr\\u003eHost: Wikibase Cloud\\u003cbr\\u003eVersion: 1.39.7\\u003cbr\\u003eStart Date: 2025-01-13 00:00:00+00:00\\u003cbr\\u003eActive Users: 2\\u003cbr\\u003eUsers: 2\\u003cbr\\u003eProperties: 5\\u003cbr\\u003eEdits: 249\\u003cbr\\u003ePages: 43\",\"Hack Club Community\\u003cbr\\u003eURL: https:\\u002f\\u002fwikibase.dino.icu\\u003cbr\\u003eHost: Wikibase Cloud\\u003cbr\\u003eVersion: 1.39.7\\u003cbr\\u003eStart Date: 2025-01-13 00:00:00+00:00\\u003cbr\\u003eActive Users: 2\\u003cbr\\u003eUsers: 2\\u003cbr\\u003eProperties: 6\\u003cbr\\u003eEdits: 16\\u003cbr\\u003ePages: 15\",\"PlayTrackerScotland\\u003cbr\\u003eURL: https:\\u002f\\u002fplaytrackerscotland.wikibase.cloud\\u003cbr\\u003eHost: Wikibase Cloud\\u003cbr\\u003eVersion: 1.39.7\\u003cbr\\u003eStart Date: 2025-01-10 00:00:00+00:00\\u003cbr\\u003eActive Users: 2\\u003cbr\\u003eUsers: 2\\u003cbr\\u003eProperties: 13\\u003cbr\\u003eEdits: 24\\u003cbr\\u003ePages: 20\",\"https:\\u002f\\u002fdata.rijksmuseum.nl\\u002fdocs\\u002fdata-dumps\\u002fhistorical-dumps\\u003cbr\\u003eURL: https:\\u002f\\u002frijksmuseum-knowledgegraph.wikibase.cloud\\u003cbr\\u003eHost: Wikibase Cloud\\u003cbr\\u003eVersion: 1.39.7\\u003cbr\\u003eStart Date: 2025-01-12 00:00:00+00:00\\u003cbr\\u003eActive Users: 2\\u003cbr\\u003eUsers: 2\\u003cbr\\u003eProperties: 11\\u003cbr\\u003eEdits: 44\\u003cbr\\u003ePages: 24\",\"rijksmuseum-2\\u003cbr\\u003eURL: https:\\u002f\\u002frijksmuseum-2.wikibase.cloud\\u003cbr\\u003eHost: Wikibase Cloud\\u003cbr\\u003eVersion: 1.39.7\\u003cbr\\u003eStart Date: 2025-01-12 00:00:00+00:00\\u003cbr\\u003eActive Users: 2\\u003cbr\\u003eUsers: 2\\u003cbr\\u003eProperties: 8\\u003cbr\\u003eEdits: 344\\u003cbr\\u003ePages: 77\",\"HistBiblKat\\u003cbr\\u003eURL: https:\\u002f\\u002fhistbiblkat.wikibase.cloud\\u003cbr\\u003eHost: Wikibase Cloud\\u003cbr\\u003eVersion: 1.39.7\\u003cbr\\u003eStart Date: 2025-01-11 00:00:00+00:00\\u003cbr\\u003eActive Users: 2\\u003cbr\\u003eUsers: 2\\u003cbr\\u003eProperties: 6\\u003cbr\\u003eEdits: 20\\u003cbr\\u003ePages: 18\",\"rijksmuseum.wikibase.cloud\\u003cbr\\u003eURL: https:\\u002f\\u002frijksmuseum.wikibase.cloud\\u003cbr\\u003eHost: Wikibase Cloud\\u003cbr\\u003eVersion: 1.39.7\\u003cbr\\u003eStart Date: 2025-01-06 00:00:00+00:00\\u003cbr\\u003eActive Users: 2\\u003cbr\\u003eUsers: 2\\u003cbr\\u003eProperties: 10\\u003cbr\\u003eEdits: 25\\u003cbr\\u003ePages: 17\",\"rc-test-wikidata.wikibase.cloud\\u003cbr\\u003eURL: https:\\u002f\\u002frc-test-wikidata.wikibase.cloud\\u003cbr\\u003eHost: Wikibase Cloud\\u003cbr\\u003eVersion: 1.39.7\\u003cbr\\u003eStart Date: 2025-01-17 00:00:00+00:00\\u003cbr\\u003eActive Users: 1\\u003cbr\\u003eUsers: 2\\u003cbr\\u003eProperties: 6\\u003cbr\\u003eEdits: 13\\u003cbr\\u003ePages: 13\",\"PIT\\u003cbr\\u003eURL: https:\\u002f\\u002fpit-data.wikibase.cloud\\u003cbr\\u003eHost: Wikibase Cloud\\u003cbr\\u003eVersion: 1.39.7\\u003cbr\\u003eStart Date: 2025-01-20 00:00:00+00:00\\u003cbr\\u003eActive Users: 2\\u003cbr\\u003eUsers: 4\\u003cbr\\u003eProperties: 7\\u003cbr\\u003eEdits: 15\\u003cbr\\u003ePages: 15\",\"Johann Christian Bach\\u003cbr\\u003eURL: https:\\u002f\\u002fjcbach.wikibase.cloud\\u003cbr\\u003eHost: Wikibase Cloud\\u003cbr\\u003eVersion: 1.39.7\\u003cbr\\u003eStart Date: 2025-01-16 00:00:00+00:00\\u003cbr\\u003eActive Users: 1\\u003cbr\\u003eUsers: 2\\u003cbr\\u003eProperties: 6\\u003cbr\\u003eEdits: 13\\u003cbr\\u003ePages: 13\"],\"legendgrouptitle\":{\"text\":\"By host\"},\"marker\":{\"color\":\"#ADD8E6\",\"line\":{\"color\":\"black\",\"width\":1},\"showscale\":false,\"size\":[7,6,4,4,4,4,4,6,4,4,4,4,6,6,6,8,4,4,4,4,4,6,6,4,4,4,11,4,7,4,4,4,4,4,4,4,4,4,6,4,20,7,4,6,4,7,4,4,4,6,6,4,4,4,4,4,4,4,4,4,8,6,6,6,6,4,4,4,6,4,4,4,6,6,4,4,4,4,6,4,4,4,4,6,7,7,4,6,4,6,11,6,4,4,7,4,4,4,4,4,4,4,4,4,4,7,4,6,6,4,4,4,6,4,4,4,4,4,6,4,6,4,6,6,8,7,4,6,6,6,4,4,4,6,6,6,6,6,6,4,4,8,6,4,4,4,6,6,7,6,7,9,6,7,7,7,8,6,12,7,9,7,7,7,4,4,6,4,6,7,6,4,4,4,6,4,4,6,4,4,7,4,7,4,6,6,6,6,8,4,6,4,4,6,4,4,4,4,6,4,4,4,6,6,4,6,4,4,4,6,4,4,4,4,6,4,4,20,6,4,6,4,4,4,6,6,4,4,4,4,6,4,4,4,4,4,4,4,4,6,4,4,4,4,6,4,4,6,6,4,4,4,4,4,4,4,4,4,4,6,4,6,4,4,6,4,4,4,6,4,4,6,4,4,4,4,4,4,4,4,4,4,4,7,4,4,4,4,4,6,4,7,6,4,4,4,4,4,4,6,4,4,4,4,4,4,4,4,6,4,7,4,4,4,4,4,4,4,4,7,4,4,4,6,4,6,4,6,4,4,4,4,4,4,7,4,4,4,4,4,4,4,6,4,4,4,4,4,4,4,4,4,4,4,4,4,4,4,4,4,4,4,4,4,4,4,4,4,4,4,4,4,4,4,4,4,4,4,4,4,4,4,4,4,4,4,4,4,6,6,4,7,4,4,4,4,4,4,4,4,4,6,4,6,4,4,4,4,4,4,7,4,4,4,4,4,4,4,4,4,6,4,4,4,4,4,4,4,4,4,4,4,4,6,4,7,6,7,4,6,4,4,4,4,4,4,4,4,4,4,4,4,4,4,4,4,4,4,4,4,4,4,4,6,4,4,4,4,4,4,4,4,4,4,4,4,4,4,4,4,4,6,4,4,4,4,4,4,4,4,4,4,4,4,4,4,4,4,4,4,4,4,6,4,4,4,4,4,4,4,4,4,4,4,4,4,4,4,4,4,4,4,4,4,4,4,4,4,4,4,4,4,4,4,4,4,12,4,4,4,4,4,4,4,6,4,4,4,4,4,4,4,4,4,4,4,4,4,4,4,4,4,4,4,4,4,4,4,4,4,4,4,4,4,4,4,4,4,4,4,4,4,4,4,4,4,4,8,7,7,7,7,7,6,6,7,6,8,6,7,8,7,7,7,7,7,7,7,7,7,6,7,7,7,7,7,6,7,7,6,7,6,7,7,7,7,7,7,6,7,7,7,7,7,7,7,6,7,6,7,6,6,6,7,6,7,7,7,6,7,7,6,7,7,7,7,7,7,7,6,6,7,7,7,7,7,7,7,7,6,7,6,7,7,7,7,7,7,6,6,7,7,7,6,6,6,6,7,7,6,7,7,6,6,7,7,6,9,6,6,7,7,7,7,7,7,7,7,6,7,6]},\"mode\":\"markers\",\"name\":\"Wikibase Cloud (711)\",\"showlegend\":true,\"x\":[-0.34475576877593994,-0.9235790967941284,0.39078718423843384,-0.2549951374530792,0.0611163005232811,0.13807369768619537,-0.8828572630882263,0.9014772772789001,-0.266420841217041,-0.49137380719184875,-0.27791211009025574,0.0662909597158432,0.7986608743667603,0.3307567536830902,-0.3418184220790863,-0.3633997440338135,0.5125362873077393,0.5138758420944214,-0.9084270596504211,-0.7134567499160767,0.9476358294487,-0.8710051774978638,0.4331985116004944,0.7931843996047974,-0.021917765960097313,0.9464021325111389,0.6393133401870728,-0.6798942685127258,0.1485774666070938,0.9698293209075928,0.8931258916854858,-0.44105538725852966,-0.961007297039032,0.7318003177642822,-0.8620173931121826,-0.521598756313324,-0.121723972260952,-0.4448204040527344,0.4213913679122925,0.33680081367492676,0.47515562176704407,-0.1237916573882103,-0.25065046548843384,0.2710951864719391,0.05068041384220123,-0.27122610807418823,-0.16245342791080475,0.61092609167099,0.6192598342895508,0.9442276358604431,-0.4130392372608185,0.922364354133606,0.5856574177742004,-0.7101864814758301,0.07693012058734894,0.9781014919281006,-0.7298640012741089,0.3004029095172882,-0.20005863904953003,0.9607361555099487,0.4546893239021301,-0.6711266040802002,-0.9620839953422546,-0.4465166926383972,0.7441409230232239,0.6383059620857239,-0.8717061281204224,-0.9568278193473816,0.290056437253952,0.2499423325061798,0.9655210971832275,-0.6372148990631104,-0.8531851172447205,-0.32618385553359985,0.7974298000335693,-0.7346539497375488,-0.4077163636684418,-0.15221598744392395,-0.6410601735115051,0.9672845602035522,0.8354212045669556,-0.17748862504959106,-0.14152881503105164,-0.1914837509393692,-0.7981029152870178,-0.2643660306930542,-0.8994282484054565,0.21407367289066315,-0.9358934164047241,0.2835390865802765,0.7748970985412598,0.8442648649215698,-0.028048107400536537,0.8619319200515747,-0.8167039155960083,0.9043734073638916,-0.1166306659579277,0.9494889974594116,-0.6688939332962036,0.7164620757102966,-0.30482983589172363,-0.4881945848464966,0.6827305555343628,-0.40652117133140564,-0.13391467928886414,-0.41964468359947205,0.12246176600456238,-0.004968847148120403,0.27648288011550903,0.6370510458946228,0.1476536989212036,-0.029584333300590515,-0.027132363989949226,-0.989032506942749,0.1995016634464264,0.5569338202476501,-0.19088172912597656,-0.9000167846679688,-0.11044023931026459,-0.8088215589523315,-0.11720768362283707,-0.7551389336585999,-0.94549959897995,-0.41177794337272644,-0.14192642271518707,-0.9074488282203674,-0.4760957360267639,-0.012624005787074566,0.9822971224784851,-0.6462224125862122,-0.10497431457042694,0.967189371585846,-0.3492877781391144,-0.6941326260566711,0.7426260113716125,-0.49144670367240906,0.6905226707458496,0.9603000283241272,0.3303273916244507,-0.4093988835811615,0.25696662068367004,0.7913561463356018,-0.881623387336731,-0.5517335534095764,0.33718767762184143,-0.9229047298431396,0.04046936333179474,0.5830038785934448,-0.7969647645950317,-0.8332089781761169,0.9794792532920837,-0.9593470096588135,-0.2952028214931488,-0.786268949508667,0.5604305267333984,0.11717845499515533,0.11853840947151184,-0.20352429151535034,-0.5460926294326782,0.5247797966003418,0.8497505784034729,0.7800880074501038,0.9385985732078552,0.5791175961494446,-0.9158666729927063,-0.5176776647567749,0.27644890546798706,0.14597384631633759,-0.8136546134948731,-0.9384931385517121,-0.018224258534610273,1.0946313321590424,0.25465285778045654,0.966083824634552,-0.2609342515468598,-0.7670541465282441,0.1467517450451851,0.71844482421875,0.8489948630332947,-0.21800638139247897,-0.07537463307380676,1.060197651386261,0.9642760276794434,0.8668146073818207,-0.9743910849094392,-1.0213479638099672,0.8379796624183655,0.9389151811599732,-0.8707590699195863,0.11948939561843873,-0.9835378766059877,0.7332121253013612,0.41820590198040014,-1.0412724137306215,0.3763555616140366,0.3173704028129578,-0.045710019022226336,1.004743140935898,-0.8692752659320832,1.0052277982234956,0.982755357027054,-0.8847981333732605,0.7737015962600708,-0.9617597043514252,-0.7018881976604462,1.0177773535251617,-0.7999745845794678,-0.5149516791105271,-0.9376312196254731,-0.671219527721405,-1.0141508162021637,0.4633061408996582,-0.906891280412674,0.3382708549499512,0.5575556576251984,0.9152303099632264,-1.0026765942573548,-0.013413419667631389,-0.44476681947708135,0.4720691800117493,-0.5035333514213562,-1.0756883263587953,0.2649024158716202,-0.9847878754138948,-0.9793921291828156,-1.0625414729118348,0.9918215692043305,-0.9246951580047608,-0.29541051685810094,-0.6478371739387513,0.1808034107089043,0.7140401005744935,-0.2474306255578995,0.1476899489760399,0.4294590711593628,1.0423904299736024,-0.3640393197536469,1.066843855381012,0.0907419390976429,0.8190217733383179,-0.7109147429466248,-0.07457114905118943,-0.8512454509735108,-0.047720138728618626,0.9478279054164888,0.619354510307312,0.7587514400482178,-1.0371918380260468,0.3397424310445786,-0.9532807588577271,-0.7726179361343385,-0.5739789962768556,-0.1195457734167576,0.35044691860675814,-1.0467549026012422,-0.9753969848155977,-0.992374610900879,-0.7110548555850983,0.7064941465854645,-0.18311385959386828,-0.0502870824187994,0.8550728142261506,-0.36668244600296024,-0.6917878270149231,0.9946960747241975,0.18897546231746676,-0.48414591252803807,0.8953484773635865,0.934536349773407,-0.5239296078681946,-1.052451264858246,-1.0341395854949953,0.458980679512024,0.9137958109378815,-1.0703274607658386,-0.9537765622138977,0.7961782991886139,0.4405347228050232,0.9616532921791078,0.9897163391113282,0.09846882820129395,0.6176138877868653,0.8336359739303589,0.04315534010529518,0.5319416970014572,-0.9409288167953492,-0.7228354632854462,-0.8273463785648346,0.27859123051166534,-1.0527762055397034,-0.09399704188108444,0.8714047551155091,-1.0792571008205414,0.2347932130098343,0.6638475835323334,0.9316656470298768,0.09517249315977097,-0.9110896766185761,-0.05069542601704598,0.6638480424880981,0.6981010258197785,-0.3723200619220734,-0.5697290003299713,-0.8715274274349213,0.7481563806533814,0.8145498394966126,-0.10889622122049332,-0.9667328178882599,-0.5453983783721924,-1.0850484669208527,-0.6114809930324555,-0.034390215203166014,0.8790280103683472,-0.6347800135612488,-0.6255475282669067,0.9327112138271333,0.18013341724872592,-0.9161951005458833,0.0507319949567318,-0.9106549143791199,-0.9192070960998536,0.9579499125480653,-0.0861699938774109,0.9979540050029756,1.0448450565338137,0.9843265593051911,0.1821116477251053,0.2545655027031899,-0.2739982470870018,-0.326908028125763,0.7294579982757569,0.4113198608160019,0.8417307078838349,-0.756522160768509,1.0054557025432587,-1.0374675393104553,-0.24691534936428072,0.5894566893577576,-1.0308712959289552,0.9359849452972413,0.5087277144193649,0.6769467055797578,-0.5120187878608704,0.9908211767673494,1.0155415177345277,-0.09293385446071625,0.7323479115962983,-0.9449918210506439,0.6977375328540802,-0.3674169719219208,0.8868791699409485,-0.02497703451663256,0.1934834733605385,1.0059770762920381,-0.8750007390975952,0.9558891355991365,-1.0667472779750824,0.9205786526203156,-1.0140518128871918,0.45452733337879186,0.9855401694774628,0.9105511903762818,-0.45560640394687657,-0.9550542950630189,0.16497751772403718,0.8180803894996643,-0.7149959087371827,1.0763671875,-0.8059827089309693,-0.780049479007721,1.0017894983291626,1.0768315851688386,-0.892731773853302,0.28212515711784364,-0.8001824915409089,0.81144939661026,0.7494302451610566,0.5770926177501678,-0.5937409102916718,1.0336983978748322,-0.6077233910560609,0.7590821504592896,0.3958493143320084,0.7874635815620423,-0.7602409482002259,0.9284819364547731,1.05199893116951,0.5667844712734222,-1.0498413801193238,-0.8647156059741975,-0.7345347702503205,-1.0422287464141846,0.6833625137805939,-0.4234250485897065,-0.46571710109710696,0.4001303553581238,-0.1717741772532463,0.8068597733974457,0.8877690196037293,-1.0757918536663056,0.9436186909675599,0.5923290312290193,0.5994058012962342,-0.6714240252971649,0.1167888753116131,-0.3766976803541184,-0.2697578564286232,0.3550836175680161,0.5957085192203522,-0.9875280380249024,1.0558768451213838,-1.0142683744430543,1.029164046049118,-0.9738683998584748,1.0214462459087372,0.6443636655807495,0.8690646708011628,-0.09728321433067323,0.973807293176651,0.16689187288284302,-0.9183103442192078,0.5063038051128388,-0.849206179380417,0.18164200484752657,0.22887555211782457,-0.30008117854595184,-0.6281022727489471,-0.766598927974701,0.8984226942062379,0.2212358891963959,-0.972037822008133,0.7517266631126405,-0.3135711669921875,0.33073630928993225,1.0902729570865632,-0.8848718941211701,-0.9710702121257783,0.757786649465561,-1.0791305601596832,-0.015413369610905649,-0.9069716632366182,-0.35450431704521185,-0.9997371792793275,-0.9226260542869569,-0.9374905169010163,1.095828551054001,-0.902274775505066,0.02208026144653559,-1.0082005858421326,-0.9932643949985505,-1.0896489083766938,0.93880575299263,0.6452055215835572,-0.7249653458595277,0.7425856411457062,0.9716240406036378,-0.3459193199872971,0.3883452564477921,-0.3633328884840012,0.4009889960289002,1.071454131603241,0.367560625076294,0.9960520923137666,-0.837291294336319,0.7089592635631562,-1.0325399279594423,-0.48571019768714907,-0.886794263124466,1.0109376668930055,-1.0166263580322266,-0.8755158185958863,0.8500041067600251,0.0851671263575554,0.18733733445405962,0.732806146144867,-0.9112138569355012,0.016786075569689276,-0.3326325833797455,-0.49439347684383395,-0.41401684880256656,0.059305968880653384,-0.22477606087923052,1.010647737979889,-0.8237260699272156,0.7587331473827362,-0.15571800321340562,-0.3386482805013657,0.16655401438474657,0.9708756804466249,-0.8790899693965912,-0.383211836218834,0.4387588918209076,1.0443715453147888,-0.9371264338493348,0.207067646086216,-0.6632234692573548,-0.41984080076217656,-0.9733465015888215,-0.8099551677703858,1.0681924641132357,0.5310307353734971,0.8909364700317384,-0.9289202392101289,0.4135543525218964,1.0371101438999177,0.47701760828495027,-0.6870202600955964,1.040255105495453,0.9474124193191529,-0.8184141159057617,1.0060628354549408,0.7684730410575867,0.8704731404781342,0.9248822152614594,-0.9580057084560395,0.6580040931701661,0.9368744015693665,0.3914041638374329,-1.0265156090259553,-1.0692081332206727,-0.6353101074695587,-0.8485694110393525,-1.0160650551319124,-0.5963940680027009,-0.17296918332576752,0.9955300629138948,-0.5703251838684082,0.08647058531641962,0.6746515333652496,0.732005137205124,1.0390998482704163,1.0264721393585206,1.0777222216129303,-0.989169067144394,-0.930495834350586,-0.20094394683837893,0.8631135880947114,0.5493365794420243,-0.5539700329303742,0.9041919648647309,0.851243418455124,-0.6449671268463135,-0.5632634282112122,-0.49737924635410313,-0.07449414283037187,0.25682915449142457,1.0587114214897158,-0.9020604431629181,0.25660306960344315,-0.1825438365340233,0.9132160842418672,-0.7049350082874298,-0.41880759298801423,0.05026146285235882,0.6391834974288941,-0.8415608942508698,0.46993267536163336,-0.036662595346570015,0.28276917040348054,-0.9021481037139893,0.22681587338447573,-0.8078206300735474,0.9898860216140748,-1.0437573313713076,-0.4067604959011078,-1.0408628940582276,-0.6789680123329163,0.03584114648401737,0.3385548830032349,0.5021523207426072,-0.8677673339843751,-0.539161628484726,-0.37929697632789616,0.894605165719986,0.8986955761909485,1.0090015292167664,-0.20959226340055467,-0.18681560009717943,0.5603811204433442,-0.8312813997268678,-1.0134772002696992,-0.8311378121376038,-1.0795491933822632,-0.9975757598876954,0.02348596509546042,0.900956654548645,0.9627929449081422,0.6586002111434937,1.0604299485683442,0.9835829198360444,0.21204674243927005,0.4859755724668503,0.11961367428302766,-0.9260022640228273,-0.660239863395691,-0.24534819573163988,-1.0217632532119751,-1.0281241834163666,0.7837275505065918,0.8479580819606781,0.30052544772624973,-1.060403198003769,0.05071518570184708,0.2717453807592392,-0.6164102435112,1.0288086831569672,0.9548536658287049,-0.11534518077969552,0.48638873100280766,1.077275460958481,0.26054407358169557,1.0206699550151825,-0.9426978945732117,1.069399780035019,-0.9049482583999634,-0.7943607687950135,-0.6248716831207276,-0.4170117646455765,-0.576943325996399,1.0657365262508394,-1.0734469175338746,0.6796168446540833,1.0501806795597077,0.9069988727569581,-1.010749560594559,0.9486584842205048,-1.0209015309810638,-0.41583572328090673,0.9781300008296967,-0.5423696964979172,-0.27396752983331685,0.45401504039764407,1.0087447762489319,0.3002215534448624,-0.18174694180488588,0.6500800251960754,1.0956075966358185,-0.7594063699245454,-0.740527617931366,-0.8228707730770112,0.32227667272090915,0.4997285425662995,-0.5730652153491974,-0.755750459432602,-0.9727772653102875,-1.0962252199649811,0.2331002399325371,0.8077257573604585,0.36035059392452246,1.0204381823539734,-0.712808918952942,0.5311089873313904,0.694799166917801,-0.640970540046692,-0.6657753944396974,-0.2677159130573273,-0.6160939574241638,-0.3046493291854859,1.0576135337352754,0.12464945986866952,-0.842777192592621,1.0293626427650453,-0.09568354040384293,0.8843753695487977,-0.47072250545024874,0.3379765331745148,-0.7643499791622163,0.6044998168945312,1.076083552837372,0.2176987335085869,0.9062711656093598,-1.0718721091747285,0.28389282524585724,-1.073673576116562,0.7298112630844117,-1.0889533281326296,0.4565670639276505,-0.9707739889621736,0.8474927008152009,-0.6893971264362336,0.5577303886413575,0.8132235884666443,0.1276142567396164,0.7031425893306733,1.0841894328594208,-0.06118347495794297,0.9358054280281067,-0.9166874945163728,-1.0195076167583466,0.8474913239479066,-0.6307433664798737,-0.9457728326320649,-0.2463399335741997,-0.7502307295799256,-0.6761140286922456,-0.442992103099823,-0.5891565322875977,0.9269930839538575,1.0189165472984314,0.017864463850855827,-0.27502498030662537,0.6280947983264924,-0.7786813318729401,0.9966808617115022,0.8031861603260041,-0.9660067498683931,0.8314558029174806,0.6163842797279359,0.9793893098831178,0.7761423230171204,0.5281199723482133],\"y\":[0.4576641321182251,-0.22758960723876953,-0.9209132194519043,-0.806473433971405,-0.9534766674041748,-0.9456290602684021,-0.2037598043680191,-0.19966340065002441,-0.5127559900283813,-0.2996061444282532,-0.9583551287651062,-0.990526556968689,0.6520837545394897,-0.015526148490607738,-0.27920639514923096,-0.9269760847091675,-0.8020008206367493,0.8838105797767639,-0.4252752661705017,0.6408898234367371,0.2618132531642914,-0.4580073952674866,0.9347828030586243,-0.5740936398506165,-0.2421543300151825,0.3532158434391022,-0.7609301805496216,-0.737910270690918,-0.7278870344161987,-0.19996267557144165,0.4929749071598053,-0.7947859764099121,-0.031478364020586014,0.5772489309310913,-0.2688341438770294,-0.8526167273521423,0.9985125660896301,0.8637688755989075,0.36182764172554016,0.40430375933647156,-0.8369302749633789,-0.9239843487739563,-0.9519971013069153,-0.9328433871269226,0.93775475025177,0.9396234154701233,-0.4806017577648163,0.7843201160430908,-0.7907329797744751,-0.2822801470756531,-0.17170275747776031,0.01454226765781641,-0.5051572322845459,-0.5971931219100952,0.9728924036026001,0.15294423699378967,-0.7291513085365295,0.8612866401672363,0.969510018825531,0.28357115387916565,0.8393095135688782,-0.7642427682876587,0.24621279537677765,0.9105777740478516,0.6450197696685791,-0.8058381080627441,0.5588708519935608,-0.07509201765060425,0.9394760727882385,0.7334685921669006,0.07429845631122589,-0.8104419112205505,-0.5283267498016357,-0.9257650375366211,-0.4621148407459259,-0.701140284538269,-0.0693918913602829,-0.8983851075172424,-0.7439393997192383,-0.2547908127307892,0.3794488310813904,0.9628522992134094,0.968358039855957,0.08484365046024323,0.6759188771247864,-0.9060366153717041,0.41827964782714844,0.46453073620796204,0.34545332193374634,0.07799411565065384,0.6487795114517212,-0.4940306842327118,-0.5342905521392822,0.5211901068687439,-0.5225870609283447,-0.4105148911476135,0.9641848802566528,-0.22406640648841858,0.027797069400548935,-0.6097092628479004,-0.8470401167869568,0.8322058320045471,0.1320069432258606,0.8696297407150269,0.9132326245307922,-0.8902689814567566,0.9484785795211792,-0.9766754508018494,0.232538104057312,0.2617049813270569,0.9320619702339172,-0.9907882809638977,0.2259344607591629,0.11324800550937653,0.945086658000946,-0.8481283187866211,-0.7996280193328857,0.280799001455307,0.07117625325918198,0.6422394514083862,-0.966697096824646,-0.623934805393219,-0.05232325196266174,-0.4987868368625641,-0.9550708532333374,-0.2972394824028015,-0.8331819176673889,-0.7195683121681213,-0.1656472235918045,-0.28881821036338806,-0.9542131423950195,-0.09955327212810516,-0.8776727914810181,-0.6967453956604004,-0.5967311859130859,-0.8558539152145386,-0.763306736946106,-0.17934340238571167,-0.931456983089447,-0.8637788891792297,0.30262765288352966,-0.000764417287427932,0.4813860058784485,-0.056818485260009766,-0.858165979385376,0.25733333826065063,-0.9792748689651489,0.3499404788017273,0.597720742225647,0.465424507856369,-0.07963452488183975,-0.10648474097251892,-0.9329028725624084,-0.5236043334007263,0.8638913035392761,0.376445472240448,-0.0854145810008049,-0.9135419130325317,-0.8385521173477173,-0.7212812900543213,0.2367420643568039,0.613464891910553,-0.08540704101324081,-0.8252092599868774,0.009951919317245483,0.8606470227241516,9.621296339901164e-05,-0.96763676404953,0.5959243595600129,-0.22190639078617097,-1.0488009929656983,0.07112652212381364,0.41409486532211304,-0.00122355786152184,0.9688775181770326,-0.6896785318851472,-0.9959739387035371,0.7509737014770508,-0.6574422657489777,-1.0758328318595887,-0.9937815725803376,-0.16688993722200396,0.5124455183744431,0.6364938199520112,0.27609952688217165,0.360319384932518,0.7730532228946686,-0.5907704174518585,-0.5310931533575058,-0.9671443700790406,0.5024854570627213,0.7243839144706726,0.9985200285911561,-0.1684285864233971,0.9548643529415132,1.0019252181053162,-1.0546514332294465,-0.13153020665049553,-0.6519366323947907,-0.25921006947755815,-0.5233787626028061,0.5211737424135209,0.7864206373691559,-0.07458791732788086,-0.8532717406749726,0.4317053645849228,0.6452567279338837,0.8739070475101471,0.19166599214077,0.8710499823093415,0.426919373869896,0.9857822358608247,0.5541633188724518,-0.9393026053905488,0.8333274245262147,-0.3103560507297516,-0.38939462602138525,1.0571785748004914,0.9263411045074463,0.928756457567215,0.8200552105903626,0.08615164384245873,-1.0671992838382722,0.3797241002321244,-0.3760455042123795,0.15319972932338716,-0.07802597954869271,-0.5024937838315964,0.9834951281547547,0.7644354104995729,0.9946742415428163,-0.6999997913837434,1.0692155420780183,1.079267066717148,1.017855703830719,0.22121661305427553,0.8698394536972046,-0.06956770345568658,-1.0019842267036438,-0.7560416996479035,0.8456137359142304,1.0460248351097108,-0.7916406035423279,1.029258131980896,-0.5642455279827119,-0.7635242521762848,0.8541454613208771,0.17851533591747284,-0.8344561934471131,0.3374547004699707,0.5640938758850098,0.8513011157512665,1.0248911023139955,1.0299728572368623,0.22933077067136767,0.1606856092810631,0.5576711177825928,0.8938401520252228,-0.7552464604377748,-0.9572057485580445,-0.960590547323227,-0.612392020225525,1.011982250213623,-0.698155051469803,-0.4199970424175263,-0.9753465652465821,-0.9280277013778687,0.488192754983902,0.10811393931508065,-0.972808212041855,0.06811858750879765,0.4069637477397919,0.8218640863895417,-0.4841362744569779,0.2892870962619782,0.4710531830787659,0.5266528874635696,0.889609169960022,0.4185844749212265,0.16344195008277895,1.0408711552619936,-0.8535728156566621,0.6424770951271057,0.9863729774951936,-0.9664365947246553,0.25779466629028325,0.6867507874965668,-0.7443383276462555,1.056178116798401,-0.24178037196397784,-1.069480621814728,-0.5387149006128311,-0.23422704190015795,-1.0504115998744965,-0.7657428443431855,0.5458625793457031,1.098816353082657,-0.28765150904655457,1.0634888231754305,-0.9149615585803986,-0.8019646167755128,-0.912256407737732,-0.9616384088993073,-0.4530112057924271,0.6798284888267517,0.7451567769050599,0.9671472549438478,-0.4107164323329926,0.8750594198703766,0.16246160417795183,0.9675126492977143,-1.001766484975815,-0.37125023603439333,-0.8748640358448029,-0.9458146631717682,0.21196350753307344,1.0618308126926423,-0.4124120444059372,-1.0340235352516176,-0.3470370411872864,0.30371853411197663,-0.28015941679477696,1.0078904628753662,-0.4740803897380829,0.248756942152977,-0.49735092222690586,-1.054520630836487,-1.029447615146637,1.0766893088817597,0.9916330039501191,0.842802369594574,0.9247261047363282,-0.7217927813529968,0.8828895986080171,0.22890438437461855,-0.12756297662854196,-1.0472641468048096,0.6899057805538178,0.10165607929229738,-0.6206043779850007,-0.9645942151546479,0.6877044975757599,0.9816237688064576,0.47871433496475224,-0.329439988732338,1.0849278271198273,-0.5703049242496491,0.3912566423416138,0.8939572513103485,-1.0313040256500245,-0.7243361830711366,1.080584990978241,1.0327730774879456,0.49890301227569583,-0.6794927299022675,-0.48114014565944674,-0.00869178418070078,0.6837727546691895,0.5003118425607682,-0.8870599985122681,-0.1742325410246849,0.6110592782497406,-0.9198834002017976,-0.450682070851326,0.9369886159896851,0.5875840842723847,-0.7775448918342591,-0.05161265321075917,-0.5316985160112382,0.6165915966033936,0.19419667422771456,-0.1443773537874222,-0.4886434495449067,-1.0083570241928101,0.8339572429656983,0.7982727766036988,0.6358975052833558,-0.8455036520957947,-0.8596249997615815,-0.2162251248955727,0.8469940125942231,-0.6734969973564149,-1.0091681957244873,-0.7827316820621492,-0.7279891431331635,-0.66309312582016,0.19167720377445222,0.8688121140003205,0.31631211638450624,-0.3802322953939438,0.7665723085403443,-0.19968126118183138,0.8265041291713715,0.8942732751369477,0.8988423764705659,-0.9044035434722901,1.037508648633957,-0.7095208942890168,0.273216612637043,-0.19482459127902987,0.4584630757570267,0.9765839755535126,-0.7245985746383667,-0.8672528445720673,0.974073749780655,0.9802029728889466,-0.9708939731121065,0.9991209328174592,0.8965850353240967,-0.032571682892739776,0.053086593747138984,0.4559969753026963,-0.3752476423978806,0.4178570628166199,0.31456277370452884,-0.8079699873924256,0.6020179808139802,1.058503121137619,0.34176514744758607,0.04555905982851982,-0.3192184865474701,-0.8582678020000458,0.508471617102623,1.0824803471565247,0.9626582741737366,0.9443006336688996,-0.9036820650100709,-0.7875697314739228,0.6513860821723938,1.0744774699211121,0.2226002171635628,0.58506920337677,-1.0016088664531708,1.0665636956691742,-0.11264044791460039,-0.6990860104560853,-0.3483794212341309,-0.7966087341308594,-0.05987677462399006,1.014968675374985,0.679100650548935,-0.9615687131881715,-0.5012197226285935,0.6457704961299897,0.4361275672912598,-0.03444666266441346,0.456651708483696,1.0707639276981356,0.16436999142169953,-0.43179731965065005,-0.14872432053089144,0.36781550943851476,-0.8677409768104554,-0.7170115113258363,-0.7535529792308808,-0.5509801983833313,1.0405053019523622,1.0085353612899781,0.949734538793564,-0.9667355060577394,-0.025246535800397398,-0.9913896918296815,0.30436415374279024,0.6929357409477235,-0.6561566650867463,-0.3932202845811844,-0.8211307406425477,0.3907249420881272,-0.3595221787691117,0.21332055777311326,0.4367372572422028,0.5482334464788438,1.0073660731315615,-1.01697536110878,0.8872063398361206,-0.5402944952249528,-1.0279762029647828,0.958882510662079,-0.9821527481079102,1.03307723402977,1.0591151714324951,0.9418011605739595,-0.29704489111900334,0.7908602476119996,-0.7155757009983064,-1.0749881565570831,1.0657596707344057,-1.0786188244819641,0.4624515980482102,-0.6196223437786103,1.0435010373592377,-0.9561802446842195,0.348723703622818,0.5332448691129685,-1.0396308600902557,-0.9051028609275819,-0.9831227838993073,-0.5305419802665711,0.7584892451763153,0.14816390275955202,-0.8793303310871124,-0.44059635400772096,-0.6141571640968323,-0.9830720365047456,-0.009416690468788147,-0.7948161184787751,0.7104993224143983,0.16287089437246324,-0.42186512351036076,0.5460359007120132,-0.04266253225505352,0.7439646720886232,0.7592276394367219,0.4844448238611222,0.576440179347992,0.8111318647861482,-0.18030816465616228,-1.0367521584033967,-0.3123227089643479,0.04023901224136353,-0.8184215903282166,0.577161592245102,0.03407169580459595,0.7744997203350068,-1.0282022058963776,0.43671886622905737,-0.8239101111888886,-1.0290055751800538,-0.7212949454784394,0.8044745147228242,-0.2738102555274964,0.2733442515134812,-0.24444608539342882,-0.24604915231466296,0.5985714197158813,-1.0216213047504425,-0.5758446514606477,-0.8216289699077607,-0.8634882926940919,-0.5676529467105866,-0.4647058248519898,-0.7652251422405244,0.9947501659393312,-0.8735666990280152,-1.0517728626728058,0.8917865216732026,-0.13558871969580652,0.6225285172462464,1.031674861907959,1.0877041816711426,-0.39518245160579685,-0.6439436554908753,-0.905260741710663,-0.933975899219513,0.8551907658576966,0.6576033592224122,-0.9618008136749269,0.9851175367832185,0.9698941707611085,-0.7264793753623963,0.998833167552948,0.717918735742569,-0.3921630144119263,0.13052303642034532,0.9410198211669922,0.022810296155512336,-0.7839628636837006,-1.019181627035141,-1.0463278114795687,-0.9109091758728028,0.6160028874874115,-0.8917408227920532,0.921488106250763,0.552794909477234,-0.6487968504428864,0.3901139408349991,1.004668724536896,-1.0579277873039246,0.90771923661232,-0.6178794920444489,-0.1616348445415497,-0.5788573026657104,0.009787776693701745,-0.19664325267076493,-1.0628023564815523,0.5817527890205384,-0.11476280689239503,0.7704561889171601,-0.3184950739145279,0.39796696901321416,-1.0673036634922028,-0.985499519109726,1.0775711596012116,-0.6488188803195953,0.8470640361309052,1.0412497937679293,-0.43397637605667116,-0.26758901178836825,-0.7453869104385377,-0.6911171615123749,-0.917679363489151,-0.15502797961235049,1.0952689528465271,1.0035004854202272,0.8931244432926179,-0.4033902853727341,-0.2377046972513199,-0.9814849019050599,-0.9348858773708344,0.23259215950965884,-0.9690304160118104,0.10020995065569878,-0.5452188283205033,0.023335216566920284,-0.6226881682872772,-0.7080321073532105,-0.8459684431552887,-0.8655335307121278,-0.8907911121845246,0.26837746500968934,-0.10541141107678415,0.9281626999378205,-0.353310638666153,-0.6052537500858307,0.33865529596805577,-0.377738493680954,0.25251821577548983,0.9856761515140534,-0.3529688805341721,0.9682324886322022,-1.0176144897937776,-0.9914435207843781,0.0672407239675522,-0.9651534855365754,1.0141333758831026,0.9208222925662995,0.013038442563265563,0.8291589915752412,0.6372945666313172,-0.47774121761322025,-1.0110733211040497,0.8808225274085999,0.8154213964939118,-0.8614642322063447,0.028083169274032118,-0.08581118881702424,-0.9924307346343995,-0.5981771767139435,0.9008910238742829,-0.43540074527263645,0.8069563508033754,0.8836122572422028,0.742652451992035,0.9022172749042512,-0.8167855441570283,1.005040740966797,0.8107830584049226,1.0592513501644136,0.13232983052730563,-1.0606985688209534,0.46652089655399326,-0.16944764852523805,-1.0328524112701416,-0.6840453088283539,-1.0105213284492494,-0.9896437585353852,0.673070365190506,-0.8969830811023712,0.049203541129827506,-0.9131600916385652,0.33442595303058625,0.18863086849451066,-1.0466901242733002,0.11040698066353799,-0.8021998643875122,0.06443688943982125,0.9584668934345246,-0.5740850806236267,-0.765099060535431,0.7462314546108246,-0.9663329362869264,-0.549142998456955,1.0179358899593354,0.7918234646320343,0.10580560490489006,0.9072216629981995,0.631269133090973,0.3587705731391907,-0.28962003588676455,0.473390743136406,0.7243874549865723,-0.40691001713275915,-1.0155565321445466,-0.5756042242050171,0.6390211582183838,1.01601699590683,-0.7772276878356934,0.5185757577419281,0.3458392649888993,1.0203031837940217,-0.9234559774398804,0.9038884639739991,-0.612769478559494,0.12563554272055627,-0.5026848405599594,-0.1446247309446335,0.4078441232442856,0.825480329990387,0.03914945535361767,0.7082700431346894,0.998345297574997],\"type\":\"scatter\"},{\"hoverinfo\":\"text\",\"hovertext\":[\"DataTrek\\u003cbr\\u003eURL: https:\\u002f\\u002fdata.wikitrek.org\\u002f\\u003cbr\\u003eHost: independently hosted Wikibase\\u003cbr\\u003eVersion: 1.39.11\\u003cbr\\u003eStart Date: 2020-10-31 00:00:00+00:00\\u003cbr\\u003eActive Users: 3\\u003cbr\\u003eUsers: 38\\u003cbr\\u003eProperties: 191\\u003cbr\\u003eEdits: 84863\\u003cbr\\u003ePages: 13346\",\"MiMoTextBase\\u003cbr\\u003eURL: https:\\u002f\\u002fdata.mimotext.uni-trier.de\\u002f\\u003cbr\\u003eHost: independently hosted Wikibase\\u003cbr\\u003eVersion: 1.39.5\\u003cbr\\u003eStart Date: 2023-04-28 00:00:00+00:00\\u003cbr\\u003eActive Users: 1\\u003cbr\\u003eUsers: 3\\u003cbr\\u003eProperties: 58\\u003cbr\\u003eEdits: 116092\\u003cbr\\u003ePages: 4450\",\"Imedwiki base\\u003cbr\\u003eURL: https:\\u002f\\u002fbase.imedwiki.org\\u002fwiki\\u002fHauptseite\\u003cbr\\u003eHost: independently hosted Wikibase\\u003cbr\\u003eVersion: 1.35.3\\u003cbr\\u003eStart Date: 2021-08-25 00:00:00+00:00\\u003cbr\\u003eActive Users: 0\\u003cbr\\u003eUsers: 1\\u003cbr\\u003eProperties: 26\\u003cbr\\u003eEdits: 892\\u003cbr\\u003ePages: 263\",\"PersonalData.io\\u003cbr\\u003eURL: https:\\u002f\\u002fwiki.personaldata.io\\u003cbr\\u003eHost: independently hosted Wikibase\\u003cbr\\u003eVersion: 1.35.1\\u003cbr\\u003eStart Date: 2019-02-06 00:00:00+00:00\\u003cbr\\u003eActive Users: 0\\u003cbr\\u003eUsers: 13574\\u003cbr\\u003eProperties: 309\\u003cbr\\u003eEdits: 65858\\u003cbr\\u003ePages: 17614\",\"Rhizome Artbase\\u003cbr\\u003eURL: https:\\u002f\\u002fartbase.rhizome.org\\u002f\\u003cbr\\u003eHost: independently hosted Wikibase\\u003cbr\\u003eVersion: 1.35.1\\u003cbr\\u003eStart Date: 2015-02-09 00:00:00+00:00\\u003cbr\\u003eActive Users: 0\\u003cbr\\u003eUsers: 27\\u003cbr\\u003eProperties: 120\\u003cbr\\u003eEdits: 202723\\u003cbr\\u003ePages: 28533\",\"DeJongeWiki\\u003cbr\\u003eURL: https:\\u002f\\u002fset.kuleuven.be\\u002frlicc\\u002fdejongewiki\\u002fw\\u002findex.php\\u002fMain_Page\\u003cbr\\u003eHost: independently hosted Wikibase\\u003cbr\\u003eVersion: 1.39.4\\u003cbr\\u003eStart Date: 2021-04-13 00:00:00+00:00\\u003cbr\\u003eActive Users: 1\\u003cbr\\u003eUsers: 32\\u003cbr\\u003eProperties: 35\\u003cbr\\u003eEdits: 12622\\u003cbr\\u003ePages: 3039\",\"Crystal Pool\\u003cbr\\u003eURL: https:\\u002f\\u002fcrystalpool.cxuesong.com\\u003cbr\\u003eHost: independently hosted Wikibase\\u003cbr\\u003eVersion: 1.43.0-wmf.7\\u003cbr\\u003eStart Date: 2017-11-13 00:00:00+00:00\\u003cbr\\u003eActive Users: 1\\u003cbr\\u003eUsers: 28\\u003cbr\\u003eProperties: 147\\u003cbr\\u003eEdits: 130017\\u003cbr\\u003ePages: 10784\",\"Undata\\u003cbr\\u003eURL: https:\\u002f\\u002fdata.uncyclomedia.org\\u003cbr\\u003eHost: independently hosted Wikibase\\u003cbr\\u003eVersion: 1.39.3\\u003cbr\\u003eStart Date: 2019-04-12 00:00:00+00:00\\u003cbr\\u003eActive Users: 0\\u003cbr\\u003eUsers: 87323\\u003cbr\\u003eProperties: 60\\u003cbr\\u003eEdits: 58372\\u003cbr\\u003ePages: 14758\",\"MaRDi portal\\u003cbr\\u003eURL: https:\\u002f\\u002fportal.mardi4nfdi.de\\u002f\\u003cbr\\u003eHost: independently hosted Wikibase\\u003cbr\\u003eVersion: 1.44.0-wmf.15\\u003cbr\\u003eStart Date: 2021-12-15 00:00:00+00:00\\u003cbr\\u003eActive Users: 9\\u003cbr\\u003eUsers: 477\\u003cbr\\u003eProperties: 1623\\u003cbr\\u003eEdits: 36415688\\u003cbr\\u003ePages: 12755851\",\"DNB Doku wiki\\u003cbr\\u003eURL: https:\\u002f\\u002fsta.dnb.de\\u002fwiki\\u002fHauptseite\\u003cbr\\u003eHost: independently hosted Wikibase\\u003cbr\\u003eVersion: 1.35.7\\u003cbr\\u003eStart Date: 2020-03-31 00:00:00+00:00\\u003cbr\\u003eActive Users: 0\\u003cbr\\u003eUsers: 88\\u003cbr\\u003eProperties: 1562\\u003cbr\\u003eEdits: 149543\\u003cbr\\u003ePages: 9997\",\"De Jonge Wiki\\u003cbr\\u003eURL: https:\\u002f\\u002fset.kuleuven.be\\u002frlicc\\u002fdejongewiki\\u002fw\\u002findex.php\\u003cbr\\u003eHost: independently hosted Wikibase\\u003cbr\\u003eVersion: 1.39.4\\u003cbr\\u003eStart Date: 2021-04-13 00:00:00+00:00\\u003cbr\\u003eActive Users: 1\\u003cbr\\u003eUsers: 32\\u003cbr\\u003eProperties: 35\\u003cbr\\u003eEdits: 12622\\u003cbr\\u003ePages: 3039\",\"Librarybase\\u003cbr\\u003eURL: https:\\u002f\\u002flibrarybase.org\\u003cbr\\u003eHost: independently hosted Wikibase\\u003cbr\\u003eVersion: 1.39.1\\u003cbr\\u003eStart Date: 2023-05-04 00:00:00+00:00\\u003cbr\\u003eActive Users: 0\\u003cbr\\u003eUsers: 6\\u003cbr\\u003eProperties: 29\\u003cbr\\u003eEdits: 1096\\u003cbr\\u003ePages: 512\",\"Biblissima\\u003cbr\\u003eURL: https:\\u002f\\u002fdata.biblissima.fr\\u002f\\u003cbr\\u003eHost: independently hosted Wikibase\\u003cbr\\u003eVersion: 1.39.4\\u003cbr\\u003eStart Date: 2019-01-02 00:00:00+00:00\\u003cbr\\u003eActive Users: 3\\u003cbr\\u003eUsers: 18\\u003cbr\\u003eProperties: 308\\u003cbr\\u003eEdits: 1763961\\u003cbr\\u003ePages: 411709\",\"Enslaved.org\\u003cbr\\u003eURL: https:\\u002f\\u002flod.enslaved.org\\u002f\\u003cbr\\u003eHost: independently hosted Wikibase\\u003cbr\\u003eVersion: 1.37.0-alpha\\u003cbr\\u003eStart Date: 2019-07-01 00:00:00+00:00\\u003cbr\\u003eActive Users: 0\\u003cbr\\u003eUsers: 1\\u003cbr\\u003eProperties: 83\\u003cbr\\u003eEdits: 6467973\\u003cbr\\u003ePages: 1137805\",\"EU Knowledge Graph\\u003cbr\\u003eURL: https:\\u002f\\u002flinkedopendata.eu\\u002f\\u003cbr\\u003eHost: independently hosted Wikibase\\u003cbr\\u003eVersion: 1.39.1\\u003cbr\\u003eStart Date: 2019-12-17 00:00:00+00:00\\u003cbr\\u003eActive Users: 0\\u003cbr\\u003eUsers: 109\\u003cbr\\u003eProperties: 3272\\u003cbr\\u003eEdits: 44494366\\u003cbr\\u003ePages: 3424918\",\"FactGrid\\u003cbr\\u003eURL: https:\\u002f\\u002fdatabase.factgrid.de\\u002f\\u003cbr\\u003eHost: independently hosted Wikibase\\u003cbr\\u003eVersion: 1.39.10\\u003cbr\\u003eStart Date: 2018-01-11 00:00:00+00:00\\u003cbr\\u003eActive Users: 47\\u003cbr\\u003eUsers: 627\\u003cbr\\u003eProperties: 1195\\u003cbr\\u003eEdits: 9730625\\u003cbr\\u003ePages: 1021498\",\"Femiwiki\\u003cbr\\u003eURL: https:\\u002f\\u002ffemiwiki.com\\u002f\\u003cbr\\u003eHost: independently hosted Wikibase\\u003cbr\\u003eVersion: 1.42.4\\u003cbr\\u003eStart Date: 2016-07-25 00:00:00+00:00\\u003cbr\\u003eActive Users: 26\\u003cbr\\u003eUsers: 6149\\u003cbr\\u003eProperties: 83\\u003cbr\\u003eEdits: 316700\\u003cbr\\u003ePages: 72362\",\"Lingua Libre\\u003cbr\\u003eURL: https:\\u002f\\u002flingualibre.org\\u002f\\u003cbr\\u003eHost: independently hosted Wikibase\\u003cbr\\u003eVersion: 1.35.2\\u003cbr\\u003eStart Date: 2018-01-15 00:00:00+00:00\\u003cbr\\u003eActive Users: 23\\u003cbr\\u003eUsers: 3454\\u003cbr\\u003eProperties: 39\\u003cbr\\u003eEdits: 1424183\\u003cbr\\u003ePages: 1338070\",\"OpenStreetMap Wiki\\u003cbr\\u003eURL: https:\\u002f\\u002fwiki.openstreetmap.org\\u002f\\u003cbr\\u003eHost: independently hosted Wikibase\\u003cbr\\u003eVersion: 1.39.11\\u003cbr\\u003eStart Date: 2018-09-17 00:00:00+00:00\\u003cbr\\u003eActive Users: 758\\u003cbr\\u003eUsers: 155727\\u003cbr\\u003eProperties: 46\\u003cbr\\u003eEdits: 2789098\\u003cbr\\u003ePages: 285137\",\"Seeds of the Word\\u003cbr\\u003eURL: https:\\u002f\\u002fen.seminaverbi.bibleget.io\\u003cbr\\u003eHost: independently hosted Wikibase\\u003cbr\\u003eVersion: 1.42.1\\u003cbr\\u003eStart Date: 2020-08-15 00:00:00+00:00\\u003cbr\\u003eActive Users: 1\\u003cbr\\u003eUsers: 1\\u003cbr\\u003eProperties: 7910\\u003cbr\\u003eEdits: 24268\\u003cbr\\u003ePages: 22418\",\"TransforMap Base\\u003cbr\\u003eURL: https:\\u002f\\u002fbase.transformap.co\\u003cbr\\u003eHost: independently hosted Wikibase\\u003cbr\\u003eVersion: 1.27.0-rc.1\\u003cbr\\u003eStart Date: 2016-05-09 00:00:00+00:00\\u003cbr\\u003eActive Users: 2\\u003cbr\\u003eUsers: 182\\u003cbr\\u003eProperties: 33\\u003cbr\\u003eEdits: 6069\\u003cbr\\u003ePages: 478\",\"BDI Data\\u003cbr\\u003eURL: https:\\u002f\\u002fwiki.bgbm.org\\u002fbdidata\\u002findex.php\\u002fBDI_Data:Main_Page\\u003cbr\\u003eHost: independently hosted Wikibase\\u003cbr\\u003eVersion: 1.28.2\\u003cbr\\u003eStart Date: 2017-07-12 00:00:00+00:00\\u003cbr\\u003eActive Users: 0\\u003cbr\\u003eUsers: 5\\u003cbr\\u003eProperties: 69\\u003cbr\\u003eEdits: 17073\\u003cbr\\u003ePages: 2566\",\"FOMU Photographic Paper Collection (2023-)\\u003cbr\\u003eURL: https:\\u002f\\u002fdata.fomu.be\\u003cbr\\u003eHost: independently hosted Wikibase\\u003cbr\\u003eVersion: 1.38.5\\u003cbr\\u003eStart Date: 2023-11-22 00:00:00+00:00\\u003cbr\\u003eActive Users: 0\\u003cbr\\u003eUsers: 3\\u003cbr\\u003eProperties: 51\\u003cbr\\u003eEdits: 17445\\u003cbr\\u003ePages: 3759\",\"ScoutMedia\\u003cbr\\u003eURL: https:\\u002f\\u002fmedia.scoutwiki.org\\u002fMain_Page\\u003cbr\\u003eHost: independently hosted Wikibase\\u003cbr\\u003eVersion: 1.39.10\\u003cbr\\u003eStart Date: 2021-04-04 00:00:00+00:00\\u003cbr\\u003eActive Users: 11\\u003cbr\\u003eUsers: 10739\\u003cbr\\u003eProperties: 39\\u003cbr\\u003eEdits: 142254\\u003cbr\\u003ePages: 59728\"],\"legendgrouptitle\":{\"text\":\"By host\"},\"marker\":{\"color\":\"#5be971\",\"line\":{\"color\":\"black\",\"width\":1},\"showscale\":false,\"size\":[8,6,4,4,4,6,6,4,14,4,6,4,8,4,4,20,20,20,30,6,7,4,4,20]},\"mode\":\"markers\",\"name\":\"independently hosted Wikibase (24)\",\"showlegend\":true,\"x\":[0.3969615697860718,-0.4678146243095398,-0.6737548112869263,-0.3647943139076233,-0.009057590737938881,-0.20932015776634216,-0.05693027749657631,0.6004374027252197,0.07291647046804428,-0.9467354416847229,-0.10145091265439987,0.16735103726387024,0.43590104579925537,0.10037622600793839,0.2553069591522217,0.16738422214984894,-0.9846736609935761,-0.5447415709495544,-0.1761680394411087,-0.8392097294330597,-1.0021396815776826,0.9672020673751832,0.9450332581996919,-1.0719917654991151],\"y\":[0.7534096837043762,0.15796416997909546,0.6534112691879272,0.07239452004432678,-0.3691636919975281,0.4595819413661957,-0.9763186573982239,-0.7595276236534119,0.02221110463142395,-0.3205682933330536,0.46605560183525085,0.26418861746788025,-0.3576613664627075,-0.959183394908905,-0.4562171697616577,-0.17856205999851227,-0.29743883907794955,0.24815160036087036,0.269754558801651,-0.7165255427360535,0.08652689754962922,0.5985948920249939,-0.5134199798107147,0.2139475241303444],\"type\":\"scatter\"},{\"hoverinfo\":\"text\",\"hovertext\":[\"matvoc.nims.go.jp\\u003cbr\\u003eURL: https:\\u002f\\u002fmatvoc.nims.go.jp\\u003cbr\\u003eHost: \\u003cbr\\u003eVersion: 1.35.5\\u003cbr\\u003eStart Date: 2019-02-01 00:00:00+00:00\\u003cbr\\u003eActive Users: 0\\u003cbr\\u003eUsers: 85\\u003cbr\\u003eProperties: 58\\u003cbr\\u003eEdits: 38589\\u003cbr\\u003ePages: 3948\",\"Philobiblon\\u003cbr\\u003eURL: https:\\u002f\\u002fphilobiblon.cog.berkeley.edu\\u002fwiki\\u002fMain_Page\\u003cbr\\u003eHost: \\u003cbr\\u003eVersion: 1.39.1\\u003cbr\\u003eStart Date: 2024-02-27 00:00:00+00:00\\u003cbr\\u003eActive Users: 0\\u003cbr\\u003eUsers: 15\\u003cbr\\u003eProperties: 1177\\u003cbr\\u003eEdits: 1851601\\u003cbr\\u003ePages: 264990\",\"Semantic Lab at Pratt experimental Wikibase\\u003cbr\\u003eURL: https:\\u002f\\u002fbase.semlab.io\\u003cbr\\u003eHost: \\u003cbr\\u003eVersion: 1.39.6\\u003cbr\\u003eStart Date: 2020-02-22 00:00:00+00:00\\u003cbr\\u003eActive Users: 1\\u003cbr\\u003eUsers: 38\\u003cbr\\u003eProperties: 217\\u003cbr\\u003eEdits: 176993\\u003cbr\\u003ePages: 26748\",\"wikibase.the-qa-company.com\\u003cbr\\u003eURL: https:\\u002f\\u002fwikibase.the-qa-company.com\\u003cbr\\u003eHost: \\u003cbr\\u003eVersion: 1.38.5\\u003cbr\\u003eStart Date: 2022-08-15 00:00:00+00:00\\u003cbr\\u003eActive Users: 0\\u003cbr\\u003eUsers: 66108\\u003cbr\\u003eProperties: 851\\u003cbr\\u003eEdits: 49277\\u003cbr\\u003ePages: 46286\",\"CanonBase\\u003cbr\\u003eURL: https:\\u002f\\u002fcanonbase.eu\\u003cbr\\u003eHost: \\u003cbr\\u003eVersion: 1.34.1\\u003cbr\\u003eStart Date: 2020-03-11 00:00:00+00:00\\u003cbr\\u003eActive Users: 0\\u003cbr\\u003eUsers: 29\\u003cbr\\u003eProperties: 346\\u003cbr\\u003eEdits: 483939\\u003cbr\\u003ePages: 35722\",\"WikiHum\\u003cbr\\u003eURL: https:\\u002f\\u002fwikihum.lab.dariah.pl\\u003cbr\\u003eHost: \\u003cbr\\u003eVersion: 1.42.1\\u003cbr\\u003eStart Date: 2023-01-30 00:00:00+00:00\\u003cbr\\u003eActive Users: 5\\u003cbr\\u003eUsers: 16\\u003cbr\\u003eProperties: 157\\u003cbr\\u003eEdits: 835975\\u003cbr\\u003ePages: 174666\",\"itidata.abtk.hu\\u003cbr\\u003eURL: https:\\u002f\\u002fitidata.abtk.hu\\u003cbr\\u003eHost: \\u003cbr\\u003eVersion: 1.35.2\\u003cbr\\u003eStart Date: 2021-11-09 00:00:00+00:00\\u003cbr\\u003eActive Users: 0\\u003cbr\\u003eUsers: 66\\u003cbr\\u003eProperties: 248\\u003cbr\\u003eEdits: 920789\\u003cbr\\u003ePages: 449676\",\"wiki.tiffa.net\\u003cbr\\u003eURL: https:\\u002f\\u002fwiki.tiffa.net\\u003cbr\\u003eHost: \\u003cbr\\u003eVersion: 1.43.0\\u003cbr\\u003eStart Date: 2023-01-21 00:00:00+00:00\\u003cbr\\u003eActive Users: 1\\u003cbr\\u003eUsers: 1\\u003cbr\\u003eProperties: 966\\u003cbr\\u003eEdits: 144258\\u003cbr\\u003ePages: 45609\",\"ELTEdata\\u003cbr\\u003eURL: https:\\u002f\\u002feltedata.elte-dh.hu\\u003cbr\\u003eHost: \\u003cbr\\u003eVersion: 1.35.2\\u003cbr\\u003eStart Date: 2021-03-19 00:00:00+00:00\\u003cbr\\u003eActive Users: 0\\u003cbr\\u003eUsers: 19\\u003cbr\\u003eProperties: 171\\u003cbr\\u003eEdits: 253638\\u003cbr\\u003ePages: 39817\",\"wikibase.semantic-kompakkt.de\\u003cbr\\u003eURL: https:\\u002f\\u002fwikibase.semantic-kompakkt.de\\u003cbr\\u003eHost: \\u003cbr\\u003eVersion: 1.38.5\\u003cbr\\u003eStart Date: 2024-02-14 00:00:00+00:00\\u003cbr\\u003eActive Users: 0\\u003cbr\\u003eUsers: 19\\u003cbr\\u003eProperties: 110\\u003cbr\\u003eEdits: 6468\\u003cbr\\u003ePages: 1606\",\"sportsdamkg.slis.ua.edu\\u003cbr\\u003eURL: https:\\u002f\\u002fsportsdamkg.slis.ua.edu\\u003cbr\\u003eHost: \\u003cbr\\u003eVersion: 1.36.1\\u003cbr\\u003eStart Date: 2020-08-18 00:00:00+00:00\\u003cbr\\u003eActive Users: 0\\u003cbr\\u003eUsers: 5\\u003cbr\\u003eProperties: 89\\u003cbr\\u003eEdits: 8419411\\u003cbr\\u003ePages: 2625166\",\"Wikibase.slis.ua.edu\\u003cbr\\u003eURL: https:\\u002f\\u002fwikibase.slis.ua.edu\\u003cbr\\u003eHost: \\u003cbr\\u003eVersion: 1.34.2\\u003cbr\\u003eStart Date: 2018-10-01 00:00:00+00:00\\u003cbr\\u003eActive Users: 0\\u003cbr\\u003eUsers: 10\\u003cbr\\u003eProperties: 178\\u003cbr\\u003eEdits: 283279\\u003cbr\\u003ePages: 19117\",\"Black Bibliography Project\\u003cbr\\u003eURL: https:\\u002f\\u002fblackbibliog.rutgers.edu\\u003cbr\\u003eHost: \\u003cbr\\u003eVersion: 1.39.5\\u003cbr\\u003eStart Date: 2019-01-03 00:00:00+00:00\\u003cbr\\u003eActive Users: 8\\u003cbr\\u003eUsers: 52\\u003cbr\\u003eProperties: 137\\u003cbr\\u003eEdits: 79033\\u003cbr\\u003ePages: 10097\",\"GraphIT\\u003cbr\\u003eURL: https:\\u002f\\u002fgraphit.ur.de\\u003cbr\\u003eHost: \\u003cbr\\u003eVersion: 1.39.1\\u003cbr\\u003eStart Date: 2023-04-13 00:00:00+00:00\\u003cbr\\u003eActive Users: 0\\u003cbr\\u003eUsers: 88\\u003cbr\\u003eProperties: 38\\u003cbr\\u003eEdits: 11795\\u003cbr\\u003ePages: 1965\",\"Addshore Alpha\\u003cbr\\u003eURL: https:\\u002f\\u002faddshore-alpha.wikibase.dev\\u003cbr\\u003eHost: \\u003cbr\\u003eVersion: 1.39.7\\u003cbr\\u003eStart Date: 2019-10-28 00:00:00+00:00\\u003cbr\\u003eActive Users: 0\\u003cbr\\u003eUsers: 9\\u003cbr\\u003eProperties: 15\\u003cbr\\u003eEdits: 232\\u003cbr\\u003ePages: 60\",\"Wer Leitet?\\u003cbr\\u003eURL: https:\\u002f\\u002fwl.kgi.uni-mannheim.de\\u003cbr\\u003eHost: \\u003cbr\\u003eVersion: 1.38.5\\u003cbr\\u003eStart Date: 2023-11-14 00:00:00+00:00\\u003cbr\\u003eActive Users: 0\\u003cbr\\u003eUsers: 1\\u003cbr\\u003eProperties: 1068\\u003cbr\\u003eEdits: 36494\\u003cbr\\u003ePages: 35457\",\"DFIH\\u003cbr\\u003eURL: https:\\u002f\\u002fwiki.dfih.fr\\u003cbr\\u003eHost: \\u003cbr\\u003eVersion: 1.33.0\\u003cbr\\u003eStart Date: 2018-11-02 00:00:00+00:00\\u003cbr\\u003eActive Users: 0\\u003cbr\\u003eUsers: 11253\\u003cbr\\u003eProperties: 6\\u003cbr\\u003eEdits: 484028\\u003cbr\\u003ePages: 65770\",\"Nimiarkisto\\u003cbr\\u003eURL: https:\\u002f\\u002fnimiarkisto.fi\\u003cbr\\u003eHost: \\u003cbr\\u003eVersion: 1.41.4\\u003cbr\\u003eStart Date: 2018-05-04 00:00:00+00:00\\u003cbr\\u003eActive Users: 2\\u003cbr\\u003eUsers: 259\\u003cbr\\u003eProperties: 88\\u003cbr\\u003eEdits: 6991881\\u003cbr\\u003ePages: 6698303\",\"SCDB\\u003cbr\\u003eURL: https:\\u002f\\u002fscdb.app\\u003cbr\\u003eHost: \\u003cbr\\u003eVersion: 1.40.1\\u003cbr\\u003eStart Date: 2019-11-19 00:00:00+00:00\\u003cbr\\u003eActive Users: 0\\u003cbr\\u003eUsers: 14\\u003cbr\\u003eProperties: 95\\u003cbr\\u003eEdits: 35338\\u003cbr\\u003ePages: 5961\",\"akf.kgi.uni-mannheim.de\\u003cbr\\u003eURL: https:\\u002f\\u002fakf.kgi.uni-mannheim.de\\u003cbr\\u003eHost: \\u003cbr\\u003eVersion: 1.38.5\\u003cbr\\u003eStart Date: 2023-03-31 00:00:00+00:00\\u003cbr\\u003eActive Users: 0\\u003cbr\\u003eUsers: 4\\u003cbr\\u003eProperties: 349\\u003cbr\\u003eEdits: 4155\\u003cbr\\u003ePages: 3903\",\"modelling.dissco.tech\\u003cbr\\u003eURL: https:\\u002f\\u002fmodelling.dissco.tech\\u003cbr\\u003eHost: \\u003cbr\\u003eVersion: 1.35.5\\u003cbr\\u003eStart Date: 2022-01-06 00:00:00+00:00\\u003cbr\\u003eActive Users: 0\\u003cbr\\u003eUsers: 21\\u003cbr\\u003eProperties: 48\\u003cbr\\u003eEdits: 1133\\u003cbr\\u003ePages: 242\",\"data.marefa.org\\u003cbr\\u003eURL: https:\\u002f\\u002fdata.marefa.org\\u003cbr\\u003eHost: \\u003cbr\\u003eVersion: 1.39.2\\u003cbr\\u003eStart Date: 2023-03-07 00:00:00+00:00\\u003cbr\\u003eActive Users: 0\\u003cbr\\u003eUsers: 52685\\u003cbr\\u003eProperties: 1249\\u003cbr\\u003eEdits: 73981646\\u003cbr\\u003ePages: 6063082\",\"kg.jstor.org\\u003cbr\\u003eURL: https:\\u002f\\u002fkg.jstor.org\\u003cbr\\u003eHost: \\u003cbr\\u003eVersion: 1.34.4\\u003cbr\\u003eStart Date: 2019-06-22 00:00:00+00:00\\u003cbr\\u003eActive Users: 0\\u003cbr\\u003eUsers: 14\\u003cbr\\u003eProperties: 1533\\u003cbr\\u003eEdits: 2531655\\u003cbr\\u003ePages: 2526035\",\"www.wikichain.io\\u003cbr\\u003eURL: https:\\u002f\\u002fwww.wikichain.io\\u003cbr\\u003eHost: \\u003cbr\\u003eVersion: 1.39.1\\u003cbr\\u003eStart Date: 2024-09-04 00:00:00+00:00\\u003cbr\\u003eActive Users: 0\\u003cbr\\u003eUsers: 1\\u003cbr\\u003eProperties: 49\\u003cbr\\u003eEdits: 4677\\u003cbr\\u003ePages: 4677\",\"data.ruwiki.ru\\u003cbr\\u003eURL: https:\\u002f\\u002fdata.ruwiki.ru\\u003cbr\\u003eHost: \\u003cbr\\u003eVersion: 1.40.0-wmf.26\\u003cbr\\u003eStart Date: 2023-05-11 00:00:00+00:00\\u003cbr\\u003eActive Users: 218\\u003cbr\\u003eUsers: 5370001\\u003cbr\\u003eProperties: 11125\\u003cbr\\u003eEdits: 1711913854\\u003cbr\\u003ePages: 204209422\",\"wikiar.org\\u003cbr\\u003eURL: https:\\u002f\\u002fwikiar.org\\u003cbr\\u003eHost: \\u003cbr\\u003eVersion: 1.41.0\\u003cbr\\u003eStart Date: 2021-11-19 00:00:00+00:00\\u003cbr\\u003eActive Users: 4\\u003cbr\\u003eUsers: 209\\u003cbr\\u003eProperties: 1\\u003cbr\\u003eEdits: 1694\\u003cbr\\u003ePages: 919\",\"hbag.kgi.uni-mannheim.de\\u003cbr\\u003eURL: https:\\u002f\\u002fhbag.kgi.uni-mannheim.de\\u003cbr\\u003eHost: \\u003cbr\\u003eVersion: 1.38.5\\u003cbr\\u003eStart Date: 2024-08-27 00:00:00+00:00\\u003cbr\\u003eActive Users: 0\\u003cbr\\u003eUsers: 1\\u003cbr\\u003eProperties: 33\\u003cbr\\u003eEdits: 2404\\u003cbr\\u003ePages: 1610\",\"data.pornopedia.com\\u003cbr\\u003eURL: https:\\u002f\\u002fdata.pornopedia.com\\u003cbr\\u003eHost: \\u003cbr\\u003eVersion: 1.42.1\\u003cbr\\u003eStart Date: 2014-12-26 00:00:00+00:00\\u003cbr\\u003eActive Users: 1\\u003cbr\\u003eUsers: 161\\u003cbr\\u003eProperties: 16\\u003cbr\\u003eEdits: 37891\\u003cbr\\u003ePages: 22374\",\"contentdata.org\\u003cbr\\u003eURL: https:\\u002f\\u002fcontentdata.org\\u003cbr\\u003eHost: \\u003cbr\\u003eVersion: 1.42.3\\u003cbr\\u003eStart Date: 2025-01-04 00:00:00+00:00\\u003cbr\\u003eActive Users: 1\\u003cbr\\u003eUsers: 1\\u003cbr\\u003eProperties: 1\\u003cbr\\u003eEdits: 6\\u003cbr\\u003ePages: 4\",\"data.dezopedie.cz\\u003cbr\\u003eURL: https:\\u002f\\u002fdata.dezopedie.cz\\u003cbr\\u003eHost: \\u003cbr\\u003eVersion: 1.41.1\\u003cbr\\u003eStart Date: 2024-06-23 00:00:00+00:00\\u003cbr\\u003eActive Users: 1\\u003cbr\\u003eUsers: 2\\u003cbr\\u003eProperties: 9\\u003cbr\\u003eEdits: 19\\u003cbr\\u003ePages: 10\",\"losh.ose-germany.de\\u003cbr\\u003eURL: https:\\u002f\\u002flosh.ose-germany.de\\u003cbr\\u003eHost: \\u003cbr\\u003eVersion: 1.35.4\\u003cbr\\u003eStart Date: 2021-12-15 00:00:00+00:00\\u003cbr\\u003eActive Users: 0\\u003cbr\\u003eUsers: 3\\u003cbr\\u003eProperties: 112\\u003cbr\\u003eEdits: 1511241\\u003cbr\\u003ePages: 910055\"],\"legendgrouptitle\":{\"text\":\"By host\"},\"marker\":{\"color\":\"#D3D3D3\",\"line\":{\"color\":\"black\",\"width\":1},\"showscale\":false,\"size\":[4,4,6,4,4,10,4,6,4,4,4,4,13,4,4,4,4,7,4,4,4,4,4,4,30,9,4,6,6,6,4]},\"mode\":\"markers\",\"name\":\"unknown (31)\",\"showlegend\":true,\"x\":[-0.3929593563079834,0.28466498851776123,-0.4759097695350647,0.39228975772857666,0.3369072675704956,0.26530882716178894,-0.4552484154701233,-0.3918856084346771,0.12188063710927964,0.48657336831092834,0.5672067761421205,0.9959451556205751,0.4423161923885346,-0.961603856086731,-0.41568525135517126,0.6082999050617218,0.4208313584327698,-0.713102388381958,0.9618168771266938,0.9423157811164856,-0.23522345125675204,0.7482104063034059,-0.05354010351002217,0.9532250940799714,0.02207825351506472,0.24475304484367372,-0.9318535566329956,0.4422172546386719,0.7386000692844391,-0.4777764260768891,-0.6501556217670441],\"y\":[-0.9195720553398132,-0.5287704467773438,0.7352392673492432,0.011077350936830044,0.9450171589851379,0.9388696551322937,0.8284632563591003,-0.39610978960990906,-1.041161608695984,0.8657427430152893,-0.9326611876487733,0.3619855254888535,1.0445659458637238,0.11159039810299874,-0.9582071900367738,0.7688257157802583,0.9651164412498475,-0.7511519849300385,-0.32163603603839874,-0.03637569062411786,0.99405255317688,-0.8769997537136078,1.1,-0.4517029851675034,1.0499252378940582,1.055213063955307,-0.15655913800001145,-0.9248751342296601,0.7679907441139222,0.8659618675708771,0.8075193583965302],\"type\":\"scatter\"},{\"hoverinfo\":\"text\",\"hovertext\":[\"wikibase.imfd.cl\\u003cbr\\u003eURL: https:\\u002f\\u002fwikibase.imfd.cl\\u003cbr\\u003eHost: wikibase-docker\\u003cbr\\u003eVersion: 1.41.1\\u003cbr\\u003eStart Date: 2024-04-30 00:00:00+00:00\\u003cbr\\u003eActive Users: 37\\u003cbr\\u003eUsers: 191\\u003cbr\\u003eProperties: 36\\u003cbr\\u003eEdits: 15322\\u003cbr\\u003ePages: 1655\"],\"legendgrouptitle\":{\"text\":\"By host\"},\"marker\":{\"color\":\"#ff69b4\",\"line\":{\"color\":\"black\",\"width\":1},\"showscale\":false,\"size\":[20]},\"mode\":\"markers\",\"name\":\"wikibase-docker (1)\",\"showlegend\":true,\"x\":[-0.4252505898475647],\"y\":[0.930823564529419],\"type\":\"scatter\"},{\"hoverinfo\":\"text\",\"hovertext\":[\"The Digital Narrative Knowledge Base\\u003cbr\\u003eURL: https:\\u002f\\u002fcellwiki.cdn.uib.no\\u003cbr\\u003eHost: The Wikibase Consultancy\\u003cbr\\u003eVersion: 1.39.11\\u003cbr\\u003eStart Date: 2024-03-14 00:00:00+00:00\\u003cbr\\u003eActive Users: 2\\u003cbr\\u003eUsers: 6\\u003cbr\\u003eProperties: 89\\u003cbr\\u003eEdits: 7561\\u003cbr\\u003ePages: 6788\",\"Kunstmuseum API\\u003cbr\\u003eURL: https:\\u002f\\u002fapi.kunstmuseum.nl\\u002f\\u003cbr\\u003eHost: The Wikibase Consultancy\\u003cbr\\u003eVersion: 1.39.11\\u003cbr\\u003eStart Date: 2020-06-11 00:00:00+00:00\\u003cbr\\u003eActive Users: 2\\u003cbr\\u003eUsers: 18\\u003cbr\\u003eProperties: 114\\u003cbr\\u003eEdits: 465694\\u003cbr\\u003ePages: 42900\",\"Wikibase EDTF - Demo Wiki\\u003cbr\\u003eURL: https:\\u002f\\u002fedtf.wikibase.wiki\\u003cbr\\u003eHost: The Wikibase Consultancy\\u003cbr\\u003eVersion: 1.39.11\\u003cbr\\u003eStart Date: 2022-01-26 00:00:00+00:00\\u003cbr\\u003eActive Users: 1\\u003cbr\\u003eUsers: 17\\u003cbr\\u003eProperties: 3\\u003cbr\\u003eEdits: 743\\u003cbr\\u003ePages: 14\",\"Wikibase Automated Values - Demo Wiki\\u003cbr\\u003eURL: https:\\u002f\\u002fautomated.wikibase.wiki\\u003cbr\\u003eHost: The Wikibase Consultancy\\u003cbr\\u003eVersion: 1.39.11\\u003cbr\\u003eStart Date: 2022-03-25 00:00:00+00:00\\u003cbr\\u003eActive Users: 0\\u003cbr\\u003eUsers: 36\\u003cbr\\u003eProperties: 5\\u003cbr\\u003eEdits: 834\\u003cbr\\u003ePages: 28\",\"Wikibase RDF - Demo Wiki\\u003cbr\\u003eURL: https:\\u002f\\u002frdf.wikibase.wiki\\u003cbr\\u003eHost: The Wikibase Consultancy\\u003cbr\\u003eVersion: 1.39.11\\u003cbr\\u003eStart Date: 2022-07-22 00:00:00+00:00\\u003cbr\\u003eActive Users: 0\\u003cbr\\u003eUsers: 7\\u003cbr\\u003eProperties: 6\\u003cbr\\u003eEdits: 67\\u003cbr\\u003ePages: 22\",\"Wikibase Export - Demo Wiki\\u003cbr\\u003eURL: https:\\u002f\\u002fexport.wikibase.wiki\\u003cbr\\u003eHost: The Wikibase Consultancy\\u003cbr\\u003eVersion: 1.39.11\\u003cbr\\u003eStart Date: 2022-11-23 00:00:00+00:00\\u003cbr\\u003eActive Users: 1\\u003cbr\\u003eUsers: 5\\u003cbr\\u003eProperties: 9\\u003cbr\\u003eEdits: 149\\u003cbr\\u003ePages: 36\"],\"legendgrouptitle\":{\"text\":\"By host\"},\"marker\":{\"color\":\"#6283ca\",\"line\":{\"color\":\"black\",\"width\":1},\"showscale\":false,\"size\":[7,7,6,4,4,6]},\"mode\":\"markers\",\"name\":\"The Wikibase Consultancy (6)\",\"showlegend\":true,\"x\":[-0.6243906617164612,-0.21798404008150102,-0.8701711893081665,1.0767753958702089,-0.5776855230331421,0.8137799739837647],\"y\":[0.8507863283157349,-1.0502126753330232,-0.43205949664115906,0.20004198402166368,0.9053556144237519,-0.8126643180847168],\"type\":\"scatter\"},{\"hoverinfo\":\"text\",\"hovertext\":[\"Gratisdata\\u003cbr\\u003eURL: https:\\u002f\\u002fgratisdata.miraheze.org\\u003cbr\\u003eHost: Miraheze\\u003cbr\\u003eVersion: 1.43.0\\u003cbr\\u003eStart Date: 2021-11-12 00:00:00+00:00\\u003cbr\\u003eActive Users: 2\\u003cbr\\u003eUsers: 259\\u003cbr\\u003eProperties: 824\\u003cbr\\u003eEdits: 40370\\u003cbr\\u003ePages: 9121\"],\"legendgrouptitle\":{\"text\":\"By host\"},\"marker\":{\"color\":\"#5cd45b\",\"line\":{\"color\":\"black\",\"width\":1},\"showscale\":false,\"size\":[7]},\"mode\":\"markers\",\"name\":\"Miraheze (1)\",\"showlegend\":true,\"x\":[-0.678124189376831],\"y\":[0.4367690980434418],\"type\":\"scatter\"},{\"hoverinfo\":\"text\",\"hovertext\":[\"Wikidocumentaries\\u003cbr\\u003eURL: https:\\u002f\\u002fwikidocumentaries.wmflabs.org\\u002f\\u003cbr\\u003eHost: Wikimedia Cloud Services\\u003cbr\\u003eVersion: 1.32.5\\u003cbr\\u003eStart Date: 2018-04-23 00:00:00+00:00\\u003cbr\\u003eActive Users: 0\\u003cbr\\u003eUsers: 3729\\u003cbr\\u003eProperties: 5126\\u003cbr\\u003eEdits: 29206\\u003cbr\\u003ePages: 5528\"],\"legendgrouptitle\":{\"text\":\"By host\"},\"marker\":{\"color\":\"#f11fbe\",\"line\":{\"color\":\"black\",\"width\":1},\"showscale\":false,\"size\":[4]},\"mode\":\"markers\",\"name\":\"Wikimedia Cloud Services (1)\",\"showlegend\":true,\"x\":[-1.0911639869213106],\"y\":[-0.029852251149713994],\"type\":\"scatter\"}],                        {\"annotations\":[{\"showarrow\":false,\"text\":\"\",\"xref\":\"paper\",\"yref\":\"paper\"}],\"height\":800,\"hovermode\":\"closest\",\"margin\":{\"b\":20,\"l\":5,\"r\":5,\"t\":40},\"showlegend\":true,\"title\":{\"font\":{\"size\":16},\"text\":\"Wikibases, and links, sized by # of active users\"},\"xaxis\":{\"showgrid\":false,\"zeroline\":false},\"yaxis\":{\"showgrid\":false,\"zeroline\":false},\"template\":{\"data\":{\"histogram2dcontour\":[{\"type\":\"histogram2dcontour\",\"colorbar\":{\"outlinewidth\":0,\"ticks\":\"\"},\"colorscale\":[[0.0,\"#0d0887\"],[0.1111111111111111,\"#46039f\"],[0.2222222222222222,\"#7201a8\"],[0.3333333333333333,\"#9c179e\"],[0.4444444444444444,\"#bd3786\"],[0.5555555555555556,\"#d8576b\"],[0.6666666666666666,\"#ed7953\"],[0.7777777777777778,\"#fb9f3a\"],[0.8888888888888888,\"#fdca26\"],[1.0,\"#f0f921\"]]}],\"choropleth\":[{\"type\":\"choropleth\",\"colorbar\":{\"outlinewidth\":0,\"ticks\":\"\"}}],\"histogram2d\":[{\"type\":\"histogram2d\",\"colorbar\":{\"outlinewidth\":0,\"ticks\":\"\"},\"colorscale\":[[0.0,\"#0d0887\"],[0.1111111111111111,\"#46039f\"],[0.2222222222222222,\"#7201a8\"],[0.3333333333333333,\"#9c179e\"],[0.4444444444444444,\"#bd3786\"],[0.5555555555555556,\"#d8576b\"],[0.6666666666666666,\"#ed7953\"],[0.7777777777777778,\"#fb9f3a\"],[0.8888888888888888,\"#fdca26\"],[1.0,\"#f0f921\"]]}],\"heatmap\":[{\"type\":\"heatmap\",\"colorbar\":{\"outlinewidth\":0,\"ticks\":\"\"},\"colorscale\":[[0.0,\"#0d0887\"],[0.1111111111111111,\"#46039f\"],[0.2222222222222222,\"#7201a8\"],[0.3333333333333333,\"#9c179e\"],[0.4444444444444444,\"#bd3786\"],[0.5555555555555556,\"#d8576b\"],[0.6666666666666666,\"#ed7953\"],[0.7777777777777778,\"#fb9f3a\"],[0.8888888888888888,\"#fdca26\"],[1.0,\"#f0f921\"]]}],\"heatmapgl\":[{\"type\":\"heatmapgl\",\"colorbar\":{\"outlinewidth\":0,\"ticks\":\"\"},\"colorscale\":[[0.0,\"#0d0887\"],[0.1111111111111111,\"#46039f\"],[0.2222222222222222,\"#7201a8\"],[0.3333333333333333,\"#9c179e\"],[0.4444444444444444,\"#bd3786\"],[0.5555555555555556,\"#d8576b\"],[0.6666666666666666,\"#ed7953\"],[0.7777777777777778,\"#fb9f3a\"],[0.8888888888888888,\"#fdca26\"],[1.0,\"#f0f921\"]]}],\"contourcarpet\":[{\"type\":\"contourcarpet\",\"colorbar\":{\"outlinewidth\":0,\"ticks\":\"\"}}],\"contour\":[{\"type\":\"contour\",\"colorbar\":{\"outlinewidth\":0,\"ticks\":\"\"},\"colorscale\":[[0.0,\"#0d0887\"],[0.1111111111111111,\"#46039f\"],[0.2222222222222222,\"#7201a8\"],[0.3333333333333333,\"#9c179e\"],[0.4444444444444444,\"#bd3786\"],[0.5555555555555556,\"#d8576b\"],[0.6666666666666666,\"#ed7953\"],[0.7777777777777778,\"#fb9f3a\"],[0.8888888888888888,\"#fdca26\"],[1.0,\"#f0f921\"]]}],\"surface\":[{\"type\":\"surface\",\"colorbar\":{\"outlinewidth\":0,\"ticks\":\"\"},\"colorscale\":[[0.0,\"#0d0887\"],[0.1111111111111111,\"#46039f\"],[0.2222222222222222,\"#7201a8\"],[0.3333333333333333,\"#9c179e\"],[0.4444444444444444,\"#bd3786\"],[0.5555555555555556,\"#d8576b\"],[0.6666666666666666,\"#ed7953\"],[0.7777777777777778,\"#fb9f3a\"],[0.8888888888888888,\"#fdca26\"],[1.0,\"#f0f921\"]]}],\"mesh3d\":[{\"type\":\"mesh3d\",\"colorbar\":{\"outlinewidth\":0,\"ticks\":\"\"}}],\"scatter\":[{\"fillpattern\":{\"fillmode\":\"overlay\",\"size\":10,\"solidity\":0.2},\"type\":\"scatter\"}],\"parcoords\":[{\"type\":\"parcoords\",\"line\":{\"colorbar\":{\"outlinewidth\":0,\"ticks\":\"\"}}}],\"scatterpolargl\":[{\"type\":\"scatterpolargl\",\"marker\":{\"colorbar\":{\"outlinewidth\":0,\"ticks\":\"\"}}}],\"bar\":[{\"error_x\":{\"color\":\"#2a3f5f\"},\"error_y\":{\"color\":\"#2a3f5f\"},\"marker\":{\"line\":{\"color\":\"#E5ECF6\",\"width\":0.5},\"pattern\":{\"fillmode\":\"overlay\",\"size\":10,\"solidity\":0.2}},\"type\":\"bar\"}],\"scattergeo\":[{\"type\":\"scattergeo\",\"marker\":{\"colorbar\":{\"outlinewidth\":0,\"ticks\":\"\"}}}],\"scatterpolar\":[{\"type\":\"scatterpolar\",\"marker\":{\"colorbar\":{\"outlinewidth\":0,\"ticks\":\"\"}}}],\"histogram\":[{\"marker\":{\"pattern\":{\"fillmode\":\"overlay\",\"size\":10,\"solidity\":0.2}},\"type\":\"histogram\"}],\"scattergl\":[{\"type\":\"scattergl\",\"marker\":{\"colorbar\":{\"outlinewidth\":0,\"ticks\":\"\"}}}],\"scatter3d\":[{\"type\":\"scatter3d\",\"line\":{\"colorbar\":{\"outlinewidth\":0,\"ticks\":\"\"}},\"marker\":{\"colorbar\":{\"outlinewidth\":0,\"ticks\":\"\"}}}],\"scattermapbox\":[{\"type\":\"scattermapbox\",\"marker\":{\"colorbar\":{\"outlinewidth\":0,\"ticks\":\"\"}}}],\"scatterternary\":[{\"type\":\"scatterternary\",\"marker\":{\"colorbar\":{\"outlinewidth\":0,\"ticks\":\"\"}}}],\"scattercarpet\":[{\"type\":\"scattercarpet\",\"marker\":{\"colorbar\":{\"outlinewidth\":0,\"ticks\":\"\"}}}],\"carpet\":[{\"aaxis\":{\"endlinecolor\":\"#2a3f5f\",\"gridcolor\":\"white\",\"linecolor\":\"white\",\"minorgridcolor\":\"white\",\"startlinecolor\":\"#2a3f5f\"},\"baxis\":{\"endlinecolor\":\"#2a3f5f\",\"gridcolor\":\"white\",\"linecolor\":\"white\",\"minorgridcolor\":\"white\",\"startlinecolor\":\"#2a3f5f\"},\"type\":\"carpet\"}],\"table\":[{\"cells\":{\"fill\":{\"color\":\"#EBF0F8\"},\"line\":{\"color\":\"white\"}},\"header\":{\"fill\":{\"color\":\"#C8D4E3\"},\"line\":{\"color\":\"white\"}},\"type\":\"table\"}],\"barpolar\":[{\"marker\":{\"line\":{\"color\":\"#E5ECF6\",\"width\":0.5},\"pattern\":{\"fillmode\":\"overlay\",\"size\":10,\"solidity\":0.2}},\"type\":\"barpolar\"}],\"pie\":[{\"automargin\":true,\"type\":\"pie\"}]},\"layout\":{\"autotypenumbers\":\"strict\",\"colorway\":[\"#636efa\",\"#EF553B\",\"#00cc96\",\"#ab63fa\",\"#FFA15A\",\"#19d3f3\",\"#FF6692\",\"#B6E880\",\"#FF97FF\",\"#FECB52\"],\"font\":{\"color\":\"#2a3f5f\"},\"hovermode\":\"closest\",\"hoverlabel\":{\"align\":\"left\"},\"paper_bgcolor\":\"white\",\"plot_bgcolor\":\"#E5ECF6\",\"polar\":{\"bgcolor\":\"#E5ECF6\",\"angularaxis\":{\"gridcolor\":\"white\",\"linecolor\":\"white\",\"ticks\":\"\"},\"radialaxis\":{\"gridcolor\":\"white\",\"linecolor\":\"white\",\"ticks\":\"\"}},\"ternary\":{\"bgcolor\":\"#E5ECF6\",\"aaxis\":{\"gridcolor\":\"white\",\"linecolor\":\"white\",\"ticks\":\"\"},\"baxis\":{\"gridcolor\":\"white\",\"linecolor\":\"white\",\"ticks\":\"\"},\"caxis\":{\"gridcolor\":\"white\",\"linecolor\":\"white\",\"ticks\":\"\"}},\"coloraxis\":{\"colorbar\":{\"outlinewidth\":0,\"ticks\":\"\"}},\"colorscale\":{\"sequential\":[[0.0,\"#0d0887\"],[0.1111111111111111,\"#46039f\"],[0.2222222222222222,\"#7201a8\"],[0.3333333333333333,\"#9c179e\"],[0.4444444444444444,\"#bd3786\"],[0.5555555555555556,\"#d8576b\"],[0.6666666666666666,\"#ed7953\"],[0.7777777777777778,\"#fb9f3a\"],[0.8888888888888888,\"#fdca26\"],[1.0,\"#f0f921\"]],\"sequentialminus\":[[0.0,\"#0d0887\"],[0.1111111111111111,\"#46039f\"],[0.2222222222222222,\"#7201a8\"],[0.3333333333333333,\"#9c179e\"],[0.4444444444444444,\"#bd3786\"],[0.5555555555555556,\"#d8576b\"],[0.6666666666666666,\"#ed7953\"],[0.7777777777777778,\"#fb9f3a\"],[0.8888888888888888,\"#fdca26\"],[1.0,\"#f0f921\"]],\"diverging\":[[0,\"#8e0152\"],[0.1,\"#c51b7d\"],[0.2,\"#de77ae\"],[0.3,\"#f1b6da\"],[0.4,\"#fde0ef\"],[0.5,\"#f7f7f7\"],[0.6,\"#e6f5d0\"],[0.7,\"#b8e186\"],[0.8,\"#7fbc41\"],[0.9,\"#4d9221\"],[1,\"#276419\"]]},\"xaxis\":{\"gridcolor\":\"white\",\"linecolor\":\"white\",\"ticks\":\"\",\"title\":{\"standoff\":15},\"zerolinecolor\":\"white\",\"automargin\":true,\"zerolinewidth\":2},\"yaxis\":{\"gridcolor\":\"white\",\"linecolor\":\"white\",\"ticks\":\"\",\"title\":{\"standoff\":15},\"zerolinecolor\":\"white\",\"automargin\":true,\"zerolinewidth\":2},\"scene\":{\"xaxis\":{\"backgroundcolor\":\"#E5ECF6\",\"gridcolor\":\"white\",\"linecolor\":\"white\",\"showbackground\":true,\"ticks\":\"\",\"zerolinecolor\":\"white\",\"gridwidth\":2},\"yaxis\":{\"backgroundcolor\":\"#E5ECF6\",\"gridcolor\":\"white\",\"linecolor\":\"white\",\"showbackground\":true,\"ticks\":\"\",\"zerolinecolor\":\"white\",\"gridwidth\":2},\"zaxis\":{\"backgroundcolor\":\"#E5ECF6\",\"gridcolor\":\"white\",\"linecolor\":\"white\",\"showbackground\":true,\"ticks\":\"\",\"zerolinecolor\":\"white\",\"gridwidth\":2}},\"shapedefaults\":{\"line\":{\"color\":\"#2a3f5f\"}},\"annotationdefaults\":{\"arrowcolor\":\"#2a3f5f\",\"arrowhead\":0,\"arrowwidth\":1},\"geo\":{\"bgcolor\":\"white\",\"landcolor\":\"#E5ECF6\",\"subunitcolor\":\"white\",\"showland\":true,\"showlakes\":true,\"lakecolor\":\"white\"},\"title\":{\"x\":0.05},\"mapbox\":{\"style\":\"light\"}}}},                        {\"responsive\": true}                    ).then(function(){\n",
       "                            \n",
       "var gd = document.getElementById('b0254655-8bd4-4129-af3a-3783faca8d03');\n",
       "var x = new MutationObserver(function (mutations, observer) {{\n",
       "        var display = window.getComputedStyle(gd).display;\n",
       "        if (!display || display === 'none') {{\n",
       "            console.log([gd, 'removed!']);\n",
       "            Plotly.purge(gd);\n",
       "            observer.disconnect();\n",
       "        }}\n",
       "}});\n",
       "\n",
       "// Listen for the removal of the full notebook cells\n",
       "var notebookContainer = gd.closest('#notebook-container');\n",
       "if (notebookContainer) {{\n",
       "    x.observe(notebookContainer, {childList: true});\n",
       "}}\n",
       "\n",
       "// Listen for the clearing of the current output cell\n",
       "var outputEl = gd.closest('.output');\n",
       "if (outputEl) {{\n",
       "    x.observe(outputEl, {childList: true});\n",
       "}}\n",
       "\n",
       "                        })                };                });            </script>        </div>"
      ]
     },
     "metadata": {},
     "output_type": "display_data"
    }
   ],
   "source": [
    "# Add directed edges to the graph\n",
    "for key in item_map:\n",
    "    # Add it as a node\n",
    "    G.add_node(key)\n",
    "    # Add the edges\n",
    "    if 'links_to' in item_map[key]:\n",
    "        for link in item_map[key]['links_to']:\n",
    "            G.add_edge(key, link, direction='to')\n",
    "    if 'links_from' in item_map[key]:\n",
    "        for link in item_map[key]['links_from']:\n",
    "            G.add_edge(link, key, direction='from')\n",
    "\n",
    "# Calculate the positions of the nodes\n",
    "pos = nx.spring_layout(G, k=0.5)  # Increase the value of k to spread out the nodes more\n",
    "\n",
    "# Push nodes with no edges outward slightly\n",
    "for node in G.nodes():\n",
    "    if G.degree(node) == 0:\n",
    "        pos[node] *= 1.1  # Push the node outward by 10%\n",
    "\n",
    "# Create the edge trace\n",
    "x_edges = []\n",
    "y_edges = []\n",
    "for edge in G.edges():\n",
    "    x_edges.extend([pos[edge[0]][0], pos[edge[1]][0], None])\n",
    "    y_edges.extend([pos[edge[0]][1], pos[edge[1]][1], None])\n",
    "\n",
    "edge_trace = go.Scatter(\n",
    "    x=x_edges, y=y_edges,\n",
    "    line=dict(width=0.3, color='#888'),\n",
    "    hoverinfo='none',\n",
    "    mode='lines',\n",
    "    showlegend=False)\n",
    "\n",
    "# Create a trace for each group\n",
    "group_traces = {}\n",
    "group_counts = {}\n",
    "for node in G.nodes():\n",
    "    # Some things have been filtered out (like having no properties listed..)\n",
    "    if node not in item_map:\n",
    "        continue\n",
    "    group = item_map[node]['graph_group']\n",
    "    if group not in group_traces:\n",
    "        group_traces[group] = {\n",
    "            'x': [],\n",
    "            'y': [],\n",
    "            'hovertext': [],\n",
    "            'color': item_map[node]['graph_color'],\n",
    "            'size': []\n",
    "        }\n",
    "        group_counts[group] = 0\n",
    "    group_traces[group]['x'].append(pos[node][0])\n",
    "    group_traces[group]['y'].append(pos[node][1])\n",
    "    active_users = item_map[node].get('users_active', [0])[0] if item_map[node].get('users_active') else 0\n",
    "    properties = item_map[node].get('properties', [0])[0] if item_map[node].get('properties') else 0\n",
    "    hover_text = (\n",
    "        f\"{item_map[node]['label']}<br>\"\n",
    "        f\"URL: {item_map[node].get('url', [''])[0] if item_map[node].get('url') else ''}<br>\"\n",
    "        f\"Host: {item_map[node].get('host_label', ['']) if item_map[node].get('host_label') else ''}<br>\"\n",
    "        f\"Version: {item_map[node].get('version', [''])[0] if item_map[node].get('version') else ''}<br>\"\n",
    "        f\"Start Date: {item_map[node].get('start_date', [''])[0] if item_map[node].get('start_date') else ''}<br>\"\n",
    "        f\"Active Users: {active_users}<br>\"\n",
    "        f\"Users: {item_map[node].get('users', [''])[0] if item_map[node].get('users') else ''}<br>\"\n",
    "        f\"Properties: {properties}<br>\"\n",
    "        f\"Edits: {item_map[node].get('edits', [''])[0] if item_map[node].get('edits') else ''}<br>\"\n",
    "        f\"Pages: {item_map[node].get('pages', [''])[0] if item_map[node].get('pages') else ''}\"\n",
    "    )\n",
    "    group_traces[group]['hovertext'].append(hover_text)\n",
    "\n",
    "    size_active_users = 4\n",
    "    if active_users:\n",
    "        if active_users > 0 and active_users < 10:\n",
    "            size_active_users = active_users + 5\n",
    "        elif active_users >= 10 and active_users < 100:\n",
    "            size_active_users = 20\n",
    "        elif active_users >= 100 and active_users < 1000:\n",
    "            size_active_users = 30\n",
    "        elif active_users >= 1000:\n",
    "            size_active_users = 40\n",
    "\n",
    "    size_properties = 4\n",
    "    if properties:\n",
    "        if properties > 0 and properties < 10:\n",
    "            size_properties = properties + 5\n",
    "        elif properties >= 10 and properties < 100:\n",
    "            size_properties = 20\n",
    "        elif properties >= 100 and properties < 1000:\n",
    "            size_properties = 30\n",
    "        elif properties >= 1000:\n",
    "            size_properties = 40\n",
    "\n",
    "    group_traces[group]['size'].append(size_active_users)\n",
    "    # group_traces[group]['size'].append(size_properties)\n",
    "    group_counts[group] += 1\n",
    "\n",
    "# Create the node traces\n",
    "node_traces = []\n",
    "for group, data in group_traces.items():\n",
    "    group_name_with_count = f\"{group} ({group_counts[group]})\"\n",
    "    node_trace = go.Scatter(\n",
    "        x=data['x'], y=data['y'],\n",
    "        mode='markers',\n",
    "        hovertext=data['hovertext'],\n",
    "        hoverinfo='text',\n",
    "        showlegend=True,\n",
    "        legendgrouptitle=dict(text=\"By host\"),\n",
    "        name=group_name_with_count,  # Use the graph_group string with count as the legend label\n",
    "        marker=dict(\n",
    "            showscale=False,\n",
    "            size=data['size'],\n",
    "            color=data['color'],\n",
    "            line_width=1,\n",
    "            line_color='black'\n",
    "            ))\n",
    "    node_traces.append(node_trace)\n",
    "\n",
    "fig = go.Figure(data=[edge_trace] + node_traces,\n",
    "                layout=go.Layout(\n",
    "                    title='Wikibases, and links, sized by # of active users',\n",
    "                    titlefont_size=16,\n",
    "                    showlegend=True,\n",
    "                    hovermode='closest',\n",
    "                    margin=dict(b=20, l=5, r=5, t=40),\n",
    "                    annotations=[dict(\n",
    "                        text=\"\",\n",
    "                        showarrow=False,\n",
    "                        xref=\"paper\", yref=\"paper\")],\n",
    "                    xaxis=dict(showgrid=False, zeroline=False),\n",
    "                    yaxis=dict(showgrid=False, zeroline=False),\n",
    "                    height=800  # Set the height to twice the default (400)\n",
    "                    ))\n",
    "\n",
    "# Show the plot\n",
    "fig.show()\n",
    "\n",
    "# save the figure as html\n",
    "fig.write_html(\"wikibase_graph.html\", include_plotlyjs='cdn')"
   ]
  },
  {
   "cell_type": "code",
   "execution_count": 72,
   "metadata": {},
   "outputs": [
    {
     "data": {
      "application/vnd.plotly.v1+json": {
       "config": {
        "plotlyServerURL": "https://plot.ly"
       },
       "data": [
        {
         "domain": {
          "x": [
           0,
           0.45
          ],
          "y": [
           0,
           1
          ]
         },
         "labels": [
          "Wikimedia Foundation (2)",
          "Wikibase Cloud (711)",
          "independently hosted Wikibase (24)",
          "unknown (31)",
          "wikibase-docker (1)",
          "The Wikibase Consultancy (6)",
          "Miraheze (1)",
          "Wikimedia Cloud Services (1)"
         ],
         "name": "All Hosts",
         "type": "pie",
         "values": [
          2,
          711,
          24,
          31,
          1,
          6,
          1,
          1
         ]
        },
        {
         "domain": {
          "x": [
           0.55,
           1
          ],
          "y": [
           0,
           1
          ]
         },
         "labels": [
          "Wikimedia Foundation (2)",
          "independently hosted Wikibase (24)",
          "unknown (31)",
          "wikibase-docker (1)",
          "The Wikibase Consultancy (6)",
          "Miraheze (1)",
          "Wikimedia Cloud Services (1)"
         ],
         "name": "Excluding Wikibase Cloud",
         "type": "pie",
         "values": [
          2,
          24,
          31,
          1,
          6,
          1,
          1
         ]
        }
       ],
       "layout": {
        "annotations": [
         {
          "font": {
           "size": 12
          },
          "showarrow": false,
          "text": "All Hosts",
          "x": 0.18,
          "y": 1
         },
         {
          "font": {
           "size": 12
          },
          "showarrow": false,
          "text": "Excluding Wikibase Cloud",
          "x": 0.9,
          "y": 1
         }
        ],
        "height": 500,
        "template": {
         "data": {
          "bar": [
           {
            "error_x": {
             "color": "#2a3f5f"
            },
            "error_y": {
             "color": "#2a3f5f"
            },
            "marker": {
             "line": {
              "color": "#E5ECF6",
              "width": 0.5
             },
             "pattern": {
              "fillmode": "overlay",
              "size": 10,
              "solidity": 0.2
             }
            },
            "type": "bar"
           }
          ],
          "barpolar": [
           {
            "marker": {
             "line": {
              "color": "#E5ECF6",
              "width": 0.5
             },
             "pattern": {
              "fillmode": "overlay",
              "size": 10,
              "solidity": 0.2
             }
            },
            "type": "barpolar"
           }
          ],
          "carpet": [
           {
            "aaxis": {
             "endlinecolor": "#2a3f5f",
             "gridcolor": "white",
             "linecolor": "white",
             "minorgridcolor": "white",
             "startlinecolor": "#2a3f5f"
            },
            "baxis": {
             "endlinecolor": "#2a3f5f",
             "gridcolor": "white",
             "linecolor": "white",
             "minorgridcolor": "white",
             "startlinecolor": "#2a3f5f"
            },
            "type": "carpet"
           }
          ],
          "choropleth": [
           {
            "colorbar": {
             "outlinewidth": 0,
             "ticks": ""
            },
            "type": "choropleth"
           }
          ],
          "contour": [
           {
            "colorbar": {
             "outlinewidth": 0,
             "ticks": ""
            },
            "colorscale": [
             [
              0,
              "#0d0887"
             ],
             [
              0.1111111111111111,
              "#46039f"
             ],
             [
              0.2222222222222222,
              "#7201a8"
             ],
             [
              0.3333333333333333,
              "#9c179e"
             ],
             [
              0.4444444444444444,
              "#bd3786"
             ],
             [
              0.5555555555555556,
              "#d8576b"
             ],
             [
              0.6666666666666666,
              "#ed7953"
             ],
             [
              0.7777777777777778,
              "#fb9f3a"
             ],
             [
              0.8888888888888888,
              "#fdca26"
             ],
             [
              1,
              "#f0f921"
             ]
            ],
            "type": "contour"
           }
          ],
          "contourcarpet": [
           {
            "colorbar": {
             "outlinewidth": 0,
             "ticks": ""
            },
            "type": "contourcarpet"
           }
          ],
          "heatmap": [
           {
            "colorbar": {
             "outlinewidth": 0,
             "ticks": ""
            },
            "colorscale": [
             [
              0,
              "#0d0887"
             ],
             [
              0.1111111111111111,
              "#46039f"
             ],
             [
              0.2222222222222222,
              "#7201a8"
             ],
             [
              0.3333333333333333,
              "#9c179e"
             ],
             [
              0.4444444444444444,
              "#bd3786"
             ],
             [
              0.5555555555555556,
              "#d8576b"
             ],
             [
              0.6666666666666666,
              "#ed7953"
             ],
             [
              0.7777777777777778,
              "#fb9f3a"
             ],
             [
              0.8888888888888888,
              "#fdca26"
             ],
             [
              1,
              "#f0f921"
             ]
            ],
            "type": "heatmap"
           }
          ],
          "heatmapgl": [
           {
            "colorbar": {
             "outlinewidth": 0,
             "ticks": ""
            },
            "colorscale": [
             [
              0,
              "#0d0887"
             ],
             [
              0.1111111111111111,
              "#46039f"
             ],
             [
              0.2222222222222222,
              "#7201a8"
             ],
             [
              0.3333333333333333,
              "#9c179e"
             ],
             [
              0.4444444444444444,
              "#bd3786"
             ],
             [
              0.5555555555555556,
              "#d8576b"
             ],
             [
              0.6666666666666666,
              "#ed7953"
             ],
             [
              0.7777777777777778,
              "#fb9f3a"
             ],
             [
              0.8888888888888888,
              "#fdca26"
             ],
             [
              1,
              "#f0f921"
             ]
            ],
            "type": "heatmapgl"
           }
          ],
          "histogram": [
           {
            "marker": {
             "pattern": {
              "fillmode": "overlay",
              "size": 10,
              "solidity": 0.2
             }
            },
            "type": "histogram"
           }
          ],
          "histogram2d": [
           {
            "colorbar": {
             "outlinewidth": 0,
             "ticks": ""
            },
            "colorscale": [
             [
              0,
              "#0d0887"
             ],
             [
              0.1111111111111111,
              "#46039f"
             ],
             [
              0.2222222222222222,
              "#7201a8"
             ],
             [
              0.3333333333333333,
              "#9c179e"
             ],
             [
              0.4444444444444444,
              "#bd3786"
             ],
             [
              0.5555555555555556,
              "#d8576b"
             ],
             [
              0.6666666666666666,
              "#ed7953"
             ],
             [
              0.7777777777777778,
              "#fb9f3a"
             ],
             [
              0.8888888888888888,
              "#fdca26"
             ],
             [
              1,
              "#f0f921"
             ]
            ],
            "type": "histogram2d"
           }
          ],
          "histogram2dcontour": [
           {
            "colorbar": {
             "outlinewidth": 0,
             "ticks": ""
            },
            "colorscale": [
             [
              0,
              "#0d0887"
             ],
             [
              0.1111111111111111,
              "#46039f"
             ],
             [
              0.2222222222222222,
              "#7201a8"
             ],
             [
              0.3333333333333333,
              "#9c179e"
             ],
             [
              0.4444444444444444,
              "#bd3786"
             ],
             [
              0.5555555555555556,
              "#d8576b"
             ],
             [
              0.6666666666666666,
              "#ed7953"
             ],
             [
              0.7777777777777778,
              "#fb9f3a"
             ],
             [
              0.8888888888888888,
              "#fdca26"
             ],
             [
              1,
              "#f0f921"
             ]
            ],
            "type": "histogram2dcontour"
           }
          ],
          "mesh3d": [
           {
            "colorbar": {
             "outlinewidth": 0,
             "ticks": ""
            },
            "type": "mesh3d"
           }
          ],
          "parcoords": [
           {
            "line": {
             "colorbar": {
              "outlinewidth": 0,
              "ticks": ""
             }
            },
            "type": "parcoords"
           }
          ],
          "pie": [
           {
            "automargin": true,
            "type": "pie"
           }
          ],
          "scatter": [
           {
            "fillpattern": {
             "fillmode": "overlay",
             "size": 10,
             "solidity": 0.2
            },
            "type": "scatter"
           }
          ],
          "scatter3d": [
           {
            "line": {
             "colorbar": {
              "outlinewidth": 0,
              "ticks": ""
             }
            },
            "marker": {
             "colorbar": {
              "outlinewidth": 0,
              "ticks": ""
             }
            },
            "type": "scatter3d"
           }
          ],
          "scattercarpet": [
           {
            "marker": {
             "colorbar": {
              "outlinewidth": 0,
              "ticks": ""
             }
            },
            "type": "scattercarpet"
           }
          ],
          "scattergeo": [
           {
            "marker": {
             "colorbar": {
              "outlinewidth": 0,
              "ticks": ""
             }
            },
            "type": "scattergeo"
           }
          ],
          "scattergl": [
           {
            "marker": {
             "colorbar": {
              "outlinewidth": 0,
              "ticks": ""
             }
            },
            "type": "scattergl"
           }
          ],
          "scattermapbox": [
           {
            "marker": {
             "colorbar": {
              "outlinewidth": 0,
              "ticks": ""
             }
            },
            "type": "scattermapbox"
           }
          ],
          "scatterpolar": [
           {
            "marker": {
             "colorbar": {
              "outlinewidth": 0,
              "ticks": ""
             }
            },
            "type": "scatterpolar"
           }
          ],
          "scatterpolargl": [
           {
            "marker": {
             "colorbar": {
              "outlinewidth": 0,
              "ticks": ""
             }
            },
            "type": "scatterpolargl"
           }
          ],
          "scatterternary": [
           {
            "marker": {
             "colorbar": {
              "outlinewidth": 0,
              "ticks": ""
             }
            },
            "type": "scatterternary"
           }
          ],
          "surface": [
           {
            "colorbar": {
             "outlinewidth": 0,
             "ticks": ""
            },
            "colorscale": [
             [
              0,
              "#0d0887"
             ],
             [
              0.1111111111111111,
              "#46039f"
             ],
             [
              0.2222222222222222,
              "#7201a8"
             ],
             [
              0.3333333333333333,
              "#9c179e"
             ],
             [
              0.4444444444444444,
              "#bd3786"
             ],
             [
              0.5555555555555556,
              "#d8576b"
             ],
             [
              0.6666666666666666,
              "#ed7953"
             ],
             [
              0.7777777777777778,
              "#fb9f3a"
             ],
             [
              0.8888888888888888,
              "#fdca26"
             ],
             [
              1,
              "#f0f921"
             ]
            ],
            "type": "surface"
           }
          ],
          "table": [
           {
            "cells": {
             "fill": {
              "color": "#EBF0F8"
             },
             "line": {
              "color": "white"
             }
            },
            "header": {
             "fill": {
              "color": "#C8D4E3"
             },
             "line": {
              "color": "white"
             }
            },
            "type": "table"
           }
          ]
         },
         "layout": {
          "annotationdefaults": {
           "arrowcolor": "#2a3f5f",
           "arrowhead": 0,
           "arrowwidth": 1
          },
          "autotypenumbers": "strict",
          "coloraxis": {
           "colorbar": {
            "outlinewidth": 0,
            "ticks": ""
           }
          },
          "colorscale": {
           "diverging": [
            [
             0,
             "#8e0152"
            ],
            [
             0.1,
             "#c51b7d"
            ],
            [
             0.2,
             "#de77ae"
            ],
            [
             0.3,
             "#f1b6da"
            ],
            [
             0.4,
             "#fde0ef"
            ],
            [
             0.5,
             "#f7f7f7"
            ],
            [
             0.6,
             "#e6f5d0"
            ],
            [
             0.7,
             "#b8e186"
            ],
            [
             0.8,
             "#7fbc41"
            ],
            [
             0.9,
             "#4d9221"
            ],
            [
             1,
             "#276419"
            ]
           ],
           "sequential": [
            [
             0,
             "#0d0887"
            ],
            [
             0.1111111111111111,
             "#46039f"
            ],
            [
             0.2222222222222222,
             "#7201a8"
            ],
            [
             0.3333333333333333,
             "#9c179e"
            ],
            [
             0.4444444444444444,
             "#bd3786"
            ],
            [
             0.5555555555555556,
             "#d8576b"
            ],
            [
             0.6666666666666666,
             "#ed7953"
            ],
            [
             0.7777777777777778,
             "#fb9f3a"
            ],
            [
             0.8888888888888888,
             "#fdca26"
            ],
            [
             1,
             "#f0f921"
            ]
           ],
           "sequentialminus": [
            [
             0,
             "#0d0887"
            ],
            [
             0.1111111111111111,
             "#46039f"
            ],
            [
             0.2222222222222222,
             "#7201a8"
            ],
            [
             0.3333333333333333,
             "#9c179e"
            ],
            [
             0.4444444444444444,
             "#bd3786"
            ],
            [
             0.5555555555555556,
             "#d8576b"
            ],
            [
             0.6666666666666666,
             "#ed7953"
            ],
            [
             0.7777777777777778,
             "#fb9f3a"
            ],
            [
             0.8888888888888888,
             "#fdca26"
            ],
            [
             1,
             "#f0f921"
            ]
           ]
          },
          "colorway": [
           "#636efa",
           "#EF553B",
           "#00cc96",
           "#ab63fa",
           "#FFA15A",
           "#19d3f3",
           "#FF6692",
           "#B6E880",
           "#FF97FF",
           "#FECB52"
          ],
          "font": {
           "color": "#2a3f5f"
          },
          "geo": {
           "bgcolor": "white",
           "lakecolor": "white",
           "landcolor": "#E5ECF6",
           "showlakes": true,
           "showland": true,
           "subunitcolor": "white"
          },
          "hoverlabel": {
           "align": "left"
          },
          "hovermode": "closest",
          "mapbox": {
           "style": "light"
          },
          "paper_bgcolor": "white",
          "plot_bgcolor": "#E5ECF6",
          "polar": {
           "angularaxis": {
            "gridcolor": "white",
            "linecolor": "white",
            "ticks": ""
           },
           "bgcolor": "#E5ECF6",
           "radialaxis": {
            "gridcolor": "white",
            "linecolor": "white",
            "ticks": ""
           }
          },
          "scene": {
           "xaxis": {
            "backgroundcolor": "#E5ECF6",
            "gridcolor": "white",
            "gridwidth": 2,
            "linecolor": "white",
            "showbackground": true,
            "ticks": "",
            "zerolinecolor": "white"
           },
           "yaxis": {
            "backgroundcolor": "#E5ECF6",
            "gridcolor": "white",
            "gridwidth": 2,
            "linecolor": "white",
            "showbackground": true,
            "ticks": "",
            "zerolinecolor": "white"
           },
           "zaxis": {
            "backgroundcolor": "#E5ECF6",
            "gridcolor": "white",
            "gridwidth": 2,
            "linecolor": "white",
            "showbackground": true,
            "ticks": "",
            "zerolinecolor": "white"
           }
          },
          "shapedefaults": {
           "line": {
            "color": "#2a3f5f"
           }
          },
          "ternary": {
           "aaxis": {
            "gridcolor": "white",
            "linecolor": "white",
            "ticks": ""
           },
           "baxis": {
            "gridcolor": "white",
            "linecolor": "white",
            "ticks": ""
           },
           "bgcolor": "#E5ECF6",
           "caxis": {
            "gridcolor": "white",
            "linecolor": "white",
            "ticks": ""
           }
          },
          "title": {
           "x": 0.05
          },
          "xaxis": {
           "automargin": true,
           "gridcolor": "white",
           "linecolor": "white",
           "ticks": "",
           "title": {
            "standoff": 15
           },
           "zerolinecolor": "white",
           "zerolinewidth": 2
          },
          "yaxis": {
           "automargin": true,
           "gridcolor": "white",
           "linecolor": "white",
           "ticks": "",
           "title": {
            "standoff": 15
           },
           "zerolinecolor": "white",
           "zerolinewidth": 2
          }
         }
        },
        "title": {
         "text": "Number of wikibases by host"
        },
        "width": 800
       }
      },
      "text/html": [
       "<div>                            <div id=\"8faf8cd9-b22a-4518-b432-8f2d2e2a2b75\" class=\"plotly-graph-div\" style=\"height:500px; width:800px;\"></div>            <script type=\"text/javascript\">                require([\"plotly\"], function(Plotly) {                    window.PLOTLYENV=window.PLOTLYENV || {};                                    if (document.getElementById(\"8faf8cd9-b22a-4518-b432-8f2d2e2a2b75\")) {                    Plotly.newPlot(                        \"8faf8cd9-b22a-4518-b432-8f2d2e2a2b75\",                        [{\"labels\":[\"Wikimedia Foundation (2)\",\"Wikibase Cloud (711)\",\"independently hosted Wikibase (24)\",\"unknown (31)\",\"wikibase-docker (1)\",\"The Wikibase Consultancy (6)\",\"Miraheze (1)\",\"Wikimedia Cloud Services (1)\"],\"name\":\"All Hosts\",\"values\":[2,711,24,31,1,6,1,1],\"type\":\"pie\",\"domain\":{\"x\":[0.0,0.45],\"y\":[0.0,1.0]}},{\"labels\":[\"Wikimedia Foundation (2)\",\"independently hosted Wikibase (24)\",\"unknown (31)\",\"wikibase-docker (1)\",\"The Wikibase Consultancy (6)\",\"Miraheze (1)\",\"Wikimedia Cloud Services (1)\"],\"name\":\"Excluding Wikibase Cloud\",\"values\":[2,24,31,1,6,1,1],\"type\":\"pie\",\"domain\":{\"x\":[0.55,1.0],\"y\":[0.0,1.0]}}],                        {\"template\":{\"data\":{\"histogram2dcontour\":[{\"type\":\"histogram2dcontour\",\"colorbar\":{\"outlinewidth\":0,\"ticks\":\"\"},\"colorscale\":[[0.0,\"#0d0887\"],[0.1111111111111111,\"#46039f\"],[0.2222222222222222,\"#7201a8\"],[0.3333333333333333,\"#9c179e\"],[0.4444444444444444,\"#bd3786\"],[0.5555555555555556,\"#d8576b\"],[0.6666666666666666,\"#ed7953\"],[0.7777777777777778,\"#fb9f3a\"],[0.8888888888888888,\"#fdca26\"],[1.0,\"#f0f921\"]]}],\"choropleth\":[{\"type\":\"choropleth\",\"colorbar\":{\"outlinewidth\":0,\"ticks\":\"\"}}],\"histogram2d\":[{\"type\":\"histogram2d\",\"colorbar\":{\"outlinewidth\":0,\"ticks\":\"\"},\"colorscale\":[[0.0,\"#0d0887\"],[0.1111111111111111,\"#46039f\"],[0.2222222222222222,\"#7201a8\"],[0.3333333333333333,\"#9c179e\"],[0.4444444444444444,\"#bd3786\"],[0.5555555555555556,\"#d8576b\"],[0.6666666666666666,\"#ed7953\"],[0.7777777777777778,\"#fb9f3a\"],[0.8888888888888888,\"#fdca26\"],[1.0,\"#f0f921\"]]}],\"heatmap\":[{\"type\":\"heatmap\",\"colorbar\":{\"outlinewidth\":0,\"ticks\":\"\"},\"colorscale\":[[0.0,\"#0d0887\"],[0.1111111111111111,\"#46039f\"],[0.2222222222222222,\"#7201a8\"],[0.3333333333333333,\"#9c179e\"],[0.4444444444444444,\"#bd3786\"],[0.5555555555555556,\"#d8576b\"],[0.6666666666666666,\"#ed7953\"],[0.7777777777777778,\"#fb9f3a\"],[0.8888888888888888,\"#fdca26\"],[1.0,\"#f0f921\"]]}],\"heatmapgl\":[{\"type\":\"heatmapgl\",\"colorbar\":{\"outlinewidth\":0,\"ticks\":\"\"},\"colorscale\":[[0.0,\"#0d0887\"],[0.1111111111111111,\"#46039f\"],[0.2222222222222222,\"#7201a8\"],[0.3333333333333333,\"#9c179e\"],[0.4444444444444444,\"#bd3786\"],[0.5555555555555556,\"#d8576b\"],[0.6666666666666666,\"#ed7953\"],[0.7777777777777778,\"#fb9f3a\"],[0.8888888888888888,\"#fdca26\"],[1.0,\"#f0f921\"]]}],\"contourcarpet\":[{\"type\":\"contourcarpet\",\"colorbar\":{\"outlinewidth\":0,\"ticks\":\"\"}}],\"contour\":[{\"type\":\"contour\",\"colorbar\":{\"outlinewidth\":0,\"ticks\":\"\"},\"colorscale\":[[0.0,\"#0d0887\"],[0.1111111111111111,\"#46039f\"],[0.2222222222222222,\"#7201a8\"],[0.3333333333333333,\"#9c179e\"],[0.4444444444444444,\"#bd3786\"],[0.5555555555555556,\"#d8576b\"],[0.6666666666666666,\"#ed7953\"],[0.7777777777777778,\"#fb9f3a\"],[0.8888888888888888,\"#fdca26\"],[1.0,\"#f0f921\"]]}],\"surface\":[{\"type\":\"surface\",\"colorbar\":{\"outlinewidth\":0,\"ticks\":\"\"},\"colorscale\":[[0.0,\"#0d0887\"],[0.1111111111111111,\"#46039f\"],[0.2222222222222222,\"#7201a8\"],[0.3333333333333333,\"#9c179e\"],[0.4444444444444444,\"#bd3786\"],[0.5555555555555556,\"#d8576b\"],[0.6666666666666666,\"#ed7953\"],[0.7777777777777778,\"#fb9f3a\"],[0.8888888888888888,\"#fdca26\"],[1.0,\"#f0f921\"]]}],\"mesh3d\":[{\"type\":\"mesh3d\",\"colorbar\":{\"outlinewidth\":0,\"ticks\":\"\"}}],\"scatter\":[{\"fillpattern\":{\"fillmode\":\"overlay\",\"size\":10,\"solidity\":0.2},\"type\":\"scatter\"}],\"parcoords\":[{\"type\":\"parcoords\",\"line\":{\"colorbar\":{\"outlinewidth\":0,\"ticks\":\"\"}}}],\"scatterpolargl\":[{\"type\":\"scatterpolargl\",\"marker\":{\"colorbar\":{\"outlinewidth\":0,\"ticks\":\"\"}}}],\"bar\":[{\"error_x\":{\"color\":\"#2a3f5f\"},\"error_y\":{\"color\":\"#2a3f5f\"},\"marker\":{\"line\":{\"color\":\"#E5ECF6\",\"width\":0.5},\"pattern\":{\"fillmode\":\"overlay\",\"size\":10,\"solidity\":0.2}},\"type\":\"bar\"}],\"scattergeo\":[{\"type\":\"scattergeo\",\"marker\":{\"colorbar\":{\"outlinewidth\":0,\"ticks\":\"\"}}}],\"scatterpolar\":[{\"type\":\"scatterpolar\",\"marker\":{\"colorbar\":{\"outlinewidth\":0,\"ticks\":\"\"}}}],\"histogram\":[{\"marker\":{\"pattern\":{\"fillmode\":\"overlay\",\"size\":10,\"solidity\":0.2}},\"type\":\"histogram\"}],\"scattergl\":[{\"type\":\"scattergl\",\"marker\":{\"colorbar\":{\"outlinewidth\":0,\"ticks\":\"\"}}}],\"scatter3d\":[{\"type\":\"scatter3d\",\"line\":{\"colorbar\":{\"outlinewidth\":0,\"ticks\":\"\"}},\"marker\":{\"colorbar\":{\"outlinewidth\":0,\"ticks\":\"\"}}}],\"scattermapbox\":[{\"type\":\"scattermapbox\",\"marker\":{\"colorbar\":{\"outlinewidth\":0,\"ticks\":\"\"}}}],\"scatterternary\":[{\"type\":\"scatterternary\",\"marker\":{\"colorbar\":{\"outlinewidth\":0,\"ticks\":\"\"}}}],\"scattercarpet\":[{\"type\":\"scattercarpet\",\"marker\":{\"colorbar\":{\"outlinewidth\":0,\"ticks\":\"\"}}}],\"carpet\":[{\"aaxis\":{\"endlinecolor\":\"#2a3f5f\",\"gridcolor\":\"white\",\"linecolor\":\"white\",\"minorgridcolor\":\"white\",\"startlinecolor\":\"#2a3f5f\"},\"baxis\":{\"endlinecolor\":\"#2a3f5f\",\"gridcolor\":\"white\",\"linecolor\":\"white\",\"minorgridcolor\":\"white\",\"startlinecolor\":\"#2a3f5f\"},\"type\":\"carpet\"}],\"table\":[{\"cells\":{\"fill\":{\"color\":\"#EBF0F8\"},\"line\":{\"color\":\"white\"}},\"header\":{\"fill\":{\"color\":\"#C8D4E3\"},\"line\":{\"color\":\"white\"}},\"type\":\"table\"}],\"barpolar\":[{\"marker\":{\"line\":{\"color\":\"#E5ECF6\",\"width\":0.5},\"pattern\":{\"fillmode\":\"overlay\",\"size\":10,\"solidity\":0.2}},\"type\":\"barpolar\"}],\"pie\":[{\"automargin\":true,\"type\":\"pie\"}]},\"layout\":{\"autotypenumbers\":\"strict\",\"colorway\":[\"#636efa\",\"#EF553B\",\"#00cc96\",\"#ab63fa\",\"#FFA15A\",\"#19d3f3\",\"#FF6692\",\"#B6E880\",\"#FF97FF\",\"#FECB52\"],\"font\":{\"color\":\"#2a3f5f\"},\"hovermode\":\"closest\",\"hoverlabel\":{\"align\":\"left\"},\"paper_bgcolor\":\"white\",\"plot_bgcolor\":\"#E5ECF6\",\"polar\":{\"bgcolor\":\"#E5ECF6\",\"angularaxis\":{\"gridcolor\":\"white\",\"linecolor\":\"white\",\"ticks\":\"\"},\"radialaxis\":{\"gridcolor\":\"white\",\"linecolor\":\"white\",\"ticks\":\"\"}},\"ternary\":{\"bgcolor\":\"#E5ECF6\",\"aaxis\":{\"gridcolor\":\"white\",\"linecolor\":\"white\",\"ticks\":\"\"},\"baxis\":{\"gridcolor\":\"white\",\"linecolor\":\"white\",\"ticks\":\"\"},\"caxis\":{\"gridcolor\":\"white\",\"linecolor\":\"white\",\"ticks\":\"\"}},\"coloraxis\":{\"colorbar\":{\"outlinewidth\":0,\"ticks\":\"\"}},\"colorscale\":{\"sequential\":[[0.0,\"#0d0887\"],[0.1111111111111111,\"#46039f\"],[0.2222222222222222,\"#7201a8\"],[0.3333333333333333,\"#9c179e\"],[0.4444444444444444,\"#bd3786\"],[0.5555555555555556,\"#d8576b\"],[0.6666666666666666,\"#ed7953\"],[0.7777777777777778,\"#fb9f3a\"],[0.8888888888888888,\"#fdca26\"],[1.0,\"#f0f921\"]],\"sequentialminus\":[[0.0,\"#0d0887\"],[0.1111111111111111,\"#46039f\"],[0.2222222222222222,\"#7201a8\"],[0.3333333333333333,\"#9c179e\"],[0.4444444444444444,\"#bd3786\"],[0.5555555555555556,\"#d8576b\"],[0.6666666666666666,\"#ed7953\"],[0.7777777777777778,\"#fb9f3a\"],[0.8888888888888888,\"#fdca26\"],[1.0,\"#f0f921\"]],\"diverging\":[[0,\"#8e0152\"],[0.1,\"#c51b7d\"],[0.2,\"#de77ae\"],[0.3,\"#f1b6da\"],[0.4,\"#fde0ef\"],[0.5,\"#f7f7f7\"],[0.6,\"#e6f5d0\"],[0.7,\"#b8e186\"],[0.8,\"#7fbc41\"],[0.9,\"#4d9221\"],[1,\"#276419\"]]},\"xaxis\":{\"gridcolor\":\"white\",\"linecolor\":\"white\",\"ticks\":\"\",\"title\":{\"standoff\":15},\"zerolinecolor\":\"white\",\"automargin\":true,\"zerolinewidth\":2},\"yaxis\":{\"gridcolor\":\"white\",\"linecolor\":\"white\",\"ticks\":\"\",\"title\":{\"standoff\":15},\"zerolinecolor\":\"white\",\"automargin\":true,\"zerolinewidth\":2},\"scene\":{\"xaxis\":{\"backgroundcolor\":\"#E5ECF6\",\"gridcolor\":\"white\",\"linecolor\":\"white\",\"showbackground\":true,\"ticks\":\"\",\"zerolinecolor\":\"white\",\"gridwidth\":2},\"yaxis\":{\"backgroundcolor\":\"#E5ECF6\",\"gridcolor\":\"white\",\"linecolor\":\"white\",\"showbackground\":true,\"ticks\":\"\",\"zerolinecolor\":\"white\",\"gridwidth\":2},\"zaxis\":{\"backgroundcolor\":\"#E5ECF6\",\"gridcolor\":\"white\",\"linecolor\":\"white\",\"showbackground\":true,\"ticks\":\"\",\"zerolinecolor\":\"white\",\"gridwidth\":2}},\"shapedefaults\":{\"line\":{\"color\":\"#2a3f5f\"}},\"annotationdefaults\":{\"arrowcolor\":\"#2a3f5f\",\"arrowhead\":0,\"arrowwidth\":1},\"geo\":{\"bgcolor\":\"white\",\"landcolor\":\"#E5ECF6\",\"subunitcolor\":\"white\",\"showland\":true,\"showlakes\":true,\"lakecolor\":\"white\"},\"title\":{\"x\":0.05},\"mapbox\":{\"style\":\"light\"}}},\"title\":{\"text\":\"Number of wikibases by host\"},\"height\":500,\"width\":800,\"annotations\":[{\"showarrow\":false,\"text\":\"All Hosts\",\"x\":0.18,\"y\":1,\"font\":{\"size\":12}},{\"showarrow\":false,\"text\":\"Excluding Wikibase Cloud\",\"x\":0.9,\"y\":1,\"font\":{\"size\":12}}]},                        {\"responsive\": true}                    ).then(function(){\n",
       "                            \n",
       "var gd = document.getElementById('8faf8cd9-b22a-4518-b432-8f2d2e2a2b75');\n",
       "var x = new MutationObserver(function (mutations, observer) {{\n",
       "        var display = window.getComputedStyle(gd).display;\n",
       "        if (!display || display === 'none') {{\n",
       "            console.log([gd, 'removed!']);\n",
       "            Plotly.purge(gd);\n",
       "            observer.disconnect();\n",
       "        }}\n",
       "}});\n",
       "\n",
       "// Listen for the removal of the full notebook cells\n",
       "var notebookContainer = gd.closest('#notebook-container');\n",
       "if (notebookContainer) {{\n",
       "    x.observe(notebookContainer, {childList: true});\n",
       "}}\n",
       "\n",
       "// Listen for the clearing of the current output cell\n",
       "var outputEl = gd.closest('.output');\n",
       "if (outputEl) {{\n",
       "    x.observe(outputEl, {childList: true});\n",
       "}}\n",
       "\n",
       "                        })                };                });            </script>        </div>"
      ]
     },
     "metadata": {},
     "output_type": "display_data"
    }
   ],
   "source": [
    "from plotly.subplots import make_subplots\n",
    "\n",
    "# Filter out the Wikibase Cloud host\n",
    "filtered_group_counts = {k: v for k, v in group_counts.items() if k != 'Wikibase Cloud'}\n",
    "\n",
    "filtered_labels = [f\"{k} ({v})\" for k, v in filtered_group_counts.items()]\n",
    "filtered_values = list(filtered_group_counts.values())\n",
    "\n",
    "# Prepare data for the pie charts\n",
    "labels = [f\"{k} ({v})\" for k, v in group_counts.items()]\n",
    "values = list(group_counts.values())\n",
    "\n",
    "# Create subplots\n",
    "fig = make_subplots(rows=1, cols=2, specs=[[{'type': 'domain'}, {'type': 'domain'}]])\n",
    "\n",
    "# Add the first pie chart\n",
    "fig.add_trace(go.Pie(labels=labels, values=values, name=\"All Hosts\"), 1, 1)\n",
    "\n",
    "# Add the second pie chart\n",
    "fig.add_trace(go.Pie(labels=filtered_labels, values=filtered_values, name=\"Excluding Wikibase Cloud\"), 1, 2)\n",
    "\n",
    "# Update layout\n",
    "fig.update_layout(\n",
    "    title_text=\"Number of wikibases by host\",\n",
    "    height=500,\n",
    "    width=800,\n",
    "    annotations=[dict(text='All Hosts', x=0.18, y=1, font_size=12, showarrow=False),\n",
    "                 dict(text='Excluding Wikibase Cloud', x=0.9, y=1, font_size=12, showarrow=False)]\n",
    ")\n",
    "\n",
    "fig.show()\n",
    "fig.write_html(\"wikibase_pie_host_wikibases.html\", include_plotlyjs='cdn')\n",
    "\n"
   ]
  },
  {
   "cell_type": "code",
   "execution_count": 73,
   "metadata": {},
   "outputs": [
    {
     "data": {
      "application/vnd.plotly.v1+json": {
       "config": {
        "plotlyServerURL": "https://plot.ly"
       },
       "data": [
        {
         "domain": {
          "x": [
           0,
           0.45
          ],
          "y": [
           0,
           1
          ]
         },
         "labels": [
          "Wikimedia Foundation (63954)",
          "Wikibase Cloud (448)",
          "independently hosted Wikibase (887)",
          "The Wikibase Consultancy (6)",
          "Wikimedia Cloud Services (0)",
          "unknown (242)",
          "Miraheze (2)",
          "wikibase-docker (37)"
         ],
         "name": "All Hosts",
         "type": "pie",
         "values": [
          63954,
          448,
          887,
          6,
          0,
          242,
          2,
          37
         ]
        },
        {
         "domain": {
          "x": [
           0.55,
           1
          ],
          "y": [
           0,
           1
          ]
         },
         "labels": [
          "Wikibase Cloud (448)",
          "independently hosted Wikibase (887)",
          "The Wikibase Consultancy (6)",
          "Wikimedia Cloud Services (0)",
          "unknown (242)",
          "Miraheze (2)",
          "wikibase-docker (37)"
         ],
         "name": "Excluding Wikimedia Foundation",
         "type": "pie",
         "values": [
          448,
          887,
          6,
          0,
          242,
          2,
          37
         ]
        }
       ],
       "layout": {
        "annotations": [
         {
          "font": {
           "size": 12
          },
          "showarrow": false,
          "text": "All Hosts",
          "x": 0.18,
          "y": 1
         },
         {
          "font": {
           "size": 12
          },
          "showarrow": false,
          "text": "Excluding WMF",
          "x": 0.82,
          "y": 1
         }
        ],
        "height": 500,
        "template": {
         "data": {
          "bar": [
           {
            "error_x": {
             "color": "#2a3f5f"
            },
            "error_y": {
             "color": "#2a3f5f"
            },
            "marker": {
             "line": {
              "color": "#E5ECF6",
              "width": 0.5
             },
             "pattern": {
              "fillmode": "overlay",
              "size": 10,
              "solidity": 0.2
             }
            },
            "type": "bar"
           }
          ],
          "barpolar": [
           {
            "marker": {
             "line": {
              "color": "#E5ECF6",
              "width": 0.5
             },
             "pattern": {
              "fillmode": "overlay",
              "size": 10,
              "solidity": 0.2
             }
            },
            "type": "barpolar"
           }
          ],
          "carpet": [
           {
            "aaxis": {
             "endlinecolor": "#2a3f5f",
             "gridcolor": "white",
             "linecolor": "white",
             "minorgridcolor": "white",
             "startlinecolor": "#2a3f5f"
            },
            "baxis": {
             "endlinecolor": "#2a3f5f",
             "gridcolor": "white",
             "linecolor": "white",
             "minorgridcolor": "white",
             "startlinecolor": "#2a3f5f"
            },
            "type": "carpet"
           }
          ],
          "choropleth": [
           {
            "colorbar": {
             "outlinewidth": 0,
             "ticks": ""
            },
            "type": "choropleth"
           }
          ],
          "contour": [
           {
            "colorbar": {
             "outlinewidth": 0,
             "ticks": ""
            },
            "colorscale": [
             [
              0,
              "#0d0887"
             ],
             [
              0.1111111111111111,
              "#46039f"
             ],
             [
              0.2222222222222222,
              "#7201a8"
             ],
             [
              0.3333333333333333,
              "#9c179e"
             ],
             [
              0.4444444444444444,
              "#bd3786"
             ],
             [
              0.5555555555555556,
              "#d8576b"
             ],
             [
              0.6666666666666666,
              "#ed7953"
             ],
             [
              0.7777777777777778,
              "#fb9f3a"
             ],
             [
              0.8888888888888888,
              "#fdca26"
             ],
             [
              1,
              "#f0f921"
             ]
            ],
            "type": "contour"
           }
          ],
          "contourcarpet": [
           {
            "colorbar": {
             "outlinewidth": 0,
             "ticks": ""
            },
            "type": "contourcarpet"
           }
          ],
          "heatmap": [
           {
            "colorbar": {
             "outlinewidth": 0,
             "ticks": ""
            },
            "colorscale": [
             [
              0,
              "#0d0887"
             ],
             [
              0.1111111111111111,
              "#46039f"
             ],
             [
              0.2222222222222222,
              "#7201a8"
             ],
             [
              0.3333333333333333,
              "#9c179e"
             ],
             [
              0.4444444444444444,
              "#bd3786"
             ],
             [
              0.5555555555555556,
              "#d8576b"
             ],
             [
              0.6666666666666666,
              "#ed7953"
             ],
             [
              0.7777777777777778,
              "#fb9f3a"
             ],
             [
              0.8888888888888888,
              "#fdca26"
             ],
             [
              1,
              "#f0f921"
             ]
            ],
            "type": "heatmap"
           }
          ],
          "heatmapgl": [
           {
            "colorbar": {
             "outlinewidth": 0,
             "ticks": ""
            },
            "colorscale": [
             [
              0,
              "#0d0887"
             ],
             [
              0.1111111111111111,
              "#46039f"
             ],
             [
              0.2222222222222222,
              "#7201a8"
             ],
             [
              0.3333333333333333,
              "#9c179e"
             ],
             [
              0.4444444444444444,
              "#bd3786"
             ],
             [
              0.5555555555555556,
              "#d8576b"
             ],
             [
              0.6666666666666666,
              "#ed7953"
             ],
             [
              0.7777777777777778,
              "#fb9f3a"
             ],
             [
              0.8888888888888888,
              "#fdca26"
             ],
             [
              1,
              "#f0f921"
             ]
            ],
            "type": "heatmapgl"
           }
          ],
          "histogram": [
           {
            "marker": {
             "pattern": {
              "fillmode": "overlay",
              "size": 10,
              "solidity": 0.2
             }
            },
            "type": "histogram"
           }
          ],
          "histogram2d": [
           {
            "colorbar": {
             "outlinewidth": 0,
             "ticks": ""
            },
            "colorscale": [
             [
              0,
              "#0d0887"
             ],
             [
              0.1111111111111111,
              "#46039f"
             ],
             [
              0.2222222222222222,
              "#7201a8"
             ],
             [
              0.3333333333333333,
              "#9c179e"
             ],
             [
              0.4444444444444444,
              "#bd3786"
             ],
             [
              0.5555555555555556,
              "#d8576b"
             ],
             [
              0.6666666666666666,
              "#ed7953"
             ],
             [
              0.7777777777777778,
              "#fb9f3a"
             ],
             [
              0.8888888888888888,
              "#fdca26"
             ],
             [
              1,
              "#f0f921"
             ]
            ],
            "type": "histogram2d"
           }
          ],
          "histogram2dcontour": [
           {
            "colorbar": {
             "outlinewidth": 0,
             "ticks": ""
            },
            "colorscale": [
             [
              0,
              "#0d0887"
             ],
             [
              0.1111111111111111,
              "#46039f"
             ],
             [
              0.2222222222222222,
              "#7201a8"
             ],
             [
              0.3333333333333333,
              "#9c179e"
             ],
             [
              0.4444444444444444,
              "#bd3786"
             ],
             [
              0.5555555555555556,
              "#d8576b"
             ],
             [
              0.6666666666666666,
              "#ed7953"
             ],
             [
              0.7777777777777778,
              "#fb9f3a"
             ],
             [
              0.8888888888888888,
              "#fdca26"
             ],
             [
              1,
              "#f0f921"
             ]
            ],
            "type": "histogram2dcontour"
           }
          ],
          "mesh3d": [
           {
            "colorbar": {
             "outlinewidth": 0,
             "ticks": ""
            },
            "type": "mesh3d"
           }
          ],
          "parcoords": [
           {
            "line": {
             "colorbar": {
              "outlinewidth": 0,
              "ticks": ""
             }
            },
            "type": "parcoords"
           }
          ],
          "pie": [
           {
            "automargin": true,
            "type": "pie"
           }
          ],
          "scatter": [
           {
            "fillpattern": {
             "fillmode": "overlay",
             "size": 10,
             "solidity": 0.2
            },
            "type": "scatter"
           }
          ],
          "scatter3d": [
           {
            "line": {
             "colorbar": {
              "outlinewidth": 0,
              "ticks": ""
             }
            },
            "marker": {
             "colorbar": {
              "outlinewidth": 0,
              "ticks": ""
             }
            },
            "type": "scatter3d"
           }
          ],
          "scattercarpet": [
           {
            "marker": {
             "colorbar": {
              "outlinewidth": 0,
              "ticks": ""
             }
            },
            "type": "scattercarpet"
           }
          ],
          "scattergeo": [
           {
            "marker": {
             "colorbar": {
              "outlinewidth": 0,
              "ticks": ""
             }
            },
            "type": "scattergeo"
           }
          ],
          "scattergl": [
           {
            "marker": {
             "colorbar": {
              "outlinewidth": 0,
              "ticks": ""
             }
            },
            "type": "scattergl"
           }
          ],
          "scattermapbox": [
           {
            "marker": {
             "colorbar": {
              "outlinewidth": 0,
              "ticks": ""
             }
            },
            "type": "scattermapbox"
           }
          ],
          "scatterpolar": [
           {
            "marker": {
             "colorbar": {
              "outlinewidth": 0,
              "ticks": ""
             }
            },
            "type": "scatterpolar"
           }
          ],
          "scatterpolargl": [
           {
            "marker": {
             "colorbar": {
              "outlinewidth": 0,
              "ticks": ""
             }
            },
            "type": "scatterpolargl"
           }
          ],
          "scatterternary": [
           {
            "marker": {
             "colorbar": {
              "outlinewidth": 0,
              "ticks": ""
             }
            },
            "type": "scatterternary"
           }
          ],
          "surface": [
           {
            "colorbar": {
             "outlinewidth": 0,
             "ticks": ""
            },
            "colorscale": [
             [
              0,
              "#0d0887"
             ],
             [
              0.1111111111111111,
              "#46039f"
             ],
             [
              0.2222222222222222,
              "#7201a8"
             ],
             [
              0.3333333333333333,
              "#9c179e"
             ],
             [
              0.4444444444444444,
              "#bd3786"
             ],
             [
              0.5555555555555556,
              "#d8576b"
             ],
             [
              0.6666666666666666,
              "#ed7953"
             ],
             [
              0.7777777777777778,
              "#fb9f3a"
             ],
             [
              0.8888888888888888,
              "#fdca26"
             ],
             [
              1,
              "#f0f921"
             ]
            ],
            "type": "surface"
           }
          ],
          "table": [
           {
            "cells": {
             "fill": {
              "color": "#EBF0F8"
             },
             "line": {
              "color": "white"
             }
            },
            "header": {
             "fill": {
              "color": "#C8D4E3"
             },
             "line": {
              "color": "white"
             }
            },
            "type": "table"
           }
          ]
         },
         "layout": {
          "annotationdefaults": {
           "arrowcolor": "#2a3f5f",
           "arrowhead": 0,
           "arrowwidth": 1
          },
          "autotypenumbers": "strict",
          "coloraxis": {
           "colorbar": {
            "outlinewidth": 0,
            "ticks": ""
           }
          },
          "colorscale": {
           "diverging": [
            [
             0,
             "#8e0152"
            ],
            [
             0.1,
             "#c51b7d"
            ],
            [
             0.2,
             "#de77ae"
            ],
            [
             0.3,
             "#f1b6da"
            ],
            [
             0.4,
             "#fde0ef"
            ],
            [
             0.5,
             "#f7f7f7"
            ],
            [
             0.6,
             "#e6f5d0"
            ],
            [
             0.7,
             "#b8e186"
            ],
            [
             0.8,
             "#7fbc41"
            ],
            [
             0.9,
             "#4d9221"
            ],
            [
             1,
             "#276419"
            ]
           ],
           "sequential": [
            [
             0,
             "#0d0887"
            ],
            [
             0.1111111111111111,
             "#46039f"
            ],
            [
             0.2222222222222222,
             "#7201a8"
            ],
            [
             0.3333333333333333,
             "#9c179e"
            ],
            [
             0.4444444444444444,
             "#bd3786"
            ],
            [
             0.5555555555555556,
             "#d8576b"
            ],
            [
             0.6666666666666666,
             "#ed7953"
            ],
            [
             0.7777777777777778,
             "#fb9f3a"
            ],
            [
             0.8888888888888888,
             "#fdca26"
            ],
            [
             1,
             "#f0f921"
            ]
           ],
           "sequentialminus": [
            [
             0,
             "#0d0887"
            ],
            [
             0.1111111111111111,
             "#46039f"
            ],
            [
             0.2222222222222222,
             "#7201a8"
            ],
            [
             0.3333333333333333,
             "#9c179e"
            ],
            [
             0.4444444444444444,
             "#bd3786"
            ],
            [
             0.5555555555555556,
             "#d8576b"
            ],
            [
             0.6666666666666666,
             "#ed7953"
            ],
            [
             0.7777777777777778,
             "#fb9f3a"
            ],
            [
             0.8888888888888888,
             "#fdca26"
            ],
            [
             1,
             "#f0f921"
            ]
           ]
          },
          "colorway": [
           "#636efa",
           "#EF553B",
           "#00cc96",
           "#ab63fa",
           "#FFA15A",
           "#19d3f3",
           "#FF6692",
           "#B6E880",
           "#FF97FF",
           "#FECB52"
          ],
          "font": {
           "color": "#2a3f5f"
          },
          "geo": {
           "bgcolor": "white",
           "lakecolor": "white",
           "landcolor": "#E5ECF6",
           "showlakes": true,
           "showland": true,
           "subunitcolor": "white"
          },
          "hoverlabel": {
           "align": "left"
          },
          "hovermode": "closest",
          "mapbox": {
           "style": "light"
          },
          "paper_bgcolor": "white",
          "plot_bgcolor": "#E5ECF6",
          "polar": {
           "angularaxis": {
            "gridcolor": "white",
            "linecolor": "white",
            "ticks": ""
           },
           "bgcolor": "#E5ECF6",
           "radialaxis": {
            "gridcolor": "white",
            "linecolor": "white",
            "ticks": ""
           }
          },
          "scene": {
           "xaxis": {
            "backgroundcolor": "#E5ECF6",
            "gridcolor": "white",
            "gridwidth": 2,
            "linecolor": "white",
            "showbackground": true,
            "ticks": "",
            "zerolinecolor": "white"
           },
           "yaxis": {
            "backgroundcolor": "#E5ECF6",
            "gridcolor": "white",
            "gridwidth": 2,
            "linecolor": "white",
            "showbackground": true,
            "ticks": "",
            "zerolinecolor": "white"
           },
           "zaxis": {
            "backgroundcolor": "#E5ECF6",
            "gridcolor": "white",
            "gridwidth": 2,
            "linecolor": "white",
            "showbackground": true,
            "ticks": "",
            "zerolinecolor": "white"
           }
          },
          "shapedefaults": {
           "line": {
            "color": "#2a3f5f"
           }
          },
          "ternary": {
           "aaxis": {
            "gridcolor": "white",
            "linecolor": "white",
            "ticks": ""
           },
           "baxis": {
            "gridcolor": "white",
            "linecolor": "white",
            "ticks": ""
           },
           "bgcolor": "#E5ECF6",
           "caxis": {
            "gridcolor": "white",
            "linecolor": "white",
            "ticks": ""
           }
          },
          "title": {
           "x": 0.05
          },
          "xaxis": {
           "automargin": true,
           "gridcolor": "white",
           "linecolor": "white",
           "ticks": "",
           "title": {
            "standoff": 15
           },
           "zerolinecolor": "white",
           "zerolinewidth": 2
          },
          "yaxis": {
           "automargin": true,
           "gridcolor": "white",
           "linecolor": "white",
           "ticks": "",
           "title": {
            "standoff": 15
           },
           "zerolinecolor": "white",
           "zerolinewidth": 2
          }
         }
        },
        "title": {
         "text": "Number of active users by host"
        },
        "width": 800
       }
      },
      "text/html": [
       "<div>                            <div id=\"865db1f3-f614-4d8c-bfa5-a2d8261ba0c2\" class=\"plotly-graph-div\" style=\"height:500px; width:800px;\"></div>            <script type=\"text/javascript\">                require([\"plotly\"], function(Plotly) {                    window.PLOTLYENV=window.PLOTLYENV || {};                                    if (document.getElementById(\"865db1f3-f614-4d8c-bfa5-a2d8261ba0c2\")) {                    Plotly.newPlot(                        \"865db1f3-f614-4d8c-bfa5-a2d8261ba0c2\",                        [{\"labels\":[\"Wikimedia Foundation (63954)\",\"Wikibase Cloud (448)\",\"independently hosted Wikibase (887)\",\"The Wikibase Consultancy (6)\",\"Wikimedia Cloud Services (0)\",\"unknown (242)\",\"Miraheze (2)\",\"wikibase-docker (37)\"],\"name\":\"All Hosts\",\"values\":[63954,448,887,6,0,242,2,37],\"type\":\"pie\",\"domain\":{\"x\":[0.0,0.45],\"y\":[0.0,1.0]}},{\"labels\":[\"Wikibase Cloud (448)\",\"independently hosted Wikibase (887)\",\"The Wikibase Consultancy (6)\",\"Wikimedia Cloud Services (0)\",\"unknown (242)\",\"Miraheze (2)\",\"wikibase-docker (37)\"],\"name\":\"Excluding Wikimedia Foundation\",\"values\":[448,887,6,0,242,2,37],\"type\":\"pie\",\"domain\":{\"x\":[0.55,1.0],\"y\":[0.0,1.0]}}],                        {\"template\":{\"data\":{\"histogram2dcontour\":[{\"type\":\"histogram2dcontour\",\"colorbar\":{\"outlinewidth\":0,\"ticks\":\"\"},\"colorscale\":[[0.0,\"#0d0887\"],[0.1111111111111111,\"#46039f\"],[0.2222222222222222,\"#7201a8\"],[0.3333333333333333,\"#9c179e\"],[0.4444444444444444,\"#bd3786\"],[0.5555555555555556,\"#d8576b\"],[0.6666666666666666,\"#ed7953\"],[0.7777777777777778,\"#fb9f3a\"],[0.8888888888888888,\"#fdca26\"],[1.0,\"#f0f921\"]]}],\"choropleth\":[{\"type\":\"choropleth\",\"colorbar\":{\"outlinewidth\":0,\"ticks\":\"\"}}],\"histogram2d\":[{\"type\":\"histogram2d\",\"colorbar\":{\"outlinewidth\":0,\"ticks\":\"\"},\"colorscale\":[[0.0,\"#0d0887\"],[0.1111111111111111,\"#46039f\"],[0.2222222222222222,\"#7201a8\"],[0.3333333333333333,\"#9c179e\"],[0.4444444444444444,\"#bd3786\"],[0.5555555555555556,\"#d8576b\"],[0.6666666666666666,\"#ed7953\"],[0.7777777777777778,\"#fb9f3a\"],[0.8888888888888888,\"#fdca26\"],[1.0,\"#f0f921\"]]}],\"heatmap\":[{\"type\":\"heatmap\",\"colorbar\":{\"outlinewidth\":0,\"ticks\":\"\"},\"colorscale\":[[0.0,\"#0d0887\"],[0.1111111111111111,\"#46039f\"],[0.2222222222222222,\"#7201a8\"],[0.3333333333333333,\"#9c179e\"],[0.4444444444444444,\"#bd3786\"],[0.5555555555555556,\"#d8576b\"],[0.6666666666666666,\"#ed7953\"],[0.7777777777777778,\"#fb9f3a\"],[0.8888888888888888,\"#fdca26\"],[1.0,\"#f0f921\"]]}],\"heatmapgl\":[{\"type\":\"heatmapgl\",\"colorbar\":{\"outlinewidth\":0,\"ticks\":\"\"},\"colorscale\":[[0.0,\"#0d0887\"],[0.1111111111111111,\"#46039f\"],[0.2222222222222222,\"#7201a8\"],[0.3333333333333333,\"#9c179e\"],[0.4444444444444444,\"#bd3786\"],[0.5555555555555556,\"#d8576b\"],[0.6666666666666666,\"#ed7953\"],[0.7777777777777778,\"#fb9f3a\"],[0.8888888888888888,\"#fdca26\"],[1.0,\"#f0f921\"]]}],\"contourcarpet\":[{\"type\":\"contourcarpet\",\"colorbar\":{\"outlinewidth\":0,\"ticks\":\"\"}}],\"contour\":[{\"type\":\"contour\",\"colorbar\":{\"outlinewidth\":0,\"ticks\":\"\"},\"colorscale\":[[0.0,\"#0d0887\"],[0.1111111111111111,\"#46039f\"],[0.2222222222222222,\"#7201a8\"],[0.3333333333333333,\"#9c179e\"],[0.4444444444444444,\"#bd3786\"],[0.5555555555555556,\"#d8576b\"],[0.6666666666666666,\"#ed7953\"],[0.7777777777777778,\"#fb9f3a\"],[0.8888888888888888,\"#fdca26\"],[1.0,\"#f0f921\"]]}],\"surface\":[{\"type\":\"surface\",\"colorbar\":{\"outlinewidth\":0,\"ticks\":\"\"},\"colorscale\":[[0.0,\"#0d0887\"],[0.1111111111111111,\"#46039f\"],[0.2222222222222222,\"#7201a8\"],[0.3333333333333333,\"#9c179e\"],[0.4444444444444444,\"#bd3786\"],[0.5555555555555556,\"#d8576b\"],[0.6666666666666666,\"#ed7953\"],[0.7777777777777778,\"#fb9f3a\"],[0.8888888888888888,\"#fdca26\"],[1.0,\"#f0f921\"]]}],\"mesh3d\":[{\"type\":\"mesh3d\",\"colorbar\":{\"outlinewidth\":0,\"ticks\":\"\"}}],\"scatter\":[{\"fillpattern\":{\"fillmode\":\"overlay\",\"size\":10,\"solidity\":0.2},\"type\":\"scatter\"}],\"parcoords\":[{\"type\":\"parcoords\",\"line\":{\"colorbar\":{\"outlinewidth\":0,\"ticks\":\"\"}}}],\"scatterpolargl\":[{\"type\":\"scatterpolargl\",\"marker\":{\"colorbar\":{\"outlinewidth\":0,\"ticks\":\"\"}}}],\"bar\":[{\"error_x\":{\"color\":\"#2a3f5f\"},\"error_y\":{\"color\":\"#2a3f5f\"},\"marker\":{\"line\":{\"color\":\"#E5ECF6\",\"width\":0.5},\"pattern\":{\"fillmode\":\"overlay\",\"size\":10,\"solidity\":0.2}},\"type\":\"bar\"}],\"scattergeo\":[{\"type\":\"scattergeo\",\"marker\":{\"colorbar\":{\"outlinewidth\":0,\"ticks\":\"\"}}}],\"scatterpolar\":[{\"type\":\"scatterpolar\",\"marker\":{\"colorbar\":{\"outlinewidth\":0,\"ticks\":\"\"}}}],\"histogram\":[{\"marker\":{\"pattern\":{\"fillmode\":\"overlay\",\"size\":10,\"solidity\":0.2}},\"type\":\"histogram\"}],\"scattergl\":[{\"type\":\"scattergl\",\"marker\":{\"colorbar\":{\"outlinewidth\":0,\"ticks\":\"\"}}}],\"scatter3d\":[{\"type\":\"scatter3d\",\"line\":{\"colorbar\":{\"outlinewidth\":0,\"ticks\":\"\"}},\"marker\":{\"colorbar\":{\"outlinewidth\":0,\"ticks\":\"\"}}}],\"scattermapbox\":[{\"type\":\"scattermapbox\",\"marker\":{\"colorbar\":{\"outlinewidth\":0,\"ticks\":\"\"}}}],\"scatterternary\":[{\"type\":\"scatterternary\",\"marker\":{\"colorbar\":{\"outlinewidth\":0,\"ticks\":\"\"}}}],\"scattercarpet\":[{\"type\":\"scattercarpet\",\"marker\":{\"colorbar\":{\"outlinewidth\":0,\"ticks\":\"\"}}}],\"carpet\":[{\"aaxis\":{\"endlinecolor\":\"#2a3f5f\",\"gridcolor\":\"white\",\"linecolor\":\"white\",\"minorgridcolor\":\"white\",\"startlinecolor\":\"#2a3f5f\"},\"baxis\":{\"endlinecolor\":\"#2a3f5f\",\"gridcolor\":\"white\",\"linecolor\":\"white\",\"minorgridcolor\":\"white\",\"startlinecolor\":\"#2a3f5f\"},\"type\":\"carpet\"}],\"table\":[{\"cells\":{\"fill\":{\"color\":\"#EBF0F8\"},\"line\":{\"color\":\"white\"}},\"header\":{\"fill\":{\"color\":\"#C8D4E3\"},\"line\":{\"color\":\"white\"}},\"type\":\"table\"}],\"barpolar\":[{\"marker\":{\"line\":{\"color\":\"#E5ECF6\",\"width\":0.5},\"pattern\":{\"fillmode\":\"overlay\",\"size\":10,\"solidity\":0.2}},\"type\":\"barpolar\"}],\"pie\":[{\"automargin\":true,\"type\":\"pie\"}]},\"layout\":{\"autotypenumbers\":\"strict\",\"colorway\":[\"#636efa\",\"#EF553B\",\"#00cc96\",\"#ab63fa\",\"#FFA15A\",\"#19d3f3\",\"#FF6692\",\"#B6E880\",\"#FF97FF\",\"#FECB52\"],\"font\":{\"color\":\"#2a3f5f\"},\"hovermode\":\"closest\",\"hoverlabel\":{\"align\":\"left\"},\"paper_bgcolor\":\"white\",\"plot_bgcolor\":\"#E5ECF6\",\"polar\":{\"bgcolor\":\"#E5ECF6\",\"angularaxis\":{\"gridcolor\":\"white\",\"linecolor\":\"white\",\"ticks\":\"\"},\"radialaxis\":{\"gridcolor\":\"white\",\"linecolor\":\"white\",\"ticks\":\"\"}},\"ternary\":{\"bgcolor\":\"#E5ECF6\",\"aaxis\":{\"gridcolor\":\"white\",\"linecolor\":\"white\",\"ticks\":\"\"},\"baxis\":{\"gridcolor\":\"white\",\"linecolor\":\"white\",\"ticks\":\"\"},\"caxis\":{\"gridcolor\":\"white\",\"linecolor\":\"white\",\"ticks\":\"\"}},\"coloraxis\":{\"colorbar\":{\"outlinewidth\":0,\"ticks\":\"\"}},\"colorscale\":{\"sequential\":[[0.0,\"#0d0887\"],[0.1111111111111111,\"#46039f\"],[0.2222222222222222,\"#7201a8\"],[0.3333333333333333,\"#9c179e\"],[0.4444444444444444,\"#bd3786\"],[0.5555555555555556,\"#d8576b\"],[0.6666666666666666,\"#ed7953\"],[0.7777777777777778,\"#fb9f3a\"],[0.8888888888888888,\"#fdca26\"],[1.0,\"#f0f921\"]],\"sequentialminus\":[[0.0,\"#0d0887\"],[0.1111111111111111,\"#46039f\"],[0.2222222222222222,\"#7201a8\"],[0.3333333333333333,\"#9c179e\"],[0.4444444444444444,\"#bd3786\"],[0.5555555555555556,\"#d8576b\"],[0.6666666666666666,\"#ed7953\"],[0.7777777777777778,\"#fb9f3a\"],[0.8888888888888888,\"#fdca26\"],[1.0,\"#f0f921\"]],\"diverging\":[[0,\"#8e0152\"],[0.1,\"#c51b7d\"],[0.2,\"#de77ae\"],[0.3,\"#f1b6da\"],[0.4,\"#fde0ef\"],[0.5,\"#f7f7f7\"],[0.6,\"#e6f5d0\"],[0.7,\"#b8e186\"],[0.8,\"#7fbc41\"],[0.9,\"#4d9221\"],[1,\"#276419\"]]},\"xaxis\":{\"gridcolor\":\"white\",\"linecolor\":\"white\",\"ticks\":\"\",\"title\":{\"standoff\":15},\"zerolinecolor\":\"white\",\"automargin\":true,\"zerolinewidth\":2},\"yaxis\":{\"gridcolor\":\"white\",\"linecolor\":\"white\",\"ticks\":\"\",\"title\":{\"standoff\":15},\"zerolinecolor\":\"white\",\"automargin\":true,\"zerolinewidth\":2},\"scene\":{\"xaxis\":{\"backgroundcolor\":\"#E5ECF6\",\"gridcolor\":\"white\",\"linecolor\":\"white\",\"showbackground\":true,\"ticks\":\"\",\"zerolinecolor\":\"white\",\"gridwidth\":2},\"yaxis\":{\"backgroundcolor\":\"#E5ECF6\",\"gridcolor\":\"white\",\"linecolor\":\"white\",\"showbackground\":true,\"ticks\":\"\",\"zerolinecolor\":\"white\",\"gridwidth\":2},\"zaxis\":{\"backgroundcolor\":\"#E5ECF6\",\"gridcolor\":\"white\",\"linecolor\":\"white\",\"showbackground\":true,\"ticks\":\"\",\"zerolinecolor\":\"white\",\"gridwidth\":2}},\"shapedefaults\":{\"line\":{\"color\":\"#2a3f5f\"}},\"annotationdefaults\":{\"arrowcolor\":\"#2a3f5f\",\"arrowhead\":0,\"arrowwidth\":1},\"geo\":{\"bgcolor\":\"white\",\"landcolor\":\"#E5ECF6\",\"subunitcolor\":\"white\",\"showland\":true,\"showlakes\":true,\"lakecolor\":\"white\"},\"title\":{\"x\":0.05},\"mapbox\":{\"style\":\"light\"}}},\"title\":{\"text\":\"Number of active users by host\"},\"height\":500,\"width\":800,\"annotations\":[{\"showarrow\":false,\"text\":\"All Hosts\",\"x\":0.18,\"y\":1,\"font\":{\"size\":12}},{\"showarrow\":false,\"text\":\"Excluding WMF\",\"x\":0.82,\"y\":1,\"font\":{\"size\":12}}]},                        {\"responsive\": true}                    ).then(function(){\n",
       "                            \n",
       "var gd = document.getElementById('865db1f3-f614-4d8c-bfa5-a2d8261ba0c2');\n",
       "var x = new MutationObserver(function (mutations, observer) {{\n",
       "        var display = window.getComputedStyle(gd).display;\n",
       "        if (!display || display === 'none') {{\n",
       "            console.log([gd, 'removed!']);\n",
       "            Plotly.purge(gd);\n",
       "            observer.disconnect();\n",
       "        }}\n",
       "}});\n",
       "\n",
       "// Listen for the removal of the full notebook cells\n",
       "var notebookContainer = gd.closest('#notebook-container');\n",
       "if (notebookContainer) {{\n",
       "    x.observe(notebookContainer, {childList: true});\n",
       "}}\n",
       "\n",
       "// Listen for the clearing of the current output cell\n",
       "var outputEl = gd.closest('.output');\n",
       "if (outputEl) {{\n",
       "    x.observe(outputEl, {childList: true});\n",
       "}}\n",
       "\n",
       "                        })                };                });            </script>        </div>"
      ]
     },
     "metadata": {},
     "output_type": "display_data"
    }
   ],
   "source": [
    "from plotly.subplots import make_subplots\n",
    "\n",
    "# Calculate the number of active users per host\n",
    "active_users_by_host = {}\n",
    "for key, value in item_map.items():\n",
    "    host_label = value.get('host_label', 'unknown')\n",
    "    active_users_count = value.get('users_active', [0])[0]\n",
    "    if host_label not in active_users_by_host:\n",
    "        active_users_by_host[host_label] = 0\n",
    "    active_users_by_host[host_label] += active_users_count\n",
    "\n",
    "# Update labels to include the total number of active users per host\n",
    "labels = [f\"{k} ({v})\" for k, v in active_users_by_host.items()]\n",
    "values = list(active_users_by_host.values())\n",
    "\n",
    "# Filter out the Wikimedia Foundation\n",
    "filtered_active_users_by_host = {k: v for k, v in active_users_by_host.items() if k != 'Wikimedia Foundation'}\n",
    "\n",
    "filtered_labels = [f\"{k} ({v})\" for k, v in filtered_active_users_by_host.items()]\n",
    "filtered_values = list(filtered_active_users_by_host.values())\n",
    "\n",
    "# Create subplots\n",
    "fig = make_subplots(rows=1, cols=2, specs=[[{'type': 'domain'}, {'type': 'domain'}]])\n",
    "\n",
    "# Add the first pie chart\n",
    "fig.add_trace(go.Pie(labels=labels, values=values, name=\"All Hosts\"), 1, 1)\n",
    "\n",
    "# Add the second pie chart\n",
    "fig.add_trace(go.Pie(labels=filtered_labels, values=filtered_values, name=\"Excluding Wikimedia Foundation\"), 1, 2)\n",
    "\n",
    "# Update layout\n",
    "fig.update_layout(\n",
    "    title_text=\"Number of active users by host\",\n",
    "    height=500,\n",
    "    width=800,\n",
    "    annotations=[dict(text='All Hosts', x=0.18, y=1, font_size=12, showarrow=False),\n",
    "                 dict(text='Excluding WMF', x=0.82, y=1, font_size=12, showarrow=False)]\n",
    ")\n",
    "\n",
    "fig.show()\n",
    "fig.write_html(\"wikibase_pie_host_active_users.html\", include_plotlyjs='cdn')\n"
   ]
  },
  {
   "cell_type": "code",
   "execution_count": 74,
   "metadata": {},
   "outputs": [
    {
     "data": {
      "application/vnd.plotly.v1+json": {
       "config": {
        "plotlyServerURL": "https://plot.ly"
       },
       "data": [
        {
         "domain": {
          "x": [
           0,
           0.45
          ],
          "y": [
           0,
           1
          ]
         },
         "labels": [
          "Wikimedia Foundation (24654)",
          "Wikibase Cloud (41694)",
          "independently hosted Wikibase (17323)",
          "The Wikibase Consultancy (226)",
          "Wikimedia Cloud Services (5126)",
          "unknown (20540)",
          "Miraheze (824)",
          "wikibase-docker (36)"
         ],
         "name": "All Hosts",
         "type": "pie",
         "values": [
          24654,
          41694,
          17323,
          226,
          5126,
          20540,
          824,
          36
         ]
        },
        {
         "domain": {
          "x": [
           0.55,
           1
          ],
          "y": [
           0,
           1
          ]
         },
         "labels": [
          "Wikimedia Foundation (24654)",
          "independently hosted Wikibase (17323)",
          "The Wikibase Consultancy (226)",
          "Wikimedia Cloud Services (5126)",
          "unknown (20540)",
          "Miraheze (824)",
          "wikibase-docker (36)"
         ],
         "name": "Excluding Wikibase Cloud",
         "type": "pie",
         "values": [
          24654,
          17323,
          226,
          5126,
          20540,
          824,
          36
         ]
        }
       ],
       "layout": {
        "annotations": [
         {
          "font": {
           "size": 12
          },
          "showarrow": false,
          "text": "All Hosts",
          "x": 0.18,
          "y": 1
         },
         {
          "font": {
           "size": 12
          },
          "showarrow": false,
          "text": "Excluding Wikibase Cloud",
          "x": 0.9,
          "y": 1
         }
        ],
        "height": 500,
        "template": {
         "data": {
          "bar": [
           {
            "error_x": {
             "color": "#2a3f5f"
            },
            "error_y": {
             "color": "#2a3f5f"
            },
            "marker": {
             "line": {
              "color": "#E5ECF6",
              "width": 0.5
             },
             "pattern": {
              "fillmode": "overlay",
              "size": 10,
              "solidity": 0.2
             }
            },
            "type": "bar"
           }
          ],
          "barpolar": [
           {
            "marker": {
             "line": {
              "color": "#E5ECF6",
              "width": 0.5
             },
             "pattern": {
              "fillmode": "overlay",
              "size": 10,
              "solidity": 0.2
             }
            },
            "type": "barpolar"
           }
          ],
          "carpet": [
           {
            "aaxis": {
             "endlinecolor": "#2a3f5f",
             "gridcolor": "white",
             "linecolor": "white",
             "minorgridcolor": "white",
             "startlinecolor": "#2a3f5f"
            },
            "baxis": {
             "endlinecolor": "#2a3f5f",
             "gridcolor": "white",
             "linecolor": "white",
             "minorgridcolor": "white",
             "startlinecolor": "#2a3f5f"
            },
            "type": "carpet"
           }
          ],
          "choropleth": [
           {
            "colorbar": {
             "outlinewidth": 0,
             "ticks": ""
            },
            "type": "choropleth"
           }
          ],
          "contour": [
           {
            "colorbar": {
             "outlinewidth": 0,
             "ticks": ""
            },
            "colorscale": [
             [
              0,
              "#0d0887"
             ],
             [
              0.1111111111111111,
              "#46039f"
             ],
             [
              0.2222222222222222,
              "#7201a8"
             ],
             [
              0.3333333333333333,
              "#9c179e"
             ],
             [
              0.4444444444444444,
              "#bd3786"
             ],
             [
              0.5555555555555556,
              "#d8576b"
             ],
             [
              0.6666666666666666,
              "#ed7953"
             ],
             [
              0.7777777777777778,
              "#fb9f3a"
             ],
             [
              0.8888888888888888,
              "#fdca26"
             ],
             [
              1,
              "#f0f921"
             ]
            ],
            "type": "contour"
           }
          ],
          "contourcarpet": [
           {
            "colorbar": {
             "outlinewidth": 0,
             "ticks": ""
            },
            "type": "contourcarpet"
           }
          ],
          "heatmap": [
           {
            "colorbar": {
             "outlinewidth": 0,
             "ticks": ""
            },
            "colorscale": [
             [
              0,
              "#0d0887"
             ],
             [
              0.1111111111111111,
              "#46039f"
             ],
             [
              0.2222222222222222,
              "#7201a8"
             ],
             [
              0.3333333333333333,
              "#9c179e"
             ],
             [
              0.4444444444444444,
              "#bd3786"
             ],
             [
              0.5555555555555556,
              "#d8576b"
             ],
             [
              0.6666666666666666,
              "#ed7953"
             ],
             [
              0.7777777777777778,
              "#fb9f3a"
             ],
             [
              0.8888888888888888,
              "#fdca26"
             ],
             [
              1,
              "#f0f921"
             ]
            ],
            "type": "heatmap"
           }
          ],
          "heatmapgl": [
           {
            "colorbar": {
             "outlinewidth": 0,
             "ticks": ""
            },
            "colorscale": [
             [
              0,
              "#0d0887"
             ],
             [
              0.1111111111111111,
              "#46039f"
             ],
             [
              0.2222222222222222,
              "#7201a8"
             ],
             [
              0.3333333333333333,
              "#9c179e"
             ],
             [
              0.4444444444444444,
              "#bd3786"
             ],
             [
              0.5555555555555556,
              "#d8576b"
             ],
             [
              0.6666666666666666,
              "#ed7953"
             ],
             [
              0.7777777777777778,
              "#fb9f3a"
             ],
             [
              0.8888888888888888,
              "#fdca26"
             ],
             [
              1,
              "#f0f921"
             ]
            ],
            "type": "heatmapgl"
           }
          ],
          "histogram": [
           {
            "marker": {
             "pattern": {
              "fillmode": "overlay",
              "size": 10,
              "solidity": 0.2
             }
            },
            "type": "histogram"
           }
          ],
          "histogram2d": [
           {
            "colorbar": {
             "outlinewidth": 0,
             "ticks": ""
            },
            "colorscale": [
             [
              0,
              "#0d0887"
             ],
             [
              0.1111111111111111,
              "#46039f"
             ],
             [
              0.2222222222222222,
              "#7201a8"
             ],
             [
              0.3333333333333333,
              "#9c179e"
             ],
             [
              0.4444444444444444,
              "#bd3786"
             ],
             [
              0.5555555555555556,
              "#d8576b"
             ],
             [
              0.6666666666666666,
              "#ed7953"
             ],
             [
              0.7777777777777778,
              "#fb9f3a"
             ],
             [
              0.8888888888888888,
              "#fdca26"
             ],
             [
              1,
              "#f0f921"
             ]
            ],
            "type": "histogram2d"
           }
          ],
          "histogram2dcontour": [
           {
            "colorbar": {
             "outlinewidth": 0,
             "ticks": ""
            },
            "colorscale": [
             [
              0,
              "#0d0887"
             ],
             [
              0.1111111111111111,
              "#46039f"
             ],
             [
              0.2222222222222222,
              "#7201a8"
             ],
             [
              0.3333333333333333,
              "#9c179e"
             ],
             [
              0.4444444444444444,
              "#bd3786"
             ],
             [
              0.5555555555555556,
              "#d8576b"
             ],
             [
              0.6666666666666666,
              "#ed7953"
             ],
             [
              0.7777777777777778,
              "#fb9f3a"
             ],
             [
              0.8888888888888888,
              "#fdca26"
             ],
             [
              1,
              "#f0f921"
             ]
            ],
            "type": "histogram2dcontour"
           }
          ],
          "mesh3d": [
           {
            "colorbar": {
             "outlinewidth": 0,
             "ticks": ""
            },
            "type": "mesh3d"
           }
          ],
          "parcoords": [
           {
            "line": {
             "colorbar": {
              "outlinewidth": 0,
              "ticks": ""
             }
            },
            "type": "parcoords"
           }
          ],
          "pie": [
           {
            "automargin": true,
            "type": "pie"
           }
          ],
          "scatter": [
           {
            "fillpattern": {
             "fillmode": "overlay",
             "size": 10,
             "solidity": 0.2
            },
            "type": "scatter"
           }
          ],
          "scatter3d": [
           {
            "line": {
             "colorbar": {
              "outlinewidth": 0,
              "ticks": ""
             }
            },
            "marker": {
             "colorbar": {
              "outlinewidth": 0,
              "ticks": ""
             }
            },
            "type": "scatter3d"
           }
          ],
          "scattercarpet": [
           {
            "marker": {
             "colorbar": {
              "outlinewidth": 0,
              "ticks": ""
             }
            },
            "type": "scattercarpet"
           }
          ],
          "scattergeo": [
           {
            "marker": {
             "colorbar": {
              "outlinewidth": 0,
              "ticks": ""
             }
            },
            "type": "scattergeo"
           }
          ],
          "scattergl": [
           {
            "marker": {
             "colorbar": {
              "outlinewidth": 0,
              "ticks": ""
             }
            },
            "type": "scattergl"
           }
          ],
          "scattermapbox": [
           {
            "marker": {
             "colorbar": {
              "outlinewidth": 0,
              "ticks": ""
             }
            },
            "type": "scattermapbox"
           }
          ],
          "scatterpolar": [
           {
            "marker": {
             "colorbar": {
              "outlinewidth": 0,
              "ticks": ""
             }
            },
            "type": "scatterpolar"
           }
          ],
          "scatterpolargl": [
           {
            "marker": {
             "colorbar": {
              "outlinewidth": 0,
              "ticks": ""
             }
            },
            "type": "scatterpolargl"
           }
          ],
          "scatterternary": [
           {
            "marker": {
             "colorbar": {
              "outlinewidth": 0,
              "ticks": ""
             }
            },
            "type": "scatterternary"
           }
          ],
          "surface": [
           {
            "colorbar": {
             "outlinewidth": 0,
             "ticks": ""
            },
            "colorscale": [
             [
              0,
              "#0d0887"
             ],
             [
              0.1111111111111111,
              "#46039f"
             ],
             [
              0.2222222222222222,
              "#7201a8"
             ],
             [
              0.3333333333333333,
              "#9c179e"
             ],
             [
              0.4444444444444444,
              "#bd3786"
             ],
             [
              0.5555555555555556,
              "#d8576b"
             ],
             [
              0.6666666666666666,
              "#ed7953"
             ],
             [
              0.7777777777777778,
              "#fb9f3a"
             ],
             [
              0.8888888888888888,
              "#fdca26"
             ],
             [
              1,
              "#f0f921"
             ]
            ],
            "type": "surface"
           }
          ],
          "table": [
           {
            "cells": {
             "fill": {
              "color": "#EBF0F8"
             },
             "line": {
              "color": "white"
             }
            },
            "header": {
             "fill": {
              "color": "#C8D4E3"
             },
             "line": {
              "color": "white"
             }
            },
            "type": "table"
           }
          ]
         },
         "layout": {
          "annotationdefaults": {
           "arrowcolor": "#2a3f5f",
           "arrowhead": 0,
           "arrowwidth": 1
          },
          "autotypenumbers": "strict",
          "coloraxis": {
           "colorbar": {
            "outlinewidth": 0,
            "ticks": ""
           }
          },
          "colorscale": {
           "diverging": [
            [
             0,
             "#8e0152"
            ],
            [
             0.1,
             "#c51b7d"
            ],
            [
             0.2,
             "#de77ae"
            ],
            [
             0.3,
             "#f1b6da"
            ],
            [
             0.4,
             "#fde0ef"
            ],
            [
             0.5,
             "#f7f7f7"
            ],
            [
             0.6,
             "#e6f5d0"
            ],
            [
             0.7,
             "#b8e186"
            ],
            [
             0.8,
             "#7fbc41"
            ],
            [
             0.9,
             "#4d9221"
            ],
            [
             1,
             "#276419"
            ]
           ],
           "sequential": [
            [
             0,
             "#0d0887"
            ],
            [
             0.1111111111111111,
             "#46039f"
            ],
            [
             0.2222222222222222,
             "#7201a8"
            ],
            [
             0.3333333333333333,
             "#9c179e"
            ],
            [
             0.4444444444444444,
             "#bd3786"
            ],
            [
             0.5555555555555556,
             "#d8576b"
            ],
            [
             0.6666666666666666,
             "#ed7953"
            ],
            [
             0.7777777777777778,
             "#fb9f3a"
            ],
            [
             0.8888888888888888,
             "#fdca26"
            ],
            [
             1,
             "#f0f921"
            ]
           ],
           "sequentialminus": [
            [
             0,
             "#0d0887"
            ],
            [
             0.1111111111111111,
             "#46039f"
            ],
            [
             0.2222222222222222,
             "#7201a8"
            ],
            [
             0.3333333333333333,
             "#9c179e"
            ],
            [
             0.4444444444444444,
             "#bd3786"
            ],
            [
             0.5555555555555556,
             "#d8576b"
            ],
            [
             0.6666666666666666,
             "#ed7953"
            ],
            [
             0.7777777777777778,
             "#fb9f3a"
            ],
            [
             0.8888888888888888,
             "#fdca26"
            ],
            [
             1,
             "#f0f921"
            ]
           ]
          },
          "colorway": [
           "#636efa",
           "#EF553B",
           "#00cc96",
           "#ab63fa",
           "#FFA15A",
           "#19d3f3",
           "#FF6692",
           "#B6E880",
           "#FF97FF",
           "#FECB52"
          ],
          "font": {
           "color": "#2a3f5f"
          },
          "geo": {
           "bgcolor": "white",
           "lakecolor": "white",
           "landcolor": "#E5ECF6",
           "showlakes": true,
           "showland": true,
           "subunitcolor": "white"
          },
          "hoverlabel": {
           "align": "left"
          },
          "hovermode": "closest",
          "mapbox": {
           "style": "light"
          },
          "paper_bgcolor": "white",
          "plot_bgcolor": "#E5ECF6",
          "polar": {
           "angularaxis": {
            "gridcolor": "white",
            "linecolor": "white",
            "ticks": ""
           },
           "bgcolor": "#E5ECF6",
           "radialaxis": {
            "gridcolor": "white",
            "linecolor": "white",
            "ticks": ""
           }
          },
          "scene": {
           "xaxis": {
            "backgroundcolor": "#E5ECF6",
            "gridcolor": "white",
            "gridwidth": 2,
            "linecolor": "white",
            "showbackground": true,
            "ticks": "",
            "zerolinecolor": "white"
           },
           "yaxis": {
            "backgroundcolor": "#E5ECF6",
            "gridcolor": "white",
            "gridwidth": 2,
            "linecolor": "white",
            "showbackground": true,
            "ticks": "",
            "zerolinecolor": "white"
           },
           "zaxis": {
            "backgroundcolor": "#E5ECF6",
            "gridcolor": "white",
            "gridwidth": 2,
            "linecolor": "white",
            "showbackground": true,
            "ticks": "",
            "zerolinecolor": "white"
           }
          },
          "shapedefaults": {
           "line": {
            "color": "#2a3f5f"
           }
          },
          "ternary": {
           "aaxis": {
            "gridcolor": "white",
            "linecolor": "white",
            "ticks": ""
           },
           "baxis": {
            "gridcolor": "white",
            "linecolor": "white",
            "ticks": ""
           },
           "bgcolor": "#E5ECF6",
           "caxis": {
            "gridcolor": "white",
            "linecolor": "white",
            "ticks": ""
           }
          },
          "title": {
           "x": 0.05
          },
          "xaxis": {
           "automargin": true,
           "gridcolor": "white",
           "linecolor": "white",
           "ticks": "",
           "title": {
            "standoff": 15
           },
           "zerolinecolor": "white",
           "zerolinewidth": 2
          },
          "yaxis": {
           "automargin": true,
           "gridcolor": "white",
           "linecolor": "white",
           "ticks": "",
           "title": {
            "standoff": 15
           },
           "zerolinecolor": "white",
           "zerolinewidth": 2
          }
         }
        },
        "title": {
         "text": "Number of properties by host"
        },
        "width": 800
       }
      },
      "text/html": [
       "<div>                            <div id=\"7d984905-737b-42bd-8135-c2d9ad74abc1\" class=\"plotly-graph-div\" style=\"height:500px; width:800px;\"></div>            <script type=\"text/javascript\">                require([\"plotly\"], function(Plotly) {                    window.PLOTLYENV=window.PLOTLYENV || {};                                    if (document.getElementById(\"7d984905-737b-42bd-8135-c2d9ad74abc1\")) {                    Plotly.newPlot(                        \"7d984905-737b-42bd-8135-c2d9ad74abc1\",                        [{\"labels\":[\"Wikimedia Foundation (24654)\",\"Wikibase Cloud (41694)\",\"independently hosted Wikibase (17323)\",\"The Wikibase Consultancy (226)\",\"Wikimedia Cloud Services (5126)\",\"unknown (20540)\",\"Miraheze (824)\",\"wikibase-docker (36)\"],\"name\":\"All Hosts\",\"values\":[24654,41694,17323,226,5126,20540,824,36],\"type\":\"pie\",\"domain\":{\"x\":[0.0,0.45],\"y\":[0.0,1.0]}},{\"labels\":[\"Wikimedia Foundation (24654)\",\"independently hosted Wikibase (17323)\",\"The Wikibase Consultancy (226)\",\"Wikimedia Cloud Services (5126)\",\"unknown (20540)\",\"Miraheze (824)\",\"wikibase-docker (36)\"],\"name\":\"Excluding Wikibase Cloud\",\"values\":[24654,17323,226,5126,20540,824,36],\"type\":\"pie\",\"domain\":{\"x\":[0.55,1.0],\"y\":[0.0,1.0]}}],                        {\"template\":{\"data\":{\"histogram2dcontour\":[{\"type\":\"histogram2dcontour\",\"colorbar\":{\"outlinewidth\":0,\"ticks\":\"\"},\"colorscale\":[[0.0,\"#0d0887\"],[0.1111111111111111,\"#46039f\"],[0.2222222222222222,\"#7201a8\"],[0.3333333333333333,\"#9c179e\"],[0.4444444444444444,\"#bd3786\"],[0.5555555555555556,\"#d8576b\"],[0.6666666666666666,\"#ed7953\"],[0.7777777777777778,\"#fb9f3a\"],[0.8888888888888888,\"#fdca26\"],[1.0,\"#f0f921\"]]}],\"choropleth\":[{\"type\":\"choropleth\",\"colorbar\":{\"outlinewidth\":0,\"ticks\":\"\"}}],\"histogram2d\":[{\"type\":\"histogram2d\",\"colorbar\":{\"outlinewidth\":0,\"ticks\":\"\"},\"colorscale\":[[0.0,\"#0d0887\"],[0.1111111111111111,\"#46039f\"],[0.2222222222222222,\"#7201a8\"],[0.3333333333333333,\"#9c179e\"],[0.4444444444444444,\"#bd3786\"],[0.5555555555555556,\"#d8576b\"],[0.6666666666666666,\"#ed7953\"],[0.7777777777777778,\"#fb9f3a\"],[0.8888888888888888,\"#fdca26\"],[1.0,\"#f0f921\"]]}],\"heatmap\":[{\"type\":\"heatmap\",\"colorbar\":{\"outlinewidth\":0,\"ticks\":\"\"},\"colorscale\":[[0.0,\"#0d0887\"],[0.1111111111111111,\"#46039f\"],[0.2222222222222222,\"#7201a8\"],[0.3333333333333333,\"#9c179e\"],[0.4444444444444444,\"#bd3786\"],[0.5555555555555556,\"#d8576b\"],[0.6666666666666666,\"#ed7953\"],[0.7777777777777778,\"#fb9f3a\"],[0.8888888888888888,\"#fdca26\"],[1.0,\"#f0f921\"]]}],\"heatmapgl\":[{\"type\":\"heatmapgl\",\"colorbar\":{\"outlinewidth\":0,\"ticks\":\"\"},\"colorscale\":[[0.0,\"#0d0887\"],[0.1111111111111111,\"#46039f\"],[0.2222222222222222,\"#7201a8\"],[0.3333333333333333,\"#9c179e\"],[0.4444444444444444,\"#bd3786\"],[0.5555555555555556,\"#d8576b\"],[0.6666666666666666,\"#ed7953\"],[0.7777777777777778,\"#fb9f3a\"],[0.8888888888888888,\"#fdca26\"],[1.0,\"#f0f921\"]]}],\"contourcarpet\":[{\"type\":\"contourcarpet\",\"colorbar\":{\"outlinewidth\":0,\"ticks\":\"\"}}],\"contour\":[{\"type\":\"contour\",\"colorbar\":{\"outlinewidth\":0,\"ticks\":\"\"},\"colorscale\":[[0.0,\"#0d0887\"],[0.1111111111111111,\"#46039f\"],[0.2222222222222222,\"#7201a8\"],[0.3333333333333333,\"#9c179e\"],[0.4444444444444444,\"#bd3786\"],[0.5555555555555556,\"#d8576b\"],[0.6666666666666666,\"#ed7953\"],[0.7777777777777778,\"#fb9f3a\"],[0.8888888888888888,\"#fdca26\"],[1.0,\"#f0f921\"]]}],\"surface\":[{\"type\":\"surface\",\"colorbar\":{\"outlinewidth\":0,\"ticks\":\"\"},\"colorscale\":[[0.0,\"#0d0887\"],[0.1111111111111111,\"#46039f\"],[0.2222222222222222,\"#7201a8\"],[0.3333333333333333,\"#9c179e\"],[0.4444444444444444,\"#bd3786\"],[0.5555555555555556,\"#d8576b\"],[0.6666666666666666,\"#ed7953\"],[0.7777777777777778,\"#fb9f3a\"],[0.8888888888888888,\"#fdca26\"],[1.0,\"#f0f921\"]]}],\"mesh3d\":[{\"type\":\"mesh3d\",\"colorbar\":{\"outlinewidth\":0,\"ticks\":\"\"}}],\"scatter\":[{\"fillpattern\":{\"fillmode\":\"overlay\",\"size\":10,\"solidity\":0.2},\"type\":\"scatter\"}],\"parcoords\":[{\"type\":\"parcoords\",\"line\":{\"colorbar\":{\"outlinewidth\":0,\"ticks\":\"\"}}}],\"scatterpolargl\":[{\"type\":\"scatterpolargl\",\"marker\":{\"colorbar\":{\"outlinewidth\":0,\"ticks\":\"\"}}}],\"bar\":[{\"error_x\":{\"color\":\"#2a3f5f\"},\"error_y\":{\"color\":\"#2a3f5f\"},\"marker\":{\"line\":{\"color\":\"#E5ECF6\",\"width\":0.5},\"pattern\":{\"fillmode\":\"overlay\",\"size\":10,\"solidity\":0.2}},\"type\":\"bar\"}],\"scattergeo\":[{\"type\":\"scattergeo\",\"marker\":{\"colorbar\":{\"outlinewidth\":0,\"ticks\":\"\"}}}],\"scatterpolar\":[{\"type\":\"scatterpolar\",\"marker\":{\"colorbar\":{\"outlinewidth\":0,\"ticks\":\"\"}}}],\"histogram\":[{\"marker\":{\"pattern\":{\"fillmode\":\"overlay\",\"size\":10,\"solidity\":0.2}},\"type\":\"histogram\"}],\"scattergl\":[{\"type\":\"scattergl\",\"marker\":{\"colorbar\":{\"outlinewidth\":0,\"ticks\":\"\"}}}],\"scatter3d\":[{\"type\":\"scatter3d\",\"line\":{\"colorbar\":{\"outlinewidth\":0,\"ticks\":\"\"}},\"marker\":{\"colorbar\":{\"outlinewidth\":0,\"ticks\":\"\"}}}],\"scattermapbox\":[{\"type\":\"scattermapbox\",\"marker\":{\"colorbar\":{\"outlinewidth\":0,\"ticks\":\"\"}}}],\"scatterternary\":[{\"type\":\"scatterternary\",\"marker\":{\"colorbar\":{\"outlinewidth\":0,\"ticks\":\"\"}}}],\"scattercarpet\":[{\"type\":\"scattercarpet\",\"marker\":{\"colorbar\":{\"outlinewidth\":0,\"ticks\":\"\"}}}],\"carpet\":[{\"aaxis\":{\"endlinecolor\":\"#2a3f5f\",\"gridcolor\":\"white\",\"linecolor\":\"white\",\"minorgridcolor\":\"white\",\"startlinecolor\":\"#2a3f5f\"},\"baxis\":{\"endlinecolor\":\"#2a3f5f\",\"gridcolor\":\"white\",\"linecolor\":\"white\",\"minorgridcolor\":\"white\",\"startlinecolor\":\"#2a3f5f\"},\"type\":\"carpet\"}],\"table\":[{\"cells\":{\"fill\":{\"color\":\"#EBF0F8\"},\"line\":{\"color\":\"white\"}},\"header\":{\"fill\":{\"color\":\"#C8D4E3\"},\"line\":{\"color\":\"white\"}},\"type\":\"table\"}],\"barpolar\":[{\"marker\":{\"line\":{\"color\":\"#E5ECF6\",\"width\":0.5},\"pattern\":{\"fillmode\":\"overlay\",\"size\":10,\"solidity\":0.2}},\"type\":\"barpolar\"}],\"pie\":[{\"automargin\":true,\"type\":\"pie\"}]},\"layout\":{\"autotypenumbers\":\"strict\",\"colorway\":[\"#636efa\",\"#EF553B\",\"#00cc96\",\"#ab63fa\",\"#FFA15A\",\"#19d3f3\",\"#FF6692\",\"#B6E880\",\"#FF97FF\",\"#FECB52\"],\"font\":{\"color\":\"#2a3f5f\"},\"hovermode\":\"closest\",\"hoverlabel\":{\"align\":\"left\"},\"paper_bgcolor\":\"white\",\"plot_bgcolor\":\"#E5ECF6\",\"polar\":{\"bgcolor\":\"#E5ECF6\",\"angularaxis\":{\"gridcolor\":\"white\",\"linecolor\":\"white\",\"ticks\":\"\"},\"radialaxis\":{\"gridcolor\":\"white\",\"linecolor\":\"white\",\"ticks\":\"\"}},\"ternary\":{\"bgcolor\":\"#E5ECF6\",\"aaxis\":{\"gridcolor\":\"white\",\"linecolor\":\"white\",\"ticks\":\"\"},\"baxis\":{\"gridcolor\":\"white\",\"linecolor\":\"white\",\"ticks\":\"\"},\"caxis\":{\"gridcolor\":\"white\",\"linecolor\":\"white\",\"ticks\":\"\"}},\"coloraxis\":{\"colorbar\":{\"outlinewidth\":0,\"ticks\":\"\"}},\"colorscale\":{\"sequential\":[[0.0,\"#0d0887\"],[0.1111111111111111,\"#46039f\"],[0.2222222222222222,\"#7201a8\"],[0.3333333333333333,\"#9c179e\"],[0.4444444444444444,\"#bd3786\"],[0.5555555555555556,\"#d8576b\"],[0.6666666666666666,\"#ed7953\"],[0.7777777777777778,\"#fb9f3a\"],[0.8888888888888888,\"#fdca26\"],[1.0,\"#f0f921\"]],\"sequentialminus\":[[0.0,\"#0d0887\"],[0.1111111111111111,\"#46039f\"],[0.2222222222222222,\"#7201a8\"],[0.3333333333333333,\"#9c179e\"],[0.4444444444444444,\"#bd3786\"],[0.5555555555555556,\"#d8576b\"],[0.6666666666666666,\"#ed7953\"],[0.7777777777777778,\"#fb9f3a\"],[0.8888888888888888,\"#fdca26\"],[1.0,\"#f0f921\"]],\"diverging\":[[0,\"#8e0152\"],[0.1,\"#c51b7d\"],[0.2,\"#de77ae\"],[0.3,\"#f1b6da\"],[0.4,\"#fde0ef\"],[0.5,\"#f7f7f7\"],[0.6,\"#e6f5d0\"],[0.7,\"#b8e186\"],[0.8,\"#7fbc41\"],[0.9,\"#4d9221\"],[1,\"#276419\"]]},\"xaxis\":{\"gridcolor\":\"white\",\"linecolor\":\"white\",\"ticks\":\"\",\"title\":{\"standoff\":15},\"zerolinecolor\":\"white\",\"automargin\":true,\"zerolinewidth\":2},\"yaxis\":{\"gridcolor\":\"white\",\"linecolor\":\"white\",\"ticks\":\"\",\"title\":{\"standoff\":15},\"zerolinecolor\":\"white\",\"automargin\":true,\"zerolinewidth\":2},\"scene\":{\"xaxis\":{\"backgroundcolor\":\"#E5ECF6\",\"gridcolor\":\"white\",\"linecolor\":\"white\",\"showbackground\":true,\"ticks\":\"\",\"zerolinecolor\":\"white\",\"gridwidth\":2},\"yaxis\":{\"backgroundcolor\":\"#E5ECF6\",\"gridcolor\":\"white\",\"linecolor\":\"white\",\"showbackground\":true,\"ticks\":\"\",\"zerolinecolor\":\"white\",\"gridwidth\":2},\"zaxis\":{\"backgroundcolor\":\"#E5ECF6\",\"gridcolor\":\"white\",\"linecolor\":\"white\",\"showbackground\":true,\"ticks\":\"\",\"zerolinecolor\":\"white\",\"gridwidth\":2}},\"shapedefaults\":{\"line\":{\"color\":\"#2a3f5f\"}},\"annotationdefaults\":{\"arrowcolor\":\"#2a3f5f\",\"arrowhead\":0,\"arrowwidth\":1},\"geo\":{\"bgcolor\":\"white\",\"landcolor\":\"#E5ECF6\",\"subunitcolor\":\"white\",\"showland\":true,\"showlakes\":true,\"lakecolor\":\"white\"},\"title\":{\"x\":0.05},\"mapbox\":{\"style\":\"light\"}}},\"title\":{\"text\":\"Number of properties by host\"},\"height\":500,\"width\":800,\"annotations\":[{\"showarrow\":false,\"text\":\"All Hosts\",\"x\":0.18,\"y\":1,\"font\":{\"size\":12}},{\"showarrow\":false,\"text\":\"Excluding Wikibase Cloud\",\"x\":0.9,\"y\":1,\"font\":{\"size\":12}}]},                        {\"responsive\": true}                    ).then(function(){\n",
       "                            \n",
       "var gd = document.getElementById('7d984905-737b-42bd-8135-c2d9ad74abc1');\n",
       "var x = new MutationObserver(function (mutations, observer) {{\n",
       "        var display = window.getComputedStyle(gd).display;\n",
       "        if (!display || display === 'none') {{\n",
       "            console.log([gd, 'removed!']);\n",
       "            Plotly.purge(gd);\n",
       "            observer.disconnect();\n",
       "        }}\n",
       "}});\n",
       "\n",
       "// Listen for the removal of the full notebook cells\n",
       "var notebookContainer = gd.closest('#notebook-container');\n",
       "if (notebookContainer) {{\n",
       "    x.observe(notebookContainer, {childList: true});\n",
       "}}\n",
       "\n",
       "// Listen for the clearing of the current output cell\n",
       "var outputEl = gd.closest('.output');\n",
       "if (outputEl) {{\n",
       "    x.observe(outputEl, {childList: true});\n",
       "}}\n",
       "\n",
       "                        })                };                });            </script>        </div>"
      ]
     },
     "metadata": {},
     "output_type": "display_data"
    }
   ],
   "source": [
    "# Calculate the number of properties per host\n",
    "properties_by_host = {}\n",
    "for key, value in item_map.items():\n",
    "    host_label = value.get('host_label', 'unknown')\n",
    "    properties_count = value.get('properties', [0])[0]\n",
    "    if host_label not in properties_by_host:\n",
    "        properties_by_host[host_label] = 0\n",
    "    properties_by_host[host_label] += properties_count\n",
    "\n",
    "# Filter out the Wikibase Cloud host\n",
    "filtered_properties_by_host = {k: v for k, v in properties_by_host.items() if k != 'Wikibase Cloud'}\n",
    "\n",
    "# Prepare data for the pie charts\n",
    "labels = [f\"{k} ({v})\" for k, v in properties_by_host.items()]\n",
    "values = list(properties_by_host.values())\n",
    "filtered_labels = [f\"{k} ({v})\" for k, v in filtered_properties_by_host.items()]\n",
    "filtered_values = list(filtered_properties_by_host.values())\n",
    "\n",
    "# Create subplots\n",
    "fig = make_subplots(rows=1, cols=2, specs=[[{'type': 'domain'}, {'type': 'domain'}]])\n",
    "\n",
    "# Add the first pie chart\n",
    "fig.add_trace(go.Pie(labels=labels, values=values, name=\"All Hosts\"), 1, 1)\n",
    "\n",
    "# Add the second pie chart\n",
    "fig.add_trace(go.Pie(labels=filtered_labels, values=filtered_values, name=\"Excluding Wikibase Cloud\"), 1, 2)\n",
    "\n",
    "# Update layout\n",
    "fig.update_layout(\n",
    "    title_text=\"Number of properties by host\",\n",
    "    height=500,\n",
    "    width=800,\n",
    "    annotations=[dict(text='All Hosts', x=0.18, y=1, font_size=12, showarrow=False),\n",
    "                 dict(text='Excluding Wikibase Cloud', x=0.9, y=1, font_size=12, showarrow=False)]\n",
    ")\n",
    "\n",
    "fig.show()\n",
    "fig.write_html(\"wikibase_pie_host_properties.html\", include_plotlyjs='cdn')\n"
   ]
  },
  {
   "cell_type": "code",
   "execution_count": 75,
   "metadata": {},
   "outputs": [
    {
     "data": {
      "application/vnd.plotly.v1+json": {
       "config": {
        "plotlyServerURL": "https://plot.ly"
       },
       "data": [
        {
         "domain": {
          "x": [
           0,
           0.2888888888888889
          ],
          "y": [
           0,
           1
          ]
         },
         "labels": [
          "1.44.0-wmf.16",
          "1.39.7",
          "1.39.1",
          "1.39.4",
          "1.39.11",
          "1.37.0-alpha",
          "1.39.10",
          "1.42.4",
          "1.35.2",
          "1.44.0-wmf.15",
          "1.39.5",
          "1.35.1",
          "1.42.1",
          "1.32.5",
          "1.27.0-rc.1",
          "1.28.2",
          "1.35.3",
          "1.38.5",
          "1.35.7",
          "1.43.0-wmf.7",
          "1.39.3",
          "1.36.1",
          "1.43.0",
          "1.34.2",
          "1.34.1",
          "1.41.1",
          "1.33.0",
          "1.41.4",
          "1.40.1",
          "1.35.5",
          "1.39.6",
          "1.39.2",
          "1.34.4",
          "1.40.0-wmf.26",
          "1.41.0",
          "1.42.3",
          "1.35.4"
         ],
         "name": "All Versions",
         "showlegend": false,
         "textinfo": "none",
         "type": "pie",
         "values": [
          2,
          712,
          5,
          3,
          8,
          1,
          2,
          1,
          3,
          1,
          2,
          2,
          3,
          1,
          1,
          1,
          1,
          6,
          1,
          1,
          1,
          1,
          2,
          1,
          1,
          2,
          1,
          1,
          1,
          2,
          1,
          1,
          1,
          1,
          1,
          1,
          1
         ]
        },
        {
         "domain": {
          "x": [
           0.35555555555555557,
           0.6444444444444445
          ],
          "y": [
           0,
           1
          ]
         },
         "labels": [
          "1.44.0-wmf.16",
          "1.39.1",
          "1.39.4",
          "1.39.11",
          "1.37.0-alpha",
          "1.39.10",
          "1.42.4",
          "1.35.2",
          "1.44.0-wmf.15",
          "1.39.5",
          "1.35.1",
          "1.42.1",
          "1.32.5",
          "1.27.0-rc.1",
          "1.28.2",
          "1.35.3",
          "1.38.5",
          "1.35.7",
          "1.43.0-wmf.7",
          "1.39.3",
          "1.36.1",
          "1.43.0",
          "1.34.2",
          "1.34.1",
          "1.41.1",
          "1.33.0",
          "1.41.4",
          "1.40.1",
          "1.35.5",
          "1.39.6",
          "1.39.2",
          "1.34.4",
          "1.40.0-wmf.26",
          "1.41.0",
          "1.42.3",
          "1.35.4"
         ],
         "name": "Excluding 1.39.7",
         "showlegend": false,
         "textinfo": "none",
         "type": "pie",
         "values": [
          2,
          5,
          3,
          8,
          1,
          2,
          1,
          3,
          1,
          2,
          2,
          3,
          1,
          1,
          1,
          1,
          6,
          1,
          1,
          1,
          1,
          2,
          1,
          1,
          2,
          1,
          1,
          1,
          2,
          1,
          1,
          1,
          1,
          1,
          1,
          1
         ]
        },
        {
         "domain": {
          "x": [
           0.7111111111111111,
           1
          ],
          "y": [
           0,
           1
          ]
         },
         "labels": [
          "1.44",
          "1.39",
          "1.37",
          "1.42",
          "1.35",
          "1.32",
          "1.27",
          "1.28",
          "1.38",
          "1.43",
          "1.36",
          "1.34",
          "1.41",
          "1.33",
          "1.40"
         ],
         "name": "Grouped Versions",
         "showlegend": false,
         "textinfo": "none",
         "type": "pie",
         "values": [
          3,
          23,
          1,
          5,
          10,
          1,
          1,
          1,
          6,
          3,
          1,
          3,
          4,
          1,
          2
         ]
        }
       ],
       "layout": {
        "annotations": [
         {
          "font": {
           "size": 12
          },
          "showarrow": false,
          "text": "All Versions",
          "x": 0.12,
          "y": 1.05
         },
         {
          "font": {
           "size": 12
          },
          "showarrow": false,
          "text": "Excluding 1.39.7",
          "x": 0.5,
          "y": 1.05
         },
         {
          "font": {
           "size": 12
          },
          "showarrow": false,
          "text": "Excluding 1.39.7, Grouped as x.xx",
          "x": 0.95,
          "y": 1.05
         }
        ],
        "height": 500,
        "template": {
         "data": {
          "bar": [
           {
            "error_x": {
             "color": "#2a3f5f"
            },
            "error_y": {
             "color": "#2a3f5f"
            },
            "marker": {
             "line": {
              "color": "#E5ECF6",
              "width": 0.5
             },
             "pattern": {
              "fillmode": "overlay",
              "size": 10,
              "solidity": 0.2
             }
            },
            "type": "bar"
           }
          ],
          "barpolar": [
           {
            "marker": {
             "line": {
              "color": "#E5ECF6",
              "width": 0.5
             },
             "pattern": {
              "fillmode": "overlay",
              "size": 10,
              "solidity": 0.2
             }
            },
            "type": "barpolar"
           }
          ],
          "carpet": [
           {
            "aaxis": {
             "endlinecolor": "#2a3f5f",
             "gridcolor": "white",
             "linecolor": "white",
             "minorgridcolor": "white",
             "startlinecolor": "#2a3f5f"
            },
            "baxis": {
             "endlinecolor": "#2a3f5f",
             "gridcolor": "white",
             "linecolor": "white",
             "minorgridcolor": "white",
             "startlinecolor": "#2a3f5f"
            },
            "type": "carpet"
           }
          ],
          "choropleth": [
           {
            "colorbar": {
             "outlinewidth": 0,
             "ticks": ""
            },
            "type": "choropleth"
           }
          ],
          "contour": [
           {
            "colorbar": {
             "outlinewidth": 0,
             "ticks": ""
            },
            "colorscale": [
             [
              0,
              "#0d0887"
             ],
             [
              0.1111111111111111,
              "#46039f"
             ],
             [
              0.2222222222222222,
              "#7201a8"
             ],
             [
              0.3333333333333333,
              "#9c179e"
             ],
             [
              0.4444444444444444,
              "#bd3786"
             ],
             [
              0.5555555555555556,
              "#d8576b"
             ],
             [
              0.6666666666666666,
              "#ed7953"
             ],
             [
              0.7777777777777778,
              "#fb9f3a"
             ],
             [
              0.8888888888888888,
              "#fdca26"
             ],
             [
              1,
              "#f0f921"
             ]
            ],
            "type": "contour"
           }
          ],
          "contourcarpet": [
           {
            "colorbar": {
             "outlinewidth": 0,
             "ticks": ""
            },
            "type": "contourcarpet"
           }
          ],
          "heatmap": [
           {
            "colorbar": {
             "outlinewidth": 0,
             "ticks": ""
            },
            "colorscale": [
             [
              0,
              "#0d0887"
             ],
             [
              0.1111111111111111,
              "#46039f"
             ],
             [
              0.2222222222222222,
              "#7201a8"
             ],
             [
              0.3333333333333333,
              "#9c179e"
             ],
             [
              0.4444444444444444,
              "#bd3786"
             ],
             [
              0.5555555555555556,
              "#d8576b"
             ],
             [
              0.6666666666666666,
              "#ed7953"
             ],
             [
              0.7777777777777778,
              "#fb9f3a"
             ],
             [
              0.8888888888888888,
              "#fdca26"
             ],
             [
              1,
              "#f0f921"
             ]
            ],
            "type": "heatmap"
           }
          ],
          "heatmapgl": [
           {
            "colorbar": {
             "outlinewidth": 0,
             "ticks": ""
            },
            "colorscale": [
             [
              0,
              "#0d0887"
             ],
             [
              0.1111111111111111,
              "#46039f"
             ],
             [
              0.2222222222222222,
              "#7201a8"
             ],
             [
              0.3333333333333333,
              "#9c179e"
             ],
             [
              0.4444444444444444,
              "#bd3786"
             ],
             [
              0.5555555555555556,
              "#d8576b"
             ],
             [
              0.6666666666666666,
              "#ed7953"
             ],
             [
              0.7777777777777778,
              "#fb9f3a"
             ],
             [
              0.8888888888888888,
              "#fdca26"
             ],
             [
              1,
              "#f0f921"
             ]
            ],
            "type": "heatmapgl"
           }
          ],
          "histogram": [
           {
            "marker": {
             "pattern": {
              "fillmode": "overlay",
              "size": 10,
              "solidity": 0.2
             }
            },
            "type": "histogram"
           }
          ],
          "histogram2d": [
           {
            "colorbar": {
             "outlinewidth": 0,
             "ticks": ""
            },
            "colorscale": [
             [
              0,
              "#0d0887"
             ],
             [
              0.1111111111111111,
              "#46039f"
             ],
             [
              0.2222222222222222,
              "#7201a8"
             ],
             [
              0.3333333333333333,
              "#9c179e"
             ],
             [
              0.4444444444444444,
              "#bd3786"
             ],
             [
              0.5555555555555556,
              "#d8576b"
             ],
             [
              0.6666666666666666,
              "#ed7953"
             ],
             [
              0.7777777777777778,
              "#fb9f3a"
             ],
             [
              0.8888888888888888,
              "#fdca26"
             ],
             [
              1,
              "#f0f921"
             ]
            ],
            "type": "histogram2d"
           }
          ],
          "histogram2dcontour": [
           {
            "colorbar": {
             "outlinewidth": 0,
             "ticks": ""
            },
            "colorscale": [
             [
              0,
              "#0d0887"
             ],
             [
              0.1111111111111111,
              "#46039f"
             ],
             [
              0.2222222222222222,
              "#7201a8"
             ],
             [
              0.3333333333333333,
              "#9c179e"
             ],
             [
              0.4444444444444444,
              "#bd3786"
             ],
             [
              0.5555555555555556,
              "#d8576b"
             ],
             [
              0.6666666666666666,
              "#ed7953"
             ],
             [
              0.7777777777777778,
              "#fb9f3a"
             ],
             [
              0.8888888888888888,
              "#fdca26"
             ],
             [
              1,
              "#f0f921"
             ]
            ],
            "type": "histogram2dcontour"
           }
          ],
          "mesh3d": [
           {
            "colorbar": {
             "outlinewidth": 0,
             "ticks": ""
            },
            "type": "mesh3d"
           }
          ],
          "parcoords": [
           {
            "line": {
             "colorbar": {
              "outlinewidth": 0,
              "ticks": ""
             }
            },
            "type": "parcoords"
           }
          ],
          "pie": [
           {
            "automargin": true,
            "type": "pie"
           }
          ],
          "scatter": [
           {
            "fillpattern": {
             "fillmode": "overlay",
             "size": 10,
             "solidity": 0.2
            },
            "type": "scatter"
           }
          ],
          "scatter3d": [
           {
            "line": {
             "colorbar": {
              "outlinewidth": 0,
              "ticks": ""
             }
            },
            "marker": {
             "colorbar": {
              "outlinewidth": 0,
              "ticks": ""
             }
            },
            "type": "scatter3d"
           }
          ],
          "scattercarpet": [
           {
            "marker": {
             "colorbar": {
              "outlinewidth": 0,
              "ticks": ""
             }
            },
            "type": "scattercarpet"
           }
          ],
          "scattergeo": [
           {
            "marker": {
             "colorbar": {
              "outlinewidth": 0,
              "ticks": ""
             }
            },
            "type": "scattergeo"
           }
          ],
          "scattergl": [
           {
            "marker": {
             "colorbar": {
              "outlinewidth": 0,
              "ticks": ""
             }
            },
            "type": "scattergl"
           }
          ],
          "scattermapbox": [
           {
            "marker": {
             "colorbar": {
              "outlinewidth": 0,
              "ticks": ""
             }
            },
            "type": "scattermapbox"
           }
          ],
          "scatterpolar": [
           {
            "marker": {
             "colorbar": {
              "outlinewidth": 0,
              "ticks": ""
             }
            },
            "type": "scatterpolar"
           }
          ],
          "scatterpolargl": [
           {
            "marker": {
             "colorbar": {
              "outlinewidth": 0,
              "ticks": ""
             }
            },
            "type": "scatterpolargl"
           }
          ],
          "scatterternary": [
           {
            "marker": {
             "colorbar": {
              "outlinewidth": 0,
              "ticks": ""
             }
            },
            "type": "scatterternary"
           }
          ],
          "surface": [
           {
            "colorbar": {
             "outlinewidth": 0,
             "ticks": ""
            },
            "colorscale": [
             [
              0,
              "#0d0887"
             ],
             [
              0.1111111111111111,
              "#46039f"
             ],
             [
              0.2222222222222222,
              "#7201a8"
             ],
             [
              0.3333333333333333,
              "#9c179e"
             ],
             [
              0.4444444444444444,
              "#bd3786"
             ],
             [
              0.5555555555555556,
              "#d8576b"
             ],
             [
              0.6666666666666666,
              "#ed7953"
             ],
             [
              0.7777777777777778,
              "#fb9f3a"
             ],
             [
              0.8888888888888888,
              "#fdca26"
             ],
             [
              1,
              "#f0f921"
             ]
            ],
            "type": "surface"
           }
          ],
          "table": [
           {
            "cells": {
             "fill": {
              "color": "#EBF0F8"
             },
             "line": {
              "color": "white"
             }
            },
            "header": {
             "fill": {
              "color": "#C8D4E3"
             },
             "line": {
              "color": "white"
             }
            },
            "type": "table"
           }
          ]
         },
         "layout": {
          "annotationdefaults": {
           "arrowcolor": "#2a3f5f",
           "arrowhead": 0,
           "arrowwidth": 1
          },
          "autotypenumbers": "strict",
          "coloraxis": {
           "colorbar": {
            "outlinewidth": 0,
            "ticks": ""
           }
          },
          "colorscale": {
           "diverging": [
            [
             0,
             "#8e0152"
            ],
            [
             0.1,
             "#c51b7d"
            ],
            [
             0.2,
             "#de77ae"
            ],
            [
             0.3,
             "#f1b6da"
            ],
            [
             0.4,
             "#fde0ef"
            ],
            [
             0.5,
             "#f7f7f7"
            ],
            [
             0.6,
             "#e6f5d0"
            ],
            [
             0.7,
             "#b8e186"
            ],
            [
             0.8,
             "#7fbc41"
            ],
            [
             0.9,
             "#4d9221"
            ],
            [
             1,
             "#276419"
            ]
           ],
           "sequential": [
            [
             0,
             "#0d0887"
            ],
            [
             0.1111111111111111,
             "#46039f"
            ],
            [
             0.2222222222222222,
             "#7201a8"
            ],
            [
             0.3333333333333333,
             "#9c179e"
            ],
            [
             0.4444444444444444,
             "#bd3786"
            ],
            [
             0.5555555555555556,
             "#d8576b"
            ],
            [
             0.6666666666666666,
             "#ed7953"
            ],
            [
             0.7777777777777778,
             "#fb9f3a"
            ],
            [
             0.8888888888888888,
             "#fdca26"
            ],
            [
             1,
             "#f0f921"
            ]
           ],
           "sequentialminus": [
            [
             0,
             "#0d0887"
            ],
            [
             0.1111111111111111,
             "#46039f"
            ],
            [
             0.2222222222222222,
             "#7201a8"
            ],
            [
             0.3333333333333333,
             "#9c179e"
            ],
            [
             0.4444444444444444,
             "#bd3786"
            ],
            [
             0.5555555555555556,
             "#d8576b"
            ],
            [
             0.6666666666666666,
             "#ed7953"
            ],
            [
             0.7777777777777778,
             "#fb9f3a"
            ],
            [
             0.8888888888888888,
             "#fdca26"
            ],
            [
             1,
             "#f0f921"
            ]
           ]
          },
          "colorway": [
           "#636efa",
           "#EF553B",
           "#00cc96",
           "#ab63fa",
           "#FFA15A",
           "#19d3f3",
           "#FF6692",
           "#B6E880",
           "#FF97FF",
           "#FECB52"
          ],
          "font": {
           "color": "#2a3f5f"
          },
          "geo": {
           "bgcolor": "white",
           "lakecolor": "white",
           "landcolor": "#E5ECF6",
           "showlakes": true,
           "showland": true,
           "subunitcolor": "white"
          },
          "hoverlabel": {
           "align": "left"
          },
          "hovermode": "closest",
          "mapbox": {
           "style": "light"
          },
          "paper_bgcolor": "white",
          "plot_bgcolor": "#E5ECF6",
          "polar": {
           "angularaxis": {
            "gridcolor": "white",
            "linecolor": "white",
            "ticks": ""
           },
           "bgcolor": "#E5ECF6",
           "radialaxis": {
            "gridcolor": "white",
            "linecolor": "white",
            "ticks": ""
           }
          },
          "scene": {
           "xaxis": {
            "backgroundcolor": "#E5ECF6",
            "gridcolor": "white",
            "gridwidth": 2,
            "linecolor": "white",
            "showbackground": true,
            "ticks": "",
            "zerolinecolor": "white"
           },
           "yaxis": {
            "backgroundcolor": "#E5ECF6",
            "gridcolor": "white",
            "gridwidth": 2,
            "linecolor": "white",
            "showbackground": true,
            "ticks": "",
            "zerolinecolor": "white"
           },
           "zaxis": {
            "backgroundcolor": "#E5ECF6",
            "gridcolor": "white",
            "gridwidth": 2,
            "linecolor": "white",
            "showbackground": true,
            "ticks": "",
            "zerolinecolor": "white"
           }
          },
          "shapedefaults": {
           "line": {
            "color": "#2a3f5f"
           }
          },
          "ternary": {
           "aaxis": {
            "gridcolor": "white",
            "linecolor": "white",
            "ticks": ""
           },
           "baxis": {
            "gridcolor": "white",
            "linecolor": "white",
            "ticks": ""
           },
           "bgcolor": "#E5ECF6",
           "caxis": {
            "gridcolor": "white",
            "linecolor": "white",
            "ticks": ""
           }
          },
          "title": {
           "x": 0.05
          },
          "xaxis": {
           "automargin": true,
           "gridcolor": "white",
           "linecolor": "white",
           "ticks": "",
           "title": {
            "standoff": 15
           },
           "zerolinecolor": "white",
           "zerolinewidth": 2
          },
          "yaxis": {
           "automargin": true,
           "gridcolor": "white",
           "linecolor": "white",
           "ticks": "",
           "title": {
            "standoff": 15
           },
           "zerolinecolor": "white",
           "zerolinewidth": 2
          }
         }
        },
        "title": {
         "text": "Spread of Wikibases by Version"
        },
        "width": 800
       }
      },
      "text/html": [
       "<div>                            <div id=\"08d05d72-58b0-4183-bcfe-2290309425a0\" class=\"plotly-graph-div\" style=\"height:500px; width:800px;\"></div>            <script type=\"text/javascript\">                require([\"plotly\"], function(Plotly) {                    window.PLOTLYENV=window.PLOTLYENV || {};                                    if (document.getElementById(\"08d05d72-58b0-4183-bcfe-2290309425a0\")) {                    Plotly.newPlot(                        \"08d05d72-58b0-4183-bcfe-2290309425a0\",                        [{\"labels\":[\"1.44.0-wmf.16\",\"1.39.7\",\"1.39.1\",\"1.39.4\",\"1.39.11\",\"1.37.0-alpha\",\"1.39.10\",\"1.42.4\",\"1.35.2\",\"1.44.0-wmf.15\",\"1.39.5\",\"1.35.1\",\"1.42.1\",\"1.32.5\",\"1.27.0-rc.1\",\"1.28.2\",\"1.35.3\",\"1.38.5\",\"1.35.7\",\"1.43.0-wmf.7\",\"1.39.3\",\"1.36.1\",\"1.43.0\",\"1.34.2\",\"1.34.1\",\"1.41.1\",\"1.33.0\",\"1.41.4\",\"1.40.1\",\"1.35.5\",\"1.39.6\",\"1.39.2\",\"1.34.4\",\"1.40.0-wmf.26\",\"1.41.0\",\"1.42.3\",\"1.35.4\"],\"name\":\"All Versions\",\"showlegend\":false,\"textinfo\":\"none\",\"values\":[2,712,5,3,8,1,2,1,3,1,2,2,3,1,1,1,1,6,1,1,1,1,2,1,1,2,1,1,1,2,1,1,1,1,1,1,1],\"type\":\"pie\",\"domain\":{\"x\":[0.0,0.2888888888888889],\"y\":[0.0,1.0]}},{\"labels\":[\"1.44.0-wmf.16\",\"1.39.1\",\"1.39.4\",\"1.39.11\",\"1.37.0-alpha\",\"1.39.10\",\"1.42.4\",\"1.35.2\",\"1.44.0-wmf.15\",\"1.39.5\",\"1.35.1\",\"1.42.1\",\"1.32.5\",\"1.27.0-rc.1\",\"1.28.2\",\"1.35.3\",\"1.38.5\",\"1.35.7\",\"1.43.0-wmf.7\",\"1.39.3\",\"1.36.1\",\"1.43.0\",\"1.34.2\",\"1.34.1\",\"1.41.1\",\"1.33.0\",\"1.41.4\",\"1.40.1\",\"1.35.5\",\"1.39.6\",\"1.39.2\",\"1.34.4\",\"1.40.0-wmf.26\",\"1.41.0\",\"1.42.3\",\"1.35.4\"],\"name\":\"Excluding 1.39.7\",\"showlegend\":false,\"textinfo\":\"none\",\"values\":[2,5,3,8,1,2,1,3,1,2,2,3,1,1,1,1,6,1,1,1,1,2,1,1,2,1,1,1,2,1,1,1,1,1,1,1],\"type\":\"pie\",\"domain\":{\"x\":[0.35555555555555557,0.6444444444444445],\"y\":[0.0,1.0]}},{\"labels\":[\"1.44\",\"1.39\",\"1.37\",\"1.42\",\"1.35\",\"1.32\",\"1.27\",\"1.28\",\"1.38\",\"1.43\",\"1.36\",\"1.34\",\"1.41\",\"1.33\",\"1.40\"],\"name\":\"Grouped Versions\",\"showlegend\":false,\"textinfo\":\"none\",\"values\":[3,23,1,5,10,1,1,1,6,3,1,3,4,1,2],\"type\":\"pie\",\"domain\":{\"x\":[0.7111111111111111,1.0],\"y\":[0.0,1.0]}}],                        {\"template\":{\"data\":{\"histogram2dcontour\":[{\"type\":\"histogram2dcontour\",\"colorbar\":{\"outlinewidth\":0,\"ticks\":\"\"},\"colorscale\":[[0.0,\"#0d0887\"],[0.1111111111111111,\"#46039f\"],[0.2222222222222222,\"#7201a8\"],[0.3333333333333333,\"#9c179e\"],[0.4444444444444444,\"#bd3786\"],[0.5555555555555556,\"#d8576b\"],[0.6666666666666666,\"#ed7953\"],[0.7777777777777778,\"#fb9f3a\"],[0.8888888888888888,\"#fdca26\"],[1.0,\"#f0f921\"]]}],\"choropleth\":[{\"type\":\"choropleth\",\"colorbar\":{\"outlinewidth\":0,\"ticks\":\"\"}}],\"histogram2d\":[{\"type\":\"histogram2d\",\"colorbar\":{\"outlinewidth\":0,\"ticks\":\"\"},\"colorscale\":[[0.0,\"#0d0887\"],[0.1111111111111111,\"#46039f\"],[0.2222222222222222,\"#7201a8\"],[0.3333333333333333,\"#9c179e\"],[0.4444444444444444,\"#bd3786\"],[0.5555555555555556,\"#d8576b\"],[0.6666666666666666,\"#ed7953\"],[0.7777777777777778,\"#fb9f3a\"],[0.8888888888888888,\"#fdca26\"],[1.0,\"#f0f921\"]]}],\"heatmap\":[{\"type\":\"heatmap\",\"colorbar\":{\"outlinewidth\":0,\"ticks\":\"\"},\"colorscale\":[[0.0,\"#0d0887\"],[0.1111111111111111,\"#46039f\"],[0.2222222222222222,\"#7201a8\"],[0.3333333333333333,\"#9c179e\"],[0.4444444444444444,\"#bd3786\"],[0.5555555555555556,\"#d8576b\"],[0.6666666666666666,\"#ed7953\"],[0.7777777777777778,\"#fb9f3a\"],[0.8888888888888888,\"#fdca26\"],[1.0,\"#f0f921\"]]}],\"heatmapgl\":[{\"type\":\"heatmapgl\",\"colorbar\":{\"outlinewidth\":0,\"ticks\":\"\"},\"colorscale\":[[0.0,\"#0d0887\"],[0.1111111111111111,\"#46039f\"],[0.2222222222222222,\"#7201a8\"],[0.3333333333333333,\"#9c179e\"],[0.4444444444444444,\"#bd3786\"],[0.5555555555555556,\"#d8576b\"],[0.6666666666666666,\"#ed7953\"],[0.7777777777777778,\"#fb9f3a\"],[0.8888888888888888,\"#fdca26\"],[1.0,\"#f0f921\"]]}],\"contourcarpet\":[{\"type\":\"contourcarpet\",\"colorbar\":{\"outlinewidth\":0,\"ticks\":\"\"}}],\"contour\":[{\"type\":\"contour\",\"colorbar\":{\"outlinewidth\":0,\"ticks\":\"\"},\"colorscale\":[[0.0,\"#0d0887\"],[0.1111111111111111,\"#46039f\"],[0.2222222222222222,\"#7201a8\"],[0.3333333333333333,\"#9c179e\"],[0.4444444444444444,\"#bd3786\"],[0.5555555555555556,\"#d8576b\"],[0.6666666666666666,\"#ed7953\"],[0.7777777777777778,\"#fb9f3a\"],[0.8888888888888888,\"#fdca26\"],[1.0,\"#f0f921\"]]}],\"surface\":[{\"type\":\"surface\",\"colorbar\":{\"outlinewidth\":0,\"ticks\":\"\"},\"colorscale\":[[0.0,\"#0d0887\"],[0.1111111111111111,\"#46039f\"],[0.2222222222222222,\"#7201a8\"],[0.3333333333333333,\"#9c179e\"],[0.4444444444444444,\"#bd3786\"],[0.5555555555555556,\"#d8576b\"],[0.6666666666666666,\"#ed7953\"],[0.7777777777777778,\"#fb9f3a\"],[0.8888888888888888,\"#fdca26\"],[1.0,\"#f0f921\"]]}],\"mesh3d\":[{\"type\":\"mesh3d\",\"colorbar\":{\"outlinewidth\":0,\"ticks\":\"\"}}],\"scatter\":[{\"fillpattern\":{\"fillmode\":\"overlay\",\"size\":10,\"solidity\":0.2},\"type\":\"scatter\"}],\"parcoords\":[{\"type\":\"parcoords\",\"line\":{\"colorbar\":{\"outlinewidth\":0,\"ticks\":\"\"}}}],\"scatterpolargl\":[{\"type\":\"scatterpolargl\",\"marker\":{\"colorbar\":{\"outlinewidth\":0,\"ticks\":\"\"}}}],\"bar\":[{\"error_x\":{\"color\":\"#2a3f5f\"},\"error_y\":{\"color\":\"#2a3f5f\"},\"marker\":{\"line\":{\"color\":\"#E5ECF6\",\"width\":0.5},\"pattern\":{\"fillmode\":\"overlay\",\"size\":10,\"solidity\":0.2}},\"type\":\"bar\"}],\"scattergeo\":[{\"type\":\"scattergeo\",\"marker\":{\"colorbar\":{\"outlinewidth\":0,\"ticks\":\"\"}}}],\"scatterpolar\":[{\"type\":\"scatterpolar\",\"marker\":{\"colorbar\":{\"outlinewidth\":0,\"ticks\":\"\"}}}],\"histogram\":[{\"marker\":{\"pattern\":{\"fillmode\":\"overlay\",\"size\":10,\"solidity\":0.2}},\"type\":\"histogram\"}],\"scattergl\":[{\"type\":\"scattergl\",\"marker\":{\"colorbar\":{\"outlinewidth\":0,\"ticks\":\"\"}}}],\"scatter3d\":[{\"type\":\"scatter3d\",\"line\":{\"colorbar\":{\"outlinewidth\":0,\"ticks\":\"\"}},\"marker\":{\"colorbar\":{\"outlinewidth\":0,\"ticks\":\"\"}}}],\"scattermapbox\":[{\"type\":\"scattermapbox\",\"marker\":{\"colorbar\":{\"outlinewidth\":0,\"ticks\":\"\"}}}],\"scatterternary\":[{\"type\":\"scatterternary\",\"marker\":{\"colorbar\":{\"outlinewidth\":0,\"ticks\":\"\"}}}],\"scattercarpet\":[{\"type\":\"scattercarpet\",\"marker\":{\"colorbar\":{\"outlinewidth\":0,\"ticks\":\"\"}}}],\"carpet\":[{\"aaxis\":{\"endlinecolor\":\"#2a3f5f\",\"gridcolor\":\"white\",\"linecolor\":\"white\",\"minorgridcolor\":\"white\",\"startlinecolor\":\"#2a3f5f\"},\"baxis\":{\"endlinecolor\":\"#2a3f5f\",\"gridcolor\":\"white\",\"linecolor\":\"white\",\"minorgridcolor\":\"white\",\"startlinecolor\":\"#2a3f5f\"},\"type\":\"carpet\"}],\"table\":[{\"cells\":{\"fill\":{\"color\":\"#EBF0F8\"},\"line\":{\"color\":\"white\"}},\"header\":{\"fill\":{\"color\":\"#C8D4E3\"},\"line\":{\"color\":\"white\"}},\"type\":\"table\"}],\"barpolar\":[{\"marker\":{\"line\":{\"color\":\"#E5ECF6\",\"width\":0.5},\"pattern\":{\"fillmode\":\"overlay\",\"size\":10,\"solidity\":0.2}},\"type\":\"barpolar\"}],\"pie\":[{\"automargin\":true,\"type\":\"pie\"}]},\"layout\":{\"autotypenumbers\":\"strict\",\"colorway\":[\"#636efa\",\"#EF553B\",\"#00cc96\",\"#ab63fa\",\"#FFA15A\",\"#19d3f3\",\"#FF6692\",\"#B6E880\",\"#FF97FF\",\"#FECB52\"],\"font\":{\"color\":\"#2a3f5f\"},\"hovermode\":\"closest\",\"hoverlabel\":{\"align\":\"left\"},\"paper_bgcolor\":\"white\",\"plot_bgcolor\":\"#E5ECF6\",\"polar\":{\"bgcolor\":\"#E5ECF6\",\"angularaxis\":{\"gridcolor\":\"white\",\"linecolor\":\"white\",\"ticks\":\"\"},\"radialaxis\":{\"gridcolor\":\"white\",\"linecolor\":\"white\",\"ticks\":\"\"}},\"ternary\":{\"bgcolor\":\"#E5ECF6\",\"aaxis\":{\"gridcolor\":\"white\",\"linecolor\":\"white\",\"ticks\":\"\"},\"baxis\":{\"gridcolor\":\"white\",\"linecolor\":\"white\",\"ticks\":\"\"},\"caxis\":{\"gridcolor\":\"white\",\"linecolor\":\"white\",\"ticks\":\"\"}},\"coloraxis\":{\"colorbar\":{\"outlinewidth\":0,\"ticks\":\"\"}},\"colorscale\":{\"sequential\":[[0.0,\"#0d0887\"],[0.1111111111111111,\"#46039f\"],[0.2222222222222222,\"#7201a8\"],[0.3333333333333333,\"#9c179e\"],[0.4444444444444444,\"#bd3786\"],[0.5555555555555556,\"#d8576b\"],[0.6666666666666666,\"#ed7953\"],[0.7777777777777778,\"#fb9f3a\"],[0.8888888888888888,\"#fdca26\"],[1.0,\"#f0f921\"]],\"sequentialminus\":[[0.0,\"#0d0887\"],[0.1111111111111111,\"#46039f\"],[0.2222222222222222,\"#7201a8\"],[0.3333333333333333,\"#9c179e\"],[0.4444444444444444,\"#bd3786\"],[0.5555555555555556,\"#d8576b\"],[0.6666666666666666,\"#ed7953\"],[0.7777777777777778,\"#fb9f3a\"],[0.8888888888888888,\"#fdca26\"],[1.0,\"#f0f921\"]],\"diverging\":[[0,\"#8e0152\"],[0.1,\"#c51b7d\"],[0.2,\"#de77ae\"],[0.3,\"#f1b6da\"],[0.4,\"#fde0ef\"],[0.5,\"#f7f7f7\"],[0.6,\"#e6f5d0\"],[0.7,\"#b8e186\"],[0.8,\"#7fbc41\"],[0.9,\"#4d9221\"],[1,\"#276419\"]]},\"xaxis\":{\"gridcolor\":\"white\",\"linecolor\":\"white\",\"ticks\":\"\",\"title\":{\"standoff\":15},\"zerolinecolor\":\"white\",\"automargin\":true,\"zerolinewidth\":2},\"yaxis\":{\"gridcolor\":\"white\",\"linecolor\":\"white\",\"ticks\":\"\",\"title\":{\"standoff\":15},\"zerolinecolor\":\"white\",\"automargin\":true,\"zerolinewidth\":2},\"scene\":{\"xaxis\":{\"backgroundcolor\":\"#E5ECF6\",\"gridcolor\":\"white\",\"linecolor\":\"white\",\"showbackground\":true,\"ticks\":\"\",\"zerolinecolor\":\"white\",\"gridwidth\":2},\"yaxis\":{\"backgroundcolor\":\"#E5ECF6\",\"gridcolor\":\"white\",\"linecolor\":\"white\",\"showbackground\":true,\"ticks\":\"\",\"zerolinecolor\":\"white\",\"gridwidth\":2},\"zaxis\":{\"backgroundcolor\":\"#E5ECF6\",\"gridcolor\":\"white\",\"linecolor\":\"white\",\"showbackground\":true,\"ticks\":\"\",\"zerolinecolor\":\"white\",\"gridwidth\":2}},\"shapedefaults\":{\"line\":{\"color\":\"#2a3f5f\"}},\"annotationdefaults\":{\"arrowcolor\":\"#2a3f5f\",\"arrowhead\":0,\"arrowwidth\":1},\"geo\":{\"bgcolor\":\"white\",\"landcolor\":\"#E5ECF6\",\"subunitcolor\":\"white\",\"showland\":true,\"showlakes\":true,\"lakecolor\":\"white\"},\"title\":{\"x\":0.05},\"mapbox\":{\"style\":\"light\"}}},\"title\":{\"text\":\"Spread of Wikibases by Version\"},\"height\":500,\"width\":800,\"annotations\":[{\"showarrow\":false,\"text\":\"All Versions\",\"x\":0.12,\"y\":1.05,\"font\":{\"size\":12}},{\"showarrow\":false,\"text\":\"Excluding 1.39.7\",\"x\":0.5,\"y\":1.05,\"font\":{\"size\":12}},{\"showarrow\":false,\"text\":\"Excluding 1.39.7, Grouped as x.xx\",\"x\":0.95,\"y\":1.05,\"font\":{\"size\":12}}]},                        {\"responsive\": true}                    ).then(function(){\n",
       "                            \n",
       "var gd = document.getElementById('08d05d72-58b0-4183-bcfe-2290309425a0');\n",
       "var x = new MutationObserver(function (mutations, observer) {{\n",
       "        var display = window.getComputedStyle(gd).display;\n",
       "        if (!display || display === 'none') {{\n",
       "            console.log([gd, 'removed!']);\n",
       "            Plotly.purge(gd);\n",
       "            observer.disconnect();\n",
       "        }}\n",
       "}});\n",
       "\n",
       "// Listen for the removal of the full notebook cells\n",
       "var notebookContainer = gd.closest('#notebook-container');\n",
       "if (notebookContainer) {{\n",
       "    x.observe(notebookContainer, {childList: true});\n",
       "}}\n",
       "\n",
       "// Listen for the clearing of the current output cell\n",
       "var outputEl = gd.closest('.output');\n",
       "if (outputEl) {{\n",
       "    x.observe(outputEl, {childList: true});\n",
       "}}\n",
       "\n",
       "                        })                };                });            </script>        </div>"
      ]
     },
     "metadata": {},
     "output_type": "display_data"
    }
   ],
   "source": [
    "from plotly.subplots import make_subplots\n",
    "\n",
    "# Extract the version information from item_map\n",
    "version_counts = {}\n",
    "for key, value in item_map.items():\n",
    "    version = value.get('version', ['unknown'])[0]\n",
    "    if version not in version_counts:\n",
    "        version_counts[version] = 0\n",
    "    version_counts[version] += 1\n",
    "\n",
    "# Prepare data for the pie charts\n",
    "versions = list(version_counts.keys())\n",
    "counts = list(version_counts.values())\n",
    "\n",
    "# Filter out the most common version (for example, '1.39.7')\n",
    "filtered_version_counts = {k: v for k, v in version_counts.items() if k != '1.39.7'}\n",
    "filtered_versions = list(filtered_version_counts.keys())\n",
    "filtered_counts = list(filtered_version_counts.values())\n",
    "\n",
    "# Group versions by the first two parts for both filtered and unfiltered data\n",
    "grouped_version_counts = {}\n",
    "for version, count in version_counts.items():\n",
    "    grouped_version = '.'.join(version.split('.')[:2])\n",
    "    if grouped_version not in grouped_version_counts:\n",
    "        grouped_version_counts[grouped_version] = 0\n",
    "    grouped_version_counts[grouped_version] += count\n",
    "\n",
    "grouped_version_counts_filtered = {}\n",
    "for version, count in filtered_version_counts.items():\n",
    "    grouped_version = '.'.join(version.split('.')[:2])\n",
    "    if grouped_version not in grouped_version_counts_filtered:\n",
    "        grouped_version_counts_filtered[grouped_version] = 0\n",
    "    grouped_version_counts_filtered[grouped_version] += count\n",
    "\n",
    "grouped_versions = list(grouped_version_counts.keys())\n",
    "grouped_counts = list(grouped_version_counts.values())\n",
    "grouped_versions_filtered = list(grouped_version_counts_filtered.keys())\n",
    "grouped_counts_filtered = list(grouped_version_counts_filtered.values())\n",
    "\n",
    "# Create subplots\n",
    "fig = make_subplots(rows=1, cols=3, specs=[[{'type': 'domain'}, {'type': 'domain'}, {'type': 'domain'}]])\n",
    "\n",
    "# Add the first pie chart\n",
    "fig.add_trace(go.Pie(labels=versions, values=counts, name=\"All Versions\", showlegend=False, textinfo='none'), 1, 1)\n",
    "\n",
    "# Add the second pie chart\n",
    "fig.add_trace(go.Pie(labels=filtered_versions, values=filtered_counts, name=\"Excluding 1.39.7\", showlegend=False, textinfo='none'), 1, 2)\n",
    "\n",
    "# Add the third pie chart\n",
    "fig.add_trace(go.Pie(labels=grouped_versions, values=grouped_counts_filtered, name=\"Grouped Versions\", showlegend=False, textinfo='none'), 1, 3)\n",
    "\n",
    "# Update layout\n",
    "fig.update_layout(\n",
    "    title_text=\"Spread of Wikibases by Version\",\n",
    "    height=500,\n",
    "    width=800,\n",
    "    annotations=[dict(text='All Versions', x=0.12, y=1.05, font_size=12, showarrow=False),\n",
    "                 dict(text='Excluding 1.39.7', x=0.5, y=1.05, font_size=12, showarrow=False),\n",
    "                 dict(text='Excluding 1.39.7, Grouped as x.xx', x=0.95, y=1.05, font_size=12, showarrow=False)]\n",
    ")\n",
    "\n",
    "fig.show()\n",
    "fig.write_html(\"wikibase_pie_versions.html\", include_plotlyjs='cdn')"
   ]
  },
  {
   "cell_type": "code",
   "execution_count": 76,
   "metadata": {},
   "outputs": [
    {
     "data": {
      "application/vnd.plotly.v1+json": {
       "config": {
        "plotlyServerURL": "https://plot.ly"
       },
       "data": [
        {
         "cells": {
          "values": [
           [
            "1.44",
            "1.39",
            "1.37",
            "1.42",
            "1.35",
            "1.32",
            "1.27",
            "1.28",
            "1.38",
            "1.43",
            "1.36",
            "1.34",
            "1.41",
            "1.33",
            "1.40"
           ],
           [
            3,
            735,
            1,
            5,
            10,
            1,
            1,
            1,
            6,
            3,
            1,
            3,
            4,
            1,
            2
           ]
          ]
         },
         "header": {
          "values": [
           "Version",
           "Count"
          ]
         },
         "type": "table"
        }
       ],
       "layout": {
        "template": {
         "data": {
          "bar": [
           {
            "error_x": {
             "color": "#2a3f5f"
            },
            "error_y": {
             "color": "#2a3f5f"
            },
            "marker": {
             "line": {
              "color": "#E5ECF6",
              "width": 0.5
             },
             "pattern": {
              "fillmode": "overlay",
              "size": 10,
              "solidity": 0.2
             }
            },
            "type": "bar"
           }
          ],
          "barpolar": [
           {
            "marker": {
             "line": {
              "color": "#E5ECF6",
              "width": 0.5
             },
             "pattern": {
              "fillmode": "overlay",
              "size": 10,
              "solidity": 0.2
             }
            },
            "type": "barpolar"
           }
          ],
          "carpet": [
           {
            "aaxis": {
             "endlinecolor": "#2a3f5f",
             "gridcolor": "white",
             "linecolor": "white",
             "minorgridcolor": "white",
             "startlinecolor": "#2a3f5f"
            },
            "baxis": {
             "endlinecolor": "#2a3f5f",
             "gridcolor": "white",
             "linecolor": "white",
             "minorgridcolor": "white",
             "startlinecolor": "#2a3f5f"
            },
            "type": "carpet"
           }
          ],
          "choropleth": [
           {
            "colorbar": {
             "outlinewidth": 0,
             "ticks": ""
            },
            "type": "choropleth"
           }
          ],
          "contour": [
           {
            "colorbar": {
             "outlinewidth": 0,
             "ticks": ""
            },
            "colorscale": [
             [
              0,
              "#0d0887"
             ],
             [
              0.1111111111111111,
              "#46039f"
             ],
             [
              0.2222222222222222,
              "#7201a8"
             ],
             [
              0.3333333333333333,
              "#9c179e"
             ],
             [
              0.4444444444444444,
              "#bd3786"
             ],
             [
              0.5555555555555556,
              "#d8576b"
             ],
             [
              0.6666666666666666,
              "#ed7953"
             ],
             [
              0.7777777777777778,
              "#fb9f3a"
             ],
             [
              0.8888888888888888,
              "#fdca26"
             ],
             [
              1,
              "#f0f921"
             ]
            ],
            "type": "contour"
           }
          ],
          "contourcarpet": [
           {
            "colorbar": {
             "outlinewidth": 0,
             "ticks": ""
            },
            "type": "contourcarpet"
           }
          ],
          "heatmap": [
           {
            "colorbar": {
             "outlinewidth": 0,
             "ticks": ""
            },
            "colorscale": [
             [
              0,
              "#0d0887"
             ],
             [
              0.1111111111111111,
              "#46039f"
             ],
             [
              0.2222222222222222,
              "#7201a8"
             ],
             [
              0.3333333333333333,
              "#9c179e"
             ],
             [
              0.4444444444444444,
              "#bd3786"
             ],
             [
              0.5555555555555556,
              "#d8576b"
             ],
             [
              0.6666666666666666,
              "#ed7953"
             ],
             [
              0.7777777777777778,
              "#fb9f3a"
             ],
             [
              0.8888888888888888,
              "#fdca26"
             ],
             [
              1,
              "#f0f921"
             ]
            ],
            "type": "heatmap"
           }
          ],
          "heatmapgl": [
           {
            "colorbar": {
             "outlinewidth": 0,
             "ticks": ""
            },
            "colorscale": [
             [
              0,
              "#0d0887"
             ],
             [
              0.1111111111111111,
              "#46039f"
             ],
             [
              0.2222222222222222,
              "#7201a8"
             ],
             [
              0.3333333333333333,
              "#9c179e"
             ],
             [
              0.4444444444444444,
              "#bd3786"
             ],
             [
              0.5555555555555556,
              "#d8576b"
             ],
             [
              0.6666666666666666,
              "#ed7953"
             ],
             [
              0.7777777777777778,
              "#fb9f3a"
             ],
             [
              0.8888888888888888,
              "#fdca26"
             ],
             [
              1,
              "#f0f921"
             ]
            ],
            "type": "heatmapgl"
           }
          ],
          "histogram": [
           {
            "marker": {
             "pattern": {
              "fillmode": "overlay",
              "size": 10,
              "solidity": 0.2
             }
            },
            "type": "histogram"
           }
          ],
          "histogram2d": [
           {
            "colorbar": {
             "outlinewidth": 0,
             "ticks": ""
            },
            "colorscale": [
             [
              0,
              "#0d0887"
             ],
             [
              0.1111111111111111,
              "#46039f"
             ],
             [
              0.2222222222222222,
              "#7201a8"
             ],
             [
              0.3333333333333333,
              "#9c179e"
             ],
             [
              0.4444444444444444,
              "#bd3786"
             ],
             [
              0.5555555555555556,
              "#d8576b"
             ],
             [
              0.6666666666666666,
              "#ed7953"
             ],
             [
              0.7777777777777778,
              "#fb9f3a"
             ],
             [
              0.8888888888888888,
              "#fdca26"
             ],
             [
              1,
              "#f0f921"
             ]
            ],
            "type": "histogram2d"
           }
          ],
          "histogram2dcontour": [
           {
            "colorbar": {
             "outlinewidth": 0,
             "ticks": ""
            },
            "colorscale": [
             [
              0,
              "#0d0887"
             ],
             [
              0.1111111111111111,
              "#46039f"
             ],
             [
              0.2222222222222222,
              "#7201a8"
             ],
             [
              0.3333333333333333,
              "#9c179e"
             ],
             [
              0.4444444444444444,
              "#bd3786"
             ],
             [
              0.5555555555555556,
              "#d8576b"
             ],
             [
              0.6666666666666666,
              "#ed7953"
             ],
             [
              0.7777777777777778,
              "#fb9f3a"
             ],
             [
              0.8888888888888888,
              "#fdca26"
             ],
             [
              1,
              "#f0f921"
             ]
            ],
            "type": "histogram2dcontour"
           }
          ],
          "mesh3d": [
           {
            "colorbar": {
             "outlinewidth": 0,
             "ticks": ""
            },
            "type": "mesh3d"
           }
          ],
          "parcoords": [
           {
            "line": {
             "colorbar": {
              "outlinewidth": 0,
              "ticks": ""
             }
            },
            "type": "parcoords"
           }
          ],
          "pie": [
           {
            "automargin": true,
            "type": "pie"
           }
          ],
          "scatter": [
           {
            "fillpattern": {
             "fillmode": "overlay",
             "size": 10,
             "solidity": 0.2
            },
            "type": "scatter"
           }
          ],
          "scatter3d": [
           {
            "line": {
             "colorbar": {
              "outlinewidth": 0,
              "ticks": ""
             }
            },
            "marker": {
             "colorbar": {
              "outlinewidth": 0,
              "ticks": ""
             }
            },
            "type": "scatter3d"
           }
          ],
          "scattercarpet": [
           {
            "marker": {
             "colorbar": {
              "outlinewidth": 0,
              "ticks": ""
             }
            },
            "type": "scattercarpet"
           }
          ],
          "scattergeo": [
           {
            "marker": {
             "colorbar": {
              "outlinewidth": 0,
              "ticks": ""
             }
            },
            "type": "scattergeo"
           }
          ],
          "scattergl": [
           {
            "marker": {
             "colorbar": {
              "outlinewidth": 0,
              "ticks": ""
             }
            },
            "type": "scattergl"
           }
          ],
          "scattermapbox": [
           {
            "marker": {
             "colorbar": {
              "outlinewidth": 0,
              "ticks": ""
             }
            },
            "type": "scattermapbox"
           }
          ],
          "scatterpolar": [
           {
            "marker": {
             "colorbar": {
              "outlinewidth": 0,
              "ticks": ""
             }
            },
            "type": "scatterpolar"
           }
          ],
          "scatterpolargl": [
           {
            "marker": {
             "colorbar": {
              "outlinewidth": 0,
              "ticks": ""
             }
            },
            "type": "scatterpolargl"
           }
          ],
          "scatterternary": [
           {
            "marker": {
             "colorbar": {
              "outlinewidth": 0,
              "ticks": ""
             }
            },
            "type": "scatterternary"
           }
          ],
          "surface": [
           {
            "colorbar": {
             "outlinewidth": 0,
             "ticks": ""
            },
            "colorscale": [
             [
              0,
              "#0d0887"
             ],
             [
              0.1111111111111111,
              "#46039f"
             ],
             [
              0.2222222222222222,
              "#7201a8"
             ],
             [
              0.3333333333333333,
              "#9c179e"
             ],
             [
              0.4444444444444444,
              "#bd3786"
             ],
             [
              0.5555555555555556,
              "#d8576b"
             ],
             [
              0.6666666666666666,
              "#ed7953"
             ],
             [
              0.7777777777777778,
              "#fb9f3a"
             ],
             [
              0.8888888888888888,
              "#fdca26"
             ],
             [
              1,
              "#f0f921"
             ]
            ],
            "type": "surface"
           }
          ],
          "table": [
           {
            "cells": {
             "fill": {
              "color": "#EBF0F8"
             },
             "line": {
              "color": "white"
             }
            },
            "header": {
             "fill": {
              "color": "#C8D4E3"
             },
             "line": {
              "color": "white"
             }
            },
            "type": "table"
           }
          ]
         },
         "layout": {
          "annotationdefaults": {
           "arrowcolor": "#2a3f5f",
           "arrowhead": 0,
           "arrowwidth": 1
          },
          "autotypenumbers": "strict",
          "coloraxis": {
           "colorbar": {
            "outlinewidth": 0,
            "ticks": ""
           }
          },
          "colorscale": {
           "diverging": [
            [
             0,
             "#8e0152"
            ],
            [
             0.1,
             "#c51b7d"
            ],
            [
             0.2,
             "#de77ae"
            ],
            [
             0.3,
             "#f1b6da"
            ],
            [
             0.4,
             "#fde0ef"
            ],
            [
             0.5,
             "#f7f7f7"
            ],
            [
             0.6,
             "#e6f5d0"
            ],
            [
             0.7,
             "#b8e186"
            ],
            [
             0.8,
             "#7fbc41"
            ],
            [
             0.9,
             "#4d9221"
            ],
            [
             1,
             "#276419"
            ]
           ],
           "sequential": [
            [
             0,
             "#0d0887"
            ],
            [
             0.1111111111111111,
             "#46039f"
            ],
            [
             0.2222222222222222,
             "#7201a8"
            ],
            [
             0.3333333333333333,
             "#9c179e"
            ],
            [
             0.4444444444444444,
             "#bd3786"
            ],
            [
             0.5555555555555556,
             "#d8576b"
            ],
            [
             0.6666666666666666,
             "#ed7953"
            ],
            [
             0.7777777777777778,
             "#fb9f3a"
            ],
            [
             0.8888888888888888,
             "#fdca26"
            ],
            [
             1,
             "#f0f921"
            ]
           ],
           "sequentialminus": [
            [
             0,
             "#0d0887"
            ],
            [
             0.1111111111111111,
             "#46039f"
            ],
            [
             0.2222222222222222,
             "#7201a8"
            ],
            [
             0.3333333333333333,
             "#9c179e"
            ],
            [
             0.4444444444444444,
             "#bd3786"
            ],
            [
             0.5555555555555556,
             "#d8576b"
            ],
            [
             0.6666666666666666,
             "#ed7953"
            ],
            [
             0.7777777777777778,
             "#fb9f3a"
            ],
            [
             0.8888888888888888,
             "#fdca26"
            ],
            [
             1,
             "#f0f921"
            ]
           ]
          },
          "colorway": [
           "#636efa",
           "#EF553B",
           "#00cc96",
           "#ab63fa",
           "#FFA15A",
           "#19d3f3",
           "#FF6692",
           "#B6E880",
           "#FF97FF",
           "#FECB52"
          ],
          "font": {
           "color": "#2a3f5f"
          },
          "geo": {
           "bgcolor": "white",
           "lakecolor": "white",
           "landcolor": "#E5ECF6",
           "showlakes": true,
           "showland": true,
           "subunitcolor": "white"
          },
          "hoverlabel": {
           "align": "left"
          },
          "hovermode": "closest",
          "mapbox": {
           "style": "light"
          },
          "paper_bgcolor": "white",
          "plot_bgcolor": "#E5ECF6",
          "polar": {
           "angularaxis": {
            "gridcolor": "white",
            "linecolor": "white",
            "ticks": ""
           },
           "bgcolor": "#E5ECF6",
           "radialaxis": {
            "gridcolor": "white",
            "linecolor": "white",
            "ticks": ""
           }
          },
          "scene": {
           "xaxis": {
            "backgroundcolor": "#E5ECF6",
            "gridcolor": "white",
            "gridwidth": 2,
            "linecolor": "white",
            "showbackground": true,
            "ticks": "",
            "zerolinecolor": "white"
           },
           "yaxis": {
            "backgroundcolor": "#E5ECF6",
            "gridcolor": "white",
            "gridwidth": 2,
            "linecolor": "white",
            "showbackground": true,
            "ticks": "",
            "zerolinecolor": "white"
           },
           "zaxis": {
            "backgroundcolor": "#E5ECF6",
            "gridcolor": "white",
            "gridwidth": 2,
            "linecolor": "white",
            "showbackground": true,
            "ticks": "",
            "zerolinecolor": "white"
           }
          },
          "shapedefaults": {
           "line": {
            "color": "#2a3f5f"
           }
          },
          "ternary": {
           "aaxis": {
            "gridcolor": "white",
            "linecolor": "white",
            "ticks": ""
           },
           "baxis": {
            "gridcolor": "white",
            "linecolor": "white",
            "ticks": ""
           },
           "bgcolor": "#E5ECF6",
           "caxis": {
            "gridcolor": "white",
            "linecolor": "white",
            "ticks": ""
           }
          },
          "title": {
           "x": 0.05
          },
          "xaxis": {
           "automargin": true,
           "gridcolor": "white",
           "linecolor": "white",
           "ticks": "",
           "title": {
            "standoff": 15
           },
           "zerolinecolor": "white",
           "zerolinewidth": 2
          },
          "yaxis": {
           "automargin": true,
           "gridcolor": "white",
           "linecolor": "white",
           "ticks": "",
           "title": {
            "standoff": 15
           },
           "zerolinecolor": "white",
           "zerolinewidth": 2
          }
         }
        }
       }
      },
      "text/html": [
       "<div>                            <div id=\"a91d1c61-1f13-4767-addb-30f8eb4d2f63\" class=\"plotly-graph-div\" style=\"height:525px; width:100%;\"></div>            <script type=\"text/javascript\">                require([\"plotly\"], function(Plotly) {                    window.PLOTLYENV=window.PLOTLYENV || {};                                    if (document.getElementById(\"a91d1c61-1f13-4767-addb-30f8eb4d2f63\")) {                    Plotly.newPlot(                        \"a91d1c61-1f13-4767-addb-30f8eb4d2f63\",                        [{\"cells\":{\"values\":[[\"1.44\",\"1.39\",\"1.37\",\"1.42\",\"1.35\",\"1.32\",\"1.27\",\"1.28\",\"1.38\",\"1.43\",\"1.36\",\"1.34\",\"1.41\",\"1.33\",\"1.40\"],[3,735,1,5,10,1,1,1,6,3,1,3,4,1,2]]},\"header\":{\"values\":[\"Version\",\"Count\"]},\"type\":\"table\"}],                        {\"template\":{\"data\":{\"histogram2dcontour\":[{\"type\":\"histogram2dcontour\",\"colorbar\":{\"outlinewidth\":0,\"ticks\":\"\"},\"colorscale\":[[0.0,\"#0d0887\"],[0.1111111111111111,\"#46039f\"],[0.2222222222222222,\"#7201a8\"],[0.3333333333333333,\"#9c179e\"],[0.4444444444444444,\"#bd3786\"],[0.5555555555555556,\"#d8576b\"],[0.6666666666666666,\"#ed7953\"],[0.7777777777777778,\"#fb9f3a\"],[0.8888888888888888,\"#fdca26\"],[1.0,\"#f0f921\"]]}],\"choropleth\":[{\"type\":\"choropleth\",\"colorbar\":{\"outlinewidth\":0,\"ticks\":\"\"}}],\"histogram2d\":[{\"type\":\"histogram2d\",\"colorbar\":{\"outlinewidth\":0,\"ticks\":\"\"},\"colorscale\":[[0.0,\"#0d0887\"],[0.1111111111111111,\"#46039f\"],[0.2222222222222222,\"#7201a8\"],[0.3333333333333333,\"#9c179e\"],[0.4444444444444444,\"#bd3786\"],[0.5555555555555556,\"#d8576b\"],[0.6666666666666666,\"#ed7953\"],[0.7777777777777778,\"#fb9f3a\"],[0.8888888888888888,\"#fdca26\"],[1.0,\"#f0f921\"]]}],\"heatmap\":[{\"type\":\"heatmap\",\"colorbar\":{\"outlinewidth\":0,\"ticks\":\"\"},\"colorscale\":[[0.0,\"#0d0887\"],[0.1111111111111111,\"#46039f\"],[0.2222222222222222,\"#7201a8\"],[0.3333333333333333,\"#9c179e\"],[0.4444444444444444,\"#bd3786\"],[0.5555555555555556,\"#d8576b\"],[0.6666666666666666,\"#ed7953\"],[0.7777777777777778,\"#fb9f3a\"],[0.8888888888888888,\"#fdca26\"],[1.0,\"#f0f921\"]]}],\"heatmapgl\":[{\"type\":\"heatmapgl\",\"colorbar\":{\"outlinewidth\":0,\"ticks\":\"\"},\"colorscale\":[[0.0,\"#0d0887\"],[0.1111111111111111,\"#46039f\"],[0.2222222222222222,\"#7201a8\"],[0.3333333333333333,\"#9c179e\"],[0.4444444444444444,\"#bd3786\"],[0.5555555555555556,\"#d8576b\"],[0.6666666666666666,\"#ed7953\"],[0.7777777777777778,\"#fb9f3a\"],[0.8888888888888888,\"#fdca26\"],[1.0,\"#f0f921\"]]}],\"contourcarpet\":[{\"type\":\"contourcarpet\",\"colorbar\":{\"outlinewidth\":0,\"ticks\":\"\"}}],\"contour\":[{\"type\":\"contour\",\"colorbar\":{\"outlinewidth\":0,\"ticks\":\"\"},\"colorscale\":[[0.0,\"#0d0887\"],[0.1111111111111111,\"#46039f\"],[0.2222222222222222,\"#7201a8\"],[0.3333333333333333,\"#9c179e\"],[0.4444444444444444,\"#bd3786\"],[0.5555555555555556,\"#d8576b\"],[0.6666666666666666,\"#ed7953\"],[0.7777777777777778,\"#fb9f3a\"],[0.8888888888888888,\"#fdca26\"],[1.0,\"#f0f921\"]]}],\"surface\":[{\"type\":\"surface\",\"colorbar\":{\"outlinewidth\":0,\"ticks\":\"\"},\"colorscale\":[[0.0,\"#0d0887\"],[0.1111111111111111,\"#46039f\"],[0.2222222222222222,\"#7201a8\"],[0.3333333333333333,\"#9c179e\"],[0.4444444444444444,\"#bd3786\"],[0.5555555555555556,\"#d8576b\"],[0.6666666666666666,\"#ed7953\"],[0.7777777777777778,\"#fb9f3a\"],[0.8888888888888888,\"#fdca26\"],[1.0,\"#f0f921\"]]}],\"mesh3d\":[{\"type\":\"mesh3d\",\"colorbar\":{\"outlinewidth\":0,\"ticks\":\"\"}}],\"scatter\":[{\"fillpattern\":{\"fillmode\":\"overlay\",\"size\":10,\"solidity\":0.2},\"type\":\"scatter\"}],\"parcoords\":[{\"type\":\"parcoords\",\"line\":{\"colorbar\":{\"outlinewidth\":0,\"ticks\":\"\"}}}],\"scatterpolargl\":[{\"type\":\"scatterpolargl\",\"marker\":{\"colorbar\":{\"outlinewidth\":0,\"ticks\":\"\"}}}],\"bar\":[{\"error_x\":{\"color\":\"#2a3f5f\"},\"error_y\":{\"color\":\"#2a3f5f\"},\"marker\":{\"line\":{\"color\":\"#E5ECF6\",\"width\":0.5},\"pattern\":{\"fillmode\":\"overlay\",\"size\":10,\"solidity\":0.2}},\"type\":\"bar\"}],\"scattergeo\":[{\"type\":\"scattergeo\",\"marker\":{\"colorbar\":{\"outlinewidth\":0,\"ticks\":\"\"}}}],\"scatterpolar\":[{\"type\":\"scatterpolar\",\"marker\":{\"colorbar\":{\"outlinewidth\":0,\"ticks\":\"\"}}}],\"histogram\":[{\"marker\":{\"pattern\":{\"fillmode\":\"overlay\",\"size\":10,\"solidity\":0.2}},\"type\":\"histogram\"}],\"scattergl\":[{\"type\":\"scattergl\",\"marker\":{\"colorbar\":{\"outlinewidth\":0,\"ticks\":\"\"}}}],\"scatter3d\":[{\"type\":\"scatter3d\",\"line\":{\"colorbar\":{\"outlinewidth\":0,\"ticks\":\"\"}},\"marker\":{\"colorbar\":{\"outlinewidth\":0,\"ticks\":\"\"}}}],\"scattermapbox\":[{\"type\":\"scattermapbox\",\"marker\":{\"colorbar\":{\"outlinewidth\":0,\"ticks\":\"\"}}}],\"scatterternary\":[{\"type\":\"scatterternary\",\"marker\":{\"colorbar\":{\"outlinewidth\":0,\"ticks\":\"\"}}}],\"scattercarpet\":[{\"type\":\"scattercarpet\",\"marker\":{\"colorbar\":{\"outlinewidth\":0,\"ticks\":\"\"}}}],\"carpet\":[{\"aaxis\":{\"endlinecolor\":\"#2a3f5f\",\"gridcolor\":\"white\",\"linecolor\":\"white\",\"minorgridcolor\":\"white\",\"startlinecolor\":\"#2a3f5f\"},\"baxis\":{\"endlinecolor\":\"#2a3f5f\",\"gridcolor\":\"white\",\"linecolor\":\"white\",\"minorgridcolor\":\"white\",\"startlinecolor\":\"#2a3f5f\"},\"type\":\"carpet\"}],\"table\":[{\"cells\":{\"fill\":{\"color\":\"#EBF0F8\"},\"line\":{\"color\":\"white\"}},\"header\":{\"fill\":{\"color\":\"#C8D4E3\"},\"line\":{\"color\":\"white\"}},\"type\":\"table\"}],\"barpolar\":[{\"marker\":{\"line\":{\"color\":\"#E5ECF6\",\"width\":0.5},\"pattern\":{\"fillmode\":\"overlay\",\"size\":10,\"solidity\":0.2}},\"type\":\"barpolar\"}],\"pie\":[{\"automargin\":true,\"type\":\"pie\"}]},\"layout\":{\"autotypenumbers\":\"strict\",\"colorway\":[\"#636efa\",\"#EF553B\",\"#00cc96\",\"#ab63fa\",\"#FFA15A\",\"#19d3f3\",\"#FF6692\",\"#B6E880\",\"#FF97FF\",\"#FECB52\"],\"font\":{\"color\":\"#2a3f5f\"},\"hovermode\":\"closest\",\"hoverlabel\":{\"align\":\"left\"},\"paper_bgcolor\":\"white\",\"plot_bgcolor\":\"#E5ECF6\",\"polar\":{\"bgcolor\":\"#E5ECF6\",\"angularaxis\":{\"gridcolor\":\"white\",\"linecolor\":\"white\",\"ticks\":\"\"},\"radialaxis\":{\"gridcolor\":\"white\",\"linecolor\":\"white\",\"ticks\":\"\"}},\"ternary\":{\"bgcolor\":\"#E5ECF6\",\"aaxis\":{\"gridcolor\":\"white\",\"linecolor\":\"white\",\"ticks\":\"\"},\"baxis\":{\"gridcolor\":\"white\",\"linecolor\":\"white\",\"ticks\":\"\"},\"caxis\":{\"gridcolor\":\"white\",\"linecolor\":\"white\",\"ticks\":\"\"}},\"coloraxis\":{\"colorbar\":{\"outlinewidth\":0,\"ticks\":\"\"}},\"colorscale\":{\"sequential\":[[0.0,\"#0d0887\"],[0.1111111111111111,\"#46039f\"],[0.2222222222222222,\"#7201a8\"],[0.3333333333333333,\"#9c179e\"],[0.4444444444444444,\"#bd3786\"],[0.5555555555555556,\"#d8576b\"],[0.6666666666666666,\"#ed7953\"],[0.7777777777777778,\"#fb9f3a\"],[0.8888888888888888,\"#fdca26\"],[1.0,\"#f0f921\"]],\"sequentialminus\":[[0.0,\"#0d0887\"],[0.1111111111111111,\"#46039f\"],[0.2222222222222222,\"#7201a8\"],[0.3333333333333333,\"#9c179e\"],[0.4444444444444444,\"#bd3786\"],[0.5555555555555556,\"#d8576b\"],[0.6666666666666666,\"#ed7953\"],[0.7777777777777778,\"#fb9f3a\"],[0.8888888888888888,\"#fdca26\"],[1.0,\"#f0f921\"]],\"diverging\":[[0,\"#8e0152\"],[0.1,\"#c51b7d\"],[0.2,\"#de77ae\"],[0.3,\"#f1b6da\"],[0.4,\"#fde0ef\"],[0.5,\"#f7f7f7\"],[0.6,\"#e6f5d0\"],[0.7,\"#b8e186\"],[0.8,\"#7fbc41\"],[0.9,\"#4d9221\"],[1,\"#276419\"]]},\"xaxis\":{\"gridcolor\":\"white\",\"linecolor\":\"white\",\"ticks\":\"\",\"title\":{\"standoff\":15},\"zerolinecolor\":\"white\",\"automargin\":true,\"zerolinewidth\":2},\"yaxis\":{\"gridcolor\":\"white\",\"linecolor\":\"white\",\"ticks\":\"\",\"title\":{\"standoff\":15},\"zerolinecolor\":\"white\",\"automargin\":true,\"zerolinewidth\":2},\"scene\":{\"xaxis\":{\"backgroundcolor\":\"#E5ECF6\",\"gridcolor\":\"white\",\"linecolor\":\"white\",\"showbackground\":true,\"ticks\":\"\",\"zerolinecolor\":\"white\",\"gridwidth\":2},\"yaxis\":{\"backgroundcolor\":\"#E5ECF6\",\"gridcolor\":\"white\",\"linecolor\":\"white\",\"showbackground\":true,\"ticks\":\"\",\"zerolinecolor\":\"white\",\"gridwidth\":2},\"zaxis\":{\"backgroundcolor\":\"#E5ECF6\",\"gridcolor\":\"white\",\"linecolor\":\"white\",\"showbackground\":true,\"ticks\":\"\",\"zerolinecolor\":\"white\",\"gridwidth\":2}},\"shapedefaults\":{\"line\":{\"color\":\"#2a3f5f\"}},\"annotationdefaults\":{\"arrowcolor\":\"#2a3f5f\",\"arrowhead\":0,\"arrowwidth\":1},\"geo\":{\"bgcolor\":\"white\",\"landcolor\":\"#E5ECF6\",\"subunitcolor\":\"white\",\"showland\":true,\"showlakes\":true,\"lakecolor\":\"white\"},\"title\":{\"x\":0.05},\"mapbox\":{\"style\":\"light\"}}}},                        {\"responsive\": true}                    ).then(function(){\n",
       "                            \n",
       "var gd = document.getElementById('a91d1c61-1f13-4767-addb-30f8eb4d2f63');\n",
       "var x = new MutationObserver(function (mutations, observer) {{\n",
       "        var display = window.getComputedStyle(gd).display;\n",
       "        if (!display || display === 'none') {{\n",
       "            console.log([gd, 'removed!']);\n",
       "            Plotly.purge(gd);\n",
       "            observer.disconnect();\n",
       "        }}\n",
       "}});\n",
       "\n",
       "// Listen for the removal of the full notebook cells\n",
       "var notebookContainer = gd.closest('#notebook-container');\n",
       "if (notebookContainer) {{\n",
       "    x.observe(notebookContainer, {childList: true});\n",
       "}}\n",
       "\n",
       "// Listen for the clearing of the current output cell\n",
       "var outputEl = gd.closest('.output');\n",
       "if (outputEl) {{\n",
       "    x.observe(outputEl, {childList: true});\n",
       "}}\n",
       "\n",
       "                        })                };                });            </script>        </div>"
      ]
     },
     "metadata": {},
     "output_type": "display_data"
    }
   ],
   "source": [
    "# Display a table underneath that just shows the grouped versions (including 1.39.7 thought) and the counts\n",
    "df = pd.DataFrame(list(grouped_version_counts.items()), columns=['Version', 'Count'])\n",
    "fig = go.Figure(data=[go.Table(header=dict(values=['Version', 'Count']),\n",
    "                               cells=dict(values=[df['Version'], df['Count']]))\n",
    "                     ])\n",
    "fig.show()"
   ]
  },
  {
   "cell_type": "code",
   "execution_count": 77,
   "metadata": {},
   "outputs": [
    {
     "name": "stdout",
     "output_type": "stream",
     "text": [
      "Wikibases with properties:  777\n",
      "Wikibases with properties, and more than 10 pages:  600\n",
      "Wikibases with properties, and more than 10 pages, and 1 or more active users:  264\n",
      "Wikibases with properties, and more than 10 pages, and 2 or more active users:  129\n",
      "Wikibases that link to other wikibases:  194\n",
      "Wikibases that only link to non Wikimedia Foundation wikibases:  5\n",
      "Wikibases that link to other wikibases, excluding Wikimedia Foundation:  35\n"
     ]
    }
   ],
   "source": [
    "print(\"Wikibases with properties: \", len({k: v for k, v in item_map.items() if v.get('properties', [0])[0] > 0}))\n",
    "print(\"Wikibases with properties, and more than 10 pages: \", len({k: v for k, v in item_map.items() if v.get('properties', [0])[0] > 0 and v.get('pages', [0])[0] > 10}))\n",
    "print(\"Wikibases with properties, and more than 10 pages, and 1 or more active users: \", len({k: v for k, v in item_map.items() if v.get('properties', [0])[0] > 0 and v.get('users_active', [0])[0] >= 1 and v.get('pages', [0])[0] > 10}))\n",
    "print(\"Wikibases with properties, and more than 10 pages, and 2 or more active users: \", len({k: v for k, v in item_map.items() if v.get('properties', [0])[0] > 0 and v.get('users_active', [0])[0] >= 2 and v.get('pages', [0])[0] > 10}))\n",
    "print(\"Wikibases that link to other wikibases: \", len({k: v for k, v in item_map.items() if v.get('links_to')}))\n",
    "print(\"Wikibases that only link to non Wikimedia Foundation wikibases: \", len({k: v for k, v in item_map.items() if v.get('links_to') and not set(v.get('links_to')).intersection({'Q1', 'Q2'})}))\n",
    "# for k, v in item_map.items():\n",
    "#     if v.get('links_to') and not set(v.get('links_to')).intersection({'Q1', 'Q2'}):\n",
    "#         print(\" - \", k, v.get('label', k), v.get('links_to'))\n",
    "print(\"Wikibases that link to other wikibases, excluding Wikimedia Foundation: \", len({k: v for k, v in item_map.items() if v.get('links_to') and len(set(v.get('links_to')) - {'Q1', 'Q2'}) > 0}))\n",
    "# for k, v in item_map.items():\n",
    "#     if v.get('links_to') and len(set(v.get('links_to')) - {'Q1', 'Q2'}) > 0:\n",
    "#         print(\" - \", k, v.get('label', k), v.get('links_to'))"
   ]
  },
  {
   "cell_type": "code",
   "execution_count": null,
   "metadata": {},
   "outputs": [],
   "source": [
    "# Random suite ramblings and estimates below here..."
   ]
  },
  {
   "cell_type": "code",
   "execution_count": null,
   "metadata": {},
   "outputs": [
    {
     "name": "stdout",
     "output_type": "stream",
     "text": [
      "Different versions:  37\n"
     ]
    },
    {
     "data": {
      "text/plain": [
       "{'1.44.0-wmf.16': 2,\n",
       " '1.39.7': 712,\n",
       " '1.39.1': 5,\n",
       " '1.39.4': 3,\n",
       " '1.39.11': 8,\n",
       " '1.37.0-alpha': 1,\n",
       " '1.39.10': 2,\n",
       " '1.42.4': 1,\n",
       " '1.35.2': 3,\n",
       " '1.44.0-wmf.15': 1,\n",
       " '1.39.5': 2,\n",
       " '1.35.1': 2,\n",
       " '1.42.1': 3,\n",
       " '1.32.5': 1,\n",
       " '1.27.0-rc.1': 1,\n",
       " '1.28.2': 1,\n",
       " '1.35.3': 1,\n",
       " '1.38.5': 6,\n",
       " '1.35.7': 1,\n",
       " '1.43.0-wmf.7': 1,\n",
       " '1.39.3': 1,\n",
       " '1.36.1': 1,\n",
       " '1.43.0': 2,\n",
       " '1.34.2': 1,\n",
       " '1.34.1': 1,\n",
       " '1.41.1': 2,\n",
       " '1.33.0': 1,\n",
       " '1.41.4': 1,\n",
       " '1.40.1': 1,\n",
       " '1.35.5': 2,\n",
       " '1.39.6': 1,\n",
       " '1.39.2': 1,\n",
       " '1.34.4': 1,\n",
       " '1.40.0-wmf.26': 1,\n",
       " '1.41.0': 1,\n",
       " '1.42.3': 1,\n",
       " '1.35.4': 1}"
      ]
     },
     "execution_count": 78,
     "metadata": {},
     "output_type": "execute_result"
    }
   ],
   "source": [
    "import csv\n",
    "\n",
    "# show how many different versions there are across all wikibases\n",
    "versions = set()\n",
    "for key in item_map:\n",
    "    versions.update(item_map[key].get('version', []))\n",
    "print(\"Different versions: \", len(versions))\n",
    "# Convert the set to a sorted list\n",
    "sorted_versions = sorted(versions)\n",
    "\n",
    "# Display the sorted versions\n",
    "sorted_versions\n",
    "\n",
    "# and output how many wikibases are using each version\n",
    "version_counts = {}\n",
    "for key in item_map:\n",
    "    for version in item_map[key].get('version', []):\n",
    "        if version not in version_counts:\n",
    "            version_counts[version] = 0\n",
    "        version_counts[version] += 1\n",
    "\n",
    "# Display the version counts\n",
    "version_counts"
   ]
  },
  {
   "cell_type": "code",
   "execution_count": 79,
   "metadata": {},
   "outputs": [
    {
     "data": {
      "text/plain": [
       "['1.29.0',\n",
       " '1.30.0',\n",
       " '1.31.0',\n",
       " '1.32.0',\n",
       " '1.33.0',\n",
       " '1.34.0',\n",
       " '1.35.0',\n",
       " '1.35.2',\n",
       " '1.35.4',\n",
       " '1.35.5',\n",
       " '1.35.7',\n",
       " '1.36.3',\n",
       " '1.36.4',\n",
       " '1.37.6',\n",
       " '1.38.5',\n",
       " '1.38.7',\n",
       " '1.39.1',\n",
       " '1.39.10',\n",
       " '1.39.5',\n",
       " '1.39.6',\n",
       " '1.39.7',\n",
       " '1.39.8',\n",
       " '1.40.1',\n",
       " '1.40.2',\n",
       " '1.40.3',\n",
       " '1.41.0',\n",
       " '1.41.1',\n",
       " '1.41.2',\n",
       " '1.42.1',\n",
       " '1.42.3']"
      ]
     },
     "execution_count": 79,
     "metadata": {},
     "output_type": "execute_result"
    }
   ],
   "source": [
    "# curl -L -s 'https://registry.hub.docker.com/v2/repositories/wikibase/wikibase/tags?page_size=1024'|jq '.\"results\"[][\"name\"]'\n",
    "versions_list = [\n",
    "    \"mw1.39.10\", \"1.0\", \"1\", \"1.0.1\", \"mw1.42.3\", \"3.0\", \"3\", \"3.0.2\", \"mw1.42.1\", \"3.0.1\",\n",
    "    \"1.0.0-mw1.39.8\", \"3.0.0-mw1.42.1\", \"1.0.0\", \"1.0.0-build20240715120214\", \"3.0.0\", \"3.0.0-build20240715120210\",\n",
    "    \"2.0.0-mw1.41.2\", \"2\", \"2.0\", \"2.0.0\", \"2.0.0-build20240715114241\", \"1.39.7-wmde.18\", \"1.41.1-wmde.20\",\n",
    "    \"1.40.3-wmde.19\", \"1.41.0-wmde.17\", \"1.40.2-wmde.16\", \"1.39.6-wmde.15\", \"1.40.1-wmde.14\", \"1.39.5-wmde.13\",\n",
    "    \"1.38.7-wmde.12\", \"1.39.1-wmde.11\", \"1.38.5-wmde.10\", \"1.37.6-wmde.9\", \"1.36.4-wmde.8\", \"1.35.7-wmde.7\",\n",
    "    \"1.35.7-wmdeprerelease\", \"1.35.5-wmde.6\", \"1.36.3-wmde.5\", \"1.36.3-wmde.4\", \"1.35.5-wmde.3\", \"1.35.4-wmde.2\",\n",
    "    \"1.31-bundle\", \"1.31-base\", \"1.31\", \"1.35-bundle\", \"1.35-base\", \"1.35\", \"1.35.2-wmde.1\", \"1.35.0-wmde.0\",\n",
    "    \"1.34-bundle\", \"1.34-base\", \"1.34\", \"1.33-bundle\", \"1.33-base\", \"1.33\", \"1.32-bundle\", \"1.32-base\", \"1.32\",\n",
    "    \"1.30-bundle\", \"1.30-base\", \"1.30\", \"1.29\"\n",
    "]\n",
    "\n",
    "# normalize the versions\n",
    "# remove -base and -bundle\n",
    "versions_list = [v.replace('-base', '').replace('-bundle', '') for v in versions_list]\n",
    "# remove anything with \"build\" in it\n",
    "versions_list = [v for v in versions_list if 'build' not in v]\n",
    "# if the version has \"mw\" in it, just use the bit after it\n",
    "versions_list = [v.split('mw')[-1] for v in versions_list]\n",
    "# if there is -wmde. in it, just use the bit before\n",
    "versions_list = [v.split('-wmde.')[0] for v in versions_list]\n",
    "# remove things with -wmdeprerelease too\n",
    "versions_list = [v for v in versions_list if 'wmdeprerelease' not in v]\n",
    "\n",
    "# If we now have sometihng that matches only 1.\\d.\\d, then also add .0 to the end\n",
    "# As main releases often didnt include the .0?\n",
    "versions_list = [v + '.0' if len(v.split('.')) == 2 else v for v in versions_list]\n",
    "\n",
    "# remove anything that is just 1 or 3 chars long\n",
    "versions_list = [v for v in versions_list if len(v) > 3]\n",
    "# remove anything that doesnt start with 1.\n",
    "versions_list = [v for v in versions_list if v.startswith('1.')]\n",
    "# everything already requires 2 .s in it\n",
    "versions_list = [v for v in versions_list if v.count('.') == 2]\n",
    "# remove anything that is 1.0*\n",
    "versions_list = [v for v in versions_list if not v.startswith('1.0')]\n",
    "\n",
    "# Make it unique\n",
    "versions_list = list(set(versions_list))\n",
    "# sort it\n",
    "versions_list.sort()\n",
    "\n",
    "versions_list"
   ]
  },
  {
   "cell_type": "code",
   "execution_count": 80,
   "metadata": {},
   "outputs": [
    {
     "name": "stdout",
     "output_type": "stream",
     "text": [
      "Wikibases with versions in the list, excluding Wikibase Cloud:  33\n",
      "Wikibases without versions in the list, excluding Wikibase Cloud:  33\n",
      "Wikibase Cloud instances:  711\n"
     ]
    }
   ],
   "source": [
    "# See how many of the items versions are in the versions_list, excluding Wikibase Cloud as the host_label\n",
    "versions_in_list = {k: v for k, v in item_map.items() if v.get('version', ['unknown'])[0] in versions_list and v.get('host_label') != 'Wikibase Cloud'}\n",
    "print(\"Wikibases with versions in the list, excluding Wikibase Cloud: \", len(versions_in_list))\n",
    "# Also show the number of wikibases without versions in the list (excluding Wikibase Cloud)\n",
    "versions_not_in_list = {k: v for k, v in item_map.items() if v.get('version', ['unknown'])[0] not in versions_list and v.get('host_label') != 'Wikibase Cloud'}\n",
    "print(\"Wikibases without versions in the list, excluding Wikibase Cloud: \", len(versions_not_in_list))\n",
    "# And show how many wikibase cloud instances there are (that we then excluded)\n",
    "wikibase_cloud = {k: v for k, v in item_map.items() if v.get('host_label') == 'Wikibase Cloud'}\n",
    "print(\"Wikibase Cloud instances: \", len(wikibase_cloud))"
   ]
  },
  {
   "cell_type": "code",
   "execution_count": 81,
   "metadata": {},
   "outputs": [
    {
     "data": {
      "application/vnd.plotly.v1+json": {
       "config": {
        "plotlyServerURL": "https://plot.ly"
       },
       "data": [
        {
         "insidetextorientation": "radial",
         "labels": [
          "Suite Installations?",
          "Other Methods?",
          "Wikibase Cloud"
         ],
         "textinfo": "label+percent",
         "type": "pie",
         "values": [
          16,
          50,
          711
         ]
        }
       ],
       "layout": {
        "height": 500,
        "template": {
         "data": {
          "bar": [
           {
            "error_x": {
             "color": "#2a3f5f"
            },
            "error_y": {
             "color": "#2a3f5f"
            },
            "marker": {
             "line": {
              "color": "#E5ECF6",
              "width": 0.5
             },
             "pattern": {
              "fillmode": "overlay",
              "size": 10,
              "solidity": 0.2
             }
            },
            "type": "bar"
           }
          ],
          "barpolar": [
           {
            "marker": {
             "line": {
              "color": "#E5ECF6",
              "width": 0.5
             },
             "pattern": {
              "fillmode": "overlay",
              "size": 10,
              "solidity": 0.2
             }
            },
            "type": "barpolar"
           }
          ],
          "carpet": [
           {
            "aaxis": {
             "endlinecolor": "#2a3f5f",
             "gridcolor": "white",
             "linecolor": "white",
             "minorgridcolor": "white",
             "startlinecolor": "#2a3f5f"
            },
            "baxis": {
             "endlinecolor": "#2a3f5f",
             "gridcolor": "white",
             "linecolor": "white",
             "minorgridcolor": "white",
             "startlinecolor": "#2a3f5f"
            },
            "type": "carpet"
           }
          ],
          "choropleth": [
           {
            "colorbar": {
             "outlinewidth": 0,
             "ticks": ""
            },
            "type": "choropleth"
           }
          ],
          "contour": [
           {
            "colorbar": {
             "outlinewidth": 0,
             "ticks": ""
            },
            "colorscale": [
             [
              0,
              "#0d0887"
             ],
             [
              0.1111111111111111,
              "#46039f"
             ],
             [
              0.2222222222222222,
              "#7201a8"
             ],
             [
              0.3333333333333333,
              "#9c179e"
             ],
             [
              0.4444444444444444,
              "#bd3786"
             ],
             [
              0.5555555555555556,
              "#d8576b"
             ],
             [
              0.6666666666666666,
              "#ed7953"
             ],
             [
              0.7777777777777778,
              "#fb9f3a"
             ],
             [
              0.8888888888888888,
              "#fdca26"
             ],
             [
              1,
              "#f0f921"
             ]
            ],
            "type": "contour"
           }
          ],
          "contourcarpet": [
           {
            "colorbar": {
             "outlinewidth": 0,
             "ticks": ""
            },
            "type": "contourcarpet"
           }
          ],
          "heatmap": [
           {
            "colorbar": {
             "outlinewidth": 0,
             "ticks": ""
            },
            "colorscale": [
             [
              0,
              "#0d0887"
             ],
             [
              0.1111111111111111,
              "#46039f"
             ],
             [
              0.2222222222222222,
              "#7201a8"
             ],
             [
              0.3333333333333333,
              "#9c179e"
             ],
             [
              0.4444444444444444,
              "#bd3786"
             ],
             [
              0.5555555555555556,
              "#d8576b"
             ],
             [
              0.6666666666666666,
              "#ed7953"
             ],
             [
              0.7777777777777778,
              "#fb9f3a"
             ],
             [
              0.8888888888888888,
              "#fdca26"
             ],
             [
              1,
              "#f0f921"
             ]
            ],
            "type": "heatmap"
           }
          ],
          "heatmapgl": [
           {
            "colorbar": {
             "outlinewidth": 0,
             "ticks": ""
            },
            "colorscale": [
             [
              0,
              "#0d0887"
             ],
             [
              0.1111111111111111,
              "#46039f"
             ],
             [
              0.2222222222222222,
              "#7201a8"
             ],
             [
              0.3333333333333333,
              "#9c179e"
             ],
             [
              0.4444444444444444,
              "#bd3786"
             ],
             [
              0.5555555555555556,
              "#d8576b"
             ],
             [
              0.6666666666666666,
              "#ed7953"
             ],
             [
              0.7777777777777778,
              "#fb9f3a"
             ],
             [
              0.8888888888888888,
              "#fdca26"
             ],
             [
              1,
              "#f0f921"
             ]
            ],
            "type": "heatmapgl"
           }
          ],
          "histogram": [
           {
            "marker": {
             "pattern": {
              "fillmode": "overlay",
              "size": 10,
              "solidity": 0.2
             }
            },
            "type": "histogram"
           }
          ],
          "histogram2d": [
           {
            "colorbar": {
             "outlinewidth": 0,
             "ticks": ""
            },
            "colorscale": [
             [
              0,
              "#0d0887"
             ],
             [
              0.1111111111111111,
              "#46039f"
             ],
             [
              0.2222222222222222,
              "#7201a8"
             ],
             [
              0.3333333333333333,
              "#9c179e"
             ],
             [
              0.4444444444444444,
              "#bd3786"
             ],
             [
              0.5555555555555556,
              "#d8576b"
             ],
             [
              0.6666666666666666,
              "#ed7953"
             ],
             [
              0.7777777777777778,
              "#fb9f3a"
             ],
             [
              0.8888888888888888,
              "#fdca26"
             ],
             [
              1,
              "#f0f921"
             ]
            ],
            "type": "histogram2d"
           }
          ],
          "histogram2dcontour": [
           {
            "colorbar": {
             "outlinewidth": 0,
             "ticks": ""
            },
            "colorscale": [
             [
              0,
              "#0d0887"
             ],
             [
              0.1111111111111111,
              "#46039f"
             ],
             [
              0.2222222222222222,
              "#7201a8"
             ],
             [
              0.3333333333333333,
              "#9c179e"
             ],
             [
              0.4444444444444444,
              "#bd3786"
             ],
             [
              0.5555555555555556,
              "#d8576b"
             ],
             [
              0.6666666666666666,
              "#ed7953"
             ],
             [
              0.7777777777777778,
              "#fb9f3a"
             ],
             [
              0.8888888888888888,
              "#fdca26"
             ],
             [
              1,
              "#f0f921"
             ]
            ],
            "type": "histogram2dcontour"
           }
          ],
          "mesh3d": [
           {
            "colorbar": {
             "outlinewidth": 0,
             "ticks": ""
            },
            "type": "mesh3d"
           }
          ],
          "parcoords": [
           {
            "line": {
             "colorbar": {
              "outlinewidth": 0,
              "ticks": ""
             }
            },
            "type": "parcoords"
           }
          ],
          "pie": [
           {
            "automargin": true,
            "type": "pie"
           }
          ],
          "scatter": [
           {
            "fillpattern": {
             "fillmode": "overlay",
             "size": 10,
             "solidity": 0.2
            },
            "type": "scatter"
           }
          ],
          "scatter3d": [
           {
            "line": {
             "colorbar": {
              "outlinewidth": 0,
              "ticks": ""
             }
            },
            "marker": {
             "colorbar": {
              "outlinewidth": 0,
              "ticks": ""
             }
            },
            "type": "scatter3d"
           }
          ],
          "scattercarpet": [
           {
            "marker": {
             "colorbar": {
              "outlinewidth": 0,
              "ticks": ""
             }
            },
            "type": "scattercarpet"
           }
          ],
          "scattergeo": [
           {
            "marker": {
             "colorbar": {
              "outlinewidth": 0,
              "ticks": ""
             }
            },
            "type": "scattergeo"
           }
          ],
          "scattergl": [
           {
            "marker": {
             "colorbar": {
              "outlinewidth": 0,
              "ticks": ""
             }
            },
            "type": "scattergl"
           }
          ],
          "scattermapbox": [
           {
            "marker": {
             "colorbar": {
              "outlinewidth": 0,
              "ticks": ""
             }
            },
            "type": "scattermapbox"
           }
          ],
          "scatterpolar": [
           {
            "marker": {
             "colorbar": {
              "outlinewidth": 0,
              "ticks": ""
             }
            },
            "type": "scatterpolar"
           }
          ],
          "scatterpolargl": [
           {
            "marker": {
             "colorbar": {
              "outlinewidth": 0,
              "ticks": ""
             }
            },
            "type": "scatterpolargl"
           }
          ],
          "scatterternary": [
           {
            "marker": {
             "colorbar": {
              "outlinewidth": 0,
              "ticks": ""
             }
            },
            "type": "scatterternary"
           }
          ],
          "surface": [
           {
            "colorbar": {
             "outlinewidth": 0,
             "ticks": ""
            },
            "colorscale": [
             [
              0,
              "#0d0887"
             ],
             [
              0.1111111111111111,
              "#46039f"
             ],
             [
              0.2222222222222222,
              "#7201a8"
             ],
             [
              0.3333333333333333,
              "#9c179e"
             ],
             [
              0.4444444444444444,
              "#bd3786"
             ],
             [
              0.5555555555555556,
              "#d8576b"
             ],
             [
              0.6666666666666666,
              "#ed7953"
             ],
             [
              0.7777777777777778,
              "#fb9f3a"
             ],
             [
              0.8888888888888888,
              "#fdca26"
             ],
             [
              1,
              "#f0f921"
             ]
            ],
            "type": "surface"
           }
          ],
          "table": [
           {
            "cells": {
             "fill": {
              "color": "#EBF0F8"
             },
             "line": {
              "color": "white"
             }
            },
            "header": {
             "fill": {
              "color": "#C8D4E3"
             },
             "line": {
              "color": "white"
             }
            },
            "type": "table"
           }
          ]
         },
         "layout": {
          "annotationdefaults": {
           "arrowcolor": "#2a3f5f",
           "arrowhead": 0,
           "arrowwidth": 1
          },
          "autotypenumbers": "strict",
          "coloraxis": {
           "colorbar": {
            "outlinewidth": 0,
            "ticks": ""
           }
          },
          "colorscale": {
           "diverging": [
            [
             0,
             "#8e0152"
            ],
            [
             0.1,
             "#c51b7d"
            ],
            [
             0.2,
             "#de77ae"
            ],
            [
             0.3,
             "#f1b6da"
            ],
            [
             0.4,
             "#fde0ef"
            ],
            [
             0.5,
             "#f7f7f7"
            ],
            [
             0.6,
             "#e6f5d0"
            ],
            [
             0.7,
             "#b8e186"
            ],
            [
             0.8,
             "#7fbc41"
            ],
            [
             0.9,
             "#4d9221"
            ],
            [
             1,
             "#276419"
            ]
           ],
           "sequential": [
            [
             0,
             "#0d0887"
            ],
            [
             0.1111111111111111,
             "#46039f"
            ],
            [
             0.2222222222222222,
             "#7201a8"
            ],
            [
             0.3333333333333333,
             "#9c179e"
            ],
            [
             0.4444444444444444,
             "#bd3786"
            ],
            [
             0.5555555555555556,
             "#d8576b"
            ],
            [
             0.6666666666666666,
             "#ed7953"
            ],
            [
             0.7777777777777778,
             "#fb9f3a"
            ],
            [
             0.8888888888888888,
             "#fdca26"
            ],
            [
             1,
             "#f0f921"
            ]
           ],
           "sequentialminus": [
            [
             0,
             "#0d0887"
            ],
            [
             0.1111111111111111,
             "#46039f"
            ],
            [
             0.2222222222222222,
             "#7201a8"
            ],
            [
             0.3333333333333333,
             "#9c179e"
            ],
            [
             0.4444444444444444,
             "#bd3786"
            ],
            [
             0.5555555555555556,
             "#d8576b"
            ],
            [
             0.6666666666666666,
             "#ed7953"
            ],
            [
             0.7777777777777778,
             "#fb9f3a"
            ],
            [
             0.8888888888888888,
             "#fdca26"
            ],
            [
             1,
             "#f0f921"
            ]
           ]
          },
          "colorway": [
           "#636efa",
           "#EF553B",
           "#00cc96",
           "#ab63fa",
           "#FFA15A",
           "#19d3f3",
           "#FF6692",
           "#B6E880",
           "#FF97FF",
           "#FECB52"
          ],
          "font": {
           "color": "#2a3f5f"
          },
          "geo": {
           "bgcolor": "white",
           "lakecolor": "white",
           "landcolor": "#E5ECF6",
           "showlakes": true,
           "showland": true,
           "subunitcolor": "white"
          },
          "hoverlabel": {
           "align": "left"
          },
          "hovermode": "closest",
          "mapbox": {
           "style": "light"
          },
          "paper_bgcolor": "white",
          "plot_bgcolor": "#E5ECF6",
          "polar": {
           "angularaxis": {
            "gridcolor": "white",
            "linecolor": "white",
            "ticks": ""
           },
           "bgcolor": "#E5ECF6",
           "radialaxis": {
            "gridcolor": "white",
            "linecolor": "white",
            "ticks": ""
           }
          },
          "scene": {
           "xaxis": {
            "backgroundcolor": "#E5ECF6",
            "gridcolor": "white",
            "gridwidth": 2,
            "linecolor": "white",
            "showbackground": true,
            "ticks": "",
            "zerolinecolor": "white"
           },
           "yaxis": {
            "backgroundcolor": "#E5ECF6",
            "gridcolor": "white",
            "gridwidth": 2,
            "linecolor": "white",
            "showbackground": true,
            "ticks": "",
            "zerolinecolor": "white"
           },
           "zaxis": {
            "backgroundcolor": "#E5ECF6",
            "gridcolor": "white",
            "gridwidth": 2,
            "linecolor": "white",
            "showbackground": true,
            "ticks": "",
            "zerolinecolor": "white"
           }
          },
          "shapedefaults": {
           "line": {
            "color": "#2a3f5f"
           }
          },
          "ternary": {
           "aaxis": {
            "gridcolor": "white",
            "linecolor": "white",
            "ticks": ""
           },
           "baxis": {
            "gridcolor": "white",
            "linecolor": "white",
            "ticks": ""
           },
           "bgcolor": "#E5ECF6",
           "caxis": {
            "gridcolor": "white",
            "linecolor": "white",
            "ticks": ""
           }
          },
          "title": {
           "x": 0.05
          },
          "xaxis": {
           "automargin": true,
           "gridcolor": "white",
           "linecolor": "white",
           "ticks": "",
           "title": {
            "standoff": 15
           },
           "zerolinecolor": "white",
           "zerolinewidth": 2
          },
          "yaxis": {
           "automargin": true,
           "gridcolor": "white",
           "linecolor": "white",
           "ticks": "",
           "title": {
            "standoff": 15
           },
           "zerolinecolor": "white",
           "zerolinewidth": 2
          }
         }
        },
        "title": {
         "text": "Estimated Distribution of Wikibase Installations"
        },
        "width": 800
       }
      },
      "text/html": [
       "<div>                            <div id=\"3d52a23f-1dfe-40b4-a849-f7ecca4f78e6\" class=\"plotly-graph-div\" style=\"height:500px; width:800px;\"></div>            <script type=\"text/javascript\">                require([\"plotly\"], function(Plotly) {                    window.PLOTLYENV=window.PLOTLYENV || {};                                    if (document.getElementById(\"3d52a23f-1dfe-40b4-a849-f7ecca4f78e6\")) {                    Plotly.newPlot(                        \"3d52a23f-1dfe-40b4-a849-f7ecca4f78e6\",                        [{\"insidetextorientation\":\"radial\",\"labels\":[\"Suite Installations?\",\"Other Methods?\",\"Wikibase Cloud\"],\"textinfo\":\"label+percent\",\"values\":[16,50,711],\"type\":\"pie\"}],                        {\"template\":{\"data\":{\"histogram2dcontour\":[{\"type\":\"histogram2dcontour\",\"colorbar\":{\"outlinewidth\":0,\"ticks\":\"\"},\"colorscale\":[[0.0,\"#0d0887\"],[0.1111111111111111,\"#46039f\"],[0.2222222222222222,\"#7201a8\"],[0.3333333333333333,\"#9c179e\"],[0.4444444444444444,\"#bd3786\"],[0.5555555555555556,\"#d8576b\"],[0.6666666666666666,\"#ed7953\"],[0.7777777777777778,\"#fb9f3a\"],[0.8888888888888888,\"#fdca26\"],[1.0,\"#f0f921\"]]}],\"choropleth\":[{\"type\":\"choropleth\",\"colorbar\":{\"outlinewidth\":0,\"ticks\":\"\"}}],\"histogram2d\":[{\"type\":\"histogram2d\",\"colorbar\":{\"outlinewidth\":0,\"ticks\":\"\"},\"colorscale\":[[0.0,\"#0d0887\"],[0.1111111111111111,\"#46039f\"],[0.2222222222222222,\"#7201a8\"],[0.3333333333333333,\"#9c179e\"],[0.4444444444444444,\"#bd3786\"],[0.5555555555555556,\"#d8576b\"],[0.6666666666666666,\"#ed7953\"],[0.7777777777777778,\"#fb9f3a\"],[0.8888888888888888,\"#fdca26\"],[1.0,\"#f0f921\"]]}],\"heatmap\":[{\"type\":\"heatmap\",\"colorbar\":{\"outlinewidth\":0,\"ticks\":\"\"},\"colorscale\":[[0.0,\"#0d0887\"],[0.1111111111111111,\"#46039f\"],[0.2222222222222222,\"#7201a8\"],[0.3333333333333333,\"#9c179e\"],[0.4444444444444444,\"#bd3786\"],[0.5555555555555556,\"#d8576b\"],[0.6666666666666666,\"#ed7953\"],[0.7777777777777778,\"#fb9f3a\"],[0.8888888888888888,\"#fdca26\"],[1.0,\"#f0f921\"]]}],\"heatmapgl\":[{\"type\":\"heatmapgl\",\"colorbar\":{\"outlinewidth\":0,\"ticks\":\"\"},\"colorscale\":[[0.0,\"#0d0887\"],[0.1111111111111111,\"#46039f\"],[0.2222222222222222,\"#7201a8\"],[0.3333333333333333,\"#9c179e\"],[0.4444444444444444,\"#bd3786\"],[0.5555555555555556,\"#d8576b\"],[0.6666666666666666,\"#ed7953\"],[0.7777777777777778,\"#fb9f3a\"],[0.8888888888888888,\"#fdca26\"],[1.0,\"#f0f921\"]]}],\"contourcarpet\":[{\"type\":\"contourcarpet\",\"colorbar\":{\"outlinewidth\":0,\"ticks\":\"\"}}],\"contour\":[{\"type\":\"contour\",\"colorbar\":{\"outlinewidth\":0,\"ticks\":\"\"},\"colorscale\":[[0.0,\"#0d0887\"],[0.1111111111111111,\"#46039f\"],[0.2222222222222222,\"#7201a8\"],[0.3333333333333333,\"#9c179e\"],[0.4444444444444444,\"#bd3786\"],[0.5555555555555556,\"#d8576b\"],[0.6666666666666666,\"#ed7953\"],[0.7777777777777778,\"#fb9f3a\"],[0.8888888888888888,\"#fdca26\"],[1.0,\"#f0f921\"]]}],\"surface\":[{\"type\":\"surface\",\"colorbar\":{\"outlinewidth\":0,\"ticks\":\"\"},\"colorscale\":[[0.0,\"#0d0887\"],[0.1111111111111111,\"#46039f\"],[0.2222222222222222,\"#7201a8\"],[0.3333333333333333,\"#9c179e\"],[0.4444444444444444,\"#bd3786\"],[0.5555555555555556,\"#d8576b\"],[0.6666666666666666,\"#ed7953\"],[0.7777777777777778,\"#fb9f3a\"],[0.8888888888888888,\"#fdca26\"],[1.0,\"#f0f921\"]]}],\"mesh3d\":[{\"type\":\"mesh3d\",\"colorbar\":{\"outlinewidth\":0,\"ticks\":\"\"}}],\"scatter\":[{\"fillpattern\":{\"fillmode\":\"overlay\",\"size\":10,\"solidity\":0.2},\"type\":\"scatter\"}],\"parcoords\":[{\"type\":\"parcoords\",\"line\":{\"colorbar\":{\"outlinewidth\":0,\"ticks\":\"\"}}}],\"scatterpolargl\":[{\"type\":\"scatterpolargl\",\"marker\":{\"colorbar\":{\"outlinewidth\":0,\"ticks\":\"\"}}}],\"bar\":[{\"error_x\":{\"color\":\"#2a3f5f\"},\"error_y\":{\"color\":\"#2a3f5f\"},\"marker\":{\"line\":{\"color\":\"#E5ECF6\",\"width\":0.5},\"pattern\":{\"fillmode\":\"overlay\",\"size\":10,\"solidity\":0.2}},\"type\":\"bar\"}],\"scattergeo\":[{\"type\":\"scattergeo\",\"marker\":{\"colorbar\":{\"outlinewidth\":0,\"ticks\":\"\"}}}],\"scatterpolar\":[{\"type\":\"scatterpolar\",\"marker\":{\"colorbar\":{\"outlinewidth\":0,\"ticks\":\"\"}}}],\"histogram\":[{\"marker\":{\"pattern\":{\"fillmode\":\"overlay\",\"size\":10,\"solidity\":0.2}},\"type\":\"histogram\"}],\"scattergl\":[{\"type\":\"scattergl\",\"marker\":{\"colorbar\":{\"outlinewidth\":0,\"ticks\":\"\"}}}],\"scatter3d\":[{\"type\":\"scatter3d\",\"line\":{\"colorbar\":{\"outlinewidth\":0,\"ticks\":\"\"}},\"marker\":{\"colorbar\":{\"outlinewidth\":0,\"ticks\":\"\"}}}],\"scattermapbox\":[{\"type\":\"scattermapbox\",\"marker\":{\"colorbar\":{\"outlinewidth\":0,\"ticks\":\"\"}}}],\"scatterternary\":[{\"type\":\"scatterternary\",\"marker\":{\"colorbar\":{\"outlinewidth\":0,\"ticks\":\"\"}}}],\"scattercarpet\":[{\"type\":\"scattercarpet\",\"marker\":{\"colorbar\":{\"outlinewidth\":0,\"ticks\":\"\"}}}],\"carpet\":[{\"aaxis\":{\"endlinecolor\":\"#2a3f5f\",\"gridcolor\":\"white\",\"linecolor\":\"white\",\"minorgridcolor\":\"white\",\"startlinecolor\":\"#2a3f5f\"},\"baxis\":{\"endlinecolor\":\"#2a3f5f\",\"gridcolor\":\"white\",\"linecolor\":\"white\",\"minorgridcolor\":\"white\",\"startlinecolor\":\"#2a3f5f\"},\"type\":\"carpet\"}],\"table\":[{\"cells\":{\"fill\":{\"color\":\"#EBF0F8\"},\"line\":{\"color\":\"white\"}},\"header\":{\"fill\":{\"color\":\"#C8D4E3\"},\"line\":{\"color\":\"white\"}},\"type\":\"table\"}],\"barpolar\":[{\"marker\":{\"line\":{\"color\":\"#E5ECF6\",\"width\":0.5},\"pattern\":{\"fillmode\":\"overlay\",\"size\":10,\"solidity\":0.2}},\"type\":\"barpolar\"}],\"pie\":[{\"automargin\":true,\"type\":\"pie\"}]},\"layout\":{\"autotypenumbers\":\"strict\",\"colorway\":[\"#636efa\",\"#EF553B\",\"#00cc96\",\"#ab63fa\",\"#FFA15A\",\"#19d3f3\",\"#FF6692\",\"#B6E880\",\"#FF97FF\",\"#FECB52\"],\"font\":{\"color\":\"#2a3f5f\"},\"hovermode\":\"closest\",\"hoverlabel\":{\"align\":\"left\"},\"paper_bgcolor\":\"white\",\"plot_bgcolor\":\"#E5ECF6\",\"polar\":{\"bgcolor\":\"#E5ECF6\",\"angularaxis\":{\"gridcolor\":\"white\",\"linecolor\":\"white\",\"ticks\":\"\"},\"radialaxis\":{\"gridcolor\":\"white\",\"linecolor\":\"white\",\"ticks\":\"\"}},\"ternary\":{\"bgcolor\":\"#E5ECF6\",\"aaxis\":{\"gridcolor\":\"white\",\"linecolor\":\"white\",\"ticks\":\"\"},\"baxis\":{\"gridcolor\":\"white\",\"linecolor\":\"white\",\"ticks\":\"\"},\"caxis\":{\"gridcolor\":\"white\",\"linecolor\":\"white\",\"ticks\":\"\"}},\"coloraxis\":{\"colorbar\":{\"outlinewidth\":0,\"ticks\":\"\"}},\"colorscale\":{\"sequential\":[[0.0,\"#0d0887\"],[0.1111111111111111,\"#46039f\"],[0.2222222222222222,\"#7201a8\"],[0.3333333333333333,\"#9c179e\"],[0.4444444444444444,\"#bd3786\"],[0.5555555555555556,\"#d8576b\"],[0.6666666666666666,\"#ed7953\"],[0.7777777777777778,\"#fb9f3a\"],[0.8888888888888888,\"#fdca26\"],[1.0,\"#f0f921\"]],\"sequentialminus\":[[0.0,\"#0d0887\"],[0.1111111111111111,\"#46039f\"],[0.2222222222222222,\"#7201a8\"],[0.3333333333333333,\"#9c179e\"],[0.4444444444444444,\"#bd3786\"],[0.5555555555555556,\"#d8576b\"],[0.6666666666666666,\"#ed7953\"],[0.7777777777777778,\"#fb9f3a\"],[0.8888888888888888,\"#fdca26\"],[1.0,\"#f0f921\"]],\"diverging\":[[0,\"#8e0152\"],[0.1,\"#c51b7d\"],[0.2,\"#de77ae\"],[0.3,\"#f1b6da\"],[0.4,\"#fde0ef\"],[0.5,\"#f7f7f7\"],[0.6,\"#e6f5d0\"],[0.7,\"#b8e186\"],[0.8,\"#7fbc41\"],[0.9,\"#4d9221\"],[1,\"#276419\"]]},\"xaxis\":{\"gridcolor\":\"white\",\"linecolor\":\"white\",\"ticks\":\"\",\"title\":{\"standoff\":15},\"zerolinecolor\":\"white\",\"automargin\":true,\"zerolinewidth\":2},\"yaxis\":{\"gridcolor\":\"white\",\"linecolor\":\"white\",\"ticks\":\"\",\"title\":{\"standoff\":15},\"zerolinecolor\":\"white\",\"automargin\":true,\"zerolinewidth\":2},\"scene\":{\"xaxis\":{\"backgroundcolor\":\"#E5ECF6\",\"gridcolor\":\"white\",\"linecolor\":\"white\",\"showbackground\":true,\"ticks\":\"\",\"zerolinecolor\":\"white\",\"gridwidth\":2},\"yaxis\":{\"backgroundcolor\":\"#E5ECF6\",\"gridcolor\":\"white\",\"linecolor\":\"white\",\"showbackground\":true,\"ticks\":\"\",\"zerolinecolor\":\"white\",\"gridwidth\":2},\"zaxis\":{\"backgroundcolor\":\"#E5ECF6\",\"gridcolor\":\"white\",\"linecolor\":\"white\",\"showbackground\":true,\"ticks\":\"\",\"zerolinecolor\":\"white\",\"gridwidth\":2}},\"shapedefaults\":{\"line\":{\"color\":\"#2a3f5f\"}},\"annotationdefaults\":{\"arrowcolor\":\"#2a3f5f\",\"arrowhead\":0,\"arrowwidth\":1},\"geo\":{\"bgcolor\":\"white\",\"landcolor\":\"#E5ECF6\",\"subunitcolor\":\"white\",\"showland\":true,\"showlakes\":true,\"lakecolor\":\"white\"},\"title\":{\"x\":0.05},\"mapbox\":{\"style\":\"light\"}}},\"title\":{\"text\":\"Estimated Distribution of Wikibase Installations\"},\"height\":500,\"width\":800},                        {\"responsive\": true}                    ).then(function(){\n",
       "                            \n",
       "var gd = document.getElementById('3d52a23f-1dfe-40b4-a849-f7ecca4f78e6');\n",
       "var x = new MutationObserver(function (mutations, observer) {{\n",
       "        var display = window.getComputedStyle(gd).display;\n",
       "        if (!display || display === 'none') {{\n",
       "            console.log([gd, 'removed!']);\n",
       "            Plotly.purge(gd);\n",
       "            observer.disconnect();\n",
       "        }}\n",
       "}});\n",
       "\n",
       "// Listen for the removal of the full notebook cells\n",
       "var notebookContainer = gd.closest('#notebook-container');\n",
       "if (notebookContainer) {{\n",
       "    x.observe(notebookContainer, {childList: true});\n",
       "}}\n",
       "\n",
       "// Listen for the clearing of the current output cell\n",
       "var outputEl = gd.closest('.output');\n",
       "if (outputEl) {{\n",
       "    x.observe(outputEl, {childList: true});\n",
       "}}\n",
       "\n",
       "                        })                };                });            </script>        </div>"
      ]
     },
     "metadata": {},
     "output_type": "display_data"
    }
   ],
   "source": [
    "import plotly.graph_objects as go\n",
    "\n",
    "# Define the data\n",
    "labels = ['Suite Installations?', 'Other Methods?', 'Wikibase Cloud']\n",
    "values = [16, 50, 711]\n",
    "\n",
    "# Create the pie chart\n",
    "fig = go.Figure(data=[go.Pie(labels=labels, values=values, textinfo='label+percent', insidetextorientation='radial')])\n",
    "\n",
    "# Update layout\n",
    "fig.update_layout(\n",
    "    title_text=\"Estimated Distribution of Wikibase Installations\",\n",
    "    height=500,\n",
    "    width=800\n",
    ")\n",
    "\n",
    "# Show the plot\n",
    "fig.show()\n",
    "fig.write_html(\"wikibase_pie_installations.html\", include_plotlyjs='cdn')"
   ]
  }
 ],
 "metadata": {
  "kernelspec": {
   "display_name": "Python 3",
   "language": "python",
   "name": "python3"
  },
  "language_info": {
   "codemirror_mode": {
    "name": "ipython",
    "version": 3
   },
   "file_extension": ".py",
   "mimetype": "text/x-python",
   "name": "python",
   "nbconvert_exporter": "python",
   "pygments_lexer": "ipython3",
   "version": "3.10.12"
  }
 },
 "nbformat": 4,
 "nbformat_minor": 2
}

{
 "cells": [
  {
   "cell_type": "code",
   "execution_count": 95,
   "metadata": {},
   "outputs": [],
   "source": [
    "import logging\n",
    "logging.basicConfig(level=logging.INFO, format='%(levelname)s - %(message)s')"
   ]
  },
  {
   "cell_type": "code",
   "execution_count": 96,
   "metadata": {},
   "outputs": [
    {
     "name": "stdout",
     "output_type": "stream",
     "text": [
      "{'data': {'type': 'item', 'id': 'Q386', 'labels': {'en': {'language': 'en', 'value': 'mythogram'}}, 'descriptions': [], 'aliases': {'en': [{'language': 'en', 'value': 'mythogram.wikibase.cloud'}]}, 'claims': {'P1': [{'mainsnak': {'snaktype': 'value', 'property': 'P1', 'hash': 'eb2ea55d71d68f51fa4ee8ae2096f1d1fc60b8a2', 'datavalue': {'value': 'https://mythogram.wikibase.cloud', 'type': 'string'}}, 'type': 'statement', 'id': 'Q386$4F8A363D-90F4-41CC-BB5D-9F028DCEEF86', 'rank': 'normal'}], 'P2': [{'mainsnak': {'snaktype': 'value', 'property': 'P2', 'hash': '158db2825a7eb0bb1bc5d9a53a8734e67868e01e', 'datavalue': {'value': {'entity-type': 'item', 'numeric-id': 8, 'id': 'Q8'}, 'type': 'wikibase-entityid'}}, 'type': 'statement', 'id': 'Q386$CB50B70F-A75B-48E6-86BF-8990E55DA842', 'rank': 'normal'}], 'P3': [{'mainsnak': {'snaktype': 'value', 'property': 'P3', 'hash': '10065a3bad46d2bf60504afdd276b581a0e8412f', 'datavalue': {'value': {'entity-type': 'item', 'numeric-id': 10, 'id': 'Q10'}, 'type': 'wikibase-entityid'}}, 'type': 'statement', 'id': 'Q386$2F42D6CA-5DB8-4424-AFE4-B5089FEAEC9C', 'rank': 'normal'}], 'P13': [{'mainsnak': {'snaktype': 'value', 'property': 'P13', 'hash': '8042a6ba459abf19f1defa72b9076a06c0b16067', 'datavalue': {'value': {'entity-type': 'item', 'numeric-id': 54, 'id': 'Q54'}, 'type': 'wikibase-entityid'}}, 'type': 'statement', 'id': 'Q386$DBCF613B-68B5-423C-8EF4-BB17956F3A01', 'rank': 'normal'}], 'P49': [{'mainsnak': {'snaktype': 'value', 'property': 'P49', 'hash': '41cda4e058f9ba66f1b4744dfc2d55ddcadeae5f', 'datavalue': {'value': 'https://mythogram.wikibase.cloud/wiki/Main_Page', 'type': 'string'}}, 'type': 'statement', 'id': 'Q386$86FB2392-CB49-4449-8FC0-7C6AA6959AA8', 'rank': 'normal'}], 'P7': [{'mainsnak': {'snaktype': 'value', 'property': 'P7', 'hash': '30da3a13c8c72aa9bfa0f05bef2060916c5b76de', 'datavalue': {'value': 'https://mythogram.wikibase.cloud/query', 'type': 'string'}}, 'type': 'statement', 'id': 'Q386$A9FD2C5A-E76F-4EC2-B639-FFEB5A9C47D5', 'rank': 'normal'}], 'P8': [{'mainsnak': {'snaktype': 'value', 'property': 'P8', 'hash': '76564d36028c6d290ad6037cb67d89f09f6ca105', 'datavalue': {'value': 'https://mythogram.wikibase.cloud/query/sparql', 'type': 'string'}}, 'type': 'statement', 'id': 'Q386$484C9CDD-4B1C-4A17-8C41-E5586717327E', 'rank': 'normal'}], 'P37': [{'mainsnak': {'snaktype': 'value', 'property': 'P37', 'hash': '25e4201a97b20ce3d309145ae3bc64a7326c45ed', 'datavalue': {'value': {'entity-type': 'item', 'numeric-id': 285, 'id': 'Q285'}, 'type': 'wikibase-entityid'}}, 'type': 'statement', 'qualifiers': {'P7': [{'snaktype': 'value', 'property': 'P7', 'hash': '30da3a13c8c72aa9bfa0f05bef2060916c5b76de', 'datavalue': {'value': 'https://mythogram.wikibase.cloud/query', 'type': 'string'}}], 'P8': [{'snaktype': 'value', 'property': 'P8', 'hash': '76564d36028c6d290ad6037cb67d89f09f6ca105', 'datavalue': {'value': 'https://mythogram.wikibase.cloud/query/sparql', 'type': 'string'}}]}, 'qualifiers-order': ['P7', 'P8'], 'id': 'Q386$72473C55-542A-4ED2-80E2-A3BC83180572', 'rank': 'normal'}, {'mainsnak': {'snaktype': 'value', 'property': 'P37', 'hash': '2cde698cdd9a32debc04e569717773342ab68046', 'datavalue': {'value': {'entity-type': 'item', 'numeric-id': 287, 'id': 'Q287'}, 'type': 'wikibase-entityid'}}, 'type': 'statement', 'qualifiers': {'P1': [{'snaktype': 'value', 'property': 'P1', 'hash': '0b41100db6c674f807b5ba76e8d031cb5e8283f7', 'datavalue': {'value': 'https://mythogram.wikibase.cloud/tools/cradle', 'type': 'string'}}]}, 'qualifiers-order': ['P1'], 'id': 'Q386$1A075477-68FE-4A83-8A24-F204DB0DE6B2', 'rank': 'normal'}, {'mainsnak': {'snaktype': 'value', 'property': 'P37', 'hash': '63623f622563f610126a21792c429f2691452207', 'datavalue': {'value': {'entity-type': 'item', 'numeric-id': 286, 'id': 'Q286'}, 'type': 'wikibase-entityid'}}, 'type': 'statement', 'qualifiers': {'P1': [{'snaktype': 'value', 'property': 'P1', 'hash': '89b0300822f30be74fbb28259af6bf61d22cd54a', 'datavalue': {'value': 'https://mythogram.wikibase.cloud/tools/quickstatements', 'type': 'string'}}]}, 'qualifiers-order': ['P1'], 'id': 'Q386$B49BA546-31CE-41F9-AB88-BC0BAD106467', 'rank': 'normal'}], 'P12': [{'mainsnak': {'snaktype': 'value', 'property': 'P12', 'hash': '0c36f162ee630244b24634128839cc0f18494209', 'datavalue': {'value': {'entity-type': 'item', 'numeric-id': 51, 'id': 'Q51'}, 'type': 'wikibase-entityid'}}, 'type': 'statement', 'id': 'Q386$0C32E5E9-38A7-4CD2-BD7F-9BADADC04C8D', 'rank': 'normal'}, {'mainsnak': {'snaktype': 'value', 'property': 'P12', 'hash': 'b0937ec96c3206d8378124605df67b0ed0f734ea', 'datavalue': {'value': {'entity-type': 'item', 'numeric-id': 52, 'id': 'Q52'}, 'type': 'wikibase-entityid'}}, 'type': 'statement', 'id': 'Q386$A9EEE8B9-B8FC-46BA-BB8F-0520D6F71ACA', 'rank': 'normal'}], 'P5': [{'mainsnak': {'snaktype': 'value', 'property': 'P5', 'hash': 'b1c498cff395aacbad164cbb8653149d2a8b3f1f', 'datavalue': {'value': {'time': '+2024-05-02T00:00:00Z', 'timezone': 0, 'before': 0, 'after': 0, 'precision': 11, 'calendarmodel': 'http://www.wikidata.org/entity/Q1985727'}, 'type': 'time'}}, 'type': 'statement', 'id': 'Q386$7C4B1F66-39E3-4D98-AC50-944D02C25652', 'rank': 'normal', 'references': [{'hash': '53e4567f7f6f77ecdd8443122912ee6e139925ce', 'snaks': {'P21': [{'snaktype': 'value', 'property': 'P21', 'hash': '60a69065434a1e7a7c6fbcdc0b22ec433f607efd', 'datavalue': {'value': 'https://mythogram.wikibase.cloud/w/api.php?action=query&list=logevents&ledir=newer&lelimit=1&format=json', 'type': 'string'}}], 'P22': [{'snaktype': 'value', 'property': 'P22', 'hash': '3afd1dd2a0fc0e4024f6035d325b49a56194a807', 'datavalue': {'value': {'time': '+2024-10-09T00:00:00Z', 'timezone': 0, 'before': 0, 'after': 0, 'precision': 11, 'calendarmodel': 'http://www.wikidata.org/entity/Q1985727'}, 'type': 'time'}}]}, 'snaks-order': ['P21', 'P22']}]}], 'P55': [{'mainsnak': {'snaktype': 'value', 'property': 'P55', 'hash': 'a6f717ab01e9cb4cc5da62c70d1a5183bf7ac974', 'datavalue': {'value': {'entity-type': 'item', 'numeric-id': 1, 'id': 'Q1'}, 'type': 'wikibase-entityid'}}, 'type': 'statement', 'id': 'Q386$1EB99830-2060-4BAF-B163-DD6F915FE86E', 'rank': 'normal'}, {'mainsnak': {'snaktype': 'value', 'property': 'P55', 'hash': '003c18a30acc8c82a90da6ce4c85d886b5b12759', 'datavalue': {'value': {'entity-type': 'item', 'numeric-id': 30, 'id': 'Q30'}, 'type': 'wikibase-entityid'}}, 'type': 'statement', 'id': 'Q386$C22C86E2-13CE-4350-926F-7BD6D664F072', 'rank': 'normal'}, {'mainsnak': {'snaktype': 'value', 'property': 'P55', 'hash': 'dd3d7050373989dc9b83e2b5a515a726b18e3577', 'datavalue': {'value': {'entity-type': 'item', 'numeric-id': 3, 'id': 'Q3'}, 'type': 'wikibase-entityid'}}, 'type': 'statement', 'id': 'Q386$AA2A3E97-3523-4FCD-B63B-8E8A7A539437', 'rank': 'normal'}], 'P57': [{'mainsnak': {'snaktype': 'value', 'property': 'P57', 'hash': '479351cf1ce3b2c4eddf47a1071ca16d79fac723', 'datavalue': {'value': '1.39.7', 'type': 'string'}}, 'type': 'statement', 'id': 'Q386$83D20474-BB0C-4B6F-9BE8-D3CBCF7C119B', 'rank': 'normal'}], 'P62': [{'mainsnak': {'snaktype': 'value', 'property': 'P62', 'hash': '9e96507022e58045218baa0b3d0d1752ca84edd2', 'datavalue': {'value': {'amount': '+15684', 'unit': '1'}, 'type': 'quantity'}}, 'type': 'statement', 'id': 'Q386$AFFF2DE8-9C0F-4C77-AF04-E4B9B890D10E', 'rank': 'normal'}], 'P59': [{'mainsnak': {'snaktype': 'value', 'property': 'P59', 'hash': 'cf8f605d871324345c436530f12e7719fdd590cb', 'datavalue': {'value': {'amount': '+281970', 'unit': '1'}, 'type': 'quantity'}}, 'type': 'statement', 'id': 'Q386$91BC9F72-346F-40FA-B7F1-D9B87DC70C0F', 'rank': 'normal'}], 'P60': [{'mainsnak': {'snaktype': 'value', 'property': 'P60', 'hash': '5422edd44d18a6d250390a1ac857015d73a64f1b', 'datavalue': {'value': {'amount': '+2', 'unit': '1'}, 'type': 'quantity'}}, 'type': 'statement', 'id': 'Q386$7BBE612C-8BEF-4239-82EC-095C1CBC8008', 'rank': 'normal'}], 'P61': [{'mainsnak': {'snaktype': 'value', 'property': 'P61', 'hash': '81f1c61fcdb0ebbb9358d87783bce816e7d548c7', 'datavalue': {'value': {'amount': '+0', 'unit': '1'}, 'type': 'quantity'}}, 'type': 'statement', 'id': 'Q386$4304D3D8-5C10-466D-8FF3-43BFBF4ED347', 'rank': 'normal'}], 'P58': [{'mainsnak': {'snaktype': 'value', 'property': 'P58', 'hash': '8ad55050280ea957aae90c23773dc4fdd6f720d4', 'datavalue': {'value': {'amount': '+25', 'unit': '1'}, 'type': 'quantity'}}, 'type': 'statement', 'id': 'Q386$9C778B62-F250-474E-9389-7BC30E030AAD', 'rank': 'normal'}]}, 'sitelinks': []}}\n"
     ]
    }
   ],
   "source": [
    "import xml.etree.ElementTree as ET\n",
    "import json\n",
    "import pandas as pd\n",
    "\n",
    "tree = ET.parse('Wikibase+World-20250216093424.xml')\n",
    "\n",
    "root = tree.getroot()\n",
    "\n",
    "item_map = {}\n",
    "\n",
    "for page in root.findall('{http://www.mediawiki.org/xml/export-0.11/}page'):\n",
    "    title = page.find('{http://www.mediawiki.org/xml/export-0.11/}title').text\n",
    "    if title.startswith('Item:'):\n",
    "        item_key = title.replace('Item:', '')\n",
    "        text = page.find('{http://www.mediawiki.org/xml/export-0.11/}revision').find('{http://www.mediawiki.org/xml/export-0.11/}text').text\n",
    "        # item_map[item_key] = {\"text\": text}\n",
    "        data = json.loads(text)\n",
    "        item_map[item_key] = {\"data\": data}\n",
    "\n",
    "print(item_map['Q386'])\n"
   ]
  },
  {
   "cell_type": "code",
   "execution_count": 97,
   "metadata": {},
   "outputs": [
    {
     "name": "stdout",
     "output_type": "stream",
     "text": [
      "{'label': 'Serbian Wikibase', 'data': {'type': 'item', 'id': 'Q384', 'labels': {'en': {'language': 'en', 'value': 'Serbian Wikibase'}}, 'descriptions': [], 'aliases': {'en': [{'language': 'en', 'value': 'serbian.wikibase.cloud'}]}, 'claims': {'P1': [{'mainsnak': {'snaktype': 'value', 'property': 'P1', 'hash': '04e64ee23f8c770d9a036c0a21e91f7471e26b66', 'datavalue': {'value': 'https://serbian.wikibase.cloud', 'type': 'string'}}, 'type': 'statement', 'id': 'Q384$9F15E830-8A29-4185-8D5F-736629F88346', 'rank': 'normal'}], 'P2': [{'mainsnak': {'snaktype': 'value', 'property': 'P2', 'hash': '158db2825a7eb0bb1bc5d9a53a8734e67868e01e', 'datavalue': {'value': {'entity-type': 'item', 'numeric-id': 8, 'id': 'Q8'}, 'type': 'wikibase-entityid'}}, 'type': 'statement', 'id': 'Q384$597EEE6D-20F8-4D57-9A23-2583FCF33301', 'rank': 'normal'}], 'P3': [{'mainsnak': {'snaktype': 'value', 'property': 'P3', 'hash': '10065a3bad46d2bf60504afdd276b581a0e8412f', 'datavalue': {'value': {'entity-type': 'item', 'numeric-id': 10, 'id': 'Q10'}, 'type': 'wikibase-entityid'}}, 'type': 'statement', 'id': 'Q384$A6587077-0501-4B9A-947A-DC86C2D58639', 'rank': 'normal'}], 'P13': [{'mainsnak': {'snaktype': 'value', 'property': 'P13', 'hash': '8042a6ba459abf19f1defa72b9076a06c0b16067', 'datavalue': {'value': {'entity-type': 'item', 'numeric-id': 54, 'id': 'Q54'}, 'type': 'wikibase-entityid'}}, 'type': 'statement', 'id': 'Q384$0E7D66EF-C00F-4831-84D4-00B92D36D49A', 'rank': 'normal'}], 'P49': [{'mainsnak': {'snaktype': 'value', 'property': 'P49', 'hash': '56aba704ff1c93fc0386121c63ac8d5cd5efdd52', 'datavalue': {'value': 'https://serbian.wikibase.cloud/wiki/Main_Page', 'type': 'string'}}, 'type': 'statement', 'id': 'Q384$C45BDFAE-A0E1-4F33-BB37-CC5BB78F141A', 'rank': 'normal'}], 'P7': [{'mainsnak': {'snaktype': 'value', 'property': 'P7', 'hash': 'ccf363ff17c2e31b7b150479ad262a2d185a4432', 'datavalue': {'value': 'https://serbian.wikibase.cloud/query', 'type': 'string'}}, 'type': 'statement', 'id': 'Q384$CDE8EBCB-E16B-45E6-82C7-68DE0C67F0BD', 'rank': 'normal'}], 'P8': [{'mainsnak': {'snaktype': 'value', 'property': 'P8', 'hash': '64967f1e4cea52a03b9339e30790a0d9bf389695', 'datavalue': {'value': 'https://serbian.wikibase.cloud/query/sparql', 'type': 'string'}}, 'type': 'statement', 'id': 'Q384$A5D166D7-B67F-4C81-B67D-CD81B35E7408', 'rank': 'normal'}], 'P37': [{'mainsnak': {'snaktype': 'value', 'property': 'P37', 'hash': '25e4201a97b20ce3d309145ae3bc64a7326c45ed', 'datavalue': {'value': {'entity-type': 'item', 'numeric-id': 285, 'id': 'Q285'}, 'type': 'wikibase-entityid'}}, 'type': 'statement', 'qualifiers': {'P7': [{'snaktype': 'value', 'property': 'P7', 'hash': 'ccf363ff17c2e31b7b150479ad262a2d185a4432', 'datavalue': {'value': 'https://serbian.wikibase.cloud/query', 'type': 'string'}}], 'P8': [{'snaktype': 'value', 'property': 'P8', 'hash': '64967f1e4cea52a03b9339e30790a0d9bf389695', 'datavalue': {'value': 'https://serbian.wikibase.cloud/query/sparql', 'type': 'string'}}]}, 'qualifiers-order': ['P7', 'P8'], 'id': 'Q384$516BCF4B-C715-4261-9518-F61463669DEE', 'rank': 'normal'}, {'mainsnak': {'snaktype': 'value', 'property': 'P37', 'hash': '2cde698cdd9a32debc04e569717773342ab68046', 'datavalue': {'value': {'entity-type': 'item', 'numeric-id': 287, 'id': 'Q287'}, 'type': 'wikibase-entityid'}}, 'type': 'statement', 'qualifiers': {'P1': [{'snaktype': 'value', 'property': 'P1', 'hash': '5d07c7663b69806b67ac513c83367ed6bc1f7dc0', 'datavalue': {'value': 'https://serbian.wikibase.cloud/tools/cradle', 'type': 'string'}}]}, 'qualifiers-order': ['P1'], 'id': 'Q384$91FC2F1D-1296-4587-B1C1-51C51A11483D', 'rank': 'normal'}, {'mainsnak': {'snaktype': 'value', 'property': 'P37', 'hash': '63623f622563f610126a21792c429f2691452207', 'datavalue': {'value': {'entity-type': 'item', 'numeric-id': 286, 'id': 'Q286'}, 'type': 'wikibase-entityid'}}, 'type': 'statement', 'qualifiers': {'P1': [{'snaktype': 'value', 'property': 'P1', 'hash': '162339cfe14bf6b71aa5e01895a4cad4b413656c', 'datavalue': {'value': 'https://serbian.wikibase.cloud/tools/quickstatements', 'type': 'string'}}]}, 'qualifiers-order': ['P1'], 'id': 'Q384$F338F733-5759-46D6-AF27-38123149E1A0', 'rank': 'normal'}], 'P12': [{'mainsnak': {'snaktype': 'value', 'property': 'P12', 'hash': '0c36f162ee630244b24634128839cc0f18494209', 'datavalue': {'value': {'entity-type': 'item', 'numeric-id': 51, 'id': 'Q51'}, 'type': 'wikibase-entityid'}}, 'type': 'statement', 'id': 'Q384$C35AE2F0-9DF1-47AC-8728-E6F0EFB8C05D', 'rank': 'normal'}, {'mainsnak': {'snaktype': 'value', 'property': 'P12', 'hash': 'b0937ec96c3206d8378124605df67b0ed0f734ea', 'datavalue': {'value': {'entity-type': 'item', 'numeric-id': 52, 'id': 'Q52'}, 'type': 'wikibase-entityid'}}, 'type': 'statement', 'id': 'Q384$D4B703A0-D61F-4F8C-8AFA-A5186F20128F', 'rank': 'normal'}], 'P5': [{'mainsnak': {'snaktype': 'value', 'property': 'P5', 'hash': '6788b035d9ce571b554b10eef0c6dbac3d3bdf81', 'datavalue': {'value': {'time': '+2024-01-31T00:00:00Z', 'timezone': 0, 'before': 0, 'after': 0, 'precision': 11, 'calendarmodel': 'http://www.wikidata.org/entity/Q1985727'}, 'type': 'time'}}, 'type': 'statement', 'id': 'Q384$5961DC16-DA74-4505-B4E8-A8831ADE6CA6', 'rank': 'normal', 'references': [{'hash': '752ffd906356dec292afbfdb85e99972caaf8c80', 'snaks': {'P21': [{'snaktype': 'value', 'property': 'P21', 'hash': '13e3f7e7871fe724fb57cdfbd1587b9c59723a1c', 'datavalue': {'value': 'https://serbian.wikibase.cloud/w/api.php?action=query&list=logevents&ledir=newer&lelimit=1&format=json', 'type': 'string'}}], 'P22': [{'snaktype': 'value', 'property': 'P22', 'hash': '3afd1dd2a0fc0e4024f6035d325b49a56194a807', 'datavalue': {'value': {'time': '+2024-10-09T00:00:00Z', 'timezone': 0, 'before': 0, 'after': 0, 'precision': 11, 'calendarmodel': 'http://www.wikidata.org/entity/Q1985727'}, 'type': 'time'}}]}, 'snaks-order': ['P21', 'P22']}]}], 'P55': [{'mainsnak': {'snaktype': 'value', 'property': 'P55', 'hash': 'a6f717ab01e9cb4cc5da62c70d1a5183bf7ac974', 'datavalue': {'value': {'entity-type': 'item', 'numeric-id': 1, 'id': 'Q1'}, 'type': 'wikibase-entityid'}}, 'type': 'statement', 'id': 'Q384$4F4A64C2-1339-4D54-8081-3BAD270B81C5', 'rank': 'normal'}], 'P57': [{'mainsnak': {'snaktype': 'value', 'property': 'P57', 'hash': '479351cf1ce3b2c4eddf47a1071ca16d79fac723', 'datavalue': {'value': '1.39.7', 'type': 'string'}}, 'type': 'statement', 'id': 'Q384$6A50F2BB-0126-487C-9646-709F32A6415D', 'rank': 'normal'}], 'P62': [{'mainsnak': {'snaktype': 'value', 'property': 'P62', 'hash': 'ed21d026e2b2b75c911ad5199d4691fb83f2a391', 'datavalue': {'value': {'amount': '+24285', 'unit': '1'}, 'type': 'quantity'}}, 'type': 'statement', 'id': 'Q384$05FE04DC-D22A-4E28-91B0-973B677355A9', 'rank': 'normal'}], 'P59': [{'mainsnak': {'snaktype': 'value', 'property': 'P59', 'hash': 'dbf3086a392998f0f9dd9894fef3df91eb71ff61', 'datavalue': {'value': {'amount': '+59983', 'unit': '1'}, 'type': 'quantity'}}, 'type': 'statement', 'id': 'Q384$42A0D128-DA8D-434E-A938-B29B9EB7DD87', 'rank': 'normal'}], 'P60': [{'mainsnak': {'snaktype': 'value', 'property': 'P60', 'hash': '459e1b60f634eeb8b67a2412a4b9df438b8f36b4', 'datavalue': {'value': {'amount': '+4', 'unit': '1'}, 'type': 'quantity'}}, 'type': 'statement', 'id': 'Q384$F200B02F-924C-4C3C-A630-58C1F2A6E0B1', 'rank': 'normal'}], 'P61': [{'mainsnak': {'snaktype': 'value', 'property': 'P61', 'hash': '81f1c61fcdb0ebbb9358d87783bce816e7d548c7', 'datavalue': {'value': {'amount': '+0', 'unit': '1'}, 'type': 'quantity'}}, 'type': 'statement', 'id': 'Q384$8A07B288-1CE0-478B-9DD1-5D0E39A7F4AA', 'rank': 'normal'}], 'P58': [{'mainsnak': {'snaktype': 'value', 'property': 'P58', 'hash': 'ed1d85b533ae147635fde47b649fe1b1a28a18ba', 'datavalue': {'value': {'amount': '+22', 'unit': '1'}, 'type': 'quantity'}}, 'type': 'statement', 'id': 'Q384$347B25A0-08F9-40D6-8E28-E62DE29A4ED7', 'rank': 'normal'}]}, 'sitelinks': []}, 'url': ['https://serbian.wikibase.cloud'], 'host': ['Q8'], 'instance': ['Q10'], 'start_date': [Timestamp('2024-01-31 00:00:00+0000', tz='UTC')], 'links_to': ['Q1'], 'links_from': [], 'version': ['1.39.7'], 'properties': [22], 'edits': [59983], 'users': [4], 'users_active': [0], 'pages': [24285], 'description': '', 'host_label': 'Wikibase Cloud'}\n",
      "777\n"
     ]
    }
   ],
   "source": [
    "def get_statements(data, key):\n",
    "    claims = data.get('claims', {})\n",
    "    statements = {}\n",
    "    if key in claims:\n",
    "        statements[key] = []\n",
    "        for claim in claims[key]:\n",
    "            # Filter out mainsnak-> snaktype somevalue or novalue\n",
    "            if claim['mainsnak']['snaktype'] == 'somevalue' or claim['mainsnak']['snaktype'] == 'novalue':\n",
    "                continue\n",
    "            if claim['mainsnak']['datavalue']['type'] == 'string':\n",
    "                statements[key].append(claim['mainsnak']['datavalue']['value'])\n",
    "            elif claim['mainsnak']['datavalue']['type'] == 'wikibase-entityid':\n",
    "                statements[key].append(claim['mainsnak']['datavalue']['value']['id'])\n",
    "            elif claim['mainsnak']['datavalue']['type'] == 'time':\n",
    "                time_value = claim['mainsnak']['datavalue']['value']['time']\n",
    "                if time_value.startswith('+'):\n",
    "                    time_value = time_value[1:]\n",
    "                # If the day is 00, set it to 01 so it is parsable\n",
    "                if time_value[8:10] == '00':\n",
    "                    time_value = time_value[:8] + '01' + time_value[10:]\n",
    "                # If month is 00, set it to 01 so it is parsable\n",
    "                if time_value[5:7] == '00':\n",
    "                    time_value = time_value[:5] + '01' + time_value[7:]\n",
    "                statements[key].append(pd.to_datetime(time_value))\n",
    "            elif claim['mainsnak']['datavalue']['type'] == 'quantity':\n",
    "                statements[key].append(int(claim['mainsnak']['datavalue']['value']['amount']))\n",
    "            else:\n",
    "                print('Unknown type')\n",
    "    return statements\n",
    "\n",
    "# Extract some statement values from the json\n",
    "for key in item_map:\n",
    "    data = item_map[key]['data']\n",
    "    # Ignore things that are not P3 => Q10\n",
    "    if 'P3' not in data.get('claims', {}):\n",
    "        continue\n",
    "    # Get the P3 value\n",
    "    p3 = get_statements(data, 'P3').get('P3', [])\n",
    "    if 'Q10' not in p3:\n",
    "        item_map[key].update({\"instance_of\": p3})\n",
    "    # TODO some of these statements we expect to only have 1 value? so dont get a list?\n",
    "    item_map[key].update({\"url\": get_statements(data, 'P1').get('P1', [])})\n",
    "    item_map[key].update({\"host\": get_statements(data, 'P2').get('P2', [])})\n",
    "    item_map[key].update({\"instance\": get_statements(data, 'P3').get('P3', [])})\n",
    "    item_map[key].update({\"start_date\": get_statements(data, 'P5').get('P5', [])})\n",
    "    item_map[key].update({\"links_to\": get_statements(data, 'P55').get('P55', [])})\n",
    "    item_map[key].update({\"links_from\": get_statements(data, 'P56').get('P56', [])})\n",
    "    item_map[key].update({\"version\": get_statements(data, 'P57').get('P57', [])})\n",
    "    item_map[key].update({\"properties\": get_statements(data, 'P58').get('P58', [])})\n",
    "    item_map[key].update({\"edits\": get_statements(data, 'P59').get('P59', [])})\n",
    "    item_map[key].update({\"users\": get_statements(data, 'P60').get('P60', [])})\n",
    "    item_map[key].update({\"users_active\": get_statements(data, 'P61').get('P61', [])})\n",
    "    item_map[key].update({\"pages\": get_statements(data, 'P62').get('P62', [])})\n",
    "\n",
    "# Extract the en label and description of the items\n",
    "for key in item_map:\n",
    "    data = item_map[key]['data']\n",
    "    labels = data.get('labels', {})\n",
    "    item_map[key] = {\"label\": key, **item_map[key]}\n",
    "    if labels:\n",
    "        item_map[key].update({\"label\": labels.get('en', {}).get('value', key)})\n",
    "    descriptions = data.get('descriptions', {})\n",
    "    if descriptions:\n",
    "        item_map[key].update({\"description\": descriptions.get('en', {}).get('value', '')})\n",
    "    else:\n",
    "        item_map[key].update({\"description\": ''})\n",
    "\n",
    "# And then supplement some of the values with their labels..\n",
    "for key in item_map:\n",
    "    if 'host' in item_map[key]:\n",
    "        host = item_map[key]['host']\n",
    "        if host:\n",
    "            host_label = item_map.get(host[0], {}).get('label', host[0])\n",
    "            item_map[key].update({\"host_label\": host_label})\n",
    "            # logging.info(f\"Updated host_label for {key}: {host_label}\")\n",
    "\n",
    "# Remove everything that doesn't have instanceof containing the string `Q10` (Wikibase site)\n",
    "item_map = {k: v for k, v in item_map.items() if 'Q10' in v.get('instance', [])}\n",
    "# Remove everything that doesn't have anything in the properties list\n",
    "item_map = {k: v for k, v in item_map.items() if v.get('properties', [])}\n",
    "# And things that has properties[0] == 0 (As this is probably a wiki with wikibase installed, but not data)\n",
    "item_map = {k: v for k, v in item_map.items() if v.get('properties', [0])[0] != 0}\n",
    "\n",
    "print(item_map['Q384'])\n",
    "\n",
    "# print how many there are\n",
    "print(len(item_map))"
   ]
  },
  {
   "cell_type": "code",
   "execution_count": 98,
   "metadata": {},
   "outputs": [],
   "source": [
    "# TODO, export as a file, so it can be recorded historically?"
   ]
  },
  {
   "cell_type": "code",
   "execution_count": 99,
   "metadata": {},
   "outputs": [],
   "source": [
    "# Supplement with more info just for the graph\n",
    "\n",
    "# Define specific colors for certain host (using host, not host_label)\n",
    "specific_colors = {\n",
    "    'Q4': '#F00000',  # Wikimedia Foundation\n",
    "    'Q5': '#5be971',  # independently hosted Wikibase\n",
    "    'Q6': '#f11fbe',  # Wikimedia Cloud Services\n",
    "    'Q7': '#6283ca',  # The Wikibase Consultancy\n",
    "    'Q8': '#ADD8E6',  # Wikibase Cloud\n",
    "    'Q117': '#ff6347',  # WBStack\n",
    "    'Q118': '#5cd45b',  # Miraheze\n",
    "    'Q322': '#ffa500',  # WikiTide\n",
    "    'Q323': '#8a2be2',  # WikiForge\n",
    "}\n",
    "# Add a \"graph_group\" to the item_map based on the host, including an unknown group\n",
    "# Also add the graph_color based on the specific_colors, unknown is grey\n",
    "for key in item_map:\n",
    "    host = item_map[key].get('host', [])\n",
    "    if host and host[0] in specific_colors:\n",
    "        item_map[key].update({\"graph_group\": item_map[key].get('host_label', 'unknown')})\n",
    "        item_map[key].update({\"graph_color\": specific_colors[host[0]]})\n",
    "    else:\n",
    "        item_map[key].update({\"graph_group\": 'unknown'})\n",
    "        item_map[key].update({\"graph_color\": '#D3D3D3'})"
   ]
  },
  {
   "cell_type": "code",
   "execution_count": 100,
   "metadata": {},
   "outputs": [],
   "source": [
    "import plotly.graph_objects as go\n",
    "import networkx as nx\n",
    "import numpy as np\n",
    "\n",
    "G = nx.Graph()"
   ]
  },
  {
   "cell_type": "code",
   "execution_count": 101,
   "metadata": {},
   "outputs": [
    {
     "data": {
      "application/vnd.plotly.v1+json": {
       "config": {
        "plotlyServerURL": "https://plot.ly"
       },
       "data": [
        {
         "hoverinfo": "none",
         "line": {
          "color": "#888",
          "width": 0.3
         },
         "mode": "lines",
         "showlegend": false,
         "type": "scatter",
         "x": [
          -0.056497830897569656,
          -0.23291271924972534,
          null,
          -0.056497830897569656,
          -0.7306130528450012,
          null,
          -0.056497830897569656,
          -0.07599025964736938,
          null,
          -0.056497830897569656,
          -0.9412896037101746,
          null,
          -0.056497830897569656,
          0.9128941297531128,
          null,
          -0.056497830897569656,
          -0.3471323847770691,
          null,
          -0.056497830897569656,
          -0.8136290311813354,
          null,
          -0.056497830897569656,
          -0.13600589334964752,
          null,
          -0.056497830897569656,
          -0.2997654974460602,
          null,
          -0.056497830897569656,
          -0.6824083924293518,
          null,
          -0.056497830897569656,
          0.6874262094497681,
          null,
          -0.056497830897569656,
          0.8637293577194214,
          null,
          -0.056497830897569656,
          0.7270346283912659,
          null,
          -0.056497830897569656,
          0.3824869394302368,
          null,
          -0.056497830897569656,
          0.5715357661247253,
          null,
          -0.056497830897569656,
          -0.7121060490608215,
          null,
          -0.056497830897569656,
          -0.9591342210769653,
          null,
          -0.056497830897569656,
          -0.7089324593544006,
          null,
          -0.056497830897569656,
          -0.9281290173530579,
          null,
          -0.056497830897569656,
          -0.18457631766796112,
          null,
          -0.056497830897569656,
          -0.9197848439216614,
          null,
          -0.056497830897569656,
          0.7717975974082947,
          null,
          -0.056497830897569656,
          -0.7840180993080139,
          null,
          -0.056497830897569656,
          0.9251343607902527,
          null,
          -0.056497830897569656,
          -0.36697831749916077,
          null,
          -0.056497830897569656,
          -0.24235592782497406,
          null,
          -0.056497830897569656,
          0.5353469252586365,
          null,
          -0.056497830897569656,
          -0.9488878846168518,
          null,
          -0.056497830897569656,
          -0.03931612893939018,
          null,
          -0.056497830897569656,
          -0.4334315061569214,
          null,
          -0.056497830897569656,
          0.2461300939321518,
          null,
          -0.056497830897569656,
          0.23443296551704407,
          null,
          -0.056497830897569656,
          1,
          null,
          -0.056497830897569656,
          -0.93487149477005,
          null,
          -0.056497830897569656,
          0.07381103187799454,
          null,
          -0.056497830897569656,
          -0.7206143140792847,
          null,
          -0.056497830897569656,
          0.3620055913925171,
          null,
          -0.056497830897569656,
          0.5693581104278564,
          null,
          -0.056497830897569656,
          0.9894633293151855,
          null,
          -0.056497830897569656,
          0.7373968958854675,
          null,
          -0.056497830897569656,
          -0.21763885021209717,
          null,
          -0.056497830897569656,
          -0.5602665543556213,
          null,
          -0.056497830897569656,
          0.9512783885002136,
          null,
          -0.056497830897569656,
          -0.7186179161071777,
          null,
          -0.056497830897569656,
          0.2313080132007599,
          null,
          -0.056497830897569656,
          0.02674301527440548,
          null,
          -0.056497830897569656,
          -0.8261695504188538,
          null,
          -0.056497830897569656,
          -0.4228362441062927,
          null,
          -0.056497830897569656,
          -0.8389357328414917,
          null,
          -0.056497830897569656,
          -0.3970528244972229,
          null,
          -0.056497830897569656,
          -0.7568638324737549,
          null,
          -0.056497830897569656,
          0.28143641352653503,
          null,
          -0.056497830897569656,
          -0.6843856573104858,
          null,
          -0.056497830897569656,
          -0.33293190598487854,
          null,
          -0.056497830897569656,
          -0.07347941398620605,
          null,
          -0.056497830897569656,
          0.106473907828331,
          null,
          -0.056497830897569656,
          -0.8742112517356873,
          null,
          -0.056497830897569656,
          0.9030598998069763,
          null,
          -0.056497830897569656,
          0.6299130916595459,
          null,
          -0.056497830897569656,
          0.9478294253349304,
          null,
          -0.056497830897569656,
          -0.8894802331924438,
          null,
          -0.056497830897569656,
          0.08020374178886414,
          null,
          -0.056497830897569656,
          0.8026533126831055,
          null,
          -0.056497830897569656,
          -0.960273027420044,
          null,
          -0.056497830897569656,
          0.12321444600820541,
          null,
          -0.056497830897569656,
          0.9506925940513611,
          null,
          -0.056497830897569656,
          -0.8737671375274658,
          null,
          -0.056497830897569656,
          0.9002596735954285,
          null,
          -0.056497830897569656,
          0.4230141043663025,
          null,
          -0.056497830897569656,
          -0.6783490777015686,
          null,
          -0.056497830897569656,
          0.9239130616188049,
          null,
          -0.056497830897569656,
          -0.37045401334762573,
          null,
          -0.056497830897569656,
          -0.6958853602409363,
          null,
          -0.056497830897569656,
          -0.8987557888031006,
          null,
          -0.056497830897569656,
          -0.5907180309295654,
          null,
          -0.056497830897569656,
          0.0006113341660238802,
          null,
          -0.056497830897569656,
          -0.5605118274688721,
          null,
          -0.056497830897569656,
          0.4882308542728424,
          null,
          -0.056497830897569656,
          0.870083749294281,
          null,
          -0.056497830897569656,
          -0.7781452536582947,
          null,
          -0.056497830897569656,
          -0.9917252659797668,
          null,
          -0.056497830897569656,
          -0.6403512954711914,
          null,
          -0.056497830897569656,
          -0.9355241060256958,
          null,
          -0.056497830897569656,
          -0.46752360463142395,
          null,
          -0.056497830897569656,
          -0.9237856864929199,
          null,
          -0.056497830897569656,
          0.964890718460083,
          null,
          -0.056497830897569656,
          -0.1754755675792694,
          null,
          -0.056497830897569656,
          0.06477303802967072,
          null,
          -0.056497830897569656,
          0.2974141240119934,
          null,
          -0.056497830897569656,
          -0.4721892774105072,
          null,
          -0.056497830897569656,
          0.1402045041322708,
          null,
          -0.056497830897569656,
          0.9465474486351013,
          null,
          -0.056497830897569656,
          -0.2850617468357086,
          null,
          -0.056497830897569656,
          -0.6559295058250427,
          null,
          -0.056497830897569656,
          -0.9462334513664246,
          null,
          -0.056497830897569656,
          0.8670547008514404,
          null,
          -0.056497830897569656,
          -0.8947309255599976,
          null,
          -0.056497830897569656,
          0.4952211081981659,
          null,
          -0.056497830897569656,
          -0.5454658269882202,
          null,
          -0.056497830897569656,
          -0.24894139170646667,
          null,
          -0.056497830897569656,
          0.13415831327438354,
          null,
          -0.056497830897569656,
          0.1706348955631256,
          null,
          -0.056497830897569656,
          -0.9804659485816956,
          null,
          -0.056497830897569656,
          0.14665856957435608,
          null,
          -0.056497830897569656,
          0.7763124704360962,
          null,
          -0.056497830897569656,
          0.9285777807235718,
          null,
          -0.056497830897569656,
          -0.21958301961421967,
          null,
          -0.056497830897569656,
          0.23485367000102997,
          null,
          -0.056497830897569656,
          -0.591700553894043,
          null,
          -0.056497830897569656,
          0.4725334048271179,
          null,
          -0.056497830897569656,
          0.33518582582473755,
          null,
          -0.056497830897569656,
          0.4954241216182709,
          null,
          -0.056497830897569656,
          -0.44932156801223755,
          null,
          -0.056497830897569656,
          -0.8676626086235046,
          null,
          -0.056497830897569656,
          0.7296130061149597,
          null,
          -0.056497830897569656,
          0.33546409010887146,
          null,
          -0.056497830897569656,
          -0.42994970083236694,
          null,
          -0.056497830897569656,
          0.10363922268152237,
          null,
          -0.056497830897569656,
          -0.11928527802228928,
          null,
          -0.056497830897569656,
          0.27021580934524536,
          null,
          -0.056497830897569656,
          0.4329805374145508,
          null,
          -0.056497830897569656,
          -0.5518348217010498,
          null,
          -0.056497830897569656,
          -0.641454815864563,
          null,
          -0.056497830897569656,
          -0.8877858519554138,
          null,
          -0.056497830897569656,
          -0.12249347567558289,
          null,
          -0.056497830897569656,
          -0.41095009446144104,
          null,
          -0.056497830897569656,
          -0.312740683555603,
          null,
          -0.056497830897569656,
          0.9455309510231018,
          null,
          -0.056497830897569656,
          -0.1393761783838272,
          null,
          -0.056497830897569656,
          -0.8833709955215454,
          null,
          -0.056497830897569656,
          -0.7922736406326294,
          null,
          -0.056497830897569656,
          0.8767719268798828,
          null,
          -0.056497830897569656,
          -0.12300878018140793,
          null,
          -0.056497830897569656,
          0.6216619610786438,
          null,
          -0.056497830897569656,
          -0.46828123927116394,
          null,
          -0.056497830897569656,
          0.9319640398025513,
          null,
          -0.056497830897569656,
          0.500923216342926,
          null,
          -0.056497830897569656,
          -0.33097049593925476,
          null,
          -0.056497830897569656,
          -0.3612339496612549,
          null,
          -0.056497830897569656,
          0.9805260300636292,
          null,
          -0.056497830897569656,
          0.16785402595996857,
          null,
          -0.056497830897569656,
          -0.4073507487773895,
          null,
          -0.056497830897569656,
          0.5562052726745605,
          null,
          -0.056497830897569656,
          0.5772682428359985,
          null,
          -0.056497830897569656,
          0.841198205947876,
          null,
          -0.056497830897569656,
          -0.7082419991493225,
          null,
          -0.056497830897569656,
          0.20795772969722748,
          null,
          -0.056497830897569656,
          -0.5068020224571228,
          null,
          -0.056497830897569656,
          0.40493243932724,
          null,
          -0.056497830897569656,
          0.22442714869976044,
          null,
          -0.056497830897569656,
          -0.878007709980011,
          null,
          -0.056497830897569656,
          -0.9394093751907349,
          null,
          -0.056497830897569656,
          -0.6937933564186096,
          null,
          -0.056497830897569656,
          0.3909893035888672,
          null,
          -0.056497830897569656,
          -0.6801580190658569,
          null,
          -0.056497830897569656,
          0.26846209168434143,
          null,
          -0.056497830897569656,
          0.020920461043715477,
          null,
          -0.056497830897569656,
          0.6977906823158264,
          null,
          -0.056497830897569656,
          0.4241182804107666,
          null,
          -0.056497830897569656,
          0.21959468722343445,
          null,
          -0.056497830897569656,
          -0.511855959892273,
          null,
          -0.056497830897569656,
          0.9363580346107483,
          null,
          -0.056497830897569656,
          0.8004568815231323,
          null,
          -0.056497830897569656,
          0.003402958856895566,
          null,
          -0.056497830897569656,
          -0.2767179608345032,
          null,
          -0.056497830897569656,
          -0.7493588924407959,
          null,
          -0.056497830897569656,
          -0.8981408476829529,
          null,
          -0.056497830897569656,
          0.9429967403411865,
          null,
          -0.056497830897569656,
          0.8287575840950012,
          null,
          -0.056497830897569656,
          -0.8555760979652405,
          null,
          -0.056497830897569656,
          0.0599554143846035,
          null,
          -0.056497830897569656,
          -0.3048098683357239,
          null,
          -0.056497830897569656,
          -0.8964994549751282,
          null,
          -0.056497830897569656,
          -0.6544007062911987,
          null,
          -0.056497830897569656,
          0.5711501836776733,
          null,
          -0.056497830897569656,
          -0.45757365226745605,
          null,
          -0.056497830897569656,
          0.26745545864105225,
          null,
          -0.056497830897569656,
          -0.10082612931728363,
          null,
          -0.056497830897569656,
          0.5823481678962708,
          null,
          -0.056497830897569656,
          0.08426815271377563,
          null,
          -0.056497830897569656,
          -0.7425892353057861,
          null,
          -0.056497830897569656,
          -0.5243342518806458,
          null,
          -0.056497830897569656,
          -0.97474205493927,
          null,
          -0.056497830897569656,
          -0.34022587537765503,
          null,
          -0.056497830897569656,
          0.23585772514343262,
          null,
          -0.056497830897569656,
          -0.43407800793647766,
          null,
          -0.056497830897569656,
          -0.14464372396469116,
          null,
          -0.056497830897569656,
          -0.7110042572021484,
          null,
          -0.056497830897569656,
          -0.9786335825920105,
          null,
          -0.056497830897569656,
          0.14955449104309082,
          null,
          -0.056497830897569656,
          0.4185243546962738,
          null,
          -0.056497830897569656,
          0.30701974034309387,
          null,
          -0.056497830897569656,
          0.306083083152771,
          null,
          -0.056497830897569656,
          0.7330315709114075,
          null,
          -0.056497830897569656,
          0.5996460914611816,
          null,
          -0.056497830897569656,
          -0.011921708472073078,
          null,
          -0.056497830897569656,
          -0.828635036945343,
          null,
          -0.056497830897569656,
          -0.9464807510375977,
          null,
          -0.056497830897569656,
          -0.017369993031024933,
          null,
          -0.056497830897569656,
          -0.2707458734512329,
          null,
          -0.9412896037101746,
          -0.2707458734512329,
          null,
          -0.13600589334964752,
          -0.6391891837120056,
          null,
          -0.2997654974460602,
          0.23443296551704407,
          null,
          -0.9591342210769653,
          -0.2020290195941925,
          null,
          -0.9591342210769653,
          -0.11443927884101868,
          null,
          -0.9281290173530579,
          -0.4334315061569214,
          null,
          -0.36697831749916077,
          -0.8990823030471802,
          null,
          -0.24235592782497406,
          0.02908475138247013,
          null,
          -0.4334315061569214,
          0.4230141043663025,
          null,
          -0.4334315061569214,
          -0.8261695504188538,
          null,
          -0.4334315061569214,
          -0.8947309255599976,
          null,
          -0.4334315061569214,
          -0.6937933564186096,
          null,
          0.2461300939321518,
          0.14665856957435608,
          null,
          0.23443296551704407,
          0.16785402595996857,
          null,
          0.23443296551704407,
          0.003402958856895566,
          null,
          0.23443296551704407,
          0.0599554143846035,
          null,
          0.07381103187799454,
          0.02908475138247013,
          null,
          0.5693581104278564,
          0.02908475138247013,
          null,
          0.2313080132007599,
          0.02908475138247013,
          null,
          0.2313080132007599,
          0.4778372645378113,
          null,
          -0.8742112517356873,
          0.12321444600820541,
          null,
          -0.9355241060256958,
          -0.2707458734512329,
          null,
          -0.46752360463142395,
          -0.6391891837120056,
          null,
          -0.4721892774105072,
          0.02908475138247013,
          null,
          -0.2850617468357086,
          0.02908475138247013,
          null,
          0.13415831327438354,
          -0.2707458734512329,
          null,
          0.13415831327438354,
          -0.1393761783838272,
          null,
          0.13415831327438354,
          0.14665856957435608,
          null,
          0.13415831327438354,
          0.34770509600639343,
          null,
          0.13415831327438354,
          -0.12249347567558289,
          null,
          -0.9804659485816956,
          0.02908475138247013,
          null,
          -0.9804659485816956,
          -0.6391891837120056,
          null,
          0.14665856957435608,
          -0.2707458734512329,
          null,
          0.14665856957435608,
          -0.1393761783838272,
          null,
          0.14665856957435608,
          -0.12249347567558289,
          null,
          0.14665856957435608,
          0.34770509600639343,
          null,
          0.14665856957435608,
          0.706032931804657,
          null,
          0.7763124704360962,
          0.02908475138247013,
          null,
          -0.21958301961421967,
          0.02908475138247013,
          null,
          -0.21958301961421967,
          -0.11443927884101868,
          null,
          -0.21958301961421967,
          0.8038076162338257,
          null,
          -0.11928527802228928,
          -0.2707458734512329,
          null,
          -0.11928527802228928,
          -0.6391891837120056,
          null,
          -0.12249347567558289,
          -0.2707458734512329,
          null,
          -0.12249347567558289,
          -0.1393761783838272,
          null,
          -0.12249347567558289,
          0.34770509600639343,
          null,
          -0.12249347567558289,
          -0.7982434034347534,
          null,
          -0.12249347567558289,
          0.9837822318077087,
          null,
          -0.1393761783838272,
          -0.2707458734512329,
          null,
          -0.1393761783838272,
          0.34770509600639343,
          null,
          0.9319640398025513,
          0.08426815271377563,
          null,
          0.16785402595996857,
          0.02908475138247013,
          null,
          0.16785402595996857,
          0.33253419399261475,
          null,
          0.16785402595996857,
          0.5451072454452515,
          null,
          -0.5068020224571228,
          0.02908475138247013,
          null,
          0.4241182804107666,
          0.02908475138247013,
          null,
          0.21959468722343445,
          -0.49894991517066956,
          null,
          0.003402958856895566,
          0.02908475138247013,
          null,
          0.003402958856895566,
          0.33253419399261475,
          null,
          -0.2767179608345032,
          0.02908475138247013,
          null,
          0.8287575840950012,
          0.02908475138247013,
          null,
          0.0599554143846035,
          0.02908475138247013,
          null,
          0.0599554143846035,
          -0.11443927884101868,
          null,
          -0.6544007062911987,
          -0.6391891837120056,
          null,
          -0.6544007062911987,
          -0.18602924048900604,
          null,
          0.26745545864105225,
          0.02908475138247013,
          null,
          -0.97474205493927,
          0.02908475138247013,
          null,
          -0.34022587537765503,
          0.02908475138247013,
          null,
          -0.34022587537765503,
          -0.49894991517066956,
          null,
          -0.34022587537765503,
          -0.2020290195941925,
          null,
          -0.34022587537765503,
          -0.11443927884101868,
          null,
          -0.14464372396469116,
          0.02908475138247013,
          null,
          -0.14464372396469116,
          -0.11443927884101868,
          null,
          0.4185243546962738,
          0.47265008091926575,
          null,
          0.02908475138247013,
          0.43863725662231445,
          null,
          0.02908475138247013,
          -0.5660119652748108,
          null,
          0.02908475138247013,
          -0.5678055286407471,
          null,
          0.02908475138247013,
          0.9955928921699524,
          null,
          0.02908475138247013,
          0.9525139331817627,
          null,
          0.02908475138247013,
          -0.2707458734512329,
          null,
          -0.2707458734512329,
          0.34770509600639343,
          null,
          0.49663618206977844,
          -0.04616199806332588,
          null,
          0.4800666868686676,
          0.12164656817913055,
          null
         ],
         "y": [
          -0.025691520422697067,
          -0.9620618224143982,
          null,
          -0.025691520422697067,
          0.571748673915863,
          null,
          -0.025691520422697067,
          -0.9644680619239807,
          null,
          -0.025691520422697067,
          0.2540864646434784,
          null,
          -0.025691520422697067,
          -0.13198493421077728,
          null,
          -0.025691520422697067,
          -0.4303424656391144,
          null,
          -0.025691520422697067,
          0.5387468338012695,
          null,
          -0.025691520422697067,
          0.523352861404419,
          null,
          -0.025691520422697067,
          -0.08361111581325531,
          null,
          -0.025691520422697067,
          -0.6249476671218872,
          null,
          -0.025691520422697067,
          -0.7639161944389343,
          null,
          -0.025691520422697067,
          0.3786962032318115,
          null,
          -0.025691520422697067,
          0.678403913974762,
          null,
          -0.025691520422697067,
          0.2616157531738281,
          null,
          -0.025691520422697067,
          -0.8461959958076477,
          null,
          -0.025691520422697067,
          -0.5864048600196838,
          null,
          -0.025691520422697067,
          0.22145064175128937,
          null,
          -0.025691520422697067,
          0.27889779210090637,
          null,
          -0.025691520422697067,
          -0.22409792244434357,
          null,
          -0.025691520422697067,
          -0.44557368755340576,
          null,
          -0.025691520422697067,
          -0.07139741629362106,
          null,
          -0.025691520422697067,
          -0.6525972485542297,
          null,
          -0.025691520422697067,
          -0.5558801293373108,
          null,
          -0.025691520422697067,
          -0.09494958072900772,
          null,
          -0.025691520422697067,
          0.44548657536506653,
          null,
          -0.025691520422697067,
          0.01803046464920044,
          null,
          -0.025691520422697067,
          -0.7721273303031921,
          null,
          -0.025691520422697067,
          0.27644336223602295,
          null,
          -0.025691520422697067,
          0.9931951761245728,
          null,
          -0.025691520422697067,
          -0.046137887984514236,
          null,
          -0.025691520422697067,
          -0.4475809633731842,
          null,
          -0.025691520422697067,
          0.5759146809577942,
          null,
          -0.025691520422697067,
          -0.013952615670859814,
          null,
          -0.025691520422697067,
          0.1703740656375885,
          null,
          -0.025691520422697067,
          -0.9877490401268005,
          null,
          -0.025691520422697067,
          0.6555641293525696,
          null,
          -0.025691520422697067,
          -0.2056596428155899,
          null,
          -0.025691520422697067,
          -0.37950482964515686,
          null,
          -0.025691520422697067,
          -0.1817283034324646,
          null,
          -0.025691520422697067,
          -0.7198925018310547,
          null,
          -0.025691520422697067,
          -0.9121523499488831,
          null,
          -0.025691520422697067,
          -0.7893646955490112,
          null,
          -0.025691520422697067,
          0.2209417074918747,
          null,
          -0.025691520422697067,
          0.6856945157051086,
          null,
          -0.025691520422697067,
          -0.5181118845939636,
          null,
          -0.025691520422697067,
          0.9459079504013062,
          null,
          -0.025691520422697067,
          0.4396592378616333,
          null,
          -0.025691520422697067,
          -0.909629225730896,
          null,
          -0.025691520422697067,
          0.525786817073822,
          null,
          -0.025691520422697067,
          -0.9149564504623413,
          null,
          -0.025691520422697067,
          0.6355929374694824,
          null,
          -0.025691520422697067,
          0.30538514256477356,
          null,
          -0.025691520422697067,
          -0.1765899807214737,
          null,
          -0.025691520422697067,
          0.8479202389717102,
          null,
          -0.025691520422697067,
          0.7202871441841125,
          null,
          -0.025691520422697067,
          0.9138413667678833,
          null,
          -0.025691520422697067,
          0.013656080700457096,
          null,
          -0.025691520422697067,
          0.42542538046836853,
          null,
          -0.025691520422697067,
          -0.7712512016296387,
          null,
          -0.025691520422697067,
          -0.12549157440662384,
          null,
          -0.025691520422697067,
          -0.3746807873249054,
          null,
          -0.025691520422697067,
          -0.4689205586910248,
          null,
          -0.025691520422697067,
          -0.5117790102958679,
          null,
          -0.025691520422697067,
          0.13433584570884705,
          null,
          -0.025691520422697067,
          0.03418843075633049,
          null,
          -0.025691520422697067,
          -0.35859426856040955,
          null,
          -0.025691520422697067,
          0.40385541319847107,
          null,
          -0.025691520422697067,
          -0.45357561111450195,
          null,
          -0.025691520422697067,
          -0.7340983152389526,
          null,
          -0.025691520422697067,
          0.7486658096313477,
          null,
          -0.025691520422697067,
          -0.4300721287727356,
          null,
          -0.025691520422697067,
          0.9264667630195618,
          null,
          -0.025691520422697067,
          -0.7186660170555115,
          null,
          -0.025691520422697067,
          -0.3035043179988861,
          null,
          -0.025691520422697067,
          0.7114070057868958,
          null,
          -0.025691520422697067,
          -0.939184844493866,
          null,
          -0.025691520422697067,
          0.7986220121383667,
          null,
          -0.025691520422697067,
          0.821828305721283,
          null,
          -0.025691520422697067,
          -0.49509096145629883,
          null,
          -0.025691520422697067,
          0.6051704287528992,
          null,
          -0.025691520422697067,
          -0.07042370736598969,
          null,
          -0.025691520422697067,
          -0.7040666937828064,
          null,
          -0.025691520422697067,
          0.2877542972564697,
          null,
          -0.025691520422697067,
          0.6753235459327698,
          null,
          -0.025691520422697067,
          -0.20076847076416016,
          null,
          -0.025691520422697067,
          -0.3212932348251343,
          null,
          -0.025691520422697067,
          -0.9804748296737671,
          null,
          -0.025691520422697067,
          0.9897053837776184,
          null,
          -0.025691520422697067,
          -0.30914759635925293,
          null,
          -0.025691520422697067,
          -0.8550759553909302,
          null,
          -0.025691520422697067,
          0.943476140499115,
          null,
          -0.025691520422697067,
          -0.05626128613948822,
          null,
          -0.025691520422697067,
          0.9643367528915405,
          null,
          -0.025691520422697067,
          0.7473810315132141,
          null,
          -0.025691520422697067,
          -0.23548080027103424,
          null,
          -0.025691520422697067,
          0.2841193675994873,
          null,
          -0.025691520422697067,
          -0.4860862195491791,
          null,
          -0.025691520422697067,
          -0.700658917427063,
          null,
          -0.025691520422697067,
          -0.2166442573070526,
          null,
          -0.025691520422697067,
          0.8887253403663635,
          null,
          -0.025691520422697067,
          -0.27788007259368896,
          null,
          -0.025691520422697067,
          0.9470152258872986,
          null,
          -0.025691520422697067,
          0.18332481384277344,
          null,
          -0.025691520422697067,
          -0.5285266637802124,
          null,
          -0.025691520422697067,
          -0.3790731728076935,
          null,
          -0.025691520422697067,
          0.18807311356067657,
          null,
          -0.025691520422697067,
          0.12145230919122696,
          null,
          -0.025691520422697067,
          -0.903233528137207,
          null,
          -0.025691520422697067,
          -0.05185168981552124,
          null,
          -0.025691520422697067,
          -0.8123577833175659,
          null,
          -0.025691520422697067,
          -0.8698332905769348,
          null,
          -0.025691520422697067,
          -0.8757076859474182,
          null,
          -0.025691520422697067,
          -0.9168931245803833,
          null,
          -0.025691520422697067,
          0.3375718295574188,
          null,
          -0.025691520422697067,
          -0.5308910608291626,
          null,
          -0.025691520422697067,
          -0.6252237558364868,
          null,
          -0.025691520422697067,
          0.8404915928840637,
          null,
          -0.025691520422697067,
          0.9910984635353088,
          null,
          -0.025691520422697067,
          -0.28159239888191223,
          null,
          -0.025691520422697067,
          -0.745284914970398,
          null,
          -0.025691520422697067,
          -0.8091796040534973,
          null,
          -0.025691520422697067,
          0.8228829503059387,
          null,
          -0.025691520422697067,
          -0.7393338680267334,
          null,
          -0.025691520422697067,
          -0.45036596059799194,
          null,
          -0.025691520422697067,
          -0.09448015689849854,
          null,
          -0.025691520422697067,
          0.8846274018287659,
          null,
          -0.025691520422697067,
          0.286480575799942,
          null,
          -0.025691520422697067,
          -0.27234017848968506,
          null,
          -0.025691520422697067,
          -0.23930977284908295,
          null,
          -0.025691520422697067,
          0.3585653603076935,
          null,
          -0.025691520422697067,
          0.46954143047332764,
          null,
          -0.025691520422697067,
          0.4166506826877594,
          null,
          -0.025691520422697067,
          -0.9812925457954407,
          null,
          -0.025691520422697067,
          0.7876423001289368,
          null,
          -0.025691520422697067,
          -0.4149562418460846,
          null,
          -0.025691520422697067,
          0.39540213346481323,
          null,
          -0.025691520422697067,
          -0.448498010635376,
          null,
          -0.025691520422697067,
          -0.9396336078643799,
          null,
          -0.025691520422697067,
          -0.8716477751731873,
          null,
          -0.025691520422697067,
          -0.21966031193733215,
          null,
          -0.025691520422697067,
          0.18229620158672333,
          null,
          -0.025691520422697067,
          -0.8789442181587219,
          null,
          -0.025691520422697067,
          -0.272823303937912,
          null,
          -0.025691520422697067,
          0.5356113314628601,
          null,
          -0.025691520422697067,
          0.48028478026390076,
          null,
          -0.025691520422697067,
          0.7551394701004028,
          null,
          -0.025691520422697067,
          -0.8911901712417603,
          null,
          -0.025691520422697067,
          -0.3389073610305786,
          null,
          -0.025691520422697067,
          0.6399826407432556,
          null,
          -0.025691520422697067,
          -0.9515450596809387,
          null,
          -0.025691520422697067,
          0.4905144274234772,
          null,
          -0.025691520422697067,
          -0.30211010575294495,
          null,
          -0.025691520422697067,
          0.7102788686752319,
          null,
          -0.025691520422697067,
          0.12611167132854462,
          null,
          -0.025691520422697067,
          0.6385593414306641,
          null,
          -0.025691520422697067,
          0.819210410118103,
          null,
          -0.025691520422697067,
          -0.7572391033172607,
          null,
          -0.025691520422697067,
          -0.6790846586227417,
          null,
          -0.025691520422697067,
          -0.9116857647895813,
          null,
          -0.025691520422697067,
          0.375926673412323,
          null,
          -0.025691520422697067,
          0.7554868459701538,
          null,
          -0.025691520422697067,
          -0.3965941071510315,
          null,
          -0.025691520422697067,
          -0.6780306696891785,
          null,
          -0.025691520422697067,
          0.12805649638175964,
          null,
          -0.025691520422697067,
          0.33639416098594666,
          null,
          -0.025691520422697067,
          -0.5431473255157471,
          null,
          -0.025691520422697067,
          0.404776006937027,
          null,
          -0.025691520422697067,
          -0.24505165219306946,
          null,
          -0.025691520422697067,
          0.573299765586853,
          null,
          -0.025691520422697067,
          0.47578588128089905,
          null,
          -0.025691520422697067,
          0.3170776069164276,
          null,
          -0.025691520422697067,
          -0.9395679235458374,
          null,
          -0.025691520422697067,
          -0.341404527425766,
          null,
          -0.025691520422697067,
          0.19154959917068481,
          null,
          -0.025691520422697067,
          0.8260042667388916,
          null,
          -0.025691520422697067,
          -0.803176999092102,
          null,
          -0.025691520422697067,
          -0.960722804069519,
          null,
          -0.025691520422697067,
          -0.979224681854248,
          null,
          -0.025691520422697067,
          0.27414780855178833,
          null,
          -0.025691520422697067,
          0.2090117633342743,
          null,
          -0.025691520422697067,
          0.6725040078163147,
          null,
          -0.025691520422697067,
          -0.7918968200683594,
          null,
          -0.025691520422697067,
          -0.16667649149894714,
          null,
          -0.025691520422697067,
          0.19945146143436432,
          null,
          -0.025691520422697067,
          0.973024845123291,
          null,
          -0.025691520422697067,
          0.891532301902771,
          null,
          -0.025691520422697067,
          -0.6559184193611145,
          null,
          -0.025691520422697067,
          -0.6676806211471558,
          null,
          -0.025691520422697067,
          0.13292427361011505,
          null,
          -0.025691520422697067,
          0.9151133894920349,
          null,
          -0.025691520422697067,
          -0.034224074333906174,
          null,
          -0.025691520422697067,
          0.9389254450798035,
          null,
          -0.025691520422697067,
          0.8941685557365417,
          null,
          -0.025691520422697067,
          0.032080117613077164,
          null,
          -0.025691520422697067,
          -0.7238239049911499,
          null,
          -0.025691520422697067,
          -0.45037052035331726,
          null,
          -0.025691520422697067,
          0.4891844093799591,
          null,
          -0.025691520422697067,
          0.15308766067028046,
          null,
          -0.025691520422697067,
          0.9907515048980713,
          null,
          -0.025691520422697067,
          -0.06807152926921844,
          null,
          0.2540864646434784,
          -0.06807152926921844,
          null,
          0.523352861404419,
          0.5174844861030579,
          null,
          -0.08361111581325531,
          0.5759146809577942,
          null,
          0.22145064175128937,
          0.38692355155944824,
          null,
          0.22145064175128937,
          0.3968174159526825,
          null,
          -0.22409792244434357,
          -0.046137887984514236,
          null,
          0.44548657536506653,
          0.24162529408931732,
          null,
          0.01803046464920044,
          -0.12013058364391327,
          null,
          -0.046137887984514236,
          -0.7340983152389526,
          null,
          -0.046137887984514236,
          0.4396592378616333,
          null,
          -0.046137887984514236,
          -0.4860862195491791,
          null,
          -0.046137887984514236,
          0.7102788686752319,
          null,
          -0.4475809633731842,
          -0.5285266637802124,
          null,
          0.5759146809577942,
          0.18229620158672333,
          null,
          0.5759146809577942,
          0.12805649638175964,
          null,
          0.5759146809577942,
          0.3170776069164276,
          null,
          -0.9877490401268005,
          -0.12013058364391327,
          null,
          -0.37950482964515686,
          -0.12013058364391327,
          null,
          -0.5181118845939636,
          -0.12013058364391327,
          null,
          -0.5181118845939636,
          -0.8975560665130615,
          null,
          0.013656080700457096,
          0.03418843075633049,
          null,
          0.2877542972564697,
          -0.06807152926921844,
          null,
          0.6753235459327698,
          0.5174844861030579,
          null,
          -0.8550759553909302,
          -0.12013058364391327,
          null,
          0.9643367528915405,
          -0.12013058364391327,
          null,
          -0.27788007259368896,
          -0.06807152926921844,
          null,
          -0.27788007259368896,
          -0.23930977284908295,
          null,
          -0.27788007259368896,
          -0.5285266637802124,
          null,
          -0.27788007259368896,
          -0.05974758043885231,
          null,
          -0.27788007259368896,
          -0.09448015689849854,
          null,
          0.18332481384277344,
          -0.12013058364391327,
          null,
          0.18332481384277344,
          0.5174844861030579,
          null,
          -0.5285266637802124,
          -0.06807152926921844,
          null,
          -0.5285266637802124,
          -0.23930977284908295,
          null,
          -0.5285266637802124,
          -0.09448015689849854,
          null,
          -0.5285266637802124,
          -0.05974758043885231,
          null,
          -0.5285266637802124,
          -0.08933092653751373,
          null,
          -0.3790731728076935,
          -0.12013058364391327,
          null,
          0.12145230919122696,
          -0.12013058364391327,
          null,
          0.12145230919122696,
          0.3968174159526825,
          null,
          0.12145230919122696,
          -0.6339816451072693,
          null,
          -0.28159239888191223,
          -0.06807152926921844,
          null,
          -0.28159239888191223,
          0.5174844861030579,
          null,
          -0.09448015689849854,
          -0.06807152926921844,
          null,
          -0.09448015689849854,
          -0.23930977284908295,
          null,
          -0.09448015689849854,
          -0.05974758043885231,
          null,
          -0.09448015689849854,
          -0.6043905019760132,
          null,
          -0.09448015689849854,
          -0.12477923184633255,
          null,
          -0.23930977284908295,
          -0.06807152926921844,
          null,
          -0.23930977284908295,
          -0.05974758043885231,
          null,
          0.39540213346481323,
          0.2090117633342743,
          null,
          0.18229620158672333,
          -0.12013058364391327,
          null,
          0.18229620158672333,
          0.8686209321022034,
          null,
          0.18229620158672333,
          -0.025183411315083504,
          null,
          -0.3389073610305786,
          -0.12013058364391327,
          null,
          -0.9116857647895813,
          -0.12013058364391327,
          null,
          0.375926673412323,
          -0.6145510077476501,
          null,
          0.12805649638175964,
          -0.12013058364391327,
          null,
          0.12805649638175964,
          0.8686209321022034,
          null,
          0.33639416098594666,
          -0.12013058364391327,
          null,
          0.573299765586853,
          -0.12013058364391327,
          null,
          0.3170776069164276,
          -0.12013058364391327,
          null,
          0.3170776069164276,
          0.3968174159526825,
          null,
          0.19154959917068481,
          0.5174844861030579,
          null,
          0.19154959917068481,
          0.8958740234375,
          null,
          -0.960722804069519,
          -0.12013058364391327,
          null,
          -0.16667649149894714,
          -0.12013058364391327,
          null,
          0.19945146143436432,
          -0.12013058364391327,
          null,
          0.19945146143436432,
          -0.6145510077476501,
          null,
          0.19945146143436432,
          0.38692355155944824,
          null,
          0.19945146143436432,
          0.3968174159526825,
          null,
          -0.6559184193611145,
          -0.12013058364391327,
          null,
          -0.6559184193611145,
          0.3968174159526825,
          null,
          -0.034224074333906174,
          0.8377237319946289,
          null,
          -0.12013058364391327,
          0.8700971603393555,
          null,
          -0.12013058364391327,
          0.1837289035320282,
          null,
          -0.12013058364391327,
          -0.7640929818153381,
          null,
          -0.12013058364391327,
          -0.09061198681592941,
          null,
          -0.12013058364391327,
          -0.08804988116025925,
          null,
          -0.12013058364391327,
          -0.06807152926921844,
          null,
          -0.06807152926921844,
          -0.05974758043885231,
          null,
          -0.5228844285011292,
          0.9903663396835327,
          null,
          0.8531740307807922,
          0.9604795575141907,
          null
         ]
        },
        {
         "hoverinfo": "text",
         "hovertext": [
          "Wikidata<br>URL: https://www.wikidata.org<br>Host: Wikimedia Foundation<br>Version: 1.44.0-wmf.16<br>Start Date: 2012-10-25 00:00:00+00:00<br>Active Users: 24633<br>Users: 6712968<br>Properties: 12327<br>Edits: 2271398577<br>Pages: 119599665",
          "Wikimedia Commons<br>URL: https://commons.wikimedia.org<br>Host: Wikimedia Foundation<br>Version: 1.44.0-wmf.16<br>Start Date: 2019-01-10 00:00:00+00:00<br>Active Users: 39321<br>Users: 13023348<br>Properties: 12327<br>Edits: 952992390<br>Pages: 145301018"
         ],
         "legendgrouptitle": {
          "text": "By host"
         },
         "marker": {
          "color": "#F00000",
          "line": {
           "color": "black",
           "width": 1
          },
          "showscale": false,
          "size": [
           40,
           40
          ]
         },
         "mode": "markers",
         "name": "Wikimedia Foundation (2)",
         "showlegend": true,
         "type": "scatter",
         "x": [
          -0.056497830897569656,
          0.02908475138247013
         ],
         "y": [
          -0.025691520422697067,
          -0.12013058364391327
         ]
        },
        {
         "hoverinfo": "text",
         "hovertext": [
          "SCK<br>URL: https://knihovnici.wikibase.cloud<br>Host: Wikibase Cloud<br>Version: 1.39.7<br>Start Date: 2024-06-26 00:00:00+00:00<br>Active Users: 2<br>Users: 5<br>Properties: 68<br>Edits: 142439<br>Pages: 5453",
          "WikiFCD<br>URL: https://wikifcd.wikibase.cloud/<br>Host: Wikibase Cloud<br>Version: 1.39.7<br>Start Date: 2020-03-02 00:00:00+00:00<br>Active Users: 1<br>Users: 412<br>Properties: 321<br>Edits: 871318<br>Pages: 469132",
          "Ahotsak Wikibase<br>URL: https://datuak.ahotsak.eus/<br>Host: Wikibase Cloud<br>Version: 1.39.7<br>Start Date: 2021-05-26 00:00:00+00:00<br>Active Users: 0<br>Users: 5<br>Properties: 30<br>Edits: 1143182<br>Pages: 27491",
          "Coins Wikibase<br>URL: https://coins.wikibase.cloud/<br>Host: Wikibase Cloud<br>Version: 1.39.7<br>Start Date: 2024-03-08 00:00:00+00:00<br>Active Users: 0<br>Users: 3<br>Properties: 29<br>Edits: 825<br>Pages: 136",
          "wikiWARP<br>URL: https://wikiwarp.wikibase.cloud<br>Host: Wikibase Cloud<br>Version: 1.39.7<br>Start Date: 2022-12-06 00:00:00+00:00<br>Active Users: 0<br>Users: 3<br>Properties: 7<br>Edits: 56<br>Pages: 10",
          "African Americans in Film Collection, 1919-2000<br>URL: https://afamfilm.wikibase.cloud<br>Host: Wikibase Cloud<br>Version: 1.39.7<br>Start Date: 2024-02-11 00:00:00+00:00<br>Active Users: 0<br>Users: 4<br>Properties: 36<br>Edits: 1567<br>Pages: 931",
          "HBMa<br>URL: https://matrika.wikibase.cloud<br>Host: Wikibase Cloud<br>Version: 1.39.7<br>Start Date: 2023-11-21 00:00:00+00:00<br>Active Users: 0<br>Users: 2<br>Properties: 52<br>Edits: 7790<br>Pages: 1233",
          "Digital Scriptorium Catalog<br>URL: https://catalog.digital-scriptorium.org/<br>Host: Wikibase Cloud<br>Version: 1.39.7<br>Start Date: 2022-12-23 00:00:00+00:00<br>Active Users: 1<br>Users: 7<br>Properties: 47<br>Edits: 79544<br>Pages: 55299",
          "Fashion<br>URL: https://fashion.wikibase.cloud<br>Host: Wikibase Cloud<br>Version: 1.39.7<br>Start Date: 2024-07-25 00:00:00+00:00<br>Active Users: 0<br>Users: 2<br>Properties: 29<br>Edits: 18779<br>Pages: 8608",
          "CollectingWomenCourse<br>URL: https://collectingwomencourse.wikibase.cloud<br>Host: Wikibase Cloud<br>Version: 1.39.7<br>Start Date: 2023-11-14 00:00:00+00:00<br>Active Users: 0<br>Users: 21<br>Properties: 25<br>Edits: 1186<br>Pages: 220",
          "Ottgaz<br>URL: https://ottgaz.org<br>Host: Wikibase Cloud<br>Version: 1.39.7<br>Start Date: 2022-09-05 00:00:00+00:00<br>Active Users: 0<br>Users: 4<br>Properties: 38<br>Edits: 80586<br>Pages: 20356",
          "NordhausenDaten<br>URL: https://nordhausen.wikibase.cloud<br>Host: Wikibase Cloud<br>Version: 1.39.7<br>Start Date: 2022-10-05 00:00:00+00:00<br>Active Users: 0<br>Users: 2<br>Properties: 8<br>Edits: 60<br>Pages: 47",
          "British Columbia Directories<br>URL: https://bcdirectories.wikibase.cloud<br>Host: Wikibase Cloud<br>Version: 1.39.7<br>Start Date: 2024-01-18 00:00:00+00:00<br>Active Users: 1<br>Users: 2<br>Properties: 41<br>Edits: 3990<br>Pages: 4187",
          "Devonshire<br>URL: https://devonshire.wikibase.cloud/<br>Host: Wikibase Cloud<br>Version: 1.39.7<br>Start Date: 2022-06-24 00:00:00+00:00<br>Active Users: 1<br>Users: 2<br>Properties: 108<br>Edits: 133174<br>Pages: 61655",
          "Datenbank Nordhausen<br>URL: https://datenbank.nordhausen.org<br>Host: Wikibase Cloud<br>Version: 1.39.7<br>Start Date: 2022-10-05 00:00:00+00:00<br>Active Users: 1<br>Users: 7<br>Properties: 73<br>Edits: 90634<br>Pages: 86804",
          "eneoli wikibase<br>URL: https://eneoli.wikibase.cloud<br>Host: Wikibase Cloud<br>Version: 1.39.7<br>Start Date: 2024-03-15 00:00:00+00:00<br>Active Users: 3<br>Users: 30<br>Properties: 64<br>Edits: 12888<br>Pages: 2597",
          "FILMUSP<br>URL: https://filmusp.wikibase.cloud<br>Host: Wikibase Cloud<br>Version: 1.39.7<br>Start Date: 2024-07-18 00:00:00+00:00<br>Active Users: 0<br>Users: 2<br>Properties: 6<br>Edits: 66<br>Pages: 16",
          "Hydrogen<br>URL: https://hydrogen.wikibase.cloud<br>Host: Wikibase Cloud<br>Version: 1.39.7<br>Start Date: 2024-06-19 00:00:00+00:00<br>Active Users: 0<br>Users: 2<br>Properties: 11<br>Edits: 60<br>Pages: 37",
          "Giorgio De Maria Knowledge Base<br>URL: https://giorgiodemaria.wikibase.cloud/<br>Host: Wikibase Cloud<br>Version: 1.39.7<br>Start Date: 2023-05-12 00:00:00+00:00<br>Active Users: 0<br>Users: 2<br>Properties: 14<br>Edits: 342<br>Pages: 79",
          "The Cool Zone<br>URL: https://coolzone.wikibase.cloud<br>Host: Wikibase Cloud<br>Version: 1.39.7<br>Start Date: 2024-08-12 00:00:00+00:00<br>Active Users: 0<br>Users: 2<br>Properties: 2<br>Edits: 5<br>Pages: 4",
          "Riga Literata<br>URL: https://riga-literata.wikibase.cloud<br>Host: Wikibase Cloud<br>Version: 1.39.7<br>Start Date: 2022-10-05 00:00:00+00:00<br>Active Users: 0<br>Users: 2<br>Properties: 63<br>Edits: 2433<br>Pages: 904",
          "Greek Metrical Inscriptions<br>URL: https://greek-metrical-inscriptions.wikibase.cloud<br>Host: Wikibase Cloud<br>Version: 1.39.7<br>Start Date: 2024-04-29 00:00:00+00:00<br>Active Users: 1<br>Users: 3<br>Properties: 70<br>Edits: 5566<br>Pages: 796",
          "Semantic Name Authority Repository Cymru<br>URL: https://snarc-llgc.wikibase.cloud<br>Host: Wikibase Cloud<br>Version: 1.39.7<br>Start Date: 2022-11-17 00:00:00+00:00<br>Active Users: 1<br>Users: 2<br>Properties: 86<br>Edits: 989320<br>Pages: 130944",
          "Tales of discovery<br>URL: https://discovery-tales.wikibase.cloud<br>Host: Wikibase Cloud<br>Version: 1.39.7<br>Start Date: 2024-07-01 00:00:00+00:00<br>Active Users: 0<br>Users: 5<br>Properties: 43<br>Edits: 10368<br>Pages: 777",
          "LexBib<br>URL: https://lexbib.elex.is<br>Host: Wikibase Cloud<br>Version: 1.39.7<br>Start Date: 2021-08-03 00:00:00+00:00<br>Active Users: 0<br>Users: 730<br>Properties: 212<br>Edits: 874614<br>Pages: 34879",
          "xhgell9mb1qlv2h9gwps<br>URL: https://xhgell9mb1qlv2h9gwps.wikibase.cloud<br>Host: Wikibase Cloud<br>Version: 1.39.7<br>Start Date: 2023-12-11 00:00:00+00:00<br>Active Users: 0<br>Users: 2<br>Properties: 6<br>Edits: 296<br>Pages: 8",
          "Timna Valley Database<br>URL: https://timna-database.wikibase.cloud<br>Host: Wikibase Cloud<br>Version: 1.39.7<br>Start Date: 2024-02-22 00:00:00+00:00<br>Active Users: 6<br>Users: 14<br>Properties: 108<br>Edits: 15533<br>Pages: 789",
          "DigLearning<br>URL: https://diglearning.wikibase.cloud<br>Host: Wikibase Cloud<br>Version: 1.39.7<br>Start Date: 2022-10-18 00:00:00+00:00<br>Active Users: 0<br>Users: 2<br>Properties: 12<br>Edits: 158<br>Pages: 28",
          "DHWiki<br>URL: https://dhwiki.wikibase.cloud<br>Host: Wikibase Cloud<br>Version: 1.39.7<br>Start Date: 2024-09-28 00:00:00+00:00<br>Active Users: 2<br>Users: 5<br>Properties: 40<br>Edits: 1041<br>Pages: 506",
          "bcuf-test<br>URL: https://bcuf-test.wikibase.cloud<br>Host: Wikibase Cloud<br>Version: 1.39.7<br>Start Date: 2022-09-30 00:00:00+00:00<br>Active Users: 0<br>Users: 2<br>Properties: 20<br>Edits: 85<br>Pages: 34",
          "FictionBase<br>URL: https://fictionbase.wikibase.cloud<br>Host: Wikibase Cloud<br>Version: 1.39.7<br>Start Date: 2024-04-14 00:00:00+00:00<br>Active Users: 0<br>Users: 2<br>Properties: 4<br>Edits: 16<br>Pages: 9",
          "Wikimedia Foundation Memory Bank Data Wiki<br>URL: https://memorybankdata.wikibase.cloud<br>Host: Wikibase Cloud<br>Version: 1.39.7<br>Start Date: 2024-01-23 00:00:00+00:00<br>Active Users: 0<br>Users: 2<br>Properties: 56<br>Edits: 2176<br>Pages: 384",
          "Belgian Resistance<br>URL: https://resistance.wikibase.cloud<br>Host: Wikibase Cloud<br>Version: 1.39.7<br>Start Date: 2022-02-04 00:00:00+00:00<br>Active Users: 0<br>Users: 2<br>Properties: 37<br>Edits: 243<br>Pages: 63",
          "College of Science Library, KNUST<br>URL: https://coslib-knust.wikibase.cloud<br>Host: Wikibase Cloud<br>Version: 1.39.7<br>Start Date: 2024-03-15 00:00:00+00:00<br>Active Users: 0<br>Users: 23<br>Properties: 13<br>Edits: 86<br>Pages: 48",
          "GLAMbase<br>URL: https://glambase.wikibase.cloud<br>Host: Wikibase Cloud<br>Version: 1.39.7<br>Start Date: 2022-10-05 00:00:00+00:00<br>Active Users: 0<br>Users: 12<br>Properties: 11<br>Edits: 129<br>Pages: 46",
          "OpenDataSweden<br>URL: https://sweopendata.wikibase.cloud<br>Host: Wikibase Cloud<br>Version: 1.39.7<br>Start Date: 2020-12-17 00:00:00+00:00<br>Active Users: 0<br>Users: 2513<br>Properties: 33<br>Edits: 2648<br>Pages: 795",
          "ds20230203<br>URL: https://ds20230203.wikibase.cloud<br>Host: Wikibase Cloud<br>Version: 1.39.7<br>Start Date: 2023-02-03 00:00:00+00:00<br>Active Users: 0<br>Users: 2<br>Properties: 47<br>Edits: 315<br>Pages: 303",
          "oswald<br>URL: https://oswald.wikibase.cloud<br>Host: Wikibase Cloud<br>Version: 1.39.7<br>Start Date: 2022-10-10 00:00:00+00:00<br>Active Users: 0<br>Users: 3<br>Properties: 44<br>Edits: 1487<br>Pages: 369",
          "KZK<br>URL: https://zkratky.wikibase.cloud<br>Host: Wikibase Cloud<br>Version: 1.39.7<br>Start Date: 2024-06-26 00:00:00+00:00<br>Active Users: 1<br>Users: 4<br>Properties: 25<br>Edits: 100280<br>Pages: 5995",
          "Serbian Wikibase<br>URL: https://serbian.wikibase.cloud<br>Host: Wikibase Cloud<br>Version: 1.39.7<br>Start Date: 2024-01-31 00:00:00+00:00<br>Active Users: 0<br>Users: 4<br>Properties: 22<br>Edits: 59983<br>Pages: 24285",
          "Eusterm Wikibase<br>URL: https://eusterm.wikibase.cloud<br>Host: Wikibase Cloud<br>Version: 1.39.7<br>Start Date: 2022-10-26 00:00:00+00:00<br>Active Users: 12<br>Users: 40<br>Properties: 165<br>Edits: 41347<br>Pages: 17539",
          "National Gallery of Art<br>URL: https://mercury7.wikibase.cloud<br>Host: Wikibase Cloud<br>Version: 1.39.7<br>Start Date: 2022-07-06 00:00:00+00:00<br>Active Users: 2<br>Users: 6<br>Properties: 122<br>Edits: 36259<br>Pages: 3354",
          "Schema descriptions<br>URL: https://schema-korf.wikibase.cloud<br>Host: Wikibase Cloud<br>Version: 1.39.7<br>Start Date: 2020-04-10 00:00:00+00:00<br>Active Users: 0<br>Users: 6<br>Properties: 8<br>Edits: 56<br>Pages: 23",
          "DataLib<br>URL: https://datalib.wikibase.cloud<br>Host: Wikibase Cloud<br>Version: 1.39.7<br>Start Date: 2024-05-24 00:00:00+00:00<br>Active Users: 1<br>Users: 6<br>Properties: 59<br>Edits: 37408<br>Pages: 1872",
          "Kluck<br>URL: https://kluck.wikibase.cloud<br>Host: Wikibase Cloud<br>Version: 1.39.7<br>Start Date: 2024-04-17 00:00:00+00:00<br>Active Users: 0<br>Users: 2<br>Properties: 2<br>Edits: 5<br>Pages: 3",
          "TRE Test<br>URL: https://tre-test.wikibase.cloud<br>Host: Wikibase Cloud<br>Version: 1.39.7<br>Start Date: 2023-05-15 00:00:00+00:00<br>Active Users: 2<br>Users: 3<br>Properties: 37<br>Edits: 342425<br>Pages: 252423",
          "TReK2<br>URL: https://restorationtoolkit2.wikibase.cloud<br>Host: Wikibase Cloud<br>Version: 1.39.7<br>Start Date: 2024-08-02 00:00:00+00:00<br>Active Users: 0<br>Users: 3<br>Properties: 14<br>Edits: 46<br>Pages: 28",
          "EEW<br>URL: https://eew-edgi.wikibase.cloud/<br>Host: Wikibase Cloud<br>Version: 1.39.7<br>Start Date: 2023-03-08 00:00:00+00:00<br>Active Users: 0<br>Users: 2<br>Properties: 58<br>Edits: 42920<br>Pages: 33490",
          "IR Abbreviations<br>URL: https://ir-abbreviations.wikibase.cloud<br>Host: Wikibase Cloud<br>Version: 1.39.7<br>Start Date: 2024-07-25 00:00:00+00:00<br>Active Users: 0<br>Users: 3<br>Properties: 19<br>Edits: 127<br>Pages: 30",
          "Proust-Portal<br>URL: https://proust-portal.wikibase.cloud<br>Host: Wikibase Cloud<br>Version: 1.39.7<br>Start Date: 2023-10-22 00:00:00+00:00<br>Active Users: 1<br>Users: 4<br>Properties: 4<br>Edits: 20<br>Pages: 6",
          "zentrum für netzkunst<br>URL: https://netart.wikibase.cloud<br>Host: Wikibase Cloud<br>Version: 1.39.7<br>Start Date: 2024-04-29 00:00:00+00:00<br>Active Users: 1<br>Users: 4<br>Properties: 125<br>Edits: 3958<br>Pages: 1260",
          "test<br>URL: https://ubna-test.wikibase.cloud<br>Host: Wikibase Cloud<br>Version: 1.39.7<br>Start Date: 2024-01-25 00:00:00+00:00<br>Active Users: 0<br>Users: 3<br>Properties: 29<br>Edits: 146<br>Pages: 54",
          "photo-techniques<br>URL: https://photo-techniques.dvnr.ch<br>Host: Wikibase Cloud<br>Version: 1.39.7<br>Start Date: 2020-11-15 00:00:00+00:00<br>Active Users: 0<br>Users: 2<br>Properties: 14<br>Edits: 245<br>Pages: 119",
          "British Library Archives and Manuscripts<br>URL: https://bl-archives-manuscripts.wikibase.cloud<br>Host: Wikibase Cloud<br>Version: 1.39.7<br>Start Date: 2023-12-07 00:00:00+00:00<br>Active Users: 0<br>Users: 2<br>Properties: 36<br>Edits: 33746<br>Pages: 3453",
          "Willighagen 101<br>URL: https://willighagen-2021.wikibase.cloud<br>Host: Wikibase Cloud<br>Version: 1.39.7<br>Start Date: 2021-12-22 00:00:00+00:00<br>Active Users: 0<br>Users: 16<br>Properties: 46<br>Edits: 2044<br>Pages: 382",
          "Aberdeen Harbour Arrivals<br>URL: https://aberdeen-arrivals.wikibase.cloud<br>Host: Wikibase Cloud<br>Version: 1.39.7<br>Start Date: 2023-03-21 00:00:00+00:00<br>Active Users: 0<br>Users: 2<br>Properties: 17<br>Edits: 287<br>Pages: 231",
          "melanges-test<br>URL: https://melanges-test.wikibase.cloud<br>Host: Wikibase Cloud<br>Version: 1.39.7<br>Start Date: 2022-10-28 00:00:00+00:00<br>Active Users: 0<br>Users: 2<br>Properties: 14<br>Edits: 278<br>Pages: 112",
          "Podcasts<br>URL: https://podcasts.wikibase.cloud<br>Host: Wikibase Cloud<br>Version: 1.39.7<br>Start Date: 2023-02-28 00:00:00+00:00<br>Active Users: 0<br>Users: 2<br>Properties: 77<br>Edits: 33711<br>Pages: 1351",
          "Minecraft JE Data<br>URL: https://mcje-data.wikibase.cloud<br>Host: Wikibase Cloud<br>Version: 1.39.7<br>Start Date: 2022-06-17 00:00:00+00:00<br>Active Users: 0<br>Users: 18<br>Properties: 125<br>Edits: 16366<br>Pages: 5592",
          "DREAMS Wiki<br>URL: https://dreams.wikibase.cloud<br>Host: Wikibase Cloud<br>Version: 1.39.7<br>Start Date: 2020-10-19 00:00:00+00:00<br>Active Users: 0<br>Users: 18<br>Properties: 53<br>Edits: 18564<br>Pages: 5649",
          "Inguma Wikibase<br>URL: https://wikibase.inguma.eus<br>Host: Wikibase Cloud<br>Version: 1.39.7<br>Start Date: 2022-02-11 00:00:00+00:00<br>Active Users: 3<br>Users: 13<br>Properties: 89<br>Edits: 154486<br>Pages: 45176",
          "Game classification<br>URL: https://cla-g.wikibase.cloud<br>Host: Wikibase Cloud<br>Version: 1.39.7<br>Start Date: 2024-08-05 00:00:00+00:00<br>Active Users: 1<br>Users: 8<br>Properties: 27<br>Edits: 3717<br>Pages: 380",
          "Memory Work Los Angeles<br>URL: https://memoryworkla.wikibase.cloud<br>Host: Wikibase Cloud<br>Version: 1.39.7<br>Start Date: 2023-10-11 00:00:00+00:00<br>Active Users: 1<br>Users: 2<br>Properties: 15<br>Edits: 325<br>Pages: 135",
          "Vico<br>URL: https://vicobncf.wikibase.cloud<br>Host: Wikibase Cloud<br>Version: 1.39.7<br>Start Date: 2023-08-22 00:00:00+00:00<br>Active Users: 1<br>Users: 4<br>Properties: 15<br>Edits: 779<br>Pages: 168",
          "Repository Authorities<br>URL: https://ir-authorities.wikibase.cloud<br>Host: Wikibase Cloud<br>Version: 1.39.7<br>Start Date: 2023-02-10 00:00:00+00:00<br>Active Users: 1<br>Users: 7<br>Properties: 18<br>Edits: 721<br>Pages: 179",
          "Machine Learning Models<br>URL: https://mlmodel.wikibase.cloud<br>Host: Wikibase Cloud<br>Version: 1.39.7<br>Start Date: 2024-05-18 00:00:00+00:00<br>Active Users: 0<br>Users: 2<br>Properties: 6<br>Edits: 46<br>Pages: 12",
          "Disaster Base<br>URL: https://disaster-base.wikibase.cloud<br>Host: Wikibase Cloud<br>Version: 1.39.7<br>Start Date: 2024-07-22 00:00:00+00:00<br>Active Users: 0<br>Users: 2<br>Properties: 115<br>Edits: 222<br>Pages: 180",
          "catalog-dev<br>URL: https://catalog-dev.digital-scriptorium.org<br>Host: Wikibase Cloud<br>Version: 1.39.7<br>Start Date: 2022-12-21 00:00:00+00:00<br>Active Users: 0<br>Users: 2<br>Properties: 47<br>Edits: 1758<br>Pages: 1731",
          "Ex Musica<br>URL: https://exmusica.wikibase.cloud<br>Host: Wikibase Cloud<br>Version: 1.39.7<br>Start Date: 2023-01-13 00:00:00+00:00<br>Active Users: 1<br>Users: 2<br>Properties: 11<br>Edits: 104<br>Pages: 21",
          "Lotico<br>URL: https://lotico.wikibase.cloud<br>Host: Wikibase Cloud<br>Version: 1.39.7<br>Start Date: 2023-12-25 00:00:00+00:00<br>Active Users: 0<br>Users: 2<br>Properties: 5<br>Edits: 41<br>Pages: 14",
          "BIB18<br>URL: https://bib18.wikibase.cloud<br>Host: Wikibase Cloud<br>Version: 1.39.7<br>Start Date: 2024-09-02 00:00:00+00:00<br>Active Users: 0<br>Users: 2<br>Properties: 77<br>Edits: 799<br>Pages: 299",
          "test wiki<br>URL: https://test-wiki.wikibase.cloud<br>Host: Wikibase Cloud<br>Version: 1.39.7<br>Start Date: 2024-06-01 00:00:00+00:00<br>Active Users: 0<br>Users: 2<br>Properties: 5<br>Edits: 12<br>Pages: 6",
          "Mapping DH<br>URL: https://mapping-dh.wikibase.cloud<br>Host: Wikibase Cloud<br>Version: 1.39.7<br>Start Date: 2024-08-09 00:00:00+00:00<br>Active Users: 1<br>Users: 3<br>Properties: 121<br>Edits: 11271<br>Pages: 2146",
          "Binbir Done<br>URL: https://binbirdone.wikibase.cloud<br>Host: Wikibase Cloud<br>Version: 1.39.7<br>Start Date: 2024-06-01 00:00:00+00:00<br>Active Users: 1<br>Users: 2<br>Properties: 132<br>Edits: 4647<br>Pages: 726",
          "Citable SPARQL queries<br>URL: https://sparql-queries-20211030.wikibase.cloud<br>Host: Wikibase Cloud<br>Version: 1.39.7<br>Start Date: 2021-10-30 00:00:00+00:00<br>Active Users: 0<br>Users: 3<br>Properties: 10<br>Edits: 38<br>Pages: 12",
          "Glossario di biblioteconomia<br>URL: https://glossbib.wikibase.cloud<br>Host: Wikibase Cloud<br>Version: 1.39.7<br>Start Date: 2023-04-18 00:00:00+00:00<br>Active Users: 0<br>Users: 6<br>Properties: 144<br>Edits: 3464<br>Pages: 622",
          "corpeus<br>URL: https://corpeus.wikibase.cloud<br>Host: Wikibase Cloud<br>Version: 1.39.7<br>Start Date: 2023-07-20 00:00:00+00:00<br>Active Users: 0<br>Users: 2<br>Properties: 5<br>Edits: 13<br>Pages: 7",
          "Curationist Vocabulary<br>URL: https://curationist.wikibase.cloud<br>Host: Wikibase Cloud<br>Version: 1.39.7<br>Start Date: 2024-08-14 00:00:00+00:00<br>Active Users: 0<br>Users: 2<br>Properties: 5<br>Edits: 35<br>Pages: 11",
          "Hypotheseis<br>URL: https://hypotheseis.wikibase.cloud<br>Host: Wikibase Cloud<br>Version: 1.39.7<br>Start Date: 2024-03-27 00:00:00+00:00<br>Active Users: 1<br>Users: 5<br>Properties: 47<br>Edits: 11308<br>Pages: 1745",
          "Ozrens<br>URL: https://wiki.ozrens.com<br>Host: Wikibase Cloud<br>Version: 1.39.7<br>Start Date: 2024-07-01 00:00:00+00:00<br>Active Users: 0<br>Users: 2<br>Properties: 14<br>Edits: 34<br>Pages: 23",
          "gj-23things-data-place<br>URL: https://gj-23things-data-place.wikibase.cloud<br>Host: Wikibase Cloud<br>Version: 1.39.7<br>Start Date: 2023-09-15 00:00:00+00:00<br>Active Users: 0<br>Users: 2<br>Properties: 3<br>Edits: 12<br>Pages: 6",
          "Bradford Collections<br>URL: https://bradford-collections.wikibase.cloud<br>Host: Wikibase Cloud<br>Version: 1.39.7<br>Start Date: 2024-01-30 00:00:00+00:00<br>Active Users: 0<br>Users: 5<br>Properties: 16<br>Edits: 501<br>Pages: 45",
          "MLIS Course Catalogs<br>URL: https://mliscoursecatalogs.wikibase.cloud<br>Host: Wikibase Cloud<br>Version: 1.39.7<br>Start Date: 2024-03-27 00:00:00+00:00<br>Active Users: 0<br>Users: 2<br>Properties: 14<br>Edits: 1145<br>Pages: 195",
          "Monumenta Linguae Vasconum<br>URL: https://monumenta.wikibase.cloud/<br>Host: Wikibase Cloud<br>Version: 1.39.7<br>Start Date: 2023-07-22 00:00:00+00:00<br>Active Users: 1<br>Users: 4<br>Properties: 176<br>Edits: 107225<br>Pages: 88321",
          "OpenAcolit<br>URL: https://openacolit.wikibase.cloud<br>Host: Wikibase Cloud<br>Version: 1.39.7<br>Start Date: 2023-06-28 00:00:00+00:00<br>Active Users: 2<br>Users: 32<br>Properties: 15<br>Edits: 5374<br>Pages: 1289",
          "SCC<br>URL: https://congration.wikibase.cloud<br>Host: Wikibase Cloud<br>Version: 1.39.7<br>Start Date: 2024-06-14 00:00:00+00:00<br>Active Users: 2<br>Users: 2<br>Properties: 37<br>Edits: 275<br>Pages: 115",
          "NemesiEmigráció<br>URL: https://nobleemigration.wikibase.cloud<br>Host: Wikibase Cloud<br>Version: 1.39.7<br>Start Date: 2024-02-20 00:00:00+00:00<br>Active Users: 0<br>Users: 2<br>Properties: 152<br>Edits: 994<br>Pages: 224",
          "Wikidata for Digital Preservation<br>URL: https://wikidp.wikibase.cloud/<br>Host: Wikibase Cloud<br>Version: 1.39.7<br>Start Date: 2020-03-17 00:00:00+00:00<br>Active Users: 1<br>Users: 35585<br>Properties: 77<br>Edits: 151280<br>Pages: 104925",
          "d'Aïeux et d'Ailleurs<br>URL: https://daieuxetdailleurs.wikibase.cloud<br>Host: Wikibase Cloud<br>Version: 1.39.7<br>Start Date: 2022-09-16 00:00:00+00:00<br>Active Users: 0<br>Users: 2<br>Properties: 62<br>Edits: 8950<br>Pages: 1138",
          "Internet Domains Wikibase<br>URL: https://domains.wikibase.cloud<br>Host: Wikibase Cloud<br>Version: 1.39.7<br>Start Date: 2023-05-07 00:00:00+00:00<br>Active Users: 1<br>Users: 13<br>Properties: 34<br>Edits: 831168<br>Pages: 311049",
          "Metabase<br>URL: https://metabase.wikibase.cloud<br>Host: Wikibase Cloud<br>Version: 1.39.7<br>Start Date: 2022-10-13 00:00:00+00:00<br>Active Users: 6<br>Users: 36<br>Properties: 86<br>Edits: 39552<br>Pages: 3657",
          "LGBTdb<br>URL: https://lgbtdb.wikibase.cloud/<br>Host: Wikibase Cloud<br>Version: 1.39.7<br>Start Date: 2023-03-06 00:00:00+00:00<br>Active Users: 1<br>Users: 4<br>Properties: 834<br>Edits: 182695<br>Pages: 34036",
          "Privacy Wiki<br>URL: https://privacy.wikibase.cloud<br>Host: Wikibase Cloud<br>Version: 1.39.7<br>Start Date: 2024-09-13 00:00:00+00:00<br>Active Users: 0<br>Users: 2<br>Properties: 7<br>Edits: 17<br>Pages: 12",
          "Swedish Museum<br>URL: https://swedishmuseum.wikibase.cloud<br>Host: Wikibase Cloud<br>Version: 1.39.7<br>Start Date: 2019-11-18 00:00:00+00:00<br>Active Users: 0<br>Users: 137<br>Properties: 19<br>Edits: 733<br>Pages: 52",
          "John Samuel<br>URL: https://jsamwrites.wikibase.cloud<br>Host: Wikibase Cloud<br>Version: 1.39.7<br>Start Date: 2023-02-12 00:00:00+00:00<br>Active Users: 2<br>Users: 2<br>Properties: 36<br>Edits: 5245<br>Pages: 1416",
          "Hi Knowledge<br>URL: https://hiktest.bootsa.net<br>Host: Wikibase Cloud<br>Version: 1.39.7<br>Start Date: 2024-02-07 00:00:00+00:00<br>Active Users: 0<br>Users: 3<br>Properties: 7<br>Edits: 71<br>Pages: 40",
          "RIWATCH MUSEUM<br>URL: https://riwatchmuseum.wikibase.cloud<br>Host: Wikibase Cloud<br>Version: 1.39.7<br>Start Date: 2023-07-14 00:00:00+00:00<br>Active Users: 0<br>Users: 3<br>Properties: 11<br>Edits: 538<br>Pages: 159",
          "Publication Abbreviations<br>URL: https://abbreviations.wikibase.cloud<br>Host: Wikibase Cloud<br>Version: 1.39.7<br>Start Date: 2023-03-10 00:00:00+00:00<br>Active Users: 0<br>Users: 4<br>Properties: 21<br>Edits: 8884<br>Pages: 1172",
          "Enote-Playground<br>URL: https://enote-playground.wikibase.cloud<br>Host: Wikibase Cloud<br>Version: 1.39.7<br>Start Date: 2023-01-27 00:00:00+00:00<br>Active Users: 0<br>Users: 9<br>Properties: 60<br>Edits: 640<br>Pages: 164",
          "Ppuidev<br>URL: https://pbuidev.wikibase.cloud<br>Host: Wikibase Cloud<br>Version: 1.39.7<br>Start Date: 2023-01-16 00:00:00+00:00<br>Active Users: 0<br>Users: 5<br>Properties: 872<br>Edits: 77671<br>Pages: 51615",
          "Berkeley Law<br>URL: https://berkeleylaw.wikibase.cloud<br>Host: Wikibase Cloud<br>Version: 1.39.7<br>Start Date: 2022-11-02 00:00:00+00:00<br>Active Users: 0<br>Users: 3<br>Properties: 29<br>Edits: 58<br>Pages: 34",
          "Bodhitestwiki<br>URL: https://bodhitestwiki.wikibase.cloud<br>Host: Wikibase Cloud<br>Version: 1.39.7<br>Start Date: 2023-03-24 00:00:00+00:00<br>Active Users: 0<br>Users: 2<br>Properties: 12<br>Edits: 51<br>Pages: 19",
          "mythogram<br>URL: https://mythogram.wikibase.cloud<br>Host: Wikibase Cloud<br>Version: 1.39.7<br>Start Date: 2024-05-02 00:00:00+00:00<br>Active Users: 0<br>Users: 2<br>Properties: 25<br>Edits: 281970<br>Pages: 15684",
          "Qichwabase<br>URL: https://qichwa.wikibase.cloud/<br>Host: Wikibase Cloud<br>Version: 1.39.7<br>Start Date: 2022-05-30 00:00:00+00:00<br>Active Users: 0<br>Users: 16<br>Properties: 40<br>Edits: 81170<br>Pages: 27572",
          "essencialistas<br>URL: https://essencialistas.wikibase.cloud<br>Host: Wikibase Cloud<br>Version: 1.39.7<br>Start Date: 2024-02-07 00:00:00+00:00<br>Active Users: 0<br>Users: 3<br>Properties: 5<br>Edits: 39<br>Pages: 22",
          "WikiFashion<br>URL: https://wikifashion.wikibase.cloud<br>Host: Wikibase Cloud<br>Version: 1.39.7<br>Start Date: 2024-09-16 00:00:00+00:00<br>Active Users: 2<br>Users: 2<br>Properties: 39<br>Edits: 8677<br>Pages: 2387",
          "vtul<br>URL: https://vtul-metadataservices.wikibase.cloud<br>Host: Wikibase Cloud<br>Version: 1.39.7<br>Start Date: 2023-02-13 00:00:00+00:00<br>Active Users: 0<br>Users: 9<br>Properties: 63<br>Edits: 486<br>Pages: 161",
          "elit<br>URL: https://e-lit.wikibase.cloud<br>Host: Wikibase Cloud<br>Version: 1.39.7<br>Start Date: 2024-02-10 00:00:00+00:00<br>Active Users: 1<br>Users: 2<br>Properties: 4<br>Edits: 15<br>Pages: 8",
          "R74n Wikibase<br>URL: https://data.r74n.com/<br>Host: Wikibase Cloud<br>Version: 1.39.7<br>Start Date: 2022-11-17 00:00:00+00:00<br>Active Users: 1<br>Users: 141<br>Properties: 236<br>Edits: 19776<br>Pages: 3589",
          "CLB-LOD Wikibase<br>URL: https://clb-lod.wikibase.cloud<br>Host: Wikibase Cloud<br>Version: 1.39.7<br>Start Date: 2022-08-26 00:00:00+00:00<br>Active Users: 0<br>Users: 3<br>Properties: 88<br>Edits: 9564<br>Pages: 7618",
          "NFDI4Culture Data Enrichment<br>URL: https://enrich-nfdi4culture.wikibase.cloud<br>Host: Wikibase Cloud<br>Version: 1.39.7<br>Start Date: 2021-06-17 00:00:00+00:00<br>Active Users: 0<br>Users: 8<br>Properties: 83<br>Edits: 6703<br>Pages: 771",
          "Agua Archiv<br>URL: https://agua-archiv.wikibase.cloud<br>Host: Wikibase Cloud<br>Version: 1.39.7<br>Start Date: 2024-06-28 00:00:00+00:00<br>Active Users: 0<br>Users: 2<br>Properties: 13<br>Edits: 39<br>Pages: 23",
          "Open Miscellaneous Wikibase<br>URL: https://other.wikibase.cloud<br>Host: Wikibase Cloud<br>Version: 1.39.7<br>Start Date: 2023-01-13 00:00:00+00:00<br>Active Users: 1<br>Users: 4<br>Properties: 8<br>Edits: 162<br>Pages: 32",
          "Pets I Have Owned<br>URL: https://petsihaveowned.wikibase.cloud<br>Host: Wikibase Cloud<br>Version: 1.39.7<br>Start Date: 2024-04-17 00:00:00+00:00<br>Active Users: 0<br>Users: 2<br>Properties: 2<br>Edits: 6<br>Pages: 5",
          "GWMAB Edu Wikibase<br>URL: https://gwmab-edu.wikibase.cloud<br>Host: Wikibase Cloud<br>Version: 1.39.7<br>Start Date: 2023-10-09 00:00:00+00:00<br>Active Users: 0<br>Users: 7<br>Properties: 10<br>Edits: 112<br>Pages: 33",
          "Biomarker Linked Data<br>URL: https://biomarker.wikibase.cloud<br>Host: Wikibase Cloud<br>Version: 1.39.7<br>Start Date: 2020-04-17 00:00:00+00:00<br>Active Users: 0<br>Users: 5<br>Properties: 42<br>Edits: 269<br>Pages: 68",
          "ZiF sandbox<br>URL: https://zif-sandbox.wikibase.cloud<br>Host: Wikibase Cloud<br>Version: 1.39.7<br>Start Date: 2024-09-10 00:00:00+00:00<br>Active Users: 0<br>Users: 3<br>Properties: 13<br>Edits: 225<br>Pages: 63",
          "Numisgnosis<br>URL: https://numisgnosis.wikibase.cloud<br>Host: Wikibase Cloud<br>Version: 1.39.7<br>Start Date: 2024-03-26 00:00:00+00:00<br>Active Users: 0<br>Users: 2<br>Properties: 38<br>Edits: 473<br>Pages: 141",
          "cocreate cologne alpha<br>URL: https://cocreate-cologne.wikibase.cloud<br>Host: Wikibase Cloud<br>Version: 1.39.7<br>Start Date: 2020-05-31 00:00:00+00:00<br>Active Users: 1<br>Users: 8<br>Properties: 81<br>Edits: 10052<br>Pages: 2940",
          "Zine Catalog<br>URL: https://zine-catalog.wikibase.cloud<br>Host: Wikibase Cloud<br>Version: 1.39.7<br>Start Date: 2023-07-11 00:00:00+00:00<br>Active Users: 0<br>Users: 2<br>Properties: 6<br>Edits: 26<br>Pages: 11",
          "My Community Archives<br>URL: https://mycommunity.wikibase.cloud<br>Host: Wikibase Cloud<br>Version: 1.39.7<br>Start Date: 2023-08-14 00:00:00+00:00<br>Active Users: 1<br>Users: 3<br>Properties: 26<br>Edits: 3313<br>Pages: 1018",
          "NAF Test<br>URL: https://naf-test.wikibase.cloud<br>Host: Wikibase Cloud<br>Version: 1.39.7<br>Start Date: 2023-01-10 00:00:00+00:00<br>Active Users: 0<br>Users: 19<br>Properties: 3035<br>Edits: 3986<br>Pages: 3195",
          "Bradford Collections Test<br>URL: https://bradford-collections-test.wikibase.cloud<br>Host: Wikibase Cloud<br>Version: 1.39.7<br>Start Date: 2024-07-09 00:00:00+00:00<br>Active Users: 1<br>Users: 3<br>Properties: 12<br>Edits: 65<br>Pages: 16",
          "TDKIV<br>URL: https://tdkiv.wikibase.cloud<br>Host: Wikibase Cloud<br>Version: 1.39.7<br>Start Date: 2024-03-27 00:00:00+00:00<br>Active Users: 1<br>Users: 4<br>Properties: 28<br>Edits: 80529<br>Pages: 4997",
          "Congruence Engine Data Register<br>URL: https://congruence-engine.wikibase.cloud<br>Host: Wikibase Cloud<br>Version: 1.39.7<br>Start Date: 2024-07-30 00:00:00+00:00<br>Active Users: 3<br>Users: 11<br>Properties: 10<br>Edits: 317<br>Pages: 39",
          "LibMovIt Project<br>URL: https://libmovit.wikibase.cloud<br>Host: Wikibase Cloud<br>Version: 1.39.7<br>Start Date: 2024-01-22 00:00:00+00:00<br>Active Users: 2<br>Users: 43<br>Properties: 75<br>Edits: 26305<br>Pages: 2151",
          "Whakapapa Test<br>URL: https://whakapapa.wikibase.cloud<br>Host: Wikibase Cloud<br>Version: 1.39.7<br>Start Date: 2023-08-07 00:00:00+00:00<br>Active Users: 0<br>Users: 2<br>Properties: 4<br>Edits: 17<br>Pages: 7",
          "testing<br>URL: https://testingwiki.wikibase.cloud<br>Host: Wikibase Cloud<br>Version: 1.39.7<br>Start Date: 2024-02-20 00:00:00+00:00<br>Active Users: 1<br>Users: 4<br>Properties: 25<br>Edits: 230<br>Pages: 54",
          "OHOS Community Wikibase<br>URL: https://ohos-community.wikibase.cloud<br>Host: Wikibase Cloud<br>Version: 1.39.7<br>Start Date: 2023-12-11 00:00:00+00:00<br>Active Users: 1<br>Users: 2<br>Properties: 9<br>Edits: 42238<br>Pages: 12623",
          "Protist-Prokaryote Symbiosis Database<br>URL: https://ppsdb.wikibase.cloud<br>Host: Wikibase Cloud<br>Version: 1.39.7<br>Start Date: 2024-03-15 00:00:00+00:00<br>Active Users: 1<br>Users: 2<br>Properties: 43<br>Edits: 17520<br>Pages: 2432",
          "Trésor des Délibérations Municipales de la Lorraine<br>URL: https://tredemulor.wikibase.cloud<br>Host: Wikibase Cloud<br>Version: 1.39.7<br>Start Date: 2024-05-17 00:00:00+00:00<br>Active Users: 0<br>Users: 2<br>Properties: 15<br>Edits: 173<br>Pages: 57",
          "Mackenzie Wikibase Test<br>URL: https://test-mackenzie-dev.wikibase.cloud<br>Host: Wikibase Cloud<br>Version: 1.39.7<br>Start Date: 2023-11-06 00:00:00+00:00<br>Active Users: 0<br>Users: 3<br>Properties: 49<br>Edits: 256<br>Pages: 78",
          "Berkeley Law IR<br>URL: https://berkeleylawir.wikibase.cloud<br>Host: Wikibase Cloud<br>Version: 1.39.7<br>Start Date: 2023-12-22 00:00:00+00:00<br>Active Users: 0<br>Users: 2<br>Properties: 31<br>Edits: 224<br>Pages: 79",
          "Kurdî Wikibase<br>URL: https://kurdi.wikibase.cloud/<br>Host: Wikibase Cloud<br>Version: 1.39.7<br>Start Date: 2023-01-09 00:00:00+00:00<br>Active Users: 1<br>Users: 4<br>Properties: 17<br>Edits: 26046<br>Pages: 21069",
          "CNB works<br>URL: https://cnb-works.wikibase.cloud<br>Host: Wikibase Cloud<br>Version: 1.39.7<br>Start Date: 2023-02-06 00:00:00+00:00<br>Active Users: 1<br>Users: 3<br>Properties: 31<br>Edits: 110<br>Pages: 34",
          "CODECS Wikibase<br>URL: https://codecs.wikibase.cloud<br>Host: Wikibase Cloud<br>Version: 1.39.7<br>Start Date: 2024-07-06 00:00:00+00:00<br>Active Users: 1<br>Users: 3<br>Properties: 101<br>Edits: 9835<br>Pages: 5159",
          "The Italian Underground press knowledge base<br>URL: https://itunderpress.wikibase.cloud<br>Host: Wikibase Cloud<br>Version: 1.39.7<br>Start Date: 2022-09-07 00:00:00+00:00<br>Active Users: 1<br>Users: 3<br>Properties: 23<br>Edits: 250<br>Pages: 69",
          "UniDive WG2-T2.2<br>URL: https://unidive.wikibase.cloud<br>Host: Wikibase Cloud<br>Version: 1.39.7<br>Start Date: 2024-07-03 00:00:00+00:00<br>Active Users: 1<br>Users: 3<br>Properties: 9<br>Edits: 8778<br>Pages: 4390",
          "Enlightened Medialities<br>URL: https://enlightenedmedialities.wikibase.cloud<br>Host: Wikibase Cloud<br>Version: 1.39.7<br>Start Date: 2020-05-19 00:00:00+00:00<br>Active Users: 1<br>Users: 5<br>Properties: 66<br>Edits: 80184<br>Pages: 2881",
          "MAD Landscape Collective<br>URL: https://mad-landscape-collective.wikibase.cloud<br>Host: Wikibase Cloud<br>Version: 1.39.7<br>Start Date: 2024-06-21 00:00:00+00:00<br>Active Users: 0<br>Users: 2<br>Properties: 5<br>Edits: 16<br>Pages: 6",
          "importer<br>URL: https://importer.wikibase.cloud<br>Host: Wikibase Cloud<br>Version: 1.39.7<br>Start Date: 2023-03-07 00:00:00+00:00<br>Active Users: 0<br>Users: 4<br>Properties: 693<br>Edits: 2499<br>Pages: 2342",
          "Hyperstage<br>URL: https://hyperstage.wikibase.cloud<br>Host: Wikibase Cloud<br>Version: 1.39.7<br>Start Date: 2023-11-24 00:00:00+00:00<br>Active Users: 3<br>Users: 6<br>Properties: 110<br>Edits: 10946<br>Pages: 1403",
          "Open Data Kerala Wikibase<br>URL: https://opendatakerala.wikibase.cloud/<br>Host: Wikibase Cloud<br>Version: 1.39.7<br>Start Date: 2023-09-25 00:00:00+00:00<br>Active Users: 1<br>Users: 4<br>Properties: 35<br>Edits: 46873<br>Pages: 23191",
          "Local Food Data<br>URL: https://wikibase.locavorefoods.info<br>Host: Wikibase Cloud<br>Version: 1.39.7<br>Start Date: 2023-12-17 00:00:00+00:00<br>Active Users: 0<br>Users: 3<br>Properties: 42<br>Edits: 100<br>Pages: 48",
          "ASCLTestWikibase<br>URL: https://ascltestwikibase.wikibase.cloud<br>Host: Wikibase Cloud<br>Version: 1.39.7<br>Start Date: 2022-09-09 00:00:00+00:00<br>Active Users: 0<br>Users: 3<br>Properties: 33<br>Edits: 363<br>Pages: 53",
          "Prosop Wiki<br>URL: https://prosop-wiki.wikibase.cloud<br>Host: Wikibase Cloud<br>Version: 1.39.7<br>Start Date: 2022-10-13 00:00:00+00:00<br>Active Users: 0<br>Users: 2<br>Properties: 7<br>Edits: 49<br>Pages: 9",
          "Dominio Público<br>URL: https://dominiopublico.wikibase.cloud<br>Host: Wikibase Cloud<br>Version: 1.39.7<br>Start Date: 2024-09-26 00:00:00+00:00<br>Active Users: 1<br>Users: 2<br>Properties: 4<br>Edits: 140<br>Pages: 45",
          "Fuzzy Spatial Locations<br>URL: https://fuzzy-sl.wikibase.cloud<br>Host: Wikibase Cloud<br>Version: 1.39.7<br>Start Date: 2023-07-27 00:00:00+00:00<br>Active Users: 1<br>Users: 2<br>Properties: 34<br>Edits: 677<br>Pages: 157",
          "WikiFashion<br>URL: https://fashionwiki.wikibase.cloud<br>Host: Wikibase Cloud<br>Version: 1.39.7<br>Start Date: 2024-11-04 00:00:00+00:00<br>Active Users: 2<br>Users: 2<br>Properties: 30<br>Edits: 79819<br>Pages: 5041",
          "NFDI4Objects Task Area 4 Dev-Instance<br>URL: https://n4o-ta4-dev.wikibase.cloud<br>Host: Wikibase Cloud<br>Version: 1.39.7<br>Start Date: 2024-04-17 00:00:00+00:00<br>Active Users: 1<br>Users: 3<br>Properties: 28<br>Edits: 119<br>Pages: 53",
          "tp-lod<br>URL: https://tp-lod.wikibase.cloud<br>Host: Wikibase Cloud<br>Version: 1.39.7<br>Start Date: 2024-10-17 00:00:00+00:00<br>Active Users: 2<br>Users: 4<br>Properties: 142<br>Edits: 267<br>Pages: 255",
          "CZECHFRAME<br>URL: https://czechframe.wikibase.cloud<br>Host: Wikibase Cloud<br>Version: 1.39.7<br>Start Date: 2024-10-09 00:00:00+00:00<br>Active Users: 4<br>Users: 18<br>Properties: 46<br>Edits: 952<br>Pages: 149",
          "Zero Waste Cities<br>URL: https://zerowastecities.wikibase.cloud<br>Host: Wikibase Cloud<br>Version: 1.39.7<br>Start Date: 2021-11-08 00:00:00+00:00<br>Active Users: 1<br>Users: 4<br>Properties: 98<br>Edits: 6926<br>Pages: 1731",
          "Chinese Educated Abroad<br>URL: https://mobility.wikibase.cloud<br>Host: Wikibase Cloud<br>Version: 1.39.7<br>Start Date: 2024-12-01 00:00:00+00:00<br>Active Users: 2<br>Users: 2<br>Properties: 28<br>Edits: 218<br>Pages: 70",
          "EH izendegi<br>URL: https://izendegi.wikibase.cloud<br>Host: Wikibase Cloud<br>Version: 1.39.7<br>Start Date: 2024-11-24 00:00:00+00:00<br>Active Users: 2<br>Users: 2<br>Properties: 13<br>Edits: 2017<br>Pages: 1109",
          "CEUR-dev<br>URL: https://ceur-dev.wikibase.cloud<br>Host: Wikibase Cloud<br>Version: 1.39.7<br>Start Date: 2024-12-05 00:00:00+00:00<br>Active Users: 2<br>Users: 2<br>Properties: 88<br>Edits: 14366<br>Pages: 10386",
          "WikibaseMigrationTest<br>URL: https://wbmigration-test.wikibase.cloud<br>Host: Wikibase Cloud<br>Version: 1.39.7<br>Start Date: 2024-11-10 00:00:00+00:00<br>Active Users: 3<br>Users: 3<br>Properties: 293<br>Edits: 1602<br>Pages: 1223",
          "Wikibase Implementation of Records in Contexts<br>URL: https://recordsincontexts.wikibase.cloud<br>Host: Wikibase Cloud<br>Version: 1.39.7<br>Start Date: 2024-09-07 00:00:00+00:00<br>Active Users: 1<br>Users: 3<br>Properties: 202<br>Edits: 14870<br>Pages: 1378",
          "Training_IWIPALE<br>URL: https://training-iwipale.wikibase.cloud<br>Host: Wikibase Cloud<br>Version: 1.39.7<br>Start Date: 2024-11-11 00:00:00+00:00<br>Active Users: 7<br>Users: 13<br>Properties: 13<br>Edits: 32<br>Pages: 23",
          "Multiverses Wiki<br>URL: https://multiverses.wikibase.cloud<br>Host: Wikibase Cloud<br>Version: 1.39.7<br>Start Date: 2024-12-15 00:00:00+00:00<br>Active Users: 2<br>Users: 2<br>Properties: 42<br>Edits: 1229<br>Pages: 376",
          "lhenguabase<br>URL: https://lhenguabase.wikibase.cloud<br>Host: Wikibase Cloud<br>Version: 1.39.7<br>Start Date: 2024-12-10 00:00:00+00:00<br>Active Users: 4<br>Users: 20<br>Properties: 19<br>Edits: 1942<br>Pages: 1609",
          "CLS Infra Character Model<br>URL: https://cls-infra-character-model.wikibase.cloud<br>Host: Wikibase Cloud<br>Version: 1.39.7<br>Start Date: 2024-11-14 00:00:00+00:00<br>Active Users: 2<br>Users: 2<br>Properties: 5<br>Edits: 194<br>Pages: 39",
          "Conlang Base<br>URL: https://conlang.wikibase.cloud<br>Host: Wikibase Cloud<br>Version: 1.39.7<br>Start Date: 2024-12-31 00:00:00+00:00<br>Active Users: 2<br>Users: 2<br>Properties: 12<br>Edits: 49<br>Pages: 17",
          "Vrienden Fort Breendonk<br>URL: https://fortbreendonk.wikibase.cloud<br>Host: Wikibase Cloud<br>Version: 1.39.7<br>Start Date: 2025-01-06 00:00:00+00:00<br>Active Users: 2<br>Users: 2<br>Properties: 24<br>Edits: 44674<br>Pages: 4517",
          "Ugly Architecture<br>URL: https://uglyarchitecture.wikibase.cloud<br>Host: Wikibase Cloud<br>Version: 1.39.7<br>Start Date: 2024-02-05 00:00:00+00:00<br>Active Users: 0<br>Users: 2<br>Properties: 29<br>Edits: 544<br>Pages: 71",
          "Geolocations<br>URL: https://locations.wikibase.cloud<br>Host: Wikibase Cloud<br>Version: 1.39.7<br>Start Date: 2024-06-13 00:00:00+00:00<br>Active Users: 0<br>Users: 2<br>Properties: 11<br>Edits: 141<br>Pages: 28",
          "Wikibase World<br>URL: https://wikibase.world<br>Host: Wikibase Cloud<br>Version: 1.39.7<br>Start Date: 2023-06-05 00:00:00+00:00<br>Active Users: 1<br>Users: 561<br>Properties: 57<br>Edits: 18354<br>Pages: 1200",
          "MNDb<br>URL: https://mndb.lophocmatngu.wiki<br>Host: Wikibase Cloud<br>Version: 1.39.7<br>Start Date: 2023-12-15 00:00:00+00:00<br>Active Users: 0<br>Users: 2<br>Properties: 14<br>Edits: 118<br>Pages: 46",
          "abcDNK.hr<br>URL: https://abcdnk.wikibase.cloud<br>Host: Wikibase Cloud<br>Version: 1.39.7<br>Start Date: 2023-05-30 00:00:00+00:00<br>Active Users: 1<br>Users: 5<br>Properties: 85<br>Edits: 1490<br>Pages: 391",
          "Beyond Notability: Re-evaluating Women's Work in Archaeology, History and Heritage, 1870 – 1950<br>URL: https://beyond-notability.wikibase.cloud<br>Host: Wikibase Cloud<br>Version: 1.39.7<br>Start Date: 2021-09-08 00:00:00+00:00<br>Active Users: 2<br>Users: 17<br>Properties: 160<br>Edits: 69782<br>Pages: 4932",
          "Biodiversity<br>URL: https://biodiversity.wikibase.cloud<br>Host: Wikibase Cloud<br>Version: 1.39.7<br>Start Date: 2019-11-26 00:00:00+00:00<br>Active Users: 1<br>Users: 16<br>Properties: 14<br>Edits: 611772<br>Pages: 578984",
          "Virus Taxonomy<br>URL: https://virus-taxonomy.wikibase.cloud<br>Host: Wikibase Cloud<br>Version: 1.39.7<br>Start Date: 2020-04-06 00:00:00+00:00<br>Active Users: 0<br>Users: 8<br>Properties: 10<br>Edits: 20396<br>Pages: 6940",
          "Enslaved People Of Arlington, Virginia<br>URL: https://enslaved-arlington.wikibase.cloud<br>Host: Wikibase Cloud<br>Version: 1.39.7<br>Start Date: 2023-09-13 00:00:00+00:00<br>Active Users: 0<br>Users: 2<br>Properties: 22<br>Edits: 71<br>Pages: 32",
          "Maths-22<br>URL: https://maths-22.wikibase.cloud<br>Host: Wikibase Cloud<br>Version: 1.39.7<br>Start Date: 2022-11-17 00:00:00+00:00<br>Active Users: 0<br>Users: 3<br>Properties: 40<br>Edits: 238<br>Pages: 99",
          "WikiFur Data<br>URL: https://furry.wikibase.cloud<br>Host: Wikibase Cloud<br>Version: 1.39.7<br>Start Date: 2021-03-23 00:00:00+00:00<br>Active Users: 1<br>Users: 4715<br>Properties: 21<br>Edits: 1728<br>Pages: 67",
          "Addshore Alpha<br>URL: https://addshore-alpha.wikibase.cloud<br>Host: Wikibase Cloud<br>Version: 1.39.7<br>Start Date: 2019-10-28 00:00:00+00:00<br>Active Users: 0<br>Users: 17<br>Properties: 17<br>Edits: 510<br>Pages: 108",
          "Doelgericht Digitaal Transformeren<br>URL: https://osloddt.wikibase.cloud<br>Host: Wikibase Cloud<br>Version: 1.39.7<br>Start Date: 2022-03-08 00:00:00+00:00<br>Active Users: 0<br>Users: 5<br>Properties: 57<br>Edits: 10876042<br>Pages: 880923",
          "Geoscience Knowledgebase<br>URL: https://geokb.wikibase.cloud/<br>Host: Wikibase Cloud<br>Version: 1.39.7<br>Start Date: 2023-02-27 00:00:00+00:00<br>Active Users: 1<br>Users: 8<br>Properties: 202<br>Edits: 1463224<br>Pages: 454249",
          "Dancing Digital<br>URL: https://dancing-digital.wikibase.cloud<br>Host: Wikibase Cloud<br>Version: 1.39.7<br>Start Date: 2022-09-06 00:00:00+00:00<br>Active Users: 0<br>Users: 4<br>Properties: 140<br>Edits: 439323<br>Pages: 60082",
          "Lord Chamberlain's Plays Index<br>URL: https://lcpindex.wikibase.cloud/<br>Host: Wikibase Cloud<br>Version: 1.39.7<br>Start Date: 2022-09-07 00:00:00+00:00<br>Active Users: 0<br>Users: 6<br>Properties: 12<br>Edits: 40568<br>Pages: 39390",
          "SHARE Catalogue mapping knowledge base<br>URL: https://unimarc2bibframe.wikibase.cloud/<br>Host: Wikibase Cloud<br>Version: 1.39.7<br>Start Date: 2023-11-08 00:00:00+00:00<br>Active Users: 2<br>Users: 9<br>Properties: 14<br>Edits: 18032<br>Pages: 2826",
          "LostDiscs<br>URL: https://lostdiscs.wikibase.cloud/<br>Host: Wikibase Cloud<br>Version: 1.39.7<br>Start Date: 2024-09-14 00:00:00+00:00<br>Active Users: 0<br>Users: 2<br>Properties: 8<br>Edits: 443<br>Pages: 117",
          "FrameNet Akkadian 267<br>URL: https://framenet-akkadian267.wikibase.cloud<br>Host: Wikibase Cloud<br>Version: 1.39.7<br>Start Date: 2024-05-14 00:00:00+00:00<br>Active Users: 2<br>Users: 2<br>Properties: 41<br>Edits: 140026<br>Pages: 104347",
          "pbsandbox<br>URL: https://pbsandbox.wikibase.cloud<br>Host: Wikibase Cloud<br>Version: 1.39.7<br>Start Date: 2022-09-08 00:00:00+00:00<br>Active Users: 0<br>Users: 10<br>Properties: 795<br>Edits: 26132<br>Pages: 25992",
          "Podiumdocumentatie Vlaams Theaterinstituut<br>URL: https://vlaamstheaterinstituut.wikibase.cloud<br>Host: Wikibase Cloud<br>Version: 1.39.7<br>Start Date: 2024-05-14 00:00:00+00:00<br>Active Users: 1<br>Users: 2<br>Properties: 10<br>Edits: 1595435<br>Pages: 236659",
          "FrameNet Akkadian 257<br>URL: https://framenet-akkadian257.wikibase.cloud<br>Host: Wikibase Cloud<br>Version: 1.39.7<br>Start Date: 2024-03-26 00:00:00+00:00<br>Active Users: 1<br>Users: 2<br>Properties: 41<br>Edits: 277795<br>Pages: 186991",
          "FrameNet Akkadian 298<br>URL: https://framenet-akkadian298.wikibase.cloud<br>Host: Wikibase Cloud<br>Version: 1.39.7<br>Start Date: 2024-09-13 00:00:00+00:00<br>Active Users: 1<br>Users: 5<br>Properties: 64<br>Edits: 58051<br>Pages: 24317",
          "Teochew Dictionary<br>URL: https://tcdict.wikibase.cloud<br>Host: Wikibase Cloud<br>Version: 1.39.7<br>Start Date: 2024-04-11 00:00:00+00:00<br>Active Users: 1<br>Users: 2<br>Properties: 23<br>Edits: 135850<br>Pages: 24000",
          "FrameNet Akkadian<br>URL: https://framenet-akkadian.wikibase.cloud<br>Host: Wikibase Cloud<br>Version: 1.39.7<br>Start Date: 2024-01-06 00:00:00+00:00<br>Active Users: 3<br>Users: 6<br>Properties: 46<br>Edits: 93613<br>Pages: 13198",
          "abcdnkhr-dev<br>URL: https://abcdnkhr-dev.wikibase.cloud<br>Host: Wikibase Cloud<br>Version: 1.39.7<br>Start Date: 2024-02-13 00:00:00+00:00<br>Active Users: 0<br>Users: 2<br>Properties: 85<br>Edits: 25030<br>Pages: 12290",
          "abcdnk (on wikibase.cloud)<br>URL: https://abcdnkhr.wikibase.cloud<br>Host: Wikibase Cloud<br>Version: 1.39.7<br>Start Date: 2024-02-13 00:00:00+00:00<br>Active Users: 1<br>Users: 7<br>Properties: 85<br>Edits: 25272<br>Pages: 12302",
          "CC-BY Chemical Compounds<br>URL: https://chemcompounds.wikibase.cloud<br>Host: Wikibase Cloud<br>Version: 1.39.7<br>Start Date: 2020-01-27 00:00:00+00:00<br>Active Users: 0<br>Users: 5<br>Properties: 8834<br>Edits: 10256<br>Pages: 8834",
          "theses<br>URL: https://theses.wikibase.cloud<br>Host: Wikibase Cloud<br>Version: 1.39.7<br>Start Date: 2023-12-11 00:00:00+00:00<br>Active Users: 0<br>Users: 4<br>Properties: 6<br>Edits: 32719<br>Pages: 8206",
          "TP3-STTCL<br>URL: https://tp3-sttcl.wikibase.cloud<br>Host: Wikibase Cloud<br>Version: 1.39.7<br>Start Date: 2024-09-20 00:00:00+00:00<br>Active Users: 1<br>Users: 4<br>Properties: 24<br>Edits: 21111<br>Pages: 8058",
          "dis18<br>URL: https://dis18project.wikibase.cloud<br>Host: Wikibase Cloud<br>Version: 1.39.7<br>Start Date: 2024-06-08 00:00:00+00:00<br>Active Users: 0<br>Users: 2<br>Properties: 17<br>Edits: 9325<br>Pages: 7483",
          "မြန်မာ၌ဩစတြေးလျ<br>URL: https://mranma-ocatrelya.wikibase.cloud<br>Host: Wikibase Cloud<br>Version: 1.39.7<br>Start Date: 2024-05-31 00:00:00+00:00<br>Active Users: 0<br>Users: 2<br>Properties: 6460<br>Edits: 13146<br>Pages: 6547",
          "DigCav<br>URL: https://digcav.wikibase.cloud<br>Host: Wikibase Cloud<br>Version: 1.39.7<br>Start Date: 2021-01-17 00:00:00+00:00<br>Active Users: 0<br>Users: 3<br>Properties: 9<br>Edits: 23011<br>Pages: 5811",
          "Username1Password<br>URL: https://username1password.wikibase.cloud<br>Host: Wikibase Cloud<br>Version: 1.39.7<br>Start Date: 2024-05-30 00:00:00+00:00<br>Active Users: 0<br>Users: 2<br>Properties: 42<br>Edits: 5062<br>Pages: 5044",
          "Chemical Compounds of Interest<br>URL: https://compoundcloud.wikibase.cloud<br>Host: Wikibase Cloud<br>Version: 1.39.7<br>Start Date: 2022-11-05 00:00:00+00:00<br>Active Users: 1<br>Users: 4<br>Properties: 38<br>Edits: 6056<br>Pages: 5001",
          "Nouns Dev<br>URL: https://nounsdev.wikibase.cloud<br>Host: Wikibase Cloud<br>Version: 1.39.7<br>Start Date: 2023-05-08 00:00:00+00:00<br>Active Users: 0<br>Users: 3<br>Properties: 51<br>Edits: 12488<br>Pages: 4521",
          "Shira<br>URL: https://shira.wikibase.cloud<br>Host: Wikibase Cloud<br>Version: 1.39.7<br>Start Date: 2024-03-11 00:00:00+00:00<br>Active Users: 0<br>Users: 2<br>Properties: 134<br>Edits: 8105<br>Pages: 3340",
          "Akkadian Project 2<br>URL: https://akkadianproject2.wikibase.cloud<br>Host: Wikibase Cloud<br>Version: 1.39.7<br>Start Date: 2024-04-03 00:00:00+00:00<br>Active Users: 0<br>Users: 2<br>Properties: 41<br>Edits: 14720<br>Pages: 3017",
          "Bible Name Wiki<br>URL: https://biblenamewiki.wikibase.cloud<br>Host: Wikibase Cloud<br>Version: 1.39.7<br>Start Date: 2022-09-05 00:00:00+00:00<br>Active Users: 1<br>Users: 3<br>Properties: 10<br>Edits: 8093<br>Pages: 2946",
          "rematriation<br>URL: https://rematriation.wikibase.cloud<br>Host: Wikibase Cloud<br>Version: 1.39.7<br>Start Date: 2024-02-23 00:00:00+00:00<br>Active Users: 1<br>Users: 5<br>Properties: 31<br>Edits: 13688<br>Pages: 2622",
          "Test<br>URL: https://metadata-test2023-rbx.wikibase.cloud<br>Host: Wikibase Cloud<br>Version: 1.39.7<br>Start Date: 2023-11-06 00:00:00+00:00<br>Active Users: 0<br>Users: 5<br>Properties: 14<br>Edits: 2612<br>Pages: 2536",
          "Weinetiketten der Mosel<br>URL: https://mosel.wikibase.cloud<br>Host: Wikibase Cloud<br>Version: 1.39.7<br>Start Date: 2024-08-28 00:00:00+00:00<br>Active Users: 1<br>Users: 2<br>Properties: 78<br>Edits: 12080<br>Pages: 2561",
          "Meise Botanic Garden<br>URL: https://meise-bg.wikibase.cloud<br>Host: Wikibase Cloud<br>Version: 1.39.7<br>Start Date: 2020-02-13 00:00:00+00:00<br>Active Users: 0<br>Users: 3<br>Properties: 29<br>Edits: 1999<br>Pages: 1999",
          "testing<br>URL: https://testing.wikibase.cloud<br>Host: Wikibase Cloud<br>Version: 1.39.7<br>Start Date: 2020-03-02 00:00:00+00:00<br>Active Users: 0<br>Users: 4<br>Properties: 18<br>Edits: 1555<br>Pages: 1544",
          "AlpesTransportTest<br>URL: https://alpes-transport-sandbox.wikibase.cloud<br>Host: Wikibase Cloud<br>Version: 1.39.7<br>Start Date: 2023-02-27 00:00:00+00:00<br>Active Users: 0<br>Users: 6<br>Properties: 201<br>Edits: 23256<br>Pages: 1524",
          "qfeverbase<br>URL: https://qfeverbase.wikibase.cloud<br>Host: Wikibase Cloud<br>Version: 1.39.7<br>Start Date: 2024-02-07 00:00:00+00:00<br>Active Users: 1<br>Users: 5<br>Properties: 17<br>Edits: 1745<br>Pages: 1471",
          "dhtest<br>URL: https://dhtest.wikibase.cloud<br>Host: Wikibase Cloud<br>Version: 1.39.7<br>Start Date: 2024-06-14 00:00:00+00:00<br>Active Users: 0<br>Users: 2<br>Properties: 25<br>Edits: 3904<br>Pages: 1273",
          "Misi's imaginary friends<br>URL: https://misi-imaginary-friends.wikibase.cloud<br>Host: Wikibase Cloud<br>Version: 1.39.7<br>Start Date: 2024-10-01 00:00:00+00:00<br>Active Users: 0<br>Users: 4<br>Properties: 7<br>Edits: 1244<br>Pages: 1243",
          "Wikidocumentaries sandbox<br>URL: https://wikidocs.wikibase.cloud<br>Host: Wikibase Cloud<br>Version: 1.39.7<br>Start Date: 2019-10-27 00:00:00+00:00<br>Active Users: 0<br>Users: 5<br>Properties: 18<br>Edits: 1736<br>Pages: 1053",
          "Judaicadh<br>URL: https://judaicadh.wikibase.cloud<br>Host: Wikibase Cloud<br>Version: 1.39.7<br>Start Date: 2024-01-13 00:00:00+00:00<br>Active Users: 0<br>Users: 2<br>Properties: 26<br>Edits: 981<br>Pages: 955",
          "Open Music Vocabulary<br>URL: https://music.wikibase.cloud<br>Host: Wikibase Cloud<br>Version: 1.39.7<br>Start Date: 2023-11-23 00:00:00+00:00<br>Active Users: 1<br>Users: 2<br>Properties: 9<br>Edits: 5394<br>Pages: 992",
          "Medieval Mining Texts<br>URL: https://mining-texts.wikibase.cloud<br>Host: Wikibase Cloud<br>Version: 1.39.7<br>Start Date: 2023-06-19 00:00:00+00:00<br>Active Users: 0<br>Users: 2<br>Properties: 8<br>Edits: 1340<br>Pages: 905",
          "pbsandbox2<br>URL: https://pbsandbox2.wikibase.cloud<br>Host: Wikibase Cloud<br>Version: 1.39.7<br>Start Date: 2022-10-08 00:00:00+00:00<br>Active Users: 0<br>Users: 2<br>Properties: 795<br>Edits: 904<br>Pages: 897",
          "Climate Policy Radar<br>URL: https://climatepolicyradar.wikibase.cloud<br>Host: Wikibase Cloud<br>Version: 1.39.7<br>Start Date: 2024-04-03 00:00:00+00:00<br>Active Users: 10<br>Users: 18<br>Properties: 9<br>Edits: 9441<br>Pages: 1030",
          "digitalneurons<br>URL: https://digitalneurons.wikibase.cloud<br>Host: Wikibase Cloud<br>Version: 1.39.7<br>Start Date: 2021-03-05 00:00:00+00:00<br>Active Users: 1<br>Users: 3<br>Properties: 43<br>Edits: 2389<br>Pages: 734",
          "T-rex Taxonomy<br>URL: https://trex-taxonomy.wikibase.cloud<br>Host: Wikibase Cloud<br>Version: 1.39.7<br>Start Date: 2020-04-15 00:00:00+00:00<br>Active Users: 0<br>Users: 320<br>Properties: 32<br>Edits: 1355<br>Pages: 659",
          "European Party Funding Observatory<br>URL: https://wikibase.epfo.eu<br>Host: Wikibase Cloud<br>Version: 1.39.7<br>Start Date: 2024-07-20 00:00:00+00:00<br>Active Users: 1<br>Users: 2<br>Properties: 234<br>Edits: 14262<br>Pages: 516",
          "Neogräzistik Digital Lab<br>URL: https://ngrlab.wikibase.cloud<br>Host: Wikibase Cloud<br>Version: 1.39.7<br>Start Date: 2020-12-06 00:00:00+00:00<br>Active Users: 0<br>Users: 2<br>Properties: 45<br>Edits: 3016<br>Pages: 497",
          "cprtest (on wikibase.cloud)<br>URL: https://s4adgmfowmsbe0ye0zjaudmxwb.wikibase.cloud<br>Host: Wikibase Cloud<br>Version: 1.39.7<br>Start Date: 2024-01-31 00:00:00+00:00<br>Active Users: 0<br>Users: 4<br>Properties: 6<br>Edits: 3982<br>Pages: 445",
          "TDWG Collection Description<br>URL: https://tdwg-cd.wikibase.cloud<br>Host: Wikibase Cloud<br>Version: 1.39.7<br>Start Date: 2020-04-22 00:00:00+00:00<br>Active Users: 0<br>Users: 326<br>Properties: 155<br>Edits: 1347<br>Pages: 441",
          "Pruebas FSH<br>URL: https://pruebas-fsh.wikibase.cloud<br>Host: Wikibase Cloud<br>Version: 1.39.7<br>Start Date: 2024-06-22 00:00:00+00:00<br>Active Users: 1<br>Users: 2<br>Properties: 50<br>Edits: 2867<br>Pages: 439",
          "COMPEL<br>URL: https://compel.wikibase.cloud<br>Host: Wikibase Cloud<br>Version: 1.39.7<br>Start Date: 2024-04-19 00:00:00+00:00<br>Active Users: 1<br>Users: 12<br>Properties: 40<br>Edits: 1347<br>Pages: 427",
          "hgironomidae<br>URL: https://chironomidae.wikibase.cloud<br>Host: Wikibase Cloud<br>Version: 1.39.7<br>Start Date: 2024-02-22 00:00:00+00:00<br>Active Users: 0<br>Users: 2<br>Properties: 56<br>Edits: 1336<br>Pages: 419",
          "Architekturarchive<br>URL: https://architekturarchive.wikibase.cloud<br>Host: Wikibase Cloud<br>Version: 1.39.7<br>Start Date: 2024-03-27 00:00:00+00:00<br>Active Users: 0<br>Users: 3<br>Properties: 141<br>Edits: 983<br>Pages: 406",
          "cps<br>URL: https://computational-publishing-service.wikibase.cloud<br>Host: Wikibase Cloud<br>Version: 1.39.7<br>Start Date: 2024-04-04 00:00:00+00:00<br>Active Users: 0<br>Users: 11<br>Properties: 107<br>Edits: 1048<br>Pages: 402",
          "WUaS<br>URL: https://worlduniversityandschooldatabase.wikibase.cloud<br>Host: Wikibase Cloud<br>Version: 1.39.7<br>Start Date: 2020-11-25 00:00:00+00:00<br>Active Users: 0<br>Users: 8<br>Properties: 18<br>Edits: 444<br>Pages: 389",
          "Christof Schöch<br>URL: https://christof-schoech.wikibase.cloud<br>Host: Wikibase Cloud<br>Version: 1.39.7<br>Start Date: 2024-09-11 00:00:00+00:00<br>Active Users: 1<br>Users: 2<br>Properties: 64<br>Edits: 1498<br>Pages: 369",
          "IPCC<br>URL: https://kg-ipclimatec-reports.wikibase.cloud<br>Host: Wikibase Cloud<br>Version: 1.39.7<br>Start Date: 2023-04-22 00:00:00+00:00<br>Active Users: 0<br>Users: 14<br>Properties: 25<br>Edits: 824<br>Pages: 359",
          "pruebas-auto<br>URL: https://pruebas-auto.wikibase.cloud<br>Host: Wikibase Cloud<br>Version: 1.39.7<br>Start Date: 2024-09-26 00:00:00+00:00<br>Active Users: 0<br>Users: 2<br>Properties: 50<br>Edits: 765<br>Pages: 352",
          "wbwh-test<br>URL: https://wbwh-test.wikibase.cloud<br>Host: Wikibase Cloud<br>Version: 1.39.7<br>Start Date: 2023-01-27 00:00:00+00:00<br>Active Users: 0<br>Users: 3<br>Properties: 37<br>Edits: 440<br>Pages: 343",
          "FrameNet Test4<br>URL: https://framenetest4.wikibase.cloud<br>Host: Wikibase Cloud<br>Version: 1.39.7<br>Start Date: 2024-04-10 00:00:00+00:00<br>Active Users: 0<br>Users: 2<br>Properties: 39<br>Edits: 331<br>Pages: 331",
          "Metadati intelligenti<br>URL: https://smartmeta.wikibase.cloud<br>Host: Wikibase Cloud<br>Version: 1.39.7<br>Start Date: 2021-09-04 00:00:00+00:00<br>Active Users: 0<br>Users: 17<br>Properties: 79<br>Edits: 1172<br>Pages: 294",
          "Horimiya Base<br>URL: https://horimiya.wikibase.cloud<br>Host: Wikibase Cloud<br>Version: 1.39.7<br>Start Date: 2023-03-17 00:00:00+00:00<br>Active Users: 0<br>Users: 2<br>Properties: 59<br>Edits: 964<br>Pages: 271",
          "processualista<br>URL: https://dados.processualista.com.br<br>Host: Wikibase Cloud<br>Version: 1.39.7<br>Start Date: 2024-09-02 00:00:00+00:00<br>Active Users: 0<br>Users: 2<br>Properties: 45<br>Edits: 1244<br>Pages: 329",
          "ELTE-DH<br>URL: https://elte-dh.wikibase.cloud<br>Host: Wikibase Cloud<br>Version: 1.39.7<br>Start Date: 2024-02-11 00:00:00+00:00<br>Active Users: 0<br>Users: 3<br>Properties: 45<br>Edits: 1409<br>Pages: 266",
          "OntoLagoon<br>URL: https://ontolagoon.wikibase.cloud<br>Host: Wikibase Cloud<br>Version: 1.39.7<br>Start Date: 2024-01-16 00:00:00+00:00<br>Active Users: 1<br>Users: 4<br>Properties: 25<br>Edits: 939<br>Pages: 268",
          "DiscoveryTest<br>URL: https://discoverytest.wikibase.cloud<br>Host: Wikibase Cloud<br>Version: 1.39.7<br>Start Date: 2024-04-03 00:00:00+00:00<br>Active Users: 0<br>Users: 2<br>Properties: 41<br>Edits: 259<br>Pages: 259",
          "Pony Base<br>URL: https://ponybase.wikibase.cloud<br>Host: Wikibase Cloud<br>Version: 1.39.7<br>Start Date: 2024-02-28 00:00:00+00:00<br>Active Users: 0<br>Users: 2<br>Properties: 22<br>Edits: 844<br>Pages: 259",
          "Latimer Core<br>URL: https://latimer-core.wikibase.cloud<br>Host: Wikibase Cloud<br>Version: 1.39.7<br>Start Date: 2021-10-07 00:00:00+00:00<br>Active Users: 0<br>Users: 12<br>Properties: 131<br>Edits: 438<br>Pages: 239",
          "EOSS<br>URL: https://eoss-1.wikibase.cloud<br>Host: Wikibase Cloud<br>Version: 1.39.7<br>Start Date: 2020-02-28 00:00:00+00:00<br>Active Users: 0<br>Users: 3<br>Properties: 9<br>Edits: 926<br>Pages: 238",
          "Testing out Wikibase<br>URL: https://masssly.wikibase.cloud<br>Host: Wikibase Cloud<br>Version: 1.39.7<br>Start Date: 2021-07-13 00:00:00+00:00<br>Active Users: 1<br>Users: 3<br>Properties: 18<br>Edits: 799<br>Pages: 237",
          "Anachroniques<br>URL: https://anachroniques.wikibase.cloud<br>Host: Wikibase Cloud<br>Version: 1.39.7<br>Start Date: 2022-10-04 00:00:00+00:00<br>Active Users: 0<br>Users: 3<br>Properties: 24<br>Edits: 1407<br>Pages: 229",
          "testingtesting (on wikibase.cloud)<br>URL: https://testingtesting.wikibase.cloud<br>Host: Wikibase Cloud<br>Version: 1.39.7<br>Start Date: 2023-10-25 00:00:00+00:00<br>Active Users: 0<br>Users: 2<br>Properties: 21<br>Edits: 289<br>Pages: 231",
          "FrameNet Akkadian 2<br>URL: https://framenet-akkadian2.wikibase.cloud<br>Host: Wikibase Cloud<br>Version: 1.39.7<br>Start Date: 2024-03-24 00:00:00+00:00<br>Active Users: 1<br>Users: 2<br>Properties: 40<br>Edits: 446<br>Pages: 226",
          "Bioimages<br>URL: https://bioimages.wikibase.cloud<br>Host: Wikibase Cloud<br>Version: 1.39.7<br>Start Date: 2024-07-16 00:00:00+00:00<br>Active Users: 1<br>Users: 3<br>Properties: 61<br>Edits: 593<br>Pages: 218",
          "fedi<br>URL: https://fedidata.wikibase.cloud<br>Host: Wikibase Cloud<br>Version: 1.39.7<br>Start Date: 2022-11-09 00:00:00+00:00<br>Active Users: 0<br>Users: 2<br>Properties: 204<br>Edits: 228<br>Pages: 208",
          "Testing Mapping the Scottish Reformation<br>URL: https://msrtest.wikibase.cloud<br>Host: Wikibase Cloud<br>Version: 1.39.7<br>Start Date: 2023-09-07 00:00:00+00:00<br>Active Users: 0<br>Users: 2<br>Properties: 35<br>Edits: 511<br>Pages: 203",
          "Ecology-22<br>URL: https://ecology-22.wikibase.cloud<br>Host: Wikibase Cloud<br>Version: 1.39.7<br>Start Date: 2022-11-17 00:00:00+00:00<br>Active Users: 0<br>Users: 6<br>Properties: 36<br>Edits: 1077<br>Pages: 199",
          "Fontes Asturienses<br>URL: https://fontes-asturienses.wikibase.cloud<br>Host: Wikibase Cloud<br>Version: 1.39.7<br>Start Date: 2024-03-13 00:00:00+00:00<br>Active Users: 0<br>Users: 3<br>Properties: 48<br>Edits: 728<br>Pages: 171",
          "Grafitos históricos del museo Histórico Arqueológico Najerillense (Najera, España)<br>URL: https://najeragrafitos.wikibase.cloud<br>Host: Wikibase Cloud<br>Version: 1.39.7<br>Start Date: 2024-08-24 00:00:00+00:00<br>Active Users: 0<br>Users: 2<br>Properties: 15<br>Edits: 1185<br>Pages: 160",
          "Tandori Archive<br>URL: https://tandori.wikibase.cloud<br>Host: Wikibase Cloud<br>Version: 1.39.7<br>Start Date: 2022-12-12 00:00:00+00:00<br>Active Users: 0<br>Users: 3<br>Properties: 11<br>Edits: 282<br>Pages: 155",
          "BellmanFactBase<br>URL: https://bellmanfactbase.wikibase.cloud<br>Host: Wikibase Cloud<br>Version: 1.39.7<br>Start Date: 2020-11-13 00:00:00+00:00<br>Active Users: 0<br>Users: 69<br>Properties: 9<br>Edits: 236<br>Pages: 147",
          "Bekasi<br>URL: https://bekasi.wikibase.cloud<br>Host: Wikibase Cloud<br>Version: 1.39.7<br>Start Date: 2024-02-29 00:00:00+00:00<br>Active Users: 0<br>Users: 2<br>Properties: 30<br>Edits: 285<br>Pages: 132",
          "Conservatorio \"Claudio Monteverdi\" di Cremona<br>URL: https://conscremona.wikibase.cloud<br>Host: Wikibase Cloud<br>Version: 1.39.7<br>Start Date: 2022-11-16 00:00:00+00:00<br>Active Users: 0<br>Users: 2<br>Properties: 25<br>Edits: 231<br>Pages: 128",
          "AFL_example<br>URL: https://afl-example.wikibase.cloud<br>Host: Wikibase Cloud<br>Version: 1.39.7<br>Start Date: 2020-10-24 00:00:00+00:00<br>Active Users: 0<br>Users: 3<br>Properties: 42<br>Edits: 390<br>Pages: 130",
          "Adams Family<br>URL: https://adams-family.wikibase.cloud<br>Host: Wikibase Cloud<br>Version: 1.39.7<br>Start Date: 2023-12-23 00:00:00+00:00<br>Active Users: 1<br>Users: 3<br>Properties: 33<br>Edits: 961<br>Pages: 117",
          "Stolen Relations<br>URL: https://stolen-relations.wikibase.cloud<br>Host: Wikibase Cloud<br>Version: 1.39.7<br>Start Date: 2022-09-06 00:00:00+00:00<br>Active Users: 0<br>Users: 2<br>Properties: 38<br>Edits: 189<br>Pages: 126",
          "coffeebase<br>URL: https://coffeebase.wikibase.cloud<br>Host: Wikibase Cloud<br>Version: 1.39.7<br>Start Date: 2020-04-14 00:00:00+00:00<br>Active Users: 1<br>Users: 4<br>Properties: 8<br>Edits: 139<br>Pages: 110",
          "BCUL-IC<br>URL: https://bcul-ic.wikibase.cloud<br>Host: Wikibase Cloud<br>Version: 1.39.7<br>Start Date: 2020-08-11 00:00:00+00:00<br>Active Users: 0<br>Users: 2<br>Properties: 13<br>Edits: 682<br>Pages: 111",
          "cidoc_crm<br>URL: https://cidoc-crm.wikibase.cloud<br>Host: Wikibase Cloud<br>Version: 1.39.7<br>Start Date: 2020-09-23 00:00:00+00:00<br>Active Users: 0<br>Users: 3<br>Properties: 5<br>Edits: 164<br>Pages: 105",
          "ELTeCgeo<br>URL: https://eltecgeo.wikibase.cloud<br>Host: Wikibase Cloud<br>Version: 1.39.7<br>Start Date: 2024-09-19 00:00:00+00:00<br>Active Users: 1<br>Users: 2<br>Properties: 21<br>Edits: 337<br>Pages: 115",
          "Global Forest Decimal Classification<br>URL: https://forest-decimal-classification.wikibase.cloud<br>Host: Wikibase Cloud<br>Version: 1.39.7<br>Start Date: 2021-12-16 00:00:00+00:00<br>Active Users: 0<br>Users: 3<br>Properties: 42<br>Edits: 358<br>Pages: 103",
          "2つ目のwiki<br>URL: https://nakamura196.wikibase.cloud<br>Host: Wikibase Cloud<br>Version: 1.39.7<br>Start Date: 2023-07-14 00:00:00+00:00<br>Active Users: 0<br>Users: 3<br>Properties: 47<br>Edits: 151<br>Pages: 100",
          "RIDGES-Herb-Wikibase<br>URL: https://ridges-herb.wikibase.cloud<br>Host: Wikibase Cloud<br>Version: 1.39.7<br>Start Date: 2022-11-15 00:00:00+00:00<br>Active Users: 0<br>Users: 3<br>Properties: 71<br>Edits: 353<br>Pages: 98",
          "DIKUSA-dev<br>URL: https://dikusa-dev.wikibase.cloud<br>Host: Wikibase Cloud<br>Version: 1.39.7<br>Start Date: 2024-05-15 00:00:00+00:00<br>Active Users: 1<br>Users: 4<br>Properties: 44<br>Edits: 213<br>Pages: 97",
          "MCData<br>URL: https://mcdata.wikibase.cloud<br>Host: Wikibase Cloud<br>Version: 1.39.7<br>Start Date: 2024-07-18 00:00:00+00:00<br>Active Users: 0<br>Users: 2<br>Properties: 30<br>Edits: 515<br>Pages: 95",
          "U1P QS<br>URL: https://u1p-qs.wikibase.cloud<br>Host: Wikibase Cloud<br>Version: 1.39.7<br>Start Date: 2024-05-31 00:00:00+00:00<br>Active Users: 0<br>Users: 2<br>Properties: 102<br>Edits: 179<br>Pages: 103",
          "Mabinogi Eternity<br>URL: https://mabinogi.wikibase.cloud<br>Host: Wikibase Cloud<br>Version: 1.39.7<br>Start Date: 2023-06-19 00:00:00+00:00<br>Active Users: 1<br>Users: 2<br>Properties: 22<br>Edits: 1551<br>Pages: 107",
          "KBTestWikibase<br>URL: https://kbtestwikibase.wikibase.cloud<br>Host: Wikibase Cloud<br>Version: 1.39.7<br>Start Date: 2019-10-26 00:00:00+00:00<br>Active Users: 0<br>Users: 6<br>Properties: 46<br>Edits: 1026<br>Pages: 92",
          "Genealogy<br>URL: https://haaitsma-genea.wikibase.cloud<br>Host: Wikibase Cloud<br>Version: 1.39.7<br>Start Date: 2023-10-19 00:00:00+00:00<br>Active Users: 0<br>Users: 2<br>Properties: 23<br>Edits: 500<br>Pages: 94",
          "We would not forget you<br>URL: https://shaheed.wikibase.cloud<br>Host: Wikibase Cloud<br>Version: 1.39.7<br>Start Date: 2024-07-24 00:00:00+00:00<br>Active Users: 0<br>Users: 2<br>Properties: 38<br>Edits: 150<br>Pages: 89",
          "NFDI4Culture LOD Working Group<br>URL: https://lod-working-group.wikibase.cloud<br>Host: Wikibase Cloud<br>Version: 1.39.7<br>Start Date: 2021-06-28 00:00:00+00:00<br>Active Users: 0<br>Users: 17<br>Properties: 40<br>Edits: 123<br>Pages: 87",
          "Research Waste<br>URL: https://research-waste.wikibase.cloud<br>Host: Wikibase Cloud<br>Version: 1.39.7<br>Start Date: 2024-03-26 00:00:00+00:00<br>Active Users: 0<br>Users: 4<br>Properties: 37<br>Edits: 194<br>Pages: 87",
          "The Choir<br>URL: https://christian-nationalists.wikibase.cloud<br>Host: Wikibase Cloud<br>Version: 1.39.7<br>Start Date: 2023-08-31 00:00:00+00:00<br>Active Users: 0<br>Users: 2<br>Properties: 3<br>Edits: 94<br>Pages: 86",
          "Sources<br>URL: https://sources.wikibase.cloud<br>Host: Wikibase Cloud<br>Version: 1.39.7<br>Start Date: 2024-04-02 00:00:00+00:00<br>Active Users: 0<br>Users: 2<br>Properties: 16<br>Edits: 353<br>Pages: 86",
          "Quotebase<br>URL: https://quotebase.wikibase.cloud<br>Host: Wikibase Cloud<br>Version: 1.39.7<br>Start Date: 2022-11-17 00:00:00+00:00<br>Active Users: 0<br>Users: 5<br>Properties: 26<br>Edits: 266<br>Pages: 80",
          "LD4 WBStack Test<br>URL: https://ld4-wbs-test.wikibase.cloud<br>Host: Wikibase Cloud<br>Version: 1.39.7<br>Start Date: 2021-05-25 00:00:00+00:00<br>Active Users: 0<br>Users: 36<br>Properties: 18<br>Edits: 227<br>Pages: 79",
          "LD4 2021 Conference<br>URL: https://ld4-2021-conference.wikibase.cloud<br>Host: Wikibase Cloud<br>Version: 1.39.7<br>Start Date: 2021-07-20 00:00:00+00:00<br>Active Users: 0<br>Users: 9<br>Properties: 23<br>Edits: 152<br>Pages: 76",
          "uo276406-ws1-miw<br>URL: https://web-semantica-uo276406.wikibase.cloud<br>Host: Wikibase Cloud<br>Version: 1.39.7<br>Start Date: 2024-05-11 00:00:00+00:00<br>Active Users: 0<br>Users: 3<br>Properties: 8<br>Edits: 82<br>Pages: 76",
          "SALARTIS1600<br>URL: https://salartis1600.wikibase.cloud<br>Host: Wikibase Cloud<br>Version: 1.39.7<br>Start Date: 2024-09-20 00:00:00+00:00<br>Active Users: 2<br>Users: 3<br>Properties: 32<br>Edits: 415<br>Pages: 77",
          "Bib-Sample<br>URL: https://bibsample.wikibase.cloud<br>Host: Wikibase Cloud<br>Version: 1.39.7<br>Start Date: 2021-01-31 00:00:00+00:00<br>Active Users: 0<br>Users: 2<br>Properties: 17<br>Edits: 110<br>Pages: 73",
          "Brandskon<br>URL: https://brandskon.wikibase.cloud<br>Host: Wikibase Cloud<br>Version: 1.39.7<br>Start Date: 2024-03-16 00:00:00+00:00<br>Active Users: 0<br>Users: 2<br>Properties: 53<br>Edits: 163<br>Pages: 73",
          "RIDGES-Herb. 9.0 Wikibase<br>URL: https://ridges-herb-9.wikibase.cloud<br>Host: Wikibase Cloud<br>Version: 1.39.7<br>Start Date: 2022-10-24 00:00:00+00:00<br>Active Users: 0<br>Users: 3<br>Properties: 59<br>Edits: 496<br>Pages: 75",
          "KM28<br>URL: https://karlmarx28.wikibase.cloud<br>Host: Wikibase Cloud<br>Version: 1.39.7<br>Start Date: 2023-06-02 00:00:00+00:00<br>Active Users: 0<br>Users: 3<br>Properties: 12<br>Edits: 316<br>Pages: 72",
          "NFDI4Objects TA2 Collecting Workspace<br>URL: https://n4o-ta2.wikibase.cloud<br>Host: Wikibase Cloud<br>Version: 1.39.7<br>Start Date: 2023-05-30 00:00:00+00:00<br>Active Users: 0<br>Users: 2<br>Properties: 25<br>Edits: 293<br>Pages: 71",
          "SciLinkDB<br>URL: https://scilinkdb.wikibase.cloud<br>Host: Wikibase Cloud<br>Version: 1.39.7<br>Start Date: 2024-05-22 00:00:00+00:00<br>Active Users: 1<br>Users: 2<br>Properties: 191<br>Edits: 1047<br>Pages: 588",
          "Fermenting Data<br>URL: https://fermentingdata.wikibase.cloud<br>Host: Wikibase Cloud<br>Version: 1.39.7<br>Start Date: 2023-05-30 00:00:00+00:00<br>Active Users: 0<br>Users: 14<br>Properties: 22<br>Edits: 116<br>Pages: 69",
          "Chilean Music<br>URL: https://chilean-music.wikibase.cloud<br>Host: Wikibase Cloud<br>Version: 1.39.7<br>Start Date: 2024-04-03 00:00:00+00:00<br>Active Users: 2<br>Users: 2<br>Properties: 15<br>Edits: 149<br>Pages: 75",
          "Immaterieel erfgoed<br>URL: https://immaterieel-erfgoed.wikibase.cloud<br>Host: Wikibase Cloud<br>Version: 1.39.7<br>Start Date: 2022-09-19 00:00:00+00:00<br>Active Users: 1<br>Users: 4<br>Properties: 32<br>Edits: 215<br>Pages: 68",
          "Okrzeja<br>URL: https://okrzeja.wikibase.cloud<br>Host: Wikibase Cloud<br>Version: 1.39.7<br>Start Date: 2024-08-30 00:00:00+00:00<br>Active Users: 0<br>Users: 2<br>Properties: 35<br>Edits: 170<br>Pages: 67",
          "AAS semanticId Repository<br>URL: https://semanticid.aas-connect.com<br>Host: Wikibase Cloud<br>Version: 1.39.7<br>Start Date: 2023-12-14 00:00:00+00:00<br>Active Users: 0<br>Users: 4<br>Properties: 19<br>Edits: 187<br>Pages: 67",
          "Food Systems and Landscapes<br>URL: https://foodsystemslab.wikibase.cloud<br>Host: Wikibase Cloud<br>Version: 1.39.7<br>Start Date: 2020-08-07 00:00:00+00:00<br>Active Users: 0<br>Users: 2<br>Properties: 13<br>Edits: 98<br>Pages: 66",
          "Iowa State Metadata Services TEST<br>URL: https://iast-metadata-test.wikibase.cloud<br>Host: Wikibase Cloud<br>Version: 1.39.7<br>Start Date: 2022-09-20 00:00:00+00:00<br>Active Users: 0<br>Users: 8<br>Properties: 17<br>Edits: 339<br>Pages: 67",
          "My Community Archives<br>URL: https://mycommunityarchives.wikibase.cloud<br>Host: Wikibase Cloud<br>Version: 1.39.7<br>Start Date: 2023-01-07 00:00:00+00:00<br>Active Users: 0<br>Users: 4<br>Properties: 45<br>Edits: 280<br>Pages: 65",
          "AGAM<br>URL: https://agausgabemedien.wikibase.cloud<br>Host: Wikibase Cloud<br>Version: 1.39.7<br>Start Date: 2022-12-21 00:00:00+00:00<br>Active Users: 0<br>Users: 27<br>Properties: 23<br>Edits: 167<br>Pages: 66",
          "汉语百科<br>URL: https://chinesepedia.wikibase.cloud<br>Host: Wikibase Cloud<br>Version: 1.39.7<br>Start Date: 2024-08-20 00:00:00+00:00<br>Active Users: 1<br>Users: 4<br>Properties: 6<br>Edits: 217<br>Pages: 70",
          "Qvtorw Onwup<br>URL: https://qvtorwonwup00.wikibase.cloud<br>Host: Wikibase Cloud<br>Version: 1.39.7<br>Start Date: 2024-06-21 00:00:00+00:00<br>Active Users: 0<br>Users: 2<br>Properties: 63<br>Edits: 64<br>Pages: 64",
          "Star Wars Data Holocronn<br>URL: https://holocron.wikibase.cloud<br>Host: Wikibase Cloud<br>Version: 1.39.7<br>Start Date: 2024-05-22 00:00:00+00:00<br>Active Users: 0<br>Users: 2<br>Properties: 30<br>Edits: 250<br>Pages: 63",
          "lib<br>URL: https://libtool.wikibase.cloud<br>Host: Wikibase Cloud<br>Version: 1.39.7<br>Start Date: 2024-04-22 00:00:00+00:00<br>Active Users: 0<br>Users: 2<br>Properties: 60<br>Edits: 88<br>Pages: 61",
          "works.bibframe.wiki<br>URL: https://works.bibframe.wiki<br>Host: Wikibase Cloud<br>Version: 1.39.7<br>Start Date: 2021-12-29 00:00:00+00:00<br>Active Users: 0<br>Users: 3<br>Properties: 18<br>Edits: 212<br>Pages: 60",
          "Lerner-Michard<br>URL: https://lerner-michard.wikibase.cloud<br>Host: Wikibase Cloud<br>Version: 1.39.7<br>Start Date: 2023-12-26 00:00:00+00:00<br>Active Users: 0<br>Users: 2<br>Properties: 6<br>Edits: 151<br>Pages: 59",
          "Maptest<br>URL: https://maptest.wikibase.cloud<br>Host: Wikibase Cloud<br>Version: 1.39.7<br>Start Date: 2022-12-21 00:00:00+00:00<br>Active Users: 0<br>Users: 3<br>Properties: 28<br>Edits: 125<br>Pages: 58",
          "Burocracia Acadêmica<br>URL: https://burocracia.wikibase.cloud<br>Host: Wikibase Cloud<br>Version: 1.39.7<br>Start Date: 2023-02-09 00:00:00+00:00<br>Active Users: 0<br>Users: 6<br>Properties: 23<br>Edits: 184<br>Pages: 62",
          "LD4 Wikibase Working Hour sandbox<br>URL: https://ld4-wbwh-sandbox.wikibase.cloud<br>Host: Wikibase Cloud<br>Version: 1.39.7<br>Start Date: 2023-04-17 00:00:00+00:00<br>Active Users: 0<br>Users: 2<br>Properties: 39<br>Edits: 325<br>Pages: 54",
          "N4O Provenance<br>URL: https://n4o-prov.wikibase.cloud<br>Host: Wikibase Cloud<br>Version: 1.39.7<br>Start Date: 2023-11-10 00:00:00+00:00<br>Active Users: 1<br>Users: 3<br>Properties: 25<br>Edits: 200<br>Pages: 52",
          "Qvtorw Onwup<br>URL: https://qvtorwonwup.wikibase.cloud<br>Host: Wikibase Cloud<br>Version: 1.39.7<br>Start Date: 2024-06-20 00:00:00+00:00<br>Active Users: 0<br>Users: 2<br>Properties: 44<br>Edits: 84<br>Pages: 50",
          "nkcr-sandbox<br>URL: https://nkcr-sandbox.wikibase.cloud<br>Host: Wikibase Cloud<br>Version: 1.39.7<br>Start Date: 2024-04-03 00:00:00+00:00<br>Active Users: 2<br>Users: 13<br>Properties: 18<br>Edits: 131<br>Pages: 52",
          "Paikkatietopalvelu<br>URL: https://paikkatietopalvelu.wikibase.cloud<br>Host: Wikibase Cloud<br>Version: 1.39.7<br>Start Date: 2021-03-05 00:00:00+00:00<br>Active Users: 0<br>Users: 3<br>Properties: 22<br>Edits: 199<br>Pages: 46",
          "portobarroco<br>URL: https://portobarroco.wikibase.cloud<br>Host: Wikibase Cloud<br>Version: 1.39.7<br>Start Date: 2024-05-14 00:00:00+00:00<br>Active Users: 0<br>Users: 2<br>Properties: 39<br>Edits: 56<br>Pages: 46",
          "Nosakhare Okuons<br>URL: https://nosakhare-okuons.wikibase.cloud<br>Host: Wikibase Cloud<br>Version: 1.39.7<br>Start Date: 2023-07-13 00:00:00+00:00<br>Active Users: 0<br>Users: 2<br>Properties: 23<br>Edits: 62<br>Pages: 45",
          "Paikka<br>URL: https://paikka.wikibase.cloud<br>Host: Wikibase Cloud<br>Version: 1.39.7<br>Start Date: 2020-01-21 00:00:00+00:00<br>Active Users: 0<br>Users: 6<br>Properties: 20<br>Edits: 147<br>Pages: 43",
          "AFL<br>URL: https://afl-cidoc.wikibase.cloud<br>Host: Wikibase Cloud<br>Version: 1.39.7<br>Start Date: 2020-10-19 00:00:00+00:00<br>Active Users: 0<br>Users: 2<br>Properties: 13<br>Edits: 125<br>Pages: 41",
          "wikiebase_instance<br>URL: https://wikibase-instance.wikibase.cloud<br>Host: Wikibase Cloud<br>Version: 1.39.7<br>Start Date: 2024-09-02 00:00:00+00:00<br>Active Users: 0<br>Users: 2<br>Properties: 16<br>Edits: 64<br>Pages: 41",
          "Magnus Entities<br>URL: https://magnus.wikibase.cloud<br>Host: Wikibase Cloud<br>Version: 1.39.7<br>Start Date: 2023-03-14 00:00:00+00:00<br>Active Users: 0<br>Users: 2<br>Properties: 8<br>Edits: 58<br>Pages: 40",
          "quxfarm<br>URL: https://quxfarm.wikibase.cloud<br>Host: Wikibase Cloud<br>Version: 1.39.7<br>Start Date: 2020-06-03 00:00:00+00:00<br>Active Users: 0<br>Users: 2<br>Properties: 3<br>Edits: 141<br>Pages: 39",
          "Wikimedia France Open Data<br>URL: https://wm-fr.wikibase.cloud<br>Host: Wikibase Cloud<br>Version: 1.39.7<br>Start Date: 2024-10-06 00:00:00+00:00<br>Active Users: 2<br>Users: 2<br>Properties: 15<br>Edits: 118<br>Pages: 40",
          "Wikidating<br>URL: https://wikidating.wikibase.cloud<br>Host: Wikibase Cloud<br>Version: 1.39.7<br>Start Date: 2024-05-01 00:00:00+00:00<br>Active Users: 0<br>Users: 11<br>Properties: 20<br>Edits: 52<br>Pages: 40",
          "Aikibooks<br>URL: https://aikibooks.wikibase.cloud<br>Host: Wikibase Cloud<br>Version: 1.39.7<br>Start Date: 2023-07-12 00:00:00+00:00<br>Active Users: 0<br>Users: 2<br>Properties: 12<br>Edits: 73<br>Pages: 39",
          "Wesley Collections<br>URL: https://wesley-collections.wikibase.cloud<br>Host: Wikibase Cloud<br>Version: 1.39.7<br>Start Date: 2023-07-14 00:00:00+00:00<br>Active Users: 0<br>Users: 2<br>Properties: 11<br>Edits: 81<br>Pages: 38",
          "Digitalisierungsforschung<br>URL: https://digitalisierungsforschung.wikibase.cloud<br>Host: Wikibase Cloud<br>Version: 1.39.7<br>Start Date: 2024-09-09 00:00:00+00:00<br>Active Users: 1<br>Users: 2<br>Properties: 16<br>Edits: 85<br>Pages: 39",
          "hercules<br>URL: https://hercules.wikibase.cloud<br>Host: Wikibase Cloud<br>Version: 1.39.7<br>Start Date: 2020-01-17 00:00:00+00:00<br>Active Users: 0<br>Users: 4<br>Properties: 12<br>Edits: 172<br>Pages: 37",
          "Books R Databases<br>URL: https://booksrdatabases.wikibase.cloud<br>Host: Wikibase Cloud<br>Version: 1.39.7<br>Start Date: 2024-06-14 00:00:00+00:00<br>Active Users: 1<br>Users: 2<br>Properties: 37<br>Edits: 211<br>Pages: 55",
          "MCAT@HKBU<br>URL: https://hkbu-mcat.wikibase.cloud<br>Host: Wikibase Cloud<br>Version: 1.39.7<br>Start Date: 2024-03-22 00:00:00+00:00<br>Active Users: 0<br>Users: 3<br>Properties: 9<br>Edits: 252<br>Pages: 36",
          "Kaplan<br>URL: https://kaplancollection.wikibase.cloud<br>Host: Wikibase Cloud<br>Version: 1.39.7<br>Start Date: 2024-09-24 00:00:00+00:00<br>Active Users: 1<br>Users: 2<br>Properties: 14<br>Edits: 40116<br>Pages: 16105",
          "Meteorology<br>URL: https://meteorology.wikibase.cloud<br>Host: Wikibase Cloud<br>Version: 1.39.7<br>Start Date: 2023-11-01 00:00:00+00:00<br>Active Users: 0<br>Users: 3<br>Properties: 12<br>Edits: 77<br>Pages: 35",
          "Research Literature for Wikibase<br>URL: https://researchwb.wikibase.cloud<br>Host: Wikibase Cloud<br>Version: 1.39.7<br>Start Date: 2023-02-25 00:00:00+00:00<br>Active Users: 0<br>Users: 6<br>Properties: 11<br>Edits: 166<br>Pages: 35",
          "LAC test<br>URL: https://lac-test.wikibase.cloud<br>Host: Wikibase Cloud<br>Version: 1.39.7<br>Start Date: 2023-08-24 00:00:00+00:00<br>Active Users: 0<br>Users: 2<br>Properties: 15<br>Edits: 69<br>Pages: 35",
          "courli<br>URL: https://courli.wikibase.cloud<br>Host: Wikibase Cloud<br>Version: 1.39.7<br>Start Date: 2024-03-11 00:00:00+00:00<br>Active Users: 0<br>Users: 3<br>Properties: 17<br>Edits: 91<br>Pages: 35",
          "tmp-18769876427210<br>URL: https://tmp-18769876427210.wikibase.cloud<br>Host: Wikibase Cloud<br>Version: 1.39.7<br>Start Date: 2024-04-18 00:00:00+00:00<br>Active Users: 0<br>Users: 2<br>Properties: 34<br>Edits: 35<br>Pages: 35",
          "Almeda Test Wikibase<br>URL: https://almedatestwikibase.wikibase.cloud<br>Host: Wikibase Cloud<br>Version: 1.39.7<br>Start Date: 2023-10-09 00:00:00+00:00<br>Active Users: 0<br>Users: 4<br>Properties: 16<br>Edits: 77<br>Pages: 34",
          "MLBase<br>URL: https://ml-base-test.wikibase.cloud<br>Host: Wikibase Cloud<br>Version: 1.39.7<br>Start Date: 2024-10-04 00:00:00+00:00<br>Active Users: 2<br>Users: 2<br>Properties: 14<br>Edits: 83<br>Pages: 34",
          "Languages<br>URL: https://languages.wikibase.cloud<br>Host: Wikibase Cloud<br>Version: 1.39.7<br>Start Date: 2019-11-23 00:00:00+00:00<br>Active Users: 0<br>Users: 2<br>Properties: 25<br>Edits: 55<br>Pages: 33",
          "Dictionary of Mormon Biography<br>URL: https://mormonbiography.org<br>Host: Wikibase Cloud<br>Version: 1.39.7<br>Start Date: 2022-09-05 00:00:00+00:00<br>Active Users: 0<br>Users: 34<br>Properties: 13<br>Edits: 82<br>Pages: 33",
          "LamBase<br>URL: https://lambase.wikibase.cloud<br>Host: Wikibase Cloud<br>Version: 1.39.7<br>Start Date: 2023-11-18 00:00:00+00:00<br>Active Users: 0<br>Users: 2<br>Properties: 5<br>Edits: 40<br>Pages: 34",
          "FLMR Sandbox<br>URL: https://flmr-db.wikibase.cloud<br>Host: Wikibase Cloud<br>Version: 1.39.7<br>Start Date: 2023-11-27 00:00:00+00:00<br>Active Users: 0<br>Users: 3<br>Properties: 13<br>Edits: 104<br>Pages: 33",
          "Example Wikibase<br>URL: https://examplewikiuo283069.wikibase.cloud<br>Host: Wikibase Cloud<br>Version: 1.39.7<br>Start Date: 2024-03-05 00:00:00+00:00<br>Active Users: 0<br>Users: 2<br>Properties: 10<br>Edits: 134<br>Pages: 32",
          "Photo-data<br>URL: https://photo-data.wikibase.cloud<br>Host: Wikibase Cloud<br>Version: 1.39.7<br>Start Date: 2020-10-04 00:00:00+00:00<br>Active Users: 0<br>Users: 2<br>Properties: 11<br>Edits: 201<br>Pages: 31",
          "Science Fiction History<br>URL: https://sciencefictionhistory.wikibase.cloud<br>Host: Wikibase Cloud<br>Version: 1.39.7<br>Start Date: 2023-03-20 00:00:00+00:00<br>Active Users: 0<br>Users: 2<br>Properties: 21<br>Edits: 76<br>Pages: 31",
          "Validator Testing Wikidata<br>URL: https://validatortest.wikibase.cloud<br>Host: Wikibase Cloud<br>Version: 1.39.7<br>Start Date: 2024-03-18 00:00:00+00:00<br>Active Users: 1<br>Users: 3<br>Properties: 9<br>Edits: 247<br>Pages: 31",
          "Verb Conjugation Data<br>URL: https://verb-conjugation-data.wikibase.cloud<br>Host: Wikibase Cloud<br>Version: 1.39.7<br>Start Date: 2024-08-27 00:00:00+00:00<br>Active Users: 0<br>Users: 2<br>Properties: 12<br>Edits: 36<br>Pages: 31",
          "Vicky Library<br>URL: https://vickylibrary.wikibase.cloud<br>Host: Wikibase Cloud<br>Version: 1.39.7<br>Start Date: 2023-09-13 00:00:00+00:00<br>Active Users: 0<br>Users: 2<br>Properties: 10<br>Edits: 68<br>Pages: 30",
          "The Art of (Our) Storytelling<br>URL: https://black-life-writing-bib.wikibase.cloud<br>Host: Wikibase Cloud<br>Version: 1.39.7<br>Start Date: 2023-10-12 00:00:00+00:00<br>Active Users: 0<br>Users: 2<br>Properties: 5<br>Edits: 44<br>Pages: 30",
          "miwprofe<br>URL: https://miwprofe.wikibase.cloud<br>Host: Wikibase Cloud<br>Version: 1.39.7<br>Start Date: 2024-05-14 00:00:00+00:00<br>Active Users: 0<br>Users: 18<br>Properties: 6<br>Edits: 113<br>Pages: 30",
          "Womenwriters<br>URL: https://womenwriters.wikibase.cloud<br>Host: Wikibase Cloud<br>Version: 1.39.7<br>Start Date: 2019-12-12 00:00:00+00:00<br>Active Users: 0<br>Users: 2<br>Properties: 12<br>Edits: 52<br>Pages: 29",
          "Doris McCarthy DB<br>URL: https://dorismccarthy.wikibase.cloud<br>Host: Wikibase Cloud<br>Version: 1.39.7<br>Start Date: 2023-11-14 00:00:00+00:00<br>Active Users: 0<br>Users: 2<br>Properties: 12<br>Edits: 81<br>Pages: 29",
          "Context Aware Exploratory Search<br>URL: https://ckg-exploratory-search.wikibase.cloud<br>Host: Wikibase Cloud<br>Version: 1.39.7<br>Start Date: 2022-09-13 00:00:00+00:00<br>Active Users: 0<br>Users: 2<br>Properties: 11<br>Edits: 68<br>Pages: 27",
          "cursoslabra<br>URL: https://cursoslabra.wikibase.cloud<br>Host: Wikibase Cloud<br>Version: 1.39.7<br>Start Date: 2020-01-07 00:00:00+00:00<br>Active Users: 0<br>Users: 4<br>Properties: 9<br>Edits: 44<br>Pages: 26",
          "Wikimedia NYC Outreach<br>URL: https://wmnyc.wikibase.cloud<br>Host: Wikibase Cloud<br>Version: 1.39.7<br>Start Date: 2019-10-27 00:00:00+00:00<br>Active Users: 0<br>Users: 2<br>Properties: 6<br>Edits: 82<br>Pages: 26",
          "DBGI Wikibase Sandbox<br>URL: https://dbgi-sandbox.wikibase.cloud<br>Host: Wikibase Cloud<br>Version: 1.39.7<br>Start Date: 2023-03-05 00:00:00+00:00<br>Active Users: 0<br>Users: 11<br>Properties: 13<br>Edits: 56<br>Pages: 26",
          "Florencia de todo los Santos<br>URL: https://florencia.wikibase.cloud<br>Host: Wikibase Cloud<br>Version: 1.39.7<br>Start Date: 2022-05-20 00:00:00+00:00<br>Active Users: 0<br>Users: 8<br>Properties: 5<br>Edits: 62<br>Pages: 25",
          "Sweeties<br>URL: https://sweeties.wikibase.cloud<br>Host: Wikibase Cloud<br>Version: 1.39.7<br>Start Date: 2023-05-10 00:00:00+00:00<br>Active Users: 0<br>Users: 4<br>Properties: 5<br>Edits: 138<br>Pages: 25",
          "Awesome Wiki<br>URL: https://awesome.wikibase.cloud<br>Host: Wikibase Cloud<br>Version: 1.39.7<br>Start Date: 2024-08-30 00:00:00+00:00<br>Active Users: 0<br>Users: 2<br>Properties: 8<br>Edits: 47<br>Pages: 25",
          "glacierwatch<br>URL: https://glacierwatch.wikibase.cloud<br>Host: Wikibase Cloud<br>Version: 1.39.7<br>Start Date: 2022-09-23 00:00:00+00:00<br>Active Users: 0<br>Users: 2<br>Properties: 6<br>Edits: 56<br>Pages: 24",
          "gilliane<br>URL: https://gilliane.wikibase.cloud<br>Host: Wikibase Cloud<br>Version: 1.39.7<br>Start Date: 2019-12-03 00:00:00+00:00<br>Active Users: 0<br>Users: 3<br>Properties: 14<br>Edits: 45<br>Pages: 23",
          "Myexamplewikibase<br>URL: https://xxxxxxxxxxxxxxxxxx.wikibase.cloud<br>Host: Wikibase Cloud<br>Version: 1.39.7<br>Start Date: 2023-07-11 00:00:00+00:00<br>Active Users: 0<br>Users: 3<br>Properties: 5<br>Edits: 39<br>Pages: 23",
          "sdiuhfiusdhfiusdgfs<br>URL: https://jdfjkashdjashdkja.wikibase.cloud<br>Host: Wikibase Cloud<br>Version: 1.39.7<br>Start Date: 2022-02-01 00:00:00+00:00<br>Active Users: 0<br>Users: 5<br>Properties: 3<br>Edits: 32<br>Pages: 22",
          "FacLab<br>URL: https://faclab.wikibase.cloud<br>Host: Wikibase Cloud<br>Version: 1.39.7<br>Start Date: 2019-11-01 00:00:00+00:00<br>Active Users: 0<br>Users: 3<br>Properties: 4<br>Edits: 44<br>Pages: 22",
          "You have to pay!<br>URL: https://daaag.wikibase.cloud<br>Host: Wikibase Cloud<br>Version: 1.39.7<br>Start Date: 2024-07-26 00:00:00+00:00<br>Active Users: 0<br>Users: 3<br>Properties: 11<br>Edits: 38<br>Pages: 23",
          "DIS18-Projektarbeit-1<br>URL: https://transcriptional-start-sites.wikibase.cloud<br>Host: Wikibase Cloud<br>Version: 1.39.7<br>Start Date: 2024-06-14 00:00:00+00:00<br>Active Users: 0<br>Users: 3<br>Properties: 4<br>Edits: 26<br>Pages: 22",
          "Letterbox<br>URL: https://letterbox.wikibase.cloud<br>Host: Wikibase Cloud<br>Version: 1.39.7<br>Start Date: 2024-05-17 00:00:00+00:00<br>Active Users: 0<br>Users: 2<br>Properties: 6<br>Edits: 43<br>Pages: 22",
          "Test Geovistory<br>URL: https://test-geovistory.wikibase.cloud<br>Host: Wikibase Cloud<br>Version: 1.39.7<br>Start Date: 2023-07-23 00:00:00+00:00<br>Active Users: 0<br>Users: 2<br>Properties: 8<br>Edits: 32<br>Pages: 21",
          "byspolylibrary<br>URL: https://waltspersonal.wikibase.cloud<br>Host: Wikibase Cloud<br>Version: 1.39.7<br>Start Date: 2023-09-13 00:00:00+00:00<br>Active Users: 0<br>Users: 2<br>Properties: 8<br>Edits: 41<br>Pages: 21",
          "librarianjerywikibase<br>URL: https://interactivemodule.wikibase.cloud<br>Host: Wikibase Cloud<br>Version: 1.39.7<br>Start Date: 2023-07-14 00:00:00+00:00<br>Active Users: 0<br>Users: 2<br>Properties: 7<br>Edits: 56<br>Pages: 21",
          "Peace Apparel Collections<br>URL: https://peaceapparelcollection.wikibase.cloud<br>Host: Wikibase Cloud<br>Version: 1.39.7<br>Start Date: 2023-09-13 00:00:00+00:00<br>Active Users: 0<br>Users: 2<br>Properties: 5<br>Edits: 35<br>Pages: 20",
          "Talmudic<br>URL: https://talmudic-trial.wikibase.cloud<br>Host: Wikibase Cloud<br>Version: 1.39.7<br>Start Date: 2024-08-21 00:00:00+00:00<br>Active Users: 0<br>Users: 2<br>Properties: 8<br>Edits: 27<br>Pages: 21",
          "Felipe Ribeiro<br>URL: https://operarioribeiro.wikibase.cloud<br>Host: Wikibase Cloud<br>Version: 1.39.7<br>Start Date: 2024-08-27 00:00:00+00:00<br>Active Users: 0<br>Users: 2<br>Properties: 7<br>Edits: 45<br>Pages: 21",
          "Samson Adedoyin Library<br>URL: https://samsonadedoyinlibrary.wikibase.cloud<br>Host: Wikibase Cloud<br>Version: 1.39.7<br>Start Date: 2023-12-19 00:00:00+00:00<br>Active Users: 0<br>Users: 2<br>Properties: 8<br>Edits: 27<br>Pages: 20",
          "Victorian Public Transport Database<br>URL: https://pt.t4t.pet<br>Host: Wikibase Cloud<br>Version: 1.39.7<br>Start Date: 2024-05-26 00:00:00+00:00<br>Active Users: 0<br>Users: 2<br>Properties: 18<br>Edits: 41<br>Pages: 20",
          "gndtest<br>URL: https://gndtest.wikibase.cloud<br>Host: Wikibase Cloud<br>Version: 1.39.7<br>Start Date: 2021-03-23 00:00:00+00:00<br>Active Users: 0<br>Users: 2<br>Properties: 12<br>Edits: 40<br>Pages: 19",
          "Agents of Enslavement<br>URL: https://agents-of-enslavement.wikibase.cloud<br>Host: Wikibase Cloud<br>Version: 1.39.7<br>Start Date: 2021-08-04 00:00:00+00:00<br>Active Users: 0<br>Users: 4<br>Properties: 4<br>Edits: 59<br>Pages: 19",
          "WookieePedia<br>URL: https://wookieepedia.wikibase.cloud<br>Host: Wikibase Cloud<br>Version: 1.39.7<br>Start Date: 2024-03-27 00:00:00+00:00<br>Active Users: 0<br>Users: 3<br>Properties: 9<br>Edits: 45<br>Pages: 20",
          "Elixir’s collections<br>URL: https://elixirslibrary.wikibase.cloud<br>Host: Wikibase Cloud<br>Version: 1.39.7<br>Start Date: 2023-09-12 00:00:00+00:00<br>Active Users: 0<br>Users: 2<br>Properties: 7<br>Edits: 40<br>Pages: 19",
          "Microscopical Researches<br>URL: https://schwann.wikibase.cloud<br>Host: Wikibase Cloud<br>Version: 1.39.7<br>Start Date: 2024-04-07 00:00:00+00:00<br>Active Users: 0<br>Users: 2<br>Properties: 6<br>Edits: 89<br>Pages: 19",
          "ChaWiki<br>URL: https://chawiki.wikibase.cloud<br>Host: Wikibase Cloud<br>Version: 1.39.7<br>Start Date: 2023-11-18 00:00:00+00:00<br>Active Users: 0<br>Users: 2<br>Properties: 8<br>Edits: 89<br>Pages: 19",
          "anton5<br>URL: https://anton5.wikibase.cloud<br>Host: Wikibase Cloud<br>Version: 1.39.7<br>Start Date: 2024-06-20 00:00:00+00:00<br>Active Users: 0<br>Users: 2<br>Properties: 12<br>Edits: 40<br>Pages: 19",
          "Monacan<br>URL: https://monacan.wikibase.cloud<br>Host: Wikibase Cloud<br>Version: 1.39.7<br>Start Date: 2019-10-26 00:00:00+00:00<br>Active Users: 0<br>Users: 5<br>Properties: 2<br>Edits: 67<br>Pages: 18",
          "Open Music Observatory<br>URL: https://openmusic.wikibase.cloud<br>Host: Wikibase Cloud<br>Version: 1.39.7<br>Start Date: 2024-05-25 00:00:00+00:00<br>Active Users: 0<br>Users: 2<br>Properties: 3<br>Edits: 97<br>Pages: 18",
          "e-qvadrat<br>URL: https://e-qvadrat.wikibase.cloud<br>Host: Wikibase Cloud<br>Version: 1.39.7<br>Start Date: 2024-02-20 00:00:00+00:00<br>Active Users: 0<br>Users: 2<br>Properties: 7<br>Edits: 34<br>Pages: 18",
          "Weaver<br>URL: https://weaver.wikibase.cloud<br>Host: Wikibase Cloud<br>Version: 1.39.7<br>Start Date: 2023-05-16 00:00:00+00:00<br>Active Users: 0<br>Users: 2<br>Properties: 11<br>Edits: 37<br>Pages: 17",
          "Wikispeleology<br>URL: https://wikispeleology.wikibase.cloud<br>Host: Wikibase Cloud<br>Version: 1.39.7<br>Start Date: 2021-05-04 00:00:00+00:00<br>Active Users: 0<br>Users: 4<br>Properties: 6<br>Edits: 57<br>Pages: 17",
          "My Personal Library<br>URL: https://mypersonallibray.wikibase.cloud<br>Host: Wikibase Cloud<br>Version: 1.39.7<br>Start Date: 2023-09-12 00:00:00+00:00<br>Active Users: 0<br>Users: 2<br>Properties: 7<br>Edits: 19<br>Pages: 17",
          "Franca's collection<br>URL: https://franca.wikibase.cloud<br>Host: Wikibase Cloud<br>Version: 1.39.7<br>Start Date: 2023-09-12 00:00:00+00:00<br>Active Users: 0<br>Users: 2<br>Properties: 7<br>Edits: 37<br>Pages: 17",
          "anton9<br>URL: https://anton9.wikibase.cloud<br>Host: Wikibase Cloud<br>Version: 1.39.7<br>Start Date: 2024-08-20 00:00:00+00:00<br>Active Users: 0<br>Users: 2<br>Properties: 7<br>Edits: 21<br>Pages: 17",
          "hist-arch-reg<br>URL: https://hist-arch-reg.wikibase.cloud<br>Host: Wikibase Cloud<br>Version: 1.39.7<br>Start Date: 2024-05-03 00:00:00+00:00<br>Active Users: 0<br>Users: 2<br>Properties: 7<br>Edits: 33<br>Pages: 17",
          "WikiPrompts<br>URL: https://wikiprompts.wikibase.cloud<br>Host: Wikibase Cloud<br>Version: 1.39.7<br>Start Date: 2024-09-22 00:00:00+00:00<br>Active Users: 1<br>Users: 3<br>Properties: 7<br>Edits: 32<br>Pages: 17",
          "Precision Oncology<br>URL: https://gs-oncology.wikibase.cloud<br>Host: Wikibase Cloud<br>Version: 1.39.7<br>Start Date: 2024-10-05 00:00:00+00:00<br>Active Users: 1<br>Users: 3<br>Properties: 8<br>Edits: 19<br>Pages: 18",
          "TegaOmorodion<br>URL: https://delight.wikibase.cloud<br>Host: Wikibase Cloud<br>Version: 1.39.7<br>Start Date: 2023-07-13 00:00:00+00:00<br>Active Users: 0<br>Users: 2<br>Properties: 8<br>Edits: 20<br>Pages: 16",
          "Poppenspel<br>URL: https://poppenspel.wikibase.cloud<br>Host: Wikibase Cloud<br>Version: 1.39.7<br>Start Date: 2024-10-08 00:00:00+00:00<br>Active Users: 2<br>Users: 2<br>Properties: 13<br>Edits: 21<br>Pages: 17",
          "GraceBeke<br>URL: https://nigerdeltalibrary.wikibase.cloud<br>Host: Wikibase Cloud<br>Version: 1.39.7<br>Start Date: 2023-09-12 00:00:00+00:00<br>Active Users: 0<br>Users: 2<br>Properties: 4<br>Edits: 26<br>Pages: 16",
          "Test dokument<br>URL: https://testdokument.wikibase.cloud<br>Host: Wikibase Cloud<br>Version: 1.39.7<br>Start Date: 2023-12-19 00:00:00+00:00<br>Active Users: 0<br>Users: 3<br>Properties: 3<br>Edits: 36<br>Pages: 16",
          "merops<br>URL: https://merops.wikibase.cloud<br>Host: Wikibase Cloud<br>Version: 1.39.7<br>Start Date: 2024-03-05 00:00:00+00:00<br>Active Users: 0<br>Users: 3<br>Properties: 6<br>Edits: 28<br>Pages: 16",
          "miwinves2324<br>URL: https://miwinves2324.wikibase.cloud<br>Host: Wikibase Cloud<br>Version: 1.39.7<br>Start Date: 2024-05-13 00:00:00+00:00<br>Active Users: 0<br>Users: 6<br>Properties: 4<br>Edits: 34<br>Pages: 16",
          "ecomedia<br>URL: https://ecomedia.wikibase.cloud<br>Host: Wikibase Cloud<br>Version: 1.39.7<br>Start Date: 2024-07-16 00:00:00+00:00<br>Active Users: 0<br>Users: 3<br>Properties: 10<br>Edits: 36<br>Pages: 16",
          "federation<br>URL: https://federation.wikibase.cloud<br>Host: Wikibase Cloud<br>Version: 1.39.7<br>Start Date: 2019-11-01 00:00:00+00:00<br>Active Users: 0<br>Users: 3<br>Properties: 5<br>Edits: 26<br>Pages: 15",
          "wikibasetest<br>URL: https://wikibasetest.wikibase.cloud<br>Host: Wikibase Cloud<br>Version: 1.39.7<br>Start Date: 2022-11-16 00:00:00+00:00<br>Active Users: 0<br>Users: 2<br>Properties: 3<br>Edits: 16<br>Pages: 15",
          "Wikitest<br>URL: https://testwikiatesttesttesttesteee.wikibase.cloud<br>Host: Wikibase Cloud<br>Version: 1.39.7<br>Start Date: 2024-09-14 00:00:00+00:00<br>Active Users: 0<br>Users: 3<br>Properties: 5<br>Edits: 25<br>Pages: 16",
          "my wikibase class<br>URL: https://ramatu.wikibase.cloud<br>Host: Wikibase Cloud<br>Version: 1.39.7<br>Start Date: 2023-07-17 00:00:00+00:00<br>Active Users: 0<br>Users: 2<br>Properties: 10<br>Edits: 23<br>Pages: 15",
          "stadnamn<br>URL: https://stadnamn.wikibase.cloud<br>Host: Wikibase Cloud<br>Version: 1.39.7<br>Start Date: 2023-08-16 00:00:00+00:00<br>Active Users: 1<br>Users: 2<br>Properties: 11<br>Edits: 108<br>Pages: 17",
          "VJ Test<br>URL: https://trial-1.wikibase.cloud<br>Host: Wikibase Cloud<br>Version: 1.39.7<br>Start Date: 2023-07-27 00:00:00+00:00<br>Active Users: 0<br>Users: 2<br>Properties: 8<br>Edits: 35<br>Pages: 15",
          "Chinese Culture and Heritage<br>URL: https://chinese-culture-and-heritage.wikibase.cloud<br>Host: Wikibase Cloud<br>Version: 1.39.7<br>Start Date: 2023-07-10 00:00:00+00:00<br>Active Users: 1<br>Users: 13<br>Properties: 21<br>Edits: 69<br>Pages: 29",
          "Azaiki Public Library<br>URL: https://azaikilibrary.wikibase.cloud<br>Host: Wikibase Cloud<br>Version: 1.39.7<br>Start Date: 2023-09-12 00:00:00+00:00<br>Active Users: 0<br>Users: 2<br>Properties: 5<br>Edits: 25<br>Pages: 15",
          "VEE'S FASHION<br>URL: https://nigerlibrary.wikibase.cloud<br>Host: Wikibase Cloud<br>Version: 1.39.7<br>Start Date: 2023-09-12 00:00:00+00:00<br>Active Users: 0<br>Users: 2<br>Properties: 5<br>Edits: 33<br>Pages: 15",
          "FMCY Library<br>URL: https://poinami-library.wikibase.cloud<br>Host: Wikibase Cloud<br>Version: 1.39.7<br>Start Date: 2023-09-12 00:00:00+00:00<br>Active Users: 0<br>Users: 2<br>Properties: 7<br>Edits: 24<br>Pages: 15",
          "BrukerBasen<br>URL: https://brikerbasen.wikibase.cloud<br>Host: Wikibase Cloud<br>Version: 1.39.7<br>Start Date: 2024-05-03 00:00:00+00:00<br>Active Users: 0<br>Users: 2<br>Properties: 6<br>Edits: 15<br>Pages: 15",
          "copypastewaste_prototype<br>URL: https://copypastewasteprototype.wikibase.cloud<br>Host: Wikibase Cloud<br>Version: 1.39.7<br>Start Date: 2024-06-19 00:00:00+00:00<br>Active Users: 0<br>Users: 14<br>Properties: 4<br>Edits: 30<br>Pages: 15",
          "Linked Lions<br>URL: https://linked-lions.wikibase.cloud<br>Host: Wikibase Cloud<br>Version: 1.39.7<br>Start Date: 2022-09-09 00:00:00+00:00<br>Active Users: 0<br>Users: 2<br>Properties: 8<br>Edits: 26<br>Pages: 14",
          "Oddruns testsite2<br>URL: https://odos-test2.wikibase.cloud<br>Host: Wikibase Cloud<br>Version: 1.39.7<br>Start Date: 2024-10-08 00:00:00+00:00<br>Active Users: 2<br>Users: 2<br>Properties: 6<br>Edits: 19<br>Pages: 15",
          "Christos Test<br>URL: https://christoslearnswbcloud.wikibase.cloud<br>Host: Wikibase Cloud<br>Version: 1.39.7<br>Start Date: 2023-01-20 00:00:00+00:00<br>Active Users: 0<br>Users: 2<br>Properties: 6<br>Edits: 39<br>Pages: 14",
          "Timi Library<br>URL: https://timilibrary.wikibase.cloud<br>Host: Wikibase Cloud<br>Version: 1.39.7<br>Start Date: 2023-09-13 00:00:00+00:00<br>Active Users: 0<br>Users: 2<br>Properties: 3<br>Edits: 20<br>Pages: 14",
          "Bena Collections<br>URL: https://benacollections.wikibase.cloud<br>Host: Wikibase Cloud<br>Version: 1.39.7<br>Start Date: 2023-09-12 00:00:00+00:00<br>Active Users: 0<br>Users: 2<br>Properties: 5<br>Edits: 23<br>Pages: 14",
          "INDXR collections<br>URL: https://indxr.wikibase.cloud<br>Host: Wikibase Cloud<br>Version: 1.39.7<br>Start Date: 2023-02-27 00:00:00+00:00<br>Active Users: 0<br>Users: 2<br>Properties: 6<br>Edits: 44<br>Pages: 14",
          "Grappliana<br>URL: https://grappliana.wikibase.cloud<br>Host: Wikibase Cloud<br>Version: 1.39.7<br>Start Date: 2023-10-06 00:00:00+00:00<br>Active Users: 0<br>Users: 2<br>Properties: 1<br>Edits: 14<br>Pages: 14",
          "La Tunisie Médicale<br>URL: https://tunismed.wikibase.cloud<br>Host: Wikibase Cloud<br>Version: 1.39.7<br>Start Date: 2024-04-11 00:00:00+00:00<br>Active Users: 0<br>Users: 2<br>Properties: 13<br>Edits: 21<br>Pages: 14",
          "Dumo Lib<br>URL: https://dumo-collection.wikibase.cloud<br>Host: Wikibase Cloud<br>Version: 1.39.7<br>Start Date: 2023-09-12 00:00:00+00:00<br>Active Users: 0<br>Users: 2<br>Properties: 5<br>Edits: 18<br>Pages: 13",
          "GOD'S FAVOURITE<br>URL: https://godfavourite.wikibase.cloud<br>Host: Wikibase Cloud<br>Version: 1.39.7<br>Start Date: 2023-09-13 00:00:00+00:00<br>Active Users: 0<br>Users: 2<br>Properties: 4<br>Edits: 18<br>Pages: 13",
          "Ugly Architecture Test<br>URL: https://ugly-architecture-test.wikibase.cloud<br>Host: Wikibase Cloud<br>Version: 1.39.7<br>Start Date: 2024-02-01 00:00:00+00:00<br>Active Users: 0<br>Users: 2<br>Properties: 8<br>Edits: 38<br>Pages: 13",
          "Test<br>URL: https://test-database.wikibase.cloud<br>Host: Wikibase Cloud<br>Version: 1.39.7<br>Start Date: 2024-02-01 00:00:00+00:00<br>Active Users: 1<br>Users: 2<br>Properties: 10<br>Edits: 61<br>Pages: 13",
          "University of Leeds Authorities<br>URL: https://leeds-authorities.wikibase.cloud<br>Host: Wikibase Cloud<br>Version: 1.39.7<br>Start Date: 2024-05-30 00:00:00+00:00<br>Active Users: 0<br>Users: 2<br>Properties: 6<br>Edits: 14<br>Pages: 14",
          "ScientistsWiki<br>URL: https://test-scientists.wikibase.cloud<br>Host: Wikibase Cloud<br>Version: 1.39.7<br>Start Date: 2024-03-06 00:00:00+00:00<br>Active Users: 0<br>Users: 2<br>Properties: 4<br>Edits: 21<br>Pages: 13",
          "350817<br>URL: https://350817.wikibase.cloud<br>Host: Wikibase Cloud<br>Version: 1.39.7<br>Start Date: 2024-02-17 00:00:00+00:00<br>Active Users: 0<br>Users: 3<br>Properties: 6<br>Edits: 34<br>Pages: 13",
          "anton7<br>URL: https://anton7.wikibase.cloud<br>Host: Wikibase Cloud<br>Version: 1.39.7<br>Start Date: 2024-08-09 00:00:00+00:00<br>Active Users: 0<br>Users: 2<br>Properties: 6<br>Edits: 13<br>Pages: 13",
          "Test CDC Commons<br>URL: https://gl-cdc-commons.wikibase.cloud<br>Host: Wikibase Cloud<br>Version: 1.39.7<br>Start Date: 2024-08-14 00:00:00+00:00<br>Active Users: 0<br>Users: 2<br>Properties: 6<br>Edits: 13<br>Pages: 13",
          "Practicum<br>URL: https://practicum.wikibase.cloud<br>Host: Wikibase Cloud<br>Version: 1.39.7<br>Start Date: 2024-08-16 00:00:00+00:00<br>Active Users: 0<br>Users: 2<br>Properties: 6<br>Edits: 13<br>Pages: 13",
          "Daria Gavrilova (periodista)<br>URL: https://dariagavrilova.wikibase.cloud<br>Host: Wikibase Cloud<br>Version: 1.39.7<br>Start Date: 2024-08-15 00:00:00+00:00<br>Active Users: 0<br>Users: 2<br>Properties: 6<br>Edits: 13<br>Pages: 13",
          "personalwiki (on wikibase.cloud)<br>URL: https://personalwiki.wikibase.cloud<br>Host: Wikibase Cloud<br>Version: 1.39.7<br>Start Date: 2024-08-17 00:00:00+00:00<br>Active Users: 0<br>Users: 2<br>Properties: 6<br>Edits: 13<br>Pages: 13",
          "hiperterminal<br>URL: https://hiperterminal.wikibase.cloud<br>Host: Wikibase Cloud<br>Version: 1.39.7<br>Start Date: 2024-08-20 00:00:00+00:00<br>Active Users: 0<br>Users: 2<br>Properties: 6<br>Edits: 13<br>Pages: 13",
          "Talmudic collections test<br>URL: https://talmudic-collections-test.wikibase.cloud<br>Host: Wikibase Cloud<br>Version: 1.39.7<br>Start Date: 2024-08-26 00:00:00+00:00<br>Active Users: 0<br>Users: 2<br>Properties: 6<br>Edits: 13<br>Pages: 13",
          "sangam<br>URL: https://sangam.wikibase.cloud<br>Host: Wikibase Cloud<br>Version: 1.39.7<br>Start Date: 2024-09-03 00:00:00+00:00<br>Active Users: 0<br>Users: 2<br>Properties: 6<br>Edits: 13<br>Pages: 13",
          "KünstlNetz1600<br>URL: https://xn--knstlnetz1600-salzburg-slc.wikibase.cloud<br>Host: Wikibase Cloud<br>Version: 1.39.7<br>Start Date: 2024-09-05 00:00:00+00:00<br>Active Users: 0<br>Users: 2<br>Properties: 6<br>Edits: 13<br>Pages: 13",
          "Conceptual Model for the Performing Arts<br>URL: https://performingarts.wikibase.cloud<br>Host: Wikibase Cloud<br>Version: 1.39.7<br>Start Date: 2024-09-24 00:00:00+00:00<br>Active Users: 1<br>Users: 2<br>Properties: 8<br>Edits: 40<br>Pages: 17",
          "Komentarz<br>URL: https://testowy-komentarz.wikibase.cloud<br>Host: Wikibase Cloud<br>Version: 1.39.7<br>Start Date: 2024-09-26 00:00:00+00:00<br>Active Users: 0<br>Users: 2<br>Properties: 6<br>Edits: 13<br>Pages: 13",
          "famedata<br>URL: https://famedata.wikibase.cloud<br>Host: Wikibase Cloud<br>Version: 1.39.7<br>Start Date: 2024-10-05 00:00:00+00:00<br>Active Users: 2<br>Users: 2<br>Properties: 6<br>Edits: 14<br>Pages: 13",
          "testing<br>URL: https://testingeric.wikibase.cloud<br>Host: Wikibase Cloud<br>Version: 1.39.7<br>Start Date: 2024-10-04 00:00:00+00:00<br>Active Users: 1<br>Users: 2<br>Properties: 6<br>Edits: 13<br>Pages: 13",
          "Solenne Test Wiki<br>URL: https://test-solenne.wikibase.cloud<br>Host: Wikibase Cloud<br>Version: 1.39.7<br>Start Date: 2024-10-08 00:00:00+00:00<br>Active Users: 2<br>Users: 2<br>Properties: 6<br>Edits: 14<br>Pages: 13",
          "Archive Sandra Becker 01<br>URL: https://sandrabecker01.wikibase.cloud<br>Host: Wikibase Cloud<br>Version: 1.39.7<br>Start Date: 2022-12-24 00:00:00+00:00<br>Active Users: 0<br>Users: 4<br>Properties: 7<br>Edits: 24<br>Pages: 12",
          "Nomenclature for Museum Cataloguing<br>URL: https://nomenclature.wikibase.cloud<br>Host: Wikibase Cloud<br>Version: 1.39.7<br>Start Date: 2024-10-08 00:00:00+00:00<br>Active Users: 1<br>Users: 2<br>Properties: 6<br>Edits: 13<br>Pages: 13",
          "Fmc library<br>URL: https://beauty-lib.wikibase.cloud<br>Host: Wikibase Cloud<br>Version: 1.39.7<br>Start Date: 2023-09-12 00:00:00+00:00<br>Active Users: 0<br>Users: 2<br>Properties: 4<br>Edits: 15<br>Pages: 12",
          "initial tests confirm success<br>URL: https://initial-tests-confirm-success.wikibase.cloud<br>Host: Wikibase Cloud<br>Version: 1.39.7<br>Start Date: 2023-01-06 00:00:00+00:00<br>Active Users: 0<br>Users: 2<br>Properties: 6<br>Edits: 15<br>Pages: 12",
          "DeJongeWiki<br>URL: https://dejonge.wikibase.cloud<br>Host: Wikibase Cloud<br>Version: 1.39.7<br>Start Date: 2023-09-23 00:00:00+00:00<br>Active Users: 0<br>Users: 2<br>Properties: 6<br>Edits: 12<br>Pages: 12",
          "AvoinGLAM Archive<br>URL: https://avoinglam.wikibase.cloud<br>Host: Wikibase Cloud<br>Version: 1.39.7<br>Start Date: 2024-02-19 00:00:00+00:00<br>Active Users: 0<br>Users: 2<br>Properties: 6<br>Edits: 22<br>Pages: 12",
          "Atkins Library Names<br>URL: https://atkins-names.wikibase.cloud<br>Host: Wikibase Cloud<br>Version: 1.39.7<br>Start Date: 2021-05-28 00:00:00+00:00<br>Active Users: 0<br>Users: 2<br>Properties: 8<br>Edits: 26<br>Pages: 11",
          "KB RDA Test Wikibase<br>URL: https://kb-rda-testwikibase.wikibase.cloud<br>Host: Wikibase Cloud<br>Version: 1.39.7<br>Start Date: 2022-12-08 00:00:00+00:00<br>Active Users: 0<br>Users: 5<br>Properties: 5<br>Edits: 25<br>Pages: 11",
          "Singerman<br>URL: https://judaicaamericana.wikibase.cloud<br>Host: Wikibase Cloud<br>Version: 1.39.7<br>Start Date: 2024-01-13 00:00:00+00:00<br>Active Users: 0<br>Users: 2<br>Properties: 6<br>Edits: 17<br>Pages: 11",
          "SON Test<br>URL: https://sonime.wikibase.cloud<br>Host: Wikibase Cloud<br>Version: 1.39.7<br>Start Date: 2024-02-22 00:00:00+00:00<br>Active Users: 0<br>Users: 2<br>Properties: 6<br>Edits: 14<br>Pages: 11",
          "MC Archives<br>URL: https://mcarchives.wikibase.cloud<br>Host: Wikibase Cloud<br>Version: 1.39.7<br>Start Date: 2022-10-06 00:00:00+00:00<br>Active Users: 0<br>Users: 4<br>Properties: 6<br>Edits: 21<br>Pages: 10",
          "cidoc-crm-example<br>URL: https://cidoc-crm-example.wikibase.cloud<br>Host: Wikibase Cloud<br>Version: 1.39.7<br>Start Date: 2020-09-24 00:00:00+00:00<br>Active Users: 0<br>Users: 2<br>Properties: 4<br>Edits: 19<br>Pages: 10",
          "arkeoweb<br>URL: https://arkeoweb.wikibase.cloud<br>Host: Wikibase Cloud<br>Version: 1.39.7<br>Start Date: 2024-09-01 00:00:00+00:00<br>Active Users: 0<br>Users: 2<br>Properties: 3<br>Edits: 46<br>Pages: 11",
          "What If Technical Writers Made a Wikibase<br>URL: https://tw-made-an-instance-of.wikibase.cloud<br>Host: Wikibase Cloud<br>Version: 1.39.7<br>Start Date: 2022-12-13 00:00:00+00:00<br>Active Users: 0<br>Users: 2<br>Properties: 3<br>Edits: 15<br>Pages: 10",
          "Plants<br>URL: https://plant.wikibase.cloud<br>Host: Wikibase Cloud<br>Version: 1.39.7<br>Start Date: 2023-10-09 00:00:00+00:00<br>Active Users: 0<br>Users: 2<br>Properties: 9<br>Edits: 11<br>Pages: 10",
          "nullmuseum<br>URL: https://nullmuseum.wikibase.cloud<br>Host: Wikibase Cloud<br>Version: 1.39.7<br>Start Date: 2023-08-24 00:00:00+00:00<br>Active Users: 0<br>Users: 2<br>Properties: 8<br>Edits: 17<br>Pages: 10",
          "Garlician Dictionary<br>URL: https://gardict.wikibase.cloud<br>Host: Wikibase Cloud<br>Version: 1.39.7<br>Start Date: 2023-11-22 00:00:00+00:00<br>Active Users: 0<br>Users: 2<br>Properties: 7<br>Edits: 20<br>Pages: 10",
          "Base4Sesys<br>URL: https://base.sesys.org<br>Host: Wikibase Cloud<br>Version: 1.39.7<br>Start Date: 2024-04-02 00:00:00+00:00<br>Active Users: 0<br>Users: 2<br>Properties: 5<br>Edits: 28<br>Pages: 10",
          "Outlaw Test<br>URL: https://test-outlaw.wikibase.cloud<br>Host: Wikibase Cloud<br>Version: 1.39.7<br>Start Date: 2024-06-13 00:00:00+00:00<br>Active Users: 0<br>Users: 2<br>Properties: 6<br>Edits: 18<br>Pages: 10",
          "Ahmed Assessment<br>URL: https://ahmed-assessment.wikibase.cloud<br>Host: Wikibase Cloud<br>Version: 1.39.7<br>Start Date: 2024-08-26 00:00:00+00:00<br>Active Users: 0<br>Users: 3<br>Properties: 4<br>Edits: 13<br>Pages: 10",
          "Recepten<br>URL: https://recepten.wikibase.cloud<br>Host: Wikibase Cloud<br>Version: 1.39.7<br>Start Date: 2022-01-01 00:00:00+00:00<br>Active Users: 0<br>Users: 2<br>Properties: 1<br>Edits: 10<br>Pages: 9",
          "Stanford Wikibase<br>URL: https://stanford.wikibase.cloud<br>Host: Wikibase Cloud<br>Version: 1.39.7<br>Start Date: 2022-12-08 00:00:00+00:00<br>Active Users: 0<br>Users: 3<br>Properties: 5<br>Edits: 15<br>Pages: 9",
          "Lucas Library<br>URL: https://lucaslibrary.wikibase.cloud<br>Host: Wikibase Cloud<br>Version: 1.39.7<br>Start Date: 2023-09-13 00:00:00+00:00<br>Active Users: 0<br>Users: 2<br>Properties: 4<br>Edits: 12<br>Pages: 9",
          "LD4<br>URL: https://ld4goats.wikibase.cloud<br>Host: Wikibase Cloud<br>Version: 1.39.7<br>Start Date: 2020-07-15 00:00:00+00:00<br>Active Users: 0<br>Users: 2<br>Properties: 5<br>Edits: 13<br>Pages: 9",
          "Election Data Archive<br>URL: https://elections.wikibase.cloud<br>Host: Wikibase Cloud<br>Version: 1.39.7<br>Start Date: 2022-11-23 00:00:00+00:00<br>Active Users: 0<br>Users: 2<br>Properties: 4<br>Edits: 14<br>Pages: 8",
          "Farafina fanga<br>URL: https://farafina-fanga.wikibase.cloud<br>Host: Wikibase Cloud<br>Version: 1.39.7<br>Start Date: 2024-04-30 00:00:00+00:00<br>Active Users: 1<br>Users: 2<br>Properties: 1<br>Edits: 36<br>Pages: 10",
          "osobnostiregionu<br>URL: https://osobnosti.wikibase.cloud<br>Host: Wikibase Cloud<br>Version: 1.39.7<br>Start Date: 2023-01-27 00:00:00+00:00<br>Active Users: 0<br>Users: 3<br>Properties: 7<br>Edits: 18<br>Pages: 8",
          "Juncture<br>URL: https://wikibase.juncture-digital.org<br>Host: Wikibase Cloud<br>Version: 1.39.7<br>Start Date: 2023-04-13 00:00:00+00:00<br>Active Users: 0<br>Users: 2<br>Properties: 2<br>Edits: 8<br>Pages: 8",
          "Rejoice Library<br>URL: https://rejoicelibrary.wikibase.cloud<br>Host: Wikibase Cloud<br>Version: 1.39.7<br>Start Date: 2023-09-12 00:00:00+00:00<br>Active Users: 0<br>Users: 2<br>Properties: 3<br>Edits: 9<br>Pages: 8",
          "Open Postcards Database<br>URL: https://openpostcards.wikibase.cloud<br>Host: Wikibase Cloud<br>Version: 1.39.7<br>Start Date: 2023-06-23 00:00:00+00:00<br>Active Users: 0<br>Users: 3<br>Properties: 3<br>Edits: 15<br>Pages: 8",
          "fmc library<br>URL: https://tintosafrik4me.wikibase.cloud<br>Host: Wikibase Cloud<br>Version: 1.39.7<br>Start Date: 2023-09-13 00:00:00+00:00<br>Active Users: 0<br>Users: 2<br>Properties: 4<br>Edits: 17<br>Pages: 8",
          "inere library<br>URL: https://inerelibrary.wikibase.cloud<br>Host: Wikibase Cloud<br>Version: 1.39.7<br>Start Date: 2023-09-13 00:00:00+00:00<br>Active Users: 0<br>Users: 2<br>Properties: 3<br>Edits: 9<br>Pages: 8",
          "Nelson's cona<br>URL: https://nelson.wikibase.cloud<br>Host: Wikibase Cloud<br>Version: 1.39.7<br>Start Date: 2023-09-13 00:00:00+00:00<br>Active Users: 0<br>Users: 2<br>Properties: 4<br>Edits: 8<br>Pages: 8",
          "Ayomidelibs<br>URL: https://ayomidelibs.wikibase.cloud<br>Host: Wikibase Cloud<br>Version: 1.39.7<br>Start Date: 2023-09-13 00:00:00+00:00<br>Active Users: 0<br>Users: 2<br>Properties: 5<br>Edits: 8<br>Pages: 8",
          "gcam<br>URL: https://greek-coinage-of-asia-minor.wikibase.cloud<br>Host: Wikibase Cloud<br>Version: 1.39.7<br>Start Date: 2023-10-04 00:00:00+00:00<br>Active Users: 0<br>Users: 2<br>Properties: 3<br>Edits: 12<br>Pages: 8",
          "My first Wikipage<br>URL: https://my-wiki-bible.wikibase.cloud<br>Host: Wikibase Cloud<br>Version: 1.39.7<br>Start Date: 2023-12-18 00:00:00+00:00<br>Active Users: 0<br>Users: 2<br>Properties: 2<br>Edits: 10<br>Pages: 8",
          "Resounding Libraries<br>URL: https://resounding-libraries.wikibase.cloud<br>Host: Wikibase Cloud<br>Version: 1.39.7<br>Start Date: 2024-01-15 00:00:00+00:00<br>Active Users: 0<br>Users: 5<br>Properties: 3<br>Edits: 14<br>Pages: 8",
          "Lab collective<br>URL: https://labcollective.wikibase.cloud<br>Host: Wikibase Cloud<br>Version: 1.39.7<br>Start Date: 2024-04-16 00:00:00+00:00<br>Active Users: 0<br>Users: 2<br>Properties: 4<br>Edits: 8<br>Pages: 8",
          "Tolkien Data<br>URL: https://tolkiendata.org<br>Host: Wikibase Cloud<br>Version: 1.39.7<br>Start Date: 2024-07-23 00:00:00+00:00<br>Active Users: 0<br>Users: 5<br>Properties: 6<br>Edits: 13<br>Pages: 8",
          "KM28-2<br>URL: https://km28-2.wikibase.cloud<br>Host: Wikibase Cloud<br>Version: 1.39.7<br>Start Date: 2024-04-18 00:00:00+00:00<br>Active Users: 0<br>Users: 3<br>Properties: 3<br>Edits: 11<br>Pages: 8",
          "PrivacyGraph<br>URL: https://privacygraph.wikibase.cloud<br>Host: Wikibase Cloud<br>Version: 1.39.7<br>Start Date: 2022-11-16 00:00:00+00:00<br>Active Users: 0<br>Users: 2<br>Properties: 7<br>Edits: 17<br>Pages: 7",
          "Solanum Taxonomy<br>URL: https://solanum.wikibase.cloud<br>Host: Wikibase Cloud<br>Version: 1.39.7<br>Start Date: 2021-01-01 00:00:00+00:00<br>Active Users: 0<br>Users: 2<br>Properties: 3<br>Edits: 7<br>Pages: 7",
          "TestSite<br>URL: https://ublmutest.wikibase.cloud<br>Host: Wikibase Cloud<br>Version: 1.39.7<br>Start Date: 2022-11-24 00:00:00+00:00<br>Active Users: 0<br>Users: 4<br>Properties: 1<br>Edits: 7<br>Pages: 7",
          "Wikibae<br>URL: https://wikibae.de<br>Host: Wikibase Cloud<br>Version: 1.39.7<br>Start Date: 2022-10-20 00:00:00+00:00<br>Active Users: 1<br>Users: 2<br>Properties: 1<br>Edits: 14<br>Pages: 7",
          "andrew<br>URL: https://andrew.wikibase.cloud<br>Host: Wikibase Cloud<br>Version: 1.39.7<br>Start Date: 2023-01-12 00:00:00+00:00<br>Active Users: 0<br>Users: 2<br>Properties: 1<br>Edits: 10<br>Pages: 7",
          "ZAMN<br>URL: https://zamn-data.wikibase.cloud<br>Host: Wikibase Cloud<br>Version: 1.39.7<br>Start Date: 2023-10-12 00:00:00+00:00<br>Active Users: 0<br>Users: 2<br>Properties: 3<br>Edits: 12<br>Pages: 7",
          "SocioIntel<br>URL: https://socioinsight.wikibase.cloud<br>Host: Wikibase Cloud<br>Version: 1.39.7<br>Start Date: 2023-10-03 00:00:00+00:00<br>Active Users: 0<br>Users: 2<br>Properties: 5<br>Edits: 15<br>Pages: 7",
          "pikachupedia<br>URL: https://pikachupedia.wikibase.cloud<br>Host: Wikibase Cloud<br>Version: 1.39.7<br>Start Date: 2023-11-08 00:00:00+00:00<br>Active Users: 0<br>Users: 2<br>Properties: 1<br>Edits: 17<br>Pages: 7",
          "AMC Test<br>URL: https://archiveofmodernconflict.wikibase.cloud<br>Host: Wikibase Cloud<br>Version: 1.39.7<br>Start Date: 2024-04-25 00:00:00+00:00<br>Active Users: 0<br>Users: 2<br>Properties: 2<br>Edits: 8<br>Pages: 7",
          "Basque Bib<br>URL: https://basquebib.wikibase.cloud<br>Host: Wikibase Cloud<br>Version: 1.39.7<br>Start Date: 2024-06-11 00:00:00+00:00<br>Active Users: 0<br>Users: 3<br>Properties: 5<br>Edits: 10<br>Pages: 7",
          "FLP Experimental Wikibase<br>URL: https://flp-experiments.wikibase.cloud<br>Host: Wikibase Cloud<br>Version: 1.39.7<br>Start Date: 2024-07-08 00:00:00+00:00<br>Active Users: 0<br>Users: 2<br>Properties: 4<br>Edits: 10<br>Pages: 6",
          "fp2test01<br>URL: https://fp2test01.wikibase.cloud<br>Host: Wikibase Cloud<br>Version: 1.39.7<br>Start Date: 2022-05-03 00:00:00+00:00<br>Active Users: 0<br>Users: 3<br>Properties: 2<br>Edits: 6<br>Pages: 6",
          "pr0be - more then tests, less then stable<br>URL: https://pr0be.wikibase.cloud<br>Host: Wikibase Cloud<br>Version: 1.39.7<br>Start Date: 2023-07-16 00:00:00+00:00<br>Active Users: 0<br>Users: 2<br>Properties: 2<br>Edits: 9<br>Pages: 6",
          "Valeries Galleries<br>URL: https://valeries-galleries.wikibase.cloud<br>Host: Wikibase Cloud<br>Version: 1.39.7<br>Start Date: 2022-09-26 00:00:00+00:00<br>Active Users: 0<br>Users: 3<br>Properties: 2<br>Edits: 8<br>Pages: 6",
          "testwiki2 (on wikibase.cloud)<br>URL: https://testwiki2.wikibase.cloud<br>Host: Wikibase Cloud<br>Version: 1.39.7<br>Start Date: 2024-07-26 00:00:00+00:00<br>Active Users: 0<br>Users: 3<br>Properties: 1<br>Edits: 6<br>Pages: 6",
          "berLINked<br>URL: https://berlinked.wikibase.cloud<br>Host: Wikibase Cloud<br>Version: 1.39.7<br>Start Date: 2022-09-28 00:00:00+00:00<br>Active Users: 0<br>Users: 3<br>Properties: 3<br>Edits: 9<br>Pages: 6",
          "Dagbani Wikimedians<br>URL: https://dagbani.wikibase.cloud<br>Host: Wikibase Cloud<br>Version: 1.39.7<br>Start Date: 2022-02-10 00:00:00+00:00<br>Active Users: 0<br>Users: 4<br>Properties: 2<br>Edits: 22<br>Pages: 6",
          "FM test<br>URL: https://fmtest.wikibase.cloud<br>Host: Wikibase Cloud<br>Version: 1.39.7<br>Start Date: 2022-10-04 00:00:00+00:00<br>Active Users: 0<br>Users: 2<br>Properties: 4<br>Edits: 9<br>Pages: 6",
          "Flexablemedia<br>URL: https://flexablemedia.wikibase.cloud<br>Host: Wikibase Cloud<br>Version: 1.39.7<br>Start Date: 2023-09-12 00:00:00+00:00<br>Active Users: 0<br>Users: 3<br>Properties: 3<br>Edits: 6<br>Pages: 6",
          "ayas Library<br>URL: https://ayaslibrary.wikibase.cloud<br>Host: Wikibase Cloud<br>Version: 1.39.7<br>Start Date: 2023-09-13 00:00:00+00:00<br>Active Users: 0<br>Users: 2<br>Properties: 4<br>Edits: 9<br>Pages: 6",
          "MG WIKI<br>URL: https://galal.wikibase.cloud<br>Host: Wikibase Cloud<br>Version: 1.39.7<br>Start Date: 2024-04-27 00:00:00+00:00<br>Active Users: 0<br>Users: 2<br>Properties: 2<br>Edits: 9<br>Pages: 6",
          "Eberechukwu<br>URL: https://edith.wikibase.cloud<br>Host: Wikibase Cloud<br>Version: 1.39.7<br>Start Date: 2023-09-13 00:00:00+00:00<br>Active Users: 0<br>Users: 2<br>Properties: 4<br>Edits: 6<br>Pages: 6",
          "Digital Art Dissertation<br>URL: https://digital-art-database.wikibase.cloud<br>Host: Wikibase Cloud<br>Version: 1.39.7<br>Start Date: 2024-01-25 00:00:00+00:00<br>Active Users: 0<br>Users: 2<br>Properties: 3<br>Edits: 11<br>Pages: 6",
          "Ethos Lab<br>URL: https://ethoslab.wikibase.cloud<br>Host: Wikibase Cloud<br>Version: 1.39.7<br>Start Date: 2024-02-04 00:00:00+00:00<br>Active Users: 0<br>Users: 2<br>Properties: 2<br>Edits: 14<br>Pages: 6",
          "testes (on wikibase cloud)<br>URL: https://testes.wikibase.cloud<br>Host: Wikibase Cloud<br>Version: 1.39.7<br>Start Date: 2022-01-07 00:00:00+00:00<br>Active Users: 1<br>Users: 4<br>Properties: 10<br>Edits: 45<br>Pages: 27",
          "bl-sandbox<br>URL: https://bl-sandbox.wikibase.cloud<br>Host: Wikibase Cloud<br>Version: 1.39.7<br>Start Date: 2022-02-21 00:00:00+00:00<br>Active Users: 0<br>Users: 3<br>Properties: 1<br>Edits: 8<br>Pages: 6",
          "Astrology<br>URL: https://astrology.wikibase.cloud<br>Host: Wikibase Cloud<br>Version: 1.39.7<br>Start Date: 2023-11-01 00:00:00+00:00<br>Active Users: 0<br>Users: 2<br>Properties: 3<br>Edits: 9<br>Pages: 6",
          "MathModDB<br>URL: https://mathmoddb.wikibase.cloud<br>Host: Wikibase Cloud<br>Version: 1.39.7<br>Start Date: 2023-11-10 00:00:00+00:00<br>Active Users: 0<br>Users: 3<br>Properties: 1<br>Edits: 8<br>Pages: 6",
          "data-el<br>URL: https://test789987.wikibase.cloud<br>Host: Wikibase Cloud<br>Version: 1.39.7<br>Start Date: 2024-06-07 00:00:00+00:00<br>Active Users: 0<br>Users: 3<br>Properties: 4<br>Edits: 9<br>Pages: 6",
          "unimath<br>URL: https://unimath.wikibase.cloud<br>Host: Wikibase Cloud<br>Version: 1.39.7<br>Start Date: 2024-06-21 00:00:00+00:00<br>Active Users: 0<br>Users: 2<br>Properties: 2<br>Edits: 12<br>Pages: 6",
          "tom-prod-test-a23sc<br>URL: https://tom-prod-test-a23sc.wikibase.cloud<br>Host: Wikibase Cloud<br>Version: 1.39.7<br>Start Date: 2022-02-01 00:00:00+00:00<br>Active Users: 0<br>Users: 2<br>Properties: 1<br>Edits: 7<br>Pages: 5",
          "my-mtg-collection<br>URL: https://aj-mtg-collection.wikibase.cloud<br>Host: Wikibase Cloud<br>Version: 1.39.7<br>Start Date: 2024-07-07 00:00:00+00:00<br>Active Users: 0<br>Users: 2<br>Properties: 1<br>Edits: 5<br>Pages: 5",
          "personal wiki<br>URL: https://cougarcat.wikibase.cloud<br>Host: Wikibase Cloud<br>Version: 1.39.7<br>Start Date: 2023-12-24 00:00:00+00:00<br>Active Users: 0<br>Users: 2<br>Properties: 2<br>Edits: 9<br>Pages: 5",
          "Software Packages<br>URL: https://packages.wikibase.cloud<br>Host: Wikibase Cloud<br>Version: 1.39.7<br>Start Date: 2024-04-15 00:00:00+00:00<br>Active Users: 0<br>Users: 2<br>Properties: 2<br>Edits: 6<br>Pages: 5",
          "HKBU Library Art Collections<br>URL: https://hkbu-library-art-collections.wikibase.cloud<br>Host: Wikibase Cloud<br>Version: 1.39.7<br>Start Date: 2023-08-11 00:00:00+00:00<br>Active Users: 0<br>Users: 4<br>Properties: 3<br>Edits: 8<br>Pages: 5",
          "电子知识<br>URL: https://eezhishi.wikibase.cloud<br>Host: Wikibase Cloud<br>Version: 1.39.7<br>Start Date: 2024-04-29 00:00:00+00:00<br>Active Users: 0<br>Users: 2<br>Properties: 1<br>Edits: 8<br>Pages: 5",
          "nochallengingcharactersatall<br>URL: https://nochallengingcharactersatall.wikibase.cloud<br>Host: Wikibase Cloud<br>Version: 1.39.7<br>Start Date: 2023-01-06 00:00:00+00:00<br>Active Users: 0<br>Users: 2<br>Properties: 3<br>Edits: 7<br>Pages: 5",
          "heuristic<br>URL: https://wei-cheng.wikibase.cloud<br>Host: Wikibase Cloud<br>Version: 1.39.7<br>Start Date: 2022-11-16 00:00:00+00:00<br>Active Users: 0<br>Users: 4<br>Properties: 1<br>Edits: 9<br>Pages: 5",
          "Local Government Data Testing<br>URL: https://lwhos2ociu-somegovdata.wikibase.cloud<br>Host: Wikibase Cloud<br>Version: 1.39.7<br>Start Date: 2024-09-02 00:00:00+00:00<br>Active Users: 0<br>Users: 2<br>Properties: 3<br>Edits: 5<br>Pages: 5",
          "pika2pedia<br>URL: https://pika2pedia.wikibase.cloud<br>Host: Wikibase Cloud<br>Version: 1.39.7<br>Start Date: 2023-11-08 00:00:00+00:00<br>Active Users: 0<br>Users: 2<br>Properties: 2<br>Edits: 7<br>Pages: 5",
          "Vihreiden ohjelmat<br>URL: https://vihreat-ohjelmat.wikibase.cloud<br>Host: Wikibase Cloud<br>Version: 1.39.7<br>Start Date: 2024-06-15 00:00:00+00:00<br>Active Users: 0<br>Users: 2<br>Properties: 1<br>Edits: 6<br>Pages: 5",
          "mw138test<br>URL: https://mw138test.wikibase.cloud<br>Host: Wikibase Cloud<br>Version: 1.39.7<br>Start Date: 2023-03-23 00:00:00+00:00<br>Active Users: 0<br>Users: 2<br>Properties: 1<br>Edits: 6<br>Pages: 5",
          "wmde-jan-01_testwiki2<br>URL: https://wmde-jan-01-testwiki2.wikibase.cloud<br>Host: Wikibase Cloud<br>Version: 1.39.7<br>Start Date: 2022-04-12 00:00:00+00:00<br>Active Users: 0<br>Users: 2<br>Properties: 2<br>Edits: 9<br>Pages: 4",
          "Digikim Test<br>URL: https://digikim-test.wikibase.cloud<br>Host: Wikibase Cloud<br>Version: 1.39.7<br>Start Date: 2023-07-02 00:00:00+00:00<br>Active Users: 0<br>Users: 2<br>Properties: 1<br>Edits: 5<br>Pages: 4",
          "RuArxive<br>URL: https://rugovdomains.wikibase.cloud<br>Host: Wikibase Cloud<br>Version: 1.39.7<br>Start Date: 2023-12-15 00:00:00+00:00<br>Active Users: 0<br>Users: 2<br>Properties: 3<br>Edits: 11<br>Pages: 4",
          "North Carolina Gazetteer<br>URL: https://north-carolina-gazetteer.wikibase.cloud<br>Host: Wikibase Cloud<br>Version: 1.39.7<br>Start Date: 2022-09-15 00:00:00+00:00<br>Active Users: 0<br>Users: 2<br>Properties: 1<br>Edits: 5<br>Pages: 4",
          "Vaarwegennet NL<br>URL: https://vaarwegennet.wikibase.cloud<br>Host: Wikibase Cloud<br>Version: 1.39.7<br>Start Date: 2024-04-05 00:00:00+00:00<br>Active Users: 0<br>Users: 2<br>Properties: 1<br>Edits: 5<br>Pages: 4",
          "Open English WordNet<br>URL: https://open-english-wordnet.wikibase.cloud<br>Host: Wikibase Cloud<br>Version: 1.39.7<br>Start Date: 2024-01-16 00:00:00+00:00<br>Active Users: 0<br>Users: 2<br>Properties: 2<br>Edits: 5<br>Pages: 4",
          "Provenance<br>URL: https://provenance.wikibase.cloud<br>Host: Wikibase Cloud<br>Version: 1.39.7<br>Start Date: 2024-01-13 00:00:00+00:00<br>Active Users: 0<br>Users: 2<br>Properties: 2<br>Edits: 8<br>Pages: 4",
          "Talmudic collections test<br>URL: https://try-collection.wikibase.cloud<br>Host: Wikibase Cloud<br>Version: 1.39.7<br>Start Date: 2024-08-26 00:00:00+00:00<br>Active Users: 0<br>Users: 3<br>Properties: 1<br>Edits: 4<br>Pages: 4",
          "Test<br>URL: https://qwe-test.wikibase.cloud<br>Host: Wikibase Cloud<br>Version: 1.39.7<br>Start Date: 2024-05-15 00:00:00+00:00<br>Active Users: 0<br>Users: 2<br>Properties: 2<br>Edits: 9<br>Pages: 4",
          "LCA-Test<br>URL: https://test-lcc.wikibase.cloud<br>Host: Wikibase Cloud<br>Version: 1.39.7<br>Start Date: 2022-12-17 00:00:00+00:00<br>Active Users: 0<br>Users: 2<br>Properties: 2<br>Edits: 7<br>Pages: 4",
          "CPS2<br>URL: https://cps2-masters.wikibase.cloud<br>Host: Wikibase Cloud<br>Version: 1.39.7<br>Start Date: 2023-02-10 00:00:00+00:00<br>Active Users: 0<br>Users: 2<br>Properties: 1<br>Edits: 6<br>Pages: 4",
          "Cat collective v2<br>URL: https://cat-collective2.wikibase.cloud<br>Host: Wikibase Cloud<br>Version: 1.39.7<br>Start Date: 2021-01-15 00:00:00+00:00<br>Active Users: 0<br>Users: 2<br>Properties: 1<br>Edits: 8<br>Pages: 4",
          "EjemploCurso<br>URL: https://websemanticmiw2020.wikibase.cloud<br>Host: Wikibase Cloud<br>Version: 1.39.7<br>Start Date: 2020-05-14 00:00:00+00:00<br>Active Users: 0<br>Users: 3<br>Properties: 1<br>Edits: 5<br>Pages: 4",
          "Star Wars Structured Data<br>URL: https://sw-data.wikibase.cloud<br>Host: Wikibase Cloud<br>Version: 1.39.7<br>Start Date: 2024-05-22 00:00:00+00:00<br>Active Users: 0<br>Users: 2<br>Properties: 1<br>Edits: 16<br>Pages: 4",
          "Internationaler Sozialistischer Kampfbund - Testsite<br>URL: https://internationaler-sozialistischer-kampfbund-test.wikibase.cloud<br>Host: Wikibase Cloud<br>Version: 1.39.7<br>Start Date: 2023-02-27 00:00:00+00:00<br>Active Users: 0<br>Users: 2<br>Properties: 1<br>Edits: 4<br>Pages: 4",
          "Order of Battle<br>URL: https://civil-war-order-of-battle-online.wikibase.cloud<br>Host: Wikibase Cloud<br>Version: 1.39.7<br>Start Date: 2024-06-09 00:00:00+00:00<br>Active Users: 0<br>Users: 2<br>Properties: 1<br>Edits: 4<br>Pages: 4",
          "Catalogus Professorum UU<br>URL: https://catalogusprofessorumuu.wikibase.cloud<br>Host: Wikibase Cloud<br>Version: 1.39.7<br>Start Date: 2023-11-04 00:00:00+00:00<br>Active Users: 7<br>Users: 9<br>Properties: 30<br>Edits: 102<br>Pages: 32",
          "sandbox<br>URL: https://bgsand.wikibase.cloud<br>Host: Wikibase Cloud<br>Version: 1.39.7<br>Start Date: 2024-03-27 00:00:00+00:00<br>Active Users: 0<br>Users: 2<br>Properties: 2<br>Edits: 5<br>Pages: 3",
          "Ludovico<br>URL: https://ludovico.wikibase.cloud<br>Host: Wikibase Cloud<br>Version: 1.39.7<br>Start Date: 2023-11-18 00:00:00+00:00<br>Active Users: 0<br>Users: 2<br>Properties: 2<br>Edits: 7<br>Pages: 4",
          "CuratingData<br>URL: https://curatingdata.wikibase.cloud<br>Host: Wikibase Cloud<br>Version: 1.39.7<br>Start Date: 2024-06-28 00:00:00+00:00<br>Active Users: 0<br>Users: 3<br>Properties: 1<br>Edits: 14<br>Pages: 4",
          "RefWiki<br>URL: https://refwiki.wikibase.cloud<br>Host: Wikibase Cloud<br>Version: 1.39.7<br>Start Date: 2023-06-28 00:00:00+00:00<br>Active Users: 0<br>Users: 2<br>Properties: 3<br>Edits: 7<br>Pages: 3",
          "test-bd<br>URL: https://bdwiki.wikibase.cloud<br>Host: Wikibase Cloud<br>Version: 1.39.7<br>Start Date: 2023-07-15 00:00:00+00:00<br>Active Users: 0<br>Users: 2<br>Properties: 1<br>Edits: 4<br>Pages: 3",
          "Bootsa - Stream<br>URL: https://stream.bootsa.net<br>Host: Wikibase Cloud<br>Version: 1.39.7<br>Start Date: 2022-09-30 00:00:00+00:00<br>Active Users: 0<br>Users: 2<br>Properties: 2<br>Edits: 4<br>Pages: 3",
          "Datos<br>URL: https://datos-algort.wikibase.cloud<br>Host: Wikibase Cloud<br>Version: 1.39.7<br>Start Date: 2024-07-29 00:00:00+00:00<br>Active Users: 0<br>Users: 2<br>Properties: 1<br>Edits: 3<br>Pages: 3",
          "Leosini<br>URL: https://leosini.wikibase.cloud<br>Host: Wikibase Cloud<br>Version: 1.39.7<br>Start Date: 2024-07-30 00:00:00+00:00<br>Active Users: 1<br>Users: 2<br>Properties: 10<br>Edits: 20<br>Pages: 14",
          "AM-Test<br>URL: https://am-test.wikibase.cloud<br>Host: Wikibase Cloud<br>Version: 1.39.7<br>Start Date: 2023-09-07 00:00:00+00:00<br>Active Users: 0<br>Users: 2<br>Properties: 1<br>Edits: 3<br>Pages: 3",
          "Cooperative Directory<br>URL: https://cooperatives.wikibase.cloud<br>Host: Wikibase Cloud<br>Version: 1.39.7<br>Start Date: 2022-10-04 00:00:00+00:00<br>Active Users: 0<br>Users: 2<br>Properties: 1<br>Edits: 6<br>Pages: 3",
          "FMtest 2<br>URL: https://fmtest2.wikibase.cloud<br>Host: Wikibase Cloud<br>Version: 1.39.7<br>Start Date: 2022-10-04 00:00:00+00:00<br>Active Users: 0<br>Users: 2<br>Properties: 2<br>Edits: 4<br>Pages: 3",
          "Vintergatan<br>URL: https://vintergatan.wikibase.cloud<br>Host: Wikibase Cloud<br>Version: 1.39.7<br>Start Date: 2024-01-18 00:00:00+00:00<br>Active Users: 0<br>Users: 2<br>Properties: 1<br>Edits: 5<br>Pages: 3",
          "frederikwiki<br>URL: https://frederikwiki.wikibase.cloud<br>Host: Wikibase Cloud<br>Version: 1.39.7<br>Start Date: 2022-11-10 00:00:00+00:00<br>Active Users: 0<br>Users: 2<br>Properties: 1<br>Edits: 4<br>Pages: 3",
          "dimisa<br>URL: https://dimisa.wikibase.cloud<br>Host: Wikibase Cloud<br>Version: 1.39.7<br>Start Date: 2020-01-23 00:00:00+00:00<br>Active Users: 0<br>Users: 3<br>Properties: 1<br>Edits: 4<br>Pages: 3",
          "Addshore<br>URL: https://addshore.wikibase.cloud<br>Host: Wikibase Cloud<br>Version: 1.39.7<br>Start Date: 2022-05-31 00:00:00+00:00<br>Active Users: 0<br>Users: 2<br>Properties: 1<br>Edits: 9<br>Pages: 3",
          "wikishape<br>URL: https://wikishape.wikibase.cloud<br>Host: Wikibase Cloud<br>Version: 1.39.7<br>Start Date: 2020-01-04 00:00:00+00:00<br>Active Users: 0<br>Users: 3<br>Properties: 1<br>Edits: 3<br>Pages: 3",
          "Hackathon test instance<br>URL: https://hackathon-test-instance.wikibase.cloud<br>Host: Wikibase Cloud<br>Version: 1.39.7<br>Start Date: 2023-05-19 00:00:00+00:00<br>Active Users: 0<br>Users: 2<br>Properties: 1<br>Edits: 4<br>Pages: 3",
          "autoriteter<br>URL: https://autoriteter.wikibase.cloud<br>Host: Wikibase Cloud<br>Version: 1.39.7<br>Start Date: 2023-09-19 00:00:00+00:00<br>Active Users: 0<br>Users: 3<br>Properties: 2<br>Edits: 9<br>Pages: 3",
          "WASHNote sandbox<br>URL: https://registry-sandbox.washnote.org<br>Host: Wikibase Cloud<br>Version: 1.39.7<br>Start Date: 2023-11-27 00:00:00+00:00<br>Active Users: 0<br>Users: 2<br>Properties: 2<br>Edits: 6<br>Pages: 3",
          "wiki1<br>URL: https://wiki1.wikibase.cloud<br>Host: Wikibase Cloud<br>Version: 1.39.7<br>Start Date: 2024-02-03 00:00:00+00:00<br>Active Users: 0<br>Users: 2<br>Properties: 1<br>Edits: 3<br>Pages: 3",
          "RCnum<br>URL: https://rcnum.wikibase.cloud<br>Host: Wikibase Cloud<br>Version: 1.39.7<br>Start Date: 2024-02-08 00:00:00+00:00<br>Active Users: 0<br>Users: 3<br>Properties: 1<br>Edits: 4<br>Pages: 3",
          "backgrounds<br>URL: https://biblebackgrounds.wikibase.cloud<br>Host: Wikibase Cloud<br>Version: 1.39.7<br>Start Date: 2024-03-03 00:00:00+00:00<br>Active Users: 0<br>Users: 2<br>Properties: 2<br>Edits: 9<br>Pages: 3",
          "TopHeroes<br>URL: https://topheroes.wikibase.cloud<br>Host: Wikibase Cloud<br>Version: 1.39.7<br>Start Date: 2024-03-18 00:00:00+00:00<br>Active Users: 0<br>Users: 2<br>Properties: 1<br>Edits: 6<br>Pages: 3",
          "McDonald<br>URL: https://mcdonald.wikibase.cloud<br>Host: Wikibase Cloud<br>Version: 1.39.7<br>Start Date: 2024-05-15 00:00:00+00:00<br>Active Users: 0<br>Users: 2<br>Properties: 1<br>Edits: 3<br>Pages: 3",
          "Pepe piton's base<br>URL: https://pepepiton.wikibase.cloud<br>Host: Wikibase Cloud<br>Version: 1.39.7<br>Start Date: 2024-05-28 00:00:00+00:00<br>Active Users: 0<br>Users: 2<br>Properties: 1<br>Edits: 8<br>Pages: 3",
          "Metal Ham<br>URL: https://meetalham.wikibase.cloud<br>Host: Wikibase Cloud<br>Version: 1.39.7<br>Start Date: 2024-05-28 00:00:00+00:00<br>Active Users: 0<br>Users: 2<br>Properties: 1<br>Edits: 4<br>Pages: 3",
          "Language Digital Vitality<br>URL: https://languagedigitalvitality.wikibase.cloud<br>Host: Wikibase Cloud<br>Version: 1.39.7<br>Start Date: 2024-05-30 00:00:00+00:00<br>Active Users: 0<br>Users: 2<br>Properties: 1<br>Edits: 5<br>Pages: 3",
          "Genewiki<br>URL: https://genewiki.wikibase.cloud<br>Host: Wikibase Cloud<br>Version: 1.39.7<br>Start Date: 2024-05-31 00:00:00+00:00<br>Active Users: 0<br>Users: 2<br>Properties: 1<br>Edits: 3<br>Pages: 3",
          "testsite (on wikibase.cloud)<br>URL: https://testsite.wikibase.cloud<br>Host: Wikibase Cloud<br>Version: 1.39.7<br>Start Date: 2024-06-06 00:00:00+00:00<br>Active Users: 0<br>Users: 2<br>Properties: 1<br>Edits: 4<br>Pages: 3",
          "yfwiki<br>URL: https://yinfei-wiki.wikibase.cloud<br>Host: Wikibase Cloud<br>Version: 1.39.7<br>Start Date: 2024-06-12 00:00:00+00:00<br>Active Users: 0<br>Users: 2<br>Properties: 1<br>Edits: 8<br>Pages: 3",
          "test1a<br>URL: https://test1a.wikibase.cloud<br>Host: Wikibase Cloud<br>Version: 1.39.7<br>Start Date: 2024-06-14 00:00:00+00:00<br>Active Users: 0<br>Users: 2<br>Properties: 1<br>Edits: 4<br>Pages: 3",
          "here's another example<br>URL: https://another-example.wikibase.cloud<br>Host: Wikibase Cloud<br>Version: 1.39.7<br>Start Date: 2024-06-19 00:00:00+00:00<br>Active Users: 0<br>Users: 5<br>Properties: 1<br>Edits: 3<br>Pages: 3",
          "Chinese Cabinet<br>URL: https://cabinetmapping.wikibase.cloud<br>Host: Wikibase Cloud<br>Version: 1.39.7<br>Start Date: 2024-06-22 00:00:00+00:00<br>Active Users: 0<br>Users: 3<br>Properties: 1<br>Edits: 3<br>Pages: 3",
          "Pokemon WMDE Wikibase<br>URL: https://pokemon-wmde.wikibase.cloud<br>Host: Wikibase Cloud<br>Version: 1.39.7<br>Start Date: 2024-09-13 00:00:00+00:00<br>Active Users: 0<br>Users: 2<br>Properties: 1<br>Edits: 5<br>Pages: 3",
          "rose<br>URL: https://rose-collection.wikibase.cloud<br>Host: Wikibase Cloud<br>Version: 1.39.7<br>Start Date: 2022-02-07 00:00:00+00:00<br>Active Users: 0<br>Users: 4<br>Properties: 1<br>Edits: 2<br>Pages: 2",
          "MANDB Playground<br>URL: https://mandb-playground.wikibase.cloud<br>Host: Wikibase Cloud<br>Version: 1.39.7<br>Start Date: 2023-06-23 00:00:00+00:00<br>Active Users: 0<br>Users: 2<br>Properties: 1<br>Edits: 2<br>Pages: 2",
          "index<br>URL: https://catalog.grafton9.net<br>Host: Wikibase Cloud<br>Version: 1.39.7<br>Start Date: 2023-08-28 00:00:00+00:00<br>Active Users: 0<br>Users: 2<br>Properties: 2<br>Edits: 13<br>Pages: 2",
          "Historische Postkarten aus Niedersachsen<br>URL: https://niedersaechsischepostkarten.wikibase.cloud<br>Host: Wikibase Cloud<br>Version: 1.39.7<br>Start Date: 2023-09-15 00:00:00+00:00<br>Active Users: 0<br>Users: 2<br>Properties: 1<br>Edits: 4<br>Pages: 2",
          "KBR Luuse<br>URL: https://kbr-luuse.wikibase.cloud<br>Host: Wikibase Cloud<br>Version: 1.39.7<br>Start Date: 2023-10-04 00:00:00+00:00<br>Active Users: 0<br>Users: 2<br>Properties: 1<br>Edits: 3<br>Pages: 2",
          "register C<br>URL: https://registerc.wikibase.cloud<br>Host: Wikibase Cloud<br>Version: 1.39.7<br>Start Date: 2023-10-06 00:00:00+00:00<br>Active Users: 0<br>Users: 2<br>Properties: 1<br>Edits: 3<br>Pages: 2",
          "bw_history<br>URL: https://bw-history.wikibase.cloud<br>Host: Wikibase Cloud<br>Version: 1.39.7<br>Start Date: 2023-11-03 00:00:00+00:00<br>Active Users: 0<br>Users: 2<br>Properties: 1<br>Edits: 4<br>Pages: 2",
          "DPLA<br>URL: https://d-p-l-a.wikibase.cloud<br>Host: Wikibase Cloud<br>Version: 1.39.7<br>Start Date: 2023-11-18 00:00:00+00:00<br>Active Users: 0<br>Users: 2<br>Properties: 2<br>Edits: 2<br>Pages: 2",
          "People's Riisearch Archive<br>URL: https://peoples-riisearch-archive.wikibase.cloud<br>Host: Wikibase Cloud<br>Version: 1.39.7<br>Start Date: 2023-11-26 00:00:00+00:00<br>Active Users: 0<br>Users: 3<br>Properties: 1<br>Edits: 2<br>Pages: 2",
          "Colorama<br>URL: https://colorama.wikibase.cloud<br>Host: Wikibase Cloud<br>Version: 1.39.7<br>Start Date: 2023-12-18 00:00:00+00:00<br>Active Users: 0<br>Users: 2<br>Properties: 1<br>Edits: 2<br>Pages: 2",
          "Gage Data<br>URL: https://gagedata.wikibase.cloud<br>Host: Wikibase Cloud<br>Version: 1.39.7<br>Start Date: 2023-12-29 00:00:00+00:00<br>Active Users: 0<br>Users: 2<br>Properties: 1<br>Edits: 2<br>Pages: 2",
          "tropical plants collection<br>URL: https://tropicalplantscollection.wikibase.cloud<br>Host: Wikibase Cloud<br>Version: 1.39.7<br>Start Date: 2024-01-07 00:00:00+00:00<br>Active Users: 0<br>Users: 2<br>Properties: 1<br>Edits: 2<br>Pages: 2",
          "e-quadrat<br>URL: https://e-quadrat.wikibase.cloud<br>Host: Wikibase Cloud<br>Version: 1.39.7<br>Start Date: 2024-03-29 00:00:00+00:00<br>Active Users: 0<br>Users: 2<br>Properties: 1<br>Edits: 3<br>Pages: 2",
          "undusting<br>URL: https://undusting.wikibase.cloud<br>Host: Wikibase Cloud<br>Version: 1.39.7<br>Start Date: 2024-06-19 00:00:00+00:00<br>Active Users: 0<br>Users: 2<br>Properties: 1<br>Edits: 2<br>Pages: 2",
          "Oškliarch<br>URL: https://oskliarch.wikibase.cloud<br>Host: Wikibase Cloud<br>Version: 1.39.7<br>Start Date: 2024-07-09 00:00:00+00:00<br>Active Users: 0<br>Users: 2<br>Properties: 1<br>Edits: 3<br>Pages: 2",
          "PIM KB<br>URL: https://pimnevter-demo.wikibase.cloud<br>Host: Wikibase Cloud<br>Version: 1.39.7<br>Start Date: 2024-07-01 00:00:00+00:00<br>Active Users: 0<br>Users: 2<br>Properties: 1<br>Edits: 2<br>Pages: 2",
          "Filmwissen<br>URL: https://filmwissen.wikibase.cloud<br>Host: Wikibase Cloud<br>Version: 1.39.7<br>Start Date: 2024-09-06 00:00:00+00:00<br>Active Users: 3<br>Users: 2<br>Properties: 5<br>Edits: 3<br>Pages: 8",
          "YH Wiki<br>URL: https://yh-wiki.wikibase.cloud<br>Host: Wikibase Cloud<br>Version: 1.39.7<br>Start Date: 2024-10-09 00:00:00+00:00<br>Active Users: 2<br>Users: 3<br>Properties: 552<br>Edits: 577<br>Pages: 559",
          "Jörans egna<br>URL: https://joran.wikibase.cloud<br>Host: Wikibase Cloud<br>Version: 1.39.7<br>Start Date: 2024-10-11 00:00:00+00:00<br>Active Users: 2<br>Users: 2<br>Properties: 15<br>Edits: 99<br>Pages: 47",
          "LatSenRom<br>URL: https://latsenrom.wikibase.cloud<br>Host: Wikibase Cloud<br>Version: 1.39.7<br>Start Date: 2024-10-11 00:00:00+00:00<br>Active Users: 2<br>Users: 2<br>Properties: 3<br>Edits: 22<br>Pages: 7",
          "Jörans egna<br>URL: https://joran.wikibase.cloud<br>Host: Wikibase Cloud<br>Version: 1.39.7<br>Start Date: 2024-10-11 00:00:00+00:00<br>Active Users: 2<br>Users: 2<br>Properties: 15<br>Edits: 99<br>Pages: 47",
          "mywiki<br>URL: https://itinfrestractureroysav12345.wikibase.cloud<br>Host: Wikibase Cloud<br>Version: 1.39.7<br>Start Date: 2024-10-13 00:00:00+00:00<br>Active Users: 2<br>Users: 2<br>Properties: 7<br>Edits: 75<br>Pages: 33",
          "Chinese-Historical-Places-2024<br>URL: https://chinese-historical-places-2024.wikibase.cloud<br>Host: Wikibase Cloud<br>Version: 1.39.7<br>Start Date: 2024-10-16 00:00:00+00:00<br>Active Users: 1<br>Users: 2<br>Properties: 6<br>Edits: 13<br>Pages: 13",
          "ODP Test<br>URL: https://odptest.wikibase.cloud<br>Host: Wikibase Cloud<br>Version: 1.39.7<br>Start Date: 2024-10-18 00:00:00+00:00<br>Active Users: 1<br>Users: 2<br>Properties: 6<br>Edits: 13<br>Pages: 13",
          "Organisational Rule Systems<br>URL: https://organisational-rules.wikibase.cloud<br>Host: Wikibase Cloud<br>Version: 1.39.7<br>Start Date: 2024-10-17 00:00:00+00:00<br>Active Users: 2<br>Users: 2<br>Properties: 5<br>Edits: 19<br>Pages: 15",
          "SkandinavienWikiBase<br>URL: https://skanwiki.wikibase.cloud<br>Host: Wikibase Cloud<br>Version: 1.39.7<br>Start Date: 2024-10-15 00:00:00+00:00<br>Active Users: 1<br>Users: 2<br>Properties: 6<br>Edits: 13<br>Pages: 13",
          "BorgNetzWerk<br>URL: https://bnwiki.wikibase.cloud<br>Host: Wikibase Cloud<br>Version: 1.39.7<br>Start Date: 2024-10-14 00:00:00+00:00<br>Active Users: 3<br>Users: 3<br>Properties: 27<br>Edits: 6496<br>Pages: 6415",
          "Hasya Katta Official<br>URL: https://hasyakattaofficial.wikibase.cloud<br>Host: Wikibase Cloud<br>Version: 1.39.7<br>Start Date: 2024-10-15 00:00:00+00:00<br>Active Users: 1<br>Users: 2<br>Properties: 6<br>Edits: 13<br>Pages: 13",
          "AstroFR<br>URL: https://astrofr.wikibase.cloud<br>Host: Wikibase Cloud<br>Version: 1.39.7<br>Start Date: 2024-10-22 00:00:00+00:00<br>Active Users: 2<br>Users: 2<br>Properties: 1<br>Edits: 373<br>Pages: 104",
          "Ejemplo<br>URL: https://testfilo.wikibase.cloud<br>Host: Wikibase Cloud<br>Version: 1.39.7<br>Start Date: 2024-10-22 00:00:00+00:00<br>Active Users: 3<br>Users: 3<br>Properties: 5<br>Edits: 19<br>Pages: 13",
          "First Attempt<br>URL: https://first-attempt.wikibase.cloud<br>Host: Wikibase Cloud<br>Version: 1.39.7<br>Start Date: 2024-10-23 00:00:00+00:00<br>Active Users: 2<br>Users: 2<br>Properties: 6<br>Edits: 15<br>Pages: 15",
          "Meizi's Kitchen<br>URL: https://goat-collective-test34.wikibase.cloud<br>Host: Wikibase Cloud<br>Version: 1.39.7<br>Start Date: 2024-10-21 00:00:00+00:00<br>Active Users: 2<br>Users: 3<br>Properties: 5<br>Edits: 13<br>Pages: 13",
          "Teneriefer<br>URL: https://teneriefer.wikibase.cloud<br>Host: Wikibase Cloud<br>Version: 1.39.7<br>Start Date: 2024-10-21 00:00:00+00:00<br>Active Users: 2<br>Users: 2<br>Properties: 1<br>Edits: 3<br>Pages: 3",
          "Test 2<br>URL: https://test-dh2.wikibase.cloud<br>Host: Wikibase Cloud<br>Version: 1.39.7<br>Start Date: 2024-10-21 00:00:00+00:00<br>Active Users: 2<br>Users: 2<br>Properties: 1<br>Edits: 7<br>Pages: 4",
          "test<br>URL: https://kollektiv.wikibase.cloud<br>Host: Wikibase Cloud<br>Version: 1.39.7<br>Start Date: 2024-10-21 00:00:00+00:00<br>Active Users: 2<br>Users: 2<br>Properties: 2<br>Edits: 7<br>Pages: 5",
          "Goat Collective<br>URL: https://goat-collective-test.wikibase.cloud<br>Host: Wikibase Cloud<br>Version: 1.39.7<br>Start Date: 2024-10-21 00:00:00+00:00<br>Active Users: 2<br>Users: 2<br>Properties: 2<br>Edits: 13<br>Pages: 5",
          "ReDa Wiki<br>URL: https://reda-wiki.wikibase.cloud<br>Host: Wikibase Cloud<br>Version: 1.39.7<br>Start Date: 2024-10-21 00:00:00+00:00<br>Active Users: 2<br>Users: 2<br>Properties: 10<br>Edits: 94<br>Pages: 36",
          "Rina Collective<br>URL: https://rina-collective.wikibase.cloud<br>Host: Wikibase Cloud<br>Version: 1.39.7<br>Start Date: 2024-10-21 00:00:00+00:00<br>Active Users: 2<br>Users: 2<br>Properties: 1<br>Edits: 4<br>Pages: 3",
          "Dog Collective<br>URL: https://dog-collective.wikibase.cloud<br>Host: Wikibase Cloud<br>Version: 1.39.7<br>Start Date: 2024-10-21 00:00:00+00:00<br>Active Users: 2<br>Users: 2<br>Properties: 2<br>Edits: 13<br>Pages: 6",
          "Randombooks<br>URL: https://randombooks.wikibase.cloud<br>Host: Wikibase Cloud<br>Version: 1.39.7<br>Start Date: 2024-10-21 00:00:00+00:00<br>Active Users: 1<br>Users: 2<br>Properties: 6<br>Edits: 13<br>Pages: 13",
          "Public Figures Base<br>URL: https://publicfiguresbase.wikibase.cloud<br>Host: Wikibase Cloud<br>Version: 1.39.7<br>Start Date: 2024-10-21 00:00:00+00:00<br>Active Users: 2<br>Users: 2<br>Properties: 8<br>Edits: 24<br>Pages: 18",
          "United States Elections<br>URL: https://elections-us.wikibase.cloud<br>Host: Wikibase Cloud<br>Version: 1.39.7<br>Start Date: 2024-10-24 00:00:00+00:00<br>Active Users: 2<br>Users: 2<br>Properties: 2<br>Edits: 290<br>Pages: 277",
          "RCnum<br>URL: https://rcnum-ge.wikibase.cloud<br>Host: Wikibase Cloud<br>Version: 1.39.7<br>Start Date: 2024-10-29 00:00:00+00:00<br>Active Users: 2<br>Users: 3<br>Properties: 4<br>Edits: 15<br>Pages: 11",
          "RCge<br>URL: https://rc-ge.wikibase.cloud<br>Host: Wikibase Cloud<br>Version: 1.39.7<br>Start Date: 2024-10-30 00:00:00+00:00<br>Active Users: 2<br>Users: 3<br>Properties: 2<br>Edits: 5<br>Pages: 5",
          "anton12<br>URL: https://anton12.wikibase.cloud<br>Host: Wikibase Cloud<br>Version: 1.39.7<br>Start Date: 2024-10-30 00:00:00+00:00<br>Active Users: 2<br>Users: 2<br>Properties: 1<br>Edits: 21<br>Pages: 12",
          "AI-learn<br>URL: https://ai-learn.wikibase.cloud<br>Host: Wikibase Cloud<br>Version: 1.39.7<br>Start Date: 2024-10-24 00:00:00+00:00<br>Active Users: 1<br>Users: 2<br>Properties: 6<br>Edits: 13<br>Pages: 13",
          "womenwriters<br>URL: https://18womenwriters.wikibase.cloud<br>Host: Wikibase Cloud<br>Version: 1.39.7<br>Start Date: 2024-10-24 00:00:00+00:00<br>Active Users: 2<br>Users: 2<br>Properties: 2<br>Edits: 5<br>Pages: 5",
          "CuentosTradicionales<br>URL: https://cuentostradicionales.wikibase.cloud<br>Host: Wikibase Cloud<br>Version: 1.39.7<br>Start Date: 2024-10-24 00:00:00+00:00<br>Active Users: 2<br>Users: 2<br>Properties: 2<br>Edits: 13<br>Pages: 9",
          "Osipov's Family Tree<br>URL: https://genealogy.david-osipov.vision<br>Host: Wikibase Cloud<br>Version: 1.39.7<br>Start Date: 2024-10-24 00:00:00+00:00<br>Active Users: 1<br>Users: 2<br>Properties: 6<br>Edits: 13<br>Pages: 13",
          "MaRDMO Wikibase<br>URL: https://mardmo.wikibase.cloud<br>Host: Wikibase Cloud<br>Version: 1.39.7<br>Start Date: 2024-11-07 00:00:00+00:00<br>Active Users: 2<br>Users: 2<br>Properties: 32<br>Edits: 51<br>Pages: 46",
          "testdd.wikibase.cloud<br>URL: https://testdd.wikibase.cloud<br>Host: Wikibase Cloud<br>Version: 1.39.7<br>Start Date: 2024-11-07 00:00:00+00:00<br>Active Users: 1<br>Users: 2<br>Properties: 6<br>Edits: 13<br>Pages: 13",
          "DH_Project_SR<br>URL: https://dh-project-sr.wikibase.cloud<br>Host: Wikibase Cloud<br>Version: 1.39.7<br>Start Date: 2024-11-04 00:00:00+00:00<br>Active Users: 2<br>Users: 2<br>Properties: 7<br>Edits: 15<br>Pages: 11",
          "Aleks Weber Werkverzeichnis<br>URL: https://aleks-weber.wikibase.cloud<br>Host: Wikibase Cloud<br>Version: 1.39.7<br>Start Date: 2024-11-06 00:00:00+00:00<br>Active Users: 2<br>Users: 2<br>Properties: 22<br>Edits: 141<br>Pages: 67",
          "Connected Earth<br>URL: https://connected-earth.wikibase.cloud<br>Host: Wikibase Cloud<br>Version: 1.39.7<br>Start Date: 2024-11-04 00:00:00+00:00<br>Active Users: 2<br>Users: 2<br>Properties: 9<br>Edits: 3898<br>Pages: 1184",
          "MI-X<br>URL: https://medicalinformatics.wikibase.cloud<br>Host: Wikibase Cloud<br>Version: 1.39.7<br>Start Date: 2024-11-04 00:00:00+00:00<br>Active Users: 2<br>Users: 2<br>Properties: 7<br>Edits: 18<br>Pages: 16",
          "IT infrestracture<br>URL: https://ani-rotze-hamin.wikibase.cloud<br>Host: Wikibase Cloud<br>Version: 1.39.7<br>Start Date: 2024-11-04 00:00:00+00:00<br>Active Users: 2<br>Users: 2<br>Properties: 7<br>Edits: 20<br>Pages: 17",
          "Finance in EU<br>URL: https://finance-eu.wikibase.cloud<br>Host: Wikibase Cloud<br>Version: 1.39.7<br>Start Date: 2024-11-03 00:00:00+00:00<br>Active Users: 2<br>Users: 3<br>Properties: 2<br>Edits: 15<br>Pages: 5",
          "ISO Certification<br>URL: https://maxwell.wikibase.cloud<br>Host: Wikibase Cloud<br>Version: 1.39.7<br>Start Date: 2024-11-03 00:00:00+00:00<br>Active Users: 1<br>Users: 2<br>Properties: 6<br>Edits: 13<br>Pages: 13",
          "wiki-data.wikibase.cloud<br>URL: https://wiki-data.wikibase.cloud<br>Host: Wikibase Cloud<br>Version: 1.39.7<br>Start Date: 2024-12-05 00:00:00+00:00<br>Active Users: 2<br>Users: 2<br>Properties: 6<br>Edits: 14<br>Pages: 14",
          "M4schini Test<br>URL: https://test-m4schini.wikibase.cloud<br>Host: Wikibase Cloud<br>Version: 1.39.7<br>Start Date: 2024-12-05 00:00:00+00:00<br>Active Users: 2<br>Users: 2<br>Properties: 7<br>Edits: 15<br>Pages: 15",
          "Wiki o UWr<br>URL: https://wikiouwr.wikibase.cloud<br>Host: Wikibase Cloud<br>Version: 1.39.7<br>Start Date: 2024-12-05 00:00:00+00:00<br>Active Users: 2<br>Users: 2<br>Properties: 1<br>Edits: 2<br>Pages: 2",
          "dcm-greta<br>URL: https://dcm-greta.wikibase.cloud<br>Host: Wikibase Cloud<br>Version: 1.39.7<br>Start Date: 2024-12-04 00:00:00+00:00<br>Active Users: 2<br>Users: 2<br>Properties: 13<br>Edits: 128<br>Pages: 64",
          "Equalent WBTest<br>URL: https://wbtest.equalent.net<br>Host: Wikibase Cloud<br>Version: 1.39.7<br>Start Date: 2024-12-03 00:00:00+00:00<br>Active Users: 2<br>Users: 2<br>Properties: 1<br>Edits: 5<br>Pages: 4",
          "MOMA<br>URL: https://moma-test.wikibase.cloud<br>Host: Wikibase Cloud<br>Version: 1.39.7<br>Start Date: 2024-12-02 00:00:00+00:00<br>Active Users: 2<br>Users: 2<br>Properties: 6<br>Edits: 35<br>Pages: 17",
          "Istanza di prova<br>URL: https://provaunipi.wikibase.cloud<br>Host: Wikibase Cloud<br>Version: 1.39.7<br>Start Date: 2024-11-27 00:00:00+00:00<br>Active Users: 2<br>Users: 2<br>Properties: 2<br>Edits: 15<br>Pages: 10",
          "DeciWiki<br>URL: https://deciwiki.wikibase.cloud<br>Host: Wikibase Cloud<br>Version: 1.39.7<br>Start Date: 2024-12-01 00:00:00+00:00<br>Active Users: 1<br>Users: 2<br>Properties: 6<br>Edits: 13<br>Pages: 13",
          "testwebbase<br>URL: https://testwebbase.wikibase.cloud<br>Host: Wikibase Cloud<br>Version: 1.39.7<br>Start Date: 2024-11-27 00:00:00+00:00<br>Active Users: 2<br>Users: 2<br>Properties: 4<br>Edits: 3438<br>Pages: 611",
          "Maîtres du mystère<br>URL: https://xn--mystre-6ua.wikibase.cloud<br>Host: Wikibase Cloud<br>Version: 1.39.7<br>Start Date: 2024-11-26 00:00:00+00:00<br>Active Users: 1<br>Users: 2<br>Properties: 6<br>Edits: 13<br>Pages: 13",
          "sbdb fork<br>URL: https://sbdb-fork.wikibase.cloud<br>Host: Wikibase Cloud<br>Version: 1.39.7<br>Start Date: 2024-11-26 00:00:00+00:00<br>Active Users: 2<br>Users: 2<br>Properties: 23<br>Edits: 5440<br>Pages: 1698",
          "Math Problem Wiki<br>URL: https://math-problem-wiki.wikibase.cloud<br>Host: Wikibase Cloud<br>Version: 1.39.7<br>Start Date: 2024-11-21 00:00:00+00:00<br>Active Users: 1<br>Users: 2<br>Properties: 6<br>Edits: 13<br>Pages: 13",
          "archivio network<br>URL: https://base.archivio.network<br>Host: Wikibase Cloud<br>Version: 1.39.7<br>Start Date: 2024-11-24 00:00:00+00:00<br>Active Users: 1<br>Users: 2<br>Properties: 6<br>Edits: 13<br>Pages: 13",
          "Mouni Neddi<br>URL: https://mounir-neddi.wikibase.cloud<br>Host: Wikibase Cloud<br>Version: 1.39.7<br>Start Date: 2024-11-22 00:00:00+00:00<br>Active Users: 1<br>Users: 2<br>Properties: 6<br>Edits: 10<br>Pages: 10",
          "Bürgerspitalzinshaus<br>URL: https://xn--brgerspitalzinshaus-59b.wikibase.cloud<br>Host: Wikibase Cloud<br>Version: 1.39.7<br>Start Date: 2024-11-21 00:00:00+00:00<br>Active Users: 2<br>Users: 2<br>Properties: 3<br>Edits: 17<br>Pages: 6",
          "Kareem Mujeeb Kayode<br>URL: https://kareemmujeeb.wikibase.cloud<br>Host: Wikibase Cloud<br>Version: 1.39.7<br>Start Date: 2024-11-20 00:00:00+00:00<br>Active Users: 1<br>Users: 2<br>Properties: 6<br>Edits: 13<br>Pages: 13",
          "Taylor Swift<br>URL: https://taylorswift.wikibase.cloud<br>Host: Wikibase Cloud<br>Version: 1.39.7<br>Start Date: 2024-11-19 00:00:00+00:00<br>Active Users: 2<br>Users: 3<br>Properties: 4<br>Edits: 37<br>Pages: 20",
          "Triki Test<br>URL: https://triki.wikibase.cloud<br>Host: Wikibase Cloud<br>Version: 1.39.7<br>Start Date: 2024-11-18 00:00:00+00:00<br>Active Users: 2<br>Users: 2<br>Properties: 9<br>Edits: 84<br>Pages: 39",
          "Menologio dei Barnabiti<br>URL: https://menologiobarnabiti.wikibase.cloud<br>Host: Wikibase Cloud<br>Version: 1.39.7<br>Start Date: 2024-11-19 00:00:00+00:00<br>Active Users: 2<br>Users: 2<br>Properties: 1<br>Edits: 3<br>Pages: 3",
          "Artificial Intelligence<br>URL: https://asdfg.wikibase.cloud<br>Host: Wikibase Cloud<br>Version: 1.39.7<br>Start Date: 2024-11-15 00:00:00+00:00<br>Active Users: 1<br>Users: 2<br>Properties: 6<br>Edits: 13<br>Pages: 13",
          "rcnum<br>URL: https://reg-cons.wikibase.cloud<br>Host: Wikibase Cloud<br>Version: 1.39.7<br>Start Date: 2024-11-15 00:00:00+00:00<br>Active Users: 2<br>Users: 2<br>Properties: 7<br>Edits: 31<br>Pages: 23",
          "Mutaabik<br>URL: https://mutaabiklegalresearch.wikibase.cloud<br>Host: Wikibase Cloud<br>Version: 1.39.7<br>Start Date: 2024-11-15 00:00:00+00:00<br>Active Users: 2<br>Users: 2<br>Properties: 25<br>Edits: 461<br>Pages: 144",
          "frenchbm.wikibase.cloud<br>URL: https://frenchbm.wikibase.cloud<br>Host: Wikibase Cloud<br>Version: 1.39.7<br>Start Date: 2024-11-14 00:00:00+00:00<br>Active Users: 1<br>Users: 2<br>Properties: 6<br>Edits: 13<br>Pages: 13",
          "testenddi<br>URL: https://testenddi.wikibase.cloud<br>Host: Wikibase Cloud<br>Version: 1.39.7<br>Start Date: 2024-11-14 00:00:00+00:00<br>Active Users: 2<br>Users: 2<br>Properties: 7<br>Edits: 14<br>Pages: 14",
          "testnga.wikibase.cloud<br>URL: https://testnga.wikibase.cloud<br>Host: Wikibase Cloud<br>Version: 1.39.7<br>Start Date: 2024-11-13 00:00:00+00:00<br>Active Users: 2<br>Users: 2<br>Properties: 8<br>Edits: 15<br>Pages: 15",
          "Biblioteca Prometeo<br>URL: https://bibliotecaprometeo.wikibase.cloud<br>Host: Wikibase Cloud<br>Version: 1.39.7<br>Start Date: 2024-11-11 00:00:00+00:00<br>Active Users: 2<br>Users: 3<br>Properties: 4<br>Edits: 5<br>Pages: 5",
          "Rolling Stone 500 Greatest Songs<br>URL: https://rolling-stone-500-songs.wikibase.cloud<br>Host: Wikibase Cloud<br>Version: 1.39.7<br>Start Date: 2024-11-11 00:00:00+00:00<br>Active Users: 2<br>Users: 2<br>Properties: 10<br>Edits: 1190<br>Pages: 1168",
          "abcdnkhr-sandbox<br>URL: https://abcdnkhr-sandbox.wikibase.cloud<br>Host: Wikibase Cloud<br>Version: 1.39.7<br>Start Date: 2024-11-10 00:00:00+00:00<br>Active Users: 2<br>Users: 2<br>Properties: 86<br>Edits: 24972<br>Pages: 12194",
          "Ipedia wiki<br>URL: https://zh-ipedia.wikibase.cloud<br>Host: Wikibase Cloud<br>Version: 1.39.7<br>Start Date: 2024-11-10 00:00:00+00:00<br>Active Users: 2<br>Users: 2<br>Properties: 6<br>Edits: 18<br>Pages: 16",
          "myaiwiki.wikibase.cloud<br>URL: https://myaiwiki.wikibase.cloud<br>Host: Wikibase Cloud<br>Version: 1.39.7<br>Start Date: 2024-11-08 00:00:00+00:00<br>Active Users: 2<br>Users: 3<br>Properties: 1<br>Edits: 5<br>Pages: 3",
          "The General Assembly and Religious Politics in Scotland, 1638-1660<br>URL: https://generalassemblies.wikibase.cloud<br>Host: Wikibase Cloud<br>Version: 1.39.7<br>Start Date: 2024-07-31 00:00:00+00:00<br>Active Users: 1<br>Users: 3<br>Properties: 19<br>Edits: 1142<br>Pages: 501",
          "DangerousHarbors<br>URL: https://dangerousharbors.wikibase.cloud<br>Host: Wikibase Cloud<br>Version: 1.39.7<br>Start Date: 2024-07-29 00:00:00+00:00<br>Active Users: 1<br>Users: 2<br>Properties: 19<br>Edits: 31<br>Pages: 24",
          "prétérit-présence<br>URL: https://prt-s.wikibase.cloud<br>Host: Wikibase Cloud<br>Version: 1.39.7<br>Start Date: 2024-12-19 00:00:00+00:00<br>Active Users: 2<br>Users: 2<br>Properties: 5<br>Edits: 23<br>Pages: 9",
          "ynsy test<br>URL: https://ynsy-test.wikibase.cloud<br>Host: Wikibase Cloud<br>Version: 1.39.7<br>Start Date: 2024-12-17 00:00:00+00:00<br>Active Users: 2<br>Users: 2<br>Properties: 6<br>Edits: 22<br>Pages: 16",
          "Museo Retroinformática Almería<br>URL: https://museillo-824287.wikibase.cloud<br>Host: Wikibase Cloud<br>Version: 1.39.7<br>Start Date: 2024-12-19 00:00:00+00:00<br>Active Users: 2<br>Users: 2<br>Properties: 103<br>Edits: 524<br>Pages: 303",
          "lool2.wikibase.cloud<br>URL: https://lool2.wikibase.cloud<br>Host: Wikibase Cloud<br>Version: 1.39.7<br>Start Date: 2024-12-20 00:00:00+00:00<br>Active Users: 2<br>Users: 3<br>Properties: 8<br>Edits: 25<br>Pages: 22",
          "Bhikidata<br>URL: https://bhikidata.wikibase.cloud<br>Host: Wikibase Cloud<br>Version: 1.39.7<br>Start Date: 2024-12-16 00:00:00+00:00<br>Active Users: 2<br>Users: 2<br>Properties: 1<br>Edits: 4<br>Pages: 4",
          "beaven<br>URL: https://beaven.wikibase.cloud<br>Host: Wikibase Cloud<br>Version: 1.39.7<br>Start Date: 2024-12-14 00:00:00+00:00<br>Active Users: 2<br>Users: 3<br>Properties: 7<br>Edits: 18<br>Pages: 15",
          "Yavaadhika NSy<br>URL: https://yavaadhikansy.wikibase.cloud<br>Host: Wikibase Cloud<br>Version: 1.39.7<br>Start Date: 2024-12-14 00:00:00+00:00<br>Active Users: 2<br>Users: 2<br>Properties: 3<br>Edits: 35<br>Pages: 9",
          "tema di prova<br>URL: https://temadiprova.wikibase.cloud<br>Host: Wikibase Cloud<br>Version: 1.39.7<br>Start Date: 2024-12-11 00:00:00+00:00<br>Active Users: 2<br>Users: 2<br>Properties: 13<br>Edits: 40<br>Pages: 20",
          "Four Level Artworks Test<br>URL: https://li-ma-mapping-mediaart.wikibase.cloud<br>Host: Wikibase Cloud<br>Version: 1.39.7<br>Start Date: 2024-12-12 00:00:00+00:00<br>Active Users: 1<br>Users: 2<br>Properties: 6<br>Edits: 13<br>Pages: 13",
          "trails.wikibase.cloud<br>URL: https://trails.wikibase.cloud<br>Host: Wikibase Cloud<br>Version: 1.39.7<br>Start Date: 2024-12-11 00:00:00+00:00<br>Active Users: 2<br>Users: 2<br>Properties: 10<br>Edits: 20<br>Pages: 18",
          "anton13<br>URL: https://anton13.wikibase.cloud<br>Host: Wikibase Cloud<br>Version: 1.39.7<br>Start Date: 2024-12-11 00:00:00+00:00<br>Active Users: 1<br>Users: 2<br>Properties: 6<br>Edits: 13<br>Pages: 13",
          "VNA<br>URL: https://visualnameauthority.wikibase.cloud<br>Host: Wikibase Cloud<br>Version: 1.39.7<br>Start Date: 2024-12-10 00:00:00+00:00<br>Active Users: 2<br>Users: 4<br>Properties: 9<br>Edits: 18<br>Pages: 16",
          "Verhütung<br>URL: https://verhuetung.wikibase.cloud<br>Host: Wikibase Cloud<br>Version: 1.39.7<br>Start Date: 2024-12-09 00:00:00+00:00<br>Active Users: 2<br>Users: 2<br>Properties: 13<br>Edits: 105<br>Pages: 45",
          "MoMa<br>URL: https://momadata.wikibase.cloud<br>Host: Wikibase Cloud<br>Version: 1.39.7<br>Start Date: 2024-12-09 00:00:00+00:00<br>Active Users: 2<br>Users: 2<br>Properties: 11<br>Edits: 66<br>Pages: 20",
          "YH's Wiki<br>URL: https://yhh-wiki.wikibase.cloud<br>Host: Wikibase Cloud<br>Version: 1.39.7<br>Start Date: 2024-12-05 00:00:00+00:00<br>Active Users: 2<br>Users: 2<br>Properties: 2518<br>Edits: 2916<br>Pages: 2915",
          "extinctlanguages<br>URL: https://extinctlanguages.wikibase.cloud<br>Host: Wikibase Cloud<br>Version: 1.39.7<br>Start Date: 2024-12-09 00:00:00+00:00<br>Active Users: 2<br>Users: 2<br>Properties: 13<br>Edits: 167<br>Pages: 63",
          "enwiki.wikibase.cloud<br>URL: https://enwiki.wikibase.cloud<br>Host: Wikibase Cloud<br>Version: 1.39.7<br>Start Date: 2024-12-05 00:00:00+00:00<br>Active Users: 2<br>Users: 3<br>Properties: 28<br>Edits: 1371<br>Pages: 1333",
          "Digital Humanities<br>URL: https://my-practice-page.wikibase.cloud<br>Host: Wikibase Cloud<br>Version: 1.39.7<br>Start Date: 2024-11-11 00:00:00+00:00<br>Active Users: 1<br>Users: 3<br>Properties: 1<br>Edits: 6<br>Pages: 4",
          "Historical Advertisements<br>URL: https://historicalads.wikibase.cloud<br>Host: Wikibase Cloud<br>Version: 1.39.7<br>Start Date: 2025-01-04 00:00:00+00:00<br>Active Users: 1<br>Users: 2<br>Properties: 6<br>Edits: 13<br>Pages: 13",
          "Endangered Languages Collective<br>URL: https://endangered-languages-collective.wikibase.cloud<br>Host: Wikibase Cloud<br>Version: 1.39.7<br>Start Date: 2025-01-06 00:00:00+00:00<br>Active Users: 2<br>Users: 3<br>Properties: 14<br>Edits: 21<br>Pages: 19",
          "Para uma Validação de Ornitorrinquices<br>URL: https://parvo.wikibase.cloud<br>Host: Wikibase Cloud<br>Version: 1.39.7<br>Start Date: 2025-01-03 00:00:00+00:00<br>Active Users: 2<br>Users: 2<br>Properties: 13<br>Edits: 119<br>Pages: 37",
          "DH_DataProject<br>URL: https://dhdataproject.wikibase.cloud<br>Host: Wikibase Cloud<br>Version: 1.39.7<br>Start Date: 2025-01-06 00:00:00+00:00<br>Active Users: 2<br>Users: 3<br>Properties: 14<br>Edits: 1602<br>Pages: 804",
          "Knowledge Graph Rijksmuseum<br>URL: https://rijksmuseum-kg.wikibase.cloud<br>Host: Wikibase Cloud<br>Version: 1.39.7<br>Start Date: 2025-01-02 00:00:00+00:00<br>Active Users: 1<br>Users: 2<br>Properties: 6<br>Edits: 13<br>Pages: 13",
          "Indonesia<br>URL: https://crypto.wikibase.cloud<br>Host: Wikibase Cloud<br>Version: 1.39.7<br>Start Date: 2025-01-02 00:00:00+00:00<br>Active Users: 1<br>Users: 2<br>Properties: 6<br>Edits: 13<br>Pages: 13",
          "wallet<br>URL: https://website.wikibase.cloud<br>Host: Wikibase Cloud<br>Version: 1.39.7<br>Start Date: 2025-01-02 00:00:00+00:00<br>Active Users: 1<br>Users: 2<br>Properties: 6<br>Edits: 13<br>Pages: 13",
          "Vivek Nasa Associates<br>URL: https://viveknasagurgaon.wikibase.cloud<br>Host: Wikibase Cloud<br>Version: 1.39.7<br>Start Date: 2025-01-02 00:00:00+00:00<br>Active Users: 1<br>Users: 2<br>Properties: 6<br>Edits: 13<br>Pages: 13",
          "Harvard Plate Stacks<br>URL: https://harvardplatestacks.wikibase.cloud<br>Host: Wikibase Cloud<br>Version: 1.39.7<br>Start Date: 2024-12-31 00:00:00+00:00<br>Active Users: 2<br>Users: 2<br>Properties: 13<br>Edits: 113<br>Pages: 48",
          "US Elections<br>URL: https://electionsus.wikibase.cloud<br>Host: Wikibase Cloud<br>Version: 1.39.7<br>Start Date: 2024-12-29 00:00:00+00:00<br>Active Users: 2<br>Users: 2<br>Properties: 6<br>Edits: 92<br>Pages: 91",
          "Lugares de impresión en España<br>URL: https://spain-print-places.wikibase.cloud<br>Host: Wikibase Cloud<br>Version: 1.39.7<br>Start Date: 2024-12-28 00:00:00+00:00<br>Active Users: 1<br>Users: 2<br>Properties: 6<br>Edits: 13<br>Pages: 13",
          "Rule Hierarchies<br>URL: https://rule-hierarchies.wikibase.cloud<br>Host: Wikibase Cloud<br>Version: 1.39.7<br>Start Date: 2024-12-27 00:00:00+00:00<br>Active Users: 2<br>Users: 2<br>Properties: 13<br>Edits: 137<br>Pages: 52",
          "knews<br>URL: https://knews.wikibase.cloud<br>Host: Wikibase Cloud<br>Version: 1.39.7<br>Start Date: 2024-12-28 00:00:00+00:00<br>Active Users: 2<br>Users: 2<br>Properties: 1<br>Edits: 8<br>Pages: 4",
          "Earthpedia<br>URL: https://earthpedia.wikibase.cloud<br>Host: Wikibase Cloud<br>Version: 1.39.7<br>Start Date: 2024-12-23 00:00:00+00:00<br>Active Users: 1<br>Users: 2<br>Properties: 6<br>Edits: 13<br>Pages: 13",
          "brt32<br>URL: https://brt32.wikibase.cloud<br>Host: Wikibase Cloud<br>Version: 1.39.7<br>Start Date: 2024-12-25 00:00:00+00:00<br>Active Users: 1<br>Users: 2<br>Properties: 6<br>Edits: 13<br>Pages: 13",
          "Daniel's Test Wikibase instance<br>URL: https://daniels-test-instance.wikibase.cloud<br>Host: Wikibase Cloud<br>Version: 1.39.7<br>Start Date: 2024-12-21 00:00:00+00:00<br>Active Users: 2<br>Users: 2<br>Properties: 3<br>Edits: 16<br>Pages: 7",
          "SemSacs<br>URL: https://semsacs.wikibase.cloud<br>Host: Wikibase Cloud<br>Version: 1.39.7<br>Start Date: 2024-12-21 00:00:00+00:00<br>Active Users: 2<br>Users: 2<br>Properties: 6<br>Edits: 114<br>Pages: 29",
          "CG_WO2_Test<br>URL: https://cgwo2test.wikibase.cloud<br>Host: Wikibase Cloud<br>Version: 1.39.7<br>Start Date: 2025-01-07 00:00:00+00:00<br>Active Users: 1<br>Users: 2<br>Properties: 6<br>Edits: 13<br>Pages: 13",
          "Antibiotic Resistance sandbox<br>URL: https://antibiotic-resistance-sandbox.wikibase.cloud<br>Host: Wikibase Cloud<br>Version: 1.39.7<br>Start Date: 2025-01-10 00:00:00+00:00<br>Active Users: 4<br>Users: 6<br>Properties: 10<br>Edits: 42<br>Pages: 26",
          "Aerospace Wikibase<br>URL: https://aerospace.wikibase.cloud<br>Host: Wikibase Cloud<br>Version: 1.39.7<br>Start Date: 2024-12-18 00:00:00+00:00<br>Active Users: 1<br>Users: 3<br>Properties: 18<br>Edits: 274<br>Pages: 265",
          "LIB<br>URL: https://bvlib.wikibase.cloud<br>Host: Wikibase Cloud<br>Version: 1.39.7<br>Start Date: 2025-01-13 00:00:00+00:00<br>Active Users: 1<br>Users: 2<br>Properties: 6<br>Edits: 13<br>Pages: 13",
          "The Lion King<br>URL: https://thelionking.wikibase.cloud<br>Host: Wikibase Cloud<br>Version: 1.39.7<br>Start Date: 2025-01-16 00:00:00+00:00<br>Active Users: 2<br>Users: 2<br>Properties: 3<br>Edits: 27<br>Pages: 15",
          "photos-rijksmuseum<br>URL: https://photos-rijksmuseum.wikibase.cloud<br>Host: Wikibase Cloud<br>Version: 1.39.7<br>Start Date: 2025-01-13 00:00:00+00:00<br>Active Users: 2<br>Users: 2<br>Properties: 5<br>Edits: 249<br>Pages: 43",
          "Hack Club Community<br>URL: https://wikibase.dino.icu<br>Host: Wikibase Cloud<br>Version: 1.39.7<br>Start Date: 2025-01-13 00:00:00+00:00<br>Active Users: 2<br>Users: 2<br>Properties: 6<br>Edits: 16<br>Pages: 15",
          "PlayTrackerScotland<br>URL: https://playtrackerscotland.wikibase.cloud<br>Host: Wikibase Cloud<br>Version: 1.39.7<br>Start Date: 2025-01-10 00:00:00+00:00<br>Active Users: 2<br>Users: 2<br>Properties: 13<br>Edits: 24<br>Pages: 20",
          "https://data.rijksmuseum.nl/docs/data-dumps/historical-dumps<br>URL: https://rijksmuseum-knowledgegraph.wikibase.cloud<br>Host: Wikibase Cloud<br>Version: 1.39.7<br>Start Date: 2025-01-12 00:00:00+00:00<br>Active Users: 2<br>Users: 2<br>Properties: 11<br>Edits: 44<br>Pages: 24",
          "rijksmuseum-2<br>URL: https://rijksmuseum-2.wikibase.cloud<br>Host: Wikibase Cloud<br>Version: 1.39.7<br>Start Date: 2025-01-12 00:00:00+00:00<br>Active Users: 2<br>Users: 2<br>Properties: 8<br>Edits: 344<br>Pages: 77",
          "HistBiblKat<br>URL: https://histbiblkat.wikibase.cloud<br>Host: Wikibase Cloud<br>Version: 1.39.7<br>Start Date: 2025-01-11 00:00:00+00:00<br>Active Users: 2<br>Users: 2<br>Properties: 6<br>Edits: 20<br>Pages: 18",
          "rijksmuseum.wikibase.cloud<br>URL: https://rijksmuseum.wikibase.cloud<br>Host: Wikibase Cloud<br>Version: 1.39.7<br>Start Date: 2025-01-06 00:00:00+00:00<br>Active Users: 2<br>Users: 2<br>Properties: 10<br>Edits: 25<br>Pages: 17",
          "rc-test-wikidata.wikibase.cloud<br>URL: https://rc-test-wikidata.wikibase.cloud<br>Host: Wikibase Cloud<br>Version: 1.39.7<br>Start Date: 2025-01-17 00:00:00+00:00<br>Active Users: 1<br>Users: 2<br>Properties: 6<br>Edits: 13<br>Pages: 13",
          "PIT<br>URL: https://pit-data.wikibase.cloud<br>Host: Wikibase Cloud<br>Version: 1.39.7<br>Start Date: 2025-01-20 00:00:00+00:00<br>Active Users: 2<br>Users: 4<br>Properties: 7<br>Edits: 15<br>Pages: 15",
          "Johann Christian Bach<br>URL: https://jcbach.wikibase.cloud<br>Host: Wikibase Cloud<br>Version: 1.39.7<br>Start Date: 2025-01-16 00:00:00+00:00<br>Active Users: 1<br>Users: 2<br>Properties: 6<br>Edits: 13<br>Pages: 13"
         ],
         "legendgrouptitle": {
          "text": "By host"
         },
         "marker": {
          "color": "#ADD8E6",
          "line": {
           "color": "black",
           "width": 1
          },
          "showscale": false,
          "size": [
           7,
           6,
           4,
           4,
           4,
           4,
           4,
           6,
           4,
           4,
           4,
           4,
           6,
           6,
           6,
           8,
           4,
           4,
           4,
           4,
           4,
           6,
           6,
           4,
           4,
           4,
           11,
           4,
           7,
           4,
           4,
           4,
           4,
           4,
           4,
           4,
           4,
           4,
           6,
           4,
           20,
           7,
           4,
           6,
           4,
           7,
           4,
           4,
           4,
           6,
           6,
           4,
           4,
           4,
           4,
           4,
           4,
           4,
           4,
           4,
           8,
           6,
           6,
           6,
           6,
           4,
           4,
           4,
           6,
           4,
           4,
           4,
           6,
           6,
           4,
           4,
           4,
           4,
           6,
           4,
           4,
           4,
           4,
           6,
           7,
           7,
           4,
           6,
           4,
           6,
           11,
           6,
           4,
           4,
           7,
           4,
           4,
           4,
           4,
           4,
           4,
           4,
           4,
           4,
           4,
           7,
           4,
           6,
           6,
           4,
           4,
           4,
           6,
           4,
           4,
           4,
           4,
           4,
           6,
           4,
           6,
           4,
           6,
           6,
           8,
           7,
           4,
           6,
           6,
           6,
           4,
           4,
           4,
           6,
           6,
           6,
           6,
           6,
           6,
           4,
           4,
           8,
           6,
           4,
           4,
           4,
           6,
           6,
           7,
           6,
           7,
           9,
           6,
           7,
           7,
           7,
           8,
           6,
           12,
           7,
           9,
           7,
           7,
           7,
           4,
           4,
           6,
           4,
           6,
           7,
           6,
           4,
           4,
           4,
           6,
           4,
           4,
           6,
           4,
           4,
           7,
           4,
           7,
           4,
           6,
           6,
           6,
           6,
           8,
           4,
           6,
           4,
           4,
           6,
           4,
           4,
           4,
           4,
           6,
           4,
           4,
           4,
           6,
           6,
           4,
           6,
           4,
           4,
           4,
           6,
           4,
           4,
           4,
           4,
           6,
           4,
           4,
           20,
           6,
           4,
           6,
           4,
           4,
           4,
           6,
           6,
           4,
           4,
           4,
           4,
           6,
           4,
           4,
           4,
           4,
           4,
           4,
           4,
           4,
           6,
           4,
           4,
           4,
           4,
           6,
           4,
           4,
           6,
           6,
           4,
           4,
           4,
           4,
           4,
           4,
           4,
           4,
           4,
           4,
           6,
           4,
           6,
           4,
           4,
           6,
           4,
           4,
           4,
           6,
           4,
           4,
           6,
           4,
           4,
           4,
           4,
           4,
           4,
           4,
           4,
           4,
           4,
           4,
           7,
           4,
           4,
           4,
           4,
           4,
           6,
           4,
           7,
           6,
           4,
           4,
           4,
           4,
           4,
           4,
           6,
           4,
           4,
           4,
           4,
           4,
           4,
           4,
           4,
           6,
           4,
           7,
           4,
           4,
           4,
           4,
           4,
           4,
           4,
           4,
           7,
           4,
           4,
           4,
           6,
           4,
           6,
           4,
           6,
           4,
           4,
           4,
           4,
           4,
           4,
           7,
           4,
           4,
           4,
           4,
           4,
           4,
           4,
           6,
           4,
           4,
           4,
           4,
           4,
           4,
           4,
           4,
           4,
           4,
           4,
           4,
           4,
           4,
           4,
           4,
           4,
           4,
           4,
           4,
           4,
           4,
           4,
           4,
           4,
           4,
           4,
           4,
           4,
           4,
           4,
           4,
           4,
           4,
           4,
           4,
           4,
           4,
           4,
           4,
           4,
           4,
           4,
           4,
           4,
           6,
           6,
           4,
           7,
           4,
           4,
           4,
           4,
           4,
           4,
           4,
           4,
           4,
           6,
           4,
           6,
           4,
           4,
           4,
           4,
           4,
           4,
           7,
           4,
           4,
           4,
           4,
           4,
           4,
           4,
           4,
           4,
           6,
           4,
           4,
           4,
           4,
           4,
           4,
           4,
           4,
           4,
           4,
           4,
           4,
           6,
           4,
           7,
           6,
           7,
           4,
           6,
           4,
           4,
           4,
           4,
           4,
           4,
           4,
           4,
           4,
           4,
           4,
           4,
           4,
           4,
           4,
           4,
           4,
           4,
           4,
           4,
           4,
           4,
           4,
           6,
           4,
           4,
           4,
           4,
           4,
           4,
           4,
           4,
           4,
           4,
           4,
           4,
           4,
           4,
           4,
           4,
           4,
           6,
           4,
           4,
           4,
           4,
           4,
           4,
           4,
           4,
           4,
           4,
           4,
           4,
           4,
           4,
           4,
           4,
           4,
           4,
           4,
           4,
           6,
           4,
           4,
           4,
           4,
           4,
           4,
           4,
           4,
           4,
           4,
           4,
           4,
           4,
           4,
           4,
           4,
           4,
           4,
           4,
           4,
           4,
           4,
           4,
           4,
           4,
           4,
           4,
           4,
           4,
           4,
           4,
           4,
           4,
           12,
           4,
           4,
           4,
           4,
           4,
           4,
           4,
           6,
           4,
           4,
           4,
           4,
           4,
           4,
           4,
           4,
           4,
           4,
           4,
           4,
           4,
           4,
           4,
           4,
           4,
           4,
           4,
           4,
           4,
           4,
           4,
           4,
           4,
           4,
           4,
           4,
           4,
           4,
           4,
           4,
           4,
           4,
           4,
           4,
           4,
           4,
           4,
           4,
           4,
           4,
           8,
           7,
           7,
           7,
           7,
           7,
           6,
           6,
           7,
           6,
           8,
           6,
           7,
           8,
           7,
           7,
           7,
           7,
           7,
           7,
           7,
           7,
           7,
           6,
           7,
           7,
           7,
           7,
           7,
           6,
           7,
           7,
           6,
           7,
           6,
           7,
           7,
           7,
           7,
           7,
           7,
           6,
           7,
           7,
           7,
           7,
           7,
           7,
           7,
           6,
           7,
           6,
           7,
           6,
           6,
           6,
           7,
           6,
           7,
           7,
           7,
           6,
           7,
           7,
           6,
           7,
           7,
           7,
           7,
           7,
           7,
           7,
           6,
           6,
           7,
           7,
           7,
           7,
           7,
           7,
           7,
           7,
           6,
           7,
           6,
           7,
           7,
           7,
           7,
           7,
           7,
           6,
           6,
           7,
           7,
           7,
           6,
           6,
           6,
           6,
           7,
           7,
           6,
           7,
           7,
           6,
           6,
           7,
           7,
           6,
           9,
           6,
           6,
           7,
           7,
           7,
           7,
           7,
           7,
           7,
           7,
           6,
           7,
           6
          ]
         },
         "mode": "markers",
         "name": "Wikibase Cloud (711)",
         "showlegend": true,
         "type": "scatter",
         "x": [
          -0.23291271924972534,
          -0.7306130528450012,
          -0.07599025964736938,
          -0.9412896037101746,
          0.9128941297531128,
          -0.3471323847770691,
          -0.13600589334964752,
          -0.6824083924293518,
          0.8637293577194214,
          0.7270346283912659,
          0.3824869394302368,
          0.5715357661247253,
          -0.7121060490608215,
          -0.9591342210769653,
          -0.7089324593544006,
          -0.9281290173530579,
          -0.18457631766796112,
          -0.9197848439216614,
          0.7717975974082947,
          -0.7840180993080139,
          0.9251343607902527,
          -0.36697831749916077,
          -0.24235592782497406,
          -0.9488878846168518,
          -0.4334315061569214,
          0.2461300939321518,
          1,
          -0.93487149477005,
          0.07381103187799454,
          -0.7206143140792847,
          0.3620055913925171,
          0.5693581104278564,
          0.9894633293151855,
          0.7373968958854675,
          -0.21763885021209717,
          -0.5602665543556213,
          0.9512783885002136,
          -0.7186179161071777,
          0.2313080132007599,
          0.02674301527440548,
          -0.8261695504188538,
          -0.4228362441062927,
          -0.8389357328414917,
          -0.3970528244972229,
          -0.7568638324737549,
          0.28143641352653503,
          -0.6843856573104858,
          -0.33293190598487854,
          -0.07347941398620605,
          0.106473907828331,
          -0.8742112517356873,
          0.9030598998069763,
          0.6299130916595459,
          0.9478294253349304,
          -0.8894802331924438,
          0.08020374178886414,
          0.8026533126831055,
          -0.960273027420044,
          0.9506925940513611,
          -0.8737671375274658,
          0.4230141043663025,
          -0.6783490777015686,
          0.9239130616188049,
          -0.37045401334762573,
          -0.6958853602409363,
          -0.8987557888031006,
          -0.5907180309295654,
          0.0006113341660238802,
          -0.5605118274688721,
          0.4882308542728424,
          0.870083749294281,
          -0.9917252659797668,
          -0.6403512954711914,
          -0.9355241060256958,
          -0.9237856864929199,
          0.964890718460083,
          -0.1754755675792694,
          0.2974141240119934,
          0.1402045041322708,
          0.9465474486351013,
          -0.6559295058250427,
          -0.9462334513664246,
          0.8670547008514404,
          -0.8947309255599976,
          0.4952211081981659,
          -0.5454658269882202,
          -0.24894139170646667,
          0.13415831327438354,
          0.1706348955631256,
          0.14665856957435608,
          0.7763124704360962,
          0.23485367000102997,
          -0.591700553894043,
          0.4725334048271179,
          0.33518582582473755,
          0.4954241216182709,
          -0.44932156801223755,
          -0.8676626086235046,
          0.7296130061149597,
          0.33546409010887146,
          -0.42994970083236694,
          0.10363922268152237,
          -0.11928527802228928,
          0.27021580934524536,
          0.4329805374145508,
          -0.5518348217010498,
          -0.641454815864563,
          -0.8877858519554138,
          -0.12249347567558289,
          -0.41095009446144104,
          -0.312740683555603,
          0.9455309510231018,
          -0.1393761783838272,
          -0.8833709955215454,
          -0.7922736406326294,
          0.8767719268798828,
          0.6216619610786438,
          -0.46828123927116394,
          0.9319640398025513,
          0.500923216342926,
          -0.33097049593925476,
          -0.3612339496612549,
          0.9805260300636292,
          -0.4073507487773895,
          0.5562052726745605,
          0.5772682428359985,
          0.841198205947876,
          -0.7082419991493225,
          0.20795772969722748,
          -0.5068020224571228,
          0.40493243932724,
          0.22442714869976044,
          -0.9394093751907349,
          -0.6937933564186096,
          0.3909893035888672,
          0.26846209168434143,
          0.020920461043715477,
          0.6977906823158264,
          0.21959468722343445,
          0.9363580346107483,
          0.003402958856895566,
          -0.2767179608345032,
          -0.7493588924407959,
          -0.8981408476829529,
          0.9429967403411865,
          -0.8555760979652405,
          -0.3048098683357239,
          -0.6544007062911987,
          -0.45757365226745605,
          0.26745545864105225,
          -0.10082612931728363,
          0.5823481678962708,
          0.08426815271377563,
          -0.7425892353057861,
          -0.5243342518806458,
          -0.97474205493927,
          -0.34022587537765503,
          0.23585772514343262,
          -0.43407800793647766,
          -0.7110042572021484,
          -0.9786335825920105,
          0.14955449104309082,
          0.30701974034309387,
          0.306083083152771,
          0.9955928921699524,
          0.9525139331817627,
          -0.2707458734512329,
          0.706032931804657,
          0.8055749595165254,
          0.8726734399795533,
          0.9636917114257814,
          -1.050101411342621,
          -0.04616199806332588,
          0.5451072454452515,
          0.7154589951038361,
          -1.0670330107212067,
          -1.0680161595344544,
          -0.7982434034347534,
          1.081898981332779,
          0.2299573600292206,
          -0.5364050418138504,
          0.9783650517463685,
          -0.5943950533866883,
          -0.6967724800109864,
          -0.8200814366340637,
          0.06058244369924069,
          -0.4193520784378052,
          -1.0917347311973573,
          0.9422658205032349,
          -0.16242262572050095,
          0.6270122528076172,
          0.9163973689079286,
          0.7708515465259552,
          0.940987366437912,
          -0.722291535139084,
          0.5710902631282807,
          1.078883445262909,
          1.0143338739871979,
          0.9359489500522614,
          -0.03710640147328377,
          -0.2667468771338463,
          -0.5931843280792237,
          -1.0018672585487367,
          -0.3246719300746918,
          1.008758544921875,
          -0.6667834579944611,
          -0.762447738647461,
          0.9348923683166505,
          0.6152719020843507,
          0.7115618705749512,
          0.4994009137153626,
          0.49886796772480013,
          -0.10350024551153184,
          0.19217300713062288,
          0.4094648599624634,
          -0.5933331608772279,
          -0.5500999212265015,
          0.7294064640998841,
          0.802283263206482,
          -1.0062677919864655,
          -0.99651957154274,
          1.0102865397930145,
          0.06957659572362901,
          0.5382881373167039,
          -0.06721378080546857,
          -0.025099471211433414,
          1.0473190248012543,
          0.9710374295711518,
          0.8593784749507904,
          0.9723419129848481,
          0.4138470679521561,
          -0.9016910493373872,
          0.6260877192020416,
          0.0005116145999636501,
          0.792458724975586,
          0.8022087156772614,
          -0.32902945280075074,
          0.8241835176944733,
          0.7191388368606568,
          0.4346231430768967,
          0.960361921787262,
          -0.6376612722873688,
          -0.998524159193039,
          -0.1355084352195263,
          -0.8739052772521974,
          -1.085664975643158,
          0.9734012484550477,
          -0.666723793745041,
          0.011200190521776678,
          0.40374420583248144,
          -0.2764884263277054,
          -0.7142053246498109,
          0.30094581842422485,
          -0.13578359559178355,
          -0.8148136734962464,
          0.45570226013660436,
          0.10797656401991845,
          0.9562780022621156,
          0.9098937034606934,
          0.7855225920677186,
          0.9018777132034302,
          0.7166558861732484,
          -0.9810238480567933,
          -0.988351732492447,
          0.553473573923111,
          0.7330694556236268,
          0.21966175287961962,
          1.0744210839271546,
          -0.831628566980362,
          0.8340814232826234,
          0.4460042953491211,
          0.5549232184886933,
          0.14034242779016495,
          -0.3072538703680039,
          0.7662105858325959,
          0.6817045688629151,
          0.566493558883667,
          -1.0132273972034456,
          0.6546050012111664,
          0.01442128960043192,
          0.5297875881195069,
          -0.33661002516746524,
          -0.7681617379188538,
          1.0409693062305452,
          -0.40733700990676885,
          0.6083635687828064,
          0.11313064545392991,
          1.0138322353363038,
          1.0843698024749757,
          1.019478440284729,
          -0.930042451620102,
          0.03798751458525658,
          0.8102746009826661,
          -0.5346954971551896,
          -1.048081809282303,
          -0.5706082284450531,
          -0.9845687568187714,
          -0.18573993891477586,
          -0.5556735455989839,
          0.7353947877883912,
          -0.8986533522605896,
          0.9116157710552216,
          -0.9274449586868286,
          -0.3641993969678879,
          -0.2939553320407868,
          0.9331921339035035,
          0.005075427889823914,
          -0.9545931100845337,
          -0.38458631038665775,
          -0.9108610510826112,
          -0.16264458000659943,
          0.7402470648288727,
          0.9455899715423585,
          0.8552575767040254,
          -0.730360370874405,
          -1.0381037831306459,
          0.37740797996520997,
          -0.04203822128474713,
          -0.34374262392520905,
          0.8144963383674623,
          -1.0264487326145173,
          -1.018867963552475,
          1.040519267320633,
          -0.037461825832724574,
          -0.8342481553554536,
          -0.7111361563205719,
          -0.5412443697452546,
          -0.7657916247844697,
          -0.7932817637920381,
          -1.0832738161087037,
          -0.6916941344738007,
          -0.9256953537464142,
          -0.998620080947876,
          -0.21732825785875323,
          -0.13999232649803162,
          0.2782082974910736,
          0.8502823650836945,
          1.0621381819248201,
          1.0371833801269532,
          0.9883796632289887,
          -0.8588367760181428,
          -0.5021865785121918,
          0.9874158561229707,
          -0.5439452260732651,
          0.9879749298095704,
          0.3651766777038575,
          -0.9313831925392152,
          -0.7840960919857026,
          0.6694913625717164,
          -0.9499474942684174,
          0.6911701381206513,
          0.03634644038975239,
          0.4602650344371796,
          -0.284264874458313,
          -0.3645631521940232,
          -0.05846129767596722,
          0.45782034099102026,
          0.10656123459339142,
          -1.0170013248920442,
          1.0605463922023775,
          -0.015473901573568583,
          0.19564636796712878,
          0.964999407529831,
          0.9402064204216004,
          0.24621157348155978,
          1.047914880514145,
          -0.6610043525695801,
          -1.0324598729610444,
          -0.8039591729640961,
          -0.5242492705583572,
          -0.28362063169479373,
          0.7775981962680817,
          -0.8560939252376557,
          -1.0622977674007417,
          -0.9765273928642274,
          0.9693929910659791,
          0.1610002562403679,
          -0.20078763961791993,
          0.039525032788515095,
          0.14267195612192154,
          0.9789035379886628,
          -0.6349064886569977,
          0.13386536538600924,
          -1.0444830715656281,
          0.07712512314319611,
          0.15911917686462404,
          0.2426341772079468,
          0.66035053730011,
          1.0709735393524171,
          0.21322124302387238,
          1.0636320829391481,
          0.8819078266620637,
          -0.6449369668960572,
          0.38780139386653906,
          0.6261650204658509,
          0.8820247948169709,
          1.063639295101166,
          -0.926549404859543,
          -0.8570489466190339,
          1.0450247049331667,
          0.05049052685499192,
          0.7681967496871949,
          -0.9255805492401123,
          -0.33983815610408785,
          0.22522834539413453,
          0.8977411448955537,
          -0.9380234301090241,
          -0.9612756371498109,
          -0.625129222869873,
          -0.9457873225212098,
          0.5388044625520707,
          0.7639559984207154,
          0.835644692182541,
          -0.20767799168825152,
          -0.3147429794073105,
          -0.2409584641456604,
          0.9419756948947907,
          0.2999806344509125,
          -0.38264161646366124,
          0.4800666868686676,
          0.12164656817913055,
          -0.16255803406238556,
          -0.4875715255737305,
          0.46204630732536317,
          -0.8876702129840851,
          0.7553052067756654,
          1.0251917839050293,
          0.10855888053774834,
          -0.9093678712844849,
          0.984019845724106,
          -0.432556825876236,
          0.921812653541565,
          -0.733142364025116,
          -0.5314310431480408,
          -1.07751424908638,
          0.7451014399528504,
          -0.8564386665821077,
          -1.0559953868389131,
          -1.014315515756607,
          -1.0310657620429993,
          -0.9115925610065461,
          -0.3305957704782486,
          -0.4395478039979935,
          -1.0498858988285065,
          -1.034598869085312,
          -0.6694457292556764,
          -0.21319318115711214,
          1.0223243594169618,
          0.8713818728923798,
          -0.21800739765167237,
          -0.1880937919020653,
          -0.27353625893592837,
          -1.0441848814487458,
          0.5688777685165406,
          0.958632117509842,
          -1.0281119227409363,
          -1.0890582323074343,
          1.0220622301101685,
          0.3110919535160065,
          0.8733850836753846,
          -1.0887372255325318,
          0.928642898797989,
          -0.9711806237697602,
          1.0784760236740114,
          1.0397135376930238,
          -0.5857530474662781,
          -1.0551478922367097,
          0.4327929586172104,
          1.057820326089859,
          1.0531037688255311,
          1.0730510354042053,
          -0.14286788105964662,
          -0.8275354683399201,
          1.0226955235004427,
          0.9419818580150605,
          -0.08825840651988984,
          -0.8305293679237367,
          -0.3037498414516449,
          0.8698366343975068,
          0.9928340911865235,
          0.3344624072313309,
          0.6852560341358185,
          -0.8492166697978974,
          0.4902728080749512,
          1.0349087953567506,
          0.3881760656833649,
          -1.0025394320487977,
          0.49161859750747683,
          0.9670512020587922,
          -0.9574814498424531,
          0.7332645118236543,
          -0.8115626275539399,
          0.835607123374939,
          -0.12249926030635835,
          -0.6330818772315979,
          -0.9869790613651277,
          -0.8286919713020325,
          0.9518029868602753,
          0.16230695247650148,
          1.0616657853126528,
          -0.3835213035345078,
          1.0101849138736725,
          0.8323350310325623,
          -1.0357600271701815,
          -0.22991800457239153,
          -0.2525478020310402,
          1.0164324820041657,
          -0.9712016701698304,
          0.9876832306385042,
          0.6990401148796083,
          -0.8940399944782258,
          0.8684300661087037,
          -0.4130939215421677,
          -0.8237393140792847,
          -1.052355408668518,
          -0.938731861114502,
          0.6638383388519288,
          -0.8189473569393159,
          -1.050399535894394,
          -0.8463072836399079,
          0.7187390863895416,
          -0.22120487689971927,
          -0.9455339789390564,
          -0.6308412551879883,
          -0.9882207334041596,
          -0.5297561824321747,
          -0.9958984076976777,
          -0.9139906704425812,
          -0.6851925671100617,
          -1.0348670959472657,
          0.3287133634090424,
          0.8316950500011445,
          0.09841898232698441,
          -0.38380434811115266,
          0.504041087627411,
          1.0901901483535767,
          -0.2838729590177536,
          1.091409069299698,
          -0.7132046699523926,
          0.029915640316903594,
          1.0585750460624697,
          0.777572625875473,
          -0.6936260104179383,
          -0.12231988236308099,
          1.035410237312317,
          0.3381327420473099,
          -0.5821687996387482,
          -0.43815218508243564,
          0.9142275571823121,
          -0.3539944171905518,
          -0.23850660771131518,
          -0.5817382335662842,
          0.7852442681789399,
          0.7545816302299501,
          -0.957520592212677,
          -1.015700513124466,
          -0.8807378828525544,
          -0.7929922938346864,
          0.27122994065284733,
          -0.20968441516160966,
          0.6367785692214967,
          0.19826310425996782,
          -1.0103691518306732,
          0.22888038754463197,
          -0.6004160940647125,
          0.8701981604099275,
          1.0387970685958863,
          0.8699943184852601,
          -0.649477481842041,
          0.9316788256168366,
          0.5673778355121613,
          1.0406751155853273,
          -0.6856939435005188,
          1.0196390092372896,
          -0.9616752564907075,
          0.34358592331409454,
          0.6625284135341645,
          0.9436646521091462,
          0.6179263055324555,
          0.9156542539596558,
          -0.03454203940927983,
          0.5918582737445832,
          1.0619801044464112,
          -1.0375614941120148,
          0.9593078970909119,
          0.40320404767990115,
          -0.9943826079368592,
          0.8829676866531373,
          -1.0364736378192902,
          0.9548193752765656,
          0.27739447057247163,
          -1.0109387159347536,
          0.20618440210819247,
          -0.15187775641679765,
          0.39873978495597845,
          -0.4815045893192292,
          -0.9307982206344605,
          0.9900086283683778,
          1.0193077743053438,
          -0.40026302635669714,
          0.7888664782047272,
          0.8452960073947907,
          -0.9663115620613099,
          1.0038432598114015,
          0.42022258639335636,
          0.5863822758197785,
          -0.7885463893413545,
          -0.9019720613956452,
          1.0682155430316926,
          -0.406157460808754,
          1.0976829290390016,
          0.06194142401218415,
          0.835440719127655,
          0.8503635346889497,
          0.6845276057720184,
          0.7414178609848023,
          0.7851152360439301,
          -1.0136058390140534,
          0.4813732624053956,
          -0.3008560597896576,
          -0.9021940648555756,
          -0.032495694980025296,
          0.9269246339797974,
          -0.8439940810203553,
          0.9156568109989167,
          -0.43157469332218173,
          0.38314355015754703,
          -0.16370132565498352,
          -0.8849632918834687,
          -0.9449076354503633,
          0.9886592328548433,
          -1.0016967236995697,
          -1.0293559551239015,
          0.9938422858715058,
          1.097820156812668,
          0.2661297619342804,
          -0.00564855863340199,
          0.0780029334127903,
          -0.5708392143249512,
          -0.7107160806655884,
          0.44877215921878816,
          0.9749650418758393,
          -0.9880757033824922,
          0.9122505068778992,
          -1.0666353583335877,
          -0.10109851360321045,
          -0.605723786354065,
          -0.8428398072719575,
          0.9183131158351899,
          0.15538739114999772,
          -0.46074815094470983,
          1.0065573930740357,
          -0.07558817863464357,
          0.48104130625724795,
          -1.0258230447769165,
          -0.680034625530243,
          -0.1038139581680298,
          -0.7796107828617097,
          0.798514449596405,
          -1.0767559230327608,
          1.0144941806793213,
          -0.9466736972332002,
          0.24997573196887973,
          -1.0658022224903108,
          -0.9910395741462709,
          0.28124805986881257,
          0.6631295144557954,
          -0.9147993505001069,
          1.0921249747276307,
          0.6042536854743958,
          -0.08080276027321816,
          -0.5021403878927231,
          0.9886434972286225,
          -0.9282285928726197,
          -0.9449647426605225,
          -1.0339468896389008,
          -1.0511992990970613,
          -0.3842468470335007,
          -0.5563288033008575,
          -0.8736722588539124,
          0.9580393433570863,
          0.6738362312316895,
          -0.48038824498653415,
          -1.0532841384410858,
          0.4256462305784226,
          0.3132120013237,
          -0.43788894116878513,
          -0.8654787838459016,
          1.0684231877326966,
          0.8513226211071016,
          -0.07221954166889191,
          -0.8827426671981812,
          0.5724911272525788,
          -0.2270591363310814,
          0.7957256376743317,
          0.5493067800998688,
          -0.04903083853423596,
          0.6907855987548829,
          0.9229458808898926,
          -0.6867967486381531,
          -0.3577822774648667,
          0.03242440931499005,
          -0.46651443839073187,
          0.07762856483459474,
          -0.5234030544757844,
          -0.9085656166076661,
          -0.4855457276105881,
          0.08754344359040261,
          -1.0712256371974946,
          0.436067345738411,
          -0.6652378916740418
         ],
         "y": [
          -0.9620618224143982,
          0.571748673915863,
          -0.9644680619239807,
          0.2540864646434784,
          -0.13198493421077728,
          -0.4303424656391144,
          0.523352861404419,
          -0.6249476671218872,
          0.3786962032318115,
          0.678403913974762,
          0.2616157531738281,
          -0.8461959958076477,
          -0.5864048600196838,
          0.22145064175128937,
          0.27889779210090637,
          -0.22409792244434357,
          -0.44557368755340576,
          -0.07139741629362106,
          -0.6525972485542297,
          -0.5558801293373108,
          -0.09494958072900772,
          0.44548657536506653,
          0.01803046464920044,
          0.27644336223602295,
          -0.046137887984514236,
          -0.4475809633731842,
          -0.013952615670859814,
          0.1703740656375885,
          -0.9877490401268005,
          0.6555641293525696,
          -0.2056596428155899,
          -0.37950482964515686,
          -0.1817283034324646,
          -0.7198925018310547,
          -0.9121523499488831,
          -0.7893646955490112,
          0.2209417074918747,
          0.6856945157051086,
          -0.5181118845939636,
          0.9459079504013062,
          0.4396592378616333,
          -0.909629225730896,
          0.525786817073822,
          -0.9149564504623413,
          0.6355929374694824,
          0.30538514256477356,
          -0.1765899807214737,
          0.8479202389717102,
          0.7202871441841125,
          0.9138413667678833,
          0.013656080700457096,
          0.42542538046836853,
          -0.7712512016296387,
          -0.12549157440662384,
          -0.3746807873249054,
          -0.4689205586910248,
          -0.5117790102958679,
          0.13433584570884705,
          -0.35859426856040955,
          0.40385541319847107,
          -0.7340983152389526,
          0.7486658096313477,
          -0.4300721287727356,
          0.9264667630195618,
          -0.7186660170555115,
          -0.3035043179988861,
          0.7114070057868958,
          -0.939184844493866,
          0.7986220121383667,
          0.821828305721283,
          -0.49509096145629883,
          -0.07042370736598969,
          -0.7040666937828064,
          0.2877542972564697,
          -0.20076847076416016,
          -0.3212932348251343,
          -0.9804748296737671,
          -0.30914759635925293,
          0.943476140499115,
          -0.05626128613948822,
          0.7473810315132141,
          -0.23548080027103424,
          0.2841193675994873,
          -0.4860862195491791,
          -0.700658917427063,
          -0.2166442573070526,
          0.8887253403663635,
          -0.27788007259368896,
          0.9470152258872986,
          -0.5285266637802124,
          -0.3790731728076935,
          -0.903233528137207,
          -0.05185168981552124,
          -0.8123577833175659,
          -0.8698332905769348,
          -0.8757076859474182,
          -0.9168931245803833,
          0.3375718295574188,
          -0.5308910608291626,
          -0.6252237558364868,
          0.8404915928840637,
          0.9910984635353088,
          -0.28159239888191223,
          -0.745284914970398,
          -0.8091796040534973,
          0.8228829503059387,
          -0.7393338680267334,
          -0.45036596059799194,
          -0.09448015689849854,
          0.8846274018287659,
          0.286480575799942,
          -0.27234017848968506,
          -0.23930977284908295,
          0.3585653603076935,
          0.46954143047332764,
          0.4166506826877594,
          0.7876423001289368,
          -0.4149562418460846,
          0.39540213346481323,
          -0.448498010635376,
          -0.9396336078643799,
          -0.8716477751731873,
          -0.21966031193733215,
          -0.8789442181587219,
          -0.272823303937912,
          0.5356113314628601,
          0.48028478026390076,
          0.7551394701004028,
          -0.8911901712417603,
          -0.3389073610305786,
          0.6399826407432556,
          -0.9515450596809387,
          -0.30211010575294495,
          0.7102788686752319,
          0.12611167132854462,
          0.819210410118103,
          -0.7572391033172607,
          -0.6790846586227417,
          0.375926673412323,
          -0.3965941071510315,
          0.12805649638175964,
          0.33639416098594666,
          -0.5431473255157471,
          0.404776006937027,
          -0.24505165219306946,
          0.47578588128089905,
          -0.9395679235458374,
          0.19154959917068481,
          -0.803176999092102,
          -0.960722804069519,
          -0.979224681854248,
          0.27414780855178833,
          0.2090117633342743,
          0.6725040078163147,
          -0.7918968200683594,
          -0.16667649149894714,
          0.19945146143436432,
          0.973024845123291,
          0.891532301902771,
          -0.6676806211471558,
          0.13292427361011505,
          0.9151133894920349,
          0.9389254450798035,
          0.8941685557365417,
          -0.09061198681592941,
          -0.08804988116025925,
          -0.06807152926921844,
          -0.08933092653751373,
          0.6986079096794129,
          0.48619905114173895,
          -0.01544163227081299,
          0.25486813485622406,
          0.9903663396835327,
          -0.025183411315083504,
          -0.8901053011417389,
          0.11601058468222619,
          -0.004157520201988518,
          -0.6043905019760132,
          -0.039320047572255136,
          0.9687075078487397,
          0.9102074325084687,
          -0.23838654160499576,
          0.784864515066147,
          0.8399833977222443,
          -0.6936933457851411,
          -1.0761285305023194,
          0.888725483417511,
          0.001513718196656555,
          -0.6083440959453583,
          -1.0845194220542909,
          0.8224280774593354,
          -0.6531004130840302,
          0.7013565957546235,
          -0.5180633991956711,
          0.7810396432876587,
          -0.986415857076645,
          0.1584055006504059,
          -0.03407997954636813,
          -0.42557889521121983,
          1.0748487651348115,
          -1.0281572282314302,
          0.9312157392501832,
          0.4686655640602112,
          -0.9696717739105225,
          0.014077653642743828,
          -0.8551973879337311,
          0.544365268945694,
          0.620036780834198,
          0.7848248481750489,
          0.8301334202289582,
          -0.9552328944206239,
          -1.0041716754436494,
          1.0203819930553437,
          0.9519312977790834,
          -0.9599566638469696,
          -0.9665500879287721,
          -0.9860589206218721,
          -0.8005062520503998,
          0.7885408818721772,
          -0.38000376820564274,
          0.1645286098122597,
          -0.25340693444013596,
          0.9589593529701234,
          -0.9261624395847321,
          -1.0113309264183046,
          -1.0576685428619386,
          0.18022427409887315,
          -0.5721339941024781,
          -0.5845840871334076,
          -0.35324310660362246,
          -0.9140657424926758,
          -0.5972740828990937,
          0.7213530361652375,
          1.0791162669658663,
          0.6070009291172028,
          0.6477344334125519,
          1.0404024958610536,
          0.5336495041847229,
          0.7218107461929322,
          1.021516925096512,
          -0.46150355935096743,
          0.7499811887741089,
          -0.5128308117389679,
          1.0771461665630342,
          -0.5787083387374878,
          0.03395353313535452,
          0.14362902641296388,
          -0.7212093174457551,
          1.0618284523487092,
          0.9488819301128388,
          -0.9681862652301789,
          0.878475558757782,
          -0.9686282396316529,
          0.974891084432602,
          -0.7255491375923158,
          0.797521334886551,
          1.0417726755142214,
          0.5486624389886856,
          -0.5410532802343369,
          0.8335242509841919,
          -0.5999831676483155,
          0.8595278322696687,
          0.48768826425075534,
          -0.4476492911577225,
          -0.8490781962871552,
          0.7765100777149201,
          -1.0454780876636507,
          0.23563639670610428,
          -0.8177021443843843,
          0.7802419126033784,
          -0.9269942641258241,
          0.7942936956882477,
          -0.9940391778945924,
          0.9647732734680177,
          -0.7846671640872956,
          -0.6599407553672791,
          -0.8815930485725404,
          0.4322859436273575,
          -0.8220521926879883,
          -1.0933732688426971,
          0.9685957193374635,
          1.0153785884380342,
          -0.8652750074863435,
          0.284829193353653,
          -1.0253549098968506,
          0.8781620264053346,
          -1.0173798322677614,
          -0.19771553725004198,
          -0.06969850584864618,
          0.24127463549375536,
          -0.6321437716484071,
          -1.086106950044632,
          -0.7436725795269014,
          -0.9083580374717714,
          0.34634460806846623,
          -0.7858007848262788,
          0.2861756056547165,
          1.0727188169956208,
          0.9470724642276764,
          -0.864178627729416,
          -0.4806936472654343,
          0.564814043045044,
          -0.5003184974193573,
          -0.9445443391799927,
          1.0404325902462006,
          -0.3790152102708817,
          0.9880917012691499,
          0.5965013980865479,
          0.9662502586841584,
          -0.3811625331640244,
          1.0679899990558626,
          0.8185033500194551,
          -0.5783818900585175,
          -0.6418421626091004,
          0.6617793321609498,
          -0.007330520357936621,
          0.9918786764144898,
          0.9682169497013093,
          -0.8916361808776856,
          -0.678922575712204,
          -0.11718960106372835,
          0.36581390500068667,
          0.35468163788318635,
          -0.9509573936462403,
          -0.6672382831573487,
          -0.835644692182541,
          -0.8726133823394776,
          0.7656086325645447,
          -0.7876090049743653,
          -0.14235163778066637,
          -0.8695211350917816,
          -0.5295341789722443,
          0.33778803348541264,
          0.9805149972438814,
          0.903271234035492,
          1.0222201108932496,
          -0.6186968266963959,
          0.04982133656740189,
          -0.23292232900857926,
          -0.31913364529609684,
          0.48043132126331334,
          0.9770357847213746,
          0.4240380167961121,
          0.865840768814087,
          -0.28473881185054783,
          1.0374317407608034,
          0.07414932772517205,
          -0.6860487818717957,
          0.8217489540576935,
          -0.36977528333663945,
          0.7780979335308076,
          1.013569450378418,
          -0.9631701409816743,
          -1.0005541861057283,
          -0.9942125320434572,
          -1.0838100731372835,
          0.9154190063476563,
          -1.0776486575603486,
          -0.43150375187397005,
          0.12404598221182825,
          1.0209606707096102,
          -0.9869770288467408,
          -0.4003432452678681,
          -0.3238267630338669,
          1.0058066070079805,
          -0.007231691200286151,
          0.8657040655612946,
          -0.04371704459190369,
          0.7880532741546632,
          -0.9724496364593507,
          -1.0663797199726106,
          0.7755719721317292,
          0.600212973356247,
          -0.03900567926466465,
          0.038026931509375576,
          0.3549796640872956,
          -1.014666485786438,
          1.0536308467388154,
          -1.0487429678440094,
          0.9682221293449402,
          0.5358740627765656,
          -0.8902459383010864,
          -1.0714877009391786,
          0.20143542289733887,
          1.0300230145454408,
          -1.0554957807064058,
          1.0329824268817902,
          0.770371150970459,
          -0.2744260922074318,
          1.05525404214859,
          -0.03608391359448433,
          -0.3570033639669419,
          -0.8021683275699616,
          1.0498184978961946,
          -0.837180095911026,
          0.6704005539417267,
          0.34196502268314366,
          0.6579059422016145,
          -0.7146324813365937,
          0.07501922100782395,
          1.0725517570972443,
          0.8111702203750611,
          0.30843046903610233,
          0.9725592613220215,
          -1.06901353597641,
          -0.4586186289787293,
          -0.6010038197040558,
          -0.5794311940670014,
          -0.7631959676742555,
          -0.5486472606658936,
          0.8770126700401307,
          0.5445142000913621,
          -0.5073292434215546,
          -0.9335241556167603,
          -0.9379347205162049,
          0.9790411591529847,
          -0.19936561435461045,
          0.9857072293758393,
          1.033201152086258,
          0.8531740307807922,
          0.9604795575141907,
          1.0227196514606476,
          -0.9689437389373781,
          1.0112204492092134,
          0.6347813248634339,
          0.6471137940883637,
          0.32302260696887974,
          -1.0542594194412231,
          -0.31629202067852025,
          0.5068176716566086,
          1.0003186762332916,
          -0.490307754278183,
          -0.8640555620193482,
          0.9727480232715607,
          -0.10882881209254265,
          0.7390584349632264,
          0.7539306998252869,
          0.09161420091986656,
          -0.15717982649803164,
          0.07782136723399163,
          0.46476276814937595,
          -1.0575615406036378,
          -0.8780524015426636,
          0.2744529739022255,
          0.11303212568163873,
          -0.768841713666916,
          -1.02534795999527,
          -0.354500350356102,
          0.7555764496326447,
          1.0280827462673188,
          -1.0022824823856356,
          1.0595345914363863,
          -0.08328016251325608,
          -0.9338511288166047,
          0.49996451139450077,
          -0.365085443854332,
          -0.03687778413295746,
          -0.39310895502567295,
          1.025593239068985,
          -0.49530329108238225,
          0.08873847424983979,
          0.087203086912632,
          0.22338932603597642,
          0.18859788924455645,
          0.14683863520622253,
          -0.8327560901641846,
          -0.22892879098653796,
          -0.9931008756160737,
          0.21115582734346391,
          -0.16495750397443773,
          0.2727906197309494,
          1.0496519625186922,
          0.5496043145656586,
          0.4075451791286469,
          -0.2744734793901444,
          -1.0954478144645692,
          0.6065125346183777,
          0.938480418920517,
          0.5300347685813904,
          0.2980313837528229,
          -0.9585408508777619,
          -0.9026090264320374,
          -0.6412093937397003,
          0.8831474661827088,
          -0.1922562584280968,
          -1.0453603982925417,
          0.4090738624334336,
          -0.9239416837692261,
          0.5971424281597137,
          -0.27505389451980594,
          -0.7590040624141694,
          -0.760562413930893,
          0.7051829755306245,
          -0.9644168615341188,
          0.8500721633434296,
          0.5171912521123887,
          0.6560340583324433,
          0.5759260833263398,
          -1.0790955483913423,
          -0.31571740806102755,
          -0.812544071674347,
          0.3580430954694748,
          0.5867439985275269,
          -0.28756450414657597,
          -1.0690073072910309,
          1.0405477225780488,
          0.27481994181871416,
          -0.06950662955641747,
          -0.5276489526033402,
          -0.7992582857608795,
          -0.5307782769203186,
          0.43760612607002264,
          -0.9923515975475312,
          0.39386410117149356,
          -0.11848353669047357,
          -0.1683618411421776,
          -0.8749032437801362,
          -0.5029817193746567,
          -0.14911205619573595,
          0.7205408811569215,
          -0.7257232785224915,
          1.0708546042442322,
          -0.4221299082040787,
          0.9171509742736818,
          0.3105556309223175,
          -0.8285692334175111,
          0.37262880802154547,
          0.6165053129196167,
          0.8703721046447754,
          0.14162204563617709,
          -1.065318548679352,
          -0.7538223862648011,
          -0.9804118633270265,
          -1.0153008282184601,
          1.0013468682765962,
          -0.16172320991754532,
          0.9975244224071503,
          0.13062022030353548,
          0.7358960986137391,
          1.0908853352069856,
          0.3080022633075714,
          -0.5634236037731171,
          -0.900321787595749,
          -1.02349613904953,
          0.11202071830630303,
          -1.0088509917259216,
          0.9568450093269348,
          1.021801018714905,
          -0.6267494678497315,
          0.8908987700939179,
          -0.9589781701564789,
          -0.9193106889724733,
          -0.8586618483066559,
          -0.6965709984302522,
          0.49930427074432376,
          0.2184418320655823,
          0.6635019898414612,
          0.6692877173423768,
          0.972860860824585,
          -1.0498221039772035,
          0.9338629305362702,
          -1.0256506741046907,
          -0.40548738539218904,
          1.0746906876564026,
          0.8233445465564728,
          0.5768885791301728,
          0.38499163389205937,
          -0.7828614354133606,
          0.8927387237548828,
          0.38360460400581364,
          0.9472270667552949,
          0.03480007909238339,
          0.6838737905025483,
          0.17242304235696795,
          0.3366991609334946,
          0.8949590206146241,
          0.8975672006607056,
          0.18441434353590014,
          -0.9633091390132905,
          -0.6888848006725312,
          -1.0279524683952332,
          0.9503518998622895,
          -0.20613381862640381,
          -0.20037525147199634,
          0.26748281270265584,
          1.0270484566688538,
          -0.19884932190179827,
          0.62271426320076,
          -0.17381515353918078,
          -0.11897420138120653,
          -0.9523534715175629,
          -0.33788952827453617,
          1.0090806007385256,
          -1.055976176261902,
          -0.9976798117160798,
          -0.8179425060749055,
          0.44680628776550296,
          -0.1843783646821976,
          0.45878208279609684,
          0.928397423028946,
          -0.622117292881012,
          0.6367713570594788,
          -0.31694413125514986,
          -0.4336227834224701,
          -1.0395534276962282,
          0.8328962028026582,
          -0.6108488142490387,
          -0.5607781171798707,
          0.01111587891355157,
          -0.9192478120326997,
          0.09564968422055245,
          -0.9990716934204102,
          0.7408732771873475,
          -0.6761502861976624,
          0.7101227819919587,
          0.8688867926597595,
          -0.7036418020725251,
          -0.29766258001327517,
          0.9890709817409516,
          -1.0412213385105134,
          -0.6422769248485566,
          -1.0895974397659303,
          0.6656108915805817,
          -0.7488479614257814,
          0.4928222090005875,
          0.9385359525680542,
          -0.8777202486991883,
          -0.9813657701015474,
          -0.7070742011070252,
          -0.4761640161275864,
          -0.07293342277407647,
          -0.015830384194850923,
          0.03672585338354111,
          -0.3822585850954056,
          0.05718599893152714,
          -1.0645737290382387,
          -1.0819845438003541,
          0.9989012897014619,
          0.9069337010383607,
          -0.7183230102062226,
          -1.0226016342639923,
          -0.48006018996238714,
          -0.2596123278141022,
          0.7107428312301637,
          -0.07146585434675218,
          1.0766192197799684,
          -0.9064961850643158,
          -0.5593265056610108,
          0.3268656075000763,
          1.0654807567596436,
          0.8829271674156189,
          0.08901746198534967,
          1.0662374436855317,
          -0.66062171459198,
          0.24520667344331742,
          0.7323995113372803,
          -0.9942198753356934,
          0.610776299238205,
          -0.81996328830719,
          -0.21057421565055848,
          0.49631037116050725,
          0.4144912123680115,
          -0.9238726437091828,
          -0.268711830675602,
          0.11042200326919556,
          -1.0349804580211641,
          -0.9264388620853424,
          -0.6763808131217957,
          0.023073980584740642,
          -0.739195728302002,
          -1.0390350699424744,
          0.9206035673618317,
          0.3874293118715287,
          0.18680556863546374,
          0.5641892075538636,
          0.39419828653335576,
          -0.3127109527587891,
          0.9953766405582429,
          -0.9334673762321473,
          0.5636863887310029,
          0.2252865016460419,
          -0.7471942126750947,
          1.0064952373504639,
          0.0564637091010809,
          1.001108342409134,
          -1.0245416402816774,
          -0.9403808891773224,
          -0.4613462030887604,
          -0.11132529377937318,
          0.33103171288967137,
          1.0003608345985413,
          0.7008775770664216,
          0.8695994853973389,
          0.9349421977996827,
          -0.6559271216392517,
          0.9852417826652528,
          1.0322703242301943,
          0.9053375184535981,
          0.4494130909442902,
          0.7842838704586029,
          1.0348187744617463,
          -1.0209648668766023,
          -0.9066359043121338,
          -1.0342150509357453,
          0.951891040802002,
          -0.4305990189313889,
          0.8489507377147675,
          1.0671065747737885,
          0.058361675590276725,
          0.9442938804626465,
          -0.9233605146408081
         ]
        },
        {
         "hoverinfo": "text",
         "hovertext": [
          "DataTrek<br>URL: https://data.wikitrek.org/<br>Host: independently hosted Wikibase<br>Version: 1.39.11<br>Start Date: 2020-10-31 00:00:00+00:00<br>Active Users: 3<br>Users: 38<br>Properties: 191<br>Edits: 84863<br>Pages: 13346",
          "MiMoTextBase<br>URL: https://data.mimotext.uni-trier.de/<br>Host: independently hosted Wikibase<br>Version: 1.39.5<br>Start Date: 2023-04-28 00:00:00+00:00<br>Active Users: 1<br>Users: 3<br>Properties: 58<br>Edits: 116092<br>Pages: 4450",
          "Imedwiki base<br>URL: https://base.imedwiki.org/wiki/Hauptseite<br>Host: independently hosted Wikibase<br>Version: 1.35.3<br>Start Date: 2021-08-25 00:00:00+00:00<br>Active Users: 0<br>Users: 1<br>Properties: 26<br>Edits: 892<br>Pages: 263",
          "PersonalData.io<br>URL: https://wiki.personaldata.io<br>Host: independently hosted Wikibase<br>Version: 1.35.1<br>Start Date: 2019-02-06 00:00:00+00:00<br>Active Users: 0<br>Users: 13574<br>Properties: 309<br>Edits: 65858<br>Pages: 17614",
          "Rhizome Artbase<br>URL: https://artbase.rhizome.org/<br>Host: independently hosted Wikibase<br>Version: 1.35.1<br>Start Date: 2015-02-09 00:00:00+00:00<br>Active Users: 0<br>Users: 27<br>Properties: 120<br>Edits: 202723<br>Pages: 28533",
          "DeJongeWiki<br>URL: https://set.kuleuven.be/rlicc/dejongewiki/w/index.php/Main_Page<br>Host: independently hosted Wikibase<br>Version: 1.39.4<br>Start Date: 2021-04-13 00:00:00+00:00<br>Active Users: 1<br>Users: 32<br>Properties: 35<br>Edits: 12622<br>Pages: 3039",
          "Crystal Pool<br>URL: https://crystalpool.cxuesong.com<br>Host: independently hosted Wikibase<br>Version: 1.43.0-wmf.7<br>Start Date: 2017-11-13 00:00:00+00:00<br>Active Users: 1<br>Users: 28<br>Properties: 147<br>Edits: 130017<br>Pages: 10784",
          "Undata<br>URL: https://data.uncyclomedia.org<br>Host: independently hosted Wikibase<br>Version: 1.39.3<br>Start Date: 2019-04-12 00:00:00+00:00<br>Active Users: 0<br>Users: 87323<br>Properties: 60<br>Edits: 58372<br>Pages: 14758",
          "MaRDi portal<br>URL: https://portal.mardi4nfdi.de/<br>Host: independently hosted Wikibase<br>Version: 1.44.0-wmf.15<br>Start Date: 2021-12-15 00:00:00+00:00<br>Active Users: 9<br>Users: 477<br>Properties: 1623<br>Edits: 36415688<br>Pages: 12755851",
          "DNB Doku wiki<br>URL: https://sta.dnb.de/wiki/Hauptseite<br>Host: independently hosted Wikibase<br>Version: 1.35.7<br>Start Date: 2020-03-31 00:00:00+00:00<br>Active Users: 0<br>Users: 88<br>Properties: 1562<br>Edits: 149543<br>Pages: 9997",
          "De Jonge Wiki<br>URL: https://set.kuleuven.be/rlicc/dejongewiki/w/index.php<br>Host: independently hosted Wikibase<br>Version: 1.39.4<br>Start Date: 2021-04-13 00:00:00+00:00<br>Active Users: 1<br>Users: 32<br>Properties: 35<br>Edits: 12622<br>Pages: 3039",
          "Librarybase<br>URL: https://librarybase.org<br>Host: independently hosted Wikibase<br>Version: 1.39.1<br>Start Date: 2023-05-04 00:00:00+00:00<br>Active Users: 0<br>Users: 6<br>Properties: 29<br>Edits: 1096<br>Pages: 512",
          "Biblissima<br>URL: https://data.biblissima.fr/<br>Host: independently hosted Wikibase<br>Version: 1.39.4<br>Start Date: 2019-01-02 00:00:00+00:00<br>Active Users: 3<br>Users: 18<br>Properties: 308<br>Edits: 1763961<br>Pages: 411709",
          "Enslaved.org<br>URL: https://lod.enslaved.org/<br>Host: independently hosted Wikibase<br>Version: 1.37.0-alpha<br>Start Date: 2019-07-01 00:00:00+00:00<br>Active Users: 0<br>Users: 1<br>Properties: 83<br>Edits: 6467973<br>Pages: 1137805",
          "EU Knowledge Graph<br>URL: https://linkedopendata.eu/<br>Host: independently hosted Wikibase<br>Version: 1.39.1<br>Start Date: 2019-12-17 00:00:00+00:00<br>Active Users: 0<br>Users: 109<br>Properties: 3272<br>Edits: 44494366<br>Pages: 3424918",
          "FactGrid<br>URL: https://database.factgrid.de/<br>Host: independently hosted Wikibase<br>Version: 1.39.10<br>Start Date: 2018-01-11 00:00:00+00:00<br>Active Users: 47<br>Users: 627<br>Properties: 1195<br>Edits: 9730625<br>Pages: 1021498",
          "Femiwiki<br>URL: https://femiwiki.com/<br>Host: independently hosted Wikibase<br>Version: 1.42.4<br>Start Date: 2016-07-25 00:00:00+00:00<br>Active Users: 26<br>Users: 6149<br>Properties: 83<br>Edits: 316700<br>Pages: 72362",
          "Lingua Libre<br>URL: https://lingualibre.org/<br>Host: independently hosted Wikibase<br>Version: 1.35.2<br>Start Date: 2018-01-15 00:00:00+00:00<br>Active Users: 23<br>Users: 3454<br>Properties: 39<br>Edits: 1424183<br>Pages: 1338070",
          "OpenStreetMap Wiki<br>URL: https://wiki.openstreetmap.org/<br>Host: independently hosted Wikibase<br>Version: 1.39.11<br>Start Date: 2018-09-17 00:00:00+00:00<br>Active Users: 758<br>Users: 155727<br>Properties: 46<br>Edits: 2789098<br>Pages: 285137",
          "Seeds of the Word<br>URL: https://en.seminaverbi.bibleget.io<br>Host: independently hosted Wikibase<br>Version: 1.42.1<br>Start Date: 2020-08-15 00:00:00+00:00<br>Active Users: 1<br>Users: 1<br>Properties: 7910<br>Edits: 24268<br>Pages: 22418",
          "TransforMap Base<br>URL: https://base.transformap.co<br>Host: independently hosted Wikibase<br>Version: 1.27.0-rc.1<br>Start Date: 2016-05-09 00:00:00+00:00<br>Active Users: 2<br>Users: 182<br>Properties: 33<br>Edits: 6069<br>Pages: 478",
          "BDI Data<br>URL: https://wiki.bgbm.org/bdidata/index.php/BDI_Data:Main_Page<br>Host: independently hosted Wikibase<br>Version: 1.28.2<br>Start Date: 2017-07-12 00:00:00+00:00<br>Active Users: 0<br>Users: 5<br>Properties: 69<br>Edits: 17073<br>Pages: 2566",
          "FOMU Photographic Paper Collection (2023-)<br>URL: https://data.fomu.be<br>Host: independently hosted Wikibase<br>Version: 1.38.5<br>Start Date: 2023-11-22 00:00:00+00:00<br>Active Users: 0<br>Users: 3<br>Properties: 51<br>Edits: 17445<br>Pages: 3759",
          "ScoutMedia<br>URL: https://media.scoutwiki.org/Main_Page<br>Host: independently hosted Wikibase<br>Version: 1.39.10<br>Start Date: 2021-04-04 00:00:00+00:00<br>Active Users: 11<br>Users: 10739<br>Properties: 39<br>Edits: 142254<br>Pages: 59728"
         ],
         "legendgrouptitle": {
          "text": "By host"
         },
         "marker": {
          "color": "#5be971",
          "line": {
           "color": "black",
           "width": 1
          },
          "showscale": false,
          "size": [
           8,
           6,
           4,
           4,
           4,
           6,
           6,
           4,
           14,
           4,
           6,
           4,
           8,
           4,
           4,
           20,
           20,
           20,
           30,
           6,
           7,
           4,
           4,
           20
          ]
         },
         "mode": "markers",
         "name": "independently hosted Wikibase (24)",
         "showlegend": true,
         "type": "scatter",
         "x": [
          -0.2997654974460602,
          0.5353469252586365,
          -0.03931612893939018,
          0.23443296551704407,
          0.12321444600820541,
          0.9002596735954285,
          0.06477303802967072,
          -0.12300878018140793,
          0.16785402595996857,
          -0.6801580190658569,
          -0.511855959892273,
          0.34770509600639343,
          -0.49894991517066956,
          0.49663618206977844,
          -0.2020290195941925,
          -0.6391891837120056,
          1.021264696121216,
          0.33253419399261475,
          -0.11443927884101868,
          0.29199565649032594,
          -0.9624002754688263,
          0.36869663894176485,
          0.6096849024295807,
          -0.32491760253906254
         ],
         "y": [
          -0.08361111581325531,
          -0.7721273303031921,
          0.9931951761245728,
          0.5759146809577942,
          0.03418843075633049,
          -0.45357561111450195,
          0.9897053837776184,
          -0.9812925457954407,
          0.18229620158672333,
          0.6385593414306641,
          0.7554868459701538,
          -0.05974758043885231,
          -0.6145510077476501,
          -0.5228844285011292,
          0.38692355155944824,
          0.5174844861030579,
          -0.32379630804061893,
          0.8686209321022034,
          0.3968174159526825,
          1.0569037914276125,
          -0.4512713372707367,
          -1.0061975061893464,
          -0.8754054069519044,
          -0.9950831711292267
         ]
        },
        {
         "hoverinfo": "text",
         "hovertext": [
          "matvoc.nims.go.jp<br>URL: https://matvoc.nims.go.jp<br>Host: <br>Version: 1.35.5<br>Start Date: 2019-02-01 00:00:00+00:00<br>Active Users: 0<br>Users: 85<br>Properties: 58<br>Edits: 38589<br>Pages: 3948",
          "Philobiblon<br>URL: https://philobiblon.cog.berkeley.edu/wiki/Main_Page<br>Host: <br>Version: 1.39.1<br>Start Date: 2024-02-27 00:00:00+00:00<br>Active Users: 0<br>Users: 15<br>Properties: 1177<br>Edits: 1851601<br>Pages: 264990",
          "Semantic Lab at Pratt experimental Wikibase<br>URL: https://base.semlab.io<br>Host: <br>Version: 1.39.6<br>Start Date: 2020-02-22 00:00:00+00:00<br>Active Users: 1<br>Users: 38<br>Properties: 217<br>Edits: 176993<br>Pages: 26748",
          "wikibase.imfd.cl<br>URL: https://wikibase.imfd.cl<br>Host: wikibase-docker<br>Version: 1.41.1<br>Start Date: 2024-04-30 00:00:00+00:00<br>Active Users: 37<br>Users: 191<br>Properties: 36<br>Edits: 15322<br>Pages: 1655",
          "wikibase.the-qa-company.com<br>URL: https://wikibase.the-qa-company.com<br>Host: <br>Version: 1.38.5<br>Start Date: 2022-08-15 00:00:00+00:00<br>Active Users: 0<br>Users: 66108<br>Properties: 851<br>Edits: 49277<br>Pages: 46286",
          "CanonBase<br>URL: https://canonbase.eu<br>Host: <br>Version: 1.34.1<br>Start Date: 2020-03-11 00:00:00+00:00<br>Active Users: 0<br>Users: 29<br>Properties: 346<br>Edits: 483939<br>Pages: 35722",
          "WikiHum<br>URL: https://wikihum.lab.dariah.pl<br>Host: <br>Version: 1.42.1<br>Start Date: 2023-01-30 00:00:00+00:00<br>Active Users: 5<br>Users: 16<br>Properties: 157<br>Edits: 835975<br>Pages: 174666",
          "itidata.abtk.hu<br>URL: https://itidata.abtk.hu<br>Host: <br>Version: 1.35.2<br>Start Date: 2021-11-09 00:00:00+00:00<br>Active Users: 0<br>Users: 66<br>Properties: 248<br>Edits: 920789<br>Pages: 449676",
          "wiki.tiffa.net<br>URL: https://wiki.tiffa.net<br>Host: <br>Version: 1.43.0<br>Start Date: 2023-01-21 00:00:00+00:00<br>Active Users: 1<br>Users: 1<br>Properties: 966<br>Edits: 144258<br>Pages: 45609",
          "ELTEdata<br>URL: https://eltedata.elte-dh.hu<br>Host: <br>Version: 1.35.2<br>Start Date: 2021-03-19 00:00:00+00:00<br>Active Users: 0<br>Users: 19<br>Properties: 171<br>Edits: 253638<br>Pages: 39817",
          "wikibase.semantic-kompakkt.de<br>URL: https://wikibase.semantic-kompakkt.de<br>Host: <br>Version: 1.38.5<br>Start Date: 2024-02-14 00:00:00+00:00<br>Active Users: 0<br>Users: 19<br>Properties: 110<br>Edits: 6468<br>Pages: 1606",
          "sportsdamkg.slis.ua.edu<br>URL: https://sportsdamkg.slis.ua.edu<br>Host: <br>Version: 1.36.1<br>Start Date: 2020-08-18 00:00:00+00:00<br>Active Users: 0<br>Users: 5<br>Properties: 89<br>Edits: 8419411<br>Pages: 2625166",
          "Wikibase.slis.ua.edu<br>URL: https://wikibase.slis.ua.edu<br>Host: <br>Version: 1.34.2<br>Start Date: 2018-10-01 00:00:00+00:00<br>Active Users: 0<br>Users: 10<br>Properties: 178<br>Edits: 283279<br>Pages: 19117",
          "Black Bibliography Project<br>URL: https://blackbibliog.rutgers.edu<br>Host: <br>Version: 1.39.5<br>Start Date: 2019-01-03 00:00:00+00:00<br>Active Users: 8<br>Users: 52<br>Properties: 137<br>Edits: 79033<br>Pages: 10097",
          "GraphIT<br>URL: https://graphit.ur.de<br>Host: <br>Version: 1.39.1<br>Start Date: 2023-04-13 00:00:00+00:00<br>Active Users: 0<br>Users: 88<br>Properties: 38<br>Edits: 11795<br>Pages: 1965",
          "Addshore Alpha<br>URL: https://addshore-alpha.wikibase.dev<br>Host: <br>Version: 1.39.7<br>Start Date: 2019-10-28 00:00:00+00:00<br>Active Users: 0<br>Users: 9<br>Properties: 15<br>Edits: 232<br>Pages: 60",
          "Wer Leitet?<br>URL: https://wl.kgi.uni-mannheim.de<br>Host: <br>Version: 1.38.5<br>Start Date: 2023-11-14 00:00:00+00:00<br>Active Users: 0<br>Users: 1<br>Properties: 1068<br>Edits: 36494<br>Pages: 35457",
          "DFIH<br>URL: https://wiki.dfih.fr<br>Host: <br>Version: 1.33.0<br>Start Date: 2018-11-02 00:00:00+00:00<br>Active Users: 0<br>Users: 11253<br>Properties: 6<br>Edits: 484028<br>Pages: 65770",
          "Nimiarkisto<br>URL: https://nimiarkisto.fi<br>Host: <br>Version: 1.41.4<br>Start Date: 2018-05-04 00:00:00+00:00<br>Active Users: 2<br>Users: 259<br>Properties: 88<br>Edits: 6991881<br>Pages: 6698303",
          "SCDB<br>URL: https://scdb.app<br>Host: <br>Version: 1.40.1<br>Start Date: 2019-11-19 00:00:00+00:00<br>Active Users: 0<br>Users: 14<br>Properties: 95<br>Edits: 35338<br>Pages: 5961",
          "akf.kgi.uni-mannheim.de<br>URL: https://akf.kgi.uni-mannheim.de<br>Host: <br>Version: 1.38.5<br>Start Date: 2023-03-31 00:00:00+00:00<br>Active Users: 0<br>Users: 4<br>Properties: 349<br>Edits: 4155<br>Pages: 3903",
          "modelling.dissco.tech<br>URL: https://modelling.dissco.tech<br>Host: <br>Version: 1.35.5<br>Start Date: 2022-01-06 00:00:00+00:00<br>Active Users: 0<br>Users: 21<br>Properties: 48<br>Edits: 1133<br>Pages: 242",
          "data.marefa.org<br>URL: https://data.marefa.org<br>Host: <br>Version: 1.39.2<br>Start Date: 2023-03-07 00:00:00+00:00<br>Active Users: 0<br>Users: 52685<br>Properties: 1249<br>Edits: 73981646<br>Pages: 6063082",
          "kg.jstor.org<br>URL: https://kg.jstor.org<br>Host: <br>Version: 1.34.4<br>Start Date: 2019-06-22 00:00:00+00:00<br>Active Users: 0<br>Users: 14<br>Properties: 1533<br>Edits: 2531655<br>Pages: 2526035",
          "www.wikichain.io<br>URL: https://www.wikichain.io<br>Host: <br>Version: 1.39.1<br>Start Date: 2024-09-04 00:00:00+00:00<br>Active Users: 0<br>Users: 1<br>Properties: 49<br>Edits: 4677<br>Pages: 4677",
          "data.ruwiki.ru<br>URL: https://data.ruwiki.ru<br>Host: <br>Version: 1.40.0-wmf.26<br>Start Date: 2023-05-11 00:00:00+00:00<br>Active Users: 218<br>Users: 5370001<br>Properties: 11125<br>Edits: 1711913854<br>Pages: 204209422",
          "wikiar.org<br>URL: https://wikiar.org<br>Host: <br>Version: 1.41.0<br>Start Date: 2021-11-19 00:00:00+00:00<br>Active Users: 4<br>Users: 209<br>Properties: 1<br>Edits: 1694<br>Pages: 919",
          "hbag.kgi.uni-mannheim.de<br>URL: https://hbag.kgi.uni-mannheim.de<br>Host: <br>Version: 1.38.5<br>Start Date: 2024-08-27 00:00:00+00:00<br>Active Users: 0<br>Users: 1<br>Properties: 33<br>Edits: 2404<br>Pages: 1610",
          "data.pornopedia.com<br>URL: https://data.pornopedia.com<br>Host: <br>Version: 1.42.1<br>Start Date: 2014-12-26 00:00:00+00:00<br>Active Users: 1<br>Users: 161<br>Properties: 16<br>Edits: 37891<br>Pages: 22374",
          "contentdata.org<br>URL: https://contentdata.org<br>Host: <br>Version: 1.42.3<br>Start Date: 2025-01-04 00:00:00+00:00<br>Active Users: 1<br>Users: 1<br>Properties: 1<br>Edits: 6<br>Pages: 4",
          "data.dezopedie.cz<br>URL: https://data.dezopedie.cz<br>Host: <br>Version: 1.41.1<br>Start Date: 2024-06-23 00:00:00+00:00<br>Active Users: 1<br>Users: 2<br>Properties: 9<br>Edits: 19<br>Pages: 10",
          "losh.ose-germany.de<br>URL: https://losh.ose-germany.de<br>Host: <br>Version: 1.35.4<br>Start Date: 2021-12-15 00:00:00+00:00<br>Active Users: 0<br>Users: 3<br>Properties: 112<br>Edits: 1511241<br>Pages: 910055"
         ],
         "legendgrouptitle": {
          "text": "By host"
         },
         "marker": {
          "color": "#D3D3D3",
          "line": {
           "color": "black",
           "width": 1
          },
          "showscale": false,
          "size": [
           4,
           4,
           6,
           20,
           4,
           4,
           10,
           4,
           6,
           4,
           4,
           4,
           4,
           13,
           4,
           4,
           4,
           4,
           7,
           4,
           4,
           4,
           4,
           4,
           4,
           30,
           9,
           4,
           6,
           6,
           6,
           4
          ]
         },
         "mode": "markers",
         "name": "unknown (32)",
         "showlegend": true,
         "type": "scatter",
         "x": [
          -0.7781452536582947,
          -0.46752360463142395,
          -0.9804659485816956,
          0.9285777807235718,
          -0.21958301961421967,
          0.4241182804107666,
          -0.8964994549751282,
          0.5711501836776733,
          0.4185243546962738,
          0.436487290263176,
          -0.18602924048900604,
          0.3567997515201569,
          -0.7509039521217347,
          -0.6942039012908936,
          0.8716807186603547,
          0.6031584203243257,
          -0.48648842275142673,
          0.26187363564968114,
          -1.0052236676216126,
          -0.2485597223043442,
          -0.6588803052902222,
          -0.7345369338989258,
          -0.11270878314971924,
          0.9188921213150025,
          -0.48906447589397434,
          0.32664321064949037,
          0.6512080729007721,
          0.8538381576538087,
          0.1690662890672684,
          -0.98625305891037,
          0.18912647515535355,
          1.0693882405757904
         ],
         "y": [
          0.6051704287528992,
          0.6753235459327698,
          0.18332481384277344,
          0.18807311356067657,
          0.12145230919122696,
          -0.9116857647895813,
          -0.341404527425766,
          0.8260042667388916,
          -0.034224074333906174,
          0.8767450332641602,
          0.8958740234375,
          -1.0461996316909792,
          -0.7425643980503083,
          -0.6538925707340241,
          0.7100172221660614,
          0.9262852430343629,
          -0.9417675912380219,
          0.8745278179645539,
          -0.4747763961553574,
          1.078825092315674,
          0.8179143130779267,
          -0.7760791838169099,
          1.0586459875106813,
          0.5968452215194703,
          0.7819834530353547,
          1.062174701690674,
          0.8673276543617249,
          0.6713513135910034,
          -0.9555069565773011,
          -0.13114405274391175,
          -1.058305311203003,
          0.0873374953866005
         ]
        },
        {
         "hoverinfo": "text",
         "hovertext": [
          "The Digital Narrative Knowledge Base<br>URL: https://cellwiki.cdn.uib.no<br>Host: The Wikibase Consultancy<br>Version: 1.39.11<br>Start Date: 2024-03-14 00:00:00+00:00<br>Active Users: 2<br>Users: 6<br>Properties: 89<br>Edits: 7561<br>Pages: 6788",
          "Kunstmuseum API<br>URL: https://api.kunstmuseum.nl/<br>Host: The Wikibase Consultancy<br>Version: 1.39.11<br>Start Date: 2020-06-11 00:00:00+00:00<br>Active Users: 2<br>Users: 18<br>Properties: 114<br>Edits: 465694<br>Pages: 42900",
          "Wikibase EDTF - Demo Wiki<br>URL: https://edtf.wikibase.wiki<br>Host: The Wikibase Consultancy<br>Version: 1.39.11<br>Start Date: 2022-01-26 00:00:00+00:00<br>Active Users: 1<br>Users: 17<br>Properties: 3<br>Edits: 743<br>Pages: 14",
          "Wikibase Automated Values - Demo Wiki<br>URL: https://automated.wikibase.wiki<br>Host: The Wikibase Consultancy<br>Version: 1.39.11<br>Start Date: 2022-03-25 00:00:00+00:00<br>Active Users: 0<br>Users: 36<br>Properties: 5<br>Edits: 834<br>Pages: 28",
          "Wikibase RDF - Demo Wiki<br>URL: https://rdf.wikibase.wiki<br>Host: The Wikibase Consultancy<br>Version: 1.39.11<br>Start Date: 2022-07-22 00:00:00+00:00<br>Active Users: 0<br>Users: 7<br>Properties: 6<br>Edits: 67<br>Pages: 22",
          "Wikibase Export - Demo Wiki<br>URL: https://export.wikibase.wiki<br>Host: The Wikibase Consultancy<br>Version: 1.39.11<br>Start Date: 2022-11-23 00:00:00+00:00<br>Active Users: 1<br>Users: 5<br>Properties: 9<br>Edits: 149<br>Pages: 36"
         ],
         "legendgrouptitle": {
          "text": "By host"
         },
         "marker": {
          "color": "#6283ca",
          "line": {
           "color": "black",
           "width": 1
          },
          "showscale": false,
          "size": [
           7,
           7,
           6,
           4,
           4,
           6
          ]
         },
         "mode": "markers",
         "name": "The Wikibase Consultancy (6)",
         "showlegend": true,
         "type": "scatter",
         "x": [
          0.8004568815231323,
          -0.7576995134353638,
          -0.8990823030471802,
          -0.16069831252098085,
          0.3867526471614838,
          -0.019515104405581952
         ],
         "y": [
          -0.6780306696891785,
          -0.8232121706008911,
          0.24162529408931732,
          -1.0268941819667816,
          0.9151503205299378,
          -0.987563705444336
         ]
        },
        {
         "hoverinfo": "text",
         "hovertext": [
          "Gratisdata<br>URL: https://gratisdata.miraheze.org<br>Host: Miraheze<br>Version: 1.43.0<br>Start Date: 2021-11-12 00:00:00+00:00<br>Active Users: 2<br>Users: 259<br>Properties: 824<br>Edits: 40370<br>Pages: 9121"
         ],
         "legendgrouptitle": {
          "text": "By host"
         },
         "marker": {
          "color": "#5cd45b",
          "line": {
           "color": "black",
           "width": 1
          },
          "showscale": false,
          "size": [
           7
          ]
         },
         "mode": "markers",
         "name": "Miraheze (1)",
         "showlegend": true,
         "type": "scatter",
         "x": [
          0.0599554143846035
         ],
         "y": [
          0.3170776069164276
         ]
        },
        {
         "hoverinfo": "text",
         "hovertext": [
          "Wikidocumentaries<br>URL: https://wikidocumentaries.wmflabs.org/<br>Host: Wikimedia Cloud Services<br>Version: 1.32.5<br>Start Date: 2018-04-23 00:00:00+00:00<br>Active Users: 0<br>Users: 3729<br>Properties: 5126<br>Edits: 29206<br>Pages: 5528"
         ],
         "legendgrouptitle": {
          "text": "By host"
         },
         "marker": {
          "color": "#f11fbe",
          "line": {
           "color": "black",
           "width": 1
          },
          "showscale": false,
          "size": [
           4
          ]
         },
         "mode": "markers",
         "name": "Wikimedia Cloud Services (1)",
         "showlegend": true,
         "type": "scatter",
         "x": [
          0.17956550866365434
         ],
         "y": [
          1.078820699453354
         ]
        }
       ],
       "layout": {
        "annotations": [
         {
          "showarrow": false,
          "text": "",
          "xref": "paper",
          "yref": "paper"
         }
        ],
        "height": 800,
        "hovermode": "closest",
        "margin": {
         "b": 20,
         "l": 5,
         "r": 5,
         "t": 40
        },
        "showlegend": true,
        "template": {
         "data": {
          "bar": [
           {
            "error_x": {
             "color": "#2a3f5f"
            },
            "error_y": {
             "color": "#2a3f5f"
            },
            "marker": {
             "line": {
              "color": "#E5ECF6",
              "width": 0.5
             },
             "pattern": {
              "fillmode": "overlay",
              "size": 10,
              "solidity": 0.2
             }
            },
            "type": "bar"
           }
          ],
          "barpolar": [
           {
            "marker": {
             "line": {
              "color": "#E5ECF6",
              "width": 0.5
             },
             "pattern": {
              "fillmode": "overlay",
              "size": 10,
              "solidity": 0.2
             }
            },
            "type": "barpolar"
           }
          ],
          "carpet": [
           {
            "aaxis": {
             "endlinecolor": "#2a3f5f",
             "gridcolor": "white",
             "linecolor": "white",
             "minorgridcolor": "white",
             "startlinecolor": "#2a3f5f"
            },
            "baxis": {
             "endlinecolor": "#2a3f5f",
             "gridcolor": "white",
             "linecolor": "white",
             "minorgridcolor": "white",
             "startlinecolor": "#2a3f5f"
            },
            "type": "carpet"
           }
          ],
          "choropleth": [
           {
            "colorbar": {
             "outlinewidth": 0,
             "ticks": ""
            },
            "type": "choropleth"
           }
          ],
          "contour": [
           {
            "colorbar": {
             "outlinewidth": 0,
             "ticks": ""
            },
            "colorscale": [
             [
              0,
              "#0d0887"
             ],
             [
              0.1111111111111111,
              "#46039f"
             ],
             [
              0.2222222222222222,
              "#7201a8"
             ],
             [
              0.3333333333333333,
              "#9c179e"
             ],
             [
              0.4444444444444444,
              "#bd3786"
             ],
             [
              0.5555555555555556,
              "#d8576b"
             ],
             [
              0.6666666666666666,
              "#ed7953"
             ],
             [
              0.7777777777777778,
              "#fb9f3a"
             ],
             [
              0.8888888888888888,
              "#fdca26"
             ],
             [
              1,
              "#f0f921"
             ]
            ],
            "type": "contour"
           }
          ],
          "contourcarpet": [
           {
            "colorbar": {
             "outlinewidth": 0,
             "ticks": ""
            },
            "type": "contourcarpet"
           }
          ],
          "heatmap": [
           {
            "colorbar": {
             "outlinewidth": 0,
             "ticks": ""
            },
            "colorscale": [
             [
              0,
              "#0d0887"
             ],
             [
              0.1111111111111111,
              "#46039f"
             ],
             [
              0.2222222222222222,
              "#7201a8"
             ],
             [
              0.3333333333333333,
              "#9c179e"
             ],
             [
              0.4444444444444444,
              "#bd3786"
             ],
             [
              0.5555555555555556,
              "#d8576b"
             ],
             [
              0.6666666666666666,
              "#ed7953"
             ],
             [
              0.7777777777777778,
              "#fb9f3a"
             ],
             [
              0.8888888888888888,
              "#fdca26"
             ],
             [
              1,
              "#f0f921"
             ]
            ],
            "type": "heatmap"
           }
          ],
          "heatmapgl": [
           {
            "colorbar": {
             "outlinewidth": 0,
             "ticks": ""
            },
            "colorscale": [
             [
              0,
              "#0d0887"
             ],
             [
              0.1111111111111111,
              "#46039f"
             ],
             [
              0.2222222222222222,
              "#7201a8"
             ],
             [
              0.3333333333333333,
              "#9c179e"
             ],
             [
              0.4444444444444444,
              "#bd3786"
             ],
             [
              0.5555555555555556,
              "#d8576b"
             ],
             [
              0.6666666666666666,
              "#ed7953"
             ],
             [
              0.7777777777777778,
              "#fb9f3a"
             ],
             [
              0.8888888888888888,
              "#fdca26"
             ],
             [
              1,
              "#f0f921"
             ]
            ],
            "type": "heatmapgl"
           }
          ],
          "histogram": [
           {
            "marker": {
             "pattern": {
              "fillmode": "overlay",
              "size": 10,
              "solidity": 0.2
             }
            },
            "type": "histogram"
           }
          ],
          "histogram2d": [
           {
            "colorbar": {
             "outlinewidth": 0,
             "ticks": ""
            },
            "colorscale": [
             [
              0,
              "#0d0887"
             ],
             [
              0.1111111111111111,
              "#46039f"
             ],
             [
              0.2222222222222222,
              "#7201a8"
             ],
             [
              0.3333333333333333,
              "#9c179e"
             ],
             [
              0.4444444444444444,
              "#bd3786"
             ],
             [
              0.5555555555555556,
              "#d8576b"
             ],
             [
              0.6666666666666666,
              "#ed7953"
             ],
             [
              0.7777777777777778,
              "#fb9f3a"
             ],
             [
              0.8888888888888888,
              "#fdca26"
             ],
             [
              1,
              "#f0f921"
             ]
            ],
            "type": "histogram2d"
           }
          ],
          "histogram2dcontour": [
           {
            "colorbar": {
             "outlinewidth": 0,
             "ticks": ""
            },
            "colorscale": [
             [
              0,
              "#0d0887"
             ],
             [
              0.1111111111111111,
              "#46039f"
             ],
             [
              0.2222222222222222,
              "#7201a8"
             ],
             [
              0.3333333333333333,
              "#9c179e"
             ],
             [
              0.4444444444444444,
              "#bd3786"
             ],
             [
              0.5555555555555556,
              "#d8576b"
             ],
             [
              0.6666666666666666,
              "#ed7953"
             ],
             [
              0.7777777777777778,
              "#fb9f3a"
             ],
             [
              0.8888888888888888,
              "#fdca26"
             ],
             [
              1,
              "#f0f921"
             ]
            ],
            "type": "histogram2dcontour"
           }
          ],
          "mesh3d": [
           {
            "colorbar": {
             "outlinewidth": 0,
             "ticks": ""
            },
            "type": "mesh3d"
           }
          ],
          "parcoords": [
           {
            "line": {
             "colorbar": {
              "outlinewidth": 0,
              "ticks": ""
             }
            },
            "type": "parcoords"
           }
          ],
          "pie": [
           {
            "automargin": true,
            "type": "pie"
           }
          ],
          "scatter": [
           {
            "fillpattern": {
             "fillmode": "overlay",
             "size": 10,
             "solidity": 0.2
            },
            "type": "scatter"
           }
          ],
          "scatter3d": [
           {
            "line": {
             "colorbar": {
              "outlinewidth": 0,
              "ticks": ""
             }
            },
            "marker": {
             "colorbar": {
              "outlinewidth": 0,
              "ticks": ""
             }
            },
            "type": "scatter3d"
           }
          ],
          "scattercarpet": [
           {
            "marker": {
             "colorbar": {
              "outlinewidth": 0,
              "ticks": ""
             }
            },
            "type": "scattercarpet"
           }
          ],
          "scattergeo": [
           {
            "marker": {
             "colorbar": {
              "outlinewidth": 0,
              "ticks": ""
             }
            },
            "type": "scattergeo"
           }
          ],
          "scattergl": [
           {
            "marker": {
             "colorbar": {
              "outlinewidth": 0,
              "ticks": ""
             }
            },
            "type": "scattergl"
           }
          ],
          "scattermapbox": [
           {
            "marker": {
             "colorbar": {
              "outlinewidth": 0,
              "ticks": ""
             }
            },
            "type": "scattermapbox"
           }
          ],
          "scatterpolar": [
           {
            "marker": {
             "colorbar": {
              "outlinewidth": 0,
              "ticks": ""
             }
            },
            "type": "scatterpolar"
           }
          ],
          "scatterpolargl": [
           {
            "marker": {
             "colorbar": {
              "outlinewidth": 0,
              "ticks": ""
             }
            },
            "type": "scatterpolargl"
           }
          ],
          "scatterternary": [
           {
            "marker": {
             "colorbar": {
              "outlinewidth": 0,
              "ticks": ""
             }
            },
            "type": "scatterternary"
           }
          ],
          "surface": [
           {
            "colorbar": {
             "outlinewidth": 0,
             "ticks": ""
            },
            "colorscale": [
             [
              0,
              "#0d0887"
             ],
             [
              0.1111111111111111,
              "#46039f"
             ],
             [
              0.2222222222222222,
              "#7201a8"
             ],
             [
              0.3333333333333333,
              "#9c179e"
             ],
             [
              0.4444444444444444,
              "#bd3786"
             ],
             [
              0.5555555555555556,
              "#d8576b"
             ],
             [
              0.6666666666666666,
              "#ed7953"
             ],
             [
              0.7777777777777778,
              "#fb9f3a"
             ],
             [
              0.8888888888888888,
              "#fdca26"
             ],
             [
              1,
              "#f0f921"
             ]
            ],
            "type": "surface"
           }
          ],
          "table": [
           {
            "cells": {
             "fill": {
              "color": "#EBF0F8"
             },
             "line": {
              "color": "white"
             }
            },
            "header": {
             "fill": {
              "color": "#C8D4E3"
             },
             "line": {
              "color": "white"
             }
            },
            "type": "table"
           }
          ]
         },
         "layout": {
          "annotationdefaults": {
           "arrowcolor": "#2a3f5f",
           "arrowhead": 0,
           "arrowwidth": 1
          },
          "autotypenumbers": "strict",
          "coloraxis": {
           "colorbar": {
            "outlinewidth": 0,
            "ticks": ""
           }
          },
          "colorscale": {
           "diverging": [
            [
             0,
             "#8e0152"
            ],
            [
             0.1,
             "#c51b7d"
            ],
            [
             0.2,
             "#de77ae"
            ],
            [
             0.3,
             "#f1b6da"
            ],
            [
             0.4,
             "#fde0ef"
            ],
            [
             0.5,
             "#f7f7f7"
            ],
            [
             0.6,
             "#e6f5d0"
            ],
            [
             0.7,
             "#b8e186"
            ],
            [
             0.8,
             "#7fbc41"
            ],
            [
             0.9,
             "#4d9221"
            ],
            [
             1,
             "#276419"
            ]
           ],
           "sequential": [
            [
             0,
             "#0d0887"
            ],
            [
             0.1111111111111111,
             "#46039f"
            ],
            [
             0.2222222222222222,
             "#7201a8"
            ],
            [
             0.3333333333333333,
             "#9c179e"
            ],
            [
             0.4444444444444444,
             "#bd3786"
            ],
            [
             0.5555555555555556,
             "#d8576b"
            ],
            [
             0.6666666666666666,
             "#ed7953"
            ],
            [
             0.7777777777777778,
             "#fb9f3a"
            ],
            [
             0.8888888888888888,
             "#fdca26"
            ],
            [
             1,
             "#f0f921"
            ]
           ],
           "sequentialminus": [
            [
             0,
             "#0d0887"
            ],
            [
             0.1111111111111111,
             "#46039f"
            ],
            [
             0.2222222222222222,
             "#7201a8"
            ],
            [
             0.3333333333333333,
             "#9c179e"
            ],
            [
             0.4444444444444444,
             "#bd3786"
            ],
            [
             0.5555555555555556,
             "#d8576b"
            ],
            [
             0.6666666666666666,
             "#ed7953"
            ],
            [
             0.7777777777777778,
             "#fb9f3a"
            ],
            [
             0.8888888888888888,
             "#fdca26"
            ],
            [
             1,
             "#f0f921"
            ]
           ]
          },
          "colorway": [
           "#636efa",
           "#EF553B",
           "#00cc96",
           "#ab63fa",
           "#FFA15A",
           "#19d3f3",
           "#FF6692",
           "#B6E880",
           "#FF97FF",
           "#FECB52"
          ],
          "font": {
           "color": "#2a3f5f"
          },
          "geo": {
           "bgcolor": "white",
           "lakecolor": "white",
           "landcolor": "#E5ECF6",
           "showlakes": true,
           "showland": true,
           "subunitcolor": "white"
          },
          "hoverlabel": {
           "align": "left"
          },
          "hovermode": "closest",
          "mapbox": {
           "style": "light"
          },
          "paper_bgcolor": "white",
          "plot_bgcolor": "#E5ECF6",
          "polar": {
           "angularaxis": {
            "gridcolor": "white",
            "linecolor": "white",
            "ticks": ""
           },
           "bgcolor": "#E5ECF6",
           "radialaxis": {
            "gridcolor": "white",
            "linecolor": "white",
            "ticks": ""
           }
          },
          "scene": {
           "xaxis": {
            "backgroundcolor": "#E5ECF6",
            "gridcolor": "white",
            "gridwidth": 2,
            "linecolor": "white",
            "showbackground": true,
            "ticks": "",
            "zerolinecolor": "white"
           },
           "yaxis": {
            "backgroundcolor": "#E5ECF6",
            "gridcolor": "white",
            "gridwidth": 2,
            "linecolor": "white",
            "showbackground": true,
            "ticks": "",
            "zerolinecolor": "white"
           },
           "zaxis": {
            "backgroundcolor": "#E5ECF6",
            "gridcolor": "white",
            "gridwidth": 2,
            "linecolor": "white",
            "showbackground": true,
            "ticks": "",
            "zerolinecolor": "white"
           }
          },
          "shapedefaults": {
           "line": {
            "color": "#2a3f5f"
           }
          },
          "ternary": {
           "aaxis": {
            "gridcolor": "white",
            "linecolor": "white",
            "ticks": ""
           },
           "baxis": {
            "gridcolor": "white",
            "linecolor": "white",
            "ticks": ""
           },
           "bgcolor": "#E5ECF6",
           "caxis": {
            "gridcolor": "white",
            "linecolor": "white",
            "ticks": ""
           }
          },
          "title": {
           "x": 0.05
          },
          "xaxis": {
           "automargin": true,
           "gridcolor": "white",
           "linecolor": "white",
           "ticks": "",
           "title": {
            "standoff": 15
           },
           "zerolinecolor": "white",
           "zerolinewidth": 2
          },
          "yaxis": {
           "automargin": true,
           "gridcolor": "white",
           "linecolor": "white",
           "ticks": "",
           "title": {
            "standoff": 15
           },
           "zerolinecolor": "white",
           "zerolinewidth": 2
          }
         }
        },
        "title": {
         "font": {
          "size": 16
         },
         "text": "Wikibases, and links, sized by # of active users"
        },
        "xaxis": {
         "showgrid": false,
         "zeroline": false
        },
        "yaxis": {
         "showgrid": false,
         "zeroline": false
        }
       }
      },
      "text/html": [
       "<div>                            <div id=\"067fccfd-3eb0-439c-96e0-798deb1382f0\" class=\"plotly-graph-div\" style=\"height:800px; width:100%;\"></div>            <script type=\"text/javascript\">                require([\"plotly\"], function(Plotly) {                    window.PLOTLYENV=window.PLOTLYENV || {};                                    if (document.getElementById(\"067fccfd-3eb0-439c-96e0-798deb1382f0\")) {                    Plotly.newPlot(                        \"067fccfd-3eb0-439c-96e0-798deb1382f0\",                        [{\"hoverinfo\":\"none\",\"line\":{\"color\":\"#888\",\"width\":0.3},\"mode\":\"lines\",\"showlegend\":false,\"x\":[-0.056497830897569656,-0.23291271924972534,null,-0.056497830897569656,-0.7306130528450012,null,-0.056497830897569656,-0.07599025964736938,null,-0.056497830897569656,-0.9412896037101746,null,-0.056497830897569656,0.9128941297531128,null,-0.056497830897569656,-0.3471323847770691,null,-0.056497830897569656,-0.8136290311813354,null,-0.056497830897569656,-0.13600589334964752,null,-0.056497830897569656,-0.2997654974460602,null,-0.056497830897569656,-0.6824083924293518,null,-0.056497830897569656,0.6874262094497681,null,-0.056497830897569656,0.8637293577194214,null,-0.056497830897569656,0.7270346283912659,null,-0.056497830897569656,0.3824869394302368,null,-0.056497830897569656,0.5715357661247253,null,-0.056497830897569656,-0.7121060490608215,null,-0.056497830897569656,-0.9591342210769653,null,-0.056497830897569656,-0.7089324593544006,null,-0.056497830897569656,-0.9281290173530579,null,-0.056497830897569656,-0.18457631766796112,null,-0.056497830897569656,-0.9197848439216614,null,-0.056497830897569656,0.7717975974082947,null,-0.056497830897569656,-0.7840180993080139,null,-0.056497830897569656,0.9251343607902527,null,-0.056497830897569656,-0.36697831749916077,null,-0.056497830897569656,-0.24235592782497406,null,-0.056497830897569656,0.5353469252586365,null,-0.056497830897569656,-0.9488878846168518,null,-0.056497830897569656,-0.03931612893939018,null,-0.056497830897569656,-0.4334315061569214,null,-0.056497830897569656,0.2461300939321518,null,-0.056497830897569656,0.23443296551704407,null,-0.056497830897569656,1.0,null,-0.056497830897569656,-0.93487149477005,null,-0.056497830897569656,0.07381103187799454,null,-0.056497830897569656,-0.7206143140792847,null,-0.056497830897569656,0.3620055913925171,null,-0.056497830897569656,0.5693581104278564,null,-0.056497830897569656,0.9894633293151855,null,-0.056497830897569656,0.7373968958854675,null,-0.056497830897569656,-0.21763885021209717,null,-0.056497830897569656,-0.5602665543556213,null,-0.056497830897569656,0.9512783885002136,null,-0.056497830897569656,-0.7186179161071777,null,-0.056497830897569656,0.2313080132007599,null,-0.056497830897569656,0.02674301527440548,null,-0.056497830897569656,-0.8261695504188538,null,-0.056497830897569656,-0.4228362441062927,null,-0.056497830897569656,-0.8389357328414917,null,-0.056497830897569656,-0.3970528244972229,null,-0.056497830897569656,-0.7568638324737549,null,-0.056497830897569656,0.28143641352653503,null,-0.056497830897569656,-0.6843856573104858,null,-0.056497830897569656,-0.33293190598487854,null,-0.056497830897569656,-0.07347941398620605,null,-0.056497830897569656,0.106473907828331,null,-0.056497830897569656,-0.8742112517356873,null,-0.056497830897569656,0.9030598998069763,null,-0.056497830897569656,0.6299130916595459,null,-0.056497830897569656,0.9478294253349304,null,-0.056497830897569656,-0.8894802331924438,null,-0.056497830897569656,0.08020374178886414,null,-0.056497830897569656,0.8026533126831055,null,-0.056497830897569656,-0.960273027420044,null,-0.056497830897569656,0.12321444600820541,null,-0.056497830897569656,0.9506925940513611,null,-0.056497830897569656,-0.8737671375274658,null,-0.056497830897569656,0.9002596735954285,null,-0.056497830897569656,0.4230141043663025,null,-0.056497830897569656,-0.6783490777015686,null,-0.056497830897569656,0.9239130616188049,null,-0.056497830897569656,-0.37045401334762573,null,-0.056497830897569656,-0.6958853602409363,null,-0.056497830897569656,-0.8987557888031006,null,-0.056497830897569656,-0.5907180309295654,null,-0.056497830897569656,0.0006113341660238802,null,-0.056497830897569656,-0.5605118274688721,null,-0.056497830897569656,0.4882308542728424,null,-0.056497830897569656,0.870083749294281,null,-0.056497830897569656,-0.7781452536582947,null,-0.056497830897569656,-0.9917252659797668,null,-0.056497830897569656,-0.6403512954711914,null,-0.056497830897569656,-0.9355241060256958,null,-0.056497830897569656,-0.46752360463142395,null,-0.056497830897569656,-0.9237856864929199,null,-0.056497830897569656,0.964890718460083,null,-0.056497830897569656,-0.1754755675792694,null,-0.056497830897569656,0.06477303802967072,null,-0.056497830897569656,0.2974141240119934,null,-0.056497830897569656,-0.4721892774105072,null,-0.056497830897569656,0.1402045041322708,null,-0.056497830897569656,0.9465474486351013,null,-0.056497830897569656,-0.2850617468357086,null,-0.056497830897569656,-0.6559295058250427,null,-0.056497830897569656,-0.9462334513664246,null,-0.056497830897569656,0.8670547008514404,null,-0.056497830897569656,-0.8947309255599976,null,-0.056497830897569656,0.4952211081981659,null,-0.056497830897569656,-0.5454658269882202,null,-0.056497830897569656,-0.24894139170646667,null,-0.056497830897569656,0.13415831327438354,null,-0.056497830897569656,0.1706348955631256,null,-0.056497830897569656,-0.9804659485816956,null,-0.056497830897569656,0.14665856957435608,null,-0.056497830897569656,0.7763124704360962,null,-0.056497830897569656,0.9285777807235718,null,-0.056497830897569656,-0.21958301961421967,null,-0.056497830897569656,0.23485367000102997,null,-0.056497830897569656,-0.591700553894043,null,-0.056497830897569656,0.4725334048271179,null,-0.056497830897569656,0.33518582582473755,null,-0.056497830897569656,0.4954241216182709,null,-0.056497830897569656,-0.44932156801223755,null,-0.056497830897569656,-0.8676626086235046,null,-0.056497830897569656,0.7296130061149597,null,-0.056497830897569656,0.33546409010887146,null,-0.056497830897569656,-0.42994970083236694,null,-0.056497830897569656,0.10363922268152237,null,-0.056497830897569656,-0.11928527802228928,null,-0.056497830897569656,0.27021580934524536,null,-0.056497830897569656,0.4329805374145508,null,-0.056497830897569656,-0.5518348217010498,null,-0.056497830897569656,-0.641454815864563,null,-0.056497830897569656,-0.8877858519554138,null,-0.056497830897569656,-0.12249347567558289,null,-0.056497830897569656,-0.41095009446144104,null,-0.056497830897569656,-0.312740683555603,null,-0.056497830897569656,0.9455309510231018,null,-0.056497830897569656,-0.1393761783838272,null,-0.056497830897569656,-0.8833709955215454,null,-0.056497830897569656,-0.7922736406326294,null,-0.056497830897569656,0.8767719268798828,null,-0.056497830897569656,-0.12300878018140793,null,-0.056497830897569656,0.6216619610786438,null,-0.056497830897569656,-0.46828123927116394,null,-0.056497830897569656,0.9319640398025513,null,-0.056497830897569656,0.500923216342926,null,-0.056497830897569656,-0.33097049593925476,null,-0.056497830897569656,-0.3612339496612549,null,-0.056497830897569656,0.9805260300636292,null,-0.056497830897569656,0.16785402595996857,null,-0.056497830897569656,-0.4073507487773895,null,-0.056497830897569656,0.5562052726745605,null,-0.056497830897569656,0.5772682428359985,null,-0.056497830897569656,0.841198205947876,null,-0.056497830897569656,-0.7082419991493225,null,-0.056497830897569656,0.20795772969722748,null,-0.056497830897569656,-0.5068020224571228,null,-0.056497830897569656,0.40493243932724,null,-0.056497830897569656,0.22442714869976044,null,-0.056497830897569656,-0.878007709980011,null,-0.056497830897569656,-0.9394093751907349,null,-0.056497830897569656,-0.6937933564186096,null,-0.056497830897569656,0.3909893035888672,null,-0.056497830897569656,-0.6801580190658569,null,-0.056497830897569656,0.26846209168434143,null,-0.056497830897569656,0.020920461043715477,null,-0.056497830897569656,0.6977906823158264,null,-0.056497830897569656,0.4241182804107666,null,-0.056497830897569656,0.21959468722343445,null,-0.056497830897569656,-0.511855959892273,null,-0.056497830897569656,0.9363580346107483,null,-0.056497830897569656,0.8004568815231323,null,-0.056497830897569656,0.003402958856895566,null,-0.056497830897569656,-0.2767179608345032,null,-0.056497830897569656,-0.7493588924407959,null,-0.056497830897569656,-0.8981408476829529,null,-0.056497830897569656,0.9429967403411865,null,-0.056497830897569656,0.8287575840950012,null,-0.056497830897569656,-0.8555760979652405,null,-0.056497830897569656,0.0599554143846035,null,-0.056497830897569656,-0.3048098683357239,null,-0.056497830897569656,-0.8964994549751282,null,-0.056497830897569656,-0.6544007062911987,null,-0.056497830897569656,0.5711501836776733,null,-0.056497830897569656,-0.45757365226745605,null,-0.056497830897569656,0.26745545864105225,null,-0.056497830897569656,-0.10082612931728363,null,-0.056497830897569656,0.5823481678962708,null,-0.056497830897569656,0.08426815271377563,null,-0.056497830897569656,-0.7425892353057861,null,-0.056497830897569656,-0.5243342518806458,null,-0.056497830897569656,-0.97474205493927,null,-0.056497830897569656,-0.34022587537765503,null,-0.056497830897569656,0.23585772514343262,null,-0.056497830897569656,-0.43407800793647766,null,-0.056497830897569656,-0.14464372396469116,null,-0.056497830897569656,-0.7110042572021484,null,-0.056497830897569656,-0.9786335825920105,null,-0.056497830897569656,0.14955449104309082,null,-0.056497830897569656,0.4185243546962738,null,-0.056497830897569656,0.30701974034309387,null,-0.056497830897569656,0.306083083152771,null,-0.056497830897569656,0.7330315709114075,null,-0.056497830897569656,0.5996460914611816,null,-0.056497830897569656,-0.011921708472073078,null,-0.056497830897569656,-0.828635036945343,null,-0.056497830897569656,-0.9464807510375977,null,-0.056497830897569656,-0.017369993031024933,null,-0.056497830897569656,-0.2707458734512329,null,-0.9412896037101746,-0.2707458734512329,null,-0.13600589334964752,-0.6391891837120056,null,-0.2997654974460602,0.23443296551704407,null,-0.9591342210769653,-0.2020290195941925,null,-0.9591342210769653,-0.11443927884101868,null,-0.9281290173530579,-0.4334315061569214,null,-0.36697831749916077,-0.8990823030471802,null,-0.24235592782497406,0.02908475138247013,null,-0.4334315061569214,0.4230141043663025,null,-0.4334315061569214,-0.8261695504188538,null,-0.4334315061569214,-0.8947309255599976,null,-0.4334315061569214,-0.6937933564186096,null,0.2461300939321518,0.14665856957435608,null,0.23443296551704407,0.16785402595996857,null,0.23443296551704407,0.003402958856895566,null,0.23443296551704407,0.0599554143846035,null,0.07381103187799454,0.02908475138247013,null,0.5693581104278564,0.02908475138247013,null,0.2313080132007599,0.02908475138247013,null,0.2313080132007599,0.4778372645378113,null,-0.8742112517356873,0.12321444600820541,null,-0.9355241060256958,-0.2707458734512329,null,-0.46752360463142395,-0.6391891837120056,null,-0.4721892774105072,0.02908475138247013,null,-0.2850617468357086,0.02908475138247013,null,0.13415831327438354,-0.2707458734512329,null,0.13415831327438354,-0.1393761783838272,null,0.13415831327438354,0.14665856957435608,null,0.13415831327438354,0.34770509600639343,null,0.13415831327438354,-0.12249347567558289,null,-0.9804659485816956,0.02908475138247013,null,-0.9804659485816956,-0.6391891837120056,null,0.14665856957435608,-0.2707458734512329,null,0.14665856957435608,-0.1393761783838272,null,0.14665856957435608,-0.12249347567558289,null,0.14665856957435608,0.34770509600639343,null,0.14665856957435608,0.706032931804657,null,0.7763124704360962,0.02908475138247013,null,-0.21958301961421967,0.02908475138247013,null,-0.21958301961421967,-0.11443927884101868,null,-0.21958301961421967,0.8038076162338257,null,-0.11928527802228928,-0.2707458734512329,null,-0.11928527802228928,-0.6391891837120056,null,-0.12249347567558289,-0.2707458734512329,null,-0.12249347567558289,-0.1393761783838272,null,-0.12249347567558289,0.34770509600639343,null,-0.12249347567558289,-0.7982434034347534,null,-0.12249347567558289,0.9837822318077087,null,-0.1393761783838272,-0.2707458734512329,null,-0.1393761783838272,0.34770509600639343,null,0.9319640398025513,0.08426815271377563,null,0.16785402595996857,0.02908475138247013,null,0.16785402595996857,0.33253419399261475,null,0.16785402595996857,0.5451072454452515,null,-0.5068020224571228,0.02908475138247013,null,0.4241182804107666,0.02908475138247013,null,0.21959468722343445,-0.49894991517066956,null,0.003402958856895566,0.02908475138247013,null,0.003402958856895566,0.33253419399261475,null,-0.2767179608345032,0.02908475138247013,null,0.8287575840950012,0.02908475138247013,null,0.0599554143846035,0.02908475138247013,null,0.0599554143846035,-0.11443927884101868,null,-0.6544007062911987,-0.6391891837120056,null,-0.6544007062911987,-0.18602924048900604,null,0.26745545864105225,0.02908475138247013,null,-0.97474205493927,0.02908475138247013,null,-0.34022587537765503,0.02908475138247013,null,-0.34022587537765503,-0.49894991517066956,null,-0.34022587537765503,-0.2020290195941925,null,-0.34022587537765503,-0.11443927884101868,null,-0.14464372396469116,0.02908475138247013,null,-0.14464372396469116,-0.11443927884101868,null,0.4185243546962738,0.47265008091926575,null,0.02908475138247013,0.43863725662231445,null,0.02908475138247013,-0.5660119652748108,null,0.02908475138247013,-0.5678055286407471,null,0.02908475138247013,0.9955928921699524,null,0.02908475138247013,0.9525139331817627,null,0.02908475138247013,-0.2707458734512329,null,-0.2707458734512329,0.34770509600639343,null,0.49663618206977844,-0.04616199806332588,null,0.4800666868686676,0.12164656817913055,null],\"y\":[-0.025691520422697067,-0.9620618224143982,null,-0.025691520422697067,0.571748673915863,null,-0.025691520422697067,-0.9644680619239807,null,-0.025691520422697067,0.2540864646434784,null,-0.025691520422697067,-0.13198493421077728,null,-0.025691520422697067,-0.4303424656391144,null,-0.025691520422697067,0.5387468338012695,null,-0.025691520422697067,0.523352861404419,null,-0.025691520422697067,-0.08361111581325531,null,-0.025691520422697067,-0.6249476671218872,null,-0.025691520422697067,-0.7639161944389343,null,-0.025691520422697067,0.3786962032318115,null,-0.025691520422697067,0.678403913974762,null,-0.025691520422697067,0.2616157531738281,null,-0.025691520422697067,-0.8461959958076477,null,-0.025691520422697067,-0.5864048600196838,null,-0.025691520422697067,0.22145064175128937,null,-0.025691520422697067,0.27889779210090637,null,-0.025691520422697067,-0.22409792244434357,null,-0.025691520422697067,-0.44557368755340576,null,-0.025691520422697067,-0.07139741629362106,null,-0.025691520422697067,-0.6525972485542297,null,-0.025691520422697067,-0.5558801293373108,null,-0.025691520422697067,-0.09494958072900772,null,-0.025691520422697067,0.44548657536506653,null,-0.025691520422697067,0.01803046464920044,null,-0.025691520422697067,-0.7721273303031921,null,-0.025691520422697067,0.27644336223602295,null,-0.025691520422697067,0.9931951761245728,null,-0.025691520422697067,-0.046137887984514236,null,-0.025691520422697067,-0.4475809633731842,null,-0.025691520422697067,0.5759146809577942,null,-0.025691520422697067,-0.013952615670859814,null,-0.025691520422697067,0.1703740656375885,null,-0.025691520422697067,-0.9877490401268005,null,-0.025691520422697067,0.6555641293525696,null,-0.025691520422697067,-0.2056596428155899,null,-0.025691520422697067,-0.37950482964515686,null,-0.025691520422697067,-0.1817283034324646,null,-0.025691520422697067,-0.7198925018310547,null,-0.025691520422697067,-0.9121523499488831,null,-0.025691520422697067,-0.7893646955490112,null,-0.025691520422697067,0.2209417074918747,null,-0.025691520422697067,0.6856945157051086,null,-0.025691520422697067,-0.5181118845939636,null,-0.025691520422697067,0.9459079504013062,null,-0.025691520422697067,0.4396592378616333,null,-0.025691520422697067,-0.909629225730896,null,-0.025691520422697067,0.525786817073822,null,-0.025691520422697067,-0.9149564504623413,null,-0.025691520422697067,0.6355929374694824,null,-0.025691520422697067,0.30538514256477356,null,-0.025691520422697067,-0.1765899807214737,null,-0.025691520422697067,0.8479202389717102,null,-0.025691520422697067,0.7202871441841125,null,-0.025691520422697067,0.9138413667678833,null,-0.025691520422697067,0.013656080700457096,null,-0.025691520422697067,0.42542538046836853,null,-0.025691520422697067,-0.7712512016296387,null,-0.025691520422697067,-0.12549157440662384,null,-0.025691520422697067,-0.3746807873249054,null,-0.025691520422697067,-0.4689205586910248,null,-0.025691520422697067,-0.5117790102958679,null,-0.025691520422697067,0.13433584570884705,null,-0.025691520422697067,0.03418843075633049,null,-0.025691520422697067,-0.35859426856040955,null,-0.025691520422697067,0.40385541319847107,null,-0.025691520422697067,-0.45357561111450195,null,-0.025691520422697067,-0.7340983152389526,null,-0.025691520422697067,0.7486658096313477,null,-0.025691520422697067,-0.4300721287727356,null,-0.025691520422697067,0.9264667630195618,null,-0.025691520422697067,-0.7186660170555115,null,-0.025691520422697067,-0.3035043179988861,null,-0.025691520422697067,0.7114070057868958,null,-0.025691520422697067,-0.939184844493866,null,-0.025691520422697067,0.7986220121383667,null,-0.025691520422697067,0.821828305721283,null,-0.025691520422697067,-0.49509096145629883,null,-0.025691520422697067,0.6051704287528992,null,-0.025691520422697067,-0.07042370736598969,null,-0.025691520422697067,-0.7040666937828064,null,-0.025691520422697067,0.2877542972564697,null,-0.025691520422697067,0.6753235459327698,null,-0.025691520422697067,-0.20076847076416016,null,-0.025691520422697067,-0.3212932348251343,null,-0.025691520422697067,-0.9804748296737671,null,-0.025691520422697067,0.9897053837776184,null,-0.025691520422697067,-0.30914759635925293,null,-0.025691520422697067,-0.8550759553909302,null,-0.025691520422697067,0.943476140499115,null,-0.025691520422697067,-0.05626128613948822,null,-0.025691520422697067,0.9643367528915405,null,-0.025691520422697067,0.7473810315132141,null,-0.025691520422697067,-0.23548080027103424,null,-0.025691520422697067,0.2841193675994873,null,-0.025691520422697067,-0.4860862195491791,null,-0.025691520422697067,-0.700658917427063,null,-0.025691520422697067,-0.2166442573070526,null,-0.025691520422697067,0.8887253403663635,null,-0.025691520422697067,-0.27788007259368896,null,-0.025691520422697067,0.9470152258872986,null,-0.025691520422697067,0.18332481384277344,null,-0.025691520422697067,-0.5285266637802124,null,-0.025691520422697067,-0.3790731728076935,null,-0.025691520422697067,0.18807311356067657,null,-0.025691520422697067,0.12145230919122696,null,-0.025691520422697067,-0.903233528137207,null,-0.025691520422697067,-0.05185168981552124,null,-0.025691520422697067,-0.8123577833175659,null,-0.025691520422697067,-0.8698332905769348,null,-0.025691520422697067,-0.8757076859474182,null,-0.025691520422697067,-0.9168931245803833,null,-0.025691520422697067,0.3375718295574188,null,-0.025691520422697067,-0.5308910608291626,null,-0.025691520422697067,-0.6252237558364868,null,-0.025691520422697067,0.8404915928840637,null,-0.025691520422697067,0.9910984635353088,null,-0.025691520422697067,-0.28159239888191223,null,-0.025691520422697067,-0.745284914970398,null,-0.025691520422697067,-0.8091796040534973,null,-0.025691520422697067,0.8228829503059387,null,-0.025691520422697067,-0.7393338680267334,null,-0.025691520422697067,-0.45036596059799194,null,-0.025691520422697067,-0.09448015689849854,null,-0.025691520422697067,0.8846274018287659,null,-0.025691520422697067,0.286480575799942,null,-0.025691520422697067,-0.27234017848968506,null,-0.025691520422697067,-0.23930977284908295,null,-0.025691520422697067,0.3585653603076935,null,-0.025691520422697067,0.46954143047332764,null,-0.025691520422697067,0.4166506826877594,null,-0.025691520422697067,-0.9812925457954407,null,-0.025691520422697067,0.7876423001289368,null,-0.025691520422697067,-0.4149562418460846,null,-0.025691520422697067,0.39540213346481323,null,-0.025691520422697067,-0.448498010635376,null,-0.025691520422697067,-0.9396336078643799,null,-0.025691520422697067,-0.8716477751731873,null,-0.025691520422697067,-0.21966031193733215,null,-0.025691520422697067,0.18229620158672333,null,-0.025691520422697067,-0.8789442181587219,null,-0.025691520422697067,-0.272823303937912,null,-0.025691520422697067,0.5356113314628601,null,-0.025691520422697067,0.48028478026390076,null,-0.025691520422697067,0.7551394701004028,null,-0.025691520422697067,-0.8911901712417603,null,-0.025691520422697067,-0.3389073610305786,null,-0.025691520422697067,0.6399826407432556,null,-0.025691520422697067,-0.9515450596809387,null,-0.025691520422697067,0.4905144274234772,null,-0.025691520422697067,-0.30211010575294495,null,-0.025691520422697067,0.7102788686752319,null,-0.025691520422697067,0.12611167132854462,null,-0.025691520422697067,0.6385593414306641,null,-0.025691520422697067,0.819210410118103,null,-0.025691520422697067,-0.7572391033172607,null,-0.025691520422697067,-0.6790846586227417,null,-0.025691520422697067,-0.9116857647895813,null,-0.025691520422697067,0.375926673412323,null,-0.025691520422697067,0.7554868459701538,null,-0.025691520422697067,-0.3965941071510315,null,-0.025691520422697067,-0.6780306696891785,null,-0.025691520422697067,0.12805649638175964,null,-0.025691520422697067,0.33639416098594666,null,-0.025691520422697067,-0.5431473255157471,null,-0.025691520422697067,0.404776006937027,null,-0.025691520422697067,-0.24505165219306946,null,-0.025691520422697067,0.573299765586853,null,-0.025691520422697067,0.47578588128089905,null,-0.025691520422697067,0.3170776069164276,null,-0.025691520422697067,-0.9395679235458374,null,-0.025691520422697067,-0.341404527425766,null,-0.025691520422697067,0.19154959917068481,null,-0.025691520422697067,0.8260042667388916,null,-0.025691520422697067,-0.803176999092102,null,-0.025691520422697067,-0.960722804069519,null,-0.025691520422697067,-0.979224681854248,null,-0.025691520422697067,0.27414780855178833,null,-0.025691520422697067,0.2090117633342743,null,-0.025691520422697067,0.6725040078163147,null,-0.025691520422697067,-0.7918968200683594,null,-0.025691520422697067,-0.16667649149894714,null,-0.025691520422697067,0.19945146143436432,null,-0.025691520422697067,0.973024845123291,null,-0.025691520422697067,0.891532301902771,null,-0.025691520422697067,-0.6559184193611145,null,-0.025691520422697067,-0.6676806211471558,null,-0.025691520422697067,0.13292427361011505,null,-0.025691520422697067,0.9151133894920349,null,-0.025691520422697067,-0.034224074333906174,null,-0.025691520422697067,0.9389254450798035,null,-0.025691520422697067,0.8941685557365417,null,-0.025691520422697067,0.032080117613077164,null,-0.025691520422697067,-0.7238239049911499,null,-0.025691520422697067,-0.45037052035331726,null,-0.025691520422697067,0.4891844093799591,null,-0.025691520422697067,0.15308766067028046,null,-0.025691520422697067,0.9907515048980713,null,-0.025691520422697067,-0.06807152926921844,null,0.2540864646434784,-0.06807152926921844,null,0.523352861404419,0.5174844861030579,null,-0.08361111581325531,0.5759146809577942,null,0.22145064175128937,0.38692355155944824,null,0.22145064175128937,0.3968174159526825,null,-0.22409792244434357,-0.046137887984514236,null,0.44548657536506653,0.24162529408931732,null,0.01803046464920044,-0.12013058364391327,null,-0.046137887984514236,-0.7340983152389526,null,-0.046137887984514236,0.4396592378616333,null,-0.046137887984514236,-0.4860862195491791,null,-0.046137887984514236,0.7102788686752319,null,-0.4475809633731842,-0.5285266637802124,null,0.5759146809577942,0.18229620158672333,null,0.5759146809577942,0.12805649638175964,null,0.5759146809577942,0.3170776069164276,null,-0.9877490401268005,-0.12013058364391327,null,-0.37950482964515686,-0.12013058364391327,null,-0.5181118845939636,-0.12013058364391327,null,-0.5181118845939636,-0.8975560665130615,null,0.013656080700457096,0.03418843075633049,null,0.2877542972564697,-0.06807152926921844,null,0.6753235459327698,0.5174844861030579,null,-0.8550759553909302,-0.12013058364391327,null,0.9643367528915405,-0.12013058364391327,null,-0.27788007259368896,-0.06807152926921844,null,-0.27788007259368896,-0.23930977284908295,null,-0.27788007259368896,-0.5285266637802124,null,-0.27788007259368896,-0.05974758043885231,null,-0.27788007259368896,-0.09448015689849854,null,0.18332481384277344,-0.12013058364391327,null,0.18332481384277344,0.5174844861030579,null,-0.5285266637802124,-0.06807152926921844,null,-0.5285266637802124,-0.23930977284908295,null,-0.5285266637802124,-0.09448015689849854,null,-0.5285266637802124,-0.05974758043885231,null,-0.5285266637802124,-0.08933092653751373,null,-0.3790731728076935,-0.12013058364391327,null,0.12145230919122696,-0.12013058364391327,null,0.12145230919122696,0.3968174159526825,null,0.12145230919122696,-0.6339816451072693,null,-0.28159239888191223,-0.06807152926921844,null,-0.28159239888191223,0.5174844861030579,null,-0.09448015689849854,-0.06807152926921844,null,-0.09448015689849854,-0.23930977284908295,null,-0.09448015689849854,-0.05974758043885231,null,-0.09448015689849854,-0.6043905019760132,null,-0.09448015689849854,-0.12477923184633255,null,-0.23930977284908295,-0.06807152926921844,null,-0.23930977284908295,-0.05974758043885231,null,0.39540213346481323,0.2090117633342743,null,0.18229620158672333,-0.12013058364391327,null,0.18229620158672333,0.8686209321022034,null,0.18229620158672333,-0.025183411315083504,null,-0.3389073610305786,-0.12013058364391327,null,-0.9116857647895813,-0.12013058364391327,null,0.375926673412323,-0.6145510077476501,null,0.12805649638175964,-0.12013058364391327,null,0.12805649638175964,0.8686209321022034,null,0.33639416098594666,-0.12013058364391327,null,0.573299765586853,-0.12013058364391327,null,0.3170776069164276,-0.12013058364391327,null,0.3170776069164276,0.3968174159526825,null,0.19154959917068481,0.5174844861030579,null,0.19154959917068481,0.8958740234375,null,-0.960722804069519,-0.12013058364391327,null,-0.16667649149894714,-0.12013058364391327,null,0.19945146143436432,-0.12013058364391327,null,0.19945146143436432,-0.6145510077476501,null,0.19945146143436432,0.38692355155944824,null,0.19945146143436432,0.3968174159526825,null,-0.6559184193611145,-0.12013058364391327,null,-0.6559184193611145,0.3968174159526825,null,-0.034224074333906174,0.8377237319946289,null,-0.12013058364391327,0.8700971603393555,null,-0.12013058364391327,0.1837289035320282,null,-0.12013058364391327,-0.7640929818153381,null,-0.12013058364391327,-0.09061198681592941,null,-0.12013058364391327,-0.08804988116025925,null,-0.12013058364391327,-0.06807152926921844,null,-0.06807152926921844,-0.05974758043885231,null,-0.5228844285011292,0.9903663396835327,null,0.8531740307807922,0.9604795575141907,null],\"type\":\"scatter\"},{\"hoverinfo\":\"text\",\"hovertext\":[\"Wikidata\\u003cbr\\u003eURL: https:\\u002f\\u002fwww.wikidata.org\\u003cbr\\u003eHost: Wikimedia Foundation\\u003cbr\\u003eVersion: 1.44.0-wmf.16\\u003cbr\\u003eStart Date: 2012-10-25 00:00:00+00:00\\u003cbr\\u003eActive Users: 24633\\u003cbr\\u003eUsers: 6712968\\u003cbr\\u003eProperties: 12327\\u003cbr\\u003eEdits: 2271398577\\u003cbr\\u003ePages: 119599665\",\"Wikimedia Commons\\u003cbr\\u003eURL: https:\\u002f\\u002fcommons.wikimedia.org\\u003cbr\\u003eHost: Wikimedia Foundation\\u003cbr\\u003eVersion: 1.44.0-wmf.16\\u003cbr\\u003eStart Date: 2019-01-10 00:00:00+00:00\\u003cbr\\u003eActive Users: 39321\\u003cbr\\u003eUsers: 13023348\\u003cbr\\u003eProperties: 12327\\u003cbr\\u003eEdits: 952992390\\u003cbr\\u003ePages: 145301018\"],\"legendgrouptitle\":{\"text\":\"By host\"},\"marker\":{\"color\":\"#F00000\",\"line\":{\"color\":\"black\",\"width\":1},\"showscale\":false,\"size\":[40,40]},\"mode\":\"markers\",\"name\":\"Wikimedia Foundation (2)\",\"showlegend\":true,\"x\":[-0.056497830897569656,0.02908475138247013],\"y\":[-0.025691520422697067,-0.12013058364391327],\"type\":\"scatter\"},{\"hoverinfo\":\"text\",\"hovertext\":[\"SCK\\u003cbr\\u003eURL: https:\\u002f\\u002fknihovnici.wikibase.cloud\\u003cbr\\u003eHost: Wikibase Cloud\\u003cbr\\u003eVersion: 1.39.7\\u003cbr\\u003eStart Date: 2024-06-26 00:00:00+00:00\\u003cbr\\u003eActive Users: 2\\u003cbr\\u003eUsers: 5\\u003cbr\\u003eProperties: 68\\u003cbr\\u003eEdits: 142439\\u003cbr\\u003ePages: 5453\",\"WikiFCD\\u003cbr\\u003eURL: https:\\u002f\\u002fwikifcd.wikibase.cloud\\u002f\\u003cbr\\u003eHost: Wikibase Cloud\\u003cbr\\u003eVersion: 1.39.7\\u003cbr\\u003eStart Date: 2020-03-02 00:00:00+00:00\\u003cbr\\u003eActive Users: 1\\u003cbr\\u003eUsers: 412\\u003cbr\\u003eProperties: 321\\u003cbr\\u003eEdits: 871318\\u003cbr\\u003ePages: 469132\",\"Ahotsak Wikibase\\u003cbr\\u003eURL: https:\\u002f\\u002fdatuak.ahotsak.eus\\u002f\\u003cbr\\u003eHost: Wikibase Cloud\\u003cbr\\u003eVersion: 1.39.7\\u003cbr\\u003eStart Date: 2021-05-26 00:00:00+00:00\\u003cbr\\u003eActive Users: 0\\u003cbr\\u003eUsers: 5\\u003cbr\\u003eProperties: 30\\u003cbr\\u003eEdits: 1143182\\u003cbr\\u003ePages: 27491\",\"Coins Wikibase\\u003cbr\\u003eURL: https:\\u002f\\u002fcoins.wikibase.cloud\\u002f\\u003cbr\\u003eHost: Wikibase Cloud\\u003cbr\\u003eVersion: 1.39.7\\u003cbr\\u003eStart Date: 2024-03-08 00:00:00+00:00\\u003cbr\\u003eActive Users: 0\\u003cbr\\u003eUsers: 3\\u003cbr\\u003eProperties: 29\\u003cbr\\u003eEdits: 825\\u003cbr\\u003ePages: 136\",\"wikiWARP\\u003cbr\\u003eURL: https:\\u002f\\u002fwikiwarp.wikibase.cloud\\u003cbr\\u003eHost: Wikibase Cloud\\u003cbr\\u003eVersion: 1.39.7\\u003cbr\\u003eStart Date: 2022-12-06 00:00:00+00:00\\u003cbr\\u003eActive Users: 0\\u003cbr\\u003eUsers: 3\\u003cbr\\u003eProperties: 7\\u003cbr\\u003eEdits: 56\\u003cbr\\u003ePages: 10\",\"African Americans in Film Collection, 1919-2000\\u003cbr\\u003eURL: https:\\u002f\\u002fafamfilm.wikibase.cloud\\u003cbr\\u003eHost: Wikibase Cloud\\u003cbr\\u003eVersion: 1.39.7\\u003cbr\\u003eStart Date: 2024-02-11 00:00:00+00:00\\u003cbr\\u003eActive Users: 0\\u003cbr\\u003eUsers: 4\\u003cbr\\u003eProperties: 36\\u003cbr\\u003eEdits: 1567\\u003cbr\\u003ePages: 931\",\"HBMa\\u003cbr\\u003eURL: https:\\u002f\\u002fmatrika.wikibase.cloud\\u003cbr\\u003eHost: Wikibase Cloud\\u003cbr\\u003eVersion: 1.39.7\\u003cbr\\u003eStart Date: 2023-11-21 00:00:00+00:00\\u003cbr\\u003eActive Users: 0\\u003cbr\\u003eUsers: 2\\u003cbr\\u003eProperties: 52\\u003cbr\\u003eEdits: 7790\\u003cbr\\u003ePages: 1233\",\"Digital Scriptorium Catalog\\u003cbr\\u003eURL: https:\\u002f\\u002fcatalog.digital-scriptorium.org\\u002f\\u003cbr\\u003eHost: Wikibase Cloud\\u003cbr\\u003eVersion: 1.39.7\\u003cbr\\u003eStart Date: 2022-12-23 00:00:00+00:00\\u003cbr\\u003eActive Users: 1\\u003cbr\\u003eUsers: 7\\u003cbr\\u003eProperties: 47\\u003cbr\\u003eEdits: 79544\\u003cbr\\u003ePages: 55299\",\"Fashion\\u003cbr\\u003eURL: https:\\u002f\\u002ffashion.wikibase.cloud\\u003cbr\\u003eHost: Wikibase Cloud\\u003cbr\\u003eVersion: 1.39.7\\u003cbr\\u003eStart Date: 2024-07-25 00:00:00+00:00\\u003cbr\\u003eActive Users: 0\\u003cbr\\u003eUsers: 2\\u003cbr\\u003eProperties: 29\\u003cbr\\u003eEdits: 18779\\u003cbr\\u003ePages: 8608\",\"CollectingWomenCourse\\u003cbr\\u003eURL: https:\\u002f\\u002fcollectingwomencourse.wikibase.cloud\\u003cbr\\u003eHost: Wikibase Cloud\\u003cbr\\u003eVersion: 1.39.7\\u003cbr\\u003eStart Date: 2023-11-14 00:00:00+00:00\\u003cbr\\u003eActive Users: 0\\u003cbr\\u003eUsers: 21\\u003cbr\\u003eProperties: 25\\u003cbr\\u003eEdits: 1186\\u003cbr\\u003ePages: 220\",\"Ottgaz\\u003cbr\\u003eURL: https:\\u002f\\u002fottgaz.org\\u003cbr\\u003eHost: Wikibase Cloud\\u003cbr\\u003eVersion: 1.39.7\\u003cbr\\u003eStart Date: 2022-09-05 00:00:00+00:00\\u003cbr\\u003eActive Users: 0\\u003cbr\\u003eUsers: 4\\u003cbr\\u003eProperties: 38\\u003cbr\\u003eEdits: 80586\\u003cbr\\u003ePages: 20356\",\"NordhausenDaten\\u003cbr\\u003eURL: https:\\u002f\\u002fnordhausen.wikibase.cloud\\u003cbr\\u003eHost: Wikibase Cloud\\u003cbr\\u003eVersion: 1.39.7\\u003cbr\\u003eStart Date: 2022-10-05 00:00:00+00:00\\u003cbr\\u003eActive Users: 0\\u003cbr\\u003eUsers: 2\\u003cbr\\u003eProperties: 8\\u003cbr\\u003eEdits: 60\\u003cbr\\u003ePages: 47\",\"British Columbia Directories\\u003cbr\\u003eURL: https:\\u002f\\u002fbcdirectories.wikibase.cloud\\u003cbr\\u003eHost: Wikibase Cloud\\u003cbr\\u003eVersion: 1.39.7\\u003cbr\\u003eStart Date: 2024-01-18 00:00:00+00:00\\u003cbr\\u003eActive Users: 1\\u003cbr\\u003eUsers: 2\\u003cbr\\u003eProperties: 41\\u003cbr\\u003eEdits: 3990\\u003cbr\\u003ePages: 4187\",\"Devonshire\\u003cbr\\u003eURL: https:\\u002f\\u002fdevonshire.wikibase.cloud\\u002f\\u003cbr\\u003eHost: Wikibase Cloud\\u003cbr\\u003eVersion: 1.39.7\\u003cbr\\u003eStart Date: 2022-06-24 00:00:00+00:00\\u003cbr\\u003eActive Users: 1\\u003cbr\\u003eUsers: 2\\u003cbr\\u003eProperties: 108\\u003cbr\\u003eEdits: 133174\\u003cbr\\u003ePages: 61655\",\"Datenbank Nordhausen\\u003cbr\\u003eURL: https:\\u002f\\u002fdatenbank.nordhausen.org\\u003cbr\\u003eHost: Wikibase Cloud\\u003cbr\\u003eVersion: 1.39.7\\u003cbr\\u003eStart Date: 2022-10-05 00:00:00+00:00\\u003cbr\\u003eActive Users: 1\\u003cbr\\u003eUsers: 7\\u003cbr\\u003eProperties: 73\\u003cbr\\u003eEdits: 90634\\u003cbr\\u003ePages: 86804\",\"eneoli wikibase\\u003cbr\\u003eURL: https:\\u002f\\u002feneoli.wikibase.cloud\\u003cbr\\u003eHost: Wikibase Cloud\\u003cbr\\u003eVersion: 1.39.7\\u003cbr\\u003eStart Date: 2024-03-15 00:00:00+00:00\\u003cbr\\u003eActive Users: 3\\u003cbr\\u003eUsers: 30\\u003cbr\\u003eProperties: 64\\u003cbr\\u003eEdits: 12888\\u003cbr\\u003ePages: 2597\",\"FILMUSP\\u003cbr\\u003eURL: https:\\u002f\\u002ffilmusp.wikibase.cloud\\u003cbr\\u003eHost: Wikibase Cloud\\u003cbr\\u003eVersion: 1.39.7\\u003cbr\\u003eStart Date: 2024-07-18 00:00:00+00:00\\u003cbr\\u003eActive Users: 0\\u003cbr\\u003eUsers: 2\\u003cbr\\u003eProperties: 6\\u003cbr\\u003eEdits: 66\\u003cbr\\u003ePages: 16\",\"Hydrogen\\u003cbr\\u003eURL: https:\\u002f\\u002fhydrogen.wikibase.cloud\\u003cbr\\u003eHost: Wikibase Cloud\\u003cbr\\u003eVersion: 1.39.7\\u003cbr\\u003eStart Date: 2024-06-19 00:00:00+00:00\\u003cbr\\u003eActive Users: 0\\u003cbr\\u003eUsers: 2\\u003cbr\\u003eProperties: 11\\u003cbr\\u003eEdits: 60\\u003cbr\\u003ePages: 37\",\"Giorgio De Maria Knowledge Base\\u003cbr\\u003eURL: https:\\u002f\\u002fgiorgiodemaria.wikibase.cloud\\u002f\\u003cbr\\u003eHost: Wikibase Cloud\\u003cbr\\u003eVersion: 1.39.7\\u003cbr\\u003eStart Date: 2023-05-12 00:00:00+00:00\\u003cbr\\u003eActive Users: 0\\u003cbr\\u003eUsers: 2\\u003cbr\\u003eProperties: 14\\u003cbr\\u003eEdits: 342\\u003cbr\\u003ePages: 79\",\"The Cool Zone\\u003cbr\\u003eURL: https:\\u002f\\u002fcoolzone.wikibase.cloud\\u003cbr\\u003eHost: Wikibase Cloud\\u003cbr\\u003eVersion: 1.39.7\\u003cbr\\u003eStart Date: 2024-08-12 00:00:00+00:00\\u003cbr\\u003eActive Users: 0\\u003cbr\\u003eUsers: 2\\u003cbr\\u003eProperties: 2\\u003cbr\\u003eEdits: 5\\u003cbr\\u003ePages: 4\",\"Riga Literata\\u003cbr\\u003eURL: https:\\u002f\\u002friga-literata.wikibase.cloud\\u003cbr\\u003eHost: Wikibase Cloud\\u003cbr\\u003eVersion: 1.39.7\\u003cbr\\u003eStart Date: 2022-10-05 00:00:00+00:00\\u003cbr\\u003eActive Users: 0\\u003cbr\\u003eUsers: 2\\u003cbr\\u003eProperties: 63\\u003cbr\\u003eEdits: 2433\\u003cbr\\u003ePages: 904\",\"Greek Metrical Inscriptions\\u003cbr\\u003eURL: https:\\u002f\\u002fgreek-metrical-inscriptions.wikibase.cloud\\u003cbr\\u003eHost: Wikibase Cloud\\u003cbr\\u003eVersion: 1.39.7\\u003cbr\\u003eStart Date: 2024-04-29 00:00:00+00:00\\u003cbr\\u003eActive Users: 1\\u003cbr\\u003eUsers: 3\\u003cbr\\u003eProperties: 70\\u003cbr\\u003eEdits: 5566\\u003cbr\\u003ePages: 796\",\"Semantic Name Authority Repository Cymru\\u003cbr\\u003eURL: https:\\u002f\\u002fsnarc-llgc.wikibase.cloud\\u003cbr\\u003eHost: Wikibase Cloud\\u003cbr\\u003eVersion: 1.39.7\\u003cbr\\u003eStart Date: 2022-11-17 00:00:00+00:00\\u003cbr\\u003eActive Users: 1\\u003cbr\\u003eUsers: 2\\u003cbr\\u003eProperties: 86\\u003cbr\\u003eEdits: 989320\\u003cbr\\u003ePages: 130944\",\"Tales of discovery\\u003cbr\\u003eURL: https:\\u002f\\u002fdiscovery-tales.wikibase.cloud\\u003cbr\\u003eHost: Wikibase Cloud\\u003cbr\\u003eVersion: 1.39.7\\u003cbr\\u003eStart Date: 2024-07-01 00:00:00+00:00\\u003cbr\\u003eActive Users: 0\\u003cbr\\u003eUsers: 5\\u003cbr\\u003eProperties: 43\\u003cbr\\u003eEdits: 10368\\u003cbr\\u003ePages: 777\",\"LexBib\\u003cbr\\u003eURL: https:\\u002f\\u002flexbib.elex.is\\u003cbr\\u003eHost: Wikibase Cloud\\u003cbr\\u003eVersion: 1.39.7\\u003cbr\\u003eStart Date: 2021-08-03 00:00:00+00:00\\u003cbr\\u003eActive Users: 0\\u003cbr\\u003eUsers: 730\\u003cbr\\u003eProperties: 212\\u003cbr\\u003eEdits: 874614\\u003cbr\\u003ePages: 34879\",\"xhgell9mb1qlv2h9gwps\\u003cbr\\u003eURL: https:\\u002f\\u002fxhgell9mb1qlv2h9gwps.wikibase.cloud\\u003cbr\\u003eHost: Wikibase Cloud\\u003cbr\\u003eVersion: 1.39.7\\u003cbr\\u003eStart Date: 2023-12-11 00:00:00+00:00\\u003cbr\\u003eActive Users: 0\\u003cbr\\u003eUsers: 2\\u003cbr\\u003eProperties: 6\\u003cbr\\u003eEdits: 296\\u003cbr\\u003ePages: 8\",\"Timna Valley Database\\u003cbr\\u003eURL: https:\\u002f\\u002ftimna-database.wikibase.cloud\\u003cbr\\u003eHost: Wikibase Cloud\\u003cbr\\u003eVersion: 1.39.7\\u003cbr\\u003eStart Date: 2024-02-22 00:00:00+00:00\\u003cbr\\u003eActive Users: 6\\u003cbr\\u003eUsers: 14\\u003cbr\\u003eProperties: 108\\u003cbr\\u003eEdits: 15533\\u003cbr\\u003ePages: 789\",\"DigLearning\\u003cbr\\u003eURL: https:\\u002f\\u002fdiglearning.wikibase.cloud\\u003cbr\\u003eHost: Wikibase Cloud\\u003cbr\\u003eVersion: 1.39.7\\u003cbr\\u003eStart Date: 2022-10-18 00:00:00+00:00\\u003cbr\\u003eActive Users: 0\\u003cbr\\u003eUsers: 2\\u003cbr\\u003eProperties: 12\\u003cbr\\u003eEdits: 158\\u003cbr\\u003ePages: 28\",\"DHWiki\\u003cbr\\u003eURL: https:\\u002f\\u002fdhwiki.wikibase.cloud\\u003cbr\\u003eHost: Wikibase Cloud\\u003cbr\\u003eVersion: 1.39.7\\u003cbr\\u003eStart Date: 2024-09-28 00:00:00+00:00\\u003cbr\\u003eActive Users: 2\\u003cbr\\u003eUsers: 5\\u003cbr\\u003eProperties: 40\\u003cbr\\u003eEdits: 1041\\u003cbr\\u003ePages: 506\",\"bcuf-test\\u003cbr\\u003eURL: https:\\u002f\\u002fbcuf-test.wikibase.cloud\\u003cbr\\u003eHost: Wikibase Cloud\\u003cbr\\u003eVersion: 1.39.7\\u003cbr\\u003eStart Date: 2022-09-30 00:00:00+00:00\\u003cbr\\u003eActive Users: 0\\u003cbr\\u003eUsers: 2\\u003cbr\\u003eProperties: 20\\u003cbr\\u003eEdits: 85\\u003cbr\\u003ePages: 34\",\"FictionBase\\u003cbr\\u003eURL: https:\\u002f\\u002ffictionbase.wikibase.cloud\\u003cbr\\u003eHost: Wikibase Cloud\\u003cbr\\u003eVersion: 1.39.7\\u003cbr\\u003eStart Date: 2024-04-14 00:00:00+00:00\\u003cbr\\u003eActive Users: 0\\u003cbr\\u003eUsers: 2\\u003cbr\\u003eProperties: 4\\u003cbr\\u003eEdits: 16\\u003cbr\\u003ePages: 9\",\"Wikimedia Foundation Memory Bank Data Wiki\\u003cbr\\u003eURL: https:\\u002f\\u002fmemorybankdata.wikibase.cloud\\u003cbr\\u003eHost: Wikibase Cloud\\u003cbr\\u003eVersion: 1.39.7\\u003cbr\\u003eStart Date: 2024-01-23 00:00:00+00:00\\u003cbr\\u003eActive Users: 0\\u003cbr\\u003eUsers: 2\\u003cbr\\u003eProperties: 56\\u003cbr\\u003eEdits: 2176\\u003cbr\\u003ePages: 384\",\"Belgian Resistance\\u003cbr\\u003eURL: https:\\u002f\\u002fresistance.wikibase.cloud\\u003cbr\\u003eHost: Wikibase Cloud\\u003cbr\\u003eVersion: 1.39.7\\u003cbr\\u003eStart Date: 2022-02-04 00:00:00+00:00\\u003cbr\\u003eActive Users: 0\\u003cbr\\u003eUsers: 2\\u003cbr\\u003eProperties: 37\\u003cbr\\u003eEdits: 243\\u003cbr\\u003ePages: 63\",\"College of Science Library, KNUST\\u003cbr\\u003eURL: https:\\u002f\\u002fcoslib-knust.wikibase.cloud\\u003cbr\\u003eHost: Wikibase Cloud\\u003cbr\\u003eVersion: 1.39.7\\u003cbr\\u003eStart Date: 2024-03-15 00:00:00+00:00\\u003cbr\\u003eActive Users: 0\\u003cbr\\u003eUsers: 23\\u003cbr\\u003eProperties: 13\\u003cbr\\u003eEdits: 86\\u003cbr\\u003ePages: 48\",\"GLAMbase\\u003cbr\\u003eURL: https:\\u002f\\u002fglambase.wikibase.cloud\\u003cbr\\u003eHost: Wikibase Cloud\\u003cbr\\u003eVersion: 1.39.7\\u003cbr\\u003eStart Date: 2022-10-05 00:00:00+00:00\\u003cbr\\u003eActive Users: 0\\u003cbr\\u003eUsers: 12\\u003cbr\\u003eProperties: 11\\u003cbr\\u003eEdits: 129\\u003cbr\\u003ePages: 46\",\"OpenDataSweden\\u003cbr\\u003eURL: https:\\u002f\\u002fsweopendata.wikibase.cloud\\u003cbr\\u003eHost: Wikibase Cloud\\u003cbr\\u003eVersion: 1.39.7\\u003cbr\\u003eStart Date: 2020-12-17 00:00:00+00:00\\u003cbr\\u003eActive Users: 0\\u003cbr\\u003eUsers: 2513\\u003cbr\\u003eProperties: 33\\u003cbr\\u003eEdits: 2648\\u003cbr\\u003ePages: 795\",\"ds20230203\\u003cbr\\u003eURL: https:\\u002f\\u002fds20230203.wikibase.cloud\\u003cbr\\u003eHost: Wikibase Cloud\\u003cbr\\u003eVersion: 1.39.7\\u003cbr\\u003eStart Date: 2023-02-03 00:00:00+00:00\\u003cbr\\u003eActive Users: 0\\u003cbr\\u003eUsers: 2\\u003cbr\\u003eProperties: 47\\u003cbr\\u003eEdits: 315\\u003cbr\\u003ePages: 303\",\"oswald\\u003cbr\\u003eURL: https:\\u002f\\u002foswald.wikibase.cloud\\u003cbr\\u003eHost: Wikibase Cloud\\u003cbr\\u003eVersion: 1.39.7\\u003cbr\\u003eStart Date: 2022-10-10 00:00:00+00:00\\u003cbr\\u003eActive Users: 0\\u003cbr\\u003eUsers: 3\\u003cbr\\u003eProperties: 44\\u003cbr\\u003eEdits: 1487\\u003cbr\\u003ePages: 369\",\"KZK\\u003cbr\\u003eURL: https:\\u002f\\u002fzkratky.wikibase.cloud\\u003cbr\\u003eHost: Wikibase Cloud\\u003cbr\\u003eVersion: 1.39.7\\u003cbr\\u003eStart Date: 2024-06-26 00:00:00+00:00\\u003cbr\\u003eActive Users: 1\\u003cbr\\u003eUsers: 4\\u003cbr\\u003eProperties: 25\\u003cbr\\u003eEdits: 100280\\u003cbr\\u003ePages: 5995\",\"Serbian Wikibase\\u003cbr\\u003eURL: https:\\u002f\\u002fserbian.wikibase.cloud\\u003cbr\\u003eHost: Wikibase Cloud\\u003cbr\\u003eVersion: 1.39.7\\u003cbr\\u003eStart Date: 2024-01-31 00:00:00+00:00\\u003cbr\\u003eActive Users: 0\\u003cbr\\u003eUsers: 4\\u003cbr\\u003eProperties: 22\\u003cbr\\u003eEdits: 59983\\u003cbr\\u003ePages: 24285\",\"Eusterm Wikibase\\u003cbr\\u003eURL: https:\\u002f\\u002feusterm.wikibase.cloud\\u003cbr\\u003eHost: Wikibase Cloud\\u003cbr\\u003eVersion: 1.39.7\\u003cbr\\u003eStart Date: 2022-10-26 00:00:00+00:00\\u003cbr\\u003eActive Users: 12\\u003cbr\\u003eUsers: 40\\u003cbr\\u003eProperties: 165\\u003cbr\\u003eEdits: 41347\\u003cbr\\u003ePages: 17539\",\"National Gallery of Art\\u003cbr\\u003eURL: https:\\u002f\\u002fmercury7.wikibase.cloud\\u003cbr\\u003eHost: Wikibase Cloud\\u003cbr\\u003eVersion: 1.39.7\\u003cbr\\u003eStart Date: 2022-07-06 00:00:00+00:00\\u003cbr\\u003eActive Users: 2\\u003cbr\\u003eUsers: 6\\u003cbr\\u003eProperties: 122\\u003cbr\\u003eEdits: 36259\\u003cbr\\u003ePages: 3354\",\"Schema descriptions\\u003cbr\\u003eURL: https:\\u002f\\u002fschema-korf.wikibase.cloud\\u003cbr\\u003eHost: Wikibase Cloud\\u003cbr\\u003eVersion: 1.39.7\\u003cbr\\u003eStart Date: 2020-04-10 00:00:00+00:00\\u003cbr\\u003eActive Users: 0\\u003cbr\\u003eUsers: 6\\u003cbr\\u003eProperties: 8\\u003cbr\\u003eEdits: 56\\u003cbr\\u003ePages: 23\",\"DataLib\\u003cbr\\u003eURL: https:\\u002f\\u002fdatalib.wikibase.cloud\\u003cbr\\u003eHost: Wikibase Cloud\\u003cbr\\u003eVersion: 1.39.7\\u003cbr\\u003eStart Date: 2024-05-24 00:00:00+00:00\\u003cbr\\u003eActive Users: 1\\u003cbr\\u003eUsers: 6\\u003cbr\\u003eProperties: 59\\u003cbr\\u003eEdits: 37408\\u003cbr\\u003ePages: 1872\",\"Kluck\\u003cbr\\u003eURL: https:\\u002f\\u002fkluck.wikibase.cloud\\u003cbr\\u003eHost: Wikibase Cloud\\u003cbr\\u003eVersion: 1.39.7\\u003cbr\\u003eStart Date: 2024-04-17 00:00:00+00:00\\u003cbr\\u003eActive Users: 0\\u003cbr\\u003eUsers: 2\\u003cbr\\u003eProperties: 2\\u003cbr\\u003eEdits: 5\\u003cbr\\u003ePages: 3\",\"TRE Test\\u003cbr\\u003eURL: https:\\u002f\\u002ftre-test.wikibase.cloud\\u003cbr\\u003eHost: Wikibase Cloud\\u003cbr\\u003eVersion: 1.39.7\\u003cbr\\u003eStart Date: 2023-05-15 00:00:00+00:00\\u003cbr\\u003eActive Users: 2\\u003cbr\\u003eUsers: 3\\u003cbr\\u003eProperties: 37\\u003cbr\\u003eEdits: 342425\\u003cbr\\u003ePages: 252423\",\"TReK2\\u003cbr\\u003eURL: https:\\u002f\\u002frestorationtoolkit2.wikibase.cloud\\u003cbr\\u003eHost: Wikibase Cloud\\u003cbr\\u003eVersion: 1.39.7\\u003cbr\\u003eStart Date: 2024-08-02 00:00:00+00:00\\u003cbr\\u003eActive Users: 0\\u003cbr\\u003eUsers: 3\\u003cbr\\u003eProperties: 14\\u003cbr\\u003eEdits: 46\\u003cbr\\u003ePages: 28\",\"EEW\\u003cbr\\u003eURL: https:\\u002f\\u002feew-edgi.wikibase.cloud\\u002f\\u003cbr\\u003eHost: Wikibase Cloud\\u003cbr\\u003eVersion: 1.39.7\\u003cbr\\u003eStart Date: 2023-03-08 00:00:00+00:00\\u003cbr\\u003eActive Users: 0\\u003cbr\\u003eUsers: 2\\u003cbr\\u003eProperties: 58\\u003cbr\\u003eEdits: 42920\\u003cbr\\u003ePages: 33490\",\"IR Abbreviations\\u003cbr\\u003eURL: https:\\u002f\\u002fir-abbreviations.wikibase.cloud\\u003cbr\\u003eHost: Wikibase Cloud\\u003cbr\\u003eVersion: 1.39.7\\u003cbr\\u003eStart Date: 2024-07-25 00:00:00+00:00\\u003cbr\\u003eActive Users: 0\\u003cbr\\u003eUsers: 3\\u003cbr\\u003eProperties: 19\\u003cbr\\u003eEdits: 127\\u003cbr\\u003ePages: 30\",\"Proust-Portal\\u003cbr\\u003eURL: https:\\u002f\\u002fproust-portal.wikibase.cloud\\u003cbr\\u003eHost: Wikibase Cloud\\u003cbr\\u003eVersion: 1.39.7\\u003cbr\\u003eStart Date: 2023-10-22 00:00:00+00:00\\u003cbr\\u003eActive Users: 1\\u003cbr\\u003eUsers: 4\\u003cbr\\u003eProperties: 4\\u003cbr\\u003eEdits: 20\\u003cbr\\u003ePages: 6\",\"zentrum f\\u00fcr netzkunst\\u003cbr\\u003eURL: https:\\u002f\\u002fnetart.wikibase.cloud\\u003cbr\\u003eHost: Wikibase Cloud\\u003cbr\\u003eVersion: 1.39.7\\u003cbr\\u003eStart Date: 2024-04-29 00:00:00+00:00\\u003cbr\\u003eActive Users: 1\\u003cbr\\u003eUsers: 4\\u003cbr\\u003eProperties: 125\\u003cbr\\u003eEdits: 3958\\u003cbr\\u003ePages: 1260\",\"test\\u003cbr\\u003eURL: https:\\u002f\\u002fubna-test.wikibase.cloud\\u003cbr\\u003eHost: Wikibase Cloud\\u003cbr\\u003eVersion: 1.39.7\\u003cbr\\u003eStart Date: 2024-01-25 00:00:00+00:00\\u003cbr\\u003eActive Users: 0\\u003cbr\\u003eUsers: 3\\u003cbr\\u003eProperties: 29\\u003cbr\\u003eEdits: 146\\u003cbr\\u003ePages: 54\",\"photo-techniques\\u003cbr\\u003eURL: https:\\u002f\\u002fphoto-techniques.dvnr.ch\\u003cbr\\u003eHost: Wikibase Cloud\\u003cbr\\u003eVersion: 1.39.7\\u003cbr\\u003eStart Date: 2020-11-15 00:00:00+00:00\\u003cbr\\u003eActive Users: 0\\u003cbr\\u003eUsers: 2\\u003cbr\\u003eProperties: 14\\u003cbr\\u003eEdits: 245\\u003cbr\\u003ePages: 119\",\"British Library Archives and Manuscripts\\u003cbr\\u003eURL: https:\\u002f\\u002fbl-archives-manuscripts.wikibase.cloud\\u003cbr\\u003eHost: Wikibase Cloud\\u003cbr\\u003eVersion: 1.39.7\\u003cbr\\u003eStart Date: 2023-12-07 00:00:00+00:00\\u003cbr\\u003eActive Users: 0\\u003cbr\\u003eUsers: 2\\u003cbr\\u003eProperties: 36\\u003cbr\\u003eEdits: 33746\\u003cbr\\u003ePages: 3453\",\"Willighagen 101\\u003cbr\\u003eURL: https:\\u002f\\u002fwillighagen-2021.wikibase.cloud\\u003cbr\\u003eHost: Wikibase Cloud\\u003cbr\\u003eVersion: 1.39.7\\u003cbr\\u003eStart Date: 2021-12-22 00:00:00+00:00\\u003cbr\\u003eActive Users: 0\\u003cbr\\u003eUsers: 16\\u003cbr\\u003eProperties: 46\\u003cbr\\u003eEdits: 2044\\u003cbr\\u003ePages: 382\",\"Aberdeen Harbour Arrivals\\u003cbr\\u003eURL: https:\\u002f\\u002faberdeen-arrivals.wikibase.cloud\\u003cbr\\u003eHost: Wikibase Cloud\\u003cbr\\u003eVersion: 1.39.7\\u003cbr\\u003eStart Date: 2023-03-21 00:00:00+00:00\\u003cbr\\u003eActive Users: 0\\u003cbr\\u003eUsers: 2\\u003cbr\\u003eProperties: 17\\u003cbr\\u003eEdits: 287\\u003cbr\\u003ePages: 231\",\"melanges-test\\u003cbr\\u003eURL: https:\\u002f\\u002fmelanges-test.wikibase.cloud\\u003cbr\\u003eHost: Wikibase Cloud\\u003cbr\\u003eVersion: 1.39.7\\u003cbr\\u003eStart Date: 2022-10-28 00:00:00+00:00\\u003cbr\\u003eActive Users: 0\\u003cbr\\u003eUsers: 2\\u003cbr\\u003eProperties: 14\\u003cbr\\u003eEdits: 278\\u003cbr\\u003ePages: 112\",\"Podcasts\\u003cbr\\u003eURL: https:\\u002f\\u002fpodcasts.wikibase.cloud\\u003cbr\\u003eHost: Wikibase Cloud\\u003cbr\\u003eVersion: 1.39.7\\u003cbr\\u003eStart Date: 2023-02-28 00:00:00+00:00\\u003cbr\\u003eActive Users: 0\\u003cbr\\u003eUsers: 2\\u003cbr\\u003eProperties: 77\\u003cbr\\u003eEdits: 33711\\u003cbr\\u003ePages: 1351\",\"Minecraft JE Data\\u003cbr\\u003eURL: https:\\u002f\\u002fmcje-data.wikibase.cloud\\u003cbr\\u003eHost: Wikibase Cloud\\u003cbr\\u003eVersion: 1.39.7\\u003cbr\\u003eStart Date: 2022-06-17 00:00:00+00:00\\u003cbr\\u003eActive Users: 0\\u003cbr\\u003eUsers: 18\\u003cbr\\u003eProperties: 125\\u003cbr\\u003eEdits: 16366\\u003cbr\\u003ePages: 5592\",\"DREAMS Wiki\\u003cbr\\u003eURL: https:\\u002f\\u002fdreams.wikibase.cloud\\u003cbr\\u003eHost: Wikibase Cloud\\u003cbr\\u003eVersion: 1.39.7\\u003cbr\\u003eStart Date: 2020-10-19 00:00:00+00:00\\u003cbr\\u003eActive Users: 0\\u003cbr\\u003eUsers: 18\\u003cbr\\u003eProperties: 53\\u003cbr\\u003eEdits: 18564\\u003cbr\\u003ePages: 5649\",\"Inguma Wikibase\\u003cbr\\u003eURL: https:\\u002f\\u002fwikibase.inguma.eus\\u003cbr\\u003eHost: Wikibase Cloud\\u003cbr\\u003eVersion: 1.39.7\\u003cbr\\u003eStart Date: 2022-02-11 00:00:00+00:00\\u003cbr\\u003eActive Users: 3\\u003cbr\\u003eUsers: 13\\u003cbr\\u003eProperties: 89\\u003cbr\\u003eEdits: 154486\\u003cbr\\u003ePages: 45176\",\"Game classification\\u003cbr\\u003eURL: https:\\u002f\\u002fcla-g.wikibase.cloud\\u003cbr\\u003eHost: Wikibase Cloud\\u003cbr\\u003eVersion: 1.39.7\\u003cbr\\u003eStart Date: 2024-08-05 00:00:00+00:00\\u003cbr\\u003eActive Users: 1\\u003cbr\\u003eUsers: 8\\u003cbr\\u003eProperties: 27\\u003cbr\\u003eEdits: 3717\\u003cbr\\u003ePages: 380\",\"Memory Work Los Angeles\\u003cbr\\u003eURL: https:\\u002f\\u002fmemoryworkla.wikibase.cloud\\u003cbr\\u003eHost: Wikibase Cloud\\u003cbr\\u003eVersion: 1.39.7\\u003cbr\\u003eStart Date: 2023-10-11 00:00:00+00:00\\u003cbr\\u003eActive Users: 1\\u003cbr\\u003eUsers: 2\\u003cbr\\u003eProperties: 15\\u003cbr\\u003eEdits: 325\\u003cbr\\u003ePages: 135\",\"Vico\\u003cbr\\u003eURL: https:\\u002f\\u002fvicobncf.wikibase.cloud\\u003cbr\\u003eHost: Wikibase Cloud\\u003cbr\\u003eVersion: 1.39.7\\u003cbr\\u003eStart Date: 2023-08-22 00:00:00+00:00\\u003cbr\\u003eActive Users: 1\\u003cbr\\u003eUsers: 4\\u003cbr\\u003eProperties: 15\\u003cbr\\u003eEdits: 779\\u003cbr\\u003ePages: 168\",\"Repository Authorities\\u003cbr\\u003eURL: https:\\u002f\\u002fir-authorities.wikibase.cloud\\u003cbr\\u003eHost: Wikibase Cloud\\u003cbr\\u003eVersion: 1.39.7\\u003cbr\\u003eStart Date: 2023-02-10 00:00:00+00:00\\u003cbr\\u003eActive Users: 1\\u003cbr\\u003eUsers: 7\\u003cbr\\u003eProperties: 18\\u003cbr\\u003eEdits: 721\\u003cbr\\u003ePages: 179\",\"Machine Learning Models\\u003cbr\\u003eURL: https:\\u002f\\u002fmlmodel.wikibase.cloud\\u003cbr\\u003eHost: Wikibase Cloud\\u003cbr\\u003eVersion: 1.39.7\\u003cbr\\u003eStart Date: 2024-05-18 00:00:00+00:00\\u003cbr\\u003eActive Users: 0\\u003cbr\\u003eUsers: 2\\u003cbr\\u003eProperties: 6\\u003cbr\\u003eEdits: 46\\u003cbr\\u003ePages: 12\",\"Disaster Base\\u003cbr\\u003eURL: https:\\u002f\\u002fdisaster-base.wikibase.cloud\\u003cbr\\u003eHost: Wikibase Cloud\\u003cbr\\u003eVersion: 1.39.7\\u003cbr\\u003eStart Date: 2024-07-22 00:00:00+00:00\\u003cbr\\u003eActive Users: 0\\u003cbr\\u003eUsers: 2\\u003cbr\\u003eProperties: 115\\u003cbr\\u003eEdits: 222\\u003cbr\\u003ePages: 180\",\"catalog-dev\\u003cbr\\u003eURL: https:\\u002f\\u002fcatalog-dev.digital-scriptorium.org\\u003cbr\\u003eHost: Wikibase Cloud\\u003cbr\\u003eVersion: 1.39.7\\u003cbr\\u003eStart Date: 2022-12-21 00:00:00+00:00\\u003cbr\\u003eActive Users: 0\\u003cbr\\u003eUsers: 2\\u003cbr\\u003eProperties: 47\\u003cbr\\u003eEdits: 1758\\u003cbr\\u003ePages: 1731\",\"Ex Musica\\u003cbr\\u003eURL: https:\\u002f\\u002fexmusica.wikibase.cloud\\u003cbr\\u003eHost: Wikibase Cloud\\u003cbr\\u003eVersion: 1.39.7\\u003cbr\\u003eStart Date: 2023-01-13 00:00:00+00:00\\u003cbr\\u003eActive Users: 1\\u003cbr\\u003eUsers: 2\\u003cbr\\u003eProperties: 11\\u003cbr\\u003eEdits: 104\\u003cbr\\u003ePages: 21\",\"Lotico\\u003cbr\\u003eURL: https:\\u002f\\u002flotico.wikibase.cloud\\u003cbr\\u003eHost: Wikibase Cloud\\u003cbr\\u003eVersion: 1.39.7\\u003cbr\\u003eStart Date: 2023-12-25 00:00:00+00:00\\u003cbr\\u003eActive Users: 0\\u003cbr\\u003eUsers: 2\\u003cbr\\u003eProperties: 5\\u003cbr\\u003eEdits: 41\\u003cbr\\u003ePages: 14\",\"BIB18\\u003cbr\\u003eURL: https:\\u002f\\u002fbib18.wikibase.cloud\\u003cbr\\u003eHost: Wikibase Cloud\\u003cbr\\u003eVersion: 1.39.7\\u003cbr\\u003eStart Date: 2024-09-02 00:00:00+00:00\\u003cbr\\u003eActive Users: 0\\u003cbr\\u003eUsers: 2\\u003cbr\\u003eProperties: 77\\u003cbr\\u003eEdits: 799\\u003cbr\\u003ePages: 299\",\"test wiki\\u003cbr\\u003eURL: https:\\u002f\\u002ftest-wiki.wikibase.cloud\\u003cbr\\u003eHost: Wikibase Cloud\\u003cbr\\u003eVersion: 1.39.7\\u003cbr\\u003eStart Date: 2024-06-01 00:00:00+00:00\\u003cbr\\u003eActive Users: 0\\u003cbr\\u003eUsers: 2\\u003cbr\\u003eProperties: 5\\u003cbr\\u003eEdits: 12\\u003cbr\\u003ePages: 6\",\"Mapping DH\\u003cbr\\u003eURL: https:\\u002f\\u002fmapping-dh.wikibase.cloud\\u003cbr\\u003eHost: Wikibase Cloud\\u003cbr\\u003eVersion: 1.39.7\\u003cbr\\u003eStart Date: 2024-08-09 00:00:00+00:00\\u003cbr\\u003eActive Users: 1\\u003cbr\\u003eUsers: 3\\u003cbr\\u003eProperties: 121\\u003cbr\\u003eEdits: 11271\\u003cbr\\u003ePages: 2146\",\"Binbir Done\\u003cbr\\u003eURL: https:\\u002f\\u002fbinbirdone.wikibase.cloud\\u003cbr\\u003eHost: Wikibase Cloud\\u003cbr\\u003eVersion: 1.39.7\\u003cbr\\u003eStart Date: 2024-06-01 00:00:00+00:00\\u003cbr\\u003eActive Users: 1\\u003cbr\\u003eUsers: 2\\u003cbr\\u003eProperties: 132\\u003cbr\\u003eEdits: 4647\\u003cbr\\u003ePages: 726\",\"Citable SPARQL queries\\u003cbr\\u003eURL: https:\\u002f\\u002fsparql-queries-20211030.wikibase.cloud\\u003cbr\\u003eHost: Wikibase Cloud\\u003cbr\\u003eVersion: 1.39.7\\u003cbr\\u003eStart Date: 2021-10-30 00:00:00+00:00\\u003cbr\\u003eActive Users: 0\\u003cbr\\u003eUsers: 3\\u003cbr\\u003eProperties: 10\\u003cbr\\u003eEdits: 38\\u003cbr\\u003ePages: 12\",\"Glossario di biblioteconomia\\u003cbr\\u003eURL: https:\\u002f\\u002fglossbib.wikibase.cloud\\u003cbr\\u003eHost: Wikibase Cloud\\u003cbr\\u003eVersion: 1.39.7\\u003cbr\\u003eStart Date: 2023-04-18 00:00:00+00:00\\u003cbr\\u003eActive Users: 0\\u003cbr\\u003eUsers: 6\\u003cbr\\u003eProperties: 144\\u003cbr\\u003eEdits: 3464\\u003cbr\\u003ePages: 622\",\"corpeus\\u003cbr\\u003eURL: https:\\u002f\\u002fcorpeus.wikibase.cloud\\u003cbr\\u003eHost: Wikibase Cloud\\u003cbr\\u003eVersion: 1.39.7\\u003cbr\\u003eStart Date: 2023-07-20 00:00:00+00:00\\u003cbr\\u003eActive Users: 0\\u003cbr\\u003eUsers: 2\\u003cbr\\u003eProperties: 5\\u003cbr\\u003eEdits: 13\\u003cbr\\u003ePages: 7\",\"Curationist Vocabulary\\u003cbr\\u003eURL: https:\\u002f\\u002fcurationist.wikibase.cloud\\u003cbr\\u003eHost: Wikibase Cloud\\u003cbr\\u003eVersion: 1.39.7\\u003cbr\\u003eStart Date: 2024-08-14 00:00:00+00:00\\u003cbr\\u003eActive Users: 0\\u003cbr\\u003eUsers: 2\\u003cbr\\u003eProperties: 5\\u003cbr\\u003eEdits: 35\\u003cbr\\u003ePages: 11\",\"Hypotheseis\\u003cbr\\u003eURL: https:\\u002f\\u002fhypotheseis.wikibase.cloud\\u003cbr\\u003eHost: Wikibase Cloud\\u003cbr\\u003eVersion: 1.39.7\\u003cbr\\u003eStart Date: 2024-03-27 00:00:00+00:00\\u003cbr\\u003eActive Users: 1\\u003cbr\\u003eUsers: 5\\u003cbr\\u003eProperties: 47\\u003cbr\\u003eEdits: 11308\\u003cbr\\u003ePages: 1745\",\"Ozrens\\u003cbr\\u003eURL: https:\\u002f\\u002fwiki.ozrens.com\\u003cbr\\u003eHost: Wikibase Cloud\\u003cbr\\u003eVersion: 1.39.7\\u003cbr\\u003eStart Date: 2024-07-01 00:00:00+00:00\\u003cbr\\u003eActive Users: 0\\u003cbr\\u003eUsers: 2\\u003cbr\\u003eProperties: 14\\u003cbr\\u003eEdits: 34\\u003cbr\\u003ePages: 23\",\"gj-23things-data-place\\u003cbr\\u003eURL: https:\\u002f\\u002fgj-23things-data-place.wikibase.cloud\\u003cbr\\u003eHost: Wikibase Cloud\\u003cbr\\u003eVersion: 1.39.7\\u003cbr\\u003eStart Date: 2023-09-15 00:00:00+00:00\\u003cbr\\u003eActive Users: 0\\u003cbr\\u003eUsers: 2\\u003cbr\\u003eProperties: 3\\u003cbr\\u003eEdits: 12\\u003cbr\\u003ePages: 6\",\"Bradford Collections\\u003cbr\\u003eURL: https:\\u002f\\u002fbradford-collections.wikibase.cloud\\u003cbr\\u003eHost: Wikibase Cloud\\u003cbr\\u003eVersion: 1.39.7\\u003cbr\\u003eStart Date: 2024-01-30 00:00:00+00:00\\u003cbr\\u003eActive Users: 0\\u003cbr\\u003eUsers: 5\\u003cbr\\u003eProperties: 16\\u003cbr\\u003eEdits: 501\\u003cbr\\u003ePages: 45\",\"MLIS Course Catalogs\\u003cbr\\u003eURL: https:\\u002f\\u002fmliscoursecatalogs.wikibase.cloud\\u003cbr\\u003eHost: Wikibase Cloud\\u003cbr\\u003eVersion: 1.39.7\\u003cbr\\u003eStart Date: 2024-03-27 00:00:00+00:00\\u003cbr\\u003eActive Users: 0\\u003cbr\\u003eUsers: 2\\u003cbr\\u003eProperties: 14\\u003cbr\\u003eEdits: 1145\\u003cbr\\u003ePages: 195\",\"Monumenta Linguae Vasconum\\u003cbr\\u003eURL: https:\\u002f\\u002fmonumenta.wikibase.cloud\\u002f\\u003cbr\\u003eHost: Wikibase Cloud\\u003cbr\\u003eVersion: 1.39.7\\u003cbr\\u003eStart Date: 2023-07-22 00:00:00+00:00\\u003cbr\\u003eActive Users: 1\\u003cbr\\u003eUsers: 4\\u003cbr\\u003eProperties: 176\\u003cbr\\u003eEdits: 107225\\u003cbr\\u003ePages: 88321\",\"OpenAcolit\\u003cbr\\u003eURL: https:\\u002f\\u002fopenacolit.wikibase.cloud\\u003cbr\\u003eHost: Wikibase Cloud\\u003cbr\\u003eVersion: 1.39.7\\u003cbr\\u003eStart Date: 2023-06-28 00:00:00+00:00\\u003cbr\\u003eActive Users: 2\\u003cbr\\u003eUsers: 32\\u003cbr\\u003eProperties: 15\\u003cbr\\u003eEdits: 5374\\u003cbr\\u003ePages: 1289\",\"SCC\\u003cbr\\u003eURL: https:\\u002f\\u002fcongration.wikibase.cloud\\u003cbr\\u003eHost: Wikibase Cloud\\u003cbr\\u003eVersion: 1.39.7\\u003cbr\\u003eStart Date: 2024-06-14 00:00:00+00:00\\u003cbr\\u003eActive Users: 2\\u003cbr\\u003eUsers: 2\\u003cbr\\u003eProperties: 37\\u003cbr\\u003eEdits: 275\\u003cbr\\u003ePages: 115\",\"NemesiEmigr\\u00e1ci\\u00f3\\u003cbr\\u003eURL: https:\\u002f\\u002fnobleemigration.wikibase.cloud\\u003cbr\\u003eHost: Wikibase Cloud\\u003cbr\\u003eVersion: 1.39.7\\u003cbr\\u003eStart Date: 2024-02-20 00:00:00+00:00\\u003cbr\\u003eActive Users: 0\\u003cbr\\u003eUsers: 2\\u003cbr\\u003eProperties: 152\\u003cbr\\u003eEdits: 994\\u003cbr\\u003ePages: 224\",\"Wikidata for Digital Preservation\\u003cbr\\u003eURL: https:\\u002f\\u002fwikidp.wikibase.cloud\\u002f\\u003cbr\\u003eHost: Wikibase Cloud\\u003cbr\\u003eVersion: 1.39.7\\u003cbr\\u003eStart Date: 2020-03-17 00:00:00+00:00\\u003cbr\\u003eActive Users: 1\\u003cbr\\u003eUsers: 35585\\u003cbr\\u003eProperties: 77\\u003cbr\\u003eEdits: 151280\\u003cbr\\u003ePages: 104925\",\"d'A\\u00efeux et d'Ailleurs\\u003cbr\\u003eURL: https:\\u002f\\u002fdaieuxetdailleurs.wikibase.cloud\\u003cbr\\u003eHost: Wikibase Cloud\\u003cbr\\u003eVersion: 1.39.7\\u003cbr\\u003eStart Date: 2022-09-16 00:00:00+00:00\\u003cbr\\u003eActive Users: 0\\u003cbr\\u003eUsers: 2\\u003cbr\\u003eProperties: 62\\u003cbr\\u003eEdits: 8950\\u003cbr\\u003ePages: 1138\",\"Internet Domains Wikibase\\u003cbr\\u003eURL: https:\\u002f\\u002fdomains.wikibase.cloud\\u003cbr\\u003eHost: Wikibase Cloud\\u003cbr\\u003eVersion: 1.39.7\\u003cbr\\u003eStart Date: 2023-05-07 00:00:00+00:00\\u003cbr\\u003eActive Users: 1\\u003cbr\\u003eUsers: 13\\u003cbr\\u003eProperties: 34\\u003cbr\\u003eEdits: 831168\\u003cbr\\u003ePages: 311049\",\"Metabase\\u003cbr\\u003eURL: https:\\u002f\\u002fmetabase.wikibase.cloud\\u003cbr\\u003eHost: Wikibase Cloud\\u003cbr\\u003eVersion: 1.39.7\\u003cbr\\u003eStart Date: 2022-10-13 00:00:00+00:00\\u003cbr\\u003eActive Users: 6\\u003cbr\\u003eUsers: 36\\u003cbr\\u003eProperties: 86\\u003cbr\\u003eEdits: 39552\\u003cbr\\u003ePages: 3657\",\"LGBTdb\\u003cbr\\u003eURL: https:\\u002f\\u002flgbtdb.wikibase.cloud\\u002f\\u003cbr\\u003eHost: Wikibase Cloud\\u003cbr\\u003eVersion: 1.39.7\\u003cbr\\u003eStart Date: 2023-03-06 00:00:00+00:00\\u003cbr\\u003eActive Users: 1\\u003cbr\\u003eUsers: 4\\u003cbr\\u003eProperties: 834\\u003cbr\\u003eEdits: 182695\\u003cbr\\u003ePages: 34036\",\"Privacy Wiki\\u003cbr\\u003eURL: https:\\u002f\\u002fprivacy.wikibase.cloud\\u003cbr\\u003eHost: Wikibase Cloud\\u003cbr\\u003eVersion: 1.39.7\\u003cbr\\u003eStart Date: 2024-09-13 00:00:00+00:00\\u003cbr\\u003eActive Users: 0\\u003cbr\\u003eUsers: 2\\u003cbr\\u003eProperties: 7\\u003cbr\\u003eEdits: 17\\u003cbr\\u003ePages: 12\",\"Swedish Museum\\u003cbr\\u003eURL: https:\\u002f\\u002fswedishmuseum.wikibase.cloud\\u003cbr\\u003eHost: Wikibase Cloud\\u003cbr\\u003eVersion: 1.39.7\\u003cbr\\u003eStart Date: 2019-11-18 00:00:00+00:00\\u003cbr\\u003eActive Users: 0\\u003cbr\\u003eUsers: 137\\u003cbr\\u003eProperties: 19\\u003cbr\\u003eEdits: 733\\u003cbr\\u003ePages: 52\",\"John Samuel\\u003cbr\\u003eURL: https:\\u002f\\u002fjsamwrites.wikibase.cloud\\u003cbr\\u003eHost: Wikibase Cloud\\u003cbr\\u003eVersion: 1.39.7\\u003cbr\\u003eStart Date: 2023-02-12 00:00:00+00:00\\u003cbr\\u003eActive Users: 2\\u003cbr\\u003eUsers: 2\\u003cbr\\u003eProperties: 36\\u003cbr\\u003eEdits: 5245\\u003cbr\\u003ePages: 1416\",\"Hi Knowledge\\u003cbr\\u003eURL: https:\\u002f\\u002fhiktest.bootsa.net\\u003cbr\\u003eHost: Wikibase Cloud\\u003cbr\\u003eVersion: 1.39.7\\u003cbr\\u003eStart Date: 2024-02-07 00:00:00+00:00\\u003cbr\\u003eActive Users: 0\\u003cbr\\u003eUsers: 3\\u003cbr\\u003eProperties: 7\\u003cbr\\u003eEdits: 71\\u003cbr\\u003ePages: 40\",\"RIWATCH MUSEUM\\u003cbr\\u003eURL: https:\\u002f\\u002friwatchmuseum.wikibase.cloud\\u003cbr\\u003eHost: Wikibase Cloud\\u003cbr\\u003eVersion: 1.39.7\\u003cbr\\u003eStart Date: 2023-07-14 00:00:00+00:00\\u003cbr\\u003eActive Users: 0\\u003cbr\\u003eUsers: 3\\u003cbr\\u003eProperties: 11\\u003cbr\\u003eEdits: 538\\u003cbr\\u003ePages: 159\",\"Publication Abbreviations\\u003cbr\\u003eURL: https:\\u002f\\u002fabbreviations.wikibase.cloud\\u003cbr\\u003eHost: Wikibase Cloud\\u003cbr\\u003eVersion: 1.39.7\\u003cbr\\u003eStart Date: 2023-03-10 00:00:00+00:00\\u003cbr\\u003eActive Users: 0\\u003cbr\\u003eUsers: 4\\u003cbr\\u003eProperties: 21\\u003cbr\\u003eEdits: 8884\\u003cbr\\u003ePages: 1172\",\"Enote-Playground\\u003cbr\\u003eURL: https:\\u002f\\u002fenote-playground.wikibase.cloud\\u003cbr\\u003eHost: Wikibase Cloud\\u003cbr\\u003eVersion: 1.39.7\\u003cbr\\u003eStart Date: 2023-01-27 00:00:00+00:00\\u003cbr\\u003eActive Users: 0\\u003cbr\\u003eUsers: 9\\u003cbr\\u003eProperties: 60\\u003cbr\\u003eEdits: 640\\u003cbr\\u003ePages: 164\",\"Ppuidev\\u003cbr\\u003eURL: https:\\u002f\\u002fpbuidev.wikibase.cloud\\u003cbr\\u003eHost: Wikibase Cloud\\u003cbr\\u003eVersion: 1.39.7\\u003cbr\\u003eStart Date: 2023-01-16 00:00:00+00:00\\u003cbr\\u003eActive Users: 0\\u003cbr\\u003eUsers: 5\\u003cbr\\u003eProperties: 872\\u003cbr\\u003eEdits: 77671\\u003cbr\\u003ePages: 51615\",\"Berkeley Law\\u003cbr\\u003eURL: https:\\u002f\\u002fberkeleylaw.wikibase.cloud\\u003cbr\\u003eHost: Wikibase Cloud\\u003cbr\\u003eVersion: 1.39.7\\u003cbr\\u003eStart Date: 2022-11-02 00:00:00+00:00\\u003cbr\\u003eActive Users: 0\\u003cbr\\u003eUsers: 3\\u003cbr\\u003eProperties: 29\\u003cbr\\u003eEdits: 58\\u003cbr\\u003ePages: 34\",\"Bodhitestwiki\\u003cbr\\u003eURL: https:\\u002f\\u002fbodhitestwiki.wikibase.cloud\\u003cbr\\u003eHost: Wikibase Cloud\\u003cbr\\u003eVersion: 1.39.7\\u003cbr\\u003eStart Date: 2023-03-24 00:00:00+00:00\\u003cbr\\u003eActive Users: 0\\u003cbr\\u003eUsers: 2\\u003cbr\\u003eProperties: 12\\u003cbr\\u003eEdits: 51\\u003cbr\\u003ePages: 19\",\"mythogram\\u003cbr\\u003eURL: https:\\u002f\\u002fmythogram.wikibase.cloud\\u003cbr\\u003eHost: Wikibase Cloud\\u003cbr\\u003eVersion: 1.39.7\\u003cbr\\u003eStart Date: 2024-05-02 00:00:00+00:00\\u003cbr\\u003eActive Users: 0\\u003cbr\\u003eUsers: 2\\u003cbr\\u003eProperties: 25\\u003cbr\\u003eEdits: 281970\\u003cbr\\u003ePages: 15684\",\"Qichwabase\\u003cbr\\u003eURL: https:\\u002f\\u002fqichwa.wikibase.cloud\\u002f\\u003cbr\\u003eHost: Wikibase Cloud\\u003cbr\\u003eVersion: 1.39.7\\u003cbr\\u003eStart Date: 2022-05-30 00:00:00+00:00\\u003cbr\\u003eActive Users: 0\\u003cbr\\u003eUsers: 16\\u003cbr\\u003eProperties: 40\\u003cbr\\u003eEdits: 81170\\u003cbr\\u003ePages: 27572\",\"essencialistas\\u003cbr\\u003eURL: https:\\u002f\\u002fessencialistas.wikibase.cloud\\u003cbr\\u003eHost: Wikibase Cloud\\u003cbr\\u003eVersion: 1.39.7\\u003cbr\\u003eStart Date: 2024-02-07 00:00:00+00:00\\u003cbr\\u003eActive Users: 0\\u003cbr\\u003eUsers: 3\\u003cbr\\u003eProperties: 5\\u003cbr\\u003eEdits: 39\\u003cbr\\u003ePages: 22\",\"WikiFashion\\u003cbr\\u003eURL: https:\\u002f\\u002fwikifashion.wikibase.cloud\\u003cbr\\u003eHost: Wikibase Cloud\\u003cbr\\u003eVersion: 1.39.7\\u003cbr\\u003eStart Date: 2024-09-16 00:00:00+00:00\\u003cbr\\u003eActive Users: 2\\u003cbr\\u003eUsers: 2\\u003cbr\\u003eProperties: 39\\u003cbr\\u003eEdits: 8677\\u003cbr\\u003ePages: 2387\",\"vtul\\u003cbr\\u003eURL: https:\\u002f\\u002fvtul-metadataservices.wikibase.cloud\\u003cbr\\u003eHost: Wikibase Cloud\\u003cbr\\u003eVersion: 1.39.7\\u003cbr\\u003eStart Date: 2023-02-13 00:00:00+00:00\\u003cbr\\u003eActive Users: 0\\u003cbr\\u003eUsers: 9\\u003cbr\\u003eProperties: 63\\u003cbr\\u003eEdits: 486\\u003cbr\\u003ePages: 161\",\"elit\\u003cbr\\u003eURL: https:\\u002f\\u002fe-lit.wikibase.cloud\\u003cbr\\u003eHost: Wikibase Cloud\\u003cbr\\u003eVersion: 1.39.7\\u003cbr\\u003eStart Date: 2024-02-10 00:00:00+00:00\\u003cbr\\u003eActive Users: 1\\u003cbr\\u003eUsers: 2\\u003cbr\\u003eProperties: 4\\u003cbr\\u003eEdits: 15\\u003cbr\\u003ePages: 8\",\"R74n Wikibase\\u003cbr\\u003eURL: https:\\u002f\\u002fdata.r74n.com\\u002f\\u003cbr\\u003eHost: Wikibase Cloud\\u003cbr\\u003eVersion: 1.39.7\\u003cbr\\u003eStart Date: 2022-11-17 00:00:00+00:00\\u003cbr\\u003eActive Users: 1\\u003cbr\\u003eUsers: 141\\u003cbr\\u003eProperties: 236\\u003cbr\\u003eEdits: 19776\\u003cbr\\u003ePages: 3589\",\"CLB-LOD Wikibase\\u003cbr\\u003eURL: https:\\u002f\\u002fclb-lod.wikibase.cloud\\u003cbr\\u003eHost: Wikibase Cloud\\u003cbr\\u003eVersion: 1.39.7\\u003cbr\\u003eStart Date: 2022-08-26 00:00:00+00:00\\u003cbr\\u003eActive Users: 0\\u003cbr\\u003eUsers: 3\\u003cbr\\u003eProperties: 88\\u003cbr\\u003eEdits: 9564\\u003cbr\\u003ePages: 7618\",\"NFDI4Culture Data Enrichment\\u003cbr\\u003eURL: https:\\u002f\\u002fenrich-nfdi4culture.wikibase.cloud\\u003cbr\\u003eHost: Wikibase Cloud\\u003cbr\\u003eVersion: 1.39.7\\u003cbr\\u003eStart Date: 2021-06-17 00:00:00+00:00\\u003cbr\\u003eActive Users: 0\\u003cbr\\u003eUsers: 8\\u003cbr\\u003eProperties: 83\\u003cbr\\u003eEdits: 6703\\u003cbr\\u003ePages: 771\",\"Agua Archiv\\u003cbr\\u003eURL: https:\\u002f\\u002fagua-archiv.wikibase.cloud\\u003cbr\\u003eHost: Wikibase Cloud\\u003cbr\\u003eVersion: 1.39.7\\u003cbr\\u003eStart Date: 2024-06-28 00:00:00+00:00\\u003cbr\\u003eActive Users: 0\\u003cbr\\u003eUsers: 2\\u003cbr\\u003eProperties: 13\\u003cbr\\u003eEdits: 39\\u003cbr\\u003ePages: 23\",\"Open Miscellaneous Wikibase\\u003cbr\\u003eURL: https:\\u002f\\u002fother.wikibase.cloud\\u003cbr\\u003eHost: Wikibase Cloud\\u003cbr\\u003eVersion: 1.39.7\\u003cbr\\u003eStart Date: 2023-01-13 00:00:00+00:00\\u003cbr\\u003eActive Users: 1\\u003cbr\\u003eUsers: 4\\u003cbr\\u003eProperties: 8\\u003cbr\\u003eEdits: 162\\u003cbr\\u003ePages: 32\",\"Pets I Have Owned\\u003cbr\\u003eURL: https:\\u002f\\u002fpetsihaveowned.wikibase.cloud\\u003cbr\\u003eHost: Wikibase Cloud\\u003cbr\\u003eVersion: 1.39.7\\u003cbr\\u003eStart Date: 2024-04-17 00:00:00+00:00\\u003cbr\\u003eActive Users: 0\\u003cbr\\u003eUsers: 2\\u003cbr\\u003eProperties: 2\\u003cbr\\u003eEdits: 6\\u003cbr\\u003ePages: 5\",\"GWMAB Edu Wikibase\\u003cbr\\u003eURL: https:\\u002f\\u002fgwmab-edu.wikibase.cloud\\u003cbr\\u003eHost: Wikibase Cloud\\u003cbr\\u003eVersion: 1.39.7\\u003cbr\\u003eStart Date: 2023-10-09 00:00:00+00:00\\u003cbr\\u003eActive Users: 0\\u003cbr\\u003eUsers: 7\\u003cbr\\u003eProperties: 10\\u003cbr\\u003eEdits: 112\\u003cbr\\u003ePages: 33\",\"Biomarker Linked Data\\u003cbr\\u003eURL: https:\\u002f\\u002fbiomarker.wikibase.cloud\\u003cbr\\u003eHost: Wikibase Cloud\\u003cbr\\u003eVersion: 1.39.7\\u003cbr\\u003eStart Date: 2020-04-17 00:00:00+00:00\\u003cbr\\u003eActive Users: 0\\u003cbr\\u003eUsers: 5\\u003cbr\\u003eProperties: 42\\u003cbr\\u003eEdits: 269\\u003cbr\\u003ePages: 68\",\"ZiF sandbox\\u003cbr\\u003eURL: https:\\u002f\\u002fzif-sandbox.wikibase.cloud\\u003cbr\\u003eHost: Wikibase Cloud\\u003cbr\\u003eVersion: 1.39.7\\u003cbr\\u003eStart Date: 2024-09-10 00:00:00+00:00\\u003cbr\\u003eActive Users: 0\\u003cbr\\u003eUsers: 3\\u003cbr\\u003eProperties: 13\\u003cbr\\u003eEdits: 225\\u003cbr\\u003ePages: 63\",\"Numisgnosis\\u003cbr\\u003eURL: https:\\u002f\\u002fnumisgnosis.wikibase.cloud\\u003cbr\\u003eHost: Wikibase Cloud\\u003cbr\\u003eVersion: 1.39.7\\u003cbr\\u003eStart Date: 2024-03-26 00:00:00+00:00\\u003cbr\\u003eActive Users: 0\\u003cbr\\u003eUsers: 2\\u003cbr\\u003eProperties: 38\\u003cbr\\u003eEdits: 473\\u003cbr\\u003ePages: 141\",\"cocreate cologne alpha\\u003cbr\\u003eURL: https:\\u002f\\u002fcocreate-cologne.wikibase.cloud\\u003cbr\\u003eHost: Wikibase Cloud\\u003cbr\\u003eVersion: 1.39.7\\u003cbr\\u003eStart Date: 2020-05-31 00:00:00+00:00\\u003cbr\\u003eActive Users: 1\\u003cbr\\u003eUsers: 8\\u003cbr\\u003eProperties: 81\\u003cbr\\u003eEdits: 10052\\u003cbr\\u003ePages: 2940\",\"Zine Catalog\\u003cbr\\u003eURL: https:\\u002f\\u002fzine-catalog.wikibase.cloud\\u003cbr\\u003eHost: Wikibase Cloud\\u003cbr\\u003eVersion: 1.39.7\\u003cbr\\u003eStart Date: 2023-07-11 00:00:00+00:00\\u003cbr\\u003eActive Users: 0\\u003cbr\\u003eUsers: 2\\u003cbr\\u003eProperties: 6\\u003cbr\\u003eEdits: 26\\u003cbr\\u003ePages: 11\",\"My Community Archives\\u003cbr\\u003eURL: https:\\u002f\\u002fmycommunity.wikibase.cloud\\u003cbr\\u003eHost: Wikibase Cloud\\u003cbr\\u003eVersion: 1.39.7\\u003cbr\\u003eStart Date: 2023-08-14 00:00:00+00:00\\u003cbr\\u003eActive Users: 1\\u003cbr\\u003eUsers: 3\\u003cbr\\u003eProperties: 26\\u003cbr\\u003eEdits: 3313\\u003cbr\\u003ePages: 1018\",\"NAF Test\\u003cbr\\u003eURL: https:\\u002f\\u002fnaf-test.wikibase.cloud\\u003cbr\\u003eHost: Wikibase Cloud\\u003cbr\\u003eVersion: 1.39.7\\u003cbr\\u003eStart Date: 2023-01-10 00:00:00+00:00\\u003cbr\\u003eActive Users: 0\\u003cbr\\u003eUsers: 19\\u003cbr\\u003eProperties: 3035\\u003cbr\\u003eEdits: 3986\\u003cbr\\u003ePages: 3195\",\"Bradford Collections Test\\u003cbr\\u003eURL: https:\\u002f\\u002fbradford-collections-test.wikibase.cloud\\u003cbr\\u003eHost: Wikibase Cloud\\u003cbr\\u003eVersion: 1.39.7\\u003cbr\\u003eStart Date: 2024-07-09 00:00:00+00:00\\u003cbr\\u003eActive Users: 1\\u003cbr\\u003eUsers: 3\\u003cbr\\u003eProperties: 12\\u003cbr\\u003eEdits: 65\\u003cbr\\u003ePages: 16\",\"TDKIV\\u003cbr\\u003eURL: https:\\u002f\\u002ftdkiv.wikibase.cloud\\u003cbr\\u003eHost: Wikibase Cloud\\u003cbr\\u003eVersion: 1.39.7\\u003cbr\\u003eStart Date: 2024-03-27 00:00:00+00:00\\u003cbr\\u003eActive Users: 1\\u003cbr\\u003eUsers: 4\\u003cbr\\u003eProperties: 28\\u003cbr\\u003eEdits: 80529\\u003cbr\\u003ePages: 4997\",\"Congruence Engine Data Register\\u003cbr\\u003eURL: https:\\u002f\\u002fcongruence-engine.wikibase.cloud\\u003cbr\\u003eHost: Wikibase Cloud\\u003cbr\\u003eVersion: 1.39.7\\u003cbr\\u003eStart Date: 2024-07-30 00:00:00+00:00\\u003cbr\\u003eActive Users: 3\\u003cbr\\u003eUsers: 11\\u003cbr\\u003eProperties: 10\\u003cbr\\u003eEdits: 317\\u003cbr\\u003ePages: 39\",\"LibMovIt Project\\u003cbr\\u003eURL: https:\\u002f\\u002flibmovit.wikibase.cloud\\u003cbr\\u003eHost: Wikibase Cloud\\u003cbr\\u003eVersion: 1.39.7\\u003cbr\\u003eStart Date: 2024-01-22 00:00:00+00:00\\u003cbr\\u003eActive Users: 2\\u003cbr\\u003eUsers: 43\\u003cbr\\u003eProperties: 75\\u003cbr\\u003eEdits: 26305\\u003cbr\\u003ePages: 2151\",\"Whakapapa Test\\u003cbr\\u003eURL: https:\\u002f\\u002fwhakapapa.wikibase.cloud\\u003cbr\\u003eHost: Wikibase Cloud\\u003cbr\\u003eVersion: 1.39.7\\u003cbr\\u003eStart Date: 2023-08-07 00:00:00+00:00\\u003cbr\\u003eActive Users: 0\\u003cbr\\u003eUsers: 2\\u003cbr\\u003eProperties: 4\\u003cbr\\u003eEdits: 17\\u003cbr\\u003ePages: 7\",\"testing\\u003cbr\\u003eURL: https:\\u002f\\u002ftestingwiki.wikibase.cloud\\u003cbr\\u003eHost: Wikibase Cloud\\u003cbr\\u003eVersion: 1.39.7\\u003cbr\\u003eStart Date: 2024-02-20 00:00:00+00:00\\u003cbr\\u003eActive Users: 1\\u003cbr\\u003eUsers: 4\\u003cbr\\u003eProperties: 25\\u003cbr\\u003eEdits: 230\\u003cbr\\u003ePages: 54\",\"OHOS Community Wikibase\\u003cbr\\u003eURL: https:\\u002f\\u002fohos-community.wikibase.cloud\\u003cbr\\u003eHost: Wikibase Cloud\\u003cbr\\u003eVersion: 1.39.7\\u003cbr\\u003eStart Date: 2023-12-11 00:00:00+00:00\\u003cbr\\u003eActive Users: 1\\u003cbr\\u003eUsers: 2\\u003cbr\\u003eProperties: 9\\u003cbr\\u003eEdits: 42238\\u003cbr\\u003ePages: 12623\",\"Protist-Prokaryote Symbiosis Database\\u003cbr\\u003eURL: https:\\u002f\\u002fppsdb.wikibase.cloud\\u003cbr\\u003eHost: Wikibase Cloud\\u003cbr\\u003eVersion: 1.39.7\\u003cbr\\u003eStart Date: 2024-03-15 00:00:00+00:00\\u003cbr\\u003eActive Users: 1\\u003cbr\\u003eUsers: 2\\u003cbr\\u003eProperties: 43\\u003cbr\\u003eEdits: 17520\\u003cbr\\u003ePages: 2432\",\"Tr\\u00e9sor des D\\u00e9lib\\u00e9rations Municipales de la Lorraine\\u003cbr\\u003eURL: https:\\u002f\\u002ftredemulor.wikibase.cloud\\u003cbr\\u003eHost: Wikibase Cloud\\u003cbr\\u003eVersion: 1.39.7\\u003cbr\\u003eStart Date: 2024-05-17 00:00:00+00:00\\u003cbr\\u003eActive Users: 0\\u003cbr\\u003eUsers: 2\\u003cbr\\u003eProperties: 15\\u003cbr\\u003eEdits: 173\\u003cbr\\u003ePages: 57\",\"Mackenzie Wikibase Test\\u003cbr\\u003eURL: https:\\u002f\\u002ftest-mackenzie-dev.wikibase.cloud\\u003cbr\\u003eHost: Wikibase Cloud\\u003cbr\\u003eVersion: 1.39.7\\u003cbr\\u003eStart Date: 2023-11-06 00:00:00+00:00\\u003cbr\\u003eActive Users: 0\\u003cbr\\u003eUsers: 3\\u003cbr\\u003eProperties: 49\\u003cbr\\u003eEdits: 256\\u003cbr\\u003ePages: 78\",\"Berkeley Law IR\\u003cbr\\u003eURL: https:\\u002f\\u002fberkeleylawir.wikibase.cloud\\u003cbr\\u003eHost: Wikibase Cloud\\u003cbr\\u003eVersion: 1.39.7\\u003cbr\\u003eStart Date: 2023-12-22 00:00:00+00:00\\u003cbr\\u003eActive Users: 0\\u003cbr\\u003eUsers: 2\\u003cbr\\u003eProperties: 31\\u003cbr\\u003eEdits: 224\\u003cbr\\u003ePages: 79\",\"Kurd\\u00ee Wikibase\\u003cbr\\u003eURL: https:\\u002f\\u002fkurdi.wikibase.cloud\\u002f\\u003cbr\\u003eHost: Wikibase Cloud\\u003cbr\\u003eVersion: 1.39.7\\u003cbr\\u003eStart Date: 2023-01-09 00:00:00+00:00\\u003cbr\\u003eActive Users: 1\\u003cbr\\u003eUsers: 4\\u003cbr\\u003eProperties: 17\\u003cbr\\u003eEdits: 26046\\u003cbr\\u003ePages: 21069\",\"CNB works\\u003cbr\\u003eURL: https:\\u002f\\u002fcnb-works.wikibase.cloud\\u003cbr\\u003eHost: Wikibase Cloud\\u003cbr\\u003eVersion: 1.39.7\\u003cbr\\u003eStart Date: 2023-02-06 00:00:00+00:00\\u003cbr\\u003eActive Users: 1\\u003cbr\\u003eUsers: 3\\u003cbr\\u003eProperties: 31\\u003cbr\\u003eEdits: 110\\u003cbr\\u003ePages: 34\",\"CODECS Wikibase\\u003cbr\\u003eURL: https:\\u002f\\u002fcodecs.wikibase.cloud\\u003cbr\\u003eHost: Wikibase Cloud\\u003cbr\\u003eVersion: 1.39.7\\u003cbr\\u003eStart Date: 2024-07-06 00:00:00+00:00\\u003cbr\\u003eActive Users: 1\\u003cbr\\u003eUsers: 3\\u003cbr\\u003eProperties: 101\\u003cbr\\u003eEdits: 9835\\u003cbr\\u003ePages: 5159\",\"The Italian Underground press knowledge base\\u003cbr\\u003eURL: https:\\u002f\\u002fitunderpress.wikibase.cloud\\u003cbr\\u003eHost: Wikibase Cloud\\u003cbr\\u003eVersion: 1.39.7\\u003cbr\\u003eStart Date: 2022-09-07 00:00:00+00:00\\u003cbr\\u003eActive Users: 1\\u003cbr\\u003eUsers: 3\\u003cbr\\u003eProperties: 23\\u003cbr\\u003eEdits: 250\\u003cbr\\u003ePages: 69\",\"UniDive WG2-T2.2\\u003cbr\\u003eURL: https:\\u002f\\u002funidive.wikibase.cloud\\u003cbr\\u003eHost: Wikibase Cloud\\u003cbr\\u003eVersion: 1.39.7\\u003cbr\\u003eStart Date: 2024-07-03 00:00:00+00:00\\u003cbr\\u003eActive Users: 1\\u003cbr\\u003eUsers: 3\\u003cbr\\u003eProperties: 9\\u003cbr\\u003eEdits: 8778\\u003cbr\\u003ePages: 4390\",\"Enlightened Medialities\\u003cbr\\u003eURL: https:\\u002f\\u002fenlightenedmedialities.wikibase.cloud\\u003cbr\\u003eHost: Wikibase Cloud\\u003cbr\\u003eVersion: 1.39.7\\u003cbr\\u003eStart Date: 2020-05-19 00:00:00+00:00\\u003cbr\\u003eActive Users: 1\\u003cbr\\u003eUsers: 5\\u003cbr\\u003eProperties: 66\\u003cbr\\u003eEdits: 80184\\u003cbr\\u003ePages: 2881\",\"MAD Landscape Collective\\u003cbr\\u003eURL: https:\\u002f\\u002fmad-landscape-collective.wikibase.cloud\\u003cbr\\u003eHost: Wikibase Cloud\\u003cbr\\u003eVersion: 1.39.7\\u003cbr\\u003eStart Date: 2024-06-21 00:00:00+00:00\\u003cbr\\u003eActive Users: 0\\u003cbr\\u003eUsers: 2\\u003cbr\\u003eProperties: 5\\u003cbr\\u003eEdits: 16\\u003cbr\\u003ePages: 6\",\"importer\\u003cbr\\u003eURL: https:\\u002f\\u002fimporter.wikibase.cloud\\u003cbr\\u003eHost: Wikibase Cloud\\u003cbr\\u003eVersion: 1.39.7\\u003cbr\\u003eStart Date: 2023-03-07 00:00:00+00:00\\u003cbr\\u003eActive Users: 0\\u003cbr\\u003eUsers: 4\\u003cbr\\u003eProperties: 693\\u003cbr\\u003eEdits: 2499\\u003cbr\\u003ePages: 2342\",\"Hyperstage\\u003cbr\\u003eURL: https:\\u002f\\u002fhyperstage.wikibase.cloud\\u003cbr\\u003eHost: Wikibase Cloud\\u003cbr\\u003eVersion: 1.39.7\\u003cbr\\u003eStart Date: 2023-11-24 00:00:00+00:00\\u003cbr\\u003eActive Users: 3\\u003cbr\\u003eUsers: 6\\u003cbr\\u003eProperties: 110\\u003cbr\\u003eEdits: 10946\\u003cbr\\u003ePages: 1403\",\"Open Data Kerala Wikibase\\u003cbr\\u003eURL: https:\\u002f\\u002fopendatakerala.wikibase.cloud\\u002f\\u003cbr\\u003eHost: Wikibase Cloud\\u003cbr\\u003eVersion: 1.39.7\\u003cbr\\u003eStart Date: 2023-09-25 00:00:00+00:00\\u003cbr\\u003eActive Users: 1\\u003cbr\\u003eUsers: 4\\u003cbr\\u003eProperties: 35\\u003cbr\\u003eEdits: 46873\\u003cbr\\u003ePages: 23191\",\"Local Food Data\\u003cbr\\u003eURL: https:\\u002f\\u002fwikibase.locavorefoods.info\\u003cbr\\u003eHost: Wikibase Cloud\\u003cbr\\u003eVersion: 1.39.7\\u003cbr\\u003eStart Date: 2023-12-17 00:00:00+00:00\\u003cbr\\u003eActive Users: 0\\u003cbr\\u003eUsers: 3\\u003cbr\\u003eProperties: 42\\u003cbr\\u003eEdits: 100\\u003cbr\\u003ePages: 48\",\"ASCLTestWikibase\\u003cbr\\u003eURL: https:\\u002f\\u002fascltestwikibase.wikibase.cloud\\u003cbr\\u003eHost: Wikibase Cloud\\u003cbr\\u003eVersion: 1.39.7\\u003cbr\\u003eStart Date: 2022-09-09 00:00:00+00:00\\u003cbr\\u003eActive Users: 0\\u003cbr\\u003eUsers: 3\\u003cbr\\u003eProperties: 33\\u003cbr\\u003eEdits: 363\\u003cbr\\u003ePages: 53\",\"Prosop Wiki\\u003cbr\\u003eURL: https:\\u002f\\u002fprosop-wiki.wikibase.cloud\\u003cbr\\u003eHost: Wikibase Cloud\\u003cbr\\u003eVersion: 1.39.7\\u003cbr\\u003eStart Date: 2022-10-13 00:00:00+00:00\\u003cbr\\u003eActive Users: 0\\u003cbr\\u003eUsers: 2\\u003cbr\\u003eProperties: 7\\u003cbr\\u003eEdits: 49\\u003cbr\\u003ePages: 9\",\"Dominio P\\u00fablico\\u003cbr\\u003eURL: https:\\u002f\\u002fdominiopublico.wikibase.cloud\\u003cbr\\u003eHost: Wikibase Cloud\\u003cbr\\u003eVersion: 1.39.7\\u003cbr\\u003eStart Date: 2024-09-26 00:00:00+00:00\\u003cbr\\u003eActive Users: 1\\u003cbr\\u003eUsers: 2\\u003cbr\\u003eProperties: 4\\u003cbr\\u003eEdits: 140\\u003cbr\\u003ePages: 45\",\"Fuzzy Spatial Locations\\u003cbr\\u003eURL: https:\\u002f\\u002ffuzzy-sl.wikibase.cloud\\u003cbr\\u003eHost: Wikibase Cloud\\u003cbr\\u003eVersion: 1.39.7\\u003cbr\\u003eStart Date: 2023-07-27 00:00:00+00:00\\u003cbr\\u003eActive Users: 1\\u003cbr\\u003eUsers: 2\\u003cbr\\u003eProperties: 34\\u003cbr\\u003eEdits: 677\\u003cbr\\u003ePages: 157\",\"WikiFashion\\u003cbr\\u003eURL: https:\\u002f\\u002ffashionwiki.wikibase.cloud\\u003cbr\\u003eHost: Wikibase Cloud\\u003cbr\\u003eVersion: 1.39.7\\u003cbr\\u003eStart Date: 2024-11-04 00:00:00+00:00\\u003cbr\\u003eActive Users: 2\\u003cbr\\u003eUsers: 2\\u003cbr\\u003eProperties: 30\\u003cbr\\u003eEdits: 79819\\u003cbr\\u003ePages: 5041\",\"NFDI4Objects Task Area 4 Dev-Instance\\u003cbr\\u003eURL: https:\\u002f\\u002fn4o-ta4-dev.wikibase.cloud\\u003cbr\\u003eHost: Wikibase Cloud\\u003cbr\\u003eVersion: 1.39.7\\u003cbr\\u003eStart Date: 2024-04-17 00:00:00+00:00\\u003cbr\\u003eActive Users: 1\\u003cbr\\u003eUsers: 3\\u003cbr\\u003eProperties: 28\\u003cbr\\u003eEdits: 119\\u003cbr\\u003ePages: 53\",\"tp-lod\\u003cbr\\u003eURL: https:\\u002f\\u002ftp-lod.wikibase.cloud\\u003cbr\\u003eHost: Wikibase Cloud\\u003cbr\\u003eVersion: 1.39.7\\u003cbr\\u003eStart Date: 2024-10-17 00:00:00+00:00\\u003cbr\\u003eActive Users: 2\\u003cbr\\u003eUsers: 4\\u003cbr\\u003eProperties: 142\\u003cbr\\u003eEdits: 267\\u003cbr\\u003ePages: 255\",\"CZECHFRAME\\u003cbr\\u003eURL: https:\\u002f\\u002fczechframe.wikibase.cloud\\u003cbr\\u003eHost: Wikibase Cloud\\u003cbr\\u003eVersion: 1.39.7\\u003cbr\\u003eStart Date: 2024-10-09 00:00:00+00:00\\u003cbr\\u003eActive Users: 4\\u003cbr\\u003eUsers: 18\\u003cbr\\u003eProperties: 46\\u003cbr\\u003eEdits: 952\\u003cbr\\u003ePages: 149\",\"Zero Waste Cities\\u003cbr\\u003eURL: https:\\u002f\\u002fzerowastecities.wikibase.cloud\\u003cbr\\u003eHost: Wikibase Cloud\\u003cbr\\u003eVersion: 1.39.7\\u003cbr\\u003eStart Date: 2021-11-08 00:00:00+00:00\\u003cbr\\u003eActive Users: 1\\u003cbr\\u003eUsers: 4\\u003cbr\\u003eProperties: 98\\u003cbr\\u003eEdits: 6926\\u003cbr\\u003ePages: 1731\",\"Chinese Educated Abroad\\u003cbr\\u003eURL: https:\\u002f\\u002fmobility.wikibase.cloud\\u003cbr\\u003eHost: Wikibase Cloud\\u003cbr\\u003eVersion: 1.39.7\\u003cbr\\u003eStart Date: 2024-12-01 00:00:00+00:00\\u003cbr\\u003eActive Users: 2\\u003cbr\\u003eUsers: 2\\u003cbr\\u003eProperties: 28\\u003cbr\\u003eEdits: 218\\u003cbr\\u003ePages: 70\",\"EH izendegi\\u003cbr\\u003eURL: https:\\u002f\\u002fizendegi.wikibase.cloud\\u003cbr\\u003eHost: Wikibase Cloud\\u003cbr\\u003eVersion: 1.39.7\\u003cbr\\u003eStart Date: 2024-11-24 00:00:00+00:00\\u003cbr\\u003eActive Users: 2\\u003cbr\\u003eUsers: 2\\u003cbr\\u003eProperties: 13\\u003cbr\\u003eEdits: 2017\\u003cbr\\u003ePages: 1109\",\"CEUR-dev\\u003cbr\\u003eURL: https:\\u002f\\u002fceur-dev.wikibase.cloud\\u003cbr\\u003eHost: Wikibase Cloud\\u003cbr\\u003eVersion: 1.39.7\\u003cbr\\u003eStart Date: 2024-12-05 00:00:00+00:00\\u003cbr\\u003eActive Users: 2\\u003cbr\\u003eUsers: 2\\u003cbr\\u003eProperties: 88\\u003cbr\\u003eEdits: 14366\\u003cbr\\u003ePages: 10386\",\"WikibaseMigrationTest\\u003cbr\\u003eURL: https:\\u002f\\u002fwbmigration-test.wikibase.cloud\\u003cbr\\u003eHost: Wikibase Cloud\\u003cbr\\u003eVersion: 1.39.7\\u003cbr\\u003eStart Date: 2024-11-10 00:00:00+00:00\\u003cbr\\u003eActive Users: 3\\u003cbr\\u003eUsers: 3\\u003cbr\\u003eProperties: 293\\u003cbr\\u003eEdits: 1602\\u003cbr\\u003ePages: 1223\",\"Wikibase Implementation of Records in Contexts\\u003cbr\\u003eURL: https:\\u002f\\u002frecordsincontexts.wikibase.cloud\\u003cbr\\u003eHost: Wikibase Cloud\\u003cbr\\u003eVersion: 1.39.7\\u003cbr\\u003eStart Date: 2024-09-07 00:00:00+00:00\\u003cbr\\u003eActive Users: 1\\u003cbr\\u003eUsers: 3\\u003cbr\\u003eProperties: 202\\u003cbr\\u003eEdits: 14870\\u003cbr\\u003ePages: 1378\",\"Training_IWIPALE\\u003cbr\\u003eURL: https:\\u002f\\u002ftraining-iwipale.wikibase.cloud\\u003cbr\\u003eHost: Wikibase Cloud\\u003cbr\\u003eVersion: 1.39.7\\u003cbr\\u003eStart Date: 2024-11-11 00:00:00+00:00\\u003cbr\\u003eActive Users: 7\\u003cbr\\u003eUsers: 13\\u003cbr\\u003eProperties: 13\\u003cbr\\u003eEdits: 32\\u003cbr\\u003ePages: 23\",\"Multiverses Wiki\\u003cbr\\u003eURL: https:\\u002f\\u002fmultiverses.wikibase.cloud\\u003cbr\\u003eHost: Wikibase Cloud\\u003cbr\\u003eVersion: 1.39.7\\u003cbr\\u003eStart Date: 2024-12-15 00:00:00+00:00\\u003cbr\\u003eActive Users: 2\\u003cbr\\u003eUsers: 2\\u003cbr\\u003eProperties: 42\\u003cbr\\u003eEdits: 1229\\u003cbr\\u003ePages: 376\",\"lhenguabase\\u003cbr\\u003eURL: https:\\u002f\\u002flhenguabase.wikibase.cloud\\u003cbr\\u003eHost: Wikibase Cloud\\u003cbr\\u003eVersion: 1.39.7\\u003cbr\\u003eStart Date: 2024-12-10 00:00:00+00:00\\u003cbr\\u003eActive Users: 4\\u003cbr\\u003eUsers: 20\\u003cbr\\u003eProperties: 19\\u003cbr\\u003eEdits: 1942\\u003cbr\\u003ePages: 1609\",\"CLS Infra Character Model\\u003cbr\\u003eURL: https:\\u002f\\u002fcls-infra-character-model.wikibase.cloud\\u003cbr\\u003eHost: Wikibase Cloud\\u003cbr\\u003eVersion: 1.39.7\\u003cbr\\u003eStart Date: 2024-11-14 00:00:00+00:00\\u003cbr\\u003eActive Users: 2\\u003cbr\\u003eUsers: 2\\u003cbr\\u003eProperties: 5\\u003cbr\\u003eEdits: 194\\u003cbr\\u003ePages: 39\",\"Conlang Base\\u003cbr\\u003eURL: https:\\u002f\\u002fconlang.wikibase.cloud\\u003cbr\\u003eHost: Wikibase Cloud\\u003cbr\\u003eVersion: 1.39.7\\u003cbr\\u003eStart Date: 2024-12-31 00:00:00+00:00\\u003cbr\\u003eActive Users: 2\\u003cbr\\u003eUsers: 2\\u003cbr\\u003eProperties: 12\\u003cbr\\u003eEdits: 49\\u003cbr\\u003ePages: 17\",\"Vrienden Fort Breendonk\\u003cbr\\u003eURL: https:\\u002f\\u002ffortbreendonk.wikibase.cloud\\u003cbr\\u003eHost: Wikibase Cloud\\u003cbr\\u003eVersion: 1.39.7\\u003cbr\\u003eStart Date: 2025-01-06 00:00:00+00:00\\u003cbr\\u003eActive Users: 2\\u003cbr\\u003eUsers: 2\\u003cbr\\u003eProperties: 24\\u003cbr\\u003eEdits: 44674\\u003cbr\\u003ePages: 4517\",\"Ugly Architecture\\u003cbr\\u003eURL: https:\\u002f\\u002fuglyarchitecture.wikibase.cloud\\u003cbr\\u003eHost: Wikibase Cloud\\u003cbr\\u003eVersion: 1.39.7\\u003cbr\\u003eStart Date: 2024-02-05 00:00:00+00:00\\u003cbr\\u003eActive Users: 0\\u003cbr\\u003eUsers: 2\\u003cbr\\u003eProperties: 29\\u003cbr\\u003eEdits: 544\\u003cbr\\u003ePages: 71\",\"Geolocations\\u003cbr\\u003eURL: https:\\u002f\\u002flocations.wikibase.cloud\\u003cbr\\u003eHost: Wikibase Cloud\\u003cbr\\u003eVersion: 1.39.7\\u003cbr\\u003eStart Date: 2024-06-13 00:00:00+00:00\\u003cbr\\u003eActive Users: 0\\u003cbr\\u003eUsers: 2\\u003cbr\\u003eProperties: 11\\u003cbr\\u003eEdits: 141\\u003cbr\\u003ePages: 28\",\"Wikibase World\\u003cbr\\u003eURL: https:\\u002f\\u002fwikibase.world\\u003cbr\\u003eHost: Wikibase Cloud\\u003cbr\\u003eVersion: 1.39.7\\u003cbr\\u003eStart Date: 2023-06-05 00:00:00+00:00\\u003cbr\\u003eActive Users: 1\\u003cbr\\u003eUsers: 561\\u003cbr\\u003eProperties: 57\\u003cbr\\u003eEdits: 18354\\u003cbr\\u003ePages: 1200\",\"MNDb\\u003cbr\\u003eURL: https:\\u002f\\u002fmndb.lophocmatngu.wiki\\u003cbr\\u003eHost: Wikibase Cloud\\u003cbr\\u003eVersion: 1.39.7\\u003cbr\\u003eStart Date: 2023-12-15 00:00:00+00:00\\u003cbr\\u003eActive Users: 0\\u003cbr\\u003eUsers: 2\\u003cbr\\u003eProperties: 14\\u003cbr\\u003eEdits: 118\\u003cbr\\u003ePages: 46\",\"abcDNK.hr\\u003cbr\\u003eURL: https:\\u002f\\u002fabcdnk.wikibase.cloud\\u003cbr\\u003eHost: Wikibase Cloud\\u003cbr\\u003eVersion: 1.39.7\\u003cbr\\u003eStart Date: 2023-05-30 00:00:00+00:00\\u003cbr\\u003eActive Users: 1\\u003cbr\\u003eUsers: 5\\u003cbr\\u003eProperties: 85\\u003cbr\\u003eEdits: 1490\\u003cbr\\u003ePages: 391\",\"Beyond Notability: Re-evaluating Women's Work in Archaeology, History and Heritage, 1870 \\u2013 1950\\u003cbr\\u003eURL: https:\\u002f\\u002fbeyond-notability.wikibase.cloud\\u003cbr\\u003eHost: Wikibase Cloud\\u003cbr\\u003eVersion: 1.39.7\\u003cbr\\u003eStart Date: 2021-09-08 00:00:00+00:00\\u003cbr\\u003eActive Users: 2\\u003cbr\\u003eUsers: 17\\u003cbr\\u003eProperties: 160\\u003cbr\\u003eEdits: 69782\\u003cbr\\u003ePages: 4932\",\"Biodiversity\\u003cbr\\u003eURL: https:\\u002f\\u002fbiodiversity.wikibase.cloud\\u003cbr\\u003eHost: Wikibase Cloud\\u003cbr\\u003eVersion: 1.39.7\\u003cbr\\u003eStart Date: 2019-11-26 00:00:00+00:00\\u003cbr\\u003eActive Users: 1\\u003cbr\\u003eUsers: 16\\u003cbr\\u003eProperties: 14\\u003cbr\\u003eEdits: 611772\\u003cbr\\u003ePages: 578984\",\"Virus Taxonomy\\u003cbr\\u003eURL: https:\\u002f\\u002fvirus-taxonomy.wikibase.cloud\\u003cbr\\u003eHost: Wikibase Cloud\\u003cbr\\u003eVersion: 1.39.7\\u003cbr\\u003eStart Date: 2020-04-06 00:00:00+00:00\\u003cbr\\u003eActive Users: 0\\u003cbr\\u003eUsers: 8\\u003cbr\\u003eProperties: 10\\u003cbr\\u003eEdits: 20396\\u003cbr\\u003ePages: 6940\",\"Enslaved People Of Arlington, Virginia\\u003cbr\\u003eURL: https:\\u002f\\u002fenslaved-arlington.wikibase.cloud\\u003cbr\\u003eHost: Wikibase Cloud\\u003cbr\\u003eVersion: 1.39.7\\u003cbr\\u003eStart Date: 2023-09-13 00:00:00+00:00\\u003cbr\\u003eActive Users: 0\\u003cbr\\u003eUsers: 2\\u003cbr\\u003eProperties: 22\\u003cbr\\u003eEdits: 71\\u003cbr\\u003ePages: 32\",\"Maths-22\\u003cbr\\u003eURL: https:\\u002f\\u002fmaths-22.wikibase.cloud\\u003cbr\\u003eHost: Wikibase Cloud\\u003cbr\\u003eVersion: 1.39.7\\u003cbr\\u003eStart Date: 2022-11-17 00:00:00+00:00\\u003cbr\\u003eActive Users: 0\\u003cbr\\u003eUsers: 3\\u003cbr\\u003eProperties: 40\\u003cbr\\u003eEdits: 238\\u003cbr\\u003ePages: 99\",\"WikiFur Data\\u003cbr\\u003eURL: https:\\u002f\\u002ffurry.wikibase.cloud\\u003cbr\\u003eHost: Wikibase Cloud\\u003cbr\\u003eVersion: 1.39.7\\u003cbr\\u003eStart Date: 2021-03-23 00:00:00+00:00\\u003cbr\\u003eActive Users: 1\\u003cbr\\u003eUsers: 4715\\u003cbr\\u003eProperties: 21\\u003cbr\\u003eEdits: 1728\\u003cbr\\u003ePages: 67\",\"Addshore Alpha\\u003cbr\\u003eURL: https:\\u002f\\u002faddshore-alpha.wikibase.cloud\\u003cbr\\u003eHost: Wikibase Cloud\\u003cbr\\u003eVersion: 1.39.7\\u003cbr\\u003eStart Date: 2019-10-28 00:00:00+00:00\\u003cbr\\u003eActive Users: 0\\u003cbr\\u003eUsers: 17\\u003cbr\\u003eProperties: 17\\u003cbr\\u003eEdits: 510\\u003cbr\\u003ePages: 108\",\"Doelgericht Digitaal Transformeren\\u003cbr\\u003eURL: https:\\u002f\\u002fosloddt.wikibase.cloud\\u003cbr\\u003eHost: Wikibase Cloud\\u003cbr\\u003eVersion: 1.39.7\\u003cbr\\u003eStart Date: 2022-03-08 00:00:00+00:00\\u003cbr\\u003eActive Users: 0\\u003cbr\\u003eUsers: 5\\u003cbr\\u003eProperties: 57\\u003cbr\\u003eEdits: 10876042\\u003cbr\\u003ePages: 880923\",\"Geoscience Knowledgebase\\u003cbr\\u003eURL: https:\\u002f\\u002fgeokb.wikibase.cloud\\u002f\\u003cbr\\u003eHost: Wikibase Cloud\\u003cbr\\u003eVersion: 1.39.7\\u003cbr\\u003eStart Date: 2023-02-27 00:00:00+00:00\\u003cbr\\u003eActive Users: 1\\u003cbr\\u003eUsers: 8\\u003cbr\\u003eProperties: 202\\u003cbr\\u003eEdits: 1463224\\u003cbr\\u003ePages: 454249\",\"Dancing Digital\\u003cbr\\u003eURL: https:\\u002f\\u002fdancing-digital.wikibase.cloud\\u003cbr\\u003eHost: Wikibase Cloud\\u003cbr\\u003eVersion: 1.39.7\\u003cbr\\u003eStart Date: 2022-09-06 00:00:00+00:00\\u003cbr\\u003eActive Users: 0\\u003cbr\\u003eUsers: 4\\u003cbr\\u003eProperties: 140\\u003cbr\\u003eEdits: 439323\\u003cbr\\u003ePages: 60082\",\"Lord Chamberlain's Plays Index\\u003cbr\\u003eURL: https:\\u002f\\u002flcpindex.wikibase.cloud\\u002f\\u003cbr\\u003eHost: Wikibase Cloud\\u003cbr\\u003eVersion: 1.39.7\\u003cbr\\u003eStart Date: 2022-09-07 00:00:00+00:00\\u003cbr\\u003eActive Users: 0\\u003cbr\\u003eUsers: 6\\u003cbr\\u003eProperties: 12\\u003cbr\\u003eEdits: 40568\\u003cbr\\u003ePages: 39390\",\"SHARE Catalogue mapping knowledge base\\u003cbr\\u003eURL: https:\\u002f\\u002funimarc2bibframe.wikibase.cloud\\u002f\\u003cbr\\u003eHost: Wikibase Cloud\\u003cbr\\u003eVersion: 1.39.7\\u003cbr\\u003eStart Date: 2023-11-08 00:00:00+00:00\\u003cbr\\u003eActive Users: 2\\u003cbr\\u003eUsers: 9\\u003cbr\\u003eProperties: 14\\u003cbr\\u003eEdits: 18032\\u003cbr\\u003ePages: 2826\",\"LostDiscs\\u003cbr\\u003eURL: https:\\u002f\\u002flostdiscs.wikibase.cloud\\u002f\\u003cbr\\u003eHost: Wikibase Cloud\\u003cbr\\u003eVersion: 1.39.7\\u003cbr\\u003eStart Date: 2024-09-14 00:00:00+00:00\\u003cbr\\u003eActive Users: 0\\u003cbr\\u003eUsers: 2\\u003cbr\\u003eProperties: 8\\u003cbr\\u003eEdits: 443\\u003cbr\\u003ePages: 117\",\"FrameNet Akkadian 267\\u003cbr\\u003eURL: https:\\u002f\\u002fframenet-akkadian267.wikibase.cloud\\u003cbr\\u003eHost: Wikibase Cloud\\u003cbr\\u003eVersion: 1.39.7\\u003cbr\\u003eStart Date: 2024-05-14 00:00:00+00:00\\u003cbr\\u003eActive Users: 2\\u003cbr\\u003eUsers: 2\\u003cbr\\u003eProperties: 41\\u003cbr\\u003eEdits: 140026\\u003cbr\\u003ePages: 104347\",\"pbsandbox\\u003cbr\\u003eURL: https:\\u002f\\u002fpbsandbox.wikibase.cloud\\u003cbr\\u003eHost: Wikibase Cloud\\u003cbr\\u003eVersion: 1.39.7\\u003cbr\\u003eStart Date: 2022-09-08 00:00:00+00:00\\u003cbr\\u003eActive Users: 0\\u003cbr\\u003eUsers: 10\\u003cbr\\u003eProperties: 795\\u003cbr\\u003eEdits: 26132\\u003cbr\\u003ePages: 25992\",\"Podiumdocumentatie Vlaams Theaterinstituut\\u003cbr\\u003eURL: https:\\u002f\\u002fvlaamstheaterinstituut.wikibase.cloud\\u003cbr\\u003eHost: Wikibase Cloud\\u003cbr\\u003eVersion: 1.39.7\\u003cbr\\u003eStart Date: 2024-05-14 00:00:00+00:00\\u003cbr\\u003eActive Users: 1\\u003cbr\\u003eUsers: 2\\u003cbr\\u003eProperties: 10\\u003cbr\\u003eEdits: 1595435\\u003cbr\\u003ePages: 236659\",\"FrameNet Akkadian 257\\u003cbr\\u003eURL: https:\\u002f\\u002fframenet-akkadian257.wikibase.cloud\\u003cbr\\u003eHost: Wikibase Cloud\\u003cbr\\u003eVersion: 1.39.7\\u003cbr\\u003eStart Date: 2024-03-26 00:00:00+00:00\\u003cbr\\u003eActive Users: 1\\u003cbr\\u003eUsers: 2\\u003cbr\\u003eProperties: 41\\u003cbr\\u003eEdits: 277795\\u003cbr\\u003ePages: 186991\",\"FrameNet Akkadian 298\\u003cbr\\u003eURL: https:\\u002f\\u002fframenet-akkadian298.wikibase.cloud\\u003cbr\\u003eHost: Wikibase Cloud\\u003cbr\\u003eVersion: 1.39.7\\u003cbr\\u003eStart Date: 2024-09-13 00:00:00+00:00\\u003cbr\\u003eActive Users: 1\\u003cbr\\u003eUsers: 5\\u003cbr\\u003eProperties: 64\\u003cbr\\u003eEdits: 58051\\u003cbr\\u003ePages: 24317\",\"Teochew Dictionary\\u003cbr\\u003eURL: https:\\u002f\\u002ftcdict.wikibase.cloud\\u003cbr\\u003eHost: Wikibase Cloud\\u003cbr\\u003eVersion: 1.39.7\\u003cbr\\u003eStart Date: 2024-04-11 00:00:00+00:00\\u003cbr\\u003eActive Users: 1\\u003cbr\\u003eUsers: 2\\u003cbr\\u003eProperties: 23\\u003cbr\\u003eEdits: 135850\\u003cbr\\u003ePages: 24000\",\"FrameNet Akkadian\\u003cbr\\u003eURL: https:\\u002f\\u002fframenet-akkadian.wikibase.cloud\\u003cbr\\u003eHost: Wikibase Cloud\\u003cbr\\u003eVersion: 1.39.7\\u003cbr\\u003eStart Date: 2024-01-06 00:00:00+00:00\\u003cbr\\u003eActive Users: 3\\u003cbr\\u003eUsers: 6\\u003cbr\\u003eProperties: 46\\u003cbr\\u003eEdits: 93613\\u003cbr\\u003ePages: 13198\",\"abcdnkhr-dev\\u003cbr\\u003eURL: https:\\u002f\\u002fabcdnkhr-dev.wikibase.cloud\\u003cbr\\u003eHost: Wikibase Cloud\\u003cbr\\u003eVersion: 1.39.7\\u003cbr\\u003eStart Date: 2024-02-13 00:00:00+00:00\\u003cbr\\u003eActive Users: 0\\u003cbr\\u003eUsers: 2\\u003cbr\\u003eProperties: 85\\u003cbr\\u003eEdits: 25030\\u003cbr\\u003ePages: 12290\",\"abcdnk (on wikibase.cloud)\\u003cbr\\u003eURL: https:\\u002f\\u002fabcdnkhr.wikibase.cloud\\u003cbr\\u003eHost: Wikibase Cloud\\u003cbr\\u003eVersion: 1.39.7\\u003cbr\\u003eStart Date: 2024-02-13 00:00:00+00:00\\u003cbr\\u003eActive Users: 1\\u003cbr\\u003eUsers: 7\\u003cbr\\u003eProperties: 85\\u003cbr\\u003eEdits: 25272\\u003cbr\\u003ePages: 12302\",\"CC-BY Chemical Compounds\\u003cbr\\u003eURL: https:\\u002f\\u002fchemcompounds.wikibase.cloud\\u003cbr\\u003eHost: Wikibase Cloud\\u003cbr\\u003eVersion: 1.39.7\\u003cbr\\u003eStart Date: 2020-01-27 00:00:00+00:00\\u003cbr\\u003eActive Users: 0\\u003cbr\\u003eUsers: 5\\u003cbr\\u003eProperties: 8834\\u003cbr\\u003eEdits: 10256\\u003cbr\\u003ePages: 8834\",\"theses\\u003cbr\\u003eURL: https:\\u002f\\u002ftheses.wikibase.cloud\\u003cbr\\u003eHost: Wikibase Cloud\\u003cbr\\u003eVersion: 1.39.7\\u003cbr\\u003eStart Date: 2023-12-11 00:00:00+00:00\\u003cbr\\u003eActive Users: 0\\u003cbr\\u003eUsers: 4\\u003cbr\\u003eProperties: 6\\u003cbr\\u003eEdits: 32719\\u003cbr\\u003ePages: 8206\",\"TP3-STTCL\\u003cbr\\u003eURL: https:\\u002f\\u002ftp3-sttcl.wikibase.cloud\\u003cbr\\u003eHost: Wikibase Cloud\\u003cbr\\u003eVersion: 1.39.7\\u003cbr\\u003eStart Date: 2024-09-20 00:00:00+00:00\\u003cbr\\u003eActive Users: 1\\u003cbr\\u003eUsers: 4\\u003cbr\\u003eProperties: 24\\u003cbr\\u003eEdits: 21111\\u003cbr\\u003ePages: 8058\",\"dis18\\u003cbr\\u003eURL: https:\\u002f\\u002fdis18project.wikibase.cloud\\u003cbr\\u003eHost: Wikibase Cloud\\u003cbr\\u003eVersion: 1.39.7\\u003cbr\\u003eStart Date: 2024-06-08 00:00:00+00:00\\u003cbr\\u003eActive Users: 0\\u003cbr\\u003eUsers: 2\\u003cbr\\u003eProperties: 17\\u003cbr\\u003eEdits: 9325\\u003cbr\\u003ePages: 7483\",\"\\u1019\\u103c\\u1014\\u103a\\u1019\\u102c\\u104c\\u1029\\u1005\\u1010\\u103c\\u1031\\u1038\\u101c\\u103b\\u003cbr\\u003eURL: https:\\u002f\\u002fmranma-ocatrelya.wikibase.cloud\\u003cbr\\u003eHost: Wikibase Cloud\\u003cbr\\u003eVersion: 1.39.7\\u003cbr\\u003eStart Date: 2024-05-31 00:00:00+00:00\\u003cbr\\u003eActive Users: 0\\u003cbr\\u003eUsers: 2\\u003cbr\\u003eProperties: 6460\\u003cbr\\u003eEdits: 13146\\u003cbr\\u003ePages: 6547\",\"DigCav\\u003cbr\\u003eURL: https:\\u002f\\u002fdigcav.wikibase.cloud\\u003cbr\\u003eHost: Wikibase Cloud\\u003cbr\\u003eVersion: 1.39.7\\u003cbr\\u003eStart Date: 2021-01-17 00:00:00+00:00\\u003cbr\\u003eActive Users: 0\\u003cbr\\u003eUsers: 3\\u003cbr\\u003eProperties: 9\\u003cbr\\u003eEdits: 23011\\u003cbr\\u003ePages: 5811\",\"Username1Password\\u003cbr\\u003eURL: https:\\u002f\\u002fusername1password.wikibase.cloud\\u003cbr\\u003eHost: Wikibase Cloud\\u003cbr\\u003eVersion: 1.39.7\\u003cbr\\u003eStart Date: 2024-05-30 00:00:00+00:00\\u003cbr\\u003eActive Users: 0\\u003cbr\\u003eUsers: 2\\u003cbr\\u003eProperties: 42\\u003cbr\\u003eEdits: 5062\\u003cbr\\u003ePages: 5044\",\"Chemical Compounds of Interest\\u003cbr\\u003eURL: https:\\u002f\\u002fcompoundcloud.wikibase.cloud\\u003cbr\\u003eHost: Wikibase Cloud\\u003cbr\\u003eVersion: 1.39.7\\u003cbr\\u003eStart Date: 2022-11-05 00:00:00+00:00\\u003cbr\\u003eActive Users: 1\\u003cbr\\u003eUsers: 4\\u003cbr\\u003eProperties: 38\\u003cbr\\u003eEdits: 6056\\u003cbr\\u003ePages: 5001\",\"Nouns Dev\\u003cbr\\u003eURL: https:\\u002f\\u002fnounsdev.wikibase.cloud\\u003cbr\\u003eHost: Wikibase Cloud\\u003cbr\\u003eVersion: 1.39.7\\u003cbr\\u003eStart Date: 2023-05-08 00:00:00+00:00\\u003cbr\\u003eActive Users: 0\\u003cbr\\u003eUsers: 3\\u003cbr\\u003eProperties: 51\\u003cbr\\u003eEdits: 12488\\u003cbr\\u003ePages: 4521\",\"Shira\\u003cbr\\u003eURL: https:\\u002f\\u002fshira.wikibase.cloud\\u003cbr\\u003eHost: Wikibase Cloud\\u003cbr\\u003eVersion: 1.39.7\\u003cbr\\u003eStart Date: 2024-03-11 00:00:00+00:00\\u003cbr\\u003eActive Users: 0\\u003cbr\\u003eUsers: 2\\u003cbr\\u003eProperties: 134\\u003cbr\\u003eEdits: 8105\\u003cbr\\u003ePages: 3340\",\"Akkadian Project 2\\u003cbr\\u003eURL: https:\\u002f\\u002fakkadianproject2.wikibase.cloud\\u003cbr\\u003eHost: Wikibase Cloud\\u003cbr\\u003eVersion: 1.39.7\\u003cbr\\u003eStart Date: 2024-04-03 00:00:00+00:00\\u003cbr\\u003eActive Users: 0\\u003cbr\\u003eUsers: 2\\u003cbr\\u003eProperties: 41\\u003cbr\\u003eEdits: 14720\\u003cbr\\u003ePages: 3017\",\"Bible Name Wiki\\u003cbr\\u003eURL: https:\\u002f\\u002fbiblenamewiki.wikibase.cloud\\u003cbr\\u003eHost: Wikibase Cloud\\u003cbr\\u003eVersion: 1.39.7\\u003cbr\\u003eStart Date: 2022-09-05 00:00:00+00:00\\u003cbr\\u003eActive Users: 1\\u003cbr\\u003eUsers: 3\\u003cbr\\u003eProperties: 10\\u003cbr\\u003eEdits: 8093\\u003cbr\\u003ePages: 2946\",\"rematriation\\u003cbr\\u003eURL: https:\\u002f\\u002frematriation.wikibase.cloud\\u003cbr\\u003eHost: Wikibase Cloud\\u003cbr\\u003eVersion: 1.39.7\\u003cbr\\u003eStart Date: 2024-02-23 00:00:00+00:00\\u003cbr\\u003eActive Users: 1\\u003cbr\\u003eUsers: 5\\u003cbr\\u003eProperties: 31\\u003cbr\\u003eEdits: 13688\\u003cbr\\u003ePages: 2622\",\"Test\\u003cbr\\u003eURL: https:\\u002f\\u002fmetadata-test2023-rbx.wikibase.cloud\\u003cbr\\u003eHost: Wikibase Cloud\\u003cbr\\u003eVersion: 1.39.7\\u003cbr\\u003eStart Date: 2023-11-06 00:00:00+00:00\\u003cbr\\u003eActive Users: 0\\u003cbr\\u003eUsers: 5\\u003cbr\\u003eProperties: 14\\u003cbr\\u003eEdits: 2612\\u003cbr\\u003ePages: 2536\",\"Weinetiketten der Mosel\\u003cbr\\u003eURL: https:\\u002f\\u002fmosel.wikibase.cloud\\u003cbr\\u003eHost: Wikibase Cloud\\u003cbr\\u003eVersion: 1.39.7\\u003cbr\\u003eStart Date: 2024-08-28 00:00:00+00:00\\u003cbr\\u003eActive Users: 1\\u003cbr\\u003eUsers: 2\\u003cbr\\u003eProperties: 78\\u003cbr\\u003eEdits: 12080\\u003cbr\\u003ePages: 2561\",\"Meise Botanic Garden\\u003cbr\\u003eURL: https:\\u002f\\u002fmeise-bg.wikibase.cloud\\u003cbr\\u003eHost: Wikibase Cloud\\u003cbr\\u003eVersion: 1.39.7\\u003cbr\\u003eStart Date: 2020-02-13 00:00:00+00:00\\u003cbr\\u003eActive Users: 0\\u003cbr\\u003eUsers: 3\\u003cbr\\u003eProperties: 29\\u003cbr\\u003eEdits: 1999\\u003cbr\\u003ePages: 1999\",\"testing\\u003cbr\\u003eURL: https:\\u002f\\u002ftesting.wikibase.cloud\\u003cbr\\u003eHost: Wikibase Cloud\\u003cbr\\u003eVersion: 1.39.7\\u003cbr\\u003eStart Date: 2020-03-02 00:00:00+00:00\\u003cbr\\u003eActive Users: 0\\u003cbr\\u003eUsers: 4\\u003cbr\\u003eProperties: 18\\u003cbr\\u003eEdits: 1555\\u003cbr\\u003ePages: 1544\",\"AlpesTransportTest\\u003cbr\\u003eURL: https:\\u002f\\u002falpes-transport-sandbox.wikibase.cloud\\u003cbr\\u003eHost: Wikibase Cloud\\u003cbr\\u003eVersion: 1.39.7\\u003cbr\\u003eStart Date: 2023-02-27 00:00:00+00:00\\u003cbr\\u003eActive Users: 0\\u003cbr\\u003eUsers: 6\\u003cbr\\u003eProperties: 201\\u003cbr\\u003eEdits: 23256\\u003cbr\\u003ePages: 1524\",\"qfeverbase\\u003cbr\\u003eURL: https:\\u002f\\u002fqfeverbase.wikibase.cloud\\u003cbr\\u003eHost: Wikibase Cloud\\u003cbr\\u003eVersion: 1.39.7\\u003cbr\\u003eStart Date: 2024-02-07 00:00:00+00:00\\u003cbr\\u003eActive Users: 1\\u003cbr\\u003eUsers: 5\\u003cbr\\u003eProperties: 17\\u003cbr\\u003eEdits: 1745\\u003cbr\\u003ePages: 1471\",\"dhtest\\u003cbr\\u003eURL: https:\\u002f\\u002fdhtest.wikibase.cloud\\u003cbr\\u003eHost: Wikibase Cloud\\u003cbr\\u003eVersion: 1.39.7\\u003cbr\\u003eStart Date: 2024-06-14 00:00:00+00:00\\u003cbr\\u003eActive Users: 0\\u003cbr\\u003eUsers: 2\\u003cbr\\u003eProperties: 25\\u003cbr\\u003eEdits: 3904\\u003cbr\\u003ePages: 1273\",\"Misi's imaginary friends\\u003cbr\\u003eURL: https:\\u002f\\u002fmisi-imaginary-friends.wikibase.cloud\\u003cbr\\u003eHost: Wikibase Cloud\\u003cbr\\u003eVersion: 1.39.7\\u003cbr\\u003eStart Date: 2024-10-01 00:00:00+00:00\\u003cbr\\u003eActive Users: 0\\u003cbr\\u003eUsers: 4\\u003cbr\\u003eProperties: 7\\u003cbr\\u003eEdits: 1244\\u003cbr\\u003ePages: 1243\",\"Wikidocumentaries sandbox\\u003cbr\\u003eURL: https:\\u002f\\u002fwikidocs.wikibase.cloud\\u003cbr\\u003eHost: Wikibase Cloud\\u003cbr\\u003eVersion: 1.39.7\\u003cbr\\u003eStart Date: 2019-10-27 00:00:00+00:00\\u003cbr\\u003eActive Users: 0\\u003cbr\\u003eUsers: 5\\u003cbr\\u003eProperties: 18\\u003cbr\\u003eEdits: 1736\\u003cbr\\u003ePages: 1053\",\"Judaicadh\\u003cbr\\u003eURL: https:\\u002f\\u002fjudaicadh.wikibase.cloud\\u003cbr\\u003eHost: Wikibase Cloud\\u003cbr\\u003eVersion: 1.39.7\\u003cbr\\u003eStart Date: 2024-01-13 00:00:00+00:00\\u003cbr\\u003eActive Users: 0\\u003cbr\\u003eUsers: 2\\u003cbr\\u003eProperties: 26\\u003cbr\\u003eEdits: 981\\u003cbr\\u003ePages: 955\",\"Open Music Vocabulary\\u003cbr\\u003eURL: https:\\u002f\\u002fmusic.wikibase.cloud\\u003cbr\\u003eHost: Wikibase Cloud\\u003cbr\\u003eVersion: 1.39.7\\u003cbr\\u003eStart Date: 2023-11-23 00:00:00+00:00\\u003cbr\\u003eActive Users: 1\\u003cbr\\u003eUsers: 2\\u003cbr\\u003eProperties: 9\\u003cbr\\u003eEdits: 5394\\u003cbr\\u003ePages: 992\",\"Medieval Mining Texts\\u003cbr\\u003eURL: https:\\u002f\\u002fmining-texts.wikibase.cloud\\u003cbr\\u003eHost: Wikibase Cloud\\u003cbr\\u003eVersion: 1.39.7\\u003cbr\\u003eStart Date: 2023-06-19 00:00:00+00:00\\u003cbr\\u003eActive Users: 0\\u003cbr\\u003eUsers: 2\\u003cbr\\u003eProperties: 8\\u003cbr\\u003eEdits: 1340\\u003cbr\\u003ePages: 905\",\"pbsandbox2\\u003cbr\\u003eURL: https:\\u002f\\u002fpbsandbox2.wikibase.cloud\\u003cbr\\u003eHost: Wikibase Cloud\\u003cbr\\u003eVersion: 1.39.7\\u003cbr\\u003eStart Date: 2022-10-08 00:00:00+00:00\\u003cbr\\u003eActive Users: 0\\u003cbr\\u003eUsers: 2\\u003cbr\\u003eProperties: 795\\u003cbr\\u003eEdits: 904\\u003cbr\\u003ePages: 897\",\"Climate Policy Radar\\u003cbr\\u003eURL: https:\\u002f\\u002fclimatepolicyradar.wikibase.cloud\\u003cbr\\u003eHost: Wikibase Cloud\\u003cbr\\u003eVersion: 1.39.7\\u003cbr\\u003eStart Date: 2024-04-03 00:00:00+00:00\\u003cbr\\u003eActive Users: 10\\u003cbr\\u003eUsers: 18\\u003cbr\\u003eProperties: 9\\u003cbr\\u003eEdits: 9441\\u003cbr\\u003ePages: 1030\",\"digitalneurons\\u003cbr\\u003eURL: https:\\u002f\\u002fdigitalneurons.wikibase.cloud\\u003cbr\\u003eHost: Wikibase Cloud\\u003cbr\\u003eVersion: 1.39.7\\u003cbr\\u003eStart Date: 2021-03-05 00:00:00+00:00\\u003cbr\\u003eActive Users: 1\\u003cbr\\u003eUsers: 3\\u003cbr\\u003eProperties: 43\\u003cbr\\u003eEdits: 2389\\u003cbr\\u003ePages: 734\",\"T-rex Taxonomy\\u003cbr\\u003eURL: https:\\u002f\\u002ftrex-taxonomy.wikibase.cloud\\u003cbr\\u003eHost: Wikibase Cloud\\u003cbr\\u003eVersion: 1.39.7\\u003cbr\\u003eStart Date: 2020-04-15 00:00:00+00:00\\u003cbr\\u003eActive Users: 0\\u003cbr\\u003eUsers: 320\\u003cbr\\u003eProperties: 32\\u003cbr\\u003eEdits: 1355\\u003cbr\\u003ePages: 659\",\"European Party Funding Observatory\\u003cbr\\u003eURL: https:\\u002f\\u002fwikibase.epfo.eu\\u003cbr\\u003eHost: Wikibase Cloud\\u003cbr\\u003eVersion: 1.39.7\\u003cbr\\u003eStart Date: 2024-07-20 00:00:00+00:00\\u003cbr\\u003eActive Users: 1\\u003cbr\\u003eUsers: 2\\u003cbr\\u003eProperties: 234\\u003cbr\\u003eEdits: 14262\\u003cbr\\u003ePages: 516\",\"Neogr\\u00e4zistik Digital Lab\\u003cbr\\u003eURL: https:\\u002f\\u002fngrlab.wikibase.cloud\\u003cbr\\u003eHost: Wikibase Cloud\\u003cbr\\u003eVersion: 1.39.7\\u003cbr\\u003eStart Date: 2020-12-06 00:00:00+00:00\\u003cbr\\u003eActive Users: 0\\u003cbr\\u003eUsers: 2\\u003cbr\\u003eProperties: 45\\u003cbr\\u003eEdits: 3016\\u003cbr\\u003ePages: 497\",\"cprtest (on wikibase.cloud)\\u003cbr\\u003eURL: https:\\u002f\\u002fs4adgmfowmsbe0ye0zjaudmxwb.wikibase.cloud\\u003cbr\\u003eHost: Wikibase Cloud\\u003cbr\\u003eVersion: 1.39.7\\u003cbr\\u003eStart Date: 2024-01-31 00:00:00+00:00\\u003cbr\\u003eActive Users: 0\\u003cbr\\u003eUsers: 4\\u003cbr\\u003eProperties: 6\\u003cbr\\u003eEdits: 3982\\u003cbr\\u003ePages: 445\",\"TDWG Collection Description\\u003cbr\\u003eURL: https:\\u002f\\u002ftdwg-cd.wikibase.cloud\\u003cbr\\u003eHost: Wikibase Cloud\\u003cbr\\u003eVersion: 1.39.7\\u003cbr\\u003eStart Date: 2020-04-22 00:00:00+00:00\\u003cbr\\u003eActive Users: 0\\u003cbr\\u003eUsers: 326\\u003cbr\\u003eProperties: 155\\u003cbr\\u003eEdits: 1347\\u003cbr\\u003ePages: 441\",\"Pruebas FSH\\u003cbr\\u003eURL: https:\\u002f\\u002fpruebas-fsh.wikibase.cloud\\u003cbr\\u003eHost: Wikibase Cloud\\u003cbr\\u003eVersion: 1.39.7\\u003cbr\\u003eStart Date: 2024-06-22 00:00:00+00:00\\u003cbr\\u003eActive Users: 1\\u003cbr\\u003eUsers: 2\\u003cbr\\u003eProperties: 50\\u003cbr\\u003eEdits: 2867\\u003cbr\\u003ePages: 439\",\"COMPEL\\u003cbr\\u003eURL: https:\\u002f\\u002fcompel.wikibase.cloud\\u003cbr\\u003eHost: Wikibase Cloud\\u003cbr\\u003eVersion: 1.39.7\\u003cbr\\u003eStart Date: 2024-04-19 00:00:00+00:00\\u003cbr\\u003eActive Users: 1\\u003cbr\\u003eUsers: 12\\u003cbr\\u003eProperties: 40\\u003cbr\\u003eEdits: 1347\\u003cbr\\u003ePages: 427\",\"hgironomidae\\u003cbr\\u003eURL: https:\\u002f\\u002fchironomidae.wikibase.cloud\\u003cbr\\u003eHost: Wikibase Cloud\\u003cbr\\u003eVersion: 1.39.7\\u003cbr\\u003eStart Date: 2024-02-22 00:00:00+00:00\\u003cbr\\u003eActive Users: 0\\u003cbr\\u003eUsers: 2\\u003cbr\\u003eProperties: 56\\u003cbr\\u003eEdits: 1336\\u003cbr\\u003ePages: 419\",\"Architekturarchive\\u003cbr\\u003eURL: https:\\u002f\\u002farchitekturarchive.wikibase.cloud\\u003cbr\\u003eHost: Wikibase Cloud\\u003cbr\\u003eVersion: 1.39.7\\u003cbr\\u003eStart Date: 2024-03-27 00:00:00+00:00\\u003cbr\\u003eActive Users: 0\\u003cbr\\u003eUsers: 3\\u003cbr\\u003eProperties: 141\\u003cbr\\u003eEdits: 983\\u003cbr\\u003ePages: 406\",\"cps\\u003cbr\\u003eURL: https:\\u002f\\u002fcomputational-publishing-service.wikibase.cloud\\u003cbr\\u003eHost: Wikibase Cloud\\u003cbr\\u003eVersion: 1.39.7\\u003cbr\\u003eStart Date: 2024-04-04 00:00:00+00:00\\u003cbr\\u003eActive Users: 0\\u003cbr\\u003eUsers: 11\\u003cbr\\u003eProperties: 107\\u003cbr\\u003eEdits: 1048\\u003cbr\\u003ePages: 402\",\"WUaS\\u003cbr\\u003eURL: https:\\u002f\\u002fworlduniversityandschooldatabase.wikibase.cloud\\u003cbr\\u003eHost: Wikibase Cloud\\u003cbr\\u003eVersion: 1.39.7\\u003cbr\\u003eStart Date: 2020-11-25 00:00:00+00:00\\u003cbr\\u003eActive Users: 0\\u003cbr\\u003eUsers: 8\\u003cbr\\u003eProperties: 18\\u003cbr\\u003eEdits: 444\\u003cbr\\u003ePages: 389\",\"Christof Sch\\u00f6ch\\u003cbr\\u003eURL: https:\\u002f\\u002fchristof-schoech.wikibase.cloud\\u003cbr\\u003eHost: Wikibase Cloud\\u003cbr\\u003eVersion: 1.39.7\\u003cbr\\u003eStart Date: 2024-09-11 00:00:00+00:00\\u003cbr\\u003eActive Users: 1\\u003cbr\\u003eUsers: 2\\u003cbr\\u003eProperties: 64\\u003cbr\\u003eEdits: 1498\\u003cbr\\u003ePages: 369\",\"IPCC\\u003cbr\\u003eURL: https:\\u002f\\u002fkg-ipclimatec-reports.wikibase.cloud\\u003cbr\\u003eHost: Wikibase Cloud\\u003cbr\\u003eVersion: 1.39.7\\u003cbr\\u003eStart Date: 2023-04-22 00:00:00+00:00\\u003cbr\\u003eActive Users: 0\\u003cbr\\u003eUsers: 14\\u003cbr\\u003eProperties: 25\\u003cbr\\u003eEdits: 824\\u003cbr\\u003ePages: 359\",\"pruebas-auto\\u003cbr\\u003eURL: https:\\u002f\\u002fpruebas-auto.wikibase.cloud\\u003cbr\\u003eHost: Wikibase Cloud\\u003cbr\\u003eVersion: 1.39.7\\u003cbr\\u003eStart Date: 2024-09-26 00:00:00+00:00\\u003cbr\\u003eActive Users: 0\\u003cbr\\u003eUsers: 2\\u003cbr\\u003eProperties: 50\\u003cbr\\u003eEdits: 765\\u003cbr\\u003ePages: 352\",\"wbwh-test\\u003cbr\\u003eURL: https:\\u002f\\u002fwbwh-test.wikibase.cloud\\u003cbr\\u003eHost: Wikibase Cloud\\u003cbr\\u003eVersion: 1.39.7\\u003cbr\\u003eStart Date: 2023-01-27 00:00:00+00:00\\u003cbr\\u003eActive Users: 0\\u003cbr\\u003eUsers: 3\\u003cbr\\u003eProperties: 37\\u003cbr\\u003eEdits: 440\\u003cbr\\u003ePages: 343\",\"FrameNet Test4\\u003cbr\\u003eURL: https:\\u002f\\u002fframenetest4.wikibase.cloud\\u003cbr\\u003eHost: Wikibase Cloud\\u003cbr\\u003eVersion: 1.39.7\\u003cbr\\u003eStart Date: 2024-04-10 00:00:00+00:00\\u003cbr\\u003eActive Users: 0\\u003cbr\\u003eUsers: 2\\u003cbr\\u003eProperties: 39\\u003cbr\\u003eEdits: 331\\u003cbr\\u003ePages: 331\",\"Metadati intelligenti\\u003cbr\\u003eURL: https:\\u002f\\u002fsmartmeta.wikibase.cloud\\u003cbr\\u003eHost: Wikibase Cloud\\u003cbr\\u003eVersion: 1.39.7\\u003cbr\\u003eStart Date: 2021-09-04 00:00:00+00:00\\u003cbr\\u003eActive Users: 0\\u003cbr\\u003eUsers: 17\\u003cbr\\u003eProperties: 79\\u003cbr\\u003eEdits: 1172\\u003cbr\\u003ePages: 294\",\"Horimiya Base\\u003cbr\\u003eURL: https:\\u002f\\u002fhorimiya.wikibase.cloud\\u003cbr\\u003eHost: Wikibase Cloud\\u003cbr\\u003eVersion: 1.39.7\\u003cbr\\u003eStart Date: 2023-03-17 00:00:00+00:00\\u003cbr\\u003eActive Users: 0\\u003cbr\\u003eUsers: 2\\u003cbr\\u003eProperties: 59\\u003cbr\\u003eEdits: 964\\u003cbr\\u003ePages: 271\",\"processualista\\u003cbr\\u003eURL: https:\\u002f\\u002fdados.processualista.com.br\\u003cbr\\u003eHost: Wikibase Cloud\\u003cbr\\u003eVersion: 1.39.7\\u003cbr\\u003eStart Date: 2024-09-02 00:00:00+00:00\\u003cbr\\u003eActive Users: 0\\u003cbr\\u003eUsers: 2\\u003cbr\\u003eProperties: 45\\u003cbr\\u003eEdits: 1244\\u003cbr\\u003ePages: 329\",\"ELTE-DH\\u003cbr\\u003eURL: https:\\u002f\\u002felte-dh.wikibase.cloud\\u003cbr\\u003eHost: Wikibase Cloud\\u003cbr\\u003eVersion: 1.39.7\\u003cbr\\u003eStart Date: 2024-02-11 00:00:00+00:00\\u003cbr\\u003eActive Users: 0\\u003cbr\\u003eUsers: 3\\u003cbr\\u003eProperties: 45\\u003cbr\\u003eEdits: 1409\\u003cbr\\u003ePages: 266\",\"OntoLagoon\\u003cbr\\u003eURL: https:\\u002f\\u002fontolagoon.wikibase.cloud\\u003cbr\\u003eHost: Wikibase Cloud\\u003cbr\\u003eVersion: 1.39.7\\u003cbr\\u003eStart Date: 2024-01-16 00:00:00+00:00\\u003cbr\\u003eActive Users: 1\\u003cbr\\u003eUsers: 4\\u003cbr\\u003eProperties: 25\\u003cbr\\u003eEdits: 939\\u003cbr\\u003ePages: 268\",\"DiscoveryTest\\u003cbr\\u003eURL: https:\\u002f\\u002fdiscoverytest.wikibase.cloud\\u003cbr\\u003eHost: Wikibase Cloud\\u003cbr\\u003eVersion: 1.39.7\\u003cbr\\u003eStart Date: 2024-04-03 00:00:00+00:00\\u003cbr\\u003eActive Users: 0\\u003cbr\\u003eUsers: 2\\u003cbr\\u003eProperties: 41\\u003cbr\\u003eEdits: 259\\u003cbr\\u003ePages: 259\",\"Pony Base\\u003cbr\\u003eURL: https:\\u002f\\u002fponybase.wikibase.cloud\\u003cbr\\u003eHost: Wikibase Cloud\\u003cbr\\u003eVersion: 1.39.7\\u003cbr\\u003eStart Date: 2024-02-28 00:00:00+00:00\\u003cbr\\u003eActive Users: 0\\u003cbr\\u003eUsers: 2\\u003cbr\\u003eProperties: 22\\u003cbr\\u003eEdits: 844\\u003cbr\\u003ePages: 259\",\"Latimer Core\\u003cbr\\u003eURL: https:\\u002f\\u002flatimer-core.wikibase.cloud\\u003cbr\\u003eHost: Wikibase Cloud\\u003cbr\\u003eVersion: 1.39.7\\u003cbr\\u003eStart Date: 2021-10-07 00:00:00+00:00\\u003cbr\\u003eActive Users: 0\\u003cbr\\u003eUsers: 12\\u003cbr\\u003eProperties: 131\\u003cbr\\u003eEdits: 438\\u003cbr\\u003ePages: 239\",\"EOSS\\u003cbr\\u003eURL: https:\\u002f\\u002feoss-1.wikibase.cloud\\u003cbr\\u003eHost: Wikibase Cloud\\u003cbr\\u003eVersion: 1.39.7\\u003cbr\\u003eStart Date: 2020-02-28 00:00:00+00:00\\u003cbr\\u003eActive Users: 0\\u003cbr\\u003eUsers: 3\\u003cbr\\u003eProperties: 9\\u003cbr\\u003eEdits: 926\\u003cbr\\u003ePages: 238\",\"Testing out Wikibase\\u003cbr\\u003eURL: https:\\u002f\\u002fmasssly.wikibase.cloud\\u003cbr\\u003eHost: Wikibase Cloud\\u003cbr\\u003eVersion: 1.39.7\\u003cbr\\u003eStart Date: 2021-07-13 00:00:00+00:00\\u003cbr\\u003eActive Users: 1\\u003cbr\\u003eUsers: 3\\u003cbr\\u003eProperties: 18\\u003cbr\\u003eEdits: 799\\u003cbr\\u003ePages: 237\",\"Anachroniques\\u003cbr\\u003eURL: https:\\u002f\\u002fanachroniques.wikibase.cloud\\u003cbr\\u003eHost: Wikibase Cloud\\u003cbr\\u003eVersion: 1.39.7\\u003cbr\\u003eStart Date: 2022-10-04 00:00:00+00:00\\u003cbr\\u003eActive Users: 0\\u003cbr\\u003eUsers: 3\\u003cbr\\u003eProperties: 24\\u003cbr\\u003eEdits: 1407\\u003cbr\\u003ePages: 229\",\"testingtesting (on wikibase.cloud)\\u003cbr\\u003eURL: https:\\u002f\\u002ftestingtesting.wikibase.cloud\\u003cbr\\u003eHost: Wikibase Cloud\\u003cbr\\u003eVersion: 1.39.7\\u003cbr\\u003eStart Date: 2023-10-25 00:00:00+00:00\\u003cbr\\u003eActive Users: 0\\u003cbr\\u003eUsers: 2\\u003cbr\\u003eProperties: 21\\u003cbr\\u003eEdits: 289\\u003cbr\\u003ePages: 231\",\"FrameNet Akkadian 2\\u003cbr\\u003eURL: https:\\u002f\\u002fframenet-akkadian2.wikibase.cloud\\u003cbr\\u003eHost: Wikibase Cloud\\u003cbr\\u003eVersion: 1.39.7\\u003cbr\\u003eStart Date: 2024-03-24 00:00:00+00:00\\u003cbr\\u003eActive Users: 1\\u003cbr\\u003eUsers: 2\\u003cbr\\u003eProperties: 40\\u003cbr\\u003eEdits: 446\\u003cbr\\u003ePages: 226\",\"Bioimages\\u003cbr\\u003eURL: https:\\u002f\\u002fbioimages.wikibase.cloud\\u003cbr\\u003eHost: Wikibase Cloud\\u003cbr\\u003eVersion: 1.39.7\\u003cbr\\u003eStart Date: 2024-07-16 00:00:00+00:00\\u003cbr\\u003eActive Users: 1\\u003cbr\\u003eUsers: 3\\u003cbr\\u003eProperties: 61\\u003cbr\\u003eEdits: 593\\u003cbr\\u003ePages: 218\",\"fedi\\u003cbr\\u003eURL: https:\\u002f\\u002ffedidata.wikibase.cloud\\u003cbr\\u003eHost: Wikibase Cloud\\u003cbr\\u003eVersion: 1.39.7\\u003cbr\\u003eStart Date: 2022-11-09 00:00:00+00:00\\u003cbr\\u003eActive Users: 0\\u003cbr\\u003eUsers: 2\\u003cbr\\u003eProperties: 204\\u003cbr\\u003eEdits: 228\\u003cbr\\u003ePages: 208\",\"Testing Mapping the Scottish Reformation\\u003cbr\\u003eURL: https:\\u002f\\u002fmsrtest.wikibase.cloud\\u003cbr\\u003eHost: Wikibase Cloud\\u003cbr\\u003eVersion: 1.39.7\\u003cbr\\u003eStart Date: 2023-09-07 00:00:00+00:00\\u003cbr\\u003eActive Users: 0\\u003cbr\\u003eUsers: 2\\u003cbr\\u003eProperties: 35\\u003cbr\\u003eEdits: 511\\u003cbr\\u003ePages: 203\",\"Ecology-22\\u003cbr\\u003eURL: https:\\u002f\\u002fecology-22.wikibase.cloud\\u003cbr\\u003eHost: Wikibase Cloud\\u003cbr\\u003eVersion: 1.39.7\\u003cbr\\u003eStart Date: 2022-11-17 00:00:00+00:00\\u003cbr\\u003eActive Users: 0\\u003cbr\\u003eUsers: 6\\u003cbr\\u003eProperties: 36\\u003cbr\\u003eEdits: 1077\\u003cbr\\u003ePages: 199\",\"Fontes Asturienses\\u003cbr\\u003eURL: https:\\u002f\\u002ffontes-asturienses.wikibase.cloud\\u003cbr\\u003eHost: Wikibase Cloud\\u003cbr\\u003eVersion: 1.39.7\\u003cbr\\u003eStart Date: 2024-03-13 00:00:00+00:00\\u003cbr\\u003eActive Users: 0\\u003cbr\\u003eUsers: 3\\u003cbr\\u003eProperties: 48\\u003cbr\\u003eEdits: 728\\u003cbr\\u003ePages: 171\",\"Grafitos hist\\u00f3ricos del museo Hist\\u00f3rico Arqueol\\u00f3gico Najerillense (Najera, Espa\\u00f1a)\\u003cbr\\u003eURL: https:\\u002f\\u002fnajeragrafitos.wikibase.cloud\\u003cbr\\u003eHost: Wikibase Cloud\\u003cbr\\u003eVersion: 1.39.7\\u003cbr\\u003eStart Date: 2024-08-24 00:00:00+00:00\\u003cbr\\u003eActive Users: 0\\u003cbr\\u003eUsers: 2\\u003cbr\\u003eProperties: 15\\u003cbr\\u003eEdits: 1185\\u003cbr\\u003ePages: 160\",\"Tandori Archive\\u003cbr\\u003eURL: https:\\u002f\\u002ftandori.wikibase.cloud\\u003cbr\\u003eHost: Wikibase Cloud\\u003cbr\\u003eVersion: 1.39.7\\u003cbr\\u003eStart Date: 2022-12-12 00:00:00+00:00\\u003cbr\\u003eActive Users: 0\\u003cbr\\u003eUsers: 3\\u003cbr\\u003eProperties: 11\\u003cbr\\u003eEdits: 282\\u003cbr\\u003ePages: 155\",\"BellmanFactBase\\u003cbr\\u003eURL: https:\\u002f\\u002fbellmanfactbase.wikibase.cloud\\u003cbr\\u003eHost: Wikibase Cloud\\u003cbr\\u003eVersion: 1.39.7\\u003cbr\\u003eStart Date: 2020-11-13 00:00:00+00:00\\u003cbr\\u003eActive Users: 0\\u003cbr\\u003eUsers: 69\\u003cbr\\u003eProperties: 9\\u003cbr\\u003eEdits: 236\\u003cbr\\u003ePages: 147\",\"Bekasi\\u003cbr\\u003eURL: https:\\u002f\\u002fbekasi.wikibase.cloud\\u003cbr\\u003eHost: Wikibase Cloud\\u003cbr\\u003eVersion: 1.39.7\\u003cbr\\u003eStart Date: 2024-02-29 00:00:00+00:00\\u003cbr\\u003eActive Users: 0\\u003cbr\\u003eUsers: 2\\u003cbr\\u003eProperties: 30\\u003cbr\\u003eEdits: 285\\u003cbr\\u003ePages: 132\",\"Conservatorio \\\"Claudio Monteverdi\\\" di Cremona\\u003cbr\\u003eURL: https:\\u002f\\u002fconscremona.wikibase.cloud\\u003cbr\\u003eHost: Wikibase Cloud\\u003cbr\\u003eVersion: 1.39.7\\u003cbr\\u003eStart Date: 2022-11-16 00:00:00+00:00\\u003cbr\\u003eActive Users: 0\\u003cbr\\u003eUsers: 2\\u003cbr\\u003eProperties: 25\\u003cbr\\u003eEdits: 231\\u003cbr\\u003ePages: 128\",\"AFL_example\\u003cbr\\u003eURL: https:\\u002f\\u002fafl-example.wikibase.cloud\\u003cbr\\u003eHost: Wikibase Cloud\\u003cbr\\u003eVersion: 1.39.7\\u003cbr\\u003eStart Date: 2020-10-24 00:00:00+00:00\\u003cbr\\u003eActive Users: 0\\u003cbr\\u003eUsers: 3\\u003cbr\\u003eProperties: 42\\u003cbr\\u003eEdits: 390\\u003cbr\\u003ePages: 130\",\"Adams Family\\u003cbr\\u003eURL: https:\\u002f\\u002fadams-family.wikibase.cloud\\u003cbr\\u003eHost: Wikibase Cloud\\u003cbr\\u003eVersion: 1.39.7\\u003cbr\\u003eStart Date: 2023-12-23 00:00:00+00:00\\u003cbr\\u003eActive Users: 1\\u003cbr\\u003eUsers: 3\\u003cbr\\u003eProperties: 33\\u003cbr\\u003eEdits: 961\\u003cbr\\u003ePages: 117\",\"Stolen Relations\\u003cbr\\u003eURL: https:\\u002f\\u002fstolen-relations.wikibase.cloud\\u003cbr\\u003eHost: Wikibase Cloud\\u003cbr\\u003eVersion: 1.39.7\\u003cbr\\u003eStart Date: 2022-09-06 00:00:00+00:00\\u003cbr\\u003eActive Users: 0\\u003cbr\\u003eUsers: 2\\u003cbr\\u003eProperties: 38\\u003cbr\\u003eEdits: 189\\u003cbr\\u003ePages: 126\",\"coffeebase\\u003cbr\\u003eURL: https:\\u002f\\u002fcoffeebase.wikibase.cloud\\u003cbr\\u003eHost: Wikibase Cloud\\u003cbr\\u003eVersion: 1.39.7\\u003cbr\\u003eStart Date: 2020-04-14 00:00:00+00:00\\u003cbr\\u003eActive Users: 1\\u003cbr\\u003eUsers: 4\\u003cbr\\u003eProperties: 8\\u003cbr\\u003eEdits: 139\\u003cbr\\u003ePages: 110\",\"BCUL-IC\\u003cbr\\u003eURL: https:\\u002f\\u002fbcul-ic.wikibase.cloud\\u003cbr\\u003eHost: Wikibase Cloud\\u003cbr\\u003eVersion: 1.39.7\\u003cbr\\u003eStart Date: 2020-08-11 00:00:00+00:00\\u003cbr\\u003eActive Users: 0\\u003cbr\\u003eUsers: 2\\u003cbr\\u003eProperties: 13\\u003cbr\\u003eEdits: 682\\u003cbr\\u003ePages: 111\",\"cidoc_crm\\u003cbr\\u003eURL: https:\\u002f\\u002fcidoc-crm.wikibase.cloud\\u003cbr\\u003eHost: Wikibase Cloud\\u003cbr\\u003eVersion: 1.39.7\\u003cbr\\u003eStart Date: 2020-09-23 00:00:00+00:00\\u003cbr\\u003eActive Users: 0\\u003cbr\\u003eUsers: 3\\u003cbr\\u003eProperties: 5\\u003cbr\\u003eEdits: 164\\u003cbr\\u003ePages: 105\",\"ELTeCgeo\\u003cbr\\u003eURL: https:\\u002f\\u002feltecgeo.wikibase.cloud\\u003cbr\\u003eHost: Wikibase Cloud\\u003cbr\\u003eVersion: 1.39.7\\u003cbr\\u003eStart Date: 2024-09-19 00:00:00+00:00\\u003cbr\\u003eActive Users: 1\\u003cbr\\u003eUsers: 2\\u003cbr\\u003eProperties: 21\\u003cbr\\u003eEdits: 337\\u003cbr\\u003ePages: 115\",\"Global Forest Decimal Classification\\u003cbr\\u003eURL: https:\\u002f\\u002fforest-decimal-classification.wikibase.cloud\\u003cbr\\u003eHost: Wikibase Cloud\\u003cbr\\u003eVersion: 1.39.7\\u003cbr\\u003eStart Date: 2021-12-16 00:00:00+00:00\\u003cbr\\u003eActive Users: 0\\u003cbr\\u003eUsers: 3\\u003cbr\\u003eProperties: 42\\u003cbr\\u003eEdits: 358\\u003cbr\\u003ePages: 103\",\"2\\u3064\\u76ee\\u306ewiki\\u003cbr\\u003eURL: https:\\u002f\\u002fnakamura196.wikibase.cloud\\u003cbr\\u003eHost: Wikibase Cloud\\u003cbr\\u003eVersion: 1.39.7\\u003cbr\\u003eStart Date: 2023-07-14 00:00:00+00:00\\u003cbr\\u003eActive Users: 0\\u003cbr\\u003eUsers: 3\\u003cbr\\u003eProperties: 47\\u003cbr\\u003eEdits: 151\\u003cbr\\u003ePages: 100\",\"RIDGES-Herb-Wikibase\\u003cbr\\u003eURL: https:\\u002f\\u002fridges-herb.wikibase.cloud\\u003cbr\\u003eHost: Wikibase Cloud\\u003cbr\\u003eVersion: 1.39.7\\u003cbr\\u003eStart Date: 2022-11-15 00:00:00+00:00\\u003cbr\\u003eActive Users: 0\\u003cbr\\u003eUsers: 3\\u003cbr\\u003eProperties: 71\\u003cbr\\u003eEdits: 353\\u003cbr\\u003ePages: 98\",\"DIKUSA-dev\\u003cbr\\u003eURL: https:\\u002f\\u002fdikusa-dev.wikibase.cloud\\u003cbr\\u003eHost: Wikibase Cloud\\u003cbr\\u003eVersion: 1.39.7\\u003cbr\\u003eStart Date: 2024-05-15 00:00:00+00:00\\u003cbr\\u003eActive Users: 1\\u003cbr\\u003eUsers: 4\\u003cbr\\u003eProperties: 44\\u003cbr\\u003eEdits: 213\\u003cbr\\u003ePages: 97\",\"MCData\\u003cbr\\u003eURL: https:\\u002f\\u002fmcdata.wikibase.cloud\\u003cbr\\u003eHost: Wikibase Cloud\\u003cbr\\u003eVersion: 1.39.7\\u003cbr\\u003eStart Date: 2024-07-18 00:00:00+00:00\\u003cbr\\u003eActive Users: 0\\u003cbr\\u003eUsers: 2\\u003cbr\\u003eProperties: 30\\u003cbr\\u003eEdits: 515\\u003cbr\\u003ePages: 95\",\"U1P QS\\u003cbr\\u003eURL: https:\\u002f\\u002fu1p-qs.wikibase.cloud\\u003cbr\\u003eHost: Wikibase Cloud\\u003cbr\\u003eVersion: 1.39.7\\u003cbr\\u003eStart Date: 2024-05-31 00:00:00+00:00\\u003cbr\\u003eActive Users: 0\\u003cbr\\u003eUsers: 2\\u003cbr\\u003eProperties: 102\\u003cbr\\u003eEdits: 179\\u003cbr\\u003ePages: 103\",\"Mabinogi Eternity\\u003cbr\\u003eURL: https:\\u002f\\u002fmabinogi.wikibase.cloud\\u003cbr\\u003eHost: Wikibase Cloud\\u003cbr\\u003eVersion: 1.39.7\\u003cbr\\u003eStart Date: 2023-06-19 00:00:00+00:00\\u003cbr\\u003eActive Users: 1\\u003cbr\\u003eUsers: 2\\u003cbr\\u003eProperties: 22\\u003cbr\\u003eEdits: 1551\\u003cbr\\u003ePages: 107\",\"KBTestWikibase\\u003cbr\\u003eURL: https:\\u002f\\u002fkbtestwikibase.wikibase.cloud\\u003cbr\\u003eHost: Wikibase Cloud\\u003cbr\\u003eVersion: 1.39.7\\u003cbr\\u003eStart Date: 2019-10-26 00:00:00+00:00\\u003cbr\\u003eActive Users: 0\\u003cbr\\u003eUsers: 6\\u003cbr\\u003eProperties: 46\\u003cbr\\u003eEdits: 1026\\u003cbr\\u003ePages: 92\",\"Genealogy\\u003cbr\\u003eURL: https:\\u002f\\u002fhaaitsma-genea.wikibase.cloud\\u003cbr\\u003eHost: Wikibase Cloud\\u003cbr\\u003eVersion: 1.39.7\\u003cbr\\u003eStart Date: 2023-10-19 00:00:00+00:00\\u003cbr\\u003eActive Users: 0\\u003cbr\\u003eUsers: 2\\u003cbr\\u003eProperties: 23\\u003cbr\\u003eEdits: 500\\u003cbr\\u003ePages: 94\",\"We would not forget you\\u003cbr\\u003eURL: https:\\u002f\\u002fshaheed.wikibase.cloud\\u003cbr\\u003eHost: Wikibase Cloud\\u003cbr\\u003eVersion: 1.39.7\\u003cbr\\u003eStart Date: 2024-07-24 00:00:00+00:00\\u003cbr\\u003eActive Users: 0\\u003cbr\\u003eUsers: 2\\u003cbr\\u003eProperties: 38\\u003cbr\\u003eEdits: 150\\u003cbr\\u003ePages: 89\",\"NFDI4Culture LOD Working Group\\u003cbr\\u003eURL: https:\\u002f\\u002flod-working-group.wikibase.cloud\\u003cbr\\u003eHost: Wikibase Cloud\\u003cbr\\u003eVersion: 1.39.7\\u003cbr\\u003eStart Date: 2021-06-28 00:00:00+00:00\\u003cbr\\u003eActive Users: 0\\u003cbr\\u003eUsers: 17\\u003cbr\\u003eProperties: 40\\u003cbr\\u003eEdits: 123\\u003cbr\\u003ePages: 87\",\"Research Waste\\u003cbr\\u003eURL: https:\\u002f\\u002fresearch-waste.wikibase.cloud\\u003cbr\\u003eHost: Wikibase Cloud\\u003cbr\\u003eVersion: 1.39.7\\u003cbr\\u003eStart Date: 2024-03-26 00:00:00+00:00\\u003cbr\\u003eActive Users: 0\\u003cbr\\u003eUsers: 4\\u003cbr\\u003eProperties: 37\\u003cbr\\u003eEdits: 194\\u003cbr\\u003ePages: 87\",\"The Choir\\u003cbr\\u003eURL: https:\\u002f\\u002fchristian-nationalists.wikibase.cloud\\u003cbr\\u003eHost: Wikibase Cloud\\u003cbr\\u003eVersion: 1.39.7\\u003cbr\\u003eStart Date: 2023-08-31 00:00:00+00:00\\u003cbr\\u003eActive Users: 0\\u003cbr\\u003eUsers: 2\\u003cbr\\u003eProperties: 3\\u003cbr\\u003eEdits: 94\\u003cbr\\u003ePages: 86\",\"Sources\\u003cbr\\u003eURL: https:\\u002f\\u002fsources.wikibase.cloud\\u003cbr\\u003eHost: Wikibase Cloud\\u003cbr\\u003eVersion: 1.39.7\\u003cbr\\u003eStart Date: 2024-04-02 00:00:00+00:00\\u003cbr\\u003eActive Users: 0\\u003cbr\\u003eUsers: 2\\u003cbr\\u003eProperties: 16\\u003cbr\\u003eEdits: 353\\u003cbr\\u003ePages: 86\",\"Quotebase\\u003cbr\\u003eURL: https:\\u002f\\u002fquotebase.wikibase.cloud\\u003cbr\\u003eHost: Wikibase Cloud\\u003cbr\\u003eVersion: 1.39.7\\u003cbr\\u003eStart Date: 2022-11-17 00:00:00+00:00\\u003cbr\\u003eActive Users: 0\\u003cbr\\u003eUsers: 5\\u003cbr\\u003eProperties: 26\\u003cbr\\u003eEdits: 266\\u003cbr\\u003ePages: 80\",\"LD4 WBStack Test\\u003cbr\\u003eURL: https:\\u002f\\u002fld4-wbs-test.wikibase.cloud\\u003cbr\\u003eHost: Wikibase Cloud\\u003cbr\\u003eVersion: 1.39.7\\u003cbr\\u003eStart Date: 2021-05-25 00:00:00+00:00\\u003cbr\\u003eActive Users: 0\\u003cbr\\u003eUsers: 36\\u003cbr\\u003eProperties: 18\\u003cbr\\u003eEdits: 227\\u003cbr\\u003ePages: 79\",\"LD4 2021 Conference\\u003cbr\\u003eURL: https:\\u002f\\u002fld4-2021-conference.wikibase.cloud\\u003cbr\\u003eHost: Wikibase Cloud\\u003cbr\\u003eVersion: 1.39.7\\u003cbr\\u003eStart Date: 2021-07-20 00:00:00+00:00\\u003cbr\\u003eActive Users: 0\\u003cbr\\u003eUsers: 9\\u003cbr\\u003eProperties: 23\\u003cbr\\u003eEdits: 152\\u003cbr\\u003ePages: 76\",\"uo276406-ws1-miw\\u003cbr\\u003eURL: https:\\u002f\\u002fweb-semantica-uo276406.wikibase.cloud\\u003cbr\\u003eHost: Wikibase Cloud\\u003cbr\\u003eVersion: 1.39.7\\u003cbr\\u003eStart Date: 2024-05-11 00:00:00+00:00\\u003cbr\\u003eActive Users: 0\\u003cbr\\u003eUsers: 3\\u003cbr\\u003eProperties: 8\\u003cbr\\u003eEdits: 82\\u003cbr\\u003ePages: 76\",\"SALARTIS1600\\u003cbr\\u003eURL: https:\\u002f\\u002fsalartis1600.wikibase.cloud\\u003cbr\\u003eHost: Wikibase Cloud\\u003cbr\\u003eVersion: 1.39.7\\u003cbr\\u003eStart Date: 2024-09-20 00:00:00+00:00\\u003cbr\\u003eActive Users: 2\\u003cbr\\u003eUsers: 3\\u003cbr\\u003eProperties: 32\\u003cbr\\u003eEdits: 415\\u003cbr\\u003ePages: 77\",\"Bib-Sample\\u003cbr\\u003eURL: https:\\u002f\\u002fbibsample.wikibase.cloud\\u003cbr\\u003eHost: Wikibase Cloud\\u003cbr\\u003eVersion: 1.39.7\\u003cbr\\u003eStart Date: 2021-01-31 00:00:00+00:00\\u003cbr\\u003eActive Users: 0\\u003cbr\\u003eUsers: 2\\u003cbr\\u003eProperties: 17\\u003cbr\\u003eEdits: 110\\u003cbr\\u003ePages: 73\",\"Brandskon\\u003cbr\\u003eURL: https:\\u002f\\u002fbrandskon.wikibase.cloud\\u003cbr\\u003eHost: Wikibase Cloud\\u003cbr\\u003eVersion: 1.39.7\\u003cbr\\u003eStart Date: 2024-03-16 00:00:00+00:00\\u003cbr\\u003eActive Users: 0\\u003cbr\\u003eUsers: 2\\u003cbr\\u003eProperties: 53\\u003cbr\\u003eEdits: 163\\u003cbr\\u003ePages: 73\",\"RIDGES-Herb. 9.0 Wikibase\\u003cbr\\u003eURL: https:\\u002f\\u002fridges-herb-9.wikibase.cloud\\u003cbr\\u003eHost: Wikibase Cloud\\u003cbr\\u003eVersion: 1.39.7\\u003cbr\\u003eStart Date: 2022-10-24 00:00:00+00:00\\u003cbr\\u003eActive Users: 0\\u003cbr\\u003eUsers: 3\\u003cbr\\u003eProperties: 59\\u003cbr\\u003eEdits: 496\\u003cbr\\u003ePages: 75\",\"KM28\\u003cbr\\u003eURL: https:\\u002f\\u002fkarlmarx28.wikibase.cloud\\u003cbr\\u003eHost: Wikibase Cloud\\u003cbr\\u003eVersion: 1.39.7\\u003cbr\\u003eStart Date: 2023-06-02 00:00:00+00:00\\u003cbr\\u003eActive Users: 0\\u003cbr\\u003eUsers: 3\\u003cbr\\u003eProperties: 12\\u003cbr\\u003eEdits: 316\\u003cbr\\u003ePages: 72\",\"NFDI4Objects TA2 Collecting Workspace\\u003cbr\\u003eURL: https:\\u002f\\u002fn4o-ta2.wikibase.cloud\\u003cbr\\u003eHost: Wikibase Cloud\\u003cbr\\u003eVersion: 1.39.7\\u003cbr\\u003eStart Date: 2023-05-30 00:00:00+00:00\\u003cbr\\u003eActive Users: 0\\u003cbr\\u003eUsers: 2\\u003cbr\\u003eProperties: 25\\u003cbr\\u003eEdits: 293\\u003cbr\\u003ePages: 71\",\"SciLinkDB\\u003cbr\\u003eURL: https:\\u002f\\u002fscilinkdb.wikibase.cloud\\u003cbr\\u003eHost: Wikibase Cloud\\u003cbr\\u003eVersion: 1.39.7\\u003cbr\\u003eStart Date: 2024-05-22 00:00:00+00:00\\u003cbr\\u003eActive Users: 1\\u003cbr\\u003eUsers: 2\\u003cbr\\u003eProperties: 191\\u003cbr\\u003eEdits: 1047\\u003cbr\\u003ePages: 588\",\"Fermenting Data\\u003cbr\\u003eURL: https:\\u002f\\u002ffermentingdata.wikibase.cloud\\u003cbr\\u003eHost: Wikibase Cloud\\u003cbr\\u003eVersion: 1.39.7\\u003cbr\\u003eStart Date: 2023-05-30 00:00:00+00:00\\u003cbr\\u003eActive Users: 0\\u003cbr\\u003eUsers: 14\\u003cbr\\u003eProperties: 22\\u003cbr\\u003eEdits: 116\\u003cbr\\u003ePages: 69\",\"Chilean Music\\u003cbr\\u003eURL: https:\\u002f\\u002fchilean-music.wikibase.cloud\\u003cbr\\u003eHost: Wikibase Cloud\\u003cbr\\u003eVersion: 1.39.7\\u003cbr\\u003eStart Date: 2024-04-03 00:00:00+00:00\\u003cbr\\u003eActive Users: 2\\u003cbr\\u003eUsers: 2\\u003cbr\\u003eProperties: 15\\u003cbr\\u003eEdits: 149\\u003cbr\\u003ePages: 75\",\"Immaterieel erfgoed\\u003cbr\\u003eURL: https:\\u002f\\u002fimmaterieel-erfgoed.wikibase.cloud\\u003cbr\\u003eHost: Wikibase Cloud\\u003cbr\\u003eVersion: 1.39.7\\u003cbr\\u003eStart Date: 2022-09-19 00:00:00+00:00\\u003cbr\\u003eActive Users: 1\\u003cbr\\u003eUsers: 4\\u003cbr\\u003eProperties: 32\\u003cbr\\u003eEdits: 215\\u003cbr\\u003ePages: 68\",\"Okrzeja\\u003cbr\\u003eURL: https:\\u002f\\u002fokrzeja.wikibase.cloud\\u003cbr\\u003eHost: Wikibase Cloud\\u003cbr\\u003eVersion: 1.39.7\\u003cbr\\u003eStart Date: 2024-08-30 00:00:00+00:00\\u003cbr\\u003eActive Users: 0\\u003cbr\\u003eUsers: 2\\u003cbr\\u003eProperties: 35\\u003cbr\\u003eEdits: 170\\u003cbr\\u003ePages: 67\",\"AAS semanticId Repository\\u003cbr\\u003eURL: https:\\u002f\\u002fsemanticid.aas-connect.com\\u003cbr\\u003eHost: Wikibase Cloud\\u003cbr\\u003eVersion: 1.39.7\\u003cbr\\u003eStart Date: 2023-12-14 00:00:00+00:00\\u003cbr\\u003eActive Users: 0\\u003cbr\\u003eUsers: 4\\u003cbr\\u003eProperties: 19\\u003cbr\\u003eEdits: 187\\u003cbr\\u003ePages: 67\",\"Food Systems and Landscapes\\u003cbr\\u003eURL: https:\\u002f\\u002ffoodsystemslab.wikibase.cloud\\u003cbr\\u003eHost: Wikibase Cloud\\u003cbr\\u003eVersion: 1.39.7\\u003cbr\\u003eStart Date: 2020-08-07 00:00:00+00:00\\u003cbr\\u003eActive Users: 0\\u003cbr\\u003eUsers: 2\\u003cbr\\u003eProperties: 13\\u003cbr\\u003eEdits: 98\\u003cbr\\u003ePages: 66\",\"Iowa State Metadata Services TEST\\u003cbr\\u003eURL: https:\\u002f\\u002fiast-metadata-test.wikibase.cloud\\u003cbr\\u003eHost: Wikibase Cloud\\u003cbr\\u003eVersion: 1.39.7\\u003cbr\\u003eStart Date: 2022-09-20 00:00:00+00:00\\u003cbr\\u003eActive Users: 0\\u003cbr\\u003eUsers: 8\\u003cbr\\u003eProperties: 17\\u003cbr\\u003eEdits: 339\\u003cbr\\u003ePages: 67\",\"My Community Archives\\u003cbr\\u003eURL: https:\\u002f\\u002fmycommunityarchives.wikibase.cloud\\u003cbr\\u003eHost: Wikibase Cloud\\u003cbr\\u003eVersion: 1.39.7\\u003cbr\\u003eStart Date: 2023-01-07 00:00:00+00:00\\u003cbr\\u003eActive Users: 0\\u003cbr\\u003eUsers: 4\\u003cbr\\u003eProperties: 45\\u003cbr\\u003eEdits: 280\\u003cbr\\u003ePages: 65\",\"AGAM\\u003cbr\\u003eURL: https:\\u002f\\u002fagausgabemedien.wikibase.cloud\\u003cbr\\u003eHost: Wikibase Cloud\\u003cbr\\u003eVersion: 1.39.7\\u003cbr\\u003eStart Date: 2022-12-21 00:00:00+00:00\\u003cbr\\u003eActive Users: 0\\u003cbr\\u003eUsers: 27\\u003cbr\\u003eProperties: 23\\u003cbr\\u003eEdits: 167\\u003cbr\\u003ePages: 66\",\"\\u6c49\\u8bed\\u767e\\u79d1\\u003cbr\\u003eURL: https:\\u002f\\u002fchinesepedia.wikibase.cloud\\u003cbr\\u003eHost: Wikibase Cloud\\u003cbr\\u003eVersion: 1.39.7\\u003cbr\\u003eStart Date: 2024-08-20 00:00:00+00:00\\u003cbr\\u003eActive Users: 1\\u003cbr\\u003eUsers: 4\\u003cbr\\u003eProperties: 6\\u003cbr\\u003eEdits: 217\\u003cbr\\u003ePages: 70\",\"Qvtorw Onwup\\u003cbr\\u003eURL: https:\\u002f\\u002fqvtorwonwup00.wikibase.cloud\\u003cbr\\u003eHost: Wikibase Cloud\\u003cbr\\u003eVersion: 1.39.7\\u003cbr\\u003eStart Date: 2024-06-21 00:00:00+00:00\\u003cbr\\u003eActive Users: 0\\u003cbr\\u003eUsers: 2\\u003cbr\\u003eProperties: 63\\u003cbr\\u003eEdits: 64\\u003cbr\\u003ePages: 64\",\"Star Wars Data Holocronn\\u003cbr\\u003eURL: https:\\u002f\\u002fholocron.wikibase.cloud\\u003cbr\\u003eHost: Wikibase Cloud\\u003cbr\\u003eVersion: 1.39.7\\u003cbr\\u003eStart Date: 2024-05-22 00:00:00+00:00\\u003cbr\\u003eActive Users: 0\\u003cbr\\u003eUsers: 2\\u003cbr\\u003eProperties: 30\\u003cbr\\u003eEdits: 250\\u003cbr\\u003ePages: 63\",\"lib\\u003cbr\\u003eURL: https:\\u002f\\u002flibtool.wikibase.cloud\\u003cbr\\u003eHost: Wikibase Cloud\\u003cbr\\u003eVersion: 1.39.7\\u003cbr\\u003eStart Date: 2024-04-22 00:00:00+00:00\\u003cbr\\u003eActive Users: 0\\u003cbr\\u003eUsers: 2\\u003cbr\\u003eProperties: 60\\u003cbr\\u003eEdits: 88\\u003cbr\\u003ePages: 61\",\"works.bibframe.wiki\\u003cbr\\u003eURL: https:\\u002f\\u002fworks.bibframe.wiki\\u003cbr\\u003eHost: Wikibase Cloud\\u003cbr\\u003eVersion: 1.39.7\\u003cbr\\u003eStart Date: 2021-12-29 00:00:00+00:00\\u003cbr\\u003eActive Users: 0\\u003cbr\\u003eUsers: 3\\u003cbr\\u003eProperties: 18\\u003cbr\\u003eEdits: 212\\u003cbr\\u003ePages: 60\",\"Lerner-Michard\\u003cbr\\u003eURL: https:\\u002f\\u002flerner-michard.wikibase.cloud\\u003cbr\\u003eHost: Wikibase Cloud\\u003cbr\\u003eVersion: 1.39.7\\u003cbr\\u003eStart Date: 2023-12-26 00:00:00+00:00\\u003cbr\\u003eActive Users: 0\\u003cbr\\u003eUsers: 2\\u003cbr\\u003eProperties: 6\\u003cbr\\u003eEdits: 151\\u003cbr\\u003ePages: 59\",\"Maptest\\u003cbr\\u003eURL: https:\\u002f\\u002fmaptest.wikibase.cloud\\u003cbr\\u003eHost: Wikibase Cloud\\u003cbr\\u003eVersion: 1.39.7\\u003cbr\\u003eStart Date: 2022-12-21 00:00:00+00:00\\u003cbr\\u003eActive Users: 0\\u003cbr\\u003eUsers: 3\\u003cbr\\u003eProperties: 28\\u003cbr\\u003eEdits: 125\\u003cbr\\u003ePages: 58\",\"Burocracia Acad\\u00eamica\\u003cbr\\u003eURL: https:\\u002f\\u002fburocracia.wikibase.cloud\\u003cbr\\u003eHost: Wikibase Cloud\\u003cbr\\u003eVersion: 1.39.7\\u003cbr\\u003eStart Date: 2023-02-09 00:00:00+00:00\\u003cbr\\u003eActive Users: 0\\u003cbr\\u003eUsers: 6\\u003cbr\\u003eProperties: 23\\u003cbr\\u003eEdits: 184\\u003cbr\\u003ePages: 62\",\"LD4 Wikibase Working Hour sandbox\\u003cbr\\u003eURL: https:\\u002f\\u002fld4-wbwh-sandbox.wikibase.cloud\\u003cbr\\u003eHost: Wikibase Cloud\\u003cbr\\u003eVersion: 1.39.7\\u003cbr\\u003eStart Date: 2023-04-17 00:00:00+00:00\\u003cbr\\u003eActive Users: 0\\u003cbr\\u003eUsers: 2\\u003cbr\\u003eProperties: 39\\u003cbr\\u003eEdits: 325\\u003cbr\\u003ePages: 54\",\"N4O Provenance\\u003cbr\\u003eURL: https:\\u002f\\u002fn4o-prov.wikibase.cloud\\u003cbr\\u003eHost: Wikibase Cloud\\u003cbr\\u003eVersion: 1.39.7\\u003cbr\\u003eStart Date: 2023-11-10 00:00:00+00:00\\u003cbr\\u003eActive Users: 1\\u003cbr\\u003eUsers: 3\\u003cbr\\u003eProperties: 25\\u003cbr\\u003eEdits: 200\\u003cbr\\u003ePages: 52\",\"Qvtorw Onwup\\u003cbr\\u003eURL: https:\\u002f\\u002fqvtorwonwup.wikibase.cloud\\u003cbr\\u003eHost: Wikibase Cloud\\u003cbr\\u003eVersion: 1.39.7\\u003cbr\\u003eStart Date: 2024-06-20 00:00:00+00:00\\u003cbr\\u003eActive Users: 0\\u003cbr\\u003eUsers: 2\\u003cbr\\u003eProperties: 44\\u003cbr\\u003eEdits: 84\\u003cbr\\u003ePages: 50\",\"nkcr-sandbox\\u003cbr\\u003eURL: https:\\u002f\\u002fnkcr-sandbox.wikibase.cloud\\u003cbr\\u003eHost: Wikibase Cloud\\u003cbr\\u003eVersion: 1.39.7\\u003cbr\\u003eStart Date: 2024-04-03 00:00:00+00:00\\u003cbr\\u003eActive Users: 2\\u003cbr\\u003eUsers: 13\\u003cbr\\u003eProperties: 18\\u003cbr\\u003eEdits: 131\\u003cbr\\u003ePages: 52\",\"Paikkatietopalvelu\\u003cbr\\u003eURL: https:\\u002f\\u002fpaikkatietopalvelu.wikibase.cloud\\u003cbr\\u003eHost: Wikibase Cloud\\u003cbr\\u003eVersion: 1.39.7\\u003cbr\\u003eStart Date: 2021-03-05 00:00:00+00:00\\u003cbr\\u003eActive Users: 0\\u003cbr\\u003eUsers: 3\\u003cbr\\u003eProperties: 22\\u003cbr\\u003eEdits: 199\\u003cbr\\u003ePages: 46\",\"portobarroco\\u003cbr\\u003eURL: https:\\u002f\\u002fportobarroco.wikibase.cloud\\u003cbr\\u003eHost: Wikibase Cloud\\u003cbr\\u003eVersion: 1.39.7\\u003cbr\\u003eStart Date: 2024-05-14 00:00:00+00:00\\u003cbr\\u003eActive Users: 0\\u003cbr\\u003eUsers: 2\\u003cbr\\u003eProperties: 39\\u003cbr\\u003eEdits: 56\\u003cbr\\u003ePages: 46\",\"Nosakhare Okuons\\u003cbr\\u003eURL: https:\\u002f\\u002fnosakhare-okuons.wikibase.cloud\\u003cbr\\u003eHost: Wikibase Cloud\\u003cbr\\u003eVersion: 1.39.7\\u003cbr\\u003eStart Date: 2023-07-13 00:00:00+00:00\\u003cbr\\u003eActive Users: 0\\u003cbr\\u003eUsers: 2\\u003cbr\\u003eProperties: 23\\u003cbr\\u003eEdits: 62\\u003cbr\\u003ePages: 45\",\"Paikka\\u003cbr\\u003eURL: https:\\u002f\\u002fpaikka.wikibase.cloud\\u003cbr\\u003eHost: Wikibase Cloud\\u003cbr\\u003eVersion: 1.39.7\\u003cbr\\u003eStart Date: 2020-01-21 00:00:00+00:00\\u003cbr\\u003eActive Users: 0\\u003cbr\\u003eUsers: 6\\u003cbr\\u003eProperties: 20\\u003cbr\\u003eEdits: 147\\u003cbr\\u003ePages: 43\",\"AFL\\u003cbr\\u003eURL: https:\\u002f\\u002fafl-cidoc.wikibase.cloud\\u003cbr\\u003eHost: Wikibase Cloud\\u003cbr\\u003eVersion: 1.39.7\\u003cbr\\u003eStart Date: 2020-10-19 00:00:00+00:00\\u003cbr\\u003eActive Users: 0\\u003cbr\\u003eUsers: 2\\u003cbr\\u003eProperties: 13\\u003cbr\\u003eEdits: 125\\u003cbr\\u003ePages: 41\",\"wikiebase_instance\\u003cbr\\u003eURL: https:\\u002f\\u002fwikibase-instance.wikibase.cloud\\u003cbr\\u003eHost: Wikibase Cloud\\u003cbr\\u003eVersion: 1.39.7\\u003cbr\\u003eStart Date: 2024-09-02 00:00:00+00:00\\u003cbr\\u003eActive Users: 0\\u003cbr\\u003eUsers: 2\\u003cbr\\u003eProperties: 16\\u003cbr\\u003eEdits: 64\\u003cbr\\u003ePages: 41\",\"Magnus Entities\\u003cbr\\u003eURL: https:\\u002f\\u002fmagnus.wikibase.cloud\\u003cbr\\u003eHost: Wikibase Cloud\\u003cbr\\u003eVersion: 1.39.7\\u003cbr\\u003eStart Date: 2023-03-14 00:00:00+00:00\\u003cbr\\u003eActive Users: 0\\u003cbr\\u003eUsers: 2\\u003cbr\\u003eProperties: 8\\u003cbr\\u003eEdits: 58\\u003cbr\\u003ePages: 40\",\"quxfarm\\u003cbr\\u003eURL: https:\\u002f\\u002fquxfarm.wikibase.cloud\\u003cbr\\u003eHost: Wikibase Cloud\\u003cbr\\u003eVersion: 1.39.7\\u003cbr\\u003eStart Date: 2020-06-03 00:00:00+00:00\\u003cbr\\u003eActive Users: 0\\u003cbr\\u003eUsers: 2\\u003cbr\\u003eProperties: 3\\u003cbr\\u003eEdits: 141\\u003cbr\\u003ePages: 39\",\"Wikimedia France Open Data\\u003cbr\\u003eURL: https:\\u002f\\u002fwm-fr.wikibase.cloud\\u003cbr\\u003eHost: Wikibase Cloud\\u003cbr\\u003eVersion: 1.39.7\\u003cbr\\u003eStart Date: 2024-10-06 00:00:00+00:00\\u003cbr\\u003eActive Users: 2\\u003cbr\\u003eUsers: 2\\u003cbr\\u003eProperties: 15\\u003cbr\\u003eEdits: 118\\u003cbr\\u003ePages: 40\",\"Wikidating\\u003cbr\\u003eURL: https:\\u002f\\u002fwikidating.wikibase.cloud\\u003cbr\\u003eHost: Wikibase Cloud\\u003cbr\\u003eVersion: 1.39.7\\u003cbr\\u003eStart Date: 2024-05-01 00:00:00+00:00\\u003cbr\\u003eActive Users: 0\\u003cbr\\u003eUsers: 11\\u003cbr\\u003eProperties: 20\\u003cbr\\u003eEdits: 52\\u003cbr\\u003ePages: 40\",\"Aikibooks\\u003cbr\\u003eURL: https:\\u002f\\u002faikibooks.wikibase.cloud\\u003cbr\\u003eHost: Wikibase Cloud\\u003cbr\\u003eVersion: 1.39.7\\u003cbr\\u003eStart Date: 2023-07-12 00:00:00+00:00\\u003cbr\\u003eActive Users: 0\\u003cbr\\u003eUsers: 2\\u003cbr\\u003eProperties: 12\\u003cbr\\u003eEdits: 73\\u003cbr\\u003ePages: 39\",\"Wesley Collections\\u003cbr\\u003eURL: https:\\u002f\\u002fwesley-collections.wikibase.cloud\\u003cbr\\u003eHost: Wikibase Cloud\\u003cbr\\u003eVersion: 1.39.7\\u003cbr\\u003eStart Date: 2023-07-14 00:00:00+00:00\\u003cbr\\u003eActive Users: 0\\u003cbr\\u003eUsers: 2\\u003cbr\\u003eProperties: 11\\u003cbr\\u003eEdits: 81\\u003cbr\\u003ePages: 38\",\"Digitalisierungsforschung\\u003cbr\\u003eURL: https:\\u002f\\u002fdigitalisierungsforschung.wikibase.cloud\\u003cbr\\u003eHost: Wikibase Cloud\\u003cbr\\u003eVersion: 1.39.7\\u003cbr\\u003eStart Date: 2024-09-09 00:00:00+00:00\\u003cbr\\u003eActive Users: 1\\u003cbr\\u003eUsers: 2\\u003cbr\\u003eProperties: 16\\u003cbr\\u003eEdits: 85\\u003cbr\\u003ePages: 39\",\"hercules\\u003cbr\\u003eURL: https:\\u002f\\u002fhercules.wikibase.cloud\\u003cbr\\u003eHost: Wikibase Cloud\\u003cbr\\u003eVersion: 1.39.7\\u003cbr\\u003eStart Date: 2020-01-17 00:00:00+00:00\\u003cbr\\u003eActive Users: 0\\u003cbr\\u003eUsers: 4\\u003cbr\\u003eProperties: 12\\u003cbr\\u003eEdits: 172\\u003cbr\\u003ePages: 37\",\"Books R Databases\\u003cbr\\u003eURL: https:\\u002f\\u002fbooksrdatabases.wikibase.cloud\\u003cbr\\u003eHost: Wikibase Cloud\\u003cbr\\u003eVersion: 1.39.7\\u003cbr\\u003eStart Date: 2024-06-14 00:00:00+00:00\\u003cbr\\u003eActive Users: 1\\u003cbr\\u003eUsers: 2\\u003cbr\\u003eProperties: 37\\u003cbr\\u003eEdits: 211\\u003cbr\\u003ePages: 55\",\"MCAT@HKBU\\u003cbr\\u003eURL: https:\\u002f\\u002fhkbu-mcat.wikibase.cloud\\u003cbr\\u003eHost: Wikibase Cloud\\u003cbr\\u003eVersion: 1.39.7\\u003cbr\\u003eStart Date: 2024-03-22 00:00:00+00:00\\u003cbr\\u003eActive Users: 0\\u003cbr\\u003eUsers: 3\\u003cbr\\u003eProperties: 9\\u003cbr\\u003eEdits: 252\\u003cbr\\u003ePages: 36\",\"Kaplan\\u003cbr\\u003eURL: https:\\u002f\\u002fkaplancollection.wikibase.cloud\\u003cbr\\u003eHost: Wikibase Cloud\\u003cbr\\u003eVersion: 1.39.7\\u003cbr\\u003eStart Date: 2024-09-24 00:00:00+00:00\\u003cbr\\u003eActive Users: 1\\u003cbr\\u003eUsers: 2\\u003cbr\\u003eProperties: 14\\u003cbr\\u003eEdits: 40116\\u003cbr\\u003ePages: 16105\",\"Meteorology\\u003cbr\\u003eURL: https:\\u002f\\u002fmeteorology.wikibase.cloud\\u003cbr\\u003eHost: Wikibase Cloud\\u003cbr\\u003eVersion: 1.39.7\\u003cbr\\u003eStart Date: 2023-11-01 00:00:00+00:00\\u003cbr\\u003eActive Users: 0\\u003cbr\\u003eUsers: 3\\u003cbr\\u003eProperties: 12\\u003cbr\\u003eEdits: 77\\u003cbr\\u003ePages: 35\",\"Research Literature for Wikibase\\u003cbr\\u003eURL: https:\\u002f\\u002fresearchwb.wikibase.cloud\\u003cbr\\u003eHost: Wikibase Cloud\\u003cbr\\u003eVersion: 1.39.7\\u003cbr\\u003eStart Date: 2023-02-25 00:00:00+00:00\\u003cbr\\u003eActive Users: 0\\u003cbr\\u003eUsers: 6\\u003cbr\\u003eProperties: 11\\u003cbr\\u003eEdits: 166\\u003cbr\\u003ePages: 35\",\"LAC test\\u003cbr\\u003eURL: https:\\u002f\\u002flac-test.wikibase.cloud\\u003cbr\\u003eHost: Wikibase Cloud\\u003cbr\\u003eVersion: 1.39.7\\u003cbr\\u003eStart Date: 2023-08-24 00:00:00+00:00\\u003cbr\\u003eActive Users: 0\\u003cbr\\u003eUsers: 2\\u003cbr\\u003eProperties: 15\\u003cbr\\u003eEdits: 69\\u003cbr\\u003ePages: 35\",\"courli\\u003cbr\\u003eURL: https:\\u002f\\u002fcourli.wikibase.cloud\\u003cbr\\u003eHost: Wikibase Cloud\\u003cbr\\u003eVersion: 1.39.7\\u003cbr\\u003eStart Date: 2024-03-11 00:00:00+00:00\\u003cbr\\u003eActive Users: 0\\u003cbr\\u003eUsers: 3\\u003cbr\\u003eProperties: 17\\u003cbr\\u003eEdits: 91\\u003cbr\\u003ePages: 35\",\"tmp-18769876427210\\u003cbr\\u003eURL: https:\\u002f\\u002ftmp-18769876427210.wikibase.cloud\\u003cbr\\u003eHost: Wikibase Cloud\\u003cbr\\u003eVersion: 1.39.7\\u003cbr\\u003eStart Date: 2024-04-18 00:00:00+00:00\\u003cbr\\u003eActive Users: 0\\u003cbr\\u003eUsers: 2\\u003cbr\\u003eProperties: 34\\u003cbr\\u003eEdits: 35\\u003cbr\\u003ePages: 35\",\"Almeda Test Wikibase\\u003cbr\\u003eURL: https:\\u002f\\u002falmedatestwikibase.wikibase.cloud\\u003cbr\\u003eHost: Wikibase Cloud\\u003cbr\\u003eVersion: 1.39.7\\u003cbr\\u003eStart Date: 2023-10-09 00:00:00+00:00\\u003cbr\\u003eActive Users: 0\\u003cbr\\u003eUsers: 4\\u003cbr\\u003eProperties: 16\\u003cbr\\u003eEdits: 77\\u003cbr\\u003ePages: 34\",\"MLBase\\u003cbr\\u003eURL: https:\\u002f\\u002fml-base-test.wikibase.cloud\\u003cbr\\u003eHost: Wikibase Cloud\\u003cbr\\u003eVersion: 1.39.7\\u003cbr\\u003eStart Date: 2024-10-04 00:00:00+00:00\\u003cbr\\u003eActive Users: 2\\u003cbr\\u003eUsers: 2\\u003cbr\\u003eProperties: 14\\u003cbr\\u003eEdits: 83\\u003cbr\\u003ePages: 34\",\"Languages\\u003cbr\\u003eURL: https:\\u002f\\u002flanguages.wikibase.cloud\\u003cbr\\u003eHost: Wikibase Cloud\\u003cbr\\u003eVersion: 1.39.7\\u003cbr\\u003eStart Date: 2019-11-23 00:00:00+00:00\\u003cbr\\u003eActive Users: 0\\u003cbr\\u003eUsers: 2\\u003cbr\\u003eProperties: 25\\u003cbr\\u003eEdits: 55\\u003cbr\\u003ePages: 33\",\"Dictionary of Mormon Biography\\u003cbr\\u003eURL: https:\\u002f\\u002fmormonbiography.org\\u003cbr\\u003eHost: Wikibase Cloud\\u003cbr\\u003eVersion: 1.39.7\\u003cbr\\u003eStart Date: 2022-09-05 00:00:00+00:00\\u003cbr\\u003eActive Users: 0\\u003cbr\\u003eUsers: 34\\u003cbr\\u003eProperties: 13\\u003cbr\\u003eEdits: 82\\u003cbr\\u003ePages: 33\",\"LamBase\\u003cbr\\u003eURL: https:\\u002f\\u002flambase.wikibase.cloud\\u003cbr\\u003eHost: Wikibase Cloud\\u003cbr\\u003eVersion: 1.39.7\\u003cbr\\u003eStart Date: 2023-11-18 00:00:00+00:00\\u003cbr\\u003eActive Users: 0\\u003cbr\\u003eUsers: 2\\u003cbr\\u003eProperties: 5\\u003cbr\\u003eEdits: 40\\u003cbr\\u003ePages: 34\",\"FLMR Sandbox\\u003cbr\\u003eURL: https:\\u002f\\u002fflmr-db.wikibase.cloud\\u003cbr\\u003eHost: Wikibase Cloud\\u003cbr\\u003eVersion: 1.39.7\\u003cbr\\u003eStart Date: 2023-11-27 00:00:00+00:00\\u003cbr\\u003eActive Users: 0\\u003cbr\\u003eUsers: 3\\u003cbr\\u003eProperties: 13\\u003cbr\\u003eEdits: 104\\u003cbr\\u003ePages: 33\",\"Example Wikibase\\u003cbr\\u003eURL: https:\\u002f\\u002fexamplewikiuo283069.wikibase.cloud\\u003cbr\\u003eHost: Wikibase Cloud\\u003cbr\\u003eVersion: 1.39.7\\u003cbr\\u003eStart Date: 2024-03-05 00:00:00+00:00\\u003cbr\\u003eActive Users: 0\\u003cbr\\u003eUsers: 2\\u003cbr\\u003eProperties: 10\\u003cbr\\u003eEdits: 134\\u003cbr\\u003ePages: 32\",\"Photo-data\\u003cbr\\u003eURL: https:\\u002f\\u002fphoto-data.wikibase.cloud\\u003cbr\\u003eHost: Wikibase Cloud\\u003cbr\\u003eVersion: 1.39.7\\u003cbr\\u003eStart Date: 2020-10-04 00:00:00+00:00\\u003cbr\\u003eActive Users: 0\\u003cbr\\u003eUsers: 2\\u003cbr\\u003eProperties: 11\\u003cbr\\u003eEdits: 201\\u003cbr\\u003ePages: 31\",\"Science Fiction History\\u003cbr\\u003eURL: https:\\u002f\\u002fsciencefictionhistory.wikibase.cloud\\u003cbr\\u003eHost: Wikibase Cloud\\u003cbr\\u003eVersion: 1.39.7\\u003cbr\\u003eStart Date: 2023-03-20 00:00:00+00:00\\u003cbr\\u003eActive Users: 0\\u003cbr\\u003eUsers: 2\\u003cbr\\u003eProperties: 21\\u003cbr\\u003eEdits: 76\\u003cbr\\u003ePages: 31\",\"Validator Testing Wikidata\\u003cbr\\u003eURL: https:\\u002f\\u002fvalidatortest.wikibase.cloud\\u003cbr\\u003eHost: Wikibase Cloud\\u003cbr\\u003eVersion: 1.39.7\\u003cbr\\u003eStart Date: 2024-03-18 00:00:00+00:00\\u003cbr\\u003eActive Users: 1\\u003cbr\\u003eUsers: 3\\u003cbr\\u003eProperties: 9\\u003cbr\\u003eEdits: 247\\u003cbr\\u003ePages: 31\",\"Verb Conjugation Data\\u003cbr\\u003eURL: https:\\u002f\\u002fverb-conjugation-data.wikibase.cloud\\u003cbr\\u003eHost: Wikibase Cloud\\u003cbr\\u003eVersion: 1.39.7\\u003cbr\\u003eStart Date: 2024-08-27 00:00:00+00:00\\u003cbr\\u003eActive Users: 0\\u003cbr\\u003eUsers: 2\\u003cbr\\u003eProperties: 12\\u003cbr\\u003eEdits: 36\\u003cbr\\u003ePages: 31\",\"Vicky Library\\u003cbr\\u003eURL: https:\\u002f\\u002fvickylibrary.wikibase.cloud\\u003cbr\\u003eHost: Wikibase Cloud\\u003cbr\\u003eVersion: 1.39.7\\u003cbr\\u003eStart Date: 2023-09-13 00:00:00+00:00\\u003cbr\\u003eActive Users: 0\\u003cbr\\u003eUsers: 2\\u003cbr\\u003eProperties: 10\\u003cbr\\u003eEdits: 68\\u003cbr\\u003ePages: 30\",\"The Art of (Our) Storytelling\\u003cbr\\u003eURL: https:\\u002f\\u002fblack-life-writing-bib.wikibase.cloud\\u003cbr\\u003eHost: Wikibase Cloud\\u003cbr\\u003eVersion: 1.39.7\\u003cbr\\u003eStart Date: 2023-10-12 00:00:00+00:00\\u003cbr\\u003eActive Users: 0\\u003cbr\\u003eUsers: 2\\u003cbr\\u003eProperties: 5\\u003cbr\\u003eEdits: 44\\u003cbr\\u003ePages: 30\",\"miwprofe\\u003cbr\\u003eURL: https:\\u002f\\u002fmiwprofe.wikibase.cloud\\u003cbr\\u003eHost: Wikibase Cloud\\u003cbr\\u003eVersion: 1.39.7\\u003cbr\\u003eStart Date: 2024-05-14 00:00:00+00:00\\u003cbr\\u003eActive Users: 0\\u003cbr\\u003eUsers: 18\\u003cbr\\u003eProperties: 6\\u003cbr\\u003eEdits: 113\\u003cbr\\u003ePages: 30\",\"Womenwriters\\u003cbr\\u003eURL: https:\\u002f\\u002fwomenwriters.wikibase.cloud\\u003cbr\\u003eHost: Wikibase Cloud\\u003cbr\\u003eVersion: 1.39.7\\u003cbr\\u003eStart Date: 2019-12-12 00:00:00+00:00\\u003cbr\\u003eActive Users: 0\\u003cbr\\u003eUsers: 2\\u003cbr\\u003eProperties: 12\\u003cbr\\u003eEdits: 52\\u003cbr\\u003ePages: 29\",\"Doris McCarthy DB\\u003cbr\\u003eURL: https:\\u002f\\u002fdorismccarthy.wikibase.cloud\\u003cbr\\u003eHost: Wikibase Cloud\\u003cbr\\u003eVersion: 1.39.7\\u003cbr\\u003eStart Date: 2023-11-14 00:00:00+00:00\\u003cbr\\u003eActive Users: 0\\u003cbr\\u003eUsers: 2\\u003cbr\\u003eProperties: 12\\u003cbr\\u003eEdits: 81\\u003cbr\\u003ePages: 29\",\"Context Aware Exploratory Search\\u003cbr\\u003eURL: https:\\u002f\\u002fckg-exploratory-search.wikibase.cloud\\u003cbr\\u003eHost: Wikibase Cloud\\u003cbr\\u003eVersion: 1.39.7\\u003cbr\\u003eStart Date: 2022-09-13 00:00:00+00:00\\u003cbr\\u003eActive Users: 0\\u003cbr\\u003eUsers: 2\\u003cbr\\u003eProperties: 11\\u003cbr\\u003eEdits: 68\\u003cbr\\u003ePages: 27\",\"cursoslabra\\u003cbr\\u003eURL: https:\\u002f\\u002fcursoslabra.wikibase.cloud\\u003cbr\\u003eHost: Wikibase Cloud\\u003cbr\\u003eVersion: 1.39.7\\u003cbr\\u003eStart Date: 2020-01-07 00:00:00+00:00\\u003cbr\\u003eActive Users: 0\\u003cbr\\u003eUsers: 4\\u003cbr\\u003eProperties: 9\\u003cbr\\u003eEdits: 44\\u003cbr\\u003ePages: 26\",\"Wikimedia NYC Outreach\\u003cbr\\u003eURL: https:\\u002f\\u002fwmnyc.wikibase.cloud\\u003cbr\\u003eHost: Wikibase Cloud\\u003cbr\\u003eVersion: 1.39.7\\u003cbr\\u003eStart Date: 2019-10-27 00:00:00+00:00\\u003cbr\\u003eActive Users: 0\\u003cbr\\u003eUsers: 2\\u003cbr\\u003eProperties: 6\\u003cbr\\u003eEdits: 82\\u003cbr\\u003ePages: 26\",\"DBGI Wikibase Sandbox\\u003cbr\\u003eURL: https:\\u002f\\u002fdbgi-sandbox.wikibase.cloud\\u003cbr\\u003eHost: Wikibase Cloud\\u003cbr\\u003eVersion: 1.39.7\\u003cbr\\u003eStart Date: 2023-03-05 00:00:00+00:00\\u003cbr\\u003eActive Users: 0\\u003cbr\\u003eUsers: 11\\u003cbr\\u003eProperties: 13\\u003cbr\\u003eEdits: 56\\u003cbr\\u003ePages: 26\",\"Florencia de todo los Santos\\u003cbr\\u003eURL: https:\\u002f\\u002fflorencia.wikibase.cloud\\u003cbr\\u003eHost: Wikibase Cloud\\u003cbr\\u003eVersion: 1.39.7\\u003cbr\\u003eStart Date: 2022-05-20 00:00:00+00:00\\u003cbr\\u003eActive Users: 0\\u003cbr\\u003eUsers: 8\\u003cbr\\u003eProperties: 5\\u003cbr\\u003eEdits: 62\\u003cbr\\u003ePages: 25\",\"Sweeties\\u003cbr\\u003eURL: https:\\u002f\\u002fsweeties.wikibase.cloud\\u003cbr\\u003eHost: Wikibase Cloud\\u003cbr\\u003eVersion: 1.39.7\\u003cbr\\u003eStart Date: 2023-05-10 00:00:00+00:00\\u003cbr\\u003eActive Users: 0\\u003cbr\\u003eUsers: 4\\u003cbr\\u003eProperties: 5\\u003cbr\\u003eEdits: 138\\u003cbr\\u003ePages: 25\",\"Awesome Wiki\\u003cbr\\u003eURL: https:\\u002f\\u002fawesome.wikibase.cloud\\u003cbr\\u003eHost: Wikibase Cloud\\u003cbr\\u003eVersion: 1.39.7\\u003cbr\\u003eStart Date: 2024-08-30 00:00:00+00:00\\u003cbr\\u003eActive Users: 0\\u003cbr\\u003eUsers: 2\\u003cbr\\u003eProperties: 8\\u003cbr\\u003eEdits: 47\\u003cbr\\u003ePages: 25\",\"glacierwatch\\u003cbr\\u003eURL: https:\\u002f\\u002fglacierwatch.wikibase.cloud\\u003cbr\\u003eHost: Wikibase Cloud\\u003cbr\\u003eVersion: 1.39.7\\u003cbr\\u003eStart Date: 2022-09-23 00:00:00+00:00\\u003cbr\\u003eActive Users: 0\\u003cbr\\u003eUsers: 2\\u003cbr\\u003eProperties: 6\\u003cbr\\u003eEdits: 56\\u003cbr\\u003ePages: 24\",\"gilliane\\u003cbr\\u003eURL: https:\\u002f\\u002fgilliane.wikibase.cloud\\u003cbr\\u003eHost: Wikibase Cloud\\u003cbr\\u003eVersion: 1.39.7\\u003cbr\\u003eStart Date: 2019-12-03 00:00:00+00:00\\u003cbr\\u003eActive Users: 0\\u003cbr\\u003eUsers: 3\\u003cbr\\u003eProperties: 14\\u003cbr\\u003eEdits: 45\\u003cbr\\u003ePages: 23\",\"Myexamplewikibase\\u003cbr\\u003eURL: https:\\u002f\\u002fxxxxxxxxxxxxxxxxxx.wikibase.cloud\\u003cbr\\u003eHost: Wikibase Cloud\\u003cbr\\u003eVersion: 1.39.7\\u003cbr\\u003eStart Date: 2023-07-11 00:00:00+00:00\\u003cbr\\u003eActive Users: 0\\u003cbr\\u003eUsers: 3\\u003cbr\\u003eProperties: 5\\u003cbr\\u003eEdits: 39\\u003cbr\\u003ePages: 23\",\"sdiuhfiusdhfiusdgfs\\u003cbr\\u003eURL: https:\\u002f\\u002fjdfjkashdjashdkja.wikibase.cloud\\u003cbr\\u003eHost: Wikibase Cloud\\u003cbr\\u003eVersion: 1.39.7\\u003cbr\\u003eStart Date: 2022-02-01 00:00:00+00:00\\u003cbr\\u003eActive Users: 0\\u003cbr\\u003eUsers: 5\\u003cbr\\u003eProperties: 3\\u003cbr\\u003eEdits: 32\\u003cbr\\u003ePages: 22\",\"FacLab\\u003cbr\\u003eURL: https:\\u002f\\u002ffaclab.wikibase.cloud\\u003cbr\\u003eHost: Wikibase Cloud\\u003cbr\\u003eVersion: 1.39.7\\u003cbr\\u003eStart Date: 2019-11-01 00:00:00+00:00\\u003cbr\\u003eActive Users: 0\\u003cbr\\u003eUsers: 3\\u003cbr\\u003eProperties: 4\\u003cbr\\u003eEdits: 44\\u003cbr\\u003ePages: 22\",\"You have to pay!\\u003cbr\\u003eURL: https:\\u002f\\u002fdaaag.wikibase.cloud\\u003cbr\\u003eHost: Wikibase Cloud\\u003cbr\\u003eVersion: 1.39.7\\u003cbr\\u003eStart Date: 2024-07-26 00:00:00+00:00\\u003cbr\\u003eActive Users: 0\\u003cbr\\u003eUsers: 3\\u003cbr\\u003eProperties: 11\\u003cbr\\u003eEdits: 38\\u003cbr\\u003ePages: 23\",\"DIS18-Projektarbeit-1\\u003cbr\\u003eURL: https:\\u002f\\u002ftranscriptional-start-sites.wikibase.cloud\\u003cbr\\u003eHost: Wikibase Cloud\\u003cbr\\u003eVersion: 1.39.7\\u003cbr\\u003eStart Date: 2024-06-14 00:00:00+00:00\\u003cbr\\u003eActive Users: 0\\u003cbr\\u003eUsers: 3\\u003cbr\\u003eProperties: 4\\u003cbr\\u003eEdits: 26\\u003cbr\\u003ePages: 22\",\"Letterbox\\u003cbr\\u003eURL: https:\\u002f\\u002fletterbox.wikibase.cloud\\u003cbr\\u003eHost: Wikibase Cloud\\u003cbr\\u003eVersion: 1.39.7\\u003cbr\\u003eStart Date: 2024-05-17 00:00:00+00:00\\u003cbr\\u003eActive Users: 0\\u003cbr\\u003eUsers: 2\\u003cbr\\u003eProperties: 6\\u003cbr\\u003eEdits: 43\\u003cbr\\u003ePages: 22\",\"Test Geovistory\\u003cbr\\u003eURL: https:\\u002f\\u002ftest-geovistory.wikibase.cloud\\u003cbr\\u003eHost: Wikibase Cloud\\u003cbr\\u003eVersion: 1.39.7\\u003cbr\\u003eStart Date: 2023-07-23 00:00:00+00:00\\u003cbr\\u003eActive Users: 0\\u003cbr\\u003eUsers: 2\\u003cbr\\u003eProperties: 8\\u003cbr\\u003eEdits: 32\\u003cbr\\u003ePages: 21\",\"byspolylibrary\\u003cbr\\u003eURL: https:\\u002f\\u002fwaltspersonal.wikibase.cloud\\u003cbr\\u003eHost: Wikibase Cloud\\u003cbr\\u003eVersion: 1.39.7\\u003cbr\\u003eStart Date: 2023-09-13 00:00:00+00:00\\u003cbr\\u003eActive Users: 0\\u003cbr\\u003eUsers: 2\\u003cbr\\u003eProperties: 8\\u003cbr\\u003eEdits: 41\\u003cbr\\u003ePages: 21\",\"librarianjerywikibase\\u003cbr\\u003eURL: https:\\u002f\\u002finteractivemodule.wikibase.cloud\\u003cbr\\u003eHost: Wikibase Cloud\\u003cbr\\u003eVersion: 1.39.7\\u003cbr\\u003eStart Date: 2023-07-14 00:00:00+00:00\\u003cbr\\u003eActive Users: 0\\u003cbr\\u003eUsers: 2\\u003cbr\\u003eProperties: 7\\u003cbr\\u003eEdits: 56\\u003cbr\\u003ePages: 21\",\"Peace Apparel Collections\\u003cbr\\u003eURL: https:\\u002f\\u002fpeaceapparelcollection.wikibase.cloud\\u003cbr\\u003eHost: Wikibase Cloud\\u003cbr\\u003eVersion: 1.39.7\\u003cbr\\u003eStart Date: 2023-09-13 00:00:00+00:00\\u003cbr\\u003eActive Users: 0\\u003cbr\\u003eUsers: 2\\u003cbr\\u003eProperties: 5\\u003cbr\\u003eEdits: 35\\u003cbr\\u003ePages: 20\",\"Talmudic\\u003cbr\\u003eURL: https:\\u002f\\u002ftalmudic-trial.wikibase.cloud\\u003cbr\\u003eHost: Wikibase Cloud\\u003cbr\\u003eVersion: 1.39.7\\u003cbr\\u003eStart Date: 2024-08-21 00:00:00+00:00\\u003cbr\\u003eActive Users: 0\\u003cbr\\u003eUsers: 2\\u003cbr\\u003eProperties: 8\\u003cbr\\u003eEdits: 27\\u003cbr\\u003ePages: 21\",\"Felipe Ribeiro\\u003cbr\\u003eURL: https:\\u002f\\u002foperarioribeiro.wikibase.cloud\\u003cbr\\u003eHost: Wikibase Cloud\\u003cbr\\u003eVersion: 1.39.7\\u003cbr\\u003eStart Date: 2024-08-27 00:00:00+00:00\\u003cbr\\u003eActive Users: 0\\u003cbr\\u003eUsers: 2\\u003cbr\\u003eProperties: 7\\u003cbr\\u003eEdits: 45\\u003cbr\\u003ePages: 21\",\"Samson Adedoyin Library\\u003cbr\\u003eURL: https:\\u002f\\u002fsamsonadedoyinlibrary.wikibase.cloud\\u003cbr\\u003eHost: Wikibase Cloud\\u003cbr\\u003eVersion: 1.39.7\\u003cbr\\u003eStart Date: 2023-12-19 00:00:00+00:00\\u003cbr\\u003eActive Users: 0\\u003cbr\\u003eUsers: 2\\u003cbr\\u003eProperties: 8\\u003cbr\\u003eEdits: 27\\u003cbr\\u003ePages: 20\",\"Victorian Public Transport Database\\u003cbr\\u003eURL: https:\\u002f\\u002fpt.t4t.pet\\u003cbr\\u003eHost: Wikibase Cloud\\u003cbr\\u003eVersion: 1.39.7\\u003cbr\\u003eStart Date: 2024-05-26 00:00:00+00:00\\u003cbr\\u003eActive Users: 0\\u003cbr\\u003eUsers: 2\\u003cbr\\u003eProperties: 18\\u003cbr\\u003eEdits: 41\\u003cbr\\u003ePages: 20\",\"gndtest\\u003cbr\\u003eURL: https:\\u002f\\u002fgndtest.wikibase.cloud\\u003cbr\\u003eHost: Wikibase Cloud\\u003cbr\\u003eVersion: 1.39.7\\u003cbr\\u003eStart Date: 2021-03-23 00:00:00+00:00\\u003cbr\\u003eActive Users: 0\\u003cbr\\u003eUsers: 2\\u003cbr\\u003eProperties: 12\\u003cbr\\u003eEdits: 40\\u003cbr\\u003ePages: 19\",\"Agents of Enslavement\\u003cbr\\u003eURL: https:\\u002f\\u002fagents-of-enslavement.wikibase.cloud\\u003cbr\\u003eHost: Wikibase Cloud\\u003cbr\\u003eVersion: 1.39.7\\u003cbr\\u003eStart Date: 2021-08-04 00:00:00+00:00\\u003cbr\\u003eActive Users: 0\\u003cbr\\u003eUsers: 4\\u003cbr\\u003eProperties: 4\\u003cbr\\u003eEdits: 59\\u003cbr\\u003ePages: 19\",\"WookieePedia\\u003cbr\\u003eURL: https:\\u002f\\u002fwookieepedia.wikibase.cloud\\u003cbr\\u003eHost: Wikibase Cloud\\u003cbr\\u003eVersion: 1.39.7\\u003cbr\\u003eStart Date: 2024-03-27 00:00:00+00:00\\u003cbr\\u003eActive Users: 0\\u003cbr\\u003eUsers: 3\\u003cbr\\u003eProperties: 9\\u003cbr\\u003eEdits: 45\\u003cbr\\u003ePages: 20\",\"Elixir\\u2019s collections\\u003cbr\\u003eURL: https:\\u002f\\u002felixirslibrary.wikibase.cloud\\u003cbr\\u003eHost: Wikibase Cloud\\u003cbr\\u003eVersion: 1.39.7\\u003cbr\\u003eStart Date: 2023-09-12 00:00:00+00:00\\u003cbr\\u003eActive Users: 0\\u003cbr\\u003eUsers: 2\\u003cbr\\u003eProperties: 7\\u003cbr\\u003eEdits: 40\\u003cbr\\u003ePages: 19\",\"Microscopical Researches\\u003cbr\\u003eURL: https:\\u002f\\u002fschwann.wikibase.cloud\\u003cbr\\u003eHost: Wikibase Cloud\\u003cbr\\u003eVersion: 1.39.7\\u003cbr\\u003eStart Date: 2024-04-07 00:00:00+00:00\\u003cbr\\u003eActive Users: 0\\u003cbr\\u003eUsers: 2\\u003cbr\\u003eProperties: 6\\u003cbr\\u003eEdits: 89\\u003cbr\\u003ePages: 19\",\"ChaWiki\\u003cbr\\u003eURL: https:\\u002f\\u002fchawiki.wikibase.cloud\\u003cbr\\u003eHost: Wikibase Cloud\\u003cbr\\u003eVersion: 1.39.7\\u003cbr\\u003eStart Date: 2023-11-18 00:00:00+00:00\\u003cbr\\u003eActive Users: 0\\u003cbr\\u003eUsers: 2\\u003cbr\\u003eProperties: 8\\u003cbr\\u003eEdits: 89\\u003cbr\\u003ePages: 19\",\"anton5\\u003cbr\\u003eURL: https:\\u002f\\u002fanton5.wikibase.cloud\\u003cbr\\u003eHost: Wikibase Cloud\\u003cbr\\u003eVersion: 1.39.7\\u003cbr\\u003eStart Date: 2024-06-20 00:00:00+00:00\\u003cbr\\u003eActive Users: 0\\u003cbr\\u003eUsers: 2\\u003cbr\\u003eProperties: 12\\u003cbr\\u003eEdits: 40\\u003cbr\\u003ePages: 19\",\"Monacan\\u003cbr\\u003eURL: https:\\u002f\\u002fmonacan.wikibase.cloud\\u003cbr\\u003eHost: Wikibase Cloud\\u003cbr\\u003eVersion: 1.39.7\\u003cbr\\u003eStart Date: 2019-10-26 00:00:00+00:00\\u003cbr\\u003eActive Users: 0\\u003cbr\\u003eUsers: 5\\u003cbr\\u003eProperties: 2\\u003cbr\\u003eEdits: 67\\u003cbr\\u003ePages: 18\",\"Open Music Observatory\\u003cbr\\u003eURL: https:\\u002f\\u002fopenmusic.wikibase.cloud\\u003cbr\\u003eHost: Wikibase Cloud\\u003cbr\\u003eVersion: 1.39.7\\u003cbr\\u003eStart Date: 2024-05-25 00:00:00+00:00\\u003cbr\\u003eActive Users: 0\\u003cbr\\u003eUsers: 2\\u003cbr\\u003eProperties: 3\\u003cbr\\u003eEdits: 97\\u003cbr\\u003ePages: 18\",\"e-qvadrat\\u003cbr\\u003eURL: https:\\u002f\\u002fe-qvadrat.wikibase.cloud\\u003cbr\\u003eHost: Wikibase Cloud\\u003cbr\\u003eVersion: 1.39.7\\u003cbr\\u003eStart Date: 2024-02-20 00:00:00+00:00\\u003cbr\\u003eActive Users: 0\\u003cbr\\u003eUsers: 2\\u003cbr\\u003eProperties: 7\\u003cbr\\u003eEdits: 34\\u003cbr\\u003ePages: 18\",\"Weaver\\u003cbr\\u003eURL: https:\\u002f\\u002fweaver.wikibase.cloud\\u003cbr\\u003eHost: Wikibase Cloud\\u003cbr\\u003eVersion: 1.39.7\\u003cbr\\u003eStart Date: 2023-05-16 00:00:00+00:00\\u003cbr\\u003eActive Users: 0\\u003cbr\\u003eUsers: 2\\u003cbr\\u003eProperties: 11\\u003cbr\\u003eEdits: 37\\u003cbr\\u003ePages: 17\",\"Wikispeleology\\u003cbr\\u003eURL: https:\\u002f\\u002fwikispeleology.wikibase.cloud\\u003cbr\\u003eHost: Wikibase Cloud\\u003cbr\\u003eVersion: 1.39.7\\u003cbr\\u003eStart Date: 2021-05-04 00:00:00+00:00\\u003cbr\\u003eActive Users: 0\\u003cbr\\u003eUsers: 4\\u003cbr\\u003eProperties: 6\\u003cbr\\u003eEdits: 57\\u003cbr\\u003ePages: 17\",\"My Personal Library\\u003cbr\\u003eURL: https:\\u002f\\u002fmypersonallibray.wikibase.cloud\\u003cbr\\u003eHost: Wikibase Cloud\\u003cbr\\u003eVersion: 1.39.7\\u003cbr\\u003eStart Date: 2023-09-12 00:00:00+00:00\\u003cbr\\u003eActive Users: 0\\u003cbr\\u003eUsers: 2\\u003cbr\\u003eProperties: 7\\u003cbr\\u003eEdits: 19\\u003cbr\\u003ePages: 17\",\"Franca's collection\\u003cbr\\u003eURL: https:\\u002f\\u002ffranca.wikibase.cloud\\u003cbr\\u003eHost: Wikibase Cloud\\u003cbr\\u003eVersion: 1.39.7\\u003cbr\\u003eStart Date: 2023-09-12 00:00:00+00:00\\u003cbr\\u003eActive Users: 0\\u003cbr\\u003eUsers: 2\\u003cbr\\u003eProperties: 7\\u003cbr\\u003eEdits: 37\\u003cbr\\u003ePages: 17\",\"anton9\\u003cbr\\u003eURL: https:\\u002f\\u002fanton9.wikibase.cloud\\u003cbr\\u003eHost: Wikibase Cloud\\u003cbr\\u003eVersion: 1.39.7\\u003cbr\\u003eStart Date: 2024-08-20 00:00:00+00:00\\u003cbr\\u003eActive Users: 0\\u003cbr\\u003eUsers: 2\\u003cbr\\u003eProperties: 7\\u003cbr\\u003eEdits: 21\\u003cbr\\u003ePages: 17\",\"hist-arch-reg\\u003cbr\\u003eURL: https:\\u002f\\u002fhist-arch-reg.wikibase.cloud\\u003cbr\\u003eHost: Wikibase Cloud\\u003cbr\\u003eVersion: 1.39.7\\u003cbr\\u003eStart Date: 2024-05-03 00:00:00+00:00\\u003cbr\\u003eActive Users: 0\\u003cbr\\u003eUsers: 2\\u003cbr\\u003eProperties: 7\\u003cbr\\u003eEdits: 33\\u003cbr\\u003ePages: 17\",\"WikiPrompts\\u003cbr\\u003eURL: https:\\u002f\\u002fwikiprompts.wikibase.cloud\\u003cbr\\u003eHost: Wikibase Cloud\\u003cbr\\u003eVersion: 1.39.7\\u003cbr\\u003eStart Date: 2024-09-22 00:00:00+00:00\\u003cbr\\u003eActive Users: 1\\u003cbr\\u003eUsers: 3\\u003cbr\\u003eProperties: 7\\u003cbr\\u003eEdits: 32\\u003cbr\\u003ePages: 17\",\"Precision Oncology\\u003cbr\\u003eURL: https:\\u002f\\u002fgs-oncology.wikibase.cloud\\u003cbr\\u003eHost: Wikibase Cloud\\u003cbr\\u003eVersion: 1.39.7\\u003cbr\\u003eStart Date: 2024-10-05 00:00:00+00:00\\u003cbr\\u003eActive Users: 1\\u003cbr\\u003eUsers: 3\\u003cbr\\u003eProperties: 8\\u003cbr\\u003eEdits: 19\\u003cbr\\u003ePages: 18\",\"TegaOmorodion\\u003cbr\\u003eURL: https:\\u002f\\u002fdelight.wikibase.cloud\\u003cbr\\u003eHost: Wikibase Cloud\\u003cbr\\u003eVersion: 1.39.7\\u003cbr\\u003eStart Date: 2023-07-13 00:00:00+00:00\\u003cbr\\u003eActive Users: 0\\u003cbr\\u003eUsers: 2\\u003cbr\\u003eProperties: 8\\u003cbr\\u003eEdits: 20\\u003cbr\\u003ePages: 16\",\"Poppenspel\\u003cbr\\u003eURL: https:\\u002f\\u002fpoppenspel.wikibase.cloud\\u003cbr\\u003eHost: Wikibase Cloud\\u003cbr\\u003eVersion: 1.39.7\\u003cbr\\u003eStart Date: 2024-10-08 00:00:00+00:00\\u003cbr\\u003eActive Users: 2\\u003cbr\\u003eUsers: 2\\u003cbr\\u003eProperties: 13\\u003cbr\\u003eEdits: 21\\u003cbr\\u003ePages: 17\",\"GraceBeke\\u003cbr\\u003eURL: https:\\u002f\\u002fnigerdeltalibrary.wikibase.cloud\\u003cbr\\u003eHost: Wikibase Cloud\\u003cbr\\u003eVersion: 1.39.7\\u003cbr\\u003eStart Date: 2023-09-12 00:00:00+00:00\\u003cbr\\u003eActive Users: 0\\u003cbr\\u003eUsers: 2\\u003cbr\\u003eProperties: 4\\u003cbr\\u003eEdits: 26\\u003cbr\\u003ePages: 16\",\"Test dokument\\u003cbr\\u003eURL: https:\\u002f\\u002ftestdokument.wikibase.cloud\\u003cbr\\u003eHost: Wikibase Cloud\\u003cbr\\u003eVersion: 1.39.7\\u003cbr\\u003eStart Date: 2023-12-19 00:00:00+00:00\\u003cbr\\u003eActive Users: 0\\u003cbr\\u003eUsers: 3\\u003cbr\\u003eProperties: 3\\u003cbr\\u003eEdits: 36\\u003cbr\\u003ePages: 16\",\"merops\\u003cbr\\u003eURL: https:\\u002f\\u002fmerops.wikibase.cloud\\u003cbr\\u003eHost: Wikibase Cloud\\u003cbr\\u003eVersion: 1.39.7\\u003cbr\\u003eStart Date: 2024-03-05 00:00:00+00:00\\u003cbr\\u003eActive Users: 0\\u003cbr\\u003eUsers: 3\\u003cbr\\u003eProperties: 6\\u003cbr\\u003eEdits: 28\\u003cbr\\u003ePages: 16\",\"miwinves2324\\u003cbr\\u003eURL: https:\\u002f\\u002fmiwinves2324.wikibase.cloud\\u003cbr\\u003eHost: Wikibase Cloud\\u003cbr\\u003eVersion: 1.39.7\\u003cbr\\u003eStart Date: 2024-05-13 00:00:00+00:00\\u003cbr\\u003eActive Users: 0\\u003cbr\\u003eUsers: 6\\u003cbr\\u003eProperties: 4\\u003cbr\\u003eEdits: 34\\u003cbr\\u003ePages: 16\",\"ecomedia\\u003cbr\\u003eURL: https:\\u002f\\u002fecomedia.wikibase.cloud\\u003cbr\\u003eHost: Wikibase Cloud\\u003cbr\\u003eVersion: 1.39.7\\u003cbr\\u003eStart Date: 2024-07-16 00:00:00+00:00\\u003cbr\\u003eActive Users: 0\\u003cbr\\u003eUsers: 3\\u003cbr\\u003eProperties: 10\\u003cbr\\u003eEdits: 36\\u003cbr\\u003ePages: 16\",\"federation\\u003cbr\\u003eURL: https:\\u002f\\u002ffederation.wikibase.cloud\\u003cbr\\u003eHost: Wikibase Cloud\\u003cbr\\u003eVersion: 1.39.7\\u003cbr\\u003eStart Date: 2019-11-01 00:00:00+00:00\\u003cbr\\u003eActive Users: 0\\u003cbr\\u003eUsers: 3\\u003cbr\\u003eProperties: 5\\u003cbr\\u003eEdits: 26\\u003cbr\\u003ePages: 15\",\"wikibasetest\\u003cbr\\u003eURL: https:\\u002f\\u002fwikibasetest.wikibase.cloud\\u003cbr\\u003eHost: Wikibase Cloud\\u003cbr\\u003eVersion: 1.39.7\\u003cbr\\u003eStart Date: 2022-11-16 00:00:00+00:00\\u003cbr\\u003eActive Users: 0\\u003cbr\\u003eUsers: 2\\u003cbr\\u003eProperties: 3\\u003cbr\\u003eEdits: 16\\u003cbr\\u003ePages: 15\",\"Wikitest\\u003cbr\\u003eURL: https:\\u002f\\u002ftestwikiatesttesttesttesteee.wikibase.cloud\\u003cbr\\u003eHost: Wikibase Cloud\\u003cbr\\u003eVersion: 1.39.7\\u003cbr\\u003eStart Date: 2024-09-14 00:00:00+00:00\\u003cbr\\u003eActive Users: 0\\u003cbr\\u003eUsers: 3\\u003cbr\\u003eProperties: 5\\u003cbr\\u003eEdits: 25\\u003cbr\\u003ePages: 16\",\"my wikibase class\\u003cbr\\u003eURL: https:\\u002f\\u002framatu.wikibase.cloud\\u003cbr\\u003eHost: Wikibase Cloud\\u003cbr\\u003eVersion: 1.39.7\\u003cbr\\u003eStart Date: 2023-07-17 00:00:00+00:00\\u003cbr\\u003eActive Users: 0\\u003cbr\\u003eUsers: 2\\u003cbr\\u003eProperties: 10\\u003cbr\\u003eEdits: 23\\u003cbr\\u003ePages: 15\",\"stadnamn\\u003cbr\\u003eURL: https:\\u002f\\u002fstadnamn.wikibase.cloud\\u003cbr\\u003eHost: Wikibase Cloud\\u003cbr\\u003eVersion: 1.39.7\\u003cbr\\u003eStart Date: 2023-08-16 00:00:00+00:00\\u003cbr\\u003eActive Users: 1\\u003cbr\\u003eUsers: 2\\u003cbr\\u003eProperties: 11\\u003cbr\\u003eEdits: 108\\u003cbr\\u003ePages: 17\",\"VJ Test\\u003cbr\\u003eURL: https:\\u002f\\u002ftrial-1.wikibase.cloud\\u003cbr\\u003eHost: Wikibase Cloud\\u003cbr\\u003eVersion: 1.39.7\\u003cbr\\u003eStart Date: 2023-07-27 00:00:00+00:00\\u003cbr\\u003eActive Users: 0\\u003cbr\\u003eUsers: 2\\u003cbr\\u003eProperties: 8\\u003cbr\\u003eEdits: 35\\u003cbr\\u003ePages: 15\",\"Chinese Culture and Heritage\\u003cbr\\u003eURL: https:\\u002f\\u002fchinese-culture-and-heritage.wikibase.cloud\\u003cbr\\u003eHost: Wikibase Cloud\\u003cbr\\u003eVersion: 1.39.7\\u003cbr\\u003eStart Date: 2023-07-10 00:00:00+00:00\\u003cbr\\u003eActive Users: 1\\u003cbr\\u003eUsers: 13\\u003cbr\\u003eProperties: 21\\u003cbr\\u003eEdits: 69\\u003cbr\\u003ePages: 29\",\"Azaiki Public Library\\u003cbr\\u003eURL: https:\\u002f\\u002fazaikilibrary.wikibase.cloud\\u003cbr\\u003eHost: Wikibase Cloud\\u003cbr\\u003eVersion: 1.39.7\\u003cbr\\u003eStart Date: 2023-09-12 00:00:00+00:00\\u003cbr\\u003eActive Users: 0\\u003cbr\\u003eUsers: 2\\u003cbr\\u003eProperties: 5\\u003cbr\\u003eEdits: 25\\u003cbr\\u003ePages: 15\",\"VEE'S FASHION\\u003cbr\\u003eURL: https:\\u002f\\u002fnigerlibrary.wikibase.cloud\\u003cbr\\u003eHost: Wikibase Cloud\\u003cbr\\u003eVersion: 1.39.7\\u003cbr\\u003eStart Date: 2023-09-12 00:00:00+00:00\\u003cbr\\u003eActive Users: 0\\u003cbr\\u003eUsers: 2\\u003cbr\\u003eProperties: 5\\u003cbr\\u003eEdits: 33\\u003cbr\\u003ePages: 15\",\"FMCY Library\\u003cbr\\u003eURL: https:\\u002f\\u002fpoinami-library.wikibase.cloud\\u003cbr\\u003eHost: Wikibase Cloud\\u003cbr\\u003eVersion: 1.39.7\\u003cbr\\u003eStart Date: 2023-09-12 00:00:00+00:00\\u003cbr\\u003eActive Users: 0\\u003cbr\\u003eUsers: 2\\u003cbr\\u003eProperties: 7\\u003cbr\\u003eEdits: 24\\u003cbr\\u003ePages: 15\",\"BrukerBasen\\u003cbr\\u003eURL: https:\\u002f\\u002fbrikerbasen.wikibase.cloud\\u003cbr\\u003eHost: Wikibase Cloud\\u003cbr\\u003eVersion: 1.39.7\\u003cbr\\u003eStart Date: 2024-05-03 00:00:00+00:00\\u003cbr\\u003eActive Users: 0\\u003cbr\\u003eUsers: 2\\u003cbr\\u003eProperties: 6\\u003cbr\\u003eEdits: 15\\u003cbr\\u003ePages: 15\",\"copypastewaste_prototype\\u003cbr\\u003eURL: https:\\u002f\\u002fcopypastewasteprototype.wikibase.cloud\\u003cbr\\u003eHost: Wikibase Cloud\\u003cbr\\u003eVersion: 1.39.7\\u003cbr\\u003eStart Date: 2024-06-19 00:00:00+00:00\\u003cbr\\u003eActive Users: 0\\u003cbr\\u003eUsers: 14\\u003cbr\\u003eProperties: 4\\u003cbr\\u003eEdits: 30\\u003cbr\\u003ePages: 15\",\"Linked Lions\\u003cbr\\u003eURL: https:\\u002f\\u002flinked-lions.wikibase.cloud\\u003cbr\\u003eHost: Wikibase Cloud\\u003cbr\\u003eVersion: 1.39.7\\u003cbr\\u003eStart Date: 2022-09-09 00:00:00+00:00\\u003cbr\\u003eActive Users: 0\\u003cbr\\u003eUsers: 2\\u003cbr\\u003eProperties: 8\\u003cbr\\u003eEdits: 26\\u003cbr\\u003ePages: 14\",\"Oddruns testsite2\\u003cbr\\u003eURL: https:\\u002f\\u002fodos-test2.wikibase.cloud\\u003cbr\\u003eHost: Wikibase Cloud\\u003cbr\\u003eVersion: 1.39.7\\u003cbr\\u003eStart Date: 2024-10-08 00:00:00+00:00\\u003cbr\\u003eActive Users: 2\\u003cbr\\u003eUsers: 2\\u003cbr\\u003eProperties: 6\\u003cbr\\u003eEdits: 19\\u003cbr\\u003ePages: 15\",\"Christos Test\\u003cbr\\u003eURL: https:\\u002f\\u002fchristoslearnswbcloud.wikibase.cloud\\u003cbr\\u003eHost: Wikibase Cloud\\u003cbr\\u003eVersion: 1.39.7\\u003cbr\\u003eStart Date: 2023-01-20 00:00:00+00:00\\u003cbr\\u003eActive Users: 0\\u003cbr\\u003eUsers: 2\\u003cbr\\u003eProperties: 6\\u003cbr\\u003eEdits: 39\\u003cbr\\u003ePages: 14\",\"Timi Library\\u003cbr\\u003eURL: https:\\u002f\\u002ftimilibrary.wikibase.cloud\\u003cbr\\u003eHost: Wikibase Cloud\\u003cbr\\u003eVersion: 1.39.7\\u003cbr\\u003eStart Date: 2023-09-13 00:00:00+00:00\\u003cbr\\u003eActive Users: 0\\u003cbr\\u003eUsers: 2\\u003cbr\\u003eProperties: 3\\u003cbr\\u003eEdits: 20\\u003cbr\\u003ePages: 14\",\"Bena Collections\\u003cbr\\u003eURL: https:\\u002f\\u002fbenacollections.wikibase.cloud\\u003cbr\\u003eHost: Wikibase Cloud\\u003cbr\\u003eVersion: 1.39.7\\u003cbr\\u003eStart Date: 2023-09-12 00:00:00+00:00\\u003cbr\\u003eActive Users: 0\\u003cbr\\u003eUsers: 2\\u003cbr\\u003eProperties: 5\\u003cbr\\u003eEdits: 23\\u003cbr\\u003ePages: 14\",\"INDXR collections\\u003cbr\\u003eURL: https:\\u002f\\u002findxr.wikibase.cloud\\u003cbr\\u003eHost: Wikibase Cloud\\u003cbr\\u003eVersion: 1.39.7\\u003cbr\\u003eStart Date: 2023-02-27 00:00:00+00:00\\u003cbr\\u003eActive Users: 0\\u003cbr\\u003eUsers: 2\\u003cbr\\u003eProperties: 6\\u003cbr\\u003eEdits: 44\\u003cbr\\u003ePages: 14\",\"Grappliana\\u003cbr\\u003eURL: https:\\u002f\\u002fgrappliana.wikibase.cloud\\u003cbr\\u003eHost: Wikibase Cloud\\u003cbr\\u003eVersion: 1.39.7\\u003cbr\\u003eStart Date: 2023-10-06 00:00:00+00:00\\u003cbr\\u003eActive Users: 0\\u003cbr\\u003eUsers: 2\\u003cbr\\u003eProperties: 1\\u003cbr\\u003eEdits: 14\\u003cbr\\u003ePages: 14\",\"La Tunisie M\\u00e9dicale\\u003cbr\\u003eURL: https:\\u002f\\u002ftunismed.wikibase.cloud\\u003cbr\\u003eHost: Wikibase Cloud\\u003cbr\\u003eVersion: 1.39.7\\u003cbr\\u003eStart Date: 2024-04-11 00:00:00+00:00\\u003cbr\\u003eActive Users: 0\\u003cbr\\u003eUsers: 2\\u003cbr\\u003eProperties: 13\\u003cbr\\u003eEdits: 21\\u003cbr\\u003ePages: 14\",\"Dumo Lib\\u003cbr\\u003eURL: https:\\u002f\\u002fdumo-collection.wikibase.cloud\\u003cbr\\u003eHost: Wikibase Cloud\\u003cbr\\u003eVersion: 1.39.7\\u003cbr\\u003eStart Date: 2023-09-12 00:00:00+00:00\\u003cbr\\u003eActive Users: 0\\u003cbr\\u003eUsers: 2\\u003cbr\\u003eProperties: 5\\u003cbr\\u003eEdits: 18\\u003cbr\\u003ePages: 13\",\"GOD'S FAVOURITE\\u003cbr\\u003eURL: https:\\u002f\\u002fgodfavourite.wikibase.cloud\\u003cbr\\u003eHost: Wikibase Cloud\\u003cbr\\u003eVersion: 1.39.7\\u003cbr\\u003eStart Date: 2023-09-13 00:00:00+00:00\\u003cbr\\u003eActive Users: 0\\u003cbr\\u003eUsers: 2\\u003cbr\\u003eProperties: 4\\u003cbr\\u003eEdits: 18\\u003cbr\\u003ePages: 13\",\"Ugly Architecture Test\\u003cbr\\u003eURL: https:\\u002f\\u002fugly-architecture-test.wikibase.cloud\\u003cbr\\u003eHost: Wikibase Cloud\\u003cbr\\u003eVersion: 1.39.7\\u003cbr\\u003eStart Date: 2024-02-01 00:00:00+00:00\\u003cbr\\u003eActive Users: 0\\u003cbr\\u003eUsers: 2\\u003cbr\\u003eProperties: 8\\u003cbr\\u003eEdits: 38\\u003cbr\\u003ePages: 13\",\"Test\\u003cbr\\u003eURL: https:\\u002f\\u002ftest-database.wikibase.cloud\\u003cbr\\u003eHost: Wikibase Cloud\\u003cbr\\u003eVersion: 1.39.7\\u003cbr\\u003eStart Date: 2024-02-01 00:00:00+00:00\\u003cbr\\u003eActive Users: 1\\u003cbr\\u003eUsers: 2\\u003cbr\\u003eProperties: 10\\u003cbr\\u003eEdits: 61\\u003cbr\\u003ePages: 13\",\"University of Leeds Authorities\\u003cbr\\u003eURL: https:\\u002f\\u002fleeds-authorities.wikibase.cloud\\u003cbr\\u003eHost: Wikibase Cloud\\u003cbr\\u003eVersion: 1.39.7\\u003cbr\\u003eStart Date: 2024-05-30 00:00:00+00:00\\u003cbr\\u003eActive Users: 0\\u003cbr\\u003eUsers: 2\\u003cbr\\u003eProperties: 6\\u003cbr\\u003eEdits: 14\\u003cbr\\u003ePages: 14\",\"ScientistsWiki\\u003cbr\\u003eURL: https:\\u002f\\u002ftest-scientists.wikibase.cloud\\u003cbr\\u003eHost: Wikibase Cloud\\u003cbr\\u003eVersion: 1.39.7\\u003cbr\\u003eStart Date: 2024-03-06 00:00:00+00:00\\u003cbr\\u003eActive Users: 0\\u003cbr\\u003eUsers: 2\\u003cbr\\u003eProperties: 4\\u003cbr\\u003eEdits: 21\\u003cbr\\u003ePages: 13\",\"350817\\u003cbr\\u003eURL: https:\\u002f\\u002f350817.wikibase.cloud\\u003cbr\\u003eHost: Wikibase Cloud\\u003cbr\\u003eVersion: 1.39.7\\u003cbr\\u003eStart Date: 2024-02-17 00:00:00+00:00\\u003cbr\\u003eActive Users: 0\\u003cbr\\u003eUsers: 3\\u003cbr\\u003eProperties: 6\\u003cbr\\u003eEdits: 34\\u003cbr\\u003ePages: 13\",\"anton7\\u003cbr\\u003eURL: https:\\u002f\\u002fanton7.wikibase.cloud\\u003cbr\\u003eHost: Wikibase Cloud\\u003cbr\\u003eVersion: 1.39.7\\u003cbr\\u003eStart Date: 2024-08-09 00:00:00+00:00\\u003cbr\\u003eActive Users: 0\\u003cbr\\u003eUsers: 2\\u003cbr\\u003eProperties: 6\\u003cbr\\u003eEdits: 13\\u003cbr\\u003ePages: 13\",\"Test CDC Commons\\u003cbr\\u003eURL: https:\\u002f\\u002fgl-cdc-commons.wikibase.cloud\\u003cbr\\u003eHost: Wikibase Cloud\\u003cbr\\u003eVersion: 1.39.7\\u003cbr\\u003eStart Date: 2024-08-14 00:00:00+00:00\\u003cbr\\u003eActive Users: 0\\u003cbr\\u003eUsers: 2\\u003cbr\\u003eProperties: 6\\u003cbr\\u003eEdits: 13\\u003cbr\\u003ePages: 13\",\"Practicum\\u003cbr\\u003eURL: https:\\u002f\\u002fpracticum.wikibase.cloud\\u003cbr\\u003eHost: Wikibase Cloud\\u003cbr\\u003eVersion: 1.39.7\\u003cbr\\u003eStart Date: 2024-08-16 00:00:00+00:00\\u003cbr\\u003eActive Users: 0\\u003cbr\\u003eUsers: 2\\u003cbr\\u003eProperties: 6\\u003cbr\\u003eEdits: 13\\u003cbr\\u003ePages: 13\",\"Daria Gavrilova (periodista)\\u003cbr\\u003eURL: https:\\u002f\\u002fdariagavrilova.wikibase.cloud\\u003cbr\\u003eHost: Wikibase Cloud\\u003cbr\\u003eVersion: 1.39.7\\u003cbr\\u003eStart Date: 2024-08-15 00:00:00+00:00\\u003cbr\\u003eActive Users: 0\\u003cbr\\u003eUsers: 2\\u003cbr\\u003eProperties: 6\\u003cbr\\u003eEdits: 13\\u003cbr\\u003ePages: 13\",\"personalwiki (on wikibase.cloud)\\u003cbr\\u003eURL: https:\\u002f\\u002fpersonalwiki.wikibase.cloud\\u003cbr\\u003eHost: Wikibase Cloud\\u003cbr\\u003eVersion: 1.39.7\\u003cbr\\u003eStart Date: 2024-08-17 00:00:00+00:00\\u003cbr\\u003eActive Users: 0\\u003cbr\\u003eUsers: 2\\u003cbr\\u003eProperties: 6\\u003cbr\\u003eEdits: 13\\u003cbr\\u003ePages: 13\",\"hiperterminal\\u003cbr\\u003eURL: https:\\u002f\\u002fhiperterminal.wikibase.cloud\\u003cbr\\u003eHost: Wikibase Cloud\\u003cbr\\u003eVersion: 1.39.7\\u003cbr\\u003eStart Date: 2024-08-20 00:00:00+00:00\\u003cbr\\u003eActive Users: 0\\u003cbr\\u003eUsers: 2\\u003cbr\\u003eProperties: 6\\u003cbr\\u003eEdits: 13\\u003cbr\\u003ePages: 13\",\"Talmudic collections test\\u003cbr\\u003eURL: https:\\u002f\\u002ftalmudic-collections-test.wikibase.cloud\\u003cbr\\u003eHost: Wikibase Cloud\\u003cbr\\u003eVersion: 1.39.7\\u003cbr\\u003eStart Date: 2024-08-26 00:00:00+00:00\\u003cbr\\u003eActive Users: 0\\u003cbr\\u003eUsers: 2\\u003cbr\\u003eProperties: 6\\u003cbr\\u003eEdits: 13\\u003cbr\\u003ePages: 13\",\"sangam\\u003cbr\\u003eURL: https:\\u002f\\u002fsangam.wikibase.cloud\\u003cbr\\u003eHost: Wikibase Cloud\\u003cbr\\u003eVersion: 1.39.7\\u003cbr\\u003eStart Date: 2024-09-03 00:00:00+00:00\\u003cbr\\u003eActive Users: 0\\u003cbr\\u003eUsers: 2\\u003cbr\\u003eProperties: 6\\u003cbr\\u003eEdits: 13\\u003cbr\\u003ePages: 13\",\"K\\u00fcnstlNetz1600\\u003cbr\\u003eURL: https:\\u002f\\u002fxn--knstlnetz1600-salzburg-slc.wikibase.cloud\\u003cbr\\u003eHost: Wikibase Cloud\\u003cbr\\u003eVersion: 1.39.7\\u003cbr\\u003eStart Date: 2024-09-05 00:00:00+00:00\\u003cbr\\u003eActive Users: 0\\u003cbr\\u003eUsers: 2\\u003cbr\\u003eProperties: 6\\u003cbr\\u003eEdits: 13\\u003cbr\\u003ePages: 13\",\"Conceptual Model for the Performing Arts\\u003cbr\\u003eURL: https:\\u002f\\u002fperformingarts.wikibase.cloud\\u003cbr\\u003eHost: Wikibase Cloud\\u003cbr\\u003eVersion: 1.39.7\\u003cbr\\u003eStart Date: 2024-09-24 00:00:00+00:00\\u003cbr\\u003eActive Users: 1\\u003cbr\\u003eUsers: 2\\u003cbr\\u003eProperties: 8\\u003cbr\\u003eEdits: 40\\u003cbr\\u003ePages: 17\",\"Komentarz\\u003cbr\\u003eURL: https:\\u002f\\u002ftestowy-komentarz.wikibase.cloud\\u003cbr\\u003eHost: Wikibase Cloud\\u003cbr\\u003eVersion: 1.39.7\\u003cbr\\u003eStart Date: 2024-09-26 00:00:00+00:00\\u003cbr\\u003eActive Users: 0\\u003cbr\\u003eUsers: 2\\u003cbr\\u003eProperties: 6\\u003cbr\\u003eEdits: 13\\u003cbr\\u003ePages: 13\",\"famedata\\u003cbr\\u003eURL: https:\\u002f\\u002ffamedata.wikibase.cloud\\u003cbr\\u003eHost: Wikibase Cloud\\u003cbr\\u003eVersion: 1.39.7\\u003cbr\\u003eStart Date: 2024-10-05 00:00:00+00:00\\u003cbr\\u003eActive Users: 2\\u003cbr\\u003eUsers: 2\\u003cbr\\u003eProperties: 6\\u003cbr\\u003eEdits: 14\\u003cbr\\u003ePages: 13\",\"testing\\u003cbr\\u003eURL: https:\\u002f\\u002ftestingeric.wikibase.cloud\\u003cbr\\u003eHost: Wikibase Cloud\\u003cbr\\u003eVersion: 1.39.7\\u003cbr\\u003eStart Date: 2024-10-04 00:00:00+00:00\\u003cbr\\u003eActive Users: 1\\u003cbr\\u003eUsers: 2\\u003cbr\\u003eProperties: 6\\u003cbr\\u003eEdits: 13\\u003cbr\\u003ePages: 13\",\"Solenne Test Wiki\\u003cbr\\u003eURL: https:\\u002f\\u002ftest-solenne.wikibase.cloud\\u003cbr\\u003eHost: Wikibase Cloud\\u003cbr\\u003eVersion: 1.39.7\\u003cbr\\u003eStart Date: 2024-10-08 00:00:00+00:00\\u003cbr\\u003eActive Users: 2\\u003cbr\\u003eUsers: 2\\u003cbr\\u003eProperties: 6\\u003cbr\\u003eEdits: 14\\u003cbr\\u003ePages: 13\",\"Archive Sandra Becker 01\\u003cbr\\u003eURL: https:\\u002f\\u002fsandrabecker01.wikibase.cloud\\u003cbr\\u003eHost: Wikibase Cloud\\u003cbr\\u003eVersion: 1.39.7\\u003cbr\\u003eStart Date: 2022-12-24 00:00:00+00:00\\u003cbr\\u003eActive Users: 0\\u003cbr\\u003eUsers: 4\\u003cbr\\u003eProperties: 7\\u003cbr\\u003eEdits: 24\\u003cbr\\u003ePages: 12\",\"Nomenclature for Museum Cataloguing\\u003cbr\\u003eURL: https:\\u002f\\u002fnomenclature.wikibase.cloud\\u003cbr\\u003eHost: Wikibase Cloud\\u003cbr\\u003eVersion: 1.39.7\\u003cbr\\u003eStart Date: 2024-10-08 00:00:00+00:00\\u003cbr\\u003eActive Users: 1\\u003cbr\\u003eUsers: 2\\u003cbr\\u003eProperties: 6\\u003cbr\\u003eEdits: 13\\u003cbr\\u003ePages: 13\",\"Fmc library\\u003cbr\\u003eURL: https:\\u002f\\u002fbeauty-lib.wikibase.cloud\\u003cbr\\u003eHost: Wikibase Cloud\\u003cbr\\u003eVersion: 1.39.7\\u003cbr\\u003eStart Date: 2023-09-12 00:00:00+00:00\\u003cbr\\u003eActive Users: 0\\u003cbr\\u003eUsers: 2\\u003cbr\\u003eProperties: 4\\u003cbr\\u003eEdits: 15\\u003cbr\\u003ePages: 12\",\"initial tests confirm success\\u003cbr\\u003eURL: https:\\u002f\\u002finitial-tests-confirm-success.wikibase.cloud\\u003cbr\\u003eHost: Wikibase Cloud\\u003cbr\\u003eVersion: 1.39.7\\u003cbr\\u003eStart Date: 2023-01-06 00:00:00+00:00\\u003cbr\\u003eActive Users: 0\\u003cbr\\u003eUsers: 2\\u003cbr\\u003eProperties: 6\\u003cbr\\u003eEdits: 15\\u003cbr\\u003ePages: 12\",\"DeJongeWiki\\u003cbr\\u003eURL: https:\\u002f\\u002fdejonge.wikibase.cloud\\u003cbr\\u003eHost: Wikibase Cloud\\u003cbr\\u003eVersion: 1.39.7\\u003cbr\\u003eStart Date: 2023-09-23 00:00:00+00:00\\u003cbr\\u003eActive Users: 0\\u003cbr\\u003eUsers: 2\\u003cbr\\u003eProperties: 6\\u003cbr\\u003eEdits: 12\\u003cbr\\u003ePages: 12\",\"AvoinGLAM Archive\\u003cbr\\u003eURL: https:\\u002f\\u002favoinglam.wikibase.cloud\\u003cbr\\u003eHost: Wikibase Cloud\\u003cbr\\u003eVersion: 1.39.7\\u003cbr\\u003eStart Date: 2024-02-19 00:00:00+00:00\\u003cbr\\u003eActive Users: 0\\u003cbr\\u003eUsers: 2\\u003cbr\\u003eProperties: 6\\u003cbr\\u003eEdits: 22\\u003cbr\\u003ePages: 12\",\"Atkins Library Names\\u003cbr\\u003eURL: https:\\u002f\\u002fatkins-names.wikibase.cloud\\u003cbr\\u003eHost: Wikibase Cloud\\u003cbr\\u003eVersion: 1.39.7\\u003cbr\\u003eStart Date: 2021-05-28 00:00:00+00:00\\u003cbr\\u003eActive Users: 0\\u003cbr\\u003eUsers: 2\\u003cbr\\u003eProperties: 8\\u003cbr\\u003eEdits: 26\\u003cbr\\u003ePages: 11\",\"KB RDA Test Wikibase\\u003cbr\\u003eURL: https:\\u002f\\u002fkb-rda-testwikibase.wikibase.cloud\\u003cbr\\u003eHost: Wikibase Cloud\\u003cbr\\u003eVersion: 1.39.7\\u003cbr\\u003eStart Date: 2022-12-08 00:00:00+00:00\\u003cbr\\u003eActive Users: 0\\u003cbr\\u003eUsers: 5\\u003cbr\\u003eProperties: 5\\u003cbr\\u003eEdits: 25\\u003cbr\\u003ePages: 11\",\"Singerman\\u003cbr\\u003eURL: https:\\u002f\\u002fjudaicaamericana.wikibase.cloud\\u003cbr\\u003eHost: Wikibase Cloud\\u003cbr\\u003eVersion: 1.39.7\\u003cbr\\u003eStart Date: 2024-01-13 00:00:00+00:00\\u003cbr\\u003eActive Users: 0\\u003cbr\\u003eUsers: 2\\u003cbr\\u003eProperties: 6\\u003cbr\\u003eEdits: 17\\u003cbr\\u003ePages: 11\",\"SON Test\\u003cbr\\u003eURL: https:\\u002f\\u002fsonime.wikibase.cloud\\u003cbr\\u003eHost: Wikibase Cloud\\u003cbr\\u003eVersion: 1.39.7\\u003cbr\\u003eStart Date: 2024-02-22 00:00:00+00:00\\u003cbr\\u003eActive Users: 0\\u003cbr\\u003eUsers: 2\\u003cbr\\u003eProperties: 6\\u003cbr\\u003eEdits: 14\\u003cbr\\u003ePages: 11\",\"MC Archives\\u003cbr\\u003eURL: https:\\u002f\\u002fmcarchives.wikibase.cloud\\u003cbr\\u003eHost: Wikibase Cloud\\u003cbr\\u003eVersion: 1.39.7\\u003cbr\\u003eStart Date: 2022-10-06 00:00:00+00:00\\u003cbr\\u003eActive Users: 0\\u003cbr\\u003eUsers: 4\\u003cbr\\u003eProperties: 6\\u003cbr\\u003eEdits: 21\\u003cbr\\u003ePages: 10\",\"cidoc-crm-example\\u003cbr\\u003eURL: https:\\u002f\\u002fcidoc-crm-example.wikibase.cloud\\u003cbr\\u003eHost: Wikibase Cloud\\u003cbr\\u003eVersion: 1.39.7\\u003cbr\\u003eStart Date: 2020-09-24 00:00:00+00:00\\u003cbr\\u003eActive Users: 0\\u003cbr\\u003eUsers: 2\\u003cbr\\u003eProperties: 4\\u003cbr\\u003eEdits: 19\\u003cbr\\u003ePages: 10\",\"arkeoweb\\u003cbr\\u003eURL: https:\\u002f\\u002farkeoweb.wikibase.cloud\\u003cbr\\u003eHost: Wikibase Cloud\\u003cbr\\u003eVersion: 1.39.7\\u003cbr\\u003eStart Date: 2024-09-01 00:00:00+00:00\\u003cbr\\u003eActive Users: 0\\u003cbr\\u003eUsers: 2\\u003cbr\\u003eProperties: 3\\u003cbr\\u003eEdits: 46\\u003cbr\\u003ePages: 11\",\"What If Technical Writers Made a Wikibase\\u003cbr\\u003eURL: https:\\u002f\\u002ftw-made-an-instance-of.wikibase.cloud\\u003cbr\\u003eHost: Wikibase Cloud\\u003cbr\\u003eVersion: 1.39.7\\u003cbr\\u003eStart Date: 2022-12-13 00:00:00+00:00\\u003cbr\\u003eActive Users: 0\\u003cbr\\u003eUsers: 2\\u003cbr\\u003eProperties: 3\\u003cbr\\u003eEdits: 15\\u003cbr\\u003ePages: 10\",\"Plants\\u003cbr\\u003eURL: https:\\u002f\\u002fplant.wikibase.cloud\\u003cbr\\u003eHost: Wikibase Cloud\\u003cbr\\u003eVersion: 1.39.7\\u003cbr\\u003eStart Date: 2023-10-09 00:00:00+00:00\\u003cbr\\u003eActive Users: 0\\u003cbr\\u003eUsers: 2\\u003cbr\\u003eProperties: 9\\u003cbr\\u003eEdits: 11\\u003cbr\\u003ePages: 10\",\"nullmuseum\\u003cbr\\u003eURL: https:\\u002f\\u002fnullmuseum.wikibase.cloud\\u003cbr\\u003eHost: Wikibase Cloud\\u003cbr\\u003eVersion: 1.39.7\\u003cbr\\u003eStart Date: 2023-08-24 00:00:00+00:00\\u003cbr\\u003eActive Users: 0\\u003cbr\\u003eUsers: 2\\u003cbr\\u003eProperties: 8\\u003cbr\\u003eEdits: 17\\u003cbr\\u003ePages: 10\",\"Garlician Dictionary\\u003cbr\\u003eURL: https:\\u002f\\u002fgardict.wikibase.cloud\\u003cbr\\u003eHost: Wikibase Cloud\\u003cbr\\u003eVersion: 1.39.7\\u003cbr\\u003eStart Date: 2023-11-22 00:00:00+00:00\\u003cbr\\u003eActive Users: 0\\u003cbr\\u003eUsers: 2\\u003cbr\\u003eProperties: 7\\u003cbr\\u003eEdits: 20\\u003cbr\\u003ePages: 10\",\"Base4Sesys\\u003cbr\\u003eURL: https:\\u002f\\u002fbase.sesys.org\\u003cbr\\u003eHost: Wikibase Cloud\\u003cbr\\u003eVersion: 1.39.7\\u003cbr\\u003eStart Date: 2024-04-02 00:00:00+00:00\\u003cbr\\u003eActive Users: 0\\u003cbr\\u003eUsers: 2\\u003cbr\\u003eProperties: 5\\u003cbr\\u003eEdits: 28\\u003cbr\\u003ePages: 10\",\"Outlaw Test\\u003cbr\\u003eURL: https:\\u002f\\u002ftest-outlaw.wikibase.cloud\\u003cbr\\u003eHost: Wikibase Cloud\\u003cbr\\u003eVersion: 1.39.7\\u003cbr\\u003eStart Date: 2024-06-13 00:00:00+00:00\\u003cbr\\u003eActive Users: 0\\u003cbr\\u003eUsers: 2\\u003cbr\\u003eProperties: 6\\u003cbr\\u003eEdits: 18\\u003cbr\\u003ePages: 10\",\"Ahmed Assessment\\u003cbr\\u003eURL: https:\\u002f\\u002fahmed-assessment.wikibase.cloud\\u003cbr\\u003eHost: Wikibase Cloud\\u003cbr\\u003eVersion: 1.39.7\\u003cbr\\u003eStart Date: 2024-08-26 00:00:00+00:00\\u003cbr\\u003eActive Users: 0\\u003cbr\\u003eUsers: 3\\u003cbr\\u003eProperties: 4\\u003cbr\\u003eEdits: 13\\u003cbr\\u003ePages: 10\",\"Recepten\\u003cbr\\u003eURL: https:\\u002f\\u002frecepten.wikibase.cloud\\u003cbr\\u003eHost: Wikibase Cloud\\u003cbr\\u003eVersion: 1.39.7\\u003cbr\\u003eStart Date: 2022-01-01 00:00:00+00:00\\u003cbr\\u003eActive Users: 0\\u003cbr\\u003eUsers: 2\\u003cbr\\u003eProperties: 1\\u003cbr\\u003eEdits: 10\\u003cbr\\u003ePages: 9\",\"Stanford Wikibase\\u003cbr\\u003eURL: https:\\u002f\\u002fstanford.wikibase.cloud\\u003cbr\\u003eHost: Wikibase Cloud\\u003cbr\\u003eVersion: 1.39.7\\u003cbr\\u003eStart Date: 2022-12-08 00:00:00+00:00\\u003cbr\\u003eActive Users: 0\\u003cbr\\u003eUsers: 3\\u003cbr\\u003eProperties: 5\\u003cbr\\u003eEdits: 15\\u003cbr\\u003ePages: 9\",\"Lucas Library\\u003cbr\\u003eURL: https:\\u002f\\u002flucaslibrary.wikibase.cloud\\u003cbr\\u003eHost: Wikibase Cloud\\u003cbr\\u003eVersion: 1.39.7\\u003cbr\\u003eStart Date: 2023-09-13 00:00:00+00:00\\u003cbr\\u003eActive Users: 0\\u003cbr\\u003eUsers: 2\\u003cbr\\u003eProperties: 4\\u003cbr\\u003eEdits: 12\\u003cbr\\u003ePages: 9\",\"LD4\\u003cbr\\u003eURL: https:\\u002f\\u002fld4goats.wikibase.cloud\\u003cbr\\u003eHost: Wikibase Cloud\\u003cbr\\u003eVersion: 1.39.7\\u003cbr\\u003eStart Date: 2020-07-15 00:00:00+00:00\\u003cbr\\u003eActive Users: 0\\u003cbr\\u003eUsers: 2\\u003cbr\\u003eProperties: 5\\u003cbr\\u003eEdits: 13\\u003cbr\\u003ePages: 9\",\"Election Data Archive\\u003cbr\\u003eURL: https:\\u002f\\u002felections.wikibase.cloud\\u003cbr\\u003eHost: Wikibase Cloud\\u003cbr\\u003eVersion: 1.39.7\\u003cbr\\u003eStart Date: 2022-11-23 00:00:00+00:00\\u003cbr\\u003eActive Users: 0\\u003cbr\\u003eUsers: 2\\u003cbr\\u003eProperties: 4\\u003cbr\\u003eEdits: 14\\u003cbr\\u003ePages: 8\",\"Farafina fanga\\u003cbr\\u003eURL: https:\\u002f\\u002ffarafina-fanga.wikibase.cloud\\u003cbr\\u003eHost: Wikibase Cloud\\u003cbr\\u003eVersion: 1.39.7\\u003cbr\\u003eStart Date: 2024-04-30 00:00:00+00:00\\u003cbr\\u003eActive Users: 1\\u003cbr\\u003eUsers: 2\\u003cbr\\u003eProperties: 1\\u003cbr\\u003eEdits: 36\\u003cbr\\u003ePages: 10\",\"osobnostiregionu\\u003cbr\\u003eURL: https:\\u002f\\u002fosobnosti.wikibase.cloud\\u003cbr\\u003eHost: Wikibase Cloud\\u003cbr\\u003eVersion: 1.39.7\\u003cbr\\u003eStart Date: 2023-01-27 00:00:00+00:00\\u003cbr\\u003eActive Users: 0\\u003cbr\\u003eUsers: 3\\u003cbr\\u003eProperties: 7\\u003cbr\\u003eEdits: 18\\u003cbr\\u003ePages: 8\",\"Juncture\\u003cbr\\u003eURL: https:\\u002f\\u002fwikibase.juncture-digital.org\\u003cbr\\u003eHost: Wikibase Cloud\\u003cbr\\u003eVersion: 1.39.7\\u003cbr\\u003eStart Date: 2023-04-13 00:00:00+00:00\\u003cbr\\u003eActive Users: 0\\u003cbr\\u003eUsers: 2\\u003cbr\\u003eProperties: 2\\u003cbr\\u003eEdits: 8\\u003cbr\\u003ePages: 8\",\"Rejoice Library\\u003cbr\\u003eURL: https:\\u002f\\u002frejoicelibrary.wikibase.cloud\\u003cbr\\u003eHost: Wikibase Cloud\\u003cbr\\u003eVersion: 1.39.7\\u003cbr\\u003eStart Date: 2023-09-12 00:00:00+00:00\\u003cbr\\u003eActive Users: 0\\u003cbr\\u003eUsers: 2\\u003cbr\\u003eProperties: 3\\u003cbr\\u003eEdits: 9\\u003cbr\\u003ePages: 8\",\"Open Postcards Database\\u003cbr\\u003eURL: https:\\u002f\\u002fopenpostcards.wikibase.cloud\\u003cbr\\u003eHost: Wikibase Cloud\\u003cbr\\u003eVersion: 1.39.7\\u003cbr\\u003eStart Date: 2023-06-23 00:00:00+00:00\\u003cbr\\u003eActive Users: 0\\u003cbr\\u003eUsers: 3\\u003cbr\\u003eProperties: 3\\u003cbr\\u003eEdits: 15\\u003cbr\\u003ePages: 8\",\"fmc library\\u003cbr\\u003eURL: https:\\u002f\\u002ftintosafrik4me.wikibase.cloud\\u003cbr\\u003eHost: Wikibase Cloud\\u003cbr\\u003eVersion: 1.39.7\\u003cbr\\u003eStart Date: 2023-09-13 00:00:00+00:00\\u003cbr\\u003eActive Users: 0\\u003cbr\\u003eUsers: 2\\u003cbr\\u003eProperties: 4\\u003cbr\\u003eEdits: 17\\u003cbr\\u003ePages: 8\",\"inere library\\u003cbr\\u003eURL: https:\\u002f\\u002finerelibrary.wikibase.cloud\\u003cbr\\u003eHost: Wikibase Cloud\\u003cbr\\u003eVersion: 1.39.7\\u003cbr\\u003eStart Date: 2023-09-13 00:00:00+00:00\\u003cbr\\u003eActive Users: 0\\u003cbr\\u003eUsers: 2\\u003cbr\\u003eProperties: 3\\u003cbr\\u003eEdits: 9\\u003cbr\\u003ePages: 8\",\"Nelson's cona\\u003cbr\\u003eURL: https:\\u002f\\u002fnelson.wikibase.cloud\\u003cbr\\u003eHost: Wikibase Cloud\\u003cbr\\u003eVersion: 1.39.7\\u003cbr\\u003eStart Date: 2023-09-13 00:00:00+00:00\\u003cbr\\u003eActive Users: 0\\u003cbr\\u003eUsers: 2\\u003cbr\\u003eProperties: 4\\u003cbr\\u003eEdits: 8\\u003cbr\\u003ePages: 8\",\"Ayomidelibs\\u003cbr\\u003eURL: https:\\u002f\\u002fayomidelibs.wikibase.cloud\\u003cbr\\u003eHost: Wikibase Cloud\\u003cbr\\u003eVersion: 1.39.7\\u003cbr\\u003eStart Date: 2023-09-13 00:00:00+00:00\\u003cbr\\u003eActive Users: 0\\u003cbr\\u003eUsers: 2\\u003cbr\\u003eProperties: 5\\u003cbr\\u003eEdits: 8\\u003cbr\\u003ePages: 8\",\"gcam\\u003cbr\\u003eURL: https:\\u002f\\u002fgreek-coinage-of-asia-minor.wikibase.cloud\\u003cbr\\u003eHost: Wikibase Cloud\\u003cbr\\u003eVersion: 1.39.7\\u003cbr\\u003eStart Date: 2023-10-04 00:00:00+00:00\\u003cbr\\u003eActive Users: 0\\u003cbr\\u003eUsers: 2\\u003cbr\\u003eProperties: 3\\u003cbr\\u003eEdits: 12\\u003cbr\\u003ePages: 8\",\"My first Wikipage\\u003cbr\\u003eURL: https:\\u002f\\u002fmy-wiki-bible.wikibase.cloud\\u003cbr\\u003eHost: Wikibase Cloud\\u003cbr\\u003eVersion: 1.39.7\\u003cbr\\u003eStart Date: 2023-12-18 00:00:00+00:00\\u003cbr\\u003eActive Users: 0\\u003cbr\\u003eUsers: 2\\u003cbr\\u003eProperties: 2\\u003cbr\\u003eEdits: 10\\u003cbr\\u003ePages: 8\",\"Resounding Libraries\\u003cbr\\u003eURL: https:\\u002f\\u002fresounding-libraries.wikibase.cloud\\u003cbr\\u003eHost: Wikibase Cloud\\u003cbr\\u003eVersion: 1.39.7\\u003cbr\\u003eStart Date: 2024-01-15 00:00:00+00:00\\u003cbr\\u003eActive Users: 0\\u003cbr\\u003eUsers: 5\\u003cbr\\u003eProperties: 3\\u003cbr\\u003eEdits: 14\\u003cbr\\u003ePages: 8\",\"Lab collective\\u003cbr\\u003eURL: https:\\u002f\\u002flabcollective.wikibase.cloud\\u003cbr\\u003eHost: Wikibase Cloud\\u003cbr\\u003eVersion: 1.39.7\\u003cbr\\u003eStart Date: 2024-04-16 00:00:00+00:00\\u003cbr\\u003eActive Users: 0\\u003cbr\\u003eUsers: 2\\u003cbr\\u003eProperties: 4\\u003cbr\\u003eEdits: 8\\u003cbr\\u003ePages: 8\",\"Tolkien Data\\u003cbr\\u003eURL: https:\\u002f\\u002ftolkiendata.org\\u003cbr\\u003eHost: Wikibase Cloud\\u003cbr\\u003eVersion: 1.39.7\\u003cbr\\u003eStart Date: 2024-07-23 00:00:00+00:00\\u003cbr\\u003eActive Users: 0\\u003cbr\\u003eUsers: 5\\u003cbr\\u003eProperties: 6\\u003cbr\\u003eEdits: 13\\u003cbr\\u003ePages: 8\",\"KM28-2\\u003cbr\\u003eURL: https:\\u002f\\u002fkm28-2.wikibase.cloud\\u003cbr\\u003eHost: Wikibase Cloud\\u003cbr\\u003eVersion: 1.39.7\\u003cbr\\u003eStart Date: 2024-04-18 00:00:00+00:00\\u003cbr\\u003eActive Users: 0\\u003cbr\\u003eUsers: 3\\u003cbr\\u003eProperties: 3\\u003cbr\\u003eEdits: 11\\u003cbr\\u003ePages: 8\",\"PrivacyGraph\\u003cbr\\u003eURL: https:\\u002f\\u002fprivacygraph.wikibase.cloud\\u003cbr\\u003eHost: Wikibase Cloud\\u003cbr\\u003eVersion: 1.39.7\\u003cbr\\u003eStart Date: 2022-11-16 00:00:00+00:00\\u003cbr\\u003eActive Users: 0\\u003cbr\\u003eUsers: 2\\u003cbr\\u003eProperties: 7\\u003cbr\\u003eEdits: 17\\u003cbr\\u003ePages: 7\",\"Solanum Taxonomy\\u003cbr\\u003eURL: https:\\u002f\\u002fsolanum.wikibase.cloud\\u003cbr\\u003eHost: Wikibase Cloud\\u003cbr\\u003eVersion: 1.39.7\\u003cbr\\u003eStart Date: 2021-01-01 00:00:00+00:00\\u003cbr\\u003eActive Users: 0\\u003cbr\\u003eUsers: 2\\u003cbr\\u003eProperties: 3\\u003cbr\\u003eEdits: 7\\u003cbr\\u003ePages: 7\",\"TestSite\\u003cbr\\u003eURL: https:\\u002f\\u002fublmutest.wikibase.cloud\\u003cbr\\u003eHost: Wikibase Cloud\\u003cbr\\u003eVersion: 1.39.7\\u003cbr\\u003eStart Date: 2022-11-24 00:00:00+00:00\\u003cbr\\u003eActive Users: 0\\u003cbr\\u003eUsers: 4\\u003cbr\\u003eProperties: 1\\u003cbr\\u003eEdits: 7\\u003cbr\\u003ePages: 7\",\"Wikibae\\u003cbr\\u003eURL: https:\\u002f\\u002fwikibae.de\\u003cbr\\u003eHost: Wikibase Cloud\\u003cbr\\u003eVersion: 1.39.7\\u003cbr\\u003eStart Date: 2022-10-20 00:00:00+00:00\\u003cbr\\u003eActive Users: 1\\u003cbr\\u003eUsers: 2\\u003cbr\\u003eProperties: 1\\u003cbr\\u003eEdits: 14\\u003cbr\\u003ePages: 7\",\"andrew\\u003cbr\\u003eURL: https:\\u002f\\u002fandrew.wikibase.cloud\\u003cbr\\u003eHost: Wikibase Cloud\\u003cbr\\u003eVersion: 1.39.7\\u003cbr\\u003eStart Date: 2023-01-12 00:00:00+00:00\\u003cbr\\u003eActive Users: 0\\u003cbr\\u003eUsers: 2\\u003cbr\\u003eProperties: 1\\u003cbr\\u003eEdits: 10\\u003cbr\\u003ePages: 7\",\"ZAMN\\u003cbr\\u003eURL: https:\\u002f\\u002fzamn-data.wikibase.cloud\\u003cbr\\u003eHost: Wikibase Cloud\\u003cbr\\u003eVersion: 1.39.7\\u003cbr\\u003eStart Date: 2023-10-12 00:00:00+00:00\\u003cbr\\u003eActive Users: 0\\u003cbr\\u003eUsers: 2\\u003cbr\\u003eProperties: 3\\u003cbr\\u003eEdits: 12\\u003cbr\\u003ePages: 7\",\"SocioIntel\\u003cbr\\u003eURL: https:\\u002f\\u002fsocioinsight.wikibase.cloud\\u003cbr\\u003eHost: Wikibase Cloud\\u003cbr\\u003eVersion: 1.39.7\\u003cbr\\u003eStart Date: 2023-10-03 00:00:00+00:00\\u003cbr\\u003eActive Users: 0\\u003cbr\\u003eUsers: 2\\u003cbr\\u003eProperties: 5\\u003cbr\\u003eEdits: 15\\u003cbr\\u003ePages: 7\",\"pikachupedia\\u003cbr\\u003eURL: https:\\u002f\\u002fpikachupedia.wikibase.cloud\\u003cbr\\u003eHost: Wikibase Cloud\\u003cbr\\u003eVersion: 1.39.7\\u003cbr\\u003eStart Date: 2023-11-08 00:00:00+00:00\\u003cbr\\u003eActive Users: 0\\u003cbr\\u003eUsers: 2\\u003cbr\\u003eProperties: 1\\u003cbr\\u003eEdits: 17\\u003cbr\\u003ePages: 7\",\"AMC Test\\u003cbr\\u003eURL: https:\\u002f\\u002farchiveofmodernconflict.wikibase.cloud\\u003cbr\\u003eHost: Wikibase Cloud\\u003cbr\\u003eVersion: 1.39.7\\u003cbr\\u003eStart Date: 2024-04-25 00:00:00+00:00\\u003cbr\\u003eActive Users: 0\\u003cbr\\u003eUsers: 2\\u003cbr\\u003eProperties: 2\\u003cbr\\u003eEdits: 8\\u003cbr\\u003ePages: 7\",\"Basque Bib\\u003cbr\\u003eURL: https:\\u002f\\u002fbasquebib.wikibase.cloud\\u003cbr\\u003eHost: Wikibase Cloud\\u003cbr\\u003eVersion: 1.39.7\\u003cbr\\u003eStart Date: 2024-06-11 00:00:00+00:00\\u003cbr\\u003eActive Users: 0\\u003cbr\\u003eUsers: 3\\u003cbr\\u003eProperties: 5\\u003cbr\\u003eEdits: 10\\u003cbr\\u003ePages: 7\",\"FLP Experimental Wikibase\\u003cbr\\u003eURL: https:\\u002f\\u002fflp-experiments.wikibase.cloud\\u003cbr\\u003eHost: Wikibase Cloud\\u003cbr\\u003eVersion: 1.39.7\\u003cbr\\u003eStart Date: 2024-07-08 00:00:00+00:00\\u003cbr\\u003eActive Users: 0\\u003cbr\\u003eUsers: 2\\u003cbr\\u003eProperties: 4\\u003cbr\\u003eEdits: 10\\u003cbr\\u003ePages: 6\",\"fp2test01\\u003cbr\\u003eURL: https:\\u002f\\u002ffp2test01.wikibase.cloud\\u003cbr\\u003eHost: Wikibase Cloud\\u003cbr\\u003eVersion: 1.39.7\\u003cbr\\u003eStart Date: 2022-05-03 00:00:00+00:00\\u003cbr\\u003eActive Users: 0\\u003cbr\\u003eUsers: 3\\u003cbr\\u003eProperties: 2\\u003cbr\\u003eEdits: 6\\u003cbr\\u003ePages: 6\",\"pr0be - more then tests, less then stable\\u003cbr\\u003eURL: https:\\u002f\\u002fpr0be.wikibase.cloud\\u003cbr\\u003eHost: Wikibase Cloud\\u003cbr\\u003eVersion: 1.39.7\\u003cbr\\u003eStart Date: 2023-07-16 00:00:00+00:00\\u003cbr\\u003eActive Users: 0\\u003cbr\\u003eUsers: 2\\u003cbr\\u003eProperties: 2\\u003cbr\\u003eEdits: 9\\u003cbr\\u003ePages: 6\",\"Valeries Galleries\\u003cbr\\u003eURL: https:\\u002f\\u002fvaleries-galleries.wikibase.cloud\\u003cbr\\u003eHost: Wikibase Cloud\\u003cbr\\u003eVersion: 1.39.7\\u003cbr\\u003eStart Date: 2022-09-26 00:00:00+00:00\\u003cbr\\u003eActive Users: 0\\u003cbr\\u003eUsers: 3\\u003cbr\\u003eProperties: 2\\u003cbr\\u003eEdits: 8\\u003cbr\\u003ePages: 6\",\"testwiki2 (on wikibase.cloud)\\u003cbr\\u003eURL: https:\\u002f\\u002ftestwiki2.wikibase.cloud\\u003cbr\\u003eHost: Wikibase Cloud\\u003cbr\\u003eVersion: 1.39.7\\u003cbr\\u003eStart Date: 2024-07-26 00:00:00+00:00\\u003cbr\\u003eActive Users: 0\\u003cbr\\u003eUsers: 3\\u003cbr\\u003eProperties: 1\\u003cbr\\u003eEdits: 6\\u003cbr\\u003ePages: 6\",\"berLINked\\u003cbr\\u003eURL: https:\\u002f\\u002fberlinked.wikibase.cloud\\u003cbr\\u003eHost: Wikibase Cloud\\u003cbr\\u003eVersion: 1.39.7\\u003cbr\\u003eStart Date: 2022-09-28 00:00:00+00:00\\u003cbr\\u003eActive Users: 0\\u003cbr\\u003eUsers: 3\\u003cbr\\u003eProperties: 3\\u003cbr\\u003eEdits: 9\\u003cbr\\u003ePages: 6\",\"Dagbani Wikimedians\\u003cbr\\u003eURL: https:\\u002f\\u002fdagbani.wikibase.cloud\\u003cbr\\u003eHost: Wikibase Cloud\\u003cbr\\u003eVersion: 1.39.7\\u003cbr\\u003eStart Date: 2022-02-10 00:00:00+00:00\\u003cbr\\u003eActive Users: 0\\u003cbr\\u003eUsers: 4\\u003cbr\\u003eProperties: 2\\u003cbr\\u003eEdits: 22\\u003cbr\\u003ePages: 6\",\"FM test\\u003cbr\\u003eURL: https:\\u002f\\u002ffmtest.wikibase.cloud\\u003cbr\\u003eHost: Wikibase Cloud\\u003cbr\\u003eVersion: 1.39.7\\u003cbr\\u003eStart Date: 2022-10-04 00:00:00+00:00\\u003cbr\\u003eActive Users: 0\\u003cbr\\u003eUsers: 2\\u003cbr\\u003eProperties: 4\\u003cbr\\u003eEdits: 9\\u003cbr\\u003ePages: 6\",\"Flexablemedia\\u003cbr\\u003eURL: https:\\u002f\\u002fflexablemedia.wikibase.cloud\\u003cbr\\u003eHost: Wikibase Cloud\\u003cbr\\u003eVersion: 1.39.7\\u003cbr\\u003eStart Date: 2023-09-12 00:00:00+00:00\\u003cbr\\u003eActive Users: 0\\u003cbr\\u003eUsers: 3\\u003cbr\\u003eProperties: 3\\u003cbr\\u003eEdits: 6\\u003cbr\\u003ePages: 6\",\"ayas Library\\u003cbr\\u003eURL: https:\\u002f\\u002fayaslibrary.wikibase.cloud\\u003cbr\\u003eHost: Wikibase Cloud\\u003cbr\\u003eVersion: 1.39.7\\u003cbr\\u003eStart Date: 2023-09-13 00:00:00+00:00\\u003cbr\\u003eActive Users: 0\\u003cbr\\u003eUsers: 2\\u003cbr\\u003eProperties: 4\\u003cbr\\u003eEdits: 9\\u003cbr\\u003ePages: 6\",\"MG WIKI\\u003cbr\\u003eURL: https:\\u002f\\u002fgalal.wikibase.cloud\\u003cbr\\u003eHost: Wikibase Cloud\\u003cbr\\u003eVersion: 1.39.7\\u003cbr\\u003eStart Date: 2024-04-27 00:00:00+00:00\\u003cbr\\u003eActive Users: 0\\u003cbr\\u003eUsers: 2\\u003cbr\\u003eProperties: 2\\u003cbr\\u003eEdits: 9\\u003cbr\\u003ePages: 6\",\"Eberechukwu\\u003cbr\\u003eURL: https:\\u002f\\u002fedith.wikibase.cloud\\u003cbr\\u003eHost: Wikibase Cloud\\u003cbr\\u003eVersion: 1.39.7\\u003cbr\\u003eStart Date: 2023-09-13 00:00:00+00:00\\u003cbr\\u003eActive Users: 0\\u003cbr\\u003eUsers: 2\\u003cbr\\u003eProperties: 4\\u003cbr\\u003eEdits: 6\\u003cbr\\u003ePages: 6\",\"Digital Art Dissertation\\u003cbr\\u003eURL: https:\\u002f\\u002fdigital-art-database.wikibase.cloud\\u003cbr\\u003eHost: Wikibase Cloud\\u003cbr\\u003eVersion: 1.39.7\\u003cbr\\u003eStart Date: 2024-01-25 00:00:00+00:00\\u003cbr\\u003eActive Users: 0\\u003cbr\\u003eUsers: 2\\u003cbr\\u003eProperties: 3\\u003cbr\\u003eEdits: 11\\u003cbr\\u003ePages: 6\",\"Ethos Lab\\u003cbr\\u003eURL: https:\\u002f\\u002fethoslab.wikibase.cloud\\u003cbr\\u003eHost: Wikibase Cloud\\u003cbr\\u003eVersion: 1.39.7\\u003cbr\\u003eStart Date: 2024-02-04 00:00:00+00:00\\u003cbr\\u003eActive Users: 0\\u003cbr\\u003eUsers: 2\\u003cbr\\u003eProperties: 2\\u003cbr\\u003eEdits: 14\\u003cbr\\u003ePages: 6\",\"testes (on wikibase cloud)\\u003cbr\\u003eURL: https:\\u002f\\u002ftestes.wikibase.cloud\\u003cbr\\u003eHost: Wikibase Cloud\\u003cbr\\u003eVersion: 1.39.7\\u003cbr\\u003eStart Date: 2022-01-07 00:00:00+00:00\\u003cbr\\u003eActive Users: 1\\u003cbr\\u003eUsers: 4\\u003cbr\\u003eProperties: 10\\u003cbr\\u003eEdits: 45\\u003cbr\\u003ePages: 27\",\"bl-sandbox\\u003cbr\\u003eURL: https:\\u002f\\u002fbl-sandbox.wikibase.cloud\\u003cbr\\u003eHost: Wikibase Cloud\\u003cbr\\u003eVersion: 1.39.7\\u003cbr\\u003eStart Date: 2022-02-21 00:00:00+00:00\\u003cbr\\u003eActive Users: 0\\u003cbr\\u003eUsers: 3\\u003cbr\\u003eProperties: 1\\u003cbr\\u003eEdits: 8\\u003cbr\\u003ePages: 6\",\"Astrology\\u003cbr\\u003eURL: https:\\u002f\\u002fastrology.wikibase.cloud\\u003cbr\\u003eHost: Wikibase Cloud\\u003cbr\\u003eVersion: 1.39.7\\u003cbr\\u003eStart Date: 2023-11-01 00:00:00+00:00\\u003cbr\\u003eActive Users: 0\\u003cbr\\u003eUsers: 2\\u003cbr\\u003eProperties: 3\\u003cbr\\u003eEdits: 9\\u003cbr\\u003ePages: 6\",\"MathModDB\\u003cbr\\u003eURL: https:\\u002f\\u002fmathmoddb.wikibase.cloud\\u003cbr\\u003eHost: Wikibase Cloud\\u003cbr\\u003eVersion: 1.39.7\\u003cbr\\u003eStart Date: 2023-11-10 00:00:00+00:00\\u003cbr\\u003eActive Users: 0\\u003cbr\\u003eUsers: 3\\u003cbr\\u003eProperties: 1\\u003cbr\\u003eEdits: 8\\u003cbr\\u003ePages: 6\",\"data-el\\u003cbr\\u003eURL: https:\\u002f\\u002ftest789987.wikibase.cloud\\u003cbr\\u003eHost: Wikibase Cloud\\u003cbr\\u003eVersion: 1.39.7\\u003cbr\\u003eStart Date: 2024-06-07 00:00:00+00:00\\u003cbr\\u003eActive Users: 0\\u003cbr\\u003eUsers: 3\\u003cbr\\u003eProperties: 4\\u003cbr\\u003eEdits: 9\\u003cbr\\u003ePages: 6\",\"unimath\\u003cbr\\u003eURL: https:\\u002f\\u002funimath.wikibase.cloud\\u003cbr\\u003eHost: Wikibase Cloud\\u003cbr\\u003eVersion: 1.39.7\\u003cbr\\u003eStart Date: 2024-06-21 00:00:00+00:00\\u003cbr\\u003eActive Users: 0\\u003cbr\\u003eUsers: 2\\u003cbr\\u003eProperties: 2\\u003cbr\\u003eEdits: 12\\u003cbr\\u003ePages: 6\",\"tom-prod-test-a23sc\\u003cbr\\u003eURL: https:\\u002f\\u002ftom-prod-test-a23sc.wikibase.cloud\\u003cbr\\u003eHost: Wikibase Cloud\\u003cbr\\u003eVersion: 1.39.7\\u003cbr\\u003eStart Date: 2022-02-01 00:00:00+00:00\\u003cbr\\u003eActive Users: 0\\u003cbr\\u003eUsers: 2\\u003cbr\\u003eProperties: 1\\u003cbr\\u003eEdits: 7\\u003cbr\\u003ePages: 5\",\"my-mtg-collection\\u003cbr\\u003eURL: https:\\u002f\\u002faj-mtg-collection.wikibase.cloud\\u003cbr\\u003eHost: Wikibase Cloud\\u003cbr\\u003eVersion: 1.39.7\\u003cbr\\u003eStart Date: 2024-07-07 00:00:00+00:00\\u003cbr\\u003eActive Users: 0\\u003cbr\\u003eUsers: 2\\u003cbr\\u003eProperties: 1\\u003cbr\\u003eEdits: 5\\u003cbr\\u003ePages: 5\",\"personal wiki\\u003cbr\\u003eURL: https:\\u002f\\u002fcougarcat.wikibase.cloud\\u003cbr\\u003eHost: Wikibase Cloud\\u003cbr\\u003eVersion: 1.39.7\\u003cbr\\u003eStart Date: 2023-12-24 00:00:00+00:00\\u003cbr\\u003eActive Users: 0\\u003cbr\\u003eUsers: 2\\u003cbr\\u003eProperties: 2\\u003cbr\\u003eEdits: 9\\u003cbr\\u003ePages: 5\",\"Software Packages\\u003cbr\\u003eURL: https:\\u002f\\u002fpackages.wikibase.cloud\\u003cbr\\u003eHost: Wikibase Cloud\\u003cbr\\u003eVersion: 1.39.7\\u003cbr\\u003eStart Date: 2024-04-15 00:00:00+00:00\\u003cbr\\u003eActive Users: 0\\u003cbr\\u003eUsers: 2\\u003cbr\\u003eProperties: 2\\u003cbr\\u003eEdits: 6\\u003cbr\\u003ePages: 5\",\"HKBU Library Art Collections\\u003cbr\\u003eURL: https:\\u002f\\u002fhkbu-library-art-collections.wikibase.cloud\\u003cbr\\u003eHost: Wikibase Cloud\\u003cbr\\u003eVersion: 1.39.7\\u003cbr\\u003eStart Date: 2023-08-11 00:00:00+00:00\\u003cbr\\u003eActive Users: 0\\u003cbr\\u003eUsers: 4\\u003cbr\\u003eProperties: 3\\u003cbr\\u003eEdits: 8\\u003cbr\\u003ePages: 5\",\"\\u7535\\u5b50\\u77e5\\u8bc6\\u003cbr\\u003eURL: https:\\u002f\\u002feezhishi.wikibase.cloud\\u003cbr\\u003eHost: Wikibase Cloud\\u003cbr\\u003eVersion: 1.39.7\\u003cbr\\u003eStart Date: 2024-04-29 00:00:00+00:00\\u003cbr\\u003eActive Users: 0\\u003cbr\\u003eUsers: 2\\u003cbr\\u003eProperties: 1\\u003cbr\\u003eEdits: 8\\u003cbr\\u003ePages: 5\",\"nochallengingcharactersatall\\u003cbr\\u003eURL: https:\\u002f\\u002fnochallengingcharactersatall.wikibase.cloud\\u003cbr\\u003eHost: Wikibase Cloud\\u003cbr\\u003eVersion: 1.39.7\\u003cbr\\u003eStart Date: 2023-01-06 00:00:00+00:00\\u003cbr\\u003eActive Users: 0\\u003cbr\\u003eUsers: 2\\u003cbr\\u003eProperties: 3\\u003cbr\\u003eEdits: 7\\u003cbr\\u003ePages: 5\",\"heuristic\\u003cbr\\u003eURL: https:\\u002f\\u002fwei-cheng.wikibase.cloud\\u003cbr\\u003eHost: Wikibase Cloud\\u003cbr\\u003eVersion: 1.39.7\\u003cbr\\u003eStart Date: 2022-11-16 00:00:00+00:00\\u003cbr\\u003eActive Users: 0\\u003cbr\\u003eUsers: 4\\u003cbr\\u003eProperties: 1\\u003cbr\\u003eEdits: 9\\u003cbr\\u003ePages: 5\",\"Local Government Data Testing\\u003cbr\\u003eURL: https:\\u002f\\u002flwhos2ociu-somegovdata.wikibase.cloud\\u003cbr\\u003eHost: Wikibase Cloud\\u003cbr\\u003eVersion: 1.39.7\\u003cbr\\u003eStart Date: 2024-09-02 00:00:00+00:00\\u003cbr\\u003eActive Users: 0\\u003cbr\\u003eUsers: 2\\u003cbr\\u003eProperties: 3\\u003cbr\\u003eEdits: 5\\u003cbr\\u003ePages: 5\",\"pika2pedia\\u003cbr\\u003eURL: https:\\u002f\\u002fpika2pedia.wikibase.cloud\\u003cbr\\u003eHost: Wikibase Cloud\\u003cbr\\u003eVersion: 1.39.7\\u003cbr\\u003eStart Date: 2023-11-08 00:00:00+00:00\\u003cbr\\u003eActive Users: 0\\u003cbr\\u003eUsers: 2\\u003cbr\\u003eProperties: 2\\u003cbr\\u003eEdits: 7\\u003cbr\\u003ePages: 5\",\"Vihreiden ohjelmat\\u003cbr\\u003eURL: https:\\u002f\\u002fvihreat-ohjelmat.wikibase.cloud\\u003cbr\\u003eHost: Wikibase Cloud\\u003cbr\\u003eVersion: 1.39.7\\u003cbr\\u003eStart Date: 2024-06-15 00:00:00+00:00\\u003cbr\\u003eActive Users: 0\\u003cbr\\u003eUsers: 2\\u003cbr\\u003eProperties: 1\\u003cbr\\u003eEdits: 6\\u003cbr\\u003ePages: 5\",\"mw138test\\u003cbr\\u003eURL: https:\\u002f\\u002fmw138test.wikibase.cloud\\u003cbr\\u003eHost: Wikibase Cloud\\u003cbr\\u003eVersion: 1.39.7\\u003cbr\\u003eStart Date: 2023-03-23 00:00:00+00:00\\u003cbr\\u003eActive Users: 0\\u003cbr\\u003eUsers: 2\\u003cbr\\u003eProperties: 1\\u003cbr\\u003eEdits: 6\\u003cbr\\u003ePages: 5\",\"wmde-jan-01_testwiki2\\u003cbr\\u003eURL: https:\\u002f\\u002fwmde-jan-01-testwiki2.wikibase.cloud\\u003cbr\\u003eHost: Wikibase Cloud\\u003cbr\\u003eVersion: 1.39.7\\u003cbr\\u003eStart Date: 2022-04-12 00:00:00+00:00\\u003cbr\\u003eActive Users: 0\\u003cbr\\u003eUsers: 2\\u003cbr\\u003eProperties: 2\\u003cbr\\u003eEdits: 9\\u003cbr\\u003ePages: 4\",\"Digikim Test\\u003cbr\\u003eURL: https:\\u002f\\u002fdigikim-test.wikibase.cloud\\u003cbr\\u003eHost: Wikibase Cloud\\u003cbr\\u003eVersion: 1.39.7\\u003cbr\\u003eStart Date: 2023-07-02 00:00:00+00:00\\u003cbr\\u003eActive Users: 0\\u003cbr\\u003eUsers: 2\\u003cbr\\u003eProperties: 1\\u003cbr\\u003eEdits: 5\\u003cbr\\u003ePages: 4\",\"RuArxive\\u003cbr\\u003eURL: https:\\u002f\\u002frugovdomains.wikibase.cloud\\u003cbr\\u003eHost: Wikibase Cloud\\u003cbr\\u003eVersion: 1.39.7\\u003cbr\\u003eStart Date: 2023-12-15 00:00:00+00:00\\u003cbr\\u003eActive Users: 0\\u003cbr\\u003eUsers: 2\\u003cbr\\u003eProperties: 3\\u003cbr\\u003eEdits: 11\\u003cbr\\u003ePages: 4\",\"North Carolina Gazetteer\\u003cbr\\u003eURL: https:\\u002f\\u002fnorth-carolina-gazetteer.wikibase.cloud\\u003cbr\\u003eHost: Wikibase Cloud\\u003cbr\\u003eVersion: 1.39.7\\u003cbr\\u003eStart Date: 2022-09-15 00:00:00+00:00\\u003cbr\\u003eActive Users: 0\\u003cbr\\u003eUsers: 2\\u003cbr\\u003eProperties: 1\\u003cbr\\u003eEdits: 5\\u003cbr\\u003ePages: 4\",\"Vaarwegennet NL\\u003cbr\\u003eURL: https:\\u002f\\u002fvaarwegennet.wikibase.cloud\\u003cbr\\u003eHost: Wikibase Cloud\\u003cbr\\u003eVersion: 1.39.7\\u003cbr\\u003eStart Date: 2024-04-05 00:00:00+00:00\\u003cbr\\u003eActive Users: 0\\u003cbr\\u003eUsers: 2\\u003cbr\\u003eProperties: 1\\u003cbr\\u003eEdits: 5\\u003cbr\\u003ePages: 4\",\"Open English WordNet\\u003cbr\\u003eURL: https:\\u002f\\u002fopen-english-wordnet.wikibase.cloud\\u003cbr\\u003eHost: Wikibase Cloud\\u003cbr\\u003eVersion: 1.39.7\\u003cbr\\u003eStart Date: 2024-01-16 00:00:00+00:00\\u003cbr\\u003eActive Users: 0\\u003cbr\\u003eUsers: 2\\u003cbr\\u003eProperties: 2\\u003cbr\\u003eEdits: 5\\u003cbr\\u003ePages: 4\",\"Provenance\\u003cbr\\u003eURL: https:\\u002f\\u002fprovenance.wikibase.cloud\\u003cbr\\u003eHost: Wikibase Cloud\\u003cbr\\u003eVersion: 1.39.7\\u003cbr\\u003eStart Date: 2024-01-13 00:00:00+00:00\\u003cbr\\u003eActive Users: 0\\u003cbr\\u003eUsers: 2\\u003cbr\\u003eProperties: 2\\u003cbr\\u003eEdits: 8\\u003cbr\\u003ePages: 4\",\"Talmudic collections test\\u003cbr\\u003eURL: https:\\u002f\\u002ftry-collection.wikibase.cloud\\u003cbr\\u003eHost: Wikibase Cloud\\u003cbr\\u003eVersion: 1.39.7\\u003cbr\\u003eStart Date: 2024-08-26 00:00:00+00:00\\u003cbr\\u003eActive Users: 0\\u003cbr\\u003eUsers: 3\\u003cbr\\u003eProperties: 1\\u003cbr\\u003eEdits: 4\\u003cbr\\u003ePages: 4\",\"Test\\u003cbr\\u003eURL: https:\\u002f\\u002fqwe-test.wikibase.cloud\\u003cbr\\u003eHost: Wikibase Cloud\\u003cbr\\u003eVersion: 1.39.7\\u003cbr\\u003eStart Date: 2024-05-15 00:00:00+00:00\\u003cbr\\u003eActive Users: 0\\u003cbr\\u003eUsers: 2\\u003cbr\\u003eProperties: 2\\u003cbr\\u003eEdits: 9\\u003cbr\\u003ePages: 4\",\"LCA-Test\\u003cbr\\u003eURL: https:\\u002f\\u002ftest-lcc.wikibase.cloud\\u003cbr\\u003eHost: Wikibase Cloud\\u003cbr\\u003eVersion: 1.39.7\\u003cbr\\u003eStart Date: 2022-12-17 00:00:00+00:00\\u003cbr\\u003eActive Users: 0\\u003cbr\\u003eUsers: 2\\u003cbr\\u003eProperties: 2\\u003cbr\\u003eEdits: 7\\u003cbr\\u003ePages: 4\",\"CPS2\\u003cbr\\u003eURL: https:\\u002f\\u002fcps2-masters.wikibase.cloud\\u003cbr\\u003eHost: Wikibase Cloud\\u003cbr\\u003eVersion: 1.39.7\\u003cbr\\u003eStart Date: 2023-02-10 00:00:00+00:00\\u003cbr\\u003eActive Users: 0\\u003cbr\\u003eUsers: 2\\u003cbr\\u003eProperties: 1\\u003cbr\\u003eEdits: 6\\u003cbr\\u003ePages: 4\",\"Cat collective v2\\u003cbr\\u003eURL: https:\\u002f\\u002fcat-collective2.wikibase.cloud\\u003cbr\\u003eHost: Wikibase Cloud\\u003cbr\\u003eVersion: 1.39.7\\u003cbr\\u003eStart Date: 2021-01-15 00:00:00+00:00\\u003cbr\\u003eActive Users: 0\\u003cbr\\u003eUsers: 2\\u003cbr\\u003eProperties: 1\\u003cbr\\u003eEdits: 8\\u003cbr\\u003ePages: 4\",\"EjemploCurso\\u003cbr\\u003eURL: https:\\u002f\\u002fwebsemanticmiw2020.wikibase.cloud\\u003cbr\\u003eHost: Wikibase Cloud\\u003cbr\\u003eVersion: 1.39.7\\u003cbr\\u003eStart Date: 2020-05-14 00:00:00+00:00\\u003cbr\\u003eActive Users: 0\\u003cbr\\u003eUsers: 3\\u003cbr\\u003eProperties: 1\\u003cbr\\u003eEdits: 5\\u003cbr\\u003ePages: 4\",\"Star Wars Structured Data\\u003cbr\\u003eURL: https:\\u002f\\u002fsw-data.wikibase.cloud\\u003cbr\\u003eHost: Wikibase Cloud\\u003cbr\\u003eVersion: 1.39.7\\u003cbr\\u003eStart Date: 2024-05-22 00:00:00+00:00\\u003cbr\\u003eActive Users: 0\\u003cbr\\u003eUsers: 2\\u003cbr\\u003eProperties: 1\\u003cbr\\u003eEdits: 16\\u003cbr\\u003ePages: 4\",\"Internationaler Sozialistischer Kampfbund - Testsite\\u003cbr\\u003eURL: https:\\u002f\\u002finternationaler-sozialistischer-kampfbund-test.wikibase.cloud\\u003cbr\\u003eHost: Wikibase Cloud\\u003cbr\\u003eVersion: 1.39.7\\u003cbr\\u003eStart Date: 2023-02-27 00:00:00+00:00\\u003cbr\\u003eActive Users: 0\\u003cbr\\u003eUsers: 2\\u003cbr\\u003eProperties: 1\\u003cbr\\u003eEdits: 4\\u003cbr\\u003ePages: 4\",\"Order of Battle\\u003cbr\\u003eURL: https:\\u002f\\u002fcivil-war-order-of-battle-online.wikibase.cloud\\u003cbr\\u003eHost: Wikibase Cloud\\u003cbr\\u003eVersion: 1.39.7\\u003cbr\\u003eStart Date: 2024-06-09 00:00:00+00:00\\u003cbr\\u003eActive Users: 0\\u003cbr\\u003eUsers: 2\\u003cbr\\u003eProperties: 1\\u003cbr\\u003eEdits: 4\\u003cbr\\u003ePages: 4\",\"Catalogus Professorum UU\\u003cbr\\u003eURL: https:\\u002f\\u002fcatalogusprofessorumuu.wikibase.cloud\\u003cbr\\u003eHost: Wikibase Cloud\\u003cbr\\u003eVersion: 1.39.7\\u003cbr\\u003eStart Date: 2023-11-04 00:00:00+00:00\\u003cbr\\u003eActive Users: 7\\u003cbr\\u003eUsers: 9\\u003cbr\\u003eProperties: 30\\u003cbr\\u003eEdits: 102\\u003cbr\\u003ePages: 32\",\"sandbox\\u003cbr\\u003eURL: https:\\u002f\\u002fbgsand.wikibase.cloud\\u003cbr\\u003eHost: Wikibase Cloud\\u003cbr\\u003eVersion: 1.39.7\\u003cbr\\u003eStart Date: 2024-03-27 00:00:00+00:00\\u003cbr\\u003eActive Users: 0\\u003cbr\\u003eUsers: 2\\u003cbr\\u003eProperties: 2\\u003cbr\\u003eEdits: 5\\u003cbr\\u003ePages: 3\",\"Ludovico\\u003cbr\\u003eURL: https:\\u002f\\u002fludovico.wikibase.cloud\\u003cbr\\u003eHost: Wikibase Cloud\\u003cbr\\u003eVersion: 1.39.7\\u003cbr\\u003eStart Date: 2023-11-18 00:00:00+00:00\\u003cbr\\u003eActive Users: 0\\u003cbr\\u003eUsers: 2\\u003cbr\\u003eProperties: 2\\u003cbr\\u003eEdits: 7\\u003cbr\\u003ePages: 4\",\"CuratingData\\u003cbr\\u003eURL: https:\\u002f\\u002fcuratingdata.wikibase.cloud\\u003cbr\\u003eHost: Wikibase Cloud\\u003cbr\\u003eVersion: 1.39.7\\u003cbr\\u003eStart Date: 2024-06-28 00:00:00+00:00\\u003cbr\\u003eActive Users: 0\\u003cbr\\u003eUsers: 3\\u003cbr\\u003eProperties: 1\\u003cbr\\u003eEdits: 14\\u003cbr\\u003ePages: 4\",\"RefWiki\\u003cbr\\u003eURL: https:\\u002f\\u002frefwiki.wikibase.cloud\\u003cbr\\u003eHost: Wikibase Cloud\\u003cbr\\u003eVersion: 1.39.7\\u003cbr\\u003eStart Date: 2023-06-28 00:00:00+00:00\\u003cbr\\u003eActive Users: 0\\u003cbr\\u003eUsers: 2\\u003cbr\\u003eProperties: 3\\u003cbr\\u003eEdits: 7\\u003cbr\\u003ePages: 3\",\"test-bd\\u003cbr\\u003eURL: https:\\u002f\\u002fbdwiki.wikibase.cloud\\u003cbr\\u003eHost: Wikibase Cloud\\u003cbr\\u003eVersion: 1.39.7\\u003cbr\\u003eStart Date: 2023-07-15 00:00:00+00:00\\u003cbr\\u003eActive Users: 0\\u003cbr\\u003eUsers: 2\\u003cbr\\u003eProperties: 1\\u003cbr\\u003eEdits: 4\\u003cbr\\u003ePages: 3\",\"Bootsa - Stream\\u003cbr\\u003eURL: https:\\u002f\\u002fstream.bootsa.net\\u003cbr\\u003eHost: Wikibase Cloud\\u003cbr\\u003eVersion: 1.39.7\\u003cbr\\u003eStart Date: 2022-09-30 00:00:00+00:00\\u003cbr\\u003eActive Users: 0\\u003cbr\\u003eUsers: 2\\u003cbr\\u003eProperties: 2\\u003cbr\\u003eEdits: 4\\u003cbr\\u003ePages: 3\",\"Datos\\u003cbr\\u003eURL: https:\\u002f\\u002fdatos-algort.wikibase.cloud\\u003cbr\\u003eHost: Wikibase Cloud\\u003cbr\\u003eVersion: 1.39.7\\u003cbr\\u003eStart Date: 2024-07-29 00:00:00+00:00\\u003cbr\\u003eActive Users: 0\\u003cbr\\u003eUsers: 2\\u003cbr\\u003eProperties: 1\\u003cbr\\u003eEdits: 3\\u003cbr\\u003ePages: 3\",\"Leosini\\u003cbr\\u003eURL: https:\\u002f\\u002fleosini.wikibase.cloud\\u003cbr\\u003eHost: Wikibase Cloud\\u003cbr\\u003eVersion: 1.39.7\\u003cbr\\u003eStart Date: 2024-07-30 00:00:00+00:00\\u003cbr\\u003eActive Users: 1\\u003cbr\\u003eUsers: 2\\u003cbr\\u003eProperties: 10\\u003cbr\\u003eEdits: 20\\u003cbr\\u003ePages: 14\",\"AM-Test\\u003cbr\\u003eURL: https:\\u002f\\u002fam-test.wikibase.cloud\\u003cbr\\u003eHost: Wikibase Cloud\\u003cbr\\u003eVersion: 1.39.7\\u003cbr\\u003eStart Date: 2023-09-07 00:00:00+00:00\\u003cbr\\u003eActive Users: 0\\u003cbr\\u003eUsers: 2\\u003cbr\\u003eProperties: 1\\u003cbr\\u003eEdits: 3\\u003cbr\\u003ePages: 3\",\"Cooperative Directory\\u003cbr\\u003eURL: https:\\u002f\\u002fcooperatives.wikibase.cloud\\u003cbr\\u003eHost: Wikibase Cloud\\u003cbr\\u003eVersion: 1.39.7\\u003cbr\\u003eStart Date: 2022-10-04 00:00:00+00:00\\u003cbr\\u003eActive Users: 0\\u003cbr\\u003eUsers: 2\\u003cbr\\u003eProperties: 1\\u003cbr\\u003eEdits: 6\\u003cbr\\u003ePages: 3\",\"FMtest 2\\u003cbr\\u003eURL: https:\\u002f\\u002ffmtest2.wikibase.cloud\\u003cbr\\u003eHost: Wikibase Cloud\\u003cbr\\u003eVersion: 1.39.7\\u003cbr\\u003eStart Date: 2022-10-04 00:00:00+00:00\\u003cbr\\u003eActive Users: 0\\u003cbr\\u003eUsers: 2\\u003cbr\\u003eProperties: 2\\u003cbr\\u003eEdits: 4\\u003cbr\\u003ePages: 3\",\"Vintergatan\\u003cbr\\u003eURL: https:\\u002f\\u002fvintergatan.wikibase.cloud\\u003cbr\\u003eHost: Wikibase Cloud\\u003cbr\\u003eVersion: 1.39.7\\u003cbr\\u003eStart Date: 2024-01-18 00:00:00+00:00\\u003cbr\\u003eActive Users: 0\\u003cbr\\u003eUsers: 2\\u003cbr\\u003eProperties: 1\\u003cbr\\u003eEdits: 5\\u003cbr\\u003ePages: 3\",\"frederikwiki\\u003cbr\\u003eURL: https:\\u002f\\u002ffrederikwiki.wikibase.cloud\\u003cbr\\u003eHost: Wikibase Cloud\\u003cbr\\u003eVersion: 1.39.7\\u003cbr\\u003eStart Date: 2022-11-10 00:00:00+00:00\\u003cbr\\u003eActive Users: 0\\u003cbr\\u003eUsers: 2\\u003cbr\\u003eProperties: 1\\u003cbr\\u003eEdits: 4\\u003cbr\\u003ePages: 3\",\"dimisa\\u003cbr\\u003eURL: https:\\u002f\\u002fdimisa.wikibase.cloud\\u003cbr\\u003eHost: Wikibase Cloud\\u003cbr\\u003eVersion: 1.39.7\\u003cbr\\u003eStart Date: 2020-01-23 00:00:00+00:00\\u003cbr\\u003eActive Users: 0\\u003cbr\\u003eUsers: 3\\u003cbr\\u003eProperties: 1\\u003cbr\\u003eEdits: 4\\u003cbr\\u003ePages: 3\",\"Addshore\\u003cbr\\u003eURL: https:\\u002f\\u002faddshore.wikibase.cloud\\u003cbr\\u003eHost: Wikibase Cloud\\u003cbr\\u003eVersion: 1.39.7\\u003cbr\\u003eStart Date: 2022-05-31 00:00:00+00:00\\u003cbr\\u003eActive Users: 0\\u003cbr\\u003eUsers: 2\\u003cbr\\u003eProperties: 1\\u003cbr\\u003eEdits: 9\\u003cbr\\u003ePages: 3\",\"wikishape\\u003cbr\\u003eURL: https:\\u002f\\u002fwikishape.wikibase.cloud\\u003cbr\\u003eHost: Wikibase Cloud\\u003cbr\\u003eVersion: 1.39.7\\u003cbr\\u003eStart Date: 2020-01-04 00:00:00+00:00\\u003cbr\\u003eActive Users: 0\\u003cbr\\u003eUsers: 3\\u003cbr\\u003eProperties: 1\\u003cbr\\u003eEdits: 3\\u003cbr\\u003ePages: 3\",\"Hackathon test instance\\u003cbr\\u003eURL: https:\\u002f\\u002fhackathon-test-instance.wikibase.cloud\\u003cbr\\u003eHost: Wikibase Cloud\\u003cbr\\u003eVersion: 1.39.7\\u003cbr\\u003eStart Date: 2023-05-19 00:00:00+00:00\\u003cbr\\u003eActive Users: 0\\u003cbr\\u003eUsers: 2\\u003cbr\\u003eProperties: 1\\u003cbr\\u003eEdits: 4\\u003cbr\\u003ePages: 3\",\"autoriteter\\u003cbr\\u003eURL: https:\\u002f\\u002fautoriteter.wikibase.cloud\\u003cbr\\u003eHost: Wikibase Cloud\\u003cbr\\u003eVersion: 1.39.7\\u003cbr\\u003eStart Date: 2023-09-19 00:00:00+00:00\\u003cbr\\u003eActive Users: 0\\u003cbr\\u003eUsers: 3\\u003cbr\\u003eProperties: 2\\u003cbr\\u003eEdits: 9\\u003cbr\\u003ePages: 3\",\"WASHNote sandbox\\u003cbr\\u003eURL: https:\\u002f\\u002fregistry-sandbox.washnote.org\\u003cbr\\u003eHost: Wikibase Cloud\\u003cbr\\u003eVersion: 1.39.7\\u003cbr\\u003eStart Date: 2023-11-27 00:00:00+00:00\\u003cbr\\u003eActive Users: 0\\u003cbr\\u003eUsers: 2\\u003cbr\\u003eProperties: 2\\u003cbr\\u003eEdits: 6\\u003cbr\\u003ePages: 3\",\"wiki1\\u003cbr\\u003eURL: https:\\u002f\\u002fwiki1.wikibase.cloud\\u003cbr\\u003eHost: Wikibase Cloud\\u003cbr\\u003eVersion: 1.39.7\\u003cbr\\u003eStart Date: 2024-02-03 00:00:00+00:00\\u003cbr\\u003eActive Users: 0\\u003cbr\\u003eUsers: 2\\u003cbr\\u003eProperties: 1\\u003cbr\\u003eEdits: 3\\u003cbr\\u003ePages: 3\",\"RCnum\\u003cbr\\u003eURL: https:\\u002f\\u002frcnum.wikibase.cloud\\u003cbr\\u003eHost: Wikibase Cloud\\u003cbr\\u003eVersion: 1.39.7\\u003cbr\\u003eStart Date: 2024-02-08 00:00:00+00:00\\u003cbr\\u003eActive Users: 0\\u003cbr\\u003eUsers: 3\\u003cbr\\u003eProperties: 1\\u003cbr\\u003eEdits: 4\\u003cbr\\u003ePages: 3\",\"backgrounds\\u003cbr\\u003eURL: https:\\u002f\\u002fbiblebackgrounds.wikibase.cloud\\u003cbr\\u003eHost: Wikibase Cloud\\u003cbr\\u003eVersion: 1.39.7\\u003cbr\\u003eStart Date: 2024-03-03 00:00:00+00:00\\u003cbr\\u003eActive Users: 0\\u003cbr\\u003eUsers: 2\\u003cbr\\u003eProperties: 2\\u003cbr\\u003eEdits: 9\\u003cbr\\u003ePages: 3\",\"TopHeroes\\u003cbr\\u003eURL: https:\\u002f\\u002ftopheroes.wikibase.cloud\\u003cbr\\u003eHost: Wikibase Cloud\\u003cbr\\u003eVersion: 1.39.7\\u003cbr\\u003eStart Date: 2024-03-18 00:00:00+00:00\\u003cbr\\u003eActive Users: 0\\u003cbr\\u003eUsers: 2\\u003cbr\\u003eProperties: 1\\u003cbr\\u003eEdits: 6\\u003cbr\\u003ePages: 3\",\"McDonald\\u003cbr\\u003eURL: https:\\u002f\\u002fmcdonald.wikibase.cloud\\u003cbr\\u003eHost: Wikibase Cloud\\u003cbr\\u003eVersion: 1.39.7\\u003cbr\\u003eStart Date: 2024-05-15 00:00:00+00:00\\u003cbr\\u003eActive Users: 0\\u003cbr\\u003eUsers: 2\\u003cbr\\u003eProperties: 1\\u003cbr\\u003eEdits: 3\\u003cbr\\u003ePages: 3\",\"Pepe piton's base\\u003cbr\\u003eURL: https:\\u002f\\u002fpepepiton.wikibase.cloud\\u003cbr\\u003eHost: Wikibase Cloud\\u003cbr\\u003eVersion: 1.39.7\\u003cbr\\u003eStart Date: 2024-05-28 00:00:00+00:00\\u003cbr\\u003eActive Users: 0\\u003cbr\\u003eUsers: 2\\u003cbr\\u003eProperties: 1\\u003cbr\\u003eEdits: 8\\u003cbr\\u003ePages: 3\",\"Metal Ham\\u003cbr\\u003eURL: https:\\u002f\\u002fmeetalham.wikibase.cloud\\u003cbr\\u003eHost: Wikibase Cloud\\u003cbr\\u003eVersion: 1.39.7\\u003cbr\\u003eStart Date: 2024-05-28 00:00:00+00:00\\u003cbr\\u003eActive Users: 0\\u003cbr\\u003eUsers: 2\\u003cbr\\u003eProperties: 1\\u003cbr\\u003eEdits: 4\\u003cbr\\u003ePages: 3\",\"Language Digital Vitality\\u003cbr\\u003eURL: https:\\u002f\\u002flanguagedigitalvitality.wikibase.cloud\\u003cbr\\u003eHost: Wikibase Cloud\\u003cbr\\u003eVersion: 1.39.7\\u003cbr\\u003eStart Date: 2024-05-30 00:00:00+00:00\\u003cbr\\u003eActive Users: 0\\u003cbr\\u003eUsers: 2\\u003cbr\\u003eProperties: 1\\u003cbr\\u003eEdits: 5\\u003cbr\\u003ePages: 3\",\"Genewiki\\u003cbr\\u003eURL: https:\\u002f\\u002fgenewiki.wikibase.cloud\\u003cbr\\u003eHost: Wikibase Cloud\\u003cbr\\u003eVersion: 1.39.7\\u003cbr\\u003eStart Date: 2024-05-31 00:00:00+00:00\\u003cbr\\u003eActive Users: 0\\u003cbr\\u003eUsers: 2\\u003cbr\\u003eProperties: 1\\u003cbr\\u003eEdits: 3\\u003cbr\\u003ePages: 3\",\"testsite (on wikibase.cloud)\\u003cbr\\u003eURL: https:\\u002f\\u002ftestsite.wikibase.cloud\\u003cbr\\u003eHost: Wikibase Cloud\\u003cbr\\u003eVersion: 1.39.7\\u003cbr\\u003eStart Date: 2024-06-06 00:00:00+00:00\\u003cbr\\u003eActive Users: 0\\u003cbr\\u003eUsers: 2\\u003cbr\\u003eProperties: 1\\u003cbr\\u003eEdits: 4\\u003cbr\\u003ePages: 3\",\"yfwiki\\u003cbr\\u003eURL: https:\\u002f\\u002fyinfei-wiki.wikibase.cloud\\u003cbr\\u003eHost: Wikibase Cloud\\u003cbr\\u003eVersion: 1.39.7\\u003cbr\\u003eStart Date: 2024-06-12 00:00:00+00:00\\u003cbr\\u003eActive Users: 0\\u003cbr\\u003eUsers: 2\\u003cbr\\u003eProperties: 1\\u003cbr\\u003eEdits: 8\\u003cbr\\u003ePages: 3\",\"test1a\\u003cbr\\u003eURL: https:\\u002f\\u002ftest1a.wikibase.cloud\\u003cbr\\u003eHost: Wikibase Cloud\\u003cbr\\u003eVersion: 1.39.7\\u003cbr\\u003eStart Date: 2024-06-14 00:00:00+00:00\\u003cbr\\u003eActive Users: 0\\u003cbr\\u003eUsers: 2\\u003cbr\\u003eProperties: 1\\u003cbr\\u003eEdits: 4\\u003cbr\\u003ePages: 3\",\"here's another example\\u003cbr\\u003eURL: https:\\u002f\\u002fanother-example.wikibase.cloud\\u003cbr\\u003eHost: Wikibase Cloud\\u003cbr\\u003eVersion: 1.39.7\\u003cbr\\u003eStart Date: 2024-06-19 00:00:00+00:00\\u003cbr\\u003eActive Users: 0\\u003cbr\\u003eUsers: 5\\u003cbr\\u003eProperties: 1\\u003cbr\\u003eEdits: 3\\u003cbr\\u003ePages: 3\",\"Chinese Cabinet\\u003cbr\\u003eURL: https:\\u002f\\u002fcabinetmapping.wikibase.cloud\\u003cbr\\u003eHost: Wikibase Cloud\\u003cbr\\u003eVersion: 1.39.7\\u003cbr\\u003eStart Date: 2024-06-22 00:00:00+00:00\\u003cbr\\u003eActive Users: 0\\u003cbr\\u003eUsers: 3\\u003cbr\\u003eProperties: 1\\u003cbr\\u003eEdits: 3\\u003cbr\\u003ePages: 3\",\"Pokemon WMDE Wikibase\\u003cbr\\u003eURL: https:\\u002f\\u002fpokemon-wmde.wikibase.cloud\\u003cbr\\u003eHost: Wikibase Cloud\\u003cbr\\u003eVersion: 1.39.7\\u003cbr\\u003eStart Date: 2024-09-13 00:00:00+00:00\\u003cbr\\u003eActive Users: 0\\u003cbr\\u003eUsers: 2\\u003cbr\\u003eProperties: 1\\u003cbr\\u003eEdits: 5\\u003cbr\\u003ePages: 3\",\"rose\\u003cbr\\u003eURL: https:\\u002f\\u002frose-collection.wikibase.cloud\\u003cbr\\u003eHost: Wikibase Cloud\\u003cbr\\u003eVersion: 1.39.7\\u003cbr\\u003eStart Date: 2022-02-07 00:00:00+00:00\\u003cbr\\u003eActive Users: 0\\u003cbr\\u003eUsers: 4\\u003cbr\\u003eProperties: 1\\u003cbr\\u003eEdits: 2\\u003cbr\\u003ePages: 2\",\"MANDB Playground\\u003cbr\\u003eURL: https:\\u002f\\u002fmandb-playground.wikibase.cloud\\u003cbr\\u003eHost: Wikibase Cloud\\u003cbr\\u003eVersion: 1.39.7\\u003cbr\\u003eStart Date: 2023-06-23 00:00:00+00:00\\u003cbr\\u003eActive Users: 0\\u003cbr\\u003eUsers: 2\\u003cbr\\u003eProperties: 1\\u003cbr\\u003eEdits: 2\\u003cbr\\u003ePages: 2\",\"index\\u003cbr\\u003eURL: https:\\u002f\\u002fcatalog.grafton9.net\\u003cbr\\u003eHost: Wikibase Cloud\\u003cbr\\u003eVersion: 1.39.7\\u003cbr\\u003eStart Date: 2023-08-28 00:00:00+00:00\\u003cbr\\u003eActive Users: 0\\u003cbr\\u003eUsers: 2\\u003cbr\\u003eProperties: 2\\u003cbr\\u003eEdits: 13\\u003cbr\\u003ePages: 2\",\"Historische Postkarten aus Niedersachsen\\u003cbr\\u003eURL: https:\\u002f\\u002fniedersaechsischepostkarten.wikibase.cloud\\u003cbr\\u003eHost: Wikibase Cloud\\u003cbr\\u003eVersion: 1.39.7\\u003cbr\\u003eStart Date: 2023-09-15 00:00:00+00:00\\u003cbr\\u003eActive Users: 0\\u003cbr\\u003eUsers: 2\\u003cbr\\u003eProperties: 1\\u003cbr\\u003eEdits: 4\\u003cbr\\u003ePages: 2\",\"KBR Luuse\\u003cbr\\u003eURL: https:\\u002f\\u002fkbr-luuse.wikibase.cloud\\u003cbr\\u003eHost: Wikibase Cloud\\u003cbr\\u003eVersion: 1.39.7\\u003cbr\\u003eStart Date: 2023-10-04 00:00:00+00:00\\u003cbr\\u003eActive Users: 0\\u003cbr\\u003eUsers: 2\\u003cbr\\u003eProperties: 1\\u003cbr\\u003eEdits: 3\\u003cbr\\u003ePages: 2\",\"register C\\u003cbr\\u003eURL: https:\\u002f\\u002fregisterc.wikibase.cloud\\u003cbr\\u003eHost: Wikibase Cloud\\u003cbr\\u003eVersion: 1.39.7\\u003cbr\\u003eStart Date: 2023-10-06 00:00:00+00:00\\u003cbr\\u003eActive Users: 0\\u003cbr\\u003eUsers: 2\\u003cbr\\u003eProperties: 1\\u003cbr\\u003eEdits: 3\\u003cbr\\u003ePages: 2\",\"bw_history\\u003cbr\\u003eURL: https:\\u002f\\u002fbw-history.wikibase.cloud\\u003cbr\\u003eHost: Wikibase Cloud\\u003cbr\\u003eVersion: 1.39.7\\u003cbr\\u003eStart Date: 2023-11-03 00:00:00+00:00\\u003cbr\\u003eActive Users: 0\\u003cbr\\u003eUsers: 2\\u003cbr\\u003eProperties: 1\\u003cbr\\u003eEdits: 4\\u003cbr\\u003ePages: 2\",\"DPLA\\u003cbr\\u003eURL: https:\\u002f\\u002fd-p-l-a.wikibase.cloud\\u003cbr\\u003eHost: Wikibase Cloud\\u003cbr\\u003eVersion: 1.39.7\\u003cbr\\u003eStart Date: 2023-11-18 00:00:00+00:00\\u003cbr\\u003eActive Users: 0\\u003cbr\\u003eUsers: 2\\u003cbr\\u003eProperties: 2\\u003cbr\\u003eEdits: 2\\u003cbr\\u003ePages: 2\",\"People's Riisearch Archive\\u003cbr\\u003eURL: https:\\u002f\\u002fpeoples-riisearch-archive.wikibase.cloud\\u003cbr\\u003eHost: Wikibase Cloud\\u003cbr\\u003eVersion: 1.39.7\\u003cbr\\u003eStart Date: 2023-11-26 00:00:00+00:00\\u003cbr\\u003eActive Users: 0\\u003cbr\\u003eUsers: 3\\u003cbr\\u003eProperties: 1\\u003cbr\\u003eEdits: 2\\u003cbr\\u003ePages: 2\",\"Colorama\\u003cbr\\u003eURL: https:\\u002f\\u002fcolorama.wikibase.cloud\\u003cbr\\u003eHost: Wikibase Cloud\\u003cbr\\u003eVersion: 1.39.7\\u003cbr\\u003eStart Date: 2023-12-18 00:00:00+00:00\\u003cbr\\u003eActive Users: 0\\u003cbr\\u003eUsers: 2\\u003cbr\\u003eProperties: 1\\u003cbr\\u003eEdits: 2\\u003cbr\\u003ePages: 2\",\"Gage Data\\u003cbr\\u003eURL: https:\\u002f\\u002fgagedata.wikibase.cloud\\u003cbr\\u003eHost: Wikibase Cloud\\u003cbr\\u003eVersion: 1.39.7\\u003cbr\\u003eStart Date: 2023-12-29 00:00:00+00:00\\u003cbr\\u003eActive Users: 0\\u003cbr\\u003eUsers: 2\\u003cbr\\u003eProperties: 1\\u003cbr\\u003eEdits: 2\\u003cbr\\u003ePages: 2\",\"tropical plants collection\\u003cbr\\u003eURL: https:\\u002f\\u002ftropicalplantscollection.wikibase.cloud\\u003cbr\\u003eHost: Wikibase Cloud\\u003cbr\\u003eVersion: 1.39.7\\u003cbr\\u003eStart Date: 2024-01-07 00:00:00+00:00\\u003cbr\\u003eActive Users: 0\\u003cbr\\u003eUsers: 2\\u003cbr\\u003eProperties: 1\\u003cbr\\u003eEdits: 2\\u003cbr\\u003ePages: 2\",\"e-quadrat\\u003cbr\\u003eURL: https:\\u002f\\u002fe-quadrat.wikibase.cloud\\u003cbr\\u003eHost: Wikibase Cloud\\u003cbr\\u003eVersion: 1.39.7\\u003cbr\\u003eStart Date: 2024-03-29 00:00:00+00:00\\u003cbr\\u003eActive Users: 0\\u003cbr\\u003eUsers: 2\\u003cbr\\u003eProperties: 1\\u003cbr\\u003eEdits: 3\\u003cbr\\u003ePages: 2\",\"undusting\\u003cbr\\u003eURL: https:\\u002f\\u002fundusting.wikibase.cloud\\u003cbr\\u003eHost: Wikibase Cloud\\u003cbr\\u003eVersion: 1.39.7\\u003cbr\\u003eStart Date: 2024-06-19 00:00:00+00:00\\u003cbr\\u003eActive Users: 0\\u003cbr\\u003eUsers: 2\\u003cbr\\u003eProperties: 1\\u003cbr\\u003eEdits: 2\\u003cbr\\u003ePages: 2\",\"O\\u0161kliarch\\u003cbr\\u003eURL: https:\\u002f\\u002foskliarch.wikibase.cloud\\u003cbr\\u003eHost: Wikibase Cloud\\u003cbr\\u003eVersion: 1.39.7\\u003cbr\\u003eStart Date: 2024-07-09 00:00:00+00:00\\u003cbr\\u003eActive Users: 0\\u003cbr\\u003eUsers: 2\\u003cbr\\u003eProperties: 1\\u003cbr\\u003eEdits: 3\\u003cbr\\u003ePages: 2\",\"PIM KB\\u003cbr\\u003eURL: https:\\u002f\\u002fpimnevter-demo.wikibase.cloud\\u003cbr\\u003eHost: Wikibase Cloud\\u003cbr\\u003eVersion: 1.39.7\\u003cbr\\u003eStart Date: 2024-07-01 00:00:00+00:00\\u003cbr\\u003eActive Users: 0\\u003cbr\\u003eUsers: 2\\u003cbr\\u003eProperties: 1\\u003cbr\\u003eEdits: 2\\u003cbr\\u003ePages: 2\",\"Filmwissen\\u003cbr\\u003eURL: https:\\u002f\\u002ffilmwissen.wikibase.cloud\\u003cbr\\u003eHost: Wikibase Cloud\\u003cbr\\u003eVersion: 1.39.7\\u003cbr\\u003eStart Date: 2024-09-06 00:00:00+00:00\\u003cbr\\u003eActive Users: 3\\u003cbr\\u003eUsers: 2\\u003cbr\\u003eProperties: 5\\u003cbr\\u003eEdits: 3\\u003cbr\\u003ePages: 8\",\"YH Wiki\\u003cbr\\u003eURL: https:\\u002f\\u002fyh-wiki.wikibase.cloud\\u003cbr\\u003eHost: Wikibase Cloud\\u003cbr\\u003eVersion: 1.39.7\\u003cbr\\u003eStart Date: 2024-10-09 00:00:00+00:00\\u003cbr\\u003eActive Users: 2\\u003cbr\\u003eUsers: 3\\u003cbr\\u003eProperties: 552\\u003cbr\\u003eEdits: 577\\u003cbr\\u003ePages: 559\",\"J\\u00f6rans egna\\u003cbr\\u003eURL: https:\\u002f\\u002fjoran.wikibase.cloud\\u003cbr\\u003eHost: Wikibase Cloud\\u003cbr\\u003eVersion: 1.39.7\\u003cbr\\u003eStart Date: 2024-10-11 00:00:00+00:00\\u003cbr\\u003eActive Users: 2\\u003cbr\\u003eUsers: 2\\u003cbr\\u003eProperties: 15\\u003cbr\\u003eEdits: 99\\u003cbr\\u003ePages: 47\",\"LatSenRom\\u003cbr\\u003eURL: https:\\u002f\\u002flatsenrom.wikibase.cloud\\u003cbr\\u003eHost: Wikibase Cloud\\u003cbr\\u003eVersion: 1.39.7\\u003cbr\\u003eStart Date: 2024-10-11 00:00:00+00:00\\u003cbr\\u003eActive Users: 2\\u003cbr\\u003eUsers: 2\\u003cbr\\u003eProperties: 3\\u003cbr\\u003eEdits: 22\\u003cbr\\u003ePages: 7\",\"J\\u00f6rans egna\\u003cbr\\u003eURL: https:\\u002f\\u002fjoran.wikibase.cloud\\u003cbr\\u003eHost: Wikibase Cloud\\u003cbr\\u003eVersion: 1.39.7\\u003cbr\\u003eStart Date: 2024-10-11 00:00:00+00:00\\u003cbr\\u003eActive Users: 2\\u003cbr\\u003eUsers: 2\\u003cbr\\u003eProperties: 15\\u003cbr\\u003eEdits: 99\\u003cbr\\u003ePages: 47\",\"mywiki\\u003cbr\\u003eURL: https:\\u002f\\u002fitinfrestractureroysav12345.wikibase.cloud\\u003cbr\\u003eHost: Wikibase Cloud\\u003cbr\\u003eVersion: 1.39.7\\u003cbr\\u003eStart Date: 2024-10-13 00:00:00+00:00\\u003cbr\\u003eActive Users: 2\\u003cbr\\u003eUsers: 2\\u003cbr\\u003eProperties: 7\\u003cbr\\u003eEdits: 75\\u003cbr\\u003ePages: 33\",\"Chinese-Historical-Places-2024\\u003cbr\\u003eURL: https:\\u002f\\u002fchinese-historical-places-2024.wikibase.cloud\\u003cbr\\u003eHost: Wikibase Cloud\\u003cbr\\u003eVersion: 1.39.7\\u003cbr\\u003eStart Date: 2024-10-16 00:00:00+00:00\\u003cbr\\u003eActive Users: 1\\u003cbr\\u003eUsers: 2\\u003cbr\\u003eProperties: 6\\u003cbr\\u003eEdits: 13\\u003cbr\\u003ePages: 13\",\"ODP Test\\u003cbr\\u003eURL: https:\\u002f\\u002fodptest.wikibase.cloud\\u003cbr\\u003eHost: Wikibase Cloud\\u003cbr\\u003eVersion: 1.39.7\\u003cbr\\u003eStart Date: 2024-10-18 00:00:00+00:00\\u003cbr\\u003eActive Users: 1\\u003cbr\\u003eUsers: 2\\u003cbr\\u003eProperties: 6\\u003cbr\\u003eEdits: 13\\u003cbr\\u003ePages: 13\",\"Organisational Rule Systems\\u003cbr\\u003eURL: https:\\u002f\\u002forganisational-rules.wikibase.cloud\\u003cbr\\u003eHost: Wikibase Cloud\\u003cbr\\u003eVersion: 1.39.7\\u003cbr\\u003eStart Date: 2024-10-17 00:00:00+00:00\\u003cbr\\u003eActive Users: 2\\u003cbr\\u003eUsers: 2\\u003cbr\\u003eProperties: 5\\u003cbr\\u003eEdits: 19\\u003cbr\\u003ePages: 15\",\"SkandinavienWikiBase\\u003cbr\\u003eURL: https:\\u002f\\u002fskanwiki.wikibase.cloud\\u003cbr\\u003eHost: Wikibase Cloud\\u003cbr\\u003eVersion: 1.39.7\\u003cbr\\u003eStart Date: 2024-10-15 00:00:00+00:00\\u003cbr\\u003eActive Users: 1\\u003cbr\\u003eUsers: 2\\u003cbr\\u003eProperties: 6\\u003cbr\\u003eEdits: 13\\u003cbr\\u003ePages: 13\",\"BorgNetzWerk\\u003cbr\\u003eURL: https:\\u002f\\u002fbnwiki.wikibase.cloud\\u003cbr\\u003eHost: Wikibase Cloud\\u003cbr\\u003eVersion: 1.39.7\\u003cbr\\u003eStart Date: 2024-10-14 00:00:00+00:00\\u003cbr\\u003eActive Users: 3\\u003cbr\\u003eUsers: 3\\u003cbr\\u003eProperties: 27\\u003cbr\\u003eEdits: 6496\\u003cbr\\u003ePages: 6415\",\"Hasya Katta Official\\u003cbr\\u003eURL: https:\\u002f\\u002fhasyakattaofficial.wikibase.cloud\\u003cbr\\u003eHost: Wikibase Cloud\\u003cbr\\u003eVersion: 1.39.7\\u003cbr\\u003eStart Date: 2024-10-15 00:00:00+00:00\\u003cbr\\u003eActive Users: 1\\u003cbr\\u003eUsers: 2\\u003cbr\\u003eProperties: 6\\u003cbr\\u003eEdits: 13\\u003cbr\\u003ePages: 13\",\"AstroFR\\u003cbr\\u003eURL: https:\\u002f\\u002fastrofr.wikibase.cloud\\u003cbr\\u003eHost: Wikibase Cloud\\u003cbr\\u003eVersion: 1.39.7\\u003cbr\\u003eStart Date: 2024-10-22 00:00:00+00:00\\u003cbr\\u003eActive Users: 2\\u003cbr\\u003eUsers: 2\\u003cbr\\u003eProperties: 1\\u003cbr\\u003eEdits: 373\\u003cbr\\u003ePages: 104\",\"Ejemplo\\u003cbr\\u003eURL: https:\\u002f\\u002ftestfilo.wikibase.cloud\\u003cbr\\u003eHost: Wikibase Cloud\\u003cbr\\u003eVersion: 1.39.7\\u003cbr\\u003eStart Date: 2024-10-22 00:00:00+00:00\\u003cbr\\u003eActive Users: 3\\u003cbr\\u003eUsers: 3\\u003cbr\\u003eProperties: 5\\u003cbr\\u003eEdits: 19\\u003cbr\\u003ePages: 13\",\"First Attempt\\u003cbr\\u003eURL: https:\\u002f\\u002ffirst-attempt.wikibase.cloud\\u003cbr\\u003eHost: Wikibase Cloud\\u003cbr\\u003eVersion: 1.39.7\\u003cbr\\u003eStart Date: 2024-10-23 00:00:00+00:00\\u003cbr\\u003eActive Users: 2\\u003cbr\\u003eUsers: 2\\u003cbr\\u003eProperties: 6\\u003cbr\\u003eEdits: 15\\u003cbr\\u003ePages: 15\",\"Meizi's Kitchen\\u003cbr\\u003eURL: https:\\u002f\\u002fgoat-collective-test34.wikibase.cloud\\u003cbr\\u003eHost: Wikibase Cloud\\u003cbr\\u003eVersion: 1.39.7\\u003cbr\\u003eStart Date: 2024-10-21 00:00:00+00:00\\u003cbr\\u003eActive Users: 2\\u003cbr\\u003eUsers: 3\\u003cbr\\u003eProperties: 5\\u003cbr\\u003eEdits: 13\\u003cbr\\u003ePages: 13\",\"Teneriefer\\u003cbr\\u003eURL: https:\\u002f\\u002fteneriefer.wikibase.cloud\\u003cbr\\u003eHost: Wikibase Cloud\\u003cbr\\u003eVersion: 1.39.7\\u003cbr\\u003eStart Date: 2024-10-21 00:00:00+00:00\\u003cbr\\u003eActive Users: 2\\u003cbr\\u003eUsers: 2\\u003cbr\\u003eProperties: 1\\u003cbr\\u003eEdits: 3\\u003cbr\\u003ePages: 3\",\"Test 2\\u003cbr\\u003eURL: https:\\u002f\\u002ftest-dh2.wikibase.cloud\\u003cbr\\u003eHost: Wikibase Cloud\\u003cbr\\u003eVersion: 1.39.7\\u003cbr\\u003eStart Date: 2024-10-21 00:00:00+00:00\\u003cbr\\u003eActive Users: 2\\u003cbr\\u003eUsers: 2\\u003cbr\\u003eProperties: 1\\u003cbr\\u003eEdits: 7\\u003cbr\\u003ePages: 4\",\"test\\u003cbr\\u003eURL: https:\\u002f\\u002fkollektiv.wikibase.cloud\\u003cbr\\u003eHost: Wikibase Cloud\\u003cbr\\u003eVersion: 1.39.7\\u003cbr\\u003eStart Date: 2024-10-21 00:00:00+00:00\\u003cbr\\u003eActive Users: 2\\u003cbr\\u003eUsers: 2\\u003cbr\\u003eProperties: 2\\u003cbr\\u003eEdits: 7\\u003cbr\\u003ePages: 5\",\"Goat Collective\\u003cbr\\u003eURL: https:\\u002f\\u002fgoat-collective-test.wikibase.cloud\\u003cbr\\u003eHost: Wikibase Cloud\\u003cbr\\u003eVersion: 1.39.7\\u003cbr\\u003eStart Date: 2024-10-21 00:00:00+00:00\\u003cbr\\u003eActive Users: 2\\u003cbr\\u003eUsers: 2\\u003cbr\\u003eProperties: 2\\u003cbr\\u003eEdits: 13\\u003cbr\\u003ePages: 5\",\"ReDa Wiki\\u003cbr\\u003eURL: https:\\u002f\\u002freda-wiki.wikibase.cloud\\u003cbr\\u003eHost: Wikibase Cloud\\u003cbr\\u003eVersion: 1.39.7\\u003cbr\\u003eStart Date: 2024-10-21 00:00:00+00:00\\u003cbr\\u003eActive Users: 2\\u003cbr\\u003eUsers: 2\\u003cbr\\u003eProperties: 10\\u003cbr\\u003eEdits: 94\\u003cbr\\u003ePages: 36\",\"Rina Collective\\u003cbr\\u003eURL: https:\\u002f\\u002frina-collective.wikibase.cloud\\u003cbr\\u003eHost: Wikibase Cloud\\u003cbr\\u003eVersion: 1.39.7\\u003cbr\\u003eStart Date: 2024-10-21 00:00:00+00:00\\u003cbr\\u003eActive Users: 2\\u003cbr\\u003eUsers: 2\\u003cbr\\u003eProperties: 1\\u003cbr\\u003eEdits: 4\\u003cbr\\u003ePages: 3\",\"Dog Collective\\u003cbr\\u003eURL: https:\\u002f\\u002fdog-collective.wikibase.cloud\\u003cbr\\u003eHost: Wikibase Cloud\\u003cbr\\u003eVersion: 1.39.7\\u003cbr\\u003eStart Date: 2024-10-21 00:00:00+00:00\\u003cbr\\u003eActive Users: 2\\u003cbr\\u003eUsers: 2\\u003cbr\\u003eProperties: 2\\u003cbr\\u003eEdits: 13\\u003cbr\\u003ePages: 6\",\"Randombooks\\u003cbr\\u003eURL: https:\\u002f\\u002frandombooks.wikibase.cloud\\u003cbr\\u003eHost: Wikibase Cloud\\u003cbr\\u003eVersion: 1.39.7\\u003cbr\\u003eStart Date: 2024-10-21 00:00:00+00:00\\u003cbr\\u003eActive Users: 1\\u003cbr\\u003eUsers: 2\\u003cbr\\u003eProperties: 6\\u003cbr\\u003eEdits: 13\\u003cbr\\u003ePages: 13\",\"Public Figures Base\\u003cbr\\u003eURL: https:\\u002f\\u002fpublicfiguresbase.wikibase.cloud\\u003cbr\\u003eHost: Wikibase Cloud\\u003cbr\\u003eVersion: 1.39.7\\u003cbr\\u003eStart Date: 2024-10-21 00:00:00+00:00\\u003cbr\\u003eActive Users: 2\\u003cbr\\u003eUsers: 2\\u003cbr\\u003eProperties: 8\\u003cbr\\u003eEdits: 24\\u003cbr\\u003ePages: 18\",\"United States Elections\\u003cbr\\u003eURL: https:\\u002f\\u002felections-us.wikibase.cloud\\u003cbr\\u003eHost: Wikibase Cloud\\u003cbr\\u003eVersion: 1.39.7\\u003cbr\\u003eStart Date: 2024-10-24 00:00:00+00:00\\u003cbr\\u003eActive Users: 2\\u003cbr\\u003eUsers: 2\\u003cbr\\u003eProperties: 2\\u003cbr\\u003eEdits: 290\\u003cbr\\u003ePages: 277\",\"RCnum\\u003cbr\\u003eURL: https:\\u002f\\u002frcnum-ge.wikibase.cloud\\u003cbr\\u003eHost: Wikibase Cloud\\u003cbr\\u003eVersion: 1.39.7\\u003cbr\\u003eStart Date: 2024-10-29 00:00:00+00:00\\u003cbr\\u003eActive Users: 2\\u003cbr\\u003eUsers: 3\\u003cbr\\u003eProperties: 4\\u003cbr\\u003eEdits: 15\\u003cbr\\u003ePages: 11\",\"RCge\\u003cbr\\u003eURL: https:\\u002f\\u002frc-ge.wikibase.cloud\\u003cbr\\u003eHost: Wikibase Cloud\\u003cbr\\u003eVersion: 1.39.7\\u003cbr\\u003eStart Date: 2024-10-30 00:00:00+00:00\\u003cbr\\u003eActive Users: 2\\u003cbr\\u003eUsers: 3\\u003cbr\\u003eProperties: 2\\u003cbr\\u003eEdits: 5\\u003cbr\\u003ePages: 5\",\"anton12\\u003cbr\\u003eURL: https:\\u002f\\u002fanton12.wikibase.cloud\\u003cbr\\u003eHost: Wikibase Cloud\\u003cbr\\u003eVersion: 1.39.7\\u003cbr\\u003eStart Date: 2024-10-30 00:00:00+00:00\\u003cbr\\u003eActive Users: 2\\u003cbr\\u003eUsers: 2\\u003cbr\\u003eProperties: 1\\u003cbr\\u003eEdits: 21\\u003cbr\\u003ePages: 12\",\"AI-learn\\u003cbr\\u003eURL: https:\\u002f\\u002fai-learn.wikibase.cloud\\u003cbr\\u003eHost: Wikibase Cloud\\u003cbr\\u003eVersion: 1.39.7\\u003cbr\\u003eStart Date: 2024-10-24 00:00:00+00:00\\u003cbr\\u003eActive Users: 1\\u003cbr\\u003eUsers: 2\\u003cbr\\u003eProperties: 6\\u003cbr\\u003eEdits: 13\\u003cbr\\u003ePages: 13\",\"womenwriters\\u003cbr\\u003eURL: https:\\u002f\\u002f18womenwriters.wikibase.cloud\\u003cbr\\u003eHost: Wikibase Cloud\\u003cbr\\u003eVersion: 1.39.7\\u003cbr\\u003eStart Date: 2024-10-24 00:00:00+00:00\\u003cbr\\u003eActive Users: 2\\u003cbr\\u003eUsers: 2\\u003cbr\\u003eProperties: 2\\u003cbr\\u003eEdits: 5\\u003cbr\\u003ePages: 5\",\"CuentosTradicionales\\u003cbr\\u003eURL: https:\\u002f\\u002fcuentostradicionales.wikibase.cloud\\u003cbr\\u003eHost: Wikibase Cloud\\u003cbr\\u003eVersion: 1.39.7\\u003cbr\\u003eStart Date: 2024-10-24 00:00:00+00:00\\u003cbr\\u003eActive Users: 2\\u003cbr\\u003eUsers: 2\\u003cbr\\u003eProperties: 2\\u003cbr\\u003eEdits: 13\\u003cbr\\u003ePages: 9\",\"Osipov's Family Tree\\u003cbr\\u003eURL: https:\\u002f\\u002fgenealogy.david-osipov.vision\\u003cbr\\u003eHost: Wikibase Cloud\\u003cbr\\u003eVersion: 1.39.7\\u003cbr\\u003eStart Date: 2024-10-24 00:00:00+00:00\\u003cbr\\u003eActive Users: 1\\u003cbr\\u003eUsers: 2\\u003cbr\\u003eProperties: 6\\u003cbr\\u003eEdits: 13\\u003cbr\\u003ePages: 13\",\"MaRDMO Wikibase\\u003cbr\\u003eURL: https:\\u002f\\u002fmardmo.wikibase.cloud\\u003cbr\\u003eHost: Wikibase Cloud\\u003cbr\\u003eVersion: 1.39.7\\u003cbr\\u003eStart Date: 2024-11-07 00:00:00+00:00\\u003cbr\\u003eActive Users: 2\\u003cbr\\u003eUsers: 2\\u003cbr\\u003eProperties: 32\\u003cbr\\u003eEdits: 51\\u003cbr\\u003ePages: 46\",\"testdd.wikibase.cloud\\u003cbr\\u003eURL: https:\\u002f\\u002ftestdd.wikibase.cloud\\u003cbr\\u003eHost: Wikibase Cloud\\u003cbr\\u003eVersion: 1.39.7\\u003cbr\\u003eStart Date: 2024-11-07 00:00:00+00:00\\u003cbr\\u003eActive Users: 1\\u003cbr\\u003eUsers: 2\\u003cbr\\u003eProperties: 6\\u003cbr\\u003eEdits: 13\\u003cbr\\u003ePages: 13\",\"DH_Project_SR\\u003cbr\\u003eURL: https:\\u002f\\u002fdh-project-sr.wikibase.cloud\\u003cbr\\u003eHost: Wikibase Cloud\\u003cbr\\u003eVersion: 1.39.7\\u003cbr\\u003eStart Date: 2024-11-04 00:00:00+00:00\\u003cbr\\u003eActive Users: 2\\u003cbr\\u003eUsers: 2\\u003cbr\\u003eProperties: 7\\u003cbr\\u003eEdits: 15\\u003cbr\\u003ePages: 11\",\"Aleks Weber Werkverzeichnis\\u003cbr\\u003eURL: https:\\u002f\\u002faleks-weber.wikibase.cloud\\u003cbr\\u003eHost: Wikibase Cloud\\u003cbr\\u003eVersion: 1.39.7\\u003cbr\\u003eStart Date: 2024-11-06 00:00:00+00:00\\u003cbr\\u003eActive Users: 2\\u003cbr\\u003eUsers: 2\\u003cbr\\u003eProperties: 22\\u003cbr\\u003eEdits: 141\\u003cbr\\u003ePages: 67\",\"Connected Earth\\u003cbr\\u003eURL: https:\\u002f\\u002fconnected-earth.wikibase.cloud\\u003cbr\\u003eHost: Wikibase Cloud\\u003cbr\\u003eVersion: 1.39.7\\u003cbr\\u003eStart Date: 2024-11-04 00:00:00+00:00\\u003cbr\\u003eActive Users: 2\\u003cbr\\u003eUsers: 2\\u003cbr\\u003eProperties: 9\\u003cbr\\u003eEdits: 3898\\u003cbr\\u003ePages: 1184\",\"MI-X\\u003cbr\\u003eURL: https:\\u002f\\u002fmedicalinformatics.wikibase.cloud\\u003cbr\\u003eHost: Wikibase Cloud\\u003cbr\\u003eVersion: 1.39.7\\u003cbr\\u003eStart Date: 2024-11-04 00:00:00+00:00\\u003cbr\\u003eActive Users: 2\\u003cbr\\u003eUsers: 2\\u003cbr\\u003eProperties: 7\\u003cbr\\u003eEdits: 18\\u003cbr\\u003ePages: 16\",\"IT infrestracture\\u003cbr\\u003eURL: https:\\u002f\\u002fani-rotze-hamin.wikibase.cloud\\u003cbr\\u003eHost: Wikibase Cloud\\u003cbr\\u003eVersion: 1.39.7\\u003cbr\\u003eStart Date: 2024-11-04 00:00:00+00:00\\u003cbr\\u003eActive Users: 2\\u003cbr\\u003eUsers: 2\\u003cbr\\u003eProperties: 7\\u003cbr\\u003eEdits: 20\\u003cbr\\u003ePages: 17\",\"Finance in EU\\u003cbr\\u003eURL: https:\\u002f\\u002ffinance-eu.wikibase.cloud\\u003cbr\\u003eHost: Wikibase Cloud\\u003cbr\\u003eVersion: 1.39.7\\u003cbr\\u003eStart Date: 2024-11-03 00:00:00+00:00\\u003cbr\\u003eActive Users: 2\\u003cbr\\u003eUsers: 3\\u003cbr\\u003eProperties: 2\\u003cbr\\u003eEdits: 15\\u003cbr\\u003ePages: 5\",\"ISO Certification\\u003cbr\\u003eURL: https:\\u002f\\u002fmaxwell.wikibase.cloud\\u003cbr\\u003eHost: Wikibase Cloud\\u003cbr\\u003eVersion: 1.39.7\\u003cbr\\u003eStart Date: 2024-11-03 00:00:00+00:00\\u003cbr\\u003eActive Users: 1\\u003cbr\\u003eUsers: 2\\u003cbr\\u003eProperties: 6\\u003cbr\\u003eEdits: 13\\u003cbr\\u003ePages: 13\",\"wiki-data.wikibase.cloud\\u003cbr\\u003eURL: https:\\u002f\\u002fwiki-data.wikibase.cloud\\u003cbr\\u003eHost: Wikibase Cloud\\u003cbr\\u003eVersion: 1.39.7\\u003cbr\\u003eStart Date: 2024-12-05 00:00:00+00:00\\u003cbr\\u003eActive Users: 2\\u003cbr\\u003eUsers: 2\\u003cbr\\u003eProperties: 6\\u003cbr\\u003eEdits: 14\\u003cbr\\u003ePages: 14\",\"M4schini Test\\u003cbr\\u003eURL: https:\\u002f\\u002ftest-m4schini.wikibase.cloud\\u003cbr\\u003eHost: Wikibase Cloud\\u003cbr\\u003eVersion: 1.39.7\\u003cbr\\u003eStart Date: 2024-12-05 00:00:00+00:00\\u003cbr\\u003eActive Users: 2\\u003cbr\\u003eUsers: 2\\u003cbr\\u003eProperties: 7\\u003cbr\\u003eEdits: 15\\u003cbr\\u003ePages: 15\",\"Wiki o UWr\\u003cbr\\u003eURL: https:\\u002f\\u002fwikiouwr.wikibase.cloud\\u003cbr\\u003eHost: Wikibase Cloud\\u003cbr\\u003eVersion: 1.39.7\\u003cbr\\u003eStart Date: 2024-12-05 00:00:00+00:00\\u003cbr\\u003eActive Users: 2\\u003cbr\\u003eUsers: 2\\u003cbr\\u003eProperties: 1\\u003cbr\\u003eEdits: 2\\u003cbr\\u003ePages: 2\",\"dcm-greta\\u003cbr\\u003eURL: https:\\u002f\\u002fdcm-greta.wikibase.cloud\\u003cbr\\u003eHost: Wikibase Cloud\\u003cbr\\u003eVersion: 1.39.7\\u003cbr\\u003eStart Date: 2024-12-04 00:00:00+00:00\\u003cbr\\u003eActive Users: 2\\u003cbr\\u003eUsers: 2\\u003cbr\\u003eProperties: 13\\u003cbr\\u003eEdits: 128\\u003cbr\\u003ePages: 64\",\"Equalent WBTest\\u003cbr\\u003eURL: https:\\u002f\\u002fwbtest.equalent.net\\u003cbr\\u003eHost: Wikibase Cloud\\u003cbr\\u003eVersion: 1.39.7\\u003cbr\\u003eStart Date: 2024-12-03 00:00:00+00:00\\u003cbr\\u003eActive Users: 2\\u003cbr\\u003eUsers: 2\\u003cbr\\u003eProperties: 1\\u003cbr\\u003eEdits: 5\\u003cbr\\u003ePages: 4\",\"MOMA\\u003cbr\\u003eURL: https:\\u002f\\u002fmoma-test.wikibase.cloud\\u003cbr\\u003eHost: Wikibase Cloud\\u003cbr\\u003eVersion: 1.39.7\\u003cbr\\u003eStart Date: 2024-12-02 00:00:00+00:00\\u003cbr\\u003eActive Users: 2\\u003cbr\\u003eUsers: 2\\u003cbr\\u003eProperties: 6\\u003cbr\\u003eEdits: 35\\u003cbr\\u003ePages: 17\",\"Istanza di prova\\u003cbr\\u003eURL: https:\\u002f\\u002fprovaunipi.wikibase.cloud\\u003cbr\\u003eHost: Wikibase Cloud\\u003cbr\\u003eVersion: 1.39.7\\u003cbr\\u003eStart Date: 2024-11-27 00:00:00+00:00\\u003cbr\\u003eActive Users: 2\\u003cbr\\u003eUsers: 2\\u003cbr\\u003eProperties: 2\\u003cbr\\u003eEdits: 15\\u003cbr\\u003ePages: 10\",\"DeciWiki\\u003cbr\\u003eURL: https:\\u002f\\u002fdeciwiki.wikibase.cloud\\u003cbr\\u003eHost: Wikibase Cloud\\u003cbr\\u003eVersion: 1.39.7\\u003cbr\\u003eStart Date: 2024-12-01 00:00:00+00:00\\u003cbr\\u003eActive Users: 1\\u003cbr\\u003eUsers: 2\\u003cbr\\u003eProperties: 6\\u003cbr\\u003eEdits: 13\\u003cbr\\u003ePages: 13\",\"testwebbase\\u003cbr\\u003eURL: https:\\u002f\\u002ftestwebbase.wikibase.cloud\\u003cbr\\u003eHost: Wikibase Cloud\\u003cbr\\u003eVersion: 1.39.7\\u003cbr\\u003eStart Date: 2024-11-27 00:00:00+00:00\\u003cbr\\u003eActive Users: 2\\u003cbr\\u003eUsers: 2\\u003cbr\\u003eProperties: 4\\u003cbr\\u003eEdits: 3438\\u003cbr\\u003ePages: 611\",\"Ma\\u00eetres du myst\\u00e8re\\u003cbr\\u003eURL: https:\\u002f\\u002fxn--mystre-6ua.wikibase.cloud\\u003cbr\\u003eHost: Wikibase Cloud\\u003cbr\\u003eVersion: 1.39.7\\u003cbr\\u003eStart Date: 2024-11-26 00:00:00+00:00\\u003cbr\\u003eActive Users: 1\\u003cbr\\u003eUsers: 2\\u003cbr\\u003eProperties: 6\\u003cbr\\u003eEdits: 13\\u003cbr\\u003ePages: 13\",\"sbdb fork\\u003cbr\\u003eURL: https:\\u002f\\u002fsbdb-fork.wikibase.cloud\\u003cbr\\u003eHost: Wikibase Cloud\\u003cbr\\u003eVersion: 1.39.7\\u003cbr\\u003eStart Date: 2024-11-26 00:00:00+00:00\\u003cbr\\u003eActive Users: 2\\u003cbr\\u003eUsers: 2\\u003cbr\\u003eProperties: 23\\u003cbr\\u003eEdits: 5440\\u003cbr\\u003ePages: 1698\",\"Math Problem Wiki\\u003cbr\\u003eURL: https:\\u002f\\u002fmath-problem-wiki.wikibase.cloud\\u003cbr\\u003eHost: Wikibase Cloud\\u003cbr\\u003eVersion: 1.39.7\\u003cbr\\u003eStart Date: 2024-11-21 00:00:00+00:00\\u003cbr\\u003eActive Users: 1\\u003cbr\\u003eUsers: 2\\u003cbr\\u003eProperties: 6\\u003cbr\\u003eEdits: 13\\u003cbr\\u003ePages: 13\",\"archivio network\\u003cbr\\u003eURL: https:\\u002f\\u002fbase.archivio.network\\u003cbr\\u003eHost: Wikibase Cloud\\u003cbr\\u003eVersion: 1.39.7\\u003cbr\\u003eStart Date: 2024-11-24 00:00:00+00:00\\u003cbr\\u003eActive Users: 1\\u003cbr\\u003eUsers: 2\\u003cbr\\u003eProperties: 6\\u003cbr\\u003eEdits: 13\\u003cbr\\u003ePages: 13\",\"Mouni Neddi\\u003cbr\\u003eURL: https:\\u002f\\u002fmounir-neddi.wikibase.cloud\\u003cbr\\u003eHost: Wikibase Cloud\\u003cbr\\u003eVersion: 1.39.7\\u003cbr\\u003eStart Date: 2024-11-22 00:00:00+00:00\\u003cbr\\u003eActive Users: 1\\u003cbr\\u003eUsers: 2\\u003cbr\\u003eProperties: 6\\u003cbr\\u003eEdits: 10\\u003cbr\\u003ePages: 10\",\"B\\u00fcrgerspitalzinshaus\\u003cbr\\u003eURL: https:\\u002f\\u002fxn--brgerspitalzinshaus-59b.wikibase.cloud\\u003cbr\\u003eHost: Wikibase Cloud\\u003cbr\\u003eVersion: 1.39.7\\u003cbr\\u003eStart Date: 2024-11-21 00:00:00+00:00\\u003cbr\\u003eActive Users: 2\\u003cbr\\u003eUsers: 2\\u003cbr\\u003eProperties: 3\\u003cbr\\u003eEdits: 17\\u003cbr\\u003ePages: 6\",\"Kareem Mujeeb Kayode\\u003cbr\\u003eURL: https:\\u002f\\u002fkareemmujeeb.wikibase.cloud\\u003cbr\\u003eHost: Wikibase Cloud\\u003cbr\\u003eVersion: 1.39.7\\u003cbr\\u003eStart Date: 2024-11-20 00:00:00+00:00\\u003cbr\\u003eActive Users: 1\\u003cbr\\u003eUsers: 2\\u003cbr\\u003eProperties: 6\\u003cbr\\u003eEdits: 13\\u003cbr\\u003ePages: 13\",\"Taylor Swift\\u003cbr\\u003eURL: https:\\u002f\\u002ftaylorswift.wikibase.cloud\\u003cbr\\u003eHost: Wikibase Cloud\\u003cbr\\u003eVersion: 1.39.7\\u003cbr\\u003eStart Date: 2024-11-19 00:00:00+00:00\\u003cbr\\u003eActive Users: 2\\u003cbr\\u003eUsers: 3\\u003cbr\\u003eProperties: 4\\u003cbr\\u003eEdits: 37\\u003cbr\\u003ePages: 20\",\"Triki Test\\u003cbr\\u003eURL: https:\\u002f\\u002ftriki.wikibase.cloud\\u003cbr\\u003eHost: Wikibase Cloud\\u003cbr\\u003eVersion: 1.39.7\\u003cbr\\u003eStart Date: 2024-11-18 00:00:00+00:00\\u003cbr\\u003eActive Users: 2\\u003cbr\\u003eUsers: 2\\u003cbr\\u003eProperties: 9\\u003cbr\\u003eEdits: 84\\u003cbr\\u003ePages: 39\",\"Menologio dei Barnabiti\\u003cbr\\u003eURL: https:\\u002f\\u002fmenologiobarnabiti.wikibase.cloud\\u003cbr\\u003eHost: Wikibase Cloud\\u003cbr\\u003eVersion: 1.39.7\\u003cbr\\u003eStart Date: 2024-11-19 00:00:00+00:00\\u003cbr\\u003eActive Users: 2\\u003cbr\\u003eUsers: 2\\u003cbr\\u003eProperties: 1\\u003cbr\\u003eEdits: 3\\u003cbr\\u003ePages: 3\",\"Artificial Intelligence\\u003cbr\\u003eURL: https:\\u002f\\u002fasdfg.wikibase.cloud\\u003cbr\\u003eHost: Wikibase Cloud\\u003cbr\\u003eVersion: 1.39.7\\u003cbr\\u003eStart Date: 2024-11-15 00:00:00+00:00\\u003cbr\\u003eActive Users: 1\\u003cbr\\u003eUsers: 2\\u003cbr\\u003eProperties: 6\\u003cbr\\u003eEdits: 13\\u003cbr\\u003ePages: 13\",\"rcnum\\u003cbr\\u003eURL: https:\\u002f\\u002freg-cons.wikibase.cloud\\u003cbr\\u003eHost: Wikibase Cloud\\u003cbr\\u003eVersion: 1.39.7\\u003cbr\\u003eStart Date: 2024-11-15 00:00:00+00:00\\u003cbr\\u003eActive Users: 2\\u003cbr\\u003eUsers: 2\\u003cbr\\u003eProperties: 7\\u003cbr\\u003eEdits: 31\\u003cbr\\u003ePages: 23\",\"Mutaabik\\u003cbr\\u003eURL: https:\\u002f\\u002fmutaabiklegalresearch.wikibase.cloud\\u003cbr\\u003eHost: Wikibase Cloud\\u003cbr\\u003eVersion: 1.39.7\\u003cbr\\u003eStart Date: 2024-11-15 00:00:00+00:00\\u003cbr\\u003eActive Users: 2\\u003cbr\\u003eUsers: 2\\u003cbr\\u003eProperties: 25\\u003cbr\\u003eEdits: 461\\u003cbr\\u003ePages: 144\",\"frenchbm.wikibase.cloud\\u003cbr\\u003eURL: https:\\u002f\\u002ffrenchbm.wikibase.cloud\\u003cbr\\u003eHost: Wikibase Cloud\\u003cbr\\u003eVersion: 1.39.7\\u003cbr\\u003eStart Date: 2024-11-14 00:00:00+00:00\\u003cbr\\u003eActive Users: 1\\u003cbr\\u003eUsers: 2\\u003cbr\\u003eProperties: 6\\u003cbr\\u003eEdits: 13\\u003cbr\\u003ePages: 13\",\"testenddi\\u003cbr\\u003eURL: https:\\u002f\\u002ftestenddi.wikibase.cloud\\u003cbr\\u003eHost: Wikibase Cloud\\u003cbr\\u003eVersion: 1.39.7\\u003cbr\\u003eStart Date: 2024-11-14 00:00:00+00:00\\u003cbr\\u003eActive Users: 2\\u003cbr\\u003eUsers: 2\\u003cbr\\u003eProperties: 7\\u003cbr\\u003eEdits: 14\\u003cbr\\u003ePages: 14\",\"testnga.wikibase.cloud\\u003cbr\\u003eURL: https:\\u002f\\u002ftestnga.wikibase.cloud\\u003cbr\\u003eHost: Wikibase Cloud\\u003cbr\\u003eVersion: 1.39.7\\u003cbr\\u003eStart Date: 2024-11-13 00:00:00+00:00\\u003cbr\\u003eActive Users: 2\\u003cbr\\u003eUsers: 2\\u003cbr\\u003eProperties: 8\\u003cbr\\u003eEdits: 15\\u003cbr\\u003ePages: 15\",\"Biblioteca Prometeo\\u003cbr\\u003eURL: https:\\u002f\\u002fbibliotecaprometeo.wikibase.cloud\\u003cbr\\u003eHost: Wikibase Cloud\\u003cbr\\u003eVersion: 1.39.7\\u003cbr\\u003eStart Date: 2024-11-11 00:00:00+00:00\\u003cbr\\u003eActive Users: 2\\u003cbr\\u003eUsers: 3\\u003cbr\\u003eProperties: 4\\u003cbr\\u003eEdits: 5\\u003cbr\\u003ePages: 5\",\"Rolling Stone 500 Greatest Songs\\u003cbr\\u003eURL: https:\\u002f\\u002frolling-stone-500-songs.wikibase.cloud\\u003cbr\\u003eHost: Wikibase Cloud\\u003cbr\\u003eVersion: 1.39.7\\u003cbr\\u003eStart Date: 2024-11-11 00:00:00+00:00\\u003cbr\\u003eActive Users: 2\\u003cbr\\u003eUsers: 2\\u003cbr\\u003eProperties: 10\\u003cbr\\u003eEdits: 1190\\u003cbr\\u003ePages: 1168\",\"abcdnkhr-sandbox\\u003cbr\\u003eURL: https:\\u002f\\u002fabcdnkhr-sandbox.wikibase.cloud\\u003cbr\\u003eHost: Wikibase Cloud\\u003cbr\\u003eVersion: 1.39.7\\u003cbr\\u003eStart Date: 2024-11-10 00:00:00+00:00\\u003cbr\\u003eActive Users: 2\\u003cbr\\u003eUsers: 2\\u003cbr\\u003eProperties: 86\\u003cbr\\u003eEdits: 24972\\u003cbr\\u003ePages: 12194\",\"Ipedia wiki\\u003cbr\\u003eURL: https:\\u002f\\u002fzh-ipedia.wikibase.cloud\\u003cbr\\u003eHost: Wikibase Cloud\\u003cbr\\u003eVersion: 1.39.7\\u003cbr\\u003eStart Date: 2024-11-10 00:00:00+00:00\\u003cbr\\u003eActive Users: 2\\u003cbr\\u003eUsers: 2\\u003cbr\\u003eProperties: 6\\u003cbr\\u003eEdits: 18\\u003cbr\\u003ePages: 16\",\"myaiwiki.wikibase.cloud\\u003cbr\\u003eURL: https:\\u002f\\u002fmyaiwiki.wikibase.cloud\\u003cbr\\u003eHost: Wikibase Cloud\\u003cbr\\u003eVersion: 1.39.7\\u003cbr\\u003eStart Date: 2024-11-08 00:00:00+00:00\\u003cbr\\u003eActive Users: 2\\u003cbr\\u003eUsers: 3\\u003cbr\\u003eProperties: 1\\u003cbr\\u003eEdits: 5\\u003cbr\\u003ePages: 3\",\"The General Assembly and Religious Politics in Scotland, 1638-1660\\u003cbr\\u003eURL: https:\\u002f\\u002fgeneralassemblies.wikibase.cloud\\u003cbr\\u003eHost: Wikibase Cloud\\u003cbr\\u003eVersion: 1.39.7\\u003cbr\\u003eStart Date: 2024-07-31 00:00:00+00:00\\u003cbr\\u003eActive Users: 1\\u003cbr\\u003eUsers: 3\\u003cbr\\u003eProperties: 19\\u003cbr\\u003eEdits: 1142\\u003cbr\\u003ePages: 501\",\"DangerousHarbors\\u003cbr\\u003eURL: https:\\u002f\\u002fdangerousharbors.wikibase.cloud\\u003cbr\\u003eHost: Wikibase Cloud\\u003cbr\\u003eVersion: 1.39.7\\u003cbr\\u003eStart Date: 2024-07-29 00:00:00+00:00\\u003cbr\\u003eActive Users: 1\\u003cbr\\u003eUsers: 2\\u003cbr\\u003eProperties: 19\\u003cbr\\u003eEdits: 31\\u003cbr\\u003ePages: 24\",\"pr\\u00e9t\\u00e9rit-pr\\u00e9sence\\u003cbr\\u003eURL: https:\\u002f\\u002fprt-s.wikibase.cloud\\u003cbr\\u003eHost: Wikibase Cloud\\u003cbr\\u003eVersion: 1.39.7\\u003cbr\\u003eStart Date: 2024-12-19 00:00:00+00:00\\u003cbr\\u003eActive Users: 2\\u003cbr\\u003eUsers: 2\\u003cbr\\u003eProperties: 5\\u003cbr\\u003eEdits: 23\\u003cbr\\u003ePages: 9\",\"ynsy test\\u003cbr\\u003eURL: https:\\u002f\\u002fynsy-test.wikibase.cloud\\u003cbr\\u003eHost: Wikibase Cloud\\u003cbr\\u003eVersion: 1.39.7\\u003cbr\\u003eStart Date: 2024-12-17 00:00:00+00:00\\u003cbr\\u003eActive Users: 2\\u003cbr\\u003eUsers: 2\\u003cbr\\u003eProperties: 6\\u003cbr\\u003eEdits: 22\\u003cbr\\u003ePages: 16\",\"Museo Retroinform\\u00e1tica Almer\\u00eda\\u003cbr\\u003eURL: https:\\u002f\\u002fmuseillo-824287.wikibase.cloud\\u003cbr\\u003eHost: Wikibase Cloud\\u003cbr\\u003eVersion: 1.39.7\\u003cbr\\u003eStart Date: 2024-12-19 00:00:00+00:00\\u003cbr\\u003eActive Users: 2\\u003cbr\\u003eUsers: 2\\u003cbr\\u003eProperties: 103\\u003cbr\\u003eEdits: 524\\u003cbr\\u003ePages: 303\",\"lool2.wikibase.cloud\\u003cbr\\u003eURL: https:\\u002f\\u002flool2.wikibase.cloud\\u003cbr\\u003eHost: Wikibase Cloud\\u003cbr\\u003eVersion: 1.39.7\\u003cbr\\u003eStart Date: 2024-12-20 00:00:00+00:00\\u003cbr\\u003eActive Users: 2\\u003cbr\\u003eUsers: 3\\u003cbr\\u003eProperties: 8\\u003cbr\\u003eEdits: 25\\u003cbr\\u003ePages: 22\",\"Bhikidata\\u003cbr\\u003eURL: https:\\u002f\\u002fbhikidata.wikibase.cloud\\u003cbr\\u003eHost: Wikibase Cloud\\u003cbr\\u003eVersion: 1.39.7\\u003cbr\\u003eStart Date: 2024-12-16 00:00:00+00:00\\u003cbr\\u003eActive Users: 2\\u003cbr\\u003eUsers: 2\\u003cbr\\u003eProperties: 1\\u003cbr\\u003eEdits: 4\\u003cbr\\u003ePages: 4\",\"beaven\\u003cbr\\u003eURL: https:\\u002f\\u002fbeaven.wikibase.cloud\\u003cbr\\u003eHost: Wikibase Cloud\\u003cbr\\u003eVersion: 1.39.7\\u003cbr\\u003eStart Date: 2024-12-14 00:00:00+00:00\\u003cbr\\u003eActive Users: 2\\u003cbr\\u003eUsers: 3\\u003cbr\\u003eProperties: 7\\u003cbr\\u003eEdits: 18\\u003cbr\\u003ePages: 15\",\"Yavaadhika NSy\\u003cbr\\u003eURL: https:\\u002f\\u002fyavaadhikansy.wikibase.cloud\\u003cbr\\u003eHost: Wikibase Cloud\\u003cbr\\u003eVersion: 1.39.7\\u003cbr\\u003eStart Date: 2024-12-14 00:00:00+00:00\\u003cbr\\u003eActive Users: 2\\u003cbr\\u003eUsers: 2\\u003cbr\\u003eProperties: 3\\u003cbr\\u003eEdits: 35\\u003cbr\\u003ePages: 9\",\"tema di prova\\u003cbr\\u003eURL: https:\\u002f\\u002ftemadiprova.wikibase.cloud\\u003cbr\\u003eHost: Wikibase Cloud\\u003cbr\\u003eVersion: 1.39.7\\u003cbr\\u003eStart Date: 2024-12-11 00:00:00+00:00\\u003cbr\\u003eActive Users: 2\\u003cbr\\u003eUsers: 2\\u003cbr\\u003eProperties: 13\\u003cbr\\u003eEdits: 40\\u003cbr\\u003ePages: 20\",\"Four Level Artworks Test\\u003cbr\\u003eURL: https:\\u002f\\u002fli-ma-mapping-mediaart.wikibase.cloud\\u003cbr\\u003eHost: Wikibase Cloud\\u003cbr\\u003eVersion: 1.39.7\\u003cbr\\u003eStart Date: 2024-12-12 00:00:00+00:00\\u003cbr\\u003eActive Users: 1\\u003cbr\\u003eUsers: 2\\u003cbr\\u003eProperties: 6\\u003cbr\\u003eEdits: 13\\u003cbr\\u003ePages: 13\",\"trails.wikibase.cloud\\u003cbr\\u003eURL: https:\\u002f\\u002ftrails.wikibase.cloud\\u003cbr\\u003eHost: Wikibase Cloud\\u003cbr\\u003eVersion: 1.39.7\\u003cbr\\u003eStart Date: 2024-12-11 00:00:00+00:00\\u003cbr\\u003eActive Users: 2\\u003cbr\\u003eUsers: 2\\u003cbr\\u003eProperties: 10\\u003cbr\\u003eEdits: 20\\u003cbr\\u003ePages: 18\",\"anton13\\u003cbr\\u003eURL: https:\\u002f\\u002fanton13.wikibase.cloud\\u003cbr\\u003eHost: Wikibase Cloud\\u003cbr\\u003eVersion: 1.39.7\\u003cbr\\u003eStart Date: 2024-12-11 00:00:00+00:00\\u003cbr\\u003eActive Users: 1\\u003cbr\\u003eUsers: 2\\u003cbr\\u003eProperties: 6\\u003cbr\\u003eEdits: 13\\u003cbr\\u003ePages: 13\",\"VNA\\u003cbr\\u003eURL: https:\\u002f\\u002fvisualnameauthority.wikibase.cloud\\u003cbr\\u003eHost: Wikibase Cloud\\u003cbr\\u003eVersion: 1.39.7\\u003cbr\\u003eStart Date: 2024-12-10 00:00:00+00:00\\u003cbr\\u003eActive Users: 2\\u003cbr\\u003eUsers: 4\\u003cbr\\u003eProperties: 9\\u003cbr\\u003eEdits: 18\\u003cbr\\u003ePages: 16\",\"Verh\\u00fctung\\u003cbr\\u003eURL: https:\\u002f\\u002fverhuetung.wikibase.cloud\\u003cbr\\u003eHost: Wikibase Cloud\\u003cbr\\u003eVersion: 1.39.7\\u003cbr\\u003eStart Date: 2024-12-09 00:00:00+00:00\\u003cbr\\u003eActive Users: 2\\u003cbr\\u003eUsers: 2\\u003cbr\\u003eProperties: 13\\u003cbr\\u003eEdits: 105\\u003cbr\\u003ePages: 45\",\"MoMa\\u003cbr\\u003eURL: https:\\u002f\\u002fmomadata.wikibase.cloud\\u003cbr\\u003eHost: Wikibase Cloud\\u003cbr\\u003eVersion: 1.39.7\\u003cbr\\u003eStart Date: 2024-12-09 00:00:00+00:00\\u003cbr\\u003eActive Users: 2\\u003cbr\\u003eUsers: 2\\u003cbr\\u003eProperties: 11\\u003cbr\\u003eEdits: 66\\u003cbr\\u003ePages: 20\",\"YH's Wiki\\u003cbr\\u003eURL: https:\\u002f\\u002fyhh-wiki.wikibase.cloud\\u003cbr\\u003eHost: Wikibase Cloud\\u003cbr\\u003eVersion: 1.39.7\\u003cbr\\u003eStart Date: 2024-12-05 00:00:00+00:00\\u003cbr\\u003eActive Users: 2\\u003cbr\\u003eUsers: 2\\u003cbr\\u003eProperties: 2518\\u003cbr\\u003eEdits: 2916\\u003cbr\\u003ePages: 2915\",\"extinctlanguages\\u003cbr\\u003eURL: https:\\u002f\\u002fextinctlanguages.wikibase.cloud\\u003cbr\\u003eHost: Wikibase Cloud\\u003cbr\\u003eVersion: 1.39.7\\u003cbr\\u003eStart Date: 2024-12-09 00:00:00+00:00\\u003cbr\\u003eActive Users: 2\\u003cbr\\u003eUsers: 2\\u003cbr\\u003eProperties: 13\\u003cbr\\u003eEdits: 167\\u003cbr\\u003ePages: 63\",\"enwiki.wikibase.cloud\\u003cbr\\u003eURL: https:\\u002f\\u002fenwiki.wikibase.cloud\\u003cbr\\u003eHost: Wikibase Cloud\\u003cbr\\u003eVersion: 1.39.7\\u003cbr\\u003eStart Date: 2024-12-05 00:00:00+00:00\\u003cbr\\u003eActive Users: 2\\u003cbr\\u003eUsers: 3\\u003cbr\\u003eProperties: 28\\u003cbr\\u003eEdits: 1371\\u003cbr\\u003ePages: 1333\",\"Digital Humanities\\u003cbr\\u003eURL: https:\\u002f\\u002fmy-practice-page.wikibase.cloud\\u003cbr\\u003eHost: Wikibase Cloud\\u003cbr\\u003eVersion: 1.39.7\\u003cbr\\u003eStart Date: 2024-11-11 00:00:00+00:00\\u003cbr\\u003eActive Users: 1\\u003cbr\\u003eUsers: 3\\u003cbr\\u003eProperties: 1\\u003cbr\\u003eEdits: 6\\u003cbr\\u003ePages: 4\",\"Historical Advertisements\\u003cbr\\u003eURL: https:\\u002f\\u002fhistoricalads.wikibase.cloud\\u003cbr\\u003eHost: Wikibase Cloud\\u003cbr\\u003eVersion: 1.39.7\\u003cbr\\u003eStart Date: 2025-01-04 00:00:00+00:00\\u003cbr\\u003eActive Users: 1\\u003cbr\\u003eUsers: 2\\u003cbr\\u003eProperties: 6\\u003cbr\\u003eEdits: 13\\u003cbr\\u003ePages: 13\",\"Endangered Languages Collective\\u003cbr\\u003eURL: https:\\u002f\\u002fendangered-languages-collective.wikibase.cloud\\u003cbr\\u003eHost: Wikibase Cloud\\u003cbr\\u003eVersion: 1.39.7\\u003cbr\\u003eStart Date: 2025-01-06 00:00:00+00:00\\u003cbr\\u003eActive Users: 2\\u003cbr\\u003eUsers: 3\\u003cbr\\u003eProperties: 14\\u003cbr\\u003eEdits: 21\\u003cbr\\u003ePages: 19\",\"Para uma Valida\\u00e7\\u00e3o de Ornitorrinquices\\u003cbr\\u003eURL: https:\\u002f\\u002fparvo.wikibase.cloud\\u003cbr\\u003eHost: Wikibase Cloud\\u003cbr\\u003eVersion: 1.39.7\\u003cbr\\u003eStart Date: 2025-01-03 00:00:00+00:00\\u003cbr\\u003eActive Users: 2\\u003cbr\\u003eUsers: 2\\u003cbr\\u003eProperties: 13\\u003cbr\\u003eEdits: 119\\u003cbr\\u003ePages: 37\",\"DH_DataProject\\u003cbr\\u003eURL: https:\\u002f\\u002fdhdataproject.wikibase.cloud\\u003cbr\\u003eHost: Wikibase Cloud\\u003cbr\\u003eVersion: 1.39.7\\u003cbr\\u003eStart Date: 2025-01-06 00:00:00+00:00\\u003cbr\\u003eActive Users: 2\\u003cbr\\u003eUsers: 3\\u003cbr\\u003eProperties: 14\\u003cbr\\u003eEdits: 1602\\u003cbr\\u003ePages: 804\",\"Knowledge Graph Rijksmuseum\\u003cbr\\u003eURL: https:\\u002f\\u002frijksmuseum-kg.wikibase.cloud\\u003cbr\\u003eHost: Wikibase Cloud\\u003cbr\\u003eVersion: 1.39.7\\u003cbr\\u003eStart Date: 2025-01-02 00:00:00+00:00\\u003cbr\\u003eActive Users: 1\\u003cbr\\u003eUsers: 2\\u003cbr\\u003eProperties: 6\\u003cbr\\u003eEdits: 13\\u003cbr\\u003ePages: 13\",\"Indonesia\\u003cbr\\u003eURL: https:\\u002f\\u002fcrypto.wikibase.cloud\\u003cbr\\u003eHost: Wikibase Cloud\\u003cbr\\u003eVersion: 1.39.7\\u003cbr\\u003eStart Date: 2025-01-02 00:00:00+00:00\\u003cbr\\u003eActive Users: 1\\u003cbr\\u003eUsers: 2\\u003cbr\\u003eProperties: 6\\u003cbr\\u003eEdits: 13\\u003cbr\\u003ePages: 13\",\"wallet\\u003cbr\\u003eURL: https:\\u002f\\u002fwebsite.wikibase.cloud\\u003cbr\\u003eHost: Wikibase Cloud\\u003cbr\\u003eVersion: 1.39.7\\u003cbr\\u003eStart Date: 2025-01-02 00:00:00+00:00\\u003cbr\\u003eActive Users: 1\\u003cbr\\u003eUsers: 2\\u003cbr\\u003eProperties: 6\\u003cbr\\u003eEdits: 13\\u003cbr\\u003ePages: 13\",\"Vivek Nasa Associates\\u003cbr\\u003eURL: https:\\u002f\\u002fviveknasagurgaon.wikibase.cloud\\u003cbr\\u003eHost: Wikibase Cloud\\u003cbr\\u003eVersion: 1.39.7\\u003cbr\\u003eStart Date: 2025-01-02 00:00:00+00:00\\u003cbr\\u003eActive Users: 1\\u003cbr\\u003eUsers: 2\\u003cbr\\u003eProperties: 6\\u003cbr\\u003eEdits: 13\\u003cbr\\u003ePages: 13\",\"Harvard Plate Stacks\\u003cbr\\u003eURL: https:\\u002f\\u002fharvardplatestacks.wikibase.cloud\\u003cbr\\u003eHost: Wikibase Cloud\\u003cbr\\u003eVersion: 1.39.7\\u003cbr\\u003eStart Date: 2024-12-31 00:00:00+00:00\\u003cbr\\u003eActive Users: 2\\u003cbr\\u003eUsers: 2\\u003cbr\\u003eProperties: 13\\u003cbr\\u003eEdits: 113\\u003cbr\\u003ePages: 48\",\"US Elections\\u003cbr\\u003eURL: https:\\u002f\\u002felectionsus.wikibase.cloud\\u003cbr\\u003eHost: Wikibase Cloud\\u003cbr\\u003eVersion: 1.39.7\\u003cbr\\u003eStart Date: 2024-12-29 00:00:00+00:00\\u003cbr\\u003eActive Users: 2\\u003cbr\\u003eUsers: 2\\u003cbr\\u003eProperties: 6\\u003cbr\\u003eEdits: 92\\u003cbr\\u003ePages: 91\",\"Lugares de impresi\\u00f3n en Espa\\u00f1a\\u003cbr\\u003eURL: https:\\u002f\\u002fspain-print-places.wikibase.cloud\\u003cbr\\u003eHost: Wikibase Cloud\\u003cbr\\u003eVersion: 1.39.7\\u003cbr\\u003eStart Date: 2024-12-28 00:00:00+00:00\\u003cbr\\u003eActive Users: 1\\u003cbr\\u003eUsers: 2\\u003cbr\\u003eProperties: 6\\u003cbr\\u003eEdits: 13\\u003cbr\\u003ePages: 13\",\"Rule Hierarchies\\u003cbr\\u003eURL: https:\\u002f\\u002frule-hierarchies.wikibase.cloud\\u003cbr\\u003eHost: Wikibase Cloud\\u003cbr\\u003eVersion: 1.39.7\\u003cbr\\u003eStart Date: 2024-12-27 00:00:00+00:00\\u003cbr\\u003eActive Users: 2\\u003cbr\\u003eUsers: 2\\u003cbr\\u003eProperties: 13\\u003cbr\\u003eEdits: 137\\u003cbr\\u003ePages: 52\",\"knews\\u003cbr\\u003eURL: https:\\u002f\\u002fknews.wikibase.cloud\\u003cbr\\u003eHost: Wikibase Cloud\\u003cbr\\u003eVersion: 1.39.7\\u003cbr\\u003eStart Date: 2024-12-28 00:00:00+00:00\\u003cbr\\u003eActive Users: 2\\u003cbr\\u003eUsers: 2\\u003cbr\\u003eProperties: 1\\u003cbr\\u003eEdits: 8\\u003cbr\\u003ePages: 4\",\"Earthpedia\\u003cbr\\u003eURL: https:\\u002f\\u002fearthpedia.wikibase.cloud\\u003cbr\\u003eHost: Wikibase Cloud\\u003cbr\\u003eVersion: 1.39.7\\u003cbr\\u003eStart Date: 2024-12-23 00:00:00+00:00\\u003cbr\\u003eActive Users: 1\\u003cbr\\u003eUsers: 2\\u003cbr\\u003eProperties: 6\\u003cbr\\u003eEdits: 13\\u003cbr\\u003ePages: 13\",\"brt32\\u003cbr\\u003eURL: https:\\u002f\\u002fbrt32.wikibase.cloud\\u003cbr\\u003eHost: Wikibase Cloud\\u003cbr\\u003eVersion: 1.39.7\\u003cbr\\u003eStart Date: 2024-12-25 00:00:00+00:00\\u003cbr\\u003eActive Users: 1\\u003cbr\\u003eUsers: 2\\u003cbr\\u003eProperties: 6\\u003cbr\\u003eEdits: 13\\u003cbr\\u003ePages: 13\",\"Daniel's Test Wikibase instance\\u003cbr\\u003eURL: https:\\u002f\\u002fdaniels-test-instance.wikibase.cloud\\u003cbr\\u003eHost: Wikibase Cloud\\u003cbr\\u003eVersion: 1.39.7\\u003cbr\\u003eStart Date: 2024-12-21 00:00:00+00:00\\u003cbr\\u003eActive Users: 2\\u003cbr\\u003eUsers: 2\\u003cbr\\u003eProperties: 3\\u003cbr\\u003eEdits: 16\\u003cbr\\u003ePages: 7\",\"SemSacs\\u003cbr\\u003eURL: https:\\u002f\\u002fsemsacs.wikibase.cloud\\u003cbr\\u003eHost: Wikibase Cloud\\u003cbr\\u003eVersion: 1.39.7\\u003cbr\\u003eStart Date: 2024-12-21 00:00:00+00:00\\u003cbr\\u003eActive Users: 2\\u003cbr\\u003eUsers: 2\\u003cbr\\u003eProperties: 6\\u003cbr\\u003eEdits: 114\\u003cbr\\u003ePages: 29\",\"CG_WO2_Test\\u003cbr\\u003eURL: https:\\u002f\\u002fcgwo2test.wikibase.cloud\\u003cbr\\u003eHost: Wikibase Cloud\\u003cbr\\u003eVersion: 1.39.7\\u003cbr\\u003eStart Date: 2025-01-07 00:00:00+00:00\\u003cbr\\u003eActive Users: 1\\u003cbr\\u003eUsers: 2\\u003cbr\\u003eProperties: 6\\u003cbr\\u003eEdits: 13\\u003cbr\\u003ePages: 13\",\"Antibiotic Resistance sandbox\\u003cbr\\u003eURL: https:\\u002f\\u002fantibiotic-resistance-sandbox.wikibase.cloud\\u003cbr\\u003eHost: Wikibase Cloud\\u003cbr\\u003eVersion: 1.39.7\\u003cbr\\u003eStart Date: 2025-01-10 00:00:00+00:00\\u003cbr\\u003eActive Users: 4\\u003cbr\\u003eUsers: 6\\u003cbr\\u003eProperties: 10\\u003cbr\\u003eEdits: 42\\u003cbr\\u003ePages: 26\",\"Aerospace Wikibase\\u003cbr\\u003eURL: https:\\u002f\\u002faerospace.wikibase.cloud\\u003cbr\\u003eHost: Wikibase Cloud\\u003cbr\\u003eVersion: 1.39.7\\u003cbr\\u003eStart Date: 2024-12-18 00:00:00+00:00\\u003cbr\\u003eActive Users: 1\\u003cbr\\u003eUsers: 3\\u003cbr\\u003eProperties: 18\\u003cbr\\u003eEdits: 274\\u003cbr\\u003ePages: 265\",\"LIB\\u003cbr\\u003eURL: https:\\u002f\\u002fbvlib.wikibase.cloud\\u003cbr\\u003eHost: Wikibase Cloud\\u003cbr\\u003eVersion: 1.39.7\\u003cbr\\u003eStart Date: 2025-01-13 00:00:00+00:00\\u003cbr\\u003eActive Users: 1\\u003cbr\\u003eUsers: 2\\u003cbr\\u003eProperties: 6\\u003cbr\\u003eEdits: 13\\u003cbr\\u003ePages: 13\",\"The Lion King\\u003cbr\\u003eURL: https:\\u002f\\u002fthelionking.wikibase.cloud\\u003cbr\\u003eHost: Wikibase Cloud\\u003cbr\\u003eVersion: 1.39.7\\u003cbr\\u003eStart Date: 2025-01-16 00:00:00+00:00\\u003cbr\\u003eActive Users: 2\\u003cbr\\u003eUsers: 2\\u003cbr\\u003eProperties: 3\\u003cbr\\u003eEdits: 27\\u003cbr\\u003ePages: 15\",\"photos-rijksmuseum\\u003cbr\\u003eURL: https:\\u002f\\u002fphotos-rijksmuseum.wikibase.cloud\\u003cbr\\u003eHost: Wikibase Cloud\\u003cbr\\u003eVersion: 1.39.7\\u003cbr\\u003eStart Date: 2025-01-13 00:00:00+00:00\\u003cbr\\u003eActive Users: 2\\u003cbr\\u003eUsers: 2\\u003cbr\\u003eProperties: 5\\u003cbr\\u003eEdits: 249\\u003cbr\\u003ePages: 43\",\"Hack Club Community\\u003cbr\\u003eURL: https:\\u002f\\u002fwikibase.dino.icu\\u003cbr\\u003eHost: Wikibase Cloud\\u003cbr\\u003eVersion: 1.39.7\\u003cbr\\u003eStart Date: 2025-01-13 00:00:00+00:00\\u003cbr\\u003eActive Users: 2\\u003cbr\\u003eUsers: 2\\u003cbr\\u003eProperties: 6\\u003cbr\\u003eEdits: 16\\u003cbr\\u003ePages: 15\",\"PlayTrackerScotland\\u003cbr\\u003eURL: https:\\u002f\\u002fplaytrackerscotland.wikibase.cloud\\u003cbr\\u003eHost: Wikibase Cloud\\u003cbr\\u003eVersion: 1.39.7\\u003cbr\\u003eStart Date: 2025-01-10 00:00:00+00:00\\u003cbr\\u003eActive Users: 2\\u003cbr\\u003eUsers: 2\\u003cbr\\u003eProperties: 13\\u003cbr\\u003eEdits: 24\\u003cbr\\u003ePages: 20\",\"https:\\u002f\\u002fdata.rijksmuseum.nl\\u002fdocs\\u002fdata-dumps\\u002fhistorical-dumps\\u003cbr\\u003eURL: https:\\u002f\\u002frijksmuseum-knowledgegraph.wikibase.cloud\\u003cbr\\u003eHost: Wikibase Cloud\\u003cbr\\u003eVersion: 1.39.7\\u003cbr\\u003eStart Date: 2025-01-12 00:00:00+00:00\\u003cbr\\u003eActive Users: 2\\u003cbr\\u003eUsers: 2\\u003cbr\\u003eProperties: 11\\u003cbr\\u003eEdits: 44\\u003cbr\\u003ePages: 24\",\"rijksmuseum-2\\u003cbr\\u003eURL: https:\\u002f\\u002frijksmuseum-2.wikibase.cloud\\u003cbr\\u003eHost: Wikibase Cloud\\u003cbr\\u003eVersion: 1.39.7\\u003cbr\\u003eStart Date: 2025-01-12 00:00:00+00:00\\u003cbr\\u003eActive Users: 2\\u003cbr\\u003eUsers: 2\\u003cbr\\u003eProperties: 8\\u003cbr\\u003eEdits: 344\\u003cbr\\u003ePages: 77\",\"HistBiblKat\\u003cbr\\u003eURL: https:\\u002f\\u002fhistbiblkat.wikibase.cloud\\u003cbr\\u003eHost: Wikibase Cloud\\u003cbr\\u003eVersion: 1.39.7\\u003cbr\\u003eStart Date: 2025-01-11 00:00:00+00:00\\u003cbr\\u003eActive Users: 2\\u003cbr\\u003eUsers: 2\\u003cbr\\u003eProperties: 6\\u003cbr\\u003eEdits: 20\\u003cbr\\u003ePages: 18\",\"rijksmuseum.wikibase.cloud\\u003cbr\\u003eURL: https:\\u002f\\u002frijksmuseum.wikibase.cloud\\u003cbr\\u003eHost: Wikibase Cloud\\u003cbr\\u003eVersion: 1.39.7\\u003cbr\\u003eStart Date: 2025-01-06 00:00:00+00:00\\u003cbr\\u003eActive Users: 2\\u003cbr\\u003eUsers: 2\\u003cbr\\u003eProperties: 10\\u003cbr\\u003eEdits: 25\\u003cbr\\u003ePages: 17\",\"rc-test-wikidata.wikibase.cloud\\u003cbr\\u003eURL: https:\\u002f\\u002frc-test-wikidata.wikibase.cloud\\u003cbr\\u003eHost: Wikibase Cloud\\u003cbr\\u003eVersion: 1.39.7\\u003cbr\\u003eStart Date: 2025-01-17 00:00:00+00:00\\u003cbr\\u003eActive Users: 1\\u003cbr\\u003eUsers: 2\\u003cbr\\u003eProperties: 6\\u003cbr\\u003eEdits: 13\\u003cbr\\u003ePages: 13\",\"PIT\\u003cbr\\u003eURL: https:\\u002f\\u002fpit-data.wikibase.cloud\\u003cbr\\u003eHost: Wikibase Cloud\\u003cbr\\u003eVersion: 1.39.7\\u003cbr\\u003eStart Date: 2025-01-20 00:00:00+00:00\\u003cbr\\u003eActive Users: 2\\u003cbr\\u003eUsers: 4\\u003cbr\\u003eProperties: 7\\u003cbr\\u003eEdits: 15\\u003cbr\\u003ePages: 15\",\"Johann Christian Bach\\u003cbr\\u003eURL: https:\\u002f\\u002fjcbach.wikibase.cloud\\u003cbr\\u003eHost: Wikibase Cloud\\u003cbr\\u003eVersion: 1.39.7\\u003cbr\\u003eStart Date: 2025-01-16 00:00:00+00:00\\u003cbr\\u003eActive Users: 1\\u003cbr\\u003eUsers: 2\\u003cbr\\u003eProperties: 6\\u003cbr\\u003eEdits: 13\\u003cbr\\u003ePages: 13\"],\"legendgrouptitle\":{\"text\":\"By host\"},\"marker\":{\"color\":\"#ADD8E6\",\"line\":{\"color\":\"black\",\"width\":1},\"showscale\":false,\"size\":[7,6,4,4,4,4,4,6,4,4,4,4,6,6,6,8,4,4,4,4,4,6,6,4,4,4,11,4,7,4,4,4,4,4,4,4,4,4,6,4,20,7,4,6,4,7,4,4,4,6,6,4,4,4,4,4,4,4,4,4,8,6,6,6,6,4,4,4,6,4,4,4,6,6,4,4,4,4,6,4,4,4,4,6,7,7,4,6,4,6,11,6,4,4,7,4,4,4,4,4,4,4,4,4,4,7,4,6,6,4,4,4,6,4,4,4,4,4,6,4,6,4,6,6,8,7,4,6,6,6,4,4,4,6,6,6,6,6,6,4,4,8,6,4,4,4,6,6,7,6,7,9,6,7,7,7,8,6,12,7,9,7,7,7,4,4,6,4,6,7,6,4,4,4,6,4,4,6,4,4,7,4,7,4,6,6,6,6,8,4,6,4,4,6,4,4,4,4,6,4,4,4,6,6,4,6,4,4,4,6,4,4,4,4,6,4,4,20,6,4,6,4,4,4,6,6,4,4,4,4,6,4,4,4,4,4,4,4,4,6,4,4,4,4,6,4,4,6,6,4,4,4,4,4,4,4,4,4,4,6,4,6,4,4,6,4,4,4,6,4,4,6,4,4,4,4,4,4,4,4,4,4,4,7,4,4,4,4,4,6,4,7,6,4,4,4,4,4,4,6,4,4,4,4,4,4,4,4,6,4,7,4,4,4,4,4,4,4,4,7,4,4,4,6,4,6,4,6,4,4,4,4,4,4,7,4,4,4,4,4,4,4,6,4,4,4,4,4,4,4,4,4,4,4,4,4,4,4,4,4,4,4,4,4,4,4,4,4,4,4,4,4,4,4,4,4,4,4,4,4,4,4,4,4,4,4,4,4,6,6,4,7,4,4,4,4,4,4,4,4,4,6,4,6,4,4,4,4,4,4,7,4,4,4,4,4,4,4,4,4,6,4,4,4,4,4,4,4,4,4,4,4,4,6,4,7,6,7,4,6,4,4,4,4,4,4,4,4,4,4,4,4,4,4,4,4,4,4,4,4,4,4,4,6,4,4,4,4,4,4,4,4,4,4,4,4,4,4,4,4,4,6,4,4,4,4,4,4,4,4,4,4,4,4,4,4,4,4,4,4,4,4,6,4,4,4,4,4,4,4,4,4,4,4,4,4,4,4,4,4,4,4,4,4,4,4,4,4,4,4,4,4,4,4,4,4,12,4,4,4,4,4,4,4,6,4,4,4,4,4,4,4,4,4,4,4,4,4,4,4,4,4,4,4,4,4,4,4,4,4,4,4,4,4,4,4,4,4,4,4,4,4,4,4,4,4,4,8,7,7,7,7,7,6,6,7,6,8,6,7,8,7,7,7,7,7,7,7,7,7,6,7,7,7,7,7,6,7,7,6,7,6,7,7,7,7,7,7,6,7,7,7,7,7,7,7,6,7,6,7,6,6,6,7,6,7,7,7,6,7,7,6,7,7,7,7,7,7,7,6,6,7,7,7,7,7,7,7,7,6,7,6,7,7,7,7,7,7,6,6,7,7,7,6,6,6,6,7,7,6,7,7,6,6,7,7,6,9,6,6,7,7,7,7,7,7,7,7,6,7,6]},\"mode\":\"markers\",\"name\":\"Wikibase Cloud (711)\",\"showlegend\":true,\"x\":[-0.23291271924972534,-0.7306130528450012,-0.07599025964736938,-0.9412896037101746,0.9128941297531128,-0.3471323847770691,-0.13600589334964752,-0.6824083924293518,0.8637293577194214,0.7270346283912659,0.3824869394302368,0.5715357661247253,-0.7121060490608215,-0.9591342210769653,-0.7089324593544006,-0.9281290173530579,-0.18457631766796112,-0.9197848439216614,0.7717975974082947,-0.7840180993080139,0.9251343607902527,-0.36697831749916077,-0.24235592782497406,-0.9488878846168518,-0.4334315061569214,0.2461300939321518,1.0,-0.93487149477005,0.07381103187799454,-0.7206143140792847,0.3620055913925171,0.5693581104278564,0.9894633293151855,0.7373968958854675,-0.21763885021209717,-0.5602665543556213,0.9512783885002136,-0.7186179161071777,0.2313080132007599,0.02674301527440548,-0.8261695504188538,-0.4228362441062927,-0.8389357328414917,-0.3970528244972229,-0.7568638324737549,0.28143641352653503,-0.6843856573104858,-0.33293190598487854,-0.07347941398620605,0.106473907828331,-0.8742112517356873,0.9030598998069763,0.6299130916595459,0.9478294253349304,-0.8894802331924438,0.08020374178886414,0.8026533126831055,-0.960273027420044,0.9506925940513611,-0.8737671375274658,0.4230141043663025,-0.6783490777015686,0.9239130616188049,-0.37045401334762573,-0.6958853602409363,-0.8987557888031006,-0.5907180309295654,0.0006113341660238802,-0.5605118274688721,0.4882308542728424,0.870083749294281,-0.9917252659797668,-0.6403512954711914,-0.9355241060256958,-0.9237856864929199,0.964890718460083,-0.1754755675792694,0.2974141240119934,0.1402045041322708,0.9465474486351013,-0.6559295058250427,-0.9462334513664246,0.8670547008514404,-0.8947309255599976,0.4952211081981659,-0.5454658269882202,-0.24894139170646667,0.13415831327438354,0.1706348955631256,0.14665856957435608,0.7763124704360962,0.23485367000102997,-0.591700553894043,0.4725334048271179,0.33518582582473755,0.4954241216182709,-0.44932156801223755,-0.8676626086235046,0.7296130061149597,0.33546409010887146,-0.42994970083236694,0.10363922268152237,-0.11928527802228928,0.27021580934524536,0.4329805374145508,-0.5518348217010498,-0.641454815864563,-0.8877858519554138,-0.12249347567558289,-0.41095009446144104,-0.312740683555603,0.9455309510231018,-0.1393761783838272,-0.8833709955215454,-0.7922736406326294,0.8767719268798828,0.6216619610786438,-0.46828123927116394,0.9319640398025513,0.500923216342926,-0.33097049593925476,-0.3612339496612549,0.9805260300636292,-0.4073507487773895,0.5562052726745605,0.5772682428359985,0.841198205947876,-0.7082419991493225,0.20795772969722748,-0.5068020224571228,0.40493243932724,0.22442714869976044,-0.9394093751907349,-0.6937933564186096,0.3909893035888672,0.26846209168434143,0.020920461043715477,0.6977906823158264,0.21959468722343445,0.9363580346107483,0.003402958856895566,-0.2767179608345032,-0.7493588924407959,-0.8981408476829529,0.9429967403411865,-0.8555760979652405,-0.3048098683357239,-0.6544007062911987,-0.45757365226745605,0.26745545864105225,-0.10082612931728363,0.5823481678962708,0.08426815271377563,-0.7425892353057861,-0.5243342518806458,-0.97474205493927,-0.34022587537765503,0.23585772514343262,-0.43407800793647766,-0.7110042572021484,-0.9786335825920105,0.14955449104309082,0.30701974034309387,0.306083083152771,0.9955928921699524,0.9525139331817627,-0.2707458734512329,0.706032931804657,0.8055749595165254,0.8726734399795533,0.9636917114257814,-1.050101411342621,-0.04616199806332588,0.5451072454452515,0.7154589951038361,-1.0670330107212067,-1.0680161595344544,-0.7982434034347534,1.081898981332779,0.2299573600292206,-0.5364050418138504,0.9783650517463685,-0.5943950533866883,-0.6967724800109864,-0.8200814366340637,0.06058244369924069,-0.4193520784378052,-1.0917347311973573,0.9422658205032349,-0.16242262572050095,0.6270122528076172,0.9163973689079286,0.7708515465259552,0.940987366437912,-0.722291535139084,0.5710902631282807,1.078883445262909,1.0143338739871979,0.9359489500522614,-0.03710640147328377,-0.2667468771338463,-0.5931843280792237,-1.0018672585487367,-0.3246719300746918,1.008758544921875,-0.6667834579944611,-0.762447738647461,0.9348923683166505,0.6152719020843507,0.7115618705749512,0.4994009137153626,0.49886796772480013,-0.10350024551153184,0.19217300713062288,0.4094648599624634,-0.5933331608772279,-0.5500999212265015,0.7294064640998841,0.802283263206482,-1.0062677919864655,-0.99651957154274,1.0102865397930145,0.06957659572362901,0.5382881373167039,-0.06721378080546857,-0.025099471211433414,1.0473190248012543,0.9710374295711518,0.8593784749507904,0.9723419129848481,0.4138470679521561,-0.9016910493373872,0.6260877192020416,0.0005116145999636501,0.792458724975586,0.8022087156772614,-0.32902945280075074,0.8241835176944733,0.7191388368606568,0.4346231430768967,0.960361921787262,-0.6376612722873688,-0.998524159193039,-0.1355084352195263,-0.8739052772521974,-1.085664975643158,0.9734012484550477,-0.666723793745041,0.011200190521776678,0.40374420583248144,-0.2764884263277054,-0.7142053246498109,0.30094581842422485,-0.13578359559178355,-0.8148136734962464,0.45570226013660436,0.10797656401991845,0.9562780022621156,0.9098937034606934,0.7855225920677186,0.9018777132034302,0.7166558861732484,-0.9810238480567933,-0.988351732492447,0.553473573923111,0.7330694556236268,0.21966175287961962,1.0744210839271546,-0.831628566980362,0.8340814232826234,0.4460042953491211,0.5549232184886933,0.14034242779016495,-0.3072538703680039,0.7662105858325959,0.6817045688629151,0.566493558883667,-1.0132273972034456,0.6546050012111664,0.01442128960043192,0.5297875881195069,-0.33661002516746524,-0.7681617379188538,1.0409693062305452,-0.40733700990676885,0.6083635687828064,0.11313064545392991,1.0138322353363038,1.0843698024749757,1.019478440284729,-0.930042451620102,0.03798751458525658,0.8102746009826661,-0.5346954971551896,-1.048081809282303,-0.5706082284450531,-0.9845687568187714,-0.18573993891477586,-0.5556735455989839,0.7353947877883912,-0.8986533522605896,0.9116157710552216,-0.9274449586868286,-0.3641993969678879,-0.2939553320407868,0.9331921339035035,0.005075427889823914,-0.9545931100845337,-0.38458631038665775,-0.9108610510826112,-0.16264458000659943,0.7402470648288727,0.9455899715423585,0.8552575767040254,-0.730360370874405,-1.0381037831306459,0.37740797996520997,-0.04203822128474713,-0.34374262392520905,0.8144963383674623,-1.0264487326145173,-1.018867963552475,1.040519267320633,-0.037461825832724574,-0.8342481553554536,-0.7111361563205719,-0.5412443697452546,-0.7657916247844697,-0.7932817637920381,-1.0832738161087037,-0.6916941344738007,-0.9256953537464142,-0.998620080947876,-0.21732825785875323,-0.13999232649803162,0.2782082974910736,0.8502823650836945,1.0621381819248201,1.0371833801269532,0.9883796632289887,-0.8588367760181428,-0.5021865785121918,0.9874158561229707,-0.5439452260732651,0.9879749298095704,0.3651766777038575,-0.9313831925392152,-0.7840960919857026,0.6694913625717164,-0.9499474942684174,0.6911701381206513,0.03634644038975239,0.4602650344371796,-0.284264874458313,-0.3645631521940232,-0.05846129767596722,0.45782034099102026,0.10656123459339142,-1.0170013248920442,1.0605463922023775,-0.015473901573568583,0.19564636796712878,0.964999407529831,0.9402064204216004,0.24621157348155978,1.047914880514145,-0.6610043525695801,-1.0324598729610444,-0.8039591729640961,-0.5242492705583572,-0.28362063169479373,0.7775981962680817,-0.8560939252376557,-1.0622977674007417,-0.9765273928642274,0.9693929910659791,0.1610002562403679,-0.20078763961791993,0.039525032788515095,0.14267195612192154,0.9789035379886628,-0.6349064886569977,0.13386536538600924,-1.0444830715656281,0.07712512314319611,0.15911917686462404,0.2426341772079468,0.66035053730011,1.0709735393524171,0.21322124302387238,1.0636320829391481,0.8819078266620637,-0.6449369668960572,0.38780139386653906,0.6261650204658509,0.8820247948169709,1.063639295101166,-0.926549404859543,-0.8570489466190339,1.0450247049331667,0.05049052685499192,0.7681967496871949,-0.9255805492401123,-0.33983815610408785,0.22522834539413453,0.8977411448955537,-0.9380234301090241,-0.9612756371498109,-0.625129222869873,-0.9457873225212098,0.5388044625520707,0.7639559984207154,0.835644692182541,-0.20767799168825152,-0.3147429794073105,-0.2409584641456604,0.9419756948947907,0.2999806344509125,-0.38264161646366124,0.4800666868686676,0.12164656817913055,-0.16255803406238556,-0.4875715255737305,0.46204630732536317,-0.8876702129840851,0.7553052067756654,1.0251917839050293,0.10855888053774834,-0.9093678712844849,0.984019845724106,-0.432556825876236,0.921812653541565,-0.733142364025116,-0.5314310431480408,-1.07751424908638,0.7451014399528504,-0.8564386665821077,-1.0559953868389131,-1.014315515756607,-1.0310657620429993,-0.9115925610065461,-0.3305957704782486,-0.4395478039979935,-1.0498858988285065,-1.034598869085312,-0.6694457292556764,-0.21319318115711214,1.0223243594169618,0.8713818728923798,-0.21800739765167237,-0.1880937919020653,-0.27353625893592837,-1.0441848814487458,0.5688777685165406,0.958632117509842,-1.0281119227409363,-1.0890582323074343,1.0220622301101685,0.3110919535160065,0.8733850836753846,-1.0887372255325318,0.928642898797989,-0.9711806237697602,1.0784760236740114,1.0397135376930238,-0.5857530474662781,-1.0551478922367097,0.4327929586172104,1.057820326089859,1.0531037688255311,1.0730510354042053,-0.14286788105964662,-0.8275354683399201,1.0226955235004427,0.9419818580150605,-0.08825840651988984,-0.8305293679237367,-0.3037498414516449,0.8698366343975068,0.9928340911865235,0.3344624072313309,0.6852560341358185,-0.8492166697978974,0.4902728080749512,1.0349087953567506,0.3881760656833649,-1.0025394320487977,0.49161859750747683,0.9670512020587922,-0.9574814498424531,0.7332645118236543,-0.8115626275539399,0.835607123374939,-0.12249926030635835,-0.6330818772315979,-0.9869790613651277,-0.8286919713020325,0.9518029868602753,0.16230695247650148,1.0616657853126528,-0.3835213035345078,1.0101849138736725,0.8323350310325623,-1.0357600271701815,-0.22991800457239153,-0.2525478020310402,1.0164324820041657,-0.9712016701698304,0.9876832306385042,0.6990401148796083,-0.8940399944782258,0.8684300661087037,-0.4130939215421677,-0.8237393140792847,-1.052355408668518,-0.938731861114502,0.6638383388519288,-0.8189473569393159,-1.050399535894394,-0.8463072836399079,0.7187390863895416,-0.22120487689971927,-0.9455339789390564,-0.6308412551879883,-0.9882207334041596,-0.5297561824321747,-0.9958984076976777,-0.9139906704425812,-0.6851925671100617,-1.0348670959472657,0.3287133634090424,0.8316950500011445,0.09841898232698441,-0.38380434811115266,0.504041087627411,1.0901901483535767,-0.2838729590177536,1.091409069299698,-0.7132046699523926,0.029915640316903594,1.0585750460624697,0.777572625875473,-0.6936260104179383,-0.12231988236308099,1.035410237312317,0.3381327420473099,-0.5821687996387482,-0.43815218508243564,0.9142275571823121,-0.3539944171905518,-0.23850660771131518,-0.5817382335662842,0.7852442681789399,0.7545816302299501,-0.957520592212677,-1.015700513124466,-0.8807378828525544,-0.7929922938346864,0.27122994065284733,-0.20968441516160966,0.6367785692214967,0.19826310425996782,-1.0103691518306732,0.22888038754463197,-0.6004160940647125,0.8701981604099275,1.0387970685958863,0.8699943184852601,-0.649477481842041,0.9316788256168366,0.5673778355121613,1.0406751155853273,-0.6856939435005188,1.0196390092372896,-0.9616752564907075,0.34358592331409454,0.6625284135341645,0.9436646521091462,0.6179263055324555,0.9156542539596558,-0.03454203940927983,0.5918582737445832,1.0619801044464112,-1.0375614941120148,0.9593078970909119,0.40320404767990115,-0.9943826079368592,0.8829676866531373,-1.0364736378192902,0.9548193752765656,0.27739447057247163,-1.0109387159347536,0.20618440210819247,-0.15187775641679765,0.39873978495597845,-0.4815045893192292,-0.9307982206344605,0.9900086283683778,1.0193077743053438,-0.40026302635669714,0.7888664782047272,0.8452960073947907,-0.9663115620613099,1.0038432598114015,0.42022258639335636,0.5863822758197785,-0.7885463893413545,-0.9019720613956452,1.0682155430316926,-0.406157460808754,1.0976829290390016,0.06194142401218415,0.835440719127655,0.8503635346889497,0.6845276057720184,0.7414178609848023,0.7851152360439301,-1.0136058390140534,0.4813732624053956,-0.3008560597896576,-0.9021940648555756,-0.032495694980025296,0.9269246339797974,-0.8439940810203553,0.9156568109989167,-0.43157469332218173,0.38314355015754703,-0.16370132565498352,-0.8849632918834687,-0.9449076354503633,0.9886592328548433,-1.0016967236995697,-1.0293559551239015,0.9938422858715058,1.097820156812668,0.2661297619342804,-0.00564855863340199,0.0780029334127903,-0.5708392143249512,-0.7107160806655884,0.44877215921878816,0.9749650418758393,-0.9880757033824922,0.9122505068778992,-1.0666353583335877,-0.10109851360321045,-0.605723786354065,-0.8428398072719575,0.9183131158351899,0.15538739114999772,-0.46074815094470983,1.0065573930740357,-0.07558817863464357,0.48104130625724795,-1.0258230447769165,-0.680034625530243,-0.1038139581680298,-0.7796107828617097,0.798514449596405,-1.0767559230327608,1.0144941806793213,-0.9466736972332002,0.24997573196887973,-1.0658022224903108,-0.9910395741462709,0.28124805986881257,0.6631295144557954,-0.9147993505001069,1.0921249747276307,0.6042536854743958,-0.08080276027321816,-0.5021403878927231,0.9886434972286225,-0.9282285928726197,-0.9449647426605225,-1.0339468896389008,-1.0511992990970613,-0.3842468470335007,-0.5563288033008575,-0.8736722588539124,0.9580393433570863,0.6738362312316895,-0.48038824498653415,-1.0532841384410858,0.4256462305784226,0.3132120013237,-0.43788894116878513,-0.8654787838459016,1.0684231877326966,0.8513226211071016,-0.07221954166889191,-0.8827426671981812,0.5724911272525788,-0.2270591363310814,0.7957256376743317,0.5493067800998688,-0.04903083853423596,0.6907855987548829,0.9229458808898926,-0.6867967486381531,-0.3577822774648667,0.03242440931499005,-0.46651443839073187,0.07762856483459474,-0.5234030544757844,-0.9085656166076661,-0.4855457276105881,0.08754344359040261,-1.0712256371974946,0.436067345738411,-0.6652378916740418],\"y\":[-0.9620618224143982,0.571748673915863,-0.9644680619239807,0.2540864646434784,-0.13198493421077728,-0.4303424656391144,0.523352861404419,-0.6249476671218872,0.3786962032318115,0.678403913974762,0.2616157531738281,-0.8461959958076477,-0.5864048600196838,0.22145064175128937,0.27889779210090637,-0.22409792244434357,-0.44557368755340576,-0.07139741629362106,-0.6525972485542297,-0.5558801293373108,-0.09494958072900772,0.44548657536506653,0.01803046464920044,0.27644336223602295,-0.046137887984514236,-0.4475809633731842,-0.013952615670859814,0.1703740656375885,-0.9877490401268005,0.6555641293525696,-0.2056596428155899,-0.37950482964515686,-0.1817283034324646,-0.7198925018310547,-0.9121523499488831,-0.7893646955490112,0.2209417074918747,0.6856945157051086,-0.5181118845939636,0.9459079504013062,0.4396592378616333,-0.909629225730896,0.525786817073822,-0.9149564504623413,0.6355929374694824,0.30538514256477356,-0.1765899807214737,0.8479202389717102,0.7202871441841125,0.9138413667678833,0.013656080700457096,0.42542538046836853,-0.7712512016296387,-0.12549157440662384,-0.3746807873249054,-0.4689205586910248,-0.5117790102958679,0.13433584570884705,-0.35859426856040955,0.40385541319847107,-0.7340983152389526,0.7486658096313477,-0.4300721287727356,0.9264667630195618,-0.7186660170555115,-0.3035043179988861,0.7114070057868958,-0.939184844493866,0.7986220121383667,0.821828305721283,-0.49509096145629883,-0.07042370736598969,-0.7040666937828064,0.2877542972564697,-0.20076847076416016,-0.3212932348251343,-0.9804748296737671,-0.30914759635925293,0.943476140499115,-0.05626128613948822,0.7473810315132141,-0.23548080027103424,0.2841193675994873,-0.4860862195491791,-0.700658917427063,-0.2166442573070526,0.8887253403663635,-0.27788007259368896,0.9470152258872986,-0.5285266637802124,-0.3790731728076935,-0.903233528137207,-0.05185168981552124,-0.8123577833175659,-0.8698332905769348,-0.8757076859474182,-0.9168931245803833,0.3375718295574188,-0.5308910608291626,-0.6252237558364868,0.8404915928840637,0.9910984635353088,-0.28159239888191223,-0.745284914970398,-0.8091796040534973,0.8228829503059387,-0.7393338680267334,-0.45036596059799194,-0.09448015689849854,0.8846274018287659,0.286480575799942,-0.27234017848968506,-0.23930977284908295,0.3585653603076935,0.46954143047332764,0.4166506826877594,0.7876423001289368,-0.4149562418460846,0.39540213346481323,-0.448498010635376,-0.9396336078643799,-0.8716477751731873,-0.21966031193733215,-0.8789442181587219,-0.272823303937912,0.5356113314628601,0.48028478026390076,0.7551394701004028,-0.8911901712417603,-0.3389073610305786,0.6399826407432556,-0.9515450596809387,-0.30211010575294495,0.7102788686752319,0.12611167132854462,0.819210410118103,-0.7572391033172607,-0.6790846586227417,0.375926673412323,-0.3965941071510315,0.12805649638175964,0.33639416098594666,-0.5431473255157471,0.404776006937027,-0.24505165219306946,0.47578588128089905,-0.9395679235458374,0.19154959917068481,-0.803176999092102,-0.960722804069519,-0.979224681854248,0.27414780855178833,0.2090117633342743,0.6725040078163147,-0.7918968200683594,-0.16667649149894714,0.19945146143436432,0.973024845123291,0.891532301902771,-0.6676806211471558,0.13292427361011505,0.9151133894920349,0.9389254450798035,0.8941685557365417,-0.09061198681592941,-0.08804988116025925,-0.06807152926921844,-0.08933092653751373,0.6986079096794129,0.48619905114173895,-0.01544163227081299,0.25486813485622406,0.9903663396835327,-0.025183411315083504,-0.8901053011417389,0.11601058468222619,-0.004157520201988518,-0.6043905019760132,-0.039320047572255136,0.9687075078487397,0.9102074325084687,-0.23838654160499576,0.784864515066147,0.8399833977222443,-0.6936933457851411,-1.0761285305023194,0.888725483417511,0.001513718196656555,-0.6083440959453583,-1.0845194220542909,0.8224280774593354,-0.6531004130840302,0.7013565957546235,-0.5180633991956711,0.7810396432876587,-0.986415857076645,0.1584055006504059,-0.03407997954636813,-0.42557889521121983,1.0748487651348115,-1.0281572282314302,0.9312157392501832,0.4686655640602112,-0.9696717739105225,0.014077653642743828,-0.8551973879337311,0.544365268945694,0.620036780834198,0.7848248481750489,0.8301334202289582,-0.9552328944206239,-1.0041716754436494,1.0203819930553437,0.9519312977790834,-0.9599566638469696,-0.9665500879287721,-0.9860589206218721,-0.8005062520503998,0.7885408818721772,-0.38000376820564274,0.1645286098122597,-0.25340693444013596,0.9589593529701234,-0.9261624395847321,-1.0113309264183046,-1.0576685428619386,0.18022427409887315,-0.5721339941024781,-0.5845840871334076,-0.35324310660362246,-0.9140657424926758,-0.5972740828990937,0.7213530361652375,1.0791162669658663,0.6070009291172028,0.6477344334125519,1.0404024958610536,0.5336495041847229,0.7218107461929322,1.021516925096512,-0.46150355935096743,0.7499811887741089,-0.5128308117389679,1.0771461665630342,-0.5787083387374878,0.03395353313535452,0.14362902641296388,-0.7212093174457551,1.0618284523487092,0.9488819301128388,-0.9681862652301789,0.878475558757782,-0.9686282396316529,0.974891084432602,-0.7255491375923158,0.797521334886551,1.0417726755142214,0.5486624389886856,-0.5410532802343369,0.8335242509841919,-0.5999831676483155,0.8595278322696687,0.48768826425075534,-0.4476492911577225,-0.8490781962871552,0.7765100777149201,-1.0454780876636507,0.23563639670610428,-0.8177021443843843,0.7802419126033784,-0.9269942641258241,0.7942936956882477,-0.9940391778945924,0.9647732734680177,-0.7846671640872956,-0.6599407553672791,-0.8815930485725404,0.4322859436273575,-0.8220521926879883,-1.0933732688426971,0.9685957193374635,1.0153785884380342,-0.8652750074863435,0.284829193353653,-1.0253549098968506,0.8781620264053346,-1.0173798322677614,-0.19771553725004198,-0.06969850584864618,0.24127463549375536,-0.6321437716484071,-1.086106950044632,-0.7436725795269014,-0.9083580374717714,0.34634460806846623,-0.7858007848262788,0.2861756056547165,1.0727188169956208,0.9470724642276764,-0.864178627729416,-0.4806936472654343,0.564814043045044,-0.5003184974193573,-0.9445443391799927,1.0404325902462006,-0.3790152102708817,0.9880917012691499,0.5965013980865479,0.9662502586841584,-0.3811625331640244,1.0679899990558626,0.8185033500194551,-0.5783818900585175,-0.6418421626091004,0.6617793321609498,-0.007330520357936621,0.9918786764144898,0.9682169497013093,-0.8916361808776856,-0.678922575712204,-0.11718960106372835,0.36581390500068667,0.35468163788318635,-0.9509573936462403,-0.6672382831573487,-0.835644692182541,-0.8726133823394776,0.7656086325645447,-0.7876090049743653,-0.14235163778066637,-0.8695211350917816,-0.5295341789722443,0.33778803348541264,0.9805149972438814,0.903271234035492,1.0222201108932496,-0.6186968266963959,0.04982133656740189,-0.23292232900857926,-0.31913364529609684,0.48043132126331334,0.9770357847213746,0.4240380167961121,0.865840768814087,-0.28473881185054783,1.0374317407608034,0.07414932772517205,-0.6860487818717957,0.8217489540576935,-0.36977528333663945,0.7780979335308076,1.013569450378418,-0.9631701409816743,-1.0005541861057283,-0.9942125320434572,-1.0838100731372835,0.9154190063476563,-1.0776486575603486,-0.43150375187397005,0.12404598221182825,1.0209606707096102,-0.9869770288467408,-0.4003432452678681,-0.3238267630338669,1.0058066070079805,-0.007231691200286151,0.8657040655612946,-0.04371704459190369,0.7880532741546632,-0.9724496364593507,-1.0663797199726106,0.7755719721317292,0.600212973356247,-0.03900567926466465,0.038026931509375576,0.3549796640872956,-1.014666485786438,1.0536308467388154,-1.0487429678440094,0.9682221293449402,0.5358740627765656,-0.8902459383010864,-1.0714877009391786,0.20143542289733887,1.0300230145454408,-1.0554957807064058,1.0329824268817902,0.770371150970459,-0.2744260922074318,1.05525404214859,-0.03608391359448433,-0.3570033639669419,-0.8021683275699616,1.0498184978961946,-0.837180095911026,0.6704005539417267,0.34196502268314366,0.6579059422016145,-0.7146324813365937,0.07501922100782395,1.0725517570972443,0.8111702203750611,0.30843046903610233,0.9725592613220215,-1.06901353597641,-0.4586186289787293,-0.6010038197040558,-0.5794311940670014,-0.7631959676742555,-0.5486472606658936,0.8770126700401307,0.5445142000913621,-0.5073292434215546,-0.9335241556167603,-0.9379347205162049,0.9790411591529847,-0.19936561435461045,0.9857072293758393,1.033201152086258,0.8531740307807922,0.9604795575141907,1.0227196514606476,-0.9689437389373781,1.0112204492092134,0.6347813248634339,0.6471137940883637,0.32302260696887974,-1.0542594194412231,-0.31629202067852025,0.5068176716566086,1.0003186762332916,-0.490307754278183,-0.8640555620193482,0.9727480232715607,-0.10882881209254265,0.7390584349632264,0.7539306998252869,0.09161420091986656,-0.15717982649803164,0.07782136723399163,0.46476276814937595,-1.0575615406036378,-0.8780524015426636,0.2744529739022255,0.11303212568163873,-0.768841713666916,-1.02534795999527,-0.354500350356102,0.7555764496326447,1.0280827462673188,-1.0022824823856356,1.0595345914363863,-0.08328016251325608,-0.9338511288166047,0.49996451139450077,-0.365085443854332,-0.03687778413295746,-0.39310895502567295,1.025593239068985,-0.49530329108238225,0.08873847424983979,0.087203086912632,0.22338932603597642,0.18859788924455645,0.14683863520622253,-0.8327560901641846,-0.22892879098653796,-0.9931008756160737,0.21115582734346391,-0.16495750397443773,0.2727906197309494,1.0496519625186922,0.5496043145656586,0.4075451791286469,-0.2744734793901444,-1.0954478144645692,0.6065125346183777,0.938480418920517,0.5300347685813904,0.2980313837528229,-0.9585408508777619,-0.9026090264320374,-0.6412093937397003,0.8831474661827088,-0.1922562584280968,-1.0453603982925417,0.4090738624334336,-0.9239416837692261,0.5971424281597137,-0.27505389451980594,-0.7590040624141694,-0.760562413930893,0.7051829755306245,-0.9644168615341188,0.8500721633434296,0.5171912521123887,0.6560340583324433,0.5759260833263398,-1.0790955483913423,-0.31571740806102755,-0.812544071674347,0.3580430954694748,0.5867439985275269,-0.28756450414657597,-1.0690073072910309,1.0405477225780488,0.27481994181871416,-0.06950662955641747,-0.5276489526033402,-0.7992582857608795,-0.5307782769203186,0.43760612607002264,-0.9923515975475312,0.39386410117149356,-0.11848353669047357,-0.1683618411421776,-0.8749032437801362,-0.5029817193746567,-0.14911205619573595,0.7205408811569215,-0.7257232785224915,1.0708546042442322,-0.4221299082040787,0.9171509742736818,0.3105556309223175,-0.8285692334175111,0.37262880802154547,0.6165053129196167,0.8703721046447754,0.14162204563617709,-1.065318548679352,-0.7538223862648011,-0.9804118633270265,-1.0153008282184601,1.0013468682765962,-0.16172320991754532,0.9975244224071503,0.13062022030353548,0.7358960986137391,1.0908853352069856,0.3080022633075714,-0.5634236037731171,-0.900321787595749,-1.02349613904953,0.11202071830630303,-1.0088509917259216,0.9568450093269348,1.021801018714905,-0.6267494678497315,0.8908987700939179,-0.9589781701564789,-0.9193106889724733,-0.8586618483066559,-0.6965709984302522,0.49930427074432376,0.2184418320655823,0.6635019898414612,0.6692877173423768,0.972860860824585,-1.0498221039772035,0.9338629305362702,-1.0256506741046907,-0.40548738539218904,1.0746906876564026,0.8233445465564728,0.5768885791301728,0.38499163389205937,-0.7828614354133606,0.8927387237548828,0.38360460400581364,0.9472270667552949,0.03480007909238339,0.6838737905025483,0.17242304235696795,0.3366991609334946,0.8949590206146241,0.8975672006607056,0.18441434353590014,-0.9633091390132905,-0.6888848006725312,-1.0279524683952332,0.9503518998622895,-0.20613381862640381,-0.20037525147199634,0.26748281270265584,1.0270484566688538,-0.19884932190179827,0.62271426320076,-0.17381515353918078,-0.11897420138120653,-0.9523534715175629,-0.33788952827453617,1.0090806007385256,-1.055976176261902,-0.9976798117160798,-0.8179425060749055,0.44680628776550296,-0.1843783646821976,0.45878208279609684,0.928397423028946,-0.622117292881012,0.6367713570594788,-0.31694413125514986,-0.4336227834224701,-1.0395534276962282,0.8328962028026582,-0.6108488142490387,-0.5607781171798707,0.01111587891355157,-0.9192478120326997,0.09564968422055245,-0.9990716934204102,0.7408732771873475,-0.6761502861976624,0.7101227819919587,0.8688867926597595,-0.7036418020725251,-0.29766258001327517,0.9890709817409516,-1.0412213385105134,-0.6422769248485566,-1.0895974397659303,0.6656108915805817,-0.7488479614257814,0.4928222090005875,0.9385359525680542,-0.8777202486991883,-0.9813657701015474,-0.7070742011070252,-0.4761640161275864,-0.07293342277407647,-0.015830384194850923,0.03672585338354111,-0.3822585850954056,0.05718599893152714,-1.0645737290382387,-1.0819845438003541,0.9989012897014619,0.9069337010383607,-0.7183230102062226,-1.0226016342639923,-0.48006018996238714,-0.2596123278141022,0.7107428312301637,-0.07146585434675218,1.0766192197799684,-0.9064961850643158,-0.5593265056610108,0.3268656075000763,1.0654807567596436,0.8829271674156189,0.08901746198534967,1.0662374436855317,-0.66062171459198,0.24520667344331742,0.7323995113372803,-0.9942198753356934,0.610776299238205,-0.81996328830719,-0.21057421565055848,0.49631037116050725,0.4144912123680115,-0.9238726437091828,-0.268711830675602,0.11042200326919556,-1.0349804580211641,-0.9264388620853424,-0.6763808131217957,0.023073980584740642,-0.739195728302002,-1.0390350699424744,0.9206035673618317,0.3874293118715287,0.18680556863546374,0.5641892075538636,0.39419828653335576,-0.3127109527587891,0.9953766405582429,-0.9334673762321473,0.5636863887310029,0.2252865016460419,-0.7471942126750947,1.0064952373504639,0.0564637091010809,1.001108342409134,-1.0245416402816774,-0.9403808891773224,-0.4613462030887604,-0.11132529377937318,0.33103171288967137,1.0003608345985413,0.7008775770664216,0.8695994853973389,0.9349421977996827,-0.6559271216392517,0.9852417826652528,1.0322703242301943,0.9053375184535981,0.4494130909442902,0.7842838704586029,1.0348187744617463,-1.0209648668766023,-0.9066359043121338,-1.0342150509357453,0.951891040802002,-0.4305990189313889,0.8489507377147675,1.0671065747737885,0.058361675590276725,0.9442938804626465,-0.9233605146408081],\"type\":\"scatter\"},{\"hoverinfo\":\"text\",\"hovertext\":[\"DataTrek\\u003cbr\\u003eURL: https:\\u002f\\u002fdata.wikitrek.org\\u002f\\u003cbr\\u003eHost: independently hosted Wikibase\\u003cbr\\u003eVersion: 1.39.11\\u003cbr\\u003eStart Date: 2020-10-31 00:00:00+00:00\\u003cbr\\u003eActive Users: 3\\u003cbr\\u003eUsers: 38\\u003cbr\\u003eProperties: 191\\u003cbr\\u003eEdits: 84863\\u003cbr\\u003ePages: 13346\",\"MiMoTextBase\\u003cbr\\u003eURL: https:\\u002f\\u002fdata.mimotext.uni-trier.de\\u002f\\u003cbr\\u003eHost: independently hosted Wikibase\\u003cbr\\u003eVersion: 1.39.5\\u003cbr\\u003eStart Date: 2023-04-28 00:00:00+00:00\\u003cbr\\u003eActive Users: 1\\u003cbr\\u003eUsers: 3\\u003cbr\\u003eProperties: 58\\u003cbr\\u003eEdits: 116092\\u003cbr\\u003ePages: 4450\",\"Imedwiki base\\u003cbr\\u003eURL: https:\\u002f\\u002fbase.imedwiki.org\\u002fwiki\\u002fHauptseite\\u003cbr\\u003eHost: independently hosted Wikibase\\u003cbr\\u003eVersion: 1.35.3\\u003cbr\\u003eStart Date: 2021-08-25 00:00:00+00:00\\u003cbr\\u003eActive Users: 0\\u003cbr\\u003eUsers: 1\\u003cbr\\u003eProperties: 26\\u003cbr\\u003eEdits: 892\\u003cbr\\u003ePages: 263\",\"PersonalData.io\\u003cbr\\u003eURL: https:\\u002f\\u002fwiki.personaldata.io\\u003cbr\\u003eHost: independently hosted Wikibase\\u003cbr\\u003eVersion: 1.35.1\\u003cbr\\u003eStart Date: 2019-02-06 00:00:00+00:00\\u003cbr\\u003eActive Users: 0\\u003cbr\\u003eUsers: 13574\\u003cbr\\u003eProperties: 309\\u003cbr\\u003eEdits: 65858\\u003cbr\\u003ePages: 17614\",\"Rhizome Artbase\\u003cbr\\u003eURL: https:\\u002f\\u002fartbase.rhizome.org\\u002f\\u003cbr\\u003eHost: independently hosted Wikibase\\u003cbr\\u003eVersion: 1.35.1\\u003cbr\\u003eStart Date: 2015-02-09 00:00:00+00:00\\u003cbr\\u003eActive Users: 0\\u003cbr\\u003eUsers: 27\\u003cbr\\u003eProperties: 120\\u003cbr\\u003eEdits: 202723\\u003cbr\\u003ePages: 28533\",\"DeJongeWiki\\u003cbr\\u003eURL: https:\\u002f\\u002fset.kuleuven.be\\u002frlicc\\u002fdejongewiki\\u002fw\\u002findex.php\\u002fMain_Page\\u003cbr\\u003eHost: independently hosted Wikibase\\u003cbr\\u003eVersion: 1.39.4\\u003cbr\\u003eStart Date: 2021-04-13 00:00:00+00:00\\u003cbr\\u003eActive Users: 1\\u003cbr\\u003eUsers: 32\\u003cbr\\u003eProperties: 35\\u003cbr\\u003eEdits: 12622\\u003cbr\\u003ePages: 3039\",\"Crystal Pool\\u003cbr\\u003eURL: https:\\u002f\\u002fcrystalpool.cxuesong.com\\u003cbr\\u003eHost: independently hosted Wikibase\\u003cbr\\u003eVersion: 1.43.0-wmf.7\\u003cbr\\u003eStart Date: 2017-11-13 00:00:00+00:00\\u003cbr\\u003eActive Users: 1\\u003cbr\\u003eUsers: 28\\u003cbr\\u003eProperties: 147\\u003cbr\\u003eEdits: 130017\\u003cbr\\u003ePages: 10784\",\"Undata\\u003cbr\\u003eURL: https:\\u002f\\u002fdata.uncyclomedia.org\\u003cbr\\u003eHost: independently hosted Wikibase\\u003cbr\\u003eVersion: 1.39.3\\u003cbr\\u003eStart Date: 2019-04-12 00:00:00+00:00\\u003cbr\\u003eActive Users: 0\\u003cbr\\u003eUsers: 87323\\u003cbr\\u003eProperties: 60\\u003cbr\\u003eEdits: 58372\\u003cbr\\u003ePages: 14758\",\"MaRDi portal\\u003cbr\\u003eURL: https:\\u002f\\u002fportal.mardi4nfdi.de\\u002f\\u003cbr\\u003eHost: independently hosted Wikibase\\u003cbr\\u003eVersion: 1.44.0-wmf.15\\u003cbr\\u003eStart Date: 2021-12-15 00:00:00+00:00\\u003cbr\\u003eActive Users: 9\\u003cbr\\u003eUsers: 477\\u003cbr\\u003eProperties: 1623\\u003cbr\\u003eEdits: 36415688\\u003cbr\\u003ePages: 12755851\",\"DNB Doku wiki\\u003cbr\\u003eURL: https:\\u002f\\u002fsta.dnb.de\\u002fwiki\\u002fHauptseite\\u003cbr\\u003eHost: independently hosted Wikibase\\u003cbr\\u003eVersion: 1.35.7\\u003cbr\\u003eStart Date: 2020-03-31 00:00:00+00:00\\u003cbr\\u003eActive Users: 0\\u003cbr\\u003eUsers: 88\\u003cbr\\u003eProperties: 1562\\u003cbr\\u003eEdits: 149543\\u003cbr\\u003ePages: 9997\",\"De Jonge Wiki\\u003cbr\\u003eURL: https:\\u002f\\u002fset.kuleuven.be\\u002frlicc\\u002fdejongewiki\\u002fw\\u002findex.php\\u003cbr\\u003eHost: independently hosted Wikibase\\u003cbr\\u003eVersion: 1.39.4\\u003cbr\\u003eStart Date: 2021-04-13 00:00:00+00:00\\u003cbr\\u003eActive Users: 1\\u003cbr\\u003eUsers: 32\\u003cbr\\u003eProperties: 35\\u003cbr\\u003eEdits: 12622\\u003cbr\\u003ePages: 3039\",\"Librarybase\\u003cbr\\u003eURL: https:\\u002f\\u002flibrarybase.org\\u003cbr\\u003eHost: independently hosted Wikibase\\u003cbr\\u003eVersion: 1.39.1\\u003cbr\\u003eStart Date: 2023-05-04 00:00:00+00:00\\u003cbr\\u003eActive Users: 0\\u003cbr\\u003eUsers: 6\\u003cbr\\u003eProperties: 29\\u003cbr\\u003eEdits: 1096\\u003cbr\\u003ePages: 512\",\"Biblissima\\u003cbr\\u003eURL: https:\\u002f\\u002fdata.biblissima.fr\\u002f\\u003cbr\\u003eHost: independently hosted Wikibase\\u003cbr\\u003eVersion: 1.39.4\\u003cbr\\u003eStart Date: 2019-01-02 00:00:00+00:00\\u003cbr\\u003eActive Users: 3\\u003cbr\\u003eUsers: 18\\u003cbr\\u003eProperties: 308\\u003cbr\\u003eEdits: 1763961\\u003cbr\\u003ePages: 411709\",\"Enslaved.org\\u003cbr\\u003eURL: https:\\u002f\\u002flod.enslaved.org\\u002f\\u003cbr\\u003eHost: independently hosted Wikibase\\u003cbr\\u003eVersion: 1.37.0-alpha\\u003cbr\\u003eStart Date: 2019-07-01 00:00:00+00:00\\u003cbr\\u003eActive Users: 0\\u003cbr\\u003eUsers: 1\\u003cbr\\u003eProperties: 83\\u003cbr\\u003eEdits: 6467973\\u003cbr\\u003ePages: 1137805\",\"EU Knowledge Graph\\u003cbr\\u003eURL: https:\\u002f\\u002flinkedopendata.eu\\u002f\\u003cbr\\u003eHost: independently hosted Wikibase\\u003cbr\\u003eVersion: 1.39.1\\u003cbr\\u003eStart Date: 2019-12-17 00:00:00+00:00\\u003cbr\\u003eActive Users: 0\\u003cbr\\u003eUsers: 109\\u003cbr\\u003eProperties: 3272\\u003cbr\\u003eEdits: 44494366\\u003cbr\\u003ePages: 3424918\",\"FactGrid\\u003cbr\\u003eURL: https:\\u002f\\u002fdatabase.factgrid.de\\u002f\\u003cbr\\u003eHost: independently hosted Wikibase\\u003cbr\\u003eVersion: 1.39.10\\u003cbr\\u003eStart Date: 2018-01-11 00:00:00+00:00\\u003cbr\\u003eActive Users: 47\\u003cbr\\u003eUsers: 627\\u003cbr\\u003eProperties: 1195\\u003cbr\\u003eEdits: 9730625\\u003cbr\\u003ePages: 1021498\",\"Femiwiki\\u003cbr\\u003eURL: https:\\u002f\\u002ffemiwiki.com\\u002f\\u003cbr\\u003eHost: independently hosted Wikibase\\u003cbr\\u003eVersion: 1.42.4\\u003cbr\\u003eStart Date: 2016-07-25 00:00:00+00:00\\u003cbr\\u003eActive Users: 26\\u003cbr\\u003eUsers: 6149\\u003cbr\\u003eProperties: 83\\u003cbr\\u003eEdits: 316700\\u003cbr\\u003ePages: 72362\",\"Lingua Libre\\u003cbr\\u003eURL: https:\\u002f\\u002flingualibre.org\\u002f\\u003cbr\\u003eHost: independently hosted Wikibase\\u003cbr\\u003eVersion: 1.35.2\\u003cbr\\u003eStart Date: 2018-01-15 00:00:00+00:00\\u003cbr\\u003eActive Users: 23\\u003cbr\\u003eUsers: 3454\\u003cbr\\u003eProperties: 39\\u003cbr\\u003eEdits: 1424183\\u003cbr\\u003ePages: 1338070\",\"OpenStreetMap Wiki\\u003cbr\\u003eURL: https:\\u002f\\u002fwiki.openstreetmap.org\\u002f\\u003cbr\\u003eHost: independently hosted Wikibase\\u003cbr\\u003eVersion: 1.39.11\\u003cbr\\u003eStart Date: 2018-09-17 00:00:00+00:00\\u003cbr\\u003eActive Users: 758\\u003cbr\\u003eUsers: 155727\\u003cbr\\u003eProperties: 46\\u003cbr\\u003eEdits: 2789098\\u003cbr\\u003ePages: 285137\",\"Seeds of the Word\\u003cbr\\u003eURL: https:\\u002f\\u002fen.seminaverbi.bibleget.io\\u003cbr\\u003eHost: independently hosted Wikibase\\u003cbr\\u003eVersion: 1.42.1\\u003cbr\\u003eStart Date: 2020-08-15 00:00:00+00:00\\u003cbr\\u003eActive Users: 1\\u003cbr\\u003eUsers: 1\\u003cbr\\u003eProperties: 7910\\u003cbr\\u003eEdits: 24268\\u003cbr\\u003ePages: 22418\",\"TransforMap Base\\u003cbr\\u003eURL: https:\\u002f\\u002fbase.transformap.co\\u003cbr\\u003eHost: independently hosted Wikibase\\u003cbr\\u003eVersion: 1.27.0-rc.1\\u003cbr\\u003eStart Date: 2016-05-09 00:00:00+00:00\\u003cbr\\u003eActive Users: 2\\u003cbr\\u003eUsers: 182\\u003cbr\\u003eProperties: 33\\u003cbr\\u003eEdits: 6069\\u003cbr\\u003ePages: 478\",\"BDI Data\\u003cbr\\u003eURL: https:\\u002f\\u002fwiki.bgbm.org\\u002fbdidata\\u002findex.php\\u002fBDI_Data:Main_Page\\u003cbr\\u003eHost: independently hosted Wikibase\\u003cbr\\u003eVersion: 1.28.2\\u003cbr\\u003eStart Date: 2017-07-12 00:00:00+00:00\\u003cbr\\u003eActive Users: 0\\u003cbr\\u003eUsers: 5\\u003cbr\\u003eProperties: 69\\u003cbr\\u003eEdits: 17073\\u003cbr\\u003ePages: 2566\",\"FOMU Photographic Paper Collection (2023-)\\u003cbr\\u003eURL: https:\\u002f\\u002fdata.fomu.be\\u003cbr\\u003eHost: independently hosted Wikibase\\u003cbr\\u003eVersion: 1.38.5\\u003cbr\\u003eStart Date: 2023-11-22 00:00:00+00:00\\u003cbr\\u003eActive Users: 0\\u003cbr\\u003eUsers: 3\\u003cbr\\u003eProperties: 51\\u003cbr\\u003eEdits: 17445\\u003cbr\\u003ePages: 3759\",\"ScoutMedia\\u003cbr\\u003eURL: https:\\u002f\\u002fmedia.scoutwiki.org\\u002fMain_Page\\u003cbr\\u003eHost: independently hosted Wikibase\\u003cbr\\u003eVersion: 1.39.10\\u003cbr\\u003eStart Date: 2021-04-04 00:00:00+00:00\\u003cbr\\u003eActive Users: 11\\u003cbr\\u003eUsers: 10739\\u003cbr\\u003eProperties: 39\\u003cbr\\u003eEdits: 142254\\u003cbr\\u003ePages: 59728\"],\"legendgrouptitle\":{\"text\":\"By host\"},\"marker\":{\"color\":\"#5be971\",\"line\":{\"color\":\"black\",\"width\":1},\"showscale\":false,\"size\":[8,6,4,4,4,6,6,4,14,4,6,4,8,4,4,20,20,20,30,6,7,4,4,20]},\"mode\":\"markers\",\"name\":\"independently hosted Wikibase (24)\",\"showlegend\":true,\"x\":[-0.2997654974460602,0.5353469252586365,-0.03931612893939018,0.23443296551704407,0.12321444600820541,0.9002596735954285,0.06477303802967072,-0.12300878018140793,0.16785402595996857,-0.6801580190658569,-0.511855959892273,0.34770509600639343,-0.49894991517066956,0.49663618206977844,-0.2020290195941925,-0.6391891837120056,1.021264696121216,0.33253419399261475,-0.11443927884101868,0.29199565649032594,-0.9624002754688263,0.36869663894176485,0.6096849024295807,-0.32491760253906254],\"y\":[-0.08361111581325531,-0.7721273303031921,0.9931951761245728,0.5759146809577942,0.03418843075633049,-0.45357561111450195,0.9897053837776184,-0.9812925457954407,0.18229620158672333,0.6385593414306641,0.7554868459701538,-0.05974758043885231,-0.6145510077476501,-0.5228844285011292,0.38692355155944824,0.5174844861030579,-0.32379630804061893,0.8686209321022034,0.3968174159526825,1.0569037914276125,-0.4512713372707367,-1.0061975061893464,-0.8754054069519044,-0.9950831711292267],\"type\":\"scatter\"},{\"hoverinfo\":\"text\",\"hovertext\":[\"matvoc.nims.go.jp\\u003cbr\\u003eURL: https:\\u002f\\u002fmatvoc.nims.go.jp\\u003cbr\\u003eHost: \\u003cbr\\u003eVersion: 1.35.5\\u003cbr\\u003eStart Date: 2019-02-01 00:00:00+00:00\\u003cbr\\u003eActive Users: 0\\u003cbr\\u003eUsers: 85\\u003cbr\\u003eProperties: 58\\u003cbr\\u003eEdits: 38589\\u003cbr\\u003ePages: 3948\",\"Philobiblon\\u003cbr\\u003eURL: https:\\u002f\\u002fphilobiblon.cog.berkeley.edu\\u002fwiki\\u002fMain_Page\\u003cbr\\u003eHost: \\u003cbr\\u003eVersion: 1.39.1\\u003cbr\\u003eStart Date: 2024-02-27 00:00:00+00:00\\u003cbr\\u003eActive Users: 0\\u003cbr\\u003eUsers: 15\\u003cbr\\u003eProperties: 1177\\u003cbr\\u003eEdits: 1851601\\u003cbr\\u003ePages: 264990\",\"Semantic Lab at Pratt experimental Wikibase\\u003cbr\\u003eURL: https:\\u002f\\u002fbase.semlab.io\\u003cbr\\u003eHost: \\u003cbr\\u003eVersion: 1.39.6\\u003cbr\\u003eStart Date: 2020-02-22 00:00:00+00:00\\u003cbr\\u003eActive Users: 1\\u003cbr\\u003eUsers: 38\\u003cbr\\u003eProperties: 217\\u003cbr\\u003eEdits: 176993\\u003cbr\\u003ePages: 26748\",\"wikibase.imfd.cl\\u003cbr\\u003eURL: https:\\u002f\\u002fwikibase.imfd.cl\\u003cbr\\u003eHost: wikibase-docker\\u003cbr\\u003eVersion: 1.41.1\\u003cbr\\u003eStart Date: 2024-04-30 00:00:00+00:00\\u003cbr\\u003eActive Users: 37\\u003cbr\\u003eUsers: 191\\u003cbr\\u003eProperties: 36\\u003cbr\\u003eEdits: 15322\\u003cbr\\u003ePages: 1655\",\"wikibase.the-qa-company.com\\u003cbr\\u003eURL: https:\\u002f\\u002fwikibase.the-qa-company.com\\u003cbr\\u003eHost: \\u003cbr\\u003eVersion: 1.38.5\\u003cbr\\u003eStart Date: 2022-08-15 00:00:00+00:00\\u003cbr\\u003eActive Users: 0\\u003cbr\\u003eUsers: 66108\\u003cbr\\u003eProperties: 851\\u003cbr\\u003eEdits: 49277\\u003cbr\\u003ePages: 46286\",\"CanonBase\\u003cbr\\u003eURL: https:\\u002f\\u002fcanonbase.eu\\u003cbr\\u003eHost: \\u003cbr\\u003eVersion: 1.34.1\\u003cbr\\u003eStart Date: 2020-03-11 00:00:00+00:00\\u003cbr\\u003eActive Users: 0\\u003cbr\\u003eUsers: 29\\u003cbr\\u003eProperties: 346\\u003cbr\\u003eEdits: 483939\\u003cbr\\u003ePages: 35722\",\"WikiHum\\u003cbr\\u003eURL: https:\\u002f\\u002fwikihum.lab.dariah.pl\\u003cbr\\u003eHost: \\u003cbr\\u003eVersion: 1.42.1\\u003cbr\\u003eStart Date: 2023-01-30 00:00:00+00:00\\u003cbr\\u003eActive Users: 5\\u003cbr\\u003eUsers: 16\\u003cbr\\u003eProperties: 157\\u003cbr\\u003eEdits: 835975\\u003cbr\\u003ePages: 174666\",\"itidata.abtk.hu\\u003cbr\\u003eURL: https:\\u002f\\u002fitidata.abtk.hu\\u003cbr\\u003eHost: \\u003cbr\\u003eVersion: 1.35.2\\u003cbr\\u003eStart Date: 2021-11-09 00:00:00+00:00\\u003cbr\\u003eActive Users: 0\\u003cbr\\u003eUsers: 66\\u003cbr\\u003eProperties: 248\\u003cbr\\u003eEdits: 920789\\u003cbr\\u003ePages: 449676\",\"wiki.tiffa.net\\u003cbr\\u003eURL: https:\\u002f\\u002fwiki.tiffa.net\\u003cbr\\u003eHost: \\u003cbr\\u003eVersion: 1.43.0\\u003cbr\\u003eStart Date: 2023-01-21 00:00:00+00:00\\u003cbr\\u003eActive Users: 1\\u003cbr\\u003eUsers: 1\\u003cbr\\u003eProperties: 966\\u003cbr\\u003eEdits: 144258\\u003cbr\\u003ePages: 45609\",\"ELTEdata\\u003cbr\\u003eURL: https:\\u002f\\u002feltedata.elte-dh.hu\\u003cbr\\u003eHost: \\u003cbr\\u003eVersion: 1.35.2\\u003cbr\\u003eStart Date: 2021-03-19 00:00:00+00:00\\u003cbr\\u003eActive Users: 0\\u003cbr\\u003eUsers: 19\\u003cbr\\u003eProperties: 171\\u003cbr\\u003eEdits: 253638\\u003cbr\\u003ePages: 39817\",\"wikibase.semantic-kompakkt.de\\u003cbr\\u003eURL: https:\\u002f\\u002fwikibase.semantic-kompakkt.de\\u003cbr\\u003eHost: \\u003cbr\\u003eVersion: 1.38.5\\u003cbr\\u003eStart Date: 2024-02-14 00:00:00+00:00\\u003cbr\\u003eActive Users: 0\\u003cbr\\u003eUsers: 19\\u003cbr\\u003eProperties: 110\\u003cbr\\u003eEdits: 6468\\u003cbr\\u003ePages: 1606\",\"sportsdamkg.slis.ua.edu\\u003cbr\\u003eURL: https:\\u002f\\u002fsportsdamkg.slis.ua.edu\\u003cbr\\u003eHost: \\u003cbr\\u003eVersion: 1.36.1\\u003cbr\\u003eStart Date: 2020-08-18 00:00:00+00:00\\u003cbr\\u003eActive Users: 0\\u003cbr\\u003eUsers: 5\\u003cbr\\u003eProperties: 89\\u003cbr\\u003eEdits: 8419411\\u003cbr\\u003ePages: 2625166\",\"Wikibase.slis.ua.edu\\u003cbr\\u003eURL: https:\\u002f\\u002fwikibase.slis.ua.edu\\u003cbr\\u003eHost: \\u003cbr\\u003eVersion: 1.34.2\\u003cbr\\u003eStart Date: 2018-10-01 00:00:00+00:00\\u003cbr\\u003eActive Users: 0\\u003cbr\\u003eUsers: 10\\u003cbr\\u003eProperties: 178\\u003cbr\\u003eEdits: 283279\\u003cbr\\u003ePages: 19117\",\"Black Bibliography Project\\u003cbr\\u003eURL: https:\\u002f\\u002fblackbibliog.rutgers.edu\\u003cbr\\u003eHost: \\u003cbr\\u003eVersion: 1.39.5\\u003cbr\\u003eStart Date: 2019-01-03 00:00:00+00:00\\u003cbr\\u003eActive Users: 8\\u003cbr\\u003eUsers: 52\\u003cbr\\u003eProperties: 137\\u003cbr\\u003eEdits: 79033\\u003cbr\\u003ePages: 10097\",\"GraphIT\\u003cbr\\u003eURL: https:\\u002f\\u002fgraphit.ur.de\\u003cbr\\u003eHost: \\u003cbr\\u003eVersion: 1.39.1\\u003cbr\\u003eStart Date: 2023-04-13 00:00:00+00:00\\u003cbr\\u003eActive Users: 0\\u003cbr\\u003eUsers: 88\\u003cbr\\u003eProperties: 38\\u003cbr\\u003eEdits: 11795\\u003cbr\\u003ePages: 1965\",\"Addshore Alpha\\u003cbr\\u003eURL: https:\\u002f\\u002faddshore-alpha.wikibase.dev\\u003cbr\\u003eHost: \\u003cbr\\u003eVersion: 1.39.7\\u003cbr\\u003eStart Date: 2019-10-28 00:00:00+00:00\\u003cbr\\u003eActive Users: 0\\u003cbr\\u003eUsers: 9\\u003cbr\\u003eProperties: 15\\u003cbr\\u003eEdits: 232\\u003cbr\\u003ePages: 60\",\"Wer Leitet?\\u003cbr\\u003eURL: https:\\u002f\\u002fwl.kgi.uni-mannheim.de\\u003cbr\\u003eHost: \\u003cbr\\u003eVersion: 1.38.5\\u003cbr\\u003eStart Date: 2023-11-14 00:00:00+00:00\\u003cbr\\u003eActive Users: 0\\u003cbr\\u003eUsers: 1\\u003cbr\\u003eProperties: 1068\\u003cbr\\u003eEdits: 36494\\u003cbr\\u003ePages: 35457\",\"DFIH\\u003cbr\\u003eURL: https:\\u002f\\u002fwiki.dfih.fr\\u003cbr\\u003eHost: \\u003cbr\\u003eVersion: 1.33.0\\u003cbr\\u003eStart Date: 2018-11-02 00:00:00+00:00\\u003cbr\\u003eActive Users: 0\\u003cbr\\u003eUsers: 11253\\u003cbr\\u003eProperties: 6\\u003cbr\\u003eEdits: 484028\\u003cbr\\u003ePages: 65770\",\"Nimiarkisto\\u003cbr\\u003eURL: https:\\u002f\\u002fnimiarkisto.fi\\u003cbr\\u003eHost: \\u003cbr\\u003eVersion: 1.41.4\\u003cbr\\u003eStart Date: 2018-05-04 00:00:00+00:00\\u003cbr\\u003eActive Users: 2\\u003cbr\\u003eUsers: 259\\u003cbr\\u003eProperties: 88\\u003cbr\\u003eEdits: 6991881\\u003cbr\\u003ePages: 6698303\",\"SCDB\\u003cbr\\u003eURL: https:\\u002f\\u002fscdb.app\\u003cbr\\u003eHost: \\u003cbr\\u003eVersion: 1.40.1\\u003cbr\\u003eStart Date: 2019-11-19 00:00:00+00:00\\u003cbr\\u003eActive Users: 0\\u003cbr\\u003eUsers: 14\\u003cbr\\u003eProperties: 95\\u003cbr\\u003eEdits: 35338\\u003cbr\\u003ePages: 5961\",\"akf.kgi.uni-mannheim.de\\u003cbr\\u003eURL: https:\\u002f\\u002fakf.kgi.uni-mannheim.de\\u003cbr\\u003eHost: \\u003cbr\\u003eVersion: 1.38.5\\u003cbr\\u003eStart Date: 2023-03-31 00:00:00+00:00\\u003cbr\\u003eActive Users: 0\\u003cbr\\u003eUsers: 4\\u003cbr\\u003eProperties: 349\\u003cbr\\u003eEdits: 4155\\u003cbr\\u003ePages: 3903\",\"modelling.dissco.tech\\u003cbr\\u003eURL: https:\\u002f\\u002fmodelling.dissco.tech\\u003cbr\\u003eHost: \\u003cbr\\u003eVersion: 1.35.5\\u003cbr\\u003eStart Date: 2022-01-06 00:00:00+00:00\\u003cbr\\u003eActive Users: 0\\u003cbr\\u003eUsers: 21\\u003cbr\\u003eProperties: 48\\u003cbr\\u003eEdits: 1133\\u003cbr\\u003ePages: 242\",\"data.marefa.org\\u003cbr\\u003eURL: https:\\u002f\\u002fdata.marefa.org\\u003cbr\\u003eHost: \\u003cbr\\u003eVersion: 1.39.2\\u003cbr\\u003eStart Date: 2023-03-07 00:00:00+00:00\\u003cbr\\u003eActive Users: 0\\u003cbr\\u003eUsers: 52685\\u003cbr\\u003eProperties: 1249\\u003cbr\\u003eEdits: 73981646\\u003cbr\\u003ePages: 6063082\",\"kg.jstor.org\\u003cbr\\u003eURL: https:\\u002f\\u002fkg.jstor.org\\u003cbr\\u003eHost: \\u003cbr\\u003eVersion: 1.34.4\\u003cbr\\u003eStart Date: 2019-06-22 00:00:00+00:00\\u003cbr\\u003eActive Users: 0\\u003cbr\\u003eUsers: 14\\u003cbr\\u003eProperties: 1533\\u003cbr\\u003eEdits: 2531655\\u003cbr\\u003ePages: 2526035\",\"www.wikichain.io\\u003cbr\\u003eURL: https:\\u002f\\u002fwww.wikichain.io\\u003cbr\\u003eHost: \\u003cbr\\u003eVersion: 1.39.1\\u003cbr\\u003eStart Date: 2024-09-04 00:00:00+00:00\\u003cbr\\u003eActive Users: 0\\u003cbr\\u003eUsers: 1\\u003cbr\\u003eProperties: 49\\u003cbr\\u003eEdits: 4677\\u003cbr\\u003ePages: 4677\",\"data.ruwiki.ru\\u003cbr\\u003eURL: https:\\u002f\\u002fdata.ruwiki.ru\\u003cbr\\u003eHost: \\u003cbr\\u003eVersion: 1.40.0-wmf.26\\u003cbr\\u003eStart Date: 2023-05-11 00:00:00+00:00\\u003cbr\\u003eActive Users: 218\\u003cbr\\u003eUsers: 5370001\\u003cbr\\u003eProperties: 11125\\u003cbr\\u003eEdits: 1711913854\\u003cbr\\u003ePages: 204209422\",\"wikiar.org\\u003cbr\\u003eURL: https:\\u002f\\u002fwikiar.org\\u003cbr\\u003eHost: \\u003cbr\\u003eVersion: 1.41.0\\u003cbr\\u003eStart Date: 2021-11-19 00:00:00+00:00\\u003cbr\\u003eActive Users: 4\\u003cbr\\u003eUsers: 209\\u003cbr\\u003eProperties: 1\\u003cbr\\u003eEdits: 1694\\u003cbr\\u003ePages: 919\",\"hbag.kgi.uni-mannheim.de\\u003cbr\\u003eURL: https:\\u002f\\u002fhbag.kgi.uni-mannheim.de\\u003cbr\\u003eHost: \\u003cbr\\u003eVersion: 1.38.5\\u003cbr\\u003eStart Date: 2024-08-27 00:00:00+00:00\\u003cbr\\u003eActive Users: 0\\u003cbr\\u003eUsers: 1\\u003cbr\\u003eProperties: 33\\u003cbr\\u003eEdits: 2404\\u003cbr\\u003ePages: 1610\",\"data.pornopedia.com\\u003cbr\\u003eURL: https:\\u002f\\u002fdata.pornopedia.com\\u003cbr\\u003eHost: \\u003cbr\\u003eVersion: 1.42.1\\u003cbr\\u003eStart Date: 2014-12-26 00:00:00+00:00\\u003cbr\\u003eActive Users: 1\\u003cbr\\u003eUsers: 161\\u003cbr\\u003eProperties: 16\\u003cbr\\u003eEdits: 37891\\u003cbr\\u003ePages: 22374\",\"contentdata.org\\u003cbr\\u003eURL: https:\\u002f\\u002fcontentdata.org\\u003cbr\\u003eHost: \\u003cbr\\u003eVersion: 1.42.3\\u003cbr\\u003eStart Date: 2025-01-04 00:00:00+00:00\\u003cbr\\u003eActive Users: 1\\u003cbr\\u003eUsers: 1\\u003cbr\\u003eProperties: 1\\u003cbr\\u003eEdits: 6\\u003cbr\\u003ePages: 4\",\"data.dezopedie.cz\\u003cbr\\u003eURL: https:\\u002f\\u002fdata.dezopedie.cz\\u003cbr\\u003eHost: \\u003cbr\\u003eVersion: 1.41.1\\u003cbr\\u003eStart Date: 2024-06-23 00:00:00+00:00\\u003cbr\\u003eActive Users: 1\\u003cbr\\u003eUsers: 2\\u003cbr\\u003eProperties: 9\\u003cbr\\u003eEdits: 19\\u003cbr\\u003ePages: 10\",\"losh.ose-germany.de\\u003cbr\\u003eURL: https:\\u002f\\u002flosh.ose-germany.de\\u003cbr\\u003eHost: \\u003cbr\\u003eVersion: 1.35.4\\u003cbr\\u003eStart Date: 2021-12-15 00:00:00+00:00\\u003cbr\\u003eActive Users: 0\\u003cbr\\u003eUsers: 3\\u003cbr\\u003eProperties: 112\\u003cbr\\u003eEdits: 1511241\\u003cbr\\u003ePages: 910055\"],\"legendgrouptitle\":{\"text\":\"By host\"},\"marker\":{\"color\":\"#D3D3D3\",\"line\":{\"color\":\"black\",\"width\":1},\"showscale\":false,\"size\":[4,4,6,20,4,4,10,4,6,4,4,4,4,13,4,4,4,4,7,4,4,4,4,4,4,30,9,4,6,6,6,4]},\"mode\":\"markers\",\"name\":\"unknown (32)\",\"showlegend\":true,\"x\":[-0.7781452536582947,-0.46752360463142395,-0.9804659485816956,0.9285777807235718,-0.21958301961421967,0.4241182804107666,-0.8964994549751282,0.5711501836776733,0.4185243546962738,0.436487290263176,-0.18602924048900604,0.3567997515201569,-0.7509039521217347,-0.6942039012908936,0.8716807186603547,0.6031584203243257,-0.48648842275142673,0.26187363564968114,-1.0052236676216126,-0.2485597223043442,-0.6588803052902222,-0.7345369338989258,-0.11270878314971924,0.9188921213150025,-0.48906447589397434,0.32664321064949037,0.6512080729007721,0.8538381576538087,0.1690662890672684,-0.98625305891037,0.18912647515535355,1.0693882405757904],\"y\":[0.6051704287528992,0.6753235459327698,0.18332481384277344,0.18807311356067657,0.12145230919122696,-0.9116857647895813,-0.341404527425766,0.8260042667388916,-0.034224074333906174,0.8767450332641602,0.8958740234375,-1.0461996316909792,-0.7425643980503083,-0.6538925707340241,0.7100172221660614,0.9262852430343629,-0.9417675912380219,0.8745278179645539,-0.4747763961553574,1.078825092315674,0.8179143130779267,-0.7760791838169099,1.0586459875106813,0.5968452215194703,0.7819834530353547,1.062174701690674,0.8673276543617249,0.6713513135910034,-0.9555069565773011,-0.13114405274391175,-1.058305311203003,0.0873374953866005],\"type\":\"scatter\"},{\"hoverinfo\":\"text\",\"hovertext\":[\"The Digital Narrative Knowledge Base\\u003cbr\\u003eURL: https:\\u002f\\u002fcellwiki.cdn.uib.no\\u003cbr\\u003eHost: The Wikibase Consultancy\\u003cbr\\u003eVersion: 1.39.11\\u003cbr\\u003eStart Date: 2024-03-14 00:00:00+00:00\\u003cbr\\u003eActive Users: 2\\u003cbr\\u003eUsers: 6\\u003cbr\\u003eProperties: 89\\u003cbr\\u003eEdits: 7561\\u003cbr\\u003ePages: 6788\",\"Kunstmuseum API\\u003cbr\\u003eURL: https:\\u002f\\u002fapi.kunstmuseum.nl\\u002f\\u003cbr\\u003eHost: The Wikibase Consultancy\\u003cbr\\u003eVersion: 1.39.11\\u003cbr\\u003eStart Date: 2020-06-11 00:00:00+00:00\\u003cbr\\u003eActive Users: 2\\u003cbr\\u003eUsers: 18\\u003cbr\\u003eProperties: 114\\u003cbr\\u003eEdits: 465694\\u003cbr\\u003ePages: 42900\",\"Wikibase EDTF - Demo Wiki\\u003cbr\\u003eURL: https:\\u002f\\u002fedtf.wikibase.wiki\\u003cbr\\u003eHost: The Wikibase Consultancy\\u003cbr\\u003eVersion: 1.39.11\\u003cbr\\u003eStart Date: 2022-01-26 00:00:00+00:00\\u003cbr\\u003eActive Users: 1\\u003cbr\\u003eUsers: 17\\u003cbr\\u003eProperties: 3\\u003cbr\\u003eEdits: 743\\u003cbr\\u003ePages: 14\",\"Wikibase Automated Values - Demo Wiki\\u003cbr\\u003eURL: https:\\u002f\\u002fautomated.wikibase.wiki\\u003cbr\\u003eHost: The Wikibase Consultancy\\u003cbr\\u003eVersion: 1.39.11\\u003cbr\\u003eStart Date: 2022-03-25 00:00:00+00:00\\u003cbr\\u003eActive Users: 0\\u003cbr\\u003eUsers: 36\\u003cbr\\u003eProperties: 5\\u003cbr\\u003eEdits: 834\\u003cbr\\u003ePages: 28\",\"Wikibase RDF - Demo Wiki\\u003cbr\\u003eURL: https:\\u002f\\u002frdf.wikibase.wiki\\u003cbr\\u003eHost: The Wikibase Consultancy\\u003cbr\\u003eVersion: 1.39.11\\u003cbr\\u003eStart Date: 2022-07-22 00:00:00+00:00\\u003cbr\\u003eActive Users: 0\\u003cbr\\u003eUsers: 7\\u003cbr\\u003eProperties: 6\\u003cbr\\u003eEdits: 67\\u003cbr\\u003ePages: 22\",\"Wikibase Export - Demo Wiki\\u003cbr\\u003eURL: https:\\u002f\\u002fexport.wikibase.wiki\\u003cbr\\u003eHost: The Wikibase Consultancy\\u003cbr\\u003eVersion: 1.39.11\\u003cbr\\u003eStart Date: 2022-11-23 00:00:00+00:00\\u003cbr\\u003eActive Users: 1\\u003cbr\\u003eUsers: 5\\u003cbr\\u003eProperties: 9\\u003cbr\\u003eEdits: 149\\u003cbr\\u003ePages: 36\"],\"legendgrouptitle\":{\"text\":\"By host\"},\"marker\":{\"color\":\"#6283ca\",\"line\":{\"color\":\"black\",\"width\":1},\"showscale\":false,\"size\":[7,7,6,4,4,6]},\"mode\":\"markers\",\"name\":\"The Wikibase Consultancy (6)\",\"showlegend\":true,\"x\":[0.8004568815231323,-0.7576995134353638,-0.8990823030471802,-0.16069831252098085,0.3867526471614838,-0.019515104405581952],\"y\":[-0.6780306696891785,-0.8232121706008911,0.24162529408931732,-1.0268941819667816,0.9151503205299378,-0.987563705444336],\"type\":\"scatter\"},{\"hoverinfo\":\"text\",\"hovertext\":[\"Gratisdata\\u003cbr\\u003eURL: https:\\u002f\\u002fgratisdata.miraheze.org\\u003cbr\\u003eHost: Miraheze\\u003cbr\\u003eVersion: 1.43.0\\u003cbr\\u003eStart Date: 2021-11-12 00:00:00+00:00\\u003cbr\\u003eActive Users: 2\\u003cbr\\u003eUsers: 259\\u003cbr\\u003eProperties: 824\\u003cbr\\u003eEdits: 40370\\u003cbr\\u003ePages: 9121\"],\"legendgrouptitle\":{\"text\":\"By host\"},\"marker\":{\"color\":\"#5cd45b\",\"line\":{\"color\":\"black\",\"width\":1},\"showscale\":false,\"size\":[7]},\"mode\":\"markers\",\"name\":\"Miraheze (1)\",\"showlegend\":true,\"x\":[0.0599554143846035],\"y\":[0.3170776069164276],\"type\":\"scatter\"},{\"hoverinfo\":\"text\",\"hovertext\":[\"Wikidocumentaries\\u003cbr\\u003eURL: https:\\u002f\\u002fwikidocumentaries.wmflabs.org\\u002f\\u003cbr\\u003eHost: Wikimedia Cloud Services\\u003cbr\\u003eVersion: 1.32.5\\u003cbr\\u003eStart Date: 2018-04-23 00:00:00+00:00\\u003cbr\\u003eActive Users: 0\\u003cbr\\u003eUsers: 3729\\u003cbr\\u003eProperties: 5126\\u003cbr\\u003eEdits: 29206\\u003cbr\\u003ePages: 5528\"],\"legendgrouptitle\":{\"text\":\"By host\"},\"marker\":{\"color\":\"#f11fbe\",\"line\":{\"color\":\"black\",\"width\":1},\"showscale\":false,\"size\":[4]},\"mode\":\"markers\",\"name\":\"Wikimedia Cloud Services (1)\",\"showlegend\":true,\"x\":[0.17956550866365434],\"y\":[1.078820699453354],\"type\":\"scatter\"}],                        {\"annotations\":[{\"showarrow\":false,\"text\":\"\",\"xref\":\"paper\",\"yref\":\"paper\"}],\"height\":800,\"hovermode\":\"closest\",\"margin\":{\"b\":20,\"l\":5,\"r\":5,\"t\":40},\"showlegend\":true,\"title\":{\"font\":{\"size\":16},\"text\":\"Wikibases, and links, sized by # of active users\"},\"xaxis\":{\"showgrid\":false,\"zeroline\":false},\"yaxis\":{\"showgrid\":false,\"zeroline\":false},\"template\":{\"data\":{\"histogram2dcontour\":[{\"type\":\"histogram2dcontour\",\"colorbar\":{\"outlinewidth\":0,\"ticks\":\"\"},\"colorscale\":[[0.0,\"#0d0887\"],[0.1111111111111111,\"#46039f\"],[0.2222222222222222,\"#7201a8\"],[0.3333333333333333,\"#9c179e\"],[0.4444444444444444,\"#bd3786\"],[0.5555555555555556,\"#d8576b\"],[0.6666666666666666,\"#ed7953\"],[0.7777777777777778,\"#fb9f3a\"],[0.8888888888888888,\"#fdca26\"],[1.0,\"#f0f921\"]]}],\"choropleth\":[{\"type\":\"choropleth\",\"colorbar\":{\"outlinewidth\":0,\"ticks\":\"\"}}],\"histogram2d\":[{\"type\":\"histogram2d\",\"colorbar\":{\"outlinewidth\":0,\"ticks\":\"\"},\"colorscale\":[[0.0,\"#0d0887\"],[0.1111111111111111,\"#46039f\"],[0.2222222222222222,\"#7201a8\"],[0.3333333333333333,\"#9c179e\"],[0.4444444444444444,\"#bd3786\"],[0.5555555555555556,\"#d8576b\"],[0.6666666666666666,\"#ed7953\"],[0.7777777777777778,\"#fb9f3a\"],[0.8888888888888888,\"#fdca26\"],[1.0,\"#f0f921\"]]}],\"heatmap\":[{\"type\":\"heatmap\",\"colorbar\":{\"outlinewidth\":0,\"ticks\":\"\"},\"colorscale\":[[0.0,\"#0d0887\"],[0.1111111111111111,\"#46039f\"],[0.2222222222222222,\"#7201a8\"],[0.3333333333333333,\"#9c179e\"],[0.4444444444444444,\"#bd3786\"],[0.5555555555555556,\"#d8576b\"],[0.6666666666666666,\"#ed7953\"],[0.7777777777777778,\"#fb9f3a\"],[0.8888888888888888,\"#fdca26\"],[1.0,\"#f0f921\"]]}],\"heatmapgl\":[{\"type\":\"heatmapgl\",\"colorbar\":{\"outlinewidth\":0,\"ticks\":\"\"},\"colorscale\":[[0.0,\"#0d0887\"],[0.1111111111111111,\"#46039f\"],[0.2222222222222222,\"#7201a8\"],[0.3333333333333333,\"#9c179e\"],[0.4444444444444444,\"#bd3786\"],[0.5555555555555556,\"#d8576b\"],[0.6666666666666666,\"#ed7953\"],[0.7777777777777778,\"#fb9f3a\"],[0.8888888888888888,\"#fdca26\"],[1.0,\"#f0f921\"]]}],\"contourcarpet\":[{\"type\":\"contourcarpet\",\"colorbar\":{\"outlinewidth\":0,\"ticks\":\"\"}}],\"contour\":[{\"type\":\"contour\",\"colorbar\":{\"outlinewidth\":0,\"ticks\":\"\"},\"colorscale\":[[0.0,\"#0d0887\"],[0.1111111111111111,\"#46039f\"],[0.2222222222222222,\"#7201a8\"],[0.3333333333333333,\"#9c179e\"],[0.4444444444444444,\"#bd3786\"],[0.5555555555555556,\"#d8576b\"],[0.6666666666666666,\"#ed7953\"],[0.7777777777777778,\"#fb9f3a\"],[0.8888888888888888,\"#fdca26\"],[1.0,\"#f0f921\"]]}],\"surface\":[{\"type\":\"surface\",\"colorbar\":{\"outlinewidth\":0,\"ticks\":\"\"},\"colorscale\":[[0.0,\"#0d0887\"],[0.1111111111111111,\"#46039f\"],[0.2222222222222222,\"#7201a8\"],[0.3333333333333333,\"#9c179e\"],[0.4444444444444444,\"#bd3786\"],[0.5555555555555556,\"#d8576b\"],[0.6666666666666666,\"#ed7953\"],[0.7777777777777778,\"#fb9f3a\"],[0.8888888888888888,\"#fdca26\"],[1.0,\"#f0f921\"]]}],\"mesh3d\":[{\"type\":\"mesh3d\",\"colorbar\":{\"outlinewidth\":0,\"ticks\":\"\"}}],\"scatter\":[{\"fillpattern\":{\"fillmode\":\"overlay\",\"size\":10,\"solidity\":0.2},\"type\":\"scatter\"}],\"parcoords\":[{\"type\":\"parcoords\",\"line\":{\"colorbar\":{\"outlinewidth\":0,\"ticks\":\"\"}}}],\"scatterpolargl\":[{\"type\":\"scatterpolargl\",\"marker\":{\"colorbar\":{\"outlinewidth\":0,\"ticks\":\"\"}}}],\"bar\":[{\"error_x\":{\"color\":\"#2a3f5f\"},\"error_y\":{\"color\":\"#2a3f5f\"},\"marker\":{\"line\":{\"color\":\"#E5ECF6\",\"width\":0.5},\"pattern\":{\"fillmode\":\"overlay\",\"size\":10,\"solidity\":0.2}},\"type\":\"bar\"}],\"scattergeo\":[{\"type\":\"scattergeo\",\"marker\":{\"colorbar\":{\"outlinewidth\":0,\"ticks\":\"\"}}}],\"scatterpolar\":[{\"type\":\"scatterpolar\",\"marker\":{\"colorbar\":{\"outlinewidth\":0,\"ticks\":\"\"}}}],\"histogram\":[{\"marker\":{\"pattern\":{\"fillmode\":\"overlay\",\"size\":10,\"solidity\":0.2}},\"type\":\"histogram\"}],\"scattergl\":[{\"type\":\"scattergl\",\"marker\":{\"colorbar\":{\"outlinewidth\":0,\"ticks\":\"\"}}}],\"scatter3d\":[{\"type\":\"scatter3d\",\"line\":{\"colorbar\":{\"outlinewidth\":0,\"ticks\":\"\"}},\"marker\":{\"colorbar\":{\"outlinewidth\":0,\"ticks\":\"\"}}}],\"scattermapbox\":[{\"type\":\"scattermapbox\",\"marker\":{\"colorbar\":{\"outlinewidth\":0,\"ticks\":\"\"}}}],\"scatterternary\":[{\"type\":\"scatterternary\",\"marker\":{\"colorbar\":{\"outlinewidth\":0,\"ticks\":\"\"}}}],\"scattercarpet\":[{\"type\":\"scattercarpet\",\"marker\":{\"colorbar\":{\"outlinewidth\":0,\"ticks\":\"\"}}}],\"carpet\":[{\"aaxis\":{\"endlinecolor\":\"#2a3f5f\",\"gridcolor\":\"white\",\"linecolor\":\"white\",\"minorgridcolor\":\"white\",\"startlinecolor\":\"#2a3f5f\"},\"baxis\":{\"endlinecolor\":\"#2a3f5f\",\"gridcolor\":\"white\",\"linecolor\":\"white\",\"minorgridcolor\":\"white\",\"startlinecolor\":\"#2a3f5f\"},\"type\":\"carpet\"}],\"table\":[{\"cells\":{\"fill\":{\"color\":\"#EBF0F8\"},\"line\":{\"color\":\"white\"}},\"header\":{\"fill\":{\"color\":\"#C8D4E3\"},\"line\":{\"color\":\"white\"}},\"type\":\"table\"}],\"barpolar\":[{\"marker\":{\"line\":{\"color\":\"#E5ECF6\",\"width\":0.5},\"pattern\":{\"fillmode\":\"overlay\",\"size\":10,\"solidity\":0.2}},\"type\":\"barpolar\"}],\"pie\":[{\"automargin\":true,\"type\":\"pie\"}]},\"layout\":{\"autotypenumbers\":\"strict\",\"colorway\":[\"#636efa\",\"#EF553B\",\"#00cc96\",\"#ab63fa\",\"#FFA15A\",\"#19d3f3\",\"#FF6692\",\"#B6E880\",\"#FF97FF\",\"#FECB52\"],\"font\":{\"color\":\"#2a3f5f\"},\"hovermode\":\"closest\",\"hoverlabel\":{\"align\":\"left\"},\"paper_bgcolor\":\"white\",\"plot_bgcolor\":\"#E5ECF6\",\"polar\":{\"bgcolor\":\"#E5ECF6\",\"angularaxis\":{\"gridcolor\":\"white\",\"linecolor\":\"white\",\"ticks\":\"\"},\"radialaxis\":{\"gridcolor\":\"white\",\"linecolor\":\"white\",\"ticks\":\"\"}},\"ternary\":{\"bgcolor\":\"#E5ECF6\",\"aaxis\":{\"gridcolor\":\"white\",\"linecolor\":\"white\",\"ticks\":\"\"},\"baxis\":{\"gridcolor\":\"white\",\"linecolor\":\"white\",\"ticks\":\"\"},\"caxis\":{\"gridcolor\":\"white\",\"linecolor\":\"white\",\"ticks\":\"\"}},\"coloraxis\":{\"colorbar\":{\"outlinewidth\":0,\"ticks\":\"\"}},\"colorscale\":{\"sequential\":[[0.0,\"#0d0887\"],[0.1111111111111111,\"#46039f\"],[0.2222222222222222,\"#7201a8\"],[0.3333333333333333,\"#9c179e\"],[0.4444444444444444,\"#bd3786\"],[0.5555555555555556,\"#d8576b\"],[0.6666666666666666,\"#ed7953\"],[0.7777777777777778,\"#fb9f3a\"],[0.8888888888888888,\"#fdca26\"],[1.0,\"#f0f921\"]],\"sequentialminus\":[[0.0,\"#0d0887\"],[0.1111111111111111,\"#46039f\"],[0.2222222222222222,\"#7201a8\"],[0.3333333333333333,\"#9c179e\"],[0.4444444444444444,\"#bd3786\"],[0.5555555555555556,\"#d8576b\"],[0.6666666666666666,\"#ed7953\"],[0.7777777777777778,\"#fb9f3a\"],[0.8888888888888888,\"#fdca26\"],[1.0,\"#f0f921\"]],\"diverging\":[[0,\"#8e0152\"],[0.1,\"#c51b7d\"],[0.2,\"#de77ae\"],[0.3,\"#f1b6da\"],[0.4,\"#fde0ef\"],[0.5,\"#f7f7f7\"],[0.6,\"#e6f5d0\"],[0.7,\"#b8e186\"],[0.8,\"#7fbc41\"],[0.9,\"#4d9221\"],[1,\"#276419\"]]},\"xaxis\":{\"gridcolor\":\"white\",\"linecolor\":\"white\",\"ticks\":\"\",\"title\":{\"standoff\":15},\"zerolinecolor\":\"white\",\"automargin\":true,\"zerolinewidth\":2},\"yaxis\":{\"gridcolor\":\"white\",\"linecolor\":\"white\",\"ticks\":\"\",\"title\":{\"standoff\":15},\"zerolinecolor\":\"white\",\"automargin\":true,\"zerolinewidth\":2},\"scene\":{\"xaxis\":{\"backgroundcolor\":\"#E5ECF6\",\"gridcolor\":\"white\",\"linecolor\":\"white\",\"showbackground\":true,\"ticks\":\"\",\"zerolinecolor\":\"white\",\"gridwidth\":2},\"yaxis\":{\"backgroundcolor\":\"#E5ECF6\",\"gridcolor\":\"white\",\"linecolor\":\"white\",\"showbackground\":true,\"ticks\":\"\",\"zerolinecolor\":\"white\",\"gridwidth\":2},\"zaxis\":{\"backgroundcolor\":\"#E5ECF6\",\"gridcolor\":\"white\",\"linecolor\":\"white\",\"showbackground\":true,\"ticks\":\"\",\"zerolinecolor\":\"white\",\"gridwidth\":2}},\"shapedefaults\":{\"line\":{\"color\":\"#2a3f5f\"}},\"annotationdefaults\":{\"arrowcolor\":\"#2a3f5f\",\"arrowhead\":0,\"arrowwidth\":1},\"geo\":{\"bgcolor\":\"white\",\"landcolor\":\"#E5ECF6\",\"subunitcolor\":\"white\",\"showland\":true,\"showlakes\":true,\"lakecolor\":\"white\"},\"title\":{\"x\":0.05},\"mapbox\":{\"style\":\"light\"}}}},                        {\"responsive\": true}                    ).then(function(){\n",
       "                            \n",
       "var gd = document.getElementById('067fccfd-3eb0-439c-96e0-798deb1382f0');\n",
       "var x = new MutationObserver(function (mutations, observer) {{\n",
       "        var display = window.getComputedStyle(gd).display;\n",
       "        if (!display || display === 'none') {{\n",
       "            console.log([gd, 'removed!']);\n",
       "            Plotly.purge(gd);\n",
       "            observer.disconnect();\n",
       "        }}\n",
       "}});\n",
       "\n",
       "// Listen for the removal of the full notebook cells\n",
       "var notebookContainer = gd.closest('#notebook-container');\n",
       "if (notebookContainer) {{\n",
       "    x.observe(notebookContainer, {childList: true});\n",
       "}}\n",
       "\n",
       "// Listen for the clearing of the current output cell\n",
       "var outputEl = gd.closest('.output');\n",
       "if (outputEl) {{\n",
       "    x.observe(outputEl, {childList: true});\n",
       "}}\n",
       "\n",
       "                        })                };                });            </script>        </div>"
      ]
     },
     "metadata": {},
     "output_type": "display_data"
    }
   ],
   "source": [
    "# Add directed edges to the graph\n",
    "for key in item_map:\n",
    "    # Add it as a node\n",
    "    G.add_node(key)\n",
    "    # Add the edges\n",
    "    if 'links_to' in item_map[key]:\n",
    "        for link in item_map[key]['links_to']:\n",
    "            G.add_edge(key, link, direction='to')\n",
    "    if 'links_from' in item_map[key]:\n",
    "        for link in item_map[key]['links_from']:\n",
    "            G.add_edge(link, key, direction='from')\n",
    "\n",
    "# Calculate the positions of the nodes\n",
    "pos = nx.spring_layout(G, k=0.5)  # Increase the value of k to spread out the nodes more\n",
    "\n",
    "# Push nodes with no edges outward slightly\n",
    "for node in G.nodes():\n",
    "    if G.degree(node) == 0:\n",
    "        pos[node] *= 1.1  # Push the node outward by 10%\n",
    "\n",
    "# Create the edge trace\n",
    "x_edges = []\n",
    "y_edges = []\n",
    "for edge in G.edges():\n",
    "    x_edges.extend([pos[edge[0]][0], pos[edge[1]][0], None])\n",
    "    y_edges.extend([pos[edge[0]][1], pos[edge[1]][1], None])\n",
    "\n",
    "edge_trace = go.Scatter(\n",
    "    x=x_edges, y=y_edges,\n",
    "    line=dict(width=0.3, color='#888'),\n",
    "    hoverinfo='none',\n",
    "    mode='lines',\n",
    "    showlegend=False)\n",
    "\n",
    "# Create a trace for each group\n",
    "group_traces = {}\n",
    "group_counts = {}\n",
    "for node in G.nodes():\n",
    "    # Some things have been filtered out (like having no properties listed..)\n",
    "    if node not in item_map:\n",
    "        continue\n",
    "    group = item_map[node]['graph_group']\n",
    "    if group not in group_traces:\n",
    "        group_traces[group] = {\n",
    "            'x': [],\n",
    "            'y': [],\n",
    "            'hovertext': [],\n",
    "            'color': item_map[node]['graph_color'],\n",
    "            'size': []\n",
    "        }\n",
    "        group_counts[group] = 0\n",
    "    group_traces[group]['x'].append(pos[node][0])\n",
    "    group_traces[group]['y'].append(pos[node][1])\n",
    "    active_users = item_map[node].get('users_active', [0])[0] if item_map[node].get('users_active') else 0\n",
    "    properties = item_map[node].get('properties', [0])[0] if item_map[node].get('properties') else 0\n",
    "    hover_text = (\n",
    "        f\"{item_map[node]['label']}<br>\"\n",
    "        f\"URL: {item_map[node].get('url', [''])[0] if item_map[node].get('url') else ''}<br>\"\n",
    "        f\"Host: {item_map[node].get('host_label', ['']) if item_map[node].get('host_label') else ''}<br>\"\n",
    "        f\"Version: {item_map[node].get('version', [''])[0] if item_map[node].get('version') else ''}<br>\"\n",
    "        f\"Start Date: {item_map[node].get('start_date', [''])[0] if item_map[node].get('start_date') else ''}<br>\"\n",
    "        f\"Active Users: {active_users}<br>\"\n",
    "        f\"Users: {item_map[node].get('users', [''])[0] if item_map[node].get('users') else ''}<br>\"\n",
    "        f\"Properties: {properties}<br>\"\n",
    "        f\"Edits: {item_map[node].get('edits', [''])[0] if item_map[node].get('edits') else ''}<br>\"\n",
    "        f\"Pages: {item_map[node].get('pages', [''])[0] if item_map[node].get('pages') else ''}\"\n",
    "    )\n",
    "    group_traces[group]['hovertext'].append(hover_text)\n",
    "\n",
    "    size_active_users = 4\n",
    "    if active_users:\n",
    "        if active_users > 0 and active_users < 10:\n",
    "            size_active_users = active_users + 5\n",
    "        elif active_users >= 10 and active_users < 100:\n",
    "            size_active_users = 20\n",
    "        elif active_users >= 100 and active_users < 1000:\n",
    "            size_active_users = 30\n",
    "        elif active_users >= 1000:\n",
    "            size_active_users = 40\n",
    "\n",
    "    size_properties = 4\n",
    "    if properties:\n",
    "        if properties > 0 and properties < 10:\n",
    "            size_properties = properties + 5\n",
    "        elif properties >= 10 and properties < 100:\n",
    "            size_properties = 20\n",
    "        elif properties >= 100 and properties < 1000:\n",
    "            size_properties = 30\n",
    "        elif properties >= 1000:\n",
    "            size_properties = 40\n",
    "\n",
    "    group_traces[group]['size'].append(size_active_users)\n",
    "    # group_traces[group]['size'].append(size_properties)\n",
    "    group_counts[group] += 1\n",
    "\n",
    "# Create the node traces\n",
    "node_traces = []\n",
    "for group, data in group_traces.items():\n",
    "    group_name_with_count = f\"{group} ({group_counts[group]})\"\n",
    "    node_trace = go.Scatter(\n",
    "        x=data['x'], y=data['y'],\n",
    "        mode='markers',\n",
    "        hovertext=data['hovertext'],\n",
    "        hoverinfo='text',\n",
    "        showlegend=True,\n",
    "        legendgrouptitle=dict(text=\"By host\"),\n",
    "        name=group_name_with_count,  # Use the graph_group string with count as the legend label\n",
    "        marker=dict(\n",
    "            showscale=False,\n",
    "            size=data['size'],\n",
    "            color=data['color'],\n",
    "            line_width=1,\n",
    "            line_color='black'\n",
    "            ))\n",
    "    node_traces.append(node_trace)\n",
    "\n",
    "fig = go.Figure(data=[edge_trace] + node_traces,\n",
    "                layout=go.Layout(\n",
    "                    title='Wikibases, and links, sized by # of active users',\n",
    "                    titlefont_size=16,\n",
    "                    showlegend=True,\n",
    "                    hovermode='closest',\n",
    "                    margin=dict(b=20, l=5, r=5, t=40),\n",
    "                    annotations=[dict(\n",
    "                        text=\"\",\n",
    "                        showarrow=False,\n",
    "                        xref=\"paper\", yref=\"paper\")],\n",
    "                    xaxis=dict(showgrid=False, zeroline=False),\n",
    "                    yaxis=dict(showgrid=False, zeroline=False),\n",
    "                    height=800  # Set the height to twice the default (400)\n",
    "                    ))\n",
    "\n",
    "# Show the plot\n",
    "fig.show()\n"
   ]
  },
  {
   "cell_type": "code",
   "execution_count": 106,
   "metadata": {},
   "outputs": [
    {
     "data": {
      "application/vnd.plotly.v1+json": {
       "config": {
        "plotlyServerURL": "https://plot.ly"
       },
       "data": [
        {
         "domain": {
          "x": [
           0,
           0.45
          ],
          "y": [
           0,
           1
          ]
         },
         "labels": [
          "Wikimedia Foundation (2)",
          "Wikibase Cloud (711)",
          "independently hosted Wikibase (24)",
          "unknown (32)",
          "The Wikibase Consultancy (6)",
          "Miraheze (1)",
          "Wikimedia Cloud Services (1)"
         ],
         "name": "All Hosts",
         "type": "pie",
         "values": [
          2,
          711,
          24,
          32,
          6,
          1,
          1
         ]
        },
        {
         "domain": {
          "x": [
           0.55,
           1
          ],
          "y": [
           0,
           1
          ]
         },
         "labels": [
          "Wikimedia Foundation (2)",
          "independently hosted Wikibase (24)",
          "unknown (32)",
          "The Wikibase Consultancy (6)",
          "Miraheze (1)",
          "Wikimedia Cloud Services (1)"
         ],
         "name": "Excluding Wikibase Cloud",
         "type": "pie",
         "values": [
          2,
          24,
          32,
          6,
          1,
          1
         ]
        }
       ],
       "layout": {
        "annotations": [
         {
          "font": {
           "size": 12
          },
          "showarrow": false,
          "text": "All Hosts",
          "x": 0.18,
          "y": 1
         },
         {
          "font": {
           "size": 12
          },
          "showarrow": false,
          "text": "Excluding Wikibase Cloud",
          "x": 0.9,
          "y": 1
         }
        ],
        "height": 500,
        "template": {
         "data": {
          "bar": [
           {
            "error_x": {
             "color": "#2a3f5f"
            },
            "error_y": {
             "color": "#2a3f5f"
            },
            "marker": {
             "line": {
              "color": "#E5ECF6",
              "width": 0.5
             },
             "pattern": {
              "fillmode": "overlay",
              "size": 10,
              "solidity": 0.2
             }
            },
            "type": "bar"
           }
          ],
          "barpolar": [
           {
            "marker": {
             "line": {
              "color": "#E5ECF6",
              "width": 0.5
             },
             "pattern": {
              "fillmode": "overlay",
              "size": 10,
              "solidity": 0.2
             }
            },
            "type": "barpolar"
           }
          ],
          "carpet": [
           {
            "aaxis": {
             "endlinecolor": "#2a3f5f",
             "gridcolor": "white",
             "linecolor": "white",
             "minorgridcolor": "white",
             "startlinecolor": "#2a3f5f"
            },
            "baxis": {
             "endlinecolor": "#2a3f5f",
             "gridcolor": "white",
             "linecolor": "white",
             "minorgridcolor": "white",
             "startlinecolor": "#2a3f5f"
            },
            "type": "carpet"
           }
          ],
          "choropleth": [
           {
            "colorbar": {
             "outlinewidth": 0,
             "ticks": ""
            },
            "type": "choropleth"
           }
          ],
          "contour": [
           {
            "colorbar": {
             "outlinewidth": 0,
             "ticks": ""
            },
            "colorscale": [
             [
              0,
              "#0d0887"
             ],
             [
              0.1111111111111111,
              "#46039f"
             ],
             [
              0.2222222222222222,
              "#7201a8"
             ],
             [
              0.3333333333333333,
              "#9c179e"
             ],
             [
              0.4444444444444444,
              "#bd3786"
             ],
             [
              0.5555555555555556,
              "#d8576b"
             ],
             [
              0.6666666666666666,
              "#ed7953"
             ],
             [
              0.7777777777777778,
              "#fb9f3a"
             ],
             [
              0.8888888888888888,
              "#fdca26"
             ],
             [
              1,
              "#f0f921"
             ]
            ],
            "type": "contour"
           }
          ],
          "contourcarpet": [
           {
            "colorbar": {
             "outlinewidth": 0,
             "ticks": ""
            },
            "type": "contourcarpet"
           }
          ],
          "heatmap": [
           {
            "colorbar": {
             "outlinewidth": 0,
             "ticks": ""
            },
            "colorscale": [
             [
              0,
              "#0d0887"
             ],
             [
              0.1111111111111111,
              "#46039f"
             ],
             [
              0.2222222222222222,
              "#7201a8"
             ],
             [
              0.3333333333333333,
              "#9c179e"
             ],
             [
              0.4444444444444444,
              "#bd3786"
             ],
             [
              0.5555555555555556,
              "#d8576b"
             ],
             [
              0.6666666666666666,
              "#ed7953"
             ],
             [
              0.7777777777777778,
              "#fb9f3a"
             ],
             [
              0.8888888888888888,
              "#fdca26"
             ],
             [
              1,
              "#f0f921"
             ]
            ],
            "type": "heatmap"
           }
          ],
          "heatmapgl": [
           {
            "colorbar": {
             "outlinewidth": 0,
             "ticks": ""
            },
            "colorscale": [
             [
              0,
              "#0d0887"
             ],
             [
              0.1111111111111111,
              "#46039f"
             ],
             [
              0.2222222222222222,
              "#7201a8"
             ],
             [
              0.3333333333333333,
              "#9c179e"
             ],
             [
              0.4444444444444444,
              "#bd3786"
             ],
             [
              0.5555555555555556,
              "#d8576b"
             ],
             [
              0.6666666666666666,
              "#ed7953"
             ],
             [
              0.7777777777777778,
              "#fb9f3a"
             ],
             [
              0.8888888888888888,
              "#fdca26"
             ],
             [
              1,
              "#f0f921"
             ]
            ],
            "type": "heatmapgl"
           }
          ],
          "histogram": [
           {
            "marker": {
             "pattern": {
              "fillmode": "overlay",
              "size": 10,
              "solidity": 0.2
             }
            },
            "type": "histogram"
           }
          ],
          "histogram2d": [
           {
            "colorbar": {
             "outlinewidth": 0,
             "ticks": ""
            },
            "colorscale": [
             [
              0,
              "#0d0887"
             ],
             [
              0.1111111111111111,
              "#46039f"
             ],
             [
              0.2222222222222222,
              "#7201a8"
             ],
             [
              0.3333333333333333,
              "#9c179e"
             ],
             [
              0.4444444444444444,
              "#bd3786"
             ],
             [
              0.5555555555555556,
              "#d8576b"
             ],
             [
              0.6666666666666666,
              "#ed7953"
             ],
             [
              0.7777777777777778,
              "#fb9f3a"
             ],
             [
              0.8888888888888888,
              "#fdca26"
             ],
             [
              1,
              "#f0f921"
             ]
            ],
            "type": "histogram2d"
           }
          ],
          "histogram2dcontour": [
           {
            "colorbar": {
             "outlinewidth": 0,
             "ticks": ""
            },
            "colorscale": [
             [
              0,
              "#0d0887"
             ],
             [
              0.1111111111111111,
              "#46039f"
             ],
             [
              0.2222222222222222,
              "#7201a8"
             ],
             [
              0.3333333333333333,
              "#9c179e"
             ],
             [
              0.4444444444444444,
              "#bd3786"
             ],
             [
              0.5555555555555556,
              "#d8576b"
             ],
             [
              0.6666666666666666,
              "#ed7953"
             ],
             [
              0.7777777777777778,
              "#fb9f3a"
             ],
             [
              0.8888888888888888,
              "#fdca26"
             ],
             [
              1,
              "#f0f921"
             ]
            ],
            "type": "histogram2dcontour"
           }
          ],
          "mesh3d": [
           {
            "colorbar": {
             "outlinewidth": 0,
             "ticks": ""
            },
            "type": "mesh3d"
           }
          ],
          "parcoords": [
           {
            "line": {
             "colorbar": {
              "outlinewidth": 0,
              "ticks": ""
             }
            },
            "type": "parcoords"
           }
          ],
          "pie": [
           {
            "automargin": true,
            "type": "pie"
           }
          ],
          "scatter": [
           {
            "fillpattern": {
             "fillmode": "overlay",
             "size": 10,
             "solidity": 0.2
            },
            "type": "scatter"
           }
          ],
          "scatter3d": [
           {
            "line": {
             "colorbar": {
              "outlinewidth": 0,
              "ticks": ""
             }
            },
            "marker": {
             "colorbar": {
              "outlinewidth": 0,
              "ticks": ""
             }
            },
            "type": "scatter3d"
           }
          ],
          "scattercarpet": [
           {
            "marker": {
             "colorbar": {
              "outlinewidth": 0,
              "ticks": ""
             }
            },
            "type": "scattercarpet"
           }
          ],
          "scattergeo": [
           {
            "marker": {
             "colorbar": {
              "outlinewidth": 0,
              "ticks": ""
             }
            },
            "type": "scattergeo"
           }
          ],
          "scattergl": [
           {
            "marker": {
             "colorbar": {
              "outlinewidth": 0,
              "ticks": ""
             }
            },
            "type": "scattergl"
           }
          ],
          "scattermapbox": [
           {
            "marker": {
             "colorbar": {
              "outlinewidth": 0,
              "ticks": ""
             }
            },
            "type": "scattermapbox"
           }
          ],
          "scatterpolar": [
           {
            "marker": {
             "colorbar": {
              "outlinewidth": 0,
              "ticks": ""
             }
            },
            "type": "scatterpolar"
           }
          ],
          "scatterpolargl": [
           {
            "marker": {
             "colorbar": {
              "outlinewidth": 0,
              "ticks": ""
             }
            },
            "type": "scatterpolargl"
           }
          ],
          "scatterternary": [
           {
            "marker": {
             "colorbar": {
              "outlinewidth": 0,
              "ticks": ""
             }
            },
            "type": "scatterternary"
           }
          ],
          "surface": [
           {
            "colorbar": {
             "outlinewidth": 0,
             "ticks": ""
            },
            "colorscale": [
             [
              0,
              "#0d0887"
             ],
             [
              0.1111111111111111,
              "#46039f"
             ],
             [
              0.2222222222222222,
              "#7201a8"
             ],
             [
              0.3333333333333333,
              "#9c179e"
             ],
             [
              0.4444444444444444,
              "#bd3786"
             ],
             [
              0.5555555555555556,
              "#d8576b"
             ],
             [
              0.6666666666666666,
              "#ed7953"
             ],
             [
              0.7777777777777778,
              "#fb9f3a"
             ],
             [
              0.8888888888888888,
              "#fdca26"
             ],
             [
              1,
              "#f0f921"
             ]
            ],
            "type": "surface"
           }
          ],
          "table": [
           {
            "cells": {
             "fill": {
              "color": "#EBF0F8"
             },
             "line": {
              "color": "white"
             }
            },
            "header": {
             "fill": {
              "color": "#C8D4E3"
             },
             "line": {
              "color": "white"
             }
            },
            "type": "table"
           }
          ]
         },
         "layout": {
          "annotationdefaults": {
           "arrowcolor": "#2a3f5f",
           "arrowhead": 0,
           "arrowwidth": 1
          },
          "autotypenumbers": "strict",
          "coloraxis": {
           "colorbar": {
            "outlinewidth": 0,
            "ticks": ""
           }
          },
          "colorscale": {
           "diverging": [
            [
             0,
             "#8e0152"
            ],
            [
             0.1,
             "#c51b7d"
            ],
            [
             0.2,
             "#de77ae"
            ],
            [
             0.3,
             "#f1b6da"
            ],
            [
             0.4,
             "#fde0ef"
            ],
            [
             0.5,
             "#f7f7f7"
            ],
            [
             0.6,
             "#e6f5d0"
            ],
            [
             0.7,
             "#b8e186"
            ],
            [
             0.8,
             "#7fbc41"
            ],
            [
             0.9,
             "#4d9221"
            ],
            [
             1,
             "#276419"
            ]
           ],
           "sequential": [
            [
             0,
             "#0d0887"
            ],
            [
             0.1111111111111111,
             "#46039f"
            ],
            [
             0.2222222222222222,
             "#7201a8"
            ],
            [
             0.3333333333333333,
             "#9c179e"
            ],
            [
             0.4444444444444444,
             "#bd3786"
            ],
            [
             0.5555555555555556,
             "#d8576b"
            ],
            [
             0.6666666666666666,
             "#ed7953"
            ],
            [
             0.7777777777777778,
             "#fb9f3a"
            ],
            [
             0.8888888888888888,
             "#fdca26"
            ],
            [
             1,
             "#f0f921"
            ]
           ],
           "sequentialminus": [
            [
             0,
             "#0d0887"
            ],
            [
             0.1111111111111111,
             "#46039f"
            ],
            [
             0.2222222222222222,
             "#7201a8"
            ],
            [
             0.3333333333333333,
             "#9c179e"
            ],
            [
             0.4444444444444444,
             "#bd3786"
            ],
            [
             0.5555555555555556,
             "#d8576b"
            ],
            [
             0.6666666666666666,
             "#ed7953"
            ],
            [
             0.7777777777777778,
             "#fb9f3a"
            ],
            [
             0.8888888888888888,
             "#fdca26"
            ],
            [
             1,
             "#f0f921"
            ]
           ]
          },
          "colorway": [
           "#636efa",
           "#EF553B",
           "#00cc96",
           "#ab63fa",
           "#FFA15A",
           "#19d3f3",
           "#FF6692",
           "#B6E880",
           "#FF97FF",
           "#FECB52"
          ],
          "font": {
           "color": "#2a3f5f"
          },
          "geo": {
           "bgcolor": "white",
           "lakecolor": "white",
           "landcolor": "#E5ECF6",
           "showlakes": true,
           "showland": true,
           "subunitcolor": "white"
          },
          "hoverlabel": {
           "align": "left"
          },
          "hovermode": "closest",
          "mapbox": {
           "style": "light"
          },
          "paper_bgcolor": "white",
          "plot_bgcolor": "#E5ECF6",
          "polar": {
           "angularaxis": {
            "gridcolor": "white",
            "linecolor": "white",
            "ticks": ""
           },
           "bgcolor": "#E5ECF6",
           "radialaxis": {
            "gridcolor": "white",
            "linecolor": "white",
            "ticks": ""
           }
          },
          "scene": {
           "xaxis": {
            "backgroundcolor": "#E5ECF6",
            "gridcolor": "white",
            "gridwidth": 2,
            "linecolor": "white",
            "showbackground": true,
            "ticks": "",
            "zerolinecolor": "white"
           },
           "yaxis": {
            "backgroundcolor": "#E5ECF6",
            "gridcolor": "white",
            "gridwidth": 2,
            "linecolor": "white",
            "showbackground": true,
            "ticks": "",
            "zerolinecolor": "white"
           },
           "zaxis": {
            "backgroundcolor": "#E5ECF6",
            "gridcolor": "white",
            "gridwidth": 2,
            "linecolor": "white",
            "showbackground": true,
            "ticks": "",
            "zerolinecolor": "white"
           }
          },
          "shapedefaults": {
           "line": {
            "color": "#2a3f5f"
           }
          },
          "ternary": {
           "aaxis": {
            "gridcolor": "white",
            "linecolor": "white",
            "ticks": ""
           },
           "baxis": {
            "gridcolor": "white",
            "linecolor": "white",
            "ticks": ""
           },
           "bgcolor": "#E5ECF6",
           "caxis": {
            "gridcolor": "white",
            "linecolor": "white",
            "ticks": ""
           }
          },
          "title": {
           "x": 0.05
          },
          "xaxis": {
           "automargin": true,
           "gridcolor": "white",
           "linecolor": "white",
           "ticks": "",
           "title": {
            "standoff": 15
           },
           "zerolinecolor": "white",
           "zerolinewidth": 2
          },
          "yaxis": {
           "automargin": true,
           "gridcolor": "white",
           "linecolor": "white",
           "ticks": "",
           "title": {
            "standoff": 15
           },
           "zerolinecolor": "white",
           "zerolinewidth": 2
          }
         }
        },
        "title": {
         "text": "Number of wikibases by host"
        },
        "width": 800
       }
      },
      "text/html": [
       "<div>                            <div id=\"52e309b3-9220-420d-8563-62dae7630088\" class=\"plotly-graph-div\" style=\"height:500px; width:800px;\"></div>            <script type=\"text/javascript\">                require([\"plotly\"], function(Plotly) {                    window.PLOTLYENV=window.PLOTLYENV || {};                                    if (document.getElementById(\"52e309b3-9220-420d-8563-62dae7630088\")) {                    Plotly.newPlot(                        \"52e309b3-9220-420d-8563-62dae7630088\",                        [{\"labels\":[\"Wikimedia Foundation (2)\",\"Wikibase Cloud (711)\",\"independently hosted Wikibase (24)\",\"unknown (32)\",\"The Wikibase Consultancy (6)\",\"Miraheze (1)\",\"Wikimedia Cloud Services (1)\"],\"name\":\"All Hosts\",\"values\":[2,711,24,32,6,1,1],\"type\":\"pie\",\"domain\":{\"x\":[0.0,0.45],\"y\":[0.0,1.0]}},{\"labels\":[\"Wikimedia Foundation (2)\",\"independently hosted Wikibase (24)\",\"unknown (32)\",\"The Wikibase Consultancy (6)\",\"Miraheze (1)\",\"Wikimedia Cloud Services (1)\"],\"name\":\"Excluding Wikibase Cloud\",\"values\":[2,24,32,6,1,1],\"type\":\"pie\",\"domain\":{\"x\":[0.55,1.0],\"y\":[0.0,1.0]}}],                        {\"template\":{\"data\":{\"histogram2dcontour\":[{\"type\":\"histogram2dcontour\",\"colorbar\":{\"outlinewidth\":0,\"ticks\":\"\"},\"colorscale\":[[0.0,\"#0d0887\"],[0.1111111111111111,\"#46039f\"],[0.2222222222222222,\"#7201a8\"],[0.3333333333333333,\"#9c179e\"],[0.4444444444444444,\"#bd3786\"],[0.5555555555555556,\"#d8576b\"],[0.6666666666666666,\"#ed7953\"],[0.7777777777777778,\"#fb9f3a\"],[0.8888888888888888,\"#fdca26\"],[1.0,\"#f0f921\"]]}],\"choropleth\":[{\"type\":\"choropleth\",\"colorbar\":{\"outlinewidth\":0,\"ticks\":\"\"}}],\"histogram2d\":[{\"type\":\"histogram2d\",\"colorbar\":{\"outlinewidth\":0,\"ticks\":\"\"},\"colorscale\":[[0.0,\"#0d0887\"],[0.1111111111111111,\"#46039f\"],[0.2222222222222222,\"#7201a8\"],[0.3333333333333333,\"#9c179e\"],[0.4444444444444444,\"#bd3786\"],[0.5555555555555556,\"#d8576b\"],[0.6666666666666666,\"#ed7953\"],[0.7777777777777778,\"#fb9f3a\"],[0.8888888888888888,\"#fdca26\"],[1.0,\"#f0f921\"]]}],\"heatmap\":[{\"type\":\"heatmap\",\"colorbar\":{\"outlinewidth\":0,\"ticks\":\"\"},\"colorscale\":[[0.0,\"#0d0887\"],[0.1111111111111111,\"#46039f\"],[0.2222222222222222,\"#7201a8\"],[0.3333333333333333,\"#9c179e\"],[0.4444444444444444,\"#bd3786\"],[0.5555555555555556,\"#d8576b\"],[0.6666666666666666,\"#ed7953\"],[0.7777777777777778,\"#fb9f3a\"],[0.8888888888888888,\"#fdca26\"],[1.0,\"#f0f921\"]]}],\"heatmapgl\":[{\"type\":\"heatmapgl\",\"colorbar\":{\"outlinewidth\":0,\"ticks\":\"\"},\"colorscale\":[[0.0,\"#0d0887\"],[0.1111111111111111,\"#46039f\"],[0.2222222222222222,\"#7201a8\"],[0.3333333333333333,\"#9c179e\"],[0.4444444444444444,\"#bd3786\"],[0.5555555555555556,\"#d8576b\"],[0.6666666666666666,\"#ed7953\"],[0.7777777777777778,\"#fb9f3a\"],[0.8888888888888888,\"#fdca26\"],[1.0,\"#f0f921\"]]}],\"contourcarpet\":[{\"type\":\"contourcarpet\",\"colorbar\":{\"outlinewidth\":0,\"ticks\":\"\"}}],\"contour\":[{\"type\":\"contour\",\"colorbar\":{\"outlinewidth\":0,\"ticks\":\"\"},\"colorscale\":[[0.0,\"#0d0887\"],[0.1111111111111111,\"#46039f\"],[0.2222222222222222,\"#7201a8\"],[0.3333333333333333,\"#9c179e\"],[0.4444444444444444,\"#bd3786\"],[0.5555555555555556,\"#d8576b\"],[0.6666666666666666,\"#ed7953\"],[0.7777777777777778,\"#fb9f3a\"],[0.8888888888888888,\"#fdca26\"],[1.0,\"#f0f921\"]]}],\"surface\":[{\"type\":\"surface\",\"colorbar\":{\"outlinewidth\":0,\"ticks\":\"\"},\"colorscale\":[[0.0,\"#0d0887\"],[0.1111111111111111,\"#46039f\"],[0.2222222222222222,\"#7201a8\"],[0.3333333333333333,\"#9c179e\"],[0.4444444444444444,\"#bd3786\"],[0.5555555555555556,\"#d8576b\"],[0.6666666666666666,\"#ed7953\"],[0.7777777777777778,\"#fb9f3a\"],[0.8888888888888888,\"#fdca26\"],[1.0,\"#f0f921\"]]}],\"mesh3d\":[{\"type\":\"mesh3d\",\"colorbar\":{\"outlinewidth\":0,\"ticks\":\"\"}}],\"scatter\":[{\"fillpattern\":{\"fillmode\":\"overlay\",\"size\":10,\"solidity\":0.2},\"type\":\"scatter\"}],\"parcoords\":[{\"type\":\"parcoords\",\"line\":{\"colorbar\":{\"outlinewidth\":0,\"ticks\":\"\"}}}],\"scatterpolargl\":[{\"type\":\"scatterpolargl\",\"marker\":{\"colorbar\":{\"outlinewidth\":0,\"ticks\":\"\"}}}],\"bar\":[{\"error_x\":{\"color\":\"#2a3f5f\"},\"error_y\":{\"color\":\"#2a3f5f\"},\"marker\":{\"line\":{\"color\":\"#E5ECF6\",\"width\":0.5},\"pattern\":{\"fillmode\":\"overlay\",\"size\":10,\"solidity\":0.2}},\"type\":\"bar\"}],\"scattergeo\":[{\"type\":\"scattergeo\",\"marker\":{\"colorbar\":{\"outlinewidth\":0,\"ticks\":\"\"}}}],\"scatterpolar\":[{\"type\":\"scatterpolar\",\"marker\":{\"colorbar\":{\"outlinewidth\":0,\"ticks\":\"\"}}}],\"histogram\":[{\"marker\":{\"pattern\":{\"fillmode\":\"overlay\",\"size\":10,\"solidity\":0.2}},\"type\":\"histogram\"}],\"scattergl\":[{\"type\":\"scattergl\",\"marker\":{\"colorbar\":{\"outlinewidth\":0,\"ticks\":\"\"}}}],\"scatter3d\":[{\"type\":\"scatter3d\",\"line\":{\"colorbar\":{\"outlinewidth\":0,\"ticks\":\"\"}},\"marker\":{\"colorbar\":{\"outlinewidth\":0,\"ticks\":\"\"}}}],\"scattermapbox\":[{\"type\":\"scattermapbox\",\"marker\":{\"colorbar\":{\"outlinewidth\":0,\"ticks\":\"\"}}}],\"scatterternary\":[{\"type\":\"scatterternary\",\"marker\":{\"colorbar\":{\"outlinewidth\":0,\"ticks\":\"\"}}}],\"scattercarpet\":[{\"type\":\"scattercarpet\",\"marker\":{\"colorbar\":{\"outlinewidth\":0,\"ticks\":\"\"}}}],\"carpet\":[{\"aaxis\":{\"endlinecolor\":\"#2a3f5f\",\"gridcolor\":\"white\",\"linecolor\":\"white\",\"minorgridcolor\":\"white\",\"startlinecolor\":\"#2a3f5f\"},\"baxis\":{\"endlinecolor\":\"#2a3f5f\",\"gridcolor\":\"white\",\"linecolor\":\"white\",\"minorgridcolor\":\"white\",\"startlinecolor\":\"#2a3f5f\"},\"type\":\"carpet\"}],\"table\":[{\"cells\":{\"fill\":{\"color\":\"#EBF0F8\"},\"line\":{\"color\":\"white\"}},\"header\":{\"fill\":{\"color\":\"#C8D4E3\"},\"line\":{\"color\":\"white\"}},\"type\":\"table\"}],\"barpolar\":[{\"marker\":{\"line\":{\"color\":\"#E5ECF6\",\"width\":0.5},\"pattern\":{\"fillmode\":\"overlay\",\"size\":10,\"solidity\":0.2}},\"type\":\"barpolar\"}],\"pie\":[{\"automargin\":true,\"type\":\"pie\"}]},\"layout\":{\"autotypenumbers\":\"strict\",\"colorway\":[\"#636efa\",\"#EF553B\",\"#00cc96\",\"#ab63fa\",\"#FFA15A\",\"#19d3f3\",\"#FF6692\",\"#B6E880\",\"#FF97FF\",\"#FECB52\"],\"font\":{\"color\":\"#2a3f5f\"},\"hovermode\":\"closest\",\"hoverlabel\":{\"align\":\"left\"},\"paper_bgcolor\":\"white\",\"plot_bgcolor\":\"#E5ECF6\",\"polar\":{\"bgcolor\":\"#E5ECF6\",\"angularaxis\":{\"gridcolor\":\"white\",\"linecolor\":\"white\",\"ticks\":\"\"},\"radialaxis\":{\"gridcolor\":\"white\",\"linecolor\":\"white\",\"ticks\":\"\"}},\"ternary\":{\"bgcolor\":\"#E5ECF6\",\"aaxis\":{\"gridcolor\":\"white\",\"linecolor\":\"white\",\"ticks\":\"\"},\"baxis\":{\"gridcolor\":\"white\",\"linecolor\":\"white\",\"ticks\":\"\"},\"caxis\":{\"gridcolor\":\"white\",\"linecolor\":\"white\",\"ticks\":\"\"}},\"coloraxis\":{\"colorbar\":{\"outlinewidth\":0,\"ticks\":\"\"}},\"colorscale\":{\"sequential\":[[0.0,\"#0d0887\"],[0.1111111111111111,\"#46039f\"],[0.2222222222222222,\"#7201a8\"],[0.3333333333333333,\"#9c179e\"],[0.4444444444444444,\"#bd3786\"],[0.5555555555555556,\"#d8576b\"],[0.6666666666666666,\"#ed7953\"],[0.7777777777777778,\"#fb9f3a\"],[0.8888888888888888,\"#fdca26\"],[1.0,\"#f0f921\"]],\"sequentialminus\":[[0.0,\"#0d0887\"],[0.1111111111111111,\"#46039f\"],[0.2222222222222222,\"#7201a8\"],[0.3333333333333333,\"#9c179e\"],[0.4444444444444444,\"#bd3786\"],[0.5555555555555556,\"#d8576b\"],[0.6666666666666666,\"#ed7953\"],[0.7777777777777778,\"#fb9f3a\"],[0.8888888888888888,\"#fdca26\"],[1.0,\"#f0f921\"]],\"diverging\":[[0,\"#8e0152\"],[0.1,\"#c51b7d\"],[0.2,\"#de77ae\"],[0.3,\"#f1b6da\"],[0.4,\"#fde0ef\"],[0.5,\"#f7f7f7\"],[0.6,\"#e6f5d0\"],[0.7,\"#b8e186\"],[0.8,\"#7fbc41\"],[0.9,\"#4d9221\"],[1,\"#276419\"]]},\"xaxis\":{\"gridcolor\":\"white\",\"linecolor\":\"white\",\"ticks\":\"\",\"title\":{\"standoff\":15},\"zerolinecolor\":\"white\",\"automargin\":true,\"zerolinewidth\":2},\"yaxis\":{\"gridcolor\":\"white\",\"linecolor\":\"white\",\"ticks\":\"\",\"title\":{\"standoff\":15},\"zerolinecolor\":\"white\",\"automargin\":true,\"zerolinewidth\":2},\"scene\":{\"xaxis\":{\"backgroundcolor\":\"#E5ECF6\",\"gridcolor\":\"white\",\"linecolor\":\"white\",\"showbackground\":true,\"ticks\":\"\",\"zerolinecolor\":\"white\",\"gridwidth\":2},\"yaxis\":{\"backgroundcolor\":\"#E5ECF6\",\"gridcolor\":\"white\",\"linecolor\":\"white\",\"showbackground\":true,\"ticks\":\"\",\"zerolinecolor\":\"white\",\"gridwidth\":2},\"zaxis\":{\"backgroundcolor\":\"#E5ECF6\",\"gridcolor\":\"white\",\"linecolor\":\"white\",\"showbackground\":true,\"ticks\":\"\",\"zerolinecolor\":\"white\",\"gridwidth\":2}},\"shapedefaults\":{\"line\":{\"color\":\"#2a3f5f\"}},\"annotationdefaults\":{\"arrowcolor\":\"#2a3f5f\",\"arrowhead\":0,\"arrowwidth\":1},\"geo\":{\"bgcolor\":\"white\",\"landcolor\":\"#E5ECF6\",\"subunitcolor\":\"white\",\"showland\":true,\"showlakes\":true,\"lakecolor\":\"white\"},\"title\":{\"x\":0.05},\"mapbox\":{\"style\":\"light\"}}},\"title\":{\"text\":\"Number of wikibases by host\"},\"height\":500,\"width\":800,\"annotations\":[{\"showarrow\":false,\"text\":\"All Hosts\",\"x\":0.18,\"y\":1,\"font\":{\"size\":12}},{\"showarrow\":false,\"text\":\"Excluding Wikibase Cloud\",\"x\":0.9,\"y\":1,\"font\":{\"size\":12}}]},                        {\"responsive\": true}                    ).then(function(){\n",
       "                            \n",
       "var gd = document.getElementById('52e309b3-9220-420d-8563-62dae7630088');\n",
       "var x = new MutationObserver(function (mutations, observer) {{\n",
       "        var display = window.getComputedStyle(gd).display;\n",
       "        if (!display || display === 'none') {{\n",
       "            console.log([gd, 'removed!']);\n",
       "            Plotly.purge(gd);\n",
       "            observer.disconnect();\n",
       "        }}\n",
       "}});\n",
       "\n",
       "// Listen for the removal of the full notebook cells\n",
       "var notebookContainer = gd.closest('#notebook-container');\n",
       "if (notebookContainer) {{\n",
       "    x.observe(notebookContainer, {childList: true});\n",
       "}}\n",
       "\n",
       "// Listen for the clearing of the current output cell\n",
       "var outputEl = gd.closest('.output');\n",
       "if (outputEl) {{\n",
       "    x.observe(outputEl, {childList: true});\n",
       "}}\n",
       "\n",
       "                        })                };                });            </script>        </div>"
      ]
     },
     "metadata": {},
     "output_type": "display_data"
    }
   ],
   "source": [
    "from plotly.subplots import make_subplots\n",
    "\n",
    "# Filter out the Wikibase Cloud host\n",
    "filtered_group_counts = {k: v for k, v in group_counts.items() if k != 'Wikibase Cloud'}\n",
    "\n",
    "filtered_labels = [f\"{k} ({v})\" for k, v in filtered_group_counts.items()]\n",
    "filtered_values = list(filtered_group_counts.values())\n",
    "\n",
    "# Prepare data for the pie charts\n",
    "labels = [f\"{k} ({v})\" for k, v in group_counts.items()]\n",
    "values = list(group_counts.values())\n",
    "\n",
    "# Create subplots\n",
    "fig = make_subplots(rows=1, cols=2, specs=[[{'type': 'domain'}, {'type': 'domain'}]])\n",
    "\n",
    "# Add the first pie chart\n",
    "fig.add_trace(go.Pie(labels=labels, values=values, name=\"All Hosts\"), 1, 1)\n",
    "\n",
    "# Add the second pie chart\n",
    "fig.add_trace(go.Pie(labels=filtered_labels, values=filtered_values, name=\"Excluding Wikibase Cloud\"), 1, 2)\n",
    "\n",
    "# Update layout\n",
    "fig.update_layout(\n",
    "    title_text=\"Number of wikibases by host\",\n",
    "    height=500,\n",
    "    width=800,\n",
    "    annotations=[dict(text='All Hosts', x=0.18, y=1, font_size=12, showarrow=False),\n",
    "                 dict(text='Excluding Wikibase Cloud', x=0.9, y=1, font_size=12, showarrow=False)]\n",
    ")\n",
    "\n",
    "fig.show()\n"
   ]
  },
  {
   "cell_type": "code",
   "execution_count": 107,
   "metadata": {},
   "outputs": [
    {
     "data": {
      "application/vnd.plotly.v1+json": {
       "config": {
        "plotlyServerURL": "https://plot.ly"
       },
       "data": [
        {
         "domain": {
          "x": [
           0,
           0.45
          ],
          "y": [
           0,
           1
          ]
         },
         "labels": [
          "Wikimedia Foundation (63954)",
          "Wikibase Cloud (448)",
          "independently hosted Wikibase (887)",
          "The Wikibase Consultancy (6)",
          "Wikimedia Cloud Services (0)",
          "unknown (242)",
          "Miraheze (2)",
          "wikibase-docker (37)"
         ],
         "name": "All Hosts",
         "type": "pie",
         "values": [
          63954,
          448,
          887,
          6,
          0,
          242,
          2,
          37
         ]
        },
        {
         "domain": {
          "x": [
           0.55,
           1
          ],
          "y": [
           0,
           1
          ]
         },
         "labels": [
          "Wikibase Cloud (448)",
          "independently hosted Wikibase (887)",
          "The Wikibase Consultancy (6)",
          "Wikimedia Cloud Services (0)",
          "unknown (242)",
          "Miraheze (2)",
          "wikibase-docker (37)"
         ],
         "name": "Excluding Wikimedia Foundation",
         "type": "pie",
         "values": [
          448,
          887,
          6,
          0,
          242,
          2,
          37
         ]
        }
       ],
       "layout": {
        "annotations": [
         {
          "font": {
           "size": 12
          },
          "showarrow": false,
          "text": "All Hosts",
          "x": 0.18,
          "y": 1
         },
         {
          "font": {
           "size": 12
          },
          "showarrow": false,
          "text": "Excluding WMF",
          "x": 0.82,
          "y": 1
         }
        ],
        "height": 500,
        "template": {
         "data": {
          "bar": [
           {
            "error_x": {
             "color": "#2a3f5f"
            },
            "error_y": {
             "color": "#2a3f5f"
            },
            "marker": {
             "line": {
              "color": "#E5ECF6",
              "width": 0.5
             },
             "pattern": {
              "fillmode": "overlay",
              "size": 10,
              "solidity": 0.2
             }
            },
            "type": "bar"
           }
          ],
          "barpolar": [
           {
            "marker": {
             "line": {
              "color": "#E5ECF6",
              "width": 0.5
             },
             "pattern": {
              "fillmode": "overlay",
              "size": 10,
              "solidity": 0.2
             }
            },
            "type": "barpolar"
           }
          ],
          "carpet": [
           {
            "aaxis": {
             "endlinecolor": "#2a3f5f",
             "gridcolor": "white",
             "linecolor": "white",
             "minorgridcolor": "white",
             "startlinecolor": "#2a3f5f"
            },
            "baxis": {
             "endlinecolor": "#2a3f5f",
             "gridcolor": "white",
             "linecolor": "white",
             "minorgridcolor": "white",
             "startlinecolor": "#2a3f5f"
            },
            "type": "carpet"
           }
          ],
          "choropleth": [
           {
            "colorbar": {
             "outlinewidth": 0,
             "ticks": ""
            },
            "type": "choropleth"
           }
          ],
          "contour": [
           {
            "colorbar": {
             "outlinewidth": 0,
             "ticks": ""
            },
            "colorscale": [
             [
              0,
              "#0d0887"
             ],
             [
              0.1111111111111111,
              "#46039f"
             ],
             [
              0.2222222222222222,
              "#7201a8"
             ],
             [
              0.3333333333333333,
              "#9c179e"
             ],
             [
              0.4444444444444444,
              "#bd3786"
             ],
             [
              0.5555555555555556,
              "#d8576b"
             ],
             [
              0.6666666666666666,
              "#ed7953"
             ],
             [
              0.7777777777777778,
              "#fb9f3a"
             ],
             [
              0.8888888888888888,
              "#fdca26"
             ],
             [
              1,
              "#f0f921"
             ]
            ],
            "type": "contour"
           }
          ],
          "contourcarpet": [
           {
            "colorbar": {
             "outlinewidth": 0,
             "ticks": ""
            },
            "type": "contourcarpet"
           }
          ],
          "heatmap": [
           {
            "colorbar": {
             "outlinewidth": 0,
             "ticks": ""
            },
            "colorscale": [
             [
              0,
              "#0d0887"
             ],
             [
              0.1111111111111111,
              "#46039f"
             ],
             [
              0.2222222222222222,
              "#7201a8"
             ],
             [
              0.3333333333333333,
              "#9c179e"
             ],
             [
              0.4444444444444444,
              "#bd3786"
             ],
             [
              0.5555555555555556,
              "#d8576b"
             ],
             [
              0.6666666666666666,
              "#ed7953"
             ],
             [
              0.7777777777777778,
              "#fb9f3a"
             ],
             [
              0.8888888888888888,
              "#fdca26"
             ],
             [
              1,
              "#f0f921"
             ]
            ],
            "type": "heatmap"
           }
          ],
          "heatmapgl": [
           {
            "colorbar": {
             "outlinewidth": 0,
             "ticks": ""
            },
            "colorscale": [
             [
              0,
              "#0d0887"
             ],
             [
              0.1111111111111111,
              "#46039f"
             ],
             [
              0.2222222222222222,
              "#7201a8"
             ],
             [
              0.3333333333333333,
              "#9c179e"
             ],
             [
              0.4444444444444444,
              "#bd3786"
             ],
             [
              0.5555555555555556,
              "#d8576b"
             ],
             [
              0.6666666666666666,
              "#ed7953"
             ],
             [
              0.7777777777777778,
              "#fb9f3a"
             ],
             [
              0.8888888888888888,
              "#fdca26"
             ],
             [
              1,
              "#f0f921"
             ]
            ],
            "type": "heatmapgl"
           }
          ],
          "histogram": [
           {
            "marker": {
             "pattern": {
              "fillmode": "overlay",
              "size": 10,
              "solidity": 0.2
             }
            },
            "type": "histogram"
           }
          ],
          "histogram2d": [
           {
            "colorbar": {
             "outlinewidth": 0,
             "ticks": ""
            },
            "colorscale": [
             [
              0,
              "#0d0887"
             ],
             [
              0.1111111111111111,
              "#46039f"
             ],
             [
              0.2222222222222222,
              "#7201a8"
             ],
             [
              0.3333333333333333,
              "#9c179e"
             ],
             [
              0.4444444444444444,
              "#bd3786"
             ],
             [
              0.5555555555555556,
              "#d8576b"
             ],
             [
              0.6666666666666666,
              "#ed7953"
             ],
             [
              0.7777777777777778,
              "#fb9f3a"
             ],
             [
              0.8888888888888888,
              "#fdca26"
             ],
             [
              1,
              "#f0f921"
             ]
            ],
            "type": "histogram2d"
           }
          ],
          "histogram2dcontour": [
           {
            "colorbar": {
             "outlinewidth": 0,
             "ticks": ""
            },
            "colorscale": [
             [
              0,
              "#0d0887"
             ],
             [
              0.1111111111111111,
              "#46039f"
             ],
             [
              0.2222222222222222,
              "#7201a8"
             ],
             [
              0.3333333333333333,
              "#9c179e"
             ],
             [
              0.4444444444444444,
              "#bd3786"
             ],
             [
              0.5555555555555556,
              "#d8576b"
             ],
             [
              0.6666666666666666,
              "#ed7953"
             ],
             [
              0.7777777777777778,
              "#fb9f3a"
             ],
             [
              0.8888888888888888,
              "#fdca26"
             ],
             [
              1,
              "#f0f921"
             ]
            ],
            "type": "histogram2dcontour"
           }
          ],
          "mesh3d": [
           {
            "colorbar": {
             "outlinewidth": 0,
             "ticks": ""
            },
            "type": "mesh3d"
           }
          ],
          "parcoords": [
           {
            "line": {
             "colorbar": {
              "outlinewidth": 0,
              "ticks": ""
             }
            },
            "type": "parcoords"
           }
          ],
          "pie": [
           {
            "automargin": true,
            "type": "pie"
           }
          ],
          "scatter": [
           {
            "fillpattern": {
             "fillmode": "overlay",
             "size": 10,
             "solidity": 0.2
            },
            "type": "scatter"
           }
          ],
          "scatter3d": [
           {
            "line": {
             "colorbar": {
              "outlinewidth": 0,
              "ticks": ""
             }
            },
            "marker": {
             "colorbar": {
              "outlinewidth": 0,
              "ticks": ""
             }
            },
            "type": "scatter3d"
           }
          ],
          "scattercarpet": [
           {
            "marker": {
             "colorbar": {
              "outlinewidth": 0,
              "ticks": ""
             }
            },
            "type": "scattercarpet"
           }
          ],
          "scattergeo": [
           {
            "marker": {
             "colorbar": {
              "outlinewidth": 0,
              "ticks": ""
             }
            },
            "type": "scattergeo"
           }
          ],
          "scattergl": [
           {
            "marker": {
             "colorbar": {
              "outlinewidth": 0,
              "ticks": ""
             }
            },
            "type": "scattergl"
           }
          ],
          "scattermapbox": [
           {
            "marker": {
             "colorbar": {
              "outlinewidth": 0,
              "ticks": ""
             }
            },
            "type": "scattermapbox"
           }
          ],
          "scatterpolar": [
           {
            "marker": {
             "colorbar": {
              "outlinewidth": 0,
              "ticks": ""
             }
            },
            "type": "scatterpolar"
           }
          ],
          "scatterpolargl": [
           {
            "marker": {
             "colorbar": {
              "outlinewidth": 0,
              "ticks": ""
             }
            },
            "type": "scatterpolargl"
           }
          ],
          "scatterternary": [
           {
            "marker": {
             "colorbar": {
              "outlinewidth": 0,
              "ticks": ""
             }
            },
            "type": "scatterternary"
           }
          ],
          "surface": [
           {
            "colorbar": {
             "outlinewidth": 0,
             "ticks": ""
            },
            "colorscale": [
             [
              0,
              "#0d0887"
             ],
             [
              0.1111111111111111,
              "#46039f"
             ],
             [
              0.2222222222222222,
              "#7201a8"
             ],
             [
              0.3333333333333333,
              "#9c179e"
             ],
             [
              0.4444444444444444,
              "#bd3786"
             ],
             [
              0.5555555555555556,
              "#d8576b"
             ],
             [
              0.6666666666666666,
              "#ed7953"
             ],
             [
              0.7777777777777778,
              "#fb9f3a"
             ],
             [
              0.8888888888888888,
              "#fdca26"
             ],
             [
              1,
              "#f0f921"
             ]
            ],
            "type": "surface"
           }
          ],
          "table": [
           {
            "cells": {
             "fill": {
              "color": "#EBF0F8"
             },
             "line": {
              "color": "white"
             }
            },
            "header": {
             "fill": {
              "color": "#C8D4E3"
             },
             "line": {
              "color": "white"
             }
            },
            "type": "table"
           }
          ]
         },
         "layout": {
          "annotationdefaults": {
           "arrowcolor": "#2a3f5f",
           "arrowhead": 0,
           "arrowwidth": 1
          },
          "autotypenumbers": "strict",
          "coloraxis": {
           "colorbar": {
            "outlinewidth": 0,
            "ticks": ""
           }
          },
          "colorscale": {
           "diverging": [
            [
             0,
             "#8e0152"
            ],
            [
             0.1,
             "#c51b7d"
            ],
            [
             0.2,
             "#de77ae"
            ],
            [
             0.3,
             "#f1b6da"
            ],
            [
             0.4,
             "#fde0ef"
            ],
            [
             0.5,
             "#f7f7f7"
            ],
            [
             0.6,
             "#e6f5d0"
            ],
            [
             0.7,
             "#b8e186"
            ],
            [
             0.8,
             "#7fbc41"
            ],
            [
             0.9,
             "#4d9221"
            ],
            [
             1,
             "#276419"
            ]
           ],
           "sequential": [
            [
             0,
             "#0d0887"
            ],
            [
             0.1111111111111111,
             "#46039f"
            ],
            [
             0.2222222222222222,
             "#7201a8"
            ],
            [
             0.3333333333333333,
             "#9c179e"
            ],
            [
             0.4444444444444444,
             "#bd3786"
            ],
            [
             0.5555555555555556,
             "#d8576b"
            ],
            [
             0.6666666666666666,
             "#ed7953"
            ],
            [
             0.7777777777777778,
             "#fb9f3a"
            ],
            [
             0.8888888888888888,
             "#fdca26"
            ],
            [
             1,
             "#f0f921"
            ]
           ],
           "sequentialminus": [
            [
             0,
             "#0d0887"
            ],
            [
             0.1111111111111111,
             "#46039f"
            ],
            [
             0.2222222222222222,
             "#7201a8"
            ],
            [
             0.3333333333333333,
             "#9c179e"
            ],
            [
             0.4444444444444444,
             "#bd3786"
            ],
            [
             0.5555555555555556,
             "#d8576b"
            ],
            [
             0.6666666666666666,
             "#ed7953"
            ],
            [
             0.7777777777777778,
             "#fb9f3a"
            ],
            [
             0.8888888888888888,
             "#fdca26"
            ],
            [
             1,
             "#f0f921"
            ]
           ]
          },
          "colorway": [
           "#636efa",
           "#EF553B",
           "#00cc96",
           "#ab63fa",
           "#FFA15A",
           "#19d3f3",
           "#FF6692",
           "#B6E880",
           "#FF97FF",
           "#FECB52"
          ],
          "font": {
           "color": "#2a3f5f"
          },
          "geo": {
           "bgcolor": "white",
           "lakecolor": "white",
           "landcolor": "#E5ECF6",
           "showlakes": true,
           "showland": true,
           "subunitcolor": "white"
          },
          "hoverlabel": {
           "align": "left"
          },
          "hovermode": "closest",
          "mapbox": {
           "style": "light"
          },
          "paper_bgcolor": "white",
          "plot_bgcolor": "#E5ECF6",
          "polar": {
           "angularaxis": {
            "gridcolor": "white",
            "linecolor": "white",
            "ticks": ""
           },
           "bgcolor": "#E5ECF6",
           "radialaxis": {
            "gridcolor": "white",
            "linecolor": "white",
            "ticks": ""
           }
          },
          "scene": {
           "xaxis": {
            "backgroundcolor": "#E5ECF6",
            "gridcolor": "white",
            "gridwidth": 2,
            "linecolor": "white",
            "showbackground": true,
            "ticks": "",
            "zerolinecolor": "white"
           },
           "yaxis": {
            "backgroundcolor": "#E5ECF6",
            "gridcolor": "white",
            "gridwidth": 2,
            "linecolor": "white",
            "showbackground": true,
            "ticks": "",
            "zerolinecolor": "white"
           },
           "zaxis": {
            "backgroundcolor": "#E5ECF6",
            "gridcolor": "white",
            "gridwidth": 2,
            "linecolor": "white",
            "showbackground": true,
            "ticks": "",
            "zerolinecolor": "white"
           }
          },
          "shapedefaults": {
           "line": {
            "color": "#2a3f5f"
           }
          },
          "ternary": {
           "aaxis": {
            "gridcolor": "white",
            "linecolor": "white",
            "ticks": ""
           },
           "baxis": {
            "gridcolor": "white",
            "linecolor": "white",
            "ticks": ""
           },
           "bgcolor": "#E5ECF6",
           "caxis": {
            "gridcolor": "white",
            "linecolor": "white",
            "ticks": ""
           }
          },
          "title": {
           "x": 0.05
          },
          "xaxis": {
           "automargin": true,
           "gridcolor": "white",
           "linecolor": "white",
           "ticks": "",
           "title": {
            "standoff": 15
           },
           "zerolinecolor": "white",
           "zerolinewidth": 2
          },
          "yaxis": {
           "automargin": true,
           "gridcolor": "white",
           "linecolor": "white",
           "ticks": "",
           "title": {
            "standoff": 15
           },
           "zerolinecolor": "white",
           "zerolinewidth": 2
          }
         }
        },
        "title": {
         "text": "Number of active users by host"
        },
        "width": 800
       }
      },
      "text/html": [
       "<div>                            <div id=\"9dbeaf76-ac18-4412-98d7-d8fa35c863f1\" class=\"plotly-graph-div\" style=\"height:500px; width:800px;\"></div>            <script type=\"text/javascript\">                require([\"plotly\"], function(Plotly) {                    window.PLOTLYENV=window.PLOTLYENV || {};                                    if (document.getElementById(\"9dbeaf76-ac18-4412-98d7-d8fa35c863f1\")) {                    Plotly.newPlot(                        \"9dbeaf76-ac18-4412-98d7-d8fa35c863f1\",                        [{\"labels\":[\"Wikimedia Foundation (63954)\",\"Wikibase Cloud (448)\",\"independently hosted Wikibase (887)\",\"The Wikibase Consultancy (6)\",\"Wikimedia Cloud Services (0)\",\"unknown (242)\",\"Miraheze (2)\",\"wikibase-docker (37)\"],\"name\":\"All Hosts\",\"values\":[63954,448,887,6,0,242,2,37],\"type\":\"pie\",\"domain\":{\"x\":[0.0,0.45],\"y\":[0.0,1.0]}},{\"labels\":[\"Wikibase Cloud (448)\",\"independently hosted Wikibase (887)\",\"The Wikibase Consultancy (6)\",\"Wikimedia Cloud Services (0)\",\"unknown (242)\",\"Miraheze (2)\",\"wikibase-docker (37)\"],\"name\":\"Excluding Wikimedia Foundation\",\"values\":[448,887,6,0,242,2,37],\"type\":\"pie\",\"domain\":{\"x\":[0.55,1.0],\"y\":[0.0,1.0]}}],                        {\"template\":{\"data\":{\"histogram2dcontour\":[{\"type\":\"histogram2dcontour\",\"colorbar\":{\"outlinewidth\":0,\"ticks\":\"\"},\"colorscale\":[[0.0,\"#0d0887\"],[0.1111111111111111,\"#46039f\"],[0.2222222222222222,\"#7201a8\"],[0.3333333333333333,\"#9c179e\"],[0.4444444444444444,\"#bd3786\"],[0.5555555555555556,\"#d8576b\"],[0.6666666666666666,\"#ed7953\"],[0.7777777777777778,\"#fb9f3a\"],[0.8888888888888888,\"#fdca26\"],[1.0,\"#f0f921\"]]}],\"choropleth\":[{\"type\":\"choropleth\",\"colorbar\":{\"outlinewidth\":0,\"ticks\":\"\"}}],\"histogram2d\":[{\"type\":\"histogram2d\",\"colorbar\":{\"outlinewidth\":0,\"ticks\":\"\"},\"colorscale\":[[0.0,\"#0d0887\"],[0.1111111111111111,\"#46039f\"],[0.2222222222222222,\"#7201a8\"],[0.3333333333333333,\"#9c179e\"],[0.4444444444444444,\"#bd3786\"],[0.5555555555555556,\"#d8576b\"],[0.6666666666666666,\"#ed7953\"],[0.7777777777777778,\"#fb9f3a\"],[0.8888888888888888,\"#fdca26\"],[1.0,\"#f0f921\"]]}],\"heatmap\":[{\"type\":\"heatmap\",\"colorbar\":{\"outlinewidth\":0,\"ticks\":\"\"},\"colorscale\":[[0.0,\"#0d0887\"],[0.1111111111111111,\"#46039f\"],[0.2222222222222222,\"#7201a8\"],[0.3333333333333333,\"#9c179e\"],[0.4444444444444444,\"#bd3786\"],[0.5555555555555556,\"#d8576b\"],[0.6666666666666666,\"#ed7953\"],[0.7777777777777778,\"#fb9f3a\"],[0.8888888888888888,\"#fdca26\"],[1.0,\"#f0f921\"]]}],\"heatmapgl\":[{\"type\":\"heatmapgl\",\"colorbar\":{\"outlinewidth\":0,\"ticks\":\"\"},\"colorscale\":[[0.0,\"#0d0887\"],[0.1111111111111111,\"#46039f\"],[0.2222222222222222,\"#7201a8\"],[0.3333333333333333,\"#9c179e\"],[0.4444444444444444,\"#bd3786\"],[0.5555555555555556,\"#d8576b\"],[0.6666666666666666,\"#ed7953\"],[0.7777777777777778,\"#fb9f3a\"],[0.8888888888888888,\"#fdca26\"],[1.0,\"#f0f921\"]]}],\"contourcarpet\":[{\"type\":\"contourcarpet\",\"colorbar\":{\"outlinewidth\":0,\"ticks\":\"\"}}],\"contour\":[{\"type\":\"contour\",\"colorbar\":{\"outlinewidth\":0,\"ticks\":\"\"},\"colorscale\":[[0.0,\"#0d0887\"],[0.1111111111111111,\"#46039f\"],[0.2222222222222222,\"#7201a8\"],[0.3333333333333333,\"#9c179e\"],[0.4444444444444444,\"#bd3786\"],[0.5555555555555556,\"#d8576b\"],[0.6666666666666666,\"#ed7953\"],[0.7777777777777778,\"#fb9f3a\"],[0.8888888888888888,\"#fdca26\"],[1.0,\"#f0f921\"]]}],\"surface\":[{\"type\":\"surface\",\"colorbar\":{\"outlinewidth\":0,\"ticks\":\"\"},\"colorscale\":[[0.0,\"#0d0887\"],[0.1111111111111111,\"#46039f\"],[0.2222222222222222,\"#7201a8\"],[0.3333333333333333,\"#9c179e\"],[0.4444444444444444,\"#bd3786\"],[0.5555555555555556,\"#d8576b\"],[0.6666666666666666,\"#ed7953\"],[0.7777777777777778,\"#fb9f3a\"],[0.8888888888888888,\"#fdca26\"],[1.0,\"#f0f921\"]]}],\"mesh3d\":[{\"type\":\"mesh3d\",\"colorbar\":{\"outlinewidth\":0,\"ticks\":\"\"}}],\"scatter\":[{\"fillpattern\":{\"fillmode\":\"overlay\",\"size\":10,\"solidity\":0.2},\"type\":\"scatter\"}],\"parcoords\":[{\"type\":\"parcoords\",\"line\":{\"colorbar\":{\"outlinewidth\":0,\"ticks\":\"\"}}}],\"scatterpolargl\":[{\"type\":\"scatterpolargl\",\"marker\":{\"colorbar\":{\"outlinewidth\":0,\"ticks\":\"\"}}}],\"bar\":[{\"error_x\":{\"color\":\"#2a3f5f\"},\"error_y\":{\"color\":\"#2a3f5f\"},\"marker\":{\"line\":{\"color\":\"#E5ECF6\",\"width\":0.5},\"pattern\":{\"fillmode\":\"overlay\",\"size\":10,\"solidity\":0.2}},\"type\":\"bar\"}],\"scattergeo\":[{\"type\":\"scattergeo\",\"marker\":{\"colorbar\":{\"outlinewidth\":0,\"ticks\":\"\"}}}],\"scatterpolar\":[{\"type\":\"scatterpolar\",\"marker\":{\"colorbar\":{\"outlinewidth\":0,\"ticks\":\"\"}}}],\"histogram\":[{\"marker\":{\"pattern\":{\"fillmode\":\"overlay\",\"size\":10,\"solidity\":0.2}},\"type\":\"histogram\"}],\"scattergl\":[{\"type\":\"scattergl\",\"marker\":{\"colorbar\":{\"outlinewidth\":0,\"ticks\":\"\"}}}],\"scatter3d\":[{\"type\":\"scatter3d\",\"line\":{\"colorbar\":{\"outlinewidth\":0,\"ticks\":\"\"}},\"marker\":{\"colorbar\":{\"outlinewidth\":0,\"ticks\":\"\"}}}],\"scattermapbox\":[{\"type\":\"scattermapbox\",\"marker\":{\"colorbar\":{\"outlinewidth\":0,\"ticks\":\"\"}}}],\"scatterternary\":[{\"type\":\"scatterternary\",\"marker\":{\"colorbar\":{\"outlinewidth\":0,\"ticks\":\"\"}}}],\"scattercarpet\":[{\"type\":\"scattercarpet\",\"marker\":{\"colorbar\":{\"outlinewidth\":0,\"ticks\":\"\"}}}],\"carpet\":[{\"aaxis\":{\"endlinecolor\":\"#2a3f5f\",\"gridcolor\":\"white\",\"linecolor\":\"white\",\"minorgridcolor\":\"white\",\"startlinecolor\":\"#2a3f5f\"},\"baxis\":{\"endlinecolor\":\"#2a3f5f\",\"gridcolor\":\"white\",\"linecolor\":\"white\",\"minorgridcolor\":\"white\",\"startlinecolor\":\"#2a3f5f\"},\"type\":\"carpet\"}],\"table\":[{\"cells\":{\"fill\":{\"color\":\"#EBF0F8\"},\"line\":{\"color\":\"white\"}},\"header\":{\"fill\":{\"color\":\"#C8D4E3\"},\"line\":{\"color\":\"white\"}},\"type\":\"table\"}],\"barpolar\":[{\"marker\":{\"line\":{\"color\":\"#E5ECF6\",\"width\":0.5},\"pattern\":{\"fillmode\":\"overlay\",\"size\":10,\"solidity\":0.2}},\"type\":\"barpolar\"}],\"pie\":[{\"automargin\":true,\"type\":\"pie\"}]},\"layout\":{\"autotypenumbers\":\"strict\",\"colorway\":[\"#636efa\",\"#EF553B\",\"#00cc96\",\"#ab63fa\",\"#FFA15A\",\"#19d3f3\",\"#FF6692\",\"#B6E880\",\"#FF97FF\",\"#FECB52\"],\"font\":{\"color\":\"#2a3f5f\"},\"hovermode\":\"closest\",\"hoverlabel\":{\"align\":\"left\"},\"paper_bgcolor\":\"white\",\"plot_bgcolor\":\"#E5ECF6\",\"polar\":{\"bgcolor\":\"#E5ECF6\",\"angularaxis\":{\"gridcolor\":\"white\",\"linecolor\":\"white\",\"ticks\":\"\"},\"radialaxis\":{\"gridcolor\":\"white\",\"linecolor\":\"white\",\"ticks\":\"\"}},\"ternary\":{\"bgcolor\":\"#E5ECF6\",\"aaxis\":{\"gridcolor\":\"white\",\"linecolor\":\"white\",\"ticks\":\"\"},\"baxis\":{\"gridcolor\":\"white\",\"linecolor\":\"white\",\"ticks\":\"\"},\"caxis\":{\"gridcolor\":\"white\",\"linecolor\":\"white\",\"ticks\":\"\"}},\"coloraxis\":{\"colorbar\":{\"outlinewidth\":0,\"ticks\":\"\"}},\"colorscale\":{\"sequential\":[[0.0,\"#0d0887\"],[0.1111111111111111,\"#46039f\"],[0.2222222222222222,\"#7201a8\"],[0.3333333333333333,\"#9c179e\"],[0.4444444444444444,\"#bd3786\"],[0.5555555555555556,\"#d8576b\"],[0.6666666666666666,\"#ed7953\"],[0.7777777777777778,\"#fb9f3a\"],[0.8888888888888888,\"#fdca26\"],[1.0,\"#f0f921\"]],\"sequentialminus\":[[0.0,\"#0d0887\"],[0.1111111111111111,\"#46039f\"],[0.2222222222222222,\"#7201a8\"],[0.3333333333333333,\"#9c179e\"],[0.4444444444444444,\"#bd3786\"],[0.5555555555555556,\"#d8576b\"],[0.6666666666666666,\"#ed7953\"],[0.7777777777777778,\"#fb9f3a\"],[0.8888888888888888,\"#fdca26\"],[1.0,\"#f0f921\"]],\"diverging\":[[0,\"#8e0152\"],[0.1,\"#c51b7d\"],[0.2,\"#de77ae\"],[0.3,\"#f1b6da\"],[0.4,\"#fde0ef\"],[0.5,\"#f7f7f7\"],[0.6,\"#e6f5d0\"],[0.7,\"#b8e186\"],[0.8,\"#7fbc41\"],[0.9,\"#4d9221\"],[1,\"#276419\"]]},\"xaxis\":{\"gridcolor\":\"white\",\"linecolor\":\"white\",\"ticks\":\"\",\"title\":{\"standoff\":15},\"zerolinecolor\":\"white\",\"automargin\":true,\"zerolinewidth\":2},\"yaxis\":{\"gridcolor\":\"white\",\"linecolor\":\"white\",\"ticks\":\"\",\"title\":{\"standoff\":15},\"zerolinecolor\":\"white\",\"automargin\":true,\"zerolinewidth\":2},\"scene\":{\"xaxis\":{\"backgroundcolor\":\"#E5ECF6\",\"gridcolor\":\"white\",\"linecolor\":\"white\",\"showbackground\":true,\"ticks\":\"\",\"zerolinecolor\":\"white\",\"gridwidth\":2},\"yaxis\":{\"backgroundcolor\":\"#E5ECF6\",\"gridcolor\":\"white\",\"linecolor\":\"white\",\"showbackground\":true,\"ticks\":\"\",\"zerolinecolor\":\"white\",\"gridwidth\":2},\"zaxis\":{\"backgroundcolor\":\"#E5ECF6\",\"gridcolor\":\"white\",\"linecolor\":\"white\",\"showbackground\":true,\"ticks\":\"\",\"zerolinecolor\":\"white\",\"gridwidth\":2}},\"shapedefaults\":{\"line\":{\"color\":\"#2a3f5f\"}},\"annotationdefaults\":{\"arrowcolor\":\"#2a3f5f\",\"arrowhead\":0,\"arrowwidth\":1},\"geo\":{\"bgcolor\":\"white\",\"landcolor\":\"#E5ECF6\",\"subunitcolor\":\"white\",\"showland\":true,\"showlakes\":true,\"lakecolor\":\"white\"},\"title\":{\"x\":0.05},\"mapbox\":{\"style\":\"light\"}}},\"title\":{\"text\":\"Number of active users by host\"},\"height\":500,\"width\":800,\"annotations\":[{\"showarrow\":false,\"text\":\"All Hosts\",\"x\":0.18,\"y\":1,\"font\":{\"size\":12}},{\"showarrow\":false,\"text\":\"Excluding WMF\",\"x\":0.82,\"y\":1,\"font\":{\"size\":12}}]},                        {\"responsive\": true}                    ).then(function(){\n",
       "                            \n",
       "var gd = document.getElementById('9dbeaf76-ac18-4412-98d7-d8fa35c863f1');\n",
       "var x = new MutationObserver(function (mutations, observer) {{\n",
       "        var display = window.getComputedStyle(gd).display;\n",
       "        if (!display || display === 'none') {{\n",
       "            console.log([gd, 'removed!']);\n",
       "            Plotly.purge(gd);\n",
       "            observer.disconnect();\n",
       "        }}\n",
       "}});\n",
       "\n",
       "// Listen for the removal of the full notebook cells\n",
       "var notebookContainer = gd.closest('#notebook-container');\n",
       "if (notebookContainer) {{\n",
       "    x.observe(notebookContainer, {childList: true});\n",
       "}}\n",
       "\n",
       "// Listen for the clearing of the current output cell\n",
       "var outputEl = gd.closest('.output');\n",
       "if (outputEl) {{\n",
       "    x.observe(outputEl, {childList: true});\n",
       "}}\n",
       "\n",
       "                        })                };                });            </script>        </div>"
      ]
     },
     "metadata": {},
     "output_type": "display_data"
    }
   ],
   "source": [
    "from plotly.subplots import make_subplots\n",
    "\n",
    "# Update labels to include the total number of active users per host\n",
    "labels = [f\"{k} ({v})\" for k, v in active_users_by_host.items()]\n",
    "values = list(active_users_by_host.values())\n",
    "\n",
    "# Filter out the Wikimedia Foundation\n",
    "filtered_active_users_by_host = {k: v for k, v in active_users_by_host.items() if k != 'Wikimedia Foundation'}\n",
    "\n",
    "filtered_labels = [f\"{k} ({v})\" for k, v in filtered_active_users_by_host.items()]\n",
    "filtered_values = list(filtered_active_users_by_host.values())\n",
    "\n",
    "# Create subplots\n",
    "fig = make_subplots(rows=1, cols=2, specs=[[{'type': 'domain'}, {'type': 'domain'}]])\n",
    "\n",
    "# Add the first pie chart\n",
    "fig.add_trace(go.Pie(labels=labels, values=values, name=\"All Hosts\"), 1, 1)\n",
    "\n",
    "# Add the second pie chart\n",
    "fig.add_trace(go.Pie(labels=filtered_labels, values=filtered_values, name=\"Excluding Wikimedia Foundation\"), 1, 2)\n",
    "\n",
    "# Update layout\n",
    "fig.update_layout(\n",
    "    title_text=\"Number of active users by host\",\n",
    "    height=500,\n",
    "    width=800,\n",
    "    annotations=[dict(text='All Hosts', x=0.18, y=1, font_size=12, showarrow=False),\n",
    "                 dict(text='Excluding WMF', x=0.82, y=1, font_size=12, showarrow=False)]\n",
    ")\n",
    "\n",
    "fig.show()\n"
   ]
  },
  {
   "cell_type": "code",
   "execution_count": 109,
   "metadata": {},
   "outputs": [
    {
     "data": {
      "application/vnd.plotly.v1+json": {
       "config": {
        "plotlyServerURL": "https://plot.ly"
       },
       "data": [
        {
         "domain": {
          "x": [
           0,
           0.45
          ],
          "y": [
           0,
           1
          ]
         },
         "labels": [
          "Wikimedia Foundation (24654)",
          "Wikibase Cloud (41694)",
          "independently hosted Wikibase (17323)",
          "The Wikibase Consultancy (226)",
          "Wikimedia Cloud Services (5126)",
          "unknown (20540)",
          "Miraheze (824)",
          "wikibase-docker (36)"
         ],
         "name": "All Hosts",
         "type": "pie",
         "values": [
          24654,
          41694,
          17323,
          226,
          5126,
          20540,
          824,
          36
         ]
        },
        {
         "domain": {
          "x": [
           0.55,
           1
          ],
          "y": [
           0,
           1
          ]
         },
         "labels": [
          "Wikimedia Foundation (24654)",
          "independently hosted Wikibase (17323)",
          "The Wikibase Consultancy (226)",
          "Wikimedia Cloud Services (5126)",
          "unknown (20540)",
          "Miraheze (824)",
          "wikibase-docker (36)"
         ],
         "name": "Excluding Wikibase Cloud",
         "type": "pie",
         "values": [
          24654,
          17323,
          226,
          5126,
          20540,
          824,
          36
         ]
        }
       ],
       "layout": {
        "annotations": [
         {
          "font": {
           "size": 12
          },
          "showarrow": false,
          "text": "All Hosts",
          "x": 0.18,
          "y": 1
         },
         {
          "font": {
           "size": 12
          },
          "showarrow": false,
          "text": "Excluding Wikibase Cloud",
          "x": 0.9,
          "y": 1
         }
        ],
        "height": 500,
        "template": {
         "data": {
          "bar": [
           {
            "error_x": {
             "color": "#2a3f5f"
            },
            "error_y": {
             "color": "#2a3f5f"
            },
            "marker": {
             "line": {
              "color": "#E5ECF6",
              "width": 0.5
             },
             "pattern": {
              "fillmode": "overlay",
              "size": 10,
              "solidity": 0.2
             }
            },
            "type": "bar"
           }
          ],
          "barpolar": [
           {
            "marker": {
             "line": {
              "color": "#E5ECF6",
              "width": 0.5
             },
             "pattern": {
              "fillmode": "overlay",
              "size": 10,
              "solidity": 0.2
             }
            },
            "type": "barpolar"
           }
          ],
          "carpet": [
           {
            "aaxis": {
             "endlinecolor": "#2a3f5f",
             "gridcolor": "white",
             "linecolor": "white",
             "minorgridcolor": "white",
             "startlinecolor": "#2a3f5f"
            },
            "baxis": {
             "endlinecolor": "#2a3f5f",
             "gridcolor": "white",
             "linecolor": "white",
             "minorgridcolor": "white",
             "startlinecolor": "#2a3f5f"
            },
            "type": "carpet"
           }
          ],
          "choropleth": [
           {
            "colorbar": {
             "outlinewidth": 0,
             "ticks": ""
            },
            "type": "choropleth"
           }
          ],
          "contour": [
           {
            "colorbar": {
             "outlinewidth": 0,
             "ticks": ""
            },
            "colorscale": [
             [
              0,
              "#0d0887"
             ],
             [
              0.1111111111111111,
              "#46039f"
             ],
             [
              0.2222222222222222,
              "#7201a8"
             ],
             [
              0.3333333333333333,
              "#9c179e"
             ],
             [
              0.4444444444444444,
              "#bd3786"
             ],
             [
              0.5555555555555556,
              "#d8576b"
             ],
             [
              0.6666666666666666,
              "#ed7953"
             ],
             [
              0.7777777777777778,
              "#fb9f3a"
             ],
             [
              0.8888888888888888,
              "#fdca26"
             ],
             [
              1,
              "#f0f921"
             ]
            ],
            "type": "contour"
           }
          ],
          "contourcarpet": [
           {
            "colorbar": {
             "outlinewidth": 0,
             "ticks": ""
            },
            "type": "contourcarpet"
           }
          ],
          "heatmap": [
           {
            "colorbar": {
             "outlinewidth": 0,
             "ticks": ""
            },
            "colorscale": [
             [
              0,
              "#0d0887"
             ],
             [
              0.1111111111111111,
              "#46039f"
             ],
             [
              0.2222222222222222,
              "#7201a8"
             ],
             [
              0.3333333333333333,
              "#9c179e"
             ],
             [
              0.4444444444444444,
              "#bd3786"
             ],
             [
              0.5555555555555556,
              "#d8576b"
             ],
             [
              0.6666666666666666,
              "#ed7953"
             ],
             [
              0.7777777777777778,
              "#fb9f3a"
             ],
             [
              0.8888888888888888,
              "#fdca26"
             ],
             [
              1,
              "#f0f921"
             ]
            ],
            "type": "heatmap"
           }
          ],
          "heatmapgl": [
           {
            "colorbar": {
             "outlinewidth": 0,
             "ticks": ""
            },
            "colorscale": [
             [
              0,
              "#0d0887"
             ],
             [
              0.1111111111111111,
              "#46039f"
             ],
             [
              0.2222222222222222,
              "#7201a8"
             ],
             [
              0.3333333333333333,
              "#9c179e"
             ],
             [
              0.4444444444444444,
              "#bd3786"
             ],
             [
              0.5555555555555556,
              "#d8576b"
             ],
             [
              0.6666666666666666,
              "#ed7953"
             ],
             [
              0.7777777777777778,
              "#fb9f3a"
             ],
             [
              0.8888888888888888,
              "#fdca26"
             ],
             [
              1,
              "#f0f921"
             ]
            ],
            "type": "heatmapgl"
           }
          ],
          "histogram": [
           {
            "marker": {
             "pattern": {
              "fillmode": "overlay",
              "size": 10,
              "solidity": 0.2
             }
            },
            "type": "histogram"
           }
          ],
          "histogram2d": [
           {
            "colorbar": {
             "outlinewidth": 0,
             "ticks": ""
            },
            "colorscale": [
             [
              0,
              "#0d0887"
             ],
             [
              0.1111111111111111,
              "#46039f"
             ],
             [
              0.2222222222222222,
              "#7201a8"
             ],
             [
              0.3333333333333333,
              "#9c179e"
             ],
             [
              0.4444444444444444,
              "#bd3786"
             ],
             [
              0.5555555555555556,
              "#d8576b"
             ],
             [
              0.6666666666666666,
              "#ed7953"
             ],
             [
              0.7777777777777778,
              "#fb9f3a"
             ],
             [
              0.8888888888888888,
              "#fdca26"
             ],
             [
              1,
              "#f0f921"
             ]
            ],
            "type": "histogram2d"
           }
          ],
          "histogram2dcontour": [
           {
            "colorbar": {
             "outlinewidth": 0,
             "ticks": ""
            },
            "colorscale": [
             [
              0,
              "#0d0887"
             ],
             [
              0.1111111111111111,
              "#46039f"
             ],
             [
              0.2222222222222222,
              "#7201a8"
             ],
             [
              0.3333333333333333,
              "#9c179e"
             ],
             [
              0.4444444444444444,
              "#bd3786"
             ],
             [
              0.5555555555555556,
              "#d8576b"
             ],
             [
              0.6666666666666666,
              "#ed7953"
             ],
             [
              0.7777777777777778,
              "#fb9f3a"
             ],
             [
              0.8888888888888888,
              "#fdca26"
             ],
             [
              1,
              "#f0f921"
             ]
            ],
            "type": "histogram2dcontour"
           }
          ],
          "mesh3d": [
           {
            "colorbar": {
             "outlinewidth": 0,
             "ticks": ""
            },
            "type": "mesh3d"
           }
          ],
          "parcoords": [
           {
            "line": {
             "colorbar": {
              "outlinewidth": 0,
              "ticks": ""
             }
            },
            "type": "parcoords"
           }
          ],
          "pie": [
           {
            "automargin": true,
            "type": "pie"
           }
          ],
          "scatter": [
           {
            "fillpattern": {
             "fillmode": "overlay",
             "size": 10,
             "solidity": 0.2
            },
            "type": "scatter"
           }
          ],
          "scatter3d": [
           {
            "line": {
             "colorbar": {
              "outlinewidth": 0,
              "ticks": ""
             }
            },
            "marker": {
             "colorbar": {
              "outlinewidth": 0,
              "ticks": ""
             }
            },
            "type": "scatter3d"
           }
          ],
          "scattercarpet": [
           {
            "marker": {
             "colorbar": {
              "outlinewidth": 0,
              "ticks": ""
             }
            },
            "type": "scattercarpet"
           }
          ],
          "scattergeo": [
           {
            "marker": {
             "colorbar": {
              "outlinewidth": 0,
              "ticks": ""
             }
            },
            "type": "scattergeo"
           }
          ],
          "scattergl": [
           {
            "marker": {
             "colorbar": {
              "outlinewidth": 0,
              "ticks": ""
             }
            },
            "type": "scattergl"
           }
          ],
          "scattermapbox": [
           {
            "marker": {
             "colorbar": {
              "outlinewidth": 0,
              "ticks": ""
             }
            },
            "type": "scattermapbox"
           }
          ],
          "scatterpolar": [
           {
            "marker": {
             "colorbar": {
              "outlinewidth": 0,
              "ticks": ""
             }
            },
            "type": "scatterpolar"
           }
          ],
          "scatterpolargl": [
           {
            "marker": {
             "colorbar": {
              "outlinewidth": 0,
              "ticks": ""
             }
            },
            "type": "scatterpolargl"
           }
          ],
          "scatterternary": [
           {
            "marker": {
             "colorbar": {
              "outlinewidth": 0,
              "ticks": ""
             }
            },
            "type": "scatterternary"
           }
          ],
          "surface": [
           {
            "colorbar": {
             "outlinewidth": 0,
             "ticks": ""
            },
            "colorscale": [
             [
              0,
              "#0d0887"
             ],
             [
              0.1111111111111111,
              "#46039f"
             ],
             [
              0.2222222222222222,
              "#7201a8"
             ],
             [
              0.3333333333333333,
              "#9c179e"
             ],
             [
              0.4444444444444444,
              "#bd3786"
             ],
             [
              0.5555555555555556,
              "#d8576b"
             ],
             [
              0.6666666666666666,
              "#ed7953"
             ],
             [
              0.7777777777777778,
              "#fb9f3a"
             ],
             [
              0.8888888888888888,
              "#fdca26"
             ],
             [
              1,
              "#f0f921"
             ]
            ],
            "type": "surface"
           }
          ],
          "table": [
           {
            "cells": {
             "fill": {
              "color": "#EBF0F8"
             },
             "line": {
              "color": "white"
             }
            },
            "header": {
             "fill": {
              "color": "#C8D4E3"
             },
             "line": {
              "color": "white"
             }
            },
            "type": "table"
           }
          ]
         },
         "layout": {
          "annotationdefaults": {
           "arrowcolor": "#2a3f5f",
           "arrowhead": 0,
           "arrowwidth": 1
          },
          "autotypenumbers": "strict",
          "coloraxis": {
           "colorbar": {
            "outlinewidth": 0,
            "ticks": ""
           }
          },
          "colorscale": {
           "diverging": [
            [
             0,
             "#8e0152"
            ],
            [
             0.1,
             "#c51b7d"
            ],
            [
             0.2,
             "#de77ae"
            ],
            [
             0.3,
             "#f1b6da"
            ],
            [
             0.4,
             "#fde0ef"
            ],
            [
             0.5,
             "#f7f7f7"
            ],
            [
             0.6,
             "#e6f5d0"
            ],
            [
             0.7,
             "#b8e186"
            ],
            [
             0.8,
             "#7fbc41"
            ],
            [
             0.9,
             "#4d9221"
            ],
            [
             1,
             "#276419"
            ]
           ],
           "sequential": [
            [
             0,
             "#0d0887"
            ],
            [
             0.1111111111111111,
             "#46039f"
            ],
            [
             0.2222222222222222,
             "#7201a8"
            ],
            [
             0.3333333333333333,
             "#9c179e"
            ],
            [
             0.4444444444444444,
             "#bd3786"
            ],
            [
             0.5555555555555556,
             "#d8576b"
            ],
            [
             0.6666666666666666,
             "#ed7953"
            ],
            [
             0.7777777777777778,
             "#fb9f3a"
            ],
            [
             0.8888888888888888,
             "#fdca26"
            ],
            [
             1,
             "#f0f921"
            ]
           ],
           "sequentialminus": [
            [
             0,
             "#0d0887"
            ],
            [
             0.1111111111111111,
             "#46039f"
            ],
            [
             0.2222222222222222,
             "#7201a8"
            ],
            [
             0.3333333333333333,
             "#9c179e"
            ],
            [
             0.4444444444444444,
             "#bd3786"
            ],
            [
             0.5555555555555556,
             "#d8576b"
            ],
            [
             0.6666666666666666,
             "#ed7953"
            ],
            [
             0.7777777777777778,
             "#fb9f3a"
            ],
            [
             0.8888888888888888,
             "#fdca26"
            ],
            [
             1,
             "#f0f921"
            ]
           ]
          },
          "colorway": [
           "#636efa",
           "#EF553B",
           "#00cc96",
           "#ab63fa",
           "#FFA15A",
           "#19d3f3",
           "#FF6692",
           "#B6E880",
           "#FF97FF",
           "#FECB52"
          ],
          "font": {
           "color": "#2a3f5f"
          },
          "geo": {
           "bgcolor": "white",
           "lakecolor": "white",
           "landcolor": "#E5ECF6",
           "showlakes": true,
           "showland": true,
           "subunitcolor": "white"
          },
          "hoverlabel": {
           "align": "left"
          },
          "hovermode": "closest",
          "mapbox": {
           "style": "light"
          },
          "paper_bgcolor": "white",
          "plot_bgcolor": "#E5ECF6",
          "polar": {
           "angularaxis": {
            "gridcolor": "white",
            "linecolor": "white",
            "ticks": ""
           },
           "bgcolor": "#E5ECF6",
           "radialaxis": {
            "gridcolor": "white",
            "linecolor": "white",
            "ticks": ""
           }
          },
          "scene": {
           "xaxis": {
            "backgroundcolor": "#E5ECF6",
            "gridcolor": "white",
            "gridwidth": 2,
            "linecolor": "white",
            "showbackground": true,
            "ticks": "",
            "zerolinecolor": "white"
           },
           "yaxis": {
            "backgroundcolor": "#E5ECF6",
            "gridcolor": "white",
            "gridwidth": 2,
            "linecolor": "white",
            "showbackground": true,
            "ticks": "",
            "zerolinecolor": "white"
           },
           "zaxis": {
            "backgroundcolor": "#E5ECF6",
            "gridcolor": "white",
            "gridwidth": 2,
            "linecolor": "white",
            "showbackground": true,
            "ticks": "",
            "zerolinecolor": "white"
           }
          },
          "shapedefaults": {
           "line": {
            "color": "#2a3f5f"
           }
          },
          "ternary": {
           "aaxis": {
            "gridcolor": "white",
            "linecolor": "white",
            "ticks": ""
           },
           "baxis": {
            "gridcolor": "white",
            "linecolor": "white",
            "ticks": ""
           },
           "bgcolor": "#E5ECF6",
           "caxis": {
            "gridcolor": "white",
            "linecolor": "white",
            "ticks": ""
           }
          },
          "title": {
           "x": 0.05
          },
          "xaxis": {
           "automargin": true,
           "gridcolor": "white",
           "linecolor": "white",
           "ticks": "",
           "title": {
            "standoff": 15
           },
           "zerolinecolor": "white",
           "zerolinewidth": 2
          },
          "yaxis": {
           "automargin": true,
           "gridcolor": "white",
           "linecolor": "white",
           "ticks": "",
           "title": {
            "standoff": 15
           },
           "zerolinecolor": "white",
           "zerolinewidth": 2
          }
         }
        },
        "title": {
         "text": "Number of properties by host"
        },
        "width": 800
       }
      },
      "text/html": [
       "<div>                            <div id=\"93568f62-e80d-4039-bd1f-936210c14941\" class=\"plotly-graph-div\" style=\"height:500px; width:800px;\"></div>            <script type=\"text/javascript\">                require([\"plotly\"], function(Plotly) {                    window.PLOTLYENV=window.PLOTLYENV || {};                                    if (document.getElementById(\"93568f62-e80d-4039-bd1f-936210c14941\")) {                    Plotly.newPlot(                        \"93568f62-e80d-4039-bd1f-936210c14941\",                        [{\"labels\":[\"Wikimedia Foundation (24654)\",\"Wikibase Cloud (41694)\",\"independently hosted Wikibase (17323)\",\"The Wikibase Consultancy (226)\",\"Wikimedia Cloud Services (5126)\",\"unknown (20540)\",\"Miraheze (824)\",\"wikibase-docker (36)\"],\"name\":\"All Hosts\",\"values\":[24654,41694,17323,226,5126,20540,824,36],\"type\":\"pie\",\"domain\":{\"x\":[0.0,0.45],\"y\":[0.0,1.0]}},{\"labels\":[\"Wikimedia Foundation (24654)\",\"independently hosted Wikibase (17323)\",\"The Wikibase Consultancy (226)\",\"Wikimedia Cloud Services (5126)\",\"unknown (20540)\",\"Miraheze (824)\",\"wikibase-docker (36)\"],\"name\":\"Excluding Wikibase Cloud\",\"values\":[24654,17323,226,5126,20540,824,36],\"type\":\"pie\",\"domain\":{\"x\":[0.55,1.0],\"y\":[0.0,1.0]}}],                        {\"template\":{\"data\":{\"histogram2dcontour\":[{\"type\":\"histogram2dcontour\",\"colorbar\":{\"outlinewidth\":0,\"ticks\":\"\"},\"colorscale\":[[0.0,\"#0d0887\"],[0.1111111111111111,\"#46039f\"],[0.2222222222222222,\"#7201a8\"],[0.3333333333333333,\"#9c179e\"],[0.4444444444444444,\"#bd3786\"],[0.5555555555555556,\"#d8576b\"],[0.6666666666666666,\"#ed7953\"],[0.7777777777777778,\"#fb9f3a\"],[0.8888888888888888,\"#fdca26\"],[1.0,\"#f0f921\"]]}],\"choropleth\":[{\"type\":\"choropleth\",\"colorbar\":{\"outlinewidth\":0,\"ticks\":\"\"}}],\"histogram2d\":[{\"type\":\"histogram2d\",\"colorbar\":{\"outlinewidth\":0,\"ticks\":\"\"},\"colorscale\":[[0.0,\"#0d0887\"],[0.1111111111111111,\"#46039f\"],[0.2222222222222222,\"#7201a8\"],[0.3333333333333333,\"#9c179e\"],[0.4444444444444444,\"#bd3786\"],[0.5555555555555556,\"#d8576b\"],[0.6666666666666666,\"#ed7953\"],[0.7777777777777778,\"#fb9f3a\"],[0.8888888888888888,\"#fdca26\"],[1.0,\"#f0f921\"]]}],\"heatmap\":[{\"type\":\"heatmap\",\"colorbar\":{\"outlinewidth\":0,\"ticks\":\"\"},\"colorscale\":[[0.0,\"#0d0887\"],[0.1111111111111111,\"#46039f\"],[0.2222222222222222,\"#7201a8\"],[0.3333333333333333,\"#9c179e\"],[0.4444444444444444,\"#bd3786\"],[0.5555555555555556,\"#d8576b\"],[0.6666666666666666,\"#ed7953\"],[0.7777777777777778,\"#fb9f3a\"],[0.8888888888888888,\"#fdca26\"],[1.0,\"#f0f921\"]]}],\"heatmapgl\":[{\"type\":\"heatmapgl\",\"colorbar\":{\"outlinewidth\":0,\"ticks\":\"\"},\"colorscale\":[[0.0,\"#0d0887\"],[0.1111111111111111,\"#46039f\"],[0.2222222222222222,\"#7201a8\"],[0.3333333333333333,\"#9c179e\"],[0.4444444444444444,\"#bd3786\"],[0.5555555555555556,\"#d8576b\"],[0.6666666666666666,\"#ed7953\"],[0.7777777777777778,\"#fb9f3a\"],[0.8888888888888888,\"#fdca26\"],[1.0,\"#f0f921\"]]}],\"contourcarpet\":[{\"type\":\"contourcarpet\",\"colorbar\":{\"outlinewidth\":0,\"ticks\":\"\"}}],\"contour\":[{\"type\":\"contour\",\"colorbar\":{\"outlinewidth\":0,\"ticks\":\"\"},\"colorscale\":[[0.0,\"#0d0887\"],[0.1111111111111111,\"#46039f\"],[0.2222222222222222,\"#7201a8\"],[0.3333333333333333,\"#9c179e\"],[0.4444444444444444,\"#bd3786\"],[0.5555555555555556,\"#d8576b\"],[0.6666666666666666,\"#ed7953\"],[0.7777777777777778,\"#fb9f3a\"],[0.8888888888888888,\"#fdca26\"],[1.0,\"#f0f921\"]]}],\"surface\":[{\"type\":\"surface\",\"colorbar\":{\"outlinewidth\":0,\"ticks\":\"\"},\"colorscale\":[[0.0,\"#0d0887\"],[0.1111111111111111,\"#46039f\"],[0.2222222222222222,\"#7201a8\"],[0.3333333333333333,\"#9c179e\"],[0.4444444444444444,\"#bd3786\"],[0.5555555555555556,\"#d8576b\"],[0.6666666666666666,\"#ed7953\"],[0.7777777777777778,\"#fb9f3a\"],[0.8888888888888888,\"#fdca26\"],[1.0,\"#f0f921\"]]}],\"mesh3d\":[{\"type\":\"mesh3d\",\"colorbar\":{\"outlinewidth\":0,\"ticks\":\"\"}}],\"scatter\":[{\"fillpattern\":{\"fillmode\":\"overlay\",\"size\":10,\"solidity\":0.2},\"type\":\"scatter\"}],\"parcoords\":[{\"type\":\"parcoords\",\"line\":{\"colorbar\":{\"outlinewidth\":0,\"ticks\":\"\"}}}],\"scatterpolargl\":[{\"type\":\"scatterpolargl\",\"marker\":{\"colorbar\":{\"outlinewidth\":0,\"ticks\":\"\"}}}],\"bar\":[{\"error_x\":{\"color\":\"#2a3f5f\"},\"error_y\":{\"color\":\"#2a3f5f\"},\"marker\":{\"line\":{\"color\":\"#E5ECF6\",\"width\":0.5},\"pattern\":{\"fillmode\":\"overlay\",\"size\":10,\"solidity\":0.2}},\"type\":\"bar\"}],\"scattergeo\":[{\"type\":\"scattergeo\",\"marker\":{\"colorbar\":{\"outlinewidth\":0,\"ticks\":\"\"}}}],\"scatterpolar\":[{\"type\":\"scatterpolar\",\"marker\":{\"colorbar\":{\"outlinewidth\":0,\"ticks\":\"\"}}}],\"histogram\":[{\"marker\":{\"pattern\":{\"fillmode\":\"overlay\",\"size\":10,\"solidity\":0.2}},\"type\":\"histogram\"}],\"scattergl\":[{\"type\":\"scattergl\",\"marker\":{\"colorbar\":{\"outlinewidth\":0,\"ticks\":\"\"}}}],\"scatter3d\":[{\"type\":\"scatter3d\",\"line\":{\"colorbar\":{\"outlinewidth\":0,\"ticks\":\"\"}},\"marker\":{\"colorbar\":{\"outlinewidth\":0,\"ticks\":\"\"}}}],\"scattermapbox\":[{\"type\":\"scattermapbox\",\"marker\":{\"colorbar\":{\"outlinewidth\":0,\"ticks\":\"\"}}}],\"scatterternary\":[{\"type\":\"scatterternary\",\"marker\":{\"colorbar\":{\"outlinewidth\":0,\"ticks\":\"\"}}}],\"scattercarpet\":[{\"type\":\"scattercarpet\",\"marker\":{\"colorbar\":{\"outlinewidth\":0,\"ticks\":\"\"}}}],\"carpet\":[{\"aaxis\":{\"endlinecolor\":\"#2a3f5f\",\"gridcolor\":\"white\",\"linecolor\":\"white\",\"minorgridcolor\":\"white\",\"startlinecolor\":\"#2a3f5f\"},\"baxis\":{\"endlinecolor\":\"#2a3f5f\",\"gridcolor\":\"white\",\"linecolor\":\"white\",\"minorgridcolor\":\"white\",\"startlinecolor\":\"#2a3f5f\"},\"type\":\"carpet\"}],\"table\":[{\"cells\":{\"fill\":{\"color\":\"#EBF0F8\"},\"line\":{\"color\":\"white\"}},\"header\":{\"fill\":{\"color\":\"#C8D4E3\"},\"line\":{\"color\":\"white\"}},\"type\":\"table\"}],\"barpolar\":[{\"marker\":{\"line\":{\"color\":\"#E5ECF6\",\"width\":0.5},\"pattern\":{\"fillmode\":\"overlay\",\"size\":10,\"solidity\":0.2}},\"type\":\"barpolar\"}],\"pie\":[{\"automargin\":true,\"type\":\"pie\"}]},\"layout\":{\"autotypenumbers\":\"strict\",\"colorway\":[\"#636efa\",\"#EF553B\",\"#00cc96\",\"#ab63fa\",\"#FFA15A\",\"#19d3f3\",\"#FF6692\",\"#B6E880\",\"#FF97FF\",\"#FECB52\"],\"font\":{\"color\":\"#2a3f5f\"},\"hovermode\":\"closest\",\"hoverlabel\":{\"align\":\"left\"},\"paper_bgcolor\":\"white\",\"plot_bgcolor\":\"#E5ECF6\",\"polar\":{\"bgcolor\":\"#E5ECF6\",\"angularaxis\":{\"gridcolor\":\"white\",\"linecolor\":\"white\",\"ticks\":\"\"},\"radialaxis\":{\"gridcolor\":\"white\",\"linecolor\":\"white\",\"ticks\":\"\"}},\"ternary\":{\"bgcolor\":\"#E5ECF6\",\"aaxis\":{\"gridcolor\":\"white\",\"linecolor\":\"white\",\"ticks\":\"\"},\"baxis\":{\"gridcolor\":\"white\",\"linecolor\":\"white\",\"ticks\":\"\"},\"caxis\":{\"gridcolor\":\"white\",\"linecolor\":\"white\",\"ticks\":\"\"}},\"coloraxis\":{\"colorbar\":{\"outlinewidth\":0,\"ticks\":\"\"}},\"colorscale\":{\"sequential\":[[0.0,\"#0d0887\"],[0.1111111111111111,\"#46039f\"],[0.2222222222222222,\"#7201a8\"],[0.3333333333333333,\"#9c179e\"],[0.4444444444444444,\"#bd3786\"],[0.5555555555555556,\"#d8576b\"],[0.6666666666666666,\"#ed7953\"],[0.7777777777777778,\"#fb9f3a\"],[0.8888888888888888,\"#fdca26\"],[1.0,\"#f0f921\"]],\"sequentialminus\":[[0.0,\"#0d0887\"],[0.1111111111111111,\"#46039f\"],[0.2222222222222222,\"#7201a8\"],[0.3333333333333333,\"#9c179e\"],[0.4444444444444444,\"#bd3786\"],[0.5555555555555556,\"#d8576b\"],[0.6666666666666666,\"#ed7953\"],[0.7777777777777778,\"#fb9f3a\"],[0.8888888888888888,\"#fdca26\"],[1.0,\"#f0f921\"]],\"diverging\":[[0,\"#8e0152\"],[0.1,\"#c51b7d\"],[0.2,\"#de77ae\"],[0.3,\"#f1b6da\"],[0.4,\"#fde0ef\"],[0.5,\"#f7f7f7\"],[0.6,\"#e6f5d0\"],[0.7,\"#b8e186\"],[0.8,\"#7fbc41\"],[0.9,\"#4d9221\"],[1,\"#276419\"]]},\"xaxis\":{\"gridcolor\":\"white\",\"linecolor\":\"white\",\"ticks\":\"\",\"title\":{\"standoff\":15},\"zerolinecolor\":\"white\",\"automargin\":true,\"zerolinewidth\":2},\"yaxis\":{\"gridcolor\":\"white\",\"linecolor\":\"white\",\"ticks\":\"\",\"title\":{\"standoff\":15},\"zerolinecolor\":\"white\",\"automargin\":true,\"zerolinewidth\":2},\"scene\":{\"xaxis\":{\"backgroundcolor\":\"#E5ECF6\",\"gridcolor\":\"white\",\"linecolor\":\"white\",\"showbackground\":true,\"ticks\":\"\",\"zerolinecolor\":\"white\",\"gridwidth\":2},\"yaxis\":{\"backgroundcolor\":\"#E5ECF6\",\"gridcolor\":\"white\",\"linecolor\":\"white\",\"showbackground\":true,\"ticks\":\"\",\"zerolinecolor\":\"white\",\"gridwidth\":2},\"zaxis\":{\"backgroundcolor\":\"#E5ECF6\",\"gridcolor\":\"white\",\"linecolor\":\"white\",\"showbackground\":true,\"ticks\":\"\",\"zerolinecolor\":\"white\",\"gridwidth\":2}},\"shapedefaults\":{\"line\":{\"color\":\"#2a3f5f\"}},\"annotationdefaults\":{\"arrowcolor\":\"#2a3f5f\",\"arrowhead\":0,\"arrowwidth\":1},\"geo\":{\"bgcolor\":\"white\",\"landcolor\":\"#E5ECF6\",\"subunitcolor\":\"white\",\"showland\":true,\"showlakes\":true,\"lakecolor\":\"white\"},\"title\":{\"x\":0.05},\"mapbox\":{\"style\":\"light\"}}},\"title\":{\"text\":\"Number of properties by host\"},\"height\":500,\"width\":800,\"annotations\":[{\"showarrow\":false,\"text\":\"All Hosts\",\"x\":0.18,\"y\":1,\"font\":{\"size\":12}},{\"showarrow\":false,\"text\":\"Excluding Wikibase Cloud\",\"x\":0.9,\"y\":1,\"font\":{\"size\":12}}]},                        {\"responsive\": true}                    ).then(function(){\n",
       "                            \n",
       "var gd = document.getElementById('93568f62-e80d-4039-bd1f-936210c14941');\n",
       "var x = new MutationObserver(function (mutations, observer) {{\n",
       "        var display = window.getComputedStyle(gd).display;\n",
       "        if (!display || display === 'none') {{\n",
       "            console.log([gd, 'removed!']);\n",
       "            Plotly.purge(gd);\n",
       "            observer.disconnect();\n",
       "        }}\n",
       "}});\n",
       "\n",
       "// Listen for the removal of the full notebook cells\n",
       "var notebookContainer = gd.closest('#notebook-container');\n",
       "if (notebookContainer) {{\n",
       "    x.observe(notebookContainer, {childList: true});\n",
       "}}\n",
       "\n",
       "// Listen for the clearing of the current output cell\n",
       "var outputEl = gd.closest('.output');\n",
       "if (outputEl) {{\n",
       "    x.observe(outputEl, {childList: true});\n",
       "}}\n",
       "\n",
       "                        })                };                });            </script>        </div>"
      ]
     },
     "metadata": {},
     "output_type": "display_data"
    }
   ],
   "source": [
    "# Calculate the number of properties per host\n",
    "properties_by_host = {}\n",
    "for key, value in item_map.items():\n",
    "    host_label = value.get('host_label', 'unknown')\n",
    "    properties_count = value.get('properties', [0])[0]\n",
    "    if host_label not in properties_by_host:\n",
    "        properties_by_host[host_label] = 0\n",
    "    properties_by_host[host_label] += properties_count\n",
    "\n",
    "# Filter out the Wikibase Cloud host\n",
    "filtered_properties_by_host = {k: v for k, v in properties_by_host.items() if k != 'Wikibase Cloud'}\n",
    "\n",
    "# Prepare data for the pie charts\n",
    "labels = [f\"{k} ({v})\" for k, v in properties_by_host.items()]\n",
    "values = list(properties_by_host.values())\n",
    "filtered_labels = [f\"{k} ({v})\" for k, v in filtered_properties_by_host.items()]\n",
    "filtered_values = list(filtered_properties_by_host.values())\n",
    "\n",
    "# Create subplots\n",
    "fig = make_subplots(rows=1, cols=2, specs=[[{'type': 'domain'}, {'type': 'domain'}]])\n",
    "\n",
    "# Add the first pie chart\n",
    "fig.add_trace(go.Pie(labels=labels, values=values, name=\"All Hosts\"), 1, 1)\n",
    "\n",
    "# Add the second pie chart\n",
    "fig.add_trace(go.Pie(labels=filtered_labels, values=filtered_values, name=\"Excluding Wikibase Cloud\"), 1, 2)\n",
    "\n",
    "# Update layout\n",
    "fig.update_layout(\n",
    "    title_text=\"Number of properties by host\",\n",
    "    height=500,\n",
    "    width=800,\n",
    "    annotations=[dict(text='All Hosts', x=0.18, y=1, font_size=12, showarrow=False),\n",
    "                 dict(text='Excluding Wikibase Cloud', x=0.9, y=1, font_size=12, showarrow=False)]\n",
    ")\n",
    "\n",
    "fig.show()"
   ]
  },
  {
   "cell_type": "code",
   "execution_count": 113,
   "metadata": {},
   "outputs": [
    {
     "data": {
      "application/vnd.plotly.v1+json": {
       "config": {
        "plotlyServerURL": "https://plot.ly"
       },
       "data": [
        {
         "domain": {
          "x": [
           0,
           0.2888888888888889
          ],
          "y": [
           0,
           1
          ]
         },
         "labels": [
          "1.44.0-wmf.16",
          "1.39.7",
          "1.39.1",
          "1.39.4",
          "1.39.11",
          "1.37.0-alpha",
          "1.39.10",
          "1.42.4",
          "1.35.2",
          "1.44.0-wmf.15",
          "1.39.5",
          "1.35.1",
          "1.42.1",
          "1.32.5",
          "1.27.0-rc.1",
          "1.28.2",
          "1.35.3",
          "1.38.5",
          "1.35.7",
          "1.43.0-wmf.7",
          "1.39.3",
          "1.36.1",
          "1.43.0",
          "1.34.2",
          "1.34.1",
          "1.41.1",
          "1.33.0",
          "1.41.4",
          "1.40.1",
          "1.35.5",
          "1.39.6",
          "1.39.2",
          "1.34.4",
          "1.40.0-wmf.26",
          "1.41.0",
          "1.42.3",
          "1.35.4"
         ],
         "name": "All Versions",
         "showlegend": false,
         "textinfo": "none",
         "type": "pie",
         "values": [
          2,
          712,
          5,
          3,
          8,
          1,
          2,
          1,
          3,
          1,
          2,
          2,
          3,
          1,
          1,
          1,
          1,
          6,
          1,
          1,
          1,
          1,
          2,
          1,
          1,
          2,
          1,
          1,
          1,
          2,
          1,
          1,
          1,
          1,
          1,
          1,
          1
         ]
        },
        {
         "domain": {
          "x": [
           0.35555555555555557,
           0.6444444444444445
          ],
          "y": [
           0,
           1
          ]
         },
         "labels": [
          "1.44.0-wmf.16",
          "1.39.1",
          "1.39.4",
          "1.39.11",
          "1.37.0-alpha",
          "1.39.10",
          "1.42.4",
          "1.35.2",
          "1.44.0-wmf.15",
          "1.39.5",
          "1.35.1",
          "1.42.1",
          "1.32.5",
          "1.27.0-rc.1",
          "1.28.2",
          "1.35.3",
          "1.38.5",
          "1.35.7",
          "1.43.0-wmf.7",
          "1.39.3",
          "1.36.1",
          "1.43.0",
          "1.34.2",
          "1.34.1",
          "1.41.1",
          "1.33.0",
          "1.41.4",
          "1.40.1",
          "1.35.5",
          "1.39.6",
          "1.39.2",
          "1.34.4",
          "1.40.0-wmf.26",
          "1.41.0",
          "1.42.3",
          "1.35.4"
         ],
         "name": "Excluding 1.39.7",
         "showlegend": false,
         "textinfo": "none",
         "type": "pie",
         "values": [
          2,
          5,
          3,
          8,
          1,
          2,
          1,
          3,
          1,
          2,
          2,
          3,
          1,
          1,
          1,
          1,
          6,
          1,
          1,
          1,
          1,
          2,
          1,
          1,
          2,
          1,
          1,
          1,
          2,
          1,
          1,
          1,
          1,
          1,
          1,
          1
         ]
        },
        {
         "domain": {
          "x": [
           0.7111111111111111,
           1
          ],
          "y": [
           0,
           1
          ]
         },
         "labels": [
          "1.44",
          "1.39",
          "1.37",
          "1.42",
          "1.35",
          "1.32",
          "1.27",
          "1.28",
          "1.38",
          "1.43",
          "1.36",
          "1.34",
          "1.41",
          "1.33",
          "1.40"
         ],
         "name": "Grouped Versions",
         "showlegend": false,
         "textinfo": "none",
         "type": "pie",
         "values": [
          3,
          23,
          1,
          5,
          10,
          1,
          1,
          1,
          6,
          3,
          1,
          3,
          4,
          1,
          2
         ]
        }
       ],
       "layout": {
        "annotations": [
         {
          "font": {
           "size": 12
          },
          "showarrow": false,
          "text": "All Versions",
          "x": 0.12,
          "y": 1.05
         },
         {
          "font": {
           "size": 12
          },
          "showarrow": false,
          "text": "Excluding 1.39.7",
          "x": 0.5,
          "y": 1.05
         },
         {
          "font": {
           "size": 12
          },
          "showarrow": false,
          "text": "Excluding 1.39.7, Grouped as x.xx",
          "x": 0.95,
          "y": 1.05
         }
        ],
        "height": 500,
        "template": {
         "data": {
          "bar": [
           {
            "error_x": {
             "color": "#2a3f5f"
            },
            "error_y": {
             "color": "#2a3f5f"
            },
            "marker": {
             "line": {
              "color": "#E5ECF6",
              "width": 0.5
             },
             "pattern": {
              "fillmode": "overlay",
              "size": 10,
              "solidity": 0.2
             }
            },
            "type": "bar"
           }
          ],
          "barpolar": [
           {
            "marker": {
             "line": {
              "color": "#E5ECF6",
              "width": 0.5
             },
             "pattern": {
              "fillmode": "overlay",
              "size": 10,
              "solidity": 0.2
             }
            },
            "type": "barpolar"
           }
          ],
          "carpet": [
           {
            "aaxis": {
             "endlinecolor": "#2a3f5f",
             "gridcolor": "white",
             "linecolor": "white",
             "minorgridcolor": "white",
             "startlinecolor": "#2a3f5f"
            },
            "baxis": {
             "endlinecolor": "#2a3f5f",
             "gridcolor": "white",
             "linecolor": "white",
             "minorgridcolor": "white",
             "startlinecolor": "#2a3f5f"
            },
            "type": "carpet"
           }
          ],
          "choropleth": [
           {
            "colorbar": {
             "outlinewidth": 0,
             "ticks": ""
            },
            "type": "choropleth"
           }
          ],
          "contour": [
           {
            "colorbar": {
             "outlinewidth": 0,
             "ticks": ""
            },
            "colorscale": [
             [
              0,
              "#0d0887"
             ],
             [
              0.1111111111111111,
              "#46039f"
             ],
             [
              0.2222222222222222,
              "#7201a8"
             ],
             [
              0.3333333333333333,
              "#9c179e"
             ],
             [
              0.4444444444444444,
              "#bd3786"
             ],
             [
              0.5555555555555556,
              "#d8576b"
             ],
             [
              0.6666666666666666,
              "#ed7953"
             ],
             [
              0.7777777777777778,
              "#fb9f3a"
             ],
             [
              0.8888888888888888,
              "#fdca26"
             ],
             [
              1,
              "#f0f921"
             ]
            ],
            "type": "contour"
           }
          ],
          "contourcarpet": [
           {
            "colorbar": {
             "outlinewidth": 0,
             "ticks": ""
            },
            "type": "contourcarpet"
           }
          ],
          "heatmap": [
           {
            "colorbar": {
             "outlinewidth": 0,
             "ticks": ""
            },
            "colorscale": [
             [
              0,
              "#0d0887"
             ],
             [
              0.1111111111111111,
              "#46039f"
             ],
             [
              0.2222222222222222,
              "#7201a8"
             ],
             [
              0.3333333333333333,
              "#9c179e"
             ],
             [
              0.4444444444444444,
              "#bd3786"
             ],
             [
              0.5555555555555556,
              "#d8576b"
             ],
             [
              0.6666666666666666,
              "#ed7953"
             ],
             [
              0.7777777777777778,
              "#fb9f3a"
             ],
             [
              0.8888888888888888,
              "#fdca26"
             ],
             [
              1,
              "#f0f921"
             ]
            ],
            "type": "heatmap"
           }
          ],
          "heatmapgl": [
           {
            "colorbar": {
             "outlinewidth": 0,
             "ticks": ""
            },
            "colorscale": [
             [
              0,
              "#0d0887"
             ],
             [
              0.1111111111111111,
              "#46039f"
             ],
             [
              0.2222222222222222,
              "#7201a8"
             ],
             [
              0.3333333333333333,
              "#9c179e"
             ],
             [
              0.4444444444444444,
              "#bd3786"
             ],
             [
              0.5555555555555556,
              "#d8576b"
             ],
             [
              0.6666666666666666,
              "#ed7953"
             ],
             [
              0.7777777777777778,
              "#fb9f3a"
             ],
             [
              0.8888888888888888,
              "#fdca26"
             ],
             [
              1,
              "#f0f921"
             ]
            ],
            "type": "heatmapgl"
           }
          ],
          "histogram": [
           {
            "marker": {
             "pattern": {
              "fillmode": "overlay",
              "size": 10,
              "solidity": 0.2
             }
            },
            "type": "histogram"
           }
          ],
          "histogram2d": [
           {
            "colorbar": {
             "outlinewidth": 0,
             "ticks": ""
            },
            "colorscale": [
             [
              0,
              "#0d0887"
             ],
             [
              0.1111111111111111,
              "#46039f"
             ],
             [
              0.2222222222222222,
              "#7201a8"
             ],
             [
              0.3333333333333333,
              "#9c179e"
             ],
             [
              0.4444444444444444,
              "#bd3786"
             ],
             [
              0.5555555555555556,
              "#d8576b"
             ],
             [
              0.6666666666666666,
              "#ed7953"
             ],
             [
              0.7777777777777778,
              "#fb9f3a"
             ],
             [
              0.8888888888888888,
              "#fdca26"
             ],
             [
              1,
              "#f0f921"
             ]
            ],
            "type": "histogram2d"
           }
          ],
          "histogram2dcontour": [
           {
            "colorbar": {
             "outlinewidth": 0,
             "ticks": ""
            },
            "colorscale": [
             [
              0,
              "#0d0887"
             ],
             [
              0.1111111111111111,
              "#46039f"
             ],
             [
              0.2222222222222222,
              "#7201a8"
             ],
             [
              0.3333333333333333,
              "#9c179e"
             ],
             [
              0.4444444444444444,
              "#bd3786"
             ],
             [
              0.5555555555555556,
              "#d8576b"
             ],
             [
              0.6666666666666666,
              "#ed7953"
             ],
             [
              0.7777777777777778,
              "#fb9f3a"
             ],
             [
              0.8888888888888888,
              "#fdca26"
             ],
             [
              1,
              "#f0f921"
             ]
            ],
            "type": "histogram2dcontour"
           }
          ],
          "mesh3d": [
           {
            "colorbar": {
             "outlinewidth": 0,
             "ticks": ""
            },
            "type": "mesh3d"
           }
          ],
          "parcoords": [
           {
            "line": {
             "colorbar": {
              "outlinewidth": 0,
              "ticks": ""
             }
            },
            "type": "parcoords"
           }
          ],
          "pie": [
           {
            "automargin": true,
            "type": "pie"
           }
          ],
          "scatter": [
           {
            "fillpattern": {
             "fillmode": "overlay",
             "size": 10,
             "solidity": 0.2
            },
            "type": "scatter"
           }
          ],
          "scatter3d": [
           {
            "line": {
             "colorbar": {
              "outlinewidth": 0,
              "ticks": ""
             }
            },
            "marker": {
             "colorbar": {
              "outlinewidth": 0,
              "ticks": ""
             }
            },
            "type": "scatter3d"
           }
          ],
          "scattercarpet": [
           {
            "marker": {
             "colorbar": {
              "outlinewidth": 0,
              "ticks": ""
             }
            },
            "type": "scattercarpet"
           }
          ],
          "scattergeo": [
           {
            "marker": {
             "colorbar": {
              "outlinewidth": 0,
              "ticks": ""
             }
            },
            "type": "scattergeo"
           }
          ],
          "scattergl": [
           {
            "marker": {
             "colorbar": {
              "outlinewidth": 0,
              "ticks": ""
             }
            },
            "type": "scattergl"
           }
          ],
          "scattermapbox": [
           {
            "marker": {
             "colorbar": {
              "outlinewidth": 0,
              "ticks": ""
             }
            },
            "type": "scattermapbox"
           }
          ],
          "scatterpolar": [
           {
            "marker": {
             "colorbar": {
              "outlinewidth": 0,
              "ticks": ""
             }
            },
            "type": "scatterpolar"
           }
          ],
          "scatterpolargl": [
           {
            "marker": {
             "colorbar": {
              "outlinewidth": 0,
              "ticks": ""
             }
            },
            "type": "scatterpolargl"
           }
          ],
          "scatterternary": [
           {
            "marker": {
             "colorbar": {
              "outlinewidth": 0,
              "ticks": ""
             }
            },
            "type": "scatterternary"
           }
          ],
          "surface": [
           {
            "colorbar": {
             "outlinewidth": 0,
             "ticks": ""
            },
            "colorscale": [
             [
              0,
              "#0d0887"
             ],
             [
              0.1111111111111111,
              "#46039f"
             ],
             [
              0.2222222222222222,
              "#7201a8"
             ],
             [
              0.3333333333333333,
              "#9c179e"
             ],
             [
              0.4444444444444444,
              "#bd3786"
             ],
             [
              0.5555555555555556,
              "#d8576b"
             ],
             [
              0.6666666666666666,
              "#ed7953"
             ],
             [
              0.7777777777777778,
              "#fb9f3a"
             ],
             [
              0.8888888888888888,
              "#fdca26"
             ],
             [
              1,
              "#f0f921"
             ]
            ],
            "type": "surface"
           }
          ],
          "table": [
           {
            "cells": {
             "fill": {
              "color": "#EBF0F8"
             },
             "line": {
              "color": "white"
             }
            },
            "header": {
             "fill": {
              "color": "#C8D4E3"
             },
             "line": {
              "color": "white"
             }
            },
            "type": "table"
           }
          ]
         },
         "layout": {
          "annotationdefaults": {
           "arrowcolor": "#2a3f5f",
           "arrowhead": 0,
           "arrowwidth": 1
          },
          "autotypenumbers": "strict",
          "coloraxis": {
           "colorbar": {
            "outlinewidth": 0,
            "ticks": ""
           }
          },
          "colorscale": {
           "diverging": [
            [
             0,
             "#8e0152"
            ],
            [
             0.1,
             "#c51b7d"
            ],
            [
             0.2,
             "#de77ae"
            ],
            [
             0.3,
             "#f1b6da"
            ],
            [
             0.4,
             "#fde0ef"
            ],
            [
             0.5,
             "#f7f7f7"
            ],
            [
             0.6,
             "#e6f5d0"
            ],
            [
             0.7,
             "#b8e186"
            ],
            [
             0.8,
             "#7fbc41"
            ],
            [
             0.9,
             "#4d9221"
            ],
            [
             1,
             "#276419"
            ]
           ],
           "sequential": [
            [
             0,
             "#0d0887"
            ],
            [
             0.1111111111111111,
             "#46039f"
            ],
            [
             0.2222222222222222,
             "#7201a8"
            ],
            [
             0.3333333333333333,
             "#9c179e"
            ],
            [
             0.4444444444444444,
             "#bd3786"
            ],
            [
             0.5555555555555556,
             "#d8576b"
            ],
            [
             0.6666666666666666,
             "#ed7953"
            ],
            [
             0.7777777777777778,
             "#fb9f3a"
            ],
            [
             0.8888888888888888,
             "#fdca26"
            ],
            [
             1,
             "#f0f921"
            ]
           ],
           "sequentialminus": [
            [
             0,
             "#0d0887"
            ],
            [
             0.1111111111111111,
             "#46039f"
            ],
            [
             0.2222222222222222,
             "#7201a8"
            ],
            [
             0.3333333333333333,
             "#9c179e"
            ],
            [
             0.4444444444444444,
             "#bd3786"
            ],
            [
             0.5555555555555556,
             "#d8576b"
            ],
            [
             0.6666666666666666,
             "#ed7953"
            ],
            [
             0.7777777777777778,
             "#fb9f3a"
            ],
            [
             0.8888888888888888,
             "#fdca26"
            ],
            [
             1,
             "#f0f921"
            ]
           ]
          },
          "colorway": [
           "#636efa",
           "#EF553B",
           "#00cc96",
           "#ab63fa",
           "#FFA15A",
           "#19d3f3",
           "#FF6692",
           "#B6E880",
           "#FF97FF",
           "#FECB52"
          ],
          "font": {
           "color": "#2a3f5f"
          },
          "geo": {
           "bgcolor": "white",
           "lakecolor": "white",
           "landcolor": "#E5ECF6",
           "showlakes": true,
           "showland": true,
           "subunitcolor": "white"
          },
          "hoverlabel": {
           "align": "left"
          },
          "hovermode": "closest",
          "mapbox": {
           "style": "light"
          },
          "paper_bgcolor": "white",
          "plot_bgcolor": "#E5ECF6",
          "polar": {
           "angularaxis": {
            "gridcolor": "white",
            "linecolor": "white",
            "ticks": ""
           },
           "bgcolor": "#E5ECF6",
           "radialaxis": {
            "gridcolor": "white",
            "linecolor": "white",
            "ticks": ""
           }
          },
          "scene": {
           "xaxis": {
            "backgroundcolor": "#E5ECF6",
            "gridcolor": "white",
            "gridwidth": 2,
            "linecolor": "white",
            "showbackground": true,
            "ticks": "",
            "zerolinecolor": "white"
           },
           "yaxis": {
            "backgroundcolor": "#E5ECF6",
            "gridcolor": "white",
            "gridwidth": 2,
            "linecolor": "white",
            "showbackground": true,
            "ticks": "",
            "zerolinecolor": "white"
           },
           "zaxis": {
            "backgroundcolor": "#E5ECF6",
            "gridcolor": "white",
            "gridwidth": 2,
            "linecolor": "white",
            "showbackground": true,
            "ticks": "",
            "zerolinecolor": "white"
           }
          },
          "shapedefaults": {
           "line": {
            "color": "#2a3f5f"
           }
          },
          "ternary": {
           "aaxis": {
            "gridcolor": "white",
            "linecolor": "white",
            "ticks": ""
           },
           "baxis": {
            "gridcolor": "white",
            "linecolor": "white",
            "ticks": ""
           },
           "bgcolor": "#E5ECF6",
           "caxis": {
            "gridcolor": "white",
            "linecolor": "white",
            "ticks": ""
           }
          },
          "title": {
           "x": 0.05
          },
          "xaxis": {
           "automargin": true,
           "gridcolor": "white",
           "linecolor": "white",
           "ticks": "",
           "title": {
            "standoff": 15
           },
           "zerolinecolor": "white",
           "zerolinewidth": 2
          },
          "yaxis": {
           "automargin": true,
           "gridcolor": "white",
           "linecolor": "white",
           "ticks": "",
           "title": {
            "standoff": 15
           },
           "zerolinecolor": "white",
           "zerolinewidth": 2
          }
         }
        },
        "title": {
         "text": "Spread of Wikibases by Version"
        },
        "width": 1200
       }
      },
      "text/html": [
       "<div>                            <div id=\"94812ec3-deec-48bd-b052-48ab20128d2f\" class=\"plotly-graph-div\" style=\"height:500px; width:1200px;\"></div>            <script type=\"text/javascript\">                require([\"plotly\"], function(Plotly) {                    window.PLOTLYENV=window.PLOTLYENV || {};                                    if (document.getElementById(\"94812ec3-deec-48bd-b052-48ab20128d2f\")) {                    Plotly.newPlot(                        \"94812ec3-deec-48bd-b052-48ab20128d2f\",                        [{\"labels\":[\"1.44.0-wmf.16\",\"1.39.7\",\"1.39.1\",\"1.39.4\",\"1.39.11\",\"1.37.0-alpha\",\"1.39.10\",\"1.42.4\",\"1.35.2\",\"1.44.0-wmf.15\",\"1.39.5\",\"1.35.1\",\"1.42.1\",\"1.32.5\",\"1.27.0-rc.1\",\"1.28.2\",\"1.35.3\",\"1.38.5\",\"1.35.7\",\"1.43.0-wmf.7\",\"1.39.3\",\"1.36.1\",\"1.43.0\",\"1.34.2\",\"1.34.1\",\"1.41.1\",\"1.33.0\",\"1.41.4\",\"1.40.1\",\"1.35.5\",\"1.39.6\",\"1.39.2\",\"1.34.4\",\"1.40.0-wmf.26\",\"1.41.0\",\"1.42.3\",\"1.35.4\"],\"name\":\"All Versions\",\"showlegend\":false,\"textinfo\":\"none\",\"values\":[2,712,5,3,8,1,2,1,3,1,2,2,3,1,1,1,1,6,1,1,1,1,2,1,1,2,1,1,1,2,1,1,1,1,1,1,1],\"type\":\"pie\",\"domain\":{\"x\":[0.0,0.2888888888888889],\"y\":[0.0,1.0]}},{\"labels\":[\"1.44.0-wmf.16\",\"1.39.1\",\"1.39.4\",\"1.39.11\",\"1.37.0-alpha\",\"1.39.10\",\"1.42.4\",\"1.35.2\",\"1.44.0-wmf.15\",\"1.39.5\",\"1.35.1\",\"1.42.1\",\"1.32.5\",\"1.27.0-rc.1\",\"1.28.2\",\"1.35.3\",\"1.38.5\",\"1.35.7\",\"1.43.0-wmf.7\",\"1.39.3\",\"1.36.1\",\"1.43.0\",\"1.34.2\",\"1.34.1\",\"1.41.1\",\"1.33.0\",\"1.41.4\",\"1.40.1\",\"1.35.5\",\"1.39.6\",\"1.39.2\",\"1.34.4\",\"1.40.0-wmf.26\",\"1.41.0\",\"1.42.3\",\"1.35.4\"],\"name\":\"Excluding 1.39.7\",\"showlegend\":false,\"textinfo\":\"none\",\"values\":[2,5,3,8,1,2,1,3,1,2,2,3,1,1,1,1,6,1,1,1,1,2,1,1,2,1,1,1,2,1,1,1,1,1,1,1],\"type\":\"pie\",\"domain\":{\"x\":[0.35555555555555557,0.6444444444444445],\"y\":[0.0,1.0]}},{\"labels\":[\"1.44\",\"1.39\",\"1.37\",\"1.42\",\"1.35\",\"1.32\",\"1.27\",\"1.28\",\"1.38\",\"1.43\",\"1.36\",\"1.34\",\"1.41\",\"1.33\",\"1.40\"],\"name\":\"Grouped Versions\",\"showlegend\":false,\"textinfo\":\"none\",\"values\":[3,23,1,5,10,1,1,1,6,3,1,3,4,1,2],\"type\":\"pie\",\"domain\":{\"x\":[0.7111111111111111,1.0],\"y\":[0.0,1.0]}}],                        {\"template\":{\"data\":{\"histogram2dcontour\":[{\"type\":\"histogram2dcontour\",\"colorbar\":{\"outlinewidth\":0,\"ticks\":\"\"},\"colorscale\":[[0.0,\"#0d0887\"],[0.1111111111111111,\"#46039f\"],[0.2222222222222222,\"#7201a8\"],[0.3333333333333333,\"#9c179e\"],[0.4444444444444444,\"#bd3786\"],[0.5555555555555556,\"#d8576b\"],[0.6666666666666666,\"#ed7953\"],[0.7777777777777778,\"#fb9f3a\"],[0.8888888888888888,\"#fdca26\"],[1.0,\"#f0f921\"]]}],\"choropleth\":[{\"type\":\"choropleth\",\"colorbar\":{\"outlinewidth\":0,\"ticks\":\"\"}}],\"histogram2d\":[{\"type\":\"histogram2d\",\"colorbar\":{\"outlinewidth\":0,\"ticks\":\"\"},\"colorscale\":[[0.0,\"#0d0887\"],[0.1111111111111111,\"#46039f\"],[0.2222222222222222,\"#7201a8\"],[0.3333333333333333,\"#9c179e\"],[0.4444444444444444,\"#bd3786\"],[0.5555555555555556,\"#d8576b\"],[0.6666666666666666,\"#ed7953\"],[0.7777777777777778,\"#fb9f3a\"],[0.8888888888888888,\"#fdca26\"],[1.0,\"#f0f921\"]]}],\"heatmap\":[{\"type\":\"heatmap\",\"colorbar\":{\"outlinewidth\":0,\"ticks\":\"\"},\"colorscale\":[[0.0,\"#0d0887\"],[0.1111111111111111,\"#46039f\"],[0.2222222222222222,\"#7201a8\"],[0.3333333333333333,\"#9c179e\"],[0.4444444444444444,\"#bd3786\"],[0.5555555555555556,\"#d8576b\"],[0.6666666666666666,\"#ed7953\"],[0.7777777777777778,\"#fb9f3a\"],[0.8888888888888888,\"#fdca26\"],[1.0,\"#f0f921\"]]}],\"heatmapgl\":[{\"type\":\"heatmapgl\",\"colorbar\":{\"outlinewidth\":0,\"ticks\":\"\"},\"colorscale\":[[0.0,\"#0d0887\"],[0.1111111111111111,\"#46039f\"],[0.2222222222222222,\"#7201a8\"],[0.3333333333333333,\"#9c179e\"],[0.4444444444444444,\"#bd3786\"],[0.5555555555555556,\"#d8576b\"],[0.6666666666666666,\"#ed7953\"],[0.7777777777777778,\"#fb9f3a\"],[0.8888888888888888,\"#fdca26\"],[1.0,\"#f0f921\"]]}],\"contourcarpet\":[{\"type\":\"contourcarpet\",\"colorbar\":{\"outlinewidth\":0,\"ticks\":\"\"}}],\"contour\":[{\"type\":\"contour\",\"colorbar\":{\"outlinewidth\":0,\"ticks\":\"\"},\"colorscale\":[[0.0,\"#0d0887\"],[0.1111111111111111,\"#46039f\"],[0.2222222222222222,\"#7201a8\"],[0.3333333333333333,\"#9c179e\"],[0.4444444444444444,\"#bd3786\"],[0.5555555555555556,\"#d8576b\"],[0.6666666666666666,\"#ed7953\"],[0.7777777777777778,\"#fb9f3a\"],[0.8888888888888888,\"#fdca26\"],[1.0,\"#f0f921\"]]}],\"surface\":[{\"type\":\"surface\",\"colorbar\":{\"outlinewidth\":0,\"ticks\":\"\"},\"colorscale\":[[0.0,\"#0d0887\"],[0.1111111111111111,\"#46039f\"],[0.2222222222222222,\"#7201a8\"],[0.3333333333333333,\"#9c179e\"],[0.4444444444444444,\"#bd3786\"],[0.5555555555555556,\"#d8576b\"],[0.6666666666666666,\"#ed7953\"],[0.7777777777777778,\"#fb9f3a\"],[0.8888888888888888,\"#fdca26\"],[1.0,\"#f0f921\"]]}],\"mesh3d\":[{\"type\":\"mesh3d\",\"colorbar\":{\"outlinewidth\":0,\"ticks\":\"\"}}],\"scatter\":[{\"fillpattern\":{\"fillmode\":\"overlay\",\"size\":10,\"solidity\":0.2},\"type\":\"scatter\"}],\"parcoords\":[{\"type\":\"parcoords\",\"line\":{\"colorbar\":{\"outlinewidth\":0,\"ticks\":\"\"}}}],\"scatterpolargl\":[{\"type\":\"scatterpolargl\",\"marker\":{\"colorbar\":{\"outlinewidth\":0,\"ticks\":\"\"}}}],\"bar\":[{\"error_x\":{\"color\":\"#2a3f5f\"},\"error_y\":{\"color\":\"#2a3f5f\"},\"marker\":{\"line\":{\"color\":\"#E5ECF6\",\"width\":0.5},\"pattern\":{\"fillmode\":\"overlay\",\"size\":10,\"solidity\":0.2}},\"type\":\"bar\"}],\"scattergeo\":[{\"type\":\"scattergeo\",\"marker\":{\"colorbar\":{\"outlinewidth\":0,\"ticks\":\"\"}}}],\"scatterpolar\":[{\"type\":\"scatterpolar\",\"marker\":{\"colorbar\":{\"outlinewidth\":0,\"ticks\":\"\"}}}],\"histogram\":[{\"marker\":{\"pattern\":{\"fillmode\":\"overlay\",\"size\":10,\"solidity\":0.2}},\"type\":\"histogram\"}],\"scattergl\":[{\"type\":\"scattergl\",\"marker\":{\"colorbar\":{\"outlinewidth\":0,\"ticks\":\"\"}}}],\"scatter3d\":[{\"type\":\"scatter3d\",\"line\":{\"colorbar\":{\"outlinewidth\":0,\"ticks\":\"\"}},\"marker\":{\"colorbar\":{\"outlinewidth\":0,\"ticks\":\"\"}}}],\"scattermapbox\":[{\"type\":\"scattermapbox\",\"marker\":{\"colorbar\":{\"outlinewidth\":0,\"ticks\":\"\"}}}],\"scatterternary\":[{\"type\":\"scatterternary\",\"marker\":{\"colorbar\":{\"outlinewidth\":0,\"ticks\":\"\"}}}],\"scattercarpet\":[{\"type\":\"scattercarpet\",\"marker\":{\"colorbar\":{\"outlinewidth\":0,\"ticks\":\"\"}}}],\"carpet\":[{\"aaxis\":{\"endlinecolor\":\"#2a3f5f\",\"gridcolor\":\"white\",\"linecolor\":\"white\",\"minorgridcolor\":\"white\",\"startlinecolor\":\"#2a3f5f\"},\"baxis\":{\"endlinecolor\":\"#2a3f5f\",\"gridcolor\":\"white\",\"linecolor\":\"white\",\"minorgridcolor\":\"white\",\"startlinecolor\":\"#2a3f5f\"},\"type\":\"carpet\"}],\"table\":[{\"cells\":{\"fill\":{\"color\":\"#EBF0F8\"},\"line\":{\"color\":\"white\"}},\"header\":{\"fill\":{\"color\":\"#C8D4E3\"},\"line\":{\"color\":\"white\"}},\"type\":\"table\"}],\"barpolar\":[{\"marker\":{\"line\":{\"color\":\"#E5ECF6\",\"width\":0.5},\"pattern\":{\"fillmode\":\"overlay\",\"size\":10,\"solidity\":0.2}},\"type\":\"barpolar\"}],\"pie\":[{\"automargin\":true,\"type\":\"pie\"}]},\"layout\":{\"autotypenumbers\":\"strict\",\"colorway\":[\"#636efa\",\"#EF553B\",\"#00cc96\",\"#ab63fa\",\"#FFA15A\",\"#19d3f3\",\"#FF6692\",\"#B6E880\",\"#FF97FF\",\"#FECB52\"],\"font\":{\"color\":\"#2a3f5f\"},\"hovermode\":\"closest\",\"hoverlabel\":{\"align\":\"left\"},\"paper_bgcolor\":\"white\",\"plot_bgcolor\":\"#E5ECF6\",\"polar\":{\"bgcolor\":\"#E5ECF6\",\"angularaxis\":{\"gridcolor\":\"white\",\"linecolor\":\"white\",\"ticks\":\"\"},\"radialaxis\":{\"gridcolor\":\"white\",\"linecolor\":\"white\",\"ticks\":\"\"}},\"ternary\":{\"bgcolor\":\"#E5ECF6\",\"aaxis\":{\"gridcolor\":\"white\",\"linecolor\":\"white\",\"ticks\":\"\"},\"baxis\":{\"gridcolor\":\"white\",\"linecolor\":\"white\",\"ticks\":\"\"},\"caxis\":{\"gridcolor\":\"white\",\"linecolor\":\"white\",\"ticks\":\"\"}},\"coloraxis\":{\"colorbar\":{\"outlinewidth\":0,\"ticks\":\"\"}},\"colorscale\":{\"sequential\":[[0.0,\"#0d0887\"],[0.1111111111111111,\"#46039f\"],[0.2222222222222222,\"#7201a8\"],[0.3333333333333333,\"#9c179e\"],[0.4444444444444444,\"#bd3786\"],[0.5555555555555556,\"#d8576b\"],[0.6666666666666666,\"#ed7953\"],[0.7777777777777778,\"#fb9f3a\"],[0.8888888888888888,\"#fdca26\"],[1.0,\"#f0f921\"]],\"sequentialminus\":[[0.0,\"#0d0887\"],[0.1111111111111111,\"#46039f\"],[0.2222222222222222,\"#7201a8\"],[0.3333333333333333,\"#9c179e\"],[0.4444444444444444,\"#bd3786\"],[0.5555555555555556,\"#d8576b\"],[0.6666666666666666,\"#ed7953\"],[0.7777777777777778,\"#fb9f3a\"],[0.8888888888888888,\"#fdca26\"],[1.0,\"#f0f921\"]],\"diverging\":[[0,\"#8e0152\"],[0.1,\"#c51b7d\"],[0.2,\"#de77ae\"],[0.3,\"#f1b6da\"],[0.4,\"#fde0ef\"],[0.5,\"#f7f7f7\"],[0.6,\"#e6f5d0\"],[0.7,\"#b8e186\"],[0.8,\"#7fbc41\"],[0.9,\"#4d9221\"],[1,\"#276419\"]]},\"xaxis\":{\"gridcolor\":\"white\",\"linecolor\":\"white\",\"ticks\":\"\",\"title\":{\"standoff\":15},\"zerolinecolor\":\"white\",\"automargin\":true,\"zerolinewidth\":2},\"yaxis\":{\"gridcolor\":\"white\",\"linecolor\":\"white\",\"ticks\":\"\",\"title\":{\"standoff\":15},\"zerolinecolor\":\"white\",\"automargin\":true,\"zerolinewidth\":2},\"scene\":{\"xaxis\":{\"backgroundcolor\":\"#E5ECF6\",\"gridcolor\":\"white\",\"linecolor\":\"white\",\"showbackground\":true,\"ticks\":\"\",\"zerolinecolor\":\"white\",\"gridwidth\":2},\"yaxis\":{\"backgroundcolor\":\"#E5ECF6\",\"gridcolor\":\"white\",\"linecolor\":\"white\",\"showbackground\":true,\"ticks\":\"\",\"zerolinecolor\":\"white\",\"gridwidth\":2},\"zaxis\":{\"backgroundcolor\":\"#E5ECF6\",\"gridcolor\":\"white\",\"linecolor\":\"white\",\"showbackground\":true,\"ticks\":\"\",\"zerolinecolor\":\"white\",\"gridwidth\":2}},\"shapedefaults\":{\"line\":{\"color\":\"#2a3f5f\"}},\"annotationdefaults\":{\"arrowcolor\":\"#2a3f5f\",\"arrowhead\":0,\"arrowwidth\":1},\"geo\":{\"bgcolor\":\"white\",\"landcolor\":\"#E5ECF6\",\"subunitcolor\":\"white\",\"showland\":true,\"showlakes\":true,\"lakecolor\":\"white\"},\"title\":{\"x\":0.05},\"mapbox\":{\"style\":\"light\"}}},\"title\":{\"text\":\"Spread of Wikibases by Version\"},\"height\":500,\"width\":1200,\"annotations\":[{\"showarrow\":false,\"text\":\"All Versions\",\"x\":0.12,\"y\":1.05,\"font\":{\"size\":12}},{\"showarrow\":false,\"text\":\"Excluding 1.39.7\",\"x\":0.5,\"y\":1.05,\"font\":{\"size\":12}},{\"showarrow\":false,\"text\":\"Excluding 1.39.7, Grouped as x.xx\",\"x\":0.95,\"y\":1.05,\"font\":{\"size\":12}}]},                        {\"responsive\": true}                    ).then(function(){\n",
       "                            \n",
       "var gd = document.getElementById('94812ec3-deec-48bd-b052-48ab20128d2f');\n",
       "var x = new MutationObserver(function (mutations, observer) {{\n",
       "        var display = window.getComputedStyle(gd).display;\n",
       "        if (!display || display === 'none') {{\n",
       "            console.log([gd, 'removed!']);\n",
       "            Plotly.purge(gd);\n",
       "            observer.disconnect();\n",
       "        }}\n",
       "}});\n",
       "\n",
       "// Listen for the removal of the full notebook cells\n",
       "var notebookContainer = gd.closest('#notebook-container');\n",
       "if (notebookContainer) {{\n",
       "    x.observe(notebookContainer, {childList: true});\n",
       "}}\n",
       "\n",
       "// Listen for the clearing of the current output cell\n",
       "var outputEl = gd.closest('.output');\n",
       "if (outputEl) {{\n",
       "    x.observe(outputEl, {childList: true});\n",
       "}}\n",
       "\n",
       "                        })                };                });            </script>        </div>"
      ]
     },
     "metadata": {},
     "output_type": "display_data"
    }
   ],
   "source": [
    "from plotly.subplots import make_subplots\n",
    "\n",
    "# Extract the version information from item_map\n",
    "version_counts = {}\n",
    "for key, value in item_map.items():\n",
    "    version = value.get('version', ['unknown'])[0]\n",
    "    if version not in version_counts:\n",
    "        version_counts[version] = 0\n",
    "    version_counts[version] += 1\n",
    "\n",
    "# Prepare data for the pie charts\n",
    "versions = list(version_counts.keys())\n",
    "counts = list(version_counts.values())\n",
    "\n",
    "# Filter out the most common version (for example, '1.39.7')\n",
    "filtered_version_counts = {k: v for k, v in version_counts.items() if k != '1.39.7'}\n",
    "filtered_versions = list(filtered_version_counts.keys())\n",
    "filtered_counts = list(filtered_version_counts.values())\n",
    "\n",
    "# Group versions by the first two parts for both filtered and unfiltered data\n",
    "grouped_version_counts = {}\n",
    "for version, count in version_counts.items():\n",
    "    grouped_version = '.'.join(version.split('.')[:2])\n",
    "    if grouped_version not in grouped_version_counts:\n",
    "        grouped_version_counts[grouped_version] = 0\n",
    "    grouped_version_counts[grouped_version] += count\n",
    "\n",
    "grouped_version_counts_filtered = {}\n",
    "for version, count in filtered_version_counts.items():\n",
    "    grouped_version = '.'.join(version.split('.')[:2])\n",
    "    if grouped_version not in grouped_version_counts_filtered:\n",
    "        grouped_version_counts_filtered[grouped_version] = 0\n",
    "    grouped_version_counts_filtered[grouped_version] += count\n",
    "\n",
    "grouped_versions = list(grouped_version_counts.keys())\n",
    "grouped_counts = list(grouped_version_counts.values())\n",
    "grouped_versions_filtered = list(grouped_version_counts_filtered.keys())\n",
    "grouped_counts_filtered = list(grouped_version_counts_filtered.values())\n",
    "\n",
    "# Create subplots\n",
    "fig = make_subplots(rows=1, cols=3, specs=[[{'type': 'domain'}, {'type': 'domain'}, {'type': 'domain'}]])\n",
    "\n",
    "# Add the first pie chart\n",
    "fig.add_trace(go.Pie(labels=versions, values=counts, name=\"All Versions\", showlegend=False, textinfo='none'), 1, 1)\n",
    "\n",
    "# Add the second pie chart\n",
    "fig.add_trace(go.Pie(labels=filtered_versions, values=filtered_counts, name=\"Excluding 1.39.7\", showlegend=False, textinfo='none'), 1, 2)\n",
    "\n",
    "# Add the third pie chart\n",
    "fig.add_trace(go.Pie(labels=grouped_versions, values=grouped_counts_filtered, name=\"Grouped Versions\", showlegend=False, textinfo='none'), 1, 3)\n",
    "\n",
    "# Update layout\n",
    "fig.update_layout(\n",
    "    title_text=\"Spread of Wikibases by Version\",\n",
    "    height=500,\n",
    "    width=1200,\n",
    "    annotations=[dict(text='All Versions', x=0.12, y=1.05, font_size=12, showarrow=False),\n",
    "                 dict(text='Excluding 1.39.7', x=0.5, y=1.05, font_size=12, showarrow=False),\n",
    "                 dict(text='Excluding 1.39.7, Grouped as x.xx', x=0.95, y=1.05, font_size=12, showarrow=False)]\n",
    ")\n",
    "\n",
    "fig.show()"
   ]
  },
  {
   "cell_type": "code",
   "execution_count": 116,
   "metadata": {},
   "outputs": [
    {
     "data": {
      "application/vnd.plotly.v1+json": {
       "config": {
        "plotlyServerURL": "https://plot.ly"
       },
       "data": [
        {
         "cells": {
          "values": [
           [
            "1.44",
            "1.39",
            "1.37",
            "1.42",
            "1.35",
            "1.32",
            "1.27",
            "1.28",
            "1.38",
            "1.43",
            "1.36",
            "1.34",
            "1.41",
            "1.33",
            "1.40"
           ],
           [
            3,
            735,
            1,
            5,
            10,
            1,
            1,
            1,
            6,
            3,
            1,
            3,
            4,
            1,
            2
           ]
          ]
         },
         "header": {
          "values": [
           "Version",
           "Count"
          ]
         },
         "type": "table"
        }
       ],
       "layout": {
        "template": {
         "data": {
          "bar": [
           {
            "error_x": {
             "color": "#2a3f5f"
            },
            "error_y": {
             "color": "#2a3f5f"
            },
            "marker": {
             "line": {
              "color": "#E5ECF6",
              "width": 0.5
             },
             "pattern": {
              "fillmode": "overlay",
              "size": 10,
              "solidity": 0.2
             }
            },
            "type": "bar"
           }
          ],
          "barpolar": [
           {
            "marker": {
             "line": {
              "color": "#E5ECF6",
              "width": 0.5
             },
             "pattern": {
              "fillmode": "overlay",
              "size": 10,
              "solidity": 0.2
             }
            },
            "type": "barpolar"
           }
          ],
          "carpet": [
           {
            "aaxis": {
             "endlinecolor": "#2a3f5f",
             "gridcolor": "white",
             "linecolor": "white",
             "minorgridcolor": "white",
             "startlinecolor": "#2a3f5f"
            },
            "baxis": {
             "endlinecolor": "#2a3f5f",
             "gridcolor": "white",
             "linecolor": "white",
             "minorgridcolor": "white",
             "startlinecolor": "#2a3f5f"
            },
            "type": "carpet"
           }
          ],
          "choropleth": [
           {
            "colorbar": {
             "outlinewidth": 0,
             "ticks": ""
            },
            "type": "choropleth"
           }
          ],
          "contour": [
           {
            "colorbar": {
             "outlinewidth": 0,
             "ticks": ""
            },
            "colorscale": [
             [
              0,
              "#0d0887"
             ],
             [
              0.1111111111111111,
              "#46039f"
             ],
             [
              0.2222222222222222,
              "#7201a8"
             ],
             [
              0.3333333333333333,
              "#9c179e"
             ],
             [
              0.4444444444444444,
              "#bd3786"
             ],
             [
              0.5555555555555556,
              "#d8576b"
             ],
             [
              0.6666666666666666,
              "#ed7953"
             ],
             [
              0.7777777777777778,
              "#fb9f3a"
             ],
             [
              0.8888888888888888,
              "#fdca26"
             ],
             [
              1,
              "#f0f921"
             ]
            ],
            "type": "contour"
           }
          ],
          "contourcarpet": [
           {
            "colorbar": {
             "outlinewidth": 0,
             "ticks": ""
            },
            "type": "contourcarpet"
           }
          ],
          "heatmap": [
           {
            "colorbar": {
             "outlinewidth": 0,
             "ticks": ""
            },
            "colorscale": [
             [
              0,
              "#0d0887"
             ],
             [
              0.1111111111111111,
              "#46039f"
             ],
             [
              0.2222222222222222,
              "#7201a8"
             ],
             [
              0.3333333333333333,
              "#9c179e"
             ],
             [
              0.4444444444444444,
              "#bd3786"
             ],
             [
              0.5555555555555556,
              "#d8576b"
             ],
             [
              0.6666666666666666,
              "#ed7953"
             ],
             [
              0.7777777777777778,
              "#fb9f3a"
             ],
             [
              0.8888888888888888,
              "#fdca26"
             ],
             [
              1,
              "#f0f921"
             ]
            ],
            "type": "heatmap"
           }
          ],
          "heatmapgl": [
           {
            "colorbar": {
             "outlinewidth": 0,
             "ticks": ""
            },
            "colorscale": [
             [
              0,
              "#0d0887"
             ],
             [
              0.1111111111111111,
              "#46039f"
             ],
             [
              0.2222222222222222,
              "#7201a8"
             ],
             [
              0.3333333333333333,
              "#9c179e"
             ],
             [
              0.4444444444444444,
              "#bd3786"
             ],
             [
              0.5555555555555556,
              "#d8576b"
             ],
             [
              0.6666666666666666,
              "#ed7953"
             ],
             [
              0.7777777777777778,
              "#fb9f3a"
             ],
             [
              0.8888888888888888,
              "#fdca26"
             ],
             [
              1,
              "#f0f921"
             ]
            ],
            "type": "heatmapgl"
           }
          ],
          "histogram": [
           {
            "marker": {
             "pattern": {
              "fillmode": "overlay",
              "size": 10,
              "solidity": 0.2
             }
            },
            "type": "histogram"
           }
          ],
          "histogram2d": [
           {
            "colorbar": {
             "outlinewidth": 0,
             "ticks": ""
            },
            "colorscale": [
             [
              0,
              "#0d0887"
             ],
             [
              0.1111111111111111,
              "#46039f"
             ],
             [
              0.2222222222222222,
              "#7201a8"
             ],
             [
              0.3333333333333333,
              "#9c179e"
             ],
             [
              0.4444444444444444,
              "#bd3786"
             ],
             [
              0.5555555555555556,
              "#d8576b"
             ],
             [
              0.6666666666666666,
              "#ed7953"
             ],
             [
              0.7777777777777778,
              "#fb9f3a"
             ],
             [
              0.8888888888888888,
              "#fdca26"
             ],
             [
              1,
              "#f0f921"
             ]
            ],
            "type": "histogram2d"
           }
          ],
          "histogram2dcontour": [
           {
            "colorbar": {
             "outlinewidth": 0,
             "ticks": ""
            },
            "colorscale": [
             [
              0,
              "#0d0887"
             ],
             [
              0.1111111111111111,
              "#46039f"
             ],
             [
              0.2222222222222222,
              "#7201a8"
             ],
             [
              0.3333333333333333,
              "#9c179e"
             ],
             [
              0.4444444444444444,
              "#bd3786"
             ],
             [
              0.5555555555555556,
              "#d8576b"
             ],
             [
              0.6666666666666666,
              "#ed7953"
             ],
             [
              0.7777777777777778,
              "#fb9f3a"
             ],
             [
              0.8888888888888888,
              "#fdca26"
             ],
             [
              1,
              "#f0f921"
             ]
            ],
            "type": "histogram2dcontour"
           }
          ],
          "mesh3d": [
           {
            "colorbar": {
             "outlinewidth": 0,
             "ticks": ""
            },
            "type": "mesh3d"
           }
          ],
          "parcoords": [
           {
            "line": {
             "colorbar": {
              "outlinewidth": 0,
              "ticks": ""
             }
            },
            "type": "parcoords"
           }
          ],
          "pie": [
           {
            "automargin": true,
            "type": "pie"
           }
          ],
          "scatter": [
           {
            "fillpattern": {
             "fillmode": "overlay",
             "size": 10,
             "solidity": 0.2
            },
            "type": "scatter"
           }
          ],
          "scatter3d": [
           {
            "line": {
             "colorbar": {
              "outlinewidth": 0,
              "ticks": ""
             }
            },
            "marker": {
             "colorbar": {
              "outlinewidth": 0,
              "ticks": ""
             }
            },
            "type": "scatter3d"
           }
          ],
          "scattercarpet": [
           {
            "marker": {
             "colorbar": {
              "outlinewidth": 0,
              "ticks": ""
             }
            },
            "type": "scattercarpet"
           }
          ],
          "scattergeo": [
           {
            "marker": {
             "colorbar": {
              "outlinewidth": 0,
              "ticks": ""
             }
            },
            "type": "scattergeo"
           }
          ],
          "scattergl": [
           {
            "marker": {
             "colorbar": {
              "outlinewidth": 0,
              "ticks": ""
             }
            },
            "type": "scattergl"
           }
          ],
          "scattermapbox": [
           {
            "marker": {
             "colorbar": {
              "outlinewidth": 0,
              "ticks": ""
             }
            },
            "type": "scattermapbox"
           }
          ],
          "scatterpolar": [
           {
            "marker": {
             "colorbar": {
              "outlinewidth": 0,
              "ticks": ""
             }
            },
            "type": "scatterpolar"
           }
          ],
          "scatterpolargl": [
           {
            "marker": {
             "colorbar": {
              "outlinewidth": 0,
              "ticks": ""
             }
            },
            "type": "scatterpolargl"
           }
          ],
          "scatterternary": [
           {
            "marker": {
             "colorbar": {
              "outlinewidth": 0,
              "ticks": ""
             }
            },
            "type": "scatterternary"
           }
          ],
          "surface": [
           {
            "colorbar": {
             "outlinewidth": 0,
             "ticks": ""
            },
            "colorscale": [
             [
              0,
              "#0d0887"
             ],
             [
              0.1111111111111111,
              "#46039f"
             ],
             [
              0.2222222222222222,
              "#7201a8"
             ],
             [
              0.3333333333333333,
              "#9c179e"
             ],
             [
              0.4444444444444444,
              "#bd3786"
             ],
             [
              0.5555555555555556,
              "#d8576b"
             ],
             [
              0.6666666666666666,
              "#ed7953"
             ],
             [
              0.7777777777777778,
              "#fb9f3a"
             ],
             [
              0.8888888888888888,
              "#fdca26"
             ],
             [
              1,
              "#f0f921"
             ]
            ],
            "type": "surface"
           }
          ],
          "table": [
           {
            "cells": {
             "fill": {
              "color": "#EBF0F8"
             },
             "line": {
              "color": "white"
             }
            },
            "header": {
             "fill": {
              "color": "#C8D4E3"
             },
             "line": {
              "color": "white"
             }
            },
            "type": "table"
           }
          ]
         },
         "layout": {
          "annotationdefaults": {
           "arrowcolor": "#2a3f5f",
           "arrowhead": 0,
           "arrowwidth": 1
          },
          "autotypenumbers": "strict",
          "coloraxis": {
           "colorbar": {
            "outlinewidth": 0,
            "ticks": ""
           }
          },
          "colorscale": {
           "diverging": [
            [
             0,
             "#8e0152"
            ],
            [
             0.1,
             "#c51b7d"
            ],
            [
             0.2,
             "#de77ae"
            ],
            [
             0.3,
             "#f1b6da"
            ],
            [
             0.4,
             "#fde0ef"
            ],
            [
             0.5,
             "#f7f7f7"
            ],
            [
             0.6,
             "#e6f5d0"
            ],
            [
             0.7,
             "#b8e186"
            ],
            [
             0.8,
             "#7fbc41"
            ],
            [
             0.9,
             "#4d9221"
            ],
            [
             1,
             "#276419"
            ]
           ],
           "sequential": [
            [
             0,
             "#0d0887"
            ],
            [
             0.1111111111111111,
             "#46039f"
            ],
            [
             0.2222222222222222,
             "#7201a8"
            ],
            [
             0.3333333333333333,
             "#9c179e"
            ],
            [
             0.4444444444444444,
             "#bd3786"
            ],
            [
             0.5555555555555556,
             "#d8576b"
            ],
            [
             0.6666666666666666,
             "#ed7953"
            ],
            [
             0.7777777777777778,
             "#fb9f3a"
            ],
            [
             0.8888888888888888,
             "#fdca26"
            ],
            [
             1,
             "#f0f921"
            ]
           ],
           "sequentialminus": [
            [
             0,
             "#0d0887"
            ],
            [
             0.1111111111111111,
             "#46039f"
            ],
            [
             0.2222222222222222,
             "#7201a8"
            ],
            [
             0.3333333333333333,
             "#9c179e"
            ],
            [
             0.4444444444444444,
             "#bd3786"
            ],
            [
             0.5555555555555556,
             "#d8576b"
            ],
            [
             0.6666666666666666,
             "#ed7953"
            ],
            [
             0.7777777777777778,
             "#fb9f3a"
            ],
            [
             0.8888888888888888,
             "#fdca26"
            ],
            [
             1,
             "#f0f921"
            ]
           ]
          },
          "colorway": [
           "#636efa",
           "#EF553B",
           "#00cc96",
           "#ab63fa",
           "#FFA15A",
           "#19d3f3",
           "#FF6692",
           "#B6E880",
           "#FF97FF",
           "#FECB52"
          ],
          "font": {
           "color": "#2a3f5f"
          },
          "geo": {
           "bgcolor": "white",
           "lakecolor": "white",
           "landcolor": "#E5ECF6",
           "showlakes": true,
           "showland": true,
           "subunitcolor": "white"
          },
          "hoverlabel": {
           "align": "left"
          },
          "hovermode": "closest",
          "mapbox": {
           "style": "light"
          },
          "paper_bgcolor": "white",
          "plot_bgcolor": "#E5ECF6",
          "polar": {
           "angularaxis": {
            "gridcolor": "white",
            "linecolor": "white",
            "ticks": ""
           },
           "bgcolor": "#E5ECF6",
           "radialaxis": {
            "gridcolor": "white",
            "linecolor": "white",
            "ticks": ""
           }
          },
          "scene": {
           "xaxis": {
            "backgroundcolor": "#E5ECF6",
            "gridcolor": "white",
            "gridwidth": 2,
            "linecolor": "white",
            "showbackground": true,
            "ticks": "",
            "zerolinecolor": "white"
           },
           "yaxis": {
            "backgroundcolor": "#E5ECF6",
            "gridcolor": "white",
            "gridwidth": 2,
            "linecolor": "white",
            "showbackground": true,
            "ticks": "",
            "zerolinecolor": "white"
           },
           "zaxis": {
            "backgroundcolor": "#E5ECF6",
            "gridcolor": "white",
            "gridwidth": 2,
            "linecolor": "white",
            "showbackground": true,
            "ticks": "",
            "zerolinecolor": "white"
           }
          },
          "shapedefaults": {
           "line": {
            "color": "#2a3f5f"
           }
          },
          "ternary": {
           "aaxis": {
            "gridcolor": "white",
            "linecolor": "white",
            "ticks": ""
           },
           "baxis": {
            "gridcolor": "white",
            "linecolor": "white",
            "ticks": ""
           },
           "bgcolor": "#E5ECF6",
           "caxis": {
            "gridcolor": "white",
            "linecolor": "white",
            "ticks": ""
           }
          },
          "title": {
           "x": 0.05
          },
          "xaxis": {
           "automargin": true,
           "gridcolor": "white",
           "linecolor": "white",
           "ticks": "",
           "title": {
            "standoff": 15
           },
           "zerolinecolor": "white",
           "zerolinewidth": 2
          },
          "yaxis": {
           "automargin": true,
           "gridcolor": "white",
           "linecolor": "white",
           "ticks": "",
           "title": {
            "standoff": 15
           },
           "zerolinecolor": "white",
           "zerolinewidth": 2
          }
         }
        }
       }
      },
      "text/html": [
       "<div>                            <div id=\"932b9395-ae76-42a6-b6c8-7195d7bdc1d0\" class=\"plotly-graph-div\" style=\"height:525px; width:100%;\"></div>            <script type=\"text/javascript\">                require([\"plotly\"], function(Plotly) {                    window.PLOTLYENV=window.PLOTLYENV || {};                                    if (document.getElementById(\"932b9395-ae76-42a6-b6c8-7195d7bdc1d0\")) {                    Plotly.newPlot(                        \"932b9395-ae76-42a6-b6c8-7195d7bdc1d0\",                        [{\"cells\":{\"values\":[[\"1.44\",\"1.39\",\"1.37\",\"1.42\",\"1.35\",\"1.32\",\"1.27\",\"1.28\",\"1.38\",\"1.43\",\"1.36\",\"1.34\",\"1.41\",\"1.33\",\"1.40\"],[3,735,1,5,10,1,1,1,6,3,1,3,4,1,2]]},\"header\":{\"values\":[\"Version\",\"Count\"]},\"type\":\"table\"}],                        {\"template\":{\"data\":{\"histogram2dcontour\":[{\"type\":\"histogram2dcontour\",\"colorbar\":{\"outlinewidth\":0,\"ticks\":\"\"},\"colorscale\":[[0.0,\"#0d0887\"],[0.1111111111111111,\"#46039f\"],[0.2222222222222222,\"#7201a8\"],[0.3333333333333333,\"#9c179e\"],[0.4444444444444444,\"#bd3786\"],[0.5555555555555556,\"#d8576b\"],[0.6666666666666666,\"#ed7953\"],[0.7777777777777778,\"#fb9f3a\"],[0.8888888888888888,\"#fdca26\"],[1.0,\"#f0f921\"]]}],\"choropleth\":[{\"type\":\"choropleth\",\"colorbar\":{\"outlinewidth\":0,\"ticks\":\"\"}}],\"histogram2d\":[{\"type\":\"histogram2d\",\"colorbar\":{\"outlinewidth\":0,\"ticks\":\"\"},\"colorscale\":[[0.0,\"#0d0887\"],[0.1111111111111111,\"#46039f\"],[0.2222222222222222,\"#7201a8\"],[0.3333333333333333,\"#9c179e\"],[0.4444444444444444,\"#bd3786\"],[0.5555555555555556,\"#d8576b\"],[0.6666666666666666,\"#ed7953\"],[0.7777777777777778,\"#fb9f3a\"],[0.8888888888888888,\"#fdca26\"],[1.0,\"#f0f921\"]]}],\"heatmap\":[{\"type\":\"heatmap\",\"colorbar\":{\"outlinewidth\":0,\"ticks\":\"\"},\"colorscale\":[[0.0,\"#0d0887\"],[0.1111111111111111,\"#46039f\"],[0.2222222222222222,\"#7201a8\"],[0.3333333333333333,\"#9c179e\"],[0.4444444444444444,\"#bd3786\"],[0.5555555555555556,\"#d8576b\"],[0.6666666666666666,\"#ed7953\"],[0.7777777777777778,\"#fb9f3a\"],[0.8888888888888888,\"#fdca26\"],[1.0,\"#f0f921\"]]}],\"heatmapgl\":[{\"type\":\"heatmapgl\",\"colorbar\":{\"outlinewidth\":0,\"ticks\":\"\"},\"colorscale\":[[0.0,\"#0d0887\"],[0.1111111111111111,\"#46039f\"],[0.2222222222222222,\"#7201a8\"],[0.3333333333333333,\"#9c179e\"],[0.4444444444444444,\"#bd3786\"],[0.5555555555555556,\"#d8576b\"],[0.6666666666666666,\"#ed7953\"],[0.7777777777777778,\"#fb9f3a\"],[0.8888888888888888,\"#fdca26\"],[1.0,\"#f0f921\"]]}],\"contourcarpet\":[{\"type\":\"contourcarpet\",\"colorbar\":{\"outlinewidth\":0,\"ticks\":\"\"}}],\"contour\":[{\"type\":\"contour\",\"colorbar\":{\"outlinewidth\":0,\"ticks\":\"\"},\"colorscale\":[[0.0,\"#0d0887\"],[0.1111111111111111,\"#46039f\"],[0.2222222222222222,\"#7201a8\"],[0.3333333333333333,\"#9c179e\"],[0.4444444444444444,\"#bd3786\"],[0.5555555555555556,\"#d8576b\"],[0.6666666666666666,\"#ed7953\"],[0.7777777777777778,\"#fb9f3a\"],[0.8888888888888888,\"#fdca26\"],[1.0,\"#f0f921\"]]}],\"surface\":[{\"type\":\"surface\",\"colorbar\":{\"outlinewidth\":0,\"ticks\":\"\"},\"colorscale\":[[0.0,\"#0d0887\"],[0.1111111111111111,\"#46039f\"],[0.2222222222222222,\"#7201a8\"],[0.3333333333333333,\"#9c179e\"],[0.4444444444444444,\"#bd3786\"],[0.5555555555555556,\"#d8576b\"],[0.6666666666666666,\"#ed7953\"],[0.7777777777777778,\"#fb9f3a\"],[0.8888888888888888,\"#fdca26\"],[1.0,\"#f0f921\"]]}],\"mesh3d\":[{\"type\":\"mesh3d\",\"colorbar\":{\"outlinewidth\":0,\"ticks\":\"\"}}],\"scatter\":[{\"fillpattern\":{\"fillmode\":\"overlay\",\"size\":10,\"solidity\":0.2},\"type\":\"scatter\"}],\"parcoords\":[{\"type\":\"parcoords\",\"line\":{\"colorbar\":{\"outlinewidth\":0,\"ticks\":\"\"}}}],\"scatterpolargl\":[{\"type\":\"scatterpolargl\",\"marker\":{\"colorbar\":{\"outlinewidth\":0,\"ticks\":\"\"}}}],\"bar\":[{\"error_x\":{\"color\":\"#2a3f5f\"},\"error_y\":{\"color\":\"#2a3f5f\"},\"marker\":{\"line\":{\"color\":\"#E5ECF6\",\"width\":0.5},\"pattern\":{\"fillmode\":\"overlay\",\"size\":10,\"solidity\":0.2}},\"type\":\"bar\"}],\"scattergeo\":[{\"type\":\"scattergeo\",\"marker\":{\"colorbar\":{\"outlinewidth\":0,\"ticks\":\"\"}}}],\"scatterpolar\":[{\"type\":\"scatterpolar\",\"marker\":{\"colorbar\":{\"outlinewidth\":0,\"ticks\":\"\"}}}],\"histogram\":[{\"marker\":{\"pattern\":{\"fillmode\":\"overlay\",\"size\":10,\"solidity\":0.2}},\"type\":\"histogram\"}],\"scattergl\":[{\"type\":\"scattergl\",\"marker\":{\"colorbar\":{\"outlinewidth\":0,\"ticks\":\"\"}}}],\"scatter3d\":[{\"type\":\"scatter3d\",\"line\":{\"colorbar\":{\"outlinewidth\":0,\"ticks\":\"\"}},\"marker\":{\"colorbar\":{\"outlinewidth\":0,\"ticks\":\"\"}}}],\"scattermapbox\":[{\"type\":\"scattermapbox\",\"marker\":{\"colorbar\":{\"outlinewidth\":0,\"ticks\":\"\"}}}],\"scatterternary\":[{\"type\":\"scatterternary\",\"marker\":{\"colorbar\":{\"outlinewidth\":0,\"ticks\":\"\"}}}],\"scattercarpet\":[{\"type\":\"scattercarpet\",\"marker\":{\"colorbar\":{\"outlinewidth\":0,\"ticks\":\"\"}}}],\"carpet\":[{\"aaxis\":{\"endlinecolor\":\"#2a3f5f\",\"gridcolor\":\"white\",\"linecolor\":\"white\",\"minorgridcolor\":\"white\",\"startlinecolor\":\"#2a3f5f\"},\"baxis\":{\"endlinecolor\":\"#2a3f5f\",\"gridcolor\":\"white\",\"linecolor\":\"white\",\"minorgridcolor\":\"white\",\"startlinecolor\":\"#2a3f5f\"},\"type\":\"carpet\"}],\"table\":[{\"cells\":{\"fill\":{\"color\":\"#EBF0F8\"},\"line\":{\"color\":\"white\"}},\"header\":{\"fill\":{\"color\":\"#C8D4E3\"},\"line\":{\"color\":\"white\"}},\"type\":\"table\"}],\"barpolar\":[{\"marker\":{\"line\":{\"color\":\"#E5ECF6\",\"width\":0.5},\"pattern\":{\"fillmode\":\"overlay\",\"size\":10,\"solidity\":0.2}},\"type\":\"barpolar\"}],\"pie\":[{\"automargin\":true,\"type\":\"pie\"}]},\"layout\":{\"autotypenumbers\":\"strict\",\"colorway\":[\"#636efa\",\"#EF553B\",\"#00cc96\",\"#ab63fa\",\"#FFA15A\",\"#19d3f3\",\"#FF6692\",\"#B6E880\",\"#FF97FF\",\"#FECB52\"],\"font\":{\"color\":\"#2a3f5f\"},\"hovermode\":\"closest\",\"hoverlabel\":{\"align\":\"left\"},\"paper_bgcolor\":\"white\",\"plot_bgcolor\":\"#E5ECF6\",\"polar\":{\"bgcolor\":\"#E5ECF6\",\"angularaxis\":{\"gridcolor\":\"white\",\"linecolor\":\"white\",\"ticks\":\"\"},\"radialaxis\":{\"gridcolor\":\"white\",\"linecolor\":\"white\",\"ticks\":\"\"}},\"ternary\":{\"bgcolor\":\"#E5ECF6\",\"aaxis\":{\"gridcolor\":\"white\",\"linecolor\":\"white\",\"ticks\":\"\"},\"baxis\":{\"gridcolor\":\"white\",\"linecolor\":\"white\",\"ticks\":\"\"},\"caxis\":{\"gridcolor\":\"white\",\"linecolor\":\"white\",\"ticks\":\"\"}},\"coloraxis\":{\"colorbar\":{\"outlinewidth\":0,\"ticks\":\"\"}},\"colorscale\":{\"sequential\":[[0.0,\"#0d0887\"],[0.1111111111111111,\"#46039f\"],[0.2222222222222222,\"#7201a8\"],[0.3333333333333333,\"#9c179e\"],[0.4444444444444444,\"#bd3786\"],[0.5555555555555556,\"#d8576b\"],[0.6666666666666666,\"#ed7953\"],[0.7777777777777778,\"#fb9f3a\"],[0.8888888888888888,\"#fdca26\"],[1.0,\"#f0f921\"]],\"sequentialminus\":[[0.0,\"#0d0887\"],[0.1111111111111111,\"#46039f\"],[0.2222222222222222,\"#7201a8\"],[0.3333333333333333,\"#9c179e\"],[0.4444444444444444,\"#bd3786\"],[0.5555555555555556,\"#d8576b\"],[0.6666666666666666,\"#ed7953\"],[0.7777777777777778,\"#fb9f3a\"],[0.8888888888888888,\"#fdca26\"],[1.0,\"#f0f921\"]],\"diverging\":[[0,\"#8e0152\"],[0.1,\"#c51b7d\"],[0.2,\"#de77ae\"],[0.3,\"#f1b6da\"],[0.4,\"#fde0ef\"],[0.5,\"#f7f7f7\"],[0.6,\"#e6f5d0\"],[0.7,\"#b8e186\"],[0.8,\"#7fbc41\"],[0.9,\"#4d9221\"],[1,\"#276419\"]]},\"xaxis\":{\"gridcolor\":\"white\",\"linecolor\":\"white\",\"ticks\":\"\",\"title\":{\"standoff\":15},\"zerolinecolor\":\"white\",\"automargin\":true,\"zerolinewidth\":2},\"yaxis\":{\"gridcolor\":\"white\",\"linecolor\":\"white\",\"ticks\":\"\",\"title\":{\"standoff\":15},\"zerolinecolor\":\"white\",\"automargin\":true,\"zerolinewidth\":2},\"scene\":{\"xaxis\":{\"backgroundcolor\":\"#E5ECF6\",\"gridcolor\":\"white\",\"linecolor\":\"white\",\"showbackground\":true,\"ticks\":\"\",\"zerolinecolor\":\"white\",\"gridwidth\":2},\"yaxis\":{\"backgroundcolor\":\"#E5ECF6\",\"gridcolor\":\"white\",\"linecolor\":\"white\",\"showbackground\":true,\"ticks\":\"\",\"zerolinecolor\":\"white\",\"gridwidth\":2},\"zaxis\":{\"backgroundcolor\":\"#E5ECF6\",\"gridcolor\":\"white\",\"linecolor\":\"white\",\"showbackground\":true,\"ticks\":\"\",\"zerolinecolor\":\"white\",\"gridwidth\":2}},\"shapedefaults\":{\"line\":{\"color\":\"#2a3f5f\"}},\"annotationdefaults\":{\"arrowcolor\":\"#2a3f5f\",\"arrowhead\":0,\"arrowwidth\":1},\"geo\":{\"bgcolor\":\"white\",\"landcolor\":\"#E5ECF6\",\"subunitcolor\":\"white\",\"showland\":true,\"showlakes\":true,\"lakecolor\":\"white\"},\"title\":{\"x\":0.05},\"mapbox\":{\"style\":\"light\"}}}},                        {\"responsive\": true}                    ).then(function(){\n",
       "                            \n",
       "var gd = document.getElementById('932b9395-ae76-42a6-b6c8-7195d7bdc1d0');\n",
       "var x = new MutationObserver(function (mutations, observer) {{\n",
       "        var display = window.getComputedStyle(gd).display;\n",
       "        if (!display || display === 'none') {{\n",
       "            console.log([gd, 'removed!']);\n",
       "            Plotly.purge(gd);\n",
       "            observer.disconnect();\n",
       "        }}\n",
       "}});\n",
       "\n",
       "// Listen for the removal of the full notebook cells\n",
       "var notebookContainer = gd.closest('#notebook-container');\n",
       "if (notebookContainer) {{\n",
       "    x.observe(notebookContainer, {childList: true});\n",
       "}}\n",
       "\n",
       "// Listen for the clearing of the current output cell\n",
       "var outputEl = gd.closest('.output');\n",
       "if (outputEl) {{\n",
       "    x.observe(outputEl, {childList: true});\n",
       "}}\n",
       "\n",
       "                        })                };                });            </script>        </div>"
      ]
     },
     "metadata": {},
     "output_type": "display_data"
    }
   ],
   "source": [
    "# Display a table underneath that just shows the grouped versions (including 1.39.7 thought) and the counts\n",
    "df = pd.DataFrame(list(grouped_version_counts.items()), columns=['Version', 'Count'])\n",
    "fig = go.Figure(data=[go.Table(header=dict(values=['Version', 'Count']),\n",
    "                               cells=dict(values=[df['Version'], df['Count']]))\n",
    "                     ])\n",
    "fig.show()"
   ]
  }
 ],
 "metadata": {
  "kernelspec": {
   "display_name": "Python 3",
   "language": "python",
   "name": "python3"
  },
  "language_info": {
   "codemirror_mode": {
    "name": "ipython",
    "version": 3
   },
   "file_extension": ".py",
   "mimetype": "text/x-python",
   "name": "python",
   "nbconvert_exporter": "python",
   "pygments_lexer": "ipython3",
   "version": "3.10.12"
  }
 },
 "nbformat": 4,
 "nbformat_minor": 2
}
